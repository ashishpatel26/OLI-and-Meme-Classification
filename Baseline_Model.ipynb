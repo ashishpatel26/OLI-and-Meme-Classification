{
 "cells": [
  {
   "cell_type": "code",
   "execution_count": 1,
   "metadata": {},
   "outputs": [],
   "source": [
    "import os\n",
    "curr_dir = os.getcwd()\n",
    "dataset_dir = os.path.join(curr_dir,'Dataset')\n",
    "print(os.listdir(dataset_dir))"
   ]
  },
  {
   "cell_type": "code",
   "execution_count": 2,
   "metadata": {},
   "outputs": [],
   "source": [
    "import numpy as np\n",
    "import pandas as pd\n",
    "import matplotlib.pyplot as plt\n",
    "import seaborn as sns\n",
    "sns.set_style('darkgrid')\n",
    "sns.set(rc={'figure.figsize':(11.7,8.27)})"
   ]
  },
  {
   "cell_type": "code",
   "execution_count": 3,
   "metadata": {},
   "outputs": [],
   "source": [
    "df_train = pd.read_csv(os.path.join(dataset_dir,'kannada_offensive_train_corrected.csv'))\n",
    "df_dev = pd.read_csv(os.path.join(dataset_dir,'kannada_offensive_dev_corrected.csv'))"
   ]
  },
  {
   "cell_type": "code",
   "execution_count": 4,
   "metadata": {},
   "outputs": [
    {
     "data": {
      "text/html": [
       "<div>\n",
       "<style scoped>\n",
       "    .dataframe tbody tr th:only-of-type {\n",
       "        vertical-align: middle;\n",
       "    }\n",
       "\n",
       "    .dataframe tbody tr th {\n",
       "        vertical-align: top;\n",
       "    }\n",
       "\n",
       "    .dataframe thead th {\n",
       "        text-align: right;\n",
       "    }\n",
       "</style>\n",
       "<table border=\"1\" class=\"dataframe\">\n",
       "  <thead>\n",
       "    <tr style=\"text-align: right;\">\n",
       "      <th></th>\n",
       "      <th>text</th>\n",
       "      <th>label</th>\n",
       "    </tr>\n",
       "  </thead>\n",
       "  <tbody>\n",
       "    <tr>\n",
       "      <th>5786</th>\n",
       "      <td>Bro valledu yarigu bega kaansodilla</td>\n",
       "      <td>Not_offensive</td>\n",
       "    </tr>\n",
       "    <tr>\n",
       "      <th>5166</th>\n",
       "      <td>En guru song akkan idu song Andre akkan navgot...</td>\n",
       "      <td>Not_offensive</td>\n",
       "    </tr>\n",
       "    <tr>\n",
       "      <th>4655</th>\n",
       "      <td>I love it</td>\n",
       "      <td>Not_offensive</td>\n",
       "    </tr>\n",
       "    <tr>\n",
       "      <th>602</th>\n",
       "      <td>Hands Up.... Addictive... Matte matte hadanna ...</td>\n",
       "      <td>Not_offensive</td>\n",
       "    </tr>\n",
       "    <tr>\n",
       "      <th>6140</th>\n",
       "      <td>ಶಂಭು ಬಳಿಗಾರವರೆ ತುಂಬಾ ಧನ್ಯವಾದಗಳು ಹಾಸ್ಯ ಜಾನಪದ ಕಥೆ</td>\n",
       "      <td>Not_offensive</td>\n",
       "    </tr>\n",
       "    <tr>\n",
       "      <th>5453</th>\n",
       "      <td>ತೊಗರಿ ತಿಪ್ಪ ಸೂಪರ್ ಸ್ಟಾರ್</td>\n",
       "      <td>Not_offensive</td>\n",
       "    </tr>\n",
       "    <tr>\n",
       "      <th>5732</th>\n",
       "      <td>@Praveen P ik</td>\n",
       "      <td>not-Kannada</td>\n",
       "    </tr>\n",
       "    <tr>\n",
       "      <th>5964</th>\n",
       "      <td>ನನ್ನ ಈ ಕಾಮೆಂಟ್ ಕನ್ನಡ  ಚಲನಚಿತ್ರ ನಟ ನಟಿಯರು</td>\n",
       "      <td>Offensive_Targeted_Insult_Other</td>\n",
       "    </tr>\n",
       "    <tr>\n",
       "      <th>2159</th>\n",
       "      <td>Super agi ugididera</td>\n",
       "      <td>Not_offensive</td>\n",
       "    </tr>\n",
       "    <tr>\n",
       "      <th>4255</th>\n",
       "      <td>Next part madi</td>\n",
       "      <td>Not_offensive</td>\n",
       "    </tr>\n",
       "  </tbody>\n",
       "</table>\n",
       "</div>"
      ],
      "text/plain": [
       "                                                   text  \\\n",
       "5786                Bro valledu yarigu bega kaansodilla   \n",
       "5166  En guru song akkan idu song Andre akkan navgot...   \n",
       "4655                                          I love it   \n",
       "602   Hands Up.... Addictive... Matte matte hadanna ...   \n",
       "6140    ಶಂಭು ಬಳಿಗಾರವರೆ ತುಂಬಾ ಧನ್ಯವಾದಗಳು ಹಾಸ್ಯ ಜಾನಪದ ಕಥೆ   \n",
       "5453                           ತೊಗರಿ ತಿಪ್ಪ ಸೂಪರ್ ಸ್ಟಾರ್   \n",
       "5732                                      @Praveen P ik   \n",
       "5964           ನನ್ನ ಈ ಕಾಮೆಂಟ್ ಕನ್ನಡ  ಚಲನಚಿತ್ರ ನಟ ನಟಿಯರು   \n",
       "2159                                Super agi ugididera   \n",
       "4255                                     Next part madi   \n",
       "\n",
       "                                label  \n",
       "5786                    Not_offensive  \n",
       "5166                    Not_offensive  \n",
       "4655                    Not_offensive  \n",
       "602                     Not_offensive  \n",
       "6140                    Not_offensive  \n",
       "5453                    Not_offensive  \n",
       "5732                      not-Kannada  \n",
       "5964  Offensive_Targeted_Insult_Other  \n",
       "2159                    Not_offensive  \n",
       "4255                    Not_offensive  "
      ]
     },
     "execution_count": 4,
     "metadata": {},
     "output_type": "execute_result"
    }
   ],
   "source": [
    "df_train.sample(10)"
   ]
  },
  {
   "cell_type": "code",
   "execution_count": 5,
   "metadata": {},
   "outputs": [
    {
     "data": {
      "text/plain": [
       "(6217, 2)"
      ]
     },
     "execution_count": 5,
     "metadata": {},
     "output_type": "execute_result"
    }
   ],
   "source": [
    "df_train.shape"
   ]
  },
  {
   "cell_type": "code",
   "execution_count": 6,
   "metadata": {},
   "outputs": [
    {
     "data": {
      "text/plain": [
       "Text(0, 0.5, 'Counts')"
      ]
     },
     "execution_count": 6,
     "metadata": {},
     "output_type": "execute_result"
    },
    {
     "data": {
      "image/png": "[encoded data removed]",
      "text/plain": [
       "<Figure size 842.4x595.44 with 1 Axes>"
      ]
     },
     "metadata": {},
     "output_type": "display_data"
    }
   ],
   "source": [
    "sns.countplot(x = df_train['label'])\n",
    "plt.xlabel('Labels')\n",
    "plt.ylabel('Counts')"
   ]
  },
  {
   "cell_type": "code",
   "execution_count": 7,
   "metadata": {},
   "outputs": [
    {
     "data": {
      "text/plain": [
       "Not_offensive                           3544\n",
       "not-Kannada                             1522\n",
       "Offensive_Targeted_Insult_Individual     487\n",
       "Offensive_Targeted_Insult_Group          329\n",
       "Offensive_Untargetede                    212\n",
       "Offensive_Targeted_Insult_Other          123\n",
       "Name: label, dtype: int64"
      ]
     },
     "execution_count": 7,
     "metadata": {},
     "output_type": "execute_result"
    }
   ],
   "source": [
    "df_train['label'].value_counts()"
   ]
  },
  {
   "cell_type": "code",
   "execution_count": 8,
   "metadata": {},
   "outputs": [
    {
     "data": {
      "text/html": [
       "<div>\n",
       "<style scoped>\n",
       "    .dataframe tbody tr th:only-of-type {\n",
       "        vertical-align: middle;\n",
       "    }\n",
       "\n",
       "    .dataframe tbody tr th {\n",
       "        vertical-align: top;\n",
       "    }\n",
       "\n",
       "    .dataframe thead th {\n",
       "        text-align: right;\n",
       "    }\n",
       "</style>\n",
       "<table border=\"1\" class=\"dataframe\">\n",
       "  <thead>\n",
       "    <tr style=\"text-align: right;\">\n",
       "      <th></th>\n",
       "      <th>text</th>\n",
       "      <th>label</th>\n",
       "    </tr>\n",
       "  </thead>\n",
       "  <tbody>\n",
       "    <tr>\n",
       "      <th>0</th>\n",
       "      <td>Tik tok alli jagala madtidralla adra baggenu o...</td>\n",
       "      <td>Not_offensive</td>\n",
       "    </tr>\n",
       "    <tr>\n",
       "      <th>1</th>\n",
       "      <td>Anyone from kerala here</td>\n",
       "      <td>not-Kannada</td>\n",
       "    </tr>\n",
       "    <tr>\n",
       "      <th>2</th>\n",
       "      <td>Movie rerelease madi plss</td>\n",
       "      <td>Not_offensive</td>\n",
       "    </tr>\n",
       "    <tr>\n",
       "      <th>3</th>\n",
       "      <td>Amazon prime alli bittidira....yella manele no...</td>\n",
       "      <td>Not_offensive</td>\n",
       "    </tr>\n",
       "    <tr>\n",
       "      <th>4</th>\n",
       "      <td>Guru sure news nanu tik tok dawn lod madeda ya...</td>\n",
       "      <td>Not_offensive</td>\n",
       "    </tr>\n",
       "    <tr>\n",
       "      <th>...</th>\n",
       "      <td>...</td>\n",
       "      <td>...</td>\n",
       "    </tr>\n",
       "    <tr>\n",
       "      <th>6212</th>\n",
       "      <td>Dubb Full movie in telugu</td>\n",
       "      <td>Not_offensive</td>\n",
       "    </tr>\n",
       "    <tr>\n",
       "      <th>6213</th>\n",
       "      <td>Mostly nimma mate keli tic tok ban agirbeku ಅಣ...</td>\n",
       "      <td>Not_offensive</td>\n",
       "    </tr>\n",
       "    <tr>\n",
       "      <th>6214</th>\n",
       "      <td>Sir Nimm Mathininda Navu Kalibeku Agirodu Ennu...</td>\n",
       "      <td>Not_offensive</td>\n",
       "    </tr>\n",
       "    <tr>\n",
       "      <th>6215</th>\n",
       "      <td>ನನಗು same ಹಂಗೇ ಅನ್ನಿಸ್ತು</td>\n",
       "      <td>Not_offensive</td>\n",
       "    </tr>\n",
       "    <tr>\n",
       "      <th>6216</th>\n",
       "      <td>Flare gun at 1:30</td>\n",
       "      <td>not-Kannada</td>\n",
       "    </tr>\n",
       "  </tbody>\n",
       "</table>\n",
       "<p>6217 rows × 2 columns</p>\n",
       "</div>"
      ],
      "text/plain": [
       "                                                   text          label\n",
       "0     Tik tok alli jagala madtidralla adra baggenu o...  Not_offensive\n",
       "1                               Anyone from kerala here    not-Kannada\n",
       "2                             Movie rerelease madi plss  Not_offensive\n",
       "3     Amazon prime alli bittidira....yella manele no...  Not_offensive\n",
       "4     Guru sure news nanu tik tok dawn lod madeda ya...  Not_offensive\n",
       "...                                                 ...            ...\n",
       "6212                          Dubb Full movie in telugu  Not_offensive\n",
       "6213  Mostly nimma mate keli tic tok ban agirbeku ಅಣ...  Not_offensive\n",
       "6214  Sir Nimm Mathininda Navu Kalibeku Agirodu Ennu...  Not_offensive\n",
       "6215                           ನನಗು same ಹಂಗೇ ಅನ್ನಿಸ್ತು  Not_offensive\n",
       "6216                                  Flare gun at 1:30    not-Kannada\n",
       "\n",
       "[6217 rows x 2 columns]"
      ]
     },
     "execution_count": 8,
     "metadata": {},
     "output_type": "execute_result"
    }
   ],
   "source": [
    "df_train"
   ]
  },
  {
   "cell_type": "code",
   "execution_count": 9,
   "metadata": {},
   "outputs": [
    {
     "data": {
      "text/plain": [
       "0        86\n",
       "1        23\n",
       "2        25\n",
       "3        55\n",
       "4       118\n",
       "       ... \n",
       "6212     25\n",
       "6213     95\n",
       "6214    126\n",
       "6215     24\n",
       "6216     17\n",
       "Name: text, Length: 6217, dtype: int64"
      ]
     },
     "execution_count": 9,
     "metadata": {},
     "output_type": "execute_result"
    }
   ],
   "source": [
    "text_lengths = df_train['text'].map(len)\n",
    "text_lengths"
   ]
  },
  {
   "cell_type": "code",
   "execution_count": 10,
   "metadata": {},
   "outputs": [
    {
     "name": "stderr",
     "output_type": "stream",
     "text": [
      "C:\\Users\\Nikhil\\anaconda3\\envs\\tf-gpu\\lib\\site-packages\\seaborn\\distributions.py:2551: FutureWarning: `distplot` is a deprecated function and will be removed in a future version. Please adapt your code to use either `displot` (a figure-level function with similar flexibility) or `histplot` (an axes-level function for histograms).\n",
      "  warnings.warn(msg, FutureWarning)\n"
     ]
    },
    {
     "data": {
      "text/plain": [
       "<AxesSubplot:xlabel='text', ylabel='Density'>"
      ]
     },
     "execution_count": 10,
     "metadata": {},
     "output_type": "execute_result"
    },
    {
     "data": {
      "image/png": "[encoded data removed]",
      "text/plain": [
       "<Figure size 842.4x595.44 with 1 Axes>"
      ]
     },
     "metadata": {},
     "output_type": "display_data"
    }
   ],
   "source": [
    "sns.distplot(text_lengths)"
   ]
  },
  {
   "cell_type": "code",
   "execution_count": 11,
   "metadata": {},
   "outputs": [],
   "source": [
    "from sklearn.feature_extraction.text import TfidfVectorizer\n",
    "from sklearn.naive_bayes import MultinomialNB\n",
    "from sklearn.pipeline import make_pipeline\n",
    "from sklearn.metrics import confusion_matrix, accuracy_score,classification_report"
   ]
  },
  {
   "cell_type": "code",
   "execution_count": 12,
   "metadata": {},
   "outputs": [
    {
     "name": "stdout",
     "output_type": "stream",
     "text": [
      "We have 6 unique classes\n",
      "We have 6217 training samples\n",
      "We have 777 test samples\n"
     ]
    }
   ],
   "source": [
    "print(\"We have {} unique classes\".format(len(df_train['label'].unique())))\n",
    "print(\"We have {} training samples\".format(len(df_train.text)))\n",
    "print(\"We have {} test samples\".format(len(df_dev.text)))"
   ]
  },
  {
   "cell_type": "code",
   "execution_count": 13,
   "metadata": {},
   "outputs": [],
   "source": [
    "# Build the model\n",
    "model = make_pipeline(TfidfVectorizer(), MultinomialNB())\n",
    "# Train the model using the training data\n",
    "model.fit(df_train.text, df_train.label)\n",
    "# Predict the categories of the dev data\n",
    "predicted_categories = model.predict(df_dev.text)"
   ]
  },
  {
   "cell_type": "code",
   "execution_count": 14,
   "metadata": {},
   "outputs": [
    {
     "data": {
      "text/plain": [
       "array(['Not_offensive', 'Not_offensive', 'Not_offensive', 'Not_offensive',\n",
       "       'Not_offensive', 'Not_offensive', 'Not_offensive', 'Not_offensive',\n",
       "       'Not_offensive', 'Not_offensive', 'Not_offensive', 'Not_offensive',\n",
       "       'Not_offensive', 'Not_offensive', 'Not_offensive', 'Not_offensive',\n",
       "       'Not_offensive', 'Not_offensive', 'Not_offensive', 'not-Kannada',\n",
       "       'Not_offensive', 'not-Kannada', 'Not_offensive', 'Not_offensive',\n",
       "       'Not_offensive', 'not-Kannada', 'Not_offensive', 'Not_offensive',\n",
       "       'Not_offensive', 'not-Kannada', 'Not_offensive', 'Not_offensive',\n",
       "       'Not_offensive', 'Offensive_Targeted_Insult_Individual',\n",
       "       'not-Kannada', 'Not_offensive', 'Not_offensive',\n",
       "       'Offensive_Targeted_Insult_Individual', 'Not_offensive',\n",
       "       'Not_offensive', 'Not_offensive',\n",
       "       'Offensive_Targeted_Insult_Individual', 'Not_offensive',\n",
       "       'not-Kannada', 'Not_offensive', 'not-Kannada', 'Not_offensive',\n",
       "       'Not_offensive', 'Not_offensive', 'Not_offensive', 'Not_offensive',\n",
       "       'Not_offensive', 'Not_offensive', 'Not_offensive', 'Not_offensive',\n",
       "       'Not_offensive', 'Not_offensive', 'Not_offensive',\n",
       "       'Offensive_Targeted_Insult_Individual', 'Not_offensive',\n",
       "       'Not_offensive', 'not-Kannada', 'Not_offensive', 'Not_offensive',\n",
       "       'Not_offensive', 'not-Kannada', 'Not_offensive', 'Not_offensive',\n",
       "       'Not_offensive', 'Not_offensive', 'Not_offensive', 'Not_offensive',\n",
       "       'Not_offensive', 'not-Kannada', 'Not_offensive', 'Not_offensive',\n",
       "       'Not_offensive', 'Not_offensive', 'Not_offensive', 'Not_offensive',\n",
       "       'Not_offensive', 'Not_offensive', 'not-Kannada', 'Not_offensive',\n",
       "       'Not_offensive', 'Not_offensive', 'Not_offensive', 'Not_offensive',\n",
       "       'Not_offensive', 'Not_offensive', 'Not_offensive', 'Not_offensive',\n",
       "       'Not_offensive', 'Not_offensive', 'Not_offensive', 'Not_offensive',\n",
       "       'Not_offensive', 'Not_offensive', 'Not_offensive', 'Not_offensive',\n",
       "       'Not_offensive', 'Not_offensive', 'Not_offensive', 'Not_offensive',\n",
       "       'Not_offensive', 'Not_offensive', 'Not_offensive', 'Not_offensive',\n",
       "       'Not_offensive', 'not-Kannada', 'Not_offensive', 'Not_offensive',\n",
       "       'Not_offensive', 'Not_offensive', 'Not_offensive', 'Not_offensive',\n",
       "       'Not_offensive', 'not-Kannada', 'Not_offensive', 'Not_offensive',\n",
       "       'Not_offensive', 'Not_offensive', 'Not_offensive', 'Not_offensive',\n",
       "       'Not_offensive', 'Not_offensive', 'Not_offensive', 'Not_offensive',\n",
       "       'Not_offensive', 'Not_offensive', 'Not_offensive', 'Not_offensive',\n",
       "       'Not_offensive', 'Not_offensive', 'Not_offensive', 'Not_offensive',\n",
       "       'Not_offensive', 'Not_offensive', 'Not_offensive', 'Not_offensive',\n",
       "       'Not_offensive', 'Not_offensive', 'Not_offensive', 'Not_offensive',\n",
       "       'Not_offensive', 'Not_offensive', 'Not_offensive', 'Not_offensive',\n",
       "       'not-Kannada', 'Not_offensive', 'Not_offensive', 'Not_offensive',\n",
       "       'Not_offensive', 'Not_offensive', 'Not_offensive', 'Not_offensive',\n",
       "       'Not_offensive', 'Not_offensive', 'Not_offensive', 'not-Kannada',\n",
       "       'Not_offensive', 'not-Kannada', 'Not_offensive', 'not-Kannada',\n",
       "       'Not_offensive', 'Not_offensive', 'Not_offensive', 'Not_offensive',\n",
       "       'Not_offensive', 'not-Kannada', 'Not_offensive', 'Not_offensive',\n",
       "       'Not_offensive', 'not-Kannada', 'Not_offensive', 'not-Kannada',\n",
       "       'Not_offensive', 'Not_offensive', 'Not_offensive',\n",
       "       'Offensive_Targeted_Insult_Individual', 'Not_offensive',\n",
       "       'Not_offensive', 'Not_offensive', 'Not_offensive', 'Not_offensive',\n",
       "       'Not_offensive', 'Offensive_Targeted_Insult_Individual',\n",
       "       'Not_offensive', 'Not_offensive', 'Not_offensive', 'Not_offensive',\n",
       "       'Not_offensive', 'not-Kannada', 'Not_offensive', 'Not_offensive',\n",
       "       'Not_offensive', 'Not_offensive', 'Not_offensive', 'Not_offensive',\n",
       "       'not-Kannada', 'Not_offensive', 'Not_offensive', 'Not_offensive',\n",
       "       'not-Kannada', 'Not_offensive', 'not-Kannada', 'Not_offensive',\n",
       "       'Not_offensive', 'Not_offensive', 'Not_offensive', 'Not_offensive',\n",
       "       'Not_offensive', 'Not_offensive', 'Not_offensive', 'Not_offensive',\n",
       "       'Not_offensive', 'Not_offensive', 'Not_offensive', 'Not_offensive',\n",
       "       'not-Kannada', 'Not_offensive', 'Not_offensive', 'not-Kannada',\n",
       "       'Not_offensive', 'Not_offensive', 'not-Kannada', 'Not_offensive',\n",
       "       'Not_offensive', 'Not_offensive', 'Not_offensive', 'Not_offensive',\n",
       "       'not-Kannada', 'Not_offensive', 'Not_offensive', 'not-Kannada',\n",
       "       'Not_offensive', 'Not_offensive', 'Not_offensive', 'Not_offensive',\n",
       "       'Not_offensive', 'Not_offensive', 'Not_offensive', 'Not_offensive',\n",
       "       'not-Kannada', 'Not_offensive', 'Not_offensive', 'Not_offensive',\n",
       "       'Not_offensive', 'not-Kannada', 'Not_offensive', 'Not_offensive',\n",
       "       'Not_offensive', 'Not_offensive', 'Not_offensive', 'Not_offensive',\n",
       "       'Not_offensive', 'Not_offensive', 'Not_offensive', 'Not_offensive',\n",
       "       'Not_offensive', 'Not_offensive', 'Not_offensive', 'not-Kannada',\n",
       "       'Not_offensive', 'Not_offensive', 'Not_offensive', 'Not_offensive',\n",
       "       'Not_offensive', 'Not_offensive', 'Not_offensive', 'Not_offensive',\n",
       "       'Not_offensive', 'Not_offensive', 'Not_offensive', 'Not_offensive',\n",
       "       'Not_offensive', 'not-Kannada', 'not-Kannada', 'Not_offensive',\n",
       "       'Not_offensive', 'not-Kannada', 'Not_offensive', 'Not_offensive',\n",
       "       'Not_offensive', 'Not_offensive', 'Not_offensive', 'Not_offensive',\n",
       "       'Not_offensive', 'Not_offensive', 'Not_offensive', 'Not_offensive',\n",
       "       'Not_offensive', 'not-Kannada', 'Not_offensive', 'Not_offensive',\n",
       "       'Not_offensive', 'not-Kannada', 'Not_offensive', 'Not_offensive',\n",
       "       'not-Kannada', 'Not_offensive', 'Not_offensive', 'not-Kannada',\n",
       "       'Not_offensive', 'Not_offensive', 'not-Kannada', 'Not_offensive',\n",
       "       'not-Kannada', 'Not_offensive', 'Not_offensive', 'not-Kannada',\n",
       "       'Not_offensive', 'not-Kannada', 'Not_offensive', 'Not_offensive',\n",
       "       'Not_offensive', 'Offensive_Targeted_Insult_Individual',\n",
       "       'Not_offensive', 'Not_offensive', 'Not_offensive', 'Not_offensive',\n",
       "       'Not_offensive', 'Not_offensive', 'not-Kannada', 'Not_offensive',\n",
       "       'Offensive_Targeted_Insult_Individual', 'Not_offensive',\n",
       "       'Not_offensive', 'Not_offensive', 'Not_offensive', 'Not_offensive',\n",
       "       'Not_offensive', 'Not_offensive', 'Not_offensive', 'Not_offensive',\n",
       "       'Not_offensive', 'Not_offensive', 'not-Kannada', 'Not_offensive',\n",
       "       'Not_offensive', 'not-Kannada', 'Not_offensive', 'Not_offensive',\n",
       "       'Not_offensive', 'Not_offensive', 'Not_offensive', 'Not_offensive',\n",
       "       'not-Kannada', 'Not_offensive', 'Not_offensive', 'Not_offensive',\n",
       "       'Not_offensive', 'Not_offensive', 'Not_offensive', 'not-Kannada',\n",
       "       'Not_offensive', 'not-Kannada', 'Not_offensive', 'Not_offensive',\n",
       "       'Not_offensive', 'Not_offensive', 'Not_offensive', 'Not_offensive',\n",
       "       'Not_offensive', 'Not_offensive', 'Not_offensive', 'Not_offensive',\n",
       "       'Not_offensive', 'Not_offensive', 'Not_offensive', 'Not_offensive',\n",
       "       'Not_offensive', 'Not_offensive', 'Not_offensive', 'Not_offensive',\n",
       "       'Not_offensive', 'Not_offensive', 'Not_offensive', 'Not_offensive',\n",
       "       'Not_offensive', 'Not_offensive', 'Not_offensive', 'Not_offensive',\n",
       "       'Not_offensive', 'Not_offensive', 'Not_offensive', 'Not_offensive',\n",
       "       'Not_offensive', 'Not_offensive', 'Not_offensive', 'Not_offensive',\n",
       "       'Not_offensive', 'Not_offensive', 'Not_offensive', 'Not_offensive',\n",
       "       'Not_offensive', 'Not_offensive', 'Not_offensive', 'Not_offensive',\n",
       "       'Not_offensive', 'Not_offensive', 'Not_offensive', 'Not_offensive',\n",
       "       'Not_offensive', 'not-Kannada', 'Not_offensive', 'Not_offensive',\n",
       "       'Not_offensive', 'Not_offensive', 'Not_offensive', 'Not_offensive',\n",
       "       'Not_offensive', 'Not_offensive', 'not-Kannada', 'Not_offensive',\n",
       "       'Not_offensive', 'not-Kannada', 'Not_offensive', 'Not_offensive',\n",
       "       'Not_offensive', 'Not_offensive', 'Not_offensive', 'Not_offensive',\n",
       "       'Not_offensive', 'Not_offensive', 'Not_offensive', 'Not_offensive',\n",
       "       'Not_offensive', 'not-Kannada', 'not-Kannada', 'Not_offensive',\n",
       "       'Not_offensive', 'Not_offensive', 'Not_offensive', 'Not_offensive',\n",
       "       'Not_offensive', 'Not_offensive', 'Not_offensive', 'Not_offensive',\n",
       "       'Not_offensive', 'Not_offensive', 'Not_offensive', 'Not_offensive',\n",
       "       'Not_offensive', 'Not_offensive', 'Not_offensive', 'not-Kannada',\n",
       "       'Not_offensive', 'Not_offensive', 'not-Kannada', 'Not_offensive',\n",
       "       'Not_offensive', 'Offensive_Targeted_Insult_Individual',\n",
       "       'Not_offensive', 'Not_offensive', 'Not_offensive', 'Not_offensive',\n",
       "       'Not_offensive', 'Not_offensive', 'Not_offensive', 'Not_offensive',\n",
       "       'Not_offensive', 'Not_offensive', 'Not_offensive', 'Not_offensive',\n",
       "       'not-Kannada', 'Not_offensive', 'Not_offensive', 'Not_offensive',\n",
       "       'Not_offensive', 'Not_offensive', 'Not_offensive', 'Not_offensive',\n",
       "       'Not_offensive', 'Not_offensive', 'Not_offensive', 'Not_offensive',\n",
       "       'Not_offensive', 'Not_offensive', 'Not_offensive', 'Not_offensive',\n",
       "       'Not_offensive', 'Not_offensive', 'Not_offensive',\n",
       "       'Offensive_Targeted_Insult_Individual', 'not-Kannada',\n",
       "       'Not_offensive', 'not-Kannada', 'not-Kannada', 'not-Kannada',\n",
       "       'Not_offensive', 'Not_offensive', 'Not_offensive', 'Not_offensive',\n",
       "       'Not_offensive', 'Not_offensive', 'not-Kannada', 'Not_offensive',\n",
       "       'not-Kannada', 'Not_offensive', 'Not_offensive', 'Not_offensive',\n",
       "       'Not_offensive', 'Not_offensive', 'Not_offensive', 'Not_offensive',\n",
       "       'Not_offensive', 'Not_offensive', 'Not_offensive', 'Not_offensive',\n",
       "       'Not_offensive', 'not-Kannada', 'Not_offensive', 'Not_offensive',\n",
       "       'Not_offensive', 'Not_offensive', 'Not_offensive', 'not-Kannada',\n",
       "       'Not_offensive', 'not-Kannada', 'Not_offensive', 'not-Kannada',\n",
       "       'Not_offensive', 'Not_offensive', 'not-Kannada', 'Not_offensive',\n",
       "       'Not_offensive', 'Not_offensive', 'not-Kannada', 'Not_offensive',\n",
       "       'Not_offensive', 'Not_offensive', 'Not_offensive', 'Not_offensive',\n",
       "       'not-Kannada', 'Not_offensive', 'Not_offensive', 'Not_offensive',\n",
       "       'Not_offensive', 'not-Kannada',\n",
       "       'Offensive_Targeted_Insult_Individual', 'Not_offensive',\n",
       "       'Not_offensive', 'Not_offensive', 'Not_offensive', 'Not_offensive',\n",
       "       'Not_offensive', 'Not_offensive', 'Not_offensive', 'Not_offensive',\n",
       "       'Not_offensive', 'Not_offensive', 'Not_offensive', 'Not_offensive',\n",
       "       'Not_offensive', 'Not_offensive', 'Not_offensive', 'Not_offensive',\n",
       "       'Not_offensive', 'Not_offensive', 'Not_offensive', 'Not_offensive',\n",
       "       'Not_offensive', 'Not_offensive', 'Not_offensive',\n",
       "       'Offensive_Targeted_Insult_Individual', 'Not_offensive',\n",
       "       'Not_offensive', 'Not_offensive', 'Not_offensive', 'not-Kannada',\n",
       "       'Not_offensive', 'Not_offensive', 'Not_offensive', 'Not_offensive',\n",
       "       'Not_offensive', 'Not_offensive', 'Not_offensive', 'Not_offensive',\n",
       "       'Not_offensive', 'not-Kannada', 'Not_offensive', 'Not_offensive',\n",
       "       'Not_offensive', 'Not_offensive', 'Not_offensive', 'Not_offensive',\n",
       "       'Not_offensive', 'Not_offensive', 'Not_offensive', 'Not_offensive',\n",
       "       'Not_offensive', 'Not_offensive', 'Not_offensive', 'Not_offensive',\n",
       "       'Not_offensive', 'Not_offensive', 'Not_offensive', 'not-Kannada',\n",
       "       'Not_offensive', 'Not_offensive', 'Not_offensive', 'Not_offensive',\n",
       "       'Not_offensive', 'Not_offensive', 'not-Kannada', 'Not_offensive',\n",
       "       'Not_offensive', 'Not_offensive', 'Not_offensive', 'not-Kannada',\n",
       "       'Not_offensive', 'Not_offensive', 'not-Kannada', 'Not_offensive',\n",
       "       'Not_offensive', 'Not_offensive', 'Not_offensive', 'Not_offensive',\n",
       "       'Not_offensive', 'Not_offensive', 'not-Kannada', 'Not_offensive',\n",
       "       'Not_offensive', 'Not_offensive', 'Not_offensive', 'Not_offensive',\n",
       "       'Not_offensive', 'Not_offensive', 'Not_offensive', 'Not_offensive',\n",
       "       'Not_offensive', 'Not_offensive', 'Not_offensive', 'Not_offensive',\n",
       "       'Not_offensive', 'Not_offensive', 'Not_offensive', 'Not_offensive',\n",
       "       'Not_offensive', 'Not_offensive', 'Not_offensive', 'Not_offensive',\n",
       "       'Not_offensive', 'not-Kannada', 'Not_offensive', 'Not_offensive',\n",
       "       'not-Kannada', 'Not_offensive', 'Not_offensive', 'Not_offensive',\n",
       "       'Not_offensive', 'Not_offensive', 'Not_offensive', 'Not_offensive',\n",
       "       'Not_offensive', 'Not_offensive', 'Not_offensive', 'Not_offensive',\n",
       "       'not-Kannada', 'Not_offensive', 'Not_offensive', 'not-Kannada',\n",
       "       'Not_offensive', 'Not_offensive', 'Not_offensive', 'Not_offensive',\n",
       "       'Not_offensive', 'Not_offensive', 'not-Kannada', 'not-Kannada',\n",
       "       'Not_offensive', 'Not_offensive', 'Not_offensive', 'Not_offensive',\n",
       "       'not-Kannada', 'Not_offensive', 'Not_offensive', 'not-Kannada',\n",
       "       'Not_offensive', 'not-Kannada', 'Not_offensive', 'not-Kannada',\n",
       "       'Not_offensive', 'Not_offensive', 'Not_offensive', 'not-Kannada',\n",
       "       'Not_offensive', 'Not_offensive', 'Not_offensive', 'Not_offensive',\n",
       "       'Not_offensive', 'Not_offensive', 'Not_offensive', 'not-Kannada',\n",
       "       'Not_offensive', 'Not_offensive', 'Not_offensive', 'Not_offensive',\n",
       "       'Not_offensive', 'Not_offensive', 'Not_offensive', 'Not_offensive',\n",
       "       'Not_offensive', 'Not_offensive', 'not-Kannada', 'Not_offensive',\n",
       "       'Not_offensive', 'Not_offensive', 'Not_offensive', 'not-Kannada',\n",
       "       'Not_offensive', 'Not_offensive', 'Not_offensive', 'Not_offensive',\n",
       "       'Not_offensive', 'Not_offensive', 'Not_offensive', 'Not_offensive',\n",
       "       'Not_offensive', 'Not_offensive', 'Not_offensive', 'Not_offensive',\n",
       "       'Not_offensive', 'Not_offensive', 'Not_offensive', 'Not_offensive',\n",
       "       'Offensive_Targeted_Insult_Individual', 'Not_offensive',\n",
       "       'Not_offensive', 'Not_offensive', 'Not_offensive', 'not-Kannada',\n",
       "       'Not_offensive', 'Offensive_Targeted_Insult_Individual',\n",
       "       'Not_offensive', 'Not_offensive', 'Not_offensive', 'Not_offensive',\n",
       "       'Not_offensive', 'Not_offensive', 'Not_offensive', 'Not_offensive',\n",
       "       'Not_offensive', 'Not_offensive', 'Not_offensive', 'not-Kannada',\n",
       "       'Not_offensive', 'Not_offensive', 'Not_offensive', 'Not_offensive',\n",
       "       'Not_offensive', 'Not_offensive', 'Not_offensive', 'Not_offensive',\n",
       "       'Not_offensive', 'Not_offensive', 'not-Kannada', 'Not_offensive',\n",
       "       'Not_offensive', 'Not_offensive', 'Not_offensive', 'Not_offensive',\n",
       "       'Not_offensive', 'Not_offensive', 'Not_offensive', 'Not_offensive',\n",
       "       'Not_offensive', 'not-Kannada', 'Not_offensive', 'not-Kannada',\n",
       "       'Not_offensive', 'Not_offensive', 'Not_offensive', 'not-Kannada',\n",
       "       'Not_offensive', 'Not_offensive'], dtype='<U36')"
      ]
     },
     "execution_count": 14,
     "metadata": {},
     "output_type": "execute_result"
    }
   ],
   "source": [
    "predicted_categories"
   ]
  },
  {
   "cell_type": "code",
   "execution_count": 15,
   "metadata": {},
   "outputs": [
    {
     "name": "stdout",
     "output_type": "stream",
     "text": [
      "                                      precision    recall  f1-score   support\n",
      "\n",
      "                       Not_offensive       0.61      0.96      0.75       426\n",
      "                         not-Kannada       0.00      0.00      0.00        45\n",
      "     Offensive_Targeted_Insult_Group       1.00      0.21      0.35        66\n",
      "     Offensive_Targeted_Insult_Other       0.00      0.00      0.00        16\n",
      "Offensive_Targeted_Insult_Individual       0.00      0.00      0.00        33\n",
      "               Offensive_Untargetede       0.79      0.40      0.53       191\n",
      "\n",
      "                            accuracy                           0.64       777\n",
      "                           macro avg       0.40      0.26      0.27       777\n",
      "                        weighted avg       0.61      0.64      0.57       777\n",
      "\n"
     ]
    },
    {
     "name": "stderr",
     "output_type": "stream",
     "text": [
      "C:\\Users\\Nikhil\\anaconda3\\envs\\tf-gpu\\lib\\site-packages\\sklearn\\metrics\\_classification.py:1221: UndefinedMetricWarning: Precision and F-score are ill-defined and being set to 0.0 in labels with no predicted samples. Use `zero_division` parameter to control this behavior.\n",
      "  _warn_prf(average, modifier, msg_start, len(result))\n"
     ]
    }
   ],
   "source": [
    "print(classification_report(df_dev.label,predicted_categories , target_names=df_train['label'].unique()))"
   ]
  },
  {
   "cell_type": "code",
   "execution_count": 16,
   "metadata": {},
   "outputs": [
    {
     "name": "stdout",
     "output_type": "stream",
     "text": [
      "['kannada_offensive_dev.csv', 'kannada_offensive_dev2.csv', 'kannada_offensive_dev_corrected.csv', 'kannada_offensive_train.csv', 'kannada_offensive_train2.csv', 'kannada_offensive_train_corrected.csv', 'mal_full_offensive_dev.csv', 'mal_full_offensive_dev_corrected.csv', 'mal_full_offensive_train.csv', 'mal_full_offensive_train_corrected.csv', 'tamil_offensive_full_dev.csv', 'tamil_offensive_full_dev_corrected.csv', 'tamil_offensive_full_train.csv', 'tamil_offensive_full_train_corrected.csv']\n"
     ]
    }
   ],
   "source": [
    "print(os.listdir(dataset_dir))"
   ]
  },
  {
   "cell_type": "code",
   "execution_count": 17,
   "metadata": {},
   "outputs": [],
   "source": [
    "df_train = pd.read_csv(os.path.join(dataset_dir,'mal_full_offensive_train_corrected.csv'))\n",
    "df_dev = pd.read_csv(os.path.join(dataset_dir,'mal_full_offensive_dev_corrected.csv'))"
   ]
  },
  {
   "cell_type": "code",
   "execution_count": 18,
   "metadata": {},
   "outputs": [
    {
     "data": {
      "text/html": [
       "<div>\n",
       "<style scoped>\n",
       "    .dataframe tbody tr th:only-of-type {\n",
       "        vertical-align: middle;\n",
       "    }\n",
       "\n",
       "    .dataframe tbody tr th {\n",
       "        vertical-align: top;\n",
       "    }\n",
       "\n",
       "    .dataframe thead th {\n",
       "        text-align: right;\n",
       "    }\n",
       "</style>\n",
       "<table border=\"1\" class=\"dataframe\">\n",
       "  <thead>\n",
       "    <tr style=\"text-align: right;\">\n",
       "      <th></th>\n",
       "      <th>text</th>\n",
       "      <th>label</th>\n",
       "    </tr>\n",
       "  </thead>\n",
       "  <tbody>\n",
       "    <tr>\n",
       "      <th>6438</th>\n",
       "      <td>Ee christmasile oru mass entertainer aavum ee ...</td>\n",
       "      <td>Not_offensive</td>\n",
       "    </tr>\n",
       "    <tr>\n",
       "      <th>1793</th>\n",
       "      <td>#MAMMOOKKA as Money Lender  ഇതു പൊളിക്കും 🤙__</td>\n",
       "      <td>Not_offensive</td>\n",
       "    </tr>\n",
       "    <tr>\n",
       "      <th>5141</th>\n",
       "      <td>കൗതുകവും ജിഞ്ജാസ നിറഞ്ഞതുമായ ചുരുളഴിയാത്ത രഹസ്...</td>\n",
       "      <td>Not_offensive</td>\n",
       "    </tr>\n",
       "    <tr>\n",
       "      <th>3456</th>\n",
       "      <td>ഇനി വെറും മണിക്കൂറുകൾ മാത്രം കട്ട വെയ്റ്റിംഗ്</td>\n",
       "      <td>Not_offensive</td>\n",
       "    </tr>\n",
       "    <tr>\n",
       "      <th>12216</th>\n",
       "      <td>ഒടുവിൽ സിദ്ധിക്ക് അണ്ണൻ തന്നു അല്ലെ റൈറ്സ്</td>\n",
       "      <td>Not_offensive</td>\n",
       "    </tr>\n",
       "    <tr>\n",
       "      <th>15810</th>\n",
       "      <td>Thalaivaaaaa  views nokan ratri 2manik alaramv...</td>\n",
       "      <td>Not_offensive</td>\n",
       "    </tr>\n",
       "    <tr>\n",
       "      <th>8367</th>\n",
       "      <td>Jayettante punyalanu sesham trissur slangilull...</td>\n",
       "      <td>Not_offensive</td>\n",
       "    </tr>\n",
       "    <tr>\n",
       "      <th>7657</th>\n",
       "      <td>ചിന്ത പാളുന്ന കൊല്ലകൊല്ലി ഐറ്റം   മാമാങ്കത്തിൽ...</td>\n",
       "      <td>Not_offensive</td>\n",
       "    </tr>\n",
       "    <tr>\n",
       "      <th>13309</th>\n",
       "      <td>Kandirikum..december season jayettan lelathil ...</td>\n",
       "      <td>Not_offensive</td>\n",
       "    </tr>\n",
       "    <tr>\n",
       "      <th>7142</th>\n",
       "      <td>Pakka mass film...lalettan</td>\n",
       "      <td>Not_offensive</td>\n",
       "    </tr>\n",
       "  </tbody>\n",
       "</table>\n",
       "</div>"
      ],
      "text/plain": [
       "                                                    text          label\n",
       "6438   Ee christmasile oru mass entertainer aavum ee ...  Not_offensive\n",
       "1793       #MAMMOOKKA as Money Lender  ഇതു പൊളിക്കും 🤙__  Not_offensive\n",
       "5141   കൗതുകവും ജിഞ്ജാസ നിറഞ്ഞതുമായ ചുരുളഴിയാത്ത രഹസ്...  Not_offensive\n",
       "3456       ഇനി വെറും മണിക്കൂറുകൾ മാത്രം കട്ട വെയ്റ്റിംഗ്  Not_offensive\n",
       "12216         ഒടുവിൽ സിദ്ധിക്ക് അണ്ണൻ തന്നു അല്ലെ റൈറ്സ്  Not_offensive\n",
       "15810  Thalaivaaaaa  views nokan ratri 2manik alaramv...  Not_offensive\n",
       "8367   Jayettante punyalanu sesham trissur slangilull...  Not_offensive\n",
       "7657   ചിന്ത പാളുന്ന കൊല്ലകൊല്ലി ഐറ്റം   മാമാങ്കത്തിൽ...  Not_offensive\n",
       "13309  Kandirikum..december season jayettan lelathil ...  Not_offensive\n",
       "7142                          Pakka mass film...lalettan  Not_offensive"
      ]
     },
     "execution_count": 18,
     "metadata": {},
     "output_type": "execute_result"
    }
   ],
   "source": [
    "df_train.sample(10)"
   ]
  },
  {
   "cell_type": "code",
   "execution_count": 19,
   "metadata": {},
   "outputs": [
    {
     "data": {
      "text/plain": [
       "(16010, 2)"
      ]
     },
     "execution_count": 19,
     "metadata": {},
     "output_type": "execute_result"
    }
   ],
   "source": [
    "df_train.shape"
   ]
  },
  {
   "cell_type": "code",
   "execution_count": 20,
   "metadata": {},
   "outputs": [
    {
     "data": {
      "text/plain": [
       "Text(0, 0.5, 'Counts')"
      ]
     },
     "execution_count": 20,
     "metadata": {},
     "output_type": "execute_result"
    },
    {
     "data": {
      "image/png": "[encoded data removed]",
      "text/plain": [
       "<Figure size 842.4x595.44 with 1 Axes>"
      ]
     },
     "metadata": {},
     "output_type": "display_data"
    }
   ],
   "source": [
    "sns.countplot(x = df_train['label'])\n",
    "plt.xlabel('Labels')\n",
    "plt.ylabel('Counts')"
   ]
  },
  {
   "cell_type": "code",
   "execution_count": 21,
   "metadata": {},
   "outputs": [
    {
     "data": {
      "text/plain": [
       "Not_offensive                           14153\n",
       "not-malayalam                            1287\n",
       "Offensive_Targeted_Insult_Individual      239\n",
       "Offensive_Untargetede                     191\n",
       "Offensive_Targeted_Insult_Group           140\n",
       "Name: label, dtype: int64"
      ]
     },
     "execution_count": 21,
     "metadata": {},
     "output_type": "execute_result"
    }
   ],
   "source": [
    "df_train['label'].value_counts()"
   ]
  },
  {
   "cell_type": "code",
   "execution_count": 22,
   "metadata": {},
   "outputs": [
    {
     "data": {
      "text/plain": [
       "0         57\n",
       "1        138\n",
       "2         41\n",
       "3         25\n",
       "4         60\n",
       "        ... \n",
       "16005    106\n",
       "16006     50\n",
       "16007     35\n",
       "16008     55\n",
       "16009     60\n",
       "Name: text, Length: 16010, dtype: int64"
      ]
     },
     "execution_count": 22,
     "metadata": {},
     "output_type": "execute_result"
    }
   ],
   "source": [
    "text_lengths = df_train['text'].map(len)\n",
    "text_lengths"
   ]
  },
  {
   "cell_type": "code",
   "execution_count": 23,
   "metadata": {},
   "outputs": [
    {
     "name": "stderr",
     "output_type": "stream",
     "text": [
      "C:\\Users\\Nikhil\\anaconda3\\envs\\tf-gpu\\lib\\site-packages\\seaborn\\distributions.py:2551: FutureWarning: `distplot` is a deprecated function and will be removed in a future version. Please adapt your code to use either `displot` (a figure-level function with similar flexibility) or `histplot` (an axes-level function for histograms).\n",
      "  warnings.warn(msg, FutureWarning)\n"
     ]
    },
    {
     "data": {
      "text/plain": [
       "<AxesSubplot:xlabel='text', ylabel='Density'>"
      ]
     },
     "execution_count": 23,
     "metadata": {},
     "output_type": "execute_result"
    },
    {
     "data": {
      "image/png": "[encoded data removed]",
      "text/plain": [
       "<Figure size 842.4x595.44 with 1 Axes>"
      ]
     },
     "metadata": {},
     "output_type": "display_data"
    }
   ],
   "source": [
    "sns.distplot(text_lengths)"
   ]
  },
  {
   "cell_type": "code",
   "execution_count": 24,
   "metadata": {},
   "outputs": [
    {
     "name": "stdout",
     "output_type": "stream",
     "text": [
      "We have 5 unique classes\n",
      "We have 16010 training samples\n",
      "We have 1999 test samples\n"
     ]
    }
   ],
   "source": [
    "print(\"We have {} unique classes\".format(len(df_train['label'].unique())))\n",
    "print(\"We have {} training samples\".format(len(df_train.text)))\n",
    "print(\"We have {} test samples\".format(len(df_dev.text)))"
   ]
  },
  {
   "cell_type": "code",
   "execution_count": 25,
   "metadata": {},
   "outputs": [],
   "source": [
    "# Build the model\n",
    "model = make_pipeline(TfidfVectorizer(), MultinomialNB())\n",
    "# Train the model using the training data\n",
    "model.fit(df_train.text, df_train.label)\n",
    "# Predict the categories of the dev data\n",
    "predicted_categories = model.predict(df_dev.text)"
   ]
  },
  {
   "cell_type": "code",
   "execution_count": 26,
   "metadata": {},
   "outputs": [
    {
     "data": {
      "text/plain": [
       "array(['Not_offensive', 'Not_offensive', 'Not_offensive', ...,\n",
       "       'Not_offensive', 'Not_offensive', 'Not_offensive'], dtype='<U36')"
      ]
     },
     "execution_count": 26,
     "metadata": {},
     "output_type": "execute_result"
    }
   ],
   "source": [
    "predicted_categories"
   ]
  },
  {
   "cell_type": "code",
   "execution_count": 27,
   "metadata": {
    "scrolled": true
   },
   "outputs": [
    {
     "name": "stdout",
     "output_type": "stream",
     "text": [
      "                                      precision    recall  f1-score   support\n",
      "\n",
      "                       Not_offensive       0.90      1.00      0.95      1779\n",
      "Offensive_Targeted_Insult_Individual       0.00      0.00      0.00        13\n",
      "                       not-malayalam       0.00      0.00      0.00        24\n",
      "     Offensive_Targeted_Insult_Group       0.00      0.00      0.00        20\n",
      "               Offensive_Untargetede       0.94      0.10      0.18       163\n",
      "\n",
      "                            accuracy                           0.90      1999\n",
      "                           macro avg       0.37      0.22      0.22      1999\n",
      "                        weighted avg       0.88      0.90      0.86      1999\n",
      "\n"
     ]
    },
    {
     "name": "stderr",
     "output_type": "stream",
     "text": [
      "C:\\Users\\Nikhil\\anaconda3\\envs\\tf-gpu\\lib\\site-packages\\sklearn\\metrics\\_classification.py:1221: UndefinedMetricWarning: Precision and F-score are ill-defined and being set to 0.0 in labels with no predicted samples. Use `zero_division` parameter to control this behavior.\n",
      "  _warn_prf(average, modifier, msg_start, len(result))\n"
     ]
    }
   ],
   "source": [
    "print(classification_report(df_dev.label,predicted_categories , target_names=df_train['label'].unique()))"
   ]
  },
  {
   "cell_type": "code",
   "execution_count": 28,
   "metadata": {},
   "outputs": [
    {
     "name": "stdout",
     "output_type": "stream",
     "text": [
      "['kannada_offensive_dev.csv', 'kannada_offensive_dev2.csv', 'kannada_offensive_dev_corrected.csv', 'kannada_offensive_train.csv', 'kannada_offensive_train2.csv', 'kannada_offensive_train_corrected.csv', 'mal_full_offensive_dev.csv', 'mal_full_offensive_dev_corrected.csv', 'mal_full_offensive_train.csv', 'mal_full_offensive_train_corrected.csv', 'tamil_offensive_full_dev.csv', 'tamil_offensive_full_dev_corrected.csv', 'tamil_offensive_full_train.csv', 'tamil_offensive_full_train_corrected.csv']\n"
     ]
    }
   ],
   "source": [
    "print(os.listdir(dataset_dir))"
   ]
  },
  {
   "cell_type": "code",
   "execution_count": 29,
   "metadata": {},
   "outputs": [],
   "source": [
    "df_train = pd.read_csv(os.path.join(dataset_dir,'tamil_offensive_full_train_corrected.csv'))\n",
    "df_dev = pd.read_csv(os.path.join(dataset_dir,'tamil_offensive_full_dev_corrected.csv'))"
   ]
  },
  {
   "cell_type": "code",
   "execution_count": 30,
   "metadata": {},
   "outputs": [
    {
     "data": {
      "text/html": [
       "<div>\n",
       "<style scoped>\n",
       "    .dataframe tbody tr th:only-of-type {\n",
       "        vertical-align: middle;\n",
       "    }\n",
       "\n",
       "    .dataframe tbody tr th {\n",
       "        vertical-align: top;\n",
       "    }\n",
       "\n",
       "    .dataframe thead th {\n",
       "        text-align: right;\n",
       "    }\n",
       "</style>\n",
       "<table border=\"1\" class=\"dataframe\">\n",
       "  <thead>\n",
       "    <tr style=\"text-align: right;\">\n",
       "      <th></th>\n",
       "      <th>text</th>\n",
       "      <th>label</th>\n",
       "    </tr>\n",
       "  </thead>\n",
       "  <tbody>\n",
       "    <tr>\n",
       "      <th>20180</th>\n",
       "      <td>RAJINI SIR ......🧡 WAITING FROM KERALA.......</td>\n",
       "      <td>Not_offensive</td>\n",
       "    </tr>\n",
       "    <tr>\n",
       "      <th>20853</th>\n",
       "      <td>Thala fan's la oru like podunga</td>\n",
       "      <td>Not_offensive</td>\n",
       "    </tr>\n",
       "    <tr>\n",
       "      <th>33689</th>\n",
       "      <td>nejathulae surya oda appa oviyar than da</td>\n",
       "      <td>Not_offensive</td>\n",
       "    </tr>\n",
       "    <tr>\n",
       "      <th>6881</th>\n",
       "      <td>Hit Like For Thala Nerkonda Paarvai</td>\n",
       "      <td>Not_offensive</td>\n",
       "    </tr>\n",
       "    <tr>\n",
       "      <th>3887</th>\n",
       "      <td>12:30 Ku YouTube stuck achii..ennum clear Agala</td>\n",
       "      <td>Offensive_Targeted_Insult_Other</td>\n",
       "    </tr>\n",
       "    <tr>\n",
       "      <th>3881</th>\n",
       "      <td>Heroine DD sayal la irukanga.. Gang oda Theatr...</td>\n",
       "      <td>Not_offensive</td>\n",
       "    </tr>\n",
       "    <tr>\n",
       "      <th>6958</th>\n",
       "      <td>I like the last dialogue   Unakku yaara athu p...</td>\n",
       "      <td>Not_offensive</td>\n",
       "    </tr>\n",
       "    <tr>\n",
       "      <th>25068</th>\n",
       "      <td>0:18 sail pallavi solradhu ennamo unmai thaan</td>\n",
       "      <td>Not_offensive</td>\n",
       "    </tr>\n",
       "    <tr>\n",
       "      <th>10526</th>\n",
       "      <td>Surya anna idhukudha ungala nadippin nayagannu...</td>\n",
       "      <td>Not_offensive</td>\n",
       "    </tr>\n",
       "    <tr>\n",
       "      <th>26648</th>\n",
       "      <td>Trailera fulla paakave porumai illaye. Padam e...</td>\n",
       "      <td>Offensive_Targeted_Insult_Individual</td>\n",
       "    </tr>\n",
       "  </tbody>\n",
       "</table>\n",
       "</div>"
      ],
      "text/plain": [
       "                                                    text  \\\n",
       "20180      RAJINI SIR ......🧡 WAITING FROM KERALA.......   \n",
       "20853                    Thala fan's la oru like podunga   \n",
       "33689           nejathulae surya oda appa oviyar than da   \n",
       "6881                 Hit Like For Thala Nerkonda Paarvai   \n",
       "3887     12:30 Ku YouTube stuck achii..ennum clear Agala   \n",
       "3881   Heroine DD sayal la irukanga.. Gang oda Theatr...   \n",
       "6958   I like the last dialogue   Unakku yaara athu p...   \n",
       "25068      0:18 sail pallavi solradhu ennamo unmai thaan   \n",
       "10526  Surya anna idhukudha ungala nadippin nayagannu...   \n",
       "26648  Trailera fulla paakave porumai illaye. Padam e...   \n",
       "\n",
       "                                      label  \n",
       "20180                         Not_offensive  \n",
       "20853                         Not_offensive  \n",
       "33689                         Not_offensive  \n",
       "6881                          Not_offensive  \n",
       "3887        Offensive_Targeted_Insult_Other  \n",
       "3881                          Not_offensive  \n",
       "6958                          Not_offensive  \n",
       "25068                         Not_offensive  \n",
       "10526                         Not_offensive  \n",
       "26648  Offensive_Targeted_Insult_Individual  "
      ]
     },
     "execution_count": 30,
     "metadata": {},
     "output_type": "execute_result"
    }
   ],
   "source": [
    "df_train.sample(10)"
   ]
  },
  {
   "cell_type": "code",
   "execution_count": 31,
   "metadata": {},
   "outputs": [
    {
     "data": {
      "text/plain": [
       "(35139, 2)"
      ]
     },
     "execution_count": 31,
     "metadata": {},
     "output_type": "execute_result"
    }
   ],
   "source": [
    "df_train.shape"
   ]
  },
  {
   "cell_type": "code",
   "execution_count": 32,
   "metadata": {},
   "outputs": [
    {
     "data": {
      "text/plain": [
       "Text(0, 0.5, 'Counts')"
      ]
     },
     "execution_count": 32,
     "metadata": {},
     "output_type": "execute_result"
    },
    {
     "data": {
      "image/png": "[encoded data removed]",
      "text/plain": [
       "<Figure size 842.4x595.44 with 1 Axes>"
      ]
     },
     "metadata": {},
     "output_type": "display_data"
    }
   ],
   "source": [
    "sns.countplot(x = df_train['label'])\n",
    "plt.xlabel('Labels')\n",
    "plt.ylabel('Counts')"
   ]
  },
  {
   "cell_type": "code",
   "execution_count": 33,
   "metadata": {},
   "outputs": [
    {
     "data": {
      "text/plain": [
       "Not_offensive                           25425\n",
       "Offensive_Untargetede                    2906\n",
       "Offensive_Targeted_Insult_Group          2557\n",
       "Offensive_Targeted_Insult_Individual     2343\n",
       "not-Tamil                                1454\n",
       "Offensive_Targeted_Insult_Other           454\n",
       "Name: label, dtype: int64"
      ]
     },
     "execution_count": 33,
     "metadata": {},
     "output_type": "execute_result"
    }
   ],
   "source": [
    "df_train['label'].value_counts()"
   ]
  },
  {
   "cell_type": "code",
   "execution_count": 34,
   "metadata": {},
   "outputs": [
    {
     "data": {
      "text/plain": [
       "0        54\n",
       "1        41\n",
       "2        85\n",
       "3        49\n",
       "4        50\n",
       "         ..\n",
       "35134    54\n",
       "35135    28\n",
       "35136    25\n",
       "35137    86\n",
       "35138    33\n",
       "Name: text, Length: 35139, dtype: int64"
      ]
     },
     "execution_count": 34,
     "metadata": {},
     "output_type": "execute_result"
    }
   ],
   "source": [
    "text_lengths = df_train['text'].map(len)\n",
    "text_lengths"
   ]
  },
  {
   "cell_type": "code",
   "execution_count": 35,
   "metadata": {},
   "outputs": [
    {
     "name": "stderr",
     "output_type": "stream",
     "text": [
      "C:\\Users\\Nikhil\\anaconda3\\envs\\tf-gpu\\lib\\site-packages\\seaborn\\distributions.py:2551: FutureWarning: `distplot` is a deprecated function and will be removed in a future version. Please adapt your code to use either `displot` (a figure-level function with similar flexibility) or `histplot` (an axes-level function for histograms).\n",
      "  warnings.warn(msg, FutureWarning)\n"
     ]
    },
    {
     "data": {
      "text/plain": [
       "<AxesSubplot:xlabel='text', ylabel='Density'>"
      ]
     },
     "execution_count": 35,
     "metadata": {},
     "output_type": "execute_result"
    },
    {
     "data": {
      "image/png": "[encoded data removed]",
      "text/plain": [
       "<Figure size 842.4x595.44 with 1 Axes>"
      ]
     },
     "metadata": {},
     "output_type": "display_data"
    }
   ],
   "source": [
    "sns.distplot(text_lengths)"
   ]
  },
  {
   "cell_type": "code",
   "execution_count": 36,
   "metadata": {},
   "outputs": [
    {
     "name": "stdout",
     "output_type": "stream",
     "text": [
      "We have 6 unique classes\n",
      "We have 35139 training samples\n",
      "We have 4388 test samples\n"
     ]
    }
   ],
   "source": [
    "print(\"We have {} unique classes\".format(len(df_train['label'].unique())))\n",
    "print(\"We have {} training samples\".format(len(df_train.text)))\n",
    "print(\"We have {} test samples\".format(len(df_dev.text)))"
   ]
  },
  {
   "cell_type": "code",
   "execution_count": 37,
   "metadata": {},
   "outputs": [],
   "source": [
    "# Build the model\n",
    "model = make_pipeline(TfidfVectorizer(), MultinomialNB())\n",
    "# Train the model using the training data\n",
    "model.fit(df_train.text, df_train.label)\n",
    "# Predict the categories of the dev data\n",
    "predicted_categories = model.predict(df_dev.text)"
   ]
  },
  {
   "cell_type": "code",
   "execution_count": 38,
   "metadata": {},
   "outputs": [
    {
     "data": {
      "text/plain": [
       "array(['Not_offensive', 'Not_offensive', 'Not_offensive', ...,\n",
       "       'Not_offensive', 'Not_offensive', 'Not_offensive'], dtype='<U36')"
      ]
     },
     "execution_count": 38,
     "metadata": {},
     "output_type": "execute_result"
    }
   ],
   "source": [
    "predicted_categories"
   ]
  },
  {
   "cell_type": "code",
   "execution_count": 39,
   "metadata": {},
   "outputs": [
    {
     "name": "stdout",
     "output_type": "stream",
     "text": [
      "                                      precision    recall  f1-score   support\n",
      "\n",
      "                           not-Tamil       0.74      1.00      0.85      3193\n",
      "                       Not_offensive       0.00      0.00      0.00       295\n",
      "     Offensive_Targeted_Insult_Other       1.00      0.00      0.01       307\n",
      "     Offensive_Targeted_Insult_Group       0.00      0.00      0.00        65\n",
      "               Offensive_Untargetede       0.86      0.02      0.03       356\n",
      "Offensive_Targeted_Insult_Individual       0.96      0.39      0.55       172\n",
      "\n",
      "                            accuracy                           0.74      4388\n",
      "                           macro avg       0.59      0.23      0.24      4388\n",
      "                        weighted avg       0.72      0.74      0.64      4388\n",
      "\n"
     ]
    },
    {
     "name": "stderr",
     "output_type": "stream",
     "text": [
      "C:\\Users\\Nikhil\\anaconda3\\envs\\tf-gpu\\lib\\site-packages\\sklearn\\metrics\\_classification.py:1221: UndefinedMetricWarning: Precision and F-score are ill-defined and being set to 0.0 in labels with no predicted samples. Use `zero_division` parameter to control this behavior.\n",
      "  _warn_prf(average, modifier, msg_start, len(result))\n"
     ]
    }
   ],
   "source": [
    "print(classification_report(df_dev.label,predicted_categories , target_names=df_train['label'].unique()))"
   ]
  },
  {
   "cell_type": "code",
   "execution_count": null,
   "metadata": {},
   "outputs": [],
   "source": []
  }
 ],
 "metadata": {
  "kernelspec": {
   "display_name": "Python 3",
   "language": "python",
   "name": "python3"
  },
  "language_info": {
   "codemirror_mode": {
    "name": "ipython",
    "version": 3
   },
   "file_extension": ".py",
   "mimetype": "text/x-python",
   "name": "python",
   "nbconvert_exporter": "python",
   "pygments_lexer": "ipython3",
   "version": "3.6.12"
  }
 },
 "nbformat": 4,
 "nbformat_minor": 4
}
