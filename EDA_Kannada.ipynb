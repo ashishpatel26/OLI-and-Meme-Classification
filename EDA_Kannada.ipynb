{
 "cells": [
  {
   "cell_type": "code",
   "execution_count": 1,
   "metadata": {},
   "outputs": [],
   "source": [
    "import os\n",
    "curr_dir = os.getcwd()\n",
    "dataset_dir = os.path.join(curr_dir,'Dataset')"
   ]
  },
  {
   "cell_type": "code",
   "execution_count": 2,
   "metadata": {},
   "outputs": [
    {
     "data": {
      "text/plain": [
       "['kannada_offensive_dev.csv',\n",
       " 'kannada_offensive_dev2.csv',\n",
       " 'kannada_offensive_dev_corrected.csv',\n",
       " 'kannada_offensive_train.csv',\n",
       " 'kannada_offensive_train2.csv',\n",
       " 'kannada_offensive_train_corrected.csv',\n",
       " 'mal_full_offensive_dev.csv',\n",
       " 'mal_full_offensive_dev_corrected.csv',\n",
       " 'mal_full_offensive_train.csv',\n",
       " 'mal_full_offensive_train_corrected.csv',\n",
       " 'tamil_offensive_full_dev.csv',\n",
       " 'tamil_offensive_full_dev_corrected.csv',\n",
       " 'tamil_offensive_full_train.csv',\n",
       " 'tamil_offensive_full_train_corrected.csv']"
      ]
     },
     "execution_count": 2,
     "metadata": {},
     "output_type": "execute_result"
    }
   ],
   "source": [
    "os.listdir(dataset_dir)"
   ]
  },
  {
   "cell_type": "code",
   "execution_count": 3,
   "metadata": {},
   "outputs": [],
   "source": [
    "import numpy as np\n",
    "import pandas as pd\n",
    "import matplotlib.pyplot as plt\n",
    "import seaborn as sns"
   ]
  },
  {
   "cell_type": "code",
   "execution_count": 4,
   "metadata": {},
   "outputs": [],
   "source": [
    "df1 = pd.read_csv(os.path.join(dataset_dir,'kannada_offensive_train2.csv'))"
   ]
  },
  {
   "cell_type": "code",
   "execution_count": 5,
   "metadata": {},
   "outputs": [
    {
     "data": {
      "text/html": [
       "<div>\n",
       "<style scoped>\n",
       "    .dataframe tbody tr th:only-of-type {\n",
       "        vertical-align: middle;\n",
       "    }\n",
       "\n",
       "    .dataframe tbody tr th {\n",
       "        vertical-align: top;\n",
       "    }\n",
       "\n",
       "    .dataframe thead th {\n",
       "        text-align: right;\n",
       "    }\n",
       "</style>\n",
       "<table border=\"1\" class=\"dataframe\">\n",
       "  <thead>\n",
       "    <tr style=\"text-align: right;\">\n",
       "      <th></th>\n",
       "      <th>Tik tok alli jagala madtidralla adra baggenu ondu video madi anna super agi ugididdira\\tNot_offensive</th>\n",
       "    </tr>\n",
       "  </thead>\n",
       "  <tbody>\n",
       "    <tr>\n",
       "      <th>0</th>\n",
       "      <td>Anyone from kerala here\\tnot-Kannada</td>\n",
       "    </tr>\n",
       "    <tr>\n",
       "      <th>1</th>\n",
       "      <td>Movie rerelease madi plss\\tNot_offensive</td>\n",
       "    </tr>\n",
       "    <tr>\n",
       "      <th>2</th>\n",
       "      <td>Amazon prime alli bittidira....yella manele no...</td>\n",
       "    </tr>\n",
       "    <tr>\n",
       "      <th>3</th>\n",
       "      <td>Guru sure news nanu tik tok dawn lod madeda ya...</td>\n",
       "    </tr>\n",
       "    <tr>\n",
       "      <th>4</th>\n",
       "      <td>ಸುದೀಪ್ ಸರ್ ಅಂಡ್ ದರ್ಶನ್ ಸರ್ ಅವರಿಗೆ ಇರೋ ಫ್ಯಾನ್ಸ್...</td>\n",
       "    </tr>\n",
       "    <tr>\n",
       "      <th>...</th>\n",
       "      <td>...</td>\n",
       "    </tr>\n",
       "    <tr>\n",
       "      <th>6211</th>\n",
       "      <td>@Gajendra hv neen en maadirodu mele\\tOffensive...</td>\n",
       "    </tr>\n",
       "    <tr>\n",
       "      <th>6212</th>\n",
       "      <td>Sir neev adthidda game yavdu\\tNot_offensive</td>\n",
       "    </tr>\n",
       "    <tr>\n",
       "      <th>6213</th>\n",
       "      <td>Dubb Full movie in telugu\\tNot_offensive</td>\n",
       "    </tr>\n",
       "    <tr>\n",
       "      <th>6214</th>\n",
       "      <td>Mostly nimma mate keli tic tok ban agirbeku ಅಣ...</td>\n",
       "    </tr>\n",
       "    <tr>\n",
       "      <th>6215</th>\n",
       "      <td>Sir Nimm Mathininda Navu Kalibeku Agirodu Ennu...</td>\n",
       "    </tr>\n",
       "  </tbody>\n",
       "</table>\n",
       "<p>6216 rows × 1 columns</p>\n",
       "</div>"
      ],
      "text/plain": [
       "     Tik tok alli jagala madtidralla adra baggenu ondu video madi anna super agi ugididdira\\tNot_offensive\n",
       "0                  Anyone from kerala here\\tnot-Kannada                                                   \n",
       "1              Movie rerelease madi plss\\tNot_offensive                                                   \n",
       "2     Amazon prime alli bittidira....yella manele no...                                                   \n",
       "3     Guru sure news nanu tik tok dawn lod madeda ya...                                                   \n",
       "4     ಸುದೀಪ್ ಸರ್ ಅಂಡ್ ದರ್ಶನ್ ಸರ್ ಅವರಿಗೆ ಇರೋ ಫ್ಯಾನ್ಸ್...                                                   \n",
       "...                                                 ...                                                   \n",
       "6211  @Gajendra hv neen en maadirodu mele\\tOffensive...                                                   \n",
       "6212        Sir neev adthidda game yavdu\\tNot_offensive                                                   \n",
       "6213           Dubb Full movie in telugu\\tNot_offensive                                                   \n",
       "6214  Mostly nimma mate keli tic tok ban agirbeku ಅಣ...                                                   \n",
       "6215  Sir Nimm Mathininda Navu Kalibeku Agirodu Ennu...                                                   \n",
       "\n",
       "[6216 rows x 1 columns]"
      ]
     },
     "execution_count": 5,
     "metadata": {},
     "output_type": "execute_result"
    }
   ],
   "source": [
    "df1"
   ]
  },
  {
   "cell_type": "code",
   "execution_count": 6,
   "metadata": {},
   "outputs": [
    {
     "data": {
      "text/plain": [
       "'Tik tok alli jagala madtidralla adra baggenu ondu video madi anna super agi ugididdira\\tNot_offensive'"
      ]
     },
     "execution_count": 6,
     "metadata": {},
     "output_type": "execute_result"
    }
   ],
   "source": [
    "df1.columns.values[0]"
   ]
  },
  {
   "cell_type": "code",
   "execution_count": 7,
   "metadata": {},
   "outputs": [],
   "source": [
    "def split_text_on_tabs(text):\n",
    "    import re\n",
    "    s = re.split('\\t',str(text))\n",
    "    #print(s)\n",
    "    return [s[0] , s[1]]"
   ]
  },
  {
   "cell_type": "code",
   "execution_count": 8,
   "metadata": {},
   "outputs": [],
   "source": [
    "def count_tabs_on_text(text):\n",
    "    import re\n",
    "    s = re.split('\\t',str(text))\n",
    "    #print(s)\n",
    "    return len(s) - 1"
   ]
  },
  {
   "cell_type": "code",
   "execution_count": 9,
   "metadata": {},
   "outputs": [],
   "source": [
    "x , y = split_text_on_tabs('i am nikhil\\t ghanghor')"
   ]
  },
  {
   "cell_type": "code",
   "execution_count": 11,
   "metadata": {},
   "outputs": [],
   "source": [
    "df = df1['Tik tok alli jagala madtidralla adra baggenu ondu video madi anna super agi ugididdira\\tNot_offensive'].apply(count_tabs_on_text)\n",
    "for i,val in enumerate(df):\n",
    "    if val!=1:\n",
    "        print(i)"
   ]
  },
  {
   "cell_type": "code",
   "execution_count": 11,
   "metadata": {},
   "outputs": [
    {
     "data": {
      "text/plain": [
       "'ನನಗು same ಹಂಗೇ ಅನ್ನಿಸ್ತು\\t\\tNot_offensive'"
      ]
     },
     "execution_count": 11,
     "metadata": {},
     "output_type": "execute_result"
    }
   ],
   "source": [
    "df1.iloc[2398,:].values[0]"
   ]
  },
  {
   "cell_type": "code",
   "execution_count": 12,
   "metadata": {},
   "outputs": [
    {
     "data": {
      "text/plain": [
       "'Flare gun at 1\\t30\\tnot-Kannada'"
      ]
     },
     "execution_count": 12,
     "metadata": {},
     "output_type": "execute_result"
    }
   ],
   "source": [
    "df1.iloc[2524,:].values[0]"
   ]
  },
  {
   "cell_type": "code",
   "execution_count": 13,
   "metadata": {},
   "outputs": [],
   "source": [
    "df1.drop([2398,2524],axis = 0,inplace = True)"
   ]
  },
  {
   "cell_type": "code",
   "execution_count": 14,
   "metadata": {},
   "outputs": [
    {
     "data": {
      "text/html": [
       "<div>\n",
       "<style scoped>\n",
       "    .dataframe tbody tr th:only-of-type {\n",
       "        vertical-align: middle;\n",
       "    }\n",
       "\n",
       "    .dataframe tbody tr th {\n",
       "        vertical-align: top;\n",
       "    }\n",
       "\n",
       "    .dataframe thead th {\n",
       "        text-align: right;\n",
       "    }\n",
       "</style>\n",
       "<table border=\"1\" class=\"dataframe\">\n",
       "  <thead>\n",
       "    <tr style=\"text-align: right;\">\n",
       "      <th></th>\n",
       "      <th>column</th>\n",
       "    </tr>\n",
       "  </thead>\n",
       "  <tbody>\n",
       "    <tr>\n",
       "      <th>0</th>\n",
       "      <td>Tik tok alli jagala madtidralla adra baggenu o...</td>\n",
       "    </tr>\n",
       "    <tr>\n",
       "      <th>1</th>\n",
       "      <td>Anyone from kerala here\\tnot-Kannada</td>\n",
       "    </tr>\n",
       "    <tr>\n",
       "      <th>2</th>\n",
       "      <td>Movie rerelease madi plss\\tNot_offensive</td>\n",
       "    </tr>\n",
       "    <tr>\n",
       "      <th>3</th>\n",
       "      <td>Amazon prime alli bittidira....yella manele no...</td>\n",
       "    </tr>\n",
       "    <tr>\n",
       "      <th>4</th>\n",
       "      <td>Guru sure news nanu tik tok dawn lod madeda ya...</td>\n",
       "    </tr>\n",
       "    <tr>\n",
       "      <th>...</th>\n",
       "      <td>...</td>\n",
       "    </tr>\n",
       "    <tr>\n",
       "      <th>6210</th>\n",
       "      <td>@Gajendra hv neen en maadirodu mele\\tOffensive...</td>\n",
       "    </tr>\n",
       "    <tr>\n",
       "      <th>6211</th>\n",
       "      <td>Sir neev adthidda game yavdu\\tNot_offensive</td>\n",
       "    </tr>\n",
       "    <tr>\n",
       "      <th>6212</th>\n",
       "      <td>Dubb Full movie in telugu\\tNot_offensive</td>\n",
       "    </tr>\n",
       "    <tr>\n",
       "      <th>6213</th>\n",
       "      <td>Mostly nimma mate keli tic tok ban agirbeku ಅಣ...</td>\n",
       "    </tr>\n",
       "    <tr>\n",
       "      <th>6214</th>\n",
       "      <td>Sir Nimm Mathininda Navu Kalibeku Agirodu Ennu...</td>\n",
       "    </tr>\n",
       "  </tbody>\n",
       "</table>\n",
       "<p>6215 rows × 1 columns</p>\n",
       "</div>"
      ],
      "text/plain": [
       "                                                 column\n",
       "0     Tik tok alli jagala madtidralla adra baggenu o...\n",
       "1                  Anyone from kerala here\\tnot-Kannada\n",
       "2              Movie rerelease madi plss\\tNot_offensive\n",
       "3     Amazon prime alli bittidira....yella manele no...\n",
       "4     Guru sure news nanu tik tok dawn lod madeda ya...\n",
       "...                                                 ...\n",
       "6210  @Gajendra hv neen en maadirodu mele\\tOffensive...\n",
       "6211        Sir neev adthidda game yavdu\\tNot_offensive\n",
       "6212           Dubb Full movie in telugu\\tNot_offensive\n",
       "6213  Mostly nimma mate keli tic tok ban agirbeku ಅಣ...\n",
       "6214  Sir Nimm Mathininda Navu Kalibeku Agirodu Ennu...\n",
       "\n",
       "[6215 rows x 1 columns]"
      ]
     },
     "execution_count": 14,
     "metadata": {},
     "output_type": "execute_result"
    }
   ],
   "source": [
    "df1.reset_index(drop = True,inplace = True)\n",
    "df1"
   ]
  },
  {
   "cell_type": "code",
   "execution_count": 15,
   "metadata": {},
   "outputs": [
    {
     "data": {
      "text/plain": [
       "6215"
      ]
     },
     "execution_count": 15,
     "metadata": {},
     "output_type": "execute_result"
    }
   ],
   "source": [
    "length = len(df1)\n",
    "length"
   ]
  },
  {
   "cell_type": "code",
   "execution_count": 16,
   "metadata": {},
   "outputs": [
    {
     "data": {
      "text/html": [
       "<div>\n",
       "<style scoped>\n",
       "    .dataframe tbody tr th:only-of-type {\n",
       "        vertical-align: middle;\n",
       "    }\n",
       "\n",
       "    .dataframe tbody tr th {\n",
       "        vertical-align: top;\n",
       "    }\n",
       "\n",
       "    .dataframe thead th {\n",
       "        text-align: right;\n",
       "    }\n",
       "</style>\n",
       "<table border=\"1\" class=\"dataframe\">\n",
       "  <thead>\n",
       "    <tr style=\"text-align: right;\">\n",
       "      <th></th>\n",
       "      <th>column</th>\n",
       "    </tr>\n",
       "  </thead>\n",
       "  <tbody>\n",
       "    <tr>\n",
       "      <th>0</th>\n",
       "      <td>Tik tok alli jagala madtidralla adra baggenu o...</td>\n",
       "    </tr>\n",
       "    <tr>\n",
       "      <th>1</th>\n",
       "      <td>Anyone from kerala here\\tnot-Kannada</td>\n",
       "    </tr>\n",
       "    <tr>\n",
       "      <th>2</th>\n",
       "      <td>Movie rerelease madi plss\\tNot_offensive</td>\n",
       "    </tr>\n",
       "    <tr>\n",
       "      <th>3</th>\n",
       "      <td>Amazon prime alli bittidira....yella manele no...</td>\n",
       "    </tr>\n",
       "    <tr>\n",
       "      <th>4</th>\n",
       "      <td>Guru sure news nanu tik tok dawn lod madeda ya...</td>\n",
       "    </tr>\n",
       "    <tr>\n",
       "      <th>...</th>\n",
       "      <td>...</td>\n",
       "    </tr>\n",
       "    <tr>\n",
       "      <th>6211</th>\n",
       "      <td>Sir neev adthidda game yavdu\\tNot_offensive</td>\n",
       "    </tr>\n",
       "    <tr>\n",
       "      <th>6212</th>\n",
       "      <td>Dubb Full movie in telugu\\tNot_offensive</td>\n",
       "    </tr>\n",
       "    <tr>\n",
       "      <th>6213</th>\n",
       "      <td>Mostly nimma mate keli tic tok ban agirbeku ಅಣ...</td>\n",
       "    </tr>\n",
       "    <tr>\n",
       "      <th>6214</th>\n",
       "      <td>Sir Nimm Mathininda Navu Kalibeku Agirodu Ennu...</td>\n",
       "    </tr>\n",
       "    <tr>\n",
       "      <th>6215</th>\n",
       "      <td>ನನಗು same ಹಂಗೇ ಅನ್ನಿಸ್ತು\\tNot_offensive</td>\n",
       "    </tr>\n",
       "  </tbody>\n",
       "</table>\n",
       "<p>6216 rows × 1 columns</p>\n",
       "</div>"
      ],
      "text/plain": [
       "                                                 column\n",
       "0     Tik tok alli jagala madtidralla adra baggenu o...\n",
       "1                  Anyone from kerala here\\tnot-Kannada\n",
       "2              Movie rerelease madi plss\\tNot_offensive\n",
       "3     Amazon prime alli bittidira....yella manele no...\n",
       "4     Guru sure news nanu tik tok dawn lod madeda ya...\n",
       "...                                                 ...\n",
       "6211        Sir neev adthidda game yavdu\\tNot_offensive\n",
       "6212           Dubb Full movie in telugu\\tNot_offensive\n",
       "6213  Mostly nimma mate keli tic tok ban agirbeku ಅಣ...\n",
       "6214  Sir Nimm Mathininda Navu Kalibeku Agirodu Ennu...\n",
       "6215            ನನಗು same ಹಂಗೇ ಅನ್ನಿಸ್ತು\\tNot_offensive\n",
       "\n",
       "[6216 rows x 1 columns]"
      ]
     },
     "execution_count": 16,
     "metadata": {},
     "output_type": "execute_result"
    }
   ],
   "source": [
    "df1.loc[length] = ['ನನಗು same ಹಂಗೇ ಅನ್ನಿಸ್ತು\\tNot_offensive']\n",
    "df1"
   ]
  },
  {
   "cell_type": "code",
   "execution_count": 17,
   "metadata": {},
   "outputs": [
    {
     "data": {
      "text/plain": [
       "6216"
      ]
     },
     "execution_count": 17,
     "metadata": {},
     "output_type": "execute_result"
    }
   ],
   "source": [
    "length = len(df1)\n",
    "length"
   ]
  },
  {
   "cell_type": "code",
   "execution_count": 18,
   "metadata": {},
   "outputs": [
    {
     "data": {
      "text/html": [
       "<div>\n",
       "<style scoped>\n",
       "    .dataframe tbody tr th:only-of-type {\n",
       "        vertical-align: middle;\n",
       "    }\n",
       "\n",
       "    .dataframe tbody tr th {\n",
       "        vertical-align: top;\n",
       "    }\n",
       "\n",
       "    .dataframe thead th {\n",
       "        text-align: right;\n",
       "    }\n",
       "</style>\n",
       "<table border=\"1\" class=\"dataframe\">\n",
       "  <thead>\n",
       "    <tr style=\"text-align: right;\">\n",
       "      <th></th>\n",
       "      <th>column</th>\n",
       "    </tr>\n",
       "  </thead>\n",
       "  <tbody>\n",
       "    <tr>\n",
       "      <th>0</th>\n",
       "      <td>Tik tok alli jagala madtidralla adra baggenu o...</td>\n",
       "    </tr>\n",
       "    <tr>\n",
       "      <th>1</th>\n",
       "      <td>Anyone from kerala here\\tnot-Kannada</td>\n",
       "    </tr>\n",
       "    <tr>\n",
       "      <th>2</th>\n",
       "      <td>Movie rerelease madi plss\\tNot_offensive</td>\n",
       "    </tr>\n",
       "    <tr>\n",
       "      <th>3</th>\n",
       "      <td>Amazon prime alli bittidira....yella manele no...</td>\n",
       "    </tr>\n",
       "    <tr>\n",
       "      <th>4</th>\n",
       "      <td>Guru sure news nanu tik tok dawn lod madeda ya...</td>\n",
       "    </tr>\n",
       "    <tr>\n",
       "      <th>...</th>\n",
       "      <td>...</td>\n",
       "    </tr>\n",
       "    <tr>\n",
       "      <th>6212</th>\n",
       "      <td>Dubb Full movie in telugu\\tNot_offensive</td>\n",
       "    </tr>\n",
       "    <tr>\n",
       "      <th>6213</th>\n",
       "      <td>Mostly nimma mate keli tic tok ban agirbeku ಅಣ...</td>\n",
       "    </tr>\n",
       "    <tr>\n",
       "      <th>6214</th>\n",
       "      <td>Sir Nimm Mathininda Navu Kalibeku Agirodu Ennu...</td>\n",
       "    </tr>\n",
       "    <tr>\n",
       "      <th>6215</th>\n",
       "      <td>ನನಗು same ಹಂಗೇ ಅನ್ನಿಸ್ತು\\tNot_offensive</td>\n",
       "    </tr>\n",
       "    <tr>\n",
       "      <th>6216</th>\n",
       "      <td>Flare gun at 1:30\\tnot-Kannada</td>\n",
       "    </tr>\n",
       "  </tbody>\n",
       "</table>\n",
       "<p>6217 rows × 1 columns</p>\n",
       "</div>"
      ],
      "text/plain": [
       "                                                 column\n",
       "0     Tik tok alli jagala madtidralla adra baggenu o...\n",
       "1                  Anyone from kerala here\\tnot-Kannada\n",
       "2              Movie rerelease madi plss\\tNot_offensive\n",
       "3     Amazon prime alli bittidira....yella manele no...\n",
       "4     Guru sure news nanu tik tok dawn lod madeda ya...\n",
       "...                                                 ...\n",
       "6212           Dubb Full movie in telugu\\tNot_offensive\n",
       "6213  Mostly nimma mate keli tic tok ban agirbeku ಅಣ...\n",
       "6214  Sir Nimm Mathininda Navu Kalibeku Agirodu Ennu...\n",
       "6215            ನನಗು same ಹಂಗೇ ಅನ್ನಿಸ್ತು\\tNot_offensive\n",
       "6216                     Flare gun at 1:30\\tnot-Kannada\n",
       "\n",
       "[6217 rows x 1 columns]"
      ]
     },
     "execution_count": 18,
     "metadata": {},
     "output_type": "execute_result"
    }
   ],
   "source": [
    "df1.loc[length] = ['Flare gun at 1:30\\tnot-Kannada']\n",
    "df1"
   ]
  },
  {
   "cell_type": "code",
   "execution_count": 19,
   "metadata": {},
   "outputs": [
    {
     "data": {
      "text/html": [
       "<div>\n",
       "<style scoped>\n",
       "    .dataframe tbody tr th:only-of-type {\n",
       "        vertical-align: middle;\n",
       "    }\n",
       "\n",
       "    .dataframe tbody tr th {\n",
       "        vertical-align: top;\n",
       "    }\n",
       "\n",
       "    .dataframe thead th {\n",
       "        text-align: right;\n",
       "    }\n",
       "</style>\n",
       "<table border=\"1\" class=\"dataframe\">\n",
       "  <thead>\n",
       "    <tr style=\"text-align: right;\">\n",
       "      <th></th>\n",
       "      <th>column</th>\n",
       "      <th>text</th>\n",
       "      <th>label</th>\n",
       "    </tr>\n",
       "  </thead>\n",
       "  <tbody>\n",
       "    <tr>\n",
       "      <th>0</th>\n",
       "      <td>Tik tok alli jagala madtidralla adra baggenu o...</td>\n",
       "      <td>Tik tok alli jagala madtidralla adra baggenu o...</td>\n",
       "      <td>Not_offensive</td>\n",
       "    </tr>\n",
       "    <tr>\n",
       "      <th>1</th>\n",
       "      <td>Anyone from kerala here\\tnot-Kannada</td>\n",
       "      <td>Anyone from kerala here</td>\n",
       "      <td>not-Kannada</td>\n",
       "    </tr>\n",
       "    <tr>\n",
       "      <th>2</th>\n",
       "      <td>Movie rerelease madi plss\\tNot_offensive</td>\n",
       "      <td>Movie rerelease madi plss</td>\n",
       "      <td>Not_offensive</td>\n",
       "    </tr>\n",
       "    <tr>\n",
       "      <th>3</th>\n",
       "      <td>Amazon prime alli bittidira....yella manele no...</td>\n",
       "      <td>Amazon prime alli bittidira....yella manele no...</td>\n",
       "      <td>Not_offensive</td>\n",
       "    </tr>\n",
       "    <tr>\n",
       "      <th>4</th>\n",
       "      <td>Guru sure news nanu tik tok dawn lod madeda ya...</td>\n",
       "      <td>Guru sure news nanu tik tok dawn lod madeda ya...</td>\n",
       "      <td>Not_offensive</td>\n",
       "    </tr>\n",
       "    <tr>\n",
       "      <th>...</th>\n",
       "      <td>...</td>\n",
       "      <td>...</td>\n",
       "      <td>...</td>\n",
       "    </tr>\n",
       "    <tr>\n",
       "      <th>6212</th>\n",
       "      <td>Dubb Full movie in telugu\\tNot_offensive</td>\n",
       "      <td>Dubb Full movie in telugu</td>\n",
       "      <td>Not_offensive</td>\n",
       "    </tr>\n",
       "    <tr>\n",
       "      <th>6213</th>\n",
       "      <td>Mostly nimma mate keli tic tok ban agirbeku ಅಣ...</td>\n",
       "      <td>Mostly nimma mate keli tic tok ban agirbeku ಅಣ...</td>\n",
       "      <td>Not_offensive</td>\n",
       "    </tr>\n",
       "    <tr>\n",
       "      <th>6214</th>\n",
       "      <td>Sir Nimm Mathininda Navu Kalibeku Agirodu Ennu...</td>\n",
       "      <td>Sir Nimm Mathininda Navu Kalibeku Agirodu Ennu...</td>\n",
       "      <td>Not_offensive</td>\n",
       "    </tr>\n",
       "    <tr>\n",
       "      <th>6215</th>\n",
       "      <td>ನನಗು same ಹಂಗೇ ಅನ್ನಿಸ್ತು\\tNot_offensive</td>\n",
       "      <td>ನನಗು same ಹಂಗೇ ಅನ್ನಿಸ್ತು</td>\n",
       "      <td>Not_offensive</td>\n",
       "    </tr>\n",
       "    <tr>\n",
       "      <th>6216</th>\n",
       "      <td>Flare gun at 1:30\\tnot-Kannada</td>\n",
       "      <td>Flare gun at 1:30</td>\n",
       "      <td>not-Kannada</td>\n",
       "    </tr>\n",
       "  </tbody>\n",
       "</table>\n",
       "<p>6217 rows × 3 columns</p>\n",
       "</div>"
      ],
      "text/plain": [
       "                                                 column  \\\n",
       "0     Tik tok alli jagala madtidralla adra baggenu o...   \n",
       "1                  Anyone from kerala here\\tnot-Kannada   \n",
       "2              Movie rerelease madi plss\\tNot_offensive   \n",
       "3     Amazon prime alli bittidira....yella manele no...   \n",
       "4     Guru sure news nanu tik tok dawn lod madeda ya...   \n",
       "...                                                 ...   \n",
       "6212           Dubb Full movie in telugu\\tNot_offensive   \n",
       "6213  Mostly nimma mate keli tic tok ban agirbeku ಅಣ...   \n",
       "6214  Sir Nimm Mathininda Navu Kalibeku Agirodu Ennu...   \n",
       "6215            ನನಗು same ಹಂಗೇ ಅನ್ನಿಸ್ತು\\tNot_offensive   \n",
       "6216                     Flare gun at 1:30\\tnot-Kannada   \n",
       "\n",
       "                                                   text          label  \n",
       "0     Tik tok alli jagala madtidralla adra baggenu o...  Not_offensive  \n",
       "1                               Anyone from kerala here    not-Kannada  \n",
       "2                             Movie rerelease madi plss  Not_offensive  \n",
       "3     Amazon prime alli bittidira....yella manele no...  Not_offensive  \n",
       "4     Guru sure news nanu tik tok dawn lod madeda ya...  Not_offensive  \n",
       "...                                                 ...            ...  \n",
       "6212                          Dubb Full movie in telugu  Not_offensive  \n",
       "6213  Mostly nimma mate keli tic tok ban agirbeku ಅಣ...  Not_offensive  \n",
       "6214  Sir Nimm Mathininda Navu Kalibeku Agirodu Ennu...  Not_offensive  \n",
       "6215                           ನನಗು same ಹಂಗೇ ಅನ್ನಿಸ್ತು  Not_offensive  \n",
       "6216                                  Flare gun at 1:30    not-Kannada  \n",
       "\n",
       "[6217 rows x 3 columns]"
      ]
     },
     "execution_count": 19,
     "metadata": {},
     "output_type": "execute_result"
    }
   ],
   "source": [
    "df1['text'],df1['label'] = zip(*df1.apply(lambda x: split_text_on_tabs(x[\"column\"]), axis=1))\n",
    "df1"
   ]
  },
  {
   "cell_type": "code",
   "execution_count": 20,
   "metadata": {},
   "outputs": [],
   "source": [
    "df1.drop('column',axis = 1,inplace = True)"
   ]
  },
  {
   "cell_type": "code",
   "execution_count": 21,
   "metadata": {},
   "outputs": [
    {
     "data": {
      "text/html": [
       "<div>\n",
       "<style scoped>\n",
       "    .dataframe tbody tr th:only-of-type {\n",
       "        vertical-align: middle;\n",
       "    }\n",
       "\n",
       "    .dataframe tbody tr th {\n",
       "        vertical-align: top;\n",
       "    }\n",
       "\n",
       "    .dataframe thead th {\n",
       "        text-align: right;\n",
       "    }\n",
       "</style>\n",
       "<table border=\"1\" class=\"dataframe\">\n",
       "  <thead>\n",
       "    <tr style=\"text-align: right;\">\n",
       "      <th></th>\n",
       "      <th>text</th>\n",
       "      <th>label</th>\n",
       "    </tr>\n",
       "  </thead>\n",
       "  <tbody>\n",
       "    <tr>\n",
       "      <th>0</th>\n",
       "      <td>Tik tok alli jagala madtidralla adra baggenu o...</td>\n",
       "      <td>Not_offensive</td>\n",
       "    </tr>\n",
       "    <tr>\n",
       "      <th>1</th>\n",
       "      <td>Anyone from kerala here</td>\n",
       "      <td>not-Kannada</td>\n",
       "    </tr>\n",
       "    <tr>\n",
       "      <th>2</th>\n",
       "      <td>Movie rerelease madi plss</td>\n",
       "      <td>Not_offensive</td>\n",
       "    </tr>\n",
       "    <tr>\n",
       "      <th>3</th>\n",
       "      <td>Amazon prime alli bittidira....yella manele no...</td>\n",
       "      <td>Not_offensive</td>\n",
       "    </tr>\n",
       "    <tr>\n",
       "      <th>4</th>\n",
       "      <td>Guru sure news nanu tik tok dawn lod madeda ya...</td>\n",
       "      <td>Not_offensive</td>\n",
       "    </tr>\n",
       "    <tr>\n",
       "      <th>...</th>\n",
       "      <td>...</td>\n",
       "      <td>...</td>\n",
       "    </tr>\n",
       "    <tr>\n",
       "      <th>6212</th>\n",
       "      <td>Dubb Full movie in telugu</td>\n",
       "      <td>Not_offensive</td>\n",
       "    </tr>\n",
       "    <tr>\n",
       "      <th>6213</th>\n",
       "      <td>Mostly nimma mate keli tic tok ban agirbeku ಅಣ...</td>\n",
       "      <td>Not_offensive</td>\n",
       "    </tr>\n",
       "    <tr>\n",
       "      <th>6214</th>\n",
       "      <td>Sir Nimm Mathininda Navu Kalibeku Agirodu Ennu...</td>\n",
       "      <td>Not_offensive</td>\n",
       "    </tr>\n",
       "    <tr>\n",
       "      <th>6215</th>\n",
       "      <td>ನನಗು same ಹಂಗೇ ಅನ್ನಿಸ್ತು</td>\n",
       "      <td>Not_offensive</td>\n",
       "    </tr>\n",
       "    <tr>\n",
       "      <th>6216</th>\n",
       "      <td>Flare gun at 1:30</td>\n",
       "      <td>not-Kannada</td>\n",
       "    </tr>\n",
       "  </tbody>\n",
       "</table>\n",
       "<p>6217 rows × 2 columns</p>\n",
       "</div>"
      ],
      "text/plain": [
       "                                                   text          label\n",
       "0     Tik tok alli jagala madtidralla adra baggenu o...  Not_offensive\n",
       "1                               Anyone from kerala here    not-Kannada\n",
       "2                             Movie rerelease madi plss  Not_offensive\n",
       "3     Amazon prime alli bittidira....yella manele no...  Not_offensive\n",
       "4     Guru sure news nanu tik tok dawn lod madeda ya...  Not_offensive\n",
       "...                                                 ...            ...\n",
       "6212                          Dubb Full movie in telugu  Not_offensive\n",
       "6213  Mostly nimma mate keli tic tok ban agirbeku ಅಣ...  Not_offensive\n",
       "6214  Sir Nimm Mathininda Navu Kalibeku Agirodu Ennu...  Not_offensive\n",
       "6215                           ನನಗು same ಹಂಗೇ ಅನ್ನಿಸ್ತು  Not_offensive\n",
       "6216                                  Flare gun at 1:30    not-Kannada\n",
       "\n",
       "[6217 rows x 2 columns]"
      ]
     },
     "execution_count": 21,
     "metadata": {},
     "output_type": "execute_result"
    }
   ],
   "source": [
    "df1"
   ]
  },
  {
   "cell_type": "code",
   "execution_count": 22,
   "metadata": {},
   "outputs": [
    {
     "data": {
      "text/plain": [
       "Not_offensive                           3544\n",
       "not-Kannada                             1522\n",
       "Offensive_Targeted_Insult_Individual     487\n",
       "Offensive_Targeted_Insult_Group          329\n",
       "Offensive_Untargetede                    212\n",
       "Offensive_Targeted_Insult_Other          123\n",
       "Name: label, dtype: int64"
      ]
     },
     "execution_count": 22,
     "metadata": {},
     "output_type": "execute_result"
    }
   ],
   "source": [
    "df1['label'].value_counts()"
   ]
  },
  {
   "cell_type": "code",
   "execution_count": 23,
   "metadata": {},
   "outputs": [
    {
     "data": {
      "text/plain": [
       "<AxesSubplot:xlabel='label', ylabel='count'>"
      ]
     },
     "execution_count": 23,
     "metadata": {},
     "output_type": "execute_result"
    },
    {
     "data": {
      "image/png": "[encoded data removed]",
      "text/plain": [
       "<Figure size 1440x1152 with 1 Axes>"
      ]
     },
     "metadata": {
      "needs_background": "light"
     },
     "output_type": "display_data"
    }
   ],
   "source": [
    "plt.figure(figsize = (20,16))\n",
    "sns.countplot(x = df1['label'])"
   ]
  },
  {
   "cell_type": "code",
   "execution_count": 24,
   "metadata": {},
   "outputs": [],
   "source": [
    "df1.to_csv(os.path.join(dataset_dir,'kannada_offensive_train_corrected.csv'),index = False)"
   ]
  },
  {
   "cell_type": "code",
   "execution_count": 25,
   "metadata": {},
   "outputs": [
    {
     "data": {
      "text/html": [
       "<div>\n",
       "<style scoped>\n",
       "    .dataframe tbody tr th:only-of-type {\n",
       "        vertical-align: middle;\n",
       "    }\n",
       "\n",
       "    .dataframe tbody tr th {\n",
       "        vertical-align: top;\n",
       "    }\n",
       "\n",
       "    .dataframe thead th {\n",
       "        text-align: right;\n",
       "    }\n",
       "</style>\n",
       "<table border=\"1\" class=\"dataframe\">\n",
       "  <thead>\n",
       "    <tr style=\"text-align: right;\">\n",
       "      <th></th>\n",
       "      <th>column</th>\n",
       "    </tr>\n",
       "  </thead>\n",
       "  <tbody>\n",
       "    <tr>\n",
       "      <th>0</th>\n",
       "      <td>100 days pakka\\tNot_offensive</td>\n",
       "    </tr>\n",
       "    <tr>\n",
       "      <th>1</th>\n",
       "      <td>Super sir\\tnot-Kannada</td>\n",
       "    </tr>\n",
       "    <tr>\n",
       "      <th>2</th>\n",
       "      <td>Hands up\\tnot-Kannada</td>\n",
       "    </tr>\n",
       "    <tr>\n",
       "      <th>3</th>\n",
       "      <td>Sari nivu video na roast madi adre madvaga pub...</td>\n",
       "    </tr>\n",
       "    <tr>\n",
       "      <th>4</th>\n",
       "      <td>Krishana  shapa tatteleebeku\\tNot_offensive</td>\n",
       "    </tr>\n",
       "    <tr>\n",
       "      <th>...</th>\n",
       "      <td>...</td>\n",
       "    </tr>\n",
       "    <tr>\n",
       "      <th>772</th>\n",
       "      <td>Nanu kuda direction course kalita iddene...nim...</td>\n",
       "    </tr>\n",
       "    <tr>\n",
       "      <th>773</th>\n",
       "      <td>Ninige bere kelsa ilvaa madoke\\tOffensive_Targ...</td>\n",
       "    </tr>\n",
       "    <tr>\n",
       "      <th>774</th>\n",
       "      <td>മലയാളീസ് ഹാൻഡ്‌സ് അപ്പ്‌\\tnot-Kannada</td>\n",
       "    </tr>\n",
       "    <tr>\n",
       "      <th>775</th>\n",
       "      <td>ದರ್ಶನ್ ಅಭಿಮಾನಿಗಳ ಕಡೆಯಿಂದ ಆಲ್ ದ ಬೆಸ್ಟ್ ಆಲ್ ದ ಬೆ...</td>\n",
       "    </tr>\n",
       "    <tr>\n",
       "      <th>776</th>\n",
       "      <td>ಕಥೆಯಲ್ಲಿ ದಮ್ ಇಲ್ಲ\\tOffensive_Targeted_Insult_G...</td>\n",
       "    </tr>\n",
       "  </tbody>\n",
       "</table>\n",
       "<p>777 rows × 1 columns</p>\n",
       "</div>"
      ],
      "text/plain": [
       "                                                column\n",
       "0                        100 days pakka\\tNot_offensive\n",
       "1                               Super sir\\tnot-Kannada\n",
       "2                                Hands up\\tnot-Kannada\n",
       "3    Sari nivu video na roast madi adre madvaga pub...\n",
       "4          Krishana  shapa tatteleebeku\\tNot_offensive\n",
       "..                                                 ...\n",
       "772  Nanu kuda direction course kalita iddene...nim...\n",
       "773  Ninige bere kelsa ilvaa madoke\\tOffensive_Targ...\n",
       "774              മലയാളീസ് ഹാൻഡ്‌സ് അപ്പ്‌\\tnot-Kannada\n",
       "775  ದರ್ಶನ್ ಅಭಿಮಾನಿಗಳ ಕಡೆಯಿಂದ ಆಲ್ ದ ಬೆಸ್ಟ್ ಆಲ್ ದ ಬೆ...\n",
       "776  ಕಥೆಯಲ್ಲಿ ದಮ್ ಇಲ್ಲ\\tOffensive_Targeted_Insult_G...\n",
       "\n",
       "[777 rows x 1 columns]"
      ]
     },
     "execution_count": 25,
     "metadata": {},
     "output_type": "execute_result"
    }
   ],
   "source": [
    "df2 = pd.read_csv(os.path.join(dataset_dir,'kannada_offensive_dev.csv'))\n",
    "df2"
   ]
  },
  {
   "cell_type": "code",
   "execution_count": 26,
   "metadata": {},
   "outputs": [
    {
     "name": "stdout",
     "output_type": "stream",
     "text": [
      "776\n"
     ]
    }
   ],
   "source": [
    "df = df2['column'].apply(count_tabs_on_text)\n",
    "for i,val in enumerate(df):\n",
    "    if val!=1:\n",
    "        print(i)"
   ]
  },
  {
   "cell_type": "code",
   "execution_count": 27,
   "metadata": {},
   "outputs": [
    {
     "data": {
      "text/plain": [
       "'ಕಥೆಯಲ್ಲಿ ದಮ್ ಇಲ್ಲ\\tOffensive_Targeted_Insult_Group\\t'"
      ]
     },
     "execution_count": 27,
     "metadata": {},
     "output_type": "execute_result"
    }
   ],
   "source": [
    "df2.iloc[776]['column'] "
   ]
  },
  {
   "cell_type": "code",
   "execution_count": 28,
   "metadata": {},
   "outputs": [],
   "source": [
    "df2.loc[776:'column'] = 'ಕಥೆಯಲ್ಲಿ ದಮ್ ಇಲ್ಲ\\tOffensive_Targeted_Insult_Group'"
   ]
  },
  {
   "cell_type": "code",
   "execution_count": 29,
   "metadata": {},
   "outputs": [],
   "source": [
    "df = df2['column'].apply(count_tabs_on_text)\n",
    "for i,val in enumerate(df):\n",
    "    if val!=1:\n",
    "        print(i)"
   ]
  },
  {
   "cell_type": "code",
   "execution_count": 30,
   "metadata": {},
   "outputs": [
    {
     "data": {
      "text/plain": [
       "'ಕಥೆಯಲ್ಲಿ ದಮ್ ಇಲ್ಲ\\tOffensive_Targeted_Insult_Group'"
      ]
     },
     "execution_count": 30,
     "metadata": {},
     "output_type": "execute_result"
    }
   ],
   "source": [
    "df2.iloc[776].column"
   ]
  },
  {
   "cell_type": "code",
   "execution_count": 31,
   "metadata": {},
   "outputs": [
    {
     "data": {
      "text/html": [
       "<div>\n",
       "<style scoped>\n",
       "    .dataframe tbody tr th:only-of-type {\n",
       "        vertical-align: middle;\n",
       "    }\n",
       "\n",
       "    .dataframe tbody tr th {\n",
       "        vertical-align: top;\n",
       "    }\n",
       "\n",
       "    .dataframe thead th {\n",
       "        text-align: right;\n",
       "    }\n",
       "</style>\n",
       "<table border=\"1\" class=\"dataframe\">\n",
       "  <thead>\n",
       "    <tr style=\"text-align: right;\">\n",
       "      <th></th>\n",
       "      <th>column</th>\n",
       "      <th>text</th>\n",
       "      <th>label</th>\n",
       "    </tr>\n",
       "  </thead>\n",
       "  <tbody>\n",
       "    <tr>\n",
       "      <th>0</th>\n",
       "      <td>100 days pakka\\tNot_offensive</td>\n",
       "      <td>100 days pakka</td>\n",
       "      <td>Not_offensive</td>\n",
       "    </tr>\n",
       "    <tr>\n",
       "      <th>1</th>\n",
       "      <td>Super sir\\tnot-Kannada</td>\n",
       "      <td>Super sir</td>\n",
       "      <td>not-Kannada</td>\n",
       "    </tr>\n",
       "    <tr>\n",
       "      <th>2</th>\n",
       "      <td>Hands up\\tnot-Kannada</td>\n",
       "      <td>Hands up</td>\n",
       "      <td>not-Kannada</td>\n",
       "    </tr>\n",
       "    <tr>\n",
       "      <th>3</th>\n",
       "      <td>Sari nivu video na roast madi adre madvaga pub...</td>\n",
       "      <td>Sari nivu video na roast madi adre madvaga pub...</td>\n",
       "      <td>Not_offensive</td>\n",
       "    </tr>\n",
       "    <tr>\n",
       "      <th>4</th>\n",
       "      <td>Krishana  shapa tatteleebeku\\tNot_offensive</td>\n",
       "      <td>Krishana  shapa tatteleebeku</td>\n",
       "      <td>Not_offensive</td>\n",
       "    </tr>\n",
       "    <tr>\n",
       "      <th>...</th>\n",
       "      <td>...</td>\n",
       "      <td>...</td>\n",
       "      <td>...</td>\n",
       "    </tr>\n",
       "    <tr>\n",
       "      <th>772</th>\n",
       "      <td>Nanu kuda direction course kalita iddene...nim...</td>\n",
       "      <td>Nanu kuda direction course kalita iddene...nim...</td>\n",
       "      <td>Not_offensive</td>\n",
       "    </tr>\n",
       "    <tr>\n",
       "      <th>773</th>\n",
       "      <td>Ninige bere kelsa ilvaa madoke\\tOffensive_Targ...</td>\n",
       "      <td>Ninige bere kelsa ilvaa madoke</td>\n",
       "      <td>Offensive_Targeted_Insult_Individual</td>\n",
       "    </tr>\n",
       "    <tr>\n",
       "      <th>774</th>\n",
       "      <td>മലയാളീസ് ഹാൻഡ്‌സ് അപ്പ്‌\\tnot-Kannada</td>\n",
       "      <td>മലയാളീസ് ഹാൻഡ്‌സ് അപ്പ്‌</td>\n",
       "      <td>not-Kannada</td>\n",
       "    </tr>\n",
       "    <tr>\n",
       "      <th>775</th>\n",
       "      <td>ದರ್ಶನ್ ಅಭಿಮಾನಿಗಳ ಕಡೆಯಿಂದ ಆಲ್ ದ ಬೆಸ್ಟ್ ಆಲ್ ದ ಬೆ...</td>\n",
       "      <td>ದರ್ಶನ್ ಅಭಿಮಾನಿಗಳ ಕಡೆಯಿಂದ ಆಲ್ ದ ಬೆಸ್ಟ್ ಆಲ್ ದ ಬೆ...</td>\n",
       "      <td>Not_offensive</td>\n",
       "    </tr>\n",
       "    <tr>\n",
       "      <th>776</th>\n",
       "      <td>ಕಥೆಯಲ್ಲಿ ದಮ್ ಇಲ್ಲ\\tOffensive_Targeted_Insult_G...</td>\n",
       "      <td>ಕಥೆಯಲ್ಲಿ ದಮ್ ಇಲ್ಲ</td>\n",
       "      <td>Offensive_Targeted_Insult_Group</td>\n",
       "    </tr>\n",
       "  </tbody>\n",
       "</table>\n",
       "<p>777 rows × 3 columns</p>\n",
       "</div>"
      ],
      "text/plain": [
       "                                                column  \\\n",
       "0                        100 days pakka\\tNot_offensive   \n",
       "1                               Super sir\\tnot-Kannada   \n",
       "2                                Hands up\\tnot-Kannada   \n",
       "3    Sari nivu video na roast madi adre madvaga pub...   \n",
       "4          Krishana  shapa tatteleebeku\\tNot_offensive   \n",
       "..                                                 ...   \n",
       "772  Nanu kuda direction course kalita iddene...nim...   \n",
       "773  Ninige bere kelsa ilvaa madoke\\tOffensive_Targ...   \n",
       "774              മലയാളീസ് ഹാൻഡ്‌സ് അപ്പ്‌\\tnot-Kannada   \n",
       "775  ದರ್ಶನ್ ಅಭಿಮಾನಿಗಳ ಕಡೆಯಿಂದ ಆಲ್ ದ ಬೆಸ್ಟ್ ಆಲ್ ದ ಬೆ...   \n",
       "776  ಕಥೆಯಲ್ಲಿ ದಮ್ ಇಲ್ಲ\\tOffensive_Targeted_Insult_G...   \n",
       "\n",
       "                                                  text  \\\n",
       "0                                       100 days pakka   \n",
       "1                                            Super sir   \n",
       "2                                             Hands up   \n",
       "3    Sari nivu video na roast madi adre madvaga pub...   \n",
       "4                         Krishana  shapa tatteleebeku   \n",
       "..                                                 ...   \n",
       "772  Nanu kuda direction course kalita iddene...nim...   \n",
       "773                     Ninige bere kelsa ilvaa madoke   \n",
       "774                           മലയാളീസ് ഹാൻഡ്‌സ് അപ്പ്‌   \n",
       "775  ದರ್ಶನ್ ಅಭಿಮಾನಿಗಳ ಕಡೆಯಿಂದ ಆಲ್ ದ ಬೆಸ್ಟ್ ಆಲ್ ದ ಬೆ...   \n",
       "776                                  ಕಥೆಯಲ್ಲಿ ದಮ್ ಇಲ್ಲ   \n",
       "\n",
       "                                    label  \n",
       "0                           Not_offensive  \n",
       "1                             not-Kannada  \n",
       "2                             not-Kannada  \n",
       "3                           Not_offensive  \n",
       "4                           Not_offensive  \n",
       "..                                    ...  \n",
       "772                         Not_offensive  \n",
       "773  Offensive_Targeted_Insult_Individual  \n",
       "774                           not-Kannada  \n",
       "775                         Not_offensive  \n",
       "776       Offensive_Targeted_Insult_Group  \n",
       "\n",
       "[777 rows x 3 columns]"
      ]
     },
     "execution_count": 31,
     "metadata": {},
     "output_type": "execute_result"
    }
   ],
   "source": [
    "df2['text'],df2['label'] = zip(*df2.apply(lambda x: split_text_on_tabs(x[\"column\"]), axis=1))\n",
    "df2"
   ]
  },
  {
   "cell_type": "code",
   "execution_count": 32,
   "metadata": {},
   "outputs": [],
   "source": [
    "df2.drop('column',axis = 1,inplace = True)"
   ]
  },
  {
   "cell_type": "code",
   "execution_count": 33,
   "metadata": {},
   "outputs": [
    {
     "data": {
      "text/html": [
       "<div>\n",
       "<style scoped>\n",
       "    .dataframe tbody tr th:only-of-type {\n",
       "        vertical-align: middle;\n",
       "    }\n",
       "\n",
       "    .dataframe tbody tr th {\n",
       "        vertical-align: top;\n",
       "    }\n",
       "\n",
       "    .dataframe thead th {\n",
       "        text-align: right;\n",
       "    }\n",
       "</style>\n",
       "<table border=\"1\" class=\"dataframe\">\n",
       "  <thead>\n",
       "    <tr style=\"text-align: right;\">\n",
       "      <th></th>\n",
       "      <th>text</th>\n",
       "      <th>label</th>\n",
       "    </tr>\n",
       "  </thead>\n",
       "  <tbody>\n",
       "    <tr>\n",
       "      <th>0</th>\n",
       "      <td>100 days pakka</td>\n",
       "      <td>Not_offensive</td>\n",
       "    </tr>\n",
       "    <tr>\n",
       "      <th>1</th>\n",
       "      <td>Super sir</td>\n",
       "      <td>not-Kannada</td>\n",
       "    </tr>\n",
       "    <tr>\n",
       "      <th>2</th>\n",
       "      <td>Hands up</td>\n",
       "      <td>not-Kannada</td>\n",
       "    </tr>\n",
       "    <tr>\n",
       "      <th>3</th>\n",
       "      <td>Sari nivu video na roast madi adre madvaga pub...</td>\n",
       "      <td>Not_offensive</td>\n",
       "    </tr>\n",
       "    <tr>\n",
       "      <th>4</th>\n",
       "      <td>Krishana  shapa tatteleebeku</td>\n",
       "      <td>Not_offensive</td>\n",
       "    </tr>\n",
       "    <tr>\n",
       "      <th>...</th>\n",
       "      <td>...</td>\n",
       "      <td>...</td>\n",
       "    </tr>\n",
       "    <tr>\n",
       "      <th>772</th>\n",
       "      <td>Nanu kuda direction course kalita iddene...nim...</td>\n",
       "      <td>Not_offensive</td>\n",
       "    </tr>\n",
       "    <tr>\n",
       "      <th>773</th>\n",
       "      <td>Ninige bere kelsa ilvaa madoke</td>\n",
       "      <td>Offensive_Targeted_Insult_Individual</td>\n",
       "    </tr>\n",
       "    <tr>\n",
       "      <th>774</th>\n",
       "      <td>മലയാളീസ് ഹാൻഡ്‌സ് അപ്പ്‌</td>\n",
       "      <td>not-Kannada</td>\n",
       "    </tr>\n",
       "    <tr>\n",
       "      <th>775</th>\n",
       "      <td>ದರ್ಶನ್ ಅಭಿಮಾನಿಗಳ ಕಡೆಯಿಂದ ಆಲ್ ದ ಬೆಸ್ಟ್ ಆಲ್ ದ ಬೆ...</td>\n",
       "      <td>Not_offensive</td>\n",
       "    </tr>\n",
       "    <tr>\n",
       "      <th>776</th>\n",
       "      <td>ಕಥೆಯಲ್ಲಿ ದಮ್ ಇಲ್ಲ</td>\n",
       "      <td>Offensive_Targeted_Insult_Group</td>\n",
       "    </tr>\n",
       "  </tbody>\n",
       "</table>\n",
       "<p>777 rows × 2 columns</p>\n",
       "</div>"
      ],
      "text/plain": [
       "                                                  text  \\\n",
       "0                                       100 days pakka   \n",
       "1                                            Super sir   \n",
       "2                                             Hands up   \n",
       "3    Sari nivu video na roast madi adre madvaga pub...   \n",
       "4                         Krishana  shapa tatteleebeku   \n",
       "..                                                 ...   \n",
       "772  Nanu kuda direction course kalita iddene...nim...   \n",
       "773                     Ninige bere kelsa ilvaa madoke   \n",
       "774                           മലയാളീസ് ഹാൻഡ്‌സ് അപ്പ്‌   \n",
       "775  ದರ್ಶನ್ ಅಭಿಮಾನಿಗಳ ಕಡೆಯಿಂದ ಆಲ್ ದ ಬೆಸ್ಟ್ ಆಲ್ ದ ಬೆ...   \n",
       "776                                  ಕಥೆಯಲ್ಲಿ ದಮ್ ಇಲ್ಲ   \n",
       "\n",
       "                                    label  \n",
       "0                           Not_offensive  \n",
       "1                             not-Kannada  \n",
       "2                             not-Kannada  \n",
       "3                           Not_offensive  \n",
       "4                           Not_offensive  \n",
       "..                                    ...  \n",
       "772                         Not_offensive  \n",
       "773  Offensive_Targeted_Insult_Individual  \n",
       "774                           not-Kannada  \n",
       "775                         Not_offensive  \n",
       "776       Offensive_Targeted_Insult_Group  \n",
       "\n",
       "[777 rows x 2 columns]"
      ]
     },
     "execution_count": 33,
     "metadata": {},
     "output_type": "execute_result"
    }
   ],
   "source": [
    "df2"
   ]
  },
  {
   "cell_type": "code",
   "execution_count": 34,
   "metadata": {},
   "outputs": [
    {
     "data": {
      "text/plain": [
       "Not_offensive                           426\n",
       "not-Kannada                             191\n",
       "Offensive_Targeted_Insult_Individual     66\n",
       "Offensive_Targeted_Insult_Group          45\n",
       "Offensive_Untargetede                    33\n",
       "Offensive_Targeted_Insult_Other          16\n",
       "Name: label, dtype: int64"
      ]
     },
     "execution_count": 34,
     "metadata": {},
     "output_type": "execute_result"
    }
   ],
   "source": [
    "df2['label'].value_counts()"
   ]
  },
  {
   "cell_type": "code",
   "execution_count": 35,
   "metadata": {},
   "outputs": [
    {
     "data": {
      "text/plain": [
       "<AxesSubplot:xlabel='label', ylabel='count'>"
      ]
     },
     "execution_count": 35,
     "metadata": {},
     "output_type": "execute_result"
    },
    {
     "data": {
      "image/png": "[encoded data removed]",
      "text/plain": [
       "<Figure size 1440x1152 with 1 Axes>"
      ]
     },
     "metadata": {
      "needs_background": "light"
     },
     "output_type": "display_data"
    }
   ],
   "source": [
    "plt.figure(figsize = (20,16))\n",
    "sns.countplot(x = df2['label'])"
   ]
  },
  {
   "cell_type": "code",
   "execution_count": 36,
   "metadata": {},
   "outputs": [],
   "source": [
    "df2.to_csv(os.path.join(dataset_dir,'kannada_offensive_dev_corrected.csv'),index = False)"
   ]
  },
  {
   "cell_type": "code",
   "execution_count": null,
   "metadata": {},
   "outputs": [],
   "source": []
  }
 ],
 "metadata": {
  "kernelspec": {
   "display_name": "Python 3",
   "language": "python",
   "name": "python3"
  },
  "language_info": {
   "codemirror_mode": {
    "name": "ipython",
    "version": 3
   },
   "file_extension": ".py",
   "mimetype": "text/x-python",
   "name": "python",
   "nbconvert_exporter": "python",
   "pygments_lexer": "ipython3",
   "version": "3.8.5"
  }
 },
 "nbformat": 4,
 "nbformat_minor": 4
}
