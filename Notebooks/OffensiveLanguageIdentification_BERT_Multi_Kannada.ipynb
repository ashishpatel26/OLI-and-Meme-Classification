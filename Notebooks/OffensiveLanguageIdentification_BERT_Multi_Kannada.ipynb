{
  "nbformat": 4,
  "nbformat_minor": 0,
  "metadata": {
    "colab": {
      "name": "OffensiveLanguageIdentification_BERT_Multi_Kannada.ipynb",
      "provenance": [],
      "toc_visible": true
    },
    "kernelspec": {
      "display_name": "Python 3",
      "name": "python3"
    },
    "widgets": {
      "application/vnd.jupyter.widget-state+json": {
        "dcd5b50a3fc94104ba225609da572e42": {
          "model_module": "@jupyter-widgets/controls",
          "model_name": "HBoxModel",
          "state": {
            "_view_name": "HBoxView",
            "_dom_classes": [],
            "_model_name": "HBoxModel",
            "_view_module": "@jupyter-widgets/controls",
            "_model_module_version": "1.5.0",
            "_view_count": null,
            "_view_module_version": "1.5.0",
            "box_style": "",
            "layout": "IPY_MODEL_746d690b91664c34ab8bbf3512723265",
            "_model_module": "@jupyter-widgets/controls",
            "children": [
              "IPY_MODEL_c8fcd002c4174803acc40c0eddbdd06c",
              "IPY_MODEL_81f72518521e41048649fd7c6f78a768"
            ]
          }
        },
        "746d690b91664c34ab8bbf3512723265": {
          "model_module": "@jupyter-widgets/base",
          "model_name": "LayoutModel",
          "state": {
            "_view_name": "LayoutView",
            "grid_template_rows": null,
            "right": null,
            "justify_content": null,
            "_view_module": "@jupyter-widgets/base",
            "overflow": null,
            "_model_module_version": "1.2.0",
            "_view_count": null,
            "flex_flow": null,
            "width": null,
            "min_width": null,
            "border": null,
            "align_items": null,
            "bottom": null,
            "_model_module": "@jupyter-widgets/base",
            "top": null,
            "grid_column": null,
            "overflow_y": null,
            "overflow_x": null,
            "grid_auto_flow": null,
            "grid_area": null,
            "grid_template_columns": null,
            "flex": null,
            "_model_name": "LayoutModel",
            "justify_items": null,
            "grid_row": null,
            "max_height": null,
            "align_content": null,
            "visibility": null,
            "align_self": null,
            "height": null,
            "min_height": null,
            "padding": null,
            "grid_auto_rows": null,
            "grid_gap": null,
            "max_width": null,
            "order": null,
            "_view_module_version": "1.2.0",
            "grid_template_areas": null,
            "object_position": null,
            "object_fit": null,
            "grid_auto_columns": null,
            "margin": null,
            "display": null,
            "left": null
          }
        },
        "c8fcd002c4174803acc40c0eddbdd06c": {
          "model_module": "@jupyter-widgets/controls",
          "model_name": "FloatProgressModel",
          "state": {
            "_view_name": "ProgressView",
            "style": "IPY_MODEL_a66356e939c14c95bb4bdd13d4d8d252",
            "_dom_classes": [],
            "description": "Downloading: 100%",
            "_model_name": "FloatProgressModel",
            "bar_style": "success",
            "max": 625,
            "_view_module": "@jupyter-widgets/controls",
            "_model_module_version": "1.5.0",
            "value": 625,
            "_view_count": null,
            "_view_module_version": "1.5.0",
            "orientation": "horizontal",
            "min": 0,
            "description_tooltip": null,
            "_model_module": "@jupyter-widgets/controls",
            "layout": "IPY_MODEL_e88acac941764e23a4165d171a7fa95a"
          }
        },
        "81f72518521e41048649fd7c6f78a768": {
          "model_module": "@jupyter-widgets/controls",
          "model_name": "HTMLModel",
          "state": {
            "_view_name": "HTMLView",
            "style": "IPY_MODEL_f4ef11a59a84417db8f2f34aeb430b7d",
            "_dom_classes": [],
            "description": "",
            "_model_name": "HTMLModel",
            "placeholder": "​",
            "_view_module": "@jupyter-widgets/controls",
            "_model_module_version": "1.5.0",
            "value": " 625/625 [00:01&lt;00:00, 325B/s]",
            "_view_count": null,
            "_view_module_version": "1.5.0",
            "description_tooltip": null,
            "_model_module": "@jupyter-widgets/controls",
            "layout": "IPY_MODEL_6ce0a93bb2694210951dabcad479d7a6"
          }
        },
        "a66356e939c14c95bb4bdd13d4d8d252": {
          "model_module": "@jupyter-widgets/controls",
          "model_name": "ProgressStyleModel",
          "state": {
            "_view_name": "StyleView",
            "_model_name": "ProgressStyleModel",
            "description_width": "initial",
            "_view_module": "@jupyter-widgets/base",
            "_model_module_version": "1.5.0",
            "_view_count": null,
            "_view_module_version": "1.2.0",
            "bar_color": null,
            "_model_module": "@jupyter-widgets/controls"
          }
        },
        "e88acac941764e23a4165d171a7fa95a": {
          "model_module": "@jupyter-widgets/base",
          "model_name": "LayoutModel",
          "state": {
            "_view_name": "LayoutView",
            "grid_template_rows": null,
            "right": null,
            "justify_content": null,
            "_view_module": "@jupyter-widgets/base",
            "overflow": null,
            "_model_module_version": "1.2.0",
            "_view_count": null,
            "flex_flow": null,
            "width": null,
            "min_width": null,
            "border": null,
            "align_items": null,
            "bottom": null,
            "_model_module": "@jupyter-widgets/base",
            "top": null,
            "grid_column": null,
            "overflow_y": null,
            "overflow_x": null,
            "grid_auto_flow": null,
            "grid_area": null,
            "grid_template_columns": null,
            "flex": null,
            "_model_name": "LayoutModel",
            "justify_items": null,
            "grid_row": null,
            "max_height": null,
            "align_content": null,
            "visibility": null,
            "align_self": null,
            "height": null,
            "min_height": null,
            "padding": null,
            "grid_auto_rows": null,
            "grid_gap": null,
            "max_width": null,
            "order": null,
            "_view_module_version": "1.2.0",
            "grid_template_areas": null,
            "object_position": null,
            "object_fit": null,
            "grid_auto_columns": null,
            "margin": null,
            "display": null,
            "left": null
          }
        },
        "f4ef11a59a84417db8f2f34aeb430b7d": {
          "model_module": "@jupyter-widgets/controls",
          "model_name": "DescriptionStyleModel",
          "state": {
            "_view_name": "StyleView",
            "_model_name": "DescriptionStyleModel",
            "description_width": "",
            "_view_module": "@jupyter-widgets/base",
            "_model_module_version": "1.5.0",
            "_view_count": null,
            "_view_module_version": "1.2.0",
            "_model_module": "@jupyter-widgets/controls"
          }
        },
        "6ce0a93bb2694210951dabcad479d7a6": {
          "model_module": "@jupyter-widgets/base",
          "model_name": "LayoutModel",
          "state": {
            "_view_name": "LayoutView",
            "grid_template_rows": null,
            "right": null,
            "justify_content": null,
            "_view_module": "@jupyter-widgets/base",
            "overflow": null,
            "_model_module_version": "1.2.0",
            "_view_count": null,
            "flex_flow": null,
            "width": null,
            "min_width": null,
            "border": null,
            "align_items": null,
            "bottom": null,
            "_model_module": "@jupyter-widgets/base",
            "top": null,
            "grid_column": null,
            "overflow_y": null,
            "overflow_x": null,
            "grid_auto_flow": null,
            "grid_area": null,
            "grid_template_columns": null,
            "flex": null,
            "_model_name": "LayoutModel",
            "justify_items": null,
            "grid_row": null,
            "max_height": null,
            "align_content": null,
            "visibility": null,
            "align_self": null,
            "height": null,
            "min_height": null,
            "padding": null,
            "grid_auto_rows": null,
            "grid_gap": null,
            "max_width": null,
            "order": null,
            "_view_module_version": "1.2.0",
            "grid_template_areas": null,
            "object_position": null,
            "object_fit": null,
            "grid_auto_columns": null,
            "margin": null,
            "display": null,
            "left": null
          }
        },
        "dd6344620bd84aa78236bd645eb718c1": {
          "model_module": "@jupyter-widgets/controls",
          "model_name": "HBoxModel",
          "state": {
            "_view_name": "HBoxView",
            "_dom_classes": [],
            "_model_name": "HBoxModel",
            "_view_module": "@jupyter-widgets/controls",
            "_model_module_version": "1.5.0",
            "_view_count": null,
            "_view_module_version": "1.5.0",
            "box_style": "",
            "layout": "IPY_MODEL_4cb0ff33599249609b636ddfd194bc42",
            "_model_module": "@jupyter-widgets/controls",
            "children": [
              "IPY_MODEL_629c4a8cb7724a808e27a8cadf2abc6d",
              "IPY_MODEL_62add678babf4350a63a83cca2f799fd"
            ]
          }
        },
        "4cb0ff33599249609b636ddfd194bc42": {
          "model_module": "@jupyter-widgets/base",
          "model_name": "LayoutModel",
          "state": {
            "_view_name": "LayoutView",
            "grid_template_rows": null,
            "right": null,
            "justify_content": null,
            "_view_module": "@jupyter-widgets/base",
            "overflow": null,
            "_model_module_version": "1.2.0",
            "_view_count": null,
            "flex_flow": null,
            "width": null,
            "min_width": null,
            "border": null,
            "align_items": null,
            "bottom": null,
            "_model_module": "@jupyter-widgets/base",
            "top": null,
            "grid_column": null,
            "overflow_y": null,
            "overflow_x": null,
            "grid_auto_flow": null,
            "grid_area": null,
            "grid_template_columns": null,
            "flex": null,
            "_model_name": "LayoutModel",
            "justify_items": null,
            "grid_row": null,
            "max_height": null,
            "align_content": null,
            "visibility": null,
            "align_self": null,
            "height": null,
            "min_height": null,
            "padding": null,
            "grid_auto_rows": null,
            "grid_gap": null,
            "max_width": null,
            "order": null,
            "_view_module_version": "1.2.0",
            "grid_template_areas": null,
            "object_position": null,
            "object_fit": null,
            "grid_auto_columns": null,
            "margin": null,
            "display": null,
            "left": null
          }
        },
        "629c4a8cb7724a808e27a8cadf2abc6d": {
          "model_module": "@jupyter-widgets/controls",
          "model_name": "FloatProgressModel",
          "state": {
            "_view_name": "ProgressView",
            "style": "IPY_MODEL_7f16c03da788431da660976bd6196043",
            "_dom_classes": [],
            "description": "Downloading: 100%",
            "_model_name": "FloatProgressModel",
            "bar_style": "success",
            "max": 995526,
            "_view_module": "@jupyter-widgets/controls",
            "_model_module_version": "1.5.0",
            "value": 995526,
            "_view_count": null,
            "_view_module_version": "1.5.0",
            "orientation": "horizontal",
            "min": 0,
            "description_tooltip": null,
            "_model_module": "@jupyter-widgets/controls",
            "layout": "IPY_MODEL_210b59606a9247c690cba121dd6bad7c"
          }
        },
        "62add678babf4350a63a83cca2f799fd": {
          "model_module": "@jupyter-widgets/controls",
          "model_name": "HTMLModel",
          "state": {
            "_view_name": "HTMLView",
            "style": "IPY_MODEL_5b11bac8fddb4f39876647f35c0f274e",
            "_dom_classes": [],
            "description": "",
            "_model_name": "HTMLModel",
            "placeholder": "​",
            "_view_module": "@jupyter-widgets/controls",
            "_model_module_version": "1.5.0",
            "value": " 996k/996k [00:01&lt;00:00, 549kB/s]",
            "_view_count": null,
            "_view_module_version": "1.5.0",
            "description_tooltip": null,
            "_model_module": "@jupyter-widgets/controls",
            "layout": "IPY_MODEL_b084a0d7de0848a78dc3f6e809145cbb"
          }
        },
        "7f16c03da788431da660976bd6196043": {
          "model_module": "@jupyter-widgets/controls",
          "model_name": "ProgressStyleModel",
          "state": {
            "_view_name": "StyleView",
            "_model_name": "ProgressStyleModel",
            "description_width": "initial",
            "_view_module": "@jupyter-widgets/base",
            "_model_module_version": "1.5.0",
            "_view_count": null,
            "_view_module_version": "1.2.0",
            "bar_color": null,
            "_model_module": "@jupyter-widgets/controls"
          }
        },
        "210b59606a9247c690cba121dd6bad7c": {
          "model_module": "@jupyter-widgets/base",
          "model_name": "LayoutModel",
          "state": {
            "_view_name": "LayoutView",
            "grid_template_rows": null,
            "right": null,
            "justify_content": null,
            "_view_module": "@jupyter-widgets/base",
            "overflow": null,
            "_model_module_version": "1.2.0",
            "_view_count": null,
            "flex_flow": null,
            "width": null,
            "min_width": null,
            "border": null,
            "align_items": null,
            "bottom": null,
            "_model_module": "@jupyter-widgets/base",
            "top": null,
            "grid_column": null,
            "overflow_y": null,
            "overflow_x": null,
            "grid_auto_flow": null,
            "grid_area": null,
            "grid_template_columns": null,
            "flex": null,
            "_model_name": "LayoutModel",
            "justify_items": null,
            "grid_row": null,
            "max_height": null,
            "align_content": null,
            "visibility": null,
            "align_self": null,
            "height": null,
            "min_height": null,
            "padding": null,
            "grid_auto_rows": null,
            "grid_gap": null,
            "max_width": null,
            "order": null,
            "_view_module_version": "1.2.0",
            "grid_template_areas": null,
            "object_position": null,
            "object_fit": null,
            "grid_auto_columns": null,
            "margin": null,
            "display": null,
            "left": null
          }
        },
        "5b11bac8fddb4f39876647f35c0f274e": {
          "model_module": "@jupyter-widgets/controls",
          "model_name": "DescriptionStyleModel",
          "state": {
            "_view_name": "StyleView",
            "_model_name": "DescriptionStyleModel",
            "description_width": "",
            "_view_module": "@jupyter-widgets/base",
            "_model_module_version": "1.5.0",
            "_view_count": null,
            "_view_module_version": "1.2.0",
            "_model_module": "@jupyter-widgets/controls"
          }
        },
        "b084a0d7de0848a78dc3f6e809145cbb": {
          "model_module": "@jupyter-widgets/base",
          "model_name": "LayoutModel",
          "state": {
            "_view_name": "LayoutView",
            "grid_template_rows": null,
            "right": null,
            "justify_content": null,
            "_view_module": "@jupyter-widgets/base",
            "overflow": null,
            "_model_module_version": "1.2.0",
            "_view_count": null,
            "flex_flow": null,
            "width": null,
            "min_width": null,
            "border": null,
            "align_items": null,
            "bottom": null,
            "_model_module": "@jupyter-widgets/base",
            "top": null,
            "grid_column": null,
            "overflow_y": null,
            "overflow_x": null,
            "grid_auto_flow": null,
            "grid_area": null,
            "grid_template_columns": null,
            "flex": null,
            "_model_name": "LayoutModel",
            "justify_items": null,
            "grid_row": null,
            "max_height": null,
            "align_content": null,
            "visibility": null,
            "align_self": null,
            "height": null,
            "min_height": null,
            "padding": null,
            "grid_auto_rows": null,
            "grid_gap": null,
            "max_width": null,
            "order": null,
            "_view_module_version": "1.2.0",
            "grid_template_areas": null,
            "object_position": null,
            "object_fit": null,
            "grid_auto_columns": null,
            "margin": null,
            "display": null,
            "left": null
          }
        },
        "69b5a774b36e4fb8a28936a48c840a6d": {
          "model_module": "@jupyter-widgets/controls",
          "model_name": "HBoxModel",
          "state": {
            "_view_name": "HBoxView",
            "_dom_classes": [],
            "_model_name": "HBoxModel",
            "_view_module": "@jupyter-widgets/controls",
            "_model_module_version": "1.5.0",
            "_view_count": null,
            "_view_module_version": "1.5.0",
            "box_style": "",
            "layout": "IPY_MODEL_ae0f84267c4f4910beeac58a41ff314b",
            "_model_module": "@jupyter-widgets/controls",
            "children": [
              "IPY_MODEL_3c82f6e0c2c94a6684a13cc774938c8b",
              "IPY_MODEL_becf689a74094e1ba51839b26444d999"
            ]
          }
        },
        "ae0f84267c4f4910beeac58a41ff314b": {
          "model_module": "@jupyter-widgets/base",
          "model_name": "LayoutModel",
          "state": {
            "_view_name": "LayoutView",
            "grid_template_rows": null,
            "right": null,
            "justify_content": null,
            "_view_module": "@jupyter-widgets/base",
            "overflow": null,
            "_model_module_version": "1.2.0",
            "_view_count": null,
            "flex_flow": null,
            "width": null,
            "min_width": null,
            "border": null,
            "align_items": null,
            "bottom": null,
            "_model_module": "@jupyter-widgets/base",
            "top": null,
            "grid_column": null,
            "overflow_y": null,
            "overflow_x": null,
            "grid_auto_flow": null,
            "grid_area": null,
            "grid_template_columns": null,
            "flex": null,
            "_model_name": "LayoutModel",
            "justify_items": null,
            "grid_row": null,
            "max_height": null,
            "align_content": null,
            "visibility": null,
            "align_self": null,
            "height": null,
            "min_height": null,
            "padding": null,
            "grid_auto_rows": null,
            "grid_gap": null,
            "max_width": null,
            "order": null,
            "_view_module_version": "1.2.0",
            "grid_template_areas": null,
            "object_position": null,
            "object_fit": null,
            "grid_auto_columns": null,
            "margin": null,
            "display": null,
            "left": null
          }
        },
        "3c82f6e0c2c94a6684a13cc774938c8b": {
          "model_module": "@jupyter-widgets/controls",
          "model_name": "FloatProgressModel",
          "state": {
            "_view_name": "ProgressView",
            "style": "IPY_MODEL_dd16f6fce56f4452aab4bbda3dc4bc1e",
            "_dom_classes": [],
            "description": "Downloading: 100%",
            "_model_name": "FloatProgressModel",
            "bar_style": "success",
            "max": 1961828,
            "_view_module": "@jupyter-widgets/controls",
            "_model_module_version": "1.5.0",
            "value": 1961828,
            "_view_count": null,
            "_view_module_version": "1.5.0",
            "orientation": "horizontal",
            "min": 0,
            "description_tooltip": null,
            "_model_module": "@jupyter-widgets/controls",
            "layout": "IPY_MODEL_35f627c6dff84c14909d7587006e597f"
          }
        },
        "becf689a74094e1ba51839b26444d999": {
          "model_module": "@jupyter-widgets/controls",
          "model_name": "HTMLModel",
          "state": {
            "_view_name": "HTMLView",
            "style": "IPY_MODEL_c81d79be301142cea9224475411e0385",
            "_dom_classes": [],
            "description": "",
            "_model_name": "HTMLModel",
            "placeholder": "​",
            "_view_module": "@jupyter-widgets/controls",
            "_model_module_version": "1.5.0",
            "value": " 1.96M/1.96M [00:01&lt;00:00, 1.17MB/s]",
            "_view_count": null,
            "_view_module_version": "1.5.0",
            "description_tooltip": null,
            "_model_module": "@jupyter-widgets/controls",
            "layout": "IPY_MODEL_9068b85a02e340d6abf51e0d2e2048b1"
          }
        },
        "dd16f6fce56f4452aab4bbda3dc4bc1e": {
          "model_module": "@jupyter-widgets/controls",
          "model_name": "ProgressStyleModel",
          "state": {
            "_view_name": "StyleView",
            "_model_name": "ProgressStyleModel",
            "description_width": "initial",
            "_view_module": "@jupyter-widgets/base",
            "_model_module_version": "1.5.0",
            "_view_count": null,
            "_view_module_version": "1.2.0",
            "bar_color": null,
            "_model_module": "@jupyter-widgets/controls"
          }
        },
        "35f627c6dff84c14909d7587006e597f": {
          "model_module": "@jupyter-widgets/base",
          "model_name": "LayoutModel",
          "state": {
            "_view_name": "LayoutView",
            "grid_template_rows": null,
            "right": null,
            "justify_content": null,
            "_view_module": "@jupyter-widgets/base",
            "overflow": null,
            "_model_module_version": "1.2.0",
            "_view_count": null,
            "flex_flow": null,
            "width": null,
            "min_width": null,
            "border": null,
            "align_items": null,
            "bottom": null,
            "_model_module": "@jupyter-widgets/base",
            "top": null,
            "grid_column": null,
            "overflow_y": null,
            "overflow_x": null,
            "grid_auto_flow": null,
            "grid_area": null,
            "grid_template_columns": null,
            "flex": null,
            "_model_name": "LayoutModel",
            "justify_items": null,
            "grid_row": null,
            "max_height": null,
            "align_content": null,
            "visibility": null,
            "align_self": null,
            "height": null,
            "min_height": null,
            "padding": null,
            "grid_auto_rows": null,
            "grid_gap": null,
            "max_width": null,
            "order": null,
            "_view_module_version": "1.2.0",
            "grid_template_areas": null,
            "object_position": null,
            "object_fit": null,
            "grid_auto_columns": null,
            "margin": null,
            "display": null,
            "left": null
          }
        },
        "c81d79be301142cea9224475411e0385": {
          "model_module": "@jupyter-widgets/controls",
          "model_name": "DescriptionStyleModel",
          "state": {
            "_view_name": "StyleView",
            "_model_name": "DescriptionStyleModel",
            "description_width": "",
            "_view_module": "@jupyter-widgets/base",
            "_model_module_version": "1.5.0",
            "_view_count": null,
            "_view_module_version": "1.2.0",
            "_model_module": "@jupyter-widgets/controls"
          }
        },
        "9068b85a02e340d6abf51e0d2e2048b1": {
          "model_module": "@jupyter-widgets/base",
          "model_name": "LayoutModel",
          "state": {
            "_view_name": "LayoutView",
            "grid_template_rows": null,
            "right": null,
            "justify_content": null,
            "_view_module": "@jupyter-widgets/base",
            "overflow": null,
            "_model_module_version": "1.2.0",
            "_view_count": null,
            "flex_flow": null,
            "width": null,
            "min_width": null,
            "border": null,
            "align_items": null,
            "bottom": null,
            "_model_module": "@jupyter-widgets/base",
            "top": null,
            "grid_column": null,
            "overflow_y": null,
            "overflow_x": null,
            "grid_auto_flow": null,
            "grid_area": null,
            "grid_template_columns": null,
            "flex": null,
            "_model_name": "LayoutModel",
            "justify_items": null,
            "grid_row": null,
            "max_height": null,
            "align_content": null,
            "visibility": null,
            "align_self": null,
            "height": null,
            "min_height": null,
            "padding": null,
            "grid_auto_rows": null,
            "grid_gap": null,
            "max_width": null,
            "order": null,
            "_view_module_version": "1.2.0",
            "grid_template_areas": null,
            "object_position": null,
            "object_fit": null,
            "grid_auto_columns": null,
            "margin": null,
            "display": null,
            "left": null
          }
        },
        "5c049cfee7934820bd074e6864743a01": {
          "model_module": "@jupyter-widgets/controls",
          "model_name": "HBoxModel",
          "state": {
            "_view_name": "HBoxView",
            "_dom_classes": [],
            "_model_name": "HBoxModel",
            "_view_module": "@jupyter-widgets/controls",
            "_model_module_version": "1.5.0",
            "_view_count": null,
            "_view_module_version": "1.5.0",
            "box_style": "",
            "layout": "IPY_MODEL_db965a8af2de40279586f54b1c8f3d6d",
            "_model_module": "@jupyter-widgets/controls",
            "children": [
              "IPY_MODEL_ed369f197a964a3fa7787c8b730627dc",
              "IPY_MODEL_0054122071ba4fd7be0d3de0d93cbaaa"
            ]
          }
        },
        "db965a8af2de40279586f54b1c8f3d6d": {
          "model_module": "@jupyter-widgets/base",
          "model_name": "LayoutModel",
          "state": {
            "_view_name": "LayoutView",
            "grid_template_rows": null,
            "right": null,
            "justify_content": null,
            "_view_module": "@jupyter-widgets/base",
            "overflow": null,
            "_model_module_version": "1.2.0",
            "_view_count": null,
            "flex_flow": null,
            "width": null,
            "min_width": null,
            "border": null,
            "align_items": null,
            "bottom": null,
            "_model_module": "@jupyter-widgets/base",
            "top": null,
            "grid_column": null,
            "overflow_y": null,
            "overflow_x": null,
            "grid_auto_flow": null,
            "grid_area": null,
            "grid_template_columns": null,
            "flex": null,
            "_model_name": "LayoutModel",
            "justify_items": null,
            "grid_row": null,
            "max_height": null,
            "align_content": null,
            "visibility": null,
            "align_self": null,
            "height": null,
            "min_height": null,
            "padding": null,
            "grid_auto_rows": null,
            "grid_gap": null,
            "max_width": null,
            "order": null,
            "_view_module_version": "1.2.0",
            "grid_template_areas": null,
            "object_position": null,
            "object_fit": null,
            "grid_auto_columns": null,
            "margin": null,
            "display": null,
            "left": null
          }
        },
        "ed369f197a964a3fa7787c8b730627dc": {
          "model_module": "@jupyter-widgets/controls",
          "model_name": "FloatProgressModel",
          "state": {
            "_view_name": "ProgressView",
            "style": "IPY_MODEL_7d5d5b72efe74021ae6aff81842ce790",
            "_dom_classes": [],
            "description": "Downloading: 100%",
            "_model_name": "FloatProgressModel",
            "bar_style": "success",
            "max": 714314041,
            "_view_module": "@jupyter-widgets/controls",
            "_model_module_version": "1.5.0",
            "value": 714314041,
            "_view_count": null,
            "_view_module_version": "1.5.0",
            "orientation": "horizontal",
            "min": 0,
            "description_tooltip": null,
            "_model_module": "@jupyter-widgets/controls",
            "layout": "IPY_MODEL_ebda0f905d584ae899b719e8f57e2b17"
          }
        },
        "0054122071ba4fd7be0d3de0d93cbaaa": {
          "model_module": "@jupyter-widgets/controls",
          "model_name": "HTMLModel",
          "state": {
            "_view_name": "HTMLView",
            "style": "IPY_MODEL_d4386c6cf4774b5da1fce96d987a8754",
            "_dom_classes": [],
            "description": "",
            "_model_name": "HTMLModel",
            "placeholder": "​",
            "_view_module": "@jupyter-widgets/controls",
            "_model_module_version": "1.5.0",
            "value": " 714M/714M [00:36&lt;00:00, 19.7MB/s]",
            "_view_count": null,
            "_view_module_version": "1.5.0",
            "description_tooltip": null,
            "_model_module": "@jupyter-widgets/controls",
            "layout": "IPY_MODEL_974e558025624009b3ee5ef7a5fc1a77"
          }
        },
        "7d5d5b72efe74021ae6aff81842ce790": {
          "model_module": "@jupyter-widgets/controls",
          "model_name": "ProgressStyleModel",
          "state": {
            "_view_name": "StyleView",
            "_model_name": "ProgressStyleModel",
            "description_width": "initial",
            "_view_module": "@jupyter-widgets/base",
            "_model_module_version": "1.5.0",
            "_view_count": null,
            "_view_module_version": "1.2.0",
            "bar_color": null,
            "_model_module": "@jupyter-widgets/controls"
          }
        },
        "ebda0f905d584ae899b719e8f57e2b17": {
          "model_module": "@jupyter-widgets/base",
          "model_name": "LayoutModel",
          "state": {
            "_view_name": "LayoutView",
            "grid_template_rows": null,
            "right": null,
            "justify_content": null,
            "_view_module": "@jupyter-widgets/base",
            "overflow": null,
            "_model_module_version": "1.2.0",
            "_view_count": null,
            "flex_flow": null,
            "width": null,
            "min_width": null,
            "border": null,
            "align_items": null,
            "bottom": null,
            "_model_module": "@jupyter-widgets/base",
            "top": null,
            "grid_column": null,
            "overflow_y": null,
            "overflow_x": null,
            "grid_auto_flow": null,
            "grid_area": null,
            "grid_template_columns": null,
            "flex": null,
            "_model_name": "LayoutModel",
            "justify_items": null,
            "grid_row": null,
            "max_height": null,
            "align_content": null,
            "visibility": null,
            "align_self": null,
            "height": null,
            "min_height": null,
            "padding": null,
            "grid_auto_rows": null,
            "grid_gap": null,
            "max_width": null,
            "order": null,
            "_view_module_version": "1.2.0",
            "grid_template_areas": null,
            "object_position": null,
            "object_fit": null,
            "grid_auto_columns": null,
            "margin": null,
            "display": null,
            "left": null
          }
        },
        "d4386c6cf4774b5da1fce96d987a8754": {
          "model_module": "@jupyter-widgets/controls",
          "model_name": "DescriptionStyleModel",
          "state": {
            "_view_name": "StyleView",
            "_model_name": "DescriptionStyleModel",
            "description_width": "",
            "_view_module": "@jupyter-widgets/base",
            "_model_module_version": "1.5.0",
            "_view_count": null,
            "_view_module_version": "1.2.0",
            "_model_module": "@jupyter-widgets/controls"
          }
        },
        "974e558025624009b3ee5ef7a5fc1a77": {
          "model_module": "@jupyter-widgets/base",
          "model_name": "LayoutModel",
          "state": {
            "_view_name": "LayoutView",
            "grid_template_rows": null,
            "right": null,
            "justify_content": null,
            "_view_module": "@jupyter-widgets/base",
            "overflow": null,
            "_model_module_version": "1.2.0",
            "_view_count": null,
            "flex_flow": null,
            "width": null,
            "min_width": null,
            "border": null,
            "align_items": null,
            "bottom": null,
            "_model_module": "@jupyter-widgets/base",
            "top": null,
            "grid_column": null,
            "overflow_y": null,
            "overflow_x": null,
            "grid_auto_flow": null,
            "grid_area": null,
            "grid_template_columns": null,
            "flex": null,
            "_model_name": "LayoutModel",
            "justify_items": null,
            "grid_row": null,
            "max_height": null,
            "align_content": null,
            "visibility": null,
            "align_self": null,
            "height": null,
            "min_height": null,
            "padding": null,
            "grid_auto_rows": null,
            "grid_gap": null,
            "max_width": null,
            "order": null,
            "_view_module_version": "1.2.0",
            "grid_template_areas": null,
            "object_position": null,
            "object_fit": null,
            "grid_auto_columns": null,
            "margin": null,
            "display": null,
            "left": null
          }
        }
      }
    }
  },
  "cells": [
    {
      "cell_type": "markdown",
      "metadata": {
        "id": "elqe9PQrVH6P"
      },
      "source": [
        "### Performing checks for the resources available"
      ]
    },
    {
      "cell_type": "code",
      "metadata": {
        "colab": {
          "base_uri": "https://localhost:8080/"
        },
        "id": "fSELLChxa5su",
        "outputId": "ab6ffa63-ac55-4235-c1de-f3fa04b1b257"
      },
      "source": [
        "import torch\r\n",
        "\r\n",
        "# If there's a GPU available...\r\n",
        "if torch.cuda.is_available():    \r\n",
        "\r\n",
        "    # Tell PyTorch to use the GPU.    \r\n",
        "    device = torch.device(\"cuda\")\r\n",
        "\r\n",
        "    print('There are %d GPU(s) available.' % torch.cuda.device_count())\r\n",
        "\r\n",
        "    print('We will use the GPU:', torch.cuda.get_device_name(0))\r\n",
        "\r\n",
        "# If not...\r\n",
        "else:\r\n",
        "    print('No GPU available, using the CPU instead.')\r\n",
        "    device = torch.device(\"cpu\")"
      ],
      "execution_count": 1,
      "outputs": [
        {
          "output_type": "stream",
          "text": [
            "There are 1 GPU(s) available.\n",
            "We will use the GPU: Tesla T4\n"
          ],
          "name": "stdout"
        }
      ]
    },
    {
      "cell_type": "markdown",
      "metadata": {
        "id": "K-gbOgflVRxg"
      },
      "source": [
        "### Installing huggingface transformers library"
      ]
    },
    {
      "cell_type": "code",
      "metadata": {
        "colab": {
          "base_uri": "https://localhost:8080/"
        },
        "id": "DbDuxKy0a9Zl",
        "outputId": "7cfdea6f-251f-4e1b-acb6-6f705be4d848"
      },
      "source": [
        "!pip install transformers"
      ],
      "execution_count": 2,
      "outputs": [
        {
          "output_type": "stream",
          "text": [
            "Collecting transformers\n",
            "\u001b[?25l  Downloading https://files.pythonhosted.org/packages/50/0c/7d5950fcd80b029be0a8891727ba21e0cd27692c407c51261c3c921f6da3/transformers-4.1.1-py3-none-any.whl (1.5MB)\n",
            "\u001b[K     |████████████████████████████████| 1.5MB 21.7MB/s \n",
            "\u001b[?25hRequirement already satisfied: filelock in /usr/local/lib/python3.6/dist-packages (from transformers) (3.0.12)\n",
            "Requirement already satisfied: requests in /usr/local/lib/python3.6/dist-packages (from transformers) (2.23.0)\n",
            "Collecting sacremoses\n",
            "\u001b[?25l  Downloading https://files.pythonhosted.org/packages/7d/34/09d19aff26edcc8eb2a01bed8e98f13a1537005d31e95233fd48216eed10/sacremoses-0.0.43.tar.gz (883kB)\n",
            "\u001b[K     |████████████████████████████████| 890kB 50.1MB/s \n",
            "\u001b[?25hCollecting tokenizers==0.9.4\n",
            "\u001b[?25l  Downloading https://files.pythonhosted.org/packages/0f/1c/e789a8b12e28be5bc1ce2156cf87cb522b379be9cadc7ad8091a4cc107c4/tokenizers-0.9.4-cp36-cp36m-manylinux2010_x86_64.whl (2.9MB)\n",
            "\u001b[K     |████████████████████████████████| 2.9MB 43.9MB/s \n",
            "\u001b[?25hRequirement already satisfied: dataclasses; python_version < \"3.7\" in /usr/local/lib/python3.6/dist-packages (from transformers) (0.8)\n",
            "Requirement already satisfied: regex!=2019.12.17 in /usr/local/lib/python3.6/dist-packages (from transformers) (2019.12.20)\n",
            "Requirement already satisfied: packaging in /usr/local/lib/python3.6/dist-packages (from transformers) (20.8)\n",
            "Requirement already satisfied: numpy in /usr/local/lib/python3.6/dist-packages (from transformers) (1.19.4)\n",
            "Requirement already satisfied: tqdm>=4.27 in /usr/local/lib/python3.6/dist-packages (from transformers) (4.41.1)\n",
            "Requirement already satisfied: certifi>=2017.4.17 in /usr/local/lib/python3.6/dist-packages (from requests->transformers) (2020.12.5)\n",
            "Requirement already satisfied: chardet<4,>=3.0.2 in /usr/local/lib/python3.6/dist-packages (from requests->transformers) (3.0.4)\n",
            "Requirement already satisfied: urllib3!=1.25.0,!=1.25.1,<1.26,>=1.21.1 in /usr/local/lib/python3.6/dist-packages (from requests->transformers) (1.24.3)\n",
            "Requirement already satisfied: idna<3,>=2.5 in /usr/local/lib/python3.6/dist-packages (from requests->transformers) (2.10)\n",
            "Requirement already satisfied: six in /usr/local/lib/python3.6/dist-packages (from sacremoses->transformers) (1.15.0)\n",
            "Requirement already satisfied: click in /usr/local/lib/python3.6/dist-packages (from sacremoses->transformers) (7.1.2)\n",
            "Requirement already satisfied: joblib in /usr/local/lib/python3.6/dist-packages (from sacremoses->transformers) (1.0.0)\n",
            "Requirement already satisfied: pyparsing>=2.0.2 in /usr/local/lib/python3.6/dist-packages (from packaging->transformers) (2.4.7)\n",
            "Building wheels for collected packages: sacremoses\n",
            "  Building wheel for sacremoses (setup.py) ... \u001b[?25l\u001b[?25hdone\n",
            "  Created wheel for sacremoses: filename=sacremoses-0.0.43-cp36-none-any.whl size=893261 sha256=4c86f40eba3bcbbd0b283dbd65d646d51aa3bdd00929e963f52ec0a47a30c48c\n",
            "  Stored in directory: /root/.cache/pip/wheels/29/3c/fd/7ce5c3f0666dab31a50123635e6fb5e19ceb42ce38d4e58f45\n",
            "Successfully built sacremoses\n",
            "Installing collected packages: sacremoses, tokenizers, transformers\n",
            "Successfully installed sacremoses-0.0.43 tokenizers-0.9.4 transformers-4.1.1\n"
          ],
          "name": "stdout"
        }
      ]
    },
    {
      "cell_type": "markdown",
      "metadata": {
        "id": "bPwaYLiRSNPC"
      },
      "source": [
        "## Importing necessary packages"
      ]
    },
    {
      "cell_type": "code",
      "metadata": {
        "id": "0XdFrhr8SRG0"
      },
      "source": [
        "import pandas as pd\r\n",
        "import numpy as np \r\n",
        "import random\r\n",
        "from sklearn.preprocessing import LabelEncoder\r\n",
        "from sklearn.utils.class_weight import compute_class_weight\r\n",
        "import time\r\n",
        "import datetime\r\n",
        "from sklearn.metrics import classification_report,confusion_matrix\r\n",
        "import random\r\n",
        "import time\r\n",
        "import torch.nn as nn\r\n",
        "from transformers import AutoModel , AutoModelForSequenceClassification, AutoConfig , AutoTokenizer , AdamW ,get_linear_schedule_with_warmup \r\n",
        "import torch\r\n",
        "import matplotlib.pyplot as plt\r\n",
        "import seaborn as sns\r\n",
        "from matplotlib import rc\r\n",
        "from matplotlib.ticker import MaxNLocator"
      ],
      "execution_count": 3,
      "outputs": []
    },
    {
      "cell_type": "markdown",
      "metadata": {
        "id": "dROX3juhVCxC"
      },
      "source": [
        "## Setting some configuration values"
      ]
    },
    {
      "cell_type": "code",
      "metadata": {
        "id": "Kzafv4BzVCC9"
      },
      "source": [
        "# Use plot styling from seaborn.\r\n",
        "sns.set(style='darkgrid')\r\n",
        "\r\n",
        "# Increase the plot size and font size.\r\n",
        "sns.set(font_scale=1.5)\r\n",
        "plt.rcParams[\"figure.figsize\"] = (16,12)\r\n",
        "\r\n",
        "# Set the seed value all over the place to make this reproducible.\r\n",
        "seed_val = 42\r\n",
        "\r\n",
        "random.seed(seed_val)\r\n",
        "np.random.seed(seed_val)\r\n",
        "torch.manual_seed(seed_val)\r\n",
        "torch.cuda.manual_seed_all(seed_val)"
      ],
      "execution_count": 4,
      "outputs": []
    },
    {
      "cell_type": "markdown",
      "metadata": {
        "id": "2v1AIN_OVX4t"
      },
      "source": [
        "## Importing drive into the colaboratory"
      ]
    },
    {
      "cell_type": "code",
      "metadata": {
        "colab": {
          "base_uri": "https://localhost:8080/"
        },
        "id": "Lofimyh2a_tp",
        "outputId": "a0169132-e780-417d-9b6a-0019890bd0f4"
      },
      "source": [
        "from google.colab import drive \r\n",
        "drive.mount('/content/drive')"
      ],
      "execution_count": 5,
      "outputs": [
        {
          "output_type": "stream",
          "text": [
            "Mounted at /content/drive\n"
          ],
          "name": "stdout"
        }
      ]
    },
    {
      "cell_type": "markdown",
      "metadata": {
        "id": "yOK-M00dVeW2"
      },
      "source": [
        "## Importing dataset directories"
      ]
    },
    {
      "cell_type": "code",
      "metadata": {
        "id": "-y-JRPKBbCTv"
      },
      "source": [
        "from os import getcwd , listdir \r\n",
        "from os.path import join\r\n",
        "curr_dir = getcwd()\r\n",
        "drive_dir = join(curr_dir , 'drive','MyDrive')\r\n",
        "dataset_dir = join(drive_dir,'Codalab','Offensive Language Identification','Dataset')"
      ],
      "execution_count": 6,
      "outputs": []
    },
    {
      "cell_type": "code",
      "metadata": {
        "colab": {
          "base_uri": "https://localhost:8080/"
        },
        "id": "7YU1h8WhmqvK",
        "outputId": "591ba46c-1cdb-4692-930f-defe45cf7ce7"
      },
      "source": [
        "listdir(dataset_dir)"
      ],
      "execution_count": 7,
      "outputs": [
        {
          "output_type": "execute_result",
          "data": {
            "text/plain": [
              "['mal_full_offensive_train_corrected.csv',\n",
              " 'mal_full_offensive_dev_corrected.csv',\n",
              " 'kannada_offensive_dev_corrected.csv',\n",
              " 'kannada_offensive_train_corrected.csv',\n",
              " 'tamil_offensive_full_train_corrected.csv',\n",
              " 'tamil_offensive_full_dev_corrected.csv',\n",
              " 'tamil_offensive_full_test.csv',\n",
              " 'mal_full_offensive_test.csv',\n",
              " 'kannada_offensive_test.csv',\n",
              " '0010.png']"
            ]
          },
          "metadata": {
            "tags": []
          },
          "execution_count": 7
        }
      ]
    },
    {
      "cell_type": "markdown",
      "metadata": {
        "id": "FUPkZxjLVjLK"
      },
      "source": [
        "## Loading training data"
      ]
    },
    {
      "cell_type": "code",
      "metadata": {
        "colab": {
          "base_uri": "https://localhost:8080/",
          "height": 377
        },
        "id": "joone3H4bINR",
        "outputId": "58f0078f-6186-4f2f-a214-50324a095226"
      },
      "source": [
        "train_df_path = join(dataset_dir,'kannada_offensive_train_corrected.csv')\r\n",
        "# Load the dataset into a pandas dataframe.\r\n",
        "train_df = pd.read_csv(train_df_path)\r\n",
        "\r\n",
        "# Report the number of sentences.\r\n",
        "print('Number of training sentences: {:,}\\n'.format(train_df.shape[0]))\r\n",
        "\r\n",
        "# Display 10 random rows from the data.\r\n",
        "train_df.sample(10)"
      ],
      "execution_count": 8,
      "outputs": [
        {
          "output_type": "stream",
          "text": [
            "Number of training sentences: 6,217\n",
            "\n"
          ],
          "name": "stdout"
        },
        {
          "output_type": "execute_result",
          "data": {
            "text/html": [
              "<div>\n",
              "<style scoped>\n",
              "    .dataframe tbody tr th:only-of-type {\n",
              "        vertical-align: middle;\n",
              "    }\n",
              "\n",
              "    .dataframe tbody tr th {\n",
              "        vertical-align: top;\n",
              "    }\n",
              "\n",
              "    .dataframe thead th {\n",
              "        text-align: right;\n",
              "    }\n",
              "</style>\n",
              "<table border=\"1\" class=\"dataframe\">\n",
              "  <thead>\n",
              "    <tr style=\"text-align: right;\">\n",
              "      <th></th>\n",
              "      <th>text</th>\n",
              "      <th>label</th>\n",
              "    </tr>\n",
              "  </thead>\n",
              "  <tbody>\n",
              "    <tr>\n",
              "      <th>2615</th>\n",
              "      <td>Hiryaru manyaga heltidru</td>\n",
              "      <td>Not_offensive</td>\n",
              "    </tr>\n",
              "    <tr>\n",
              "      <th>1872</th>\n",
              "      <td>Yalla kannadigarugu ansthithu bere bashe movie...</td>\n",
              "      <td>Not_offensive</td>\n",
              "    </tr>\n",
              "    <tr>\n",
              "      <th>2552</th>\n",
              "      <td>Super movie guru</td>\n",
              "      <td>Not_offensive</td>\n",
              "    </tr>\n",
              "    <tr>\n",
              "      <th>5370</th>\n",
              "      <td>Hindi version plzzz</td>\n",
              "      <td>not-Kannada</td>\n",
              "    </tr>\n",
              "    <tr>\n",
              "      <th>996</th>\n",
              "      <td>ಈ ಯುಗದ ಶಂಕರ್ ನಾಗ್ ಗುರು ನೀನು  all the best from...</td>\n",
              "      <td>Not_offensive</td>\n",
              "    </tr>\n",
              "    <tr>\n",
              "      <th>1765</th>\n",
              "      <td>It is karabu.</td>\n",
              "      <td>not-Kannada</td>\n",
              "    </tr>\n",
              "    <tr>\n",
              "      <th>1612</th>\n",
              "      <td>Super Junior narayana</td>\n",
              "      <td>Not_offensive</td>\n",
              "    </tr>\n",
              "    <tr>\n",
              "      <th>1512</th>\n",
              "      <td>Super song</td>\n",
              "      <td>Not_offensive</td>\n",
              "    </tr>\n",
              "    <tr>\n",
              "      <th>5806</th>\n",
              "      <td>Rj naagraj naan bigg fan...neeu prathvi aadru ...</td>\n",
              "      <td>Not_offensive</td>\n",
              "    </tr>\n",
              "    <tr>\n",
              "      <th>3914</th>\n",
              "      <td>Audience are customers</td>\n",
              "      <td>not-Kannada</td>\n",
              "    </tr>\n",
              "  </tbody>\n",
              "</table>\n",
              "</div>"
            ],
            "text/plain": [
              "                                                   text          label\n",
              "2615                           Hiryaru manyaga heltidru  Not_offensive\n",
              "1872  Yalla kannadigarugu ansthithu bere bashe movie...  Not_offensive\n",
              "2552                                   Super movie guru  Not_offensive\n",
              "5370                                Hindi version plzzz    not-Kannada\n",
              "996   ಈ ಯುಗದ ಶಂಕರ್ ನಾಗ್ ಗುರು ನೀನು  all the best from...  Not_offensive\n",
              "1765                                      It is karabu.    not-Kannada\n",
              "1612                              Super Junior narayana  Not_offensive\n",
              "1512                                         Super song  Not_offensive\n",
              "5806  Rj naagraj naan bigg fan...neeu prathvi aadru ...  Not_offensive\n",
              "3914                             Audience are customers    not-Kannada"
            ]
          },
          "metadata": {
            "tags": []
          },
          "execution_count": 8
        }
      ]
    },
    {
      "cell_type": "code",
      "metadata": {
        "colab": {
          "base_uri": "https://localhost:8080/"
        },
        "id": "w4VW351225YK",
        "outputId": "417f58d7-f78e-4c2e-c631-4126daf595f4"
      },
      "source": [
        "train_df['label'].value_counts()"
      ],
      "execution_count": 9,
      "outputs": [
        {
          "output_type": "execute_result",
          "data": {
            "text/plain": [
              "Not_offensive                           3544\n",
              "not-Kannada                             1522\n",
              "Offensive_Targeted_Insult_Individual     487\n",
              "Offensive_Targeted_Insult_Group          329\n",
              "Offensive_Untargetede                    212\n",
              "Offensive_Targeted_Insult_Other          123\n",
              "Name: label, dtype: int64"
            ]
          },
          "metadata": {
            "tags": []
          },
          "execution_count": 9
        }
      ]
    },
    {
      "cell_type": "code",
      "metadata": {
        "id": "ooOv9QZtnLIF"
      },
      "source": [
        "\r\n",
        "le = LabelEncoder()\r\n",
        "train_df['label'] = le.fit_transform(train_df['label'])"
      ],
      "execution_count": 10,
      "outputs": []
    },
    {
      "cell_type": "code",
      "metadata": {
        "colab": {
          "base_uri": "https://localhost:8080/"
        },
        "id": "a89Bf4LpnigU",
        "outputId": "035c973f-0c0d-43a3-b4a1-29e33e80664f"
      },
      "source": [
        "train_df['label'].value_counts()"
      ],
      "execution_count": 11,
      "outputs": [
        {
          "output_type": "execute_result",
          "data": {
            "text/plain": [
              "0    3544\n",
              "5    1522\n",
              "2     487\n",
              "1     329\n",
              "4     212\n",
              "3     123\n",
              "Name: label, dtype: int64"
            ]
          },
          "metadata": {
            "tags": []
          },
          "execution_count": 11
        }
      ]
    },
    {
      "cell_type": "markdown",
      "metadata": {
        "id": "bvNeR4lTVnK0"
      },
      "source": [
        "### Loading `train_sentences` and `train_labels`"
      ]
    },
    {
      "cell_type": "code",
      "metadata": {
        "id": "EufQZx2dbKMT"
      },
      "source": [
        "# Get the lists of sentences and their labels.\r\n",
        "train_sentences = train_df['text'].values\r\n",
        "train_labels = train_df['label'].values"
      ],
      "execution_count": 12,
      "outputs": []
    },
    {
      "cell_type": "markdown",
      "metadata": {
        "id": "wnZSg5f7ZWs_"
      },
      "source": [
        "## Saving Class Names"
      ]
    },
    {
      "cell_type": "code",
      "metadata": {
        "id": "83tTT-wbZa1o"
      },
      "source": [
        "class_names = [\r\n",
        "               'Not_offensive','Offensive_Targeted_Insult_Group','Offensive_Targeted_Insult_Individual',\r\n",
        "               'Offensive_Targeted_Insult_Other','Offensive_Untargetede','not-Kannada'          \r\n",
        "]"
      ],
      "execution_count": 13,
      "outputs": []
    },
    {
      "cell_type": "markdown",
      "metadata": {
        "id": "ToUbAgZ9ap63"
      },
      "source": [
        "## Loading the validation data"
      ]
    },
    {
      "cell_type": "code",
      "metadata": {
        "colab": {
          "base_uri": "https://localhost:8080/",
          "height": 377
        },
        "id": "Dle8VzoAjOLS",
        "outputId": "1e529c56-5912-4f8b-d0a3-5ebcc224537e"
      },
      "source": [
        "val_df_path = join(dataset_dir,'kannada_offensive_dev_corrected.csv')\r\n",
        "# Load the dataset into a pandas dataframe.\r\n",
        "val_df = pd.read_csv(val_df_path)\r\n",
        "\r\n",
        "# Report the number of sentences.\r\n",
        "print('Number of training sentences: {:,}\\n'.format(val_df.shape[0]))\r\n",
        "\r\n",
        "# Display 10 random rows from the data.\r\n",
        "val_df.sample(10)"
      ],
      "execution_count": 14,
      "outputs": [
        {
          "output_type": "stream",
          "text": [
            "Number of training sentences: 777\n",
            "\n"
          ],
          "name": "stdout"
        },
        {
          "output_type": "execute_result",
          "data": {
            "text/html": [
              "<div>\n",
              "<style scoped>\n",
              "    .dataframe tbody tr th:only-of-type {\n",
              "        vertical-align: middle;\n",
              "    }\n",
              "\n",
              "    .dataframe tbody tr th {\n",
              "        vertical-align: top;\n",
              "    }\n",
              "\n",
              "    .dataframe thead th {\n",
              "        text-align: right;\n",
              "    }\n",
              "</style>\n",
              "<table border=\"1\" class=\"dataframe\">\n",
              "  <thead>\n",
              "    <tr style=\"text-align: right;\">\n",
              "      <th></th>\n",
              "      <th>text</th>\n",
              "      <th>label</th>\n",
              "    </tr>\n",
              "  </thead>\n",
              "  <tbody>\n",
              "    <tr>\n",
              "      <th>234</th>\n",
              "      <td>I like song very much</td>\n",
              "      <td>not-Kannada</td>\n",
              "    </tr>\n",
              "    <tr>\n",
              "      <th>776</th>\n",
              "      <td>ಕಥೆಯಲ್ಲಿ ದಮ್ ಇಲ್ಲ</td>\n",
              "      <td>Offensive_Targeted_Insult_Group</td>\n",
              "    </tr>\n",
              "    <tr>\n",
              "      <th>38</th>\n",
              "      <td>ಇಬ್ಬರು  ಕಳ್ಳರೇ</td>\n",
              "      <td>Offensive_Targeted_Insult_Group</td>\n",
              "    </tr>\n",
              "    <tr>\n",
              "      <th>540</th>\n",
              "      <td>@Nandi Parthasarathi ನಿಮ್ಮ ಅವ್ವುನ್ ತುಲ್ಲಗೆ ಹಳಸ...</td>\n",
              "      <td>Offensive_Targeted_Insult_Individual</td>\n",
              "    </tr>\n",
              "    <tr>\n",
              "      <th>482</th>\n",
              "      <td>Yappa huchhu hidustide.....asn.....awesom</td>\n",
              "      <td>Offensive_Targeted_Insult_Other</td>\n",
              "    </tr>\n",
              "    <tr>\n",
              "      <th>396</th>\n",
              "      <td>ಅಭಿನಯ ಚಕ್ರವರ್ತಿ ಕಿಚ್ಚ ಸುದೀಪ್ ಅವರ ಕಡೆಯಿಂದ.. All...</td>\n",
              "      <td>Not_offensive</td>\n",
              "    </tr>\n",
              "    <tr>\n",
              "      <th>468</th>\n",
              "      <td>@Kiccha Vitthal ಕಚ್ಚಾ ಸುದೆಪಿ</td>\n",
              "      <td>Offensive_Targeted_Insult_Individual</td>\n",
              "    </tr>\n",
              "    <tr>\n",
              "      <th>675</th>\n",
              "      <td>umesh karigar Inc</td>\n",
              "      <td>not-Kannada</td>\n",
              "    </tr>\n",
              "    <tr>\n",
              "      <th>544</th>\n",
              "      <td>All India language madi</td>\n",
              "      <td>Not_offensive</td>\n",
              "    </tr>\n",
              "    <tr>\n",
              "      <th>32</th>\n",
              "      <td>Thu nem yogyathe ge maha vishnu hesaru ettu en...</td>\n",
              "      <td>Offensive_Untargetede</td>\n",
              "    </tr>\n",
              "  </tbody>\n",
              "</table>\n",
              "</div>"
            ],
            "text/plain": [
              "                                                  text                                 label\n",
              "234                              I like song very much                           not-Kannada\n",
              "776                                  ಕಥೆಯಲ್ಲಿ ದಮ್ ಇಲ್ಲ       Offensive_Targeted_Insult_Group\n",
              "38                                      ಇಬ್ಬರು  ಕಳ್ಳರೇ       Offensive_Targeted_Insult_Group\n",
              "540  @Nandi Parthasarathi ನಿಮ್ಮ ಅವ್ವುನ್ ತುಲ್ಲಗೆ ಹಳಸ...  Offensive_Targeted_Insult_Individual\n",
              "482          Yappa huchhu hidustide.....asn.....awesom       Offensive_Targeted_Insult_Other\n",
              "396  ಅಭಿನಯ ಚಕ್ರವರ್ತಿ ಕಿಚ್ಚ ಸುದೀಪ್ ಅವರ ಕಡೆಯಿಂದ.. All...                         Not_offensive\n",
              "468                       @Kiccha Vitthal ಕಚ್ಚಾ ಸುದೆಪಿ  Offensive_Targeted_Insult_Individual\n",
              "675                                  umesh karigar Inc                           not-Kannada\n",
              "544                            All India language madi                         Not_offensive\n",
              "32   Thu nem yogyathe ge maha vishnu hesaru ettu en...                 Offensive_Untargetede"
            ]
          },
          "metadata": {
            "tags": []
          },
          "execution_count": 14
        }
      ]
    },
    {
      "cell_type": "code",
      "metadata": {
        "colab": {
          "base_uri": "https://localhost:8080/"
        },
        "id": "AypCmtBcDV6v",
        "outputId": "4e42f347-e06a-41c5-a255-078749624c22"
      },
      "source": [
        "val_df['label'].value_counts()"
      ],
      "execution_count": 15,
      "outputs": [
        {
          "output_type": "execute_result",
          "data": {
            "text/plain": [
              "Not_offensive                           426\n",
              "not-Kannada                             191\n",
              "Offensive_Targeted_Insult_Individual     66\n",
              "Offensive_Targeted_Insult_Group          45\n",
              "Offensive_Untargetede                    33\n",
              "Offensive_Targeted_Insult_Other          16\n",
              "Name: label, dtype: int64"
            ]
          },
          "metadata": {
            "tags": []
          },
          "execution_count": 15
        }
      ]
    },
    {
      "cell_type": "code",
      "metadata": {
        "id": "-CgK81lGDPKC"
      },
      "source": [
        "val_df['label'] = le.transform(val_df['label'])"
      ],
      "execution_count": 16,
      "outputs": []
    },
    {
      "cell_type": "code",
      "metadata": {
        "colab": {
          "base_uri": "https://localhost:8080/"
        },
        "id": "Yfgn-E6JDZQZ",
        "outputId": "0f11f668-0ffe-453c-fd02-d25bd8381476"
      },
      "source": [
        "val_df['label'].value_counts()"
      ],
      "execution_count": 17,
      "outputs": [
        {
          "output_type": "execute_result",
          "data": {
            "text/plain": [
              "0    426\n",
              "5    191\n",
              "2     66\n",
              "1     45\n",
              "4     33\n",
              "3     16\n",
              "Name: label, dtype: int64"
            ]
          },
          "metadata": {
            "tags": []
          },
          "execution_count": 17
        }
      ]
    },
    {
      "cell_type": "markdown",
      "metadata": {
        "id": "DMdNNVqrDCuN"
      },
      "source": [
        "### Loading `val_sentences` and `val_labels`"
      ]
    },
    {
      "cell_type": "code",
      "metadata": {
        "id": "LvGhjUkaDCuO"
      },
      "source": [
        "# Get the lists of sentences and their labels.\r\n",
        "val_sentences = val_df['text'].values\r\n",
        "val_labels = val_df['label'].values"
      ],
      "execution_count": 18,
      "outputs": []
    },
    {
      "cell_type": "markdown",
      "metadata": {
        "id": "fS2UcOiEVuhm"
      },
      "source": [
        "## Handling class imbalance using `sklearn's compute_class_weight`\r\n",
        "\r\n"
      ]
    },
    {
      "cell_type": "code",
      "metadata": {
        "colab": {
          "base_uri": "https://localhost:8080/"
        },
        "id": "WL4tP_YkI1mY",
        "outputId": "740ba8ca-8332-4e9a-e94e-649d58c9a188"
      },
      "source": [
        "\r\n",
        "#compute the class weights\r\n",
        "class_wts = compute_class_weight('balanced', np.unique(train_labels), train_labels)\r\n",
        "\r\n",
        "print(class_wts)"
      ],
      "execution_count": null,
      "outputs": [
        {
          "output_type": "stream",
          "text": [
            "[0.85137769 0.68428184 2.74689784]\n"
          ],
          "name": "stdout"
        }
      ]
    },
    {
      "cell_type": "markdown",
      "metadata": {
        "id": "z_WjMTuibsrf"
      },
      "source": [
        "## Helper Functions"
      ]
    },
    {
      "cell_type": "markdown",
      "metadata": {
        "id": "Bef28eHNV-_d"
      },
      "source": [
        "#### 1) Update Interval Function"
      ]
    },
    {
      "cell_type": "code",
      "metadata": {
        "id": "lBK0ujfEbMir"
      },
      "source": [
        "def good_update_interval(total_iters, num_desired_updates):\r\n",
        "    '''\r\n",
        "    This function will try to pick an intelligent progress update interval \r\n",
        "    based on the magnitude of the total iterations.\r\n",
        "\r\n",
        "    Parameters:\r\n",
        "      `total_iters` - The number of iterations in the for-loop.\r\n",
        "      `num_desired_updates` - How many times we want to see an update over the \r\n",
        "                              course of the for-loop.\r\n",
        "    '''\r\n",
        "    # Divide the total iterations by the desired number of updates. Most likely\r\n",
        "    # this will be some ugly number.\r\n",
        "    exact_interval = total_iters / num_desired_updates\r\n",
        "\r\n",
        "    # The `round` function has the ability to round down a number to, e.g., the\r\n",
        "    # nearest thousandth: round(exact_interval, -3)\r\n",
        "    #\r\n",
        "    # To determine the magnitude to round to, find the magnitude of the total,\r\n",
        "    # and then go one magnitude below that.\r\n",
        "\r\n",
        "    # Get the order of magnitude of the total.\r\n",
        "    order_of_mag = len(str(total_iters)) - 1\r\n",
        "\r\n",
        "    # Our update interval should be rounded to an order of magnitude smaller. \r\n",
        "    round_mag = order_of_mag - 1\r\n",
        "\r\n",
        "    # Round down and cast to an int.\r\n",
        "    update_interval = int(round(exact_interval, -round_mag))\r\n",
        "\r\n",
        "    # Don't allow the interval to be zero!\r\n",
        "    if update_interval == 0:\r\n",
        "        update_interval = 1\r\n",
        "\r\n",
        "    return update_interval"
      ],
      "execution_count": 19,
      "outputs": []
    },
    {
      "cell_type": "markdown",
      "metadata": {
        "id": "eMGycwGAWFyO"
      },
      "source": [
        "#### 2) Format time function"
      ]
    },
    {
      "cell_type": "code",
      "metadata": {
        "id": "c9zVyNQLm-3q"
      },
      "source": [
        "def format_time(elapsed):\r\n",
        "    '''\r\n",
        "    Takes a time in seconds and returns a string hh:mm:ss\r\n",
        "    '''\r\n",
        "    # Round to the nearest second.\r\n",
        "    elapsed_rounded = int(round((elapsed)))\r\n",
        "    \r\n",
        "    # Format as hh:mm:ss\r\n",
        "    return str(datetime.timedelta(seconds=elapsed_rounded))\r\n"
      ],
      "execution_count": 20,
      "outputs": []
    },
    {
      "cell_type": "markdown",
      "metadata": {
        "id": "EBAo04ENWw3n"
      },
      "source": [
        "#### 3) Make Smart Batches function"
      ]
    },
    {
      "cell_type": "code",
      "metadata": {
        "id": "nof-AUeoiZc2"
      },
      "source": [
        "def make_smart_batches(text_samples, labels, batch_size,tokenizer,max_input_length):\r\n",
        "    '''\r\n",
        "    This function combines all of the required steps to prepare batches.\r\n",
        "    '''\r\n",
        "\r\n",
        "    print('Creating Smart Batches from {:,} examples with batch size {:,}...\\n'.format(len(text_samples), batch_size))\r\n",
        "\r\n",
        "    # =========================\r\n",
        "    #   Tokenize & Truncate\r\n",
        "    # =========================\r\n",
        "\r\n",
        "    full_input_ids = []\r\n",
        "\r\n",
        "    # Tokenize all training examples\r\n",
        "    print('Tokenizing {:,} samples...'.format(len(labels)))\r\n",
        "\r\n",
        "    # Choose an interval on which to print progress updates.\r\n",
        "    update_interval = good_update_interval(total_iters=len(labels), num_desired_updates=10)\r\n",
        "\r\n",
        "    # For each training example...\r\n",
        "    for text in text_samples:\r\n",
        "        \r\n",
        "        # Report progress.\r\n",
        "        if ((len(full_input_ids) % update_interval) == 0):\r\n",
        "            print('  Tokenized {:,} samples.'.format(len(full_input_ids)))\r\n",
        "\r\n",
        "        # Tokenize the sample.\r\n",
        "        input_ids = tokenizer.encode(text=text,              # Text to encode.\r\n",
        "                                    add_special_tokens=True, # Do add specials.\r\n",
        "                                    max_length=max_input_length,      \r\n",
        "                                    truncation=True,         # Do Truncate!\r\n",
        "                                    padding=False)           # DO NOT pad.\r\n",
        "                                    \r\n",
        "        # Add the tokenized result to our list.\r\n",
        "        full_input_ids.append(input_ids)\r\n",
        "        \r\n",
        "    print('DONE.')\r\n",
        "    print('{:>10,} samples\\n'.format(len(full_input_ids)))\r\n",
        "\r\n",
        "    # =========================\r\n",
        "    #      Select Batches\r\n",
        "    # =========================    \r\n",
        "\r\n",
        "    # Sort the two lists together by the length of the input sequence.\r\n",
        "    samples = sorted(zip(full_input_ids, labels), key=lambda x: len(x[0]))\r\n",
        "\r\n",
        "    print('{:>10,} samples after sorting\\n'.format(len(samples)))\r\n",
        "\r\n",
        "    import random\r\n",
        "\r\n",
        "    # List of batches that we'll construct.\r\n",
        "    batch_ordered_sentences = []\r\n",
        "    batch_ordered_labels = []\r\n",
        "\r\n",
        "    print('Creating batches of size {:}...'.format(batch_size))\r\n",
        "\r\n",
        "    # Choose an interval on which to print progress updates.\r\n",
        "    update_interval = good_update_interval(total_iters=len(samples), num_desired_updates=10)\r\n",
        "    \r\n",
        "    # Loop over all of the input samples...    \r\n",
        "    while len(samples) > 0:\r\n",
        "        \r\n",
        "        # Report progress.\r\n",
        "        if ((len(batch_ordered_sentences) % update_interval) == 0 \\\r\n",
        "            and not len(batch_ordered_sentences) == 0):\r\n",
        "            print('  Selected {:,} batches.'.format(len(batch_ordered_sentences)))\r\n",
        "\r\n",
        "        # `to_take` is our actual batch size. It will be `batch_size` until \r\n",
        "        # we get to the last batch, which may be smaller. \r\n",
        "        to_take = min(batch_size, len(samples))\r\n",
        "\r\n",
        "        # Pick a random index in the list of remaining samples to start\r\n",
        "        # our batch at.\r\n",
        "        select = random.randint(0, len(samples) - to_take)\r\n",
        "\r\n",
        "        # Select a contiguous batch of samples starting at `select`.\r\n",
        "        #print(\"Selecting batch from {:} to {:}\".format(select, select+to_take))\r\n",
        "        batch = samples[select:(select + to_take)]\r\n",
        "\r\n",
        "        #print(\"Batch length:\", len(batch))\r\n",
        "\r\n",
        "        # Each sample is a tuple--split them apart to create a separate list of \r\n",
        "        # sequences and a list of labels for this batch.\r\n",
        "        batch_ordered_sentences.append([s[0] for s in batch])\r\n",
        "        batch_ordered_labels.append([s[1] for s in batch])\r\n",
        "\r\n",
        "        # Remove these samples from the list.\r\n",
        "        del samples[select:select + to_take]\r\n",
        "\r\n",
        "    print('\\n  DONE - Selected {:,} batches.\\n'.format(len(batch_ordered_sentences)))\r\n",
        "\r\n",
        "    # =========================\r\n",
        "    #        Add Padding\r\n",
        "    # =========================    \r\n",
        "\r\n",
        "    print('Padding out sequences within each batch...')\r\n",
        "\r\n",
        "    py_inputs = []\r\n",
        "    py_attn_masks = []\r\n",
        "    py_labels = []\r\n",
        "\r\n",
        "    # For each batch...\r\n",
        "    for (batch_inputs, batch_labels) in zip(batch_ordered_sentences, batch_ordered_labels):\r\n",
        "\r\n",
        "        # New version of the batch, this time with padded sequences and now with\r\n",
        "        # attention masks defined.\r\n",
        "        batch_padded_inputs = []\r\n",
        "        batch_attn_masks = []\r\n",
        "        \r\n",
        "        # First, find the longest sample in the batch. \r\n",
        "        # Note that the sequences do currently include the special tokens!\r\n",
        "        max_size = max([len(sen) for sen in batch_inputs])\r\n",
        "\r\n",
        "        # For each input in this batch...\r\n",
        "        for sen in batch_inputs:\r\n",
        "            \r\n",
        "            # How many pad tokens do we need to add?\r\n",
        "            num_pads = max_size - len(sen)\r\n",
        "\r\n",
        "            # Add `num_pads` padding tokens to the end of the sequence.\r\n",
        "            padded_input = sen + [tokenizer.pad_token_id]*num_pads\r\n",
        "\r\n",
        "            # Define the attention mask--it's just a `1` for every real token\r\n",
        "            # and a `0` for every padding token.\r\n",
        "            attn_mask = [1] * len(sen) + [0] * num_pads\r\n",
        "\r\n",
        "            # Add the padded results to the batch.\r\n",
        "            batch_padded_inputs.append(padded_input)\r\n",
        "            batch_attn_masks.append(attn_mask)\r\n",
        "\r\n",
        "        # Our batch has been padded, so we need to save this updated batch.\r\n",
        "        # We also need the inputs to be PyTorch tensors, so we'll do that here.\r\n",
        "        # Todo - Michael's code specified \"dtype=torch.long\"\r\n",
        "        py_inputs.append(torch.tensor(batch_padded_inputs))\r\n",
        "        py_attn_masks.append(torch.tensor(batch_attn_masks))\r\n",
        "        py_labels.append(torch.tensor(batch_labels))\r\n",
        "    \r\n",
        "    print('  DONE.')\r\n",
        "\r\n",
        "    # Return the smart-batched dataset!\r\n",
        "    return (py_inputs, py_attn_masks, py_labels)\r\n"
      ],
      "execution_count": 21,
      "outputs": []
    },
    {
      "cell_type": "markdown",
      "metadata": {
        "id": "uMXAoSUjrMhs"
      },
      "source": [
        "### 4) Make Smart Batches (On test)"
      ]
    },
    {
      "cell_type": "code",
      "metadata": {
        "id": "ggH8AkAEaV9N"
      },
      "source": [
        "def make_smart_batches_on_test(text_samples, text_ids, batch_size,tokenizer,max_input_length):\r\n",
        "    '''\r\n",
        "    This function combines all of the required steps to prepare batches.\r\n",
        "    '''\r\n",
        "\r\n",
        "    print('Creating Smart Batches from {:,} examples with batch size {:,}...\\n'.format(len(text_samples), batch_size))\r\n",
        "\r\n",
        "    # =========================\r\n",
        "    #   Tokenize & Truncate\r\n",
        "    # =========================\r\n",
        "\r\n",
        "    full_input_ids = []\r\n",
        "\r\n",
        "    # Tokenize all training examples\r\n",
        "    print('Tokenizing {:,} samples...'.format(len(text_samples)))\r\n",
        "\r\n",
        "    # Choose an interval on which to print progress updates.\r\n",
        "    update_interval = good_update_interval(total_iters=len(text_samples), num_desired_updates=10)\r\n",
        "\r\n",
        "    # For each training example...\r\n",
        "    for text in text_samples:\r\n",
        "        \r\n",
        "        # Report progress.\r\n",
        "        if ((len(full_input_ids) % update_interval) == 0):\r\n",
        "            print('  Tokenized {:,} samples.'.format(len(full_input_ids)))\r\n",
        "\r\n",
        "        # Tokenize the sample.\r\n",
        "        input_ids = tokenizer.encode(text=text,              # Text to encode.\r\n",
        "                                    add_special_tokens=True, # Do add specials.\r\n",
        "                                    max_length=max_input_length,      \r\n",
        "                                    truncation=True,         # Do Truncate!\r\n",
        "                                    padding=False)           # DO NOT pad.\r\n",
        "                                    \r\n",
        "        # Add the tokenized result to our list.\r\n",
        "        full_input_ids.append(input_ids)\r\n",
        "        \r\n",
        "    print('DONE.')\r\n",
        "    print('{:>10,} samples\\n'.format(len(full_input_ids)))\r\n",
        "\r\n",
        "    # =========================\r\n",
        "    #      Select Batches\r\n",
        "    # =========================    \r\n",
        "\r\n",
        "    # Sort the two lists together by the length of the input sequence.\r\n",
        "    samples = sorted(zip(full_input_ids, text_ids), key=lambda x: len(x[0]))\r\n",
        "\r\n",
        "    print('{:>10,} samples after sorting\\n'.format(len(samples)))\r\n",
        "\r\n",
        "    import random\r\n",
        "\r\n",
        "    # List of batches that we'll construct.\r\n",
        "    batch_ordered_sentences = []\r\n",
        "    batch_ordered_ids = []\r\n",
        "\r\n",
        "    print('Creating batches of size {:}...'.format(batch_size))\r\n",
        "\r\n",
        "    # Choose an interval on which to print progress updates.\r\n",
        "    update_interval = good_update_interval(total_iters=len(samples), num_desired_updates=10)\r\n",
        "    \r\n",
        "    # Loop over all of the input samples...    \r\n",
        "    while len(samples) > 0:\r\n",
        "        \r\n",
        "        # Report progress.\r\n",
        "        if ((len(batch_ordered_sentences) % update_interval) == 0 \\\r\n",
        "            and not len(batch_ordered_sentences) == 0):\r\n",
        "            print('  Selected {:,} batches.'.format(len(batch_ordered_sentences)))\r\n",
        "\r\n",
        "        # `to_take` is our actual batch size. It will be `batch_size` until \r\n",
        "        # we get to the last batch, which may be smaller. \r\n",
        "        to_take = min(batch_size, len(samples))\r\n",
        "\r\n",
        "        # Pick a random index in the list of remaining samples to start\r\n",
        "        # our batch at.\r\n",
        "        select = random.randint(0, len(samples) - to_take)\r\n",
        "\r\n",
        "        # Select a contiguous batch of samples starting at `select`.\r\n",
        "        #print(\"Selecting batch from {:} to {:}\".format(select, select+to_take))\r\n",
        "        batch = samples[select:(select + to_take)]\r\n",
        "\r\n",
        "        #print(\"Batch length:\", len(batch))\r\n",
        "\r\n",
        "        # Each sample is a tuple--split them apart to create a separate list of \r\n",
        "        # sequences and a list of labels for this batch.\r\n",
        "        batch_ordered_sentences.append([s[0] for s in batch])\r\n",
        "        batch_ordered_ids.append([s[1] for s in batch])\r\n",
        "\r\n",
        "        # Remove these samples from the list.\r\n",
        "        del samples[select:select + to_take]\r\n",
        "\r\n",
        "    print('\\n  DONE - Selected {:,} batches.\\n'.format(len(batch_ordered_sentences)))\r\n",
        "\r\n",
        "    # =========================\r\n",
        "    #        Add Padding\r\n",
        "    # =========================    \r\n",
        "\r\n",
        "    print('Padding out sequences within each batch...')\r\n",
        "\r\n",
        "    py_inputs = []\r\n",
        "    py_attn_masks = []\r\n",
        "    py_ids = []\r\n",
        "\r\n",
        "    # For each batch...\r\n",
        "    for (batch_inputs, batch_ids) in zip(batch_ordered_sentences, batch_ordered_ids):\r\n",
        "\r\n",
        "        # New version of the batch, this time with padded sequences and now with\r\n",
        "        # attention masks defined.\r\n",
        "        batch_padded_inputs = []\r\n",
        "        batch_attn_masks = []\r\n",
        "        \r\n",
        "        # First, find the longest sample in the batch. \r\n",
        "        # Note that the sequences do currently include the special tokens!\r\n",
        "        max_size = max([len(sen) for sen in batch_inputs])\r\n",
        "\r\n",
        "        # For each input in this batch...\r\n",
        "        for sen in batch_inputs:\r\n",
        "            \r\n",
        "            # How many pad tokens do we need to add?\r\n",
        "            num_pads = max_size - len(sen)\r\n",
        "\r\n",
        "            # Add `num_pads` padding tokens to the end of the sequence.\r\n",
        "            padded_input = sen + [tokenizer.pad_token_id]*num_pads\r\n",
        "\r\n",
        "            # Define the attention mask--it's just a `1` for every real token\r\n",
        "            # and a `0` for every padding token.\r\n",
        "            attn_mask = [1] * len(sen) + [0] * num_pads\r\n",
        "\r\n",
        "            # Add the padded results to the batch.\r\n",
        "            batch_padded_inputs.append(padded_input)\r\n",
        "            batch_attn_masks.append(attn_mask)\r\n",
        "\r\n",
        "        # Our batch has been padded, so we need to save this updated batch.\r\n",
        "        # We also need the inputs to be PyTorch tensors, so we'll do that here.\r\n",
        "        # Todo - Michael's code specified \"dtype=torch.long\"\r\n",
        "        py_inputs.append(torch.tensor(batch_padded_inputs))\r\n",
        "        py_attn_masks.append(torch.tensor(batch_attn_masks))\r\n",
        "        py_ids.append(torch.tensor(batch_ids))\r\n",
        "    \r\n",
        "    print('  DONE.')\r\n",
        "\r\n",
        "    # Return the smart-batched dataset!\r\n",
        "    return (py_inputs, py_attn_masks, py_ids)\r\n"
      ],
      "execution_count": 66,
      "outputs": []
    },
    {
      "cell_type": "markdown",
      "metadata": {
        "id": "x6EHYpUbz8fo"
      },
      "source": [
        "### 5) Function for calculating accuracy per class"
      ]
    },
    {
      "cell_type": "code",
      "metadata": {
        "id": "Knuw_DOei8RO"
      },
      "source": [
        "def accuracy_per_class(preds, labels , label_dict):\r\n",
        "    \r\n",
        "    preds_flat = np.argmax(preds, axis=1).flatten()\r\n",
        "    labels_flat = labels.flatten()\r\n",
        "\r\n",
        "    for label in np.unique(labels_flat):\r\n",
        "        y_preds = preds_flat[labels_flat==label]\r\n",
        "        y_true = labels_flat[labels_flat==label]\r\n",
        "        print(f'Class: {label_dict[label]}')\r\n",
        "        print(f'Accuracy: {round(100*len(y_preds[y_preds==label])/len(y_true) , 2)}\\n')"
      ],
      "execution_count": 23,
      "outputs": []
    },
    {
      "cell_type": "markdown",
      "metadata": {
        "id": "sOWk_8lpWO17"
      },
      "source": [
        "### 6) Function for plotting training history"
      ]
    },
    {
      "cell_type": "code",
      "metadata": {
        "id": "R7-FAyfnWM65"
      },
      "source": [
        "def plot_training_history(history):\r\n",
        "  fig, (ax1, ax2) = plt.subplots(1, 2, figsize=(18, 6))\r\n",
        "\r\n",
        "  ax1.plot(history['train_loss'], label='train loss')\r\n",
        "  ax1.plot(history['val_loss'], label='validation loss')\r\n",
        "\r\n",
        "  ax1.xaxis.set_major_locator(MaxNLocator(integer=True))\r\n",
        "  ax1.set_ylim([-0.05, 1.05])\r\n",
        "  ax1.legend()\r\n",
        "  ax1.set_ylabel('Loss')\r\n",
        "  ax1.set_xlabel('Epoch')\r\n",
        "\r\n",
        "  ax2.plot(history['train_acc'], label='train accuracy')\r\n",
        "  ax2.plot(history['val_acc'], label='validation accuracy')\r\n",
        "\r\n",
        "  ax2.xaxis.set_major_locator(MaxNLocator(integer=True))\r\n",
        "  ax2.set_ylim([-0.05, 1.05])\r\n",
        "  ax2.legend()\r\n",
        "\r\n",
        "  ax2.set_ylabel('Accuracy')\r\n",
        "  ax2.set_xlabel('Epoch')\r\n",
        "\r\n",
        "  fig.suptitle('Training history')"
      ],
      "execution_count": 24,
      "outputs": []
    },
    {
      "cell_type": "markdown",
      "metadata": {
        "id": "A7QOTORh_JHa"
      },
      "source": [
        "### 7) Function to check accuracy"
      ]
    },
    {
      "cell_type": "code",
      "metadata": {
        "id": "yzRDobQ6MwaR"
      },
      "source": [
        "def check_accuracy(predictions,true_labels):\r\n",
        "  # Combine the results across the batches.\r\n",
        "  predictions = np.concatenate(predictions, axis=0)\r\n",
        "  true_labels = np.concatenate(true_labels, axis=0)\r\n",
        "\r\n",
        "  # Choose the label with the highest score as our prediction.\r\n",
        "  preds = np.argmax(predictions, axis=1).flatten()\r\n",
        "\r\n",
        "  # Calculate simple flat accuracy -- number correct over total number.\r\n",
        "  accuracy = (preds == true_labels).mean()\r\n",
        "\r\n",
        "  return accuracy"
      ],
      "execution_count": 25,
      "outputs": []
    },
    {
      "cell_type": "markdown",
      "metadata": {
        "id": "D7TtFkV5_Olz"
      },
      "source": [
        "### 8) Function to evaluate model"
      ]
    },
    {
      "cell_type": "code",
      "metadata": {
        "id": "TSBNdYHYMA7Q"
      },
      "source": [
        "def eval_model(model,py_inputs, py_attn_masks, py_labels):\r\n",
        "# Prediction on test set\r\n",
        "  t0 = time.time()\r\n",
        "\r\n",
        "  print('Doing validation on {:,} sentences...'.format(len(py_labels)))\r\n",
        "\r\n",
        "  # Put model in evaluation mode\r\n",
        "  model.eval()\r\n",
        "\r\n",
        "  # Tracking variables \r\n",
        "  predictions , true_labels = [], []\r\n",
        "\r\n",
        "  # Choose an interval on which to print progress updates.\r\n",
        "  update_interval = good_update_interval(total_iters=len(py_inputs), num_desired_updates=10)\r\n",
        "\r\n",
        "  # Measure elapsed time.\r\n",
        "  t0 = time.time()\r\n",
        "  total_val_loss = 0\r\n",
        "\r\n",
        "  # Put model in evaluation mode\r\n",
        "  model.eval()\r\n",
        "\r\n",
        "  # For each batch of training data...\r\n",
        "  for step in range(0, len(py_inputs)):\r\n",
        "\r\n",
        "      # Progress update every 100 batches.\r\n",
        "      if step % update_interval == 0 and not step == 0:\r\n",
        "          # Calculate elapsed time in minutes.\r\n",
        "          elapsed = format_time(time.time() - t0)\r\n",
        "          \r\n",
        "          # Calculate the time remaining based on our progress.\r\n",
        "          steps_per_sec = (time.time() - t0) / step\r\n",
        "          remaining_sec = steps_per_sec * (len(py_inputs) - step)\r\n",
        "          remaining = format_time(remaining_sec)\r\n",
        "\r\n",
        "          # Report progress.\r\n",
        "          print('  Batch {:>7,}  of  {:>7,}.    Elapsed: {:}.  Remaining: {:}'.format(step, len(py_inputs), elapsed, remaining))\r\n",
        "\r\n",
        "      # Copy the batch to the GPU.\r\n",
        "      b_input_ids = py_inputs[step].to(device)\r\n",
        "      b_input_mask = py_attn_masks[step].to(device)\r\n",
        "      b_labels = py_labels[step].to(device)\r\n",
        "    \r\n",
        "      # Telling the model not to compute or store gradients, saving memory and \r\n",
        "      # speeding up prediction\r\n",
        "      with torch.no_grad():\r\n",
        "        output = model(b_input_ids, \r\n",
        "                             token_type_ids=None, \r\n",
        "                             attention_mask=b_input_mask, \r\n",
        "                             labels=b_labels)\r\n",
        "\r\n",
        "\r\n",
        "      logits = output.logits \r\n",
        "      loss = output.loss\r\n",
        "      # Move logits and labels to CPU\r\n",
        "      logits = logits.detach().cpu().numpy()\r\n",
        "      label_ids = b_labels.to('cpu').numpy()\r\n",
        "    \r\n",
        "      # Store predictions and true labels\r\n",
        "      predictions.append(logits)\r\n",
        "      true_labels.append(label_ids)\r\n",
        "\r\n",
        "      total_val_loss += loss.item()\r\n",
        "  \r\n",
        "  val_accuracy = check_accuracy(predictions,true_labels)\r\n",
        "\r\n",
        "  validation_time = format_time(time.time() - t0)\r\n",
        "  \r\n",
        "  # Calculate the average loss over all of the batches.\r\n",
        "  avg_val_loss = total_val_loss / len(py_inputs)     \r\n",
        "    \r\n",
        "\r\n",
        "  # print('Accuracy: {:.3f}'.format(val_accuracy))\r\n",
        "  return (avg_val_loss,val_accuracy,validation_time)\r\n"
      ],
      "execution_count": 26,
      "outputs": []
    },
    {
      "cell_type": "markdown",
      "metadata": {
        "id": "Lrt_FyJIbC8j"
      },
      "source": [
        "### 9) Function for making predictions on our test dataset"
      ]
    },
    {
      "cell_type": "code",
      "metadata": {
        "id": "eylCkH2Zipq5"
      },
      "source": [
        "def get_predictions(py_inputs, py_attn_masks, py_labels):\r\n",
        "\r\n",
        "  print('Predicting labels for {:,} test batches...'.format(len(py_labels)))\r\n",
        "\r\n",
        "  # Put model in evaluation mode\r\n",
        "  model.eval()\r\n",
        "\r\n",
        "  # Tracking variables \r\n",
        "  predictions , true_labels = [], []\r\n",
        "\r\n",
        "  # Choose an interval on which to print progress updates.\r\n",
        "  update_interval = good_update_interval(total_iters=len(py_inputs), num_desired_updates=10)\r\n",
        "\r\n",
        "  # Measure elapsed time.\r\n",
        "  t0 = time.time()\r\n",
        "\r\n",
        "  # Put model in evaluation mode\r\n",
        "  model.eval()\r\n",
        "\r\n",
        "  # For each batch of training data...\r\n",
        "  for step in range(0, len(py_inputs)):\r\n",
        "\r\n",
        "      # Progress update every 100 batches.\r\n",
        "      if step % update_interval == 0 and not step == 0:\r\n",
        "          # Calculate elapsed time in minutes.\r\n",
        "          elapsed = format_time(time.time() - t0)\r\n",
        "          \r\n",
        "          # Calculate the time remaining based on our progress.\r\n",
        "          steps_per_sec = (time.time() - t0) / step\r\n",
        "          remaining_sec = steps_per_sec * (len(py_inputs) - step)\r\n",
        "          remaining = format_time(remaining_sec)\r\n",
        "\r\n",
        "          # Report progress.\r\n",
        "          print('  Batch {:>7,}  of  {:>7,}.    Elapsed: {:}.  Remaining: {:}'.format(step, len(py_inputs), elapsed, remaining))\r\n",
        "\r\n",
        "      # Copy the batch to the GPU.\r\n",
        "      b_input_ids = py_inputs[step].to(device)\r\n",
        "      b_input_mask = py_attn_masks[step].to(device)\r\n",
        "      b_labels = py_labels[step].to(device)\r\n",
        "    \r\n",
        "      # Telling the model not to compute or store gradients, saving memory and \r\n",
        "      # speeding up prediction\r\n",
        "      with torch.no_grad():\r\n",
        "          # Forward pass, calculate logit predictions\r\n",
        "          outputs = model(b_input_ids, b_input_mask)\r\n",
        "\r\n",
        "      logits = outputs.logits \r\n",
        "\r\n",
        "      # Move logits and labels to CPU\r\n",
        "      logits = logits.detach().cpu().numpy()\r\n",
        "      label_ids = b_labels.to('cpu').numpy()\r\n",
        "    \r\n",
        "      # Store predictions and true labels\r\n",
        "      predictions.append(logits)\r\n",
        "      true_labels.append(label_ids)\r\n",
        "      # Combine the results across the batches.\r\n",
        "  predictions = np.concatenate(predictions, axis=0)\r\n",
        "  true_labels = np.concatenate(true_labels, axis=0)\r\n",
        "\r\n",
        "      # Choose the label with the highest score as our prediction.\r\n",
        "  preds = np.argmax(predictions, axis=1).flatten()\r\n",
        "\r\n",
        "  return (preds,true_labels)"
      ],
      "execution_count": 27,
      "outputs": []
    },
    {
      "cell_type": "markdown",
      "metadata": {
        "id": "eiRNCS-EbZmy"
      },
      "source": [
        "### 10) Function for making predictions on test dataset(without labels)"
      ]
    },
    {
      "cell_type": "code",
      "metadata": {
        "id": "RIuwhVSmZvkd"
      },
      "source": [
        "def get_predictions_on_test(py_inputs, py_attn_masks,py_ids):\r\n",
        "\r\n",
        "    print('Predicting labels for {:,} test batches...'.format(len(py_inputs)))\r\n",
        "\r\n",
        "  # Put model in evaluation mode\r\n",
        "    model.eval()\r\n",
        "\r\n",
        "  # Tracking variables \r\n",
        "    predictions , true_labels , ids = [], [] , []\r\n",
        "\r\n",
        "  # Choose an interval on which to print progress updates.\r\n",
        "    update_interval = good_update_interval(total_iters=len(py_inputs), num_desired_updates=10)\r\n",
        "\r\n",
        "  # Measure elapsed time.\r\n",
        "    t0 = time.time()\r\n",
        "\r\n",
        "  # Put model in evaluation mode\r\n",
        "    model.eval()\r\n",
        "\r\n",
        "  # For each batch of training data...\r\n",
        "    for step in range(0, len(py_inputs)):\r\n",
        "\r\n",
        "      # Progress update every 100 batches.\r\n",
        "        if step % update_interval == 0 and not step == 0:\r\n",
        "          # Calculate elapsed time in minutes.\r\n",
        "            elapsed = format_time(time.time() - t0)\r\n",
        "          \r\n",
        "          # Calculate the time remaining based on our progress.\r\n",
        "            steps_per_sec = (time.time() - t0) / step\r\n",
        "            remaining_sec = steps_per_sec * (len(py_inputs) - step)\r\n",
        "            remaining = format_time(remaining_sec)\r\n",
        "\r\n",
        "          # Report progress.\r\n",
        "            print('  Batch {:>7,}  of  {:>7,}.    Elapsed: {:}.  Remaining: {:}'.format(step, len(py_inputs), elapsed, remaining))\r\n",
        "\r\n",
        "      # Copy the batch to the GPU.\r\n",
        "        b_input_ids = py_inputs[step].to(device)\r\n",
        "        b_input_mask = py_attn_masks[step].to(device)\r\n",
        "      # Telling the model not to compute or store gradients, saving memory and \r\n",
        "      # speeding up prediction\r\n",
        "        with torch.no_grad():\r\n",
        "          # Forward pass, calculate logit predictions\r\n",
        "            outputs = model(b_input_ids, b_input_mask)\r\n",
        "\r\n",
        "        logits = outputs.logits \r\n",
        "\r\n",
        "      # Move logits and labels to CPU\r\n",
        "        logits = logits.detach().cpu().numpy()\r\n",
        "        ids.append(py_ids[step])\r\n",
        "      # Store predictions\r\n",
        "        predictions.append(logits)\r\n",
        "      # Combine the results across the batches.\r\n",
        "    predictions = np.concatenate(predictions, axis=0)\r\n",
        "    ids = np.concatenate(ids,axis = 0)\r\n",
        "  # Choose the label with the highest score as our prediction.\r\n",
        "    preds = np.argmax(predictions, axis=1).flatten()\r\n",
        "\r\n",
        "    return (ids,preds)"
      ],
      "execution_count": 28,
      "outputs": []
    },
    {
      "cell_type": "markdown",
      "metadata": {
        "id": "4IM8r_ddYZZS"
      },
      "source": [
        "### 11) Confusion Matrix Helper Function"
      ]
    },
    {
      "cell_type": "code",
      "metadata": {
        "id": "DqNaS8SrBox5"
      },
      "source": [
        "def show_confusion_matrix(confusion_matrix, class_names):\r\n",
        "\r\n",
        "  cm = confusion_matrix.copy()\r\n",
        "\r\n",
        "  cell_counts = cm.flatten()\r\n",
        "\r\n",
        "  cm_row_norm = cm / cm.sum(axis=1)[:, np.newaxis]\r\n",
        "\r\n",
        "  row_percentages = [\"{0:.2f}\".format(value) for value in cm_row_norm.flatten()]\r\n",
        "\r\n",
        "  cell_labels = [f\"{cnt}\\n{per}\" for cnt, per in zip(cell_counts, row_percentages)]\r\n",
        "  cell_labels = np.asarray(cell_labels).reshape(cm.shape[0], cm.shape[1])\r\n",
        "\r\n",
        "  df_cm = pd.DataFrame(cm_row_norm, index=class_names, columns=class_names)\r\n",
        "\r\n",
        "  hmap = sns.heatmap(df_cm, annot=cell_labels, fmt=\"\", cmap=\"Blues\")\r\n",
        "  hmap.yaxis.set_ticklabels(hmap.yaxis.get_ticklabels(), rotation=0, ha='right')\r\n",
        "  hmap.xaxis.set_ticklabels(hmap.xaxis.get_ticklabels(), rotation=30, ha='right')\r\n",
        "  plt.ylabel('True Sign')\r\n",
        "  plt.xlabel('Predicted Sign');"
      ],
      "execution_count": 29,
      "outputs": []
    },
    {
      "cell_type": "markdown",
      "metadata": {
        "id": "OVs3Jb3Vb89i"
      },
      "source": [
        "## Smart Batching of the training data"
      ]
    },
    {
      "cell_type": "code",
      "metadata": {
        "colab": {
          "base_uri": "https://localhost:8080/",
          "height": 180,
          "referenced_widgets": [
            "dcd5b50a3fc94104ba225609da572e42",
            "746d690b91664c34ab8bbf3512723265",
            "c8fcd002c4174803acc40c0eddbdd06c",
            "81f72518521e41048649fd7c6f78a768",
            "a66356e939c14c95bb4bdd13d4d8d252",
            "e88acac941764e23a4165d171a7fa95a",
            "f4ef11a59a84417db8f2f34aeb430b7d",
            "6ce0a93bb2694210951dabcad479d7a6",
            "dd6344620bd84aa78236bd645eb718c1",
            "4cb0ff33599249609b636ddfd194bc42",
            "629c4a8cb7724a808e27a8cadf2abc6d",
            "62add678babf4350a63a83cca2f799fd",
            "7f16c03da788431da660976bd6196043",
            "210b59606a9247c690cba121dd6bad7c",
            "5b11bac8fddb4f39876647f35c0f274e",
            "b084a0d7de0848a78dc3f6e809145cbb",
            "69b5a774b36e4fb8a28936a48c840a6d",
            "ae0f84267c4f4910beeac58a41ff314b",
            "3c82f6e0c2c94a6684a13cc774938c8b",
            "becf689a74094e1ba51839b26444d999",
            "dd16f6fce56f4452aab4bbda3dc4bc1e",
            "35f627c6dff84c14909d7587006e597f",
            "c81d79be301142cea9224475411e0385",
            "9068b85a02e340d6abf51e0d2e2048b1"
          ]
        },
        "id": "fIlwEvcMb4pb",
        "outputId": "6e2be462-39c7-4fbf-f402-44bf2da48c6a"
      },
      "source": [
        "model_name = 'bert-base-multilingual-cased'\r\n",
        "# Load the BERT tokenizer.\r\n",
        "print(f'Loading {model_name} tokenizer...')\r\n",
        "tokenizer = AutoTokenizer.from_pretrained(model_name, do_lower_case=False)"
      ],
      "execution_count": 30,
      "outputs": [
        {
          "output_type": "stream",
          "text": [
            "Loading bert-base-multilingual-cased tokenizer...\n"
          ],
          "name": "stdout"
        },
        {
          "output_type": "display_data",
          "data": {
            "application/vnd.jupyter.widget-view+json": {
              "model_id": "dcd5b50a3fc94104ba225609da572e42",
              "version_minor": 0,
              "version_major": 2
            },
            "text/plain": [
              "HBox(children=(FloatProgress(value=0.0, description='Downloading', max=625.0, style=ProgressStyle(description_…"
            ]
          },
          "metadata": {
            "tags": []
          }
        },
        {
          "output_type": "stream",
          "text": [
            "\n"
          ],
          "name": "stdout"
        },
        {
          "output_type": "display_data",
          "data": {
            "application/vnd.jupyter.widget-view+json": {
              "model_id": "dd6344620bd84aa78236bd645eb718c1",
              "version_minor": 0,
              "version_major": 2
            },
            "text/plain": [
              "HBox(children=(FloatProgress(value=0.0, description='Downloading', max=995526.0, style=ProgressStyle(descripti…"
            ]
          },
          "metadata": {
            "tags": []
          }
        },
        {
          "output_type": "stream",
          "text": [
            "\n"
          ],
          "name": "stdout"
        },
        {
          "output_type": "display_data",
          "data": {
            "application/vnd.jupyter.widget-view+json": {
              "model_id": "69b5a774b36e4fb8a28936a48c840a6d",
              "version_minor": 0,
              "version_major": 2
            },
            "text/plain": [
              "HBox(children=(FloatProgress(value=0.0, description='Downloading', max=1961828.0, style=ProgressStyle(descript…"
            ]
          },
          "metadata": {
            "tags": []
          }
        },
        {
          "output_type": "stream",
          "text": [
            "\n"
          ],
          "name": "stdout"
        }
      ]
    },
    {
      "cell_type": "code",
      "metadata": {
        "id": "cWNt4eOLofmF"
      },
      "source": [
        "lengths = []\r\n",
        "for text in train_sentences:\r\n",
        "  lengths.append(len(text))       "
      ],
      "execution_count": 31,
      "outputs": []
    },
    {
      "cell_type": "code",
      "metadata": {
        "colab": {
          "base_uri": "https://localhost:8080/",
          "height": 427
        },
        "id": "hbdGRA3Bo02O",
        "outputId": "b259e2a6-bea4-4a17-ccdb-fad081af1faa"
      },
      "source": [
        "\r\n",
        "# Use plot styling from seaborn.\r\n",
        "sns.set(style='darkgrid')\r\n",
        "\r\n",
        "# Increase the plot size and font size.\r\n",
        "sns.set(font_scale=1.5)\r\n",
        "plt.rcParams[\"figure.figsize\"] = (12,6)\r\n",
        "\r\n",
        "plt.scatter(range(0, len(lengths)), lengths, marker=\"|\")\r\n",
        "\r\n",
        "plt.xlabel('Sample Number')\r\n",
        "plt.ylabel('Sequence Length')\r\n",
        "plt.title('Samples BEFORE Tokenizing')\r\n",
        "\r\n",
        "plt.show()"
      ],
      "execution_count": 32,
      "outputs": [
        {
          "output_type": "display_data",
          "data": {
            "image/png": "[encoded data removed]",
            "text/plain": [
              "<Figure size 864x432 with 1 Axes>"
            ]
          },
          "metadata": {
            "tags": []
          }
        }
      ]
    },
    {
      "cell_type": "markdown",
      "metadata": {
        "id": "9rMhLNhPcZjU"
      },
      "source": [
        "### Tokenizing the sequences"
      ]
    },
    {
      "cell_type": "code",
      "metadata": {
        "id": "t7JsLi3EdEje"
      },
      "source": [
        "max_input_length = 400"
      ],
      "execution_count": 33,
      "outputs": []
    },
    {
      "cell_type": "code",
      "metadata": {
        "colab": {
          "base_uri": "https://localhost:8080/"
        },
        "id": "J968o8RJcUEd",
        "outputId": "c834d36c-5a9f-463b-a1d6-bc6542f0a021"
      },
      "source": [
        "full_input_ids = []\r\n",
        "labels = []\r\n",
        "\r\n",
        "# Tokenize all training examples\r\n",
        "print('Tokenizing {:,} training samples...'.format(len(train_sentences)))\r\n",
        "\r\n",
        "# Choose an interval on which to print progress updates.\r\n",
        "update_interval = good_update_interval(total_iters=len(train_sentences), num_desired_updates=10)\r\n",
        "\r\n",
        "# For each training example...\r\n",
        "for text in train_sentences:\r\n",
        "    \r\n",
        "    # Report progress.\r\n",
        "    if ((len(full_input_ids) % update_interval) == 0):\r\n",
        "        print('  Tokenized {:,} samples.'.format(len(full_input_ids)))\r\n",
        "\r\n",
        "    # Tokenize the sentence.\r\n",
        "    input_ids = tokenizer.encode(text=text,           \r\n",
        "                                 add_special_tokens=True, \r\n",
        "                                 max_length=max_input_length,  \r\n",
        "                                 truncation=True,     \r\n",
        "                                 padding=False)       \r\n",
        "                                 \r\n",
        "    # Add the tokenized result to our list.\r\n",
        "    full_input_ids.append(input_ids)\r\n",
        "    \r\n",
        "print('DONE.')\r\n",
        "print('{:>10,} samples'.format(len(full_input_ids)))"
      ],
      "execution_count": 34,
      "outputs": [
        {
          "output_type": "stream",
          "text": [
            "Tokenizing 6,217 training samples...\n",
            "  Tokenized 0 samples.\n",
            "  Tokenized 600 samples.\n",
            "  Tokenized 1,200 samples.\n",
            "  Tokenized 1,800 samples.\n",
            "  Tokenized 2,400 samples.\n",
            "  Tokenized 3,000 samples.\n",
            "  Tokenized 3,600 samples.\n",
            "  Tokenized 4,200 samples.\n",
            "  Tokenized 4,800 samples.\n",
            "  Tokenized 5,400 samples.\n",
            "  Tokenized 6,000 samples.\n",
            "DONE.\n",
            "     6,217 samples\n"
          ],
          "name": "stdout"
        }
      ]
    },
    {
      "cell_type": "code",
      "metadata": {
        "id": "rZzhO2tZeXur"
      },
      "source": [
        "# Get all of the lengths.\r\n",
        "unsorted_lengths = [len(x) for x in full_input_ids]"
      ],
      "execution_count": 35,
      "outputs": []
    },
    {
      "cell_type": "code",
      "metadata": {
        "colab": {
          "base_uri": "https://localhost:8080/",
          "height": 427
        },
        "id": "x7c_mYuVed_H",
        "outputId": "fe8df0ee-60f2-41ac-c195-cf65c1b97dc4"
      },
      "source": [
        "\r\n",
        "# Use plot styling from seaborn.\r\n",
        "sns.set(style='darkgrid')\r\n",
        "\r\n",
        "# Increase the plot size and font size.\r\n",
        "sns.set(font_scale=1.5)\r\n",
        "plt.rcParams[\"figure.figsize\"] = (12,6)\r\n",
        "\r\n",
        "plt.scatter(range(0, len(unsorted_lengths)), unsorted_lengths, marker=\"|\")\r\n",
        "\r\n",
        "plt.xlabel('Sample Number')\r\n",
        "plt.ylabel('Sequence Length')\r\n",
        "plt.title('Samples BEFORE Sorting')\r\n",
        "\r\n",
        "plt.show()"
      ],
      "execution_count": 36,
      "outputs": [
        {
          "output_type": "display_data",
          "data": {
            "image/png": "[encoded data removed]",
            "text/plain": [
              "<Figure size 864x432 with 1 Axes>"
            ]
          },
          "metadata": {
            "tags": []
          }
        }
      ]
    },
    {
      "cell_type": "code",
      "metadata": {
        "id": "7PaeohUVegmv"
      },
      "source": [
        "# Sort the two lists together by the length of the input sequence.\r\n",
        "train_samples = sorted(zip(full_input_ids, train_labels), key=lambda x: len(x[0]))"
      ],
      "execution_count": 37,
      "outputs": []
    },
    {
      "cell_type": "code",
      "metadata": {
        "colab": {
          "base_uri": "https://localhost:8080/"
        },
        "id": "_9nyx-BtepE4",
        "outputId": "df693084-0539-4c18-ec7d-6294013854ea"
      },
      "source": [
        "train_samples[0:5]"
      ],
      "execution_count": 38,
      "outputs": [
        {
          "output_type": "execute_result",
          "data": {
            "text/plain": [
              "[([101, 26918, 102], 0),\n",
              " ([101, 25212, 102], 5),\n",
              " ([101, 12128, 11850, 102], 5),\n",
              " ([101, 11171, 150, 102], 5),\n",
              " ([101, 12786, 93742, 102], 5)]"
            ]
          },
          "metadata": {
            "tags": []
          },
          "execution_count": 38
        }
      ]
    },
    {
      "cell_type": "code",
      "metadata": {
        "colab": {
          "base_uri": "https://localhost:8080/"
        },
        "id": "rBxJhEieetFh",
        "outputId": "6079a5b8-a4db-4a2e-8355-0a41d6cedb2c"
      },
      "source": [
        "print('Shortest sample:', len(train_samples[0][0]))\r\n",
        "print('Longest sample:', len(train_samples[-1][0]))"
      ],
      "execution_count": 39,
      "outputs": [
        {
          "output_type": "stream",
          "text": [
            "Shortest sample: 3\n",
            "Longest sample: 374\n"
          ],
          "name": "stdout"
        }
      ]
    },
    {
      "cell_type": "code",
      "metadata": {
        "id": "P44bFOI-e7hW"
      },
      "source": [
        "# Get the new list of lengths after sorting.\r\n",
        "sorted_lengths = [len(s[0]) for s in train_samples]"
      ],
      "execution_count": 40,
      "outputs": []
    },
    {
      "cell_type": "code",
      "metadata": {
        "colab": {
          "base_uri": "https://localhost:8080/",
          "height": 427
        },
        "id": "9P5ZX99le_G1",
        "outputId": "7a894811-3758-4eb1-890f-d141361758e9"
      },
      "source": [
        "\r\n",
        "plt.plot(range(0, len(sorted_lengths)), sorted_lengths)\r\n",
        "\r\n",
        "plt.xlabel('Sample Number')\r\n",
        "plt.ylabel('Sequence Length')\r\n",
        "plt.title('Samples after Sorting')\r\n",
        "\r\n",
        "plt.show()"
      ],
      "execution_count": 41,
      "outputs": [
        {
          "output_type": "display_data",
          "data": {
            "image/png": "[encoded data removed]",
            "text/plain": [
              "<Figure size 864x432 with 1 Axes>"
            ]
          },
          "metadata": {
            "tags": []
          }
        }
      ]
    },
    {
      "cell_type": "markdown",
      "metadata": {
        "id": "Eh1z0xugfF2t"
      },
      "source": [
        "### Random Batch Selections"
      ]
    },
    {
      "cell_type": "code",
      "metadata": {
        "colab": {
          "base_uri": "https://localhost:8080/"
        },
        "id": "gPrYkFMcgm5H",
        "outputId": "8e838e12-6bc6-47dc-98c3-5ebceb898544"
      },
      "source": [
        "train_samples[0]"
      ],
      "execution_count": 42,
      "outputs": [
        {
          "output_type": "execute_result",
          "data": {
            "text/plain": [
              "([101, 26918, 102], 0)"
            ]
          },
          "metadata": {
            "tags": []
          },
          "execution_count": 42
        }
      ]
    },
    {
      "cell_type": "code",
      "metadata": {
        "id": "isMxwgezfAvO"
      },
      "source": [
        "batch_size = 16"
      ],
      "execution_count": 43,
      "outputs": []
    },
    {
      "cell_type": "code",
      "metadata": {
        "colab": {
          "base_uri": "https://localhost:8080/"
        },
        "id": "s0tjD8pIfJ0S",
        "outputId": "0a10b469-f21b-4cbf-80b5-5dca19fb2c71"
      },
      "source": [
        "# List of batches that we'll construct.\r\n",
        "batch_ordered_sentences = []\r\n",
        "batch_ordered_labels = []\r\n",
        "\r\n",
        "print('Creating training batches of size {:}'.format(batch_size))\r\n",
        "\r\n",
        "# Loop over all of the input samples...    \r\n",
        "while len(train_samples) > 0:\r\n",
        "    \r\n",
        "    # Report progress.\r\n",
        "    if ((len(batch_ordered_sentences) % 100) == 0):\r\n",
        "        print('  Selected {:,} batches.'.format(len(batch_ordered_sentences)))\r\n",
        "\r\n",
        "    # `to_take` is our actual batch size. It will be `batch_size` until \r\n",
        "    # we get to the last batch, which may be smaller. \r\n",
        "    to_take = min(batch_size, len(train_samples))\r\n",
        "\r\n",
        "    # Pick a random index in the list of remaining samples to start\r\n",
        "    # our batch at.\r\n",
        "    select = random.randint(0, len(train_samples) - to_take)\r\n",
        "\r\n",
        "    # Select a contiguous batch of samples starting at `select`.\r\n",
        "    batch = train_samples[select:(select + to_take)]\r\n",
        "\r\n",
        "    # Each sample is a tuple--split them apart to create a separate list of \r\n",
        "    # sequences and a list of labels for this batch.\r\n",
        "    batch_ordered_sentences.append([s[0] for s in batch])\r\n",
        "    batch_ordered_labels.append([s[1] for s in batch])\r\n",
        "\r\n",
        "    # Remove these samples from the list.\r\n",
        "    del train_samples[select:select + to_take]\r\n",
        "\r\n",
        "print('\\n  DONE - {:,} batches.'.format(len(batch_ordered_sentences)))"
      ],
      "execution_count": 44,
      "outputs": [
        {
          "output_type": "stream",
          "text": [
            "Creating training batches of size 16\n",
            "  Selected 0 batches.\n",
            "  Selected 100 batches.\n",
            "  Selected 200 batches.\n",
            "  Selected 300 batches.\n",
            "\n",
            "  DONE - 389 batches.\n"
          ],
          "name": "stdout"
        }
      ]
    },
    {
      "cell_type": "code",
      "metadata": {
        "colab": {
          "base_uri": "https://localhost:8080/"
        },
        "id": "rf91Dd3LhBaP",
        "outputId": "c1e52cda-ae6b-44ef-da50-3437b0aa631a"
      },
      "source": [
        "print(batch_ordered_sentences[0])"
      ],
      "execution_count": 45,
      "outputs": [
        {
          "output_type": "stream",
          "text": [
            "[[101, 51635, 13060, 10399, 31919, 10138, 27920, 15805, 10824, 10162, 20768, 30991, 13007, 19034, 119, 119, 182, 10731, 45466, 10129, 12011, 108, 17421, 11537, 119, 182, 11537, 11008, 11149, 11527, 11680, 50879, 14917, 13723, 100, 102], [101, 25148, 54685, 10138, 10192, 14892, 48020, 10113, 55515, 56332, 10525, 10146, 10216, 31301, 10116, 10840, 10138, 17684, 10991, 10170, 12677, 10862, 177, 26238, 10862, 13587, 10229, 10435, 10105, 12504, 14917, 10113, 70974, 74563, 10703, 102], [101, 12037, 10112, 55154, 13723, 119, 119, 119, 56237, 35659, 14441, 13410, 13986, 11680, 37403, 25388, 56237, 98042, 51930, 10347, 10853, 119, 119, 23886, 10406, 14854, 31127, 10253, 37534, 10113, 50385, 13723, 64606, 83211, 110026, 102], [101, 137, 11255, 16326, 10401, 33799, 26425, 10237, 15147, 13702, 39129, 10132, 29120, 10943, 108270, 10288, 10192, 10317, 10730, 10269, 10229, 63923, 19357, 10161, 10478, 12804, 103304, 89540, 39129, 46503, 65817, 10112, 95190, 11083, 93742, 102], [101, 1294, 25703, 14142, 39265, 1295, 14284, 22819, 12192, 1265, 14284, 14851, 30668, 10284, 20194, 10213, 10730, 11747, 11249, 10679, 24627, 20715, 13145, 10824, 63252, 10921, 33939, 115, 10146, 30141, 10525, 119, 119, 119, 119, 102], [101, 76434, 10679, 11210, 10104, 77044, 14990, 31097, 10435, 10105, 12504, 10139, 10921, 11357, 40430, 10219, 12593, 10253, 10163, 10133, 12037, 10112, 10824, 56374, 10116, 46503, 76450, 10679, 11210, 10104, 21127, 10240, 10347, 71582, 10138, 102], [101, 12786, 93742, 119, 119, 42384, 10230, 30918, 11850, 10531, 119, 119, 119, 119, 11791, 10798, 119, 119, 119, 42169, 18289, 10107, 119, 119, 28248, 10116, 42169, 18289, 10107, 119, 146, 11850, 42169, 18289, 10107, 102], [101, 137, 44286, 10703, 14768, 68398, 42724, 10116, 44226, 1295, 23558, 14060, 40629, 77707, 119, 119, 119, 119, 1281, 27530, 16581, 1277, 14284, 38411, 14284, 1255, 14851, 1284, 34740, 16581, 26780, 1250, 16014, 64643, 98428, 102], [101, 19728, 10991, 37836, 14752, 22131, 43954, 10853, 101893, 76596, 32812, 10525, 101893, 10815, 10525, 10170, 10969, 78069, 14555, 24328, 10133, 21133, 45854, 12041, 12683, 85115, 21238, 36038, 10115, 188, 119, 119, 119, 119, 189, 102], [101, 1281, 13232, 111359, 16132, 13350, 20649, 1250, 12192, 16581, 111364, 14284, 17499, 21736, 10454, 21566, 29917, 10342, 119, 119, 119, 20648, 10305, 10170, 45854, 11083, 14441, 10369, 21238, 60070, 10288, 10198, 16587, 10976, 10347, 10853, 102], [101, 88476, 13809, 57508, 88548, 83750, 69722, 41664, 52609, 104498, 86961, 16456, 111365, 43744, 1269, 21136, 14921, 73513, 12192, 40409, 1281, 34439, 83929, 14284, 119, 119, 119, 119, 108, 1286, 104175, 57508, 88548, 31833, 68041, 119, 102], [101, 11101, 12211, 10550, 93742, 10414, 10320, 23447, 59562, 49123, 13207, 68431, 10116, 93742, 10293, 38154, 89661, 10113, 18970, 16530, 10390, 20070, 10138, 14441, 59155, 10112, 10549, 16441, 26506, 12683, 10466, 30113, 10116, 20648, 46671, 46671, 102], [101, 1277, 20649, 94352, 13232, 1277, 13232, 43568, 55710, 65846, 65523, 1269, 42854, 76226, 1295, 86916, 13350, 21234, 13350, 22621, 1263, 49660, 13833, 1277, 14284, 26521, 90451, 14921, 1250, 12192, 16581, 90451, 14284, 17499, 22621, 50531, 102], [101, 26907, 10410, 10931, 10537, 10410, 10931, 10410, 10931, 10537, 11359, 10537, 11359, 10410, 106, 182, 11090, 10245, 14382, 10595, 21629, 15201, 13903, 63252, 24488, 11273, 30297, 10106, 169, 30676, 13538, 55538, 58730, 55671, 29833, 11490, 102], [101, 137, 44286, 10703, 14768, 68398, 42724, 10116, 15845, 17499, 41664, 43744, 1274, 13833, 26394, 69331, 22819, 1251, 41664, 43744, 1272, 42619, 34439, 1284, 38114, 35768, 13833, 1253, 10192, 1265, 20711, 171, 10161, 1286, 14921, 69722, 102], [101, 137, 28941, 28044, 10921, 31826, 11527, 18453, 1289, 43744, 1281, 90813, 16581, 21234, 1289, 14284, 41787, 111358, 16014, 1279, 90451, 77708, 124, 119, 119, 1279, 90451, 14921, 14142, 57508, 17499, 38411, 57508, 100, 39055, 11630, 102]]\n"
          ],
          "name": "stdout"
        }
      ]
    },
    {
      "cell_type": "code",
      "metadata": {
        "colab": {
          "base_uri": "https://localhost:8080/"
        },
        "id": "qmkQK_gVgiTu",
        "outputId": "6d7e0798-f95f-48bf-8118-212702bc1238"
      },
      "source": [
        "batch_ordered_labels[0]"
      ],
      "execution_count": 46,
      "outputs": [
        {
          "output_type": "execute_result",
          "data": {
            "text/plain": [
              "[1, 1, 2, 3, 1, 1, 5, 2, 3, 0, 0, 1, 0, 5, 2, 2]"
            ]
          },
          "metadata": {
            "tags": []
          },
          "execution_count": 46
        }
      ]
    },
    {
      "cell_type": "markdown",
      "metadata": {
        "id": "xZ0TFA8Mfn6m"
      },
      "source": [
        "### Padding"
      ]
    },
    {
      "cell_type": "code",
      "metadata": {
        "id": "c9rdswcpfTip"
      },
      "source": [
        "py_inputs = []\r\n",
        "py_attn_masks = []\r\n",
        "py_labels = []\r\n",
        "\r\n",
        "# For each batch...\r\n",
        "for (batch_inputs, batch_labels) in zip(batch_ordered_sentences, batch_ordered_labels):\r\n",
        "\r\n",
        "    # New version of the batch, this time with padded sequences and now with\r\n",
        "    # attention masks defined.\r\n",
        "    batch_padded_inputs = []\r\n",
        "    batch_attn_masks = []\r\n",
        "    \r\n",
        "    # First, find the longest sample in the batch. \r\n",
        "    # Note that the sequences do currently include the special tokens!\r\n",
        "    max_size = max([len(sen) for sen in batch_inputs])\r\n",
        "\r\n",
        "    #print('Max size:', max_size)\r\n",
        "\r\n",
        "    # For each input in this batch...\r\n",
        "    for sen in batch_inputs:\r\n",
        "        \r\n",
        "        # How many pad tokens do we need to add?\r\n",
        "        num_pads = max_size - len(sen)\r\n",
        "\r\n",
        "        # Add `num_pads` padding tokens to the end of the sequence.\r\n",
        "        padded_input = sen + [tokenizer.pad_token_id]*num_pads\r\n",
        "\r\n",
        "        # Define the attention mask--it's just a `1` for every real token\r\n",
        "        # and a `0` for every padding token.\r\n",
        "        attn_mask = [1] * len(sen) + [0] * num_pads\r\n",
        "\r\n",
        "        # Add the padded results to the batch.\r\n",
        "        batch_padded_inputs.append(padded_input)\r\n",
        "        batch_attn_masks.append(attn_mask)\r\n",
        "\r\n",
        "    # Our batch has been padded, so we need to save this updated batch.\r\n",
        "    # We also need the inputs to be PyTorch tensors, so we'll do that here.\r\n",
        "    py_inputs.append(torch.tensor(batch_padded_inputs))\r\n",
        "    py_attn_masks.append(torch.tensor(batch_attn_masks))\r\n",
        "    py_labels.append(torch.tensor(batch_labels))\r\n"
      ],
      "execution_count": 47,
      "outputs": []
    },
    {
      "cell_type": "markdown",
      "metadata": {
        "id": "roS5lLWdX-5J"
      },
      "source": [
        "### Check the number of token reductions because of smart batching"
      ]
    },
    {
      "cell_type": "code",
      "metadata": {
        "colab": {
          "base_uri": "https://localhost:8080/"
        },
        "id": "wlh7cteVfroV",
        "outputId": "02dc8e3c-cb16-45ad-9797-bb8930b3261f"
      },
      "source": [
        "# Get the new list of lengths after sorting.\r\n",
        "\r\n",
        "padded_lengths = []\r\n",
        "\r\n",
        "# For each batch...\r\n",
        "for batch in py_inputs:\r\n",
        "    \r\n",
        "    # For each sample...\r\n",
        "    for s in batch:\r\n",
        "    \r\n",
        "        # Record its length.\r\n",
        "        padded_lengths.append(len(s))\r\n",
        "\r\n",
        "# Sum up the lengths to the get the total number of tokens after smart batching.\r\n",
        "smart_token_count = np.sum(padded_lengths)\r\n",
        "\r\n",
        "# To get the total number of tokens in the dataset using fixed padding, it's\r\n",
        "# as simple as the number of samples times our `max_len` parameter (that we\r\n",
        "# would pad everything to).\r\n",
        "fixed_token_count = len(train_sentences) * max_input_length\r\n",
        "\r\n",
        "# Calculate the percentage reduction.\r\n",
        "prcnt_reduced = (fixed_token_count - smart_token_count) / float(fixed_token_count) \r\n",
        "\r\n",
        "print('Total tokens:')\r\n",
        "print('   Fixed Padding: {:,}'.format(fixed_token_count))\r\n",
        "print('  Smart Batching: {:,}  ({:.1%} less)'.format(smart_token_count, prcnt_reduced))\r\n"
      ],
      "execution_count": 48,
      "outputs": [
        {
          "output_type": "stream",
          "text": [
            "Total tokens:\n",
            "   Fixed Padding: 2,486,800\n",
            "  Smart Batching: 147,270  (94.1% less)\n"
          ],
          "name": "stdout"
        }
      ]
    },
    {
      "cell_type": "markdown",
      "metadata": {
        "id": "8wgdhsI-YIAL"
      },
      "source": [
        "## Load the model configuration from the transformers library using AutoConfig"
      ]
    },
    {
      "cell_type": "code",
      "metadata": {
        "colab": {
          "base_uri": "https://localhost:8080/"
        },
        "id": "9er7EHvdfudf",
        "outputId": "38e8381a-4015-402b-fe48-cb4c8907dfc4"
      },
      "source": [
        "# Load the Config object, with an output configured for classification.\r\n",
        "config = AutoConfig.from_pretrained(pretrained_model_name_or_path=model_name,\r\n",
        "                                    num_labels=6)\r\n",
        "\r\n",
        "print('Config type:', str(type(config)), '\\n')\r\n"
      ],
      "execution_count": 49,
      "outputs": [
        {
          "output_type": "stream",
          "text": [
            "Config type: <class 'transformers.models.bert.configuration_bert.BertConfig'> \n",
            "\n"
          ],
          "name": "stdout"
        }
      ]
    },
    {
      "cell_type": "code",
      "metadata": {
        "colab": {
          "base_uri": "https://localhost:8080/",
          "height": 170,
          "referenced_widgets": [
            "5c049cfee7934820bd074e6864743a01",
            "db965a8af2de40279586f54b1c8f3d6d",
            "ed369f197a964a3fa7787c8b730627dc",
            "0054122071ba4fd7be0d3de0d93cbaaa",
            "7d5d5b72efe74021ae6aff81842ce790",
            "ebda0f905d584ae899b719e8f57e2b17",
            "d4386c6cf4774b5da1fce96d987a8754",
            "974e558025624009b3ee5ef7a5fc1a77"
          ]
        },
        "id": "bWvc9Ikv4HtD",
        "outputId": "8a86b7ae-f5b0-4b80-9a68-0d15b11d55b9"
      },
      "source": [
        "model = AutoModelForSequenceClassification.from_pretrained(pretrained_model_name_or_path=model_name,config = config)"
      ],
      "execution_count": 50,
      "outputs": [
        {
          "output_type": "display_data",
          "data": {
            "application/vnd.jupyter.widget-view+json": {
              "model_id": "5c049cfee7934820bd074e6864743a01",
              "version_minor": 0,
              "version_major": 2
            },
            "text/plain": [
              "HBox(children=(FloatProgress(value=0.0, description='Downloading', max=714314041.0, style=ProgressStyle(descri…"
            ]
          },
          "metadata": {
            "tags": []
          }
        },
        {
          "output_type": "stream",
          "text": [
            "\n"
          ],
          "name": "stdout"
        },
        {
          "output_type": "stream",
          "text": [
            "Some weights of the model checkpoint at bert-base-multilingual-cased were not used when initializing BertForSequenceClassification: ['cls.predictions.bias', 'cls.predictions.transform.dense.weight', 'cls.predictions.transform.dense.bias', 'cls.predictions.decoder.weight', 'cls.seq_relationship.weight', 'cls.seq_relationship.bias', 'cls.predictions.transform.LayerNorm.weight', 'cls.predictions.transform.LayerNorm.bias']\n",
            "- This IS expected if you are initializing BertForSequenceClassification from the checkpoint of a model trained on another task or with another architecture (e.g. initializing a BertForSequenceClassification model from a BertForPreTraining model).\n",
            "- This IS NOT expected if you are initializing BertForSequenceClassification from the checkpoint of a model that you expect to be exactly identical (initializing a BertForSequenceClassification model from a BertForSequenceClassification model).\n",
            "Some weights of BertForSequenceClassification were not initialized from the model checkpoint at bert-base-multilingual-cased and are newly initialized: ['classifier.weight', 'classifier.bias']\n",
            "You should probably TRAIN this model on a down-stream task to be able to use it for predictions and inference.\n"
          ],
          "name": "stderr"
        }
      ]
    },
    {
      "cell_type": "code",
      "metadata": {
        "colab": {
          "base_uri": "https://localhost:8080/"
        },
        "id": "Xouf5M2B55ei",
        "outputId": "197e683a-22b1-49a7-d73e-a5f8d5248269"
      },
      "source": [
        "model.cuda()"
      ],
      "execution_count": 51,
      "outputs": [
        {
          "output_type": "execute_result",
          "data": {
            "text/plain": [
              "BertForSequenceClassification(\n",
              "  (bert): BertModel(\n",
              "    (embeddings): BertEmbeddings(\n",
              "      (word_embeddings): Embedding(119547, 768, padding_idx=0)\n",
              "      (position_embeddings): Embedding(512, 768)\n",
              "      (token_type_embeddings): Embedding(2, 768)\n",
              "      (LayerNorm): LayerNorm((768,), eps=1e-12, elementwise_affine=True)\n",
              "      (dropout): Dropout(p=0.1, inplace=False)\n",
              "    )\n",
              "    (encoder): BertEncoder(\n",
              "      (layer): ModuleList(\n",
              "        (0): BertLayer(\n",
              "          (attention): BertAttention(\n",
              "            (self): BertSelfAttention(\n",
              "              (query): Linear(in_features=768, out_features=768, bias=True)\n",
              "              (key): Linear(in_features=768, out_features=768, bias=True)\n",
              "              (value): Linear(in_features=768, out_features=768, bias=True)\n",
              "              (dropout): Dropout(p=0.1, inplace=False)\n",
              "            )\n",
              "            (output): BertSelfOutput(\n",
              "              (dense): Linear(in_features=768, out_features=768, bias=True)\n",
              "              (LayerNorm): LayerNorm((768,), eps=1e-12, elementwise_affine=True)\n",
              "              (dropout): Dropout(p=0.1, inplace=False)\n",
              "            )\n",
              "          )\n",
              "          (intermediate): BertIntermediate(\n",
              "            (dense): Linear(in_features=768, out_features=3072, bias=True)\n",
              "          )\n",
              "          (output): BertOutput(\n",
              "            (dense): Linear(in_features=3072, out_features=768, bias=True)\n",
              "            (LayerNorm): LayerNorm((768,), eps=1e-12, elementwise_affine=True)\n",
              "            (dropout): Dropout(p=0.1, inplace=False)\n",
              "          )\n",
              "        )\n",
              "        (1): BertLayer(\n",
              "          (attention): BertAttention(\n",
              "            (self): BertSelfAttention(\n",
              "              (query): Linear(in_features=768, out_features=768, bias=True)\n",
              "              (key): Linear(in_features=768, out_features=768, bias=True)\n",
              "              (value): Linear(in_features=768, out_features=768, bias=True)\n",
              "              (dropout): Dropout(p=0.1, inplace=False)\n",
              "            )\n",
              "            (output): BertSelfOutput(\n",
              "              (dense): Linear(in_features=768, out_features=768, bias=True)\n",
              "              (LayerNorm): LayerNorm((768,), eps=1e-12, elementwise_affine=True)\n",
              "              (dropout): Dropout(p=0.1, inplace=False)\n",
              "            )\n",
              "          )\n",
              "          (intermediate): BertIntermediate(\n",
              "            (dense): Linear(in_features=768, out_features=3072, bias=True)\n",
              "          )\n",
              "          (output): BertOutput(\n",
              "            (dense): Linear(in_features=3072, out_features=768, bias=True)\n",
              "            (LayerNorm): LayerNorm((768,), eps=1e-12, elementwise_affine=True)\n",
              "            (dropout): Dropout(p=0.1, inplace=False)\n",
              "          )\n",
              "        )\n",
              "        (2): BertLayer(\n",
              "          (attention): BertAttention(\n",
              "            (self): BertSelfAttention(\n",
              "              (query): Linear(in_features=768, out_features=768, bias=True)\n",
              "              (key): Linear(in_features=768, out_features=768, bias=True)\n",
              "              (value): Linear(in_features=768, out_features=768, bias=True)\n",
              "              (dropout): Dropout(p=0.1, inplace=False)\n",
              "            )\n",
              "            (output): BertSelfOutput(\n",
              "              (dense): Linear(in_features=768, out_features=768, bias=True)\n",
              "              (LayerNorm): LayerNorm((768,), eps=1e-12, elementwise_affine=True)\n",
              "              (dropout): Dropout(p=0.1, inplace=False)\n",
              "            )\n",
              "          )\n",
              "          (intermediate): BertIntermediate(\n",
              "            (dense): Linear(in_features=768, out_features=3072, bias=True)\n",
              "          )\n",
              "          (output): BertOutput(\n",
              "            (dense): Linear(in_features=3072, out_features=768, bias=True)\n",
              "            (LayerNorm): LayerNorm((768,), eps=1e-12, elementwise_affine=True)\n",
              "            (dropout): Dropout(p=0.1, inplace=False)\n",
              "          )\n",
              "        )\n",
              "        (3): BertLayer(\n",
              "          (attention): BertAttention(\n",
              "            (self): BertSelfAttention(\n",
              "              (query): Linear(in_features=768, out_features=768, bias=True)\n",
              "              (key): Linear(in_features=768, out_features=768, bias=True)\n",
              "              (value): Linear(in_features=768, out_features=768, bias=True)\n",
              "              (dropout): Dropout(p=0.1, inplace=False)\n",
              "            )\n",
              "            (output): BertSelfOutput(\n",
              "              (dense): Linear(in_features=768, out_features=768, bias=True)\n",
              "              (LayerNorm): LayerNorm((768,), eps=1e-12, elementwise_affine=True)\n",
              "              (dropout): Dropout(p=0.1, inplace=False)\n",
              "            )\n",
              "          )\n",
              "          (intermediate): BertIntermediate(\n",
              "            (dense): Linear(in_features=768, out_features=3072, bias=True)\n",
              "          )\n",
              "          (output): BertOutput(\n",
              "            (dense): Linear(in_features=3072, out_features=768, bias=True)\n",
              "            (LayerNorm): LayerNorm((768,), eps=1e-12, elementwise_affine=True)\n",
              "            (dropout): Dropout(p=0.1, inplace=False)\n",
              "          )\n",
              "        )\n",
              "        (4): BertLayer(\n",
              "          (attention): BertAttention(\n",
              "            (self): BertSelfAttention(\n",
              "              (query): Linear(in_features=768, out_features=768, bias=True)\n",
              "              (key): Linear(in_features=768, out_features=768, bias=True)\n",
              "              (value): Linear(in_features=768, out_features=768, bias=True)\n",
              "              (dropout): Dropout(p=0.1, inplace=False)\n",
              "            )\n",
              "            (output): BertSelfOutput(\n",
              "              (dense): Linear(in_features=768, out_features=768, bias=True)\n",
              "              (LayerNorm): LayerNorm((768,), eps=1e-12, elementwise_affine=True)\n",
              "              (dropout): Dropout(p=0.1, inplace=False)\n",
              "            )\n",
              "          )\n",
              "          (intermediate): BertIntermediate(\n",
              "            (dense): Linear(in_features=768, out_features=3072, bias=True)\n",
              "          )\n",
              "          (output): BertOutput(\n",
              "            (dense): Linear(in_features=3072, out_features=768, bias=True)\n",
              "            (LayerNorm): LayerNorm((768,), eps=1e-12, elementwise_affine=True)\n",
              "            (dropout): Dropout(p=0.1, inplace=False)\n",
              "          )\n",
              "        )\n",
              "        (5): BertLayer(\n",
              "          (attention): BertAttention(\n",
              "            (self): BertSelfAttention(\n",
              "              (query): Linear(in_features=768, out_features=768, bias=True)\n",
              "              (key): Linear(in_features=768, out_features=768, bias=True)\n",
              "              (value): Linear(in_features=768, out_features=768, bias=True)\n",
              "              (dropout): Dropout(p=0.1, inplace=False)\n",
              "            )\n",
              "            (output): BertSelfOutput(\n",
              "              (dense): Linear(in_features=768, out_features=768, bias=True)\n",
              "              (LayerNorm): LayerNorm((768,), eps=1e-12, elementwise_affine=True)\n",
              "              (dropout): Dropout(p=0.1, inplace=False)\n",
              "            )\n",
              "          )\n",
              "          (intermediate): BertIntermediate(\n",
              "            (dense): Linear(in_features=768, out_features=3072, bias=True)\n",
              "          )\n",
              "          (output): BertOutput(\n",
              "            (dense): Linear(in_features=3072, out_features=768, bias=True)\n",
              "            (LayerNorm): LayerNorm((768,), eps=1e-12, elementwise_affine=True)\n",
              "            (dropout): Dropout(p=0.1, inplace=False)\n",
              "          )\n",
              "        )\n",
              "        (6): BertLayer(\n",
              "          (attention): BertAttention(\n",
              "            (self): BertSelfAttention(\n",
              "              (query): Linear(in_features=768, out_features=768, bias=True)\n",
              "              (key): Linear(in_features=768, out_features=768, bias=True)\n",
              "              (value): Linear(in_features=768, out_features=768, bias=True)\n",
              "              (dropout): Dropout(p=0.1, inplace=False)\n",
              "            )\n",
              "            (output): BertSelfOutput(\n",
              "              (dense): Linear(in_features=768, out_features=768, bias=True)\n",
              "              (LayerNorm): LayerNorm((768,), eps=1e-12, elementwise_affine=True)\n",
              "              (dropout): Dropout(p=0.1, inplace=False)\n",
              "            )\n",
              "          )\n",
              "          (intermediate): BertIntermediate(\n",
              "            (dense): Linear(in_features=768, out_features=3072, bias=True)\n",
              "          )\n",
              "          (output): BertOutput(\n",
              "            (dense): Linear(in_features=3072, out_features=768, bias=True)\n",
              "            (LayerNorm): LayerNorm((768,), eps=1e-12, elementwise_affine=True)\n",
              "            (dropout): Dropout(p=0.1, inplace=False)\n",
              "          )\n",
              "        )\n",
              "        (7): BertLayer(\n",
              "          (attention): BertAttention(\n",
              "            (self): BertSelfAttention(\n",
              "              (query): Linear(in_features=768, out_features=768, bias=True)\n",
              "              (key): Linear(in_features=768, out_features=768, bias=True)\n",
              "              (value): Linear(in_features=768, out_features=768, bias=True)\n",
              "              (dropout): Dropout(p=0.1, inplace=False)\n",
              "            )\n",
              "            (output): BertSelfOutput(\n",
              "              (dense): Linear(in_features=768, out_features=768, bias=True)\n",
              "              (LayerNorm): LayerNorm((768,), eps=1e-12, elementwise_affine=True)\n",
              "              (dropout): Dropout(p=0.1, inplace=False)\n",
              "            )\n",
              "          )\n",
              "          (intermediate): BertIntermediate(\n",
              "            (dense): Linear(in_features=768, out_features=3072, bias=True)\n",
              "          )\n",
              "          (output): BertOutput(\n",
              "            (dense): Linear(in_features=3072, out_features=768, bias=True)\n",
              "            (LayerNorm): LayerNorm((768,), eps=1e-12, elementwise_affine=True)\n",
              "            (dropout): Dropout(p=0.1, inplace=False)\n",
              "          )\n",
              "        )\n",
              "        (8): BertLayer(\n",
              "          (attention): BertAttention(\n",
              "            (self): BertSelfAttention(\n",
              "              (query): Linear(in_features=768, out_features=768, bias=True)\n",
              "              (key): Linear(in_features=768, out_features=768, bias=True)\n",
              "              (value): Linear(in_features=768, out_features=768, bias=True)\n",
              "              (dropout): Dropout(p=0.1, inplace=False)\n",
              "            )\n",
              "            (output): BertSelfOutput(\n",
              "              (dense): Linear(in_features=768, out_features=768, bias=True)\n",
              "              (LayerNorm): LayerNorm((768,), eps=1e-12, elementwise_affine=True)\n",
              "              (dropout): Dropout(p=0.1, inplace=False)\n",
              "            )\n",
              "          )\n",
              "          (intermediate): BertIntermediate(\n",
              "            (dense): Linear(in_features=768, out_features=3072, bias=True)\n",
              "          )\n",
              "          (output): BertOutput(\n",
              "            (dense): Linear(in_features=3072, out_features=768, bias=True)\n",
              "            (LayerNorm): LayerNorm((768,), eps=1e-12, elementwise_affine=True)\n",
              "            (dropout): Dropout(p=0.1, inplace=False)\n",
              "          )\n",
              "        )\n",
              "        (9): BertLayer(\n",
              "          (attention): BertAttention(\n",
              "            (self): BertSelfAttention(\n",
              "              (query): Linear(in_features=768, out_features=768, bias=True)\n",
              "              (key): Linear(in_features=768, out_features=768, bias=True)\n",
              "              (value): Linear(in_features=768, out_features=768, bias=True)\n",
              "              (dropout): Dropout(p=0.1, inplace=False)\n",
              "            )\n",
              "            (output): BertSelfOutput(\n",
              "              (dense): Linear(in_features=768, out_features=768, bias=True)\n",
              "              (LayerNorm): LayerNorm((768,), eps=1e-12, elementwise_affine=True)\n",
              "              (dropout): Dropout(p=0.1, inplace=False)\n",
              "            )\n",
              "          )\n",
              "          (intermediate): BertIntermediate(\n",
              "            (dense): Linear(in_features=768, out_features=3072, bias=True)\n",
              "          )\n",
              "          (output): BertOutput(\n",
              "            (dense): Linear(in_features=3072, out_features=768, bias=True)\n",
              "            (LayerNorm): LayerNorm((768,), eps=1e-12, elementwise_affine=True)\n",
              "            (dropout): Dropout(p=0.1, inplace=False)\n",
              "          )\n",
              "        )\n",
              "        (10): BertLayer(\n",
              "          (attention): BertAttention(\n",
              "            (self): BertSelfAttention(\n",
              "              (query): Linear(in_features=768, out_features=768, bias=True)\n",
              "              (key): Linear(in_features=768, out_features=768, bias=True)\n",
              "              (value): Linear(in_features=768, out_features=768, bias=True)\n",
              "              (dropout): Dropout(p=0.1, inplace=False)\n",
              "            )\n",
              "            (output): BertSelfOutput(\n",
              "              (dense): Linear(in_features=768, out_features=768, bias=True)\n",
              "              (LayerNorm): LayerNorm((768,), eps=1e-12, elementwise_affine=True)\n",
              "              (dropout): Dropout(p=0.1, inplace=False)\n",
              "            )\n",
              "          )\n",
              "          (intermediate): BertIntermediate(\n",
              "            (dense): Linear(in_features=768, out_features=3072, bias=True)\n",
              "          )\n",
              "          (output): BertOutput(\n",
              "            (dense): Linear(in_features=3072, out_features=768, bias=True)\n",
              "            (LayerNorm): LayerNorm((768,), eps=1e-12, elementwise_affine=True)\n",
              "            (dropout): Dropout(p=0.1, inplace=False)\n",
              "          )\n",
              "        )\n",
              "        (11): BertLayer(\n",
              "          (attention): BertAttention(\n",
              "            (self): BertSelfAttention(\n",
              "              (query): Linear(in_features=768, out_features=768, bias=True)\n",
              "              (key): Linear(in_features=768, out_features=768, bias=True)\n",
              "              (value): Linear(in_features=768, out_features=768, bias=True)\n",
              "              (dropout): Dropout(p=0.1, inplace=False)\n",
              "            )\n",
              "            (output): BertSelfOutput(\n",
              "              (dense): Linear(in_features=768, out_features=768, bias=True)\n",
              "              (LayerNorm): LayerNorm((768,), eps=1e-12, elementwise_affine=True)\n",
              "              (dropout): Dropout(p=0.1, inplace=False)\n",
              "            )\n",
              "          )\n",
              "          (intermediate): BertIntermediate(\n",
              "            (dense): Linear(in_features=768, out_features=3072, bias=True)\n",
              "          )\n",
              "          (output): BertOutput(\n",
              "            (dense): Linear(in_features=3072, out_features=768, bias=True)\n",
              "            (LayerNorm): LayerNorm((768,), eps=1e-12, elementwise_affine=True)\n",
              "            (dropout): Dropout(p=0.1, inplace=False)\n",
              "          )\n",
              "        )\n",
              "      )\n",
              "    )\n",
              "    (pooler): BertPooler(\n",
              "      (dense): Linear(in_features=768, out_features=768, bias=True)\n",
              "      (activation): Tanh()\n",
              "    )\n",
              "  )\n",
              "  (dropout): Dropout(p=0.1, inplace=False)\n",
              "  (classifier): Linear(in_features=768, out_features=6, bias=True)\n",
              ")"
            ]
          },
          "metadata": {
            "tags": []
          },
          "execution_count": 51
        }
      ]
    },
    {
      "cell_type": "markdown",
      "metadata": {
        "id": "SXJHBVlxYR-l"
      },
      "source": [
        "## Load the model from the transformers library using AutoModel"
      ]
    },
    {
      "cell_type": "code",
      "metadata": {
        "colab": {
          "base_uri": "https://localhost:8080/"
        },
        "id": "n8J4r6KyhveR",
        "outputId": "2de247e1-f6c2-4e1b-fe34-92edcd98efe5"
      },
      "source": [
        "# Load the pre-trained model for classification, passing in the `config` from\r\n",
        "# above.\r\n",
        "bert = AutoModel.from_pretrained(\r\n",
        "    pretrained_model_name_or_path=model_name,\r\n",
        "    config=config)\r\n",
        "\r\n",
        "print('\\nModel type:', str(type(bert)))\r\n"
      ],
      "execution_count": null,
      "outputs": [
        {
          "output_type": "stream",
          "text": [
            "\n",
            "Model type: <class 'transformers.models.bert.modeling_bert.BertModel'>\n"
          ],
          "name": "stdout"
        }
      ]
    },
    {
      "cell_type": "code",
      "metadata": {
        "id": "RcFMgf5EuPAF"
      },
      "source": [
        "# freeze all the parameters\r\n",
        "for param in bert.parameters():\r\n",
        "    param.requires_grad = False"
      ],
      "execution_count": null,
      "outputs": []
    },
    {
      "cell_type": "markdown",
      "metadata": {
        "id": "NS_-0rBDYeY5"
      },
      "source": [
        "## Creating a custom BERT model "
      ]
    },
    {
      "cell_type": "code",
      "metadata": {
        "id": "bmGtZwykJ39i"
      },
      "source": [
        "\r\n",
        "class BERT_Model(nn.Module):\r\n",
        "    ## defining the constructor for the class\r\n",
        "    def __init__(self, bert,num_labels):\r\n",
        "      ## calling the super class constructor\r\n",
        "      super(BERT_Model, self).__init__()\r\n",
        "      ## adding the bert layer to the model\r\n",
        "      self.bert = bert        \r\n",
        "      # relu activation function\r\n",
        "      self.relu =  nn.ReLU()\r\n",
        "      # adding a dense layer to our custom model\r\n",
        "      self.fc1 = nn.Linear(768,512)\r\n",
        "      # adding another dense layer to our custom model ,i.e., the Output layer\r\n",
        "      self.fc2 = nn.Linear(512,num_labels)\r\n",
        "      # adding a softmax  activation function for our custom model's output layer\r\n",
        "      self.softmax = nn.LogSoftmax(dim=1)\r\n",
        "\r\n",
        "    #defining the forward pass\r\n",
        "    def forward(self, input_id, mask):\r\n",
        "      #pass the inputs to the model  \r\n",
        "      outputs = self.bert(input_id,mask)\r\n",
        "  \r\n",
        "      last_hidden_state = outputs.last_hidden_state       ## last hidden state from the model\r\n",
        "      pooler_output = outputs.pooler_output               ## pooler output from the model\r\n",
        "      ## adding a fully connected layer to the BERT model\r\n",
        "      x = self.fc1(pooler_output)\r\n",
        "      ## applying relu activation function\r\n",
        "      x = self.relu(x)\r\n",
        "      # the final output layer\r\n",
        "      x = self.fc2(x)\r\n",
        "      # apply softmax activation to our output layer\r\n",
        "      x = self.softmax(x)\r\n",
        "\r\n",
        "      return x"
      ],
      "execution_count": null,
      "outputs": []
    },
    {
      "cell_type": "code",
      "metadata": {
        "colab": {
          "base_uri": "https://localhost:8080/"
        },
        "id": "jvOs0G5sh02S",
        "outputId": "8e30ece2-fbdf-45e3-b46c-070660ff925c"
      },
      "source": [
        "\r\n",
        "\r\n",
        "print('\\nLoading model ...')\r\n",
        "# pass the pre-trained BERT to our define architecture\r\n",
        "model = BERT_Model(bert,num_labels=3)\r\n",
        "\r\n",
        "model.cuda()"
      ],
      "execution_count": null,
      "outputs": [
        {
          "output_type": "stream",
          "text": [
            "\n",
            "Loading model ...\n"
          ],
          "name": "stdout"
        },
        {
          "output_type": "execute_result",
          "data": {
            "text/plain": [
              "BERT_Model(\n",
              "  (bert): BertModel(\n",
              "    (embeddings): BertEmbeddings(\n",
              "      (word_embeddings): Embedding(105879, 768, padding_idx=0)\n",
              "      (position_embeddings): Embedding(512, 768)\n",
              "      (token_type_embeddings): Embedding(2, 768)\n",
              "      (LayerNorm): LayerNorm((768,), eps=1e-12, elementwise_affine=True)\n",
              "      (dropout): Dropout(p=0.1, inplace=False)\n",
              "    )\n",
              "    (encoder): BertEncoder(\n",
              "      (layer): ModuleList(\n",
              "        (0): BertLayer(\n",
              "          (attention): BertAttention(\n",
              "            (self): BertSelfAttention(\n",
              "              (query): Linear(in_features=768, out_features=768, bias=True)\n",
              "              (key): Linear(in_features=768, out_features=768, bias=True)\n",
              "              (value): Linear(in_features=768, out_features=768, bias=True)\n",
              "              (dropout): Dropout(p=0.1, inplace=False)\n",
              "            )\n",
              "            (output): BertSelfOutput(\n",
              "              (dense): Linear(in_features=768, out_features=768, bias=True)\n",
              "              (LayerNorm): LayerNorm((768,), eps=1e-12, elementwise_affine=True)\n",
              "              (dropout): Dropout(p=0.1, inplace=False)\n",
              "            )\n",
              "          )\n",
              "          (intermediate): BertIntermediate(\n",
              "            (dense): Linear(in_features=768, out_features=3072, bias=True)\n",
              "          )\n",
              "          (output): BertOutput(\n",
              "            (dense): Linear(in_features=3072, out_features=768, bias=True)\n",
              "            (LayerNorm): LayerNorm((768,), eps=1e-12, elementwise_affine=True)\n",
              "            (dropout): Dropout(p=0.1, inplace=False)\n",
              "          )\n",
              "        )\n",
              "        (1): BertLayer(\n",
              "          (attention): BertAttention(\n",
              "            (self): BertSelfAttention(\n",
              "              (query): Linear(in_features=768, out_features=768, bias=True)\n",
              "              (key): Linear(in_features=768, out_features=768, bias=True)\n",
              "              (value): Linear(in_features=768, out_features=768, bias=True)\n",
              "              (dropout): Dropout(p=0.1, inplace=False)\n",
              "            )\n",
              "            (output): BertSelfOutput(\n",
              "              (dense): Linear(in_features=768, out_features=768, bias=True)\n",
              "              (LayerNorm): LayerNorm((768,), eps=1e-12, elementwise_affine=True)\n",
              "              (dropout): Dropout(p=0.1, inplace=False)\n",
              "            )\n",
              "          )\n",
              "          (intermediate): BertIntermediate(\n",
              "            (dense): Linear(in_features=768, out_features=3072, bias=True)\n",
              "          )\n",
              "          (output): BertOutput(\n",
              "            (dense): Linear(in_features=3072, out_features=768, bias=True)\n",
              "            (LayerNorm): LayerNorm((768,), eps=1e-12, elementwise_affine=True)\n",
              "            (dropout): Dropout(p=0.1, inplace=False)\n",
              "          )\n",
              "        )\n",
              "        (2): BertLayer(\n",
              "          (attention): BertAttention(\n",
              "            (self): BertSelfAttention(\n",
              "              (query): Linear(in_features=768, out_features=768, bias=True)\n",
              "              (key): Linear(in_features=768, out_features=768, bias=True)\n",
              "              (value): Linear(in_features=768, out_features=768, bias=True)\n",
              "              (dropout): Dropout(p=0.1, inplace=False)\n",
              "            )\n",
              "            (output): BertSelfOutput(\n",
              "              (dense): Linear(in_features=768, out_features=768, bias=True)\n",
              "              (LayerNorm): LayerNorm((768,), eps=1e-12, elementwise_affine=True)\n",
              "              (dropout): Dropout(p=0.1, inplace=False)\n",
              "            )\n",
              "          )\n",
              "          (intermediate): BertIntermediate(\n",
              "            (dense): Linear(in_features=768, out_features=3072, bias=True)\n",
              "          )\n",
              "          (output): BertOutput(\n",
              "            (dense): Linear(in_features=3072, out_features=768, bias=True)\n",
              "            (LayerNorm): LayerNorm((768,), eps=1e-12, elementwise_affine=True)\n",
              "            (dropout): Dropout(p=0.1, inplace=False)\n",
              "          )\n",
              "        )\n",
              "        (3): BertLayer(\n",
              "          (attention): BertAttention(\n",
              "            (self): BertSelfAttention(\n",
              "              (query): Linear(in_features=768, out_features=768, bias=True)\n",
              "              (key): Linear(in_features=768, out_features=768, bias=True)\n",
              "              (value): Linear(in_features=768, out_features=768, bias=True)\n",
              "              (dropout): Dropout(p=0.1, inplace=False)\n",
              "            )\n",
              "            (output): BertSelfOutput(\n",
              "              (dense): Linear(in_features=768, out_features=768, bias=True)\n",
              "              (LayerNorm): LayerNorm((768,), eps=1e-12, elementwise_affine=True)\n",
              "              (dropout): Dropout(p=0.1, inplace=False)\n",
              "            )\n",
              "          )\n",
              "          (intermediate): BertIntermediate(\n",
              "            (dense): Linear(in_features=768, out_features=3072, bias=True)\n",
              "          )\n",
              "          (output): BertOutput(\n",
              "            (dense): Linear(in_features=3072, out_features=768, bias=True)\n",
              "            (LayerNorm): LayerNorm((768,), eps=1e-12, elementwise_affine=True)\n",
              "            (dropout): Dropout(p=0.1, inplace=False)\n",
              "          )\n",
              "        )\n",
              "        (4): BertLayer(\n",
              "          (attention): BertAttention(\n",
              "            (self): BertSelfAttention(\n",
              "              (query): Linear(in_features=768, out_features=768, bias=True)\n",
              "              (key): Linear(in_features=768, out_features=768, bias=True)\n",
              "              (value): Linear(in_features=768, out_features=768, bias=True)\n",
              "              (dropout): Dropout(p=0.1, inplace=False)\n",
              "            )\n",
              "            (output): BertSelfOutput(\n",
              "              (dense): Linear(in_features=768, out_features=768, bias=True)\n",
              "              (LayerNorm): LayerNorm((768,), eps=1e-12, elementwise_affine=True)\n",
              "              (dropout): Dropout(p=0.1, inplace=False)\n",
              "            )\n",
              "          )\n",
              "          (intermediate): BertIntermediate(\n",
              "            (dense): Linear(in_features=768, out_features=3072, bias=True)\n",
              "          )\n",
              "          (output): BertOutput(\n",
              "            (dense): Linear(in_features=3072, out_features=768, bias=True)\n",
              "            (LayerNorm): LayerNorm((768,), eps=1e-12, elementwise_affine=True)\n",
              "            (dropout): Dropout(p=0.1, inplace=False)\n",
              "          )\n",
              "        )\n",
              "        (5): BertLayer(\n",
              "          (attention): BertAttention(\n",
              "            (self): BertSelfAttention(\n",
              "              (query): Linear(in_features=768, out_features=768, bias=True)\n",
              "              (key): Linear(in_features=768, out_features=768, bias=True)\n",
              "              (value): Linear(in_features=768, out_features=768, bias=True)\n",
              "              (dropout): Dropout(p=0.1, inplace=False)\n",
              "            )\n",
              "            (output): BertSelfOutput(\n",
              "              (dense): Linear(in_features=768, out_features=768, bias=True)\n",
              "              (LayerNorm): LayerNorm((768,), eps=1e-12, elementwise_affine=True)\n",
              "              (dropout): Dropout(p=0.1, inplace=False)\n",
              "            )\n",
              "          )\n",
              "          (intermediate): BertIntermediate(\n",
              "            (dense): Linear(in_features=768, out_features=3072, bias=True)\n",
              "          )\n",
              "          (output): BertOutput(\n",
              "            (dense): Linear(in_features=3072, out_features=768, bias=True)\n",
              "            (LayerNorm): LayerNorm((768,), eps=1e-12, elementwise_affine=True)\n",
              "            (dropout): Dropout(p=0.1, inplace=False)\n",
              "          )\n",
              "        )\n",
              "        (6): BertLayer(\n",
              "          (attention): BertAttention(\n",
              "            (self): BertSelfAttention(\n",
              "              (query): Linear(in_features=768, out_features=768, bias=True)\n",
              "              (key): Linear(in_features=768, out_features=768, bias=True)\n",
              "              (value): Linear(in_features=768, out_features=768, bias=True)\n",
              "              (dropout): Dropout(p=0.1, inplace=False)\n",
              "            )\n",
              "            (output): BertSelfOutput(\n",
              "              (dense): Linear(in_features=768, out_features=768, bias=True)\n",
              "              (LayerNorm): LayerNorm((768,), eps=1e-12, elementwise_affine=True)\n",
              "              (dropout): Dropout(p=0.1, inplace=False)\n",
              "            )\n",
              "          )\n",
              "          (intermediate): BertIntermediate(\n",
              "            (dense): Linear(in_features=768, out_features=3072, bias=True)\n",
              "          )\n",
              "          (output): BertOutput(\n",
              "            (dense): Linear(in_features=3072, out_features=768, bias=True)\n",
              "            (LayerNorm): LayerNorm((768,), eps=1e-12, elementwise_affine=True)\n",
              "            (dropout): Dropout(p=0.1, inplace=False)\n",
              "          )\n",
              "        )\n",
              "        (7): BertLayer(\n",
              "          (attention): BertAttention(\n",
              "            (self): BertSelfAttention(\n",
              "              (query): Linear(in_features=768, out_features=768, bias=True)\n",
              "              (key): Linear(in_features=768, out_features=768, bias=True)\n",
              "              (value): Linear(in_features=768, out_features=768, bias=True)\n",
              "              (dropout): Dropout(p=0.1, inplace=False)\n",
              "            )\n",
              "            (output): BertSelfOutput(\n",
              "              (dense): Linear(in_features=768, out_features=768, bias=True)\n",
              "              (LayerNorm): LayerNorm((768,), eps=1e-12, elementwise_affine=True)\n",
              "              (dropout): Dropout(p=0.1, inplace=False)\n",
              "            )\n",
              "          )\n",
              "          (intermediate): BertIntermediate(\n",
              "            (dense): Linear(in_features=768, out_features=3072, bias=True)\n",
              "          )\n",
              "          (output): BertOutput(\n",
              "            (dense): Linear(in_features=3072, out_features=768, bias=True)\n",
              "            (LayerNorm): LayerNorm((768,), eps=1e-12, elementwise_affine=True)\n",
              "            (dropout): Dropout(p=0.1, inplace=False)\n",
              "          )\n",
              "        )\n",
              "        (8): BertLayer(\n",
              "          (attention): BertAttention(\n",
              "            (self): BertSelfAttention(\n",
              "              (query): Linear(in_features=768, out_features=768, bias=True)\n",
              "              (key): Linear(in_features=768, out_features=768, bias=True)\n",
              "              (value): Linear(in_features=768, out_features=768, bias=True)\n",
              "              (dropout): Dropout(p=0.1, inplace=False)\n",
              "            )\n",
              "            (output): BertSelfOutput(\n",
              "              (dense): Linear(in_features=768, out_features=768, bias=True)\n",
              "              (LayerNorm): LayerNorm((768,), eps=1e-12, elementwise_affine=True)\n",
              "              (dropout): Dropout(p=0.1, inplace=False)\n",
              "            )\n",
              "          )\n",
              "          (intermediate): BertIntermediate(\n",
              "            (dense): Linear(in_features=768, out_features=3072, bias=True)\n",
              "          )\n",
              "          (output): BertOutput(\n",
              "            (dense): Linear(in_features=3072, out_features=768, bias=True)\n",
              "            (LayerNorm): LayerNorm((768,), eps=1e-12, elementwise_affine=True)\n",
              "            (dropout): Dropout(p=0.1, inplace=False)\n",
              "          )\n",
              "        )\n",
              "        (9): BertLayer(\n",
              "          (attention): BertAttention(\n",
              "            (self): BertSelfAttention(\n",
              "              (query): Linear(in_features=768, out_features=768, bias=True)\n",
              "              (key): Linear(in_features=768, out_features=768, bias=True)\n",
              "              (value): Linear(in_features=768, out_features=768, bias=True)\n",
              "              (dropout): Dropout(p=0.1, inplace=False)\n",
              "            )\n",
              "            (output): BertSelfOutput(\n",
              "              (dense): Linear(in_features=768, out_features=768, bias=True)\n",
              "              (LayerNorm): LayerNorm((768,), eps=1e-12, elementwise_affine=True)\n",
              "              (dropout): Dropout(p=0.1, inplace=False)\n",
              "            )\n",
              "          )\n",
              "          (intermediate): BertIntermediate(\n",
              "            (dense): Linear(in_features=768, out_features=3072, bias=True)\n",
              "          )\n",
              "          (output): BertOutput(\n",
              "            (dense): Linear(in_features=3072, out_features=768, bias=True)\n",
              "            (LayerNorm): LayerNorm((768,), eps=1e-12, elementwise_affine=True)\n",
              "            (dropout): Dropout(p=0.1, inplace=False)\n",
              "          )\n",
              "        )\n",
              "        (10): BertLayer(\n",
              "          (attention): BertAttention(\n",
              "            (self): BertSelfAttention(\n",
              "              (query): Linear(in_features=768, out_features=768, bias=True)\n",
              "              (key): Linear(in_features=768, out_features=768, bias=True)\n",
              "              (value): Linear(in_features=768, out_features=768, bias=True)\n",
              "              (dropout): Dropout(p=0.1, inplace=False)\n",
              "            )\n",
              "            (output): BertSelfOutput(\n",
              "              (dense): Linear(in_features=768, out_features=768, bias=True)\n",
              "              (LayerNorm): LayerNorm((768,), eps=1e-12, elementwise_affine=True)\n",
              "              (dropout): Dropout(p=0.1, inplace=False)\n",
              "            )\n",
              "          )\n",
              "          (intermediate): BertIntermediate(\n",
              "            (dense): Linear(in_features=768, out_features=3072, bias=True)\n",
              "          )\n",
              "          (output): BertOutput(\n",
              "            (dense): Linear(in_features=3072, out_features=768, bias=True)\n",
              "            (LayerNorm): LayerNorm((768,), eps=1e-12, elementwise_affine=True)\n",
              "            (dropout): Dropout(p=0.1, inplace=False)\n",
              "          )\n",
              "        )\n",
              "        (11): BertLayer(\n",
              "          (attention): BertAttention(\n",
              "            (self): BertSelfAttention(\n",
              "              (query): Linear(in_features=768, out_features=768, bias=True)\n",
              "              (key): Linear(in_features=768, out_features=768, bias=True)\n",
              "              (value): Linear(in_features=768, out_features=768, bias=True)\n",
              "              (dropout): Dropout(p=0.1, inplace=False)\n",
              "            )\n",
              "            (output): BertSelfOutput(\n",
              "              (dense): Linear(in_features=768, out_features=768, bias=True)\n",
              "              (LayerNorm): LayerNorm((768,), eps=1e-12, elementwise_affine=True)\n",
              "              (dropout): Dropout(p=0.1, inplace=False)\n",
              "            )\n",
              "          )\n",
              "          (intermediate): BertIntermediate(\n",
              "            (dense): Linear(in_features=768, out_features=3072, bias=True)\n",
              "          )\n",
              "          (output): BertOutput(\n",
              "            (dense): Linear(in_features=3072, out_features=768, bias=True)\n",
              "            (LayerNorm): LayerNorm((768,), eps=1e-12, elementwise_affine=True)\n",
              "            (dropout): Dropout(p=0.1, inplace=False)\n",
              "          )\n",
              "        )\n",
              "      )\n",
              "    )\n",
              "    (pooler): BertPooler(\n",
              "      (dense): Linear(in_features=768, out_features=768, bias=True)\n",
              "      (activation): Tanh()\n",
              "    )\n",
              "  )\n",
              "  (relu): ReLU()\n",
              "  (fc1): Linear(in_features=768, out_features=512, bias=True)\n",
              "  (fc2): Linear(in_features=512, out_features=3, bias=True)\n",
              "  (softmax): LogSoftmax(dim=1)\n",
              ")"
            ]
          },
          "metadata": {
            "tags": []
          },
          "execution_count": 45
        }
      ]
    },
    {
      "cell_type": "markdown",
      "metadata": {
        "id": "LjQSUqCWJTbI"
      },
      "source": [
        "## Custom Loss function"
      ]
    },
    {
      "cell_type": "code",
      "metadata": {
        "id": "iOHVl1RRJSUB"
      },
      "source": [
        "# convert class weights to tensor\r\n",
        "weights= torch.tensor(class_wts,dtype=torch.float)\r\n",
        "weights = weights.to(device)\r\n",
        "\r\n",
        "# loss function\r\n",
        "cross_entropy  = nn.NLLLoss(weight=weights) \r\n"
      ],
      "execution_count": null,
      "outputs": []
    },
    {
      "cell_type": "markdown",
      "metadata": {
        "id": "evYV0yrQ2u_b"
      },
      "source": [
        "## Loading Optimizer"
      ]
    },
    {
      "cell_type": "code",
      "metadata": {
        "id": "8tAijXBEh7t8"
      },
      "source": [
        "# Note: AdamW is a class from the huggingface library (as opposed to pytorch) \r\n",
        "# I believe the 'W' stands for 'Weight Decay fix\"\r\n",
        "optimizer = AdamW(model.parameters(),\r\n",
        "                  lr = 2e-5, # This is the value Michael used.\r\n",
        "                  eps = 1e-8 # args.adam_epsilon  - default is 1e-8.\r\n",
        "                )\r\n"
      ],
      "execution_count": 52,
      "outputs": []
    },
    {
      "cell_type": "markdown",
      "metadata": {
        "id": "s9n3_5jI2ywo"
      },
      "source": [
        "## Loading lr scheduler"
      ]
    },
    {
      "cell_type": "code",
      "metadata": {
        "id": "agidP6D6iBFI"
      },
      "source": [
        "# Number of training epochs. I chose to train for 1 simply because the training\r\n",
        "# time is long. More epochs may improve the model's accuracy.\r\n",
        "epochs = 4\r\n",
        "\r\n",
        "# Total number of training steps is [number of batches] x [number of epochs]. \r\n",
        "# Note that it's the number of *batches*, not *samples*!\r\n",
        "total_steps = len(py_inputs) * epochs\r\n",
        "\r\n",
        "# Create the learning rate scheduler.\r\n",
        "scheduler = get_linear_schedule_with_warmup(optimizer, \r\n",
        "                                            num_warmup_steps = 0, # Default value in run_glue.py\r\n",
        "                                            num_training_steps = total_steps)"
      ],
      "execution_count": 53,
      "outputs": []
    },
    {
      "cell_type": "markdown",
      "metadata": {
        "id": "MDDp05Cm245e"
      },
      "source": [
        "## Training Loop"
      ]
    },
    {
      "cell_type": "code",
      "metadata": {
        "colab": {
          "base_uri": "https://localhost:8080/"
        },
        "id": "H4ERR8fBiEJn",
        "outputId": "e91d3deb-05e8-4683-f6e3-640776322109"
      },
      "source": [
        "# We'll store a number of quantities such as training and validation loss, \r\n",
        "# validation accuracy, and timings.\r\n",
        "training_stats = {\r\n",
        "    'epoch':[],\r\n",
        "    'train_loss':[],\r\n",
        "    'Training Time':[],\r\n",
        "    'val_loss':[],\r\n",
        "    'Validation Time':[],\r\n",
        "    'train_acc':[],\r\n",
        "    'val_acc':[]\r\n",
        "}\r\n",
        "\r\n",
        "# Update every `update_interval` batches.\r\n",
        "update_interval = good_update_interval(total_iters=len(py_inputs), num_desired_updates=10)\r\n",
        "\r\n",
        "# Measure the total training time for the whole run.\r\n",
        "total_t0 = time.time()\r\n",
        "\r\n",
        "# For each epoch...\r\n",
        "for epoch_i in range(0, epochs):\r\n",
        "\r\n",
        "    predictions = []\r\n",
        "    true_labels = []\r\n",
        "    \r\n",
        "    # ========================================\r\n",
        "    #               Training\r\n",
        "    # ========================================\r\n",
        "    \r\n",
        "    # Perform one full pass over the training set.\r\n",
        "\r\n",
        "    print(\"\")\r\n",
        "    print('======== Epoch {:} / {:} ========'.format(epoch_i + 1, epochs))\r\n",
        "    \r\n",
        "    # At the start of each epoch (except for the first) we need to re-randomize\r\n",
        "    # our training data.\r\n",
        "    if epoch_i > 0:\r\n",
        "        # Use our `make_smart_batches` function (from 6.1.) to re-shuffle the \r\n",
        "        # dataset into new batches.\r\n",
        "        (py_inputs, py_attn_masks, py_labels) = make_smart_batches(train_sentences, train_labels, batch_size,tokenizer,max_input_length)\r\n",
        "    \r\n",
        "    print('Training on {:,} batches...'.format(len(py_inputs)))\r\n",
        "\r\n",
        "    # Measure how long the training epoch takes.\r\n",
        "    t0 = time.time()\r\n",
        "\r\n",
        "    # Reset the total loss for this epoch.\r\n",
        "    total_train_loss = 0\r\n",
        "\r\n",
        "    # Put the model into training mode. Don't be mislead--the call to \r\n",
        "    # `train` just changes the *mode*, it doesn't *perform* the training.\r\n",
        "    # `dropout` and `batchnorm` layers behave differently during training\r\n",
        "    # vs. test (source: https://stackoverflow.com/questions/51433378/what-does-model-train-do-in-pytorch)\r\n",
        "    model.train()\r\n",
        "\r\n",
        "    # For each batch of training data...\r\n",
        "    for step in range(0, len(py_inputs)):\r\n",
        "\r\n",
        "        # Progress update every, e.g., 100 batches.\r\n",
        "        if step % update_interval == 0 and not step == 0:\r\n",
        "            # Calculate elapsed time in minutes.\r\n",
        "            elapsed = format_time(time.time() - t0)\r\n",
        "            \r\n",
        "            # Calculate the time remaining based on our progress.\r\n",
        "            steps_per_sec = (time.time() - t0) / step\r\n",
        "            remaining_sec = steps_per_sec * (len(py_inputs) - step)\r\n",
        "            remaining = format_time(remaining_sec)\r\n",
        "\r\n",
        "            # Report progress.\r\n",
        "            print('  Batch {:>7,}  of  {:>7,}.    Elapsed: {:}.  Remaining: {:}'.format(step, len(py_inputs), elapsed, remaining))\r\n",
        "\r\n",
        "        # Copy the current training batch to the GPU using the `to` method.\r\n",
        "        b_input_ids = py_inputs[step].to(device)\r\n",
        "        b_input_mask = py_attn_masks[step].to(device)\r\n",
        "        b_labels = py_labels[step].to(device)\r\n",
        "\r\n",
        "        # Always clear any previously calculated gradients before performing a\r\n",
        "        # backward pass.\r\n",
        "        model.zero_grad()        \r\n",
        "\r\n",
        "        # Perform a forward pass (evaluate the model on this training batch).\r\n",
        "        # The call returns the loss (because we provided labels) and the \r\n",
        "        # \"logits\"--the model outputs prior to activation.\r\n",
        "        output = model(b_input_ids, \r\n",
        "                             token_type_ids=None, \r\n",
        "                             attention_mask=b_input_mask, \r\n",
        "                             labels=b_labels)\r\n",
        "\r\n",
        "        # Accumulate the training loss over all of the batches so that we can\r\n",
        "        # calculate the average loss at the end. `loss` is a Tensor containing a\r\n",
        "        # single value; the `.item()` function just returns the Python value \r\n",
        "        # from the tensor.\r\n",
        "        loss = output.loss \r\n",
        "        logits = output.logits\r\n",
        "\r\n",
        "        # Move logits and labels to CPU\r\n",
        "        logits = logits.detach().cpu().numpy()\r\n",
        "        label_ids = b_labels.to('cpu').numpy()\r\n",
        "      \r\n",
        "        # Store predictions and true labels\r\n",
        "        predictions.append(logits)\r\n",
        "        true_labels.append(label_ids)\r\n",
        "        \r\n",
        "        # Accumulate the training loss over all of the batches so that we can\r\n",
        "        # calculate the average loss at the end. `loss` is a Tensor containing a\r\n",
        "        # single value; the `.item()` function just returns the Python value \r\n",
        "        # from the tensor.\r\n",
        "        total_train_loss += loss.item()\r\n",
        "\r\n",
        "        # Perform a backward pass to calculate the gradients.\r\n",
        "        loss.backward()\r\n",
        "\r\n",
        "        # Clip the norm of the gradients to 1.0.\r\n",
        "        # This is to help prevent the \"exploding gradients\" problem.\r\n",
        "        torch.nn.utils.clip_grad_norm_(model.parameters(), 1.0)\r\n",
        "\r\n",
        "        # Update parameters and take a step using the computed gradient.\r\n",
        "        # The optimizer dictates the \"update rule\"--how the parameters are\r\n",
        "        # modified based on their gradients, the learning rate, etc.\r\n",
        "        optimizer.step()\r\n",
        "\r\n",
        "        # Update the learning rate.\r\n",
        "        scheduler.step()\r\n",
        "\r\n",
        "    # Calculate the average loss over all of the batches.\r\n",
        "    avg_train_loss = total_train_loss / len(py_inputs)     \r\n",
        "       \r\n",
        "    training_accuracy = check_accuracy(predictions,true_labels)       \r\n",
        "    \r\n",
        "    # Measure how long this epoch took.\r\n",
        "    training_time = format_time(time.time() - t0)\r\n",
        "\r\n",
        "    print(\"\")\r\n",
        "    print(\"  Average training loss: {0:.2f}\".format(avg_train_loss))\r\n",
        "    print(\"  Training Accuracy: {0:.2f}\".format(training_accuracy))\r\n",
        "    print(\"  Training epoch took: {:}\".format(training_time))\r\n",
        "        \r\n",
        "    (py_inputs, py_attn_masks, py_labels) = make_smart_batches(val_sentences, val_labels, batch_size ,tokenizer,max_input_length)\r\n",
        "    val_loss,val_accuracy,validation_time = eval_model(model,py_inputs, py_attn_masks, py_labels)  \r\n",
        "    # Record all statistics from this epoch.\r\n",
        "\r\n",
        "    print(\"\")\r\n",
        "    print(\"  Average validation loss: {0:.2f}\".format(val_loss))\r\n",
        "    print(\"  Validation Accuracy: {0:.2f}\".format(val_accuracy))\r\n",
        "    print(\"  Validation epoch took: {:}\".format(validation_time))\r\n",
        "    \r\n",
        "    \r\n",
        "    training_stats['epoch'].append(epoch_i + 1)\r\n",
        "    training_stats['train_loss'].append(avg_train_loss)\r\n",
        "    training_stats['Training Time'].append(training_time)\r\n",
        "    training_stats['val_loss'].append(val_loss)\r\n",
        "    training_stats['Validation Time'].append(validation_time)\r\n",
        "    training_stats['train_acc'].append(training_accuracy)\r\n",
        "    training_stats['val_acc'].append(val_accuracy)\r\n",
        "\r\n",
        "print(\"\")\r\n",
        "print(\"Training complete!\")\r\n",
        "\r\n",
        "print(\"Total training took {:} (h:mm:ss)\".format(format_time(time.time()-total_t0)))"
      ],
      "execution_count": 54,
      "outputs": [
        {
          "output_type": "stream",
          "text": [
            "\n",
            "======== Epoch 1 / 4 ========\n",
            "Training on 389 batches...\n",
            "  Batch      40  of      389.    Elapsed: 0:00:06.  Remaining: 0:00:52\n",
            "  Batch      80  of      389.    Elapsed: 0:00:11.  Remaining: 0:00:43\n",
            "  Batch     120  of      389.    Elapsed: 0:00:17.  Remaining: 0:00:38\n",
            "  Batch     160  of      389.    Elapsed: 0:00:22.  Remaining: 0:00:32\n",
            "  Batch     200  of      389.    Elapsed: 0:00:28.  Remaining: 0:00:27\n",
            "  Batch     240  of      389.    Elapsed: 0:00:34.  Remaining: 0:00:21\n",
            "  Batch     280  of      389.    Elapsed: 0:00:39.  Remaining: 0:00:15\n",
            "  Batch     320  of      389.    Elapsed: 0:00:44.  Remaining: 0:00:10\n",
            "  Batch     360  of      389.    Elapsed: 0:00:50.  Remaining: 0:00:04\n",
            "\n",
            "  Average training loss: 0.97\n",
            "  Training Accuracy: 0.66\n",
            "  Training epoch took: 0:00:55\n",
            "Creating Smart Batches from 777 examples with batch size 16...\n",
            "\n",
            "Tokenizing 777 samples...\n",
            "  Tokenized 0 samples.\n",
            "  Tokenized 80 samples.\n",
            "  Tokenized 160 samples.\n",
            "  Tokenized 240 samples.\n",
            "  Tokenized 320 samples.\n",
            "  Tokenized 400 samples.\n",
            "  Tokenized 480 samples.\n",
            "  Tokenized 560 samples.\n",
            "  Tokenized 640 samples.\n",
            "  Tokenized 720 samples.\n",
            "DONE.\n",
            "       777 samples\n",
            "\n",
            "       777 samples after sorting\n",
            "\n",
            "Creating batches of size 16...\n",
            "\n",
            "  DONE - Selected 49 batches.\n",
            "\n",
            "Padding out sequences within each batch...\n",
            "  DONE.\n",
            "Doing validation on 49 sentences...\n",
            "  Batch       5  of       49.    Elapsed: 0:00:00.  Remaining: 0:00:01\n",
            "  Batch      10  of       49.    Elapsed: 0:00:00.  Remaining: 0:00:01\n",
            "  Batch      15  of       49.    Elapsed: 0:00:00.  Remaining: 0:00:01\n",
            "  Batch      20  of       49.    Elapsed: 0:00:00.  Remaining: 0:00:01\n",
            "  Batch      25  of       49.    Elapsed: 0:00:00.  Remaining: 0:00:00\n",
            "  Batch      30  of       49.    Elapsed: 0:00:01.  Remaining: 0:00:00\n",
            "  Batch      35  of       49.    Elapsed: 0:00:01.  Remaining: 0:00:00\n",
            "  Batch      40  of       49.    Elapsed: 0:00:01.  Remaining: 0:00:00\n",
            "  Batch      45  of       49.    Elapsed: 0:00:01.  Remaining: 0:00:00\n",
            "\n",
            "  Average validation loss: 0.96\n",
            "  Validation Accuracy: 0.66\n",
            "  Validation epoch took: 0:00:02\n",
            "\n",
            "======== Epoch 2 / 4 ========\n",
            "Creating Smart Batches from 6,217 examples with batch size 16...\n",
            "\n",
            "Tokenizing 6,217 samples...\n",
            "  Tokenized 0 samples.\n",
            "  Tokenized 600 samples.\n",
            "  Tokenized 1,200 samples.\n",
            "  Tokenized 1,800 samples.\n",
            "  Tokenized 2,400 samples.\n",
            "  Tokenized 3,000 samples.\n",
            "  Tokenized 3,600 samples.\n",
            "  Tokenized 4,200 samples.\n",
            "  Tokenized 4,800 samples.\n",
            "  Tokenized 5,400 samples.\n",
            "  Tokenized 6,000 samples.\n",
            "DONE.\n",
            "     6,217 samples\n",
            "\n",
            "     6,217 samples after sorting\n",
            "\n",
            "Creating batches of size 16...\n",
            "\n",
            "  DONE - Selected 389 batches.\n",
            "\n",
            "Padding out sequences within each batch...\n",
            "  DONE.\n",
            "Training on 389 batches...\n",
            "  Batch      40  of      389.    Elapsed: 0:00:06.  Remaining: 0:00:51\n",
            "  Batch      80  of      389.    Elapsed: 0:00:11.  Remaining: 0:00:43\n",
            "  Batch     120  of      389.    Elapsed: 0:00:16.  Remaining: 0:00:37\n",
            "  Batch     160  of      389.    Elapsed: 0:00:22.  Remaining: 0:00:32\n",
            "  Batch     200  of      389.    Elapsed: 0:00:27.  Remaining: 0:00:26\n",
            "  Batch     240  of      389.    Elapsed: 0:00:33.  Remaining: 0:00:21\n",
            "  Batch     280  of      389.    Elapsed: 0:00:39.  Remaining: 0:00:15\n",
            "  Batch     320  of      389.    Elapsed: 0:00:46.  Remaining: 0:00:10\n",
            "  Batch     360  of      389.    Elapsed: 0:00:52.  Remaining: 0:00:04\n",
            "\n",
            "  Average training loss: 0.77\n",
            "  Training Accuracy: 0.74\n",
            "  Training epoch took: 0:00:57\n",
            "Creating Smart Batches from 777 examples with batch size 16...\n",
            "\n",
            "Tokenizing 777 samples...\n",
            "  Tokenized 0 samples.\n",
            "  Tokenized 80 samples.\n",
            "  Tokenized 160 samples.\n",
            "  Tokenized 240 samples.\n",
            "  Tokenized 320 samples.\n",
            "  Tokenized 400 samples.\n",
            "  Tokenized 480 samples.\n",
            "  Tokenized 560 samples.\n",
            "  Tokenized 640 samples.\n",
            "  Tokenized 720 samples.\n",
            "DONE.\n",
            "       777 samples\n",
            "\n",
            "       777 samples after sorting\n",
            "\n",
            "Creating batches of size 16...\n",
            "\n",
            "  DONE - Selected 49 batches.\n",
            "\n",
            "Padding out sequences within each batch...\n",
            "  DONE.\n",
            "Doing validation on 49 sentences...\n",
            "  Batch       5  of       49.    Elapsed: 0:00:00.  Remaining: 0:00:02\n",
            "  Batch      10  of       49.    Elapsed: 0:00:00.  Remaining: 0:00:01\n",
            "  Batch      15  of       49.    Elapsed: 0:00:01.  Remaining: 0:00:01\n",
            "  Batch      20  of       49.    Elapsed: 0:00:01.  Remaining: 0:00:01\n",
            "  Batch      25  of       49.    Elapsed: 0:00:01.  Remaining: 0:00:01\n",
            "  Batch      30  of       49.    Elapsed: 0:00:01.  Remaining: 0:00:01\n",
            "  Batch      35  of       49.    Elapsed: 0:00:01.  Remaining: 0:00:00\n",
            "  Batch      40  of       49.    Elapsed: 0:00:01.  Remaining: 0:00:00\n",
            "  Batch      45  of       49.    Elapsed: 0:00:01.  Remaining: 0:00:00\n",
            "\n",
            "  Average validation loss: 0.89\n",
            "  Validation Accuracy: 0.72\n",
            "  Validation epoch took: 0:00:02\n",
            "\n",
            "======== Epoch 3 / 4 ========\n",
            "Creating Smart Batches from 6,217 examples with batch size 16...\n",
            "\n",
            "Tokenizing 6,217 samples...\n",
            "  Tokenized 0 samples.\n",
            "  Tokenized 600 samples.\n",
            "  Tokenized 1,200 samples.\n",
            "  Tokenized 1,800 samples.\n",
            "  Tokenized 2,400 samples.\n",
            "  Tokenized 3,000 samples.\n",
            "  Tokenized 3,600 samples.\n",
            "  Tokenized 4,200 samples.\n",
            "  Tokenized 4,800 samples.\n",
            "  Tokenized 5,400 samples.\n",
            "  Tokenized 6,000 samples.\n",
            "DONE.\n",
            "     6,217 samples\n",
            "\n",
            "     6,217 samples after sorting\n",
            "\n",
            "Creating batches of size 16...\n",
            "\n",
            "  DONE - Selected 389 batches.\n",
            "\n",
            "Padding out sequences within each batch...\n",
            "  DONE.\n",
            "Training on 389 batches...\n",
            "  Batch      40  of      389.    Elapsed: 0:00:05.  Remaining: 0:00:47\n",
            "  Batch      80  of      389.    Elapsed: 0:00:11.  Remaining: 0:00:42\n",
            "  Batch     120  of      389.    Elapsed: 0:00:17.  Remaining: 0:00:37\n",
            "  Batch     160  of      389.    Elapsed: 0:00:22.  Remaining: 0:00:32\n",
            "  Batch     200  of      389.    Elapsed: 0:00:28.  Remaining: 0:00:26\n",
            "  Batch     240  of      389.    Elapsed: 0:00:33.  Remaining: 0:00:21\n",
            "  Batch     280  of      389.    Elapsed: 0:00:39.  Remaining: 0:00:15\n",
            "  Batch     320  of      389.    Elapsed: 0:00:45.  Remaining: 0:00:10\n",
            "  Batch     360  of      389.    Elapsed: 0:00:50.  Remaining: 0:00:04\n",
            "\n",
            "  Average training loss: 0.64\n",
            "  Training Accuracy: 0.79\n",
            "  Training epoch took: 0:00:56\n",
            "Creating Smart Batches from 777 examples with batch size 16...\n",
            "\n",
            "Tokenizing 777 samples...\n",
            "  Tokenized 0 samples.\n",
            "  Tokenized 80 samples.\n",
            "  Tokenized 160 samples.\n",
            "  Tokenized 240 samples.\n",
            "  Tokenized 320 samples.\n",
            "  Tokenized 400 samples.\n",
            "  Tokenized 480 samples.\n",
            "  Tokenized 560 samples.\n",
            "  Tokenized 640 samples.\n",
            "  Tokenized 720 samples.\n",
            "DONE.\n",
            "       777 samples\n",
            "\n",
            "       777 samples after sorting\n",
            "\n",
            "Creating batches of size 16...\n",
            "\n",
            "  DONE - Selected 49 batches.\n",
            "\n",
            "Padding out sequences within each batch...\n",
            "  DONE.\n",
            "Doing validation on 49 sentences...\n",
            "  Batch       5  of       49.    Elapsed: 0:00:00.  Remaining: 0:00:01\n",
            "  Batch      10  of       49.    Elapsed: 0:00:00.  Remaining: 0:00:01\n",
            "  Batch      15  of       49.    Elapsed: 0:00:00.  Remaining: 0:00:01\n",
            "  Batch      20  of       49.    Elapsed: 0:00:01.  Remaining: 0:00:01\n",
            "  Batch      25  of       49.    Elapsed: 0:00:01.  Remaining: 0:00:01\n",
            "  Batch      30  of       49.    Elapsed: 0:00:01.  Remaining: 0:00:00\n",
            "  Batch      35  of       49.    Elapsed: 0:00:01.  Remaining: 0:00:00\n",
            "  Batch      40  of       49.    Elapsed: 0:00:01.  Remaining: 0:00:00\n",
            "  Batch      45  of       49.    Elapsed: 0:00:01.  Remaining: 0:00:00\n",
            "\n",
            "  Average validation loss: 0.95\n",
            "  Validation Accuracy: 0.73\n",
            "  Validation epoch took: 0:00:02\n",
            "\n",
            "======== Epoch 4 / 4 ========\n",
            "Creating Smart Batches from 6,217 examples with batch size 16...\n",
            "\n",
            "Tokenizing 6,217 samples...\n",
            "  Tokenized 0 samples.\n",
            "  Tokenized 600 samples.\n",
            "  Tokenized 1,200 samples.\n",
            "  Tokenized 1,800 samples.\n",
            "  Tokenized 2,400 samples.\n",
            "  Tokenized 3,000 samples.\n",
            "  Tokenized 3,600 samples.\n",
            "  Tokenized 4,200 samples.\n",
            "  Tokenized 4,800 samples.\n",
            "  Tokenized 5,400 samples.\n",
            "  Tokenized 6,000 samples.\n",
            "DONE.\n",
            "     6,217 samples\n",
            "\n",
            "     6,217 samples after sorting\n",
            "\n",
            "Creating batches of size 16...\n",
            "\n",
            "  DONE - Selected 389 batches.\n",
            "\n",
            "Padding out sequences within each batch...\n",
            "  DONE.\n",
            "Training on 389 batches...\n",
            "  Batch      40  of      389.    Elapsed: 0:00:06.  Remaining: 0:00:48\n",
            "  Batch      80  of      389.    Elapsed: 0:00:11.  Remaining: 0:00:44\n",
            "  Batch     120  of      389.    Elapsed: 0:00:17.  Remaining: 0:00:38\n",
            "  Batch     160  of      389.    Elapsed: 0:00:23.  Remaining: 0:00:33\n",
            "  Batch     200  of      389.    Elapsed: 0:00:29.  Remaining: 0:00:27\n",
            "  Batch     240  of      389.    Elapsed: 0:00:35.  Remaining: 0:00:22\n",
            "  Batch     280  of      389.    Elapsed: 0:00:40.  Remaining: 0:00:16\n",
            "  Batch     320  of      389.    Elapsed: 0:00:45.  Remaining: 0:00:10\n",
            "  Batch     360  of      389.    Elapsed: 0:00:51.  Remaining: 0:00:04\n",
            "\n",
            "  Average training loss: 0.52\n",
            "  Training Accuracy: 0.83\n",
            "  Training epoch took: 0:00:56\n",
            "Creating Smart Batches from 777 examples with batch size 16...\n",
            "\n",
            "Tokenizing 777 samples...\n",
            "  Tokenized 0 samples.\n",
            "  Tokenized 80 samples.\n",
            "  Tokenized 160 samples.\n",
            "  Tokenized 240 samples.\n",
            "  Tokenized 320 samples.\n",
            "  Tokenized 400 samples.\n",
            "  Tokenized 480 samples.\n",
            "  Tokenized 560 samples.\n",
            "  Tokenized 640 samples.\n",
            "  Tokenized 720 samples.\n",
            "DONE.\n",
            "       777 samples\n",
            "\n",
            "       777 samples after sorting\n",
            "\n",
            "Creating batches of size 16...\n",
            "\n",
            "  DONE - Selected 49 batches.\n",
            "\n",
            "Padding out sequences within each batch...\n",
            "  DONE.\n",
            "Doing validation on 49 sentences...\n",
            "  Batch       5  of       49.    Elapsed: 0:00:00.  Remaining: 0:00:01\n",
            "  Batch      10  of       49.    Elapsed: 0:00:00.  Remaining: 0:00:02\n",
            "  Batch      15  of       49.    Elapsed: 0:00:01.  Remaining: 0:00:01\n",
            "  Batch      20  of       49.    Elapsed: 0:00:01.  Remaining: 0:00:01\n",
            "  Batch      25  of       49.    Elapsed: 0:00:01.  Remaining: 0:00:01\n",
            "  Batch      30  of       49.    Elapsed: 0:00:01.  Remaining: 0:00:01\n",
            "  Batch      35  of       49.    Elapsed: 0:00:01.  Remaining: 0:00:00\n",
            "  Batch      40  of       49.    Elapsed: 0:00:01.  Remaining: 0:00:00\n",
            "  Batch      45  of       49.    Elapsed: 0:00:01.  Remaining: 0:00:00\n",
            "\n",
            "  Average validation loss: 0.96\n",
            "  Validation Accuracy: 0.71\n",
            "  Validation epoch took: 0:00:02\n",
            "\n",
            "Training complete!\n",
            "Total training took 0:03:53 (h:mm:ss)\n"
          ],
          "name": "stdout"
        }
      ]
    },
    {
      "cell_type": "code",
      "metadata": {
        "colab": {
          "base_uri": "https://localhost:8080/",
          "height": 450
        },
        "id": "GOmua_S1eXNM",
        "outputId": "ec90eab3-0f09-4586-c637-30894e9b2362"
      },
      "source": [
        "plot_training_history(training_stats)"
      ],
      "execution_count": 55,
      "outputs": [
        {
          "output_type": "display_data",
          "data": {
            "image/png": "[encoded data removed]",
            "text/plain": [
              "<Figure size 1296x432 with 2 Axes>"
            ]
          },
          "metadata": {
            "tags": []
          }
        }
      ]
    },
    {
      "cell_type": "markdown",
      "metadata": {
        "id": "3c-6bOIxVyrM"
      },
      "source": [
        "## Evaluating Performance Over Training Set"
      ]
    },
    {
      "cell_type": "code",
      "metadata": {
        "colab": {
          "base_uri": "https://localhost:8080/"
        },
        "id": "2QmKPNAeWHkZ",
        "outputId": "f184c030-2f1e-4b92-c81d-22112d6cb7d8"
      },
      "source": [
        "(py_inputs, py_attn_masks, py_labels) = make_smart_batches(train_sentences, train_labels, batch_size ,tokenizer,max_input_length)\r\n",
        "\r\n",
        "y_pred , y_true = get_predictions(py_inputs, py_attn_masks, py_labels)\r\n"
      ],
      "execution_count": 56,
      "outputs": [
        {
          "output_type": "stream",
          "text": [
            "Creating Smart Batches from 6,217 examples with batch size 16...\n",
            "\n",
            "Tokenizing 6,217 samples...\n",
            "  Tokenized 0 samples.\n",
            "  Tokenized 600 samples.\n",
            "  Tokenized 1,200 samples.\n",
            "  Tokenized 1,800 samples.\n",
            "  Tokenized 2,400 samples.\n",
            "  Tokenized 3,000 samples.\n",
            "  Tokenized 3,600 samples.\n",
            "  Tokenized 4,200 samples.\n",
            "  Tokenized 4,800 samples.\n",
            "  Tokenized 5,400 samples.\n",
            "  Tokenized 6,000 samples.\n",
            "DONE.\n",
            "     6,217 samples\n",
            "\n",
            "     6,217 samples after sorting\n",
            "\n",
            "Creating batches of size 16...\n",
            "\n",
            "  DONE - Selected 389 batches.\n",
            "\n",
            "Padding out sequences within each batch...\n",
            "  DONE.\n",
            "Predicting labels for 389 test batches...\n",
            "  Batch      40  of      389.    Elapsed: 0:00:01.  Remaining: 0:00:13\n",
            "  Batch      80  of      389.    Elapsed: 0:00:03.  Remaining: 0:00:11\n",
            "  Batch     120  of      389.    Elapsed: 0:00:04.  Remaining: 0:00:08\n",
            "  Batch     160  of      389.    Elapsed: 0:00:04.  Remaining: 0:00:06\n",
            "  Batch     200  of      389.    Elapsed: 0:00:05.  Remaining: 0:00:05\n",
            "  Batch     240  of      389.    Elapsed: 0:00:06.  Remaining: 0:00:04\n",
            "  Batch     280  of      389.    Elapsed: 0:00:07.  Remaining: 0:00:03\n",
            "  Batch     320  of      389.    Elapsed: 0:00:08.  Remaining: 0:00:02\n",
            "  Batch     360  of      389.    Elapsed: 0:00:09.  Remaining: 0:00:01\n"
          ],
          "name": "stdout"
        }
      ]
    },
    {
      "cell_type": "code",
      "metadata": {
        "colab": {
          "base_uri": "https://localhost:8080/"
        },
        "id": "uXsVn0wngZhv",
        "outputId": "415c23f7-2d5d-46f5-d491-9ba9a264c671"
      },
      "source": [
        "print(classification_report(y_true, y_pred, target_names=class_names))"
      ],
      "execution_count": 57,
      "outputs": [
        {
          "output_type": "stream",
          "text": [
            "                                      precision    recall  f1-score   support\n",
            "\n",
            "                       Not_offensive       0.90      0.94      0.92      3544\n",
            "     Offensive_Targeted_Insult_Group       0.55      0.61      0.58       329\n",
            "Offensive_Targeted_Insult_Individual       0.82      0.88      0.85       487\n",
            "     Offensive_Targeted_Insult_Other       0.00      0.00      0.00       123\n",
            "               Offensive_Untargetede       0.00      0.00      0.00       212\n",
            "                         not-Kannada       0.88      0.92      0.90      1522\n",
            "\n",
            "                            accuracy                           0.86      6217\n",
            "                           macro avg       0.52      0.56      0.54      6217\n",
            "                        weighted avg       0.82      0.86      0.84      6217\n",
            "\n"
          ],
          "name": "stdout"
        },
        {
          "output_type": "stream",
          "text": [
            "/usr/local/lib/python3.6/dist-packages/sklearn/metrics/_classification.py:1272: UndefinedMetricWarning: Precision and F-score are ill-defined and being set to 0.0 in labels with no predicted samples. Use `zero_division` parameter to control this behavior.\n",
            "  _warn_prf(average, modifier, msg_start, len(result))\n"
          ],
          "name": "stderr"
        }
      ]
    },
    {
      "cell_type": "code",
      "metadata": {
        "colab": {
          "base_uri": "https://localhost:8080/",
          "height": 555
        },
        "id": "guClUdRhYPql",
        "outputId": "8dfc05d8-5a9d-407d-ea5d-2cc8a313b355"
      },
      "source": [
        "cm = confusion_matrix(y_true, y_pred)\r\n",
        "show_confusion_matrix(cm, class_names)"
      ],
      "execution_count": 58,
      "outputs": [
        {
          "output_type": "display_data",
          "data": {
            "image/png": "[encoded data removed]",
            "text/plain": [
              "<Figure size 864x432 with 2 Axes>"
            ]
          },
          "metadata": {
            "tags": []
          }
        }
      ]
    },
    {
      "cell_type": "markdown",
      "metadata": {
        "id": "VM2N-X1tV3il"
      },
      "source": [
        "## Evaluating Performance Over Validation Set"
      ]
    },
    {
      "cell_type": "code",
      "metadata": {
        "colab": {
          "base_uri": "https://localhost:8080/"
        },
        "id": "BnadNvtxWIYw",
        "outputId": "379e2ea8-fa41-4874-8c5c-2f0a99177e1e"
      },
      "source": [
        "(py_inputs, py_attn_masks, py_labels) = make_smart_batches(val_sentences, val_labels, batch_size ,tokenizer,max_input_length)\r\n",
        "\r\n",
        "y_pred , y_true = get_predictions(py_inputs, py_attn_masks, py_labels)"
      ],
      "execution_count": 59,
      "outputs": [
        {
          "output_type": "stream",
          "text": [
            "Creating Smart Batches from 777 examples with batch size 16...\n",
            "\n",
            "Tokenizing 777 samples...\n",
            "  Tokenized 0 samples.\n",
            "  Tokenized 80 samples.\n",
            "  Tokenized 160 samples.\n",
            "  Tokenized 240 samples.\n",
            "  Tokenized 320 samples.\n",
            "  Tokenized 400 samples.\n",
            "  Tokenized 480 samples.\n",
            "  Tokenized 560 samples.\n",
            "  Tokenized 640 samples.\n",
            "  Tokenized 720 samples.\n",
            "DONE.\n",
            "       777 samples\n",
            "\n",
            "       777 samples after sorting\n",
            "\n",
            "Creating batches of size 16...\n",
            "\n",
            "  DONE - Selected 49 batches.\n",
            "\n",
            "Padding out sequences within each batch...\n",
            "  DONE.\n",
            "Predicting labels for 49 test batches...\n",
            "  Batch       5  of       49.    Elapsed: 0:00:00.  Remaining: 0:00:01\n",
            "  Batch      10  of       49.    Elapsed: 0:00:00.  Remaining: 0:00:01\n",
            "  Batch      15  of       49.    Elapsed: 0:00:00.  Remaining: 0:00:01\n",
            "  Batch      20  of       49.    Elapsed: 0:00:01.  Remaining: 0:00:01\n",
            "  Batch      25  of       49.    Elapsed: 0:00:01.  Remaining: 0:00:01\n",
            "  Batch      30  of       49.    Elapsed: 0:00:01.  Remaining: 0:00:01\n",
            "  Batch      35  of       49.    Elapsed: 0:00:01.  Remaining: 0:00:00\n",
            "  Batch      40  of       49.    Elapsed: 0:00:01.  Remaining: 0:00:00\n",
            "  Batch      45  of       49.    Elapsed: 0:00:01.  Remaining: 0:00:00\n"
          ],
          "name": "stdout"
        }
      ]
    },
    {
      "cell_type": "code",
      "metadata": {
        "colab": {
          "base_uri": "https://localhost:8080/"
        },
        "id": "wAjlATBPgh7c",
        "outputId": "4899ab4c-4773-430c-add1-958f8c7950d7"
      },
      "source": [
        "print(classification_report(y_true, y_pred, target_names=class_names))"
      ],
      "execution_count": 60,
      "outputs": [
        {
          "output_type": "stream",
          "text": [
            "                                      precision    recall  f1-score   support\n",
            "\n",
            "                       Not_offensive       0.74      0.85      0.79       426\n",
            "     Offensive_Targeted_Insult_Group       0.35      0.31      0.33        45\n",
            "Offensive_Targeted_Insult_Individual       0.55      0.48      0.52        66\n",
            "     Offensive_Targeted_Insult_Other       0.00      0.00      0.00        16\n",
            "               Offensive_Untargetede       0.00      0.00      0.00        33\n",
            "                         not-Kannada       0.76      0.75      0.76       191\n",
            "\n",
            "                            accuracy                           0.71       777\n",
            "                           macro avg       0.40      0.40      0.40       777\n",
            "                        weighted avg       0.66      0.71      0.68       777\n",
            "\n"
          ],
          "name": "stdout"
        },
        {
          "output_type": "stream",
          "text": [
            "/usr/local/lib/python3.6/dist-packages/sklearn/metrics/_classification.py:1272: UndefinedMetricWarning: Precision and F-score are ill-defined and being set to 0.0 in labels with no predicted samples. Use `zero_division` parameter to control this behavior.\n",
            "  _warn_prf(average, modifier, msg_start, len(result))\n"
          ],
          "name": "stderr"
        }
      ]
    },
    {
      "cell_type": "code",
      "metadata": {
        "colab": {
          "base_uri": "https://localhost:8080/",
          "height": 555
        },
        "id": "7nELY57NYshD",
        "outputId": "ccef665a-405f-4008-ebd0-e9fe456bf292"
      },
      "source": [
        "cm = confusion_matrix(y_true, y_pred)\r\n",
        "show_confusion_matrix(cm, class_names)"
      ],
      "execution_count": 61,
      "outputs": [
        {
          "output_type": "display_data",
          "data": {
            "image/png": "[encoded data removed]",
            "text/plain": [
              "<Figure size 864x432 with 2 Axes>"
            ]
          },
          "metadata": {
            "tags": []
          }
        }
      ]
    },
    {
      "cell_type": "markdown",
      "metadata": {
        "id": "_crczjW6V-QK"
      },
      "source": [
        "## Making Predictions on Test Set"
      ]
    },
    {
      "cell_type": "code",
      "metadata": {
        "id": "lETtjTatLo91"
      },
      "source": [
        "test_df_path = join(dataset_dir,'kannada_offensive_test.csv')\r\n",
        "test_df = pd.read_csv(test_df_path)"
      ],
      "execution_count": 62,
      "outputs": []
    },
    {
      "cell_type": "code",
      "metadata": {
        "colab": {
          "base_uri": "https://localhost:8080/",
          "height": 402
        },
        "id": "d_83fOUwqn0w",
        "outputId": "2c83e1b4-417f-4c5b-e344-caeb1b147077"
      },
      "source": [
        "test_df"
      ],
      "execution_count": 63,
      "outputs": [
        {
          "output_type": "execute_result",
          "data": {
            "text/html": [
              "<div>\n",
              "<style scoped>\n",
              "    .dataframe tbody tr th:only-of-type {\n",
              "        vertical-align: middle;\n",
              "    }\n",
              "\n",
              "    .dataframe tbody tr th {\n",
              "        vertical-align: top;\n",
              "    }\n",
              "\n",
              "    .dataframe thead th {\n",
              "        text-align: right;\n",
              "    }\n",
              "</style>\n",
              "<table border=\"1\" class=\"dataframe\">\n",
              "  <thead>\n",
              "    <tr style=\"text-align: right;\">\n",
              "      <th></th>\n",
              "      <th>text</th>\n",
              "    </tr>\n",
              "  </thead>\n",
              "  <tbody>\n",
              "    <tr>\n",
              "      <th>0</th>\n",
              "      <td>ಜೈ ಮೋರಿ ಜೈ ರೋಗಿ ಇಸ್ಲಾಂ ಸಾಯಿಸಿ ಇದೆ ಇವರ ಗುರಿ</td>\n",
              "    </tr>\n",
              "    <tr>\n",
              "      <th>1</th>\n",
              "      <td>Anna nim e vedio nodinu mathe chaina apps use ...</td>\n",
              "    </tr>\n",
              "    <tr>\n",
              "      <th>2</th>\n",
              "      <td>Super anna yenu thappila yela sari agi hellidi...</td>\n",
              "    </tr>\n",
              "    <tr>\n",
              "      <th>3</th>\n",
              "      <td>Super sir super super super super</td>\n",
              "    </tr>\n",
              "    <tr>\n",
              "      <th>4</th>\n",
              "      <td>AGT-KELU (KANNADA RAP 2019)</td>\n",
              "    </tr>\n",
              "    <tr>\n",
              "      <th>...</th>\n",
              "      <td>...</td>\n",
              "    </tr>\n",
              "    <tr>\n",
              "      <th>773</th>\n",
              "      <td>Startup start maadalu capacity growth maadalu ...</td>\n",
              "    </tr>\n",
              "    <tr>\n",
              "      <th>774</th>\n",
              "      <td>Rashmika idanna nodi thi*a urkimbeku🤣🤣🤣🤣🤣</td>\n",
              "    </tr>\n",
              "    <tr>\n",
              "      <th>775</th>\n",
              "      <td>I love you sir</td>\n",
              "    </tr>\n",
              "    <tr>\n",
              "      <th>776</th>\n",
              "      <td>ನೋಡ್ತಾ ಹೋದ್ರೆ ಸಾವಿರಾರು lyrical video ಗಳು</td>\n",
              "    </tr>\n",
              "    <tr>\n",
              "      <th>777</th>\n",
              "      <td>ಸಖತ್ ಟ್ರೋಲ್ ಬ್ರದರ್ nಬ್ರೊ ಈ ಗೇಮ್ ನೇಮ್ ಹೇಳಿ</td>\n",
              "    </tr>\n",
              "  </tbody>\n",
              "</table>\n",
              "<p>778 rows × 1 columns</p>\n",
              "</div>"
            ],
            "text/plain": [
              "                                                  text\n",
              "0           ಜೈ ಮೋರಿ ಜೈ ರೋಗಿ ಇಸ್ಲಾಂ ಸಾಯಿಸಿ ಇದೆ ಇವರ ಗುರಿ\n",
              "1    Anna nim e vedio nodinu mathe chaina apps use ...\n",
              "2    Super anna yenu thappila yela sari agi hellidi...\n",
              "3                    Super sir super super super super\n",
              "4                          AGT-KELU (KANNADA RAP 2019)\n",
              "..                                                 ...\n",
              "773  Startup start maadalu capacity growth maadalu ...\n",
              "774          Rashmika idanna nodi thi*a urkimbeku🤣🤣🤣🤣🤣\n",
              "775                                     I love you sir\n",
              "776           ನೋಡ್ತಾ ಹೋದ್ರೆ ಸಾವಿರಾರು lyrical video ಗಳು\n",
              "777         ಸಖತ್ ಟ್ರೋಲ್ ಬ್ರದರ್ nಬ್ರೊ ಈ ಗೇಮ್ ನೇಮ್ ಹೇಳಿ\n",
              "\n",
              "[778 rows x 1 columns]"
            ]
          },
          "metadata": {
            "tags": []
          },
          "execution_count": 63
        }
      ]
    },
    {
      "cell_type": "markdown",
      "metadata": {
        "id": "NjAQaP_na7HN"
      },
      "source": [
        "## Loading `test_sentences`"
      ]
    },
    {
      "cell_type": "code",
      "metadata": {
        "id": "WnnscvKOjl6b"
      },
      "source": [
        "test_sentences = test_df['text'].values \r\n",
        "test_ids = test_df.index.values"
      ],
      "execution_count": 64,
      "outputs": []
    },
    {
      "cell_type": "code",
      "metadata": {
        "colab": {
          "base_uri": "https://localhost:8080/"
        },
        "id": "glrG0ZI4imGN",
        "outputId": "9875e77c-dfe3-44cd-e8d9-967ea5ce3185"
      },
      "source": [
        "(py_inputs, py_attn_masks, py_ids) = make_smart_batches_on_test(test_sentences, test_ids, batch_size,tokenizer,max_input_length)"
      ],
      "execution_count": 67,
      "outputs": [
        {
          "output_type": "stream",
          "text": [
            "Creating Smart Batches from 778 examples with batch size 16...\n",
            "\n",
            "Tokenizing 778 samples...\n",
            "  Tokenized 0 samples.\n",
            "  Tokenized 80 samples.\n",
            "  Tokenized 160 samples.\n",
            "  Tokenized 240 samples.\n",
            "  Tokenized 320 samples.\n",
            "  Tokenized 400 samples.\n",
            "  Tokenized 480 samples.\n",
            "  Tokenized 560 samples.\n",
            "  Tokenized 640 samples.\n",
            "  Tokenized 720 samples.\n",
            "DONE.\n",
            "       778 samples\n",
            "\n",
            "       778 samples after sorting\n",
            "\n",
            "Creating batches of size 16...\n",
            "\n",
            "  DONE - Selected 49 batches.\n",
            "\n",
            "Padding out sequences within each batch...\n",
            "  DONE.\n"
          ],
          "name": "stdout"
        }
      ]
    },
    {
      "cell_type": "markdown",
      "metadata": {
        "id": "a4FMxCyZbJaG"
      },
      "source": [
        "## Evaluating accuracy over test set"
      ]
    },
    {
      "cell_type": "code",
      "metadata": {
        "colab": {
          "base_uri": "https://localhost:8080/"
        },
        "id": "PiuSwCUDiv8p",
        "outputId": "7ba3106d-b7e0-419f-c3c9-bd316f175c5b"
      },
      "source": [
        "test_ids , test_preds = get_predictions_on_test(py_inputs, py_attn_masks,py_ids)\r\n"
      ],
      "execution_count": 68,
      "outputs": [
        {
          "output_type": "stream",
          "text": [
            "Predicting labels for 49 test batches...\n",
            "  Batch       5  of       49.    Elapsed: 0:00:00.  Remaining: 0:00:01\n",
            "  Batch      10  of       49.    Elapsed: 0:00:00.  Remaining: 0:00:01\n",
            "  Batch      15  of       49.    Elapsed: 0:00:00.  Remaining: 0:00:01\n",
            "  Batch      20  of       49.    Elapsed: 0:00:00.  Remaining: 0:00:01\n",
            "  Batch      25  of       49.    Elapsed: 0:00:01.  Remaining: 0:00:01\n",
            "  Batch      30  of       49.    Elapsed: 0:00:01.  Remaining: 0:00:01\n",
            "  Batch      35  of       49.    Elapsed: 0:00:01.  Remaining: 0:00:00\n",
            "  Batch      40  of       49.    Elapsed: 0:00:01.  Remaining: 0:00:00\n",
            "  Batch      45  of       49.    Elapsed: 0:00:01.  Remaining: 0:00:00\n"
          ],
          "name": "stdout"
        }
      ]
    },
    {
      "cell_type": "code",
      "metadata": {
        "colab": {
          "base_uri": "https://localhost:8080/"
        },
        "id": "cyNSDdXQhL9F",
        "outputId": "4a094b9f-8621-4c06-8c44-3dca8cbdb272"
      },
      "source": [
        "print(test_preds)"
      ],
      "execution_count": 69,
      "outputs": [
        {
          "output_type": "stream",
          "text": [
            "[5 0 5 0 0 0 0 5 0 1 0 0 0 0 0 5 0 0 1 0 2 2 0 0 0 0 0 0 2 0 0 0 5 5 0 1 0\n",
            " 5 0 0 2 5 5 5 5 0 5 0 5 0 1 0 5 0 0 5 0 0 0 5 5 0 0 0 0 5 0 1 1 5 0 0 0 5\n",
            " 0 0 0 2 5 0 0 5 0 5 0 2 0 0 1 0 0 0 0 0 0 0 0 2 2 0 0 0 0 0 0 0 2 0 0 2 0\n",
            " 0 0 5 5 5 5 0 0 5 0 0 0 5 5 5 5 5 0 0 0 0 5 0 0 0 2 0 0 5 0 5 0 0 1 1 0 0\n",
            " 2 0 0 2 0 0 0 0 0 0 0 0 2 2 0 0 0 0 0 0 1 0 0 0 0 0 1 0 5 5 0 5 5 0 5 5 5\n",
            " 5 0 5 5 5 0 5 5 0 0 2 0 0 0 2 0 1 0 0 0 0 0 0 0 0 0 0 5 0 0 1 0 0 0 0 0 0\n",
            " 5 5 0 2 0 0 0 0 0 2 0 0 0 0 1 0 5 0 5 5 5 5 5 0 5 5 0 5 5 0 5 0 0 0 0 5 5\n",
            " 5 0 5 0 1 5 0 1 5 0 5 0 0 0 1 0 0 0 0 5 5 0 0 1 0 0 0 0 0 0 0 0 0 5 0 0 0\n",
            " 0 5 0 0 0 2 0 5 5 5 5 0 0 0 0 5 0 0 5 0 5 5 0 5 0 0 5 5 0 5 5 5 5 5 5 5 5\n",
            " 5 5 5 0 5 0 5 5 5 5 5 5 5 0 0 5 0 5 5 0 0 5 5 0 5 0 0 0 1 0 0 0 0 5 0 0 0\n",
            " 0 0 0 0 0 0 0 0 0 0 2 0 2 0 0 0 2 0 0 2 0 0 2 2 5 0 0 2 0 2 2 0 0 0 0 2 5\n",
            " 1 0 0 0 0 2 0 0 0 0 0 0 0 2 0 0 5 2 0 5 5 0 0 5 0 0 5 0 0 0 2 0 5 5 0 0 0\n",
            " 0 5 2 0 2 0 0 0 0 0 2 1 0 0 0 5 5 2 0 5 2 0 0 0 0 0 0 2 1 0 0 2 0 0 2 0 0\n",
            " 0 0 5 0 0 0 0 0 0 0 0 0 0 0 0 0 5 5 0 0 5 5 0 0 0 0 1 5 0 2 5 0 0 0 0 0 0\n",
            " 0 0 0 0 0 2 2 0 0 0 0 0 0 0 5 5 0 5 5 5 5 5 0 0 5 0 0 0 0 2 2 0 0 0 5 0 2\n",
            " 0 0 0 0 0 0 5 0 0 2 0 0 5 0 1 0 0 0 0 0 0 0 0 0 0 2 0 5 2 0 0 5 2 2 5 2 0\n",
            " 1 0 0 2 0 0 2 0 2 0 0 0 0 0 2 0 5 0 0 5 0 5 1 2 2 0 5 0 0 0 5 0 1 0 0 2 0\n",
            " 0 0 0 1 2 0 1 0 1 0 0 5 5 5 5 0 0 5 5 5 5 0 5 0 5 5 5 5 0 5 5 5 5 5 5 5 5\n",
            " 0 5 0 5 5 5 0 0 0 5 0 0 0 0 0 0 0 5 0 2 2 0 0 0 0 0 0 0 0 2 0 2 0 2 0 2 0\n",
            " 1 0 5 5 5 5 5 5 2 0 5 5 0 0 0 5 5 5 0 5 0 5 5 5 5 0 0 2 0 5 0 5 1 5 0 5 0\n",
            " 5 5 5 5 5 0 5 2 0 0 5 0 0 2 0 0 2 0 0 0 0 0 0 0 0 0 0 0 5 5 5 5 0 5 0 0 0\n",
            " 0]\n"
          ],
          "name": "stdout"
        }
      ]
    },
    {
      "cell_type": "code",
      "metadata": {
        "colab": {
          "base_uri": "https://localhost:8080/"
        },
        "id": "P2rVvmYVhguG",
        "outputId": "a327683b-8235-46fe-94e2-ef468ff3508d"
      },
      "source": [
        "le.inverse_transform(test_preds)"
      ],
      "execution_count": 70,
      "outputs": [
        {
          "output_type": "execute_result",
          "data": {
            "text/plain": [
              "array(['not-Kannada', 'Not_offensive', 'not-Kannada', 'Not_offensive',\n",
              "       'Not_offensive', 'Not_offensive', 'Not_offensive', 'not-Kannada',\n",
              "       'Not_offensive', 'Offensive_Targeted_Insult_Group',\n",
              "       'Not_offensive', 'Not_offensive', 'Not_offensive', 'Not_offensive',\n",
              "       'Not_offensive', 'not-Kannada', 'Not_offensive', 'Not_offensive',\n",
              "       'Offensive_Targeted_Insult_Group', 'Not_offensive',\n",
              "       'Offensive_Targeted_Insult_Individual',\n",
              "       'Offensive_Targeted_Insult_Individual', 'Not_offensive',\n",
              "       'Not_offensive', 'Not_offensive', 'Not_offensive', 'Not_offensive',\n",
              "       'Not_offensive', 'Offensive_Targeted_Insult_Individual',\n",
              "       'Not_offensive', 'Not_offensive', 'Not_offensive', 'not-Kannada',\n",
              "       'not-Kannada', 'Not_offensive', 'Offensive_Targeted_Insult_Group',\n",
              "       'Not_offensive', 'not-Kannada', 'Not_offensive', 'Not_offensive',\n",
              "       'Offensive_Targeted_Insult_Individual', 'not-Kannada',\n",
              "       'not-Kannada', 'not-Kannada', 'not-Kannada', 'Not_offensive',\n",
              "       'not-Kannada', 'Not_offensive', 'not-Kannada', 'Not_offensive',\n",
              "       'Offensive_Targeted_Insult_Group', 'Not_offensive', 'not-Kannada',\n",
              "       'Not_offensive', 'Not_offensive', 'not-Kannada', 'Not_offensive',\n",
              "       'Not_offensive', 'Not_offensive', 'not-Kannada', 'not-Kannada',\n",
              "       'Not_offensive', 'Not_offensive', 'Not_offensive', 'Not_offensive',\n",
              "       'not-Kannada', 'Not_offensive', 'Offensive_Targeted_Insult_Group',\n",
              "       'Offensive_Targeted_Insult_Group', 'not-Kannada', 'Not_offensive',\n",
              "       'Not_offensive', 'Not_offensive', 'not-Kannada', 'Not_offensive',\n",
              "       'Not_offensive', 'Not_offensive',\n",
              "       'Offensive_Targeted_Insult_Individual', 'not-Kannada',\n",
              "       'Not_offensive', 'Not_offensive', 'not-Kannada', 'Not_offensive',\n",
              "       'not-Kannada', 'Not_offensive',\n",
              "       'Offensive_Targeted_Insult_Individual', 'Not_offensive',\n",
              "       'Not_offensive', 'Offensive_Targeted_Insult_Group',\n",
              "       'Not_offensive', 'Not_offensive', 'Not_offensive', 'Not_offensive',\n",
              "       'Not_offensive', 'Not_offensive', 'Not_offensive', 'Not_offensive',\n",
              "       'Offensive_Targeted_Insult_Individual',\n",
              "       'Offensive_Targeted_Insult_Individual', 'Not_offensive',\n",
              "       'Not_offensive', 'Not_offensive', 'Not_offensive', 'Not_offensive',\n",
              "       'Not_offensive', 'Not_offensive',\n",
              "       'Offensive_Targeted_Insult_Individual', 'Not_offensive',\n",
              "       'Not_offensive', 'Offensive_Targeted_Insult_Individual',\n",
              "       'Not_offensive', 'Not_offensive', 'Not_offensive', 'not-Kannada',\n",
              "       'not-Kannada', 'not-Kannada', 'not-Kannada', 'Not_offensive',\n",
              "       'Not_offensive', 'not-Kannada', 'Not_offensive', 'Not_offensive',\n",
              "       'Not_offensive', 'not-Kannada', 'not-Kannada', 'not-Kannada',\n",
              "       'not-Kannada', 'not-Kannada', 'Not_offensive', 'Not_offensive',\n",
              "       'Not_offensive', 'Not_offensive', 'not-Kannada', 'Not_offensive',\n",
              "       'Not_offensive', 'Not_offensive',\n",
              "       'Offensive_Targeted_Insult_Individual', 'Not_offensive',\n",
              "       'Not_offensive', 'not-Kannada', 'Not_offensive', 'not-Kannada',\n",
              "       'Not_offensive', 'Not_offensive',\n",
              "       'Offensive_Targeted_Insult_Group',\n",
              "       'Offensive_Targeted_Insult_Group', 'Not_offensive',\n",
              "       'Not_offensive', 'Offensive_Targeted_Insult_Individual',\n",
              "       'Not_offensive', 'Not_offensive',\n",
              "       'Offensive_Targeted_Insult_Individual', 'Not_offensive',\n",
              "       'Not_offensive', 'Not_offensive', 'Not_offensive', 'Not_offensive',\n",
              "       'Not_offensive', 'Not_offensive', 'Not_offensive',\n",
              "       'Offensive_Targeted_Insult_Individual',\n",
              "       'Offensive_Targeted_Insult_Individual', 'Not_offensive',\n",
              "       'Not_offensive', 'Not_offensive', 'Not_offensive', 'Not_offensive',\n",
              "       'Not_offensive', 'Offensive_Targeted_Insult_Group',\n",
              "       'Not_offensive', 'Not_offensive', 'Not_offensive', 'Not_offensive',\n",
              "       'Not_offensive', 'Offensive_Targeted_Insult_Group',\n",
              "       'Not_offensive', 'not-Kannada', 'not-Kannada', 'Not_offensive',\n",
              "       'not-Kannada', 'not-Kannada', 'Not_offensive', 'not-Kannada',\n",
              "       'not-Kannada', 'not-Kannada', 'not-Kannada', 'Not_offensive',\n",
              "       'not-Kannada', 'not-Kannada', 'not-Kannada', 'Not_offensive',\n",
              "       'not-Kannada', 'not-Kannada', 'Not_offensive', 'Not_offensive',\n",
              "       'Offensive_Targeted_Insult_Individual', 'Not_offensive',\n",
              "       'Not_offensive', 'Not_offensive',\n",
              "       'Offensive_Targeted_Insult_Individual', 'Not_offensive',\n",
              "       'Offensive_Targeted_Insult_Group', 'Not_offensive',\n",
              "       'Not_offensive', 'Not_offensive', 'Not_offensive', 'Not_offensive',\n",
              "       'Not_offensive', 'Not_offensive', 'Not_offensive', 'Not_offensive',\n",
              "       'Not_offensive', 'not-Kannada', 'Not_offensive', 'Not_offensive',\n",
              "       'Offensive_Targeted_Insult_Group', 'Not_offensive',\n",
              "       'Not_offensive', 'Not_offensive', 'Not_offensive', 'Not_offensive',\n",
              "       'Not_offensive', 'not-Kannada', 'not-Kannada', 'Not_offensive',\n",
              "       'Offensive_Targeted_Insult_Individual', 'Not_offensive',\n",
              "       'Not_offensive', 'Not_offensive', 'Not_offensive', 'Not_offensive',\n",
              "       'Offensive_Targeted_Insult_Individual', 'Not_offensive',\n",
              "       'Not_offensive', 'Not_offensive', 'Not_offensive',\n",
              "       'Offensive_Targeted_Insult_Group', 'Not_offensive', 'not-Kannada',\n",
              "       'Not_offensive', 'not-Kannada', 'not-Kannada', 'not-Kannada',\n",
              "       'not-Kannada', 'not-Kannada', 'Not_offensive', 'not-Kannada',\n",
              "       'not-Kannada', 'Not_offensive', 'not-Kannada', 'not-Kannada',\n",
              "       'Not_offensive', 'not-Kannada', 'Not_offensive', 'Not_offensive',\n",
              "       'Not_offensive', 'Not_offensive', 'not-Kannada', 'not-Kannada',\n",
              "       'not-Kannada', 'Not_offensive', 'not-Kannada', 'Not_offensive',\n",
              "       'Offensive_Targeted_Insult_Group', 'not-Kannada', 'Not_offensive',\n",
              "       'Offensive_Targeted_Insult_Group', 'not-Kannada', 'Not_offensive',\n",
              "       'not-Kannada', 'Not_offensive', 'Not_offensive', 'Not_offensive',\n",
              "       'Offensive_Targeted_Insult_Group', 'Not_offensive',\n",
              "       'Not_offensive', 'Not_offensive', 'Not_offensive', 'not-Kannada',\n",
              "       'not-Kannada', 'Not_offensive', 'Not_offensive',\n",
              "       'Offensive_Targeted_Insult_Group', 'Not_offensive',\n",
              "       'Not_offensive', 'Not_offensive', 'Not_offensive', 'Not_offensive',\n",
              "       'Not_offensive', 'Not_offensive', 'Not_offensive', 'Not_offensive',\n",
              "       'not-Kannada', 'Not_offensive', 'Not_offensive', 'Not_offensive',\n",
              "       'Not_offensive', 'not-Kannada', 'Not_offensive', 'Not_offensive',\n",
              "       'Not_offensive', 'Offensive_Targeted_Insult_Individual',\n",
              "       'Not_offensive', 'not-Kannada', 'not-Kannada', 'not-Kannada',\n",
              "       'not-Kannada', 'Not_offensive', 'Not_offensive', 'Not_offensive',\n",
              "       'Not_offensive', 'not-Kannada', 'Not_offensive', 'Not_offensive',\n",
              "       'not-Kannada', 'Not_offensive', 'not-Kannada', 'not-Kannada',\n",
              "       'Not_offensive', 'not-Kannada', 'Not_offensive', 'Not_offensive',\n",
              "       'not-Kannada', 'not-Kannada', 'Not_offensive', 'not-Kannada',\n",
              "       'not-Kannada', 'not-Kannada', 'not-Kannada', 'not-Kannada',\n",
              "       'not-Kannada', 'not-Kannada', 'not-Kannada', 'not-Kannada',\n",
              "       'not-Kannada', 'not-Kannada', 'Not_offensive', 'not-Kannada',\n",
              "       'Not_offensive', 'not-Kannada', 'not-Kannada', 'not-Kannada',\n",
              "       'not-Kannada', 'not-Kannada', 'not-Kannada', 'not-Kannada',\n",
              "       'Not_offensive', 'Not_offensive', 'not-Kannada', 'Not_offensive',\n",
              "       'not-Kannada', 'not-Kannada', 'Not_offensive', 'Not_offensive',\n",
              "       'not-Kannada', 'not-Kannada', 'Not_offensive', 'not-Kannada',\n",
              "       'Not_offensive', 'Not_offensive', 'Not_offensive',\n",
              "       'Offensive_Targeted_Insult_Group', 'Not_offensive',\n",
              "       'Not_offensive', 'Not_offensive', 'Not_offensive', 'not-Kannada',\n",
              "       'Not_offensive', 'Not_offensive', 'Not_offensive', 'Not_offensive',\n",
              "       'Not_offensive', 'Not_offensive', 'Not_offensive', 'Not_offensive',\n",
              "       'Not_offensive', 'Not_offensive', 'Not_offensive', 'Not_offensive',\n",
              "       'Not_offensive', 'Offensive_Targeted_Insult_Individual',\n",
              "       'Not_offensive', 'Offensive_Targeted_Insult_Individual',\n",
              "       'Not_offensive', 'Not_offensive', 'Not_offensive',\n",
              "       'Offensive_Targeted_Insult_Individual', 'Not_offensive',\n",
              "       'Not_offensive', 'Offensive_Targeted_Insult_Individual',\n",
              "       'Not_offensive', 'Not_offensive',\n",
              "       'Offensive_Targeted_Insult_Individual',\n",
              "       'Offensive_Targeted_Insult_Individual', 'not-Kannada',\n",
              "       'Not_offensive', 'Not_offensive',\n",
              "       'Offensive_Targeted_Insult_Individual', 'Not_offensive',\n",
              "       'Offensive_Targeted_Insult_Individual',\n",
              "       'Offensive_Targeted_Insult_Individual', 'Not_offensive',\n",
              "       'Not_offensive', 'Not_offensive', 'Not_offensive',\n",
              "       'Offensive_Targeted_Insult_Individual', 'not-Kannada',\n",
              "       'Offensive_Targeted_Insult_Group', 'Not_offensive',\n",
              "       'Not_offensive', 'Not_offensive', 'Not_offensive',\n",
              "       'Offensive_Targeted_Insult_Individual', 'Not_offensive',\n",
              "       'Not_offensive', 'Not_offensive', 'Not_offensive', 'Not_offensive',\n",
              "       'Not_offensive', 'Not_offensive',\n",
              "       'Offensive_Targeted_Insult_Individual', 'Not_offensive',\n",
              "       'Not_offensive', 'not-Kannada',\n",
              "       'Offensive_Targeted_Insult_Individual', 'Not_offensive',\n",
              "       'not-Kannada', 'not-Kannada', 'Not_offensive', 'Not_offensive',\n",
              "       'not-Kannada', 'Not_offensive', 'Not_offensive', 'not-Kannada',\n",
              "       'Not_offensive', 'Not_offensive', 'Not_offensive',\n",
              "       'Offensive_Targeted_Insult_Individual', 'Not_offensive',\n",
              "       'not-Kannada', 'not-Kannada', 'Not_offensive', 'Not_offensive',\n",
              "       'Not_offensive', 'Not_offensive', 'not-Kannada',\n",
              "       'Offensive_Targeted_Insult_Individual', 'Not_offensive',\n",
              "       'Offensive_Targeted_Insult_Individual', 'Not_offensive',\n",
              "       'Not_offensive', 'Not_offensive', 'Not_offensive', 'Not_offensive',\n",
              "       'Offensive_Targeted_Insult_Individual',\n",
              "       'Offensive_Targeted_Insult_Group', 'Not_offensive',\n",
              "       'Not_offensive', 'Not_offensive', 'not-Kannada', 'not-Kannada',\n",
              "       'Offensive_Targeted_Insult_Individual', 'Not_offensive',\n",
              "       'not-Kannada', 'Offensive_Targeted_Insult_Individual',\n",
              "       'Not_offensive', 'Not_offensive', 'Not_offensive', 'Not_offensive',\n",
              "       'Not_offensive', 'Not_offensive',\n",
              "       'Offensive_Targeted_Insult_Individual',\n",
              "       'Offensive_Targeted_Insult_Group', 'Not_offensive',\n",
              "       'Not_offensive', 'Offensive_Targeted_Insult_Individual',\n",
              "       'Not_offensive', 'Not_offensive',\n",
              "       'Offensive_Targeted_Insult_Individual', 'Not_offensive',\n",
              "       'Not_offensive', 'Not_offensive', 'Not_offensive', 'not-Kannada',\n",
              "       'Not_offensive', 'Not_offensive', 'Not_offensive', 'Not_offensive',\n",
              "       'Not_offensive', 'Not_offensive', 'Not_offensive', 'Not_offensive',\n",
              "       'Not_offensive', 'Not_offensive', 'Not_offensive', 'Not_offensive',\n",
              "       'Not_offensive', 'not-Kannada', 'not-Kannada', 'Not_offensive',\n",
              "       'Not_offensive', 'not-Kannada', 'not-Kannada', 'Not_offensive',\n",
              "       'Not_offensive', 'Not_offensive', 'Not_offensive',\n",
              "       'Offensive_Targeted_Insult_Group', 'not-Kannada', 'Not_offensive',\n",
              "       'Offensive_Targeted_Insult_Individual', 'not-Kannada',\n",
              "       'Not_offensive', 'Not_offensive', 'Not_offensive', 'Not_offensive',\n",
              "       'Not_offensive', 'Not_offensive', 'Not_offensive', 'Not_offensive',\n",
              "       'Not_offensive', 'Not_offensive', 'Not_offensive',\n",
              "       'Offensive_Targeted_Insult_Individual',\n",
              "       'Offensive_Targeted_Insult_Individual', 'Not_offensive',\n",
              "       'Not_offensive', 'Not_offensive', 'Not_offensive', 'Not_offensive',\n",
              "       'Not_offensive', 'Not_offensive', 'not-Kannada', 'not-Kannada',\n",
              "       'Not_offensive', 'not-Kannada', 'not-Kannada', 'not-Kannada',\n",
              "       'not-Kannada', 'not-Kannada', 'Not_offensive', 'Not_offensive',\n",
              "       'not-Kannada', 'Not_offensive', 'Not_offensive', 'Not_offensive',\n",
              "       'Not_offensive', 'Offensive_Targeted_Insult_Individual',\n",
              "       'Offensive_Targeted_Insult_Individual', 'Not_offensive',\n",
              "       'Not_offensive', 'Not_offensive', 'not-Kannada', 'Not_offensive',\n",
              "       'Offensive_Targeted_Insult_Individual', 'Not_offensive',\n",
              "       'Not_offensive', 'Not_offensive', 'Not_offensive', 'Not_offensive',\n",
              "       'Not_offensive', 'not-Kannada', 'Not_offensive', 'Not_offensive',\n",
              "       'Offensive_Targeted_Insult_Individual', 'Not_offensive',\n",
              "       'Not_offensive', 'not-Kannada', 'Not_offensive',\n",
              "       'Offensive_Targeted_Insult_Group', 'Not_offensive',\n",
              "       'Not_offensive', 'Not_offensive', 'Not_offensive', 'Not_offensive',\n",
              "       'Not_offensive', 'Not_offensive', 'Not_offensive', 'Not_offensive',\n",
              "       'Not_offensive', 'Offensive_Targeted_Insult_Individual',\n",
              "       'Not_offensive', 'not-Kannada',\n",
              "       'Offensive_Targeted_Insult_Individual', 'Not_offensive',\n",
              "       'Not_offensive', 'not-Kannada',\n",
              "       'Offensive_Targeted_Insult_Individual',\n",
              "       'Offensive_Targeted_Insult_Individual', 'not-Kannada',\n",
              "       'Offensive_Targeted_Insult_Individual', 'Not_offensive',\n",
              "       'Offensive_Targeted_Insult_Group', 'Not_offensive',\n",
              "       'Not_offensive', 'Offensive_Targeted_Insult_Individual',\n",
              "       'Not_offensive', 'Not_offensive',\n",
              "       'Offensive_Targeted_Insult_Individual', 'Not_offensive',\n",
              "       'Offensive_Targeted_Insult_Individual', 'Not_offensive',\n",
              "       'Not_offensive', 'Not_offensive', 'Not_offensive', 'Not_offensive',\n",
              "       'Offensive_Targeted_Insult_Individual', 'Not_offensive',\n",
              "       'not-Kannada', 'Not_offensive', 'Not_offensive', 'not-Kannada',\n",
              "       'Not_offensive', 'not-Kannada', 'Offensive_Targeted_Insult_Group',\n",
              "       'Offensive_Targeted_Insult_Individual',\n",
              "       'Offensive_Targeted_Insult_Individual', 'Not_offensive',\n",
              "       'not-Kannada', 'Not_offensive', 'Not_offensive', 'Not_offensive',\n",
              "       'not-Kannada', 'Not_offensive', 'Offensive_Targeted_Insult_Group',\n",
              "       'Not_offensive', 'Not_offensive',\n",
              "       'Offensive_Targeted_Insult_Individual', 'Not_offensive',\n",
              "       'Not_offensive', 'Not_offensive', 'Not_offensive',\n",
              "       'Offensive_Targeted_Insult_Group',\n",
              "       'Offensive_Targeted_Insult_Individual', 'Not_offensive',\n",
              "       'Offensive_Targeted_Insult_Group', 'Not_offensive',\n",
              "       'Offensive_Targeted_Insult_Group', 'Not_offensive',\n",
              "       'Not_offensive', 'not-Kannada', 'not-Kannada', 'not-Kannada',\n",
              "       'not-Kannada', 'Not_offensive', 'Not_offensive', 'not-Kannada',\n",
              "       'not-Kannada', 'not-Kannada', 'not-Kannada', 'Not_offensive',\n",
              "       'not-Kannada', 'Not_offensive', 'not-Kannada', 'not-Kannada',\n",
              "       'not-Kannada', 'not-Kannada', 'Not_offensive', 'not-Kannada',\n",
              "       'not-Kannada', 'not-Kannada', 'not-Kannada', 'not-Kannada',\n",
              "       'not-Kannada', 'not-Kannada', 'not-Kannada', 'Not_offensive',\n",
              "       'not-Kannada', 'Not_offensive', 'not-Kannada', 'not-Kannada',\n",
              "       'not-Kannada', 'Not_offensive', 'Not_offensive', 'Not_offensive',\n",
              "       'not-Kannada', 'Not_offensive', 'Not_offensive', 'Not_offensive',\n",
              "       'Not_offensive', 'Not_offensive', 'Not_offensive', 'Not_offensive',\n",
              "       'not-Kannada', 'Not_offensive',\n",
              "       'Offensive_Targeted_Insult_Individual',\n",
              "       'Offensive_Targeted_Insult_Individual', 'Not_offensive',\n",
              "       'Not_offensive', 'Not_offensive', 'Not_offensive', 'Not_offensive',\n",
              "       'Not_offensive', 'Not_offensive', 'Not_offensive',\n",
              "       'Offensive_Targeted_Insult_Individual', 'Not_offensive',\n",
              "       'Offensive_Targeted_Insult_Individual', 'Not_offensive',\n",
              "       'Offensive_Targeted_Insult_Individual', 'Not_offensive',\n",
              "       'Offensive_Targeted_Insult_Individual', 'Not_offensive',\n",
              "       'Offensive_Targeted_Insult_Group', 'Not_offensive', 'not-Kannada',\n",
              "       'not-Kannada', 'not-Kannada', 'not-Kannada', 'not-Kannada',\n",
              "       'not-Kannada', 'Offensive_Targeted_Insult_Individual',\n",
              "       'Not_offensive', 'not-Kannada', 'not-Kannada', 'Not_offensive',\n",
              "       'Not_offensive', 'Not_offensive', 'not-Kannada', 'not-Kannada',\n",
              "       'not-Kannada', 'Not_offensive', 'not-Kannada', 'Not_offensive',\n",
              "       'not-Kannada', 'not-Kannada', 'not-Kannada', 'not-Kannada',\n",
              "       'Not_offensive', 'Not_offensive',\n",
              "       'Offensive_Targeted_Insult_Individual', 'Not_offensive',\n",
              "       'not-Kannada', 'Not_offensive', 'not-Kannada',\n",
              "       'Offensive_Targeted_Insult_Group', 'not-Kannada', 'Not_offensive',\n",
              "       'not-Kannada', 'Not_offensive', 'not-Kannada', 'not-Kannada',\n",
              "       'not-Kannada', 'not-Kannada', 'not-Kannada', 'Not_offensive',\n",
              "       'not-Kannada', 'Offensive_Targeted_Insult_Individual',\n",
              "       'Not_offensive', 'Not_offensive', 'not-Kannada', 'Not_offensive',\n",
              "       'Not_offensive', 'Offensive_Targeted_Insult_Individual',\n",
              "       'Not_offensive', 'Not_offensive',\n",
              "       'Offensive_Targeted_Insult_Individual', 'Not_offensive',\n",
              "       'Not_offensive', 'Not_offensive', 'Not_offensive', 'Not_offensive',\n",
              "       'Not_offensive', 'Not_offensive', 'Not_offensive', 'Not_offensive',\n",
              "       'Not_offensive', 'Not_offensive', 'not-Kannada', 'not-Kannada',\n",
              "       'not-Kannada', 'not-Kannada', 'Not_offensive', 'not-Kannada',\n",
              "       'Not_offensive', 'Not_offensive', 'Not_offensive', 'Not_offensive'],\n",
              "      dtype=object)"
            ]
          },
          "metadata": {
            "tags": []
          },
          "execution_count": 70
        }
      ]
    },
    {
      "cell_type": "code",
      "metadata": {
        "colab": {
          "base_uri": "https://localhost:8080/",
          "height": 424
        },
        "id": "CYN9Z8gAhrMy",
        "outputId": "f6f44dc4-ee15-4fff-a002-8f008d480b05"
      },
      "source": [
        "sns.countplot(y =le.inverse_transform(test_preds))"
      ],
      "execution_count": 71,
      "outputs": [
        {
          "output_type": "execute_result",
          "data": {
            "text/plain": [
              "<matplotlib.axes._subplots.AxesSubplot at 0x7fdd3a763c18>"
            ]
          },
          "metadata": {
            "tags": []
          },
          "execution_count": 71
        },
        {
          "output_type": "display_data",
          "data": {
            "image/png": "[encoded data removed]",
            "text/plain": [
              "<Figure size 864x432 with 1 Axes>"
            ]
          },
          "metadata": {
            "tags": []
          }
        }
      ]
    },
    {
      "cell_type": "markdown",
      "metadata": {
        "id": "2fOJyH_c3ON2"
      },
      "source": [
        "## Saving the model"
      ]
    },
    {
      "cell_type": "code",
      "metadata": {
        "id": "3PXqG-VpurVS"
      },
      "source": [
        "torch.save(model,\"./drive/MyDrive/Codalab/Offensive Language Identification/Models/BERTForSequenceClassification_Multilingual_Kannada_v2\")"
      ],
      "execution_count": 72,
      "outputs": []
    },
    {
      "cell_type": "markdown",
      "metadata": {
        "id": "sWPDqogJrjIZ"
      },
      "source": [
        "## Creating Submission DataFrame"
      ]
    },
    {
      "cell_type": "code",
      "metadata": {
        "id": "5NfWwz6Qztsg"
      },
      "source": [
        "df_new = pd.DataFrame({\r\n",
        "    'id':test_ids,\r\n",
        "    'label':le.inverse_transform(test_preds)\r\n",
        "})"
      ],
      "execution_count": 75,
      "outputs": []
    },
    {
      "cell_type": "code",
      "metadata": {
        "id": "twQAkVzcn4Lg"
      },
      "source": [
        "test_df['id'] = test_df.index"
      ],
      "execution_count": 76,
      "outputs": []
    },
    {
      "cell_type": "code",
      "metadata": {
        "colab": {
          "base_uri": "https://localhost:8080/",
          "height": 402
        },
        "id": "qov36eWmqawv",
        "outputId": "11919cd8-e141-4fd5-8d4a-23f2a01267ff"
      },
      "source": [
        "df_new"
      ],
      "execution_count": 77,
      "outputs": [
        {
          "output_type": "execute_result",
          "data": {
            "text/html": [
              "<div>\n",
              "<style scoped>\n",
              "    .dataframe tbody tr th:only-of-type {\n",
              "        vertical-align: middle;\n",
              "    }\n",
              "\n",
              "    .dataframe tbody tr th {\n",
              "        vertical-align: top;\n",
              "    }\n",
              "\n",
              "    .dataframe thead th {\n",
              "        text-align: right;\n",
              "    }\n",
              "</style>\n",
              "<table border=\"1\" class=\"dataframe\">\n",
              "  <thead>\n",
              "    <tr style=\"text-align: right;\">\n",
              "      <th></th>\n",
              "      <th>id</th>\n",
              "      <th>label</th>\n",
              "    </tr>\n",
              "  </thead>\n",
              "  <tbody>\n",
              "    <tr>\n",
              "      <th>0</th>\n",
              "      <td>520</td>\n",
              "      <td>not-Kannada</td>\n",
              "    </tr>\n",
              "    <tr>\n",
              "      <th>1</th>\n",
              "      <td>540</td>\n",
              "      <td>Not_offensive</td>\n",
              "    </tr>\n",
              "    <tr>\n",
              "      <th>2</th>\n",
              "      <td>574</td>\n",
              "      <td>not-Kannada</td>\n",
              "    </tr>\n",
              "    <tr>\n",
              "      <th>3</th>\n",
              "      <td>587</td>\n",
              "      <td>Not_offensive</td>\n",
              "    </tr>\n",
              "    <tr>\n",
              "      <th>4</th>\n",
              "      <td>592</td>\n",
              "      <td>Not_offensive</td>\n",
              "    </tr>\n",
              "    <tr>\n",
              "      <th>...</th>\n",
              "      <td>...</td>\n",
              "      <td>...</td>\n",
              "    </tr>\n",
              "    <tr>\n",
              "      <th>773</th>\n",
              "      <td>16</td>\n",
              "      <td>not-Kannada</td>\n",
              "    </tr>\n",
              "    <tr>\n",
              "      <th>774</th>\n",
              "      <td>393</td>\n",
              "      <td>Not_offensive</td>\n",
              "    </tr>\n",
              "    <tr>\n",
              "      <th>775</th>\n",
              "      <td>397</td>\n",
              "      <td>Not_offensive</td>\n",
              "    </tr>\n",
              "    <tr>\n",
              "      <th>776</th>\n",
              "      <td>569</td>\n",
              "      <td>Not_offensive</td>\n",
              "    </tr>\n",
              "    <tr>\n",
              "      <th>777</th>\n",
              "      <td>459</td>\n",
              "      <td>Not_offensive</td>\n",
              "    </tr>\n",
              "  </tbody>\n",
              "</table>\n",
              "<p>778 rows × 2 columns</p>\n",
              "</div>"
            ],
            "text/plain": [
              "      id          label\n",
              "0    520    not-Kannada\n",
              "1    540  Not_offensive\n",
              "2    574    not-Kannada\n",
              "3    587  Not_offensive\n",
              "4    592  Not_offensive\n",
              "..   ...            ...\n",
              "773   16    not-Kannada\n",
              "774  393  Not_offensive\n",
              "775  397  Not_offensive\n",
              "776  569  Not_offensive\n",
              "777  459  Not_offensive\n",
              "\n",
              "[778 rows x 2 columns]"
            ]
          },
          "metadata": {
            "tags": []
          },
          "execution_count": 77
        }
      ]
    },
    {
      "cell_type": "code",
      "metadata": {
        "colab": {
          "base_uri": "https://localhost:8080/",
          "height": 402
        },
        "id": "z0CEApHmqdLr",
        "outputId": "bce87347-6e3b-42c8-b27e-1800eb081eea"
      },
      "source": [
        "test_df"
      ],
      "execution_count": 78,
      "outputs": [
        {
          "output_type": "execute_result",
          "data": {
            "text/html": [
              "<div>\n",
              "<style scoped>\n",
              "    .dataframe tbody tr th:only-of-type {\n",
              "        vertical-align: middle;\n",
              "    }\n",
              "\n",
              "    .dataframe tbody tr th {\n",
              "        vertical-align: top;\n",
              "    }\n",
              "\n",
              "    .dataframe thead th {\n",
              "        text-align: right;\n",
              "    }\n",
              "</style>\n",
              "<table border=\"1\" class=\"dataframe\">\n",
              "  <thead>\n",
              "    <tr style=\"text-align: right;\">\n",
              "      <th></th>\n",
              "      <th>text</th>\n",
              "      <th>id</th>\n",
              "    </tr>\n",
              "  </thead>\n",
              "  <tbody>\n",
              "    <tr>\n",
              "      <th>0</th>\n",
              "      <td>ಜೈ ಮೋರಿ ಜೈ ರೋಗಿ ಇಸ್ಲಾಂ ಸಾಯಿಸಿ ಇದೆ ಇವರ ಗುರಿ</td>\n",
              "      <td>0</td>\n",
              "    </tr>\n",
              "    <tr>\n",
              "      <th>1</th>\n",
              "      <td>Anna nim e vedio nodinu mathe chaina apps use ...</td>\n",
              "      <td>1</td>\n",
              "    </tr>\n",
              "    <tr>\n",
              "      <th>2</th>\n",
              "      <td>Super anna yenu thappila yela sari agi hellidi...</td>\n",
              "      <td>2</td>\n",
              "    </tr>\n",
              "    <tr>\n",
              "      <th>3</th>\n",
              "      <td>Super sir super super super super</td>\n",
              "      <td>3</td>\n",
              "    </tr>\n",
              "    <tr>\n",
              "      <th>4</th>\n",
              "      <td>AGT-KELU (KANNADA RAP 2019)</td>\n",
              "      <td>4</td>\n",
              "    </tr>\n",
              "    <tr>\n",
              "      <th>...</th>\n",
              "      <td>...</td>\n",
              "      <td>...</td>\n",
              "    </tr>\n",
              "    <tr>\n",
              "      <th>773</th>\n",
              "      <td>Startup start maadalu capacity growth maadalu ...</td>\n",
              "      <td>773</td>\n",
              "    </tr>\n",
              "    <tr>\n",
              "      <th>774</th>\n",
              "      <td>Rashmika idanna nodi thi*a urkimbeku🤣🤣🤣🤣🤣</td>\n",
              "      <td>774</td>\n",
              "    </tr>\n",
              "    <tr>\n",
              "      <th>775</th>\n",
              "      <td>I love you sir</td>\n",
              "      <td>775</td>\n",
              "    </tr>\n",
              "    <tr>\n",
              "      <th>776</th>\n",
              "      <td>ನೋಡ್ತಾ ಹೋದ್ರೆ ಸಾವಿರಾರು lyrical video ಗಳು</td>\n",
              "      <td>776</td>\n",
              "    </tr>\n",
              "    <tr>\n",
              "      <th>777</th>\n",
              "      <td>ಸಖತ್ ಟ್ರೋಲ್ ಬ್ರದರ್ nಬ್ರೊ ಈ ಗೇಮ್ ನೇಮ್ ಹೇಳಿ</td>\n",
              "      <td>777</td>\n",
              "    </tr>\n",
              "  </tbody>\n",
              "</table>\n",
              "<p>778 rows × 2 columns</p>\n",
              "</div>"
            ],
            "text/plain": [
              "                                                  text   id\n",
              "0           ಜೈ ಮೋರಿ ಜೈ ರೋಗಿ ಇಸ್ಲಾಂ ಸಾಯಿಸಿ ಇದೆ ಇವರ ಗುರಿ    0\n",
              "1    Anna nim e vedio nodinu mathe chaina apps use ...    1\n",
              "2    Super anna yenu thappila yela sari agi hellidi...    2\n",
              "3                    Super sir super super super super    3\n",
              "4                          AGT-KELU (KANNADA RAP 2019)    4\n",
              "..                                                 ...  ...\n",
              "773  Startup start maadalu capacity growth maadalu ...  773\n",
              "774          Rashmika idanna nodi thi*a urkimbeku🤣🤣🤣🤣🤣  774\n",
              "775                                     I love you sir  775\n",
              "776           ನೋಡ್ತಾ ಹೋದ್ರೆ ಸಾವಿರಾರು lyrical video ಗಳು  776\n",
              "777         ಸಖತ್ ಟ್ರೋಲ್ ಬ್ರದರ್ nಬ್ರೊ ಈ ಗೇಮ್ ನೇಮ್ ಹೇಳಿ  777\n",
              "\n",
              "[778 rows x 2 columns]"
            ]
          },
          "metadata": {
            "tags": []
          },
          "execution_count": 78
        }
      ]
    },
    {
      "cell_type": "code",
      "metadata": {
        "colab": {
          "base_uri": "https://localhost:8080/",
          "height": 402
        },
        "id": "vxReWWmxn7Hj",
        "outputId": "3f26955f-4540-4af8-a096-6ebc29f9394f"
      },
      "source": [
        "df_f = pd.merge(test_df,df_new,on = 'id')\r\n",
        "df_f"
      ],
      "execution_count": 79,
      "outputs": [
        {
          "output_type": "execute_result",
          "data": {
            "text/html": [
              "<div>\n",
              "<style scoped>\n",
              "    .dataframe tbody tr th:only-of-type {\n",
              "        vertical-align: middle;\n",
              "    }\n",
              "\n",
              "    .dataframe tbody tr th {\n",
              "        vertical-align: top;\n",
              "    }\n",
              "\n",
              "    .dataframe thead th {\n",
              "        text-align: right;\n",
              "    }\n",
              "</style>\n",
              "<table border=\"1\" class=\"dataframe\">\n",
              "  <thead>\n",
              "    <tr style=\"text-align: right;\">\n",
              "      <th></th>\n",
              "      <th>text</th>\n",
              "      <th>id</th>\n",
              "      <th>label</th>\n",
              "    </tr>\n",
              "  </thead>\n",
              "  <tbody>\n",
              "    <tr>\n",
              "      <th>0</th>\n",
              "      <td>ಜೈ ಮೋರಿ ಜೈ ರೋಗಿ ಇಸ್ಲಾಂ ಸಾಯಿಸಿ ಇದೆ ಇವರ ಗುರಿ</td>\n",
              "      <td>0</td>\n",
              "      <td>Not_offensive</td>\n",
              "    </tr>\n",
              "    <tr>\n",
              "      <th>1</th>\n",
              "      <td>Anna nim e vedio nodinu mathe chaina apps use ...</td>\n",
              "      <td>1</td>\n",
              "      <td>Not_offensive</td>\n",
              "    </tr>\n",
              "    <tr>\n",
              "      <th>2</th>\n",
              "      <td>Super anna yenu thappila yela sari agi hellidi...</td>\n",
              "      <td>2</td>\n",
              "      <td>Not_offensive</td>\n",
              "    </tr>\n",
              "    <tr>\n",
              "      <th>3</th>\n",
              "      <td>Super sir super super super super</td>\n",
              "      <td>3</td>\n",
              "      <td>not-Kannada</td>\n",
              "    </tr>\n",
              "    <tr>\n",
              "      <th>4</th>\n",
              "      <td>AGT-KELU (KANNADA RAP 2019)</td>\n",
              "      <td>4</td>\n",
              "      <td>not-Kannada</td>\n",
              "    </tr>\n",
              "    <tr>\n",
              "      <th>...</th>\n",
              "      <td>...</td>\n",
              "      <td>...</td>\n",
              "      <td>...</td>\n",
              "    </tr>\n",
              "    <tr>\n",
              "      <th>773</th>\n",
              "      <td>Startup start maadalu capacity growth maadalu ...</td>\n",
              "      <td>773</td>\n",
              "      <td>Not_offensive</td>\n",
              "    </tr>\n",
              "    <tr>\n",
              "      <th>774</th>\n",
              "      <td>Rashmika idanna nodi thi*a urkimbeku🤣🤣🤣🤣🤣</td>\n",
              "      <td>774</td>\n",
              "      <td>Not_offensive</td>\n",
              "    </tr>\n",
              "    <tr>\n",
              "      <th>775</th>\n",
              "      <td>I love you sir</td>\n",
              "      <td>775</td>\n",
              "      <td>not-Kannada</td>\n",
              "    </tr>\n",
              "    <tr>\n",
              "      <th>776</th>\n",
              "      <td>ನೋಡ್ತಾ ಹೋದ್ರೆ ಸಾವಿರಾರು lyrical video ಗಳು</td>\n",
              "      <td>776</td>\n",
              "      <td>Not_offensive</td>\n",
              "    </tr>\n",
              "    <tr>\n",
              "      <th>777</th>\n",
              "      <td>ಸಖತ್ ಟ್ರೋಲ್ ಬ್ರದರ್ nಬ್ರೊ ಈ ಗೇಮ್ ನೇಮ್ ಹೇಳಿ</td>\n",
              "      <td>777</td>\n",
              "      <td>Not_offensive</td>\n",
              "    </tr>\n",
              "  </tbody>\n",
              "</table>\n",
              "<p>778 rows × 3 columns</p>\n",
              "</div>"
            ],
            "text/plain": [
              "                                                  text   id          label\n",
              "0           ಜೈ ಮೋರಿ ಜೈ ರೋಗಿ ಇಸ್ಲಾಂ ಸಾಯಿಸಿ ಇದೆ ಇವರ ಗುರಿ    0  Not_offensive\n",
              "1    Anna nim e vedio nodinu mathe chaina apps use ...    1  Not_offensive\n",
              "2    Super anna yenu thappila yela sari agi hellidi...    2  Not_offensive\n",
              "3                    Super sir super super super super    3    not-Kannada\n",
              "4                          AGT-KELU (KANNADA RAP 2019)    4    not-Kannada\n",
              "..                                                 ...  ...            ...\n",
              "773  Startup start maadalu capacity growth maadalu ...  773  Not_offensive\n",
              "774          Rashmika idanna nodi thi*a urkimbeku🤣🤣🤣🤣🤣  774  Not_offensive\n",
              "775                                     I love you sir  775    not-Kannada\n",
              "776           ನೋಡ್ತಾ ಹೋದ್ರೆ ಸಾವಿರಾರು lyrical video ಗಳು  776  Not_offensive\n",
              "777         ಸಖತ್ ಟ್ರೋಲ್ ಬ್ರದರ್ nಬ್ರೊ ಈ ಗೇಮ್ ನೇಮ್ ಹೇಳಿ  777  Not_offensive\n",
              "\n",
              "[778 rows x 3 columns]"
            ]
          },
          "metadata": {
            "tags": []
          },
          "execution_count": 79
        }
      ]
    },
    {
      "cell_type": "code",
      "metadata": {
        "colab": {
          "base_uri": "https://localhost:8080/",
          "height": 402
        },
        "id": "1kuASymYn9aV",
        "outputId": "3d766965-d44d-4e38-d644-d14b1fef3172"
      },
      "source": [
        "df_f = df_f[['id','text','label']]\r\n",
        "df_f"
      ],
      "execution_count": 80,
      "outputs": [
        {
          "output_type": "execute_result",
          "data": {
            "text/html": [
              "<div>\n",
              "<style scoped>\n",
              "    .dataframe tbody tr th:only-of-type {\n",
              "        vertical-align: middle;\n",
              "    }\n",
              "\n",
              "    .dataframe tbody tr th {\n",
              "        vertical-align: top;\n",
              "    }\n",
              "\n",
              "    .dataframe thead th {\n",
              "        text-align: right;\n",
              "    }\n",
              "</style>\n",
              "<table border=\"1\" class=\"dataframe\">\n",
              "  <thead>\n",
              "    <tr style=\"text-align: right;\">\n",
              "      <th></th>\n",
              "      <th>id</th>\n",
              "      <th>text</th>\n",
              "      <th>label</th>\n",
              "    </tr>\n",
              "  </thead>\n",
              "  <tbody>\n",
              "    <tr>\n",
              "      <th>0</th>\n",
              "      <td>0</td>\n",
              "      <td>ಜೈ ಮೋರಿ ಜೈ ರೋಗಿ ಇಸ್ಲಾಂ ಸಾಯಿಸಿ ಇದೆ ಇವರ ಗುರಿ</td>\n",
              "      <td>Not_offensive</td>\n",
              "    </tr>\n",
              "    <tr>\n",
              "      <th>1</th>\n",
              "      <td>1</td>\n",
              "      <td>Anna nim e vedio nodinu mathe chaina apps use ...</td>\n",
              "      <td>Not_offensive</td>\n",
              "    </tr>\n",
              "    <tr>\n",
              "      <th>2</th>\n",
              "      <td>2</td>\n",
              "      <td>Super anna yenu thappila yela sari agi hellidi...</td>\n",
              "      <td>Not_offensive</td>\n",
              "    </tr>\n",
              "    <tr>\n",
              "      <th>3</th>\n",
              "      <td>3</td>\n",
              "      <td>Super sir super super super super</td>\n",
              "      <td>not-Kannada</td>\n",
              "    </tr>\n",
              "    <tr>\n",
              "      <th>4</th>\n",
              "      <td>4</td>\n",
              "      <td>AGT-KELU (KANNADA RAP 2019)</td>\n",
              "      <td>not-Kannada</td>\n",
              "    </tr>\n",
              "    <tr>\n",
              "      <th>...</th>\n",
              "      <td>...</td>\n",
              "      <td>...</td>\n",
              "      <td>...</td>\n",
              "    </tr>\n",
              "    <tr>\n",
              "      <th>773</th>\n",
              "      <td>773</td>\n",
              "      <td>Startup start maadalu capacity growth maadalu ...</td>\n",
              "      <td>Not_offensive</td>\n",
              "    </tr>\n",
              "    <tr>\n",
              "      <th>774</th>\n",
              "      <td>774</td>\n",
              "      <td>Rashmika idanna nodi thi*a urkimbeku🤣🤣🤣🤣🤣</td>\n",
              "      <td>Not_offensive</td>\n",
              "    </tr>\n",
              "    <tr>\n",
              "      <th>775</th>\n",
              "      <td>775</td>\n",
              "      <td>I love you sir</td>\n",
              "      <td>not-Kannada</td>\n",
              "    </tr>\n",
              "    <tr>\n",
              "      <th>776</th>\n",
              "      <td>776</td>\n",
              "      <td>ನೋಡ್ತಾ ಹೋದ್ರೆ ಸಾವಿರಾರು lyrical video ಗಳು</td>\n",
              "      <td>Not_offensive</td>\n",
              "    </tr>\n",
              "    <tr>\n",
              "      <th>777</th>\n",
              "      <td>777</td>\n",
              "      <td>ಸಖತ್ ಟ್ರೋಲ್ ಬ್ರದರ್ nಬ್ರೊ ಈ ಗೇಮ್ ನೇಮ್ ಹೇಳಿ</td>\n",
              "      <td>Not_offensive</td>\n",
              "    </tr>\n",
              "  </tbody>\n",
              "</table>\n",
              "<p>778 rows × 3 columns</p>\n",
              "</div>"
            ],
            "text/plain": [
              "      id                                               text          label\n",
              "0      0         ಜೈ ಮೋರಿ ಜೈ ರೋಗಿ ಇಸ್ಲಾಂ ಸಾಯಿಸಿ ಇದೆ ಇವರ ಗುರಿ  Not_offensive\n",
              "1      1  Anna nim e vedio nodinu mathe chaina apps use ...  Not_offensive\n",
              "2      2  Super anna yenu thappila yela sari agi hellidi...  Not_offensive\n",
              "3      3                  Super sir super super super super    not-Kannada\n",
              "4      4                        AGT-KELU (KANNADA RAP 2019)    not-Kannada\n",
              "..   ...                                                ...            ...\n",
              "773  773  Startup start maadalu capacity growth maadalu ...  Not_offensive\n",
              "774  774          Rashmika idanna nodi thi*a urkimbeku🤣🤣🤣🤣🤣  Not_offensive\n",
              "775  775                                     I love you sir    not-Kannada\n",
              "776  776           ನೋಡ್ತಾ ಹೋದ್ರೆ ಸಾವಿರಾರು lyrical video ಗಳು  Not_offensive\n",
              "777  777         ಸಖತ್ ಟ್ರೋಲ್ ಬ್ರದರ್ nಬ್ರೊ ಈ ಗೇಮ್ ನೇಮ್ ಹೇಳಿ  Not_offensive\n",
              "\n",
              "[778 rows x 3 columns]"
            ]
          },
          "metadata": {
            "tags": []
          },
          "execution_count": 80
        }
      ]
    },
    {
      "cell_type": "markdown",
      "metadata": {
        "id": "p3FtBVTVroJi"
      },
      "source": [
        "## Saving Submission DataFrame"
      ]
    },
    {
      "cell_type": "code",
      "metadata": {
        "id": "SzoT0p9rqrO-"
      },
      "source": [
        "path = './drive/MyDrive/Codalab/Offensive Language Identification/SubmissionFiles'"
      ],
      "execution_count": 81,
      "outputs": []
    },
    {
      "cell_type": "code",
      "metadata": {
        "id": "LZmgZFM4qi7F"
      },
      "source": [
        "df_f.to_csv(join(path,'bert_multi_kannada.csv'),index=False)"
      ],
      "execution_count": 82,
      "outputs": []
    }
  ]
}