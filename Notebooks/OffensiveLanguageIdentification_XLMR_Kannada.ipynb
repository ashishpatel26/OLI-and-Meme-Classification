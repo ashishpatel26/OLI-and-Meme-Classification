{
  "nbformat": 4,
  "nbformat_minor": 0,
  "metadata": {
    "colab": {
      "name": "OffensiveLanguageIdentification_XLMR_Kannada.ipynb",
      "provenance": [],
      "collapsed_sections": [],
      "toc_visible": true
    },
    "kernelspec": {
      "name": "python3",
      "display_name": "Python 3"
    },
    "accelerator": "GPU",
    "widgets": {
      "application/vnd.jupyter.widget-state+json": {
        "9e2272561b314b6e91542a539a199a79": {
          "model_module": "@jupyter-widgets/controls",
          "model_name": "HBoxModel",
          "state": {
            "_view_name": "HBoxView",
            "_dom_classes": [],
            "_model_name": "HBoxModel",
            "_view_module": "@jupyter-widgets/controls",
            "_model_module_version": "1.5.0",
            "_view_count": null,
            "_view_module_version": "1.5.0",
            "box_style": "",
            "layout": "IPY_MODEL_f0c197efa95b4767827f233bf3f0a50d",
            "_model_module": "@jupyter-widgets/controls",
            "children": [
              "IPY_MODEL_02a5fcc142ea4e3e94095602da681fa4",
              "IPY_MODEL_1510b419f8934cab9366fa2e569e2f84"
            ]
          }
        },
        "f0c197efa95b4767827f233bf3f0a50d": {
          "model_module": "@jupyter-widgets/base",
          "model_name": "LayoutModel",
          "state": {
            "_view_name": "LayoutView",
            "grid_template_rows": null,
            "right": null,
            "justify_content": null,
            "_view_module": "@jupyter-widgets/base",
            "overflow": null,
            "_model_module_version": "1.2.0",
            "_view_count": null,
            "flex_flow": null,
            "width": null,
            "min_width": null,
            "border": null,
            "align_items": null,
            "bottom": null,
            "_model_module": "@jupyter-widgets/base",
            "top": null,
            "grid_column": null,
            "overflow_y": null,
            "overflow_x": null,
            "grid_auto_flow": null,
            "grid_area": null,
            "grid_template_columns": null,
            "flex": null,
            "_model_name": "LayoutModel",
            "justify_items": null,
            "grid_row": null,
            "max_height": null,
            "align_content": null,
            "visibility": null,
            "align_self": null,
            "height": null,
            "min_height": null,
            "padding": null,
            "grid_auto_rows": null,
            "grid_gap": null,
            "max_width": null,
            "order": null,
            "_view_module_version": "1.2.0",
            "grid_template_areas": null,
            "object_position": null,
            "object_fit": null,
            "grid_auto_columns": null,
            "margin": null,
            "display": null,
            "left": null
          }
        },
        "02a5fcc142ea4e3e94095602da681fa4": {
          "model_module": "@jupyter-widgets/controls",
          "model_name": "FloatProgressModel",
          "state": {
            "_view_name": "ProgressView",
            "style": "IPY_MODEL_f824808cecc84140b6f3367ca9e180e1",
            "_dom_classes": [],
            "description": "Downloading: 100%",
            "_model_name": "FloatProgressModel",
            "bar_style": "success",
            "max": 512,
            "_view_module": "@jupyter-widgets/controls",
            "_model_module_version": "1.5.0",
            "value": 512,
            "_view_count": null,
            "_view_module_version": "1.5.0",
            "orientation": "horizontal",
            "min": 0,
            "description_tooltip": null,
            "_model_module": "@jupyter-widgets/controls",
            "layout": "IPY_MODEL_09d76a0deb84414bad7fb1653ea1efe8"
          }
        },
        "1510b419f8934cab9366fa2e569e2f84": {
          "model_module": "@jupyter-widgets/controls",
          "model_name": "HTMLModel",
          "state": {
            "_view_name": "HTMLView",
            "style": "IPY_MODEL_95a676af05ce4054a8cdb1973ad02b89",
            "_dom_classes": [],
            "description": "",
            "_model_name": "HTMLModel",
            "placeholder": "​",
            "_view_module": "@jupyter-widgets/controls",
            "_model_module_version": "1.5.0",
            "value": " 512/512 [00:01&lt;00:00, 422B/s]",
            "_view_count": null,
            "_view_module_version": "1.5.0",
            "description_tooltip": null,
            "_model_module": "@jupyter-widgets/controls",
            "layout": "IPY_MODEL_eec31f382124408588a1f2e40e7e2561"
          }
        },
        "f824808cecc84140b6f3367ca9e180e1": {
          "model_module": "@jupyter-widgets/controls",
          "model_name": "ProgressStyleModel",
          "state": {
            "_view_name": "StyleView",
            "_model_name": "ProgressStyleModel",
            "description_width": "initial",
            "_view_module": "@jupyter-widgets/base",
            "_model_module_version": "1.5.0",
            "_view_count": null,
            "_view_module_version": "1.2.0",
            "bar_color": null,
            "_model_module": "@jupyter-widgets/controls"
          }
        },
        "09d76a0deb84414bad7fb1653ea1efe8": {
          "model_module": "@jupyter-widgets/base",
          "model_name": "LayoutModel",
          "state": {
            "_view_name": "LayoutView",
            "grid_template_rows": null,
            "right": null,
            "justify_content": null,
            "_view_module": "@jupyter-widgets/base",
            "overflow": null,
            "_model_module_version": "1.2.0",
            "_view_count": null,
            "flex_flow": null,
            "width": null,
            "min_width": null,
            "border": null,
            "align_items": null,
            "bottom": null,
            "_model_module": "@jupyter-widgets/base",
            "top": null,
            "grid_column": null,
            "overflow_y": null,
            "overflow_x": null,
            "grid_auto_flow": null,
            "grid_area": null,
            "grid_template_columns": null,
            "flex": null,
            "_model_name": "LayoutModel",
            "justify_items": null,
            "grid_row": null,
            "max_height": null,
            "align_content": null,
            "visibility": null,
            "align_self": null,
            "height": null,
            "min_height": null,
            "padding": null,
            "grid_auto_rows": null,
            "grid_gap": null,
            "max_width": null,
            "order": null,
            "_view_module_version": "1.2.0",
            "grid_template_areas": null,
            "object_position": null,
            "object_fit": null,
            "grid_auto_columns": null,
            "margin": null,
            "display": null,
            "left": null
          }
        },
        "95a676af05ce4054a8cdb1973ad02b89": {
          "model_module": "@jupyter-widgets/controls",
          "model_name": "DescriptionStyleModel",
          "state": {
            "_view_name": "StyleView",
            "_model_name": "DescriptionStyleModel",
            "description_width": "",
            "_view_module": "@jupyter-widgets/base",
            "_model_module_version": "1.5.0",
            "_view_count": null,
            "_view_module_version": "1.2.0",
            "_model_module": "@jupyter-widgets/controls"
          }
        },
        "eec31f382124408588a1f2e40e7e2561": {
          "model_module": "@jupyter-widgets/base",
          "model_name": "LayoutModel",
          "state": {
            "_view_name": "LayoutView",
            "grid_template_rows": null,
            "right": null,
            "justify_content": null,
            "_view_module": "@jupyter-widgets/base",
            "overflow": null,
            "_model_module_version": "1.2.0",
            "_view_count": null,
            "flex_flow": null,
            "width": null,
            "min_width": null,
            "border": null,
            "align_items": null,
            "bottom": null,
            "_model_module": "@jupyter-widgets/base",
            "top": null,
            "grid_column": null,
            "overflow_y": null,
            "overflow_x": null,
            "grid_auto_flow": null,
            "grid_area": null,
            "grid_template_columns": null,
            "flex": null,
            "_model_name": "LayoutModel",
            "justify_items": null,
            "grid_row": null,
            "max_height": null,
            "align_content": null,
            "visibility": null,
            "align_self": null,
            "height": null,
            "min_height": null,
            "padding": null,
            "grid_auto_rows": null,
            "grid_gap": null,
            "max_width": null,
            "order": null,
            "_view_module_version": "1.2.0",
            "grid_template_areas": null,
            "object_position": null,
            "object_fit": null,
            "grid_auto_columns": null,
            "margin": null,
            "display": null,
            "left": null
          }
        },
        "433a6c253772459bba5f160f6e267a2a": {
          "model_module": "@jupyter-widgets/controls",
          "model_name": "HBoxModel",
          "state": {
            "_view_name": "HBoxView",
            "_dom_classes": [],
            "_model_name": "HBoxModel",
            "_view_module": "@jupyter-widgets/controls",
            "_model_module_version": "1.5.0",
            "_view_count": null,
            "_view_module_version": "1.5.0",
            "box_style": "",
            "layout": "IPY_MODEL_0dd6e19d3fb2492e85c87d74f0ca1442",
            "_model_module": "@jupyter-widgets/controls",
            "children": [
              "IPY_MODEL_d050462ef35a4e7aa96084e1b5459250",
              "IPY_MODEL_a9aefeb0f8bc42e9a0b29f0574afa8ed"
            ]
          }
        },
        "0dd6e19d3fb2492e85c87d74f0ca1442": {
          "model_module": "@jupyter-widgets/base",
          "model_name": "LayoutModel",
          "state": {
            "_view_name": "LayoutView",
            "grid_template_rows": null,
            "right": null,
            "justify_content": null,
            "_view_module": "@jupyter-widgets/base",
            "overflow": null,
            "_model_module_version": "1.2.0",
            "_view_count": null,
            "flex_flow": null,
            "width": null,
            "min_width": null,
            "border": null,
            "align_items": null,
            "bottom": null,
            "_model_module": "@jupyter-widgets/base",
            "top": null,
            "grid_column": null,
            "overflow_y": null,
            "overflow_x": null,
            "grid_auto_flow": null,
            "grid_area": null,
            "grid_template_columns": null,
            "flex": null,
            "_model_name": "LayoutModel",
            "justify_items": null,
            "grid_row": null,
            "max_height": null,
            "align_content": null,
            "visibility": null,
            "align_self": null,
            "height": null,
            "min_height": null,
            "padding": null,
            "grid_auto_rows": null,
            "grid_gap": null,
            "max_width": null,
            "order": null,
            "_view_module_version": "1.2.0",
            "grid_template_areas": null,
            "object_position": null,
            "object_fit": null,
            "grid_auto_columns": null,
            "margin": null,
            "display": null,
            "left": null
          }
        },
        "d050462ef35a4e7aa96084e1b5459250": {
          "model_module": "@jupyter-widgets/controls",
          "model_name": "FloatProgressModel",
          "state": {
            "_view_name": "ProgressView",
            "style": "IPY_MODEL_537532d547ad4f3f8e447ebd4bb3cc25",
            "_dom_classes": [],
            "description": "Downloading: 100%",
            "_model_name": "FloatProgressModel",
            "bar_style": "success",
            "max": 5069051,
            "_view_module": "@jupyter-widgets/controls",
            "_model_module_version": "1.5.0",
            "value": 5069051,
            "_view_count": null,
            "_view_module_version": "1.5.0",
            "orientation": "horizontal",
            "min": 0,
            "description_tooltip": null,
            "_model_module": "@jupyter-widgets/controls",
            "layout": "IPY_MODEL_68c55c4b6aa9499fbe36180d2807524c"
          }
        },
        "a9aefeb0f8bc42e9a0b29f0574afa8ed": {
          "model_module": "@jupyter-widgets/controls",
          "model_name": "HTMLModel",
          "state": {
            "_view_name": "HTMLView",
            "style": "IPY_MODEL_8953d5f3bc20404a8aa43161874e3d6d",
            "_dom_classes": [],
            "description": "",
            "_model_name": "HTMLModel",
            "placeholder": "​",
            "_view_module": "@jupyter-widgets/controls",
            "_model_module_version": "1.5.0",
            "value": " 5.07M/5.07M [00:01&lt;00:00, 4.90MB/s]",
            "_view_count": null,
            "_view_module_version": "1.5.0",
            "description_tooltip": null,
            "_model_module": "@jupyter-widgets/controls",
            "layout": "IPY_MODEL_8d1741501d3a4c8294c21676286f4fe4"
          }
        },
        "537532d547ad4f3f8e447ebd4bb3cc25": {
          "model_module": "@jupyter-widgets/controls",
          "model_name": "ProgressStyleModel",
          "state": {
            "_view_name": "StyleView",
            "_model_name": "ProgressStyleModel",
            "description_width": "initial",
            "_view_module": "@jupyter-widgets/base",
            "_model_module_version": "1.5.0",
            "_view_count": null,
            "_view_module_version": "1.2.0",
            "bar_color": null,
            "_model_module": "@jupyter-widgets/controls"
          }
        },
        "68c55c4b6aa9499fbe36180d2807524c": {
          "model_module": "@jupyter-widgets/base",
          "model_name": "LayoutModel",
          "state": {
            "_view_name": "LayoutView",
            "grid_template_rows": null,
            "right": null,
            "justify_content": null,
            "_view_module": "@jupyter-widgets/base",
            "overflow": null,
            "_model_module_version": "1.2.0",
            "_view_count": null,
            "flex_flow": null,
            "width": null,
            "min_width": null,
            "border": null,
            "align_items": null,
            "bottom": null,
            "_model_module": "@jupyter-widgets/base",
            "top": null,
            "grid_column": null,
            "overflow_y": null,
            "overflow_x": null,
            "grid_auto_flow": null,
            "grid_area": null,
            "grid_template_columns": null,
            "flex": null,
            "_model_name": "LayoutModel",
            "justify_items": null,
            "grid_row": null,
            "max_height": null,
            "align_content": null,
            "visibility": null,
            "align_self": null,
            "height": null,
            "min_height": null,
            "padding": null,
            "grid_auto_rows": null,
            "grid_gap": null,
            "max_width": null,
            "order": null,
            "_view_module_version": "1.2.0",
            "grid_template_areas": null,
            "object_position": null,
            "object_fit": null,
            "grid_auto_columns": null,
            "margin": null,
            "display": null,
            "left": null
          }
        },
        "8953d5f3bc20404a8aa43161874e3d6d": {
          "model_module": "@jupyter-widgets/controls",
          "model_name": "DescriptionStyleModel",
          "state": {
            "_view_name": "StyleView",
            "_model_name": "DescriptionStyleModel",
            "description_width": "",
            "_view_module": "@jupyter-widgets/base",
            "_model_module_version": "1.5.0",
            "_view_count": null,
            "_view_module_version": "1.2.0",
            "_model_module": "@jupyter-widgets/controls"
          }
        },
        "8d1741501d3a4c8294c21676286f4fe4": {
          "model_module": "@jupyter-widgets/base",
          "model_name": "LayoutModel",
          "state": {
            "_view_name": "LayoutView",
            "grid_template_rows": null,
            "right": null,
            "justify_content": null,
            "_view_module": "@jupyter-widgets/base",
            "overflow": null,
            "_model_module_version": "1.2.0",
            "_view_count": null,
            "flex_flow": null,
            "width": null,
            "min_width": null,
            "border": null,
            "align_items": null,
            "bottom": null,
            "_model_module": "@jupyter-widgets/base",
            "top": null,
            "grid_column": null,
            "overflow_y": null,
            "overflow_x": null,
            "grid_auto_flow": null,
            "grid_area": null,
            "grid_template_columns": null,
            "flex": null,
            "_model_name": "LayoutModel",
            "justify_items": null,
            "grid_row": null,
            "max_height": null,
            "align_content": null,
            "visibility": null,
            "align_self": null,
            "height": null,
            "min_height": null,
            "padding": null,
            "grid_auto_rows": null,
            "grid_gap": null,
            "max_width": null,
            "order": null,
            "_view_module_version": "1.2.0",
            "grid_template_areas": null,
            "object_position": null,
            "object_fit": null,
            "grid_auto_columns": null,
            "margin": null,
            "display": null,
            "left": null
          }
        },
        "4e661b57c2bc49aea92a01b7279e75bc": {
          "model_module": "@jupyter-widgets/controls",
          "model_name": "HBoxModel",
          "state": {
            "_view_name": "HBoxView",
            "_dom_classes": [],
            "_model_name": "HBoxModel",
            "_view_module": "@jupyter-widgets/controls",
            "_model_module_version": "1.5.0",
            "_view_count": null,
            "_view_module_version": "1.5.0",
            "box_style": "",
            "layout": "IPY_MODEL_f77951fff9814c8fa123077e84ae6bac",
            "_model_module": "@jupyter-widgets/controls",
            "children": [
              "IPY_MODEL_ff428e426c854abe83d03d9743a362f6",
              "IPY_MODEL_0d3372808b8e47d790970f8c7864a0ec"
            ]
          }
        },
        "f77951fff9814c8fa123077e84ae6bac": {
          "model_module": "@jupyter-widgets/base",
          "model_name": "LayoutModel",
          "state": {
            "_view_name": "LayoutView",
            "grid_template_rows": null,
            "right": null,
            "justify_content": null,
            "_view_module": "@jupyter-widgets/base",
            "overflow": null,
            "_model_module_version": "1.2.0",
            "_view_count": null,
            "flex_flow": null,
            "width": null,
            "min_width": null,
            "border": null,
            "align_items": null,
            "bottom": null,
            "_model_module": "@jupyter-widgets/base",
            "top": null,
            "grid_column": null,
            "overflow_y": null,
            "overflow_x": null,
            "grid_auto_flow": null,
            "grid_area": null,
            "grid_template_columns": null,
            "flex": null,
            "_model_name": "LayoutModel",
            "justify_items": null,
            "grid_row": null,
            "max_height": null,
            "align_content": null,
            "visibility": null,
            "align_self": null,
            "height": null,
            "min_height": null,
            "padding": null,
            "grid_auto_rows": null,
            "grid_gap": null,
            "max_width": null,
            "order": null,
            "_view_module_version": "1.2.0",
            "grid_template_areas": null,
            "object_position": null,
            "object_fit": null,
            "grid_auto_columns": null,
            "margin": null,
            "display": null,
            "left": null
          }
        },
        "ff428e426c854abe83d03d9743a362f6": {
          "model_module": "@jupyter-widgets/controls",
          "model_name": "FloatProgressModel",
          "state": {
            "_view_name": "ProgressView",
            "style": "IPY_MODEL_061d1847fd544fec876a6816e5a6666b",
            "_dom_classes": [],
            "description": "Downloading: 100%",
            "_model_name": "FloatProgressModel",
            "bar_style": "success",
            "max": 9096718,
            "_view_module": "@jupyter-widgets/controls",
            "_model_module_version": "1.5.0",
            "value": 9096718,
            "_view_count": null,
            "_view_module_version": "1.5.0",
            "orientation": "horizontal",
            "min": 0,
            "description_tooltip": null,
            "_model_module": "@jupyter-widgets/controls",
            "layout": "IPY_MODEL_ba303039835f4bd7a61a87213288d9a4"
          }
        },
        "0d3372808b8e47d790970f8c7864a0ec": {
          "model_module": "@jupyter-widgets/controls",
          "model_name": "HTMLModel",
          "state": {
            "_view_name": "HTMLView",
            "style": "IPY_MODEL_70d3f3afd1a244d789fea559691f9136",
            "_dom_classes": [],
            "description": "",
            "_model_name": "HTMLModel",
            "placeholder": "​",
            "_view_module": "@jupyter-widgets/controls",
            "_model_module_version": "1.5.0",
            "value": " 9.10M/9.10M [00:00&lt;00:00, 12.6MB/s]",
            "_view_count": null,
            "_view_module_version": "1.5.0",
            "description_tooltip": null,
            "_model_module": "@jupyter-widgets/controls",
            "layout": "IPY_MODEL_67c0c4ce90134556aa6a77b026b76380"
          }
        },
        "061d1847fd544fec876a6816e5a6666b": {
          "model_module": "@jupyter-widgets/controls",
          "model_name": "ProgressStyleModel",
          "state": {
            "_view_name": "StyleView",
            "_model_name": "ProgressStyleModel",
            "description_width": "initial",
            "_view_module": "@jupyter-widgets/base",
            "_model_module_version": "1.5.0",
            "_view_count": null,
            "_view_module_version": "1.2.0",
            "bar_color": null,
            "_model_module": "@jupyter-widgets/controls"
          }
        },
        "ba303039835f4bd7a61a87213288d9a4": {
          "model_module": "@jupyter-widgets/base",
          "model_name": "LayoutModel",
          "state": {
            "_view_name": "LayoutView",
            "grid_template_rows": null,
            "right": null,
            "justify_content": null,
            "_view_module": "@jupyter-widgets/base",
            "overflow": null,
            "_model_module_version": "1.2.0",
            "_view_count": null,
            "flex_flow": null,
            "width": null,
            "min_width": null,
            "border": null,
            "align_items": null,
            "bottom": null,
            "_model_module": "@jupyter-widgets/base",
            "top": null,
            "grid_column": null,
            "overflow_y": null,
            "overflow_x": null,
            "grid_auto_flow": null,
            "grid_area": null,
            "grid_template_columns": null,
            "flex": null,
            "_model_name": "LayoutModel",
            "justify_items": null,
            "grid_row": null,
            "max_height": null,
            "align_content": null,
            "visibility": null,
            "align_self": null,
            "height": null,
            "min_height": null,
            "padding": null,
            "grid_auto_rows": null,
            "grid_gap": null,
            "max_width": null,
            "order": null,
            "_view_module_version": "1.2.0",
            "grid_template_areas": null,
            "object_position": null,
            "object_fit": null,
            "grid_auto_columns": null,
            "margin": null,
            "display": null,
            "left": null
          }
        },
        "70d3f3afd1a244d789fea559691f9136": {
          "model_module": "@jupyter-widgets/controls",
          "model_name": "DescriptionStyleModel",
          "state": {
            "_view_name": "StyleView",
            "_model_name": "DescriptionStyleModel",
            "description_width": "",
            "_view_module": "@jupyter-widgets/base",
            "_model_module_version": "1.5.0",
            "_view_count": null,
            "_view_module_version": "1.2.0",
            "_model_module": "@jupyter-widgets/controls"
          }
        },
        "67c0c4ce90134556aa6a77b026b76380": {
          "model_module": "@jupyter-widgets/base",
          "model_name": "LayoutModel",
          "state": {
            "_view_name": "LayoutView",
            "grid_template_rows": null,
            "right": null,
            "justify_content": null,
            "_view_module": "@jupyter-widgets/base",
            "overflow": null,
            "_model_module_version": "1.2.0",
            "_view_count": null,
            "flex_flow": null,
            "width": null,
            "min_width": null,
            "border": null,
            "align_items": null,
            "bottom": null,
            "_model_module": "@jupyter-widgets/base",
            "top": null,
            "grid_column": null,
            "overflow_y": null,
            "overflow_x": null,
            "grid_auto_flow": null,
            "grid_area": null,
            "grid_template_columns": null,
            "flex": null,
            "_model_name": "LayoutModel",
            "justify_items": null,
            "grid_row": null,
            "max_height": null,
            "align_content": null,
            "visibility": null,
            "align_self": null,
            "height": null,
            "min_height": null,
            "padding": null,
            "grid_auto_rows": null,
            "grid_gap": null,
            "max_width": null,
            "order": null,
            "_view_module_version": "1.2.0",
            "grid_template_areas": null,
            "object_position": null,
            "object_fit": null,
            "grid_auto_columns": null,
            "margin": null,
            "display": null,
            "left": null
          }
        },
        "982e36b637e641cfa511b6fae6ba5eaf": {
          "model_module": "@jupyter-widgets/controls",
          "model_name": "HBoxModel",
          "state": {
            "_view_name": "HBoxView",
            "_dom_classes": [],
            "_model_name": "HBoxModel",
            "_view_module": "@jupyter-widgets/controls",
            "_model_module_version": "1.5.0",
            "_view_count": null,
            "_view_module_version": "1.5.0",
            "box_style": "",
            "layout": "IPY_MODEL_bf288a919de9477a93368a3b37fde329",
            "_model_module": "@jupyter-widgets/controls",
            "children": [
              "IPY_MODEL_704ce65fe19f4dedbe6302ff456872d3",
              "IPY_MODEL_d42ea2af85a84c94a8fe46169ec75d1e"
            ]
          }
        },
        "bf288a919de9477a93368a3b37fde329": {
          "model_module": "@jupyter-widgets/base",
          "model_name": "LayoutModel",
          "state": {
            "_view_name": "LayoutView",
            "grid_template_rows": null,
            "right": null,
            "justify_content": null,
            "_view_module": "@jupyter-widgets/base",
            "overflow": null,
            "_model_module_version": "1.2.0",
            "_view_count": null,
            "flex_flow": null,
            "width": null,
            "min_width": null,
            "border": null,
            "align_items": null,
            "bottom": null,
            "_model_module": "@jupyter-widgets/base",
            "top": null,
            "grid_column": null,
            "overflow_y": null,
            "overflow_x": null,
            "grid_auto_flow": null,
            "grid_area": null,
            "grid_template_columns": null,
            "flex": null,
            "_model_name": "LayoutModel",
            "justify_items": null,
            "grid_row": null,
            "max_height": null,
            "align_content": null,
            "visibility": null,
            "align_self": null,
            "height": null,
            "min_height": null,
            "padding": null,
            "grid_auto_rows": null,
            "grid_gap": null,
            "max_width": null,
            "order": null,
            "_view_module_version": "1.2.0",
            "grid_template_areas": null,
            "object_position": null,
            "object_fit": null,
            "grid_auto_columns": null,
            "margin": null,
            "display": null,
            "left": null
          }
        },
        "704ce65fe19f4dedbe6302ff456872d3": {
          "model_module": "@jupyter-widgets/controls",
          "model_name": "FloatProgressModel",
          "state": {
            "_view_name": "ProgressView",
            "style": "IPY_MODEL_2b869814e9994e9e804e68863d5780da",
            "_dom_classes": [],
            "description": "Downloading: 100%",
            "_model_name": "FloatProgressModel",
            "bar_style": "success",
            "max": 1115590446,
            "_view_module": "@jupyter-widgets/controls",
            "_model_module_version": "1.5.0",
            "value": 1115590446,
            "_view_count": null,
            "_view_module_version": "1.5.0",
            "orientation": "horizontal",
            "min": 0,
            "description_tooltip": null,
            "_model_module": "@jupyter-widgets/controls",
            "layout": "IPY_MODEL_3f95384f1e3d43178227fa33c58153a4"
          }
        },
        "d42ea2af85a84c94a8fe46169ec75d1e": {
          "model_module": "@jupyter-widgets/controls",
          "model_name": "HTMLModel",
          "state": {
            "_view_name": "HTMLView",
            "style": "IPY_MODEL_3d168dba69e64073bd6466c3fdea5640",
            "_dom_classes": [],
            "description": "",
            "_model_name": "HTMLModel",
            "placeholder": "​",
            "_view_module": "@jupyter-widgets/controls",
            "_model_module_version": "1.5.0",
            "value": " 1.12G/1.12G [00:44&lt;00:00, 25.3MB/s]",
            "_view_count": null,
            "_view_module_version": "1.5.0",
            "description_tooltip": null,
            "_model_module": "@jupyter-widgets/controls",
            "layout": "IPY_MODEL_0998d64377c64cb7812fc632d42087fc"
          }
        },
        "2b869814e9994e9e804e68863d5780da": {
          "model_module": "@jupyter-widgets/controls",
          "model_name": "ProgressStyleModel",
          "state": {
            "_view_name": "StyleView",
            "_model_name": "ProgressStyleModel",
            "description_width": "initial",
            "_view_module": "@jupyter-widgets/base",
            "_model_module_version": "1.5.0",
            "_view_count": null,
            "_view_module_version": "1.2.0",
            "bar_color": null,
            "_model_module": "@jupyter-widgets/controls"
          }
        },
        "3f95384f1e3d43178227fa33c58153a4": {
          "model_module": "@jupyter-widgets/base",
          "model_name": "LayoutModel",
          "state": {
            "_view_name": "LayoutView",
            "grid_template_rows": null,
            "right": null,
            "justify_content": null,
            "_view_module": "@jupyter-widgets/base",
            "overflow": null,
            "_model_module_version": "1.2.0",
            "_view_count": null,
            "flex_flow": null,
            "width": null,
            "min_width": null,
            "border": null,
            "align_items": null,
            "bottom": null,
            "_model_module": "@jupyter-widgets/base",
            "top": null,
            "grid_column": null,
            "overflow_y": null,
            "overflow_x": null,
            "grid_auto_flow": null,
            "grid_area": null,
            "grid_template_columns": null,
            "flex": null,
            "_model_name": "LayoutModel",
            "justify_items": null,
            "grid_row": null,
            "max_height": null,
            "align_content": null,
            "visibility": null,
            "align_self": null,
            "height": null,
            "min_height": null,
            "padding": null,
            "grid_auto_rows": null,
            "grid_gap": null,
            "max_width": null,
            "order": null,
            "_view_module_version": "1.2.0",
            "grid_template_areas": null,
            "object_position": null,
            "object_fit": null,
            "grid_auto_columns": null,
            "margin": null,
            "display": null,
            "left": null
          }
        },
        "3d168dba69e64073bd6466c3fdea5640": {
          "model_module": "@jupyter-widgets/controls",
          "model_name": "DescriptionStyleModel",
          "state": {
            "_view_name": "StyleView",
            "_model_name": "DescriptionStyleModel",
            "description_width": "",
            "_view_module": "@jupyter-widgets/base",
            "_model_module_version": "1.5.0",
            "_view_count": null,
            "_view_module_version": "1.2.0",
            "_model_module": "@jupyter-widgets/controls"
          }
        },
        "0998d64377c64cb7812fc632d42087fc": {
          "model_module": "@jupyter-widgets/base",
          "model_name": "LayoutModel",
          "state": {
            "_view_name": "LayoutView",
            "grid_template_rows": null,
            "right": null,
            "justify_content": null,
            "_view_module": "@jupyter-widgets/base",
            "overflow": null,
            "_model_module_version": "1.2.0",
            "_view_count": null,
            "flex_flow": null,
            "width": null,
            "min_width": null,
            "border": null,
            "align_items": null,
            "bottom": null,
            "_model_module": "@jupyter-widgets/base",
            "top": null,
            "grid_column": null,
            "overflow_y": null,
            "overflow_x": null,
            "grid_auto_flow": null,
            "grid_area": null,
            "grid_template_columns": null,
            "flex": null,
            "_model_name": "LayoutModel",
            "justify_items": null,
            "grid_row": null,
            "max_height": null,
            "align_content": null,
            "visibility": null,
            "align_self": null,
            "height": null,
            "min_height": null,
            "padding": null,
            "grid_auto_rows": null,
            "grid_gap": null,
            "max_width": null,
            "order": null,
            "_view_module_version": "1.2.0",
            "grid_template_areas": null,
            "object_position": null,
            "object_fit": null,
            "grid_auto_columns": null,
            "margin": null,
            "display": null,
            "left": null
          }
        }
      }
    }
  },
  "cells": [
    {
      "cell_type": "markdown",
      "metadata": {
        "id": "elqe9PQrVH6P"
      },
      "source": [
        "### Performing checks for the resources available"
      ]
    },
    {
      "cell_type": "code",
      "metadata": {
        "colab": {
          "base_uri": "https://localhost:8080/"
        },
        "id": "fSELLChxa5su",
        "outputId": "ebdf8386-889b-4252-91c9-f554b4a0e896"
      },
      "source": [
        "import torch\r\n",
        "\r\n",
        "# If there's a GPU available...\r\n",
        "if torch.cuda.is_available():    \r\n",
        "\r\n",
        "    # Tell PyTorch to use the GPU.    \r\n",
        "    device = torch.device(\"cuda\")\r\n",
        "\r\n",
        "    print('There are %d GPU(s) available.' % torch.cuda.device_count())\r\n",
        "\r\n",
        "    print('We will use the GPU:', torch.cuda.get_device_name(0))\r\n",
        "\r\n",
        "# If not...\r\n",
        "else:\r\n",
        "    print('No GPU available, using the CPU instead.')\r\n",
        "    device = torch.device(\"cpu\")"
      ],
      "execution_count": null,
      "outputs": [
        {
          "output_type": "stream",
          "text": [
            "There are 1 GPU(s) available.\n",
            "We will use the GPU: Tesla T4\n"
          ],
          "name": "stdout"
        }
      ]
    },
    {
      "cell_type": "markdown",
      "metadata": {
        "id": "K-gbOgflVRxg"
      },
      "source": [
        "### Installing huggingface transformers library"
      ]
    },
    {
      "cell_type": "code",
      "metadata": {
        "colab": {
          "base_uri": "https://localhost:8080/"
        },
        "id": "DbDuxKy0a9Zl",
        "outputId": "d0dfb762-145c-4b21-e4d9-e03204336b47"
      },
      "source": [
        "!pip install transformers "
      ],
      "execution_count": null,
      "outputs": [
        {
          "output_type": "stream",
          "text": [
            "Collecting transformers\n",
            "\u001b[?25l  Downloading https://files.pythonhosted.org/packages/50/0c/7d5950fcd80b029be0a8891727ba21e0cd27692c407c51261c3c921f6da3/transformers-4.1.1-py3-none-any.whl (1.5MB)\n",
            "\r\u001b[K     |▏                               | 10kB 25.8MB/s eta 0:00:01\r\u001b[K     |▍                               | 20kB 33.4MB/s eta 0:00:01\r\u001b[K     |▋                               | 30kB 22.2MB/s eta 0:00:01\r\u001b[K     |▉                               | 40kB 17.5MB/s eta 0:00:01\r\u001b[K     |█                               | 51kB 19.6MB/s eta 0:00:01\r\u001b[K     |█▎                              | 61kB 15.6MB/s eta 0:00:01\r\u001b[K     |█▌                              | 71kB 16.0MB/s eta 0:00:01\r\u001b[K     |█▊                              | 81kB 16.7MB/s eta 0:00:01\r\u001b[K     |██                              | 92kB 15.0MB/s eta 0:00:01\r\u001b[K     |██▏                             | 102kB 16.2MB/s eta 0:00:01\r\u001b[K     |██▍                             | 112kB 16.2MB/s eta 0:00:01\r\u001b[K     |██▋                             | 122kB 16.2MB/s eta 0:00:01\r\u001b[K     |██▉                             | 133kB 16.2MB/s eta 0:00:01\r\u001b[K     |███                             | 143kB 16.2MB/s eta 0:00:01\r\u001b[K     |███▎                            | 153kB 16.2MB/s eta 0:00:01\r\u001b[K     |███▌                            | 163kB 16.2MB/s eta 0:00:01\r\u001b[K     |███▊                            | 174kB 16.2MB/s eta 0:00:01\r\u001b[K     |████                            | 184kB 16.2MB/s eta 0:00:01\r\u001b[K     |████▏                           | 194kB 16.2MB/s eta 0:00:01\r\u001b[K     |████▎                           | 204kB 16.2MB/s eta 0:00:01\r\u001b[K     |████▌                           | 215kB 16.2MB/s eta 0:00:01\r\u001b[K     |████▊                           | 225kB 16.2MB/s eta 0:00:01\r\u001b[K     |█████                           | 235kB 16.2MB/s eta 0:00:01\r\u001b[K     |█████▏                          | 245kB 16.2MB/s eta 0:00:01\r\u001b[K     |█████▍                          | 256kB 16.2MB/s eta 0:00:01\r\u001b[K     |█████▋                          | 266kB 16.2MB/s eta 0:00:01\r\u001b[K     |█████▉                          | 276kB 16.2MB/s eta 0:00:01\r\u001b[K     |██████                          | 286kB 16.2MB/s eta 0:00:01\r\u001b[K     |██████▎                         | 296kB 16.2MB/s eta 0:00:01\r\u001b[K     |██████▌                         | 307kB 16.2MB/s eta 0:00:01\r\u001b[K     |██████▊                         | 317kB 16.2MB/s eta 0:00:01\r\u001b[K     |███████                         | 327kB 16.2MB/s eta 0:00:01\r\u001b[K     |███████▏                        | 337kB 16.2MB/s eta 0:00:01\r\u001b[K     |███████▍                        | 348kB 16.2MB/s eta 0:00:01\r\u001b[K     |███████▋                        | 358kB 16.2MB/s eta 0:00:01\r\u001b[K     |███████▉                        | 368kB 16.2MB/s eta 0:00:01\r\u001b[K     |████████                        | 378kB 16.2MB/s eta 0:00:01\r\u001b[K     |████████▎                       | 389kB 16.2MB/s eta 0:00:01\r\u001b[K     |████████▌                       | 399kB 16.2MB/s eta 0:00:01\r\u001b[K     |████████▋                       | 409kB 16.2MB/s eta 0:00:01\r\u001b[K     |████████▉                       | 419kB 16.2MB/s eta 0:00:01\r\u001b[K     |█████████                       | 430kB 16.2MB/s eta 0:00:01\r\u001b[K     |█████████▎                      | 440kB 16.2MB/s eta 0:00:01\r\u001b[K     |█████████▌                      | 450kB 16.2MB/s eta 0:00:01\r\u001b[K     |█████████▊                      | 460kB 16.2MB/s eta 0:00:01\r\u001b[K     |██████████                      | 471kB 16.2MB/s eta 0:00:01\r\u001b[K     |██████████▏                     | 481kB 16.2MB/s eta 0:00:01\r\u001b[K     |██████████▍                     | 491kB 16.2MB/s eta 0:00:01\r\u001b[K     |██████████▋                     | 501kB 16.2MB/s eta 0:00:01\r\u001b[K     |██████████▉                     | 512kB 16.2MB/s eta 0:00:01\r\u001b[K     |███████████                     | 522kB 16.2MB/s eta 0:00:01\r\u001b[K     |███████████▎                    | 532kB 16.2MB/s eta 0:00:01\r\u001b[K     |███████████▌                    | 542kB 16.2MB/s eta 0:00:01\r\u001b[K     |███████████▊                    | 552kB 16.2MB/s eta 0:00:01\r\u001b[K     |████████████                    | 563kB 16.2MB/s eta 0:00:01\r\u001b[K     |████████████▏                   | 573kB 16.2MB/s eta 0:00:01\r\u001b[K     |████████████▍                   | 583kB 16.2MB/s eta 0:00:01\r\u001b[K     |████████████▋                   | 593kB 16.2MB/s eta 0:00:01\r\u001b[K     |████████████▉                   | 604kB 16.2MB/s eta 0:00:01\r\u001b[K     |█████████████                   | 614kB 16.2MB/s eta 0:00:01\r\u001b[K     |█████████████▏                  | 624kB 16.2MB/s eta 0:00:01\r\u001b[K     |█████████████▍                  | 634kB 16.2MB/s eta 0:00:01\r\u001b[K     |█████████████▋                  | 645kB 16.2MB/s eta 0:00:01\r\u001b[K     |█████████████▉                  | 655kB 16.2MB/s eta 0:00:01\r\u001b[K     |██████████████                  | 665kB 16.2MB/s eta 0:00:01\r\u001b[K     |██████████████▎                 | 675kB 16.2MB/s eta 0:00:01\r\u001b[K     |██████████████▌                 | 686kB 16.2MB/s eta 0:00:01\r\u001b[K     |██████████████▊                 | 696kB 16.2MB/s eta 0:00:01\r\u001b[K     |███████████████                 | 706kB 16.2MB/s eta 0:00:01\r\u001b[K     |███████████████▏                | 716kB 16.2MB/s eta 0:00:01\r\u001b[K     |███████████████▍                | 727kB 16.2MB/s eta 0:00:01\r\u001b[K     |███████████████▋                | 737kB 16.2MB/s eta 0:00:01\r\u001b[K     |███████████████▉                | 747kB 16.2MB/s eta 0:00:01\r\u001b[K     |████████████████                | 757kB 16.2MB/s eta 0:00:01\r\u001b[K     |████████████████▎               | 768kB 16.2MB/s eta 0:00:01\r\u001b[K     |████████████████▌               | 778kB 16.2MB/s eta 0:00:01\r\u001b[K     |████████████████▊               | 788kB 16.2MB/s eta 0:00:01\r\u001b[K     |█████████████████               | 798kB 16.2MB/s eta 0:00:01\r\u001b[K     |█████████████████               | 808kB 16.2MB/s eta 0:00:01\r\u001b[K     |█████████████████▎              | 819kB 16.2MB/s eta 0:00:01\r\u001b[K     |█████████████████▌              | 829kB 16.2MB/s eta 0:00:01\r\u001b[K     |█████████████████▊              | 839kB 16.2MB/s eta 0:00:01\r\u001b[K     |██████████████████              | 849kB 16.2MB/s eta 0:00:01\r\u001b[K     |██████████████████▏             | 860kB 16.2MB/s eta 0:00:01\r\u001b[K     |██████████████████▍             | 870kB 16.2MB/s eta 0:00:01\r\u001b[K     |██████████████████▋             | 880kB 16.2MB/s eta 0:00:01\r\u001b[K     |██████████████████▉             | 890kB 16.2MB/s eta 0:00:01\r\u001b[K     |███████████████████             | 901kB 16.2MB/s eta 0:00:01\r\u001b[K     |███████████████████▎            | 911kB 16.2MB/s eta 0:00:01\r\u001b[K     |███████████████████▌            | 921kB 16.2MB/s eta 0:00:01\r\u001b[K     |███████████████████▊            | 931kB 16.2MB/s eta 0:00:01\r\u001b[K     |████████████████████            | 942kB 16.2MB/s eta 0:00:01\r\u001b[K     |████████████████████▏           | 952kB 16.2MB/s eta 0:00:01\r\u001b[K     |████████████████████▍           | 962kB 16.2MB/s eta 0:00:01\r\u001b[K     |████████████████████▋           | 972kB 16.2MB/s eta 0:00:01\r\u001b[K     |████████████████████▉           | 983kB 16.2MB/s eta 0:00:01\r\u001b[K     |█████████████████████           | 993kB 16.2MB/s eta 0:00:01\r\u001b[K     |█████████████████████▎          | 1.0MB 16.2MB/s eta 0:00:01\r\u001b[K     |█████████████████████▍          | 1.0MB 16.2MB/s eta 0:00:01\r\u001b[K     |█████████████████████▋          | 1.0MB 16.2MB/s eta 0:00:01\r\u001b[K     |█████████████████████▉          | 1.0MB 16.2MB/s eta 0:00:01\r\u001b[K     |██████████████████████          | 1.0MB 16.2MB/s eta 0:00:01\r\u001b[K     |██████████████████████▎         | 1.1MB 16.2MB/s eta 0:00:01\r\u001b[K     |██████████████████████▌         | 1.1MB 16.2MB/s eta 0:00:01\r\u001b[K     |██████████████████████▊         | 1.1MB 16.2MB/s eta 0:00:01\r\u001b[K     |███████████████████████         | 1.1MB 16.2MB/s eta 0:00:01\r\u001b[K     |███████████████████████▏        | 1.1MB 16.2MB/s eta 0:00:01\r\u001b[K     |███████████████████████▍        | 1.1MB 16.2MB/s eta 0:00:01\r\u001b[K     |███████████████████████▋        | 1.1MB 16.2MB/s eta 0:00:01\r\u001b[K     |███████████████████████▉        | 1.1MB 16.2MB/s eta 0:00:01\r\u001b[K     |████████████████████████        | 1.1MB 16.2MB/s eta 0:00:01\r\u001b[K     |████████████████████████▎       | 1.1MB 16.2MB/s eta 0:00:01\r\u001b[K     |████████████████████████▌       | 1.2MB 16.2MB/s eta 0:00:01\r\u001b[K     |████████████████████████▊       | 1.2MB 16.2MB/s eta 0:00:01\r\u001b[K     |█████████████████████████       | 1.2MB 16.2MB/s eta 0:00:01\r\u001b[K     |█████████████████████████▏      | 1.2MB 16.2MB/s eta 0:00:01\r\u001b[K     |█████████████████████████▍      | 1.2MB 16.2MB/s eta 0:00:01\r\u001b[K     |█████████████████████████▋      | 1.2MB 16.2MB/s eta 0:00:01\r\u001b[K     |█████████████████████████▊      | 1.2MB 16.2MB/s eta 0:00:01\r\u001b[K     |██████████████████████████      | 1.2MB 16.2MB/s eta 0:00:01\r\u001b[K     |██████████████████████████▏     | 1.2MB 16.2MB/s eta 0:00:01\r\u001b[K     |██████████████████████████▍     | 1.2MB 16.2MB/s eta 0:00:01\r\u001b[K     |██████████████████████████▋     | 1.3MB 16.2MB/s eta 0:00:01\r\u001b[K     |██████████████████████████▉     | 1.3MB 16.2MB/s eta 0:00:01\r\u001b[K     |███████████████████████████     | 1.3MB 16.2MB/s eta 0:00:01\r\u001b[K     |███████████████████████████▎    | 1.3MB 16.2MB/s eta 0:00:01\r\u001b[K     |███████████████████████████▌    | 1.3MB 16.2MB/s eta 0:00:01\r\u001b[K     |███████████████████████████▊    | 1.3MB 16.2MB/s eta 0:00:01\r\u001b[K     |████████████████████████████    | 1.3MB 16.2MB/s eta 0:00:01\r\u001b[K     |████████████████████████████▏   | 1.3MB 16.2MB/s eta 0:00:01\r\u001b[K     |████████████████████████████▍   | 1.3MB 16.2MB/s eta 0:00:01\r\u001b[K     |████████████████████████████▋   | 1.4MB 16.2MB/s eta 0:00:01\r\u001b[K     |████████████████████████████▉   | 1.4MB 16.2MB/s eta 0:00:01\r\u001b[K     |█████████████████████████████   | 1.4MB 16.2MB/s eta 0:00:01\r\u001b[K     |█████████████████████████████▎  | 1.4MB 16.2MB/s eta 0:00:01\r\u001b[K     |█████████████████████████████▌  | 1.4MB 16.2MB/s eta 0:00:01\r\u001b[K     |█████████████████████████████▊  | 1.4MB 16.2MB/s eta 0:00:01\r\u001b[K     |█████████████████████████████▉  | 1.4MB 16.2MB/s eta 0:00:01\r\u001b[K     |██████████████████████████████  | 1.4MB 16.2MB/s eta 0:00:01\r\u001b[K     |██████████████████████████████▎ | 1.4MB 16.2MB/s eta 0:00:01\r\u001b[K     |██████████████████████████████▌ | 1.4MB 16.2MB/s eta 0:00:01\r\u001b[K     |██████████████████████████████▊ | 1.5MB 16.2MB/s eta 0:00:01\r\u001b[K     |███████████████████████████████ | 1.5MB 16.2MB/s eta 0:00:01\r\u001b[K     |███████████████████████████████▏| 1.5MB 16.2MB/s eta 0:00:01\r\u001b[K     |███████████████████████████████▍| 1.5MB 16.2MB/s eta 0:00:01\r\u001b[K     |███████████████████████████████▋| 1.5MB 16.2MB/s eta 0:00:01\r\u001b[K     |███████████████████████████████▉| 1.5MB 16.2MB/s eta 0:00:01\r\u001b[K     |████████████████████████████████| 1.5MB 16.2MB/s \n",
            "\u001b[?25hRequirement already satisfied: regex!=2019.12.17 in /usr/local/lib/python3.6/dist-packages (from transformers) (2019.12.20)\n",
            "Requirement already satisfied: tqdm>=4.27 in /usr/local/lib/python3.6/dist-packages (from transformers) (4.41.1)\n",
            "Collecting tokenizers==0.9.4\n",
            "\u001b[?25l  Downloading https://files.pythonhosted.org/packages/0f/1c/e789a8b12e28be5bc1ce2156cf87cb522b379be9cadc7ad8091a4cc107c4/tokenizers-0.9.4-cp36-cp36m-manylinux2010_x86_64.whl (2.9MB)\n",
            "\u001b[K     |████████████████████████████████| 2.9MB 55.4MB/s \n",
            "\u001b[?25hCollecting sacremoses\n",
            "\u001b[?25l  Downloading https://files.pythonhosted.org/packages/7d/34/09d19aff26edcc8eb2a01bed8e98f13a1537005d31e95233fd48216eed10/sacremoses-0.0.43.tar.gz (883kB)\n",
            "\u001b[K     |████████████████████████████████| 890kB 52.1MB/s \n",
            "\u001b[?25hRequirement already satisfied: dataclasses; python_version < \"3.7\" in /usr/local/lib/python3.6/dist-packages (from transformers) (0.8)\n",
            "Requirement already satisfied: packaging in /usr/local/lib/python3.6/dist-packages (from transformers) (20.8)\n",
            "Requirement already satisfied: requests in /usr/local/lib/python3.6/dist-packages (from transformers) (2.23.0)\n",
            "Requirement already satisfied: filelock in /usr/local/lib/python3.6/dist-packages (from transformers) (3.0.12)\n",
            "Requirement already satisfied: numpy in /usr/local/lib/python3.6/dist-packages (from transformers) (1.19.4)\n",
            "Requirement already satisfied: six in /usr/local/lib/python3.6/dist-packages (from sacremoses->transformers) (1.15.0)\n",
            "Requirement already satisfied: click in /usr/local/lib/python3.6/dist-packages (from sacremoses->transformers) (7.1.2)\n",
            "Requirement already satisfied: joblib in /usr/local/lib/python3.6/dist-packages (from sacremoses->transformers) (1.0.0)\n",
            "Requirement already satisfied: pyparsing>=2.0.2 in /usr/local/lib/python3.6/dist-packages (from packaging->transformers) (2.4.7)\n",
            "Requirement already satisfied: chardet<4,>=3.0.2 in /usr/local/lib/python3.6/dist-packages (from requests->transformers) (3.0.4)\n",
            "Requirement already satisfied: idna<3,>=2.5 in /usr/local/lib/python3.6/dist-packages (from requests->transformers) (2.10)\n",
            "Requirement already satisfied: urllib3!=1.25.0,!=1.25.1,<1.26,>=1.21.1 in /usr/local/lib/python3.6/dist-packages (from requests->transformers) (1.24.3)\n",
            "Requirement already satisfied: certifi>=2017.4.17 in /usr/local/lib/python3.6/dist-packages (from requests->transformers) (2020.12.5)\n",
            "Building wheels for collected packages: sacremoses\n",
            "  Building wheel for sacremoses (setup.py) ... \u001b[?25l\u001b[?25hdone\n",
            "  Created wheel for sacremoses: filename=sacremoses-0.0.43-cp36-none-any.whl size=893261 sha256=9fe5274b39baa919ffded205d5140268b0e4a997ae21cde70accb93a8fd8bf07\n",
            "  Stored in directory: /root/.cache/pip/wheels/29/3c/fd/7ce5c3f0666dab31a50123635e6fb5e19ceb42ce38d4e58f45\n",
            "Successfully built sacremoses\n",
            "Installing collected packages: tokenizers, sacremoses, transformers\n",
            "Successfully installed sacremoses-0.0.43 tokenizers-0.9.4 transformers-4.1.1\n"
          ],
          "name": "stdout"
        }
      ]
    },
    {
      "cell_type": "markdown",
      "metadata": {
        "id": "bPwaYLiRSNPC"
      },
      "source": [
        "## Importing necessary packages"
      ]
    },
    {
      "cell_type": "code",
      "metadata": {
        "id": "0XdFrhr8SRG0"
      },
      "source": [
        "import pandas as pd\r\n",
        "import numpy as np \r\n",
        "import random\r\n",
        "from sklearn.preprocessing import LabelEncoder\r\n",
        "from sklearn.utils.class_weight import compute_class_weight\r\n",
        "import time\r\n",
        "import datetime\r\n",
        "from sklearn.metrics import classification_report,confusion_matrix\r\n",
        "import random\r\n",
        "import time\r\n",
        "import torch.nn as nn\r\n",
        "from transformers import AutoModel , AutoModelForSequenceClassification, AutoConfig , AutoTokenizer , AdamW ,get_linear_schedule_with_warmup \r\n",
        "import torch\r\n",
        "import matplotlib.pyplot as plt\r\n",
        "import seaborn as sns\r\n",
        "from matplotlib import rc\r\n",
        "from matplotlib.ticker import MaxNLocator"
      ],
      "execution_count": null,
      "outputs": []
    },
    {
      "cell_type": "markdown",
      "metadata": {
        "id": "dROX3juhVCxC"
      },
      "source": [
        "## Setting some configuration values"
      ]
    },
    {
      "cell_type": "code",
      "metadata": {
        "id": "Kzafv4BzVCC9"
      },
      "source": [
        "# Use plot styling from seaborn.\r\n",
        "sns.set(style='darkgrid')\r\n",
        "\r\n",
        "# Increase the plot size and font size.\r\n",
        "sns.set(font_scale=1.5)\r\n",
        "plt.rcParams[\"figure.figsize\"] = (16,12)\r\n",
        "\r\n",
        "# Set the seed value all over the place to make this reproducible.\r\n",
        "seed_val = 42\r\n",
        "\r\n",
        "random.seed(seed_val)\r\n",
        "np.random.seed(seed_val)\r\n",
        "torch.manual_seed(seed_val)\r\n",
        "torch.cuda.manual_seed_all(seed_val)"
      ],
      "execution_count": null,
      "outputs": []
    },
    {
      "cell_type": "markdown",
      "metadata": {
        "id": "2v1AIN_OVX4t"
      },
      "source": [
        "## Importing drive into the colaboratory"
      ]
    },
    {
      "cell_type": "code",
      "metadata": {
        "colab": {
          "base_uri": "https://localhost:8080/"
        },
        "id": "Lofimyh2a_tp",
        "outputId": "e02acfa4-492d-472a-931a-85f84d18adc5"
      },
      "source": [
        "from google.colab import drive \r\n",
        "drive.mount('/content/drive')"
      ],
      "execution_count": null,
      "outputs": [
        {
          "output_type": "stream",
          "text": [
            "Mounted at /content/drive\n"
          ],
          "name": "stdout"
        }
      ]
    },
    {
      "cell_type": "markdown",
      "metadata": {
        "id": "yOK-M00dVeW2"
      },
      "source": [
        "## Importing dataset directories"
      ]
    },
    {
      "cell_type": "code",
      "metadata": {
        "id": "-y-JRPKBbCTv"
      },
      "source": [
        "from os import getcwd , listdir \r\n",
        "from os.path import join\r\n",
        "curr_dir = getcwd()\r\n",
        "drive_dir = join(curr_dir , 'drive','MyDrive')\r\n",
        "dataset_dir = join(drive_dir,'Codalab','Offensive Language Identification','Dataset')"
      ],
      "execution_count": null,
      "outputs": []
    },
    {
      "cell_type": "code",
      "metadata": {
        "colab": {
          "base_uri": "https://localhost:8080/"
        },
        "id": "7YU1h8WhmqvK",
        "outputId": "ff432484-8c8d-4716-8473-a560d3e466a5"
      },
      "source": [
        "listdir(dataset_dir)"
      ],
      "execution_count": null,
      "outputs": [
        {
          "output_type": "execute_result",
          "data": {
            "text/plain": [
              "['mal_full_offensive_train_corrected.csv',\n",
              " 'mal_full_offensive_dev_corrected.csv',\n",
              " 'kannada_offensive_dev_corrected.csv',\n",
              " 'kannada_offensive_train_corrected.csv',\n",
              " 'tamil_offensive_full_train_corrected.csv',\n",
              " 'tamil_offensive_full_dev_corrected.csv',\n",
              " 'tamil_offensive_full_test.csv',\n",
              " 'mal_full_offensive_test.csv',\n",
              " 'kannada_offensive_test.csv',\n",
              " '0010.png']"
            ]
          },
          "metadata": {
            "tags": []
          },
          "execution_count": 7
        }
      ]
    },
    {
      "cell_type": "markdown",
      "metadata": {
        "id": "FUPkZxjLVjLK"
      },
      "source": [
        "## Loading training data"
      ]
    },
    {
      "cell_type": "code",
      "metadata": {
        "colab": {
          "base_uri": "https://localhost:8080/",
          "height": 393
        },
        "id": "joone3H4bINR",
        "outputId": "4cd4de7c-a010-4c7c-9f71-112bf9d08408"
      },
      "source": [
        "train_df_path = join(dataset_dir,'kannada_offensive_train_corrected.csv')\r\n",
        "# Load the dataset into a pandas dataframe.\r\n",
        "train_df = pd.read_csv(train_df_path)\r\n",
        "\r\n",
        "# Report the number of sentences.\r\n",
        "print('Number of training sentences: {:,}\\n'.format(train_df.shape[0]))\r\n",
        "\r\n",
        "# Display 10 random rows from the data.\r\n",
        "train_df.sample(10)"
      ],
      "execution_count": null,
      "outputs": [
        {
          "output_type": "stream",
          "text": [
            "Number of training sentences: 6,217\n",
            "\n"
          ],
          "name": "stdout"
        },
        {
          "output_type": "execute_result",
          "data": {
            "text/html": [
              "<div>\n",
              "<style scoped>\n",
              "    .dataframe tbody tr th:only-of-type {\n",
              "        vertical-align: middle;\n",
              "    }\n",
              "\n",
              "    .dataframe tbody tr th {\n",
              "        vertical-align: top;\n",
              "    }\n",
              "\n",
              "    .dataframe thead th {\n",
              "        text-align: right;\n",
              "    }\n",
              "</style>\n",
              "<table border=\"1\" class=\"dataframe\">\n",
              "  <thead>\n",
              "    <tr style=\"text-align: right;\">\n",
              "      <th></th>\n",
              "      <th>text</th>\n",
              "      <th>label</th>\n",
              "    </tr>\n",
              "  </thead>\n",
              "  <tbody>\n",
              "    <tr>\n",
              "      <th>2615</th>\n",
              "      <td>Hiryaru manyaga heltidru</td>\n",
              "      <td>Not_offensive</td>\n",
              "    </tr>\n",
              "    <tr>\n",
              "      <th>1872</th>\n",
              "      <td>Yalla kannadigarugu ansthithu bere bashe movie...</td>\n",
              "      <td>Not_offensive</td>\n",
              "    </tr>\n",
              "    <tr>\n",
              "      <th>2552</th>\n",
              "      <td>Super movie guru</td>\n",
              "      <td>Not_offensive</td>\n",
              "    </tr>\n",
              "    <tr>\n",
              "      <th>5370</th>\n",
              "      <td>Hindi version plzzz</td>\n",
              "      <td>not-Kannada</td>\n",
              "    </tr>\n",
              "    <tr>\n",
              "      <th>996</th>\n",
              "      <td>ಈ ಯುಗದ ಶಂಕರ್ ನಾಗ್ ಗುರು ನೀನು  all the best from...</td>\n",
              "      <td>Not_offensive</td>\n",
              "    </tr>\n",
              "    <tr>\n",
              "      <th>1765</th>\n",
              "      <td>It is karabu.</td>\n",
              "      <td>not-Kannada</td>\n",
              "    </tr>\n",
              "    <tr>\n",
              "      <th>1612</th>\n",
              "      <td>Super Junior narayana</td>\n",
              "      <td>Not_offensive</td>\n",
              "    </tr>\n",
              "    <tr>\n",
              "      <th>1512</th>\n",
              "      <td>Super song</td>\n",
              "      <td>Not_offensive</td>\n",
              "    </tr>\n",
              "    <tr>\n",
              "      <th>5806</th>\n",
              "      <td>Rj naagraj naan bigg fan...neeu prathvi aadru ...</td>\n",
              "      <td>Not_offensive</td>\n",
              "    </tr>\n",
              "    <tr>\n",
              "      <th>3914</th>\n",
              "      <td>Audience are customers</td>\n",
              "      <td>not-Kannada</td>\n",
              "    </tr>\n",
              "  </tbody>\n",
              "</table>\n",
              "</div>"
            ],
            "text/plain": [
              "                                                   text          label\n",
              "2615                           Hiryaru manyaga heltidru  Not_offensive\n",
              "1872  Yalla kannadigarugu ansthithu bere bashe movie...  Not_offensive\n",
              "2552                                   Super movie guru  Not_offensive\n",
              "5370                                Hindi version plzzz    not-Kannada\n",
              "996   ಈ ಯುಗದ ಶಂಕರ್ ನಾಗ್ ಗುರು ನೀನು  all the best from...  Not_offensive\n",
              "1765                                      It is karabu.    not-Kannada\n",
              "1612                              Super Junior narayana  Not_offensive\n",
              "1512                                         Super song  Not_offensive\n",
              "5806  Rj naagraj naan bigg fan...neeu prathvi aadru ...  Not_offensive\n",
              "3914                             Audience are customers    not-Kannada"
            ]
          },
          "metadata": {
            "tags": []
          },
          "execution_count": 8
        }
      ]
    },
    {
      "cell_type": "code",
      "metadata": {
        "colab": {
          "base_uri": "https://localhost:8080/"
        },
        "id": "w4VW351225YK",
        "outputId": "39e01121-5e88-4566-a5b3-3cf4ebf737d3"
      },
      "source": [
        "train_df['label'].value_counts()"
      ],
      "execution_count": null,
      "outputs": [
        {
          "output_type": "execute_result",
          "data": {
            "text/plain": [
              "Not_offensive                           3544\n",
              "not-Kannada                             1522\n",
              "Offensive_Targeted_Insult_Individual     487\n",
              "Offensive_Targeted_Insult_Group          329\n",
              "Offensive_Untargetede                    212\n",
              "Offensive_Targeted_Insult_Other          123\n",
              "Name: label, dtype: int64"
            ]
          },
          "metadata": {
            "tags": []
          },
          "execution_count": 9
        }
      ]
    },
    {
      "cell_type": "code",
      "metadata": {
        "id": "ooOv9QZtnLIF"
      },
      "source": [
        "\r\n",
        "le = LabelEncoder()\r\n",
        "train_df['label'] = le.fit_transform(train_df['label'])"
      ],
      "execution_count": null,
      "outputs": []
    },
    {
      "cell_type": "code",
      "metadata": {
        "colab": {
          "base_uri": "https://localhost:8080/"
        },
        "id": "a89Bf4LpnigU",
        "outputId": "c2eb7abc-fded-444e-a250-d3e3d452191f"
      },
      "source": [
        "train_df['label'].value_counts()"
      ],
      "execution_count": null,
      "outputs": [
        {
          "output_type": "execute_result",
          "data": {
            "text/plain": [
              "0    3544\n",
              "5    1522\n",
              "2     487\n",
              "1     329\n",
              "4     212\n",
              "3     123\n",
              "Name: label, dtype: int64"
            ]
          },
          "metadata": {
            "tags": []
          },
          "execution_count": 11
        }
      ]
    },
    {
      "cell_type": "markdown",
      "metadata": {
        "id": "bvNeR4lTVnK0"
      },
      "source": [
        "### Loading `train_sentences` and `train_labels`"
      ]
    },
    {
      "cell_type": "code",
      "metadata": {
        "id": "EufQZx2dbKMT"
      },
      "source": [
        "# Get the lists of sentences and their labels.\r\n",
        "train_sentences = train_df['text'].values\r\n",
        "train_labels = train_df['label'].values"
      ],
      "execution_count": null,
      "outputs": []
    },
    {
      "cell_type": "markdown",
      "metadata": {
        "id": "wnZSg5f7ZWs_"
      },
      "source": [
        "## Saving Class Names"
      ]
    },
    {
      "cell_type": "code",
      "metadata": {
        "id": "83tTT-wbZa1o"
      },
      "source": [
        "class_names = [\r\n",
        "               'Not_offensive','Offensive_Targeted_Insult_Group','Offensive_Targeted_Insult_Individual',\r\n",
        "               'Offensive_Targeted_Insult_Other','Offensive_Untargetede','not-Kannada'          \r\n",
        "]"
      ],
      "execution_count": null,
      "outputs": []
    },
    {
      "cell_type": "markdown",
      "metadata": {
        "id": "ToUbAgZ9ap63"
      },
      "source": [
        "## Loading the validation data"
      ]
    },
    {
      "cell_type": "code",
      "metadata": {
        "colab": {
          "base_uri": "https://localhost:8080/",
          "height": 393
        },
        "id": "Dle8VzoAjOLS",
        "outputId": "e73c811c-149f-4d24-baa8-fb36b89ce34e"
      },
      "source": [
        "val_df_path = join(dataset_dir,'kannada_offensive_dev_corrected.csv')\r\n",
        "# Load the dataset into a pandas dataframe.\r\n",
        "val_df = pd.read_csv(val_df_path)\r\n",
        "\r\n",
        "# Report the number of sentences.\r\n",
        "print('Number of training sentences: {:,}\\n'.format(val_df.shape[0]))\r\n",
        "\r\n",
        "# Display 10 random rows from the data.\r\n",
        "val_df.sample(10)"
      ],
      "execution_count": null,
      "outputs": [
        {
          "output_type": "stream",
          "text": [
            "Number of training sentences: 777\n",
            "\n"
          ],
          "name": "stdout"
        },
        {
          "output_type": "execute_result",
          "data": {
            "text/html": [
              "<div>\n",
              "<style scoped>\n",
              "    .dataframe tbody tr th:only-of-type {\n",
              "        vertical-align: middle;\n",
              "    }\n",
              "\n",
              "    .dataframe tbody tr th {\n",
              "        vertical-align: top;\n",
              "    }\n",
              "\n",
              "    .dataframe thead th {\n",
              "        text-align: right;\n",
              "    }\n",
              "</style>\n",
              "<table border=\"1\" class=\"dataframe\">\n",
              "  <thead>\n",
              "    <tr style=\"text-align: right;\">\n",
              "      <th></th>\n",
              "      <th>text</th>\n",
              "      <th>label</th>\n",
              "    </tr>\n",
              "  </thead>\n",
              "  <tbody>\n",
              "    <tr>\n",
              "      <th>234</th>\n",
              "      <td>I like song very much</td>\n",
              "      <td>not-Kannada</td>\n",
              "    </tr>\n",
              "    <tr>\n",
              "      <th>776</th>\n",
              "      <td>ಕಥೆಯಲ್ಲಿ ದಮ್ ಇಲ್ಲ</td>\n",
              "      <td>Offensive_Targeted_Insult_Group</td>\n",
              "    </tr>\n",
              "    <tr>\n",
              "      <th>38</th>\n",
              "      <td>ಇಬ್ಬರು  ಕಳ್ಳರೇ</td>\n",
              "      <td>Offensive_Targeted_Insult_Group</td>\n",
              "    </tr>\n",
              "    <tr>\n",
              "      <th>540</th>\n",
              "      <td>@Nandi Parthasarathi ನಿಮ್ಮ ಅವ್ವುನ್ ತುಲ್ಲಗೆ ಹಳಸ...</td>\n",
              "      <td>Offensive_Targeted_Insult_Individual</td>\n",
              "    </tr>\n",
              "    <tr>\n",
              "      <th>482</th>\n",
              "      <td>Yappa huchhu hidustide.....asn.....awesom</td>\n",
              "      <td>Offensive_Targeted_Insult_Other</td>\n",
              "    </tr>\n",
              "    <tr>\n",
              "      <th>396</th>\n",
              "      <td>ಅಭಿನಯ ಚಕ್ರವರ್ತಿ ಕಿಚ್ಚ ಸುದೀಪ್ ಅವರ ಕಡೆಯಿಂದ.. All...</td>\n",
              "      <td>Not_offensive</td>\n",
              "    </tr>\n",
              "    <tr>\n",
              "      <th>468</th>\n",
              "      <td>@Kiccha Vitthal ಕಚ್ಚಾ ಸುದೆಪಿ</td>\n",
              "      <td>Offensive_Targeted_Insult_Individual</td>\n",
              "    </tr>\n",
              "    <tr>\n",
              "      <th>675</th>\n",
              "      <td>umesh karigar Inc</td>\n",
              "      <td>not-Kannada</td>\n",
              "    </tr>\n",
              "    <tr>\n",
              "      <th>544</th>\n",
              "      <td>All India language madi</td>\n",
              "      <td>Not_offensive</td>\n",
              "    </tr>\n",
              "    <tr>\n",
              "      <th>32</th>\n",
              "      <td>Thu nem yogyathe ge maha vishnu hesaru ettu en...</td>\n",
              "      <td>Offensive_Untargetede</td>\n",
              "    </tr>\n",
              "  </tbody>\n",
              "</table>\n",
              "</div>"
            ],
            "text/plain": [
              "                                                  text                                 label\n",
              "234                              I like song very much                           not-Kannada\n",
              "776                                  ಕಥೆಯಲ್ಲಿ ದಮ್ ಇಲ್ಲ       Offensive_Targeted_Insult_Group\n",
              "38                                      ಇಬ್ಬರು  ಕಳ್ಳರೇ       Offensive_Targeted_Insult_Group\n",
              "540  @Nandi Parthasarathi ನಿಮ್ಮ ಅವ್ವುನ್ ತುಲ್ಲಗೆ ಹಳಸ...  Offensive_Targeted_Insult_Individual\n",
              "482          Yappa huchhu hidustide.....asn.....awesom       Offensive_Targeted_Insult_Other\n",
              "396  ಅಭಿನಯ ಚಕ್ರವರ್ತಿ ಕಿಚ್ಚ ಸುದೀಪ್ ಅವರ ಕಡೆಯಿಂದ.. All...                         Not_offensive\n",
              "468                       @Kiccha Vitthal ಕಚ್ಚಾ ಸುದೆಪಿ  Offensive_Targeted_Insult_Individual\n",
              "675                                  umesh karigar Inc                           not-Kannada\n",
              "544                            All India language madi                         Not_offensive\n",
              "32   Thu nem yogyathe ge maha vishnu hesaru ettu en...                 Offensive_Untargetede"
            ]
          },
          "metadata": {
            "tags": []
          },
          "execution_count": 14
        }
      ]
    },
    {
      "cell_type": "code",
      "metadata": {
        "colab": {
          "base_uri": "https://localhost:8080/"
        },
        "id": "AypCmtBcDV6v",
        "outputId": "07c80f7b-9078-4b70-d076-84195169864a"
      },
      "source": [
        "val_df['label'].value_counts()"
      ],
      "execution_count": null,
      "outputs": [
        {
          "output_type": "execute_result",
          "data": {
            "text/plain": [
              "Not_offensive                           426\n",
              "not-Kannada                             191\n",
              "Offensive_Targeted_Insult_Individual     66\n",
              "Offensive_Targeted_Insult_Group          45\n",
              "Offensive_Untargetede                    33\n",
              "Offensive_Targeted_Insult_Other          16\n",
              "Name: label, dtype: int64"
            ]
          },
          "metadata": {
            "tags": []
          },
          "execution_count": 15
        }
      ]
    },
    {
      "cell_type": "code",
      "metadata": {
        "id": "-CgK81lGDPKC"
      },
      "source": [
        "val_df['label'] = le.transform(val_df['label'])"
      ],
      "execution_count": null,
      "outputs": []
    },
    {
      "cell_type": "code",
      "metadata": {
        "colab": {
          "base_uri": "https://localhost:8080/"
        },
        "id": "Yfgn-E6JDZQZ",
        "outputId": "3348ddfe-8b43-4099-d3d5-40bc8f50e9b2"
      },
      "source": [
        "val_df['label'].value_counts()"
      ],
      "execution_count": null,
      "outputs": [
        {
          "output_type": "execute_result",
          "data": {
            "text/plain": [
              "0    426\n",
              "5    191\n",
              "2     66\n",
              "1     45\n",
              "4     33\n",
              "3     16\n",
              "Name: label, dtype: int64"
            ]
          },
          "metadata": {
            "tags": []
          },
          "execution_count": 17
        }
      ]
    },
    {
      "cell_type": "markdown",
      "metadata": {
        "id": "DMdNNVqrDCuN"
      },
      "source": [
        "### Loading `val_sentences` and `val_labels`"
      ]
    },
    {
      "cell_type": "code",
      "metadata": {
        "id": "LvGhjUkaDCuO"
      },
      "source": [
        "# Get the lists of sentences and their labels.\r\n",
        "val_sentences = val_df['text'].values\r\n",
        "val_labels = val_df['label'].values"
      ],
      "execution_count": null,
      "outputs": []
    },
    {
      "cell_type": "markdown",
      "metadata": {
        "id": "fS2UcOiEVuhm"
      },
      "source": [
        "## Handling class imbalance using `sklearn's compute_class_weight`\r\n",
        "\r\n"
      ]
    },
    {
      "cell_type": "code",
      "metadata": {
        "id": "WL4tP_YkI1mY"
      },
      "source": [
        "\r\n",
        "# #compute the class weights\r\n",
        "# class_wts = compute_class_weight('balanced', np.unique(train_labels), train_labels)\r\n",
        "\r\n",
        "# print(class_wts)"
      ],
      "execution_count": null,
      "outputs": []
    },
    {
      "cell_type": "markdown",
      "metadata": {
        "id": "z_WjMTuibsrf"
      },
      "source": [
        "## Helper Functions"
      ]
    },
    {
      "cell_type": "markdown",
      "metadata": {
        "id": "Bef28eHNV-_d"
      },
      "source": [
        "#### 1) Update Interval Function"
      ]
    },
    {
      "cell_type": "code",
      "metadata": {
        "id": "lBK0ujfEbMir"
      },
      "source": [
        "def good_update_interval(total_iters, num_desired_updates):\r\n",
        "    '''\r\n",
        "    This function will try to pick an intelligent progress update interval \r\n",
        "    based on the magnitude of the total iterations.\r\n",
        "\r\n",
        "    Parameters:\r\n",
        "      `total_iters` - The number of iterations in the for-loop.\r\n",
        "      `num_desired_updates` - How many times we want to see an update over the \r\n",
        "                              course of the for-loop.\r\n",
        "    '''\r\n",
        "    # Divide the total iterations by the desired number of updates. Most likely\r\n",
        "    # this will be some ugly number.\r\n",
        "    exact_interval = total_iters / num_desired_updates\r\n",
        "\r\n",
        "    # The `round` function has the ability to round down a number to, e.g., the\r\n",
        "    # nearest thousandth: round(exact_interval, -3)\r\n",
        "    #\r\n",
        "    # To determine the magnitude to round to, find the magnitude of the total,\r\n",
        "    # and then go one magnitude below that.\r\n",
        "\r\n",
        "    # Get the order of magnitude of the total.\r\n",
        "    order_of_mag = len(str(total_iters)) - 1\r\n",
        "\r\n",
        "    # Our update interval should be rounded to an order of magnitude smaller. \r\n",
        "    round_mag = order_of_mag - 1\r\n",
        "\r\n",
        "    # Round down and cast to an int.\r\n",
        "    update_interval = int(round(exact_interval, -round_mag))\r\n",
        "\r\n",
        "    # Don't allow the interval to be zero!\r\n",
        "    if update_interval == 0:\r\n",
        "        update_interval = 1\r\n",
        "\r\n",
        "    return update_interval"
      ],
      "execution_count": null,
      "outputs": []
    },
    {
      "cell_type": "markdown",
      "metadata": {
        "id": "eMGycwGAWFyO"
      },
      "source": [
        "#### 2) Format time function"
      ]
    },
    {
      "cell_type": "code",
      "metadata": {
        "id": "c9zVyNQLm-3q"
      },
      "source": [
        "def format_time(elapsed):\r\n",
        "    '''\r\n",
        "    Takes a time in seconds and returns a string hh:mm:ss\r\n",
        "    '''\r\n",
        "    # Round to the nearest second.\r\n",
        "    elapsed_rounded = int(round((elapsed)))\r\n",
        "    \r\n",
        "    # Format as hh:mm:ss\r\n",
        "    return str(datetime.timedelta(seconds=elapsed_rounded))\r\n"
      ],
      "execution_count": null,
      "outputs": []
    },
    {
      "cell_type": "markdown",
      "metadata": {
        "id": "EBAo04ENWw3n"
      },
      "source": [
        "#### 3) Make Smart Batches function"
      ]
    },
    {
      "cell_type": "code",
      "metadata": {
        "id": "nof-AUeoiZc2"
      },
      "source": [
        "def make_smart_batches(text_samples, labels, batch_size,tokenizer,max_input_length):\r\n",
        "    '''\r\n",
        "    This function combines all of the required steps to prepare batches.\r\n",
        "    '''\r\n",
        "\r\n",
        "    print('Creating Smart Batches from {:,} examples with batch size {:,}...\\n'.format(len(text_samples), batch_size))\r\n",
        "\r\n",
        "    # =========================\r\n",
        "    #   Tokenize & Truncate\r\n",
        "    # =========================\r\n",
        "\r\n",
        "    full_input_ids = []\r\n",
        "\r\n",
        "    # Tokenize all training examples\r\n",
        "    print('Tokenizing {:,} samples...'.format(len(labels)))\r\n",
        "\r\n",
        "    # Choose an interval on which to print progress updates.\r\n",
        "    update_interval = good_update_interval(total_iters=len(labels), num_desired_updates=10)\r\n",
        "\r\n",
        "    # For each training example...\r\n",
        "    for text in text_samples:\r\n",
        "        \r\n",
        "        # Report progress.\r\n",
        "        if ((len(full_input_ids) % update_interval) == 0):\r\n",
        "            print('  Tokenized {:,} samples.'.format(len(full_input_ids)))\r\n",
        "\r\n",
        "        # Tokenize the sample.\r\n",
        "        input_ids = tokenizer.encode(text=text,              # Text to encode.\r\n",
        "                                    add_special_tokens=True, # Do add specials.\r\n",
        "                                    max_length=max_input_length,      \r\n",
        "                                    truncation=True,         # Do Truncate!\r\n",
        "                                    padding=False)           # DO NOT pad.\r\n",
        "                                    \r\n",
        "        # Add the tokenized result to our list.\r\n",
        "        full_input_ids.append(input_ids)\r\n",
        "        \r\n",
        "    print('DONE.')\r\n",
        "    print('{:>10,} samples\\n'.format(len(full_input_ids)))\r\n",
        "\r\n",
        "    # =========================\r\n",
        "    #      Select Batches\r\n",
        "    # =========================    \r\n",
        "\r\n",
        "    # Sort the two lists together by the length of the input sequence.\r\n",
        "    samples = sorted(zip(full_input_ids, labels), key=lambda x: len(x[0]))\r\n",
        "\r\n",
        "    print('{:>10,} samples after sorting\\n'.format(len(samples)))\r\n",
        "\r\n",
        "    import random\r\n",
        "\r\n",
        "    # List of batches that we'll construct.\r\n",
        "    batch_ordered_sentences = []\r\n",
        "    batch_ordered_labels = []\r\n",
        "\r\n",
        "    print('Creating batches of size {:}...'.format(batch_size))\r\n",
        "\r\n",
        "    # Choose an interval on which to print progress updates.\r\n",
        "    update_interval = good_update_interval(total_iters=len(samples), num_desired_updates=10)\r\n",
        "    \r\n",
        "    # Loop over all of the input samples...    \r\n",
        "    while len(samples) > 0:\r\n",
        "        \r\n",
        "        # Report progress.\r\n",
        "        if ((len(batch_ordered_sentences) % update_interval) == 0 \\\r\n",
        "            and not len(batch_ordered_sentences) == 0):\r\n",
        "            print('  Selected {:,} batches.'.format(len(batch_ordered_sentences)))\r\n",
        "\r\n",
        "        # `to_take` is our actual batch size. It will be `batch_size` until \r\n",
        "        # we get to the last batch, which may be smaller. \r\n",
        "        to_take = min(batch_size, len(samples))\r\n",
        "\r\n",
        "        # Pick a random index in the list of remaining samples to start\r\n",
        "        # our batch at.\r\n",
        "        select = random.randint(0, len(samples) - to_take)\r\n",
        "\r\n",
        "        # Select a contiguous batch of samples starting at `select`.\r\n",
        "        #print(\"Selecting batch from {:} to {:}\".format(select, select+to_take))\r\n",
        "        batch = samples[select:(select + to_take)]\r\n",
        "\r\n",
        "        #print(\"Batch length:\", len(batch))\r\n",
        "\r\n",
        "        # Each sample is a tuple--split them apart to create a separate list of \r\n",
        "        # sequences and a list of labels for this batch.\r\n",
        "        batch_ordered_sentences.append([s[0] for s in batch])\r\n",
        "        batch_ordered_labels.append([s[1] for s in batch])\r\n",
        "\r\n",
        "        # Remove these samples from the list.\r\n",
        "        del samples[select:select + to_take]\r\n",
        "\r\n",
        "    print('\\n  DONE - Selected {:,} batches.\\n'.format(len(batch_ordered_sentences)))\r\n",
        "\r\n",
        "    # =========================\r\n",
        "    #        Add Padding\r\n",
        "    # =========================    \r\n",
        "\r\n",
        "    print('Padding out sequences within each batch...')\r\n",
        "\r\n",
        "    py_inputs = []\r\n",
        "    py_attn_masks = []\r\n",
        "    py_labels = []\r\n",
        "\r\n",
        "    # For each batch...\r\n",
        "    for (batch_inputs, batch_labels) in zip(batch_ordered_sentences, batch_ordered_labels):\r\n",
        "\r\n",
        "        # New version of the batch, this time with padded sequences and now with\r\n",
        "        # attention masks defined.\r\n",
        "        batch_padded_inputs = []\r\n",
        "        batch_attn_masks = []\r\n",
        "        \r\n",
        "        # First, find the longest sample in the batch. \r\n",
        "        # Note that the sequences do currently include the special tokens!\r\n",
        "        max_size = max([len(sen) for sen in batch_inputs])\r\n",
        "\r\n",
        "        # For each input in this batch...\r\n",
        "        for sen in batch_inputs:\r\n",
        "            \r\n",
        "            # How many pad tokens do we need to add?\r\n",
        "            num_pads = max_size - len(sen)\r\n",
        "\r\n",
        "            # Add `num_pads` padding tokens to the end of the sequence.\r\n",
        "            padded_input = sen + [tokenizer.pad_token_id]*num_pads\r\n",
        "\r\n",
        "            # Define the attention mask--it's just a `1` for every real token\r\n",
        "            # and a `0` for every padding token.\r\n",
        "            attn_mask = [1] * len(sen) + [0] * num_pads\r\n",
        "\r\n",
        "            # Add the padded results to the batch.\r\n",
        "            batch_padded_inputs.append(padded_input)\r\n",
        "            batch_attn_masks.append(attn_mask)\r\n",
        "\r\n",
        "        # Our batch has been padded, so we need to save this updated batch.\r\n",
        "        # We also need the inputs to be PyTorch tensors, so we'll do that here.\r\n",
        "        # Todo - Michael's code specified \"dtype=torch.long\"\r\n",
        "        py_inputs.append(torch.tensor(batch_padded_inputs))\r\n",
        "        py_attn_masks.append(torch.tensor(batch_attn_masks))\r\n",
        "        py_labels.append(torch.tensor(batch_labels))\r\n",
        "    \r\n",
        "    print('  DONE.')\r\n",
        "\r\n",
        "    # Return the smart-batched dataset!\r\n",
        "    return (py_inputs, py_attn_masks, py_labels)\r\n"
      ],
      "execution_count": null,
      "outputs": []
    },
    {
      "cell_type": "markdown",
      "metadata": {
        "id": "uMXAoSUjrMhs"
      },
      "source": [
        "### 4) Make Smart Batches (On test)"
      ]
    },
    {
      "cell_type": "code",
      "metadata": {
        "id": "ggH8AkAEaV9N"
      },
      "source": [
        "def make_smart_batches_on_test(text_samples, text_ids, batch_size,tokenizer,max_input_length):\r\n",
        "    '''\r\n",
        "    This function combines all of the required steps to prepare batches.\r\n",
        "    '''\r\n",
        "\r\n",
        "    print('Creating Smart Batches from {:,} examples with batch size {:,}...\\n'.format(len(text_samples), batch_size))\r\n",
        "\r\n",
        "    # =========================\r\n",
        "    #   Tokenize & Truncate\r\n",
        "    # =========================\r\n",
        "\r\n",
        "    full_input_ids = []\r\n",
        "\r\n",
        "    # Tokenize all training examples\r\n",
        "    print('Tokenizing {:,} samples...'.format(len(text_samples)))\r\n",
        "\r\n",
        "    # Choose an interval on which to print progress updates.\r\n",
        "    update_interval = good_update_interval(total_iters=len(text_samples), num_desired_updates=10)\r\n",
        "\r\n",
        "    # For each training example...\r\n",
        "    for text in text_samples:\r\n",
        "        \r\n",
        "        # Report progress.\r\n",
        "        if ((len(full_input_ids) % update_interval) == 0):\r\n",
        "            print('  Tokenized {:,} samples.'.format(len(full_input_ids)))\r\n",
        "\r\n",
        "        # Tokenize the sample.\r\n",
        "        input_ids = tokenizer.encode(text=text,              # Text to encode.\r\n",
        "                                    add_special_tokens=True, # Do add specials.\r\n",
        "                                    max_length=max_input_length,      \r\n",
        "                                    truncation=True,         # Do Truncate!\r\n",
        "                                    padding=False)           # DO NOT pad.\r\n",
        "                                    \r\n",
        "        # Add the tokenized result to our list.\r\n",
        "        full_input_ids.append(input_ids)\r\n",
        "        \r\n",
        "    print('DONE.')\r\n",
        "    print('{:>10,} samples\\n'.format(len(full_input_ids)))\r\n",
        "\r\n",
        "    # =========================\r\n",
        "    #      Select Batches\r\n",
        "    # =========================    \r\n",
        "\r\n",
        "    # Sort the two lists together by the length of the input sequence.\r\n",
        "    samples = sorted(zip(full_input_ids, text_ids), key=lambda x: len(x[0]))\r\n",
        "\r\n",
        "    print('{:>10,} samples after sorting\\n'.format(len(samples)))\r\n",
        "\r\n",
        "    import random\r\n",
        "\r\n",
        "    # List of batches that we'll construct.\r\n",
        "    batch_ordered_sentences = []\r\n",
        "    batch_ordered_ids = []\r\n",
        "\r\n",
        "    print('Creating batches of size {:}...'.format(batch_size))\r\n",
        "\r\n",
        "    # Choose an interval on which to print progress updates.\r\n",
        "    update_interval = good_update_interval(total_iters=len(samples), num_desired_updates=10)\r\n",
        "    \r\n",
        "    # Loop over all of the input samples...    \r\n",
        "    while len(samples) > 0:\r\n",
        "        \r\n",
        "        # Report progress.\r\n",
        "        if ((len(batch_ordered_sentences) % update_interval) == 0 \\\r\n",
        "            and not len(batch_ordered_sentences) == 0):\r\n",
        "            print('  Selected {:,} batches.'.format(len(batch_ordered_sentences)))\r\n",
        "\r\n",
        "        # `to_take` is our actual batch size. It will be `batch_size` until \r\n",
        "        # we get to the last batch, which may be smaller. \r\n",
        "        to_take = min(batch_size, len(samples))\r\n",
        "\r\n",
        "        # Pick a random index in the list of remaining samples to start\r\n",
        "        # our batch at.\r\n",
        "        select = random.randint(0, len(samples) - to_take)\r\n",
        "\r\n",
        "        # Select a contiguous batch of samples starting at `select`.\r\n",
        "        #print(\"Selecting batch from {:} to {:}\".format(select, select+to_take))\r\n",
        "        batch = samples[select:(select + to_take)]\r\n",
        "\r\n",
        "        #print(\"Batch length:\", len(batch))\r\n",
        "\r\n",
        "        # Each sample is a tuple--split them apart to create a separate list of \r\n",
        "        # sequences and a list of labels for this batch.\r\n",
        "        batch_ordered_sentences.append([s[0] for s in batch])\r\n",
        "        batch_ordered_ids.append([s[1] for s in batch])\r\n",
        "\r\n",
        "        # Remove these samples from the list.\r\n",
        "        del samples[select:select + to_take]\r\n",
        "\r\n",
        "    print('\\n  DONE - Selected {:,} batches.\\n'.format(len(batch_ordered_sentences)))\r\n",
        "\r\n",
        "    # =========================\r\n",
        "    #        Add Padding\r\n",
        "    # =========================    \r\n",
        "\r\n",
        "    print('Padding out sequences within each batch...')\r\n",
        "\r\n",
        "    py_inputs = []\r\n",
        "    py_attn_masks = []\r\n",
        "    py_ids = []\r\n",
        "\r\n",
        "    # For each batch...\r\n",
        "    for (batch_inputs, batch_ids) in zip(batch_ordered_sentences, batch_ordered_ids):\r\n",
        "\r\n",
        "        # New version of the batch, this time with padded sequences and now with\r\n",
        "        # attention masks defined.\r\n",
        "        batch_padded_inputs = []\r\n",
        "        batch_attn_masks = []\r\n",
        "        \r\n",
        "        # First, find the longest sample in the batch. \r\n",
        "        # Note that the sequences do currently include the special tokens!\r\n",
        "        max_size = max([len(sen) for sen in batch_inputs])\r\n",
        "\r\n",
        "        # For each input in this batch...\r\n",
        "        for sen in batch_inputs:\r\n",
        "            \r\n",
        "            # How many pad tokens do we need to add?\r\n",
        "            num_pads = max_size - len(sen)\r\n",
        "\r\n",
        "            # Add `num_pads` padding tokens to the end of the sequence.\r\n",
        "            padded_input = sen + [tokenizer.pad_token_id]*num_pads\r\n",
        "\r\n",
        "            # Define the attention mask--it's just a `1` for every real token\r\n",
        "            # and a `0` for every padding token.\r\n",
        "            attn_mask = [1] * len(sen) + [0] * num_pads\r\n",
        "\r\n",
        "            # Add the padded results to the batch.\r\n",
        "            batch_padded_inputs.append(padded_input)\r\n",
        "            batch_attn_masks.append(attn_mask)\r\n",
        "\r\n",
        "        # Our batch has been padded, so we need to save this updated batch.\r\n",
        "        # We also need the inputs to be PyTorch tensors, so we'll do that here.\r\n",
        "        # Todo - Michael's code specified \"dtype=torch.long\"\r\n",
        "        py_inputs.append(torch.tensor(batch_padded_inputs))\r\n",
        "        py_attn_masks.append(torch.tensor(batch_attn_masks))\r\n",
        "        py_ids.append(torch.tensor(batch_ids))\r\n",
        "    \r\n",
        "    print('  DONE.')\r\n",
        "\r\n",
        "    # Return the smart-batched dataset!\r\n",
        "    return (py_inputs, py_attn_masks, py_ids)\r\n"
      ],
      "execution_count": null,
      "outputs": []
    },
    {
      "cell_type": "markdown",
      "metadata": {
        "id": "x6EHYpUbz8fo"
      },
      "source": [
        "### 5) Function for calculating accuracy per class"
      ]
    },
    {
      "cell_type": "code",
      "metadata": {
        "id": "Knuw_DOei8RO"
      },
      "source": [
        "def accuracy_per_class(preds, labels , label_dict):\r\n",
        "    \r\n",
        "    preds_flat = np.argmax(preds, axis=1).flatten()\r\n",
        "    labels_flat = labels.flatten()\r\n",
        "\r\n",
        "    for label in np.unique(labels_flat):\r\n",
        "        y_preds = preds_flat[labels_flat==label]\r\n",
        "        y_true = labels_flat[labels_flat==label]\r\n",
        "        print(f'Class: {label_dict[label]}')\r\n",
        "        print(f'Accuracy: {round(100*len(y_preds[y_preds==label])/len(y_true) , 2)}\\n')"
      ],
      "execution_count": null,
      "outputs": []
    },
    {
      "cell_type": "markdown",
      "metadata": {
        "id": "sOWk_8lpWO17"
      },
      "source": [
        "### 6) Function for plotting training history"
      ]
    },
    {
      "cell_type": "code",
      "metadata": {
        "id": "R7-FAyfnWM65"
      },
      "source": [
        "def plot_training_history(history):\r\n",
        "  fig, (ax1, ax2) = plt.subplots(1, 2, figsize=(18, 6))\r\n",
        "\r\n",
        "  ax1.plot(history['train_loss'], label='train loss')\r\n",
        "  ax1.plot(history['val_loss'], label='validation loss')\r\n",
        "\r\n",
        "  ax1.xaxis.set_major_locator(MaxNLocator(integer=True))\r\n",
        "  ax1.set_ylim([-0.05, 1.05])\r\n",
        "  ax1.legend()\r\n",
        "  ax1.set_ylabel('Loss')\r\n",
        "  ax1.set_xlabel('Epoch')\r\n",
        "\r\n",
        "  ax2.plot(history['train_acc'], label='train accuracy')\r\n",
        "  ax2.plot(history['val_acc'], label='validation accuracy')\r\n",
        "\r\n",
        "  ax2.xaxis.set_major_locator(MaxNLocator(integer=True))\r\n",
        "  ax2.set_ylim([-0.05, 1.05])\r\n",
        "  ax2.legend()\r\n",
        "\r\n",
        "  ax2.set_ylabel('Accuracy')\r\n",
        "  ax2.set_xlabel('Epoch')\r\n",
        "\r\n",
        "  fig.suptitle('Training history')"
      ],
      "execution_count": null,
      "outputs": []
    },
    {
      "cell_type": "markdown",
      "metadata": {
        "id": "A7QOTORh_JHa"
      },
      "source": [
        "### 7) Function to check accuracy"
      ]
    },
    {
      "cell_type": "code",
      "metadata": {
        "id": "yzRDobQ6MwaR"
      },
      "source": [
        "def check_accuracy(predictions,true_labels):\r\n",
        "  # Combine the results across the batches.\r\n",
        "  predictions = np.concatenate(predictions, axis=0)\r\n",
        "  true_labels = np.concatenate(true_labels, axis=0)\r\n",
        "\r\n",
        "  # Choose the label with the highest score as our prediction.\r\n",
        "  preds = np.argmax(predictions, axis=1).flatten()\r\n",
        "\r\n",
        "  # Calculate simple flat accuracy -- number correct over total number.\r\n",
        "  accuracy = (preds == true_labels).mean()\r\n",
        "\r\n",
        "  return accuracy"
      ],
      "execution_count": null,
      "outputs": []
    },
    {
      "cell_type": "markdown",
      "metadata": {
        "id": "D7TtFkV5_Olz"
      },
      "source": [
        "### 8) Function to evaluate model"
      ]
    },
    {
      "cell_type": "code",
      "metadata": {
        "id": "TSBNdYHYMA7Q"
      },
      "source": [
        "def eval_model(model,py_inputs, py_attn_masks, py_labels):\r\n",
        "# Prediction on test set\r\n",
        "  t0 = time.time()\r\n",
        "\r\n",
        "  print('Doing validation on {:,} sentences...'.format(len(py_labels)))\r\n",
        "\r\n",
        "  # Put model in evaluation mode\r\n",
        "  model.eval()\r\n",
        "\r\n",
        "  # Tracking variables \r\n",
        "  predictions , true_labels = [], []\r\n",
        "\r\n",
        "  # Choose an interval on which to print progress updates.\r\n",
        "  update_interval = good_update_interval(total_iters=len(py_inputs), num_desired_updates=10)\r\n",
        "\r\n",
        "  # Measure elapsed time.\r\n",
        "  t0 = time.time()\r\n",
        "  total_val_loss = 0\r\n",
        "\r\n",
        "  # Put model in evaluation mode\r\n",
        "  model.eval()\r\n",
        "\r\n",
        "  # For each batch of training data...\r\n",
        "  for step in range(0, len(py_inputs)):\r\n",
        "\r\n",
        "      # Progress update every 100 batches.\r\n",
        "      if step % update_interval == 0 and not step == 0:\r\n",
        "          # Calculate elapsed time in minutes.\r\n",
        "          elapsed = format_time(time.time() - t0)\r\n",
        "          \r\n",
        "          # Calculate the time remaining based on our progress.\r\n",
        "          steps_per_sec = (time.time() - t0) / step\r\n",
        "          remaining_sec = steps_per_sec * (len(py_inputs) - step)\r\n",
        "          remaining = format_time(remaining_sec)\r\n",
        "\r\n",
        "          # Report progress.\r\n",
        "          print('  Batch {:>7,}  of  {:>7,}.    Elapsed: {:}.  Remaining: {:}'.format(step, len(py_inputs), elapsed, remaining))\r\n",
        "\r\n",
        "      # Copy the batch to the GPU.\r\n",
        "      b_input_ids = py_inputs[step].to(device)\r\n",
        "      b_input_mask = py_attn_masks[step].to(device)\r\n",
        "      b_labels = py_labels[step].to(device)\r\n",
        "    \r\n",
        "      # Telling the model not to compute or store gradients, saving memory and \r\n",
        "      # speeding up prediction\r\n",
        "      with torch.no_grad():\r\n",
        "        output = model(b_input_ids, \r\n",
        "                             token_type_ids=None, \r\n",
        "                             attention_mask=b_input_mask, \r\n",
        "                             labels=b_labels)\r\n",
        "\r\n",
        "\r\n",
        "      logits = output.logits \r\n",
        "      loss = output.loss\r\n",
        "      # Move logits and labels to CPU\r\n",
        "      logits = logits.detach().cpu().numpy()\r\n",
        "      label_ids = b_labels.to('cpu').numpy()\r\n",
        "    \r\n",
        "      # Store predictions and true labels\r\n",
        "      predictions.append(logits)\r\n",
        "      true_labels.append(label_ids)\r\n",
        "\r\n",
        "      total_val_loss += loss.item()\r\n",
        "  \r\n",
        "  val_accuracy = check_accuracy(predictions,true_labels)\r\n",
        "\r\n",
        "  validation_time = format_time(time.time() - t0)\r\n",
        "  \r\n",
        "  # Calculate the average loss over all of the batches.\r\n",
        "  avg_val_loss = total_val_loss / len(py_inputs)     \r\n",
        "    \r\n",
        "\r\n",
        "  # print('Accuracy: {:.3f}'.format(val_accuracy))\r\n",
        "  return (avg_val_loss,val_accuracy,validation_time)\r\n"
      ],
      "execution_count": null,
      "outputs": []
    },
    {
      "cell_type": "markdown",
      "metadata": {
        "id": "Lrt_FyJIbC8j"
      },
      "source": [
        "### 9) Function for making predictions on our test dataset"
      ]
    },
    {
      "cell_type": "code",
      "metadata": {
        "id": "eylCkH2Zipq5"
      },
      "source": [
        "def get_predictions(py_inputs, py_attn_masks, py_labels):\r\n",
        "\r\n",
        "  print('Predicting labels for {:,} test batches...'.format(len(py_labels)))\r\n",
        "\r\n",
        "  # Put model in evaluation mode\r\n",
        "  model.eval()\r\n",
        "\r\n",
        "  # Tracking variables \r\n",
        "  predictions , true_labels = [], []\r\n",
        "\r\n",
        "  # Choose an interval on which to print progress updates.\r\n",
        "  update_interval = good_update_interval(total_iters=len(py_inputs), num_desired_updates=10)\r\n",
        "\r\n",
        "  # Measure elapsed time.\r\n",
        "  t0 = time.time()\r\n",
        "\r\n",
        "  # Put model in evaluation mode\r\n",
        "  model.eval()\r\n",
        "\r\n",
        "  # For each batch of training data...\r\n",
        "  for step in range(0, len(py_inputs)):\r\n",
        "\r\n",
        "      # Progress update every 100 batches.\r\n",
        "      if step % update_interval == 0 and not step == 0:\r\n",
        "          # Calculate elapsed time in minutes.\r\n",
        "          elapsed = format_time(time.time() - t0)\r\n",
        "          \r\n",
        "          # Calculate the time remaining based on our progress.\r\n",
        "          steps_per_sec = (time.time() - t0) / step\r\n",
        "          remaining_sec = steps_per_sec * (len(py_inputs) - step)\r\n",
        "          remaining = format_time(remaining_sec)\r\n",
        "\r\n",
        "          # Report progress.\r\n",
        "          print('  Batch {:>7,}  of  {:>7,}.    Elapsed: {:}.  Remaining: {:}'.format(step, len(py_inputs), elapsed, remaining))\r\n",
        "\r\n",
        "      # Copy the batch to the GPU.\r\n",
        "      b_input_ids = py_inputs[step].to(device)\r\n",
        "      b_input_mask = py_attn_masks[step].to(device)\r\n",
        "      b_labels = py_labels[step].to(device)\r\n",
        "    \r\n",
        "      # Telling the model not to compute or store gradients, saving memory and \r\n",
        "      # speeding up prediction\r\n",
        "      with torch.no_grad():\r\n",
        "          # Forward pass, calculate logit predictions\r\n",
        "          outputs = model(b_input_ids, b_input_mask)\r\n",
        "\r\n",
        "      logits = outputs.logits \r\n",
        "\r\n",
        "      # Move logits and labels to CPU\r\n",
        "      logits = logits.detach().cpu().numpy()\r\n",
        "      label_ids = b_labels.to('cpu').numpy()\r\n",
        "    \r\n",
        "      # Store predictions and true labels\r\n",
        "      predictions.append(logits)\r\n",
        "      true_labels.append(label_ids)\r\n",
        "      # Combine the results across the batches.\r\n",
        "  predictions = np.concatenate(predictions, axis=0)\r\n",
        "  true_labels = np.concatenate(true_labels, axis=0)\r\n",
        "\r\n",
        "      # Choose the label with the highest score as our prediction.\r\n",
        "  preds = np.argmax(predictions, axis=1).flatten()\r\n",
        "\r\n",
        "  return (preds,true_labels)"
      ],
      "execution_count": null,
      "outputs": []
    },
    {
      "cell_type": "markdown",
      "metadata": {
        "id": "eiRNCS-EbZmy"
      },
      "source": [
        "### 10) Function for making predictions on test dataset(without labels)"
      ]
    },
    {
      "cell_type": "code",
      "metadata": {
        "id": "RIuwhVSmZvkd"
      },
      "source": [
        "def get_predictions_on_test(py_inputs, py_attn_masks,py_ids):\r\n",
        "\r\n",
        "    print('Predicting labels for {:,} test batches...'.format(len(py_inputs)))\r\n",
        "\r\n",
        "  # Put model in evaluation mode\r\n",
        "    model.eval()\r\n",
        "\r\n",
        "  # Tracking variables \r\n",
        "    predictions , true_labels , ids = [], [] , []\r\n",
        "\r\n",
        "  # Choose an interval on which to print progress updates.\r\n",
        "    update_interval = good_update_interval(total_iters=len(py_inputs), num_desired_updates=10)\r\n",
        "\r\n",
        "  # Measure elapsed time.\r\n",
        "    t0 = time.time()\r\n",
        "\r\n",
        "  # Put model in evaluation mode\r\n",
        "    model.eval()\r\n",
        "\r\n",
        "  # For each batch of training data...\r\n",
        "    for step in range(0, len(py_inputs)):\r\n",
        "\r\n",
        "      # Progress update every 100 batches.\r\n",
        "        if step % update_interval == 0 and not step == 0:\r\n",
        "          # Calculate elapsed time in minutes.\r\n",
        "            elapsed = format_time(time.time() - t0)\r\n",
        "          \r\n",
        "          # Calculate the time remaining based on our progress.\r\n",
        "            steps_per_sec = (time.time() - t0) / step\r\n",
        "            remaining_sec = steps_per_sec * (len(py_inputs) - step)\r\n",
        "            remaining = format_time(remaining_sec)\r\n",
        "\r\n",
        "          # Report progress.\r\n",
        "            print('  Batch {:>7,}  of  {:>7,}.    Elapsed: {:}.  Remaining: {:}'.format(step, len(py_inputs), elapsed, remaining))\r\n",
        "\r\n",
        "      # Copy the batch to the GPU.\r\n",
        "        b_input_ids = py_inputs[step].to(device)\r\n",
        "        b_input_mask = py_attn_masks[step].to(device)\r\n",
        "      # Telling the model not to compute or store gradients, saving memory and \r\n",
        "      # speeding up prediction\r\n",
        "        with torch.no_grad():\r\n",
        "          # Forward pass, calculate logit predictions\r\n",
        "            outputs = model(b_input_ids, b_input_mask)\r\n",
        "\r\n",
        "        logits = outputs.logits \r\n",
        "\r\n",
        "      # Move logits and labels to CPU\r\n",
        "        logits = logits.detach().cpu().numpy()\r\n",
        "        ids.append(py_ids[step])\r\n",
        "      # Store predictions\r\n",
        "        predictions.append(logits)\r\n",
        "      # Combine the results across the batches.\r\n",
        "    predictions = np.concatenate(predictions, axis=0)\r\n",
        "    ids = np.concatenate(ids,axis = 0)\r\n",
        "  # Choose the label with the highest score as our prediction.\r\n",
        "    preds = np.argmax(predictions, axis=1).flatten()\r\n",
        "\r\n",
        "    return (ids,preds)"
      ],
      "execution_count": null,
      "outputs": []
    },
    {
      "cell_type": "markdown",
      "metadata": {
        "id": "4IM8r_ddYZZS"
      },
      "source": [
        "### 11) Confusion Matrix Helper Function"
      ]
    },
    {
      "cell_type": "code",
      "metadata": {
        "id": "DqNaS8SrBox5"
      },
      "source": [
        "def show_confusion_matrix(confusion_matrix, class_names):\r\n",
        "\r\n",
        "  cm = confusion_matrix.copy()\r\n",
        "\r\n",
        "  cell_counts = cm.flatten()\r\n",
        "\r\n",
        "  cm_row_norm = cm / cm.sum(axis=1)[:, np.newaxis]\r\n",
        "\r\n",
        "  row_percentages = [\"{0:.2f}\".format(value) for value in cm_row_norm.flatten()]\r\n",
        "\r\n",
        "  cell_labels = [f\"{cnt}\\n{per}\" for cnt, per in zip(cell_counts, row_percentages)]\r\n",
        "  cell_labels = np.asarray(cell_labels).reshape(cm.shape[0], cm.shape[1])\r\n",
        "\r\n",
        "  df_cm = pd.DataFrame(cm_row_norm, index=class_names, columns=class_names)\r\n",
        "\r\n",
        "  hmap = sns.heatmap(df_cm, annot=cell_labels, fmt=\"\", cmap=\"Blues\")\r\n",
        "  hmap.yaxis.set_ticklabels(hmap.yaxis.get_ticklabels(), rotation=0, ha='right')\r\n",
        "  hmap.xaxis.set_ticklabels(hmap.xaxis.get_ticklabels(), rotation=30, ha='right')\r\n",
        "  plt.ylabel('True Sign')\r\n",
        "  plt.xlabel('Predicted Sign');"
      ],
      "execution_count": null,
      "outputs": []
    },
    {
      "cell_type": "markdown",
      "metadata": {
        "id": "OVs3Jb3Vb89i"
      },
      "source": [
        "## Smart Batching of the training data"
      ]
    },
    {
      "cell_type": "code",
      "metadata": {
        "colab": {
          "base_uri": "https://localhost:8080/",
          "height": 181,
          "referenced_widgets": [
            "9e2272561b314b6e91542a539a199a79",
            "f0c197efa95b4767827f233bf3f0a50d",
            "02a5fcc142ea4e3e94095602da681fa4",
            "1510b419f8934cab9366fa2e569e2f84",
            "f824808cecc84140b6f3367ca9e180e1",
            "09d76a0deb84414bad7fb1653ea1efe8",
            "95a676af05ce4054a8cdb1973ad02b89",
            "eec31f382124408588a1f2e40e7e2561",
            "433a6c253772459bba5f160f6e267a2a",
            "0dd6e19d3fb2492e85c87d74f0ca1442",
            "d050462ef35a4e7aa96084e1b5459250",
            "a9aefeb0f8bc42e9a0b29f0574afa8ed",
            "537532d547ad4f3f8e447ebd4bb3cc25",
            "68c55c4b6aa9499fbe36180d2807524c",
            "8953d5f3bc20404a8aa43161874e3d6d",
            "8d1741501d3a4c8294c21676286f4fe4",
            "4e661b57c2bc49aea92a01b7279e75bc",
            "f77951fff9814c8fa123077e84ae6bac",
            "ff428e426c854abe83d03d9743a362f6",
            "0d3372808b8e47d790970f8c7864a0ec",
            "061d1847fd544fec876a6816e5a6666b",
            "ba303039835f4bd7a61a87213288d9a4",
            "70d3f3afd1a244d789fea559691f9136",
            "67c0c4ce90134556aa6a77b026b76380"
          ]
        },
        "id": "fIlwEvcMb4pb",
        "outputId": "8a530edd-a264-4ef0-d7ea-2fcd79bcdfde"
      },
      "source": [
        "model_name = 'xlm-roberta-base'\r\n",
        "# Load the BERT tokenizer.\r\n",
        "print(f'Loading {model_name} tokenizer...')\r\n",
        "tokenizer = AutoTokenizer.from_pretrained(model_name, do_lower_case=False)"
      ],
      "execution_count": null,
      "outputs": [
        {
          "output_type": "stream",
          "text": [
            "Loading xlm-roberta-base tokenizer...\n"
          ],
          "name": "stdout"
        },
        {
          "output_type": "display_data",
          "data": {
            "application/vnd.jupyter.widget-view+json": {
              "model_id": "9e2272561b314b6e91542a539a199a79",
              "version_minor": 0,
              "version_major": 2
            },
            "text/plain": [
              "HBox(children=(FloatProgress(value=0.0, description='Downloading', max=512.0, style=ProgressStyle(description_…"
            ]
          },
          "metadata": {
            "tags": []
          }
        },
        {
          "output_type": "stream",
          "text": [
            "\n"
          ],
          "name": "stdout"
        },
        {
          "output_type": "display_data",
          "data": {
            "application/vnd.jupyter.widget-view+json": {
              "model_id": "433a6c253772459bba5f160f6e267a2a",
              "version_minor": 0,
              "version_major": 2
            },
            "text/plain": [
              "HBox(children=(FloatProgress(value=0.0, description='Downloading', max=5069051.0, style=ProgressStyle(descript…"
            ]
          },
          "metadata": {
            "tags": []
          }
        },
        {
          "output_type": "stream",
          "text": [
            "\n"
          ],
          "name": "stdout"
        },
        {
          "output_type": "display_data",
          "data": {
            "application/vnd.jupyter.widget-view+json": {
              "model_id": "4e661b57c2bc49aea92a01b7279e75bc",
              "version_minor": 0,
              "version_major": 2
            },
            "text/plain": [
              "HBox(children=(FloatProgress(value=0.0, description='Downloading', max=9096718.0, style=ProgressStyle(descript…"
            ]
          },
          "metadata": {
            "tags": []
          }
        },
        {
          "output_type": "stream",
          "text": [
            "\n"
          ],
          "name": "stdout"
        }
      ]
    },
    {
      "cell_type": "code",
      "metadata": {
        "id": "cWNt4eOLofmF"
      },
      "source": [
        "lengths = []\r\n",
        "for text in train_sentences:\r\n",
        "  lengths.append(len(text))       "
      ],
      "execution_count": null,
      "outputs": []
    },
    {
      "cell_type": "code",
      "metadata": {
        "colab": {
          "base_uri": "https://localhost:8080/",
          "height": 427
        },
        "id": "hbdGRA3Bo02O",
        "outputId": "d06004e6-38c9-4ef1-946e-02c4cef68886"
      },
      "source": [
        "\r\n",
        "# Use plot styling from seaborn.\r\n",
        "sns.set(style='darkgrid')\r\n",
        "\r\n",
        "# Increase the plot size and font size.\r\n",
        "sns.set(font_scale=1.5)\r\n",
        "plt.rcParams[\"figure.figsize\"] = (12,6)\r\n",
        "\r\n",
        "plt.scatter(range(0, len(lengths)), lengths, marker=\"|\")\r\n",
        "\r\n",
        "plt.xlabel('Sample Number')\r\n",
        "plt.ylabel('Sequence Length')\r\n",
        "plt.title('Samples BEFORE Tokenizing')\r\n",
        "\r\n",
        "plt.show()"
      ],
      "execution_count": null,
      "outputs": [
        {
          "output_type": "display_data",
          "data": {
            "image/png": "[encoded data removed]",
            "text/plain": [
              "<Figure size 864x432 with 1 Axes>"
            ]
          },
          "metadata": {
            "tags": []
          }
        }
      ]
    },
    {
      "cell_type": "markdown",
      "metadata": {
        "id": "9rMhLNhPcZjU"
      },
      "source": [
        "### Tokenizing the sequences"
      ]
    },
    {
      "cell_type": "code",
      "metadata": {
        "id": "t7JsLi3EdEje"
      },
      "source": [
        "max_input_length = 400"
      ],
      "execution_count": null,
      "outputs": []
    },
    {
      "cell_type": "code",
      "metadata": {
        "colab": {
          "base_uri": "https://localhost:8080/"
        },
        "id": "J968o8RJcUEd",
        "outputId": "db3d8ec2-ada3-40f5-f48c-615b58aa5097"
      },
      "source": [
        "full_input_ids = []\r\n",
        "labels = []\r\n",
        "\r\n",
        "# Tokenize all training examples\r\n",
        "print('Tokenizing {:,} training samples...'.format(len(train_sentences)))\r\n",
        "\r\n",
        "# Choose an interval on which to print progress updates.\r\n",
        "update_interval = good_update_interval(total_iters=len(train_sentences), num_desired_updates=10)\r\n",
        "\r\n",
        "# For each training example...\r\n",
        "for text in train_sentences:\r\n",
        "    \r\n",
        "    # Report progress.\r\n",
        "    if ((len(full_input_ids) % update_interval) == 0):\r\n",
        "        print('  Tokenized {:,} samples.'.format(len(full_input_ids)))\r\n",
        "\r\n",
        "    # Tokenize the sentence.\r\n",
        "    input_ids = tokenizer.encode(text=text,           \r\n",
        "                                 add_special_tokens=True, \r\n",
        "                                 max_length=max_input_length,  \r\n",
        "                                 truncation=True,     \r\n",
        "                                 padding=False)       \r\n",
        "                                 \r\n",
        "    # Add the tokenized result to our list.\r\n",
        "    full_input_ids.append(input_ids)\r\n",
        "    \r\n",
        "print('DONE.')\r\n",
        "print('{:>10,} samples'.format(len(full_input_ids)))"
      ],
      "execution_count": null,
      "outputs": [
        {
          "output_type": "stream",
          "text": [
            "Tokenizing 6,217 training samples...\n",
            "  Tokenized 0 samples.\n",
            "  Tokenized 600 samples.\n",
            "  Tokenized 1,200 samples.\n",
            "  Tokenized 1,800 samples.\n",
            "  Tokenized 2,400 samples.\n",
            "  Tokenized 3,000 samples.\n",
            "  Tokenized 3,600 samples.\n",
            "  Tokenized 4,200 samples.\n",
            "  Tokenized 4,800 samples.\n",
            "  Tokenized 5,400 samples.\n",
            "  Tokenized 6,000 samples.\n",
            "DONE.\n",
            "     6,217 samples\n"
          ],
          "name": "stdout"
        }
      ]
    },
    {
      "cell_type": "code",
      "metadata": {
        "id": "rZzhO2tZeXur"
      },
      "source": [
        "# Get all of the lengths.\r\n",
        "unsorted_lengths = [len(x) for x in full_input_ids]"
      ],
      "execution_count": null,
      "outputs": []
    },
    {
      "cell_type": "code",
      "metadata": {
        "colab": {
          "base_uri": "https://localhost:8080/",
          "height": 427
        },
        "id": "x7c_mYuVed_H",
        "outputId": "7a557a1e-68bc-4177-d5e9-59f5d0dec21c"
      },
      "source": [
        "\r\n",
        "# Use plot styling from seaborn.\r\n",
        "sns.set(style='darkgrid')\r\n",
        "\r\n",
        "# Increase the plot size and font size.\r\n",
        "sns.set(font_scale=1.5)\r\n",
        "plt.rcParams[\"figure.figsize\"] = (12,6)\r\n",
        "\r\n",
        "plt.scatter(range(0, len(unsorted_lengths)), unsorted_lengths, marker=\"|\")\r\n",
        "\r\n",
        "plt.xlabel('Sample Number')\r\n",
        "plt.ylabel('Sequence Length')\r\n",
        "plt.title('Samples BEFORE Sorting')\r\n",
        "\r\n",
        "plt.show()"
      ],
      "execution_count": null,
      "outputs": [
        {
          "output_type": "display_data",
          "data": {
            "image/png": "[encoded data removed]",
            "text/plain": [
              "<Figure size 864x432 with 1 Axes>"
            ]
          },
          "metadata": {
            "tags": []
          }
        }
      ]
    },
    {
      "cell_type": "code",
      "metadata": {
        "id": "7PaeohUVegmv"
      },
      "source": [
        "# Sort the two lists together by the length of the input sequence.\r\n",
        "train_samples = sorted(zip(full_input_ids, train_labels), key=lambda x: len(x[0]))"
      ],
      "execution_count": null,
      "outputs": []
    },
    {
      "cell_type": "code",
      "metadata": {
        "colab": {
          "base_uri": "https://localhost:8080/"
        },
        "id": "_9nyx-BtepE4",
        "outputId": "0ed64d09-5df5-47df-abf3-0a0e33b4a3e4"
      },
      "source": [
        "train_samples[0:5]"
      ],
      "execution_count": null,
      "outputs": [
        {
          "output_type": "execute_result",
          "data": {
            "text/plain": [
              "[([0, 227865, 2], 0),\n",
              " ([0, 73398, 2], 0),\n",
              " ([0, 47823, 2], 0),\n",
              " ([0, 227865, 2], 5),\n",
              " ([0, 185936, 2], 5)]"
            ]
          },
          "metadata": {
            "tags": []
          },
          "execution_count": 39
        }
      ]
    },
    {
      "cell_type": "code",
      "metadata": {
        "colab": {
          "base_uri": "https://localhost:8080/"
        },
        "id": "rBxJhEieetFh",
        "outputId": "e1a1e1f4-31c8-4c4d-d1e1-5997929c731f"
      },
      "source": [
        "print('Shortest sample:', len(train_samples[0][0]))\r\n",
        "print('Longest sample:', len(train_samples[-1][0]))"
      ],
      "execution_count": null,
      "outputs": [
        {
          "output_type": "stream",
          "text": [
            "Shortest sample: 3\n",
            "Longest sample: 294\n"
          ],
          "name": "stdout"
        }
      ]
    },
    {
      "cell_type": "code",
      "metadata": {
        "id": "P44bFOI-e7hW"
      },
      "source": [
        "# Get the new list of lengths after sorting.\r\n",
        "sorted_lengths = [len(s[0]) for s in train_samples]"
      ],
      "execution_count": null,
      "outputs": []
    },
    {
      "cell_type": "code",
      "metadata": {
        "colab": {
          "base_uri": "https://localhost:8080/",
          "height": 427
        },
        "id": "9P5ZX99le_G1",
        "outputId": "c41e3588-ae88-43c1-f147-5a512378e351"
      },
      "source": [
        "\r\n",
        "plt.plot(range(0, len(sorted_lengths)), sorted_lengths)\r\n",
        "\r\n",
        "plt.xlabel('Sample Number')\r\n",
        "plt.ylabel('Sequence Length')\r\n",
        "plt.title('Samples after Sorting')\r\n",
        "\r\n",
        "plt.show()"
      ],
      "execution_count": null,
      "outputs": [
        {
          "output_type": "display_data",
          "data": {
            "image/png": "[encoded data removed]",
            "text/plain": [
              "<Figure size 864x432 with 1 Axes>"
            ]
          },
          "metadata": {
            "tags": []
          }
        }
      ]
    },
    {
      "cell_type": "markdown",
      "metadata": {
        "id": "Eh1z0xugfF2t"
      },
      "source": [
        "### Random Batch Selections"
      ]
    },
    {
      "cell_type": "code",
      "metadata": {
        "colab": {
          "base_uri": "https://localhost:8080/"
        },
        "id": "gPrYkFMcgm5H",
        "outputId": "31cd7505-0430-4cfc-c683-42cd083f4665"
      },
      "source": [
        "train_samples[0]"
      ],
      "execution_count": null,
      "outputs": [
        {
          "output_type": "execute_result",
          "data": {
            "text/plain": [
              "([0, 227865, 2], 0)"
            ]
          },
          "metadata": {
            "tags": []
          },
          "execution_count": 43
        }
      ]
    },
    {
      "cell_type": "code",
      "metadata": {
        "id": "isMxwgezfAvO"
      },
      "source": [
        "batch_size = 16"
      ],
      "execution_count": null,
      "outputs": []
    },
    {
      "cell_type": "code",
      "metadata": {
        "colab": {
          "base_uri": "https://localhost:8080/"
        },
        "id": "s0tjD8pIfJ0S",
        "outputId": "1ea9cb4e-ae60-43bb-aef1-0b849ecefd42"
      },
      "source": [
        "# List of batches that we'll construct.\r\n",
        "batch_ordered_sentences = []\r\n",
        "batch_ordered_labels = []\r\n",
        "\r\n",
        "print('Creating training batches of size {:}'.format(batch_size))\r\n",
        "\r\n",
        "# Loop over all of the input samples...    \r\n",
        "while len(train_samples) > 0:\r\n",
        "    \r\n",
        "    # Report progress.\r\n",
        "    if ((len(batch_ordered_sentences) % 100) == 0):\r\n",
        "        print('  Selected {:,} batches.'.format(len(batch_ordered_sentences)))\r\n",
        "\r\n",
        "    # `to_take` is our actual batch size. It will be `batch_size` until \r\n",
        "    # we get to the last batch, which may be smaller. \r\n",
        "    to_take = min(batch_size, len(train_samples))\r\n",
        "\r\n",
        "    # Pick a random index in the list of remaining samples to start\r\n",
        "    # our batch at.\r\n",
        "    select = random.randint(0, len(train_samples) - to_take)\r\n",
        "\r\n",
        "    # Select a contiguous batch of samples starting at `select`.\r\n",
        "    batch = train_samples[select:(select + to_take)]\r\n",
        "\r\n",
        "    # Each sample is a tuple--split them apart to create a separate list of \r\n",
        "    # sequences and a list of labels for this batch.\r\n",
        "    batch_ordered_sentences.append([s[0] for s in batch])\r\n",
        "    batch_ordered_labels.append([s[1] for s in batch])\r\n",
        "\r\n",
        "    # Remove these samples from the list.\r\n",
        "    del train_samples[select:select + to_take]\r\n",
        "\r\n",
        "print('\\n  DONE - {:,} batches.'.format(len(batch_ordered_sentences)))"
      ],
      "execution_count": null,
      "outputs": [
        {
          "output_type": "stream",
          "text": [
            "Creating training batches of size 16\n",
            "  Selected 0 batches.\n",
            "  Selected 100 batches.\n",
            "  Selected 200 batches.\n",
            "  Selected 300 batches.\n",
            "\n",
            "  DONE - 389 batches.\n"
          ],
          "name": "stdout"
        }
      ]
    },
    {
      "cell_type": "code",
      "metadata": {
        "colab": {
          "base_uri": "https://localhost:8080/"
        },
        "id": "rf91Dd3LhBaP",
        "outputId": "485508e6-cc6e-4361-8a4e-56ebda937d95"
      },
      "source": [
        "print(batch_ordered_sentences[0])"
      ],
      "execution_count": null,
      "outputs": [
        {
          "output_type": "stream",
          "text": [
            "[[0, 2319, 927, 686, 91, 8202, 763, 105791, 1072, 282, 291, 712, 22358, 153, 53927, 6713, 4127, 237, 5299, 398, 3871, 442, 237, 142, 39329, 27, 2], [0, 215539, 53887, 9440, 29080, 82453, 74077, 13951, 104901, 29335, 81683, 9111, 210998, 130849, 100, 2126, 6448, 1256, 56, 294, 959, 2126, 6448, 100306, 7, 243385, 2], [0, 1374, 11832, 395, 6430, 1153, 93, 24419, 95480, 4212, 99019, 3943, 6904, 77798, 1940, 55741, 129570, 6650, 350, 22886, 395, 5415, 76, 705, 89726, 5, 2], [0, 2096, 192, 1876, 1090, 1658, 1517, 53674, 5222, 79, 14, 6, 32882, 169092, 3112, 1876, 1090, 6157, 429, 2360, 282, 17, 84899, 1884, 291, 3938, 2], [0, 1374, 4613, 1861, 4794, 73903, 10868, 5, 59285, 26722, 71029, 34, 2096, 192, 10868, 2497, 786, 2619, 11894, 33124, 29261, 13684, 14832, 7, 156649, 20365, 2], [0, 193937, 4212, 2498, 67118, 8226, 11138, 34395, 3460, 3953, 14740, 44762, 4195, 8348, 29615, 7096, 6598, 34395, 8985, 127633, 184764, 2474, 6, 93772, 4850, 17581, 2], [0, 92518, 241024, 3943, 1508, 36908, 5, 3349, 171737, 140231, 2074, 56315, 79263, 2094, 16289, 22604, 5996, 11138, 190904, 92518, 8348, 32733, 66918, 14544, 26606, 5, 2], [0, 14095, 28020, 34, 2178, 8, 2420, 23515, 6544, 1224, 13920, 6, 137959, 1377, 186, 319, 136, 4115, 11, 52540, 21441, 11, 6, 17324, 372, 319, 2], [0, 6, 93772, 4850, 17581, 21529, 216260, 10055, 11011, 56377, 7191, 2474, 28074, 6, 133909, 176024, 8348, 35844, 14600, 20837, 5, 10713, 116199, 294, 27560, 27, 2], [0, 1061, 17110, 19, 44456, 1884, 79875, 92, 23, 25942, 19, 4153, 12911, 43137, 19, 4153, 8671, 106392, 19, 4153, 39195, 61586, 19, 4904, 9713, 839, 2], [0, 10868, 14277, 112442, 26050, 17, 21356, 5, 1650, 11416, 1346, 22, 290, 11089, 735, 112, 14095, 5, 5, 277, 16082, 47, 5161, 8698, 92, 46741, 2], [0, 360, 3238, 36, 1229, 1202, 315, 2837, 5062, 291, 936, 30442, 26259, 3238, 156, 1436, 85, 25990, 2327, 23062, 372, 319, 245777, 245777, 245777, 245777, 2], [0, 3164, 70, 2965, 2551, 99449, 7096, 28074, 133909, 176024, 1468, 209901, 11621, 2551, 1958, 19041, 2094, 10912, 147032, 107614, 2551, 7079, 39, 211847, 137319, 1207, 2], [0, 121652, 16092, 16502, 57885, 29615, 7096, 6598, 34395, 17581, 6, 56396, 90802, 61308, 3022, 17581, 16738, 22988, 99210, 51892, 5391, 13445, 127633, 195346, 6040, 96623, 2], [0, 17126, 170, 409, 15040, 6037, 10, 5822, 87, 444, 1295, 6, 230709, 366, 15833, 11, 10, 11, 26774, 1468, 90865, 156, 26539, 12348, 297, 1337, 2], [0, 1374, 839, 8915, 16995, 528, 28884, 4450, 11791, 20122, 47671, 20902, 69640, 5, 27, 14317, 4023, 239763, 139944, 2316, 19383, 24221, 4389, 197162, 3461, 127633, 2]]\n"
          ],
          "name": "stdout"
        }
      ]
    },
    {
      "cell_type": "code",
      "metadata": {
        "colab": {
          "base_uri": "https://localhost:8080/"
        },
        "id": "qmkQK_gVgiTu",
        "outputId": "34408493-aeb3-4e7b-e25c-f7003d184284"
      },
      "source": [
        "batch_ordered_labels[0]"
      ],
      "execution_count": null,
      "outputs": [
        {
          "output_type": "execute_result",
          "data": {
            "text/plain": [
              "[2, 0, 0, 0, 0, 0, 0, 0, 1, 0, 0, 1, 0, 0, 5, 2]"
            ]
          },
          "metadata": {
            "tags": []
          },
          "execution_count": 47
        }
      ]
    },
    {
      "cell_type": "markdown",
      "metadata": {
        "id": "xZ0TFA8Mfn6m"
      },
      "source": [
        "### Padding"
      ]
    },
    {
      "cell_type": "code",
      "metadata": {
        "id": "c9rdswcpfTip"
      },
      "source": [
        "py_inputs = []\r\n",
        "py_attn_masks = []\r\n",
        "py_labels = []\r\n",
        "\r\n",
        "# For each batch...\r\n",
        "for (batch_inputs, batch_labels) in zip(batch_ordered_sentences, batch_ordered_labels):\r\n",
        "\r\n",
        "    # New version of the batch, this time with padded sequences and now with\r\n",
        "    # attention masks defined.\r\n",
        "    batch_padded_inputs = []\r\n",
        "    batch_attn_masks = []\r\n",
        "    \r\n",
        "    # First, find the longest sample in the batch. \r\n",
        "    # Note that the sequences do currently include the special tokens!\r\n",
        "    max_size = max([len(sen) for sen in batch_inputs])\r\n",
        "\r\n",
        "    #print('Max size:', max_size)\r\n",
        "\r\n",
        "    # For each input in this batch...\r\n",
        "    for sen in batch_inputs:\r\n",
        "        \r\n",
        "        # How many pad tokens do we need to add?\r\n",
        "        num_pads = max_size - len(sen)\r\n",
        "\r\n",
        "        # Add `num_pads` padding tokens to the end of the sequence.\r\n",
        "        padded_input = sen + [tokenizer.pad_token_id]*num_pads\r\n",
        "\r\n",
        "        # Define the attention mask--it's just a `1` for every real token\r\n",
        "        # and a `0` for every padding token.\r\n",
        "        attn_mask = [1] * len(sen) + [0] * num_pads\r\n",
        "\r\n",
        "        # Add the padded results to the batch.\r\n",
        "        batch_padded_inputs.append(padded_input)\r\n",
        "        batch_attn_masks.append(attn_mask)\r\n",
        "\r\n",
        "    # Our batch has been padded, so we need to save this updated batch.\r\n",
        "    # We also need the inputs to be PyTorch tensors, so we'll do that here.\r\n",
        "    py_inputs.append(torch.tensor(batch_padded_inputs))\r\n",
        "    py_attn_masks.append(torch.tensor(batch_attn_masks))\r\n",
        "    py_labels.append(torch.tensor(batch_labels))\r\n"
      ],
      "execution_count": null,
      "outputs": []
    },
    {
      "cell_type": "markdown",
      "metadata": {
        "id": "roS5lLWdX-5J"
      },
      "source": [
        "### Check the number of token reductions because of smart batching"
      ]
    },
    {
      "cell_type": "code",
      "metadata": {
        "colab": {
          "base_uri": "https://localhost:8080/"
        },
        "id": "wlh7cteVfroV",
        "outputId": "19053e9d-483e-40f8-ca77-cc48a74c3358"
      },
      "source": [
        "# Get the new list of lengths after sorting.\r\n",
        "\r\n",
        "padded_lengths = []\r\n",
        "\r\n",
        "# For each batch...\r\n",
        "for batch in py_inputs:\r\n",
        "    \r\n",
        "    # For each sample...\r\n",
        "    for s in batch:\r\n",
        "    \r\n",
        "        # Record its length.\r\n",
        "        padded_lengths.append(len(s))\r\n",
        "\r\n",
        "# Sum up the lengths to the get the total number of tokens after smart batching.\r\n",
        "smart_token_count = np.sum(padded_lengths)\r\n",
        "\r\n",
        "# To get the total number of tokens in the dataset using fixed padding, it's\r\n",
        "# as simple as the number of samples times our `max_len` parameter (that we\r\n",
        "# would pad everything to).\r\n",
        "fixed_token_count = len(train_sentences) * max_input_length\r\n",
        "\r\n",
        "# Calculate the percentage reduction.\r\n",
        "prcnt_reduced = (fixed_token_count - smart_token_count) / float(fixed_token_count) \r\n",
        "\r\n",
        "print('Total tokens:')\r\n",
        "print('   Fixed Padding: {:,}'.format(fixed_token_count))\r\n",
        "print('  Smart Batching: {:,}  ({:.1%} less)'.format(smart_token_count, prcnt_reduced))\r\n"
      ],
      "execution_count": null,
      "outputs": [
        {
          "output_type": "stream",
          "text": [
            "Total tokens:\n",
            "   Fixed Padding: 2,486,800\n",
            "  Smart Batching: 116,470  (95.3% less)\n"
          ],
          "name": "stdout"
        }
      ]
    },
    {
      "cell_type": "markdown",
      "metadata": {
        "id": "8wgdhsI-YIAL"
      },
      "source": [
        "## Load the model configuration from the transformers library using AutoConfig"
      ]
    },
    {
      "cell_type": "code",
      "metadata": {
        "colab": {
          "base_uri": "https://localhost:8080/"
        },
        "id": "9er7EHvdfudf",
        "outputId": "d1dc5aef-9ef5-4a6d-daca-dd1c7e980137"
      },
      "source": [
        "# Load the Config object, with an output configured for classification.\r\n",
        "config = AutoConfig.from_pretrained(pretrained_model_name_or_path=model_name,\r\n",
        "                                    num_labels=6)\r\n",
        "\r\n",
        "print('Config type:', str(type(config)), '\\n')\r\n"
      ],
      "execution_count": null,
      "outputs": [
        {
          "output_type": "stream",
          "text": [
            "Config type: <class 'transformers.models.xlm_roberta.configuration_xlm_roberta.XLMRobertaConfig'> \n",
            "\n"
          ],
          "name": "stdout"
        }
      ]
    },
    {
      "cell_type": "code",
      "metadata": {
        "colab": {
          "base_uri": "https://localhost:8080/",
          "height": 171,
          "referenced_widgets": [
            "982e36b637e641cfa511b6fae6ba5eaf",
            "bf288a919de9477a93368a3b37fde329",
            "704ce65fe19f4dedbe6302ff456872d3",
            "d42ea2af85a84c94a8fe46169ec75d1e",
            "2b869814e9994e9e804e68863d5780da",
            "3f95384f1e3d43178227fa33c58153a4",
            "3d168dba69e64073bd6466c3fdea5640",
            "0998d64377c64cb7812fc632d42087fc"
          ]
        },
        "id": "bWvc9Ikv4HtD",
        "outputId": "004eed01-b110-4d28-8a75-8cdb2963a817"
      },
      "source": [
        "model = AutoModelForSequenceClassification.from_pretrained(pretrained_model_name_or_path=model_name,config = config)"
      ],
      "execution_count": null,
      "outputs": [
        {
          "output_type": "display_data",
          "data": {
            "application/vnd.jupyter.widget-view+json": {
              "model_id": "982e36b637e641cfa511b6fae6ba5eaf",
              "version_minor": 0,
              "version_major": 2
            },
            "text/plain": [
              "HBox(children=(FloatProgress(value=0.0, description='Downloading', max=1115590446.0, style=ProgressStyle(descr…"
            ]
          },
          "metadata": {
            "tags": []
          }
        },
        {
          "output_type": "stream",
          "text": [
            "\n"
          ],
          "name": "stdout"
        },
        {
          "output_type": "stream",
          "text": [
            "Some weights of the model checkpoint at xlm-roberta-base were not used when initializing XLMRobertaForSequenceClassification: ['lm_head.bias', 'lm_head.dense.weight', 'lm_head.dense.bias', 'lm_head.layer_norm.weight', 'lm_head.layer_norm.bias', 'lm_head.decoder.weight', 'roberta.pooler.dense.weight', 'roberta.pooler.dense.bias']\n",
            "- This IS expected if you are initializing XLMRobertaForSequenceClassification from the checkpoint of a model trained on another task or with another architecture (e.g. initializing a BertForSequenceClassification model from a BertForPreTraining model).\n",
            "- This IS NOT expected if you are initializing XLMRobertaForSequenceClassification from the checkpoint of a model that you expect to be exactly identical (initializing a BertForSequenceClassification model from a BertForSequenceClassification model).\n",
            "Some weights of XLMRobertaForSequenceClassification were not initialized from the model checkpoint at xlm-roberta-base and are newly initialized: ['classifier.dense.weight', 'classifier.dense.bias', 'classifier.out_proj.weight', 'classifier.out_proj.bias']\n",
            "You should probably TRAIN this model on a down-stream task to be able to use it for predictions and inference.\n"
          ],
          "name": "stderr"
        }
      ]
    },
    {
      "cell_type": "code",
      "metadata": {
        "colab": {
          "base_uri": "https://localhost:8080/"
        },
        "id": "Xouf5M2B55ei",
        "outputId": "6b92450a-2308-41e7-8d38-c63a9dc4b6ac"
      },
      "source": [
        "model.cuda()"
      ],
      "execution_count": null,
      "outputs": [
        {
          "output_type": "execute_result",
          "data": {
            "text/plain": [
              "XLMRobertaForSequenceClassification(\n",
              "  (roberta): RobertaModel(\n",
              "    (embeddings): RobertaEmbeddings(\n",
              "      (word_embeddings): Embedding(250002, 768, padding_idx=1)\n",
              "      (position_embeddings): Embedding(514, 768, padding_idx=1)\n",
              "      (token_type_embeddings): Embedding(1, 768)\n",
              "      (LayerNorm): LayerNorm((768,), eps=1e-05, elementwise_affine=True)\n",
              "      (dropout): Dropout(p=0.1, inplace=False)\n",
              "    )\n",
              "    (encoder): RobertaEncoder(\n",
              "      (layer): ModuleList(\n",
              "        (0): RobertaLayer(\n",
              "          (attention): RobertaAttention(\n",
              "            (self): RobertaSelfAttention(\n",
              "              (query): Linear(in_features=768, out_features=768, bias=True)\n",
              "              (key): Linear(in_features=768, out_features=768, bias=True)\n",
              "              (value): Linear(in_features=768, out_features=768, bias=True)\n",
              "              (dropout): Dropout(p=0.1, inplace=False)\n",
              "            )\n",
              "            (output): RobertaSelfOutput(\n",
              "              (dense): Linear(in_features=768, out_features=768, bias=True)\n",
              "              (LayerNorm): LayerNorm((768,), eps=1e-05, elementwise_affine=True)\n",
              "              (dropout): Dropout(p=0.1, inplace=False)\n",
              "            )\n",
              "          )\n",
              "          (intermediate): RobertaIntermediate(\n",
              "            (dense): Linear(in_features=768, out_features=3072, bias=True)\n",
              "          )\n",
              "          (output): RobertaOutput(\n",
              "            (dense): Linear(in_features=3072, out_features=768, bias=True)\n",
              "            (LayerNorm): LayerNorm((768,), eps=1e-05, elementwise_affine=True)\n",
              "            (dropout): Dropout(p=0.1, inplace=False)\n",
              "          )\n",
              "        )\n",
              "        (1): RobertaLayer(\n",
              "          (attention): RobertaAttention(\n",
              "            (self): RobertaSelfAttention(\n",
              "              (query): Linear(in_features=768, out_features=768, bias=True)\n",
              "              (key): Linear(in_features=768, out_features=768, bias=True)\n",
              "              (value): Linear(in_features=768, out_features=768, bias=True)\n",
              "              (dropout): Dropout(p=0.1, inplace=False)\n",
              "            )\n",
              "            (output): RobertaSelfOutput(\n",
              "              (dense): Linear(in_features=768, out_features=768, bias=True)\n",
              "              (LayerNorm): LayerNorm((768,), eps=1e-05, elementwise_affine=True)\n",
              "              (dropout): Dropout(p=0.1, inplace=False)\n",
              "            )\n",
              "          )\n",
              "          (intermediate): RobertaIntermediate(\n",
              "            (dense): Linear(in_features=768, out_features=3072, bias=True)\n",
              "          )\n",
              "          (output): RobertaOutput(\n",
              "            (dense): Linear(in_features=3072, out_features=768, bias=True)\n",
              "            (LayerNorm): LayerNorm((768,), eps=1e-05, elementwise_affine=True)\n",
              "            (dropout): Dropout(p=0.1, inplace=False)\n",
              "          )\n",
              "        )\n",
              "        (2): RobertaLayer(\n",
              "          (attention): RobertaAttention(\n",
              "            (self): RobertaSelfAttention(\n",
              "              (query): Linear(in_features=768, out_features=768, bias=True)\n",
              "              (key): Linear(in_features=768, out_features=768, bias=True)\n",
              "              (value): Linear(in_features=768, out_features=768, bias=True)\n",
              "              (dropout): Dropout(p=0.1, inplace=False)\n",
              "            )\n",
              "            (output): RobertaSelfOutput(\n",
              "              (dense): Linear(in_features=768, out_features=768, bias=True)\n",
              "              (LayerNorm): LayerNorm((768,), eps=1e-05, elementwise_affine=True)\n",
              "              (dropout): Dropout(p=0.1, inplace=False)\n",
              "            )\n",
              "          )\n",
              "          (intermediate): RobertaIntermediate(\n",
              "            (dense): Linear(in_features=768, out_features=3072, bias=True)\n",
              "          )\n",
              "          (output): RobertaOutput(\n",
              "            (dense): Linear(in_features=3072, out_features=768, bias=True)\n",
              "            (LayerNorm): LayerNorm((768,), eps=1e-05, elementwise_affine=True)\n",
              "            (dropout): Dropout(p=0.1, inplace=False)\n",
              "          )\n",
              "        )\n",
              "        (3): RobertaLayer(\n",
              "          (attention): RobertaAttention(\n",
              "            (self): RobertaSelfAttention(\n",
              "              (query): Linear(in_features=768, out_features=768, bias=True)\n",
              "              (key): Linear(in_features=768, out_features=768, bias=True)\n",
              "              (value): Linear(in_features=768, out_features=768, bias=True)\n",
              "              (dropout): Dropout(p=0.1, inplace=False)\n",
              "            )\n",
              "            (output): RobertaSelfOutput(\n",
              "              (dense): Linear(in_features=768, out_features=768, bias=True)\n",
              "              (LayerNorm): LayerNorm((768,), eps=1e-05, elementwise_affine=True)\n",
              "              (dropout): Dropout(p=0.1, inplace=False)\n",
              "            )\n",
              "          )\n",
              "          (intermediate): RobertaIntermediate(\n",
              "            (dense): Linear(in_features=768, out_features=3072, bias=True)\n",
              "          )\n",
              "          (output): RobertaOutput(\n",
              "            (dense): Linear(in_features=3072, out_features=768, bias=True)\n",
              "            (LayerNorm): LayerNorm((768,), eps=1e-05, elementwise_affine=True)\n",
              "            (dropout): Dropout(p=0.1, inplace=False)\n",
              "          )\n",
              "        )\n",
              "        (4): RobertaLayer(\n",
              "          (attention): RobertaAttention(\n",
              "            (self): RobertaSelfAttention(\n",
              "              (query): Linear(in_features=768, out_features=768, bias=True)\n",
              "              (key): Linear(in_features=768, out_features=768, bias=True)\n",
              "              (value): Linear(in_features=768, out_features=768, bias=True)\n",
              "              (dropout): Dropout(p=0.1, inplace=False)\n",
              "            )\n",
              "            (output): RobertaSelfOutput(\n",
              "              (dense): Linear(in_features=768, out_features=768, bias=True)\n",
              "              (LayerNorm): LayerNorm((768,), eps=1e-05, elementwise_affine=True)\n",
              "              (dropout): Dropout(p=0.1, inplace=False)\n",
              "            )\n",
              "          )\n",
              "          (intermediate): RobertaIntermediate(\n",
              "            (dense): Linear(in_features=768, out_features=3072, bias=True)\n",
              "          )\n",
              "          (output): RobertaOutput(\n",
              "            (dense): Linear(in_features=3072, out_features=768, bias=True)\n",
              "            (LayerNorm): LayerNorm((768,), eps=1e-05, elementwise_affine=True)\n",
              "            (dropout): Dropout(p=0.1, inplace=False)\n",
              "          )\n",
              "        )\n",
              "        (5): RobertaLayer(\n",
              "          (attention): RobertaAttention(\n",
              "            (self): RobertaSelfAttention(\n",
              "              (query): Linear(in_features=768, out_features=768, bias=True)\n",
              "              (key): Linear(in_features=768, out_features=768, bias=True)\n",
              "              (value): Linear(in_features=768, out_features=768, bias=True)\n",
              "              (dropout): Dropout(p=0.1, inplace=False)\n",
              "            )\n",
              "            (output): RobertaSelfOutput(\n",
              "              (dense): Linear(in_features=768, out_features=768, bias=True)\n",
              "              (LayerNorm): LayerNorm((768,), eps=1e-05, elementwise_affine=True)\n",
              "              (dropout): Dropout(p=0.1, inplace=False)\n",
              "            )\n",
              "          )\n",
              "          (intermediate): RobertaIntermediate(\n",
              "            (dense): Linear(in_features=768, out_features=3072, bias=True)\n",
              "          )\n",
              "          (output): RobertaOutput(\n",
              "            (dense): Linear(in_features=3072, out_features=768, bias=True)\n",
              "            (LayerNorm): LayerNorm((768,), eps=1e-05, elementwise_affine=True)\n",
              "            (dropout): Dropout(p=0.1, inplace=False)\n",
              "          )\n",
              "        )\n",
              "        (6): RobertaLayer(\n",
              "          (attention): RobertaAttention(\n",
              "            (self): RobertaSelfAttention(\n",
              "              (query): Linear(in_features=768, out_features=768, bias=True)\n",
              "              (key): Linear(in_features=768, out_features=768, bias=True)\n",
              "              (value): Linear(in_features=768, out_features=768, bias=True)\n",
              "              (dropout): Dropout(p=0.1, inplace=False)\n",
              "            )\n",
              "            (output): RobertaSelfOutput(\n",
              "              (dense): Linear(in_features=768, out_features=768, bias=True)\n",
              "              (LayerNorm): LayerNorm((768,), eps=1e-05, elementwise_affine=True)\n",
              "              (dropout): Dropout(p=0.1, inplace=False)\n",
              "            )\n",
              "          )\n",
              "          (intermediate): RobertaIntermediate(\n",
              "            (dense): Linear(in_features=768, out_features=3072, bias=True)\n",
              "          )\n",
              "          (output): RobertaOutput(\n",
              "            (dense): Linear(in_features=3072, out_features=768, bias=True)\n",
              "            (LayerNorm): LayerNorm((768,), eps=1e-05, elementwise_affine=True)\n",
              "            (dropout): Dropout(p=0.1, inplace=False)\n",
              "          )\n",
              "        )\n",
              "        (7): RobertaLayer(\n",
              "          (attention): RobertaAttention(\n",
              "            (self): RobertaSelfAttention(\n",
              "              (query): Linear(in_features=768, out_features=768, bias=True)\n",
              "              (key): Linear(in_features=768, out_features=768, bias=True)\n",
              "              (value): Linear(in_features=768, out_features=768, bias=True)\n",
              "              (dropout): Dropout(p=0.1, inplace=False)\n",
              "            )\n",
              "            (output): RobertaSelfOutput(\n",
              "              (dense): Linear(in_features=768, out_features=768, bias=True)\n",
              "              (LayerNorm): LayerNorm((768,), eps=1e-05, elementwise_affine=True)\n",
              "              (dropout): Dropout(p=0.1, inplace=False)\n",
              "            )\n",
              "          )\n",
              "          (intermediate): RobertaIntermediate(\n",
              "            (dense): Linear(in_features=768, out_features=3072, bias=True)\n",
              "          )\n",
              "          (output): RobertaOutput(\n",
              "            (dense): Linear(in_features=3072, out_features=768, bias=True)\n",
              "            (LayerNorm): LayerNorm((768,), eps=1e-05, elementwise_affine=True)\n",
              "            (dropout): Dropout(p=0.1, inplace=False)\n",
              "          )\n",
              "        )\n",
              "        (8): RobertaLayer(\n",
              "          (attention): RobertaAttention(\n",
              "            (self): RobertaSelfAttention(\n",
              "              (query): Linear(in_features=768, out_features=768, bias=True)\n",
              "              (key): Linear(in_features=768, out_features=768, bias=True)\n",
              "              (value): Linear(in_features=768, out_features=768, bias=True)\n",
              "              (dropout): Dropout(p=0.1, inplace=False)\n",
              "            )\n",
              "            (output): RobertaSelfOutput(\n",
              "              (dense): Linear(in_features=768, out_features=768, bias=True)\n",
              "              (LayerNorm): LayerNorm((768,), eps=1e-05, elementwise_affine=True)\n",
              "              (dropout): Dropout(p=0.1, inplace=False)\n",
              "            )\n",
              "          )\n",
              "          (intermediate): RobertaIntermediate(\n",
              "            (dense): Linear(in_features=768, out_features=3072, bias=True)\n",
              "          )\n",
              "          (output): RobertaOutput(\n",
              "            (dense): Linear(in_features=3072, out_features=768, bias=True)\n",
              "            (LayerNorm): LayerNorm((768,), eps=1e-05, elementwise_affine=True)\n",
              "            (dropout): Dropout(p=0.1, inplace=False)\n",
              "          )\n",
              "        )\n",
              "        (9): RobertaLayer(\n",
              "          (attention): RobertaAttention(\n",
              "            (self): RobertaSelfAttention(\n",
              "              (query): Linear(in_features=768, out_features=768, bias=True)\n",
              "              (key): Linear(in_features=768, out_features=768, bias=True)\n",
              "              (value): Linear(in_features=768, out_features=768, bias=True)\n",
              "              (dropout): Dropout(p=0.1, inplace=False)\n",
              "            )\n",
              "            (output): RobertaSelfOutput(\n",
              "              (dense): Linear(in_features=768, out_features=768, bias=True)\n",
              "              (LayerNorm): LayerNorm((768,), eps=1e-05, elementwise_affine=True)\n",
              "              (dropout): Dropout(p=0.1, inplace=False)\n",
              "            )\n",
              "          )\n",
              "          (intermediate): RobertaIntermediate(\n",
              "            (dense): Linear(in_features=768, out_features=3072, bias=True)\n",
              "          )\n",
              "          (output): RobertaOutput(\n",
              "            (dense): Linear(in_features=3072, out_features=768, bias=True)\n",
              "            (LayerNorm): LayerNorm((768,), eps=1e-05, elementwise_affine=True)\n",
              "            (dropout): Dropout(p=0.1, inplace=False)\n",
              "          )\n",
              "        )\n",
              "        (10): RobertaLayer(\n",
              "          (attention): RobertaAttention(\n",
              "            (self): RobertaSelfAttention(\n",
              "              (query): Linear(in_features=768, out_features=768, bias=True)\n",
              "              (key): Linear(in_features=768, out_features=768, bias=True)\n",
              "              (value): Linear(in_features=768, out_features=768, bias=True)\n",
              "              (dropout): Dropout(p=0.1, inplace=False)\n",
              "            )\n",
              "            (output): RobertaSelfOutput(\n",
              "              (dense): Linear(in_features=768, out_features=768, bias=True)\n",
              "              (LayerNorm): LayerNorm((768,), eps=1e-05, elementwise_affine=True)\n",
              "              (dropout): Dropout(p=0.1, inplace=False)\n",
              "            )\n",
              "          )\n",
              "          (intermediate): RobertaIntermediate(\n",
              "            (dense): Linear(in_features=768, out_features=3072, bias=True)\n",
              "          )\n",
              "          (output): RobertaOutput(\n",
              "            (dense): Linear(in_features=3072, out_features=768, bias=True)\n",
              "            (LayerNorm): LayerNorm((768,), eps=1e-05, elementwise_affine=True)\n",
              "            (dropout): Dropout(p=0.1, inplace=False)\n",
              "          )\n",
              "        )\n",
              "        (11): RobertaLayer(\n",
              "          (attention): RobertaAttention(\n",
              "            (self): RobertaSelfAttention(\n",
              "              (query): Linear(in_features=768, out_features=768, bias=True)\n",
              "              (key): Linear(in_features=768, out_features=768, bias=True)\n",
              "              (value): Linear(in_features=768, out_features=768, bias=True)\n",
              "              (dropout): Dropout(p=0.1, inplace=False)\n",
              "            )\n",
              "            (output): RobertaSelfOutput(\n",
              "              (dense): Linear(in_features=768, out_features=768, bias=True)\n",
              "              (LayerNorm): LayerNorm((768,), eps=1e-05, elementwise_affine=True)\n",
              "              (dropout): Dropout(p=0.1, inplace=False)\n",
              "            )\n",
              "          )\n",
              "          (intermediate): RobertaIntermediate(\n",
              "            (dense): Linear(in_features=768, out_features=3072, bias=True)\n",
              "          )\n",
              "          (output): RobertaOutput(\n",
              "            (dense): Linear(in_features=3072, out_features=768, bias=True)\n",
              "            (LayerNorm): LayerNorm((768,), eps=1e-05, elementwise_affine=True)\n",
              "            (dropout): Dropout(p=0.1, inplace=False)\n",
              "          )\n",
              "        )\n",
              "      )\n",
              "    )\n",
              "  )\n",
              "  (classifier): RobertaClassificationHead(\n",
              "    (dense): Linear(in_features=768, out_features=768, bias=True)\n",
              "    (dropout): Dropout(p=0.1, inplace=False)\n",
              "    (out_proj): Linear(in_features=768, out_features=6, bias=True)\n",
              "  )\n",
              ")"
            ]
          },
          "metadata": {
            "tags": []
          },
          "execution_count": 52
        }
      ]
    },
    {
      "cell_type": "markdown",
      "metadata": {
        "id": "SXJHBVlxYR-l"
      },
      "source": [
        "## Load the model from the transformers library using AutoModel"
      ]
    },
    {
      "cell_type": "code",
      "metadata": {
        "id": "n8J4r6KyhveR"
      },
      "source": [
        "# # Load the pre-trained model for classification, passing in the `config` from\r\n",
        "# # above.\r\n",
        "# bert = AutoModel.from_pretrained(\r\n",
        "#     pretrained_model_name_or_path=model_name,\r\n",
        "#     config=config)\r\n",
        "\r\n",
        "# print('\\nModel type:', str(type(bert)))\r\n"
      ],
      "execution_count": null,
      "outputs": []
    },
    {
      "cell_type": "code",
      "metadata": {
        "id": "RcFMgf5EuPAF"
      },
      "source": [
        "# # freeze all the parameters\r\n",
        "# for param in bert.parameters():\r\n",
        "#     param.requires_grad = False"
      ],
      "execution_count": null,
      "outputs": []
    },
    {
      "cell_type": "markdown",
      "metadata": {
        "id": "NS_-0rBDYeY5"
      },
      "source": [
        "## Creating a custom BERT model "
      ]
    },
    {
      "cell_type": "code",
      "metadata": {
        "id": "bmGtZwykJ39i"
      },
      "source": [
        "\r\n",
        "# class BERT_Model(nn.Module):\r\n",
        "#     ## defining the constructor for the class\r\n",
        "#     def __init__(self, bert,num_labels):\r\n",
        "#       ## calling the super class constructor\r\n",
        "#       super(BERT_Model, self).__init__()\r\n",
        "#       ## adding the bert layer to the model\r\n",
        "#       self.bert = bert        \r\n",
        "#       # relu activation function\r\n",
        "#       self.relu =  nn.ReLU()\r\n",
        "#       # adding a dense layer to our custom model\r\n",
        "#       self.fc1 = nn.Linear(768,512)\r\n",
        "#       # adding another dense layer to our custom model ,i.e., the Output layer\r\n",
        "#       self.fc2 = nn.Linear(512,num_labels)\r\n",
        "#       # adding a softmax  activation function for our custom model's output layer\r\n",
        "#       self.softmax = nn.LogSoftmax(dim=1)\r\n",
        "\r\n",
        "#     #defining the forward pass\r\n",
        "#     def forward(self, input_id, mask):\r\n",
        "#       #pass the inputs to the model  \r\n",
        "#       outputs = self.bert(input_id,mask)\r\n",
        "  \r\n",
        "#       last_hidden_state = outputs.last_hidden_state       ## last hidden state from the model\r\n",
        "#       pooler_output = outputs.pooler_output               ## pooler output from the model\r\n",
        "#       ## adding a fully connected layer to the BERT model\r\n",
        "#       x = self.fc1(pooler_output)\r\n",
        "#       ## applying relu activation function\r\n",
        "#       x = self.relu(x)\r\n",
        "#       # the final output layer\r\n",
        "#       x = self.fc2(x)\r\n",
        "#       # apply softmax activation to our output layer\r\n",
        "#       x = self.softmax(x)\r\n",
        "\r\n",
        "#       return x"
      ],
      "execution_count": null,
      "outputs": []
    },
    {
      "cell_type": "code",
      "metadata": {
        "id": "jvOs0G5sh02S"
      },
      "source": [
        "\r\n",
        "\r\n",
        "# print('\\nLoading model ...')\r\n",
        "# # pass the pre-trained BERT to our define architecture\r\n",
        "# model = BERT_Model(bert,num_labels=3)\r\n",
        "\r\n",
        "# model.cuda()"
      ],
      "execution_count": null,
      "outputs": []
    },
    {
      "cell_type": "markdown",
      "metadata": {
        "id": "LjQSUqCWJTbI"
      },
      "source": [
        "## Custom Loss function"
      ]
    },
    {
      "cell_type": "code",
      "metadata": {
        "id": "iOHVl1RRJSUB"
      },
      "source": [
        "# # convert class weights to tensor\r\n",
        "# weights= torch.tensor(class_wts,dtype=torch.float)\r\n",
        "# weights = weights.to(device)\r\n",
        "\r\n",
        "# # loss function\r\n",
        "# cross_entropy  = nn.NLLLoss(weight=weights) \r\n"
      ],
      "execution_count": null,
      "outputs": []
    },
    {
      "cell_type": "markdown",
      "metadata": {
        "id": "evYV0yrQ2u_b"
      },
      "source": [
        "## Loading Optimizer"
      ]
    },
    {
      "cell_type": "code",
      "metadata": {
        "id": "8tAijXBEh7t8"
      },
      "source": [
        "# Note: AdamW is a class from the huggingface library (as opposed to pytorch) \r\n",
        "# I believe the 'W' stands for 'Weight Decay fix\"\r\n",
        "optimizer = AdamW(model.parameters(),\r\n",
        "                  lr = 2e-5, # This is the value Michael used.\r\n",
        "                  eps = 1e-8 # args.adam_epsilon  - default is 1e-8.\r\n",
        "                )\r\n"
      ],
      "execution_count": null,
      "outputs": []
    },
    {
      "cell_type": "markdown",
      "metadata": {
        "id": "s9n3_5jI2ywo"
      },
      "source": [
        "## Loading lr scheduler"
      ]
    },
    {
      "cell_type": "code",
      "metadata": {
        "id": "agidP6D6iBFI"
      },
      "source": [
        "# Number of training epochs. I chose to train for 1 simply because the training\r\n",
        "# time is long. More epochs may improve the model's accuracy.\r\n",
        "epochs = 4\r\n",
        "\r\n",
        "# Total number of training steps is [number of batches] x [number of epochs]. \r\n",
        "# Note that it's the number of *batches*, not *samples*!\r\n",
        "total_steps = len(py_inputs) * epochs\r\n",
        "\r\n",
        "# Create the learning rate scheduler.\r\n",
        "scheduler = get_linear_schedule_with_warmup(optimizer, \r\n",
        "                                            num_warmup_steps = 0, # Default value in run_glue.py\r\n",
        "                                            num_training_steps = total_steps)"
      ],
      "execution_count": null,
      "outputs": []
    },
    {
      "cell_type": "markdown",
      "metadata": {
        "id": "MDDp05Cm245e"
      },
      "source": [
        "## Training Loop"
      ]
    },
    {
      "cell_type": "code",
      "metadata": {
        "colab": {
          "base_uri": "https://localhost:8080/"
        },
        "id": "H4ERR8fBiEJn",
        "outputId": "12c4da77-29e4-4e5f-a856-e452989612ec"
      },
      "source": [
        "# We'll store a number of quantities such as training and validation loss, \r\n",
        "# validation accuracy, and timings.\r\n",
        "training_stats = {\r\n",
        "    'epoch':[],\r\n",
        "    'train_loss':[],\r\n",
        "    'Training Time':[],\r\n",
        "    'val_loss':[],\r\n",
        "    'Validation Time':[],\r\n",
        "    'train_acc':[],\r\n",
        "    'val_acc':[]\r\n",
        "}\r\n",
        "\r\n",
        "# Update every `update_interval` batches.\r\n",
        "update_interval = good_update_interval(total_iters=len(py_inputs), num_desired_updates=10)\r\n",
        "\r\n",
        "# Measure the total training time for the whole run.\r\n",
        "total_t0 = time.time()\r\n",
        "\r\n",
        "# For each epoch...\r\n",
        "for epoch_i in range(0, epochs):\r\n",
        "\r\n",
        "    predictions = []\r\n",
        "    true_labels = []\r\n",
        "    \r\n",
        "    # ========================================\r\n",
        "    #               Training\r\n",
        "    # ========================================\r\n",
        "    \r\n",
        "    # Perform one full pass over the training set.\r\n",
        "\r\n",
        "    print(\"\")\r\n",
        "    print('======== Epoch {:} / {:} ========'.format(epoch_i + 1, epochs))\r\n",
        "    \r\n",
        "    # At the start of each epoch (except for the first) we need to re-randomize\r\n",
        "    # our training data.\r\n",
        "    if epoch_i > 0:\r\n",
        "        # Use our `make_smart_batches` function (from 6.1.) to re-shuffle the \r\n",
        "        # dataset into new batches.\r\n",
        "        (py_inputs, py_attn_masks, py_labels) = make_smart_batches(train_sentences, train_labels, batch_size,tokenizer,max_input_length)\r\n",
        "    \r\n",
        "    print('Training on {:,} batches...'.format(len(py_inputs)))\r\n",
        "\r\n",
        "    # Measure how long the training epoch takes.\r\n",
        "    t0 = time.time()\r\n",
        "\r\n",
        "    # Reset the total loss for this epoch.\r\n",
        "    total_train_loss = 0\r\n",
        "\r\n",
        "    # Put the model into training mode. Don't be mislead--the call to \r\n",
        "    # `train` just changes the *mode*, it doesn't *perform* the training.\r\n",
        "    # `dropout` and `batchnorm` layers behave differently during training\r\n",
        "    # vs. test (source: https://stackoverflow.com/questions/51433378/what-does-model-train-do-in-pytorch)\r\n",
        "    model.train()\r\n",
        "\r\n",
        "    # For each batch of training data...\r\n",
        "    for step in range(0, len(py_inputs)):\r\n",
        "\r\n",
        "        # Progress update every, e.g., 100 batches.\r\n",
        "        if step % update_interval == 0 and not step == 0:\r\n",
        "            # Calculate elapsed time in minutes.\r\n",
        "            elapsed = format_time(time.time() - t0)\r\n",
        "            \r\n",
        "            # Calculate the time remaining based on our progress.\r\n",
        "            steps_per_sec = (time.time() - t0) / step\r\n",
        "            remaining_sec = steps_per_sec * (len(py_inputs) - step)\r\n",
        "            remaining = format_time(remaining_sec)\r\n",
        "\r\n",
        "            # Report progress.\r\n",
        "            print('  Batch {:>7,}  of  {:>7,}.    Elapsed: {:}.  Remaining: {:}'.format(step, len(py_inputs), elapsed, remaining))\r\n",
        "\r\n",
        "        # Copy the current training batch to the GPU using the `to` method.\r\n",
        "        b_input_ids = py_inputs[step].to(device)\r\n",
        "        b_input_mask = py_attn_masks[step].to(device)\r\n",
        "        b_labels = py_labels[step].to(device)\r\n",
        "\r\n",
        "        # Always clear any previously calculated gradients before performing a\r\n",
        "        # backward pass.\r\n",
        "        model.zero_grad()        \r\n",
        "\r\n",
        "        # Perform a forward pass (evaluate the model on this training batch).\r\n",
        "        # The call returns the loss (because we provided labels) and the \r\n",
        "        # \"logits\"--the model outputs prior to activation.\r\n",
        "        output = model(b_input_ids, \r\n",
        "                             token_type_ids=None, \r\n",
        "                             attention_mask=b_input_mask, \r\n",
        "                             labels=b_labels)\r\n",
        "\r\n",
        "        # Accumulate the training loss over all of the batches so that we can\r\n",
        "        # calculate the average loss at the end. `loss` is a Tensor containing a\r\n",
        "        # single value; the `.item()` function just returns the Python value \r\n",
        "        # from the tensor.\r\n",
        "        loss = output.loss \r\n",
        "        logits = output.logits\r\n",
        "\r\n",
        "        # Move logits and labels to CPU\r\n",
        "        logits = logits.detach().cpu().numpy()\r\n",
        "        label_ids = b_labels.to('cpu').numpy()\r\n",
        "      \r\n",
        "        # Store predictions and true labels\r\n",
        "        predictions.append(logits)\r\n",
        "        true_labels.append(label_ids)\r\n",
        "        \r\n",
        "        # Accumulate the training loss over all of the batches so that we can\r\n",
        "        # calculate the average loss at the end. `loss` is a Tensor containing a\r\n",
        "        # single value; the `.item()` function just returns the Python value \r\n",
        "        # from the tensor.\r\n",
        "        total_train_loss += loss.item()\r\n",
        "\r\n",
        "        # Perform a backward pass to calculate the gradients.\r\n",
        "        loss.backward()\r\n",
        "\r\n",
        "        # Clip the norm of the gradients to 1.0.\r\n",
        "        # This is to help prevent the \"exploding gradients\" problem.\r\n",
        "        torch.nn.utils.clip_grad_norm_(model.parameters(), 1.0)\r\n",
        "\r\n",
        "        # Update parameters and take a step using the computed gradient.\r\n",
        "        # The optimizer dictates the \"update rule\"--how the parameters are\r\n",
        "        # modified based on their gradients, the learning rate, etc.\r\n",
        "        optimizer.step()\r\n",
        "\r\n",
        "        # Update the learning rate.\r\n",
        "        scheduler.step()\r\n",
        "\r\n",
        "    # Calculate the average loss over all of the batches.\r\n",
        "    avg_train_loss = total_train_loss / len(py_inputs)     \r\n",
        "       \r\n",
        "    training_accuracy = check_accuracy(predictions,true_labels)       \r\n",
        "    \r\n",
        "    # Measure how long this epoch took.\r\n",
        "    training_time = format_time(time.time() - t0)\r\n",
        "\r\n",
        "    print(\"\")\r\n",
        "    print(\"  Average training loss: {0:.2f}\".format(avg_train_loss))\r\n",
        "    print(\"  Training Accuracy: {0:.2f}\".format(training_accuracy))\r\n",
        "    print(\"  Training epoch took: {:}\".format(training_time))\r\n",
        "        \r\n",
        "    (py_inputs, py_attn_masks, py_labels) = make_smart_batches(val_sentences, val_labels, batch_size ,tokenizer,max_input_length)\r\n",
        "    val_loss,val_accuracy,validation_time = eval_model(model,py_inputs, py_attn_masks, py_labels)  \r\n",
        "    # Record all statistics from this epoch.\r\n",
        "\r\n",
        "    print(\"\")\r\n",
        "    print(\"  Average validation loss: {0:.2f}\".format(val_loss))\r\n",
        "    print(\"  Validation Accuracy: {0:.2f}\".format(val_accuracy))\r\n",
        "    print(\"  Validation epoch took: {:}\".format(validation_time))\r\n",
        "    \r\n",
        "    \r\n",
        "    training_stats['epoch'].append(epoch_i + 1)\r\n",
        "    training_stats['train_loss'].append(avg_train_loss)\r\n",
        "    training_stats['Training Time'].append(training_time)\r\n",
        "    training_stats['val_loss'].append(val_loss)\r\n",
        "    training_stats['Validation Time'].append(validation_time)\r\n",
        "    training_stats['train_acc'].append(training_accuracy)\r\n",
        "    training_stats['val_acc'].append(val_accuracy)\r\n",
        "\r\n",
        "print(\"\")\r\n",
        "print(\"Training complete!\")\r\n",
        "\r\n",
        "print(\"Total training took {:} (h:mm:ss)\".format(format_time(time.time()-total_t0)))"
      ],
      "execution_count": null,
      "outputs": [
        {
          "output_type": "stream",
          "text": [
            "\n",
            "======== Epoch 1 / 4 ========\n",
            "Training on 389 batches...\n",
            "  Batch      40  of      389.    Elapsed: 0:00:07.  Remaining: 0:01:03\n",
            "  Batch      80  of      389.    Elapsed: 0:00:14.  Remaining: 0:00:53\n",
            "  Batch     120  of      389.    Elapsed: 0:00:21.  Remaining: 0:00:47\n",
            "  Batch     160  of      389.    Elapsed: 0:00:27.  Remaining: 0:00:39\n",
            "  Batch     200  of      389.    Elapsed: 0:00:34.  Remaining: 0:00:32\n",
            "  Batch     240  of      389.    Elapsed: 0:00:41.  Remaining: 0:00:26\n",
            "  Batch     280  of      389.    Elapsed: 0:00:48.  Remaining: 0:00:19\n",
            "  Batch     320  of      389.    Elapsed: 0:00:55.  Remaining: 0:00:12\n",
            "  Batch     360  of      389.    Elapsed: 0:01:01.  Remaining: 0:00:05\n",
            "\n",
            "  Average training loss: 1.04\n",
            "  Training Accuracy: 0.64\n",
            "  Training epoch took: 0:01:07\n",
            "Creating Smart Batches from 777 examples with batch size 16...\n",
            "\n",
            "Tokenizing 777 samples...\n",
            "  Tokenized 0 samples.\n",
            "  Tokenized 80 samples.\n",
            "  Tokenized 160 samples.\n",
            "  Tokenized 240 samples.\n",
            "  Tokenized 320 samples.\n",
            "  Tokenized 400 samples.\n",
            "  Tokenized 480 samples.\n",
            "  Tokenized 560 samples.\n",
            "  Tokenized 640 samples.\n",
            "  Tokenized 720 samples.\n",
            "DONE.\n",
            "       777 samples\n",
            "\n",
            "       777 samples after sorting\n",
            "\n",
            "Creating batches of size 16...\n",
            "\n",
            "  DONE - Selected 49 batches.\n",
            "\n",
            "Padding out sequences within each batch...\n",
            "  DONE.\n",
            "Doing validation on 49 sentences...\n",
            "  Batch       5  of       49.    Elapsed: 0:00:00.  Remaining: 0:00:01\n",
            "  Batch      10  of       49.    Elapsed: 0:00:00.  Remaining: 0:00:01\n",
            "  Batch      15  of       49.    Elapsed: 0:00:00.  Remaining: 0:00:01\n",
            "  Batch      20  of       49.    Elapsed: 0:00:00.  Remaining: 0:00:00\n",
            "  Batch      25  of       49.    Elapsed: 0:00:00.  Remaining: 0:00:00\n",
            "  Batch      30  of       49.    Elapsed: 0:00:01.  Remaining: 0:00:00\n",
            "  Batch      35  of       49.    Elapsed: 0:00:01.  Remaining: 0:00:00\n",
            "  Batch      40  of       49.    Elapsed: 0:00:01.  Remaining: 0:00:00\n",
            "  Batch      45  of       49.    Elapsed: 0:00:01.  Remaining: 0:00:00\n",
            "\n",
            "  Average validation loss: 0.95\n",
            "  Validation Accuracy: 0.67\n",
            "  Validation epoch took: 0:00:01\n",
            "\n",
            "======== Epoch 2 / 4 ========\n",
            "Creating Smart Batches from 6,217 examples with batch size 16...\n",
            "\n",
            "Tokenizing 6,217 samples...\n",
            "  Tokenized 0 samples.\n",
            "  Tokenized 600 samples.\n",
            "  Tokenized 1,200 samples.\n",
            "  Tokenized 1,800 samples.\n",
            "  Tokenized 2,400 samples.\n",
            "  Tokenized 3,000 samples.\n",
            "  Tokenized 3,600 samples.\n",
            "  Tokenized 4,200 samples.\n",
            "  Tokenized 4,800 samples.\n",
            "  Tokenized 5,400 samples.\n",
            "  Tokenized 6,000 samples.\n",
            "DONE.\n",
            "     6,217 samples\n",
            "\n",
            "     6,217 samples after sorting\n",
            "\n",
            "Creating batches of size 16...\n",
            "\n",
            "  DONE - Selected 389 batches.\n",
            "\n",
            "Padding out sequences within each batch...\n",
            "  DONE.\n",
            "Training on 389 batches...\n",
            "  Batch      40  of      389.    Elapsed: 0:00:07.  Remaining: 0:01:02\n",
            "  Batch      80  of      389.    Elapsed: 0:00:14.  Remaining: 0:00:53\n",
            "  Batch     120  of      389.    Elapsed: 0:00:20.  Remaining: 0:00:46\n",
            "  Batch     160  of      389.    Elapsed: 0:00:27.  Remaining: 0:00:39\n",
            "  Batch     200  of      389.    Elapsed: 0:00:34.  Remaining: 0:00:32\n",
            "  Batch     240  of      389.    Elapsed: 0:00:41.  Remaining: 0:00:26\n",
            "  Batch     280  of      389.    Elapsed: 0:00:48.  Remaining: 0:00:19\n",
            "  Batch     320  of      389.    Elapsed: 0:00:56.  Remaining: 0:00:12\n",
            "  Batch     360  of      389.    Elapsed: 0:01:03.  Remaining: 0:00:05\n",
            "\n",
            "  Average training loss: 0.85\n",
            "  Training Accuracy: 0.72\n",
            "  Training epoch took: 0:01:08\n",
            "Creating Smart Batches from 777 examples with batch size 16...\n",
            "\n",
            "Tokenizing 777 samples...\n",
            "  Tokenized 0 samples.\n",
            "  Tokenized 80 samples.\n",
            "  Tokenized 160 samples.\n",
            "  Tokenized 240 samples.\n",
            "  Tokenized 320 samples.\n",
            "  Tokenized 400 samples.\n",
            "  Tokenized 480 samples.\n",
            "  Tokenized 560 samples.\n",
            "  Tokenized 640 samples.\n",
            "  Tokenized 720 samples.\n",
            "DONE.\n",
            "       777 samples\n",
            "\n",
            "       777 samples after sorting\n",
            "\n",
            "Creating batches of size 16...\n",
            "\n",
            "  DONE - Selected 49 batches.\n",
            "\n",
            "Padding out sequences within each batch...\n",
            "  DONE.\n",
            "Doing validation on 49 sentences...\n",
            "  Batch       5  of       49.    Elapsed: 0:00:00.  Remaining: 0:00:01\n",
            "  Batch      10  of       49.    Elapsed: 0:00:00.  Remaining: 0:00:01\n",
            "  Batch      15  of       49.    Elapsed: 0:00:00.  Remaining: 0:00:01\n",
            "  Batch      20  of       49.    Elapsed: 0:00:01.  Remaining: 0:00:01\n",
            "  Batch      25  of       49.    Elapsed: 0:00:01.  Remaining: 0:00:01\n",
            "  Batch      30  of       49.    Elapsed: 0:00:01.  Remaining: 0:00:00\n",
            "  Batch      35  of       49.    Elapsed: 0:00:01.  Remaining: 0:00:00\n",
            "  Batch      40  of       49.    Elapsed: 0:00:01.  Remaining: 0:00:00\n",
            "  Batch      45  of       49.    Elapsed: 0:00:01.  Remaining: 0:00:00\n",
            "\n",
            "  Average validation loss: 0.88\n",
            "  Validation Accuracy: 0.69\n",
            "  Validation epoch took: 0:00:01\n",
            "\n",
            "======== Epoch 3 / 4 ========\n",
            "Creating Smart Batches from 6,217 examples with batch size 16...\n",
            "\n",
            "Tokenizing 6,217 samples...\n",
            "  Tokenized 0 samples.\n",
            "  Tokenized 600 samples.\n",
            "  Tokenized 1,200 samples.\n",
            "  Tokenized 1,800 samples.\n",
            "  Tokenized 2,400 samples.\n",
            "  Tokenized 3,000 samples.\n",
            "  Tokenized 3,600 samples.\n",
            "  Tokenized 4,200 samples.\n",
            "  Tokenized 4,800 samples.\n",
            "  Tokenized 5,400 samples.\n",
            "  Tokenized 6,000 samples.\n",
            "DONE.\n",
            "     6,217 samples\n",
            "\n",
            "     6,217 samples after sorting\n",
            "\n",
            "Creating batches of size 16...\n",
            "\n",
            "  DONE - Selected 389 batches.\n",
            "\n",
            "Padding out sequences within each batch...\n",
            "  DONE.\n",
            "Training on 389 batches...\n",
            "  Batch      40  of      389.    Elapsed: 0:00:07.  Remaining: 0:00:58\n",
            "  Batch      80  of      389.    Elapsed: 0:00:13.  Remaining: 0:00:52\n",
            "  Batch     120  of      389.    Elapsed: 0:00:20.  Remaining: 0:00:46\n",
            "  Batch     160  of      389.    Elapsed: 0:00:27.  Remaining: 0:00:39\n",
            "  Batch     200  of      389.    Elapsed: 0:00:34.  Remaining: 0:00:32\n",
            "  Batch     240  of      389.    Elapsed: 0:00:41.  Remaining: 0:00:25\n",
            "  Batch     280  of      389.    Elapsed: 0:00:48.  Remaining: 0:00:19\n",
            "  Batch     320  of      389.    Elapsed: 0:00:55.  Remaining: 0:00:12\n",
            "  Batch     360  of      389.    Elapsed: 0:01:01.  Remaining: 0:00:05\n",
            "\n",
            "  Average training loss: 0.76\n",
            "  Training Accuracy: 0.74\n",
            "  Training epoch took: 0:01:08\n",
            "Creating Smart Batches from 777 examples with batch size 16...\n",
            "\n",
            "Tokenizing 777 samples...\n",
            "  Tokenized 0 samples.\n",
            "  Tokenized 80 samples.\n",
            "  Tokenized 160 samples.\n",
            "  Tokenized 240 samples.\n",
            "  Tokenized 320 samples.\n",
            "  Tokenized 400 samples.\n",
            "  Tokenized 480 samples.\n",
            "  Tokenized 560 samples.\n",
            "  Tokenized 640 samples.\n",
            "  Tokenized 720 samples.\n",
            "DONE.\n",
            "       777 samples\n",
            "\n",
            "       777 samples after sorting\n",
            "\n",
            "Creating batches of size 16...\n",
            "\n",
            "  DONE - Selected 49 batches.\n",
            "\n",
            "Padding out sequences within each batch...\n",
            "  DONE.\n",
            "Doing validation on 49 sentences...\n",
            "  Batch       5  of       49.    Elapsed: 0:00:00.  Remaining: 0:00:01\n",
            "  Batch      10  of       49.    Elapsed: 0:00:00.  Remaining: 0:00:01\n",
            "  Batch      15  of       49.    Elapsed: 0:00:00.  Remaining: 0:00:01\n",
            "  Batch      20  of       49.    Elapsed: 0:00:00.  Remaining: 0:00:01\n",
            "  Batch      25  of       49.    Elapsed: 0:00:01.  Remaining: 0:00:00\n",
            "  Batch      30  of       49.    Elapsed: 0:00:01.  Remaining: 0:00:00\n",
            "  Batch      35  of       49.    Elapsed: 0:00:01.  Remaining: 0:00:00\n",
            "  Batch      40  of       49.    Elapsed: 0:00:01.  Remaining: 0:00:00\n",
            "  Batch      45  of       49.    Elapsed: 0:00:01.  Remaining: 0:00:00\n",
            "\n",
            "  Average validation loss: 0.89\n",
            "  Validation Accuracy: 0.71\n",
            "  Validation epoch took: 0:00:01\n",
            "\n",
            "======== Epoch 4 / 4 ========\n",
            "Creating Smart Batches from 6,217 examples with batch size 16...\n",
            "\n",
            "Tokenizing 6,217 samples...\n",
            "  Tokenized 0 samples.\n",
            "  Tokenized 600 samples.\n",
            "  Tokenized 1,200 samples.\n",
            "  Tokenized 1,800 samples.\n",
            "  Tokenized 2,400 samples.\n",
            "  Tokenized 3,000 samples.\n",
            "  Tokenized 3,600 samples.\n",
            "  Tokenized 4,200 samples.\n",
            "  Tokenized 4,800 samples.\n",
            "  Tokenized 5,400 samples.\n",
            "  Tokenized 6,000 samples.\n",
            "DONE.\n",
            "     6,217 samples\n",
            "\n",
            "     6,217 samples after sorting\n",
            "\n",
            "Creating batches of size 16...\n",
            "\n",
            "  DONE - Selected 389 batches.\n",
            "\n",
            "Padding out sequences within each batch...\n",
            "  DONE.\n",
            "Training on 389 batches...\n",
            "  Batch      40  of      389.    Elapsed: 0:00:07.  Remaining: 0:00:59\n",
            "  Batch      80  of      389.    Elapsed: 0:00:14.  Remaining: 0:00:53\n",
            "  Batch     120  of      389.    Elapsed: 0:00:21.  Remaining: 0:00:46\n",
            "  Batch     160  of      389.    Elapsed: 0:00:28.  Remaining: 0:00:40\n",
            "  Batch     200  of      389.    Elapsed: 0:00:35.  Remaining: 0:00:33\n",
            "  Batch     240  of      389.    Elapsed: 0:00:42.  Remaining: 0:00:26\n",
            "  Batch     280  of      389.    Elapsed: 0:00:49.  Remaining: 0:00:19\n",
            "  Batch     320  of      389.    Elapsed: 0:00:55.  Remaining: 0:00:12\n",
            "  Batch     360  of      389.    Elapsed: 0:01:02.  Remaining: 0:00:05\n",
            "\n",
            "  Average training loss: 0.70\n",
            "  Training Accuracy: 0.76\n",
            "  Training epoch took: 0:01:08\n",
            "Creating Smart Batches from 777 examples with batch size 16...\n",
            "\n",
            "Tokenizing 777 samples...\n",
            "  Tokenized 0 samples.\n",
            "  Tokenized 80 samples.\n",
            "  Tokenized 160 samples.\n",
            "  Tokenized 240 samples.\n",
            "  Tokenized 320 samples.\n",
            "  Tokenized 400 samples.\n",
            "  Tokenized 480 samples.\n",
            "  Tokenized 560 samples.\n",
            "  Tokenized 640 samples.\n",
            "  Tokenized 720 samples.\n",
            "DONE.\n",
            "       777 samples\n",
            "\n",
            "       777 samples after sorting\n",
            "\n",
            "Creating batches of size 16...\n",
            "\n",
            "  DONE - Selected 49 batches.\n",
            "\n",
            "Padding out sequences within each batch...\n",
            "  DONE.\n",
            "Doing validation on 49 sentences...\n",
            "  Batch       5  of       49.    Elapsed: 0:00:00.  Remaining: 0:00:01\n",
            "  Batch      10  of       49.    Elapsed: 0:00:00.  Remaining: 0:00:01\n",
            "  Batch      15  of       49.    Elapsed: 0:00:00.  Remaining: 0:00:01\n",
            "  Batch      20  of       49.    Elapsed: 0:00:01.  Remaining: 0:00:01\n",
            "  Batch      25  of       49.    Elapsed: 0:00:01.  Remaining: 0:00:01\n",
            "  Batch      30  of       49.    Elapsed: 0:00:01.  Remaining: 0:00:00\n",
            "  Batch      35  of       49.    Elapsed: 0:00:01.  Remaining: 0:00:00\n",
            "  Batch      40  of       49.    Elapsed: 0:00:01.  Remaining: 0:00:00\n",
            "  Batch      45  of       49.    Elapsed: 0:00:01.  Remaining: 0:00:00\n",
            "\n",
            "  Average validation loss: 0.88\n",
            "  Validation Accuracy: 0.70\n",
            "  Validation epoch took: 0:00:01\n",
            "\n",
            "Training complete!\n",
            "Total training took 0:04:39 (h:mm:ss)\n"
          ],
          "name": "stdout"
        }
      ]
    },
    {
      "cell_type": "code",
      "metadata": {
        "colab": {
          "base_uri": "https://localhost:8080/",
          "height": 426
        },
        "id": "GOmua_S1eXNM",
        "outputId": "6348216c-bd47-4041-9b51-578de61c9813"
      },
      "source": [
        "plot_training_history(training_stats)"
      ],
      "execution_count": null,
      "outputs": [
        {
          "output_type": "display_data",
          "data": {
            "image/png": "[encoded data removed]",
            "text/plain": [
              "<Figure size 1296x432 with 2 Axes>"
            ]
          },
          "metadata": {
            "tags": []
          }
        }
      ]
    },
    {
      "cell_type": "markdown",
      "metadata": {
        "id": "3c-6bOIxVyrM"
      },
      "source": [
        "## Evaluating Performance Over Training Set"
      ]
    },
    {
      "cell_type": "code",
      "metadata": {
        "colab": {
          "base_uri": "https://localhost:8080/"
        },
        "id": "2QmKPNAeWHkZ",
        "outputId": "e5405b57-1996-43a8-9054-100ed6711498"
      },
      "source": [
        "(py_inputs, py_attn_masks, py_labels) = make_smart_batches(train_sentences, train_labels, batch_size ,tokenizer,max_input_length)\r\n",
        "\r\n",
        "y_pred , y_true = get_predictions(py_inputs, py_attn_masks, py_labels)\r\n"
      ],
      "execution_count": null,
      "outputs": [
        {
          "output_type": "stream",
          "text": [
            "Creating Smart Batches from 6,217 examples with batch size 16...\n",
            "\n",
            "Tokenizing 6,217 samples...\n",
            "  Tokenized 0 samples.\n",
            "  Tokenized 600 samples.\n",
            "  Tokenized 1,200 samples.\n",
            "  Tokenized 1,800 samples.\n",
            "  Tokenized 2,400 samples.\n",
            "  Tokenized 3,000 samples.\n",
            "  Tokenized 3,600 samples.\n",
            "  Tokenized 4,200 samples.\n",
            "  Tokenized 4,800 samples.\n",
            "  Tokenized 5,400 samples.\n",
            "  Tokenized 6,000 samples.\n",
            "DONE.\n",
            "     6,217 samples\n",
            "\n",
            "     6,217 samples after sorting\n",
            "\n",
            "Creating batches of size 16...\n",
            "\n",
            "  DONE - Selected 389 batches.\n",
            "\n",
            "Padding out sequences within each batch...\n",
            "  DONE.\n",
            "Predicting labels for 389 test batches...\n",
            "  Batch      40  of      389.    Elapsed: 0:00:01.  Remaining: 0:00:10\n",
            "  Batch      80  of      389.    Elapsed: 0:00:02.  Remaining: 0:00:08\n",
            "  Batch     120  of      389.    Elapsed: 0:00:03.  Remaining: 0:00:07\n",
            "  Batch     160  of      389.    Elapsed: 0:00:04.  Remaining: 0:00:05\n",
            "  Batch     200  of      389.    Elapsed: 0:00:04.  Remaining: 0:00:04\n",
            "  Batch     240  of      389.    Elapsed: 0:00:05.  Remaining: 0:00:03\n",
            "  Batch     280  of      389.    Elapsed: 0:00:06.  Remaining: 0:00:02\n",
            "  Batch     320  of      389.    Elapsed: 0:00:07.  Remaining: 0:00:01\n",
            "  Batch     360  of      389.    Elapsed: 0:00:07.  Remaining: 0:00:01\n"
          ],
          "name": "stdout"
        }
      ]
    },
    {
      "cell_type": "code",
      "metadata": {
        "colab": {
          "base_uri": "https://localhost:8080/"
        },
        "id": "uXsVn0wngZhv",
        "outputId": "a0e56276-654c-4b17-b82c-849dee654387"
      },
      "source": [
        "print(classification_report(y_true, y_pred, target_names=class_names))"
      ],
      "execution_count": null,
      "outputs": [
        {
          "output_type": "stream",
          "text": [
            "                                      precision    recall  f1-score   support\n",
            "\n",
            "                       Not_offensive       0.82      0.90      0.86      3544\n",
            "     Offensive_Targeted_Insult_Group       0.54      0.22      0.31       329\n",
            "Offensive_Targeted_Insult_Individual       0.69      0.73      0.71       487\n",
            "     Offensive_Targeted_Insult_Other       0.00      0.00      0.00       123\n",
            "               Offensive_Untargetede       0.00      0.00      0.00       212\n",
            "                         not-Kannada       0.79      0.89      0.84      1522\n",
            "\n",
            "                            accuracy                           0.80      6217\n",
            "                           macro avg       0.47      0.45      0.45      6217\n",
            "                        weighted avg       0.75      0.80      0.77      6217\n",
            "\n"
          ],
          "name": "stdout"
        },
        {
          "output_type": "stream",
          "text": [
            "/usr/local/lib/python3.6/dist-packages/sklearn/metrics/_classification.py:1272: UndefinedMetricWarning: Precision and F-score are ill-defined and being set to 0.0 in labels with no predicted samples. Use `zero_division` parameter to control this behavior.\n",
            "  _warn_prf(average, modifier, msg_start, len(result))\n"
          ],
          "name": "stderr"
        }
      ]
    },
    {
      "cell_type": "code",
      "metadata": {
        "colab": {
          "base_uri": "https://localhost:8080/",
          "height": 555
        },
        "id": "guClUdRhYPql",
        "outputId": "fc461f19-79c9-4e67-8839-017c47aca385"
      },
      "source": [
        "cm = confusion_matrix(y_true, y_pred)\r\n",
        "show_confusion_matrix(cm, class_names)"
      ],
      "execution_count": null,
      "outputs": [
        {
          "output_type": "display_data",
          "data": {
            "image/png": "[encoded data removed]",
            "text/plain": [
              "<Figure size 864x432 with 2 Axes>"
            ]
          },
          "metadata": {
            "tags": []
          }
        }
      ]
    },
    {
      "cell_type": "markdown",
      "metadata": {
        "id": "VM2N-X1tV3il"
      },
      "source": [
        "## Evaluating Performance Over Validation Set"
      ]
    },
    {
      "cell_type": "code",
      "metadata": {
        "colab": {
          "base_uri": "https://localhost:8080/"
        },
        "id": "BnadNvtxWIYw",
        "outputId": "14ff54b5-a47f-4049-e0ec-31cde486dfbf"
      },
      "source": [
        "(py_inputs, py_attn_masks, py_labels) = make_smart_batches(val_sentences, val_labels, batch_size ,tokenizer,max_input_length)\r\n",
        "\r\n",
        "y_pred , y_true = get_predictions(py_inputs, py_attn_masks, py_labels)"
      ],
      "execution_count": null,
      "outputs": [
        {
          "output_type": "stream",
          "text": [
            "Creating Smart Batches from 777 examples with batch size 16...\n",
            "\n",
            "Tokenizing 777 samples...\n",
            "  Tokenized 0 samples.\n",
            "  Tokenized 80 samples.\n",
            "  Tokenized 160 samples.\n",
            "  Tokenized 240 samples.\n",
            "  Tokenized 320 samples.\n",
            "  Tokenized 400 samples.\n",
            "  Tokenized 480 samples.\n",
            "  Tokenized 560 samples.\n",
            "  Tokenized 640 samples.\n",
            "  Tokenized 720 samples.\n",
            "DONE.\n",
            "       777 samples\n",
            "\n",
            "       777 samples after sorting\n",
            "\n",
            "Creating batches of size 16...\n",
            "\n",
            "  DONE - Selected 49 batches.\n",
            "\n",
            "Padding out sequences within each batch...\n",
            "  DONE.\n",
            "Predicting labels for 49 test batches...\n",
            "  Batch       5  of       49.    Elapsed: 0:00:00.  Remaining: 0:00:01\n",
            "  Batch      10  of       49.    Elapsed: 0:00:00.  Remaining: 0:00:01\n",
            "  Batch      15  of       49.    Elapsed: 0:00:00.  Remaining: 0:00:01\n",
            "  Batch      20  of       49.    Elapsed: 0:00:00.  Remaining: 0:00:01\n",
            "  Batch      25  of       49.    Elapsed: 0:00:01.  Remaining: 0:00:00\n",
            "  Batch      30  of       49.    Elapsed: 0:00:01.  Remaining: 0:00:00\n",
            "  Batch      35  of       49.    Elapsed: 0:00:01.  Remaining: 0:00:00\n",
            "  Batch      40  of       49.    Elapsed: 0:00:01.  Remaining: 0:00:00\n",
            "  Batch      45  of       49.    Elapsed: 0:00:01.  Remaining: 0:00:00\n"
          ],
          "name": "stdout"
        }
      ]
    },
    {
      "cell_type": "code",
      "metadata": {
        "colab": {
          "base_uri": "https://localhost:8080/"
        },
        "id": "wAjlATBPgh7c",
        "outputId": "eda170fd-5cf2-405a-92ea-727afdd2efd6"
      },
      "source": [
        "print(classification_report(y_true, y_pred, target_names=class_names))"
      ],
      "execution_count": null,
      "outputs": [
        {
          "output_type": "stream",
          "text": [
            "                                      precision    recall  f1-score   support\n",
            "\n",
            "                       Not_offensive       0.73      0.84      0.78       426\n",
            "     Offensive_Targeted_Insult_Group       0.28      0.11      0.16        45\n",
            "Offensive_Targeted_Insult_Individual       0.56      0.59      0.57        66\n",
            "     Offensive_Targeted_Insult_Other       0.00      0.00      0.00        16\n",
            "               Offensive_Untargetede       0.00      0.00      0.00        33\n",
            "                         not-Kannada       0.71      0.75      0.73       191\n",
            "\n",
            "                            accuracy                           0.70       777\n",
            "                           macro avg       0.38      0.38      0.37       777\n",
            "                        weighted avg       0.64      0.70      0.66       777\n",
            "\n"
          ],
          "name": "stdout"
        },
        {
          "output_type": "stream",
          "text": [
            "/usr/local/lib/python3.6/dist-packages/sklearn/metrics/_classification.py:1272: UndefinedMetricWarning: Precision and F-score are ill-defined and being set to 0.0 in labels with no predicted samples. Use `zero_division` parameter to control this behavior.\n",
            "  _warn_prf(average, modifier, msg_start, len(result))\n"
          ],
          "name": "stderr"
        }
      ]
    },
    {
      "cell_type": "code",
      "metadata": {
        "colab": {
          "base_uri": "https://localhost:8080/",
          "height": 555
        },
        "id": "7nELY57NYshD",
        "outputId": "83c266a1-8be5-4292-f8d8-a9ceb185ce05"
      },
      "source": [
        "cm = confusion_matrix(y_true, y_pred)\r\n",
        "show_confusion_matrix(cm, class_names)"
      ],
      "execution_count": null,
      "outputs": [
        {
          "output_type": "display_data",
          "data": {
            "image/png": "[encoded data removed]",
            "text/plain": [
              "<Figure size 864x432 with 2 Axes>"
            ]
          },
          "metadata": {
            "tags": []
          }
        }
      ]
    },
    {
      "cell_type": "markdown",
      "metadata": {
        "id": "_crczjW6V-QK"
      },
      "source": [
        "## Making Predictions on Test Set"
      ]
    },
    {
      "cell_type": "code",
      "metadata": {
        "id": "lETtjTatLo91"
      },
      "source": [
        "test_df_path = join(dataset_dir,'kannada_offensive_test.csv')\r\n",
        "test_df = pd.read_csv(test_df_path)"
      ],
      "execution_count": null,
      "outputs": []
    },
    {
      "cell_type": "code",
      "metadata": {
        "colab": {
          "base_uri": "https://localhost:8080/",
          "height": 419
        },
        "id": "d_83fOUwqn0w",
        "outputId": "2b3dfa2f-46c3-48d3-fe1f-4630ba892933"
      },
      "source": [
        "test_df"
      ],
      "execution_count": null,
      "outputs": [
        {
          "output_type": "execute_result",
          "data": {
            "text/html": [
              "<div>\n",
              "<style scoped>\n",
              "    .dataframe tbody tr th:only-of-type {\n",
              "        vertical-align: middle;\n",
              "    }\n",
              "\n",
              "    .dataframe tbody tr th {\n",
              "        vertical-align: top;\n",
              "    }\n",
              "\n",
              "    .dataframe thead th {\n",
              "        text-align: right;\n",
              "    }\n",
              "</style>\n",
              "<table border=\"1\" class=\"dataframe\">\n",
              "  <thead>\n",
              "    <tr style=\"text-align: right;\">\n",
              "      <th></th>\n",
              "      <th>text</th>\n",
              "    </tr>\n",
              "  </thead>\n",
              "  <tbody>\n",
              "    <tr>\n",
              "      <th>0</th>\n",
              "      <td>ಜೈ ಮೋರಿ ಜೈ ರೋಗಿ ಇಸ್ಲಾಂ ಸಾಯಿಸಿ ಇದೆ ಇವರ ಗುರಿ</td>\n",
              "    </tr>\n",
              "    <tr>\n",
              "      <th>1</th>\n",
              "      <td>Anna nim e vedio nodinu mathe chaina apps use ...</td>\n",
              "    </tr>\n",
              "    <tr>\n",
              "      <th>2</th>\n",
              "      <td>Super anna yenu thappila yela sari agi hellidi...</td>\n",
              "    </tr>\n",
              "    <tr>\n",
              "      <th>3</th>\n",
              "      <td>Super sir super super super super</td>\n",
              "    </tr>\n",
              "    <tr>\n",
              "      <th>4</th>\n",
              "      <td>AGT-KELU (KANNADA RAP 2019)</td>\n",
              "    </tr>\n",
              "    <tr>\n",
              "      <th>...</th>\n",
              "      <td>...</td>\n",
              "    </tr>\n",
              "    <tr>\n",
              "      <th>773</th>\n",
              "      <td>Startup start maadalu capacity growth maadalu ...</td>\n",
              "    </tr>\n",
              "    <tr>\n",
              "      <th>774</th>\n",
              "      <td>Rashmika idanna nodi thi*a urkimbeku🤣🤣🤣🤣🤣</td>\n",
              "    </tr>\n",
              "    <tr>\n",
              "      <th>775</th>\n",
              "      <td>I love you sir</td>\n",
              "    </tr>\n",
              "    <tr>\n",
              "      <th>776</th>\n",
              "      <td>ನೋಡ್ತಾ ಹೋದ್ರೆ ಸಾವಿರಾರು lyrical video ಗಳು</td>\n",
              "    </tr>\n",
              "    <tr>\n",
              "      <th>777</th>\n",
              "      <td>ಸಖತ್ ಟ್ರೋಲ್ ಬ್ರದರ್ nಬ್ರೊ ಈ ಗೇಮ್ ನೇಮ್ ಹೇಳಿ</td>\n",
              "    </tr>\n",
              "  </tbody>\n",
              "</table>\n",
              "<p>778 rows × 1 columns</p>\n",
              "</div>"
            ],
            "text/plain": [
              "                                                  text\n",
              "0           ಜೈ ಮೋರಿ ಜೈ ರೋಗಿ ಇಸ್ಲಾಂ ಸಾಯಿಸಿ ಇದೆ ಇವರ ಗುರಿ\n",
              "1    Anna nim e vedio nodinu mathe chaina apps use ...\n",
              "2    Super anna yenu thappila yela sari agi hellidi...\n",
              "3                    Super sir super super super super\n",
              "4                          AGT-KELU (KANNADA RAP 2019)\n",
              "..                                                 ...\n",
              "773  Startup start maadalu capacity growth maadalu ...\n",
              "774          Rashmika idanna nodi thi*a urkimbeku🤣🤣🤣🤣🤣\n",
              "775                                     I love you sir\n",
              "776           ನೋಡ್ತಾ ಹೋದ್ರೆ ಸಾವಿರಾರು lyrical video ಗಳು\n",
              "777         ಸಖತ್ ಟ್ರೋಲ್ ಬ್ರದರ್ nಬ್ರೊ ಈ ಗೇಮ್ ನೇಮ್ ಹೇಳಿ\n",
              "\n",
              "[778 rows x 1 columns]"
            ]
          },
          "metadata": {
            "tags": []
          },
          "execution_count": 69
        }
      ]
    },
    {
      "cell_type": "markdown",
      "metadata": {
        "id": "NjAQaP_na7HN"
      },
      "source": [
        "## Loading `test_sentences`"
      ]
    },
    {
      "cell_type": "code",
      "metadata": {
        "id": "WnnscvKOjl6b"
      },
      "source": [
        "test_sentences = test_df['text'].values \r\n",
        "test_ids = test_df.index.values"
      ],
      "execution_count": null,
      "outputs": []
    },
    {
      "cell_type": "code",
      "metadata": {
        "colab": {
          "base_uri": "https://localhost:8080/"
        },
        "id": "glrG0ZI4imGN",
        "outputId": "1b97f34f-0f80-43f1-9466-a688dc96c1fd"
      },
      "source": [
        "(py_inputs, py_attn_masks, py_ids) = make_smart_batches_on_test(test_sentences, test_ids, batch_size,tokenizer,max_input_length)"
      ],
      "execution_count": null,
      "outputs": [
        {
          "output_type": "stream",
          "text": [
            "Creating Smart Batches from 778 examples with batch size 16...\n",
            "\n",
            "Tokenizing 778 samples...\n",
            "  Tokenized 0 samples.\n",
            "  Tokenized 80 samples.\n",
            "  Tokenized 160 samples.\n",
            "  Tokenized 240 samples.\n",
            "  Tokenized 320 samples.\n",
            "  Tokenized 400 samples.\n",
            "  Tokenized 480 samples.\n",
            "  Tokenized 560 samples.\n",
            "  Tokenized 640 samples.\n",
            "  Tokenized 720 samples.\n",
            "DONE.\n",
            "       778 samples\n",
            "\n",
            "       778 samples after sorting\n",
            "\n",
            "Creating batches of size 16...\n",
            "\n",
            "  DONE - Selected 49 batches.\n",
            "\n",
            "Padding out sequences within each batch...\n",
            "  DONE.\n"
          ],
          "name": "stdout"
        }
      ]
    },
    {
      "cell_type": "markdown",
      "metadata": {
        "id": "a4FMxCyZbJaG"
      },
      "source": [
        "## Evaluating accuracy over test set"
      ]
    },
    {
      "cell_type": "code",
      "metadata": {
        "colab": {
          "base_uri": "https://localhost:8080/"
        },
        "id": "PiuSwCUDiv8p",
        "outputId": "d01d1a93-9eef-4449-c2c3-d1a7e15e7642"
      },
      "source": [
        "test_ids , test_preds = get_predictions_on_test(py_inputs, py_attn_masks,py_ids)\r\n"
      ],
      "execution_count": null,
      "outputs": [
        {
          "output_type": "stream",
          "text": [
            "Predicting labels for 49 test batches...\n",
            "  Batch       5  of       49.    Elapsed: 0:00:00.  Remaining: 0:00:01\n",
            "  Batch      10  of       49.    Elapsed: 0:00:00.  Remaining: 0:00:01\n",
            "  Batch      15  of       49.    Elapsed: 0:00:00.  Remaining: 0:00:01\n",
            "  Batch      20  of       49.    Elapsed: 0:00:00.  Remaining: 0:00:01\n",
            "  Batch      25  of       49.    Elapsed: 0:00:00.  Remaining: 0:00:00\n",
            "  Batch      30  of       49.    Elapsed: 0:00:01.  Remaining: 0:00:00\n",
            "  Batch      35  of       49.    Elapsed: 0:00:01.  Remaining: 0:00:00\n",
            "  Batch      40  of       49.    Elapsed: 0:00:01.  Remaining: 0:00:00\n",
            "  Batch      45  of       49.    Elapsed: 0:00:01.  Remaining: 0:00:00\n"
          ],
          "name": "stdout"
        }
      ]
    },
    {
      "cell_type": "code",
      "metadata": {
        "colab": {
          "base_uri": "https://localhost:8080/"
        },
        "id": "cyNSDdXQhL9F",
        "outputId": "14c6da29-a81d-4743-a86c-0dffbf0667f2"
      },
      "source": [
        "print(test_preds)"
      ],
      "execution_count": null,
      "outputs": [
        {
          "output_type": "stream",
          "text": [
            "[2 0 0 0 2 0 0 1 0 0 2 0 0 0 2 2 0 0 5 0 2 0 0 2 0 0 0 2 5 0 0 0 0 0 5 1 5\n",
            " 0 0 0 0 0 5 0 5 5 0 0 5 0 0 5 5 0 0 0 5 5 0 5 5 0 5 0 0 0 0 0 0 2 2 0 0 0\n",
            " 0 0 2 2 0 0 0 0 0 0 0 0 0 0 0 0 0 0 5 0 0 0 0 0 0 0 2 0 2 0 0 0 0 0 0 0 2\n",
            " 0 0 2 0 0 0 0 0 0 0 0 0 0 0 0 0 5 5 5 0 5 0 0 5 5 5 5 0 0 0 0 5 0 2 0 2 2\n",
            " 0 2 0 0 0 0 2 0 0 0 0 0 2 5 0 5 0 5 0 5 0 5 0 0 5 0 5 0 5 5 5 5 0 0 0 5 5\n",
            " 0 5 0 5 0 5 5 0 0 0 0 5 0 2 2 5 5 0 5 0 0 5 5 0 5 0 0 5 5 0 2 0 0 0 0 0 0\n",
            " 0 0 0 0 0 5 5 5 5 5 0 5 0 5 0 5 0 5 0 5 5 5 5 5 5 0 5 5 0 0 5 5 5 5 5 5 5\n",
            " 5 0 5 5 5 5 0 5 0 5 0 0 0 5 5 0 5 0 5 0 5 5 5 0 5 0 5 5 5 0 0 2 0 0 2 1 2\n",
            " 0 0 5 0 0 0 0 0 0 0 2 0 2 0 0 0 0 0 0 2 0 0 0 0 5 0 0 5 0 0 0 1 0 0 0 0 0\n",
            " 0 0 0 5 0 5 5 5 0 5 5 5 5 5 0 5 0 0 5 1 0 2 0 0 0 0 0 0 2 0 0 5 0 0 0 0 0\n",
            " 0 0 5 0 5 5 5 0 0 0 0 0 0 0 0 0 0 0 0 5 0 0 5 0 0 0 0 0 2 0 5 0 0 5 0 0 5\n",
            " 0 0 5 2 5 2 0 0 5 5 0 0 0 0 0 0 2 0 1 0 0 0 0 2 0 1 0 0 0 0 0 2 0 2 0 0 2\n",
            " 0 2 0 0 0 5 5 5 5 0 5 5 0 5 5 0 0 0 5 5 0 5 0 0 0 0 0 0 0 0 0 0 0 2 0 0 0\n",
            " 0 0 0 0 0 2 2 0 1 0 2 2 0 0 2 5 0 5 0 0 5 2 0 0 0 0 0 0 0 5 5 2 2 0 5 5 0\n",
            " 5 0 0 5 5 0 0 5 0 5 0 0 5 0 5 5 0 0 0 5 0 5 5 5 0 0 0 2 0 0 0 0 0 5 0 2 5\n",
            " 0 0 5 0 0 5 0 5 5 0 0 5 5 0 0 0 0 5 0 5 0 0 0 0 2 0 0 2 0 0 0 2 2 0 2 2 0\n",
            " 0 0 2 0 0 0 0 0 0 0 5 0 0 0 0 0 0 0 0 0 0 0 5 0 0 5 0 0 5 0 0 0 2 0 0 0 0\n",
            " 0 0 0 2 0 0 0 0 0 0 0 5 5 5 5 0 5 5 0 5 5 0 5 5 5 5 5 0 0 0 0 2 0 0 0 0 0\n",
            " 0 0 0 0 0 0 0 0 0 5 5 0 5 0 5 5 5 5 0 0 0 5 5 0 0 5 5 5 0 0 0 5 0 0 0 0 0\n",
            " 0 0 0 5 0 5 0 0 0 0 5 5 0 0 0 0 0 0 0 0 0 0 0 0 5 0 0 0 5 0 0 0 0 5 5 5 0\n",
            " 5 0 5 0 0 0 5 2 5 0 0 0 0 0 5 5 0 0 5 5 1 0 0 0 0 2 0 0 5 5 5 5 5 0 5 0 0\n",
            " 0]\n"
          ],
          "name": "stdout"
        }
      ]
    },
    {
      "cell_type": "code",
      "metadata": {
        "colab": {
          "base_uri": "https://localhost:8080/"
        },
        "id": "P2rVvmYVhguG",
        "outputId": "0d8f7467-24bd-4eea-8e8e-05fbdda55c1a"
      },
      "source": [
        "le.inverse_transform(test_preds)"
      ],
      "execution_count": null,
      "outputs": [
        {
          "output_type": "execute_result",
          "data": {
            "text/plain": [
              "array(['Offensive_Targeted_Insult_Individual', 'Not_offensive',\n",
              "       'Not_offensive', 'Not_offensive',\n",
              "       'Offensive_Targeted_Insult_Individual', 'Not_offensive',\n",
              "       'Not_offensive', 'Offensive_Targeted_Insult_Group',\n",
              "       'Not_offensive', 'Not_offensive',\n",
              "       'Offensive_Targeted_Insult_Individual', 'Not_offensive',\n",
              "       'Not_offensive', 'Not_offensive',\n",
              "       'Offensive_Targeted_Insult_Individual',\n",
              "       'Offensive_Targeted_Insult_Individual', 'Not_offensive',\n",
              "       'Not_offensive', 'not-Kannada', 'Not_offensive',\n",
              "       'Offensive_Targeted_Insult_Individual', 'Not_offensive',\n",
              "       'Not_offensive', 'Offensive_Targeted_Insult_Individual',\n",
              "       'Not_offensive', 'Not_offensive', 'Not_offensive',\n",
              "       'Offensive_Targeted_Insult_Individual', 'not-Kannada',\n",
              "       'Not_offensive', 'Not_offensive', 'Not_offensive', 'Not_offensive',\n",
              "       'Not_offensive', 'not-Kannada', 'Offensive_Targeted_Insult_Group',\n",
              "       'not-Kannada', 'Not_offensive', 'Not_offensive', 'Not_offensive',\n",
              "       'Not_offensive', 'Not_offensive', 'not-Kannada', 'Not_offensive',\n",
              "       'not-Kannada', 'not-Kannada', 'Not_offensive', 'Not_offensive',\n",
              "       'not-Kannada', 'Not_offensive', 'Not_offensive', 'not-Kannada',\n",
              "       'not-Kannada', 'Not_offensive', 'Not_offensive', 'Not_offensive',\n",
              "       'not-Kannada', 'not-Kannada', 'Not_offensive', 'not-Kannada',\n",
              "       'not-Kannada', 'Not_offensive', 'not-Kannada', 'Not_offensive',\n",
              "       'Not_offensive', 'Not_offensive', 'Not_offensive', 'Not_offensive',\n",
              "       'Not_offensive', 'Offensive_Targeted_Insult_Individual',\n",
              "       'Offensive_Targeted_Insult_Individual', 'Not_offensive',\n",
              "       'Not_offensive', 'Not_offensive', 'Not_offensive', 'Not_offensive',\n",
              "       'Offensive_Targeted_Insult_Individual',\n",
              "       'Offensive_Targeted_Insult_Individual', 'Not_offensive',\n",
              "       'Not_offensive', 'Not_offensive', 'Not_offensive', 'Not_offensive',\n",
              "       'Not_offensive', 'Not_offensive', 'Not_offensive', 'Not_offensive',\n",
              "       'Not_offensive', 'Not_offensive', 'Not_offensive', 'Not_offensive',\n",
              "       'Not_offensive', 'not-Kannada', 'Not_offensive', 'Not_offensive',\n",
              "       'Not_offensive', 'Not_offensive', 'Not_offensive', 'Not_offensive',\n",
              "       'Not_offensive', 'Offensive_Targeted_Insult_Individual',\n",
              "       'Not_offensive', 'Offensive_Targeted_Insult_Individual',\n",
              "       'Not_offensive', 'Not_offensive', 'Not_offensive', 'Not_offensive',\n",
              "       'Not_offensive', 'Not_offensive', 'Not_offensive',\n",
              "       'Offensive_Targeted_Insult_Individual', 'Not_offensive',\n",
              "       'Not_offensive', 'Offensive_Targeted_Insult_Individual',\n",
              "       'Not_offensive', 'Not_offensive', 'Not_offensive', 'Not_offensive',\n",
              "       'Not_offensive', 'Not_offensive', 'Not_offensive', 'Not_offensive',\n",
              "       'Not_offensive', 'Not_offensive', 'Not_offensive', 'Not_offensive',\n",
              "       'Not_offensive', 'not-Kannada', 'not-Kannada', 'not-Kannada',\n",
              "       'Not_offensive', 'not-Kannada', 'Not_offensive', 'Not_offensive',\n",
              "       'not-Kannada', 'not-Kannada', 'not-Kannada', 'not-Kannada',\n",
              "       'Not_offensive', 'Not_offensive', 'Not_offensive', 'Not_offensive',\n",
              "       'not-Kannada', 'Not_offensive',\n",
              "       'Offensive_Targeted_Insult_Individual', 'Not_offensive',\n",
              "       'Offensive_Targeted_Insult_Individual',\n",
              "       'Offensive_Targeted_Insult_Individual', 'Not_offensive',\n",
              "       'Offensive_Targeted_Insult_Individual', 'Not_offensive',\n",
              "       'Not_offensive', 'Not_offensive', 'Not_offensive',\n",
              "       'Offensive_Targeted_Insult_Individual', 'Not_offensive',\n",
              "       'Not_offensive', 'Not_offensive', 'Not_offensive', 'Not_offensive',\n",
              "       'Offensive_Targeted_Insult_Individual', 'not-Kannada',\n",
              "       'Not_offensive', 'not-Kannada', 'Not_offensive', 'not-Kannada',\n",
              "       'Not_offensive', 'not-Kannada', 'Not_offensive', 'not-Kannada',\n",
              "       'Not_offensive', 'Not_offensive', 'not-Kannada', 'Not_offensive',\n",
              "       'not-Kannada', 'Not_offensive', 'not-Kannada', 'not-Kannada',\n",
              "       'not-Kannada', 'not-Kannada', 'Not_offensive', 'Not_offensive',\n",
              "       'Not_offensive', 'not-Kannada', 'not-Kannada', 'Not_offensive',\n",
              "       'not-Kannada', 'Not_offensive', 'not-Kannada', 'Not_offensive',\n",
              "       'not-Kannada', 'not-Kannada', 'Not_offensive', 'Not_offensive',\n",
              "       'Not_offensive', 'Not_offensive', 'not-Kannada', 'Not_offensive',\n",
              "       'Offensive_Targeted_Insult_Individual',\n",
              "       'Offensive_Targeted_Insult_Individual', 'not-Kannada',\n",
              "       'not-Kannada', 'Not_offensive', 'not-Kannada', 'Not_offensive',\n",
              "       'Not_offensive', 'not-Kannada', 'not-Kannada', 'Not_offensive',\n",
              "       'not-Kannada', 'Not_offensive', 'Not_offensive', 'not-Kannada',\n",
              "       'not-Kannada', 'Not_offensive',\n",
              "       'Offensive_Targeted_Insult_Individual', 'Not_offensive',\n",
              "       'Not_offensive', 'Not_offensive', 'Not_offensive', 'Not_offensive',\n",
              "       'Not_offensive', 'Not_offensive', 'Not_offensive', 'Not_offensive',\n",
              "       'Not_offensive', 'Not_offensive', 'not-Kannada', 'not-Kannada',\n",
              "       'not-Kannada', 'not-Kannada', 'not-Kannada', 'Not_offensive',\n",
              "       'not-Kannada', 'Not_offensive', 'not-Kannada', 'Not_offensive',\n",
              "       'not-Kannada', 'Not_offensive', 'not-Kannada', 'Not_offensive',\n",
              "       'not-Kannada', 'not-Kannada', 'not-Kannada', 'not-Kannada',\n",
              "       'not-Kannada', 'not-Kannada', 'Not_offensive', 'not-Kannada',\n",
              "       'not-Kannada', 'Not_offensive', 'Not_offensive', 'not-Kannada',\n",
              "       'not-Kannada', 'not-Kannada', 'not-Kannada', 'not-Kannada',\n",
              "       'not-Kannada', 'not-Kannada', 'not-Kannada', 'Not_offensive',\n",
              "       'not-Kannada', 'not-Kannada', 'not-Kannada', 'not-Kannada',\n",
              "       'Not_offensive', 'not-Kannada', 'Not_offensive', 'not-Kannada',\n",
              "       'Not_offensive', 'Not_offensive', 'Not_offensive', 'not-Kannada',\n",
              "       'not-Kannada', 'Not_offensive', 'not-Kannada', 'Not_offensive',\n",
              "       'not-Kannada', 'Not_offensive', 'not-Kannada', 'not-Kannada',\n",
              "       'not-Kannada', 'Not_offensive', 'not-Kannada', 'Not_offensive',\n",
              "       'not-Kannada', 'not-Kannada', 'not-Kannada', 'Not_offensive',\n",
              "       'Not_offensive', 'Offensive_Targeted_Insult_Individual',\n",
              "       'Not_offensive', 'Not_offensive',\n",
              "       'Offensive_Targeted_Insult_Individual',\n",
              "       'Offensive_Targeted_Insult_Group',\n",
              "       'Offensive_Targeted_Insult_Individual', 'Not_offensive',\n",
              "       'Not_offensive', 'not-Kannada', 'Not_offensive', 'Not_offensive',\n",
              "       'Not_offensive', 'Not_offensive', 'Not_offensive', 'Not_offensive',\n",
              "       'Not_offensive', 'Offensive_Targeted_Insult_Individual',\n",
              "       'Not_offensive', 'Offensive_Targeted_Insult_Individual',\n",
              "       'Not_offensive', 'Not_offensive', 'Not_offensive', 'Not_offensive',\n",
              "       'Not_offensive', 'Not_offensive',\n",
              "       'Offensive_Targeted_Insult_Individual', 'Not_offensive',\n",
              "       'Not_offensive', 'Not_offensive', 'Not_offensive', 'not-Kannada',\n",
              "       'Not_offensive', 'Not_offensive', 'not-Kannada', 'Not_offensive',\n",
              "       'Not_offensive', 'Not_offensive',\n",
              "       'Offensive_Targeted_Insult_Group', 'Not_offensive',\n",
              "       'Not_offensive', 'Not_offensive', 'Not_offensive', 'Not_offensive',\n",
              "       'Not_offensive', 'Not_offensive', 'Not_offensive', 'not-Kannada',\n",
              "       'Not_offensive', 'not-Kannada', 'not-Kannada', 'not-Kannada',\n",
              "       'Not_offensive', 'not-Kannada', 'not-Kannada', 'not-Kannada',\n",
              "       'not-Kannada', 'not-Kannada', 'Not_offensive', 'not-Kannada',\n",
              "       'Not_offensive', 'Not_offensive', 'not-Kannada',\n",
              "       'Offensive_Targeted_Insult_Group', 'Not_offensive',\n",
              "       'Offensive_Targeted_Insult_Individual', 'Not_offensive',\n",
              "       'Not_offensive', 'Not_offensive', 'Not_offensive', 'Not_offensive',\n",
              "       'Not_offensive', 'Offensive_Targeted_Insult_Individual',\n",
              "       'Not_offensive', 'Not_offensive', 'not-Kannada', 'Not_offensive',\n",
              "       'Not_offensive', 'Not_offensive', 'Not_offensive', 'Not_offensive',\n",
              "       'Not_offensive', 'Not_offensive', 'not-Kannada', 'Not_offensive',\n",
              "       'not-Kannada', 'not-Kannada', 'not-Kannada', 'Not_offensive',\n",
              "       'Not_offensive', 'Not_offensive', 'Not_offensive', 'Not_offensive',\n",
              "       'Not_offensive', 'Not_offensive', 'Not_offensive', 'Not_offensive',\n",
              "       'Not_offensive', 'Not_offensive', 'Not_offensive', 'not-Kannada',\n",
              "       'Not_offensive', 'Not_offensive', 'not-Kannada', 'Not_offensive',\n",
              "       'Not_offensive', 'Not_offensive', 'Not_offensive', 'Not_offensive',\n",
              "       'Offensive_Targeted_Insult_Individual', 'Not_offensive',\n",
              "       'not-Kannada', 'Not_offensive', 'Not_offensive', 'not-Kannada',\n",
              "       'Not_offensive', 'Not_offensive', 'not-Kannada', 'Not_offensive',\n",
              "       'Not_offensive', 'not-Kannada',\n",
              "       'Offensive_Targeted_Insult_Individual', 'not-Kannada',\n",
              "       'Offensive_Targeted_Insult_Individual', 'Not_offensive',\n",
              "       'Not_offensive', 'not-Kannada', 'not-Kannada', 'Not_offensive',\n",
              "       'Not_offensive', 'Not_offensive', 'Not_offensive', 'Not_offensive',\n",
              "       'Not_offensive', 'Offensive_Targeted_Insult_Individual',\n",
              "       'Not_offensive', 'Offensive_Targeted_Insult_Group',\n",
              "       'Not_offensive', 'Not_offensive', 'Not_offensive', 'Not_offensive',\n",
              "       'Offensive_Targeted_Insult_Individual', 'Not_offensive',\n",
              "       'Offensive_Targeted_Insult_Group', 'Not_offensive',\n",
              "       'Not_offensive', 'Not_offensive', 'Not_offensive', 'Not_offensive',\n",
              "       'Offensive_Targeted_Insult_Individual', 'Not_offensive',\n",
              "       'Offensive_Targeted_Insult_Individual', 'Not_offensive',\n",
              "       'Not_offensive', 'Offensive_Targeted_Insult_Individual',\n",
              "       'Not_offensive', 'Offensive_Targeted_Insult_Individual',\n",
              "       'Not_offensive', 'Not_offensive', 'Not_offensive', 'not-Kannada',\n",
              "       'not-Kannada', 'not-Kannada', 'not-Kannada', 'Not_offensive',\n",
              "       'not-Kannada', 'not-Kannada', 'Not_offensive', 'not-Kannada',\n",
              "       'not-Kannada', 'Not_offensive', 'Not_offensive', 'Not_offensive',\n",
              "       'not-Kannada', 'not-Kannada', 'Not_offensive', 'not-Kannada',\n",
              "       'Not_offensive', 'Not_offensive', 'Not_offensive', 'Not_offensive',\n",
              "       'Not_offensive', 'Not_offensive', 'Not_offensive', 'Not_offensive',\n",
              "       'Not_offensive', 'Not_offensive', 'Not_offensive',\n",
              "       'Offensive_Targeted_Insult_Individual', 'Not_offensive',\n",
              "       'Not_offensive', 'Not_offensive', 'Not_offensive', 'Not_offensive',\n",
              "       'Not_offensive', 'Not_offensive', 'Not_offensive',\n",
              "       'Offensive_Targeted_Insult_Individual',\n",
              "       'Offensive_Targeted_Insult_Individual', 'Not_offensive',\n",
              "       'Offensive_Targeted_Insult_Group', 'Not_offensive',\n",
              "       'Offensive_Targeted_Insult_Individual',\n",
              "       'Offensive_Targeted_Insult_Individual', 'Not_offensive',\n",
              "       'Not_offensive', 'Offensive_Targeted_Insult_Individual',\n",
              "       'not-Kannada', 'Not_offensive', 'not-Kannada', 'Not_offensive',\n",
              "       'Not_offensive', 'not-Kannada',\n",
              "       'Offensive_Targeted_Insult_Individual', 'Not_offensive',\n",
              "       'Not_offensive', 'Not_offensive', 'Not_offensive', 'Not_offensive',\n",
              "       'Not_offensive', 'Not_offensive', 'not-Kannada', 'not-Kannada',\n",
              "       'Offensive_Targeted_Insult_Individual',\n",
              "       'Offensive_Targeted_Insult_Individual', 'Not_offensive',\n",
              "       'not-Kannada', 'not-Kannada', 'Not_offensive', 'not-Kannada',\n",
              "       'Not_offensive', 'Not_offensive', 'not-Kannada', 'not-Kannada',\n",
              "       'Not_offensive', 'Not_offensive', 'not-Kannada', 'Not_offensive',\n",
              "       'not-Kannada', 'Not_offensive', 'Not_offensive', 'not-Kannada',\n",
              "       'Not_offensive', 'not-Kannada', 'not-Kannada', 'Not_offensive',\n",
              "       'Not_offensive', 'Not_offensive', 'not-Kannada', 'Not_offensive',\n",
              "       'not-Kannada', 'not-Kannada', 'not-Kannada', 'Not_offensive',\n",
              "       'Not_offensive', 'Not_offensive',\n",
              "       'Offensive_Targeted_Insult_Individual', 'Not_offensive',\n",
              "       'Not_offensive', 'Not_offensive', 'Not_offensive', 'Not_offensive',\n",
              "       'not-Kannada', 'Not_offensive',\n",
              "       'Offensive_Targeted_Insult_Individual', 'not-Kannada',\n",
              "       'Not_offensive', 'Not_offensive', 'not-Kannada', 'Not_offensive',\n",
              "       'Not_offensive', 'not-Kannada', 'Not_offensive', 'not-Kannada',\n",
              "       'not-Kannada', 'Not_offensive', 'Not_offensive', 'not-Kannada',\n",
              "       'not-Kannada', 'Not_offensive', 'Not_offensive', 'Not_offensive',\n",
              "       'Not_offensive', 'not-Kannada', 'Not_offensive', 'not-Kannada',\n",
              "       'Not_offensive', 'Not_offensive', 'Not_offensive', 'Not_offensive',\n",
              "       'Offensive_Targeted_Insult_Individual', 'Not_offensive',\n",
              "       'Not_offensive', 'Offensive_Targeted_Insult_Individual',\n",
              "       'Not_offensive', 'Not_offensive', 'Not_offensive',\n",
              "       'Offensive_Targeted_Insult_Individual',\n",
              "       'Offensive_Targeted_Insult_Individual', 'Not_offensive',\n",
              "       'Offensive_Targeted_Insult_Individual',\n",
              "       'Offensive_Targeted_Insult_Individual', 'Not_offensive',\n",
              "       'Not_offensive', 'Not_offensive',\n",
              "       'Offensive_Targeted_Insult_Individual', 'Not_offensive',\n",
              "       'Not_offensive', 'Not_offensive', 'Not_offensive', 'Not_offensive',\n",
              "       'Not_offensive', 'Not_offensive', 'not-Kannada', 'Not_offensive',\n",
              "       'Not_offensive', 'Not_offensive', 'Not_offensive', 'Not_offensive',\n",
              "       'Not_offensive', 'Not_offensive', 'Not_offensive', 'Not_offensive',\n",
              "       'Not_offensive', 'Not_offensive', 'not-Kannada', 'Not_offensive',\n",
              "       'Not_offensive', 'not-Kannada', 'Not_offensive', 'Not_offensive',\n",
              "       'not-Kannada', 'Not_offensive', 'Not_offensive', 'Not_offensive',\n",
              "       'Offensive_Targeted_Insult_Individual', 'Not_offensive',\n",
              "       'Not_offensive', 'Not_offensive', 'Not_offensive', 'Not_offensive',\n",
              "       'Not_offensive', 'Not_offensive',\n",
              "       'Offensive_Targeted_Insult_Individual', 'Not_offensive',\n",
              "       'Not_offensive', 'Not_offensive', 'Not_offensive', 'Not_offensive',\n",
              "       'Not_offensive', 'Not_offensive', 'not-Kannada', 'not-Kannada',\n",
              "       'not-Kannada', 'not-Kannada', 'Not_offensive', 'not-Kannada',\n",
              "       'not-Kannada', 'Not_offensive', 'not-Kannada', 'not-Kannada',\n",
              "       'Not_offensive', 'not-Kannada', 'not-Kannada', 'not-Kannada',\n",
              "       'not-Kannada', 'not-Kannada', 'Not_offensive', 'Not_offensive',\n",
              "       'Not_offensive', 'Not_offensive',\n",
              "       'Offensive_Targeted_Insult_Individual', 'Not_offensive',\n",
              "       'Not_offensive', 'Not_offensive', 'Not_offensive', 'Not_offensive',\n",
              "       'Not_offensive', 'Not_offensive', 'Not_offensive', 'Not_offensive',\n",
              "       'Not_offensive', 'Not_offensive', 'Not_offensive', 'Not_offensive',\n",
              "       'Not_offensive', 'not-Kannada', 'not-Kannada', 'Not_offensive',\n",
              "       'not-Kannada', 'Not_offensive', 'not-Kannada', 'not-Kannada',\n",
              "       'not-Kannada', 'not-Kannada', 'Not_offensive', 'Not_offensive',\n",
              "       'Not_offensive', 'not-Kannada', 'not-Kannada', 'Not_offensive',\n",
              "       'Not_offensive', 'not-Kannada', 'not-Kannada', 'not-Kannada',\n",
              "       'Not_offensive', 'Not_offensive', 'Not_offensive', 'not-Kannada',\n",
              "       'Not_offensive', 'Not_offensive', 'Not_offensive', 'Not_offensive',\n",
              "       'Not_offensive', 'Not_offensive', 'Not_offensive', 'Not_offensive',\n",
              "       'not-Kannada', 'Not_offensive', 'not-Kannada', 'Not_offensive',\n",
              "       'Not_offensive', 'Not_offensive', 'Not_offensive', 'not-Kannada',\n",
              "       'not-Kannada', 'Not_offensive', 'Not_offensive', 'Not_offensive',\n",
              "       'Not_offensive', 'Not_offensive', 'Not_offensive', 'Not_offensive',\n",
              "       'Not_offensive', 'Not_offensive', 'Not_offensive', 'Not_offensive',\n",
              "       'Not_offensive', 'not-Kannada', 'Not_offensive', 'Not_offensive',\n",
              "       'Not_offensive', 'not-Kannada', 'Not_offensive', 'Not_offensive',\n",
              "       'Not_offensive', 'Not_offensive', 'not-Kannada', 'not-Kannada',\n",
              "       'not-Kannada', 'Not_offensive', 'not-Kannada', 'Not_offensive',\n",
              "       'not-Kannada', 'Not_offensive', 'Not_offensive', 'Not_offensive',\n",
              "       'not-Kannada', 'Offensive_Targeted_Insult_Individual',\n",
              "       'not-Kannada', 'Not_offensive', 'Not_offensive', 'Not_offensive',\n",
              "       'Not_offensive', 'Not_offensive', 'not-Kannada', 'not-Kannada',\n",
              "       'Not_offensive', 'Not_offensive', 'not-Kannada', 'not-Kannada',\n",
              "       'Offensive_Targeted_Insult_Group', 'Not_offensive',\n",
              "       'Not_offensive', 'Not_offensive', 'Not_offensive',\n",
              "       'Offensive_Targeted_Insult_Individual', 'Not_offensive',\n",
              "       'Not_offensive', 'not-Kannada', 'not-Kannada', 'not-Kannada',\n",
              "       'not-Kannada', 'not-Kannada', 'Not_offensive', 'not-Kannada',\n",
              "       'Not_offensive', 'Not_offensive', 'Not_offensive'], dtype=object)"
            ]
          },
          "metadata": {
            "tags": []
          },
          "execution_count": 74
        }
      ]
    },
    {
      "cell_type": "code",
      "metadata": {
        "colab": {
          "base_uri": "https://localhost:8080/",
          "height": 424
        },
        "id": "CYN9Z8gAhrMy",
        "outputId": "e4f41bae-6317-4a7c-8b3b-7472c4b23426"
      },
      "source": [
        "sns.countplot(y =le.inverse_transform(test_preds))"
      ],
      "execution_count": null,
      "outputs": [
        {
          "output_type": "execute_result",
          "data": {
            "text/plain": [
              "<matplotlib.axes._subplots.AxesSubplot at 0x7ff6a54bafd0>"
            ]
          },
          "metadata": {
            "tags": []
          },
          "execution_count": 75
        },
        {
          "output_type": "display_data",
          "data": {
            "image/png": "[encoded data removed]",
            "text/plain": [
              "<Figure size 864x432 with 1 Axes>"
            ]
          },
          "metadata": {
            "tags": []
          }
        }
      ]
    },
    {
      "cell_type": "markdown",
      "metadata": {
        "id": "2fOJyH_c3ON2"
      },
      "source": [
        "## Saving the model"
      ]
    },
    {
      "cell_type": "code",
      "metadata": {
        "id": "3PXqG-VpurVS"
      },
      "source": [
        "torch.save(model,\"./drive/MyDrive/Codalab/Offensive Language Identification/Models/XLMR_Kannada\")"
      ],
      "execution_count": null,
      "outputs": []
    },
    {
      "cell_type": "markdown",
      "metadata": {
        "id": "sWPDqogJrjIZ"
      },
      "source": [
        "## Creating Submission DataFrame"
      ]
    },
    {
      "cell_type": "code",
      "metadata": {
        "id": "5NfWwz6Qztsg"
      },
      "source": [
        "df_new = pd.DataFrame({\r\n",
        "    'id':test_ids,\r\n",
        "    'label':le.inverse_transform(test_preds)\r\n",
        "})"
      ],
      "execution_count": null,
      "outputs": []
    },
    {
      "cell_type": "code",
      "metadata": {
        "id": "twQAkVzcn4Lg"
      },
      "source": [
        "test_df['id'] = test_df.index"
      ],
      "execution_count": null,
      "outputs": []
    },
    {
      "cell_type": "code",
      "metadata": {
        "colab": {
          "base_uri": "https://localhost:8080/",
          "height": 419
        },
        "id": "qov36eWmqawv",
        "outputId": "4dcfacdf-9afc-4f68-a5aa-f3d39b03ffec"
      },
      "source": [
        "df_new"
      ],
      "execution_count": null,
      "outputs": [
        {
          "output_type": "execute_result",
          "data": {
            "text/html": [
              "<div>\n",
              "<style scoped>\n",
              "    .dataframe tbody tr th:only-of-type {\n",
              "        vertical-align: middle;\n",
              "    }\n",
              "\n",
              "    .dataframe tbody tr th {\n",
              "        vertical-align: top;\n",
              "    }\n",
              "\n",
              "    .dataframe thead th {\n",
              "        text-align: right;\n",
              "    }\n",
              "</style>\n",
              "<table border=\"1\" class=\"dataframe\">\n",
              "  <thead>\n",
              "    <tr style=\"text-align: right;\">\n",
              "      <th></th>\n",
              "      <th>id</th>\n",
              "      <th>label</th>\n",
              "    </tr>\n",
              "  </thead>\n",
              "  <tbody>\n",
              "    <tr>\n",
              "      <th>0</th>\n",
              "      <td>591</td>\n",
              "      <td>Offensive_Targeted_Insult_Individual</td>\n",
              "    </tr>\n",
              "    <tr>\n",
              "      <th>1</th>\n",
              "      <td>630</td>\n",
              "      <td>Not_offensive</td>\n",
              "    </tr>\n",
              "    <tr>\n",
              "      <th>2</th>\n",
              "      <td>773</td>\n",
              "      <td>Not_offensive</td>\n",
              "    </tr>\n",
              "    <tr>\n",
              "      <th>3</th>\n",
              "      <td>92</td>\n",
              "      <td>Not_offensive</td>\n",
              "    </tr>\n",
              "    <tr>\n",
              "      <th>4</th>\n",
              "      <td>164</td>\n",
              "      <td>Offensive_Targeted_Insult_Individual</td>\n",
              "    </tr>\n",
              "    <tr>\n",
              "      <th>...</th>\n",
              "      <td>...</td>\n",
              "      <td>...</td>\n",
              "    </tr>\n",
              "    <tr>\n",
              "      <th>773</th>\n",
              "      <td>204</td>\n",
              "      <td>Not_offensive</td>\n",
              "    </tr>\n",
              "    <tr>\n",
              "      <th>774</th>\n",
              "      <td>218</td>\n",
              "      <td>not-Kannada</td>\n",
              "    </tr>\n",
              "    <tr>\n",
              "      <th>775</th>\n",
              "      <td>533</td>\n",
              "      <td>Not_offensive</td>\n",
              "    </tr>\n",
              "    <tr>\n",
              "      <th>776</th>\n",
              "      <td>615</td>\n",
              "      <td>Not_offensive</td>\n",
              "    </tr>\n",
              "    <tr>\n",
              "      <th>777</th>\n",
              "      <td>459</td>\n",
              "      <td>Not_offensive</td>\n",
              "    </tr>\n",
              "  </tbody>\n",
              "</table>\n",
              "<p>778 rows × 2 columns</p>\n",
              "</div>"
            ],
            "text/plain": [
              "      id                                 label\n",
              "0    591  Offensive_Targeted_Insult_Individual\n",
              "1    630                         Not_offensive\n",
              "2    773                         Not_offensive\n",
              "3     92                         Not_offensive\n",
              "4    164  Offensive_Targeted_Insult_Individual\n",
              "..   ...                                   ...\n",
              "773  204                         Not_offensive\n",
              "774  218                           not-Kannada\n",
              "775  533                         Not_offensive\n",
              "776  615                         Not_offensive\n",
              "777  459                         Not_offensive\n",
              "\n",
              "[778 rows x 2 columns]"
            ]
          },
          "metadata": {
            "tags": []
          },
          "execution_count": 79
        }
      ]
    },
    {
      "cell_type": "code",
      "metadata": {
        "colab": {
          "base_uri": "https://localhost:8080/",
          "height": 419
        },
        "id": "z0CEApHmqdLr",
        "outputId": "04dc2294-7bbf-468f-dde1-1e68363ae661"
      },
      "source": [
        "test_df"
      ],
      "execution_count": null,
      "outputs": [
        {
          "output_type": "execute_result",
          "data": {
            "text/html": [
              "<div>\n",
              "<style scoped>\n",
              "    .dataframe tbody tr th:only-of-type {\n",
              "        vertical-align: middle;\n",
              "    }\n",
              "\n",
              "    .dataframe tbody tr th {\n",
              "        vertical-align: top;\n",
              "    }\n",
              "\n",
              "    .dataframe thead th {\n",
              "        text-align: right;\n",
              "    }\n",
              "</style>\n",
              "<table border=\"1\" class=\"dataframe\">\n",
              "  <thead>\n",
              "    <tr style=\"text-align: right;\">\n",
              "      <th></th>\n",
              "      <th>text</th>\n",
              "      <th>id</th>\n",
              "    </tr>\n",
              "  </thead>\n",
              "  <tbody>\n",
              "    <tr>\n",
              "      <th>0</th>\n",
              "      <td>ಜೈ ಮೋರಿ ಜೈ ರೋಗಿ ಇಸ್ಲಾಂ ಸಾಯಿಸಿ ಇದೆ ಇವರ ಗುರಿ</td>\n",
              "      <td>0</td>\n",
              "    </tr>\n",
              "    <tr>\n",
              "      <th>1</th>\n",
              "      <td>Anna nim e vedio nodinu mathe chaina apps use ...</td>\n",
              "      <td>1</td>\n",
              "    </tr>\n",
              "    <tr>\n",
              "      <th>2</th>\n",
              "      <td>Super anna yenu thappila yela sari agi hellidi...</td>\n",
              "      <td>2</td>\n",
              "    </tr>\n",
              "    <tr>\n",
              "      <th>3</th>\n",
              "      <td>Super sir super super super super</td>\n",
              "      <td>3</td>\n",
              "    </tr>\n",
              "    <tr>\n",
              "      <th>4</th>\n",
              "      <td>AGT-KELU (KANNADA RAP 2019)</td>\n",
              "      <td>4</td>\n",
              "    </tr>\n",
              "    <tr>\n",
              "      <th>...</th>\n",
              "      <td>...</td>\n",
              "      <td>...</td>\n",
              "    </tr>\n",
              "    <tr>\n",
              "      <th>773</th>\n",
              "      <td>Startup start maadalu capacity growth maadalu ...</td>\n",
              "      <td>773</td>\n",
              "    </tr>\n",
              "    <tr>\n",
              "      <th>774</th>\n",
              "      <td>Rashmika idanna nodi thi*a urkimbeku🤣🤣🤣🤣🤣</td>\n",
              "      <td>774</td>\n",
              "    </tr>\n",
              "    <tr>\n",
              "      <th>775</th>\n",
              "      <td>I love you sir</td>\n",
              "      <td>775</td>\n",
              "    </tr>\n",
              "    <tr>\n",
              "      <th>776</th>\n",
              "      <td>ನೋಡ್ತಾ ಹೋದ್ರೆ ಸಾವಿರಾರು lyrical video ಗಳು</td>\n",
              "      <td>776</td>\n",
              "    </tr>\n",
              "    <tr>\n",
              "      <th>777</th>\n",
              "      <td>ಸಖತ್ ಟ್ರೋಲ್ ಬ್ರದರ್ nಬ್ರೊ ಈ ಗೇಮ್ ನೇಮ್ ಹೇಳಿ</td>\n",
              "      <td>777</td>\n",
              "    </tr>\n",
              "  </tbody>\n",
              "</table>\n",
              "<p>778 rows × 2 columns</p>\n",
              "</div>"
            ],
            "text/plain": [
              "                                                  text   id\n",
              "0           ಜೈ ಮೋರಿ ಜೈ ರೋಗಿ ಇಸ್ಲಾಂ ಸಾಯಿಸಿ ಇದೆ ಇವರ ಗುರಿ    0\n",
              "1    Anna nim e vedio nodinu mathe chaina apps use ...    1\n",
              "2    Super anna yenu thappila yela sari agi hellidi...    2\n",
              "3                    Super sir super super super super    3\n",
              "4                          AGT-KELU (KANNADA RAP 2019)    4\n",
              "..                                                 ...  ...\n",
              "773  Startup start maadalu capacity growth maadalu ...  773\n",
              "774          Rashmika idanna nodi thi*a urkimbeku🤣🤣🤣🤣🤣  774\n",
              "775                                     I love you sir  775\n",
              "776           ನೋಡ್ತಾ ಹೋದ್ರೆ ಸಾವಿರಾರು lyrical video ಗಳು  776\n",
              "777         ಸಖತ್ ಟ್ರೋಲ್ ಬ್ರದರ್ nಬ್ರೊ ಈ ಗೇಮ್ ನೇಮ್ ಹೇಳಿ  777\n",
              "\n",
              "[778 rows x 2 columns]"
            ]
          },
          "metadata": {
            "tags": []
          },
          "execution_count": 80
        }
      ]
    },
    {
      "cell_type": "code",
      "metadata": {
        "colab": {
          "base_uri": "https://localhost:8080/",
          "height": 419
        },
        "id": "vxReWWmxn7Hj",
        "outputId": "cf2a7864-7c20-42c9-d992-98c87e448dda"
      },
      "source": [
        "df_f = pd.merge(test_df,df_new,on = 'id')\r\n",
        "df_f"
      ],
      "execution_count": null,
      "outputs": [
        {
          "output_type": "execute_result",
          "data": {
            "text/html": [
              "<div>\n",
              "<style scoped>\n",
              "    .dataframe tbody tr th:only-of-type {\n",
              "        vertical-align: middle;\n",
              "    }\n",
              "\n",
              "    .dataframe tbody tr th {\n",
              "        vertical-align: top;\n",
              "    }\n",
              "\n",
              "    .dataframe thead th {\n",
              "        text-align: right;\n",
              "    }\n",
              "</style>\n",
              "<table border=\"1\" class=\"dataframe\">\n",
              "  <thead>\n",
              "    <tr style=\"text-align: right;\">\n",
              "      <th></th>\n",
              "      <th>text</th>\n",
              "      <th>id</th>\n",
              "      <th>label</th>\n",
              "    </tr>\n",
              "  </thead>\n",
              "  <tbody>\n",
              "    <tr>\n",
              "      <th>0</th>\n",
              "      <td>ಜೈ ಮೋರಿ ಜೈ ರೋಗಿ ಇಸ್ಲಾಂ ಸಾಯಿಸಿ ಇದೆ ಇವರ ಗುರಿ</td>\n",
              "      <td>0</td>\n",
              "      <td>Not_offensive</td>\n",
              "    </tr>\n",
              "    <tr>\n",
              "      <th>1</th>\n",
              "      <td>Anna nim e vedio nodinu mathe chaina apps use ...</td>\n",
              "      <td>1</td>\n",
              "      <td>Not_offensive</td>\n",
              "    </tr>\n",
              "    <tr>\n",
              "      <th>2</th>\n",
              "      <td>Super anna yenu thappila yela sari agi hellidi...</td>\n",
              "      <td>2</td>\n",
              "      <td>Not_offensive</td>\n",
              "    </tr>\n",
              "    <tr>\n",
              "      <th>3</th>\n",
              "      <td>Super sir super super super super</td>\n",
              "      <td>3</td>\n",
              "      <td>not-Kannada</td>\n",
              "    </tr>\n",
              "    <tr>\n",
              "      <th>4</th>\n",
              "      <td>AGT-KELU (KANNADA RAP 2019)</td>\n",
              "      <td>4</td>\n",
              "      <td>not-Kannada</td>\n",
              "    </tr>\n",
              "    <tr>\n",
              "      <th>...</th>\n",
              "      <td>...</td>\n",
              "      <td>...</td>\n",
              "      <td>...</td>\n",
              "    </tr>\n",
              "    <tr>\n",
              "      <th>773</th>\n",
              "      <td>Startup start maadalu capacity growth maadalu ...</td>\n",
              "      <td>773</td>\n",
              "      <td>Not_offensive</td>\n",
              "    </tr>\n",
              "    <tr>\n",
              "      <th>774</th>\n",
              "      <td>Rashmika idanna nodi thi*a urkimbeku🤣🤣🤣🤣🤣</td>\n",
              "      <td>774</td>\n",
              "      <td>Offensive_Targeted_Insult_Individual</td>\n",
              "    </tr>\n",
              "    <tr>\n",
              "      <th>775</th>\n",
              "      <td>I love you sir</td>\n",
              "      <td>775</td>\n",
              "      <td>not-Kannada</td>\n",
              "    </tr>\n",
              "    <tr>\n",
              "      <th>776</th>\n",
              "      <td>ನೋಡ್ತಾ ಹೋದ್ರೆ ಸಾವಿರಾರು lyrical video ಗಳು</td>\n",
              "      <td>776</td>\n",
              "      <td>Not_offensive</td>\n",
              "    </tr>\n",
              "    <tr>\n",
              "      <th>777</th>\n",
              "      <td>ಸಖತ್ ಟ್ರೋಲ್ ಬ್ರದರ್ nಬ್ರೊ ಈ ಗೇಮ್ ನೇಮ್ ಹೇಳಿ</td>\n",
              "      <td>777</td>\n",
              "      <td>Not_offensive</td>\n",
              "    </tr>\n",
              "  </tbody>\n",
              "</table>\n",
              "<p>778 rows × 3 columns</p>\n",
              "</div>"
            ],
            "text/plain": [
              "                                                  text  ...                                 label\n",
              "0           ಜೈ ಮೋರಿ ಜೈ ರೋಗಿ ಇಸ್ಲಾಂ ಸಾಯಿಸಿ ಇದೆ ಇವರ ಗುರಿ  ...                         Not_offensive\n",
              "1    Anna nim e vedio nodinu mathe chaina apps use ...  ...                         Not_offensive\n",
              "2    Super anna yenu thappila yela sari agi hellidi...  ...                         Not_offensive\n",
              "3                    Super sir super super super super  ...                           not-Kannada\n",
              "4                          AGT-KELU (KANNADA RAP 2019)  ...                           not-Kannada\n",
              "..                                                 ...  ...                                   ...\n",
              "773  Startup start maadalu capacity growth maadalu ...  ...                         Not_offensive\n",
              "774          Rashmika idanna nodi thi*a urkimbeku🤣🤣🤣🤣🤣  ...  Offensive_Targeted_Insult_Individual\n",
              "775                                     I love you sir  ...                           not-Kannada\n",
              "776           ನೋಡ್ತಾ ಹೋದ್ರೆ ಸಾವಿರಾರು lyrical video ಗಳು  ...                         Not_offensive\n",
              "777         ಸಖತ್ ಟ್ರೋಲ್ ಬ್ರದರ್ nಬ್ರೊ ಈ ಗೇಮ್ ನೇಮ್ ಹೇಳಿ  ...                         Not_offensive\n",
              "\n",
              "[778 rows x 3 columns]"
            ]
          },
          "metadata": {
            "tags": []
          },
          "execution_count": 81
        }
      ]
    },
    {
      "cell_type": "code",
      "metadata": {
        "colab": {
          "base_uri": "https://localhost:8080/",
          "height": 419
        },
        "id": "1kuASymYn9aV",
        "outputId": "7fcb5073-c6d3-4853-ebf9-181607060bf5"
      },
      "source": [
        "df_f = df_f[['id','text','label']]\r\n",
        "df_f"
      ],
      "execution_count": null,
      "outputs": [
        {
          "output_type": "execute_result",
          "data": {
            "text/html": [
              "<div>\n",
              "<style scoped>\n",
              "    .dataframe tbody tr th:only-of-type {\n",
              "        vertical-align: middle;\n",
              "    }\n",
              "\n",
              "    .dataframe tbody tr th {\n",
              "        vertical-align: top;\n",
              "    }\n",
              "\n",
              "    .dataframe thead th {\n",
              "        text-align: right;\n",
              "    }\n",
              "</style>\n",
              "<table border=\"1\" class=\"dataframe\">\n",
              "  <thead>\n",
              "    <tr style=\"text-align: right;\">\n",
              "      <th></th>\n",
              "      <th>id</th>\n",
              "      <th>text</th>\n",
              "      <th>label</th>\n",
              "    </tr>\n",
              "  </thead>\n",
              "  <tbody>\n",
              "    <tr>\n",
              "      <th>0</th>\n",
              "      <td>0</td>\n",
              "      <td>ಜೈ ಮೋರಿ ಜೈ ರೋಗಿ ಇಸ್ಲಾಂ ಸಾಯಿಸಿ ಇದೆ ಇವರ ಗುರಿ</td>\n",
              "      <td>Not_offensive</td>\n",
              "    </tr>\n",
              "    <tr>\n",
              "      <th>1</th>\n",
              "      <td>1</td>\n",
              "      <td>Anna nim e vedio nodinu mathe chaina apps use ...</td>\n",
              "      <td>Not_offensive</td>\n",
              "    </tr>\n",
              "    <tr>\n",
              "      <th>2</th>\n",
              "      <td>2</td>\n",
              "      <td>Super anna yenu thappila yela sari agi hellidi...</td>\n",
              "      <td>Not_offensive</td>\n",
              "    </tr>\n",
              "    <tr>\n",
              "      <th>3</th>\n",
              "      <td>3</td>\n",
              "      <td>Super sir super super super super</td>\n",
              "      <td>not-Kannada</td>\n",
              "    </tr>\n",
              "    <tr>\n",
              "      <th>4</th>\n",
              "      <td>4</td>\n",
              "      <td>AGT-KELU (KANNADA RAP 2019)</td>\n",
              "      <td>not-Kannada</td>\n",
              "    </tr>\n",
              "    <tr>\n",
              "      <th>...</th>\n",
              "      <td>...</td>\n",
              "      <td>...</td>\n",
              "      <td>...</td>\n",
              "    </tr>\n",
              "    <tr>\n",
              "      <th>773</th>\n",
              "      <td>773</td>\n",
              "      <td>Startup start maadalu capacity growth maadalu ...</td>\n",
              "      <td>Not_offensive</td>\n",
              "    </tr>\n",
              "    <tr>\n",
              "      <th>774</th>\n",
              "      <td>774</td>\n",
              "      <td>Rashmika idanna nodi thi*a urkimbeku🤣🤣🤣🤣🤣</td>\n",
              "      <td>Offensive_Targeted_Insult_Individual</td>\n",
              "    </tr>\n",
              "    <tr>\n",
              "      <th>775</th>\n",
              "      <td>775</td>\n",
              "      <td>I love you sir</td>\n",
              "      <td>not-Kannada</td>\n",
              "    </tr>\n",
              "    <tr>\n",
              "      <th>776</th>\n",
              "      <td>776</td>\n",
              "      <td>ನೋಡ್ತಾ ಹೋದ್ರೆ ಸಾವಿರಾರು lyrical video ಗಳು</td>\n",
              "      <td>Not_offensive</td>\n",
              "    </tr>\n",
              "    <tr>\n",
              "      <th>777</th>\n",
              "      <td>777</td>\n",
              "      <td>ಸಖತ್ ಟ್ರೋಲ್ ಬ್ರದರ್ nಬ್ರೊ ಈ ಗೇಮ್ ನೇಮ್ ಹೇಳಿ</td>\n",
              "      <td>Not_offensive</td>\n",
              "    </tr>\n",
              "  </tbody>\n",
              "</table>\n",
              "<p>778 rows × 3 columns</p>\n",
              "</div>"
            ],
            "text/plain": [
              "      id  ...                                 label\n",
              "0      0  ...                         Not_offensive\n",
              "1      1  ...                         Not_offensive\n",
              "2      2  ...                         Not_offensive\n",
              "3      3  ...                           not-Kannada\n",
              "4      4  ...                           not-Kannada\n",
              "..   ...  ...                                   ...\n",
              "773  773  ...                         Not_offensive\n",
              "774  774  ...  Offensive_Targeted_Insult_Individual\n",
              "775  775  ...                           not-Kannada\n",
              "776  776  ...                         Not_offensive\n",
              "777  777  ...                         Not_offensive\n",
              "\n",
              "[778 rows x 3 columns]"
            ]
          },
          "metadata": {
            "tags": []
          },
          "execution_count": 82
        }
      ]
    },
    {
      "cell_type": "markdown",
      "metadata": {
        "id": "p3FtBVTVroJi"
      },
      "source": [
        "## Saving Submission DataFrame"
      ]
    },
    {
      "cell_type": "code",
      "metadata": {
        "id": "SzoT0p9rqrO-"
      },
      "source": [
        "path = './drive/MyDrive/Codalab/Offensive Language Identification/SubmissionFiles'"
      ],
      "execution_count": null,
      "outputs": []
    },
    {
      "cell_type": "code",
      "metadata": {
        "id": "LZmgZFM4qi7F"
      },
      "source": [
        "df_f.to_csv(join(path,'xlmr_kannada.csv'),index=False)"
      ],
      "execution_count": null,
      "outputs": []
    },
    {
      "cell_type": "code",
      "metadata": {
        "id": "jW9g_qgMv7mq"
      },
      "source": [
        ""
      ],
      "execution_count": null,
      "outputs": []
    }
  ]
}