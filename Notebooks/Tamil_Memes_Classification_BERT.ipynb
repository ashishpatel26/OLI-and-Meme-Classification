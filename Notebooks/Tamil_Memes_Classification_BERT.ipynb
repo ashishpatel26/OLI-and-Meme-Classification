{
 "cells": [
  {
   "cell_type": "markdown",
   "metadata": {
    "id": "elqe9PQrVH6P"
   },
   "source": [
    "### Peforming checks for the resources available"
   ]
  },
  {
   "cell_type": "code",
   "execution_count": 1,
   "metadata": {
    "colab": {
     "base_uri": "https://localhost:8080/"
    },
    "id": "Jf_G8OH6auyS",
    "outputId": "17a9aa8d-906a-4fa6-ac68-6b9f3a1fe68c"
   },
   "outputs": [
    {
     "name": "stdout",
     "output_type": "stream",
     "text": [
      "Found GPU at: /device:GPU:0\n"
     ]
    }
   ],
   "source": [
    "import tensorflow as tf\r\n",
    "\r\n",
    "# Get the GPU device name.\r\n",
    "device_name = tf.test.gpu_device_name()\r\n",
    "\r\n",
    "# The device name should look like the following:\r\n",
    "if device_name == '/device:GPU:0':\r\n",
    "    print('Found GPU at: {}'.format(device_name))\r\n",
    "else:\r\n",
    "    raise SystemError('GPU device not found')"
   ]
  },
  {
   "cell_type": "code",
   "execution_count": 2,
   "metadata": {
    "colab": {
     "base_uri": "https://localhost:8080/"
    },
    "id": "fSELLChxa5su",
    "outputId": "2412b17a-5180-4e35-e77f-9100bee24f9d"
   },
   "outputs": [
    {
     "name": "stdout",
     "output_type": "stream",
     "text": [
      "There are 1 GPU(s) available.\n",
      "We will use the GPU: Tesla T4\n"
     ]
    }
   ],
   "source": [
    "import torch\r\n",
    "\r\n",
    "# If there's a GPU available...\r\n",
    "if torch.cuda.is_available():    \r\n",
    "\r\n",
    "    # Tell PyTorch to use the GPU.    \r\n",
    "    device = torch.device(\"cuda\")\r\n",
    "\r\n",
    "    print('There are %d GPU(s) available.' % torch.cuda.device_count())\r\n",
    "\r\n",
    "    print('We will use the GPU:', torch.cuda.get_device_name(0))\r\n",
    "\r\n",
    "# If not...\r\n",
    "else:\r\n",
    "    print('No GPU available, using the CPU instead.')\r\n",
    "    device = torch.device(\"cpu\")"
   ]
  },
  {
   "cell_type": "markdown",
   "metadata": {
    "id": "K-gbOgflVRxg"
   },
   "source": [
    "### Installing huggingface transformers library"
   ]
  },
  {
   "cell_type": "code",
   "execution_count": 3,
   "metadata": {
    "colab": {
     "base_uri": "https://localhost:8080/"
    },
    "id": "DbDuxKy0a9Zl",
    "outputId": "67446ce6-bf4f-4e5c-c7db-a18b1a983095"
   },
   "outputs": [
    {
     "name": "stdout",
     "output_type": "stream",
     "text": [
      "Collecting transformers\n",
      "\u001b[?25l  Downloading https://files.pythonhosted.org/packages/50/0c/7d5950fcd80b029be0a8891727ba21e0cd27692c407c51261c3c921f6da3/transformers-4.1.1-py3-none-any.whl (1.5MB)\n",
      "\u001b[K     |████████████████████████████████| 1.5MB 7.3MB/s \n",
      "\u001b[?25hRequirement already satisfied: tqdm>=4.27 in /usr/local/lib/python3.6/dist-packages (from transformers) (4.41.1)\n",
      "Requirement already satisfied: packaging in /usr/local/lib/python3.6/dist-packages (from transformers) (20.8)\n",
      "Requirement already satisfied: filelock in /usr/local/lib/python3.6/dist-packages (from transformers) (3.0.12)\n",
      "Requirement already satisfied: dataclasses; python_version < \"3.7\" in /usr/local/lib/python3.6/dist-packages (from transformers) (0.8)\n",
      "Requirement already satisfied: requests in /usr/local/lib/python3.6/dist-packages (from transformers) (2.23.0)\n",
      "Requirement already satisfied: regex!=2019.12.17 in /usr/local/lib/python3.6/dist-packages (from transformers) (2019.12.20)\n",
      "Collecting sacremoses\n",
      "\u001b[?25l  Downloading https://files.pythonhosted.org/packages/7d/34/09d19aff26edcc8eb2a01bed8e98f13a1537005d31e95233fd48216eed10/sacremoses-0.0.43.tar.gz (883kB)\n",
      "\u001b[K     |████████████████████████████████| 890kB 27.1MB/s \n",
      "\u001b[?25hCollecting tokenizers==0.9.4\n",
      "\u001b[?25l  Downloading https://files.pythonhosted.org/packages/0f/1c/e789a8b12e28be5bc1ce2156cf87cb522b379be9cadc7ad8091a4cc107c4/tokenizers-0.9.4-cp36-cp36m-manylinux2010_x86_64.whl (2.9MB)\n",
      "\u001b[K     |████████████████████████████████| 2.9MB 40.4MB/s \n",
      "\u001b[?25hRequirement already satisfied: numpy in /usr/local/lib/python3.6/dist-packages (from transformers) (1.19.4)\n",
      "Requirement already satisfied: pyparsing>=2.0.2 in /usr/local/lib/python3.6/dist-packages (from packaging->transformers) (2.4.7)\n",
      "Requirement already satisfied: chardet<4,>=3.0.2 in /usr/local/lib/python3.6/dist-packages (from requests->transformers) (3.0.4)\n",
      "Requirement already satisfied: idna<3,>=2.5 in /usr/local/lib/python3.6/dist-packages (from requests->transformers) (2.10)\n",
      "Requirement already satisfied: certifi>=2017.4.17 in /usr/local/lib/python3.6/dist-packages (from requests->transformers) (2020.12.5)\n",
      "Requirement already satisfied: urllib3!=1.25.0,!=1.25.1,<1.26,>=1.21.1 in /usr/local/lib/python3.6/dist-packages (from requests->transformers) (1.24.3)\n",
      "Requirement already satisfied: six in /usr/local/lib/python3.6/dist-packages (from sacremoses->transformers) (1.15.0)\n",
      "Requirement already satisfied: click in /usr/local/lib/python3.6/dist-packages (from sacremoses->transformers) (7.1.2)\n",
      "Requirement already satisfied: joblib in /usr/local/lib/python3.6/dist-packages (from sacremoses->transformers) (1.0.0)\n",
      "Building wheels for collected packages: sacremoses\n",
      "  Building wheel for sacremoses (setup.py) ... \u001b[?25l\u001b[?25hdone\n",
      "  Created wheel for sacremoses: filename=sacremoses-0.0.43-cp36-none-any.whl size=893261 sha256=8f48beb1da7773d09098a979ce76a74a9b2939102c94d6c32274c622c94ed016\n",
      "  Stored in directory: /root/.cache/pip/wheels/29/3c/fd/7ce5c3f0666dab31a50123635e6fb5e19ceb42ce38d4e58f45\n",
      "Successfully built sacremoses\n",
      "Installing collected packages: sacremoses, tokenizers, transformers\n",
      "Successfully installed sacremoses-0.0.43 tokenizers-0.9.4 transformers-4.1.1\n"
     ]
    }
   ],
   "source": [
    "!pip install transformers"
   ]
  },
  {
   "cell_type": "markdown",
   "metadata": {
    "id": "2v1AIN_OVX4t"
   },
   "source": [
    "### Importing drive into the colaboratory"
   ]
  },
  {
   "cell_type": "code",
   "execution_count": 4,
   "metadata": {
    "colab": {
     "base_uri": "https://localhost:8080/"
    },
    "id": "Lofimyh2a_tp",
    "outputId": "88a9c9b7-cbd6-4917-c604-aaf87299ab63"
   },
   "outputs": [
    {
     "name": "stdout",
     "output_type": "stream",
     "text": [
      "Mounted at /content/drive\n"
     ]
    }
   ],
   "source": [
    "from google.colab import drive \r\n",
    "drive.mount('/content/drive')"
   ]
  },
  {
   "cell_type": "markdown",
   "metadata": {
    "id": "yOK-M00dVeW2"
   },
   "source": [
    "### Importing dataset directories"
   ]
  },
  {
   "cell_type": "code",
   "execution_count": 12,
   "metadata": {
    "id": "-y-JRPKBbCTv"
   },
   "outputs": [],
   "source": [
    "from os import getcwd , listdir \r\n",
    "from os.path import join\r\n",
    "curr_dir = getcwd()\r\n",
    "drive_dir = join(curr_dir , 'drive','MyDrive')\r\n",
    "dataset_dir = join(drive_dir,'Codalab','Meme Classification Challenge','Tamil_troll_memes')"
   ]
  },
  {
   "cell_type": "code",
   "execution_count": 13,
   "metadata": {
    "colab": {
     "base_uri": "https://localhost:8080/"
    },
    "id": "7YU1h8WhmqvK",
    "outputId": "aacfef7a-7ae2-4aca-d321-345fa7be7dce"
   },
   "outputs": [
    {
     "data": {
      "text/plain": [
       "['training_img.zip', 'train_captions.csv', 'training_img', 'labels.csv']"
      ]
     },
     "execution_count": 13,
     "metadata": {
      "tags": []
     },
     "output_type": "execute_result"
    }
   ],
   "source": [
    "listdir(dataset_dir)"
   ]
  },
  {
   "cell_type": "code",
   "execution_count": 14,
   "metadata": {
    "colab": {
     "base_uri": "https://localhost:8080/",
     "height": 343
    },
    "id": "KoLoNPmpWuF2",
    "outputId": "f288ba9c-7c2d-42a5-fbe5-3befec162553"
   },
   "outputs": [
    {
     "data": {
      "text/html": [
       "<div>\n",
       "<style scoped>\n",
       "    .dataframe tbody tr th:only-of-type {\n",
       "        vertical-align: middle;\n",
       "    }\n",
       "\n",
       "    .dataframe tbody tr th {\n",
       "        vertical-align: top;\n",
       "    }\n",
       "\n",
       "    .dataframe thead th {\n",
       "        text-align: right;\n",
       "    }\n",
       "</style>\n",
       "<table border=\"1\" class=\"dataframe\">\n",
       "  <thead>\n",
       "    <tr style=\"text-align: right;\">\n",
       "      <th></th>\n",
       "      <th>imagename</th>\n",
       "      <th>captions</th>\n",
       "      <th>labels</th>\n",
       "    </tr>\n",
       "  </thead>\n",
       "  <tbody>\n",
       "    <tr>\n",
       "      <th>1019</th>\n",
       "      <td>troll_1.jpg</td>\n",
       "      <td>appada.. naama yedhirpartha katchi yellam onna...</td>\n",
       "      <td>troll</td>\n",
       "    </tr>\n",
       "    <tr>\n",
       "      <th>1181</th>\n",
       "      <td>troll_1144.jpg</td>\n",
       "      <td>PEOPLE : EARKANAVAE INDHA COIN SELLATHUNU EVAN...</td>\n",
       "      <td>troll</td>\n",
       "    </tr>\n",
       "    <tr>\n",
       "      <th>449</th>\n",
       "      <td>Not_troll_487.jpg</td>\n",
       "      <td>irukkura prechanaikku naduvula ivanunga vera...</td>\n",
       "      <td>Not_troll</td>\n",
       "    </tr>\n",
       "    <tr>\n",
       "      <th>1753</th>\n",
       "      <td>troll_1706.jpg</td>\n",
       "      <td>AADAI MOVIE... *AMALA PAUL: FIRST_LOOK....TEAS...</td>\n",
       "      <td>troll</td>\n",
       "    </tr>\n",
       "    <tr>\n",
       "      <th>1971</th>\n",
       "      <td>troll_1902.jpg</td>\n",
       "      <td>UNGAL RAGASIYANGALEI YAARODUM PAGIRNTHU KOLLAD...</td>\n",
       "      <td>troll</td>\n",
       "    </tr>\n",
       "    <tr>\n",
       "      <th>2203</th>\n",
       "      <td>troll_356.jpg</td>\n",
       "      <td>maattukariyai vida malam suvaiyaanadhu....    ...</td>\n",
       "      <td>troll</td>\n",
       "    </tr>\n",
       "    <tr>\n",
       "      <th>995</th>\n",
       "      <td>Not_troll_979.jpg</td>\n",
       "      <td>ha ha!  semma comedy</td>\n",
       "      <td>Not_troll</td>\n",
       "    </tr>\n",
       "    <tr>\n",
       "      <th>854</th>\n",
       "      <td>Not_troll_851.jpg</td>\n",
       "      <td>naan \"avan\" illada... vitturunkada!</td>\n",
       "      <td>Not_troll</td>\n",
       "    </tr>\n",
       "    <tr>\n",
       "      <th>567</th>\n",
       "      <td>Not_troll_593.jpg</td>\n",
       "      <td>yendhaneramum onlinil irundhaal ennai velaivet...</td>\n",
       "      <td>Not_troll</td>\n",
       "    </tr>\n",
       "    <tr>\n",
       "      <th>819</th>\n",
       "      <td>Not_troll_82.jpg</td>\n",
       "      <td>theriyama request kuduthutenda..  vitturuda....</td>\n",
       "      <td>Not_troll</td>\n",
       "    </tr>\n",
       "  </tbody>\n",
       "</table>\n",
       "</div>"
      ],
      "text/plain": [
       "              imagename  ...     labels\n",
       "1019        troll_1.jpg  ...      troll\n",
       "1181     troll_1144.jpg  ...      troll\n",
       "449   Not_troll_487.jpg  ...  Not_troll\n",
       "1753     troll_1706.jpg  ...      troll\n",
       "1971     troll_1902.jpg  ...      troll\n",
       "2203      troll_356.jpg  ...      troll\n",
       "995   Not_troll_979.jpg  ...  Not_troll\n",
       "854   Not_troll_851.jpg  ...  Not_troll\n",
       "567   Not_troll_593.jpg  ...  Not_troll\n",
       "819    Not_troll_82.jpg  ...  Not_troll\n",
       "\n",
       "[10 rows x 3 columns]"
      ]
     },
     "execution_count": 14,
     "metadata": {
      "tags": []
     },
     "output_type": "execute_result"
    }
   ],
   "source": [
    "import pandas as pd\r\n",
    "df_path = join(dataset_dir,'labels.csv')\r\n",
    "# Load the dataset into a pandas dataframe.\r\n",
    "df = pd.read_csv(df_path)\r\n",
    "df.sample(10)"
   ]
  },
  {
   "cell_type": "markdown",
   "metadata": {
    "id": "1aJvql_6p-Ca"
   },
   "source": [
    "### Extracting `sentences` and `labels` from our dataframe"
   ]
  },
  {
   "cell_type": "code",
   "execution_count": 8,
   "metadata": {
    "id": "eJdGbBXXp5Dp"
   },
   "outputs": [],
   "source": [
    "sentences = df['captions'].values\r\n",
    "labels = df['labels'].values"
   ]
  },
  {
   "cell_type": "code",
   "execution_count": 15,
   "metadata": {
    "colab": {
     "base_uri": "https://localhost:8080/"
    },
    "id": "YpOuklA_qoU5",
    "outputId": "d6a63a78-d8fe-429d-938f-f7ccce5892c8"
   },
   "outputs": [
    {
     "data": {
      "text/plain": [
       "troll        1282\n",
       "Not_troll    1018\n",
       "Name: labels, dtype: int64"
      ]
     },
     "execution_count": 15,
     "metadata": {
      "tags": []
     },
     "output_type": "execute_result"
    }
   ],
   "source": [
    "df['labels'].value_counts()"
   ]
  },
  {
   "cell_type": "code",
   "execution_count": 16,
   "metadata": {
    "id": "vZf4NmjLqVpd"
   },
   "outputs": [],
   "source": [
    "from sklearn.preprocessing import LabelEncoder\r\n",
    "le = LabelEncoder()\r\n",
    "df.loc[:,'labels'] = le.fit_transform(df.loc[:,'labels'])"
   ]
  },
  {
   "cell_type": "code",
   "execution_count": 17,
   "metadata": {
    "colab": {
     "base_uri": "https://localhost:8080/"
    },
    "id": "5LDWvpmIqenc",
    "outputId": "b0d1d0fd-7416-4aec-c823-b8f602dbc8ac"
   },
   "outputs": [
    {
     "data": {
      "text/plain": [
       "1    1282\n",
       "0    1018\n",
       "Name: labels, dtype: int64"
      ]
     },
     "execution_count": 17,
     "metadata": {
      "tags": []
     },
     "output_type": "execute_result"
    }
   ],
   "source": [
    "df['labels'].value_counts()"
   ]
  },
  {
   "cell_type": "markdown",
   "metadata": {
    "id": "lAwOGIewXqpN"
   },
   "source": [
    "### Splitting the dataset into `train` , `dev` set"
   ]
  },
  {
   "cell_type": "code",
   "execution_count": 19,
   "metadata": {
    "id": "XduIyHZuYEfO"
   },
   "outputs": [],
   "source": [
    "from sklearn.model_selection import train_test_split\r\n",
    "train_sentences, val_sentences , train_labels , val_labels = train_test_split(df['captions'],df['labels'],test_size = 0.2,random_state = 42,stratify = df['labels'])"
   ]
  },
  {
   "cell_type": "code",
   "execution_count": 20,
   "metadata": {
    "colab": {
     "base_uri": "https://localhost:8080/"
    },
    "id": "AxyOPj_QYPyq",
    "outputId": "9461c545-16f5-470e-c0fd-4e63a9e7e301"
   },
   "outputs": [
    {
     "data": {
      "text/plain": [
       "1483    IVANA VIDA IVAN DHAN DA ENNA ROMBA TORCHEL PAN...\n",
       "531           vunakkulam vukkarura yedathula katti vara..\n",
       "1448    *ME : NETHU NIGHT UH, NEE CHICKEN AH ALLI ALLI...\n",
       "415     mandaikku mela kondai irundha matum podhadhu.....\n",
       "914     aahaa track namma pakkam thirumbudhe... appadi...\n",
       "                              ...                        \n",
       "1730    PANDRADHAYUM PANNITU MOONJIYA EPDI VACHURUKKAN...\n",
       "12       Karupu vulaipaligalin vannam.. theriuma vunakku?\n",
       "2226    pattu paduravan peru paadagan na !!   arrear v...\n",
       "981           ni... nidhaan...   adhukku  sariya ippa....\n",
       "1307    *BOYS : IPA ETHUKU IVLO MAKEUP POTRUKINGA..?? ...\n",
       "Name: captions, Length: 1840, dtype: object"
      ]
     },
     "execution_count": 20,
     "metadata": {
      "tags": []
     },
     "output_type": "execute_result"
    }
   ],
   "source": [
    "train_sentences"
   ]
  },
  {
   "cell_type": "code",
   "execution_count": 21,
   "metadata": {
    "colab": {
     "base_uri": "https://localhost:8080/"
    },
    "id": "ZXiqb_iQYSYN",
    "outputId": "12af2056-977e-4b93-cd6e-ef7a8683db65"
   },
   "outputs": [
    {
     "data": {
      "text/plain": [
       "1232    ACTING LEVEL KARAN ANNA : KINDNESS(ANBU) , VIC...\n",
       "566                                    aiyo! semma comedy\n",
       "459     yennangada mudi idhu..??  naai nakkuna maadhir...\n",
       "683               romba nalla irukku thambi vun karuthu..\n",
       "1682    *DOCTOR : DEI NEE ENGINEER AH  *ENGINEER : AAM...\n",
       "                              ...                        \n",
       "524                       idhellam oru polappa..  thuu...\n",
       "600             yedukku vambu nammalun adhaiye solluvom..\n",
       "159                                 yenna oru villathanam\n",
       "1840    #GROUP ADMIN: WHATSAPP GROUP ADMIN REACTION WH...\n",
       "1752    NELLIN AADEIYAI KALEINDHAL AARISI..  ANDHA AVA...\n",
       "Name: captions, Length: 460, dtype: object"
      ]
     },
     "execution_count": 21,
     "metadata": {
      "tags": []
     },
     "output_type": "execute_result"
    }
   ],
   "source": [
    "val_sentences"
   ]
  },
  {
   "cell_type": "code",
   "execution_count": 22,
   "metadata": {
    "colab": {
     "base_uri": "https://localhost:8080/"
    },
    "id": "T7Z_WCNUcND9",
    "outputId": "3d5a641b-e46b-4d91-cb81-9ccc77c7f6fc"
   },
   "outputs": [
    {
     "data": {
      "text/plain": [
       "1483    1\n",
       "531     0\n",
       "1448    1\n",
       "415     0\n",
       "914     0\n",
       "       ..\n",
       "1730    1\n",
       "12      0\n",
       "2226    1\n",
       "981     0\n",
       "1307    1\n",
       "Name: labels, Length: 1840, dtype: int64"
      ]
     },
     "execution_count": 22,
     "metadata": {
      "tags": []
     },
     "output_type": "execute_result"
    }
   ],
   "source": [
    "train_labels"
   ]
  },
  {
   "cell_type": "code",
   "execution_count": 23,
   "metadata": {
    "colab": {
     "base_uri": "https://localhost:8080/"
    },
    "id": "_KIqGHO0q8uS",
    "outputId": "0c131dac-257d-4c9e-ea80-9a31b67ae692"
   },
   "outputs": [
    {
     "data": {
      "text/plain": [
       "1232    1\n",
       "566     0\n",
       "459     0\n",
       "683     0\n",
       "1682    1\n",
       "       ..\n",
       "524     0\n",
       "600     0\n",
       "159     0\n",
       "1840    1\n",
       "1752    1\n",
       "Name: labels, Length: 460, dtype: int64"
      ]
     },
     "execution_count": 23,
     "metadata": {
      "tags": []
     },
     "output_type": "execute_result"
    }
   ],
   "source": [
    "val_labels"
   ]
  },
  {
   "cell_type": "code",
   "execution_count": 24,
   "metadata": {
    "colab": {
     "base_uri": "https://localhost:8080/"
    },
    "id": "joone3H4bINR",
    "outputId": "066730f8-8410-49d6-e514-c69b10da9367"
   },
   "outputs": [
    {
     "name": "stdout",
     "output_type": "stream",
     "text": [
      "Number of training sentences: 1,840\n",
      "\n"
     ]
    }
   ],
   "source": [
    "import numpy as np \r\n",
    "import random\r\n",
    "\r\n",
    "# Report the number of sentences.\r\n",
    "print('Number of training sentences: {:,}\\n'.format(train_sentences.shape[0]))"
   ]
  },
  {
   "cell_type": "code",
   "execution_count": 25,
   "metadata": {
    "id": "7GH8NPtKOw-Z"
   },
   "outputs": [],
   "source": [
    "label_dict = {0:'Not_troll',1:'troll'}"
   ]
  },
  {
   "cell_type": "markdown",
   "metadata": {
    "id": "fS2UcOiEVuhm"
   },
   "source": [
    "### Handling class imbalance using `sklearn's comput_class_weight`"
   ]
  },
  {
   "cell_type": "code",
   "execution_count": 36,
   "metadata": {
    "colab": {
     "base_uri": "https://localhost:8080/"
    },
    "id": "WL4tP_YkI1mY",
    "outputId": "91ca7f68-2312-4e62-f37f-1bf4647d9650"
   },
   "outputs": [
    {
     "name": "stdout",
     "output_type": "stream",
     "text": [
      "[1.13022113 0.89668616]\n"
     ]
    }
   ],
   "source": [
    "from sklearn.utils.class_weight import compute_class_weight\r\n",
    "\r\n",
    "#compute the class weights\r\n",
    "class_wts = compute_class_weight('balanced', np.unique(train_labels), train_labels)\r\n",
    "\r\n",
    "print(class_wts)"
   ]
  },
  {
   "cell_type": "markdown",
   "metadata": {
    "id": "z_WjMTuibsrf"
   },
   "source": [
    "### Helper Functions"
   ]
  },
  {
   "cell_type": "markdown",
   "metadata": {
    "id": "Bef28eHNV-_d"
   },
   "source": [
    "#### 1) Update Interval Function"
   ]
  },
  {
   "cell_type": "code",
   "execution_count": 26,
   "metadata": {
    "id": "lBK0ujfEbMir"
   },
   "outputs": [],
   "source": [
    "def good_update_interval(total_iters, num_desired_updates):\r\n",
    "    '''\r\n",
    "    This function will try to pick an intelligent progress update interval \r\n",
    "    based on the magnitude of the total iterations.\r\n",
    "\r\n",
    "    Parameters:\r\n",
    "      `total_iters` - The number of iterations in the for-loop.\r\n",
    "      `num_desired_updates` - How many times we want to see an update over the \r\n",
    "                              course of the for-loop.\r\n",
    "    '''\r\n",
    "    # Divide the total iterations by the desired number of updates. Most likely\r\n",
    "    # this will be some ugly number.\r\n",
    "    exact_interval = total_iters / num_desired_updates\r\n",
    "\r\n",
    "    # The `round` function has the ability to round down a number to, e.g., the\r\n",
    "    # nearest thousandth: round(exact_interval, -3)\r\n",
    "    #\r\n",
    "    # To determine the magnitude to round to, find the magnitude of the total,\r\n",
    "    # and then go one magnitude below that.\r\n",
    "\r\n",
    "    # Get the order of magnitude of the total.\r\n",
    "    order_of_mag = len(str(total_iters)) - 1\r\n",
    "\r\n",
    "    # Our update interval should be rounded to an order of magnitude smaller. \r\n",
    "    round_mag = order_of_mag - 1\r\n",
    "\r\n",
    "    # Round down and cast to an int.\r\n",
    "    update_interval = int(round(exact_interval, -round_mag))\r\n",
    "\r\n",
    "    # Don't allow the interval to be zero!\r\n",
    "    if update_interval == 0:\r\n",
    "        update_interval = 1\r\n",
    "\r\n",
    "    return update_interval"
   ]
  },
  {
   "cell_type": "markdown",
   "metadata": {
    "id": "eMGycwGAWFyO"
   },
   "source": [
    "#### 2) Format time function"
   ]
  },
  {
   "cell_type": "code",
   "execution_count": 27,
   "metadata": {
    "id": "c9zVyNQLm-3q"
   },
   "outputs": [],
   "source": [
    "import time\r\n",
    "import datetime\r\n",
    "\r\n",
    "def format_time(elapsed):\r\n",
    "    '''\r\n",
    "    Takes a time in seconds and returns a string hh:mm:ss\r\n",
    "    '''\r\n",
    "    # Round to the nearest second.\r\n",
    "    elapsed_rounded = int(round((elapsed)))\r\n",
    "    \r\n",
    "    # Format as hh:mm:ss\r\n",
    "    return str(datetime.timedelta(seconds=elapsed_rounded))\r\n"
   ]
  },
  {
   "cell_type": "markdown",
   "metadata": {
    "id": "EBAo04ENWw3n"
   },
   "source": [
    "#### 3) Make Smart Batches function"
   ]
  },
  {
   "cell_type": "code",
   "execution_count": 28,
   "metadata": {
    "id": "nof-AUeoiZc2"
   },
   "outputs": [],
   "source": [
    "def make_smart_batches(text_samples, labels, batch_size,tokenizer,max_input_length):\r\n",
    "    '''\r\n",
    "    This function combines all of the required steps to prepare batches.\r\n",
    "    '''\r\n",
    "\r\n",
    "    print('Creating Smart Batches from {:,} examples with batch size {:,}...\\n'.format(len(text_samples), batch_size))\r\n",
    "\r\n",
    "    # =========================\r\n",
    "    #   Tokenize & Truncate\r\n",
    "    # =========================\r\n",
    "\r\n",
    "    full_input_ids = []\r\n",
    "\r\n",
    "    # Tokenize all training examples\r\n",
    "    print('Tokenizing {:,} samples...'.format(len(labels)))\r\n",
    "\r\n",
    "    # Choose an interval on which to print progress updates.\r\n",
    "    update_interval = good_update_interval(total_iters=len(labels), num_desired_updates=10)\r\n",
    "\r\n",
    "    # For each training example...\r\n",
    "    for text in text_samples:\r\n",
    "        \r\n",
    "        # Report progress.\r\n",
    "        if ((len(full_input_ids) % update_interval) == 0):\r\n",
    "            print('  Tokenized {:,} samples.'.format(len(full_input_ids)))\r\n",
    "\r\n",
    "        # Tokenize the sample.\r\n",
    "        input_ids = tokenizer.encode(text=text,              # Text to encode.\r\n",
    "                                    add_special_tokens=True, # Do add specials.\r\n",
    "                                    max_length=max_input_length,      \r\n",
    "                                    truncation=True,         # Do Truncate!\r\n",
    "                                    padding=False)           # DO NOT pad.\r\n",
    "                                    \r\n",
    "        # Add the tokenized result to our list.\r\n",
    "        full_input_ids.append(input_ids)\r\n",
    "        \r\n",
    "    print('DONE.')\r\n",
    "    print('{:>10,} samples\\n'.format(len(full_input_ids)))\r\n",
    "\r\n",
    "    # =========================\r\n",
    "    #      Select Batches\r\n",
    "    # =========================    \r\n",
    "\r\n",
    "    # Sort the two lists together by the length of the input sequence.\r\n",
    "    samples = sorted(zip(full_input_ids, labels), key=lambda x: len(x[0]))\r\n",
    "\r\n",
    "    print('{:>10,} samples after sorting\\n'.format(len(samples)))\r\n",
    "\r\n",
    "    import random\r\n",
    "\r\n",
    "    # List of batches that we'll construct.\r\n",
    "    batch_ordered_sentences = []\r\n",
    "    batch_ordered_labels = []\r\n",
    "\r\n",
    "    print('Creating batches of size {:}...'.format(batch_size))\r\n",
    "\r\n",
    "    # Choose an interval on which to print progress updates.\r\n",
    "    update_interval = good_update_interval(total_iters=len(samples), num_desired_updates=10)\r\n",
    "    \r\n",
    "    # Loop over all of the input samples...    \r\n",
    "    while len(samples) > 0:\r\n",
    "        \r\n",
    "        # Report progress.\r\n",
    "        if ((len(batch_ordered_sentences) % update_interval) == 0 \\\r\n",
    "            and not len(batch_ordered_sentences) == 0):\r\n",
    "            print('  Selected {:,} batches.'.format(len(batch_ordered_sentences)))\r\n",
    "\r\n",
    "        # `to_take` is our actual batch size. It will be `batch_size` until \r\n",
    "        # we get to the last batch, which may be smaller. \r\n",
    "        to_take = min(batch_size, len(samples))\r\n",
    "\r\n",
    "        # Pick a random index in the list of remaining samples to start\r\n",
    "        # our batch at.\r\n",
    "        select = random.randint(0, len(samples) - to_take)\r\n",
    "\r\n",
    "        # Select a contiguous batch of samples starting at `select`.\r\n",
    "        #print(\"Selecting batch from {:} to {:}\".format(select, select+to_take))\r\n",
    "        batch = samples[select:(select + to_take)]\r\n",
    "\r\n",
    "        #print(\"Batch length:\", len(batch))\r\n",
    "\r\n",
    "        # Each sample is a tuple--split them apart to create a separate list of \r\n",
    "        # sequences and a list of labels for this batch.\r\n",
    "        batch_ordered_sentences.append([s[0] for s in batch])\r\n",
    "        batch_ordered_labels.append([s[1] for s in batch])\r\n",
    "\r\n",
    "        # Remove these samples from the list.\r\n",
    "        del samples[select:select + to_take]\r\n",
    "\r\n",
    "    print('\\n  DONE - Selected {:,} batches.\\n'.format(len(batch_ordered_sentences)))\r\n",
    "\r\n",
    "    # =========================\r\n",
    "    #        Add Padding\r\n",
    "    # =========================    \r\n",
    "\r\n",
    "    print('Padding out sequences within each batch...')\r\n",
    "\r\n",
    "    py_inputs = []\r\n",
    "    py_attn_masks = []\r\n",
    "    py_labels = []\r\n",
    "\r\n",
    "    # For each batch...\r\n",
    "    for (batch_inputs, batch_labels) in zip(batch_ordered_sentences, batch_ordered_labels):\r\n",
    "\r\n",
    "        # New version of the batch, this time with padded sequences and now with\r\n",
    "        # attention masks defined.\r\n",
    "        batch_padded_inputs = []\r\n",
    "        batch_attn_masks = []\r\n",
    "        \r\n",
    "        # First, find the longest sample in the batch. \r\n",
    "        # Note that the sequences do currently include the special tokens!\r\n",
    "        max_size = max([len(sen) for sen in batch_inputs])\r\n",
    "\r\n",
    "        # For each input in this batch...\r\n",
    "        for sen in batch_inputs:\r\n",
    "            \r\n",
    "            # How many pad tokens do we need to add?\r\n",
    "            num_pads = max_size - len(sen)\r\n",
    "\r\n",
    "            # Add `num_pads` padding tokens to the end of the sequence.\r\n",
    "            padded_input = sen + [tokenizer.pad_token_id]*num_pads\r\n",
    "\r\n",
    "            # Define the attention mask--it's just a `1` for every real token\r\n",
    "            # and a `0` for every padding token.\r\n",
    "            attn_mask = [1] * len(sen) + [0] * num_pads\r\n",
    "\r\n",
    "            # Add the padded results to the batch.\r\n",
    "            batch_padded_inputs.append(padded_input)\r\n",
    "            batch_attn_masks.append(attn_mask)\r\n",
    "\r\n",
    "        # Our batch has been padded, so we need to save this updated batch.\r\n",
    "        # We also need the inputs to be PyTorch tensors, so we'll do that here.\r\n",
    "        # Todo - Michael's code specified \"dtype=torch.long\"\r\n",
    "        py_inputs.append(torch.tensor(batch_padded_inputs))\r\n",
    "        py_attn_masks.append(torch.tensor(batch_attn_masks))\r\n",
    "        py_labels.append(torch.tensor(batch_labels))\r\n",
    "    \r\n",
    "    print('  DONE.')\r\n",
    "\r\n",
    "    # Return the smart-batched dataset!\r\n",
    "    return (py_inputs, py_attn_masks, py_labels)\r\n"
   ]
  },
  {
   "cell_type": "markdown",
   "metadata": {
    "id": "e0FiO9F9Wow2"
   },
   "source": [
    "#### 4) Function for calculating weighted f1 score"
   ]
  },
  {
   "cell_type": "code",
   "execution_count": 29,
   "metadata": {
    "id": "2vCW7tsYi52r"
   },
   "outputs": [],
   "source": [
    "def f1_score_func(preds, labels,average):\r\n",
    "    preds_flat = np.argmax(preds, axis=1).flatten()\r\n",
    "    labels_flat = labels.flatten()\r\n",
    "    return f1_score(labels_flat, preds_flat, average=average,labels = np.unique(preds_flat))"
   ]
  },
  {
   "cell_type": "markdown",
   "metadata": {
    "id": "x6EHYpUbz8fo"
   },
   "source": [
    "#### 5) Function for calculating accuracy per class"
   ]
  },
  {
   "cell_type": "code",
   "execution_count": 30,
   "metadata": {
    "id": "Knuw_DOei8RO"
   },
   "outputs": [],
   "source": [
    "def accuracy_per_class(preds, labels , label_dict):\r\n",
    "    \r\n",
    "    preds_flat = np.argmax(preds, axis=1).flatten()\r\n",
    "    labels_flat = labels.flatten()\r\n",
    "\r\n",
    "    for label in np.unique(labels_flat):\r\n",
    "        y_preds = preds_flat[labels_flat==label]\r\n",
    "        y_true = labels_flat[labels_flat==label]\r\n",
    "        print(f'Class: {label_dict[label]}')\r\n",
    "        print(f'Accuracy: {round(100*len(y_preds[y_preds==label])/len(y_true) , 2)}\\n')"
   ]
  },
  {
   "cell_type": "markdown",
   "metadata": {
    "id": "OVs3Jb3Vb89i"
   },
   "source": [
    "## Smart Batching of the training data"
   ]
  },
  {
   "cell_type": "code",
   "execution_count": 31,
   "metadata": {
    "colab": {
     "base_uri": "https://localhost:8080/",
     "height": 180,
     "referenced_widgets": [
      "7880c30e35be4918bd1e8bc885d379ab",
      "d9ce20827b7c49c1bd5ec259e076e0f8",
      "947cfbd083944c2483c4c4f13cd5dc64",
      "b24c90513d194b3a88eb50d721d908d9",
      "30a58f2703c04df4a961e3c8f73a25db",
      "10ee44e7550e4018bb77c8e67e936236",
      "0f887e2451514395a09c68c02874e636",
      "0258f2c70b8e45928eac5a6313c83ee9",
      "353c4da9efee4692bab19a4663496cfb",
      "a0ebe02909c24dc3b05ebf51f73f9be6",
      "1557b3da1b904b62881fbcc673c5f66a",
      "386cda9b0c8741e9862c43de31282452",
      "6464f071453e4c5b87daef3f0bd0d4e1",
      "cc89e92485cb423bad91c006dbca5f7d",
      "b4d74157504a4917b494a17c4fa84730",
      "666cd968e9844fdc8c3a66aa6ad23a56",
      "2869ae29fe724dca9e0dd81a9ef45ed2",
      "4a72735165ca4ff994af166a4a5f4a58",
      "3e28ae09c67f41898fbc3337ef96a641",
      "a7c93ea346b240c4a9fcd2aa446dea82",
      "f54602711ed24abd9f56b7ac9a71f61f",
      "0740505240ea493b846c4e00fc490427",
      "e71fbb376d1f4c19af5f7a3e0f7424e6",
      "9389ddfb42db4d42b68ba5f2b35dd084"
     ]
    },
    "id": "fIlwEvcMb4pb",
    "outputId": "76229854-ab0c-4dc4-ae9b-0fd405a5920b"
   },
   "outputs": [
    {
     "name": "stdout",
     "output_type": "stream",
     "text": [
      "Loading bert-base-multilingual-uncased tokenizer...\n"
     ]
    },
    {
     "data": {
      "application/vnd.jupyter.widget-view+json": {
       "model_id": "7880c30e35be4918bd1e8bc885d379ab",
       "version_major": 2,
       "version_minor": 0
      },
      "text/plain": [
       "HBox(children=(FloatProgress(value=0.0, description='Downloading', max=625.0, style=ProgressStyle(description_…"
      ]
     },
     "metadata": {
      "tags": []
     },
     "output_type": "display_data"
    },
    {
     "name": "stdout",
     "output_type": "stream",
     "text": [
      "\n"
     ]
    },
    {
     "data": {
      "application/vnd.jupyter.widget-view+json": {
       "model_id": "353c4da9efee4692bab19a4663496cfb",
       "version_major": 2,
       "version_minor": 0
      },
      "text/plain": [
       "HBox(children=(FloatProgress(value=0.0, description='Downloading', max=871891.0, style=ProgressStyle(descripti…"
      ]
     },
     "metadata": {
      "tags": []
     },
     "output_type": "display_data"
    },
    {
     "name": "stdout",
     "output_type": "stream",
     "text": [
      "\n"
     ]
    },
    {
     "data": {
      "application/vnd.jupyter.widget-view+json": {
       "model_id": "2869ae29fe724dca9e0dd81a9ef45ed2",
       "version_major": 2,
       "version_minor": 0
      },
      "text/plain": [
       "HBox(children=(FloatProgress(value=0.0, description='Downloading', max=1715180.0, style=ProgressStyle(descript…"
      ]
     },
     "metadata": {
      "tags": []
     },
     "output_type": "display_data"
    },
    {
     "name": "stdout",
     "output_type": "stream",
     "text": [
      "\n"
     ]
    }
   ],
   "source": [
    "from transformers import AutoTokenizer\r\n",
    "\r\n",
    "model_name = 'bert-base-multilingual-uncased'\r\n",
    "# Load the BERT tokenizer.\r\n",
    "print(f'Loading {model_name} tokenizer...')\r\n",
    "tokenizer = AutoTokenizer.from_pretrained(model_name, do_lower_case=True)"
   ]
  },
  {
   "cell_type": "code",
   "execution_count": 32,
   "metadata": {
    "id": "cWNt4eOLofmF"
   },
   "outputs": [],
   "source": [
    "lengths = []\r\n",
    "for text in train_sentences:\r\n",
    "  lengths.append(len(text))       "
   ]
  },
  {
   "cell_type": "code",
   "execution_count": 33,
   "metadata": {
    "colab": {
     "base_uri": "https://localhost:8080/",
     "height": 427
    },
    "id": "hbdGRA3Bo02O",
    "outputId": "1b18789d-44ab-4efa-a1e6-ca97ffdc4f55"
   },
   "outputs": [
    {
     "data": {
      "image/png": "[encoded data removed]",
      "text/plain": [
       "<Figure size 864x432 with 1 Axes>"
      ]
     },
     "metadata": {
      "tags": []
     },
     "output_type": "display_data"
    }
   ],
   "source": [
    "import matplotlib.pyplot as plt\r\n",
    "import seaborn as sns\r\n",
    "\r\n",
    "# Use plot styling from seaborn.\r\n",
    "sns.set(style='darkgrid')\r\n",
    "\r\n",
    "# Increase the plot size and font size.\r\n",
    "sns.set(font_scale=1.5)\r\n",
    "plt.rcParams[\"figure.figsize\"] = (12,6)\r\n",
    "\r\n",
    "plt.scatter(range(0, len(lengths)), lengths, marker=\"|\")\r\n",
    "\r\n",
    "plt.xlabel('Sample Number')\r\n",
    "plt.ylabel('Sequence Length')\r\n",
    "plt.title('Samples BEFORE Tokenizing')\r\n",
    "\r\n",
    "plt.show()"
   ]
  },
  {
   "cell_type": "markdown",
   "metadata": {
    "id": "9rMhLNhPcZjU"
   },
   "source": [
    "### Tokenizing the sequences"
   ]
  },
  {
   "cell_type": "code",
   "execution_count": 34,
   "metadata": {
    "id": "t7JsLi3EdEje"
   },
   "outputs": [],
   "source": [
    "max_input_length = 320"
   ]
  },
  {
   "cell_type": "code",
   "execution_count": 35,
   "metadata": {
    "colab": {
     "base_uri": "https://localhost:8080/"
    },
    "id": "J968o8RJcUEd",
    "outputId": "1a4b1e7d-4ea0-4ee0-b718-559d629abd06"
   },
   "outputs": [
    {
     "name": "stdout",
     "output_type": "stream",
     "text": [
      "Tokenizing 1,840 training samples...\n",
      "  Tokenized 0 samples.\n",
      "  Tokenized 200 samples.\n",
      "  Tokenized 400 samples.\n",
      "  Tokenized 600 samples.\n",
      "  Tokenized 800 samples.\n",
      "  Tokenized 1,000 samples.\n",
      "  Tokenized 1,200 samples.\n",
      "  Tokenized 1,400 samples.\n",
      "  Tokenized 1,600 samples.\n",
      "  Tokenized 1,800 samples.\n",
      "DONE.\n",
      "     1,840 samples\n"
     ]
    }
   ],
   "source": [
    "full_input_ids = []\r\n",
    "labels = []\r\n",
    "\r\n",
    "# Tokenize all training examples\r\n",
    "print('Tokenizing {:,} training samples...'.format(len(train_sentences)))\r\n",
    "\r\n",
    "# Choose an interval on which to print progress updates.\r\n",
    "update_interval = good_update_interval(total_iters=len(train_sentences), num_desired_updates=10)\r\n",
    "\r\n",
    "# For each training example...\r\n",
    "for text in train_sentences:\r\n",
    "    \r\n",
    "    # Report progress.\r\n",
    "    if ((len(full_input_ids) % update_interval) == 0):\r\n",
    "        print('  Tokenized {:,} samples.'.format(len(full_input_ids)))\r\n",
    "\r\n",
    "    # Tokenize the sentence.\r\n",
    "    input_ids = tokenizer.encode(text=text,           \r\n",
    "                                 add_special_tokens=True, \r\n",
    "                                 max_length=max_input_length,  \r\n",
    "                                 truncation=True,     \r\n",
    "                                 padding=False)       \r\n",
    "                                 \r\n",
    "    # Add the tokenized result to our list.\r\n",
    "    full_input_ids.append(input_ids)\r\n",
    "    \r\n",
    "print('DONE.')\r\n",
    "print('{:>10,} samples'.format(len(full_input_ids)))"
   ]
  },
  {
   "cell_type": "code",
   "execution_count": 36,
   "metadata": {
    "id": "rZzhO2tZeXur"
   },
   "outputs": [],
   "source": [
    "# Get all of the lengths.\r\n",
    "unsorted_lengths = [len(x) for x in full_input_ids]"
   ]
  },
  {
   "cell_type": "code",
   "execution_count": 37,
   "metadata": {
    "colab": {
     "base_uri": "https://localhost:8080/",
     "height": 427
    },
    "id": "x7c_mYuVed_H",
    "outputId": "79b90b18-c5c9-4974-9f78-dbdfccde6f47"
   },
   "outputs": [
    {
     "data": {
      "image/png": "[encoded data removed]",
      "text/plain": [
       "<Figure size 864x432 with 1 Axes>"
      ]
     },
     "metadata": {
      "tags": []
     },
     "output_type": "display_data"
    }
   ],
   "source": [
    "import matplotlib.pyplot as plt\r\n",
    "import seaborn as sns\r\n",
    "\r\n",
    "# Use plot styling from seaborn.\r\n",
    "sns.set(style='darkgrid')\r\n",
    "\r\n",
    "# Increase the plot size and font size.\r\n",
    "sns.set(font_scale=1.5)\r\n",
    "plt.rcParams[\"figure.figsize\"] = (12,6)\r\n",
    "\r\n",
    "plt.scatter(range(0, len(unsorted_lengths)), unsorted_lengths, marker=\"|\")\r\n",
    "\r\n",
    "plt.xlabel('Sample Number')\r\n",
    "plt.ylabel('Sequence Length')\r\n",
    "plt.title('Samples BEFORE Sorting')\r\n",
    "\r\n",
    "plt.show()"
   ]
  },
  {
   "cell_type": "code",
   "execution_count": 38,
   "metadata": {
    "id": "7PaeohUVegmv"
   },
   "outputs": [],
   "source": [
    "# Sort the two lists together by the length of the input sequence.\r\n",
    "train_samples = sorted(zip(full_input_ids, train_labels), key=lambda x: len(x[0]))"
   ]
  },
  {
   "cell_type": "code",
   "execution_count": 39,
   "metadata": {
    "colab": {
     "base_uri": "https://localhost:8080/"
    },
    "id": "_9nyx-BtepE4",
    "outputId": "52503b94-da7e-435d-e90f-21a32d604b10"
   },
   "outputs": [
    {
     "data": {
      "text/plain": [
       "[([101, 119, 102], 1),\n",
       " ([101, 119, 102], 1),\n",
       " ([101, 119, 102], 1),\n",
       " ([101, 10498, 102], 0),\n",
       " ([101, 119, 102], 1)]"
      ]
     },
     "execution_count": 39,
     "metadata": {
      "tags": []
     },
     "output_type": "execute_result"
    }
   ],
   "source": [
    "train_samples[0:5]"
   ]
  },
  {
   "cell_type": "code",
   "execution_count": 40,
   "metadata": {
    "colab": {
     "base_uri": "https://localhost:8080/"
    },
    "id": "rBxJhEieetFh",
    "outputId": "d1493bf6-7faa-47a6-c723-cb33227bdd8c"
   },
   "outputs": [
    {
     "name": "stdout",
     "output_type": "stream",
     "text": [
      "Shortest sample: 3\n",
      "Longest sample: 185\n"
     ]
    }
   ],
   "source": [
    "print('Shortest sample:', len(train_samples[0][0]))\r\n",
    "print('Longest sample:', len(train_samples[-1][0]))"
   ]
  },
  {
   "cell_type": "code",
   "execution_count": 41,
   "metadata": {
    "id": "P44bFOI-e7hW"
   },
   "outputs": [],
   "source": [
    "# Get the new list of lengths after sorting.\r\n",
    "sorted_lengths = [len(s[0]) for s in train_samples]"
   ]
  },
  {
   "cell_type": "code",
   "execution_count": 42,
   "metadata": {
    "colab": {
     "base_uri": "https://localhost:8080/",
     "height": 427
    },
    "id": "9P5ZX99le_G1",
    "outputId": "6400bf9d-a6fc-43e2-8e1e-db63b2afe708"
   },
   "outputs": [
    {
     "data": {
      "image/png": "[encoded data removed]",
      "text/plain": [
       "<Figure size 864x432 with 1 Axes>"
      ]
     },
     "metadata": {
      "tags": []
     },
     "output_type": "display_data"
    }
   ],
   "source": [
    "import matplotlib.pyplot as plt\r\n",
    "import seaborn as sns\r\n",
    "\r\n",
    "# Use plot styling from seaborn.\r\n",
    "sns.set(style='darkgrid')\r\n",
    "\r\n",
    "# Increase the plot size and font size.\r\n",
    "sns.set(font_scale=1.5)\r\n",
    "plt.rcParams[\"figure.figsize\"] = (12,6)\r\n",
    "\r\n",
    "plt.plot(range(0, len(sorted_lengths)), sorted_lengths)\r\n",
    "\r\n",
    "plt.xlabel('Sample Number')\r\n",
    "plt.ylabel('Sequence Length')\r\n",
    "plt.title('Samples after Sorting')\r\n",
    "\r\n",
    "plt.show()"
   ]
  },
  {
   "cell_type": "markdown",
   "metadata": {
    "id": "Eh1z0xugfF2t"
   },
   "source": [
    "### Random Batch Selections"
   ]
  },
  {
   "cell_type": "code",
   "execution_count": 43,
   "metadata": {
    "colab": {
     "base_uri": "https://localhost:8080/"
    },
    "id": "gPrYkFMcgm5H",
    "outputId": "47414d7a-ab05-4e3d-e2a4-45af092a6f6b"
   },
   "outputs": [
    {
     "data": {
      "text/plain": [
       "([101, 119, 102], 1)"
      ]
     },
     "execution_count": 43,
     "metadata": {
      "tags": []
     },
     "output_type": "execute_result"
    }
   ],
   "source": [
    "train_samples[0]"
   ]
  },
  {
   "cell_type": "code",
   "execution_count": 44,
   "metadata": {
    "id": "isMxwgezfAvO"
   },
   "outputs": [],
   "source": [
    "batch_size = 16"
   ]
  },
  {
   "cell_type": "code",
   "execution_count": 45,
   "metadata": {
    "colab": {
     "base_uri": "https://localhost:8080/"
    },
    "id": "s0tjD8pIfJ0S",
    "outputId": "19a5fd43-77df-4968-9275-7037258ab638"
   },
   "outputs": [
    {
     "name": "stdout",
     "output_type": "stream",
     "text": [
      "Creating training batches of size 16\n",
      "  Selected 0 batches.\n",
      "  Selected 100 batches.\n",
      "\n",
      "  DONE - 115 batches.\n"
     ]
    }
   ],
   "source": [
    "import random\r\n",
    "\r\n",
    "# List of batches that we'll construct.\r\n",
    "batch_ordered_sentences = []\r\n",
    "batch_ordered_labels = []\r\n",
    "\r\n",
    "print('Creating training batches of size {:}'.format(batch_size))\r\n",
    "\r\n",
    "# Loop over all of the input samples...    \r\n",
    "while len(train_samples) > 0:\r\n",
    "    \r\n",
    "    # Report progress.\r\n",
    "    if ((len(batch_ordered_sentences) % 100) == 0):\r\n",
    "        print('  Selected {:,} batches.'.format(len(batch_ordered_sentences)))\r\n",
    "\r\n",
    "    # `to_take` is our actual batch size. It will be `batch_size` until \r\n",
    "    # we get to the last batch, which may be smaller. \r\n",
    "    to_take = min(batch_size, len(train_samples))\r\n",
    "\r\n",
    "    # Pick a random index in the list of remaining samples to start\r\n",
    "    # our batch at.\r\n",
    "    select = random.randint(0, len(train_samples) - to_take)\r\n",
    "\r\n",
    "    # Select a contiguous batch of samples starting at `select`.\r\n",
    "    batch = train_samples[select:(select + to_take)]\r\n",
    "\r\n",
    "    # Each sample is a tuple--split them apart to create a separate list of \r\n",
    "    # sequences and a list of labels for this batch.\r\n",
    "    batch_ordered_sentences.append([s[0] for s in batch])\r\n",
    "    batch_ordered_labels.append([s[1] for s in batch])\r\n",
    "\r\n",
    "    # Remove these samples from the list.\r\n",
    "    del train_samples[select:select + to_take]\r\n",
    "\r\n",
    "print('\\n  DONE - {:,} batches.'.format(len(batch_ordered_sentences)))"
   ]
  },
  {
   "cell_type": "code",
   "execution_count": 46,
   "metadata": {
    "colab": {
     "base_uri": "https://localhost:8080/"
    },
    "id": "rf91Dd3LhBaP",
    "outputId": "bdcc840f-9628-4434-be4e-885197fd0be3"
   },
   "outputs": [
    {
     "name": "stdout",
     "output_type": "stream",
     "text": [
      "[[101, 11463, 11695, 11695, 119, 119, 119, 102], [101, 10148, 12577, 23996, 18123, 10346, 11531, 102], [101, 51170, 14824, 10507, 28308, 119, 119, 102], [101, 48803, 10116, 10423, 57925, 10380, 136, 102], [101, 94517, 39418, 10911, 119, 119, 119, 102], [101, 54377, 25113, 13584, 10150, 119, 119, 102], [101, 35221, 11329, 39843, 36636, 119, 119, 102], [101, 11523, 143, 26188, 119, 119, 119, 102], [101, 21185, 16022, 10150, 10141, 119, 119, 102], [101, 10104, 14869, 10947, 10104, 14980, 10947, 102], [101, 10816, 49832, 26584, 10142, 119, 119, 102], [101, 21105, 17400, 10136, 119, 119, 119, 102], [101, 10543, 21952, 41908, 11859, 119, 119, 102], [101, 22344, 14563, 12591, 20365, 13077, 10158, 102], [101, 19866, 10240, 26584, 10709, 136, 106, 102], [101, 62678, 10115, 13315, 51097, 10702, 119, 119, 102]]\n"
     ]
    }
   ],
   "source": [
    "print(batch_ordered_sentences[0])"
   ]
  },
  {
   "cell_type": "code",
   "execution_count": 47,
   "metadata": {
    "colab": {
     "base_uri": "https://localhost:8080/"
    },
    "id": "qmkQK_gVgiTu",
    "outputId": "8b860054-f977-45ee-fa41-b9789d380276"
   },
   "outputs": [
    {
     "data": {
      "text/plain": [
       "[0, 1, 0, 0, 0, 0, 0, 0, 0, 1, 0, 0, 0, 1, 1, 0]"
      ]
     },
     "execution_count": 47,
     "metadata": {
      "tags": []
     },
     "output_type": "execute_result"
    }
   ],
   "source": [
    "batch_ordered_labels[0]"
   ]
  },
  {
   "cell_type": "markdown",
   "metadata": {
    "id": "xZ0TFA8Mfn6m"
   },
   "source": [
    "### Padding"
   ]
  },
  {
   "cell_type": "code",
   "execution_count": 48,
   "metadata": {
    "id": "c9rdswcpfTip"
   },
   "outputs": [],
   "source": [
    "import torch\r\n",
    "\r\n",
    "py_inputs = []\r\n",
    "py_attn_masks = []\r\n",
    "py_labels = []\r\n",
    "\r\n",
    "# For each batch...\r\n",
    "for (batch_inputs, batch_labels) in zip(batch_ordered_sentences, batch_ordered_labels):\r\n",
    "\r\n",
    "    # New version of the batch, this time with padded sequences and now with\r\n",
    "    # attention masks defined.\r\n",
    "    batch_padded_inputs = []\r\n",
    "    batch_attn_masks = []\r\n",
    "    \r\n",
    "    # First, find the longest sample in the batch. \r\n",
    "    # Note that the sequences do currently include the special tokens!\r\n",
    "    max_size = max([len(sen) for sen in batch_inputs])\r\n",
    "\r\n",
    "    #print('Max size:', max_size)\r\n",
    "\r\n",
    "    # For each input in this batch...\r\n",
    "    for sen in batch_inputs:\r\n",
    "        \r\n",
    "        # How many pad tokens do we need to add?\r\n",
    "        num_pads = max_size - len(sen)\r\n",
    "\r\n",
    "        # Add `num_pads` padding tokens to the end of the sequence.\r\n",
    "        padded_input = sen + [tokenizer.pad_token_id]*num_pads\r\n",
    "\r\n",
    "        # Define the attention mask--it's just a `1` for every real token\r\n",
    "        # and a `0` for every padding token.\r\n",
    "        attn_mask = [1] * len(sen) + [0] * num_pads\r\n",
    "\r\n",
    "        # Add the padded results to the batch.\r\n",
    "        batch_padded_inputs.append(padded_input)\r\n",
    "        batch_attn_masks.append(attn_mask)\r\n",
    "\r\n",
    "    # Our batch has been padded, so we need to save this updated batch.\r\n",
    "    # We also need the inputs to be PyTorch tensors, so we'll do that here.\r\n",
    "    py_inputs.append(torch.tensor(batch_padded_inputs))\r\n",
    "    py_attn_masks.append(torch.tensor(batch_attn_masks))\r\n",
    "    py_labels.append(torch.tensor(batch_labels))\r\n"
   ]
  },
  {
   "cell_type": "markdown",
   "metadata": {
    "id": "roS5lLWdX-5J"
   },
   "source": [
    "### Check the number of token reductions because of smart batching"
   ]
  },
  {
   "cell_type": "code",
   "execution_count": 49,
   "metadata": {
    "colab": {
     "base_uri": "https://localhost:8080/"
    },
    "id": "wlh7cteVfroV",
    "outputId": "7c3fe416-8e1d-4aeb-bdcf-20ccc5f570fa"
   },
   "outputs": [
    {
     "name": "stdout",
     "output_type": "stream",
     "text": [
      "Total tokens:\n",
      "   Fixed Padding: 588,800\n",
      "  Smart Batching: 50,976  (91.3% less)\n"
     ]
    }
   ],
   "source": [
    "# Get the new list of lengths after sorting.\r\n",
    "import numpy as np\r\n",
    "padded_lengths = []\r\n",
    "\r\n",
    "# For each batch...\r\n",
    "for batch in py_inputs:\r\n",
    "    \r\n",
    "    # For each sample...\r\n",
    "    for s in batch:\r\n",
    "    \r\n",
    "        # Record its length.\r\n",
    "        padded_lengths.append(len(s))\r\n",
    "\r\n",
    "# Sum up the lengths to the get the total number of tokens after smart batching.\r\n",
    "smart_token_count = np.sum(padded_lengths)\r\n",
    "\r\n",
    "# To get the total number of tokens in the dataset using fixed padding, it's\r\n",
    "# as simple as the number of samples times our `max_len` parameter (that we\r\n",
    "# would pad everything to).\r\n",
    "fixed_token_count = len(train_sentences) * max_input_length\r\n",
    "\r\n",
    "# Calculate the percentage reduction.\r\n",
    "prcnt_reduced = (fixed_token_count - smart_token_count) / float(fixed_token_count) \r\n",
    "\r\n",
    "print('Total tokens:')\r\n",
    "print('   Fixed Padding: {:,}'.format(fixed_token_count))\r\n",
    "print('  Smart Batching: {:,}  ({:.1%} less)'.format(smart_token_count, prcnt_reduced))\r\n"
   ]
  },
  {
   "cell_type": "markdown",
   "metadata": {
    "id": "SXJHBVlxYR-l"
   },
   "source": [
    "#### Load the model from the transformers library using BertForSequenceClassifcation"
   ]
  },
  {
   "cell_type": "code",
   "execution_count": 50,
   "metadata": {
    "colab": {
     "base_uri": "https://localhost:8080/",
     "height": 203,
     "referenced_widgets": [
      "846640d20be542a79b0fa8f81e17fcb9",
      "d0883ffadf774ccd997ffc1bb386c45f",
      "8fc2b86f018a4e8cbc28c5b8e731c7cb",
      "ebc02f94ac2146e39a872216799f2a07",
      "d67955f6a1de4b6ba4ee4cdb34bdc338",
      "c440aaa199d345ef81bc8cdb0e85308f",
      "c37b31d6e3fd4c99b66baadb4f8460bf",
      "a3ac5fa934b7462a98312ea16d54a872"
     ]
    },
    "id": "n8J4r6KyhveR",
    "outputId": "72693e1d-78bf-473b-b24f-6bf272cee2d2"
   },
   "outputs": [
    {
     "data": {
      "application/vnd.jupyter.widget-view+json": {
       "model_id": "846640d20be542a79b0fa8f81e17fcb9",
       "version_major": 2,
       "version_minor": 0
      },
      "text/plain": [
       "HBox(children=(FloatProgress(value=0.0, description='Downloading', max=672271273.0, style=ProgressStyle(descri…"
      ]
     },
     "metadata": {
      "tags": []
     },
     "output_type": "display_data"
    },
    {
     "name": "stdout",
     "output_type": "stream",
     "text": [
      "\n"
     ]
    },
    {
     "name": "stderr",
     "output_type": "stream",
     "text": [
      "Some weights of the model checkpoint at bert-base-multilingual-uncased were not used when initializing BertForSequenceClassification: ['cls.predictions.bias', 'cls.predictions.transform.dense.weight', 'cls.predictions.transform.dense.bias', 'cls.predictions.decoder.weight', 'cls.seq_relationship.weight', 'cls.seq_relationship.bias', 'cls.predictions.transform.LayerNorm.weight', 'cls.predictions.transform.LayerNorm.bias']\n",
      "- This IS expected if you are initializing BertForSequenceClassification from the checkpoint of a model trained on another task or with another architecture (e.g. initializing a BertForSequenceClassification model from a BertForPreTraining model).\n",
      "- This IS NOT expected if you are initializing BertForSequenceClassification from the checkpoint of a model that you expect to be exactly identical (initializing a BertForSequenceClassification model from a BertForSequenceClassification model).\n",
      "Some weights of BertForSequenceClassification were not initialized from the model checkpoint at bert-base-multilingual-uncased and are newly initialized: ['classifier.weight', 'classifier.bias']\n",
      "You should probably TRAIN this model on a down-stream task to be able to use it for predictions and inference.\n"
     ]
    },
    {
     "name": "stdout",
     "output_type": "stream",
     "text": [
      "\n",
      "Model type: <class 'transformers.models.bert.modeling_bert.BertForSequenceClassification'>\n"
     ]
    }
   ],
   "source": [
    "from transformers import BertForSequenceClassification\r\n",
    "\r\n",
    "# Load the pre-trained model for classification, passing in the `config` from\r\n",
    "# above.\r\n",
    "\r\n",
    "model = BertForSequenceClassification.from_pretrained(\r\n",
    "    pretrained_model_name_or_path=model_name,\r\n",
    "    num_labels = 2, \r\n",
    "    output_attentions = False, # Whether the model returns attentions weights.\r\n",
    "    output_hidden_states = False, # Whether the model returns all hidden-states.\r\n",
    ")\r\n",
    "\r\n",
    "\r\n",
    "print('\\nModel type:', str(type(model)))\r\n"
   ]
  },
  {
   "cell_type": "code",
   "execution_count": 51,
   "metadata": {
    "colab": {
     "base_uri": "https://localhost:8080/"
    },
    "id": "jvOs0G5sh02S",
    "outputId": "c1afde6c-f200-40ca-a2c5-f198fe9e6cb6"
   },
   "outputs": [
    {
     "name": "stdout",
     "output_type": "stream",
     "text": [
      "\n",
      "Loading model on the gpu...\n"
     ]
    },
    {
     "data": {
      "text/plain": [
       "BertForSequenceClassification(\n",
       "  (bert): BertModel(\n",
       "    (embeddings): BertEmbeddings(\n",
       "      (word_embeddings): Embedding(105879, 768, padding_idx=0)\n",
       "      (position_embeddings): Embedding(512, 768)\n",
       "      (token_type_embeddings): Embedding(2, 768)\n",
       "      (LayerNorm): LayerNorm((768,), eps=1e-12, elementwise_affine=True)\n",
       "      (dropout): Dropout(p=0.1, inplace=False)\n",
       "    )\n",
       "    (encoder): BertEncoder(\n",
       "      (layer): ModuleList(\n",
       "        (0): BertLayer(\n",
       "          (attention): BertAttention(\n",
       "            (self): BertSelfAttention(\n",
       "              (query): Linear(in_features=768, out_features=768, bias=True)\n",
       "              (key): Linear(in_features=768, out_features=768, bias=True)\n",
       "              (value): Linear(in_features=768, out_features=768, bias=True)\n",
       "              (dropout): Dropout(p=0.1, inplace=False)\n",
       "            )\n",
       "            (output): BertSelfOutput(\n",
       "              (dense): Linear(in_features=768, out_features=768, bias=True)\n",
       "              (LayerNorm): LayerNorm((768,), eps=1e-12, elementwise_affine=True)\n",
       "              (dropout): Dropout(p=0.1, inplace=False)\n",
       "            )\n",
       "          )\n",
       "          (intermediate): BertIntermediate(\n",
       "            (dense): Linear(in_features=768, out_features=3072, bias=True)\n",
       "          )\n",
       "          (output): BertOutput(\n",
       "            (dense): Linear(in_features=3072, out_features=768, bias=True)\n",
       "            (LayerNorm): LayerNorm((768,), eps=1e-12, elementwise_affine=True)\n",
       "            (dropout): Dropout(p=0.1, inplace=False)\n",
       "          )\n",
       "        )\n",
       "        (1): BertLayer(\n",
       "          (attention): BertAttention(\n",
       "            (self): BertSelfAttention(\n",
       "              (query): Linear(in_features=768, out_features=768, bias=True)\n",
       "              (key): Linear(in_features=768, out_features=768, bias=True)\n",
       "              (value): Linear(in_features=768, out_features=768, bias=True)\n",
       "              (dropout): Dropout(p=0.1, inplace=False)\n",
       "            )\n",
       "            (output): BertSelfOutput(\n",
       "              (dense): Linear(in_features=768, out_features=768, bias=True)\n",
       "              (LayerNorm): LayerNorm((768,), eps=1e-12, elementwise_affine=True)\n",
       "              (dropout): Dropout(p=0.1, inplace=False)\n",
       "            )\n",
       "          )\n",
       "          (intermediate): BertIntermediate(\n",
       "            (dense): Linear(in_features=768, out_features=3072, bias=True)\n",
       "          )\n",
       "          (output): BertOutput(\n",
       "            (dense): Linear(in_features=3072, out_features=768, bias=True)\n",
       "            (LayerNorm): LayerNorm((768,), eps=1e-12, elementwise_affine=True)\n",
       "            (dropout): Dropout(p=0.1, inplace=False)\n",
       "          )\n",
       "        )\n",
       "        (2): BertLayer(\n",
       "          (attention): BertAttention(\n",
       "            (self): BertSelfAttention(\n",
       "              (query): Linear(in_features=768, out_features=768, bias=True)\n",
       "              (key): Linear(in_features=768, out_features=768, bias=True)\n",
       "              (value): Linear(in_features=768, out_features=768, bias=True)\n",
       "              (dropout): Dropout(p=0.1, inplace=False)\n",
       "            )\n",
       "            (output): BertSelfOutput(\n",
       "              (dense): Linear(in_features=768, out_features=768, bias=True)\n",
       "              (LayerNorm): LayerNorm((768,), eps=1e-12, elementwise_affine=True)\n",
       "              (dropout): Dropout(p=0.1, inplace=False)\n",
       "            )\n",
       "          )\n",
       "          (intermediate): BertIntermediate(\n",
       "            (dense): Linear(in_features=768, out_features=3072, bias=True)\n",
       "          )\n",
       "          (output): BertOutput(\n",
       "            (dense): Linear(in_features=3072, out_features=768, bias=True)\n",
       "            (LayerNorm): LayerNorm((768,), eps=1e-12, elementwise_affine=True)\n",
       "            (dropout): Dropout(p=0.1, inplace=False)\n",
       "          )\n",
       "        )\n",
       "        (3): BertLayer(\n",
       "          (attention): BertAttention(\n",
       "            (self): BertSelfAttention(\n",
       "              (query): Linear(in_features=768, out_features=768, bias=True)\n",
       "              (key): Linear(in_features=768, out_features=768, bias=True)\n",
       "              (value): Linear(in_features=768, out_features=768, bias=True)\n",
       "              (dropout): Dropout(p=0.1, inplace=False)\n",
       "            )\n",
       "            (output): BertSelfOutput(\n",
       "              (dense): Linear(in_features=768, out_features=768, bias=True)\n",
       "              (LayerNorm): LayerNorm((768,), eps=1e-12, elementwise_affine=True)\n",
       "              (dropout): Dropout(p=0.1, inplace=False)\n",
       "            )\n",
       "          )\n",
       "          (intermediate): BertIntermediate(\n",
       "            (dense): Linear(in_features=768, out_features=3072, bias=True)\n",
       "          )\n",
       "          (output): BertOutput(\n",
       "            (dense): Linear(in_features=3072, out_features=768, bias=True)\n",
       "            (LayerNorm): LayerNorm((768,), eps=1e-12, elementwise_affine=True)\n",
       "            (dropout): Dropout(p=0.1, inplace=False)\n",
       "          )\n",
       "        )\n",
       "        (4): BertLayer(\n",
       "          (attention): BertAttention(\n",
       "            (self): BertSelfAttention(\n",
       "              (query): Linear(in_features=768, out_features=768, bias=True)\n",
       "              (key): Linear(in_features=768, out_features=768, bias=True)\n",
       "              (value): Linear(in_features=768, out_features=768, bias=True)\n",
       "              (dropout): Dropout(p=0.1, inplace=False)\n",
       "            )\n",
       "            (output): BertSelfOutput(\n",
       "              (dense): Linear(in_features=768, out_features=768, bias=True)\n",
       "              (LayerNorm): LayerNorm((768,), eps=1e-12, elementwise_affine=True)\n",
       "              (dropout): Dropout(p=0.1, inplace=False)\n",
       "            )\n",
       "          )\n",
       "          (intermediate): BertIntermediate(\n",
       "            (dense): Linear(in_features=768, out_features=3072, bias=True)\n",
       "          )\n",
       "          (output): BertOutput(\n",
       "            (dense): Linear(in_features=3072, out_features=768, bias=True)\n",
       "            (LayerNorm): LayerNorm((768,), eps=1e-12, elementwise_affine=True)\n",
       "            (dropout): Dropout(p=0.1, inplace=False)\n",
       "          )\n",
       "        )\n",
       "        (5): BertLayer(\n",
       "          (attention): BertAttention(\n",
       "            (self): BertSelfAttention(\n",
       "              (query): Linear(in_features=768, out_features=768, bias=True)\n",
       "              (key): Linear(in_features=768, out_features=768, bias=True)\n",
       "              (value): Linear(in_features=768, out_features=768, bias=True)\n",
       "              (dropout): Dropout(p=0.1, inplace=False)\n",
       "            )\n",
       "            (output): BertSelfOutput(\n",
       "              (dense): Linear(in_features=768, out_features=768, bias=True)\n",
       "              (LayerNorm): LayerNorm((768,), eps=1e-12, elementwise_affine=True)\n",
       "              (dropout): Dropout(p=0.1, inplace=False)\n",
       "            )\n",
       "          )\n",
       "          (intermediate): BertIntermediate(\n",
       "            (dense): Linear(in_features=768, out_features=3072, bias=True)\n",
       "          )\n",
       "          (output): BertOutput(\n",
       "            (dense): Linear(in_features=3072, out_features=768, bias=True)\n",
       "            (LayerNorm): LayerNorm((768,), eps=1e-12, elementwise_affine=True)\n",
       "            (dropout): Dropout(p=0.1, inplace=False)\n",
       "          )\n",
       "        )\n",
       "        (6): BertLayer(\n",
       "          (attention): BertAttention(\n",
       "            (self): BertSelfAttention(\n",
       "              (query): Linear(in_features=768, out_features=768, bias=True)\n",
       "              (key): Linear(in_features=768, out_features=768, bias=True)\n",
       "              (value): Linear(in_features=768, out_features=768, bias=True)\n",
       "              (dropout): Dropout(p=0.1, inplace=False)\n",
       "            )\n",
       "            (output): BertSelfOutput(\n",
       "              (dense): Linear(in_features=768, out_features=768, bias=True)\n",
       "              (LayerNorm): LayerNorm((768,), eps=1e-12, elementwise_affine=True)\n",
       "              (dropout): Dropout(p=0.1, inplace=False)\n",
       "            )\n",
       "          )\n",
       "          (intermediate): BertIntermediate(\n",
       "            (dense): Linear(in_features=768, out_features=3072, bias=True)\n",
       "          )\n",
       "          (output): BertOutput(\n",
       "            (dense): Linear(in_features=3072, out_features=768, bias=True)\n",
       "            (LayerNorm): LayerNorm((768,), eps=1e-12, elementwise_affine=True)\n",
       "            (dropout): Dropout(p=0.1, inplace=False)\n",
       "          )\n",
       "        )\n",
       "        (7): BertLayer(\n",
       "          (attention): BertAttention(\n",
       "            (self): BertSelfAttention(\n",
       "              (query): Linear(in_features=768, out_features=768, bias=True)\n",
       "              (key): Linear(in_features=768, out_features=768, bias=True)\n",
       "              (value): Linear(in_features=768, out_features=768, bias=True)\n",
       "              (dropout): Dropout(p=0.1, inplace=False)\n",
       "            )\n",
       "            (output): BertSelfOutput(\n",
       "              (dense): Linear(in_features=768, out_features=768, bias=True)\n",
       "              (LayerNorm): LayerNorm((768,), eps=1e-12, elementwise_affine=True)\n",
       "              (dropout): Dropout(p=0.1, inplace=False)\n",
       "            )\n",
       "          )\n",
       "          (intermediate): BertIntermediate(\n",
       "            (dense): Linear(in_features=768, out_features=3072, bias=True)\n",
       "          )\n",
       "          (output): BertOutput(\n",
       "            (dense): Linear(in_features=3072, out_features=768, bias=True)\n",
       "            (LayerNorm): LayerNorm((768,), eps=1e-12, elementwise_affine=True)\n",
       "            (dropout): Dropout(p=0.1, inplace=False)\n",
       "          )\n",
       "        )\n",
       "        (8): BertLayer(\n",
       "          (attention): BertAttention(\n",
       "            (self): BertSelfAttention(\n",
       "              (query): Linear(in_features=768, out_features=768, bias=True)\n",
       "              (key): Linear(in_features=768, out_features=768, bias=True)\n",
       "              (value): Linear(in_features=768, out_features=768, bias=True)\n",
       "              (dropout): Dropout(p=0.1, inplace=False)\n",
       "            )\n",
       "            (output): BertSelfOutput(\n",
       "              (dense): Linear(in_features=768, out_features=768, bias=True)\n",
       "              (LayerNorm): LayerNorm((768,), eps=1e-12, elementwise_affine=True)\n",
       "              (dropout): Dropout(p=0.1, inplace=False)\n",
       "            )\n",
       "          )\n",
       "          (intermediate): BertIntermediate(\n",
       "            (dense): Linear(in_features=768, out_features=3072, bias=True)\n",
       "          )\n",
       "          (output): BertOutput(\n",
       "            (dense): Linear(in_features=3072, out_features=768, bias=True)\n",
       "            (LayerNorm): LayerNorm((768,), eps=1e-12, elementwise_affine=True)\n",
       "            (dropout): Dropout(p=0.1, inplace=False)\n",
       "          )\n",
       "        )\n",
       "        (9): BertLayer(\n",
       "          (attention): BertAttention(\n",
       "            (self): BertSelfAttention(\n",
       "              (query): Linear(in_features=768, out_features=768, bias=True)\n",
       "              (key): Linear(in_features=768, out_features=768, bias=True)\n",
       "              (value): Linear(in_features=768, out_features=768, bias=True)\n",
       "              (dropout): Dropout(p=0.1, inplace=False)\n",
       "            )\n",
       "            (output): BertSelfOutput(\n",
       "              (dense): Linear(in_features=768, out_features=768, bias=True)\n",
       "              (LayerNorm): LayerNorm((768,), eps=1e-12, elementwise_affine=True)\n",
       "              (dropout): Dropout(p=0.1, inplace=False)\n",
       "            )\n",
       "          )\n",
       "          (intermediate): BertIntermediate(\n",
       "            (dense): Linear(in_features=768, out_features=3072, bias=True)\n",
       "          )\n",
       "          (output): BertOutput(\n",
       "            (dense): Linear(in_features=3072, out_features=768, bias=True)\n",
       "            (LayerNorm): LayerNorm((768,), eps=1e-12, elementwise_affine=True)\n",
       "            (dropout): Dropout(p=0.1, inplace=False)\n",
       "          )\n",
       "        )\n",
       "        (10): BertLayer(\n",
       "          (attention): BertAttention(\n",
       "            (self): BertSelfAttention(\n",
       "              (query): Linear(in_features=768, out_features=768, bias=True)\n",
       "              (key): Linear(in_features=768, out_features=768, bias=True)\n",
       "              (value): Linear(in_features=768, out_features=768, bias=True)\n",
       "              (dropout): Dropout(p=0.1, inplace=False)\n",
       "            )\n",
       "            (output): BertSelfOutput(\n",
       "              (dense): Linear(in_features=768, out_features=768, bias=True)\n",
       "              (LayerNorm): LayerNorm((768,), eps=1e-12, elementwise_affine=True)\n",
       "              (dropout): Dropout(p=0.1, inplace=False)\n",
       "            )\n",
       "          )\n",
       "          (intermediate): BertIntermediate(\n",
       "            (dense): Linear(in_features=768, out_features=3072, bias=True)\n",
       "          )\n",
       "          (output): BertOutput(\n",
       "            (dense): Linear(in_features=3072, out_features=768, bias=True)\n",
       "            (LayerNorm): LayerNorm((768,), eps=1e-12, elementwise_affine=True)\n",
       "            (dropout): Dropout(p=0.1, inplace=False)\n",
       "          )\n",
       "        )\n",
       "        (11): BertLayer(\n",
       "          (attention): BertAttention(\n",
       "            (self): BertSelfAttention(\n",
       "              (query): Linear(in_features=768, out_features=768, bias=True)\n",
       "              (key): Linear(in_features=768, out_features=768, bias=True)\n",
       "              (value): Linear(in_features=768, out_features=768, bias=True)\n",
       "              (dropout): Dropout(p=0.1, inplace=False)\n",
       "            )\n",
       "            (output): BertSelfOutput(\n",
       "              (dense): Linear(in_features=768, out_features=768, bias=True)\n",
       "              (LayerNorm): LayerNorm((768,), eps=1e-12, elementwise_affine=True)\n",
       "              (dropout): Dropout(p=0.1, inplace=False)\n",
       "            )\n",
       "          )\n",
       "          (intermediate): BertIntermediate(\n",
       "            (dense): Linear(in_features=768, out_features=3072, bias=True)\n",
       "          )\n",
       "          (output): BertOutput(\n",
       "            (dense): Linear(in_features=3072, out_features=768, bias=True)\n",
       "            (LayerNorm): LayerNorm((768,), eps=1e-12, elementwise_affine=True)\n",
       "            (dropout): Dropout(p=0.1, inplace=False)\n",
       "          )\n",
       "        )\n",
       "      )\n",
       "    )\n",
       "    (pooler): BertPooler(\n",
       "      (dense): Linear(in_features=768, out_features=768, bias=True)\n",
       "      (activation): Tanh()\n",
       "    )\n",
       "  )\n",
       "  (dropout): Dropout(p=0.1, inplace=False)\n",
       "  (classifier): Linear(in_features=768, out_features=2, bias=True)\n",
       ")"
      ]
     },
     "execution_count": 51,
     "metadata": {
      "tags": []
     },
     "output_type": "execute_result"
    }
   ],
   "source": [
    "import torch\r\n",
    "print('\\nLoading model on the gpu...')\r\n",
    "model.cuda()"
   ]
  },
  {
   "cell_type": "code",
   "execution_count": 52,
   "metadata": {
    "id": "8tAijXBEh7t8"
   },
   "outputs": [],
   "source": [
    "from transformers import AdamW\r\n",
    "\r\n",
    "# Note: AdamW is a class from the huggingface library (as opposed to pytorch) \r\n",
    "# I believe the 'W' stands for 'Weight Decay fix\"\r\n",
    "optimizer = AdamW(model.parameters(),\r\n",
    "                  lr = 2e-5, # This is the value Michael used.\r\n",
    "                  eps = 1e-8 # args.adam_epsilon  - default is 1e-8.\r\n",
    "                )\r\n"
   ]
  },
  {
   "cell_type": "code",
   "execution_count": 53,
   "metadata": {
    "id": "agidP6D6iBFI"
   },
   "outputs": [],
   "source": [
    "from transformers import get_linear_schedule_with_warmup\r\n",
    "\r\n",
    "# Number of training epochs. I chose to train for 1 simply because the training\r\n",
    "# time is long. More epochs may improve the model's accuracy.\r\n",
    "epochs = 4\r\n",
    "\r\n",
    "# Total number of training steps is [number of batches] x [number of epochs]. \r\n",
    "# Note that it's the number of *batches*, not *samples*!\r\n",
    "total_steps = len(py_inputs) * epochs\r\n",
    "\r\n",
    "# Create the learning rate scheduler.\r\n",
    "scheduler = get_linear_schedule_with_warmup(optimizer, \r\n",
    "                                            num_warmup_steps = 0, # Default value in run_glue.py\r\n",
    "                                            num_training_steps = total_steps)"
   ]
  },
  {
   "cell_type": "code",
   "execution_count": 54,
   "metadata": {
    "colab": {
     "base_uri": "https://localhost:8080/"
    },
    "id": "H4ERR8fBiEJn",
    "outputId": "589e23db-ce6d-427b-a5d9-338730a0e070"
   },
   "outputs": [
    {
     "name": "stdout",
     "output_type": "stream",
     "text": [
      "\n",
      "======== Epoch 1 / 4 ========\n",
      "Training on 115 batches...\n",
      "  Batch      10  of      115.    Elapsed: 0:00:02.  Remaining: 0:00:18\n",
      "  Batch      20  of      115.    Elapsed: 0:00:03.  Remaining: 0:00:15\n",
      "  Batch      30  of      115.    Elapsed: 0:00:05.  Remaining: 0:00:13\n",
      "  Batch      40  of      115.    Elapsed: 0:00:06.  Remaining: 0:00:12\n",
      "  Batch      50  of      115.    Elapsed: 0:00:08.  Remaining: 0:00:10\n",
      "  Batch      60  of      115.    Elapsed: 0:00:09.  Remaining: 0:00:09\n",
      "  Batch      70  of      115.    Elapsed: 0:00:11.  Remaining: 0:00:07\n",
      "  Batch      80  of      115.    Elapsed: 0:00:12.  Remaining: 0:00:05\n",
      "  Batch      90  of      115.    Elapsed: 0:00:14.  Remaining: 0:00:04\n",
      "  Batch     100  of      115.    Elapsed: 0:00:15.  Remaining: 0:00:02\n",
      "  Batch     110  of      115.    Elapsed: 0:00:17.  Remaining: 0:00:01\n",
      "\n",
      "  Average training loss: 0.42\n",
      "  Training epoch took: 0:00:18\n",
      "\n",
      "======== Epoch 2 / 4 ========\n",
      "Creating Smart Batches from 1,840 examples with batch size 16...\n",
      "\n",
      "Tokenizing 1,840 samples...\n",
      "  Tokenized 0 samples.\n",
      "  Tokenized 200 samples.\n",
      "  Tokenized 400 samples.\n",
      "  Tokenized 600 samples.\n",
      "  Tokenized 800 samples.\n",
      "  Tokenized 1,000 samples.\n",
      "  Tokenized 1,200 samples.\n",
      "  Tokenized 1,400 samples.\n",
      "  Tokenized 1,600 samples.\n",
      "  Tokenized 1,800 samples.\n",
      "DONE.\n",
      "     1,840 samples\n",
      "\n",
      "     1,840 samples after sorting\n",
      "\n",
      "Creating batches of size 16...\n",
      "\n",
      "  DONE - Selected 115 batches.\n",
      "\n",
      "Padding out sequences within each batch...\n",
      "  DONE.\n",
      "Training on 115 batches...\n",
      "  Batch      10  of      115.    Elapsed: 0:00:01.  Remaining: 0:00:14\n",
      "  Batch      20  of      115.    Elapsed: 0:00:03.  Remaining: 0:00:13\n",
      "  Batch      30  of      115.    Elapsed: 0:00:04.  Remaining: 0:00:12\n",
      "  Batch      40  of      115.    Elapsed: 0:00:06.  Remaining: 0:00:11\n",
      "  Batch      50  of      115.    Elapsed: 0:00:07.  Remaining: 0:00:09\n",
      "  Batch      60  of      115.    Elapsed: 0:00:09.  Remaining: 0:00:08\n",
      "  Batch      70  of      115.    Elapsed: 0:00:10.  Remaining: 0:00:07\n",
      "  Batch      80  of      115.    Elapsed: 0:00:11.  Remaining: 0:00:05\n",
      "  Batch      90  of      115.    Elapsed: 0:00:13.  Remaining: 0:00:04\n",
      "  Batch     100  of      115.    Elapsed: 0:00:14.  Remaining: 0:00:02\n",
      "  Batch     110  of      115.    Elapsed: 0:00:16.  Remaining: 0:00:01\n",
      "\n",
      "  Average training loss: 0.27\n",
      "  Training epoch took: 0:00:18\n",
      "\n",
      "======== Epoch 3 / 4 ========\n",
      "Creating Smart Batches from 1,840 examples with batch size 16...\n",
      "\n",
      "Tokenizing 1,840 samples...\n",
      "  Tokenized 0 samples.\n",
      "  Tokenized 200 samples.\n",
      "  Tokenized 400 samples.\n",
      "  Tokenized 600 samples.\n",
      "  Tokenized 800 samples.\n",
      "  Tokenized 1,000 samples.\n",
      "  Tokenized 1,200 samples.\n",
      "  Tokenized 1,400 samples.\n",
      "  Tokenized 1,600 samples.\n",
      "  Tokenized 1,800 samples.\n",
      "DONE.\n",
      "     1,840 samples\n",
      "\n",
      "     1,840 samples after sorting\n",
      "\n",
      "Creating batches of size 16...\n",
      "\n",
      "  DONE - Selected 115 batches.\n",
      "\n",
      "Padding out sequences within each batch...\n",
      "  DONE.\n",
      "Training on 115 batches...\n",
      "  Batch      10  of      115.    Elapsed: 0:00:01.  Remaining: 0:00:14\n",
      "  Batch      20  of      115.    Elapsed: 0:00:03.  Remaining: 0:00:13\n",
      "  Batch      30  of      115.    Elapsed: 0:00:04.  Remaining: 0:00:12\n",
      "  Batch      40  of      115.    Elapsed: 0:00:06.  Remaining: 0:00:11\n",
      "  Batch      50  of      115.    Elapsed: 0:00:07.  Remaining: 0:00:10\n",
      "  Batch      60  of      115.    Elapsed: 0:00:09.  Remaining: 0:00:08\n",
      "  Batch      70  of      115.    Elapsed: 0:00:10.  Remaining: 0:00:06\n",
      "  Batch      80  of      115.    Elapsed: 0:00:12.  Remaining: 0:00:05\n",
      "  Batch      90  of      115.    Elapsed: 0:00:13.  Remaining: 0:00:04\n",
      "  Batch     100  of      115.    Elapsed: 0:00:14.  Remaining: 0:00:02\n",
      "  Batch     110  of      115.    Elapsed: 0:00:16.  Remaining: 0:00:01\n",
      "\n",
      "  Average training loss: 0.19\n",
      "  Training epoch took: 0:00:17\n",
      "\n",
      "======== Epoch 4 / 4 ========\n",
      "Creating Smart Batches from 1,840 examples with batch size 16...\n",
      "\n",
      "Tokenizing 1,840 samples...\n",
      "  Tokenized 0 samples.\n",
      "  Tokenized 200 samples.\n",
      "  Tokenized 400 samples.\n",
      "  Tokenized 600 samples.\n",
      "  Tokenized 800 samples.\n",
      "  Tokenized 1,000 samples.\n",
      "  Tokenized 1,200 samples.\n",
      "  Tokenized 1,400 samples.\n",
      "  Tokenized 1,600 samples.\n",
      "  Tokenized 1,800 samples.\n",
      "DONE.\n",
      "     1,840 samples\n",
      "\n",
      "     1,840 samples after sorting\n",
      "\n",
      "Creating batches of size 16...\n",
      "\n",
      "  DONE - Selected 115 batches.\n",
      "\n",
      "Padding out sequences within each batch...\n",
      "  DONE.\n",
      "Training on 115 batches...\n",
      "  Batch      10  of      115.    Elapsed: 0:00:02.  Remaining: 0:00:19\n",
      "  Batch      20  of      115.    Elapsed: 0:00:03.  Remaining: 0:00:15\n",
      "  Batch      30  of      115.    Elapsed: 0:00:05.  Remaining: 0:00:13\n",
      "  Batch      40  of      115.    Elapsed: 0:00:06.  Remaining: 0:00:11\n",
      "  Batch      50  of      115.    Elapsed: 0:00:07.  Remaining: 0:00:09\n",
      "  Batch      60  of      115.    Elapsed: 0:00:09.  Remaining: 0:00:08\n",
      "  Batch      70  of      115.    Elapsed: 0:00:10.  Remaining: 0:00:07\n",
      "  Batch      80  of      115.    Elapsed: 0:00:12.  Remaining: 0:00:05\n",
      "  Batch      90  of      115.    Elapsed: 0:00:13.  Remaining: 0:00:04\n",
      "  Batch     100  of      115.    Elapsed: 0:00:14.  Remaining: 0:00:02\n",
      "  Batch     110  of      115.    Elapsed: 0:00:16.  Remaining: 0:00:01\n",
      "\n",
      "  Average training loss: 0.13\n",
      "  Training epoch took: 0:00:17\n",
      "\n",
      "Training complete!\n",
      "Total training took 0:01:10 (h:mm:ss)\n"
     ]
    }
   ],
   "source": [
    "import random\r\n",
    "import numpy as np\r\n",
    "import time\r\n",
    "\r\n",
    "# Set the seed value all over the place to make this reproducible.\r\n",
    "seed_val = 42\r\n",
    "\r\n",
    "random.seed(seed_val)\r\n",
    "np.random.seed(seed_val)\r\n",
    "torch.manual_seed(seed_val)\r\n",
    "torch.cuda.manual_seed_all(seed_val)\r\n",
    "\r\n",
    "# We'll store a number of quantities such as training and validation loss, \r\n",
    "# validation accuracy, and timings.\r\n",
    "training_stats = []\r\n",
    "\r\n",
    "# Update every `update_interval` batches.\r\n",
    "update_interval = good_update_interval(total_iters=len(py_inputs), num_desired_updates=10)\r\n",
    "\r\n",
    "# Measure the total training time for the whole run.\r\n",
    "total_t0 = time.time()\r\n",
    "\r\n",
    "# For each epoch...\r\n",
    "for epoch_i in range(0, epochs):\r\n",
    "    \r\n",
    "    # ========================================\r\n",
    "    #               Training\r\n",
    "    # ========================================\r\n",
    "    \r\n",
    "    # Perform one full pass over the training set.\r\n",
    "\r\n",
    "    print(\"\")\r\n",
    "    print('======== Epoch {:} / {:} ========'.format(epoch_i + 1, epochs))\r\n",
    "    \r\n",
    "    # At the start of each epoch (except for the first) we need to re-randomize\r\n",
    "    # our training data.\r\n",
    "    if epoch_i > 0:\r\n",
    "        # Use our `make_smart_batches` function (from 6.1.) to re-shuffle the \r\n",
    "        # dataset into new batches.\r\n",
    "        (py_inputs, py_attn_masks, py_labels) = make_smart_batches(train_sentences, train_labels, batch_size,tokenizer,max_input_length)\r\n",
    "    \r\n",
    "    print('Training on {:,} batches...'.format(len(py_inputs)))\r\n",
    "\r\n",
    "    # Measure how long the training epoch takes.\r\n",
    "    t0 = time.time()\r\n",
    "\r\n",
    "    # Reset the total loss for this epoch.\r\n",
    "    total_train_loss = 0\r\n",
    "\r\n",
    "    # Put the model into training mode. Don't be mislead--the call to \r\n",
    "    # `train` just changes the *mode*, it doesn't *perform* the training.\r\n",
    "    # `dropout` and `batchnorm` layers behave differently during training\r\n",
    "    # vs. test (source: https://stackoverflow.com/questions/51433378/what-does-model-train-do-in-pytorch)\r\n",
    "    model.train()\r\n",
    "\r\n",
    "    # For each batch of training data...\r\n",
    "    for step in range(0, len(py_inputs)):\r\n",
    "\r\n",
    "        # Progress update every, e.g., 100 batches.\r\n",
    "        if step % update_interval == 0 and not step == 0:\r\n",
    "            # Calculate elapsed time in minutes.\r\n",
    "            elapsed = format_time(time.time() - t0)\r\n",
    "            \r\n",
    "            # Calculate the time remaining based on our progress.\r\n",
    "            steps_per_sec = (time.time() - t0) / step\r\n",
    "            remaining_sec = steps_per_sec * (len(py_inputs) - step)\r\n",
    "            remaining = format_time(remaining_sec)\r\n",
    "\r\n",
    "            # Report progress.\r\n",
    "            print('  Batch {:>7,}  of  {:>7,}.    Elapsed: {:}.  Remaining: {:}'.format(step, len(py_inputs), elapsed, remaining))\r\n",
    "\r\n",
    "        # Copy the current training batch to the GPU using the `to` method.\r\n",
    "        b_input_ids = py_inputs[step].to(device)\r\n",
    "        b_input_mask = py_attn_masks[step].to(device)\r\n",
    "        b_labels = py_labels[step].to(device)\r\n",
    "\r\n",
    "        # Always clear any previously calculated gradients before performing a\r\n",
    "        # backward pass.\r\n",
    "        model.zero_grad()        \r\n",
    "\r\n",
    "        # Perform a forward pass (evaluate the model on this training batch).\r\n",
    "        # The call returns the loss (because we provided labels) and the \r\n",
    "        # \"logits\"--the model outputs prior to activation.\r\n",
    "        output = model(b_input_ids, \r\n",
    "                             token_type_ids=None, \r\n",
    "                             attention_mask=b_input_mask, \r\n",
    "                             labels=b_labels)\r\n",
    "        \r\n",
    "        # compute the loss between actual and predicted values\r\n",
    "        loss = output.loss\r\n",
    "        logits = output.logits\r\n",
    "        \r\n",
    "        # Accumulate the training loss over all of the batches so that we can\r\n",
    "        # calculate the average loss at the end. `loss` is a Tensor containing a\r\n",
    "        # single value; the `.item()` function just returns the Python value \r\n",
    "        # from the tensor.\r\n",
    "        total_train_loss += loss.item()\r\n",
    "\r\n",
    "        # Perform a backward pass to calculate the gradients.\r\n",
    "        loss.backward()\r\n",
    "\r\n",
    "        # Clip the norm of the gradients to 1.0.\r\n",
    "        # This is to help prevent the \"exploding gradients\" problem.\r\n",
    "        torch.nn.utils.clip_grad_norm_(model.parameters(), 1.0)\r\n",
    "\r\n",
    "        # Update parameters and take a step using the computed gradient.\r\n",
    "        # The optimizer dictates the \"update rule\"--how the parameters are\r\n",
    "        # modified based on their gradients, the learning rate, etc.\r\n",
    "        optimizer.step()\r\n",
    "\r\n",
    "        # Update the learning rate.\r\n",
    "        scheduler.step()\r\n",
    "\r\n",
    "    # Calculate the average loss over all of the batches.\r\n",
    "    avg_train_loss = total_train_loss / len(py_inputs)            \r\n",
    "    \r\n",
    "    # Measure how long this epoch took.\r\n",
    "    training_time = format_time(time.time() - t0)\r\n",
    "\r\n",
    "    print(\"\")\r\n",
    "    print(\"  Average training loss: {0:.2f}\".format(avg_train_loss))\r\n",
    "    print(\"  Training epoch took: {:}\".format(training_time))\r\n",
    "        \r\n",
    "    # Record all statistics from this epoch.\r\n",
    "    training_stats.append(\r\n",
    "        {\r\n",
    "            'epoch': epoch_i + 1,\r\n",
    "            'Training Loss': avg_train_loss,\r\n",
    "            'Training Time': training_time,\r\n",
    "        }\r\n",
    "    )\r\n",
    "\r\n",
    "print(\"\")\r\n",
    "print(\"Training complete!\")\r\n",
    "\r\n",
    "print(\"Total training took {:} (h:mm:ss)\".format(format_time(time.time()-total_t0)))"
   ]
  },
  {
   "cell_type": "markdown",
   "metadata": {
    "id": "ToUbAgZ9ap63"
   },
   "source": [
    "#### Loading the validation data"
   ]
  },
  {
   "cell_type": "code",
   "execution_count": 55,
   "metadata": {
    "colab": {
     "base_uri": "https://localhost:8080/"
    },
    "id": "Dle8VzoAjOLS",
    "outputId": "798546bc-642d-4173-d180-99425bd684e9"
   },
   "outputs": [
    {
     "name": "stdout",
     "output_type": "stream",
     "text": [
      "Number of training sentences: 460\n",
      "\n"
     ]
    }
   ],
   "source": [
    "# Report the number of sentences.\r\n",
    "print('Number of training sentences: {:,}\\n'.format(val_sentences.shape[0]))"
   ]
  },
  {
   "cell_type": "code",
   "execution_count": 57,
   "metadata": {
    "colab": {
     "base_uri": "https://localhost:8080/"
    },
    "id": "glrG0ZI4imGN",
    "outputId": "143099ee-3115-4a6a-ad05-428cbfa9090c"
   },
   "outputs": [
    {
     "name": "stdout",
     "output_type": "stream",
     "text": [
      "Creating Smart Batches from 460 examples with batch size 16...\n",
      "\n",
      "Tokenizing 460 samples...\n",
      "  Tokenized 0 samples.\n",
      "  Tokenized 50 samples.\n",
      "  Tokenized 100 samples.\n",
      "  Tokenized 150 samples.\n",
      "  Tokenized 200 samples.\n",
      "  Tokenized 250 samples.\n",
      "  Tokenized 300 samples.\n",
      "  Tokenized 350 samples.\n",
      "  Tokenized 400 samples.\n",
      "  Tokenized 450 samples.\n",
      "DONE.\n",
      "       460 samples\n",
      "\n",
      "       460 samples after sorting\n",
      "\n",
      "Creating batches of size 16...\n",
      "\n",
      "  DONE - Selected 29 batches.\n",
      "\n",
      "Padding out sequences within each batch...\n",
      "  DONE.\n"
     ]
    }
   ],
   "source": [
    "# Use our new function to completely prepare our dataset.\r\n",
    "(py_inputs, py_attn_masks, py_labels) = make_smart_batches(val_sentences, val_labels, batch_size ,tokenizer,max_input_length)"
   ]
  },
  {
   "cell_type": "markdown",
   "metadata": {
    "id": "Lrt_FyJIbC8j"
   },
   "source": [
    "#### Making predictions on our test dataset"
   ]
  },
  {
   "cell_type": "code",
   "execution_count": 60,
   "metadata": {
    "colab": {
     "base_uri": "https://localhost:8080/"
    },
    "id": "eylCkH2Zipq5",
    "outputId": "b694f377-3450-4892-fc2d-fd79950ca230"
   },
   "outputs": [
    {
     "name": "stdout",
     "output_type": "stream",
     "text": [
      "Predicting labels for 460 test sentences...\n",
      "  Batch       3  of       29.    Elapsed: 0:00:00.  Remaining: 0:00:01\n",
      "  Batch       6  of       29.    Elapsed: 0:00:00.  Remaining: 0:00:01\n",
      "  Batch       9  of       29.    Elapsed: 0:00:00.  Remaining: 0:00:01\n",
      "  Batch      12  of       29.    Elapsed: 0:00:00.  Remaining: 0:00:01\n",
      "  Batch      15  of       29.    Elapsed: 0:00:00.  Remaining: 0:00:00\n",
      "  Batch      18  of       29.    Elapsed: 0:00:01.  Remaining: 0:00:00\n",
      "  Batch      21  of       29.    Elapsed: 0:00:01.  Remaining: 0:00:00\n",
      "  Batch      24  of       29.    Elapsed: 0:00:01.  Remaining: 0:00:00\n",
      "  Batch      27  of       29.    Elapsed: 0:00:01.  Remaining: 0:00:00\n",
      "    DONE.\n"
     ]
    }
   ],
   "source": [
    "# Prediction on test set\r\n",
    "\r\n",
    "print('Predicting labels for {:,} test sentences...'.format(len(val_labels)))\r\n",
    "\r\n",
    "# Put model in evaluation mode\r\n",
    "model.eval()\r\n",
    "\r\n",
    "# Tracking variables \r\n",
    "predictions , true_labels = [], []\r\n",
    "\r\n",
    "# Choose an interval on which to print progress updates.\r\n",
    "update_interval = good_update_interval(total_iters=len(py_inputs), num_desired_updates=10)\r\n",
    "\r\n",
    "# Measure elapsed time.\r\n",
    "t0 = time.time()\r\n",
    "\r\n",
    "# Put model in evaluation mode\r\n",
    "model.eval()\r\n",
    "\r\n",
    "# For each batch of training data...\r\n",
    "for step in range(0, len(py_inputs)):\r\n",
    "\r\n",
    "    # Progress update every 100 batches.\r\n",
    "    if step % update_interval == 0 and not step == 0:\r\n",
    "        # Calculate elapsed time in minutes.\r\n",
    "        elapsed = format_time(time.time() - t0)\r\n",
    "        \r\n",
    "        # Calculate the time remaining based on our progress.\r\n",
    "        steps_per_sec = (time.time() - t0) / step\r\n",
    "        remaining_sec = steps_per_sec * (len(py_inputs) - step)\r\n",
    "        remaining = format_time(remaining_sec)\r\n",
    "\r\n",
    "        # Report progress.\r\n",
    "        print('  Batch {:>7,}  of  {:>7,}.    Elapsed: {:}.  Remaining: {:}'.format(step, len(py_inputs), elapsed, remaining))\r\n",
    "\r\n",
    "    # Copy the batch to the GPU.\r\n",
    "    b_input_ids = py_inputs[step].to(device)\r\n",
    "    b_input_mask = py_attn_masks[step].to(device)\r\n",
    "    b_labels = py_labels[step].to(device)\r\n",
    "  \r\n",
    "    # Telling the model not to compute or store gradients, saving memory and \r\n",
    "    # speeding up prediction\r\n",
    "    with torch.no_grad():\r\n",
    "        # Forward pass, calculate logit predictions\r\n",
    "        outputs = model(b_input_ids, b_input_mask)\r\n",
    "\r\n",
    "    logits = outputs.logits \r\n",
    "\r\n",
    "    # Move logits and labels to CPU\r\n",
    "    logits = logits.detach().cpu().numpy()\r\n",
    "    label_ids = b_labels.to('cpu').numpy()\r\n",
    "  \r\n",
    "    # Store predictions and true labels\r\n",
    "    predictions.append(logits)\r\n",
    "    true_labels.append(label_ids)\r\n",
    "\r\n",
    "print('    DONE.')"
   ]
  },
  {
   "cell_type": "markdown",
   "metadata": {
    "id": "a4FMxCyZbJaG"
   },
   "source": [
    "### Evaluating accuracy over test set"
   ]
  },
  {
   "cell_type": "code",
   "execution_count": 61,
   "metadata": {
    "colab": {
     "base_uri": "https://localhost:8080/"
    },
    "id": "PiuSwCUDiv8p",
    "outputId": "563de03f-1922-4b99-d10e-2478bd85d064"
   },
   "outputs": [
    {
     "name": "stdout",
     "output_type": "stream",
     "text": [
      "Accuracy: 0.909\n"
     ]
    }
   ],
   "source": [
    "# Combine the results across the batches.\r\n",
    "predictions = np.concatenate(predictions, axis=0)\r\n",
    "true_labels = np.concatenate(true_labels, axis=0)\r\n",
    "\r\n",
    "# Choose the label with the highest score as our prediction.\r\n",
    "preds = np.argmax(predictions, axis=1).flatten()\r\n",
    "\r\n",
    "# Calculate simple flat accuracy -- number correct over total number.\r\n",
    "accuracy = (preds == true_labels).mean()\r\n",
    "\r\n",
    "print('Accuracy: {:.3f}'.format(accuracy))"
   ]
  },
  {
   "cell_type": "markdown",
   "metadata": {
    "id": "hNJnYjiBbOSL"
   },
   "source": [
    "#### Classification report of our predictions"
   ]
  },
  {
   "cell_type": "code",
   "execution_count": 62,
   "metadata": {
    "id": "vbGYwxJKokX4"
   },
   "outputs": [],
   "source": [
    "class_names =  ['Not_troll','troll']"
   ]
  },
  {
   "cell_type": "code",
   "execution_count": 63,
   "metadata": {
    "colab": {
     "base_uri": "https://localhost:8080/"
    },
    "id": "AxR7vq1yo_A3",
    "outputId": "d393dafe-4e6f-4f94-a9c7-8f4fcef0f712"
   },
   "outputs": [
    {
     "name": "stdout",
     "output_type": "stream",
     "text": [
      "              precision    recall  f1-score   support\n",
      "\n",
      "   Not_troll       0.88      0.91      0.90       198\n",
      "       troll       0.93      0.91      0.92       262\n",
      "\n",
      "    accuracy                           0.91       460\n",
      "   macro avg       0.91      0.91      0.91       460\n",
      "weighted avg       0.91      0.91      0.91       460\n",
      "\n"
     ]
    }
   ],
   "source": [
    "from sklearn.metrics import classification_report\r\n",
    "print(classification_report(preds,true_labels , target_names=class_names))"
   ]
  },
  {
   "cell_type": "code",
   "execution_count": 64,
   "metadata": {
    "colab": {
     "base_uri": "https://localhost:8080/"
    },
    "id": "Koj8nQWSpIv0",
    "outputId": "805e726d-9170-47a3-f4f4-9e759643ac0b"
   },
   "outputs": [
    {
     "name": "stdout",
     "output_type": "stream",
     "text": [
      "Class: Not_troll\n",
      "Accuracy: 88.24\n",
      "\n",
      "Class: troll\n",
      "Accuracy: 92.97\n",
      "\n"
     ]
    }
   ],
   "source": [
    "accuracy_per_class(predictions, true_labels , label_dict)"
   ]
  },
  {
   "cell_type": "code",
   "execution_count": 66,
   "metadata": {
    "id": "3PXqG-VpurVS"
   },
   "outputs": [],
   "source": [
    "torch.save(model,\"./drive/MyDrive/Codalab/Meme Classification Challenge/Models/BERT_Multilingual_Model\")"
   ]
  },
  {
   "cell_type": "code",
   "execution_count": 65,
   "metadata": {
    "colab": {
     "base_uri": "https://localhost:8080/"
    },
    "id": "QI5cEpx9tc8B",
    "outputId": "9fa78193-df6b-4600-d916-faf7930b18ac"
   },
   "outputs": [
    {
     "data": {
      "text/plain": [
       "0.9072206534893101"
      ]
     },
     "execution_count": 65,
     "metadata": {
      "tags": []
     },
     "output_type": "execute_result"
    }
   ],
   "source": [
    "from sklearn.metrics import f1_score\r\n",
    "f1_score_func(predictions,true_labels,average='macro')"
   ]
  },
  {
   "cell_type": "code",
   "execution_count": null,
   "metadata": {
    "id": "5NfWwz6Qztsg"
   },
   "outputs": [],
   "source": []
  }
 ],
 "metadata": {
  "accelerator": "GPU",
  "colab": {
   "name": "Tamil_Memes_Classification_BERT.ipynb",
   "provenance": []
  },
  "kernelspec": {
   "display_name": "Python 3",
   "language": "python",
   "name": "python3"
  },
  "language_info": {
   "codemirror_mode": {
    "name": "ipython",
    "version": 3
   },
   "file_extension": ".py",
   "mimetype": "text/x-python",
   "name": "python",
   "nbconvert_exporter": "python",
   "pygments_lexer": "ipython3",
   "version": "3.8.5"
  },
  "widgets": {
   "application/vnd.jupyter.widget-state+json": {
    "0258f2c70b8e45928eac5a6313c83ee9": {
     "model_module": "@jupyter-widgets/base",
     "model_name": "LayoutModel",
     "state": {
      "_model_module": "@jupyter-widgets/base",
      "_model_module_version": "1.2.0",
      "_model_name": "LayoutModel",
      "_view_count": null,
      "_view_module": "@jupyter-widgets/base",
      "_view_module_version": "1.2.0",
      "_view_name": "LayoutView",
      "align_content": null,
      "align_items": null,
      "align_self": null,
      "border": null,
      "bottom": null,
      "display": null,
      "flex": null,
      "flex_flow": null,
      "grid_area": null,
      "grid_auto_columns": null,
      "grid_auto_flow": null,
      "grid_auto_rows": null,
      "grid_column": null,
      "grid_gap": null,
      "grid_row": null,
      "grid_template_areas": null,
      "grid_template_columns": null,
      "grid_template_rows": null,
      "height": null,
      "justify_content": null,
      "justify_items": null,
      "left": null,
      "margin": null,
      "max_height": null,
      "max_width": null,
      "min_height": null,
      "min_width": null,
      "object_fit": null,
      "object_position": null,
      "order": null,
      "overflow": null,
      "overflow_x": null,
      "overflow_y": null,
      "padding": null,
      "right": null,
      "top": null,
      "visibility": null,
      "width": null
     }
    },
    "0740505240ea493b846c4e00fc490427": {
     "model_module": "@jupyter-widgets/base",
     "model_name": "LayoutModel",
     "state": {
      "_model_module": "@jupyter-widgets/base",
      "_model_module_version": "1.2.0",
      "_model_name": "LayoutModel",
      "_view_count": null,
      "_view_module": "@jupyter-widgets/base",
      "_view_module_version": "1.2.0",
      "_view_name": "LayoutView",
      "align_content": null,
      "align_items": null,
      "align_self": null,
      "border": null,
      "bottom": null,
      "display": null,
      "flex": null,
      "flex_flow": null,
      "grid_area": null,
      "grid_auto_columns": null,
      "grid_auto_flow": null,
      "grid_auto_rows": null,
      "grid_column": null,
      "grid_gap": null,
      "grid_row": null,
      "grid_template_areas": null,
      "grid_template_columns": null,
      "grid_template_rows": null,
      "height": null,
      "justify_content": null,
      "justify_items": null,
      "left": null,
      "margin": null,
      "max_height": null,
      "max_width": null,
      "min_height": null,
      "min_width": null,
      "object_fit": null,
      "object_position": null,
      "order": null,
      "overflow": null,
      "overflow_x": null,
      "overflow_y": null,
      "padding": null,
      "right": null,
      "top": null,
      "visibility": null,
      "width": null
     }
    },
    "0f887e2451514395a09c68c02874e636": {
     "model_module": "@jupyter-widgets/controls",
     "model_name": "DescriptionStyleModel",
     "state": {
      "_model_module": "@jupyter-widgets/controls",
      "_model_module_version": "1.5.0",
      "_model_name": "DescriptionStyleModel",
      "_view_count": null,
      "_view_module": "@jupyter-widgets/base",
      "_view_module_version": "1.2.0",
      "_view_name": "StyleView",
      "description_width": ""
     }
    },
    "10ee44e7550e4018bb77c8e67e936236": {
     "model_module": "@jupyter-widgets/base",
     "model_name": "LayoutModel",
     "state": {
      "_model_module": "@jupyter-widgets/base",
      "_model_module_version": "1.2.0",
      "_model_name": "LayoutModel",
      "_view_count": null,
      "_view_module": "@jupyter-widgets/base",
      "_view_module_version": "1.2.0",
      "_view_name": "LayoutView",
      "align_content": null,
      "align_items": null,
      "align_self": null,
      "border": null,
      "bottom": null,
      "display": null,
      "flex": null,
      "flex_flow": null,
      "grid_area": null,
      "grid_auto_columns": null,
      "grid_auto_flow": null,
      "grid_auto_rows": null,
      "grid_column": null,
      "grid_gap": null,
      "grid_row": null,
      "grid_template_areas": null,
      "grid_template_columns": null,
      "grid_template_rows": null,
      "height": null,
      "justify_content": null,
      "justify_items": null,
      "left": null,
      "margin": null,
      "max_height": null,
      "max_width": null,
      "min_height": null,
      "min_width": null,
      "object_fit": null,
      "object_position": null,
      "order": null,
      "overflow": null,
      "overflow_x": null,
      "overflow_y": null,
      "padding": null,
      "right": null,
      "top": null,
      "visibility": null,
      "width": null
     }
    },
    "1557b3da1b904b62881fbcc673c5f66a": {
     "model_module": "@jupyter-widgets/controls",
     "model_name": "FloatProgressModel",
     "state": {
      "_dom_classes": [],
      "_model_module": "@jupyter-widgets/controls",
      "_model_module_version": "1.5.0",
      "_model_name": "FloatProgressModel",
      "_view_count": null,
      "_view_module": "@jupyter-widgets/controls",
      "_view_module_version": "1.5.0",
      "_view_name": "ProgressView",
      "bar_style": "success",
      "description": "Downloading: 100%",
      "description_tooltip": null,
      "layout": "IPY_MODEL_cc89e92485cb423bad91c006dbca5f7d",
      "max": 871891,
      "min": 0,
      "orientation": "horizontal",
      "style": "IPY_MODEL_6464f071453e4c5b87daef3f0bd0d4e1",
      "value": 871891
     }
    },
    "2869ae29fe724dca9e0dd81a9ef45ed2": {
     "model_module": "@jupyter-widgets/controls",
     "model_name": "HBoxModel",
     "state": {
      "_dom_classes": [],
      "_model_module": "@jupyter-widgets/controls",
      "_model_module_version": "1.5.0",
      "_model_name": "HBoxModel",
      "_view_count": null,
      "_view_module": "@jupyter-widgets/controls",
      "_view_module_version": "1.5.0",
      "_view_name": "HBoxView",
      "box_style": "",
      "children": [
       "IPY_MODEL_3e28ae09c67f41898fbc3337ef96a641",
       "IPY_MODEL_a7c93ea346b240c4a9fcd2aa446dea82"
      ],
      "layout": "IPY_MODEL_4a72735165ca4ff994af166a4a5f4a58"
     }
    },
    "30a58f2703c04df4a961e3c8f73a25db": {
     "model_module": "@jupyter-widgets/controls",
     "model_name": "ProgressStyleModel",
     "state": {
      "_model_module": "@jupyter-widgets/controls",
      "_model_module_version": "1.5.0",
      "_model_name": "ProgressStyleModel",
      "_view_count": null,
      "_view_module": "@jupyter-widgets/base",
      "_view_module_version": "1.2.0",
      "_view_name": "StyleView",
      "bar_color": null,
      "description_width": "initial"
     }
    },
    "353c4da9efee4692bab19a4663496cfb": {
     "model_module": "@jupyter-widgets/controls",
     "model_name": "HBoxModel",
     "state": {
      "_dom_classes": [],
      "_model_module": "@jupyter-widgets/controls",
      "_model_module_version": "1.5.0",
      "_model_name": "HBoxModel",
      "_view_count": null,
      "_view_module": "@jupyter-widgets/controls",
      "_view_module_version": "1.5.0",
      "_view_name": "HBoxView",
      "box_style": "",
      "children": [
       "IPY_MODEL_1557b3da1b904b62881fbcc673c5f66a",
       "IPY_MODEL_386cda9b0c8741e9862c43de31282452"
      ],
      "layout": "IPY_MODEL_a0ebe02909c24dc3b05ebf51f73f9be6"
     }
    },
    "386cda9b0c8741e9862c43de31282452": {
     "model_module": "@jupyter-widgets/controls",
     "model_name": "HTMLModel",
     "state": {
      "_dom_classes": [],
      "_model_module": "@jupyter-widgets/controls",
      "_model_module_version": "1.5.0",
      "_model_name": "HTMLModel",
      "_view_count": null,
      "_view_module": "@jupyter-widgets/controls",
      "_view_module_version": "1.5.0",
      "_view_name": "HTMLView",
      "description": "",
      "description_tooltip": null,
      "layout": "IPY_MODEL_666cd968e9844fdc8c3a66aa6ad23a56",
      "placeholder": "​",
      "style": "IPY_MODEL_b4d74157504a4917b494a17c4fa84730",
      "value": " 872k/872k [00:00&lt;00:00, 1.05MB/s]"
     }
    },
    "3e28ae09c67f41898fbc3337ef96a641": {
     "model_module": "@jupyter-widgets/controls",
     "model_name": "FloatProgressModel",
     "state": {
      "_dom_classes": [],
      "_model_module": "@jupyter-widgets/controls",
      "_model_module_version": "1.5.0",
      "_model_name": "FloatProgressModel",
      "_view_count": null,
      "_view_module": "@jupyter-widgets/controls",
      "_view_module_version": "1.5.0",
      "_view_name": "ProgressView",
      "bar_style": "success",
      "description": "Downloading: 100%",
      "description_tooltip": null,
      "layout": "IPY_MODEL_0740505240ea493b846c4e00fc490427",
      "max": 1715180,
      "min": 0,
      "orientation": "horizontal",
      "style": "IPY_MODEL_f54602711ed24abd9f56b7ac9a71f61f",
      "value": 1715180
     }
    },
    "4a72735165ca4ff994af166a4a5f4a58": {
     "model_module": "@jupyter-widgets/base",
     "model_name": "LayoutModel",
     "state": {
      "_model_module": "@jupyter-widgets/base",
      "_model_module_version": "1.2.0",
      "_model_name": "LayoutModel",
      "_view_count": null,
      "_view_module": "@jupyter-widgets/base",
      "_view_module_version": "1.2.0",
      "_view_name": "LayoutView",
      "align_content": null,
      "align_items": null,
      "align_self": null,
      "border": null,
      "bottom": null,
      "display": null,
      "flex": null,
      "flex_flow": null,
      "grid_area": null,
      "grid_auto_columns": null,
      "grid_auto_flow": null,
      "grid_auto_rows": null,
      "grid_column": null,
      "grid_gap": null,
      "grid_row": null,
      "grid_template_areas": null,
      "grid_template_columns": null,
      "grid_template_rows": null,
      "height": null,
      "justify_content": null,
      "justify_items": null,
      "left": null,
      "margin": null,
      "max_height": null,
      "max_width": null,
      "min_height": null,
      "min_width": null,
      "object_fit": null,
      "object_position": null,
      "order": null,
      "overflow": null,
      "overflow_x": null,
      "overflow_y": null,
      "padding": null,
      "right": null,
      "top": null,
      "visibility": null,
      "width": null
     }
    },
    "6464f071453e4c5b87daef3f0bd0d4e1": {
     "model_module": "@jupyter-widgets/controls",
     "model_name": "ProgressStyleModel",
     "state": {
      "_model_module": "@jupyter-widgets/controls",
      "_model_module_version": "1.5.0",
      "_model_name": "ProgressStyleModel",
      "_view_count": null,
      "_view_module": "@jupyter-widgets/base",
      "_view_module_version": "1.2.0",
      "_view_name": "StyleView",
      "bar_color": null,
      "description_width": "initial"
     }
    },
    "666cd968e9844fdc8c3a66aa6ad23a56": {
     "model_module": "@jupyter-widgets/base",
     "model_name": "LayoutModel",
     "state": {
      "_model_module": "@jupyter-widgets/base",
      "_model_module_version": "1.2.0",
      "_model_name": "LayoutModel",
      "_view_count": null,
      "_view_module": "@jupyter-widgets/base",
      "_view_module_version": "1.2.0",
      "_view_name": "LayoutView",
      "align_content": null,
      "align_items": null,
      "align_self": null,
      "border": null,
      "bottom": null,
      "display": null,
      "flex": null,
      "flex_flow": null,
      "grid_area": null,
      "grid_auto_columns": null,
      "grid_auto_flow": null,
      "grid_auto_rows": null,
      "grid_column": null,
      "grid_gap": null,
      "grid_row": null,
      "grid_template_areas": null,
      "grid_template_columns": null,
      "grid_template_rows": null,
      "height": null,
      "justify_content": null,
      "justify_items": null,
      "left": null,
      "margin": null,
      "max_height": null,
      "max_width": null,
      "min_height": null,
      "min_width": null,
      "object_fit": null,
      "object_position": null,
      "order": null,
      "overflow": null,
      "overflow_x": null,
      "overflow_y": null,
      "padding": null,
      "right": null,
      "top": null,
      "visibility": null,
      "width": null
     }
    },
    "7880c30e35be4918bd1e8bc885d379ab": {
     "model_module": "@jupyter-widgets/controls",
     "model_name": "HBoxModel",
     "state": {
      "_dom_classes": [],
      "_model_module": "@jupyter-widgets/controls",
      "_model_module_version": "1.5.0",
      "_model_name": "HBoxModel",
      "_view_count": null,
      "_view_module": "@jupyter-widgets/controls",
      "_view_module_version": "1.5.0",
      "_view_name": "HBoxView",
      "box_style": "",
      "children": [
       "IPY_MODEL_947cfbd083944c2483c4c4f13cd5dc64",
       "IPY_MODEL_b24c90513d194b3a88eb50d721d908d9"
      ],
      "layout": "IPY_MODEL_d9ce20827b7c49c1bd5ec259e076e0f8"
     }
    },
    "846640d20be542a79b0fa8f81e17fcb9": {
     "model_module": "@jupyter-widgets/controls",
     "model_name": "HBoxModel",
     "state": {
      "_dom_classes": [],
      "_model_module": "@jupyter-widgets/controls",
      "_model_module_version": "1.5.0",
      "_model_name": "HBoxModel",
      "_view_count": null,
      "_view_module": "@jupyter-widgets/controls",
      "_view_module_version": "1.5.0",
      "_view_name": "HBoxView",
      "box_style": "",
      "children": [
       "IPY_MODEL_8fc2b86f018a4e8cbc28c5b8e731c7cb",
       "IPY_MODEL_ebc02f94ac2146e39a872216799f2a07"
      ],
      "layout": "IPY_MODEL_d0883ffadf774ccd997ffc1bb386c45f"
     }
    },
    "8fc2b86f018a4e8cbc28c5b8e731c7cb": {
     "model_module": "@jupyter-widgets/controls",
     "model_name": "FloatProgressModel",
     "state": {
      "_dom_classes": [],
      "_model_module": "@jupyter-widgets/controls",
      "_model_module_version": "1.5.0",
      "_model_name": "FloatProgressModel",
      "_view_count": null,
      "_view_module": "@jupyter-widgets/controls",
      "_view_module_version": "1.5.0",
      "_view_name": "ProgressView",
      "bar_style": "success",
      "description": "Downloading: 100%",
      "description_tooltip": null,
      "layout": "IPY_MODEL_c440aaa199d345ef81bc8cdb0e85308f",
      "max": 672271273,
      "min": 0,
      "orientation": "horizontal",
      "style": "IPY_MODEL_d67955f6a1de4b6ba4ee4cdb34bdc338",
      "value": 672271273
     }
    },
    "9389ddfb42db4d42b68ba5f2b35dd084": {
     "model_module": "@jupyter-widgets/base",
     "model_name": "LayoutModel",
     "state": {
      "_model_module": "@jupyter-widgets/base",
      "_model_module_version": "1.2.0",
      "_model_name": "LayoutModel",
      "_view_count": null,
      "_view_module": "@jupyter-widgets/base",
      "_view_module_version": "1.2.0",
      "_view_name": "LayoutView",
      "align_content": null,
      "align_items": null,
      "align_self": null,
      "border": null,
      "bottom": null,
      "display": null,
      "flex": null,
      "flex_flow": null,
      "grid_area": null,
      "grid_auto_columns": null,
      "grid_auto_flow": null,
      "grid_auto_rows": null,
      "grid_column": null,
      "grid_gap": null,
      "grid_row": null,
      "grid_template_areas": null,
      "grid_template_columns": null,
      "grid_template_rows": null,
      "height": null,
      "justify_content": null,
      "justify_items": null,
      "left": null,
      "margin": null,
      "max_height": null,
      "max_width": null,
      "min_height": null,
      "min_width": null,
      "object_fit": null,
      "object_position": null,
      "order": null,
      "overflow": null,
      "overflow_x": null,
      "overflow_y": null,
      "padding": null,
      "right": null,
      "top": null,
      "visibility": null,
      "width": null
     }
    },
    "947cfbd083944c2483c4c4f13cd5dc64": {
     "model_module": "@jupyter-widgets/controls",
     "model_name": "FloatProgressModel",
     "state": {
      "_dom_classes": [],
      "_model_module": "@jupyter-widgets/controls",
      "_model_module_version": "1.5.0",
      "_model_name": "FloatProgressModel",
      "_view_count": null,
      "_view_module": "@jupyter-widgets/controls",
      "_view_module_version": "1.5.0",
      "_view_name": "ProgressView",
      "bar_style": "success",
      "description": "Downloading: 100%",
      "description_tooltip": null,
      "layout": "IPY_MODEL_10ee44e7550e4018bb77c8e67e936236",
      "max": 625,
      "min": 0,
      "orientation": "horizontal",
      "style": "IPY_MODEL_30a58f2703c04df4a961e3c8f73a25db",
      "value": 625
     }
    },
    "a0ebe02909c24dc3b05ebf51f73f9be6": {
     "model_module": "@jupyter-widgets/base",
     "model_name": "LayoutModel",
     "state": {
      "_model_module": "@jupyter-widgets/base",
      "_model_module_version": "1.2.0",
      "_model_name": "LayoutModel",
      "_view_count": null,
      "_view_module": "@jupyter-widgets/base",
      "_view_module_version": "1.2.0",
      "_view_name": "LayoutView",
      "align_content": null,
      "align_items": null,
      "align_self": null,
      "border": null,
      "bottom": null,
      "display": null,
      "flex": null,
      "flex_flow": null,
      "grid_area": null,
      "grid_auto_columns": null,
      "grid_auto_flow": null,
      "grid_auto_rows": null,
      "grid_column": null,
      "grid_gap": null,
      "grid_row": null,
      "grid_template_areas": null,
      "grid_template_columns": null,
      "grid_template_rows": null,
      "height": null,
      "justify_content": null,
      "justify_items": null,
      "left": null,
      "margin": null,
      "max_height": null,
      "max_width": null,
      "min_height": null,
      "min_width": null,
      "object_fit": null,
      "object_position": null,
      "order": null,
      "overflow": null,
      "overflow_x": null,
      "overflow_y": null,
      "padding": null,
      "right": null,
      "top": null,
      "visibility": null,
      "width": null
     }
    },
    "a3ac5fa934b7462a98312ea16d54a872": {
     "model_module": "@jupyter-widgets/base",
     "model_name": "LayoutModel",
     "state": {
      "_model_module": "@jupyter-widgets/base",
      "_model_module_version": "1.2.0",
      "_model_name": "LayoutModel",
      "_view_count": null,
      "_view_module": "@jupyter-widgets/base",
      "_view_module_version": "1.2.0",
      "_view_name": "LayoutView",
      "align_content": null,
      "align_items": null,
      "align_self": null,
      "border": null,
      "bottom": null,
      "display": null,
      "flex": null,
      "flex_flow": null,
      "grid_area": null,
      "grid_auto_columns": null,
      "grid_auto_flow": null,
      "grid_auto_rows": null,
      "grid_column": null,
      "grid_gap": null,
      "grid_row": null,
      "grid_template_areas": null,
      "grid_template_columns": null,
      "grid_template_rows": null,
      "height": null,
      "justify_content": null,
      "justify_items": null,
      "left": null,
      "margin": null,
      "max_height": null,
      "max_width": null,
      "min_height": null,
      "min_width": null,
      "object_fit": null,
      "object_position": null,
      "order": null,
      "overflow": null,
      "overflow_x": null,
      "overflow_y": null,
      "padding": null,
      "right": null,
      "top": null,
      "visibility": null,
      "width": null
     }
    },
    "a7c93ea346b240c4a9fcd2aa446dea82": {
     "model_module": "@jupyter-widgets/controls",
     "model_name": "HTMLModel",
     "state": {
      "_dom_classes": [],
      "_model_module": "@jupyter-widgets/controls",
      "_model_module_version": "1.5.0",
      "_model_name": "HTMLModel",
      "_view_count": null,
      "_view_module": "@jupyter-widgets/controls",
      "_view_module_version": "1.5.0",
      "_view_name": "HTMLView",
      "description": "",
      "description_tooltip": null,
      "layout": "IPY_MODEL_9389ddfb42db4d42b68ba5f2b35dd084",
      "placeholder": "​",
      "style": "IPY_MODEL_e71fbb376d1f4c19af5f7a3e0f7424e6",
      "value": " 1.72M/1.72M [00:04&lt;00:00, 391kB/s]"
     }
    },
    "b24c90513d194b3a88eb50d721d908d9": {
     "model_module": "@jupyter-widgets/controls",
     "model_name": "HTMLModel",
     "state": {
      "_dom_classes": [],
      "_model_module": "@jupyter-widgets/controls",
      "_model_module_version": "1.5.0",
      "_model_name": "HTMLModel",
      "_view_count": null,
      "_view_module": "@jupyter-widgets/controls",
      "_view_module_version": "1.5.0",
      "_view_name": "HTMLView",
      "description": "",
      "description_tooltip": null,
      "layout": "IPY_MODEL_0258f2c70b8e45928eac5a6313c83ee9",
      "placeholder": "​",
      "style": "IPY_MODEL_0f887e2451514395a09c68c02874e636",
      "value": " 625/625 [00:05&lt;00:00, 110B/s]"
     }
    },
    "b4d74157504a4917b494a17c4fa84730": {
     "model_module": "@jupyter-widgets/controls",
     "model_name": "DescriptionStyleModel",
     "state": {
      "_model_module": "@jupyter-widgets/controls",
      "_model_module_version": "1.5.0",
      "_model_name": "DescriptionStyleModel",
      "_view_count": null,
      "_view_module": "@jupyter-widgets/base",
      "_view_module_version": "1.2.0",
      "_view_name": "StyleView",
      "description_width": ""
     }
    },
    "c37b31d6e3fd4c99b66baadb4f8460bf": {
     "model_module": "@jupyter-widgets/controls",
     "model_name": "DescriptionStyleModel",
     "state": {
      "_model_module": "@jupyter-widgets/controls",
      "_model_module_version": "1.5.0",
      "_model_name": "DescriptionStyleModel",
      "_view_count": null,
      "_view_module": "@jupyter-widgets/base",
      "_view_module_version": "1.2.0",
      "_view_name": "StyleView",
      "description_width": ""
     }
    },
    "c440aaa199d345ef81bc8cdb0e85308f": {
     "model_module": "@jupyter-widgets/base",
     "model_name": "LayoutModel",
     "state": {
      "_model_module": "@jupyter-widgets/base",
      "_model_module_version": "1.2.0",
      "_model_name": "LayoutModel",
      "_view_count": null,
      "_view_module": "@jupyter-widgets/base",
      "_view_module_version": "1.2.0",
      "_view_name": "LayoutView",
      "align_content": null,
      "align_items": null,
      "align_self": null,
      "border": null,
      "bottom": null,
      "display": null,
      "flex": null,
      "flex_flow": null,
      "grid_area": null,
      "grid_auto_columns": null,
      "grid_auto_flow": null,
      "grid_auto_rows": null,
      "grid_column": null,
      "grid_gap": null,
      "grid_row": null,
      "grid_template_areas": null,
      "grid_template_columns": null,
      "grid_template_rows": null,
      "height": null,
      "justify_content": null,
      "justify_items": null,
      "left": null,
      "margin": null,
      "max_height": null,
      "max_width": null,
      "min_height": null,
      "min_width": null,
      "object_fit": null,
      "object_position": null,
      "order": null,
      "overflow": null,
      "overflow_x": null,
      "overflow_y": null,
      "padding": null,
      "right": null,
      "top": null,
      "visibility": null,
      "width": null
     }
    },
    "cc89e92485cb423bad91c006dbca5f7d": {
     "model_module": "@jupyter-widgets/base",
     "model_name": "LayoutModel",
     "state": {
      "_model_module": "@jupyter-widgets/base",
      "_model_module_version": "1.2.0",
      "_model_name": "LayoutModel",
      "_view_count": null,
      "_view_module": "@jupyter-widgets/base",
      "_view_module_version": "1.2.0",
      "_view_name": "LayoutView",
      "align_content": null,
      "align_items": null,
      "align_self": null,
      "border": null,
      "bottom": null,
      "display": null,
      "flex": null,
      "flex_flow": null,
      "grid_area": null,
      "grid_auto_columns": null,
      "grid_auto_flow": null,
      "grid_auto_rows": null,
      "grid_column": null,
      "grid_gap": null,
      "grid_row": null,
      "grid_template_areas": null,
      "grid_template_columns": null,
      "grid_template_rows": null,
      "height": null,
      "justify_content": null,
      "justify_items": null,
      "left": null,
      "margin": null,
      "max_height": null,
      "max_width": null,
      "min_height": null,
      "min_width": null,
      "object_fit": null,
      "object_position": null,
      "order": null,
      "overflow": null,
      "overflow_x": null,
      "overflow_y": null,
      "padding": null,
      "right": null,
      "top": null,
      "visibility": null,
      "width": null
     }
    },
    "d0883ffadf774ccd997ffc1bb386c45f": {
     "model_module": "@jupyter-widgets/base",
     "model_name": "LayoutModel",
     "state": {
      "_model_module": "@jupyter-widgets/base",
      "_model_module_version": "1.2.0",
      "_model_name": "LayoutModel",
      "_view_count": null,
      "_view_module": "@jupyter-widgets/base",
      "_view_module_version": "1.2.0",
      "_view_name": "LayoutView",
      "align_content": null,
      "align_items": null,
      "align_self": null,
      "border": null,
      "bottom": null,
      "display": null,
      "flex": null,
      "flex_flow": null,
      "grid_area": null,
      "grid_auto_columns": null,
      "grid_auto_flow": null,
      "grid_auto_rows": null,
      "grid_column": null,
      "grid_gap": null,
      "grid_row": null,
      "grid_template_areas": null,
      "grid_template_columns": null,
      "grid_template_rows": null,
      "height": null,
      "justify_content": null,
      "justify_items": null,
      "left": null,
      "margin": null,
      "max_height": null,
      "max_width": null,
      "min_height": null,
      "min_width": null,
      "object_fit": null,
      "object_position": null,
      "order": null,
      "overflow": null,
      "overflow_x": null,
      "overflow_y": null,
      "padding": null,
      "right": null,
      "top": null,
      "visibility": null,
      "width": null
     }
    },
    "d67955f6a1de4b6ba4ee4cdb34bdc338": {
     "model_module": "@jupyter-widgets/controls",
     "model_name": "ProgressStyleModel",
     "state": {
      "_model_module": "@jupyter-widgets/controls",
      "_model_module_version": "1.5.0",
      "_model_name": "ProgressStyleModel",
      "_view_count": null,
      "_view_module": "@jupyter-widgets/base",
      "_view_module_version": "1.2.0",
      "_view_name": "StyleView",
      "bar_color": null,
      "description_width": "initial"
     }
    },
    "d9ce20827b7c49c1bd5ec259e076e0f8": {
     "model_module": "@jupyter-widgets/base",
     "model_name": "LayoutModel",
     "state": {
      "_model_module": "@jupyter-widgets/base",
      "_model_module_version": "1.2.0",
      "_model_name": "LayoutModel",
      "_view_count": null,
      "_view_module": "@jupyter-widgets/base",
      "_view_module_version": "1.2.0",
      "_view_name": "LayoutView",
      "align_content": null,
      "align_items": null,
      "align_self": null,
      "border": null,
      "bottom": null,
      "display": null,
      "flex": null,
      "flex_flow": null,
      "grid_area": null,
      "grid_auto_columns": null,
      "grid_auto_flow": null,
      "grid_auto_rows": null,
      "grid_column": null,
      "grid_gap": null,
      "grid_row": null,
      "grid_template_areas": null,
      "grid_template_columns": null,
      "grid_template_rows": null,
      "height": null,
      "justify_content": null,
      "justify_items": null,
      "left": null,
      "margin": null,
      "max_height": null,
      "max_width": null,
      "min_height": null,
      "min_width": null,
      "object_fit": null,
      "object_position": null,
      "order": null,
      "overflow": null,
      "overflow_x": null,
      "overflow_y": null,
      "padding": null,
      "right": null,
      "top": null,
      "visibility": null,
      "width": null
     }
    },
    "e71fbb376d1f4c19af5f7a3e0f7424e6": {
     "model_module": "@jupyter-widgets/controls",
     "model_name": "DescriptionStyleModel",
     "state": {
      "_model_module": "@jupyter-widgets/controls",
      "_model_module_version": "1.5.0",
      "_model_name": "DescriptionStyleModel",
      "_view_count": null,
      "_view_module": "@jupyter-widgets/base",
      "_view_module_version": "1.2.0",
      "_view_name": "StyleView",
      "description_width": ""
     }
    },
    "ebc02f94ac2146e39a872216799f2a07": {
     "model_module": "@jupyter-widgets/controls",
     "model_name": "HTMLModel",
     "state": {
      "_dom_classes": [],
      "_model_module": "@jupyter-widgets/controls",
      "_model_module_version": "1.5.0",
      "_model_name": "HTMLModel",
      "_view_count": null,
      "_view_module": "@jupyter-widgets/controls",
      "_view_module_version": "1.5.0",
      "_view_name": "HTMLView",
      "description": "",
      "description_tooltip": null,
      "layout": "IPY_MODEL_a3ac5fa934b7462a98312ea16d54a872",
      "placeholder": "​",
      "style": "IPY_MODEL_c37b31d6e3fd4c99b66baadb4f8460bf",
      "value": " 672M/672M [10:43&lt;00:00, 1.04MB/s]"
     }
    },
    "f54602711ed24abd9f56b7ac9a71f61f": {
     "model_module": "@jupyter-widgets/controls",
     "model_name": "ProgressStyleModel",
     "state": {
      "_model_module": "@jupyter-widgets/controls",
      "_model_module_version": "1.5.0",
      "_model_name": "ProgressStyleModel",
      "_view_count": null,
      "_view_module": "@jupyter-widgets/base",
      "_view_module_version": "1.2.0",
      "_view_name": "StyleView",
      "bar_color": null,
      "description_width": "initial"
     }
    }
   }
  }
 },
 "nbformat": 4,
 "nbformat_minor": 4
}
