{
  "nbformat": 4,
  "nbformat_minor": 0,
  "metadata": {
    "colab": {
      "name": "Tamil_Memes_Classification_BERT.ipynb",
      "provenance": [],
      "toc_visible": true
    },
    "kernelspec": {
      "name": "python3",
      "display_name": "Python 3"
    },
    "accelerator": "GPU",
    "widgets": {
      "application/vnd.jupyter.widget-state+json": {
        "56bc86b79f8e474aae890bac31db37f6": {
          "model_module": "@jupyter-widgets/controls",
          "model_name": "HBoxModel",
          "state": {
            "_view_name": "HBoxView",
            "_dom_classes": [],
            "_model_name": "HBoxModel",
            "_view_module": "@jupyter-widgets/controls",
            "_model_module_version": "1.5.0",
            "_view_count": null,
            "_view_module_version": "1.5.0",
            "box_style": "",
            "layout": "IPY_MODEL_5740eb1f1a96496e847eb42cb7bbaeaf",
            "_model_module": "@jupyter-widgets/controls",
            "children": [
              "IPY_MODEL_29448bfdfe094f929a788cc2024db566",
              "IPY_MODEL_a5816ad6717b4bbb89ca03f39b16b2f7"
            ]
          }
        },
        "5740eb1f1a96496e847eb42cb7bbaeaf": {
          "model_module": "@jupyter-widgets/base",
          "model_name": "LayoutModel",
          "state": {
            "_view_name": "LayoutView",
            "grid_template_rows": null,
            "right": null,
            "justify_content": null,
            "_view_module": "@jupyter-widgets/base",
            "overflow": null,
            "_model_module_version": "1.2.0",
            "_view_count": null,
            "flex_flow": null,
            "width": null,
            "min_width": null,
            "border": null,
            "align_items": null,
            "bottom": null,
            "_model_module": "@jupyter-widgets/base",
            "top": null,
            "grid_column": null,
            "overflow_y": null,
            "overflow_x": null,
            "grid_auto_flow": null,
            "grid_area": null,
            "grid_template_columns": null,
            "flex": null,
            "_model_name": "LayoutModel",
            "justify_items": null,
            "grid_row": null,
            "max_height": null,
            "align_content": null,
            "visibility": null,
            "align_self": null,
            "height": null,
            "min_height": null,
            "padding": null,
            "grid_auto_rows": null,
            "grid_gap": null,
            "max_width": null,
            "order": null,
            "_view_module_version": "1.2.0",
            "grid_template_areas": null,
            "object_position": null,
            "object_fit": null,
            "grid_auto_columns": null,
            "margin": null,
            "display": null,
            "left": null
          }
        },
        "29448bfdfe094f929a788cc2024db566": {
          "model_module": "@jupyter-widgets/controls",
          "model_name": "FloatProgressModel",
          "state": {
            "_view_name": "ProgressView",
            "style": "IPY_MODEL_a723498b3c604affa385871d0719ad81",
            "_dom_classes": [],
            "description": "Downloading: 100%",
            "_model_name": "FloatProgressModel",
            "bar_style": "success",
            "max": 625,
            "_view_module": "@jupyter-widgets/controls",
            "_model_module_version": "1.5.0",
            "value": 625,
            "_view_count": null,
            "_view_module_version": "1.5.0",
            "orientation": "horizontal",
            "min": 0,
            "description_tooltip": null,
            "_model_module": "@jupyter-widgets/controls",
            "layout": "IPY_MODEL_437eef6514b241e4bf2b50c62cf90f33"
          }
        },
        "a5816ad6717b4bbb89ca03f39b16b2f7": {
          "model_module": "@jupyter-widgets/controls",
          "model_name": "HTMLModel",
          "state": {
            "_view_name": "HTMLView",
            "style": "IPY_MODEL_c0318d419a8f470c9de005de882615a6",
            "_dom_classes": [],
            "description": "",
            "_model_name": "HTMLModel",
            "placeholder": "​",
            "_view_module": "@jupyter-widgets/controls",
            "_model_module_version": "1.5.0",
            "value": " 625/625 [00:04&lt;00:00, 138B/s]",
            "_view_count": null,
            "_view_module_version": "1.5.0",
            "description_tooltip": null,
            "_model_module": "@jupyter-widgets/controls",
            "layout": "IPY_MODEL_821e7364c0ba48a5a91819d30f528726"
          }
        },
        "a723498b3c604affa385871d0719ad81": {
          "model_module": "@jupyter-widgets/controls",
          "model_name": "ProgressStyleModel",
          "state": {
            "_view_name": "StyleView",
            "_model_name": "ProgressStyleModel",
            "description_width": "initial",
            "_view_module": "@jupyter-widgets/base",
            "_model_module_version": "1.5.0",
            "_view_count": null,
            "_view_module_version": "1.2.0",
            "bar_color": null,
            "_model_module": "@jupyter-widgets/controls"
          }
        },
        "437eef6514b241e4bf2b50c62cf90f33": {
          "model_module": "@jupyter-widgets/base",
          "model_name": "LayoutModel",
          "state": {
            "_view_name": "LayoutView",
            "grid_template_rows": null,
            "right": null,
            "justify_content": null,
            "_view_module": "@jupyter-widgets/base",
            "overflow": null,
            "_model_module_version": "1.2.0",
            "_view_count": null,
            "flex_flow": null,
            "width": null,
            "min_width": null,
            "border": null,
            "align_items": null,
            "bottom": null,
            "_model_module": "@jupyter-widgets/base",
            "top": null,
            "grid_column": null,
            "overflow_y": null,
            "overflow_x": null,
            "grid_auto_flow": null,
            "grid_area": null,
            "grid_template_columns": null,
            "flex": null,
            "_model_name": "LayoutModel",
            "justify_items": null,
            "grid_row": null,
            "max_height": null,
            "align_content": null,
            "visibility": null,
            "align_self": null,
            "height": null,
            "min_height": null,
            "padding": null,
            "grid_auto_rows": null,
            "grid_gap": null,
            "max_width": null,
            "order": null,
            "_view_module_version": "1.2.0",
            "grid_template_areas": null,
            "object_position": null,
            "object_fit": null,
            "grid_auto_columns": null,
            "margin": null,
            "display": null,
            "left": null
          }
        },
        "c0318d419a8f470c9de005de882615a6": {
          "model_module": "@jupyter-widgets/controls",
          "model_name": "DescriptionStyleModel",
          "state": {
            "_view_name": "StyleView",
            "_model_name": "DescriptionStyleModel",
            "description_width": "",
            "_view_module": "@jupyter-widgets/base",
            "_model_module_version": "1.5.0",
            "_view_count": null,
            "_view_module_version": "1.2.0",
            "_model_module": "@jupyter-widgets/controls"
          }
        },
        "821e7364c0ba48a5a91819d30f528726": {
          "model_module": "@jupyter-widgets/base",
          "model_name": "LayoutModel",
          "state": {
            "_view_name": "LayoutView",
            "grid_template_rows": null,
            "right": null,
            "justify_content": null,
            "_view_module": "@jupyter-widgets/base",
            "overflow": null,
            "_model_module_version": "1.2.0",
            "_view_count": null,
            "flex_flow": null,
            "width": null,
            "min_width": null,
            "border": null,
            "align_items": null,
            "bottom": null,
            "_model_module": "@jupyter-widgets/base",
            "top": null,
            "grid_column": null,
            "overflow_y": null,
            "overflow_x": null,
            "grid_auto_flow": null,
            "grid_area": null,
            "grid_template_columns": null,
            "flex": null,
            "_model_name": "LayoutModel",
            "justify_items": null,
            "grid_row": null,
            "max_height": null,
            "align_content": null,
            "visibility": null,
            "align_self": null,
            "height": null,
            "min_height": null,
            "padding": null,
            "grid_auto_rows": null,
            "grid_gap": null,
            "max_width": null,
            "order": null,
            "_view_module_version": "1.2.0",
            "grid_template_areas": null,
            "object_position": null,
            "object_fit": null,
            "grid_auto_columns": null,
            "margin": null,
            "display": null,
            "left": null
          }
        },
        "0a0ae7bf00ab44e098ed98a89e18541f": {
          "model_module": "@jupyter-widgets/controls",
          "model_name": "HBoxModel",
          "state": {
            "_view_name": "HBoxView",
            "_dom_classes": [],
            "_model_name": "HBoxModel",
            "_view_module": "@jupyter-widgets/controls",
            "_model_module_version": "1.5.0",
            "_view_count": null,
            "_view_module_version": "1.5.0",
            "box_style": "",
            "layout": "IPY_MODEL_885466d73b214ea39bb3d7462ac4405b",
            "_model_module": "@jupyter-widgets/controls",
            "children": [
              "IPY_MODEL_4868b87a32e7409eb27c8621fb2315c6",
              "IPY_MODEL_ff73fe4ed4bf49e9a35e3bb8b511ece9"
            ]
          }
        },
        "885466d73b214ea39bb3d7462ac4405b": {
          "model_module": "@jupyter-widgets/base",
          "model_name": "LayoutModel",
          "state": {
            "_view_name": "LayoutView",
            "grid_template_rows": null,
            "right": null,
            "justify_content": null,
            "_view_module": "@jupyter-widgets/base",
            "overflow": null,
            "_model_module_version": "1.2.0",
            "_view_count": null,
            "flex_flow": null,
            "width": null,
            "min_width": null,
            "border": null,
            "align_items": null,
            "bottom": null,
            "_model_module": "@jupyter-widgets/base",
            "top": null,
            "grid_column": null,
            "overflow_y": null,
            "overflow_x": null,
            "grid_auto_flow": null,
            "grid_area": null,
            "grid_template_columns": null,
            "flex": null,
            "_model_name": "LayoutModel",
            "justify_items": null,
            "grid_row": null,
            "max_height": null,
            "align_content": null,
            "visibility": null,
            "align_self": null,
            "height": null,
            "min_height": null,
            "padding": null,
            "grid_auto_rows": null,
            "grid_gap": null,
            "max_width": null,
            "order": null,
            "_view_module_version": "1.2.0",
            "grid_template_areas": null,
            "object_position": null,
            "object_fit": null,
            "grid_auto_columns": null,
            "margin": null,
            "display": null,
            "left": null
          }
        },
        "4868b87a32e7409eb27c8621fb2315c6": {
          "model_module": "@jupyter-widgets/controls",
          "model_name": "FloatProgressModel",
          "state": {
            "_view_name": "ProgressView",
            "style": "IPY_MODEL_78bea60f06494f299ed6c593c30dd8c4",
            "_dom_classes": [],
            "description": "Downloading: 100%",
            "_model_name": "FloatProgressModel",
            "bar_style": "success",
            "max": 995526,
            "_view_module": "@jupyter-widgets/controls",
            "_model_module_version": "1.5.0",
            "value": 995526,
            "_view_count": null,
            "_view_module_version": "1.5.0",
            "orientation": "horizontal",
            "min": 0,
            "description_tooltip": null,
            "_model_module": "@jupyter-widgets/controls",
            "layout": "IPY_MODEL_080440eb73a8405c932b0deffa41f78d"
          }
        },
        "ff73fe4ed4bf49e9a35e3bb8b511ece9": {
          "model_module": "@jupyter-widgets/controls",
          "model_name": "HTMLModel",
          "state": {
            "_view_name": "HTMLView",
            "style": "IPY_MODEL_63b464e3de2f4506a3053c869c0ccded",
            "_dom_classes": [],
            "description": "",
            "_model_name": "HTMLModel",
            "placeholder": "​",
            "_view_module": "@jupyter-widgets/controls",
            "_model_module_version": "1.5.0",
            "value": " 996k/996k [00:04&lt;00:00, 244kB/s]",
            "_view_count": null,
            "_view_module_version": "1.5.0",
            "description_tooltip": null,
            "_model_module": "@jupyter-widgets/controls",
            "layout": "IPY_MODEL_b7cc161bb6314f93a38b3a4417e6a9bd"
          }
        },
        "78bea60f06494f299ed6c593c30dd8c4": {
          "model_module": "@jupyter-widgets/controls",
          "model_name": "ProgressStyleModel",
          "state": {
            "_view_name": "StyleView",
            "_model_name": "ProgressStyleModel",
            "description_width": "initial",
            "_view_module": "@jupyter-widgets/base",
            "_model_module_version": "1.5.0",
            "_view_count": null,
            "_view_module_version": "1.2.0",
            "bar_color": null,
            "_model_module": "@jupyter-widgets/controls"
          }
        },
        "080440eb73a8405c932b0deffa41f78d": {
          "model_module": "@jupyter-widgets/base",
          "model_name": "LayoutModel",
          "state": {
            "_view_name": "LayoutView",
            "grid_template_rows": null,
            "right": null,
            "justify_content": null,
            "_view_module": "@jupyter-widgets/base",
            "overflow": null,
            "_model_module_version": "1.2.0",
            "_view_count": null,
            "flex_flow": null,
            "width": null,
            "min_width": null,
            "border": null,
            "align_items": null,
            "bottom": null,
            "_model_module": "@jupyter-widgets/base",
            "top": null,
            "grid_column": null,
            "overflow_y": null,
            "overflow_x": null,
            "grid_auto_flow": null,
            "grid_area": null,
            "grid_template_columns": null,
            "flex": null,
            "_model_name": "LayoutModel",
            "justify_items": null,
            "grid_row": null,
            "max_height": null,
            "align_content": null,
            "visibility": null,
            "align_self": null,
            "height": null,
            "min_height": null,
            "padding": null,
            "grid_auto_rows": null,
            "grid_gap": null,
            "max_width": null,
            "order": null,
            "_view_module_version": "1.2.0",
            "grid_template_areas": null,
            "object_position": null,
            "object_fit": null,
            "grid_auto_columns": null,
            "margin": null,
            "display": null,
            "left": null
          }
        },
        "63b464e3de2f4506a3053c869c0ccded": {
          "model_module": "@jupyter-widgets/controls",
          "model_name": "DescriptionStyleModel",
          "state": {
            "_view_name": "StyleView",
            "_model_name": "DescriptionStyleModel",
            "description_width": "",
            "_view_module": "@jupyter-widgets/base",
            "_model_module_version": "1.5.0",
            "_view_count": null,
            "_view_module_version": "1.2.0",
            "_model_module": "@jupyter-widgets/controls"
          }
        },
        "b7cc161bb6314f93a38b3a4417e6a9bd": {
          "model_module": "@jupyter-widgets/base",
          "model_name": "LayoutModel",
          "state": {
            "_view_name": "LayoutView",
            "grid_template_rows": null,
            "right": null,
            "justify_content": null,
            "_view_module": "@jupyter-widgets/base",
            "overflow": null,
            "_model_module_version": "1.2.0",
            "_view_count": null,
            "flex_flow": null,
            "width": null,
            "min_width": null,
            "border": null,
            "align_items": null,
            "bottom": null,
            "_model_module": "@jupyter-widgets/base",
            "top": null,
            "grid_column": null,
            "overflow_y": null,
            "overflow_x": null,
            "grid_auto_flow": null,
            "grid_area": null,
            "grid_template_columns": null,
            "flex": null,
            "_model_name": "LayoutModel",
            "justify_items": null,
            "grid_row": null,
            "max_height": null,
            "align_content": null,
            "visibility": null,
            "align_self": null,
            "height": null,
            "min_height": null,
            "padding": null,
            "grid_auto_rows": null,
            "grid_gap": null,
            "max_width": null,
            "order": null,
            "_view_module_version": "1.2.0",
            "grid_template_areas": null,
            "object_position": null,
            "object_fit": null,
            "grid_auto_columns": null,
            "margin": null,
            "display": null,
            "left": null
          }
        },
        "3b5729de0abd4d86824bb53bd9c4691f": {
          "model_module": "@jupyter-widgets/controls",
          "model_name": "HBoxModel",
          "state": {
            "_view_name": "HBoxView",
            "_dom_classes": [],
            "_model_name": "HBoxModel",
            "_view_module": "@jupyter-widgets/controls",
            "_model_module_version": "1.5.0",
            "_view_count": null,
            "_view_module_version": "1.5.0",
            "box_style": "",
            "layout": "IPY_MODEL_1fb76c339fa347fda91d1f7bf8d9e48c",
            "_model_module": "@jupyter-widgets/controls",
            "children": [
              "IPY_MODEL_5773931b3cc34dd5a63e9fc89734faf0",
              "IPY_MODEL_3341e108feea45b8be23afe924286931"
            ]
          }
        },
        "1fb76c339fa347fda91d1f7bf8d9e48c": {
          "model_module": "@jupyter-widgets/base",
          "model_name": "LayoutModel",
          "state": {
            "_view_name": "LayoutView",
            "grid_template_rows": null,
            "right": null,
            "justify_content": null,
            "_view_module": "@jupyter-widgets/base",
            "overflow": null,
            "_model_module_version": "1.2.0",
            "_view_count": null,
            "flex_flow": null,
            "width": null,
            "min_width": null,
            "border": null,
            "align_items": null,
            "bottom": null,
            "_model_module": "@jupyter-widgets/base",
            "top": null,
            "grid_column": null,
            "overflow_y": null,
            "overflow_x": null,
            "grid_auto_flow": null,
            "grid_area": null,
            "grid_template_columns": null,
            "flex": null,
            "_model_name": "LayoutModel",
            "justify_items": null,
            "grid_row": null,
            "max_height": null,
            "align_content": null,
            "visibility": null,
            "align_self": null,
            "height": null,
            "min_height": null,
            "padding": null,
            "grid_auto_rows": null,
            "grid_gap": null,
            "max_width": null,
            "order": null,
            "_view_module_version": "1.2.0",
            "grid_template_areas": null,
            "object_position": null,
            "object_fit": null,
            "grid_auto_columns": null,
            "margin": null,
            "display": null,
            "left": null
          }
        },
        "5773931b3cc34dd5a63e9fc89734faf0": {
          "model_module": "@jupyter-widgets/controls",
          "model_name": "FloatProgressModel",
          "state": {
            "_view_name": "ProgressView",
            "style": "IPY_MODEL_1358ba6b317d4faa8612d2154f55bdd7",
            "_dom_classes": [],
            "description": "Downloading: 100%",
            "_model_name": "FloatProgressModel",
            "bar_style": "success",
            "max": 1961828,
            "_view_module": "@jupyter-widgets/controls",
            "_model_module_version": "1.5.0",
            "value": 1961828,
            "_view_count": null,
            "_view_module_version": "1.5.0",
            "orientation": "horizontal",
            "min": 0,
            "description_tooltip": null,
            "_model_module": "@jupyter-widgets/controls",
            "layout": "IPY_MODEL_1fd17ad497ea49ef8277c057b7a11448"
          }
        },
        "3341e108feea45b8be23afe924286931": {
          "model_module": "@jupyter-widgets/controls",
          "model_name": "HTMLModel",
          "state": {
            "_view_name": "HTMLView",
            "style": "IPY_MODEL_e09741104d6d4d0c8fe37a63a69f24a9",
            "_dom_classes": [],
            "description": "",
            "_model_name": "HTMLModel",
            "placeholder": "​",
            "_view_module": "@jupyter-widgets/controls",
            "_model_module_version": "1.5.0",
            "value": " 1.96M/1.96M [00:03&lt;00:00, 604kB/s]",
            "_view_count": null,
            "_view_module_version": "1.5.0",
            "description_tooltip": null,
            "_model_module": "@jupyter-widgets/controls",
            "layout": "IPY_MODEL_97ab454f6747494a81c49fdf7e3914fb"
          }
        },
        "1358ba6b317d4faa8612d2154f55bdd7": {
          "model_module": "@jupyter-widgets/controls",
          "model_name": "ProgressStyleModel",
          "state": {
            "_view_name": "StyleView",
            "_model_name": "ProgressStyleModel",
            "description_width": "initial",
            "_view_module": "@jupyter-widgets/base",
            "_model_module_version": "1.5.0",
            "_view_count": null,
            "_view_module_version": "1.2.0",
            "bar_color": null,
            "_model_module": "@jupyter-widgets/controls"
          }
        },
        "1fd17ad497ea49ef8277c057b7a11448": {
          "model_module": "@jupyter-widgets/base",
          "model_name": "LayoutModel",
          "state": {
            "_view_name": "LayoutView",
            "grid_template_rows": null,
            "right": null,
            "justify_content": null,
            "_view_module": "@jupyter-widgets/base",
            "overflow": null,
            "_model_module_version": "1.2.0",
            "_view_count": null,
            "flex_flow": null,
            "width": null,
            "min_width": null,
            "border": null,
            "align_items": null,
            "bottom": null,
            "_model_module": "@jupyter-widgets/base",
            "top": null,
            "grid_column": null,
            "overflow_y": null,
            "overflow_x": null,
            "grid_auto_flow": null,
            "grid_area": null,
            "grid_template_columns": null,
            "flex": null,
            "_model_name": "LayoutModel",
            "justify_items": null,
            "grid_row": null,
            "max_height": null,
            "align_content": null,
            "visibility": null,
            "align_self": null,
            "height": null,
            "min_height": null,
            "padding": null,
            "grid_auto_rows": null,
            "grid_gap": null,
            "max_width": null,
            "order": null,
            "_view_module_version": "1.2.0",
            "grid_template_areas": null,
            "object_position": null,
            "object_fit": null,
            "grid_auto_columns": null,
            "margin": null,
            "display": null,
            "left": null
          }
        },
        "e09741104d6d4d0c8fe37a63a69f24a9": {
          "model_module": "@jupyter-widgets/controls",
          "model_name": "DescriptionStyleModel",
          "state": {
            "_view_name": "StyleView",
            "_model_name": "DescriptionStyleModel",
            "description_width": "",
            "_view_module": "@jupyter-widgets/base",
            "_model_module_version": "1.5.0",
            "_view_count": null,
            "_view_module_version": "1.2.0",
            "_model_module": "@jupyter-widgets/controls"
          }
        },
        "97ab454f6747494a81c49fdf7e3914fb": {
          "model_module": "@jupyter-widgets/base",
          "model_name": "LayoutModel",
          "state": {
            "_view_name": "LayoutView",
            "grid_template_rows": null,
            "right": null,
            "justify_content": null,
            "_view_module": "@jupyter-widgets/base",
            "overflow": null,
            "_model_module_version": "1.2.0",
            "_view_count": null,
            "flex_flow": null,
            "width": null,
            "min_width": null,
            "border": null,
            "align_items": null,
            "bottom": null,
            "_model_module": "@jupyter-widgets/base",
            "top": null,
            "grid_column": null,
            "overflow_y": null,
            "overflow_x": null,
            "grid_auto_flow": null,
            "grid_area": null,
            "grid_template_columns": null,
            "flex": null,
            "_model_name": "LayoutModel",
            "justify_items": null,
            "grid_row": null,
            "max_height": null,
            "align_content": null,
            "visibility": null,
            "align_self": null,
            "height": null,
            "min_height": null,
            "padding": null,
            "grid_auto_rows": null,
            "grid_gap": null,
            "max_width": null,
            "order": null,
            "_view_module_version": "1.2.0",
            "grid_template_areas": null,
            "object_position": null,
            "object_fit": null,
            "grid_auto_columns": null,
            "margin": null,
            "display": null,
            "left": null
          }
        },
        "3f900186412843cdac2d1dff13794e26": {
          "model_module": "@jupyter-widgets/controls",
          "model_name": "HBoxModel",
          "state": {
            "_view_name": "HBoxView",
            "_dom_classes": [],
            "_model_name": "HBoxModel",
            "_view_module": "@jupyter-widgets/controls",
            "_model_module_version": "1.5.0",
            "_view_count": null,
            "_view_module_version": "1.5.0",
            "box_style": "",
            "layout": "IPY_MODEL_4348cad48eca4548b6c06ba025823c2a",
            "_model_module": "@jupyter-widgets/controls",
            "children": [
              "IPY_MODEL_5af5beec24ca48e0b409b7073d8589f5",
              "IPY_MODEL_ad4d2aaf234a450e9944c214139f7867"
            ]
          }
        },
        "4348cad48eca4548b6c06ba025823c2a": {
          "model_module": "@jupyter-widgets/base",
          "model_name": "LayoutModel",
          "state": {
            "_view_name": "LayoutView",
            "grid_template_rows": null,
            "right": null,
            "justify_content": null,
            "_view_module": "@jupyter-widgets/base",
            "overflow": null,
            "_model_module_version": "1.2.0",
            "_view_count": null,
            "flex_flow": null,
            "width": null,
            "min_width": null,
            "border": null,
            "align_items": null,
            "bottom": null,
            "_model_module": "@jupyter-widgets/base",
            "top": null,
            "grid_column": null,
            "overflow_y": null,
            "overflow_x": null,
            "grid_auto_flow": null,
            "grid_area": null,
            "grid_template_columns": null,
            "flex": null,
            "_model_name": "LayoutModel",
            "justify_items": null,
            "grid_row": null,
            "max_height": null,
            "align_content": null,
            "visibility": null,
            "align_self": null,
            "height": null,
            "min_height": null,
            "padding": null,
            "grid_auto_rows": null,
            "grid_gap": null,
            "max_width": null,
            "order": null,
            "_view_module_version": "1.2.0",
            "grid_template_areas": null,
            "object_position": null,
            "object_fit": null,
            "grid_auto_columns": null,
            "margin": null,
            "display": null,
            "left": null
          }
        },
        "5af5beec24ca48e0b409b7073d8589f5": {
          "model_module": "@jupyter-widgets/controls",
          "model_name": "FloatProgressModel",
          "state": {
            "_view_name": "ProgressView",
            "style": "IPY_MODEL_664761736dd64c62ae0021fceec46e65",
            "_dom_classes": [],
            "description": "Downloading: 100%",
            "_model_name": "FloatProgressModel",
            "bar_style": "success",
            "max": 714314041,
            "_view_module": "@jupyter-widgets/controls",
            "_model_module_version": "1.5.0",
            "value": 714314041,
            "_view_count": null,
            "_view_module_version": "1.5.0",
            "orientation": "horizontal",
            "min": 0,
            "description_tooltip": null,
            "_model_module": "@jupyter-widgets/controls",
            "layout": "IPY_MODEL_7bbb93dbe84240e1a7086b030eaf8c4b"
          }
        },
        "ad4d2aaf234a450e9944c214139f7867": {
          "model_module": "@jupyter-widgets/controls",
          "model_name": "HTMLModel",
          "state": {
            "_view_name": "HTMLView",
            "style": "IPY_MODEL_7ceb06568d5d436bb2964196ad0a1760",
            "_dom_classes": [],
            "description": "",
            "_model_name": "HTMLModel",
            "placeholder": "​",
            "_view_module": "@jupyter-widgets/controls",
            "_model_module_version": "1.5.0",
            "value": " 714M/714M [00:31&lt;00:00, 23.0MB/s]",
            "_view_count": null,
            "_view_module_version": "1.5.0",
            "description_tooltip": null,
            "_model_module": "@jupyter-widgets/controls",
            "layout": "IPY_MODEL_1f96c50943484067af4dbfd63df504ff"
          }
        },
        "664761736dd64c62ae0021fceec46e65": {
          "model_module": "@jupyter-widgets/controls",
          "model_name": "ProgressStyleModel",
          "state": {
            "_view_name": "StyleView",
            "_model_name": "ProgressStyleModel",
            "description_width": "initial",
            "_view_module": "@jupyter-widgets/base",
            "_model_module_version": "1.5.0",
            "_view_count": null,
            "_view_module_version": "1.2.0",
            "bar_color": null,
            "_model_module": "@jupyter-widgets/controls"
          }
        },
        "7bbb93dbe84240e1a7086b030eaf8c4b": {
          "model_module": "@jupyter-widgets/base",
          "model_name": "LayoutModel",
          "state": {
            "_view_name": "LayoutView",
            "grid_template_rows": null,
            "right": null,
            "justify_content": null,
            "_view_module": "@jupyter-widgets/base",
            "overflow": null,
            "_model_module_version": "1.2.0",
            "_view_count": null,
            "flex_flow": null,
            "width": null,
            "min_width": null,
            "border": null,
            "align_items": null,
            "bottom": null,
            "_model_module": "@jupyter-widgets/base",
            "top": null,
            "grid_column": null,
            "overflow_y": null,
            "overflow_x": null,
            "grid_auto_flow": null,
            "grid_area": null,
            "grid_template_columns": null,
            "flex": null,
            "_model_name": "LayoutModel",
            "justify_items": null,
            "grid_row": null,
            "max_height": null,
            "align_content": null,
            "visibility": null,
            "align_self": null,
            "height": null,
            "min_height": null,
            "padding": null,
            "grid_auto_rows": null,
            "grid_gap": null,
            "max_width": null,
            "order": null,
            "_view_module_version": "1.2.0",
            "grid_template_areas": null,
            "object_position": null,
            "object_fit": null,
            "grid_auto_columns": null,
            "margin": null,
            "display": null,
            "left": null
          }
        },
        "7ceb06568d5d436bb2964196ad0a1760": {
          "model_module": "@jupyter-widgets/controls",
          "model_name": "DescriptionStyleModel",
          "state": {
            "_view_name": "StyleView",
            "_model_name": "DescriptionStyleModel",
            "description_width": "",
            "_view_module": "@jupyter-widgets/base",
            "_model_module_version": "1.5.0",
            "_view_count": null,
            "_view_module_version": "1.2.0",
            "_model_module": "@jupyter-widgets/controls"
          }
        },
        "1f96c50943484067af4dbfd63df504ff": {
          "model_module": "@jupyter-widgets/base",
          "model_name": "LayoutModel",
          "state": {
            "_view_name": "LayoutView",
            "grid_template_rows": null,
            "right": null,
            "justify_content": null,
            "_view_module": "@jupyter-widgets/base",
            "overflow": null,
            "_model_module_version": "1.2.0",
            "_view_count": null,
            "flex_flow": null,
            "width": null,
            "min_width": null,
            "border": null,
            "align_items": null,
            "bottom": null,
            "_model_module": "@jupyter-widgets/base",
            "top": null,
            "grid_column": null,
            "overflow_y": null,
            "overflow_x": null,
            "grid_auto_flow": null,
            "grid_area": null,
            "grid_template_columns": null,
            "flex": null,
            "_model_name": "LayoutModel",
            "justify_items": null,
            "grid_row": null,
            "max_height": null,
            "align_content": null,
            "visibility": null,
            "align_self": null,
            "height": null,
            "min_height": null,
            "padding": null,
            "grid_auto_rows": null,
            "grid_gap": null,
            "max_width": null,
            "order": null,
            "_view_module_version": "1.2.0",
            "grid_template_areas": null,
            "object_position": null,
            "object_fit": null,
            "grid_auto_columns": null,
            "margin": null,
            "display": null,
            "left": null
          }
        }
      }
    }
  },
  "cells": [
    {
      "cell_type": "markdown",
      "metadata": {
        "id": "elqe9PQrVH6P"
      },
      "source": [
        "### Peforming checks for the resources available"
      ]
    },
    {
      "cell_type": "code",
      "metadata": {
        "colab": {
          "base_uri": "https://localhost:8080/"
        },
        "id": "fSELLChxa5su",
        "outputId": "dc733685-c52c-4b4f-8eeb-3276ea42f1ef"
      },
      "source": [
        "import torch\r\n",
        "\r\n",
        "# If there's a GPU available...\r\n",
        "if torch.cuda.is_available():    \r\n",
        "\r\n",
        "    # Tell PyTorch to use the GPU.    \r\n",
        "    device = torch.device(\"cuda\")\r\n",
        "\r\n",
        "    print('There are %d GPU(s) available.' % torch.cuda.device_count())\r\n",
        "\r\n",
        "    print('We will use the GPU:', torch.cuda.get_device_name(0))\r\n",
        "\r\n",
        "# If not...\r\n",
        "else:\r\n",
        "    print('No GPU available, using the CPU instead.')\r\n",
        "    device = torch.device(\"cpu\")"
      ],
      "execution_count": 1,
      "outputs": [
        {
          "output_type": "stream",
          "text": [
            "There are 1 GPU(s) available.\n",
            "We will use the GPU: Tesla T4\n"
          ],
          "name": "stdout"
        }
      ]
    },
    {
      "cell_type": "code",
      "metadata": {
        "colab": {
          "base_uri": "https://localhost:8080/"
        },
        "id": "ZE7agutdZ6_R",
        "outputId": "769816cb-0313-4d27-f58d-a33491e68723"
      },
      "source": [
        "!nvidia-smi"
      ],
      "execution_count": 2,
      "outputs": [
        {
          "output_type": "stream",
          "text": [
            "Mon Jan 11 08:03:57 2021       \n",
            "+-----------------------------------------------------------------------------+\n",
            "| NVIDIA-SMI 460.27.04    Driver Version: 418.67       CUDA Version: 10.1     |\n",
            "|-------------------------------+----------------------+----------------------+\n",
            "| GPU  Name        Persistence-M| Bus-Id        Disp.A | Volatile Uncorr. ECC |\n",
            "| Fan  Temp  Perf  Pwr:Usage/Cap|         Memory-Usage | GPU-Util  Compute M. |\n",
            "|                               |                      |               MIG M. |\n",
            "|===============================+======================+======================|\n",
            "|   0  Tesla T4            Off  | 00000000:00:04.0 Off |                    0 |\n",
            "| N/A   46C    P8    11W /  70W |     10MiB / 15079MiB |      0%      Default |\n",
            "|                               |                      |                 ERR! |\n",
            "+-------------------------------+----------------------+----------------------+\n",
            "                                                                               \n",
            "+-----------------------------------------------------------------------------+\n",
            "| Processes:                                                                  |\n",
            "|  GPU   GI   CI        PID   Type   Process name                  GPU Memory |\n",
            "|        ID   ID                                                   Usage      |\n",
            "|=============================================================================|\n",
            "|  No running processes found                                                 |\n",
            "+-----------------------------------------------------------------------------+\n"
          ],
          "name": "stdout"
        }
      ]
    },
    {
      "cell_type": "markdown",
      "metadata": {
        "id": "K-gbOgflVRxg"
      },
      "source": [
        "### Installing huggingface transformers library"
      ]
    },
    {
      "cell_type": "code",
      "metadata": {
        "colab": {
          "base_uri": "https://localhost:8080/"
        },
        "id": "DbDuxKy0a9Zl",
        "outputId": "adfbe896-adaa-4053-f2f9-cd4cfcabc6d3"
      },
      "source": [
        "!pip install transformers"
      ],
      "execution_count": 3,
      "outputs": [
        {
          "output_type": "stream",
          "text": [
            "Collecting transformers\n",
            "\u001b[?25l  Downloading https://files.pythonhosted.org/packages/50/0c/7d5950fcd80b029be0a8891727ba21e0cd27692c407c51261c3c921f6da3/transformers-4.1.1-py3-none-any.whl (1.5MB)\n",
            "\u001b[K     |████████████████████████████████| 1.5MB 7.7MB/s \n",
            "\u001b[?25hRequirement already satisfied: tqdm>=4.27 in /usr/local/lib/python3.6/dist-packages (from transformers) (4.41.1)\n",
            "Requirement already satisfied: requests in /usr/local/lib/python3.6/dist-packages (from transformers) (2.23.0)\n",
            "Requirement already satisfied: filelock in /usr/local/lib/python3.6/dist-packages (from transformers) (3.0.12)\n",
            "Requirement already satisfied: regex!=2019.12.17 in /usr/local/lib/python3.6/dist-packages (from transformers) (2019.12.20)\n",
            "Requirement already satisfied: numpy in /usr/local/lib/python3.6/dist-packages (from transformers) (1.19.4)\n",
            "Collecting sacremoses\n",
            "\u001b[?25l  Downloading https://files.pythonhosted.org/packages/7d/34/09d19aff26edcc8eb2a01bed8e98f13a1537005d31e95233fd48216eed10/sacremoses-0.0.43.tar.gz (883kB)\n",
            "\u001b[K     |████████████████████████████████| 890kB 28.0MB/s \n",
            "\u001b[?25hCollecting tokenizers==0.9.4\n",
            "\u001b[?25l  Downloading https://files.pythonhosted.org/packages/0f/1c/e789a8b12e28be5bc1ce2156cf87cb522b379be9cadc7ad8091a4cc107c4/tokenizers-0.9.4-cp36-cp36m-manylinux2010_x86_64.whl (2.9MB)\n",
            "\u001b[K     |████████████████████████████████| 2.9MB 41.9MB/s \n",
            "\u001b[?25hRequirement already satisfied: packaging in /usr/local/lib/python3.6/dist-packages (from transformers) (20.8)\n",
            "Requirement already satisfied: dataclasses; python_version < \"3.7\" in /usr/local/lib/python3.6/dist-packages (from transformers) (0.8)\n",
            "Requirement already satisfied: urllib3!=1.25.0,!=1.25.1,<1.26,>=1.21.1 in /usr/local/lib/python3.6/dist-packages (from requests->transformers) (1.24.3)\n",
            "Requirement already satisfied: idna<3,>=2.5 in /usr/local/lib/python3.6/dist-packages (from requests->transformers) (2.10)\n",
            "Requirement already satisfied: certifi>=2017.4.17 in /usr/local/lib/python3.6/dist-packages (from requests->transformers) (2020.12.5)\n",
            "Requirement already satisfied: chardet<4,>=3.0.2 in /usr/local/lib/python3.6/dist-packages (from requests->transformers) (3.0.4)\n",
            "Requirement already satisfied: six in /usr/local/lib/python3.6/dist-packages (from sacremoses->transformers) (1.15.0)\n",
            "Requirement already satisfied: click in /usr/local/lib/python3.6/dist-packages (from sacremoses->transformers) (7.1.2)\n",
            "Requirement already satisfied: joblib in /usr/local/lib/python3.6/dist-packages (from sacremoses->transformers) (1.0.0)\n",
            "Requirement already satisfied: pyparsing>=2.0.2 in /usr/local/lib/python3.6/dist-packages (from packaging->transformers) (2.4.7)\n",
            "Building wheels for collected packages: sacremoses\n",
            "  Building wheel for sacremoses (setup.py) ... \u001b[?25l\u001b[?25hdone\n",
            "  Created wheel for sacremoses: filename=sacremoses-0.0.43-cp36-none-any.whl size=893261 sha256=fd16d6d740d07e066ed6f9fdfd5740cc04a215a7149864433dcd78a3225971bb\n",
            "  Stored in directory: /root/.cache/pip/wheels/29/3c/fd/7ce5c3f0666dab31a50123635e6fb5e19ceb42ce38d4e58f45\n",
            "Successfully built sacremoses\n",
            "Installing collected packages: sacremoses, tokenizers, transformers\n",
            "Successfully installed sacremoses-0.0.43 tokenizers-0.9.4 transformers-4.1.1\n"
          ],
          "name": "stdout"
        }
      ]
    },
    {
      "cell_type": "markdown",
      "metadata": {
        "id": "bPwaYLiRSNPC"
      },
      "source": [
        "## Importing necessary packages"
      ]
    },
    {
      "cell_type": "code",
      "metadata": {
        "id": "0XdFrhr8SRG0"
      },
      "source": [
        "import pandas as pd\r\n",
        "import numpy as np \r\n",
        "import random\r\n",
        "from sklearn.preprocessing import LabelEncoder\r\n",
        "from sklearn.utils.class_weight import compute_class_weight\r\n",
        "import time\r\n",
        "import datetime\r\n",
        "from sklearn.metrics import classification_report,confusion_matrix\r\n",
        "import random\r\n",
        "import time\r\n",
        "import torch.nn as nn\r\n",
        "from transformers import AutoModel , AutoModelForSequenceClassification, AutoConfig , AutoTokenizer , AdamW ,get_linear_schedule_with_warmup \r\n",
        "import torch\r\n",
        "import matplotlib.pyplot as plt\r\n",
        "import seaborn as sns\r\n",
        "from matplotlib import rc\r\n",
        "from matplotlib.ticker import MaxNLocator"
      ],
      "execution_count": 4,
      "outputs": []
    },
    {
      "cell_type": "markdown",
      "metadata": {
        "id": "dROX3juhVCxC"
      },
      "source": [
        "## Setting some configuration values"
      ]
    },
    {
      "cell_type": "code",
      "metadata": {
        "id": "Kzafv4BzVCC9"
      },
      "source": [
        "# Use plot styling from seaborn.\r\n",
        "sns.set(style='darkgrid')\r\n",
        "\r\n",
        "# Increase the plot size and font size.\r\n",
        "sns.set(font_scale=1.5)\r\n",
        "plt.rcParams[\"figure.figsize\"] = (16,12)\r\n",
        "\r\n",
        "# Set the seed value all over the place to make this reproducible.\r\n",
        "seed_val = 42\r\n",
        "\r\n",
        "random.seed(seed_val)\r\n",
        "np.random.seed(seed_val)\r\n",
        "torch.manual_seed(seed_val)\r\n",
        "torch.cuda.manual_seed_all(seed_val)"
      ],
      "execution_count": 5,
      "outputs": []
    },
    {
      "cell_type": "markdown",
      "metadata": {
        "id": "2v1AIN_OVX4t"
      },
      "source": [
        "## Importing drive into the colaboratory"
      ]
    },
    {
      "cell_type": "code",
      "metadata": {
        "colab": {
          "base_uri": "https://localhost:8080/"
        },
        "id": "Lofimyh2a_tp",
        "outputId": "13ad97aa-7e29-43e7-e8b4-62b6836cda45"
      },
      "source": [
        "from google.colab import drive \r\n",
        "drive.mount('/content/drive')"
      ],
      "execution_count": 6,
      "outputs": [
        {
          "output_type": "stream",
          "text": [
            "Mounted at /content/drive\n"
          ],
          "name": "stdout"
        }
      ]
    },
    {
      "cell_type": "markdown",
      "metadata": {
        "id": "yOK-M00dVeW2"
      },
      "source": [
        "## Importing dataset directories"
      ]
    },
    {
      "cell_type": "code",
      "metadata": {
        "id": "-y-JRPKBbCTv"
      },
      "source": [
        "from os import getcwd , listdir \r\n",
        "from os.path import join\r\n",
        "curr_dir = getcwd()\r\n",
        "drive_dir = join(curr_dir , 'drive','MyDrive')\r\n",
        "dataset_dir = join(drive_dir,'Codalab','Meme Classification Challenge','Dataset')\r\n",
        "train_img_dir = join(dataset_dir,'training_img')\r\n",
        "test_img_dir = join(dataset_dir,'test_img')\r\n",
        "train_df = join(dataset_dir,'labels.csv')\r\n",
        "test_df = join(dataset_dir,'test_captions.csv')"
      ],
      "execution_count": 7,
      "outputs": []
    },
    {
      "cell_type": "code",
      "metadata": {
        "colab": {
          "base_uri": "https://localhost:8080/"
        },
        "id": "7YU1h8WhmqvK",
        "outputId": "6a9050fa-12af-4f91-fa9e-0e9edeee5ae9"
      },
      "source": [
        "print(f\" No. of images in training directory {len(listdir(train_img_dir))}\")\r\n",
        "print(f\" No. of images in testing directory {len(listdir(test_img_dir))}\")"
      ],
      "execution_count": 8,
      "outputs": [
        {
          "output_type": "stream",
          "text": [
            " No. of images in training directory 2300\n",
            " No. of images in testing directory 667\n"
          ],
          "name": "stdout"
        }
      ]
    },
    {
      "cell_type": "code",
      "metadata": {
        "colab": {
          "base_uri": "https://localhost:8080/",
          "height": 343
        },
        "id": "KoLoNPmpWuF2",
        "outputId": "c092629f-453b-493d-fcb7-8e95e674455a"
      },
      "source": [
        "import pandas as pd\r\n",
        "df_path = join(dataset_dir,'labels.csv')\r\n",
        "# Load the dataset into a pandas dataframe.\r\n",
        "df = pd.read_csv(df_path)\r\n",
        "df.sample(10)"
      ],
      "execution_count": 9,
      "outputs": [
        {
          "output_type": "execute_result",
          "data": {
            "text/html": [
              "<div>\n",
              "<style scoped>\n",
              "    .dataframe tbody tr th:only-of-type {\n",
              "        vertical-align: middle;\n",
              "    }\n",
              "\n",
              "    .dataframe tbody tr th {\n",
              "        vertical-align: top;\n",
              "    }\n",
              "\n",
              "    .dataframe thead th {\n",
              "        text-align: right;\n",
              "    }\n",
              "</style>\n",
              "<table border=\"1\" class=\"dataframe\">\n",
              "  <thead>\n",
              "    <tr style=\"text-align: right;\">\n",
              "      <th></th>\n",
              "      <th>imagename</th>\n",
              "      <th>captions</th>\n",
              "      <th>labels</th>\n",
              "    </tr>\n",
              "  </thead>\n",
              "  <tbody>\n",
              "    <tr>\n",
              "      <th>741</th>\n",
              "      <td>Not_troll_75.jpg</td>\n",
              "      <td>romba varuthapada vendiya vishiyam dhaan...</td>\n",
              "      <td>Not_troll</td>\n",
              "    </tr>\n",
              "    <tr>\n",
              "      <th>1917</th>\n",
              "      <td>troll_1854.jpg</td>\n",
              "      <td>YAARELLAM VELAIYADI IRUKKINGA...</td>\n",
              "      <td>troll</td>\n",
              "    </tr>\n",
              "    <tr>\n",
              "      <th>208</th>\n",
              "      <td>Not_troll_27.jpg</td>\n",
              "      <td>ippayellam nalladhuke kaalam illaa...</td>\n",
              "      <td>Not_troll</td>\n",
              "    </tr>\n",
              "    <tr>\n",
              "      <th>1546</th>\n",
              "      <td>troll_152.jpg</td>\n",
              "      <td>LOOSU KO MARIE PESADHA DHANASEKARA....!</td>\n",
              "      <td>troll</td>\n",
              "    </tr>\n",
              "    <tr>\n",
              "      <th>282</th>\n",
              "      <td>Not_troll_336.jpg</td>\n",
              "      <td>paarithu pala naatkal aairuchi.. nalla irukkir...</td>\n",
              "      <td>Not_troll</td>\n",
              "    </tr>\n",
              "    <tr>\n",
              "      <th>479</th>\n",
              "      <td>Not_troll_513.jpg</td>\n",
              "      <td>yenna boss ipidi aagiduchi..</td>\n",
              "      <td>Not_troll</td>\n",
              "    </tr>\n",
              "    <tr>\n",
              "      <th>1080</th>\n",
              "      <td>troll_1053.jpg</td>\n",
              "      <td>YAARU MUDHALLA VEETUKKU PORADHU YENUDU PAARPAM...</td>\n",
              "      <td>troll</td>\n",
              "    </tr>\n",
              "    <tr>\n",
              "      <th>1891</th>\n",
              "      <td>troll_1830.jpg</td>\n",
              "      <td>SURIYA VAMSAM THEVAYANI~ SARATHKUMAR'KU APPURA...</td>\n",
              "      <td>troll</td>\n",
              "    </tr>\n",
              "    <tr>\n",
              "      <th>111</th>\n",
              "      <td>Not_troll_182.jpg</td>\n",
              "      <td>idhellam oru page ah??</td>\n",
              "      <td>Not_troll</td>\n",
              "    </tr>\n",
              "    <tr>\n",
              "      <th>2085</th>\n",
              "      <td>troll_25.jpg</td>\n",
              "      <td>Cross salary net salary</td>\n",
              "      <td>troll</td>\n",
              "    </tr>\n",
              "  </tbody>\n",
              "</table>\n",
              "</div>"
            ],
            "text/plain": [
              "              imagename  ...     labels\n",
              "741    Not_troll_75.jpg  ...  Not_troll\n",
              "1917     troll_1854.jpg  ...      troll\n",
              "208    Not_troll_27.jpg  ...  Not_troll\n",
              "1546      troll_152.jpg  ...      troll\n",
              "282   Not_troll_336.jpg  ...  Not_troll\n",
              "479   Not_troll_513.jpg  ...  Not_troll\n",
              "1080     troll_1053.jpg  ...      troll\n",
              "1891     troll_1830.jpg  ...      troll\n",
              "111   Not_troll_182.jpg  ...  Not_troll\n",
              "2085       troll_25.jpg  ...      troll\n",
              "\n",
              "[10 rows x 3 columns]"
            ]
          },
          "metadata": {
            "tags": []
          },
          "execution_count": 9
        }
      ]
    },
    {
      "cell_type": "markdown",
      "metadata": {
        "id": "1aJvql_6p-Ca"
      },
      "source": [
        "## Extracting `sentences` and `labels` from our training dataframe"
      ]
    },
    {
      "cell_type": "code",
      "metadata": {
        "id": "eJdGbBXXp5Dp"
      },
      "source": [
        "sentences = df['captions'].values\r\n",
        "labels = df['labels'].values"
      ],
      "execution_count": 10,
      "outputs": []
    },
    {
      "cell_type": "code",
      "metadata": {
        "colab": {
          "base_uri": "https://localhost:8080/"
        },
        "id": "YpOuklA_qoU5",
        "outputId": "e875a6f4-d90c-4c60-a8da-e5b2fae53c2e"
      },
      "source": [
        "df['labels'].value_counts()"
      ],
      "execution_count": 11,
      "outputs": [
        {
          "output_type": "execute_result",
          "data": {
            "text/plain": [
              "troll        1282\n",
              "Not_troll    1018\n",
              "Name: labels, dtype: int64"
            ]
          },
          "metadata": {
            "tags": []
          },
          "execution_count": 11
        }
      ]
    },
    {
      "cell_type": "markdown",
      "metadata": {
        "id": "gJJ67L_OaQ9O"
      },
      "source": [
        "## LabelEncoding the target variable"
      ]
    },
    {
      "cell_type": "code",
      "metadata": {
        "id": "vZf4NmjLqVpd"
      },
      "source": [
        "from sklearn.preprocessing import LabelEncoder\r\n",
        "le = LabelEncoder()\r\n",
        "df.loc[:,'labels'] = le.fit_transform(df.loc[:,'labels'])"
      ],
      "execution_count": 12,
      "outputs": []
    },
    {
      "cell_type": "code",
      "metadata": {
        "colab": {
          "base_uri": "https://localhost:8080/"
        },
        "id": "5LDWvpmIqenc",
        "outputId": "f695f624-bbef-4b8f-c263-22d61af8d05f"
      },
      "source": [
        "df['labels'].value_counts()"
      ],
      "execution_count": 13,
      "outputs": [
        {
          "output_type": "execute_result",
          "data": {
            "text/plain": [
              "1    1282\n",
              "0    1018\n",
              "Name: labels, dtype: int64"
            ]
          },
          "metadata": {
            "tags": []
          },
          "execution_count": 13
        }
      ]
    },
    {
      "cell_type": "markdown",
      "metadata": {
        "id": "lAwOGIewXqpN"
      },
      "source": [
        "## Splitting the dataset into `train` , `dev` set"
      ]
    },
    {
      "cell_type": "code",
      "metadata": {
        "id": "XduIyHZuYEfO"
      },
      "source": [
        "from sklearn.model_selection import train_test_split\r\n",
        "train_sentences, val_sentences , train_labels , val_labels = \\\r\n",
        "train_test_split(df['captions'],df['labels'],test_size = 0.2,random_state = 42,stratify = df['labels'])"
      ],
      "execution_count": 14,
      "outputs": []
    },
    {
      "cell_type": "code",
      "metadata": {
        "colab": {
          "base_uri": "https://localhost:8080/"
        },
        "id": "AxyOPj_QYPyq",
        "outputId": "5e54d4ee-124e-44b6-acaa-c9c7af7938b9"
      },
      "source": [
        "train_sentences"
      ],
      "execution_count": 15,
      "outputs": [
        {
          "output_type": "execute_result",
          "data": {
            "text/plain": [
              "1483    IVANA VIDA IVAN DHAN DA ENNA ROMBA TORCHEL PAN...\n",
              "531           vunakkulam vukkarura yedathula katti vara..\n",
              "1448    *ME : NETHU NIGHT UH, NEE CHICKEN AH ALLI ALLI...\n",
              "415     mandaikku mela kondai irundha matum podhadhu.....\n",
              "914     aahaa track namma pakkam thirumbudhe... appadi...\n",
              "                              ...                        \n",
              "1730    PANDRADHAYUM PANNITU MOONJIYA EPDI VACHURUKKAN...\n",
              "12       Karupu vulaipaligalin vannam.. theriuma vunakku?\n",
              "2226    pattu paduravan peru paadagan na !!   arrear v...\n",
              "981           ni... nidhaan...   adhukku  sariya ippa....\n",
              "1307    *BOYS : IPA ETHUKU IVLO MAKEUP POTRUKINGA..?? ...\n",
              "Name: captions, Length: 1840, dtype: object"
            ]
          },
          "metadata": {
            "tags": []
          },
          "execution_count": 15
        }
      ]
    },
    {
      "cell_type": "code",
      "metadata": {
        "colab": {
          "base_uri": "https://localhost:8080/"
        },
        "id": "ZXiqb_iQYSYN",
        "outputId": "9384dbf7-934b-439d-a069-1e9815dbf29a"
      },
      "source": [
        "val_sentences"
      ],
      "execution_count": 16,
      "outputs": [
        {
          "output_type": "execute_result",
          "data": {
            "text/plain": [
              "1232    ACTING LEVEL KARAN ANNA : KINDNESS(ANBU) , VIC...\n",
              "566                                    aiyo! semma comedy\n",
              "459     yennangada mudi idhu..??  naai nakkuna maadhir...\n",
              "683               romba nalla irukku thambi vun karuthu..\n",
              "1682    *DOCTOR : DEI NEE ENGINEER AH  *ENGINEER : AAM...\n",
              "                              ...                        \n",
              "524                       idhellam oru polappa..  thuu...\n",
              "600             yedukku vambu nammalun adhaiye solluvom..\n",
              "159                                 yenna oru villathanam\n",
              "1840    #GROUP ADMIN: WHATSAPP GROUP ADMIN REACTION WH...\n",
              "1752    NELLIN AADEIYAI KALEINDHAL AARISI..  ANDHA AVA...\n",
              "Name: captions, Length: 460, dtype: object"
            ]
          },
          "metadata": {
            "tags": []
          },
          "execution_count": 16
        }
      ]
    },
    {
      "cell_type": "code",
      "metadata": {
        "colab": {
          "base_uri": "https://localhost:8080/"
        },
        "id": "T7Z_WCNUcND9",
        "outputId": "3958317d-5352-44ee-ecc4-578fd9bf9913"
      },
      "source": [
        "train_labels.value_counts()"
      ],
      "execution_count": 18,
      "outputs": [
        {
          "output_type": "execute_result",
          "data": {
            "text/plain": [
              "1    1026\n",
              "0     814\n",
              "Name: labels, dtype: int64"
            ]
          },
          "metadata": {
            "tags": []
          },
          "execution_count": 18
        }
      ]
    },
    {
      "cell_type": "code",
      "metadata": {
        "colab": {
          "base_uri": "https://localhost:8080/"
        },
        "id": "_KIqGHO0q8uS",
        "outputId": "b597915a-be90-4960-a5d5-5f3b1e3279e7"
      },
      "source": [
        "val_labels.value_counts()"
      ],
      "execution_count": 19,
      "outputs": [
        {
          "output_type": "execute_result",
          "data": {
            "text/plain": [
              "1    256\n",
              "0    204\n",
              "Name: labels, dtype: int64"
            ]
          },
          "metadata": {
            "tags": []
          },
          "execution_count": 19
        }
      ]
    },
    {
      "cell_type": "code",
      "metadata": {
        "colab": {
          "base_uri": "https://localhost:8080/"
        },
        "id": "joone3H4bINR",
        "outputId": "8cbfea89-d563-4e40-fa68-ed1e19205705"
      },
      "source": [
        "import numpy as np \r\n",
        "import random\r\n",
        "\r\n",
        "# Report the number of sentences.\r\n",
        "print('Number of training sentences: {:,}\\n'.format(train_sentences.shape[0]))"
      ],
      "execution_count": 20,
      "outputs": [
        {
          "output_type": "stream",
          "text": [
            "Number of training sentences: 1,840\n",
            "\n"
          ],
          "name": "stdout"
        }
      ]
    },
    {
      "cell_type": "markdown",
      "metadata": {
        "id": "wnZSg5f7ZWs_"
      },
      "source": [
        "## Saving Class Names"
      ]
    },
    {
      "cell_type": "code",
      "metadata": {
        "id": "83tTT-wbZa1o"
      },
      "source": [
        "class_names = ['Not_troll','troll']"
      ],
      "execution_count": 21,
      "outputs": []
    },
    {
      "cell_type": "code",
      "metadata": {
        "id": "7GH8NPtKOw-Z"
      },
      "source": [
        "label_dict = {0:'Not_troll',1:'troll'}"
      ],
      "execution_count": 22,
      "outputs": []
    },
    {
      "cell_type": "markdown",
      "metadata": {
        "id": "fS2UcOiEVuhm"
      },
      "source": [
        "## Handling class imbalance using `sklearn's comput_class_weight`"
      ]
    },
    {
      "cell_type": "code",
      "metadata": {
        "id": "WL4tP_YkI1mY"
      },
      "source": [
        "# from sklearn.utils.class_weight import compute_class_weight\r\n",
        "\r\n",
        "# #compute the class weights\r\n",
        "# class_wts = compute_class_weight('balanced', np.unique(train_labels), train_labels)\r\n",
        "\r\n",
        "# print(class_wts)"
      ],
      "execution_count": 23,
      "outputs": []
    },
    {
      "cell_type": "markdown",
      "metadata": {
        "id": "SjfczCcjbHYn"
      },
      "source": [
        "## Helper Functions"
      ]
    },
    {
      "cell_type": "markdown",
      "metadata": {
        "id": "AG9-Uca9bHYo"
      },
      "source": [
        "#### 1) Update Interval Function"
      ]
    },
    {
      "cell_type": "code",
      "metadata": {
        "id": "TOI1Vw51bHYp"
      },
      "source": [
        "def good_update_interval(total_iters, num_desired_updates):\r\n",
        "    '''\r\n",
        "    This function will try to pick an intelligent progress update interval \r\n",
        "    based on the magnitude of the total iterations.\r\n",
        "\r\n",
        "    Parameters:\r\n",
        "      `total_iters` - The number of iterations in the for-loop.\r\n",
        "      `num_desired_updates` - How many times we want to see an update over the \r\n",
        "                              course of the for-loop.\r\n",
        "    '''\r\n",
        "    # Divide the total iterations by the desired number of updates. Most likely\r\n",
        "    # this will be some ugly number.\r\n",
        "    exact_interval = total_iters / num_desired_updates\r\n",
        "\r\n",
        "    # The `round` function has the ability to round down a number to, e.g., the\r\n",
        "    # nearest thousandth: round(exact_interval, -3)\r\n",
        "    #\r\n",
        "    # To determine the magnitude to round to, find the magnitude of the total,\r\n",
        "    # and then go one magnitude below that.\r\n",
        "\r\n",
        "    # Get the order of magnitude of the total.\r\n",
        "    order_of_mag = len(str(total_iters)) - 1\r\n",
        "\r\n",
        "    # Our update interval should be rounded to an order of magnitude smaller. \r\n",
        "    round_mag = order_of_mag - 1\r\n",
        "\r\n",
        "    # Round down and cast to an int.\r\n",
        "    update_interval = int(round(exact_interval, -round_mag))\r\n",
        "\r\n",
        "    # Don't allow the interval to be zero!\r\n",
        "    if update_interval == 0:\r\n",
        "        update_interval = 1\r\n",
        "\r\n",
        "    return update_interval"
      ],
      "execution_count": 24,
      "outputs": []
    },
    {
      "cell_type": "markdown",
      "metadata": {
        "id": "QqiAMUcibHYq"
      },
      "source": [
        "#### 2) Format time function"
      ]
    },
    {
      "cell_type": "code",
      "metadata": {
        "id": "Bz2pSqdpbHYq"
      },
      "source": [
        "def format_time(elapsed):\r\n",
        "    '''\r\n",
        "    Takes a time in seconds and returns a string hh:mm:ss\r\n",
        "    '''\r\n",
        "    # Round to the nearest second.\r\n",
        "    elapsed_rounded = int(round((elapsed)))\r\n",
        "    \r\n",
        "    # Format as hh:mm:ss\r\n",
        "    return str(datetime.timedelta(seconds=elapsed_rounded))\r\n"
      ],
      "execution_count": 25,
      "outputs": []
    },
    {
      "cell_type": "markdown",
      "metadata": {
        "id": "HAElIzBxbHYr"
      },
      "source": [
        "#### 3) Make Smart Batches function"
      ]
    },
    {
      "cell_type": "code",
      "metadata": {
        "id": "Z1g8MJztbHYr"
      },
      "source": [
        "def make_smart_batches(text_samples, labels, batch_size,tokenizer,max_input_length):\r\n",
        "    '''\r\n",
        "    This function combines all of the required steps to prepare batches.\r\n",
        "    '''\r\n",
        "\r\n",
        "    print('Creating Smart Batches from {:,} examples with batch size {:,}...\\n'.format(len(text_samples), batch_size))\r\n",
        "\r\n",
        "    # =========================\r\n",
        "    #   Tokenize & Truncate\r\n",
        "    # =========================\r\n",
        "\r\n",
        "    full_input_ids = []\r\n",
        "\r\n",
        "    # Tokenize all training examples\r\n",
        "    print('Tokenizing {:,} samples...'.format(len(labels)))\r\n",
        "\r\n",
        "    # Choose an interval on which to print progress updates.\r\n",
        "    update_interval = good_update_interval(total_iters=len(labels), num_desired_updates=10)\r\n",
        "\r\n",
        "    # For each training example...\r\n",
        "    for text in text_samples:\r\n",
        "        \r\n",
        "        # Report progress.\r\n",
        "        if ((len(full_input_ids) % update_interval) == 0):\r\n",
        "            print('  Tokenized {:,} samples.'.format(len(full_input_ids)))\r\n",
        "\r\n",
        "        # Tokenize the sample.\r\n",
        "        input_ids = tokenizer.encode(text=text,              # Text to encode.\r\n",
        "                                    add_special_tokens=True, # Do add specials.\r\n",
        "                                    max_length=max_input_length,      \r\n",
        "                                    truncation=True,         # Do Truncate!\r\n",
        "                                    padding=False)           # DO NOT pad.\r\n",
        "                                    \r\n",
        "        # Add the tokenized result to our list.\r\n",
        "        full_input_ids.append(input_ids)\r\n",
        "        \r\n",
        "    print('DONE.')\r\n",
        "    print('{:>10,} samples\\n'.format(len(full_input_ids)))\r\n",
        "\r\n",
        "    # =========================\r\n",
        "    #      Select Batches\r\n",
        "    # =========================    \r\n",
        "\r\n",
        "    # Sort the two lists together by the length of the input sequence.\r\n",
        "    samples = sorted(zip(full_input_ids, labels), key=lambda x: len(x[0]))\r\n",
        "\r\n",
        "    print('{:>10,} samples after sorting\\n'.format(len(samples)))\r\n",
        "\r\n",
        "    import random\r\n",
        "\r\n",
        "    # List of batches that we'll construct.\r\n",
        "    batch_ordered_sentences = []\r\n",
        "    batch_ordered_labels = []\r\n",
        "\r\n",
        "    print('Creating batches of size {:}...'.format(batch_size))\r\n",
        "\r\n",
        "    # Choose an interval on which to print progress updates.\r\n",
        "    update_interval = good_update_interval(total_iters=len(samples), num_desired_updates=10)\r\n",
        "    \r\n",
        "    # Loop over all of the input samples...    \r\n",
        "    while len(samples) > 0:\r\n",
        "        \r\n",
        "        # Report progress.\r\n",
        "        if ((len(batch_ordered_sentences) % update_interval) == 0 \\\r\n",
        "            and not len(batch_ordered_sentences) == 0):\r\n",
        "            print('  Selected {:,} batches.'.format(len(batch_ordered_sentences)))\r\n",
        "\r\n",
        "        # `to_take` is our actual batch size. It will be `batch_size` until \r\n",
        "        # we get to the last batch, which may be smaller. \r\n",
        "        to_take = min(batch_size, len(samples))\r\n",
        "\r\n",
        "        # Pick a random index in the list of remaining samples to start\r\n",
        "        # our batch at.\r\n",
        "        select = random.randint(0, len(samples) - to_take)\r\n",
        "\r\n",
        "        # Select a contiguous batch of samples starting at `select`.\r\n",
        "        #print(\"Selecting batch from {:} to {:}\".format(select, select+to_take))\r\n",
        "        batch = samples[select:(select + to_take)]\r\n",
        "\r\n",
        "        #print(\"Batch length:\", len(batch))\r\n",
        "\r\n",
        "        # Each sample is a tuple--split them apart to create a separate list of \r\n",
        "        # sequences and a list of labels for this batch.\r\n",
        "        batch_ordered_sentences.append([s[0] for s in batch])\r\n",
        "        batch_ordered_labels.append([s[1] for s in batch])\r\n",
        "\r\n",
        "        # Remove these samples from the list.\r\n",
        "        del samples[select:select + to_take]\r\n",
        "\r\n",
        "    print('\\n  DONE - Selected {:,} batches.\\n'.format(len(batch_ordered_sentences)))\r\n",
        "\r\n",
        "    # =========================\r\n",
        "    #        Add Padding\r\n",
        "    # =========================    \r\n",
        "\r\n",
        "    print('Padding out sequences within each batch...')\r\n",
        "\r\n",
        "    py_inputs = []\r\n",
        "    py_attn_masks = []\r\n",
        "    py_labels = []\r\n",
        "\r\n",
        "    # For each batch...\r\n",
        "    for (batch_inputs, batch_labels) in zip(batch_ordered_sentences, batch_ordered_labels):\r\n",
        "\r\n",
        "        # New version of the batch, this time with padded sequences and now with\r\n",
        "        # attention masks defined.\r\n",
        "        batch_padded_inputs = []\r\n",
        "        batch_attn_masks = []\r\n",
        "        \r\n",
        "        # First, find the longest sample in the batch. \r\n",
        "        # Note that the sequences do currently include the special tokens!\r\n",
        "        max_size = max([len(sen) for sen in batch_inputs])\r\n",
        "\r\n",
        "        # For each input in this batch...\r\n",
        "        for sen in batch_inputs:\r\n",
        "            \r\n",
        "            # How many pad tokens do we need to add?\r\n",
        "            num_pads = max_size - len(sen)\r\n",
        "\r\n",
        "            # Add `num_pads` padding tokens to the end of the sequence.\r\n",
        "            padded_input = sen + [tokenizer.pad_token_id]*num_pads\r\n",
        "\r\n",
        "            # Define the attention mask--it's just a `1` for every real token\r\n",
        "            # and a `0` for every padding token.\r\n",
        "            attn_mask = [1] * len(sen) + [0] * num_pads\r\n",
        "\r\n",
        "            # Add the padded results to the batch.\r\n",
        "            batch_padded_inputs.append(padded_input)\r\n",
        "            batch_attn_masks.append(attn_mask)\r\n",
        "\r\n",
        "        # Our batch has been padded, so we need to save this updated batch.\r\n",
        "        # We also need the inputs to be PyTorch tensors, so we'll do that here.\r\n",
        "        # Todo - Michael's code specified \"dtype=torch.long\"\r\n",
        "        py_inputs.append(torch.tensor(batch_padded_inputs))\r\n",
        "        py_attn_masks.append(torch.tensor(batch_attn_masks))\r\n",
        "        py_labels.append(torch.tensor(batch_labels))\r\n",
        "    \r\n",
        "    print('  DONE.')\r\n",
        "\r\n",
        "    # Return the smart-batched dataset!\r\n",
        "    return (py_inputs, py_attn_masks, py_labels)\r\n"
      ],
      "execution_count": 26,
      "outputs": []
    },
    {
      "cell_type": "markdown",
      "metadata": {
        "id": "xo1_bDriha4q"
      },
      "source": [
        "### 4) Make Smart Batches (On Test)"
      ]
    },
    {
      "cell_type": "code",
      "metadata": {
        "id": "hC-c82iuRlv2"
      },
      "source": [
        "def make_smart_batches_on_test(text_samples, text_ids, batch_size,tokenizer,max_input_length):\r\n",
        "    '''\r\n",
        "    This function combines all of the required steps to prepare batches.\r\n",
        "    '''\r\n",
        "\r\n",
        "    print('Creating Smart Batches from {:,} examples with batch size {:,}...\\n'.format(len(text_samples), batch_size))\r\n",
        "\r\n",
        "    # =========================\r\n",
        "    #   Tokenize & Truncate\r\n",
        "    # =========================\r\n",
        "\r\n",
        "    full_input_ids = []\r\n",
        "\r\n",
        "    # Tokenize all training examples\r\n",
        "    print('Tokenizing {:,} samples...'.format(len(text_samples)))\r\n",
        "\r\n",
        "    # Choose an interval on which to print progress updates.\r\n",
        "    update_interval = good_update_interval(total_iters=len(text_samples), num_desired_updates=10)\r\n",
        "\r\n",
        "    # For each training example...\r\n",
        "    for text in text_samples:\r\n",
        "        \r\n",
        "        # Report progress.\r\n",
        "        if ((len(full_input_ids) % update_interval) == 0):\r\n",
        "            print('  Tokenized {:,} samples.'.format(len(full_input_ids)))\r\n",
        "\r\n",
        "        # Tokenize the sample.\r\n",
        "        input_ids = tokenizer.encode(text=text,              # Text to encode.\r\n",
        "                                    add_special_tokens=True, # Do add specials.\r\n",
        "                                    max_length=max_input_length,      \r\n",
        "                                    truncation=True,         # Do Truncate!\r\n",
        "                                    padding=False)           # DO NOT pad.\r\n",
        "                                    \r\n",
        "        # Add the tokenized result to our list.\r\n",
        "        full_input_ids.append(input_ids)\r\n",
        "        \r\n",
        "    print('DONE.')\r\n",
        "    print('{:>10,} samples\\n'.format(len(full_input_ids)))\r\n",
        "\r\n",
        "    # =========================\r\n",
        "    #      Select Batches\r\n",
        "    # =========================    \r\n",
        "\r\n",
        "    # Sort the two lists together by the length of the input sequence.\r\n",
        "    samples = sorted(zip(full_input_ids, text_ids), key=lambda x: len(x[0]))\r\n",
        "\r\n",
        "    print('{:>10,} samples after sorting\\n'.format(len(samples)))\r\n",
        "\r\n",
        "    import random\r\n",
        "\r\n",
        "    # List of batches that we'll construct.\r\n",
        "    batch_ordered_sentences = []\r\n",
        "    batch_ordered_ids = []\r\n",
        "\r\n",
        "    print('Creating batches of size {:}...'.format(batch_size))\r\n",
        "\r\n",
        "    # Choose an interval on which to print progress updates.\r\n",
        "    update_interval = good_update_interval(total_iters=len(samples), num_desired_updates=10)\r\n",
        "    \r\n",
        "    # Loop over all of the input samples...    \r\n",
        "    while len(samples) > 0:\r\n",
        "        \r\n",
        "        # Report progress.\r\n",
        "        if ((len(batch_ordered_sentences) % update_interval) == 0 \\\r\n",
        "            and not len(batch_ordered_sentences) == 0):\r\n",
        "            print('  Selected {:,} batches.'.format(len(batch_ordered_sentences)))\r\n",
        "\r\n",
        "        # `to_take` is our actual batch size. It will be `batch_size` until \r\n",
        "        # we get to the last batch, which may be smaller. \r\n",
        "        to_take = min(batch_size, len(samples))\r\n",
        "\r\n",
        "        # Pick a random index in the list of remaining samples to start\r\n",
        "        # our batch at.\r\n",
        "        select = random.randint(0, len(samples) - to_take)\r\n",
        "\r\n",
        "        # Select a contiguous batch of samples starting at `select`.\r\n",
        "        #print(\"Selecting batch from {:} to {:}\".format(select, select+to_take))\r\n",
        "        batch = samples[select:(select + to_take)]\r\n",
        "\r\n",
        "        #print(\"Batch length:\", len(batch))\r\n",
        "\r\n",
        "        # Each sample is a tuple--split them apart to create a separate list of \r\n",
        "        # sequences and a list of labels for this batch.\r\n",
        "        batch_ordered_sentences.append([s[0] for s in batch])\r\n",
        "        batch_ordered_ids.append([s[1] for s in batch])\r\n",
        "\r\n",
        "        # Remove these samples from the list.\r\n",
        "        del samples[select:select + to_take]\r\n",
        "\r\n",
        "    print('\\n  DONE - Selected {:,} batches.\\n'.format(len(batch_ordered_sentences)))\r\n",
        "\r\n",
        "    # =========================\r\n",
        "    #        Add Padding\r\n",
        "    # =========================    \r\n",
        "\r\n",
        "    print('Padding out sequences within each batch...')\r\n",
        "\r\n",
        "    py_inputs = []\r\n",
        "    py_attn_masks = []\r\n",
        "    py_ids = []\r\n",
        "\r\n",
        "    # For each batch...\r\n",
        "    for (batch_inputs, batch_ids) in zip(batch_ordered_sentences, batch_ordered_ids):\r\n",
        "\r\n",
        "        # New version of the batch, this time with padded sequences and now with\r\n",
        "        # attention masks defined.\r\n",
        "        batch_padded_inputs = []\r\n",
        "        batch_attn_masks = []\r\n",
        "        \r\n",
        "        # First, find the longest sample in the batch. \r\n",
        "        # Note that the sequences do currently include the special tokens!\r\n",
        "        max_size = max([len(sen) for sen in batch_inputs])\r\n",
        "\r\n",
        "        # For each input in this batch...\r\n",
        "        for sen in batch_inputs:\r\n",
        "            \r\n",
        "            # How many pad tokens do we need to add?\r\n",
        "            num_pads = max_size - len(sen)\r\n",
        "\r\n",
        "            # Add `num_pads` padding tokens to the end of the sequence.\r\n",
        "            padded_input = sen + [tokenizer.pad_token_id]*num_pads\r\n",
        "\r\n",
        "            # Define the attention mask--it's just a `1` for every real token\r\n",
        "            # and a `0` for every padding token.\r\n",
        "            attn_mask = [1] * len(sen) + [0] * num_pads\r\n",
        "\r\n",
        "            # Add the padded results to the batch.\r\n",
        "            batch_padded_inputs.append(padded_input)\r\n",
        "            batch_attn_masks.append(attn_mask)\r\n",
        "\r\n",
        "        # Our batch has been padded, so we need to save this updated batch.\r\n",
        "        # We also need the inputs to be PyTorch tensors, so we'll do that here.\r\n",
        "        # Todo - Michael's code specified \"dtype=torch.long\"\r\n",
        "        py_inputs.append(torch.tensor(batch_padded_inputs))\r\n",
        "        py_attn_masks.append(torch.tensor(batch_attn_masks))\r\n",
        "        py_ids.append(torch.tensor(batch_ids))\r\n",
        "    \r\n",
        "    print('  DONE.')\r\n",
        "\r\n",
        "    # Return the smart-batched dataset!\r\n",
        "    return (py_inputs, py_attn_masks, py_ids)\r\n"
      ],
      "execution_count": 27,
      "outputs": []
    },
    {
      "cell_type": "markdown",
      "metadata": {
        "id": "RfXvAn47Rlv5"
      },
      "source": [
        "### 5) Function for calculating accuracy per class"
      ]
    },
    {
      "cell_type": "code",
      "metadata": {
        "id": "v3usMdEvRlv7"
      },
      "source": [
        "def accuracy_per_class(preds, labels , label_dict):\r\n",
        "    \r\n",
        "    preds_flat = np.argmax(preds, axis=1).flatten()\r\n",
        "    labels_flat = labels.flatten()\r\n",
        "\r\n",
        "    for label in np.unique(labels_flat):\r\n",
        "        y_preds = preds_flat[labels_flat==label]\r\n",
        "        y_true = labels_flat[labels_flat==label]\r\n",
        "        print(f'Class: {label_dict[label]}')\r\n",
        "        print(f'Accuracy: {round(100*len(y_preds[y_preds==label])/len(y_true) , 2)}\\n')"
      ],
      "execution_count": 28,
      "outputs": []
    },
    {
      "cell_type": "markdown",
      "metadata": {
        "id": "aF5EckowRlv9"
      },
      "source": [
        "### 6) Function for plotting training history"
      ]
    },
    {
      "cell_type": "code",
      "metadata": {
        "id": "KVPwVOGxRlv-"
      },
      "source": [
        "def plot_training_history(history):\r\n",
        "  fig, (ax1, ax2) = plt.subplots(1, 2, figsize=(18, 6))\r\n",
        "\r\n",
        "  ax1.plot(history['train_loss'], label='train loss')\r\n",
        "  ax1.plot(history['val_loss'], label='validation loss')\r\n",
        "\r\n",
        "  ax1.xaxis.set_major_locator(MaxNLocator(integer=True))\r\n",
        "  ax1.set_ylim([-0.05, 1.05])\r\n",
        "  ax1.legend()\r\n",
        "  ax1.set_ylabel('Loss')\r\n",
        "  ax1.set_xlabel('Epoch')\r\n",
        "\r\n",
        "  ax2.plot(history['train_acc'], label='train accuracy')\r\n",
        "  ax2.plot(history['val_acc'], label='validation accuracy')\r\n",
        "\r\n",
        "  ax2.xaxis.set_major_locator(MaxNLocator(integer=True))\r\n",
        "  ax2.set_ylim([-0.05, 1.05])\r\n",
        "  ax2.legend()\r\n",
        "\r\n",
        "  ax2.set_ylabel('Accuracy')\r\n",
        "  ax2.set_xlabel('Epoch')\r\n",
        "\r\n",
        "  fig.suptitle('Training history')"
      ],
      "execution_count": 29,
      "outputs": []
    },
    {
      "cell_type": "markdown",
      "metadata": {
        "id": "EWrNYpQ_Rlv_"
      },
      "source": [
        "### 7) Function to check accuracy"
      ]
    },
    {
      "cell_type": "code",
      "metadata": {
        "id": "IudqmF2tRlwA"
      },
      "source": [
        "def check_accuracy(predictions,true_labels):\r\n",
        "  # Combine the results across the batches.\r\n",
        "  predictions = np.concatenate(predictions, axis=0)\r\n",
        "  true_labels = np.concatenate(true_labels, axis=0)\r\n",
        "\r\n",
        "  # Choose the label with the highest score as our prediction.\r\n",
        "  preds = np.argmax(predictions, axis=1).flatten()\r\n",
        "\r\n",
        "  # Calculate simple flat accuracy -- number correct over total number.\r\n",
        "  accuracy = (preds == true_labels).mean()\r\n",
        "\r\n",
        "  return accuracy"
      ],
      "execution_count": 30,
      "outputs": []
    },
    {
      "cell_type": "markdown",
      "metadata": {
        "id": "z4NcJu-eRlwB"
      },
      "source": [
        "### 8) Function to evaluate model"
      ]
    },
    {
      "cell_type": "code",
      "metadata": {
        "id": "znBBqCPlRlwC"
      },
      "source": [
        "def eval_model(model,py_inputs, py_attn_masks, py_labels):\r\n",
        "# Prediction on test set\r\n",
        "  t0 = time.time()\r\n",
        "\r\n",
        "  print('Doing validation on {:,} sentences...'.format(len(py_labels)))\r\n",
        "\r\n",
        "  # Put model in evaluation mode\r\n",
        "  model.eval()\r\n",
        "\r\n",
        "  # Tracking variables \r\n",
        "  predictions , true_labels = [], []\r\n",
        "\r\n",
        "  # Choose an interval on which to print progress updates.\r\n",
        "  update_interval = good_update_interval(total_iters=len(py_inputs), num_desired_updates=10)\r\n",
        "\r\n",
        "  # Measure elapsed time.\r\n",
        "  t0 = time.time()\r\n",
        "  total_val_loss = 0\r\n",
        "\r\n",
        "  # Put model in evaluation mode\r\n",
        "  model.eval()\r\n",
        "\r\n",
        "  # For each batch of training data...\r\n",
        "  for step in range(0, len(py_inputs)):\r\n",
        "\r\n",
        "      # Progress update every 100 batches.\r\n",
        "      if step % update_interval == 0 and not step == 0:\r\n",
        "          # Calculate elapsed time in minutes.\r\n",
        "          elapsed = format_time(time.time() - t0)\r\n",
        "          \r\n",
        "          # Calculate the time remaining based on our progress.\r\n",
        "          steps_per_sec = (time.time() - t0) / step\r\n",
        "          remaining_sec = steps_per_sec * (len(py_inputs) - step)\r\n",
        "          remaining = format_time(remaining_sec)\r\n",
        "\r\n",
        "          # Report progress.\r\n",
        "          print('  Batch {:>7,}  of  {:>7,}.    Elapsed: {:}.  Remaining: {:}'.format(step, len(py_inputs), elapsed, remaining))\r\n",
        "\r\n",
        "      # Copy the batch to the GPU.\r\n",
        "      b_input_ids = py_inputs[step].to(device)\r\n",
        "      b_input_mask = py_attn_masks[step].to(device)\r\n",
        "      b_labels = py_labels[step].to(device)\r\n",
        "    \r\n",
        "      # Telling the model not to compute or store gradients, saving memory and \r\n",
        "      # speeding up prediction\r\n",
        "      with torch.no_grad():\r\n",
        "        output = model(b_input_ids, \r\n",
        "                             token_type_ids=None, \r\n",
        "                             attention_mask=b_input_mask, \r\n",
        "                             labels=b_labels)\r\n",
        "\r\n",
        "\r\n",
        "      logits = output.logits \r\n",
        "      loss = output.loss\r\n",
        "      # Move logits and labels to CPU\r\n",
        "      logits = logits.detach().cpu().numpy()\r\n",
        "      label_ids = b_labels.to('cpu').numpy()\r\n",
        "    \r\n",
        "      # Store predictions and true labels\r\n",
        "      predictions.append(logits)\r\n",
        "      true_labels.append(label_ids)\r\n",
        "\r\n",
        "      total_val_loss += loss.item()\r\n",
        "  \r\n",
        "  val_accuracy = check_accuracy(predictions,true_labels)\r\n",
        "\r\n",
        "  validation_time = format_time(time.time() - t0)\r\n",
        "  \r\n",
        "  # Calculate the average loss over all of the batches.\r\n",
        "  avg_val_loss = total_val_loss / len(py_inputs)     \r\n",
        "    \r\n",
        "\r\n",
        "  # print('Accuracy: {:.3f}'.format(val_accuracy))\r\n",
        "  return (avg_val_loss,val_accuracy,validation_time)\r\n"
      ],
      "execution_count": 31,
      "outputs": []
    },
    {
      "cell_type": "markdown",
      "metadata": {
        "id": "kiX8z2qwRlwD"
      },
      "source": [
        "### 9) Function for making predictions on our test dataset"
      ]
    },
    {
      "cell_type": "code",
      "metadata": {
        "id": "15KDyc3xRlwE"
      },
      "source": [
        "def get_predictions(py_inputs, py_attn_masks, py_labels):\r\n",
        "\r\n",
        "  print('Predicting labels for {:,} test batches...'.format(len(py_labels)))\r\n",
        "\r\n",
        "  # Put model in evaluation mode\r\n",
        "  model.eval()\r\n",
        "\r\n",
        "  # Tracking variables \r\n",
        "  predictions , true_labels = [], []\r\n",
        "\r\n",
        "  # Choose an interval on which to print progress updates.\r\n",
        "  update_interval = good_update_interval(total_iters=len(py_inputs), num_desired_updates=10)\r\n",
        "\r\n",
        "  # Measure elapsed time.\r\n",
        "  t0 = time.time()\r\n",
        "\r\n",
        "  # Put model in evaluation mode\r\n",
        "  model.eval()\r\n",
        "\r\n",
        "  # For each batch of training data...\r\n",
        "  for step in range(0, len(py_inputs)):\r\n",
        "\r\n",
        "      # Progress update every 100 batches.\r\n",
        "      if step % update_interval == 0 and not step == 0:\r\n",
        "          # Calculate elapsed time in minutes.\r\n",
        "          elapsed = format_time(time.time() - t0)\r\n",
        "          \r\n",
        "          # Calculate the time remaining based on our progress.\r\n",
        "          steps_per_sec = (time.time() - t0) / step\r\n",
        "          remaining_sec = steps_per_sec * (len(py_inputs) - step)\r\n",
        "          remaining = format_time(remaining_sec)\r\n",
        "\r\n",
        "          # Report progress.\r\n",
        "          print('  Batch {:>7,}  of  {:>7,}.    Elapsed: {:}.  Remaining: {:}'.format(step, len(py_inputs), elapsed, remaining))\r\n",
        "\r\n",
        "      # Copy the batch to the GPU.\r\n",
        "      b_input_ids = py_inputs[step].to(device)\r\n",
        "      b_input_mask = py_attn_masks[step].to(device)\r\n",
        "      b_labels = py_labels[step].to(device)\r\n",
        "    \r\n",
        "      # Telling the model not to compute or store gradients, saving memory and \r\n",
        "      # speeding up prediction\r\n",
        "      with torch.no_grad():\r\n",
        "          # Forward pass, calculate logit predictions\r\n",
        "          outputs = model(b_input_ids, b_input_mask)\r\n",
        "\r\n",
        "      logits = outputs.logits \r\n",
        "\r\n",
        "      # Move logits and labels to CPU\r\n",
        "      logits = logits.detach().cpu().numpy()\r\n",
        "      label_ids = b_labels.to('cpu').numpy()\r\n",
        "    \r\n",
        "      # Store predictions and true labels\r\n",
        "      predictions.append(logits)\r\n",
        "      true_labels.append(label_ids)\r\n",
        "      # Combine the results across the batches.\r\n",
        "  predictions = np.concatenate(predictions, axis=0)\r\n",
        "  true_labels = np.concatenate(true_labels, axis=0)\r\n",
        "\r\n",
        "      # Choose the label with the highest score as our prediction.\r\n",
        "  preds = np.argmax(predictions, axis=1).flatten()\r\n",
        "\r\n",
        "  return (preds,true_labels)"
      ],
      "execution_count": 32,
      "outputs": []
    },
    {
      "cell_type": "markdown",
      "metadata": {
        "id": "aJEMLZiZRlwF"
      },
      "source": [
        "### 10) Function for making predictions on test dataset(without labels)"
      ]
    },
    {
      "cell_type": "code",
      "metadata": {
        "id": "PSmN7uOaRlwG"
      },
      "source": [
        "def get_predictions_test(py_inputs, py_attn_masks,py_ids):\r\n",
        "\r\n",
        "  print('Predicting labels for {:,} test batches...'.format(len(py_inputs)))\r\n",
        "\r\n",
        "  # Put model in evaluation mode\r\n",
        "  model.eval()\r\n",
        "\r\n",
        "  # Tracking variables \r\n",
        "  predictions , true_labels ,ids = [], [] , []\r\n",
        "\r\n",
        "  # Choose an interval on which to print progress updates.\r\n",
        "  update_interval = good_update_interval(total_iters=len(py_inputs), num_desired_updates=10)\r\n",
        "\r\n",
        "  # Measure elapsed time.\r\n",
        "  t0 = time.time()\r\n",
        "\r\n",
        "  # Put model in evaluation mode\r\n",
        "  model.eval()\r\n",
        "\r\n",
        "  # For each batch of training data...\r\n",
        "  for step in range(0, len(py_inputs)):\r\n",
        "\r\n",
        "      # Progress update every 100 batches.\r\n",
        "      if step % update_interval == 0 and not step == 0:\r\n",
        "          # Calculate elapsed time in minutes.\r\n",
        "          elapsed = format_time(time.time() - t0)\r\n",
        "          \r\n",
        "          # Calculate the time remaining based on our progress.\r\n",
        "          steps_per_sec = (time.time() - t0) / step\r\n",
        "          remaining_sec = steps_per_sec * (len(py_inputs) - step)\r\n",
        "          remaining = format_time(remaining_sec)\r\n",
        "\r\n",
        "          # Report progress.\r\n",
        "          print('  Batch {:>7,}  of  {:>7,}.    Elapsed: {:}.  Remaining: {:}'.format(step, len(py_inputs), elapsed, remaining))\r\n",
        "\r\n",
        "      # Copy the batch to the GPU.\r\n",
        "      b_input_ids = py_inputs[step].to(device)\r\n",
        "      b_input_mask = py_attn_masks[step].to(device)\r\n",
        "      b_ids = py_ids[step].to(device)\r\n",
        "    \r\n",
        "      # Telling the model not to compute or store gradients, saving memory and \r\n",
        "      # speeding up prediction\r\n",
        "      with torch.no_grad():\r\n",
        "          # Forward pass, calculate logit predictions\r\n",
        "          outputs = model(b_input_ids, b_input_mask)\r\n",
        "\r\n",
        "      logits = outputs.logits \r\n",
        "\r\n",
        "      # Move logits and labels to CPU\r\n",
        "      logits = logits.detach().cpu().numpy()\r\n",
        "      b_ids = b_ids.detach().cpu().numpy()\r\n",
        "      # Store predictions\r\n",
        "      predictions.append(logits)\r\n",
        "      ids.append(b_ids)\r\n",
        "      # Combine the results across the batches.\r\n",
        "  predictions = np.concatenate(predictions, axis=0)\r\n",
        "  ids = np.concatenate(ids,axis=0)\r\n",
        "  # Choose the label with the highest score as our prediction.\r\n",
        "  preds = np.argmax(predictions, axis=1).flatten()\r\n",
        "\r\n",
        "  return ids,preds"
      ],
      "execution_count": 33,
      "outputs": []
    },
    {
      "cell_type": "markdown",
      "metadata": {
        "id": "BG6CAheNRlwK"
      },
      "source": [
        "### 11) Confusion Matrix Helper Function"
      ]
    },
    {
      "cell_type": "code",
      "metadata": {
        "id": "VDFOg-jKRlwL"
      },
      "source": [
        "def show_confusion_matrix(confusion_matrix, class_names):\r\n",
        "\r\n",
        "  cm = confusion_matrix.copy()\r\n",
        "\r\n",
        "  cell_counts = cm.flatten()\r\n",
        "\r\n",
        "  cm_row_norm = cm / cm.sum(axis=1)[:, np.newaxis]\r\n",
        "\r\n",
        "  row_percentages = [\"{0:.2f}\".format(value) for value in cm_row_norm.flatten()]\r\n",
        "\r\n",
        "  cell_labels = [f\"{cnt}\\n{per}\" for cnt, per in zip(cell_counts, row_percentages)]\r\n",
        "  cell_labels = np.asarray(cell_labels).reshape(cm.shape[0], cm.shape[1])\r\n",
        "\r\n",
        "  df_cm = pd.DataFrame(cm_row_norm, index=class_names, columns=class_names)\r\n",
        "\r\n",
        "  hmap = sns.heatmap(df_cm, annot=cell_labels, fmt=\"\", cmap=\"Blues\")\r\n",
        "  hmap.yaxis.set_ticklabels(hmap.yaxis.get_ticklabels(), rotation=0, ha='right')\r\n",
        "  hmap.xaxis.set_ticklabels(hmap.xaxis.get_ticklabels(), rotation=30, ha='right')\r\n",
        "  plt.ylabel('True Sign')\r\n",
        "  plt.xlabel('Predicted Sign');"
      ],
      "execution_count": 34,
      "outputs": []
    },
    {
      "cell_type": "markdown",
      "metadata": {
        "id": "9gsyKKIfbaHD"
      },
      "source": [
        "## Loading tokenizer using AutoTokenizer from the transformers library"
      ]
    },
    {
      "cell_type": "code",
      "metadata": {
        "colab": {
          "base_uri": "https://localhost:8080/",
          "height": 180,
          "referenced_widgets": [
            "56bc86b79f8e474aae890bac31db37f6",
            "5740eb1f1a96496e847eb42cb7bbaeaf",
            "29448bfdfe094f929a788cc2024db566",
            "a5816ad6717b4bbb89ca03f39b16b2f7",
            "a723498b3c604affa385871d0719ad81",
            "437eef6514b241e4bf2b50c62cf90f33",
            "c0318d419a8f470c9de005de882615a6",
            "821e7364c0ba48a5a91819d30f528726",
            "0a0ae7bf00ab44e098ed98a89e18541f",
            "885466d73b214ea39bb3d7462ac4405b",
            "4868b87a32e7409eb27c8621fb2315c6",
            "ff73fe4ed4bf49e9a35e3bb8b511ece9",
            "78bea60f06494f299ed6c593c30dd8c4",
            "080440eb73a8405c932b0deffa41f78d",
            "63b464e3de2f4506a3053c869c0ccded",
            "b7cc161bb6314f93a38b3a4417e6a9bd",
            "3b5729de0abd4d86824bb53bd9c4691f",
            "1fb76c339fa347fda91d1f7bf8d9e48c",
            "5773931b3cc34dd5a63e9fc89734faf0",
            "3341e108feea45b8be23afe924286931",
            "1358ba6b317d4faa8612d2154f55bdd7",
            "1fd17ad497ea49ef8277c057b7a11448",
            "e09741104d6d4d0c8fe37a63a69f24a9",
            "97ab454f6747494a81c49fdf7e3914fb"
          ]
        },
        "id": "fIlwEvcMb4pb",
        "outputId": "703f5496-2a33-4e5e-e326-f85427decf71"
      },
      "source": [
        "from transformers import AutoTokenizer\r\n",
        "\r\n",
        "model_name = 'bert-base-multilingual-cased'\r\n",
        "# Load the BERT tokenizer.\r\n",
        "print(f'Loading {model_name} tokenizer...')\r\n",
        "tokenizer = AutoTokenizer.from_pretrained(model_name, do_lower_case=False)"
      ],
      "execution_count": 35,
      "outputs": [
        {
          "output_type": "stream",
          "text": [
            "Loading bert-base-multilingual-cased tokenizer...\n"
          ],
          "name": "stdout"
        },
        {
          "output_type": "display_data",
          "data": {
            "application/vnd.jupyter.widget-view+json": {
              "model_id": "56bc86b79f8e474aae890bac31db37f6",
              "version_minor": 0,
              "version_major": 2
            },
            "text/plain": [
              "HBox(children=(FloatProgress(value=0.0, description='Downloading', max=625.0, style=ProgressStyle(description_…"
            ]
          },
          "metadata": {
            "tags": []
          }
        },
        {
          "output_type": "stream",
          "text": [
            "\n"
          ],
          "name": "stdout"
        },
        {
          "output_type": "display_data",
          "data": {
            "application/vnd.jupyter.widget-view+json": {
              "model_id": "0a0ae7bf00ab44e098ed98a89e18541f",
              "version_minor": 0,
              "version_major": 2
            },
            "text/plain": [
              "HBox(children=(FloatProgress(value=0.0, description='Downloading', max=995526.0, style=ProgressStyle(descripti…"
            ]
          },
          "metadata": {
            "tags": []
          }
        },
        {
          "output_type": "stream",
          "text": [
            "\n"
          ],
          "name": "stdout"
        },
        {
          "output_type": "display_data",
          "data": {
            "application/vnd.jupyter.widget-view+json": {
              "model_id": "3b5729de0abd4d86824bb53bd9c4691f",
              "version_minor": 0,
              "version_major": 2
            },
            "text/plain": [
              "HBox(children=(FloatProgress(value=0.0, description='Downloading', max=1961828.0, style=ProgressStyle(descript…"
            ]
          },
          "metadata": {
            "tags": []
          }
        },
        {
          "output_type": "stream",
          "text": [
            "\n"
          ],
          "name": "stdout"
        }
      ]
    },
    {
      "cell_type": "markdown",
      "metadata": {
        "id": "OVs3Jb3Vb89i"
      },
      "source": [
        "## Smart Batching of the training data"
      ]
    },
    {
      "cell_type": "code",
      "metadata": {
        "id": "cWNt4eOLofmF"
      },
      "source": [
        "lengths = []\r\n",
        "for text in train_sentences:\r\n",
        "  lengths.append(len(text))       "
      ],
      "execution_count": 36,
      "outputs": []
    },
    {
      "cell_type": "code",
      "metadata": {
        "colab": {
          "base_uri": "https://localhost:8080/",
          "height": 427
        },
        "id": "hbdGRA3Bo02O",
        "outputId": "c4a84893-dc16-49bf-bdd0-acda4e3af476"
      },
      "source": [
        "import matplotlib.pyplot as plt\r\n",
        "import seaborn as sns\r\n",
        "\r\n",
        "# Use plot styling from seaborn.\r\n",
        "sns.set(style='darkgrid')\r\n",
        "\r\n",
        "# Increase the plot size and font size.\r\n",
        "sns.set(font_scale=1.5)\r\n",
        "plt.rcParams[\"figure.figsize\"] = (12,6)\r\n",
        "\r\n",
        "plt.scatter(range(0, len(lengths)), lengths, marker=\"|\")\r\n",
        "\r\n",
        "plt.xlabel('Sample Number')\r\n",
        "plt.ylabel('Sequence Length')\r\n",
        "plt.title('Samples BEFORE Tokenizing')\r\n",
        "\r\n",
        "plt.show()"
      ],
      "execution_count": 37,
      "outputs": [
        {
          "output_type": "display_data",
          "data": {
            "image/png": "[encoded data removed]",
            "text/plain": [
              "<Figure size 864x432 with 1 Axes>"
            ]
          },
          "metadata": {
            "tags": []
          }
        }
      ]
    },
    {
      "cell_type": "markdown",
      "metadata": {
        "id": "9rMhLNhPcZjU"
      },
      "source": [
        "### Tokenizing the sequences"
      ]
    },
    {
      "cell_type": "code",
      "metadata": {
        "id": "t7JsLi3EdEje"
      },
      "source": [
        "max_input_length = 400"
      ],
      "execution_count": 38,
      "outputs": []
    },
    {
      "cell_type": "code",
      "metadata": {
        "colab": {
          "base_uri": "https://localhost:8080/"
        },
        "id": "J968o8RJcUEd",
        "outputId": "8181f55c-f2bb-4d73-92de-0f6965f5c4ed"
      },
      "source": [
        "full_input_ids = []\r\n",
        "labels = []\r\n",
        "\r\n",
        "# Tokenize all training examples\r\n",
        "print('Tokenizing {:,} training samples...'.format(len(train_sentences)))\r\n",
        "\r\n",
        "# Choose an interval on which to print progress updates.\r\n",
        "update_interval = good_update_interval(total_iters=len(train_sentences), num_desired_updates=10)\r\n",
        "\r\n",
        "# For each training example...\r\n",
        "for text in train_sentences:\r\n",
        "    \r\n",
        "    # Report progress.\r\n",
        "    if ((len(full_input_ids) % update_interval) == 0):\r\n",
        "        print('  Tokenized {:,} samples.'.format(len(full_input_ids)))\r\n",
        "\r\n",
        "    # Tokenize the sentence.\r\n",
        "    input_ids = tokenizer.encode(text=text,           \r\n",
        "                                 add_special_tokens=True, \r\n",
        "                                 max_length=max_input_length,  \r\n",
        "                                 truncation=True,     \r\n",
        "                                 padding=False)       \r\n",
        "                                 \r\n",
        "    # Add the tokenized result to our list.\r\n",
        "    full_input_ids.append(input_ids)\r\n",
        "    \r\n",
        "print('DONE.')\r\n",
        "print('{:>10,} samples'.format(len(full_input_ids)))"
      ],
      "execution_count": 39,
      "outputs": [
        {
          "output_type": "stream",
          "text": [
            "Tokenizing 1,840 training samples...\n",
            "  Tokenized 0 samples.\n",
            "  Tokenized 200 samples.\n",
            "  Tokenized 400 samples.\n",
            "  Tokenized 600 samples.\n",
            "  Tokenized 800 samples.\n",
            "  Tokenized 1,000 samples.\n",
            "  Tokenized 1,200 samples.\n",
            "  Tokenized 1,400 samples.\n",
            "  Tokenized 1,600 samples.\n",
            "  Tokenized 1,800 samples.\n",
            "DONE.\n",
            "     1,840 samples\n"
          ],
          "name": "stdout"
        }
      ]
    },
    {
      "cell_type": "code",
      "metadata": {
        "id": "rZzhO2tZeXur"
      },
      "source": [
        "# Get all of the lengths.\r\n",
        "unsorted_lengths = [len(x) for x in full_input_ids]"
      ],
      "execution_count": 40,
      "outputs": []
    },
    {
      "cell_type": "code",
      "metadata": {
        "colab": {
          "base_uri": "https://localhost:8080/",
          "height": 427
        },
        "id": "x7c_mYuVed_H",
        "outputId": "2b3c1345-f56b-4c7e-b3c1-e950e114eef8"
      },
      "source": [
        "import matplotlib.pyplot as plt\r\n",
        "import seaborn as sns\r\n",
        "\r\n",
        "# Use plot styling from seaborn.\r\n",
        "sns.set(style='darkgrid')\r\n",
        "\r\n",
        "# Increase the plot size and font size.\r\n",
        "sns.set(font_scale=1.5)\r\n",
        "plt.rcParams[\"figure.figsize\"] = (12,6)\r\n",
        "\r\n",
        "plt.scatter(range(0, len(unsorted_lengths)), unsorted_lengths, marker=\"|\")\r\n",
        "\r\n",
        "plt.xlabel('Sample Number')\r\n",
        "plt.ylabel('Sequence Length')\r\n",
        "plt.title('Samples BEFORE Sorting')\r\n",
        "\r\n",
        "plt.show()"
      ],
      "execution_count": 41,
      "outputs": [
        {
          "output_type": "display_data",
          "data": {
            "image/png": "[encoded data removed]",
            "text/plain": [
              "<Figure size 864x432 with 1 Axes>"
            ]
          },
          "metadata": {
            "tags": []
          }
        }
      ]
    },
    {
      "cell_type": "code",
      "metadata": {
        "id": "7PaeohUVegmv"
      },
      "source": [
        "# Sort the two lists together by the length of the input sequence.\r\n",
        "train_samples = sorted(zip(full_input_ids, train_labels), key=lambda x: len(x[0]))"
      ],
      "execution_count": 42,
      "outputs": []
    },
    {
      "cell_type": "code",
      "metadata": {
        "colab": {
          "base_uri": "https://localhost:8080/"
        },
        "id": "_9nyx-BtepE4",
        "outputId": "172df38c-c0a4-4100-ab5e-6759b05d9a79"
      },
      "source": [
        "train_samples[0:5]"
      ],
      "execution_count": 43,
      "outputs": [
        {
          "output_type": "execute_result",
          "data": {
            "text/plain": [
              "[([101, 119, 102], 1),\n",
              " ([101, 119, 102], 1),\n",
              " ([101, 119, 102], 1),\n",
              " ([101, 10499, 102], 0),\n",
              " ([101, 119, 102], 1)]"
            ]
          },
          "metadata": {
            "tags": []
          },
          "execution_count": 43
        }
      ]
    },
    {
      "cell_type": "code",
      "metadata": {
        "colab": {
          "base_uri": "https://localhost:8080/"
        },
        "id": "rBxJhEieetFh",
        "outputId": "05fee18c-a1b6-4c05-d9a9-d23879386831"
      },
      "source": [
        "print('Shortest sample:', len(train_samples[0][0]))\r\n",
        "print('Longest sample:', len(train_samples[-1][0]))"
      ],
      "execution_count": 44,
      "outputs": [
        {
          "output_type": "stream",
          "text": [
            "Shortest sample: 3\n",
            "Longest sample: 302\n"
          ],
          "name": "stdout"
        }
      ]
    },
    {
      "cell_type": "code",
      "metadata": {
        "id": "P44bFOI-e7hW"
      },
      "source": [
        "# Get the new list of lengths after sorting.\r\n",
        "sorted_lengths = [len(s[0]) for s in train_samples]"
      ],
      "execution_count": 45,
      "outputs": []
    },
    {
      "cell_type": "code",
      "metadata": {
        "colab": {
          "base_uri": "https://localhost:8080/",
          "height": 427
        },
        "id": "9P5ZX99le_G1",
        "outputId": "db290287-6aa1-4c94-9329-4468fb445c70"
      },
      "source": [
        "import matplotlib.pyplot as plt\r\n",
        "import seaborn as sns\r\n",
        "\r\n",
        "# Use plot styling from seaborn.\r\n",
        "sns.set(style='darkgrid')\r\n",
        "\r\n",
        "# Increase the plot size and font size.\r\n",
        "sns.set(font_scale=1.5)\r\n",
        "plt.rcParams[\"figure.figsize\"] = (12,6)\r\n",
        "\r\n",
        "plt.plot(range(0, len(sorted_lengths)), sorted_lengths)\r\n",
        "\r\n",
        "plt.xlabel('Sample Number')\r\n",
        "plt.ylabel('Sequence Length')\r\n",
        "plt.title('Samples after Sorting')\r\n",
        "\r\n",
        "plt.show()"
      ],
      "execution_count": 46,
      "outputs": [
        {
          "output_type": "display_data",
          "data": {
            "image/png": "[encoded data removed]",
            "text/plain": [
              "<Figure size 864x432 with 1 Axes>"
            ]
          },
          "metadata": {
            "tags": []
          }
        }
      ]
    },
    {
      "cell_type": "markdown",
      "metadata": {
        "id": "Eh1z0xugfF2t"
      },
      "source": [
        "### Random Batch Selections"
      ]
    },
    {
      "cell_type": "code",
      "metadata": {
        "colab": {
          "base_uri": "https://localhost:8080/"
        },
        "id": "gPrYkFMcgm5H",
        "outputId": "a8e2bed5-2165-4514-ab6c-c0e50d1f224a"
      },
      "source": [
        "train_samples[0]"
      ],
      "execution_count": 47,
      "outputs": [
        {
          "output_type": "execute_result",
          "data": {
            "text/plain": [
              "([101, 119, 102], 1)"
            ]
          },
          "metadata": {
            "tags": []
          },
          "execution_count": 47
        }
      ]
    },
    {
      "cell_type": "code",
      "metadata": {
        "id": "isMxwgezfAvO"
      },
      "source": [
        "batch_size = 16"
      ],
      "execution_count": 48,
      "outputs": []
    },
    {
      "cell_type": "code",
      "metadata": {
        "colab": {
          "base_uri": "https://localhost:8080/"
        },
        "id": "s0tjD8pIfJ0S",
        "outputId": "bc8cc455-a59c-4733-a559-a43a5a129b9a"
      },
      "source": [
        "import random\r\n",
        "\r\n",
        "# List of batches that we'll construct.\r\n",
        "batch_ordered_sentences = []\r\n",
        "batch_ordered_labels = []\r\n",
        "\r\n",
        "print('Creating training batches of size {:}'.format(batch_size))\r\n",
        "\r\n",
        "# Loop over all of the input samples...    \r\n",
        "while len(train_samples) > 0:\r\n",
        "    \r\n",
        "    # Report progress.\r\n",
        "    if ((len(batch_ordered_sentences) % 100) == 0):\r\n",
        "        print('  Selected {:,} batches.'.format(len(batch_ordered_sentences)))\r\n",
        "\r\n",
        "    # `to_take` is our actual batch size. It will be `batch_size` until \r\n",
        "    # we get to the last batch, which may be smaller. \r\n",
        "    to_take = min(batch_size, len(train_samples))\r\n",
        "\r\n",
        "    # Pick a random index in the list of remaining samples to start\r\n",
        "    # our batch at.\r\n",
        "    select = random.randint(0, len(train_samples) - to_take)\r\n",
        "\r\n",
        "    # Select a contiguous batch of samples starting at `select`.\r\n",
        "    batch = train_samples[select:(select + to_take)]\r\n",
        "\r\n",
        "    # Each sample is a tuple--split them apart to create a separate list of \r\n",
        "    # sequences and a list of labels for this batch.\r\n",
        "    batch_ordered_sentences.append([s[0] for s in batch])\r\n",
        "    batch_ordered_labels.append([s[1] for s in batch])\r\n",
        "\r\n",
        "    # Remove these samples from the list.\r\n",
        "    del train_samples[select:select + to_take]\r\n",
        "\r\n",
        "print('\\n  DONE - {:,} batches.'.format(len(batch_ordered_sentences)))"
      ],
      "execution_count": 49,
      "outputs": [
        {
          "output_type": "stream",
          "text": [
            "Creating training batches of size 16\n",
            "  Selected 0 batches.\n",
            "  Selected 100 batches.\n",
            "\n",
            "  DONE - 115 batches.\n"
          ],
          "name": "stdout"
        }
      ]
    },
    {
      "cell_type": "code",
      "metadata": {
        "colab": {
          "base_uri": "https://localhost:8080/"
        },
        "id": "rf91Dd3LhBaP",
        "outputId": "9cd9d20d-a55c-40ef-bdc8-484a3571492c"
      },
      "source": [
        "print(batch_ordered_sentences[0])"
      ],
      "execution_count": 50,
      "outputs": [
        {
          "output_type": "stream",
          "text": [
            "[[101, 49307, 11090, 49339, 11369, 14703, 139, 11403, 93202, 109821, 50655, 144, 73522, 66934, 47271, 10731, 11403, 80047, 39272, 11369, 139, 11403, 93202, 106, 106, 106, 160, 12396, 50655, 17443, 14703, 109544, 11517, 138, 74212, 85771, 119, 119, 119, 102], [101, 122, 32258, 148, 12022, 37911, 11273, 71020, 11537, 36742, 56586, 10738, 11281, 86607, 11259, 24124, 93520, 162, 52188, 12022, 98151, 118, 53197, 77968, 29990, 109166, 12022, 37817, 44376, 151, 12022, 23240, 11565, 24093, 157, 58132, 46876, 14703, 10738, 102], [101, 14753, 18453, 11023, 10115, 24623, 13723, 12449, 78560, 10174, 49123, 46689, 10401, 10737, 37879, 24960, 99778, 11067, 13015, 61471, 10147, 103218, 11023, 10115, 24623, 13723, 77586, 91251, 11542, 49123, 46689, 10401, 109995, 46296, 10213, 10514, 38263, 10514, 79644, 10138, 102], [101, 72894, 11153, 119, 119, 11089, 10113, 11023, 46689, 82708, 32510, 10113, 27689, 12806, 11023, 11083, 10147, 10135, 10219, 45567, 46296, 55085, 10113, 119, 119, 10592, 52523, 102295, 10113, 10730, 46178, 53002, 10113, 43445, 14990, 172, 55200, 10115, 119, 106, 102], [101, 177, 43924, 10113, 12356, 11542, 20194, 11143, 10138, 15203, 106333, 10853, 10549, 14926, 41417, 70691, 21602, 10761, 25460, 10116, 20657, 13520, 12589, 20193, 10133, 10105, 100900, 13322, 52381, 119, 119, 119, 10170, 10477, 10477, 119, 119, 119, 119, 119, 102], [101, 36351, 58606, 10738, 12262, 64091, 10738, 14703, 36535, 17443, 46876, 14703, 36535, 10738, 31278, 39061, 159, 95825, 11090, 44376, 47855, 38850, 14703, 123, 11369, 32349, 32002, 69342, 34065, 37611, 12022, 86851, 67813, 34065, 32002, 11259, 32349, 119, 119, 106, 102], [101, 115, 27277, 11733, 11259, 57487, 38702, 44917, 152, 105844, 24093, 131, 39675, 11273, 162, 50655, 39061, 85314, 36382, 38850, 10738, 67820, 69849, 58606, 10738, 162, 68999, 44376, 27277, 11733, 11259, 57487, 53317, 11090, 72679, 85314, 41275, 37079, 39675, 11273, 102], [101, 14441, 10369, 10549, 11680, 10321, 61109, 70691, 10147, 10183, 46314, 14250, 117, 10549, 11680, 23886, 61109, 70691, 10147, 10183, 46314, 14250, 119, 119, 11089, 10113, 10985, 11460, 11089, 10113, 36766, 10985, 44904, 11147, 13015, 11680, 18599, 13723, 119, 119, 102], [101, 14580, 107812, 11726, 10147, 112, 10209, 112, 15566, 16678, 37821, 11926, 119, 119, 119, 18970, 22317, 11726, 10147, 112, 28335, 10147, 112, 17375, 17437, 22786, 89957, 119, 119, 119, 12103, 86945, 10537, 10132, 11083, 10478, 13013, 36811, 119, 119, 102], [101, 10119, 10219, 10212, 22238, 24960, 10342, 15694, 21423, 10371, 93846, 46994, 53587, 20104, 112, 173, 10157, 22987, 15688, 10119, 10219, 10212, 22238, 24960, 10342, 84198, 20878, 93846, 46994, 53587, 172, 55200, 10115, 15688, 10119, 33458, 11631, 20104, 112, 189, 102], [101, 15444, 131, 52523, 26391, 10921, 24695, 45624, 10113, 39873, 45026, 10116, 91542, 10147, 69863, 16600, 10213, 24960, 10342, 29716, 11680, 33710, 10113, 48201, 73598, 10129, 131, 172, 55352, 10116, 174, 47195, 10271, 13723, 23559, 10161, 18379, 10143, 119, 119, 102], [101, 152, 55859, 119, 119, 36351, 10738, 11733, 12022, 11094, 52188, 12022, 139, 73522, 109166, 36382, 14703, 71613, 30909, 11403, 86643, 108408, 71613, 31078, 51036, 11274, 29990, 29833, 77968, 73522, 10738, 159, 50655, 58730, 14703, 32071, 12396, 12022, 83164, 41275, 102], [101, 198, 13574, 169, 14316, 10111, 72894, 74755, 45788, 19806, 107, 10957, 10113, 10242, 107, 10142, 16542, 126, 18128, 48512, 10142, 17446, 12723, 119, 119, 119, 10271, 13723, 74837, 10108, 55210, 119, 119, 119, 10271, 13723, 13048, 10147, 74837, 10108, 55210, 102], [101, 10832, 112, 187, 82808, 13170, 10108, 67348, 10230, 10939, 16083, 13990, 115, 10919, 112, 187, 82808, 131, 10111, 10921, 64767, 10473, 11183, 17255, 10465, 10539, 13723, 10853, 15050, 39821, 10213, 13375, 10113, 26136, 13723, 11202, 10113, 43445, 14990, 87960, 10113, 102], [101, 55640, 99552, 157, 108880, 10731, 38702, 33893, 115, 23056, 67753, 41275, 131, 38478, 58521, 10738, 23056, 67753, 41275, 86607, 11259, 85314, 11273, 57487, 10738, 86851, 69849, 109166, 32002, 72679, 85314, 44376, 35976, 12396, 157, 58132, 58521, 10738, 86851, 12022, 67813, 102], [101, 47430, 24093, 10738, 146, 52734, 100061, 47430, 24093, 10738, 69342, 85314, 11369, 14703, 41275, 36535, 77968, 11281, 67813, 44376, 11517, 57327, 10738, 153, 38850, 44376, 23056, 109166, 12022, 153, 11403, 11281, 127, 27277, 38025, 36535, 17935, 86888, 12396, 12022, 64007, 102]]\n"
          ],
          "name": "stdout"
        }
      ]
    },
    {
      "cell_type": "code",
      "metadata": {
        "colab": {
          "base_uri": "https://localhost:8080/"
        },
        "id": "qmkQK_gVgiTu",
        "outputId": "e001f331-9640-4351-fe49-7b77f85dee7a"
      },
      "source": [
        "batch_ordered_labels[0]"
      ],
      "execution_count": 51,
      "outputs": [
        {
          "output_type": "execute_result",
          "data": {
            "text/plain": [
              "[1, 1, 1, 1, 0, 1, 1, 0, 1, 1, 1, 1, 1, 1, 1, 1]"
            ]
          },
          "metadata": {
            "tags": []
          },
          "execution_count": 51
        }
      ]
    },
    {
      "cell_type": "markdown",
      "metadata": {
        "id": "xZ0TFA8Mfn6m"
      },
      "source": [
        "### Padding"
      ]
    },
    {
      "cell_type": "code",
      "metadata": {
        "id": "c9rdswcpfTip"
      },
      "source": [
        "import torch\r\n",
        "\r\n",
        "py_inputs = []\r\n",
        "py_attn_masks = []\r\n",
        "py_labels = []\r\n",
        "\r\n",
        "# For each batch...\r\n",
        "for (batch_inputs, batch_labels) in zip(batch_ordered_sentences, batch_ordered_labels):\r\n",
        "\r\n",
        "    # New version of the batch, this time with padded sequences and now with\r\n",
        "    # attention masks defined.\r\n",
        "    batch_padded_inputs = []\r\n",
        "    batch_attn_masks = []\r\n",
        "    \r\n",
        "    # First, find the longest sample in the batch. \r\n",
        "    # Note that the sequences do currently include the special tokens!\r\n",
        "    max_size = max([len(sen) for sen in batch_inputs])\r\n",
        "\r\n",
        "    #print('Max size:', max_size)\r\n",
        "\r\n",
        "    # For each input in this batch...\r\n",
        "    for sen in batch_inputs:\r\n",
        "        \r\n",
        "        # How many pad tokens do we need to add?\r\n",
        "        num_pads = max_size - len(sen)\r\n",
        "\r\n",
        "        # Add `num_pads` padding tokens to the end of the sequence.\r\n",
        "        padded_input = sen + [tokenizer.pad_token_id]*num_pads\r\n",
        "\r\n",
        "        # Define the attention mask--it's just a `1` for every real token\r\n",
        "        # and a `0` for every padding token.\r\n",
        "        attn_mask = [1] * len(sen) + [0] * num_pads\r\n",
        "\r\n",
        "        # Add the padded results to the batch.\r\n",
        "        batch_padded_inputs.append(padded_input)\r\n",
        "        batch_attn_masks.append(attn_mask)\r\n",
        "\r\n",
        "    # Our batch has been padded, so we need to save this updated batch.\r\n",
        "    # We also need the inputs to be PyTorch tensors, so we'll do that here.\r\n",
        "    py_inputs.append(torch.tensor(batch_padded_inputs))\r\n",
        "    py_attn_masks.append(torch.tensor(batch_attn_masks))\r\n",
        "    py_labels.append(torch.tensor(batch_labels))\r\n"
      ],
      "execution_count": 52,
      "outputs": []
    },
    {
      "cell_type": "markdown",
      "metadata": {
        "id": "roS5lLWdX-5J"
      },
      "source": [
        "## Check the number of token reductions because of smart batching"
      ]
    },
    {
      "cell_type": "code",
      "metadata": {
        "colab": {
          "base_uri": "https://localhost:8080/"
        },
        "id": "wlh7cteVfroV",
        "outputId": "6b3e70f8-a61a-401a-dbe5-c891cb5de2e7"
      },
      "source": [
        "# Get the new list of lengths after sorting.\r\n",
        "import numpy as np\r\n",
        "padded_lengths = []\r\n",
        "\r\n",
        "# For each batch...\r\n",
        "for batch in py_inputs:\r\n",
        "    \r\n",
        "    # For each sample...\r\n",
        "    for s in batch:\r\n",
        "    \r\n",
        "        # Record its length.\r\n",
        "        padded_lengths.append(len(s))\r\n",
        "\r\n",
        "# Sum up the lengths to the get the total number of tokens after smart batching.\r\n",
        "smart_token_count = np.sum(padded_lengths)\r\n",
        "\r\n",
        "# To get the total number of tokens in the dataset using fixed padding, it's\r\n",
        "# as simple as the number of samples times our `max_len` parameter (that we\r\n",
        "# would pad everything to).\r\n",
        "fixed_token_count = len(train_sentences) * max_input_length\r\n",
        "\r\n",
        "# Calculate the percentage reduction.\r\n",
        "prcnt_reduced = (fixed_token_count - smart_token_count) / float(fixed_token_count) \r\n",
        "\r\n",
        "print('Total tokens:')\r\n",
        "print('   Fixed Padding: {:,}'.format(fixed_token_count))\r\n",
        "print('  Smart Batching: {:,}  ({:.1%} less)'.format(smart_token_count, prcnt_reduced))\r\n"
      ],
      "execution_count": 53,
      "outputs": [
        {
          "output_type": "stream",
          "text": [
            "Total tokens:\n",
            "   Fixed Padding: 736,000\n",
            "  Smart Batching: 69,392  (90.6% less)\n"
          ],
          "name": "stdout"
        }
      ]
    },
    {
      "cell_type": "markdown",
      "metadata": {
        "id": "SXJHBVlxYR-l"
      },
      "source": [
        "## Load the model from the transformers library using BertForSequenceClassifcation"
      ]
    },
    {
      "cell_type": "code",
      "metadata": {
        "colab": {
          "base_uri": "https://localhost:8080/",
          "height": 203,
          "referenced_widgets": [
            "3f900186412843cdac2d1dff13794e26",
            "4348cad48eca4548b6c06ba025823c2a",
            "5af5beec24ca48e0b409b7073d8589f5",
            "ad4d2aaf234a450e9944c214139f7867",
            "664761736dd64c62ae0021fceec46e65",
            "7bbb93dbe84240e1a7086b030eaf8c4b",
            "7ceb06568d5d436bb2964196ad0a1760",
            "1f96c50943484067af4dbfd63df504ff"
          ]
        },
        "id": "n8J4r6KyhveR",
        "outputId": "1a970408-02a1-4122-d4c7-681e38dfb98e"
      },
      "source": [
        "from transformers import BertForSequenceClassification\r\n",
        "\r\n",
        "# Load the pre-trained model for classification, passing in the `config` from\r\n",
        "# above.\r\n",
        "\r\n",
        "model = BertForSequenceClassification.from_pretrained(\r\n",
        "    pretrained_model_name_or_path=model_name,\r\n",
        "    num_labels = 2, \r\n",
        "    output_attentions = False, # Whether the model returns attentions weights.\r\n",
        "    output_hidden_states = False, # Whether the model returns all hidden-states.\r\n",
        ")\r\n",
        "\r\n",
        "\r\n",
        "print('\\nModel type:', str(type(model)))\r\n"
      ],
      "execution_count": 54,
      "outputs": [
        {
          "output_type": "display_data",
          "data": {
            "application/vnd.jupyter.widget-view+json": {
              "model_id": "3f900186412843cdac2d1dff13794e26",
              "version_minor": 0,
              "version_major": 2
            },
            "text/plain": [
              "HBox(children=(FloatProgress(value=0.0, description='Downloading', max=714314041.0, style=ProgressStyle(descri…"
            ]
          },
          "metadata": {
            "tags": []
          }
        },
        {
          "output_type": "stream",
          "text": [
            "\n"
          ],
          "name": "stdout"
        },
        {
          "output_type": "stream",
          "text": [
            "Some weights of the model checkpoint at bert-base-multilingual-cased were not used when initializing BertForSequenceClassification: ['cls.predictions.bias', 'cls.predictions.transform.dense.weight', 'cls.predictions.transform.dense.bias', 'cls.predictions.decoder.weight', 'cls.seq_relationship.weight', 'cls.seq_relationship.bias', 'cls.predictions.transform.LayerNorm.weight', 'cls.predictions.transform.LayerNorm.bias']\n",
            "- This IS expected if you are initializing BertForSequenceClassification from the checkpoint of a model trained on another task or with another architecture (e.g. initializing a BertForSequenceClassification model from a BertForPreTraining model).\n",
            "- This IS NOT expected if you are initializing BertForSequenceClassification from the checkpoint of a model that you expect to be exactly identical (initializing a BertForSequenceClassification model from a BertForSequenceClassification model).\n",
            "Some weights of BertForSequenceClassification were not initialized from the model checkpoint at bert-base-multilingual-cased and are newly initialized: ['classifier.weight', 'classifier.bias']\n",
            "You should probably TRAIN this model on a down-stream task to be able to use it for predictions and inference.\n"
          ],
          "name": "stderr"
        },
        {
          "output_type": "stream",
          "text": [
            "\n",
            "Model type: <class 'transformers.models.bert.modeling_bert.BertForSequenceClassification'>\n"
          ],
          "name": "stdout"
        }
      ]
    },
    {
      "cell_type": "code",
      "metadata": {
        "colab": {
          "base_uri": "https://localhost:8080/"
        },
        "id": "jvOs0G5sh02S",
        "outputId": "e169f67f-768a-447b-f895-f2721bd34f63"
      },
      "source": [
        "import torch\r\n",
        "print('\\nLoading model on the gpu...')\r\n",
        "model.cuda()"
      ],
      "execution_count": 55,
      "outputs": [
        {
          "output_type": "stream",
          "text": [
            "\n",
            "Loading model on the gpu...\n"
          ],
          "name": "stdout"
        },
        {
          "output_type": "execute_result",
          "data": {
            "text/plain": [
              "BertForSequenceClassification(\n",
              "  (bert): BertModel(\n",
              "    (embeddings): BertEmbeddings(\n",
              "      (word_embeddings): Embedding(119547, 768, padding_idx=0)\n",
              "      (position_embeddings): Embedding(512, 768)\n",
              "      (token_type_embeddings): Embedding(2, 768)\n",
              "      (LayerNorm): LayerNorm((768,), eps=1e-12, elementwise_affine=True)\n",
              "      (dropout): Dropout(p=0.1, inplace=False)\n",
              "    )\n",
              "    (encoder): BertEncoder(\n",
              "      (layer): ModuleList(\n",
              "        (0): BertLayer(\n",
              "          (attention): BertAttention(\n",
              "            (self): BertSelfAttention(\n",
              "              (query): Linear(in_features=768, out_features=768, bias=True)\n",
              "              (key): Linear(in_features=768, out_features=768, bias=True)\n",
              "              (value): Linear(in_features=768, out_features=768, bias=True)\n",
              "              (dropout): Dropout(p=0.1, inplace=False)\n",
              "            )\n",
              "            (output): BertSelfOutput(\n",
              "              (dense): Linear(in_features=768, out_features=768, bias=True)\n",
              "              (LayerNorm): LayerNorm((768,), eps=1e-12, elementwise_affine=True)\n",
              "              (dropout): Dropout(p=0.1, inplace=False)\n",
              "            )\n",
              "          )\n",
              "          (intermediate): BertIntermediate(\n",
              "            (dense): Linear(in_features=768, out_features=3072, bias=True)\n",
              "          )\n",
              "          (output): BertOutput(\n",
              "            (dense): Linear(in_features=3072, out_features=768, bias=True)\n",
              "            (LayerNorm): LayerNorm((768,), eps=1e-12, elementwise_affine=True)\n",
              "            (dropout): Dropout(p=0.1, inplace=False)\n",
              "          )\n",
              "        )\n",
              "        (1): BertLayer(\n",
              "          (attention): BertAttention(\n",
              "            (self): BertSelfAttention(\n",
              "              (query): Linear(in_features=768, out_features=768, bias=True)\n",
              "              (key): Linear(in_features=768, out_features=768, bias=True)\n",
              "              (value): Linear(in_features=768, out_features=768, bias=True)\n",
              "              (dropout): Dropout(p=0.1, inplace=False)\n",
              "            )\n",
              "            (output): BertSelfOutput(\n",
              "              (dense): Linear(in_features=768, out_features=768, bias=True)\n",
              "              (LayerNorm): LayerNorm((768,), eps=1e-12, elementwise_affine=True)\n",
              "              (dropout): Dropout(p=0.1, inplace=False)\n",
              "            )\n",
              "          )\n",
              "          (intermediate): BertIntermediate(\n",
              "            (dense): Linear(in_features=768, out_features=3072, bias=True)\n",
              "          )\n",
              "          (output): BertOutput(\n",
              "            (dense): Linear(in_features=3072, out_features=768, bias=True)\n",
              "            (LayerNorm): LayerNorm((768,), eps=1e-12, elementwise_affine=True)\n",
              "            (dropout): Dropout(p=0.1, inplace=False)\n",
              "          )\n",
              "        )\n",
              "        (2): BertLayer(\n",
              "          (attention): BertAttention(\n",
              "            (self): BertSelfAttention(\n",
              "              (query): Linear(in_features=768, out_features=768, bias=True)\n",
              "              (key): Linear(in_features=768, out_features=768, bias=True)\n",
              "              (value): Linear(in_features=768, out_features=768, bias=True)\n",
              "              (dropout): Dropout(p=0.1, inplace=False)\n",
              "            )\n",
              "            (output): BertSelfOutput(\n",
              "              (dense): Linear(in_features=768, out_features=768, bias=True)\n",
              "              (LayerNorm): LayerNorm((768,), eps=1e-12, elementwise_affine=True)\n",
              "              (dropout): Dropout(p=0.1, inplace=False)\n",
              "            )\n",
              "          )\n",
              "          (intermediate): BertIntermediate(\n",
              "            (dense): Linear(in_features=768, out_features=3072, bias=True)\n",
              "          )\n",
              "          (output): BertOutput(\n",
              "            (dense): Linear(in_features=3072, out_features=768, bias=True)\n",
              "            (LayerNorm): LayerNorm((768,), eps=1e-12, elementwise_affine=True)\n",
              "            (dropout): Dropout(p=0.1, inplace=False)\n",
              "          )\n",
              "        )\n",
              "        (3): BertLayer(\n",
              "          (attention): BertAttention(\n",
              "            (self): BertSelfAttention(\n",
              "              (query): Linear(in_features=768, out_features=768, bias=True)\n",
              "              (key): Linear(in_features=768, out_features=768, bias=True)\n",
              "              (value): Linear(in_features=768, out_features=768, bias=True)\n",
              "              (dropout): Dropout(p=0.1, inplace=False)\n",
              "            )\n",
              "            (output): BertSelfOutput(\n",
              "              (dense): Linear(in_features=768, out_features=768, bias=True)\n",
              "              (LayerNorm): LayerNorm((768,), eps=1e-12, elementwise_affine=True)\n",
              "              (dropout): Dropout(p=0.1, inplace=False)\n",
              "            )\n",
              "          )\n",
              "          (intermediate): BertIntermediate(\n",
              "            (dense): Linear(in_features=768, out_features=3072, bias=True)\n",
              "          )\n",
              "          (output): BertOutput(\n",
              "            (dense): Linear(in_features=3072, out_features=768, bias=True)\n",
              "            (LayerNorm): LayerNorm((768,), eps=1e-12, elementwise_affine=True)\n",
              "            (dropout): Dropout(p=0.1, inplace=False)\n",
              "          )\n",
              "        )\n",
              "        (4): BertLayer(\n",
              "          (attention): BertAttention(\n",
              "            (self): BertSelfAttention(\n",
              "              (query): Linear(in_features=768, out_features=768, bias=True)\n",
              "              (key): Linear(in_features=768, out_features=768, bias=True)\n",
              "              (value): Linear(in_features=768, out_features=768, bias=True)\n",
              "              (dropout): Dropout(p=0.1, inplace=False)\n",
              "            )\n",
              "            (output): BertSelfOutput(\n",
              "              (dense): Linear(in_features=768, out_features=768, bias=True)\n",
              "              (LayerNorm): LayerNorm((768,), eps=1e-12, elementwise_affine=True)\n",
              "              (dropout): Dropout(p=0.1, inplace=False)\n",
              "            )\n",
              "          )\n",
              "          (intermediate): BertIntermediate(\n",
              "            (dense): Linear(in_features=768, out_features=3072, bias=True)\n",
              "          )\n",
              "          (output): BertOutput(\n",
              "            (dense): Linear(in_features=3072, out_features=768, bias=True)\n",
              "            (LayerNorm): LayerNorm((768,), eps=1e-12, elementwise_affine=True)\n",
              "            (dropout): Dropout(p=0.1, inplace=False)\n",
              "          )\n",
              "        )\n",
              "        (5): BertLayer(\n",
              "          (attention): BertAttention(\n",
              "            (self): BertSelfAttention(\n",
              "              (query): Linear(in_features=768, out_features=768, bias=True)\n",
              "              (key): Linear(in_features=768, out_features=768, bias=True)\n",
              "              (value): Linear(in_features=768, out_features=768, bias=True)\n",
              "              (dropout): Dropout(p=0.1, inplace=False)\n",
              "            )\n",
              "            (output): BertSelfOutput(\n",
              "              (dense): Linear(in_features=768, out_features=768, bias=True)\n",
              "              (LayerNorm): LayerNorm((768,), eps=1e-12, elementwise_affine=True)\n",
              "              (dropout): Dropout(p=0.1, inplace=False)\n",
              "            )\n",
              "          )\n",
              "          (intermediate): BertIntermediate(\n",
              "            (dense): Linear(in_features=768, out_features=3072, bias=True)\n",
              "          )\n",
              "          (output): BertOutput(\n",
              "            (dense): Linear(in_features=3072, out_features=768, bias=True)\n",
              "            (LayerNorm): LayerNorm((768,), eps=1e-12, elementwise_affine=True)\n",
              "            (dropout): Dropout(p=0.1, inplace=False)\n",
              "          )\n",
              "        )\n",
              "        (6): BertLayer(\n",
              "          (attention): BertAttention(\n",
              "            (self): BertSelfAttention(\n",
              "              (query): Linear(in_features=768, out_features=768, bias=True)\n",
              "              (key): Linear(in_features=768, out_features=768, bias=True)\n",
              "              (value): Linear(in_features=768, out_features=768, bias=True)\n",
              "              (dropout): Dropout(p=0.1, inplace=False)\n",
              "            )\n",
              "            (output): BertSelfOutput(\n",
              "              (dense): Linear(in_features=768, out_features=768, bias=True)\n",
              "              (LayerNorm): LayerNorm((768,), eps=1e-12, elementwise_affine=True)\n",
              "              (dropout): Dropout(p=0.1, inplace=False)\n",
              "            )\n",
              "          )\n",
              "          (intermediate): BertIntermediate(\n",
              "            (dense): Linear(in_features=768, out_features=3072, bias=True)\n",
              "          )\n",
              "          (output): BertOutput(\n",
              "            (dense): Linear(in_features=3072, out_features=768, bias=True)\n",
              "            (LayerNorm): LayerNorm((768,), eps=1e-12, elementwise_affine=True)\n",
              "            (dropout): Dropout(p=0.1, inplace=False)\n",
              "          )\n",
              "        )\n",
              "        (7): BertLayer(\n",
              "          (attention): BertAttention(\n",
              "            (self): BertSelfAttention(\n",
              "              (query): Linear(in_features=768, out_features=768, bias=True)\n",
              "              (key): Linear(in_features=768, out_features=768, bias=True)\n",
              "              (value): Linear(in_features=768, out_features=768, bias=True)\n",
              "              (dropout): Dropout(p=0.1, inplace=False)\n",
              "            )\n",
              "            (output): BertSelfOutput(\n",
              "              (dense): Linear(in_features=768, out_features=768, bias=True)\n",
              "              (LayerNorm): LayerNorm((768,), eps=1e-12, elementwise_affine=True)\n",
              "              (dropout): Dropout(p=0.1, inplace=False)\n",
              "            )\n",
              "          )\n",
              "          (intermediate): BertIntermediate(\n",
              "            (dense): Linear(in_features=768, out_features=3072, bias=True)\n",
              "          )\n",
              "          (output): BertOutput(\n",
              "            (dense): Linear(in_features=3072, out_features=768, bias=True)\n",
              "            (LayerNorm): LayerNorm((768,), eps=1e-12, elementwise_affine=True)\n",
              "            (dropout): Dropout(p=0.1, inplace=False)\n",
              "          )\n",
              "        )\n",
              "        (8): BertLayer(\n",
              "          (attention): BertAttention(\n",
              "            (self): BertSelfAttention(\n",
              "              (query): Linear(in_features=768, out_features=768, bias=True)\n",
              "              (key): Linear(in_features=768, out_features=768, bias=True)\n",
              "              (value): Linear(in_features=768, out_features=768, bias=True)\n",
              "              (dropout): Dropout(p=0.1, inplace=False)\n",
              "            )\n",
              "            (output): BertSelfOutput(\n",
              "              (dense): Linear(in_features=768, out_features=768, bias=True)\n",
              "              (LayerNorm): LayerNorm((768,), eps=1e-12, elementwise_affine=True)\n",
              "              (dropout): Dropout(p=0.1, inplace=False)\n",
              "            )\n",
              "          )\n",
              "          (intermediate): BertIntermediate(\n",
              "            (dense): Linear(in_features=768, out_features=3072, bias=True)\n",
              "          )\n",
              "          (output): BertOutput(\n",
              "            (dense): Linear(in_features=3072, out_features=768, bias=True)\n",
              "            (LayerNorm): LayerNorm((768,), eps=1e-12, elementwise_affine=True)\n",
              "            (dropout): Dropout(p=0.1, inplace=False)\n",
              "          )\n",
              "        )\n",
              "        (9): BertLayer(\n",
              "          (attention): BertAttention(\n",
              "            (self): BertSelfAttention(\n",
              "              (query): Linear(in_features=768, out_features=768, bias=True)\n",
              "              (key): Linear(in_features=768, out_features=768, bias=True)\n",
              "              (value): Linear(in_features=768, out_features=768, bias=True)\n",
              "              (dropout): Dropout(p=0.1, inplace=False)\n",
              "            )\n",
              "            (output): BertSelfOutput(\n",
              "              (dense): Linear(in_features=768, out_features=768, bias=True)\n",
              "              (LayerNorm): LayerNorm((768,), eps=1e-12, elementwise_affine=True)\n",
              "              (dropout): Dropout(p=0.1, inplace=False)\n",
              "            )\n",
              "          )\n",
              "          (intermediate): BertIntermediate(\n",
              "            (dense): Linear(in_features=768, out_features=3072, bias=True)\n",
              "          )\n",
              "          (output): BertOutput(\n",
              "            (dense): Linear(in_features=3072, out_features=768, bias=True)\n",
              "            (LayerNorm): LayerNorm((768,), eps=1e-12, elementwise_affine=True)\n",
              "            (dropout): Dropout(p=0.1, inplace=False)\n",
              "          )\n",
              "        )\n",
              "        (10): BertLayer(\n",
              "          (attention): BertAttention(\n",
              "            (self): BertSelfAttention(\n",
              "              (query): Linear(in_features=768, out_features=768, bias=True)\n",
              "              (key): Linear(in_features=768, out_features=768, bias=True)\n",
              "              (value): Linear(in_features=768, out_features=768, bias=True)\n",
              "              (dropout): Dropout(p=0.1, inplace=False)\n",
              "            )\n",
              "            (output): BertSelfOutput(\n",
              "              (dense): Linear(in_features=768, out_features=768, bias=True)\n",
              "              (LayerNorm): LayerNorm((768,), eps=1e-12, elementwise_affine=True)\n",
              "              (dropout): Dropout(p=0.1, inplace=False)\n",
              "            )\n",
              "          )\n",
              "          (intermediate): BertIntermediate(\n",
              "            (dense): Linear(in_features=768, out_features=3072, bias=True)\n",
              "          )\n",
              "          (output): BertOutput(\n",
              "            (dense): Linear(in_features=3072, out_features=768, bias=True)\n",
              "            (LayerNorm): LayerNorm((768,), eps=1e-12, elementwise_affine=True)\n",
              "            (dropout): Dropout(p=0.1, inplace=False)\n",
              "          )\n",
              "        )\n",
              "        (11): BertLayer(\n",
              "          (attention): BertAttention(\n",
              "            (self): BertSelfAttention(\n",
              "              (query): Linear(in_features=768, out_features=768, bias=True)\n",
              "              (key): Linear(in_features=768, out_features=768, bias=True)\n",
              "              (value): Linear(in_features=768, out_features=768, bias=True)\n",
              "              (dropout): Dropout(p=0.1, inplace=False)\n",
              "            )\n",
              "            (output): BertSelfOutput(\n",
              "              (dense): Linear(in_features=768, out_features=768, bias=True)\n",
              "              (LayerNorm): LayerNorm((768,), eps=1e-12, elementwise_affine=True)\n",
              "              (dropout): Dropout(p=0.1, inplace=False)\n",
              "            )\n",
              "          )\n",
              "          (intermediate): BertIntermediate(\n",
              "            (dense): Linear(in_features=768, out_features=3072, bias=True)\n",
              "          )\n",
              "          (output): BertOutput(\n",
              "            (dense): Linear(in_features=3072, out_features=768, bias=True)\n",
              "            (LayerNorm): LayerNorm((768,), eps=1e-12, elementwise_affine=True)\n",
              "            (dropout): Dropout(p=0.1, inplace=False)\n",
              "          )\n",
              "        )\n",
              "      )\n",
              "    )\n",
              "    (pooler): BertPooler(\n",
              "      (dense): Linear(in_features=768, out_features=768, bias=True)\n",
              "      (activation): Tanh()\n",
              "    )\n",
              "  )\n",
              "  (dropout): Dropout(p=0.1, inplace=False)\n",
              "  (classifier): Linear(in_features=768, out_features=2, bias=True)\n",
              ")"
            ]
          },
          "metadata": {
            "tags": []
          },
          "execution_count": 55
        }
      ]
    },
    {
      "cell_type": "markdown",
      "metadata": {
        "id": "-TDEbD1Kb-gc"
      },
      "source": [
        "## Loading Optimizer"
      ]
    },
    {
      "cell_type": "code",
      "metadata": {
        "id": "8tAijXBEh7t8"
      },
      "source": [
        "from transformers import AdamW\r\n",
        "\r\n",
        "# Note: AdamW is a class from the huggingface library (as opposed to pytorch) \r\n",
        "# I believe the 'W' stands for 'Weight Decay fix\"\r\n",
        "optimizer = AdamW(model.parameters(),\r\n",
        "                  lr = 2e-5, # This is the value Michael used.\r\n",
        "                  eps = 1e-8 # args.adam_epsilon  - default is 1e-8.\r\n",
        "                )\r\n"
      ],
      "execution_count": 56,
      "outputs": []
    },
    {
      "cell_type": "markdown",
      "metadata": {
        "id": "uaNunk3rcChG"
      },
      "source": [
        "## Loading Linear rate Scheduler"
      ]
    },
    {
      "cell_type": "code",
      "metadata": {
        "id": "agidP6D6iBFI"
      },
      "source": [
        "from transformers import get_linear_schedule_with_warmup\r\n",
        "\r\n",
        "# Number of training epochs. I chose to train for 1 simply because the training\r\n",
        "# time is long. More epochs may improve the model's accuracy.\r\n",
        "epochs = 4\r\n",
        "\r\n",
        "# Total number of training steps is [number of batches] x [number of epochs]. \r\n",
        "# Note that it's the number of *batches*, not *samples*!\r\n",
        "total_steps = len(py_inputs) * epochs\r\n",
        "\r\n",
        "# Create the learning rate scheduler.\r\n",
        "scheduler = get_linear_schedule_with_warmup(optimizer, \r\n",
        "                                            num_warmup_steps = 0, # Default value in run_glue.py\r\n",
        "                                            num_training_steps = total_steps)"
      ],
      "execution_count": 57,
      "outputs": []
    },
    {
      "cell_type": "markdown",
      "metadata": {
        "id": "_BeLJ39rcG3h"
      },
      "source": [
        "## Training Loop"
      ]
    },
    {
      "cell_type": "code",
      "metadata": {
        "colab": {
          "base_uri": "https://localhost:8080/"
        },
        "id": "H4ERR8fBiEJn",
        "outputId": "4829c65b-01b7-40f8-e28a-256e36104034"
      },
      "source": [
        "# We'll store a number of quantities such as training and validation loss, \r\n",
        "# validation accuracy, and timings.\r\n",
        "training_stats = {\r\n",
        "    'epoch':[],\r\n",
        "    'train_loss':[],\r\n",
        "    'Training Time':[],\r\n",
        "    'val_loss':[],\r\n",
        "    'Validation Time':[],\r\n",
        "    'train_acc':[],\r\n",
        "    'val_acc':[]\r\n",
        "}\r\n",
        "\r\n",
        "# Update every `update_interval` batches.\r\n",
        "update_interval = good_update_interval(total_iters=len(py_inputs), num_desired_updates=10)\r\n",
        "\r\n",
        "# Measure the total training time for the whole run.\r\n",
        "total_t0 = time.time()\r\n",
        "\r\n",
        "# For each epoch...\r\n",
        "for epoch_i in range(0, epochs):\r\n",
        "\r\n",
        "    predictions = []\r\n",
        "    true_labels = []\r\n",
        "    \r\n",
        "    # ========================================\r\n",
        "    #               Training\r\n",
        "    # ========================================\r\n",
        "    \r\n",
        "    # Perform one full pass over the training set.\r\n",
        "\r\n",
        "    print(\"\")\r\n",
        "    print('======== Epoch {:} / {:} ========'.format(epoch_i + 1, epochs))\r\n",
        "    \r\n",
        "    # At the start of each epoch (except for the first) we need to re-randomize\r\n",
        "    # our training data.\r\n",
        "    if epoch_i > 0:\r\n",
        "        # Use our `make_smart_batches` function (from 6.1.) to re-shuffle the \r\n",
        "        # dataset into new batches.\r\n",
        "        (py_inputs, py_attn_masks, py_labels) = make_smart_batches(train_sentences, train_labels, batch_size,tokenizer,max_input_length)\r\n",
        "    \r\n",
        "    print('Training on {:,} batches...'.format(len(py_inputs)))\r\n",
        "\r\n",
        "    # Measure how long the training epoch takes.\r\n",
        "    t0 = time.time()\r\n",
        "\r\n",
        "    # Reset the total loss for this epoch.\r\n",
        "    total_train_loss = 0\r\n",
        "\r\n",
        "    # Put the model into training mode. Don't be mislead--the call to \r\n",
        "    # `train` just changes the *mode*, it doesn't *perform* the training.\r\n",
        "    # `dropout` and `batchnorm` layers behave differently during training\r\n",
        "    # vs. test (source: https://stackoverflow.com/questions/51433378/what-does-model-train-do-in-pytorch)\r\n",
        "    model.train()\r\n",
        "\r\n",
        "    # For each batch of training data...\r\n",
        "    for step in range(0, len(py_inputs)):\r\n",
        "\r\n",
        "        # Progress update every, e.g., 100 batches.\r\n",
        "        if step % update_interval == 0 and not step == 0:\r\n",
        "            # Calculate elapsed time in minutes.\r\n",
        "            elapsed = format_time(time.time() - t0)\r\n",
        "            \r\n",
        "            # Calculate the time remaining based on our progress.\r\n",
        "            steps_per_sec = (time.time() - t0) / step\r\n",
        "            remaining_sec = steps_per_sec * (len(py_inputs) - step)\r\n",
        "            remaining = format_time(remaining_sec)\r\n",
        "\r\n",
        "            # Report progress.\r\n",
        "            print('  Batch {:>7,}  of  {:>7,}.    Elapsed: {:}.  Remaining: {:}'.format(step, len(py_inputs), elapsed, remaining))\r\n",
        "\r\n",
        "        # Copy the current training batch to the GPU using the `to` method.\r\n",
        "        b_input_ids = py_inputs[step].to(device)\r\n",
        "        b_input_mask = py_attn_masks[step].to(device)\r\n",
        "        b_labels = py_labels[step].to(device)\r\n",
        "\r\n",
        "        # Always clear any previously calculated gradients before performing a\r\n",
        "        # backward pass.\r\n",
        "        model.zero_grad()        \r\n",
        "\r\n",
        "        # Perform a forward pass (evaluate the model on this training batch).\r\n",
        "        # The call returns the loss (because we provided labels) and the \r\n",
        "        # \"logits\"--the model outputs prior to activation.\r\n",
        "        output = model(b_input_ids, \r\n",
        "                             token_type_ids=None, \r\n",
        "                             attention_mask=b_input_mask, \r\n",
        "                             labels=b_labels)\r\n",
        "\r\n",
        "        # Accumulate the training loss over all of the batches so that we can\r\n",
        "        # calculate the average loss at the end. `loss` is a Tensor containing a\r\n",
        "        # single value; the `.item()` function just returns the Python value \r\n",
        "        # from the tensor.\r\n",
        "        loss = output.loss \r\n",
        "        logits = output.logits\r\n",
        "\r\n",
        "        # Move logits and labels to CPU\r\n",
        "        logits = logits.detach().cpu().numpy()\r\n",
        "        label_ids = b_labels.to('cpu').numpy()\r\n",
        "      \r\n",
        "        # Store predictions and true labels\r\n",
        "        predictions.append(logits)\r\n",
        "        true_labels.append(label_ids)\r\n",
        "        \r\n",
        "        # Accumulate the training loss over all of the batches so that we can\r\n",
        "        # calculate the average loss at the end. `loss` is a Tensor containing a\r\n",
        "        # single value; the `.item()` function just returns the Python value \r\n",
        "        # from the tensor.\r\n",
        "        total_train_loss += loss.item()\r\n",
        "\r\n",
        "        # Perform a backward pass to calculate the gradients.\r\n",
        "        loss.backward()\r\n",
        "\r\n",
        "        # Clip the norm of the gradients to 1.0.\r\n",
        "        # This is to help prevent the \"exploding gradients\" problem.\r\n",
        "        torch.nn.utils.clip_grad_norm_(model.parameters(), 1.0)\r\n",
        "\r\n",
        "        # Update parameters and take a step using the computed gradient.\r\n",
        "        # The optimizer dictates the \"update rule\"--how the parameters are\r\n",
        "        # modified based on their gradients, the learning rate, etc.\r\n",
        "        optimizer.step()\r\n",
        "\r\n",
        "        # Update the learning rate.\r\n",
        "        scheduler.step()\r\n",
        "\r\n",
        "    # Calculate the average loss over all of the batches.\r\n",
        "    avg_train_loss = total_train_loss / len(py_inputs)     \r\n",
        "       \r\n",
        "    training_accuracy = check_accuracy(predictions,true_labels)       \r\n",
        "    \r\n",
        "    # Measure how long this epoch took.\r\n",
        "    training_time = format_time(time.time() - t0)\r\n",
        "\r\n",
        "    print(\"\")\r\n",
        "    print(\"  Average training loss: {0:.2f}\".format(avg_train_loss))\r\n",
        "    print(\"  Training Accuracy: {0:.2f}\".format(training_accuracy))\r\n",
        "    print(\"  Training epoch took: {:}\".format(training_time))\r\n",
        "        \r\n",
        "    (py_inputs, py_attn_masks, py_labels) = make_smart_batches(val_sentences, val_labels, batch_size ,tokenizer,max_input_length)\r\n",
        "    val_loss,val_accuracy,validation_time = eval_model(model,py_inputs, py_attn_masks, py_labels)  \r\n",
        "    # Record all statistics from this epoch.\r\n",
        "\r\n",
        "    print(\"\")\r\n",
        "    print(\"  Average validation loss: {0:.2f}\".format(val_loss))\r\n",
        "    print(\"  Validation Accuracy: {0:.2f}\".format(val_accuracy))\r\n",
        "    print(\"  Validation epoch took: {:}\".format(validation_time))\r\n",
        "    \r\n",
        "    \r\n",
        "    training_stats['epoch'].append(epoch_i + 1)\r\n",
        "    training_stats['train_loss'].append(avg_train_loss)\r\n",
        "    training_stats['Training Time'].append(training_time)\r\n",
        "    training_stats['val_loss'].append(val_loss)\r\n",
        "    training_stats['Validation Time'].append(validation_time)\r\n",
        "    training_stats['train_acc'].append(training_accuracy)\r\n",
        "    training_stats['val_acc'].append(val_accuracy)\r\n",
        "\r\n",
        "print(\"\")\r\n",
        "print(\"Training complete!\")\r\n",
        "\r\n",
        "print(\"Total training took {:} (h:mm:ss)\".format(format_time(time.time()-total_t0)))"
      ],
      "execution_count": 58,
      "outputs": [
        {
          "output_type": "stream",
          "text": [
            "\n",
            "======== Epoch 1 / 4 ========\n",
            "Training on 115 batches...\n",
            "  Batch      10  of      115.    Elapsed: 0:00:02.  Remaining: 0:00:17\n",
            "  Batch      20  of      115.    Elapsed: 0:00:03.  Remaining: 0:00:15\n",
            "  Batch      30  of      115.    Elapsed: 0:00:05.  Remaining: 0:00:14\n",
            "  Batch      40  of      115.    Elapsed: 0:00:06.  Remaining: 0:00:12\n",
            "  Batch      50  of      115.    Elapsed: 0:00:08.  Remaining: 0:00:10\n",
            "  Batch      60  of      115.    Elapsed: 0:00:10.  Remaining: 0:00:09\n",
            "  Batch      70  of      115.    Elapsed: 0:00:11.  Remaining: 0:00:07\n",
            "  Batch      80  of      115.    Elapsed: 0:00:13.  Remaining: 0:00:06\n",
            "  Batch      90  of      115.    Elapsed: 0:00:14.  Remaining: 0:00:04\n",
            "  Batch     100  of      115.    Elapsed: 0:00:16.  Remaining: 0:00:02\n",
            "  Batch     110  of      115.    Elapsed: 0:00:18.  Remaining: 0:00:01\n",
            "\n",
            "  Average training loss: 0.29\n",
            "  Training Accuracy: 0.88\n",
            "  Training epoch took: 0:00:20\n",
            "Creating Smart Batches from 460 examples with batch size 16...\n",
            "\n",
            "Tokenizing 460 samples...\n",
            "  Tokenized 0 samples.\n",
            "  Tokenized 50 samples.\n",
            "  Tokenized 100 samples.\n",
            "  Tokenized 150 samples.\n",
            "  Tokenized 200 samples.\n",
            "  Tokenized 250 samples.\n",
            "  Tokenized 300 samples.\n",
            "  Tokenized 350 samples.\n",
            "  Tokenized 400 samples.\n",
            "  Tokenized 450 samples.\n",
            "DONE.\n",
            "       460 samples\n",
            "\n",
            "       460 samples after sorting\n",
            "\n",
            "Creating batches of size 16...\n",
            "\n",
            "  DONE - Selected 29 batches.\n",
            "\n",
            "Padding out sequences within each batch...\n",
            "  DONE.\n",
            "Doing validation on 29 sentences...\n",
            "  Batch       3  of       29.    Elapsed: 0:00:00.  Remaining: 0:00:01\n",
            "  Batch       6  of       29.    Elapsed: 0:00:00.  Remaining: 0:00:01\n",
            "  Batch       9  of       29.    Elapsed: 0:00:00.  Remaining: 0:00:01\n",
            "  Batch      12  of       29.    Elapsed: 0:00:00.  Remaining: 0:00:01\n",
            "  Batch      15  of       29.    Elapsed: 0:00:00.  Remaining: 0:00:00\n",
            "  Batch      18  of       29.    Elapsed: 0:00:01.  Remaining: 0:00:00\n",
            "  Batch      21  of       29.    Elapsed: 0:00:01.  Remaining: 0:00:00\n",
            "  Batch      24  of       29.    Elapsed: 0:00:01.  Remaining: 0:00:00\n",
            "  Batch      27  of       29.    Elapsed: 0:00:01.  Remaining: 0:00:00\n",
            "\n",
            "  Average validation loss: 0.25\n",
            "  Validation Accuracy: 0.93\n",
            "  Validation epoch took: 0:00:01\n",
            "\n",
            "======== Epoch 2 / 4 ========\n",
            "Creating Smart Batches from 1,840 examples with batch size 16...\n",
            "\n",
            "Tokenizing 1,840 samples...\n",
            "  Tokenized 0 samples.\n",
            "  Tokenized 200 samples.\n",
            "  Tokenized 400 samples.\n",
            "  Tokenized 600 samples.\n",
            "  Tokenized 800 samples.\n",
            "  Tokenized 1,000 samples.\n",
            "  Tokenized 1,200 samples.\n",
            "  Tokenized 1,400 samples.\n",
            "  Tokenized 1,600 samples.\n",
            "  Tokenized 1,800 samples.\n",
            "DONE.\n",
            "     1,840 samples\n",
            "\n",
            "     1,840 samples after sorting\n",
            "\n",
            "Creating batches of size 16...\n",
            "\n",
            "  DONE - Selected 115 batches.\n",
            "\n",
            "Padding out sequences within each batch...\n",
            "  DONE.\n",
            "Training on 115 batches...\n",
            "  Batch      10  of      115.    Elapsed: 0:00:02.  Remaining: 0:00:17\n",
            "  Batch      20  of      115.    Elapsed: 0:00:03.  Remaining: 0:00:15\n",
            "  Batch      30  of      115.    Elapsed: 0:00:05.  Remaining: 0:00:14\n",
            "  Batch      40  of      115.    Elapsed: 0:00:06.  Remaining: 0:00:12\n",
            "  Batch      50  of      115.    Elapsed: 0:00:08.  Remaining: 0:00:10\n",
            "  Batch      60  of      115.    Elapsed: 0:00:09.  Remaining: 0:00:09\n",
            "  Batch      70  of      115.    Elapsed: 0:00:11.  Remaining: 0:00:07\n",
            "  Batch      80  of      115.    Elapsed: 0:00:13.  Remaining: 0:00:06\n",
            "  Batch      90  of      115.    Elapsed: 0:00:15.  Remaining: 0:00:04\n",
            "  Batch     100  of      115.    Elapsed: 0:00:16.  Remaining: 0:00:02\n",
            "  Batch     110  of      115.    Elapsed: 0:00:18.  Remaining: 0:00:01\n",
            "\n",
            "  Average training loss: 0.18\n",
            "  Training Accuracy: 0.95\n",
            "  Training epoch took: 0:00:20\n",
            "Creating Smart Batches from 460 examples with batch size 16...\n",
            "\n",
            "Tokenizing 460 samples...\n",
            "  Tokenized 0 samples.\n",
            "  Tokenized 50 samples.\n",
            "  Tokenized 100 samples.\n",
            "  Tokenized 150 samples.\n",
            "  Tokenized 200 samples.\n",
            "  Tokenized 250 samples.\n",
            "  Tokenized 300 samples.\n",
            "  Tokenized 350 samples.\n",
            "  Tokenized 400 samples.\n",
            "  Tokenized 450 samples.\n",
            "DONE.\n",
            "       460 samples\n",
            "\n",
            "       460 samples after sorting\n",
            "\n",
            "Creating batches of size 16...\n",
            "\n",
            "  DONE - Selected 29 batches.\n",
            "\n",
            "Padding out sequences within each batch...\n",
            "  DONE.\n",
            "Doing validation on 29 sentences...\n",
            "  Batch       3  of       29.    Elapsed: 0:00:00.  Remaining: 0:00:01\n",
            "  Batch       6  of       29.    Elapsed: 0:00:00.  Remaining: 0:00:01\n",
            "  Batch       9  of       29.    Elapsed: 0:00:00.  Remaining: 0:00:01\n",
            "  Batch      12  of       29.    Elapsed: 0:00:00.  Remaining: 0:00:00\n",
            "  Batch      15  of       29.    Elapsed: 0:00:00.  Remaining: 0:00:00\n",
            "  Batch      18  of       29.    Elapsed: 0:00:01.  Remaining: 0:00:00\n",
            "  Batch      21  of       29.    Elapsed: 0:00:01.  Remaining: 0:00:00\n",
            "  Batch      24  of       29.    Elapsed: 0:00:01.  Remaining: 0:00:00\n",
            "  Batch      27  of       29.    Elapsed: 0:00:01.  Remaining: 0:00:00\n",
            "\n",
            "  Average validation loss: 0.23\n",
            "  Validation Accuracy: 0.93\n",
            "  Validation epoch took: 0:00:01\n",
            "\n",
            "======== Epoch 3 / 4 ========\n",
            "Creating Smart Batches from 1,840 examples with batch size 16...\n",
            "\n",
            "Tokenizing 1,840 samples...\n",
            "  Tokenized 0 samples.\n",
            "  Tokenized 200 samples.\n",
            "  Tokenized 400 samples.\n",
            "  Tokenized 600 samples.\n",
            "  Tokenized 800 samples.\n",
            "  Tokenized 1,000 samples.\n",
            "  Tokenized 1,200 samples.\n",
            "  Tokenized 1,400 samples.\n",
            "  Tokenized 1,600 samples.\n",
            "  Tokenized 1,800 samples.\n",
            "DONE.\n",
            "     1,840 samples\n",
            "\n",
            "     1,840 samples after sorting\n",
            "\n",
            "Creating batches of size 16...\n",
            "\n",
            "  DONE - Selected 115 batches.\n",
            "\n",
            "Padding out sequences within each batch...\n",
            "  DONE.\n",
            "Training on 115 batches...\n",
            "  Batch      10  of      115.    Elapsed: 0:00:01.  Remaining: 0:00:15\n",
            "  Batch      20  of      115.    Elapsed: 0:00:04.  Remaining: 0:00:18\n",
            "  Batch      30  of      115.    Elapsed: 0:00:05.  Remaining: 0:00:14\n",
            "  Batch      40  of      115.    Elapsed: 0:00:07.  Remaining: 0:00:13\n",
            "  Batch      50  of      115.    Elapsed: 0:00:08.  Remaining: 0:00:10\n",
            "  Batch      60  of      115.    Elapsed: 0:00:10.  Remaining: 0:00:09\n",
            "  Batch      70  of      115.    Elapsed: 0:00:11.  Remaining: 0:00:07\n",
            "  Batch      80  of      115.    Elapsed: 0:00:13.  Remaining: 0:00:06\n",
            "  Batch      90  of      115.    Elapsed: 0:00:14.  Remaining: 0:00:04\n",
            "  Batch     100  of      115.    Elapsed: 0:00:16.  Remaining: 0:00:02\n",
            "  Batch     110  of      115.    Elapsed: 0:00:18.  Remaining: 0:00:01\n",
            "\n",
            "  Average training loss: 0.12\n",
            "  Training Accuracy: 0.97\n",
            "  Training epoch took: 0:00:20\n",
            "Creating Smart Batches from 460 examples with batch size 16...\n",
            "\n",
            "Tokenizing 460 samples...\n",
            "  Tokenized 0 samples.\n",
            "  Tokenized 50 samples.\n",
            "  Tokenized 100 samples.\n",
            "  Tokenized 150 samples.\n",
            "  Tokenized 200 samples.\n",
            "  Tokenized 250 samples.\n",
            "  Tokenized 300 samples.\n",
            "  Tokenized 350 samples.\n",
            "  Tokenized 400 samples.\n",
            "  Tokenized 450 samples.\n",
            "DONE.\n",
            "       460 samples\n",
            "\n",
            "       460 samples after sorting\n",
            "\n",
            "Creating batches of size 16...\n",
            "\n",
            "  DONE - Selected 29 batches.\n",
            "\n",
            "Padding out sequences within each batch...\n",
            "  DONE.\n",
            "Doing validation on 29 sentences...\n",
            "  Batch       3  of       29.    Elapsed: 0:00:00.  Remaining: 0:00:01\n",
            "  Batch       6  of       29.    Elapsed: 0:00:00.  Remaining: 0:00:00\n",
            "  Batch       9  of       29.    Elapsed: 0:00:00.  Remaining: 0:00:00\n",
            "  Batch      12  of       29.    Elapsed: 0:00:00.  Remaining: 0:00:00\n",
            "  Batch      15  of       29.    Elapsed: 0:00:00.  Remaining: 0:00:00\n",
            "  Batch      18  of       29.    Elapsed: 0:00:01.  Remaining: 0:00:00\n",
            "  Batch      21  of       29.    Elapsed: 0:00:01.  Remaining: 0:00:00\n",
            "  Batch      24  of       29.    Elapsed: 0:00:01.  Remaining: 0:00:00\n",
            "  Batch      27  of       29.    Elapsed: 0:00:01.  Remaining: 0:00:00\n",
            "\n",
            "  Average validation loss: 0.23\n",
            "  Validation Accuracy: 0.93\n",
            "  Validation epoch took: 0:00:01\n",
            "\n",
            "======== Epoch 4 / 4 ========\n",
            "Creating Smart Batches from 1,840 examples with batch size 16...\n",
            "\n",
            "Tokenizing 1,840 samples...\n",
            "  Tokenized 0 samples.\n",
            "  Tokenized 200 samples.\n",
            "  Tokenized 400 samples.\n",
            "  Tokenized 600 samples.\n",
            "  Tokenized 800 samples.\n",
            "  Tokenized 1,000 samples.\n",
            "  Tokenized 1,200 samples.\n",
            "  Tokenized 1,400 samples.\n",
            "  Tokenized 1,600 samples.\n",
            "  Tokenized 1,800 samples.\n",
            "DONE.\n",
            "     1,840 samples\n",
            "\n",
            "     1,840 samples after sorting\n",
            "\n",
            "Creating batches of size 16...\n",
            "\n",
            "  DONE - Selected 115 batches.\n",
            "\n",
            "Padding out sequences within each batch...\n",
            "  DONE.\n",
            "Training on 115 batches...\n",
            "  Batch      10  of      115.    Elapsed: 0:00:02.  Remaining: 0:00:18\n",
            "  Batch      20  of      115.    Elapsed: 0:00:03.  Remaining: 0:00:16\n",
            "  Batch      30  of      115.    Elapsed: 0:00:05.  Remaining: 0:00:14\n",
            "  Batch      40  of      115.    Elapsed: 0:00:06.  Remaining: 0:00:12\n",
            "  Batch      50  of      115.    Elapsed: 0:00:08.  Remaining: 0:00:10\n",
            "  Batch      60  of      115.    Elapsed: 0:00:09.  Remaining: 0:00:09\n",
            "  Batch      70  of      115.    Elapsed: 0:00:11.  Remaining: 0:00:07\n",
            "  Batch      80  of      115.    Elapsed: 0:00:13.  Remaining: 0:00:06\n",
            "  Batch      90  of      115.    Elapsed: 0:00:15.  Remaining: 0:00:04\n",
            "  Batch     100  of      115.    Elapsed: 0:00:16.  Remaining: 0:00:02\n",
            "  Batch     110  of      115.    Elapsed: 0:00:18.  Remaining: 0:00:01\n",
            "\n",
            "  Average training loss: 0.07\n",
            "  Training Accuracy: 0.98\n",
            "  Training epoch took: 0:00:20\n",
            "Creating Smart Batches from 460 examples with batch size 16...\n",
            "\n",
            "Tokenizing 460 samples...\n",
            "  Tokenized 0 samples.\n",
            "  Tokenized 50 samples.\n",
            "  Tokenized 100 samples.\n",
            "  Tokenized 150 samples.\n",
            "  Tokenized 200 samples.\n",
            "  Tokenized 250 samples.\n",
            "  Tokenized 300 samples.\n",
            "  Tokenized 350 samples.\n",
            "  Tokenized 400 samples.\n",
            "  Tokenized 450 samples.\n",
            "DONE.\n",
            "       460 samples\n",
            "\n",
            "       460 samples after sorting\n",
            "\n",
            "Creating batches of size 16...\n",
            "\n",
            "  DONE - Selected 29 batches.\n",
            "\n",
            "Padding out sequences within each batch...\n",
            "  DONE.\n",
            "Doing validation on 29 sentences...\n",
            "  Batch       3  of       29.    Elapsed: 0:00:00.  Remaining: 0:00:01\n",
            "  Batch       6  of       29.    Elapsed: 0:00:00.  Remaining: 0:00:01\n",
            "  Batch       9  of       29.    Elapsed: 0:00:00.  Remaining: 0:00:01\n",
            "  Batch      12  of       29.    Elapsed: 0:00:00.  Remaining: 0:00:01\n",
            "  Batch      15  of       29.    Elapsed: 0:00:01.  Remaining: 0:00:00\n",
            "  Batch      18  of       29.    Elapsed: 0:00:01.  Remaining: 0:00:00\n",
            "  Batch      21  of       29.    Elapsed: 0:00:01.  Remaining: 0:00:00\n",
            "  Batch      24  of       29.    Elapsed: 0:00:01.  Remaining: 0:00:00\n",
            "  Batch      27  of       29.    Elapsed: 0:00:01.  Remaining: 0:00:00\n",
            "\n",
            "  Average validation loss: 0.25\n",
            "  Validation Accuracy: 0.94\n",
            "  Validation epoch took: 0:00:01\n",
            "\n",
            "Training complete!\n",
            "Total training took 0:01:25 (h:mm:ss)\n"
          ],
          "name": "stdout"
        }
      ]
    },
    {
      "cell_type": "code",
      "metadata": {
        "colab": {
          "base_uri": "https://localhost:8080/",
          "height": 450
        },
        "id": "65TEQM8PcU-p",
        "outputId": "e98a7f99-fdee-4934-90f6-71925027b6d0"
      },
      "source": [
        "plot_training_history(training_stats)"
      ],
      "execution_count": 59,
      "outputs": [
        {
          "output_type": "display_data",
          "data": {
            "image/png": "[encoded data removed]",
            "text/plain": [
              "<Figure size 1296x432 with 2 Axes>"
            ]
          },
          "metadata": {
            "tags": []
          }
        }
      ]
    },
    {
      "cell_type": "markdown",
      "metadata": {
        "id": "3c-6bOIxVyrM"
      },
      "source": [
        "## Evaluating Performance Over Training Set"
      ]
    },
    {
      "cell_type": "code",
      "metadata": {
        "colab": {
          "base_uri": "https://localhost:8080/"
        },
        "id": "2QmKPNAeWHkZ",
        "outputId": "b2268ca9-6793-4a31-a1bc-7fe56133f778"
      },
      "source": [
        "(py_inputs, py_attn_masks, py_labels) = make_smart_batches(train_sentences, train_labels, batch_size ,tokenizer,max_input_length)\r\n",
        "\r\n",
        "y_pred , y_true = get_predictions(py_inputs, py_attn_masks, py_labels)\r\n"
      ],
      "execution_count": 60,
      "outputs": [
        {
          "output_type": "stream",
          "text": [
            "Creating Smart Batches from 1,840 examples with batch size 16...\n",
            "\n",
            "Tokenizing 1,840 samples...\n",
            "  Tokenized 0 samples.\n",
            "  Tokenized 200 samples.\n",
            "  Tokenized 400 samples.\n",
            "  Tokenized 600 samples.\n",
            "  Tokenized 800 samples.\n",
            "  Tokenized 1,000 samples.\n",
            "  Tokenized 1,200 samples.\n",
            "  Tokenized 1,400 samples.\n",
            "  Tokenized 1,600 samples.\n",
            "  Tokenized 1,800 samples.\n",
            "DONE.\n",
            "     1,840 samples\n",
            "\n",
            "     1,840 samples after sorting\n",
            "\n",
            "Creating batches of size 16...\n",
            "\n",
            "  DONE - Selected 115 batches.\n",
            "\n",
            "Padding out sequences within each batch...\n",
            "  DONE.\n",
            "Predicting labels for 115 test batches...\n",
            "  Batch      10  of      115.    Elapsed: 0:00:00.  Remaining: 0:00:04\n",
            "  Batch      20  of      115.    Elapsed: 0:00:01.  Remaining: 0:00:04\n",
            "  Batch      30  of      115.    Elapsed: 0:00:01.  Remaining: 0:00:03\n",
            "  Batch      40  of      115.    Elapsed: 0:00:02.  Remaining: 0:00:03\n",
            "  Batch      50  of      115.    Elapsed: 0:00:02.  Remaining: 0:00:03\n",
            "  Batch      60  of      115.    Elapsed: 0:00:02.  Remaining: 0:00:02\n",
            "  Batch      70  of      115.    Elapsed: 0:00:03.  Remaining: 0:00:02\n",
            "  Batch      80  of      115.    Elapsed: 0:00:03.  Remaining: 0:00:01\n",
            "  Batch      90  of      115.    Elapsed: 0:00:03.  Remaining: 0:00:01\n",
            "  Batch     100  of      115.    Elapsed: 0:00:04.  Remaining: 0:00:01\n",
            "  Batch     110  of      115.    Elapsed: 0:00:04.  Remaining: 0:00:00\n"
          ],
          "name": "stdout"
        }
      ]
    },
    {
      "cell_type": "code",
      "metadata": {
        "colab": {
          "base_uri": "https://localhost:8080/"
        },
        "id": "uXsVn0wngZhv",
        "outputId": "acacc9a8-821e-43f6-e780-05db7118386f"
      },
      "source": [
        "print(classification_report(y_true, y_pred, target_names=class_names))"
      ],
      "execution_count": 61,
      "outputs": [
        {
          "output_type": "stream",
          "text": [
            "              precision    recall  f1-score   support\n",
            "\n",
            "   Not_troll       0.97      0.99      0.98       814\n",
            "       troll       1.00      0.97      0.98      1026\n",
            "\n",
            "    accuracy                           0.98      1840\n",
            "   macro avg       0.98      0.98      0.98      1840\n",
            "weighted avg       0.98      0.98      0.98      1840\n",
            "\n"
          ],
          "name": "stdout"
        }
      ]
    },
    {
      "cell_type": "code",
      "metadata": {
        "colab": {
          "base_uri": "https://localhost:8080/",
          "height": 439
        },
        "id": "guClUdRhYPql",
        "outputId": "cb552b2e-b290-4f30-b943-42fb3b8723fd"
      },
      "source": [
        "cm = confusion_matrix(y_true, y_pred)\r\n",
        "show_confusion_matrix(cm, class_names)"
      ],
      "execution_count": 62,
      "outputs": [
        {
          "output_type": "display_data",
          "data": {
            "image/png": "[encoded data removed]",
            "text/plain": [
              "<Figure size 864x432 with 2 Axes>"
            ]
          },
          "metadata": {
            "tags": []
          }
        }
      ]
    },
    {
      "cell_type": "markdown",
      "metadata": {
        "id": "VM2N-X1tV3il"
      },
      "source": [
        "## Evaluating Performance Over Validation Set"
      ]
    },
    {
      "cell_type": "code",
      "metadata": {
        "colab": {
          "base_uri": "https://localhost:8080/"
        },
        "id": "BnadNvtxWIYw",
        "outputId": "aa8ee4a3-4e5c-485e-c3f0-c34ee9790d80"
      },
      "source": [
        "(py_inputs, py_attn_masks, py_labels) = make_smart_batches(val_sentences, val_labels, batch_size ,tokenizer,max_input_length)\r\n",
        "\r\n",
        "y_pred , y_true = get_predictions(py_inputs, py_attn_masks, py_labels)"
      ],
      "execution_count": 63,
      "outputs": [
        {
          "output_type": "stream",
          "text": [
            "Creating Smart Batches from 460 examples with batch size 16...\n",
            "\n",
            "Tokenizing 460 samples...\n",
            "  Tokenized 0 samples.\n",
            "  Tokenized 50 samples.\n",
            "  Tokenized 100 samples.\n",
            "  Tokenized 150 samples.\n",
            "  Tokenized 200 samples.\n",
            "  Tokenized 250 samples.\n",
            "  Tokenized 300 samples.\n",
            "  Tokenized 350 samples.\n",
            "  Tokenized 400 samples.\n",
            "  Tokenized 450 samples.\n",
            "DONE.\n",
            "       460 samples\n",
            "\n",
            "       460 samples after sorting\n",
            "\n",
            "Creating batches of size 16...\n",
            "\n",
            "  DONE - Selected 29 batches.\n",
            "\n",
            "Padding out sequences within each batch...\n",
            "  DONE.\n",
            "Predicting labels for 29 test batches...\n",
            "  Batch       3  of       29.    Elapsed: 0:00:00.  Remaining: 0:00:01\n",
            "  Batch       6  of       29.    Elapsed: 0:00:00.  Remaining: 0:00:01\n",
            "  Batch       9  of       29.    Elapsed: 0:00:00.  Remaining: 0:00:01\n",
            "  Batch      12  of       29.    Elapsed: 0:00:00.  Remaining: 0:00:01\n",
            "  Batch      15  of       29.    Elapsed: 0:00:01.  Remaining: 0:00:01\n",
            "  Batch      18  of       29.    Elapsed: 0:00:01.  Remaining: 0:00:00\n",
            "  Batch      21  of       29.    Elapsed: 0:00:01.  Remaining: 0:00:00\n",
            "  Batch      24  of       29.    Elapsed: 0:00:01.  Remaining: 0:00:00\n",
            "  Batch      27  of       29.    Elapsed: 0:00:01.  Remaining: 0:00:00\n"
          ],
          "name": "stdout"
        }
      ]
    },
    {
      "cell_type": "code",
      "metadata": {
        "colab": {
          "base_uri": "https://localhost:8080/"
        },
        "id": "wAjlATBPgh7c",
        "outputId": "bb8c4f94-b8d2-44cc-c312-c4feb128d7a2"
      },
      "source": [
        "print(classification_report(y_true, y_pred, target_names=class_names))"
      ],
      "execution_count": 64,
      "outputs": [
        {
          "output_type": "stream",
          "text": [
            "              precision    recall  f1-score   support\n",
            "\n",
            "   Not_troll       0.91      0.96      0.93       204\n",
            "       troll       0.97      0.92      0.94       256\n",
            "\n",
            "    accuracy                           0.94       460\n",
            "   macro avg       0.94      0.94      0.94       460\n",
            "weighted avg       0.94      0.94      0.94       460\n",
            "\n"
          ],
          "name": "stdout"
        }
      ]
    },
    {
      "cell_type": "code",
      "metadata": {
        "colab": {
          "base_uri": "https://localhost:8080/",
          "height": 439
        },
        "id": "7nELY57NYshD",
        "outputId": "335f76b0-1663-43f8-9e1d-3598f385f30c"
      },
      "source": [
        "cm = confusion_matrix(y_true, y_pred)\r\n",
        "show_confusion_matrix(cm, class_names)"
      ],
      "execution_count": 65,
      "outputs": [
        {
          "output_type": "display_data",
          "data": {
            "image/png": "[encoded data removed]",
            "text/plain": [
              "<Figure size 864x432 with 2 Axes>"
            ]
          },
          "metadata": {
            "tags": []
          }
        }
      ]
    },
    {
      "cell_type": "markdown",
      "metadata": {
        "id": "eV1nPYflSeo_"
      },
      "source": [
        "## Saving the model"
      ]
    },
    {
      "cell_type": "code",
      "metadata": {
        "id": "hsm1xnwtSepE"
      },
      "source": [
        "torch.save(\r\n",
        "    model,\r\n",
        "    \"./drive/MyDrive/Codalab/Meme Classification Challenge/Models/BERTForSequenceClassification_Multi_cased_Tamil\"\r\n",
        "    )"
      ],
      "execution_count": 67,
      "outputs": []
    },
    {
      "cell_type": "markdown",
      "metadata": {
        "id": "a9M_91z1yj0F"
      },
      "source": [
        "## Loading the model"
      ]
    },
    {
      "cell_type": "code",
      "metadata": {
        "id": "42ObCUU1QcsJ"
      },
      "source": [
        "model = torch.load(\r\n",
        "    './drive/MyDrive/Meme Classification Challenge/Models/BERTForSequenceClassification_Multi_cased_Tamil',\r\n",
        "                   map_location=device\r\n",
        "    )"
      ],
      "execution_count": null,
      "outputs": []
    },
    {
      "cell_type": "code",
      "metadata": {
        "colab": {
          "base_uri": "https://localhost:8080/"
        },
        "id": "sAaHpZdIzsnT",
        "outputId": "a9a59bc5-72ef-4547-ee59-067485be1162"
      },
      "source": [
        "model.cuda()"
      ],
      "execution_count": null,
      "outputs": [
        {
          "output_type": "execute_result",
          "data": {
            "text/plain": [
              "BertForSequenceClassification(\n",
              "  (bert): BertModel(\n",
              "    (embeddings): BertEmbeddings(\n",
              "      (word_embeddings): Embedding(30522, 768, padding_idx=0)\n",
              "      (position_embeddings): Embedding(512, 768)\n",
              "      (token_type_embeddings): Embedding(2, 768)\n",
              "      (LayerNorm): LayerNorm((768,), eps=1e-12, elementwise_affine=True)\n",
              "      (dropout): Dropout(p=0.1, inplace=False)\n",
              "    )\n",
              "    (encoder): BertEncoder(\n",
              "      (layer): ModuleList(\n",
              "        (0): BertLayer(\n",
              "          (attention): BertAttention(\n",
              "            (self): BertSelfAttention(\n",
              "              (query): Linear(in_features=768, out_features=768, bias=True)\n",
              "              (key): Linear(in_features=768, out_features=768, bias=True)\n",
              "              (value): Linear(in_features=768, out_features=768, bias=True)\n",
              "              (dropout): Dropout(p=0.1, inplace=False)\n",
              "            )\n",
              "            (output): BertSelfOutput(\n",
              "              (dense): Linear(in_features=768, out_features=768, bias=True)\n",
              "              (LayerNorm): LayerNorm((768,), eps=1e-12, elementwise_affine=True)\n",
              "              (dropout): Dropout(p=0.1, inplace=False)\n",
              "            )\n",
              "          )\n",
              "          (intermediate): BertIntermediate(\n",
              "            (dense): Linear(in_features=768, out_features=3072, bias=True)\n",
              "          )\n",
              "          (output): BertOutput(\n",
              "            (dense): Linear(in_features=3072, out_features=768, bias=True)\n",
              "            (LayerNorm): LayerNorm((768,), eps=1e-12, elementwise_affine=True)\n",
              "            (dropout): Dropout(p=0.1, inplace=False)\n",
              "          )\n",
              "        )\n",
              "        (1): BertLayer(\n",
              "          (attention): BertAttention(\n",
              "            (self): BertSelfAttention(\n",
              "              (query): Linear(in_features=768, out_features=768, bias=True)\n",
              "              (key): Linear(in_features=768, out_features=768, bias=True)\n",
              "              (value): Linear(in_features=768, out_features=768, bias=True)\n",
              "              (dropout): Dropout(p=0.1, inplace=False)\n",
              "            )\n",
              "            (output): BertSelfOutput(\n",
              "              (dense): Linear(in_features=768, out_features=768, bias=True)\n",
              "              (LayerNorm): LayerNorm((768,), eps=1e-12, elementwise_affine=True)\n",
              "              (dropout): Dropout(p=0.1, inplace=False)\n",
              "            )\n",
              "          )\n",
              "          (intermediate): BertIntermediate(\n",
              "            (dense): Linear(in_features=768, out_features=3072, bias=True)\n",
              "          )\n",
              "          (output): BertOutput(\n",
              "            (dense): Linear(in_features=3072, out_features=768, bias=True)\n",
              "            (LayerNorm): LayerNorm((768,), eps=1e-12, elementwise_affine=True)\n",
              "            (dropout): Dropout(p=0.1, inplace=False)\n",
              "          )\n",
              "        )\n",
              "        (2): BertLayer(\n",
              "          (attention): BertAttention(\n",
              "            (self): BertSelfAttention(\n",
              "              (query): Linear(in_features=768, out_features=768, bias=True)\n",
              "              (key): Linear(in_features=768, out_features=768, bias=True)\n",
              "              (value): Linear(in_features=768, out_features=768, bias=True)\n",
              "              (dropout): Dropout(p=0.1, inplace=False)\n",
              "            )\n",
              "            (output): BertSelfOutput(\n",
              "              (dense): Linear(in_features=768, out_features=768, bias=True)\n",
              "              (LayerNorm): LayerNorm((768,), eps=1e-12, elementwise_affine=True)\n",
              "              (dropout): Dropout(p=0.1, inplace=False)\n",
              "            )\n",
              "          )\n",
              "          (intermediate): BertIntermediate(\n",
              "            (dense): Linear(in_features=768, out_features=3072, bias=True)\n",
              "          )\n",
              "          (output): BertOutput(\n",
              "            (dense): Linear(in_features=3072, out_features=768, bias=True)\n",
              "            (LayerNorm): LayerNorm((768,), eps=1e-12, elementwise_affine=True)\n",
              "            (dropout): Dropout(p=0.1, inplace=False)\n",
              "          )\n",
              "        )\n",
              "        (3): BertLayer(\n",
              "          (attention): BertAttention(\n",
              "            (self): BertSelfAttention(\n",
              "              (query): Linear(in_features=768, out_features=768, bias=True)\n",
              "              (key): Linear(in_features=768, out_features=768, bias=True)\n",
              "              (value): Linear(in_features=768, out_features=768, bias=True)\n",
              "              (dropout): Dropout(p=0.1, inplace=False)\n",
              "            )\n",
              "            (output): BertSelfOutput(\n",
              "              (dense): Linear(in_features=768, out_features=768, bias=True)\n",
              "              (LayerNorm): LayerNorm((768,), eps=1e-12, elementwise_affine=True)\n",
              "              (dropout): Dropout(p=0.1, inplace=False)\n",
              "            )\n",
              "          )\n",
              "          (intermediate): BertIntermediate(\n",
              "            (dense): Linear(in_features=768, out_features=3072, bias=True)\n",
              "          )\n",
              "          (output): BertOutput(\n",
              "            (dense): Linear(in_features=3072, out_features=768, bias=True)\n",
              "            (LayerNorm): LayerNorm((768,), eps=1e-12, elementwise_affine=True)\n",
              "            (dropout): Dropout(p=0.1, inplace=False)\n",
              "          )\n",
              "        )\n",
              "        (4): BertLayer(\n",
              "          (attention): BertAttention(\n",
              "            (self): BertSelfAttention(\n",
              "              (query): Linear(in_features=768, out_features=768, bias=True)\n",
              "              (key): Linear(in_features=768, out_features=768, bias=True)\n",
              "              (value): Linear(in_features=768, out_features=768, bias=True)\n",
              "              (dropout): Dropout(p=0.1, inplace=False)\n",
              "            )\n",
              "            (output): BertSelfOutput(\n",
              "              (dense): Linear(in_features=768, out_features=768, bias=True)\n",
              "              (LayerNorm): LayerNorm((768,), eps=1e-12, elementwise_affine=True)\n",
              "              (dropout): Dropout(p=0.1, inplace=False)\n",
              "            )\n",
              "          )\n",
              "          (intermediate): BertIntermediate(\n",
              "            (dense): Linear(in_features=768, out_features=3072, bias=True)\n",
              "          )\n",
              "          (output): BertOutput(\n",
              "            (dense): Linear(in_features=3072, out_features=768, bias=True)\n",
              "            (LayerNorm): LayerNorm((768,), eps=1e-12, elementwise_affine=True)\n",
              "            (dropout): Dropout(p=0.1, inplace=False)\n",
              "          )\n",
              "        )\n",
              "        (5): BertLayer(\n",
              "          (attention): BertAttention(\n",
              "            (self): BertSelfAttention(\n",
              "              (query): Linear(in_features=768, out_features=768, bias=True)\n",
              "              (key): Linear(in_features=768, out_features=768, bias=True)\n",
              "              (value): Linear(in_features=768, out_features=768, bias=True)\n",
              "              (dropout): Dropout(p=0.1, inplace=False)\n",
              "            )\n",
              "            (output): BertSelfOutput(\n",
              "              (dense): Linear(in_features=768, out_features=768, bias=True)\n",
              "              (LayerNorm): LayerNorm((768,), eps=1e-12, elementwise_affine=True)\n",
              "              (dropout): Dropout(p=0.1, inplace=False)\n",
              "            )\n",
              "          )\n",
              "          (intermediate): BertIntermediate(\n",
              "            (dense): Linear(in_features=768, out_features=3072, bias=True)\n",
              "          )\n",
              "          (output): BertOutput(\n",
              "            (dense): Linear(in_features=3072, out_features=768, bias=True)\n",
              "            (LayerNorm): LayerNorm((768,), eps=1e-12, elementwise_affine=True)\n",
              "            (dropout): Dropout(p=0.1, inplace=False)\n",
              "          )\n",
              "        )\n",
              "        (6): BertLayer(\n",
              "          (attention): BertAttention(\n",
              "            (self): BertSelfAttention(\n",
              "              (query): Linear(in_features=768, out_features=768, bias=True)\n",
              "              (key): Linear(in_features=768, out_features=768, bias=True)\n",
              "              (value): Linear(in_features=768, out_features=768, bias=True)\n",
              "              (dropout): Dropout(p=0.1, inplace=False)\n",
              "            )\n",
              "            (output): BertSelfOutput(\n",
              "              (dense): Linear(in_features=768, out_features=768, bias=True)\n",
              "              (LayerNorm): LayerNorm((768,), eps=1e-12, elementwise_affine=True)\n",
              "              (dropout): Dropout(p=0.1, inplace=False)\n",
              "            )\n",
              "          )\n",
              "          (intermediate): BertIntermediate(\n",
              "            (dense): Linear(in_features=768, out_features=3072, bias=True)\n",
              "          )\n",
              "          (output): BertOutput(\n",
              "            (dense): Linear(in_features=3072, out_features=768, bias=True)\n",
              "            (LayerNorm): LayerNorm((768,), eps=1e-12, elementwise_affine=True)\n",
              "            (dropout): Dropout(p=0.1, inplace=False)\n",
              "          )\n",
              "        )\n",
              "        (7): BertLayer(\n",
              "          (attention): BertAttention(\n",
              "            (self): BertSelfAttention(\n",
              "              (query): Linear(in_features=768, out_features=768, bias=True)\n",
              "              (key): Linear(in_features=768, out_features=768, bias=True)\n",
              "              (value): Linear(in_features=768, out_features=768, bias=True)\n",
              "              (dropout): Dropout(p=0.1, inplace=False)\n",
              "            )\n",
              "            (output): BertSelfOutput(\n",
              "              (dense): Linear(in_features=768, out_features=768, bias=True)\n",
              "              (LayerNorm): LayerNorm((768,), eps=1e-12, elementwise_affine=True)\n",
              "              (dropout): Dropout(p=0.1, inplace=False)\n",
              "            )\n",
              "          )\n",
              "          (intermediate): BertIntermediate(\n",
              "            (dense): Linear(in_features=768, out_features=3072, bias=True)\n",
              "          )\n",
              "          (output): BertOutput(\n",
              "            (dense): Linear(in_features=3072, out_features=768, bias=True)\n",
              "            (LayerNorm): LayerNorm((768,), eps=1e-12, elementwise_affine=True)\n",
              "            (dropout): Dropout(p=0.1, inplace=False)\n",
              "          )\n",
              "        )\n",
              "        (8): BertLayer(\n",
              "          (attention): BertAttention(\n",
              "            (self): BertSelfAttention(\n",
              "              (query): Linear(in_features=768, out_features=768, bias=True)\n",
              "              (key): Linear(in_features=768, out_features=768, bias=True)\n",
              "              (value): Linear(in_features=768, out_features=768, bias=True)\n",
              "              (dropout): Dropout(p=0.1, inplace=False)\n",
              "            )\n",
              "            (output): BertSelfOutput(\n",
              "              (dense): Linear(in_features=768, out_features=768, bias=True)\n",
              "              (LayerNorm): LayerNorm((768,), eps=1e-12, elementwise_affine=True)\n",
              "              (dropout): Dropout(p=0.1, inplace=False)\n",
              "            )\n",
              "          )\n",
              "          (intermediate): BertIntermediate(\n",
              "            (dense): Linear(in_features=768, out_features=3072, bias=True)\n",
              "          )\n",
              "          (output): BertOutput(\n",
              "            (dense): Linear(in_features=3072, out_features=768, bias=True)\n",
              "            (LayerNorm): LayerNorm((768,), eps=1e-12, elementwise_affine=True)\n",
              "            (dropout): Dropout(p=0.1, inplace=False)\n",
              "          )\n",
              "        )\n",
              "        (9): BertLayer(\n",
              "          (attention): BertAttention(\n",
              "            (self): BertSelfAttention(\n",
              "              (query): Linear(in_features=768, out_features=768, bias=True)\n",
              "              (key): Linear(in_features=768, out_features=768, bias=True)\n",
              "              (value): Linear(in_features=768, out_features=768, bias=True)\n",
              "              (dropout): Dropout(p=0.1, inplace=False)\n",
              "            )\n",
              "            (output): BertSelfOutput(\n",
              "              (dense): Linear(in_features=768, out_features=768, bias=True)\n",
              "              (LayerNorm): LayerNorm((768,), eps=1e-12, elementwise_affine=True)\n",
              "              (dropout): Dropout(p=0.1, inplace=False)\n",
              "            )\n",
              "          )\n",
              "          (intermediate): BertIntermediate(\n",
              "            (dense): Linear(in_features=768, out_features=3072, bias=True)\n",
              "          )\n",
              "          (output): BertOutput(\n",
              "            (dense): Linear(in_features=3072, out_features=768, bias=True)\n",
              "            (LayerNorm): LayerNorm((768,), eps=1e-12, elementwise_affine=True)\n",
              "            (dropout): Dropout(p=0.1, inplace=False)\n",
              "          )\n",
              "        )\n",
              "        (10): BertLayer(\n",
              "          (attention): BertAttention(\n",
              "            (self): BertSelfAttention(\n",
              "              (query): Linear(in_features=768, out_features=768, bias=True)\n",
              "              (key): Linear(in_features=768, out_features=768, bias=True)\n",
              "              (value): Linear(in_features=768, out_features=768, bias=True)\n",
              "              (dropout): Dropout(p=0.1, inplace=False)\n",
              "            )\n",
              "            (output): BertSelfOutput(\n",
              "              (dense): Linear(in_features=768, out_features=768, bias=True)\n",
              "              (LayerNorm): LayerNorm((768,), eps=1e-12, elementwise_affine=True)\n",
              "              (dropout): Dropout(p=0.1, inplace=False)\n",
              "            )\n",
              "          )\n",
              "          (intermediate): BertIntermediate(\n",
              "            (dense): Linear(in_features=768, out_features=3072, bias=True)\n",
              "          )\n",
              "          (output): BertOutput(\n",
              "            (dense): Linear(in_features=3072, out_features=768, bias=True)\n",
              "            (LayerNorm): LayerNorm((768,), eps=1e-12, elementwise_affine=True)\n",
              "            (dropout): Dropout(p=0.1, inplace=False)\n",
              "          )\n",
              "        )\n",
              "        (11): BertLayer(\n",
              "          (attention): BertAttention(\n",
              "            (self): BertSelfAttention(\n",
              "              (query): Linear(in_features=768, out_features=768, bias=True)\n",
              "              (key): Linear(in_features=768, out_features=768, bias=True)\n",
              "              (value): Linear(in_features=768, out_features=768, bias=True)\n",
              "              (dropout): Dropout(p=0.1, inplace=False)\n",
              "            )\n",
              "            (output): BertSelfOutput(\n",
              "              (dense): Linear(in_features=768, out_features=768, bias=True)\n",
              "              (LayerNorm): LayerNorm((768,), eps=1e-12, elementwise_affine=True)\n",
              "              (dropout): Dropout(p=0.1, inplace=False)\n",
              "            )\n",
              "          )\n",
              "          (intermediate): BertIntermediate(\n",
              "            (dense): Linear(in_features=768, out_features=3072, bias=True)\n",
              "          )\n",
              "          (output): BertOutput(\n",
              "            (dense): Linear(in_features=3072, out_features=768, bias=True)\n",
              "            (LayerNorm): LayerNorm((768,), eps=1e-12, elementwise_affine=True)\n",
              "            (dropout): Dropout(p=0.1, inplace=False)\n",
              "          )\n",
              "        )\n",
              "      )\n",
              "    )\n",
              "    (pooler): BertPooler(\n",
              "      (dense): Linear(in_features=768, out_features=768, bias=True)\n",
              "      (activation): Tanh()\n",
              "    )\n",
              "  )\n",
              "  (dropout): Dropout(p=0.1, inplace=False)\n",
              "  (classifier): Linear(in_features=768, out_features=3, bias=True)\n",
              ")"
            ]
          },
          "metadata": {
            "tags": []
          },
          "execution_count": 53
        }
      ]
    },
    {
      "cell_type": "markdown",
      "metadata": {
        "id": "jAwCfk8gSepL"
      },
      "source": [
        "## Making Predictions on Test Set"
      ]
    },
    {
      "cell_type": "code",
      "metadata": {
        "id": "EHoA-D_xSepL"
      },
      "source": [
        "test_df = pd.read_csv(join(dataset_dir,'test_captions.csv'))"
      ],
      "execution_count": 70,
      "outputs": []
    },
    {
      "cell_type": "code",
      "metadata": {
        "colab": {
          "base_uri": "https://localhost:8080/",
          "height": 402
        },
        "id": "bqdeFPaqSepM",
        "outputId": "c5511e31-4942-4213-db3f-54b00a464ed8"
      },
      "source": [
        "test_df"
      ],
      "execution_count": 71,
      "outputs": [
        {
          "output_type": "execute_result",
          "data": {
            "text/html": [
              "<div>\n",
              "<style scoped>\n",
              "    .dataframe tbody tr th:only-of-type {\n",
              "        vertical-align: middle;\n",
              "    }\n",
              "\n",
              "    .dataframe tbody tr th {\n",
              "        vertical-align: top;\n",
              "    }\n",
              "\n",
              "    .dataframe thead th {\n",
              "        text-align: right;\n",
              "    }\n",
              "</style>\n",
              "<table border=\"1\" class=\"dataframe\">\n",
              "  <thead>\n",
              "    <tr style=\"text-align: right;\">\n",
              "      <th></th>\n",
              "      <th>Unnamed: 0</th>\n",
              "      <th>imagename</th>\n",
              "      <th>captions</th>\n",
              "    </tr>\n",
              "  </thead>\n",
              "  <tbody>\n",
              "    <tr>\n",
              "      <th>0</th>\n",
              "      <td>0</td>\n",
              "      <td>test_img_0.jpg</td>\n",
              "      <td>sugarkaga nadandhava vida figuregaga nadandhav...</td>\n",
              "    </tr>\n",
              "    <tr>\n",
              "      <th>1</th>\n",
              "      <td>1</td>\n",
              "      <td>test_img_1.jpg</td>\n",
              "      <td>i have come for my stones      stones thaane.....</td>\n",
              "    </tr>\n",
              "    <tr>\n",
              "      <th>2</th>\n",
              "      <td>2</td>\n",
              "      <td>test_img_2.jpg</td>\n",
              "      <td>\"special porotta\" nu pottuierukke spacial kum ...</td>\n",
              "    </tr>\n",
              "    <tr>\n",
              "      <th>3</th>\n",
              "      <td>3</td>\n",
              "      <td>test_img_3.jpg</td>\n",
              "      <td>*we : amma .. cooker 3 whistle vanthuchu off p...</td>\n",
              "    </tr>\n",
              "    <tr>\n",
              "      <th>4</th>\n",
              "      <td>4</td>\n",
              "      <td>test_img_4.jpg</td>\n",
              "      <td>creating whatsapp group - 1st day vaanga ji.. ...</td>\n",
              "    </tr>\n",
              "    <tr>\n",
              "      <th>...</th>\n",
              "      <td>...</td>\n",
              "      <td>...</td>\n",
              "      <td>...</td>\n",
              "    </tr>\n",
              "    <tr>\n",
              "      <th>662</th>\n",
              "      <td>662</td>\n",
              "      <td>test_img_662.jpg</td>\n",
              "      <td>DURING SCHOOL DAYS  ME &amp; FRNDS: ANNA MAIL CHEC...</td>\n",
              "    </tr>\n",
              "    <tr>\n",
              "      <th>663</th>\n",
              "      <td>663</td>\n",
              "      <td>test_img_663.jpg</td>\n",
              "      <td>REMEMBER THIS KID    THIS KID IS RIGHT NOW</td>\n",
              "    </tr>\n",
              "    <tr>\n",
              "      <th>664</th>\n",
              "      <td>664</td>\n",
              "      <td>test_img_664.jpg</td>\n",
              "      <td>*SINGLES: IVAN VERA ENGALA ROMBA TORCHER PANDR...</td>\n",
              "    </tr>\n",
              "    <tr>\n",
              "      <th>665</th>\n",
              "      <td>665</td>\n",
              "      <td>test_img_665.jpg</td>\n",
              "      <td>ENAIKI PUBG LA CHICKEN DINNER VANGURA PAYALUGA...</td>\n",
              "    </tr>\n",
              "    <tr>\n",
              "      <th>666</th>\n",
              "      <td>666</td>\n",
              "      <td>test_img_666.jpg</td>\n",
              "      <td>LATER THAT DAY</td>\n",
              "    </tr>\n",
              "  </tbody>\n",
              "</table>\n",
              "<p>667 rows × 3 columns</p>\n",
              "</div>"
            ],
            "text/plain": [
              "     Unnamed: 0  ...                                           captions\n",
              "0             0  ...  sugarkaga nadandhava vida figuregaga nadandhav...\n",
              "1             1  ...  i have come for my stones      stones thaane.....\n",
              "2             2  ...  \"special porotta\" nu pottuierukke spacial kum ...\n",
              "3             3  ...  *we : amma .. cooker 3 whistle vanthuchu off p...\n",
              "4             4  ...  creating whatsapp group - 1st day vaanga ji.. ...\n",
              "..          ...  ...                                                ...\n",
              "662         662  ...  DURING SCHOOL DAYS  ME & FRNDS: ANNA MAIL CHEC...\n",
              "663         663  ...         REMEMBER THIS KID    THIS KID IS RIGHT NOW\n",
              "664         664  ...  *SINGLES: IVAN VERA ENGALA ROMBA TORCHER PANDR...\n",
              "665         665  ...  ENAIKI PUBG LA CHICKEN DINNER VANGURA PAYALUGA...\n",
              "666         666  ...                                     LATER THAT DAY\n",
              "\n",
              "[667 rows x 3 columns]"
            ]
          },
          "metadata": {
            "tags": []
          },
          "execution_count": 71
        }
      ]
    },
    {
      "cell_type": "markdown",
      "metadata": {
        "id": "7jLPpljYQcsQ"
      },
      "source": [
        "## Loading `test_sentences`"
      ]
    },
    {
      "cell_type": "code",
      "metadata": {
        "id": "QEVoAhgIQcsR"
      },
      "source": [
        "test_sentences = test_df['captions'].values \r\n",
        "test_ids = test_df.index.values"
      ],
      "execution_count": 72,
      "outputs": []
    },
    {
      "cell_type": "code",
      "metadata": {
        "colab": {
          "base_uri": "https://localhost:8080/"
        },
        "id": "slovGuCRThW1",
        "outputId": "bf1a3c6f-a940-409b-f1ac-b4de577c6e7f"
      },
      "source": [
        "test_ids"
      ],
      "execution_count": 73,
      "outputs": [
        {
          "output_type": "execute_result",
          "data": {
            "text/plain": [
              "array([  0,   1,   2,   3,   4,   5,   6,   7,   8,   9,  10,  11,  12,\n",
              "        13,  14,  15,  16,  17,  18,  19,  20,  21,  22,  23,  24,  25,\n",
              "        26,  27,  28,  29,  30,  31,  32,  33,  34,  35,  36,  37,  38,\n",
              "        39,  40,  41,  42,  43,  44,  45,  46,  47,  48,  49,  50,  51,\n",
              "        52,  53,  54,  55,  56,  57,  58,  59,  60,  61,  62,  63,  64,\n",
              "        65,  66,  67,  68,  69,  70,  71,  72,  73,  74,  75,  76,  77,\n",
              "        78,  79,  80,  81,  82,  83,  84,  85,  86,  87,  88,  89,  90,\n",
              "        91,  92,  93,  94,  95,  96,  97,  98,  99, 100, 101, 102, 103,\n",
              "       104, 105, 106, 107, 108, 109, 110, 111, 112, 113, 114, 115, 116,\n",
              "       117, 118, 119, 120, 121, 122, 123, 124, 125, 126, 127, 128, 129,\n",
              "       130, 131, 132, 133, 134, 135, 136, 137, 138, 139, 140, 141, 142,\n",
              "       143, 144, 145, 146, 147, 148, 149, 150, 151, 152, 153, 154, 155,\n",
              "       156, 157, 158, 159, 160, 161, 162, 163, 164, 165, 166, 167, 168,\n",
              "       169, 170, 171, 172, 173, 174, 175, 176, 177, 178, 179, 180, 181,\n",
              "       182, 183, 184, 185, 186, 187, 188, 189, 190, 191, 192, 193, 194,\n",
              "       195, 196, 197, 198, 199, 200, 201, 202, 203, 204, 205, 206, 207,\n",
              "       208, 209, 210, 211, 212, 213, 214, 215, 216, 217, 218, 219, 220,\n",
              "       221, 222, 223, 224, 225, 226, 227, 228, 229, 230, 231, 232, 233,\n",
              "       234, 235, 236, 237, 238, 239, 240, 241, 242, 243, 244, 245, 246,\n",
              "       247, 248, 249, 250, 251, 252, 253, 254, 255, 256, 257, 258, 259,\n",
              "       260, 261, 262, 263, 264, 265, 266, 267, 268, 269, 270, 271, 272,\n",
              "       273, 274, 275, 276, 277, 278, 279, 280, 281, 282, 283, 284, 285,\n",
              "       286, 287, 288, 289, 290, 291, 292, 293, 294, 295, 296, 297, 298,\n",
              "       299, 300, 301, 302, 303, 304, 305, 306, 307, 308, 309, 310, 311,\n",
              "       312, 313, 314, 315, 316, 317, 318, 319, 320, 321, 322, 323, 324,\n",
              "       325, 326, 327, 328, 329, 330, 331, 332, 333, 334, 335, 336, 337,\n",
              "       338, 339, 340, 341, 342, 343, 344, 345, 346, 347, 348, 349, 350,\n",
              "       351, 352, 353, 354, 355, 356, 357, 358, 359, 360, 361, 362, 363,\n",
              "       364, 365, 366, 367, 368, 369, 370, 371, 372, 373, 374, 375, 376,\n",
              "       377, 378, 379, 380, 381, 382, 383, 384, 385, 386, 387, 388, 389,\n",
              "       390, 391, 392, 393, 394, 395, 396, 397, 398, 399, 400, 401, 402,\n",
              "       403, 404, 405, 406, 407, 408, 409, 410, 411, 412, 413, 414, 415,\n",
              "       416, 417, 418, 419, 420, 421, 422, 423, 424, 425, 426, 427, 428,\n",
              "       429, 430, 431, 432, 433, 434, 435, 436, 437, 438, 439, 440, 441,\n",
              "       442, 443, 444, 445, 446, 447, 448, 449, 450, 451, 452, 453, 454,\n",
              "       455, 456, 457, 458, 459, 460, 461, 462, 463, 464, 465, 466, 467,\n",
              "       468, 469, 470, 471, 472, 473, 474, 475, 476, 477, 478, 479, 480,\n",
              "       481, 482, 483, 484, 485, 486, 487, 488, 489, 490, 491, 492, 493,\n",
              "       494, 495, 496, 497, 498, 499, 500, 501, 502, 503, 504, 505, 506,\n",
              "       507, 508, 509, 510, 511, 512, 513, 514, 515, 516, 517, 518, 519,\n",
              "       520, 521, 522, 523, 524, 525, 526, 527, 528, 529, 530, 531, 532,\n",
              "       533, 534, 535, 536, 537, 538, 539, 540, 541, 542, 543, 544, 545,\n",
              "       546, 547, 548, 549, 550, 551, 552, 553, 554, 555, 556, 557, 558,\n",
              "       559, 560, 561, 562, 563, 564, 565, 566, 567, 568, 569, 570, 571,\n",
              "       572, 573, 574, 575, 576, 577, 578, 579, 580, 581, 582, 583, 584,\n",
              "       585, 586, 587, 588, 589, 590, 591, 592, 593, 594, 595, 596, 597,\n",
              "       598, 599, 600, 601, 602, 603, 604, 605, 606, 607, 608, 609, 610,\n",
              "       611, 612, 613, 614, 615, 616, 617, 618, 619, 620, 621, 622, 623,\n",
              "       624, 625, 626, 627, 628, 629, 630, 631, 632, 633, 634, 635, 636,\n",
              "       637, 638, 639, 640, 641, 642, 643, 644, 645, 646, 647, 648, 649,\n",
              "       650, 651, 652, 653, 654, 655, 656, 657, 658, 659, 660, 661, 662,\n",
              "       663, 664, 665, 666])"
            ]
          },
          "metadata": {
            "tags": []
          },
          "execution_count": 73
        }
      ]
    },
    {
      "cell_type": "code",
      "metadata": {
        "colab": {
          "base_uri": "https://localhost:8080/"
        },
        "id": "gL7aCG2HTjv6",
        "outputId": "0d479f33-dbe1-450b-b02c-099e963551b7"
      },
      "source": [
        "test_sentences"
      ],
      "execution_count": 74,
      "outputs": [
        {
          "output_type": "execute_result",
          "data": {
            "text/plain": [
              "array(['sugarkaga nadandhava vida figuregaga nadandhavan dhan adhigam',\n",
              "       'i have come for my stones      stones thaane.. nalla cheap aana price la namma kalyan jewellers la kedaikkum',\n",
              "       '\"special porotta\" nu pottuierukke spacial kum sadhavukkum yenna vidhiyasam..?     rendukkum oru naal dhan vidhiyasam..',\n",
              "       '*we : amma .. cooker 3 whistle vanthuchu off panniten...',\n",
              "       'creating whatsapp group - 1st day vaanga ji.. vaanga ji.. ellarayum add pannunga ji TEAM WORK PANROM...ENJOY PANROMM..   AFTER ONE WEEK ... ENNAYA..? IVLO AMAITHIYA IRUKEENGA? ETHACHU PESUNGAYA',\n",
              "       '*FOODIE : YAARUM PAARKKAMAL ENNAI PAARKIREN ENNAI ARIYAMAL UNNAI PARKIREN',\n",
              "       'MARGALI MAADHA EFFECT YENNA KULLURU',\n",
              "       'YENNAMMA FEEL PANNI YELUTHI ERUKRANDA AVAN',\n",
              "       'TAMIL SERIALS BE LIKE... INI AVARUKKU BADHIL..... IVAR',\n",
              "       'Mama ponnu Expectation reality',\n",
              "       'pondatti yennai thittum bodhu... eppavum unga amma pechai dhan kepingala.,,? en maganai thittum bodhu... amma pechai ketkave mattiiya...?',\n",
              "       'mattai adakuvatharku en mutha ponna kattikoduppen... yoo maams kannukuttiya adakitten ilaya ponnu ennakkudhan...',\n",
              "       'ada paavi payale',\n",
              "       '*(me)ENGINEER : ennoda maasa  sambalam 30aayiram... unga ponna nalla pathukka idhu podhadha?   *mamanar : en ponnukku naan kodukkura pocket maneyye 25aayiram oru masathukku       sorry mama...adhaiyum sethudha 30aayiram endru kurinen...',\n",
              "       '#10years challenge..... *2008 : NET RECHARGE PANNA 30RS KUDU AATHA... *2018 :  NET RECHARGE PANNA 300RS KUDU AATHA',\n",
              "       'IDHUYENA PRAMADHAM ELECTION VARTTUM IDHAVIDA SPECIAL AACHIYANGALLAN KATHUERUKKU..',\n",
              "       '*PEOPLE: MATRAM MUNNETRAM ENRIRE ADHARKU YENNA ARTHAM  *JINGLE BELL : PETTIGALAI KAI MATRI NAAN MUNNERUVEN  YENDRU ARTHAM',\n",
              "       '*TN PEOPLE : ADA ARAIBODHA NAAYE',\n",
              "       '*SIMBU : NAMMA MASSU ENNA NU KATANUM! ENAKU ANDAL PAAL UTHUNGA!     YENGA VEETULA ANDA ILLA!',\n",
              "       '*MOM : VEETULA IRUNDHA ANDAA VAYUM PAAL PACKET UM KANOM      *BANNER JEE FANS',\n",
              "       'ONLY FOR 90S KIDS SCHOOL DAYS   *PANAKARA VEETU PULLAIYA ERUPPARO',\n",
              "       'BEAUTY CARE  #OTHER GIRLS    FOFR MY BESTIE     #ME : NEE DHINAM KULICHAA POTHUMAE, VERA YATHUVUM VENDAAMAE',\n",
              "       'VATHIYAR : CURRENT POGUM BODHU MUTHALA YEDHAI YEDUPINGA? TORCH LIGHT, EMERGENCY LIGHT?  RENDUMILLAI SIR, APPA PACKETLA ERUKKIRA PANATHAI YEDUPPEN SIR...',\n",
              "       'DEI NAMMA ANDREA DA..',\n",
              "       '#2K KIDS : INNAKKI VENNUMNA NEENGA ORE VEDIYILA 7 SHOT VEDIKKALAM......  #90 KIDS : AANA NANGA ANNAIKE 7 BIJILI VEDIYA ONNA THIRICHU ORE VEDIYILA 7SHOT VEDICHAVUKAPU!!!',\n",
              "       '100CR... 125CR... NEENGA EDHACHU FEEL PANRINGALA??  *SIMBU : CHA CHA NAAN RAJA AH VANTHA ASSAULT AH 150 CR EDUPANGA..',\n",
              "       'DECENTA KENJUFYING MY SISTER .. PROGRESS REPORT LA APPA KITTA SIGN VAANGI KUDUKARIYAA PLEASE',\n",
              "       'THONDARGAL    *CAR OOTUNAR   *VEETUKARAR',\n",
              "       \"WHEN 90S KIDS WATCHING THIS SERIAL...  ~90'S KIDS  : NAMAKU VEELAIKKAARI AMAIYULA... VEELAIKKARI VAIKURA ALAVUKKU PANACASITHYUM AMAIYULS...\",\n",
              "       \"COLLEGE AMAIVATHU ELLAM +2 KODUTHA VARAM... OFFICE AMAIVATHU ELLAM AVAN AVAN SEITHA VINAI... NAMAKU COLLEGE'UM OZHUNGA AMAIYALA...OFFICE'UM OZHUNGA AMAIYALA INTHA PAGE'AAVATHU MAINTAIN PANNUVOM..\",\n",
              "       'WHEN YOU ARE GOING TO BANK FOR THE 1ST TIME... ENAKU YAARACHUM CHALLAN FILL PANNI THARINGALA',\n",
              "       'ORU PAIYANA ENGINEERING CUNSLLING KOOTITU POI SERTHU VITTUTEN 4 YEARS KU APROM AVAN MOGATHULA APDI MUZHIKKA POREN NU THERILA',\n",
              "       'VEETUKU PONA KUDIKA ORU VAI THANITHARADHILLAI WHATSAPP LA MATTUM GOODMORNING TEA KUDI COFFEE KUDINGRADHU',\n",
              "       'BIOLOGY GROUP IN SCHOOL STUDIED ENGINEERING NOW PREPARING FOR BANK/GROUP EXAMS',\n",
              "       '*MY FRND : NEE PAATHA..?',\n",
              "       'EPPAYAACHUM OLARNAA PARAVAALA EPPAYUMAE OLARNAA EPDI',\n",
              "       'HELMET PODALANA THALAILA ADIPATTU SETHURUVINGANU DHAN GOVERNMENT HELMET PODA SOLLUDHU..     ANNE APA TASMAC..   ADHU LIVER... VERA DEPARTMENT..',\n",
              "       'UNGA TOOTH PASTE LA UPPU IRUKKA?  ENGA COLLEGE SAAPADULAYE UPPU ILLA UNAKU THOOTHPASTE LA UPPU KEKUDHA?',\n",
              "       'NEENGALUMDHAN YENDHA KUTTAMMA ERUNDHALUM THAMARAI MALARNDHE THIRUMNU SOLDRINGA.. NAANAGA KEKKALA.. ANDHA MATHIRI DHAN.!',\n",
              "       'KUDIKAMAL VAGANAM OOTUBAVARGAL KAVANAMAGA SELLAVUM! EPPADIKKU KUDITHUVITU VAAGANAM OTTUBAVARGAL...',\n",
              "       \"EVERGREEN COUNTER MANI IS BACK...  MEDAI MELA YERITTA 'YENNAKKU VAZHTHA VAYATHILAI VAZHTHA VAYADHILAINRANGA' VAYASUILLANA VITTURUNGA DA VAYASUKKU VANDHADHUKKU APPURAM VAZHTHUNGA\",\n",
              "       'PADU SONNA PADUTHU THOONGURA KUZHANTHAIGALAI VIDA...  PADINU SONNA SECONDE PADUTHU THOONGURA KUZHANTHAIGAL DHAN ADHIGAM...',\n",
              "       'SUPER....! KAVIDHAI    ',\n",
              "       'NANBAR ORUVER AVAR MANAIVIKKU AASAIYAI VAANGI KODUTHA 24 CARRROT CHAIN..',\n",
              "       'PROVED', 'OREY ORU PADAM THAN NADICHEN TOTLE LIFE UM CLOSE',\n",
              "       \"*90'S KIDS : IVA THAAN NAAN LOIVE PANNA PONNU... INTHA VISHYAM AVALUKE THERIYATHU\",\n",
              "       '*MC : HOW MEME CREATORS SEE BIGBOSS',\n",
              "       \"THAT OVER SENTIMENT REACTION GOING TO HOSTEL AFTER VACATIONS:'(\",\n",
              "       '*DHANUSH : NAMMALUM VIP3 EDUTHURA VENDIYATHU THAN KANDIPA HITA AIDUM',\n",
              "       'Mathiyanam than sapitonae enama thukkam varudu..',\n",
              "       'Users mindvoice :speedaiyum usageayum patha Airtel 3g Mari iruku',\n",
              "       'Biggboss season 1:kunthani GAYATHRI  biggboss season 3:lambodi vanitha',\n",
              "       'Enga erunduda eppaditha yochikiringa nan Kuda oru nemisathula jusunu nenaichuten da',\n",
              "       'Taka taka',\n",
              "       'Indhanga indha maasam unga vetuku supply panna pall bill ennadhu 5lakhs bill uh ',\n",
              "       'Kulichutu pita charts orumaninerathula nanajuduru mudiyala',\n",
              "       'No captions',\n",
              "       'Kamal with male contestants July Kai Kuda po Kamal with female contestants',\n",
              "       'Ennathu ithu! Wonder women',\n",
              "       'Na kupudavaelaye da Gama.. enga appana podum bodhi engada irundhinga',\n",
              "       'HEROINE kulichutu Ulla poranga HERO look vidraaru ENGA PINADIYE ODRAN ?? ',\n",
              "       'Girls before rain after rain',\n",
              "       'Manga phone panni neenga eduthutalum nanga asantyuthan poiruvom',\n",
              "       'No captions',\n",
              "       'Aunty aunty enaku Jonny sins nadicha padathula iruthu podunga  aunty',\n",
              "       'Irandhu Pina prabaiaran photo cachi politics panuna ntk',\n",
              "       'Vulagin thalai sirantha sol kuttani',\n",
              "       'Ungakita michamethi Lundy erunda unga uru MEDIA Mela potuvidunga Nadu nullarukunu sonnanga',\n",
              "       'IN VETTAIYADU VELAYADU MOVIE(2006)than saavai sattai  paiyal vaitu engayum selginren',\n",
              "       'Edu serupu nadhari payale ',\n",
              "       'Enna krumoya idhu karumo illainga varma', 'No captions',\n",
              "       'In Mariana mass song DEI Yarra nee..!!??Yara iTunes Enna sendu aadra',\n",
              "       'Les fulla irunda than Nalla irukku ',\n",
              "       'Kadhal sillaruku khadal pu', 'Dad naangalaam Andhra kaalathula ',\n",
              "       'IPO eduku da pal Vadi Ku daily Vara en future wife ha pakka than',\n",
              "       'No captions', 'No captions', 'Mural pasam ronba konjam irukku',\n",
              "       \"DEI tyagappa happy father's Day da \",\n",
              "       'Annual dayku aduvom paru oru danceha nannarwy nanaraey..',\n",
              "       'Param.. indha list la irunkranga ellathayum potu thallidu',\n",
              "       'Haha haha arumaiya aonninga maika bengalae',\n",
              "       'Sagasam ennathu onumilla December masathula pachai thanila kullikuradhu thanenna kulliru',\n",
              "       'Teacher shockzzz.. captain rockzzz!!!',\n",
              "       'DEI..love da..love Vida oru pinna ibdi tha papiya..',\n",
              "       'Ivaruku yaradhu chance kudungata pavam',\n",
              "       'Puthusu puthusu Kandy pudirangale... Ukkandhu yosipangalo',\n",
              "       'Oruthan matum thaniya nadae uruvakitu irukan ',\n",
              "       'Apron ivungalae dieting nu scene in poduvangalam', 'No captions',\n",
              "       'Maduraiku vandha mathuvaiyayum city vaikadha kabali kichal magilchi',\n",
              "       'Plastic arisila piriyani push psunu Satyam varama Pina pesela vaisasada varum',\n",
              "       'Our area Kari Kada bhaai remains foreverr',\n",
              "       'Nan asingama edhavadu ketura poran thanbi',\n",
              "       'Mech hod and English mam are secret lovers',\n",
              "       'Thirumba candy patha setups kano',\n",
              "       'Nee mass na NAA pakka mass adhu Pina madam nee mass na NAA double mass idhu intha maasam',\n",
              "       'inimel na yepudi da daily milk sapuduven', 'No Captions',\n",
              "       'kadaisi aiudhatthai yedutha anbumani   payabulla alugaila nammaiye minjitane',\n",
              "       \"any plasthri today?   yeah  it's me  \",\n",
              "       'sangili karuppe.   sangili karuppa irukkam',\n",
              "       'probably, the only hero who can  find the missing malysian flight MH370  under the Indian ocean    SEND THIS MAN IMMEDIATELY',\n",
              "       'vun pondati kaluthula kattuna thali kuda nambamudiyala pa  aana indian teamla  kholiya thairiyama nambalam pa',\n",
              "       'share seidhal vungalukku nadakka irukkum  aabatthukal vulakum  yenga vilaga',\n",
              "       \"DEAR BOYS !!   DON'T WASTE YOUR TIME FOR FOLLOW A GIRL   BECAUSE YOUR FUTURE WIFE  WAS WATCHING POGO AT SAME TIME \",\n",
              "       'SUYAMA SINTHIKA THERINJA ELLARUM SUPERHERO THAAN ATHU ENGA INGA IRUKU... HAAAN NEXTU',\n",
              "       'WHILE WATCHING DEV  YEPPA MOUNT EVEREST NU SOLLITTU...   ABIRAMI SNOW WORLD KAATIRUKANGA PA',\n",
              "       'Captain vijayakanth in america    Hello !! na captain America pesura  Na America la irunthu captain tha pesura !!!',\n",
              "       'Mention those talented Dancers And wish them a Happy international dance day',\n",
              "       'priya vera swetha vera illa da ellame fake id than da',\n",
              "       'ambala...ambala  actionu...actionu',\n",
              "       'commit aagitu break up panravan lam single illa da..!    enna maadhri apolerndhey commit agama irukravan dhan da single uh....!',\n",
              "       '\"bajaka aatchil sirupanmaienarukku aatchi vunavu vandhulladhu\" -  sarathkumar     apa yedhukku sir bjp irukira admk kuttanikku aadharavu koduthinga.!',\n",
              "       'inga paarudi.... periya panakaarara iruppar pola bank ku adikadi vandhuttu porar   naane.. adagu vecha nagaiyai vatti katitu poren... ivaluga vera....',\n",
              "       'WHEN YOU ENTER COMPUTER LAB IN SCHOOL/COLLEGES AFTER REMOVING SHOES AND SOCKS   AND WHEN YOU FIND OUT   THAT ONE GUYS WHO DINT WASH HIS SOCKS',\n",
              "       'kadail nagai vangi... vittula vecha panakaran...  bankla vecha nadutharam....   kadailaye irukkatumnu vittu vitta yelai....',\n",
              "       'athimuka kuttanikku  j.dhipa aadharavu...!   asaikkamudiyadha sakthiyaga vuruvedukkum  athimuka  kuttani...!     news7la yaaro namma paya velai pakkuran...',\n",
              "       'WTF!!!??!!   chetta, oru chaya,,',\n",
              "       'vayaik katti, vaitha katti setthu vechikittu akkadannu vukkarumbodhu ....   vungaluku sugar irukkunnu solvaan paaru....!    irumba vaaiyai kattu vaitha kattu.....',\n",
              "       \"aravind english  5 viralileye angilathil pesalam vanga!   ARAVIND'S ENGLISH\",\n",
              "       '*My parents crying while watching the emotional scene between simbu & ramya krishnan during VRV climax*    Me: *Laughing*   Parents:  Why you laugh?  Me:  Nothing.  My mind:  pottu thaaku',\n",
              "       'ennada totaal idhu?  epdi nee 450ku mela edutha?  actually dad... naan ungalku surprise kuduklam nu thaan munnadiye ivlo varum nu sollala',\n",
              "       'WHEN KASTHURI ENTERED IN BIGG BOSS HOUSE   EXPECTATION   REALITY',\n",
              "       'Dei thagapa vun aalu vupuma senju yeduthuttu varudhu, vada olinjikira maadhiri nadipom...',\n",
              "       'Enna sundar c manasula stan lee nu ninaipp ah cameo ellam panra',\n",
              "       'rahul dhaan indiavin adutha piradhamar- stalin!       stalin dhaan adutha mudhalvar - rahul!',\n",
              "       'velaikku poravangalukkum vela seira idathula mattumdhan padhil sollanum...  velaiku podhavangalukko pakuravangalukkellam padhil sollanum... ippo sollanum.. ippo sollunga yarukku velai jasthi....',\n",
              "       'indha puli pandi bayangaramanavan dhan aana tamilnadu makkal ku illa',\n",
              "       'aadhi parvadhi kalyanam serial innaiyoda mudinjirum nu nenachu  silirthu poi sillarailam vittu yerunjen',\n",
              "       'ella velai um pannitu enna look ah paru',\n",
              "       \"yarunne theriyama, yedha pathium kekkama, 'like' podura andha manasu irukke...  adhaan sir 'kadavul'\",\n",
              "       'jus in : actor  #str to release a new video later this evening / night...  will address all those controversies that came out from his last two videos...',\n",
              "       'indha thayoli vera',\n",
              "       'When class bores  dei kudra kudra andha notesaium penavaium',\n",
              "       'pudhusa vidu thedumbodhu safety irukkannu pakkuravan manusan...  akkampakkathula yedhavadhu scooty irukkannu pakkuravan periya manusan...',\n",
              "       '\"tamilagathukku yendha thittangalum  kidaikkapovadhillai\" premaladha          aama, ni  yaaru..',\n",
              "       'At college canteen  aaha masal vada masal vada dhaanda     adhula padhi yenakku',\n",
              "       'oru naal namakku pidicha maadhiri namma valkai maarum     adhukkulla namaku yena pidichadhunne namakku marandhu poidum...',\n",
              "       '\"ATHAVATHU, RU INDIAN FAST BOWLER KULLA IVLO THERAMAYA NU ELLARUMKUM PORAMA DA\"',\n",
              "       'Did you study for the test?  1st bench students  1 week munnadiye padichiten    Middle bench studnets etho read pannirukken machi    Last bench rockers  enathu test ah ? :0',\n",
              "       'yov, vunnoda maattai katti podamattiya?   adhu yennoda vayalai naassam panniduchu...     adhu lonla vangina maadu.  maasam oru murai kattina  podhumnu sonnanga...',\n",
              "       \"padikattil thadukki vilundha pradhamar modi    GOOD NEWS      padikattil thadukku vilundha 'predhamar modi'  kayam yedhuvumillai yena thagaval\",\n",
              "       \"Dei ena dubmash'uh panuriya...   Manasula Enna Vasantha maaligai sivaji nu ninapa\",\n",
              "       '  WE PRONOUNCE 22 AS TWENTY TWO  33 AS THIRTY THREE, 44 AS FORTY FOUR, 55 AS FIFTY FIVE    WHY NOT 11 AS ONETY ONE?',\n",
              "       'chinna vayasula chaakpeese, balpam thinna naai nee ipo unakku pizza, burger kekudha',\n",
              "       \"medhuva pora vatthukku   yevanda 'ducku'nu per vechadhu?\",\n",
              "       'veliye vulla anaithum Bore aditha pin Facebook vandhen   ipoludhu ingeum bore aditthan naan yengu poven santhi?   yengu poven?',\n",
              "       'naan avarai parka.!!  aval yennai parka..!    yengalai aval annan parka..!!   kadaisieil..!    .......  yennai yellorum aspathirieil vandhu partthanar..!!',\n",
              "       'namma yen sanda podurom....   namakulla yenna pagai.... inga yenna nadakkudhunnu theriuma?        modhalla andha mottaikku tamil theriuma?',\n",
              "       'mixie grainder yericha adhu \"thalapathy rasigargal\"   petha appavai yericha adhu adith rasigargal ',\n",
              "       'dei dharmasena pindriyaeda nadipula...!',\n",
              "       'goosebumps when captain received that axe....    infinity war?    gajendraaaaa...',\n",
              "       'kaali yenga pora!!    vaila vasambu vechi thekka aattha kadandhu poren da   kadandhu poradhu dhana da valkka',\n",
              "       'thambi, onsite innum pogalaya?  idhu enthaai naadu, idha vittutu naan engayum poga maaten naa enna maatenna solren, innum andha lottery vilundhu tholayala ma',\n",
              "       'kamal mudhalvaranal kaveri varum  - sripriya..    avan kupta govthamuye varadhu... apuram yeppadida aaverila thanni varum...!',\n",
              "       'yella bus\\'layum  \"thirudargal jakiradhai\"nu  potrukangale??    niyayama, \"payanigal jakkiradhai\"nu dhane ponanum??!!',\n",
              "       'after hearing saravanan eviction   aparam camera la avanga mattum focus ayiduvanga la',\n",
              "       'suthuradhu  thappunnu appa, amma sollum podhu puriyala...     ippo download pannum podhu dhaan puriyala...',\n",
              "       'mokka padam sandakozhi 2 6.30 manikkam   ana super padam ratchasan kalaila 11.00 manikam',\n",
              "       'DREAM 11 PARITHABANGAL   MUNNADI LAM NAAMA SUPPORT PANRA TEAM WIN PANNANUM NU THONUM IPPA NAAMA SELECT PANNA SQUAD LA IRUKURAVAN AADUNA POTHUM NU THONUTHU',\n",
              "       '2009    2019',\n",
              "       '~ when i see this cover  aiyo namma kai vera summa irukkathe',\n",
              "       'yes boss na atha pathen    H.Raja',\n",
              "       'DEI ORU 5 NIMISHAM REST KUDURA  YENDA IPDI GAP UDAAMA USE PANNI SAVADIKURA PARADESI KARUMA KARUMAM',\n",
              "       'sir ungala suspend pannitanga si sir paathu no arunachalam adithya arunachalm',\n",
              "       'YEN SIR SAAYURINGA YEN SAAYURINGA',\n",
              "       'MY APPA AMMA WHEN HE SEE ME STUDYING SINCERELY',\n",
              "       'In tamil movies     keukkuranam',\n",
              "       'yema kolandha alugudhu..  yennu theriyallaiyemma...   sari sari smart phoneah kudu..    ni  kolandhaiya irukkacha naan smart phoneah dhaan koduthen...',\n",
              "       'No Captions', 'TV remote la irundha  \"battery\" enga..?',\n",
              "       'yenna kulandhai?  yendha school?   yethanai arrear?   yenna sambalam?  yeppo kalayanam?   yetthanai kulandhainga?  vudambukku yenna?  sethutara?      ivalavudhanga valkai!',\n",
              "       'kairula thongura vayasa kilavi vunakku',\n",
              "       \"kaila regayae illadha unaku edhuku da    fingerprint lock mobile'uh\",\n",
              "       'EII!  ELARU VANGA DA COMMENTARYPANNA POGANU    NEE YARU DA KOMALAI',\n",
              "       'No Captions',\n",
              "       'ADUTHA JANMAM NU ONNU IRUNDHA ADHULA PAZHI VAANGAMA VIDAMAATA INDHA NEELAMBARI  SUN TV VAMSAM SERIAL       PADAYAPPA VA DAANE PAZHI VAANGREN NU SONNE MOKKA SERIAL AH PANNI NAMMALEY PAZHI VANGIRIYE DI',\n",
              "       'ANY ONE NOTICED THIS IN THE SONG',\n",
              "       'manaivi::    yenanga...   rathulla puliyai karachi vutha marandhutten.. ninga onnum sollama sapiduringa...    kanavan ::   ni rasam vaikka porennu sonnapave.. yen vaithula puliya karaicha maadhiridhaan irundhadhu.',\n",
              "       'Side role  nadichittu loose   mathir kiss reaction vera..!!!',\n",
              "       'final year   mudicha piragu    nanbargal ondru serkum ore vishaiyam arrear',\n",
              "       'adhigama pesura vaiyum  roadorathila thongura naayum  adi vangama ponadha sarithirame illa...',\n",
              "       'thambi neeya pa....  unna vachi thaanda intha appola(idly) box office a beat panna porom',\n",
              "       \"DAPO AIRTEL THAAN WORLD'S  FASTEST NETWORK APDI THAANE   AMA SIR. ..NAAGA TEST PANI PAATHOM AIRTEL IS THE BEST NETWORK\",\n",
              "       'YEN DA advertisement aha irundhalum oru niyayam vendama da....',\n",
              "       'kalai yelundhadhum yen kangal mudhalil thedipidippadhuthan mugame.!!  thokkam varugail kan parkkum kadaisi kaatchikul nirbathum vunmugame',\n",
              "       'After seeing reaction    yennada panni vechirukinga',\n",
              "       'busil naama thongina sogusup payanam...    trailer  thongina  irudhip payanam....',\n",
              "       'naadi, nirambu, puthi, sadha pippadi yellathulaium  drawing vera oodura  oruthanala dhaan ippadi varaiya mudium',\n",
              "       'yengeum pogamal thinam vittileye ni vendum...     adhukku ni  engineering padicha paiyana dhaan pattanum..',\n",
              "       'AAMA UM PERU ENNA?  BLACK WIDOW     KALYANAM AAYIDUCHAA?   ILLA!!   KALYANAMAE AAGALA WIDOW NGARA?',\n",
              "       '5 YEARS  15  YEARS  30 YEARS',\n",
              "       'amma innakki yenna soru?   kari soru   koli kariya illa aatu kariya    kaikari',\n",
              "       \"yennada sattai'ya kuda matthama appadiye poi pose kodutthu vechirukka....!!!!\",\n",
              "       'OH MY GOD!   yenga mama yengala  yematthitarora...!    irundhalum pallandu vazha vazhthukkirom..',\n",
              "       '10 years challenge',\n",
              "       'during school days    me& frnds :  anna mail check  pananum last system kodunga     browsing  center  anna:',\n",
              "       'returning from foreign   how our parents see     how our best friends see   how our relatives see',\n",
              "       'dai enna da thinking   illa atlee flash back la ivanga 20   pethula yara savadika poraru nu thinking',\n",
              "       'when y ty to give away a damaged 10rs note along with good notes  and the shopkeeper',\n",
              "       'No Captions',\n",
              "       'my reaction -    when out maths mam asks who can solve this problem...   mam ivan nalla solve pannuvan mam....',\n",
              "       'seri ealo naal 2019 ah \"19\" use pannity irunthiyae yarachum 1900.1990 nu mathi iruntha!?     aiyayoooo adha maranthutan',\n",
              "       'No Captions',\n",
              "       'city based movie:   comedy:  sathish   music director: anirudh   village based movie:   comedy actor : soori  music director:  iman',\n",
              "       'No Captions',\n",
              "       '10 varudathukku munnadi...  vadai ondru - ru 1/-     calla charge ondru- ru 10/-   but,  ippo...   \"vadau ondru - ru 10/-   call charge-1 ru 1/-    technology valarndhu  yenna panna???    \"vada poche....!!!\"\"',\n",
              "       '12th toppers       m3- pasanga romba aarvama irukanga...  seekram  muduchuru',\n",
              "       'every morning    that thookathulaye alarm uh turn off panra moment',\n",
              "       'No Captions',\n",
              "       'mannenna veppenna velakenna   inime IPL  la entha tea vilayadina enakenna???',\n",
              "       'shahid afridi   oru kalathula thama thoonu bata vachukinu 37  balla 100lam adichirukaru.  pavam ellamkalaichu ipdi ayitaru!',\n",
              "       'Breakfast      Breakfastai dhaan appadi yeludhi  irukkan...',\n",
              "       'thelungana manila  aalunaraama thamilisai    savundhararajan  niyamanm !',\n",
              "       '10 years challenge',\n",
              "       'WHEN MY MOM ASKS MY 10TH MARKS TO COMPARE WITH PAKATHU VEETU SMALL BOY',\n",
              "       'WHEN I UPLOAD SAD STATUS   FRIEND :  VIDU MACHAN UNA VITTU PONATHUKU AVA THAN FEEL PANNANUM    INNUMA DA ITHA SOLLITU SUTHURINGA',\n",
              "       'oru pen yendha yedhirpum kaatamal oru aan solvadhau  kettu amaidhiyaga nirkiral yenral...     nichiyam andha aan  photographeraga dhaan irukkum..',\n",
              "       'i dont think onyone can replace my reacstion one can  !  ',\n",
              "       '  adhu bat vangunadhum adhu vudaiyama irukka nul sutthuradhukku nanga patta paadu irukke',\n",
              "       'No Captions',\n",
              "       'WHERE THERE ARE MORE VEGETABLES IN THE NON- VEG  PIZZA THAN IN THE VEG ONE      PIZZA CORNER',\n",
              "       'indha mangai andha ilaiyaga mara podiradhu...         indha parinama maatra inaippu yeppadi sathiyamagum...    idho... ipadi...',\n",
              "       'GOING TO MUSLIM FRND HOME ON RAMZAN  ENA DA BIRIYANI AH ??   CHUMA PATHUTU POLAMNU',\n",
              "       '#10YEARS CHALLENGE FOR BEARDLESS GUYS',\n",
              "       'naa eathukaga aanda la paal uutha sonnen theriuma...eathuku...?    nalaiku ennudaiya edhirkala rasigarkal plastic cover- galai ubayogika  kudathu enbadharkaga....   thooya tamil uh..   aiyoo entha trend la ponalum lock p andranae....',\n",
              "       'FINALLY TWITTER IS VERIFIED BY SUPERSTAR    ',\n",
              "       'yellarukkum mugavariyai andru irundhen...   indru yenakku mugavari illamal ponadhu....!',\n",
              "       'No Captions',\n",
              "       'adhavathu intha t shirt uh 1499 uh ne offer poga 424 ku thara !  apidithana?    aama nea.. enna panrathu nea..  makkal ellam romba kastathula irukanga athunal tha!  offer poten!',\n",
              "       'after post memes      that couples tag conversation...       admin ',\n",
              "       'naan veliye irukkiten makkalaipathi  pesuren,  pesuravanga pesikittu pogatum       naigal roadla kuraikkum, adhai ni porutpaduthuriya?       iva oru aalunu support pannigalada ava ungaluku kudutha paaru oru certificate  nai nu...',\n",
              "       'during project review    developer ivardhaan aana avar source code pathi naan pesa maaten',\n",
              "       'aiii amala paul      indha pillaya ivankitta irundhu kappathi ulla kootipongada',\n",
              "       'WHENEVER DHOST NEEDS A HELP',\n",
              "       'indru kaalai kan vilithen.... oru vidhanaama salippu yenakku.....   yen indha oottam..   yedha nokki  oodugirom  yendru ninaithu kadigaram paarthen...   adhu yennidam pesiyadhu...     naan oodavittal ni yenna seivai... yennai thokki yerivaai...   nium oodavillal  vulagam vunnaium....  naan ooda aarabithen.',\n",
              "       \"tamanna creates a fire accident in PAKISTAN, by breaking gas cylinder..     ithula sogamennana,  PAKISTAN'LA  BHARATGAS kedaiyathu...\",\n",
              "       'ponnu gunam yepadinga...   nalla ponnu.  cellphone illama, irandu mani neram iruppanna   pathukonga..',\n",
              "       'ANIRUDH, EVERY 5MINS IN DARBAR    THALAIVAAAA.... SUPERSTAR      DEI DEI... ATHELLAM PADAM PAAKA VANTHAVANGA KATHUVANGA DA...  NE MUSIC MATTUM PODU',\n",
              "       'anirudh sharma',\n",
              "       '+2  MATHS CENTUM STUDENTS     M1  M2  M3   ENGINEERING MATHS',\n",
              "       'my words when my dad asks about arrears   arrear\"ngurthu naama thedi pora viasayam illa, namma thedi vara visayam',\n",
              "       'oru postkku 100 likes vanguna 78  likes dhaan ini kaatumam   yendi apidi      22  likes GST  vari yam',\n",
              "       'YARUDA IVAN 3 BEER AAH KUDICUTTU IPPUDI PERFORM PANNURAN',\n",
              "       'pakkathu vittukaran kaichalla irukkannu pakka ponen...   yennaiya...   vudambu  ipidi kodhikkidhu???   nnu  ketta    *neruppuda...*     *kabalida...*nguran   *savuda...*nnu sollittu vandhutten',\n",
              "       'computerla pundhu vilaiyadura   ada paavi del panradhu CD copy panradhum  computerla pundhu  vilaiyaaduradhada hackers vundana mariyadha pocchada vunnala',\n",
              "       'arasu palligala padikkuradhu   gowravakorachala...    aana  medical, engineernga lam  arasu collegela padikradhu gowravama...',\n",
              "       'No Captions',\n",
              "       'PURATAASI MAASAM OVER.  PEOPLE REACTIONNOW   NIRPADHUVE, NADAPADHUVE, PARAPADHUVE  NEENGAL ELLAM SOWKIYAM THAANAA ?',\n",
              "       'adhisayame asandhu pogum vun selfie adhisayam',\n",
              "       'sir parichai paperla muttai podadhinga sir....     yenda puratasi maasam viradham  sir...',\n",
              "       \"VRV release day simbu's  cutout   \",\n",
              "       'That reaction of my family when....     i enter the house after a haircut!  ',\n",
              "       '\"aadai\" padathi aadai illamal nadithadhu magilchi alikkiradhu!   - amala paal        \" paadai\"nnu  oru padam yeduthu adhula yeri padutha apadiye  yengavadhu tholanji poidu!',\n",
              "       'en peru manohar..!!  area la chellama Mr. Local nu koophuvaanga..    Manohar ndra perlam local ah vae illa poda dei...!!!  ',\n",
              "       'FIRST ZOMBIE MOVIE IN TAMIL CINEMA',\n",
              "       'ava kannam   adhu bunnu maadhiri   ava sirippu   adhu jinnu madhiri   ava parvai   adhu vera madhiri botha yethu thu daw',\n",
              "       'manaivi:  naan oru rendu  mani neram veliya poren.  vungalukku yedhavadhu venumma?    kanavan:  vendam. yenakku idhuve  podhumm....',\n",
              "       'kanavar: innaikku kalail yennama tifan panni irukka?   manivi:  ravai biriyani   kanavar:  ravai biriyaniya   vithiyasama irukke...?    manaivi:  pinna vuppumannu sonna sapidi matingale...',\n",
              "       'yenna maadhiriye irundhan   vunmayava   ni nambanalum adhaan nijam...    ????????',\n",
              "       'appo vunga phone um verified account um hack aagi tha photola leak agirukku apdithana?   ama ama fans its hacking believe me and support me...!',\n",
              "       'thambi, on site innum pogalaya?    idhu en thaai naadu, idha vittutu naan engayum poga maaten  naa enna maatena solren, innum andha lottery vilundhu tholayala ma',\n",
              "       'aathi yenna Black & white ah irukku  appo nanakkum white figure dhaan aamium polaye',\n",
              "       \"i love you!  enaku aaliruku! yeppa 'breakup' aagum!     list la name, number eluthitu po !  breakup aanathu 'missed call' tharen\",\n",
              "       'NA KOODA UNA HEROINE NU LA NINAICHA',\n",
              "       'IF YOU KEEP A peacock feather in your notebook, it will give birth to many more feathers!',\n",
              "       'Manase sari illa     ippo  yennachinu yellarum kekkanu adhena?',\n",
              "       'THIS CAME IN A ANNA UNIVERSITY QUESTION PAPER!  BOWLING AH FIELDING AH?  ',\n",
              "       'GODHAVARI :  YENNANGA.. YENGA IPDI  PANNIKITEEMGA..   VISU: YENPULLA ENNAPATHU ICE BUCKET CHALLENGE THERIYUMAANU KAETUTAAN GODHAVARI',\n",
              "       'vanthuta vanthuta....',\n",
              "       'Macha... indha ponnu mokaya irukku da     adhey varthaaya andha ponnu una pathu sonna?',\n",
              "       'appa konjjjjam mark kammiya vandhuruku',\n",
              "       'Makkal eppavum controversy create panravangalukku dhaan vote poduvaanga  oh  appadiyaa vishayam',\n",
              "       'when someone say clearing aptitude round is very easy       sarath kumar is feeling blessed with his second pondatti radhika oda first purushan ponnu oda \"apiyan\"    ask them to read this caption',\n",
              "       'pubg  conversation      guys back door valiya ulla poi attack pana porom ena cover pni follow panunga',\n",
              "       \"thambi, placement la firstu select aagurathu mukkiyam ill correct'ana time la CALL LETTER  varanum... athaan mukkiyam\",\n",
              "       'evening, saaho polam variya??  evening, saaga polam variya nu kekraan',\n",
              "       'indha green tea kudikkuradhula yenna benefits theriuma?    adhaan weight koraiumguranga?    adhaan illa.. naan sonren kettuko/   periya panakkaran maadhiri gethu kattalam..    paalukku selavu pana  vendam.   adhukuda biscuit kudukka vendam.   oru vaattu kudichanganna second time yaru kekka matanga.    mukiyama tea time la vun vittukku oruthannu vara mattan.',\n",
              "       'Enathu engineering padiiriya super pa... ana last la pichai than edukkanum',\n",
              "       'if you ever thoudht ramarajan cannot be replacced time to change your mind',\n",
              "       'No Captions',\n",
              "       'enna gurunatha ungaluku puthu item aa erinjurukanuga',\n",
              "       'No Captions',\n",
              "       'naan ini vungal sothu;  yenna yepidi payanpadutha vendumo apidi payanpaduthi  kollungal        yenna buskku pinnala yeluthi irukkuradhalam  punch dialogueah pesikittu irukkaru.!',\n",
              "       'machaa ink fill pana marandhuten da   enkitayae konjam dhan da iruku sari indha urinjuko  ',\n",
              "       'you prepared well and you forget everything in the exam hall        markka therinja maname, vunakku ninaikka theriyadha?',\n",
              "       'No Captions',\n",
              "       'indha yegambaram post potta vaithulla irukkura kolandha kuda like podum  indha alwx paandiyan post potta, adhe kolandha avunga ammavaium sendhu  like poda sollum',\n",
              "       '100 la pona adhil sorgam kidaikum  pechada pesuna konja nanja pecha pesuna',\n",
              "       'koladha yen alarathu..??    RAJINI MURUGAN  Tea kudukka sollu...!1',\n",
              "       'yen indhu varaikkum pannadhu pathadhu...',\n",
              "       'yendi chellam kotra.. ni kotturadhu yenakku valikudhu paaru...',\n",
              "       'poi solra vaaikku pojanam kidaikkadham..  aana sappadu yeppadi irukkunra manaiviyoda kelvikku poi sonna  dhaan adutha velaikku rasamsadhamadhu kukaikkudhu',\n",
              "       'Meeting ne potutu meera mela pazhi potutale saturday kurum padam irku vadi',\n",
              "       'when mom scolding me for not helping her     ennama chumma thituriga inaki kooda help panen la    ethu moonu whistle aduchathum cooer ah off pannaiyae athaa?',\n",
              "       \"epdi nambe make up'eh??\",\n",
              "       'bhogi special   intha template venam   vera onnu irukku',\n",
              "       'kaalailanthu paatha padam per la solunga  sanda kozhi 2   vip2   saamy 2    poora parl 2 va soldraanungaley',\n",
              "       'unkuda cinema ku vandhavellam periya actors kuda padam panra aana nee innum tiktok laye kuppa kotra..',\n",
              "       'vilaiyattu porulgal edhu eduthalum rs 50 mattum light, kallapetti thavira.',\n",
              "       'oils hair everyday goes bald by 20',\n",
              "       'saravana stores aadi offer    yena legends saravana edhellam',\n",
              "       'ava enkita drums kit kuduthu vaasika sonna, nan drums ah keezha vechitu,   en vaaye drums kit dhan, enaku edhuku drums?   apdinu ketutu vaasika aaramichiten   ehh rippapa rippa, rippapa rippa hey yo..',\n",
              "       \"know the difference   popeye'ya   pappaiya   papaya   paapa'ya\",\n",
              "       'kanavar: innaikku kalaiyela yennama tiffen panni irukka?  maneivi:  rava biriyani    kanavar: rava biriyaniya vidhyasama irukke...?   maneivi: pinne uppumanu sonna sapida mattingale...',\n",
              "       'priya vera swetha vera illada ellame fake id than da',\n",
              "       'ko pek modi  yena yeluppadum kosham tamizhathin kosham alla!\"- h. raja      adhuvum saridhan.. ippalan ulaga level la trend pannikittu irukkanga.!',\n",
              "       'after watching kanchana 3    *we: unna compare panna avan pandra comedy eh evlo vo paravala',\n",
              "       '~in petta movie !  *singhaar singh  *singaaram(flashback)',\n",
              "       'swap in coding explained  coding ah da idhu. ivan variable ah avan vechuruken ran, avan variable ah ivan vechurukken ran. chi chi chi chi...',\n",
              "       'aiyo theriyama photo va delete pannitene   mela app link irrukku paaru recover panniko',\n",
              "       '*audience: after watching mr local audience reation be like...  yen buthiya serupalayeeeeeeeeeeeeee adikanum da...',\n",
              "       'woooooooow my favourite     *sollave illa      *saptura item poooramae en favourite thaan',\n",
              "       '\" go back modiya alladhu come back modiya yenbadhei makkaldhan thirmaanipaargal: adanei samugavalaithalangel thirmanikka vendiya avasiyamillai!\"     samuga  valeithalangalil yelience ah irukkudhu. avangalum podhu makkal dhana..!',\n",
              "       'tahir celebration after taking russell wicket     ipo tahir enga nu keta enna solluva?? erode pakkam thoothukudi pakkam irukkaru nu solliruven',\n",
              "       'whats app la mokka photo comment podradhu poora namma payaluga dha',\n",
              "       'rcb changed their jersey colour    *me: jersey mathi enna projanam un team sari illaiyae..',\n",
              "       'when my friend is struggling to talk in english with someone he fool you sir... education no !',\n",
              "       'indha vilaiyattu neyabagam iruka? oru kudam thannir uttri ore puputhadhu....rendu kudam thannir uttri ore puputhadhu....',\n",
              "       '*seeman: simbu dhan next superstar.!',\n",
              "       'ennathu pease ah!!!(pattani)   apram pasikkumla, pattani sapda koodatha',\n",
              "       'chedi vaadina wateru  manasu vaadina quarteru',\n",
              "       '~theme music atrocities~   *audience: aambala *hiphop: aambala..aambala.!  *audience: messaya murukku *hiphop: hey..hey..messaya murukku  *audience: mr.local *hiphop: hey..hey..mr.local uh',\n",
              "       'when relative kid came to our home    *me: pappa ku enna venum chocolate venuma   *thatkid: kinder joy!!  *mme: kinder joy ah athella naane saptathilla ma',\n",
              "       'tag that trisha fan     bday kondarura vayasa kelavi unnaku',\n",
              "       '*dumilisai: hydrocarbon salem 8way road pondra nala thitangalai makal yen ethikirargal endru theriyavillaii    indha aunty thalai sirandhu poi nalla thittam..',\n",
              "       'kangkiras thalaiver padhaviyai ragul gandhi raginama seidhal thenmanilangalil thondargal tharkolai seidhu kolvargal!   thondargal dhan tharkolai seidhu kolvargalla  yen neenga tharkolai seidhu  kolla mattingalaa??',\n",
              "       '~in tv serials cast changing be like   ini evarukku badhil ivar',\n",
              "       'rail nilaiyathirukku yena theveiyo adha mudhalla kudunga.. appuram bullet train vidalam..',\n",
              "       '*2mins after the selfie*',\n",
              "       'madhuvukku yedhiraga poradivittu madhukadei nadathuvor uden kuttani veippadhu yerpudeiyethalla ileinger podhumakkalei nodipoludhil pamaka yemattrivittadhu     nama appadiye kandukadha madhiriye poiduvom.!',\n",
              "       'meanwhile rohit sharma after scoring 200  idhu pothume.. idha vechi naan 2019 worlds cup varaikum ottiduvene....',\n",
              "       'lovela lovela lovela lovela velundhutten  *me: indha da edha pudichu mela vaa',\n",
              "       'macha happy bakrid da   macha unakaga sooda mutton biriyani ready..kontu varava    payapulla purattasi nu therunche verupethuran paru...',\n",
              "       'vijai: yenna yedhirthavanga, indha jillavileye irukka mattanga..   amma: yenna yedhirtha, jillave irukkadhu...',\n",
              "       '\"103kum 105 kum naduvula yena erukku theriyumma?\"   \"104\" \"adhan illai.. naduvula \\'0\\' dhan irukku. neenga innum mathsla weekkudhan!\" # summa adika yellam varakudadhu...',\n",
              "       'indha kattathula 1gb fullah 2mbps speed ungalkku athuku mela pora micha meethi mattum 512kbps',\n",
              "       'dood.. america result yennachu..   area counciler peru theriyuma.. naaye....',\n",
              "       'medhuvaga sellanum adhe maneividhan unga veetil irukka poranga vegam edherkku......',\n",
              "       'dope guy: na mega periya sivan bakathan   *his frnd: i know..i know',\n",
              "       'when hod says students with low attedance will not be allowed to write exams   bayandha thozhil panna mudiyumma  ivanunga eppavumme ippadidhan..',\n",
              "       'all india anna dravida munnetra kazhagam lok sabha election 2019 election manifesto ',\n",
              "       'aadei yenada idhu?  neenga dhana sonninga rasathukku puliyaith thannila oorapoda sonninga',\n",
              "       'yaru da intha ponnu???   isai: namaku tough kudupa pola hair style la.!!!',\n",
              "       'nenga college days la ena panuvinga  en da college varom nu feel panuven   apo college mudinja aprm    ayo..college life pochey nu feel panuven',\n",
              "       'yengaluku 5 thogudhila odhikkiyadahl varuthamillai - thamizhimsei   adhellam jaikiravanga pada vendiyadhu...  ungaluku andha kavalai vena.!',\n",
              "       '* antha padam kollywood box office list laye illa   *sk fans: kollywood box office la theduna epdi kedaikum?',\n",
              "       'adhu yenda enna pathu andha kelvi ketta?   kalyan jewellary vilambarathil amidha bajan veshtti katradha katranga ishwariya rai selai katradha yen kaata matranga?nu kekuranpa.',\n",
              "       \"in a marriage functions     *90's kids: ice cream kodukkuranga vaangada\",\n",
              "       'escape! great escape!',\n",
              "       '*bijili: nee moodappa, periya lod ah iruntha wine shop eh moodu, public uh(that slang)    *me: intha tha*** vera oru thadava famous aayita athey dialogue eh marakaama sollitu irukaan',\n",
              "       'maanam kapal yeri ariya pugaipadam idhu dhan...',\n",
              "       '2000 rupa vilainu sonnadha kuda mannichidalam, aana nayanthara kuda compare panni pesuna paaru adha mattum',\n",
              "       'after 2100 years!!!  munadi oru kalathula intha movie shooting mudinchathagavum release agum num solapatu varuthu.!!!',\n",
              "       'area people: yennada road pottu vachirukinga ooramma kadakudhu',\n",
              "       'padithavudan   kizhithidavum',\n",
              "       '*airtel customers: 3g intha iruku, 4g enga?  *airtel: athanga ithu!!!',\n",
              "       'ivanga mattum engineering serndhu padichu engineer aavaangalaam aana mathavanga sera vendaamnu fb la advice panni status poduvangalam',\n",
              "       '11 madhangaluku piragu madurai mathiya sireiyil irundhu nirmala devi jaminil viduthalai!   * 11 matham training mudithuvittu thozhilukku thirumpum vera mangai...!',\n",
              "       'vasan eye care hospital enhancing vision  www.vasaneye.in   india/ uae/ sri lanka',\n",
              "       'iyoo paavam.. idha vida adhimuga va yaralayum asingapadutha mudiyadhu',\n",
              "       'what girls think when they hear silk   what boys think when they hear silk',\n",
              "       'this may happen in your future  unga pazhaya facebook post ellam padichen ! neenga nallavara krttavara?  theriyalaye paaa!   #be carefull :p',\n",
              "       'piragu, suthamana 1 cup nerai mugathil uttri paarkavum',\n",
              "       'day 78 undercover nobody has noticed',\n",
              "       'my reaction when my mom calls me to eat uppuma',\n",
              "       '*subbu: sir ithellam, petta deleted stills sir',\n",
              "       '*makal : yennadhu pimpilikki pilappiya..?',\n",
              "       'therdhal nerathula namma munnadi ippadi mukkuna idhe kamal hasan dhan  innaki nama thannir panjathula seramapadura indha nerathula.. bigboss 3 nigalchi panna poittan..',\n",
              "       'sila neram nam pudhiya pandhai thedi ponaal palaiya pandhu kideikkum..  yaarukellam indha anupavam irukindradhu..',\n",
              "       'yenne avanai indha adi adikiringa   icici enbadhen tamil artham yenna nu ketta.. :\" nan paarka nan paarka nan\" nu sollaran.. pakki paya..',\n",
              "       'how people see you if you have the following things yamaha r15  smart phone & girl friend',\n",
              "       '\"kaluthei nerithu alla, kaluthil maalai potte kuttani amaithullom \" - thamizhisei soundhrajan    neenga eppadi kuttani vachalum enga oottu ungalukku illa... purinjukkonga.!',\n",
              "       \"boss, freecharge la 10rs recharge panna 50rs cash back kedaikum'aaam  atha recharge panna kuda namma kita kaasu illa!!\",\n",
              "       'adei muthalla un kadhaliyum nanbanum antha roommukulla yedhukkaga ponanganu keluda.',\n",
              "       'thatha neenga 5vadhu madiyila irundhu kela vilundhum uyiroda irundha andha kadheiyai kanjam sollunga. please thatham    adei perandigala andha kadheiya nan solli mudikiradhukkula unga battery mudinju poidum.',\n",
              "       'that nallavan moment while watching a movie with family and when a kissing  scene comes',\n",
              "       'after seeing kamatchi tmt ad',\n",
              "       'baby naan marriage apram gym ku povan da apo naan slim ah irupan la..   oh..nee gym poii thaadi balaji pondati mathiri jim trainer una correct panuvan nenga rendu perum jolly ah irupinga.. naan aaluthukita road la thiriyanum..   that girl: gym poranthane da sonna..!',\n",
              "       'jilla', 'ippa odanumma, nikkanumma???',\n",
              "       'naanum sirichu sirichu ela ponnunga maari mayakka theriyum   sirothu mayakiya poluthu click seyya pattathu',\n",
              "       'chocolate ah mukiyam? advertisement ah paaru',\n",
              "       'when a girl calls us anna    chee nee ella mama machan kooda porakala? anna nu koopdre',\n",
              "       'india cricket playergalin reaction ippodhu...   nee vada.. vada..  enga areaku vada!',\n",
              "       '*audience: ithuku pesama antha meen thannilaye iruthu irukalam!!',\n",
              "       'thenindia nadhigalei inaika nadavedikkai yedukkapadum- stalin  \" mathiya arasu aluvalangalil thamilai inaiya aatchi mozhiyaga nadavedikai yedukkapadum\"     inthanei varusham aatchiyil irundhirgal.. adhuvum pala varudam mathiya ameicharaveiyil irundhirgal.. appodhu yen idhei seiyavillai.?',\n",
              "       'inniku teacher.. teachernu urugi urugi padhivu podara payaluga yellam.. padikira kalathula.. teacherku udambu sariyilaiyam.. inniku leaveahm sonnappa santhoshappatta payaluga dhan..',\n",
              "       \"90's indian kids meme  5 vayasula enna pannitu iruntha   parle-g  biscuit vangi paal la mukki thinnuttu irunthean\",\n",
              "       'engineering colleges at the end   #college: pichai yeduthu polachukonga sivaji!!',\n",
              "       'nan iruttuliyae vazhuravan   chaa.. namma eb.. uh..',\n",
              "       'sherin va namma vera zone ku polam  *audience: adutha zone ku ready ayutaan da adunga da',\n",
              "       '*that serial director: daii... kanchana 1,2,3 intha 3 padathaium mix panni.. intha serial 5,6 varusam ottiruven la..!',\n",
              "       'alagana maneivi! anbana thunaivi! amainthale perinbam..! rendu pera kattikkanumma sir...?',\n",
              "       'when you used 50% of daily jio net you have used 50% of your daily high speed data...  ungal yennirkuriya dhinasari data alavil 50% datavei ubayogithu vittirgal..  adhadhaan englidhla sollitaanla...',\n",
              "       'vijay fans before audio launch after audio launch',\n",
              "       'we all know that one guy who wears specs and looks like a good boy but does all kinds of kasa musa activities',\n",
              "       'yenma.. bahubali2 la unaku sariyana rolu kudukala nu kovam patutu ipdi kgf chapter 1 la vekkamey illama ore oru item song aaditu poituka?!',\n",
              "       'most of the students get loe\" marks\".. because of this mark',\n",
              "       'ayoo paakadha   appo puriyala ippo priyuthu ippo puriyuthu',\n",
              "       'ovvoru bachelor roomlaiyum communism iruku inaiku pudhuda vaangi oruthan podura sattai nalaiku avan room mate odathu',\n",
              "       'yeppa ivanunga kanchanava serial ah eduthurukanunga pa',\n",
              "       'anirudh recent songs   marandhadhe   marakkavillaye   *we: en en ipdi olarura  marandhutiyaa illa marakkalayaa',\n",
              "       \"vayasu ponnukku facebook'la request kodukradhu anagareegam accept'um panna maattaa! adhan ava parents ungalukku request koduthen, neengaley unga ponnukku enna friend suggest pannel'na beshaaa irukkum!\",\n",
              "       '~in petrol bunk~  dont use mobiles!!  *seri ya...   go caseless transactions!!   *we: enaya mutta thanama pesitu iruka mutta payale',\n",
              "       'evadhavadhu padam direction pannirukiya?  illingo   assistant director ah work pannirukiya?  illingo   ethavadhu padathula nadichurukiya?  shooting spot pakkathula kooda ponadhu illinga   apram enna mariruku da ni ellam epdi padam eduthalum atha kuththam solra',\n",
              "       'ulagileye adhigam peraal nadikka patta vettrigaramana kadhapathiram #vaithu vali school days...',\n",
              "       'pal doctor vaiyai thirakka sollum bodhu    paanipuri kadeiyil',\n",
              "       'unna paakama yen manasellam valikidhu chellam, yenna enna di panna      awwwwwwwwwww   *singles: arali vidhaiyai araithu kaalai unavudan unbadhu idarku sariyana theervaaga amayum',\n",
              "       'no comments',\n",
              "       '*me: 2nd year ponadhuku apram clg enga control ku vanduchii..   *3rd year 4th year guys: dai inga vaa da..',\n",
              "       'enna daa 5.55am ku alaram vechirukka..?  5.50 alarm ku mulikalana adhan safety ku..     sari apovum mulikama nee thoongitana..?   naa kenaiyana.. adhan 6 ku alarm vechirukane..',\n",
              "       \"hey dude brexit eu union voting pathi theriuma... idhu kuda theriadha.. that's why i dont like fools    paradesi naayae.. tn election apa velia vandhu vote poitia da.. illala.. apuram ennada brexit vaendi kedaku\",\n",
              "       'no comments',\n",
              "       'school memories    *friend: book ah mithichala thottu kumbidi illana padippu varathu   *me: enna da romba bayamuruthuringa',\n",
              "       'when your whatsapp group admin, made you as admin and left the group',\n",
              "       'master',\n",
              "       'in this scene thanos be like...   vitrathiga vitrathiga...',\n",
              "       'amala paal     amala coffee',\n",
              "       'vanakkam chitti, do we get a job after engineering ?   hypothetical question.. dot.',\n",
              "       'en kattavuttuku yaarum paalabishegam panna vendam   *adhuku madhala.. unn padam release aaganum..',\n",
              "       'aalungatchiyal dhan valarchiyai kodukka mudiyum: avarakuruchiyil..   tamilnattin thalaiyeluthu sadharana vaardu councilar kuda aaga thagudhi illadhavar mudhalameichar. edapadiku nirvagamana yennanu theriyumma? nidhiamaichar opsku nirvagamna yennanu theriyumma? onnum theriyadha mannu. kurangu kaila pumaalai kudutha madhiri thamilagam indru sikki sinnapinnamma seralindhukitu iruku..!',\n",
              "       'no comments',\n",
              "       \"yejamani: nee yen netru velaiku varala? sollama kollama ninnite?   velakari: illama nan facebookla innikku velaiku mudiyala thalaivaliya iruku nu status potten, ayya kuda 'get well soon, miss u' nu comment pottare...\",\n",
              "       'i am mahat reloaded (billa pandi 2) version 2.0',\n",
              "       'manaiviyai nadunga vaikkum vallamei padeitha nee indru mudhal \"baagubali\" yendru anbodu alaikkapaduvai...',\n",
              "       'who is my rockstar?   me',\n",
              "       'hella boss.. medhuva vettunga..  oonionke balika pogudhu.',\n",
              "       'before petta      affter petta',\n",
              "       \"*90's kids: single padhi,, uncle padhi  kalandhu seitha kalavei nan!!\",\n",
              "       '*me: ama itha padam enathan achi',\n",
              "       'nimadhiyai thedi alaivadhei niruthiyadhil therindhadhu...  yedheiyum thedi alaiyamalruppadhey nimmadhi yendru..!!',\n",
              "       \"google me to google  why i'm single? google: open front camera\",\n",
              "       'big boss be like',\n",
              "       'harris jeyaraj  bringing world music to tamil cinema since 2001',\n",
              "       'no comments',\n",
              "       'ore panttu dhan irundhadhu share pannikittom.. epadi idea',\n",
              "       'enna senthil rajalaxmi edhela.!',\n",
              "       \"eppada eva pesuva enbadherkum..!! eppada eva pecha nirthuva enbadherkum..!! edeipatta kalam dhan 'kadal'\",\n",
              "       'vijay tv   dd',\n",
              "       'my reaction  when i received \" i love you\" sms from unknown number... ithu evano namma payapulla dhan....!',\n",
              "       'tasmac kedai highcourt pudhu utharavu    kovaiyil pen kadithu naay saavu',\n",
              "       'durai singam.. neenga udane charge eduthukonga..    enkitta power bank irukku sirr.. ',\n",
              "       \"my reaction when an attu figure gets 50+ likes for her  profile pic but i codn't get even 5...\",\n",
              "       '90s kalathu aasaigal    aasai chocolate  90s kids     chinna chinna aasei  90s lovers    aaseikalathu thudhu vittu...   90s singles',\n",
              "       'paati: sothulla uppu illa mudhalvare..!  uppu poda solli valiyuruthuvom..!',\n",
              "       'ne enaku innoru amma ma        apo amyjackson chinnamma va',\n",
              "       'chennai auto drivers    what they have   but how they drive',\n",
              "       'kadhal yenbadhu  car madhiri...   illadhavanukku  \"kanavu\".. irupavanuku \"selavu\"',\n",
              "       'veyilla nindra bikekala madhiyam 1 maniku utkarndha bodhu',\n",
              "       'hello kalyan jewellers owner ah??? kadei eppo sir therappinga??? indha prabhu thollai yengalala thanga mudiyala???',\n",
              "       'on payday     *creditcard bills/ emis: naera ingadhan varinga pola..',\n",
              "       'school la adi vaangi padichaalum santhosammaa thaana da irunthom  ippdi engineering padichu emanthutomeay daa!!',\n",
              "       '# engineering na enna bro    *me: potha kuli nu therinjum oorula irukura ellarum poi vilivanunga',\n",
              "       'that \"vada pochae moment\"  \"when me and my friend failed after revaluation in same subject',\n",
              "       \"in viswasam climax   *thala: enna appa'nu sollu   *swetha: appa   *thala: marukka sollu   *swetha: appa   *marukka marukka sollu   *swetha : appa\",\n",
              "       'singapenne   *arr: unai pen endru keli seitha kootam oru naal unai vanangidum uyarnthu nillu    uploading status',\n",
              "       '*me: phone suda irukkumbodhe ninechen da   nee dhan yeduthu game vilaiyadi iruppennu',\n",
              "       'kumara poda   engayo ketrukomae   kumara poda  idu daan ya adu',\n",
              "       'background: kattipudi da kannala kandapadi kattipudi da',\n",
              "       'daily indha time un calender la kurichu vechikko appo correctaa current cut panni un veeta iruttu aaki unnai theruvula ukkaara vekkala eb daa.. TNEB',\n",
              "       'pogumbodhu kadaisiya yennadha kondupogaporom?? yenrdra neendakala kelviku badhil kedaidhu vittadhu??  aadhar card',\n",
              "       'thoonguvadherku munbu...  america amma  good night dear   hindi amma  subh rathri beta   engamma eppo andha ponai pudingi udaikka poren. olunga thoongu.',\n",
              "       \"airtel india's fastest network   anga tower olunga kedaikkama christopher kitta matti saava paathen fastest network an\",\n",
              "       'naye nammalai eluthukittuponaa adhu vaangi.. thorathikittu vandha adhu jackking...',\n",
              "       'thimuga illanraniyai migathirampada udhayanidhi stallin valinadathi selvar      ee logathil ippadiyum oru piraviyai engum kaanom..',\n",
              "       'kaidhi veraivil..  *vijay tv: ipdi aniyayama vanthu maatikitengale ney',\n",
              "       'i failed in my english test unpossible ',\n",
              "       'munellam vayala velai seiyum bodhu oru car pona adhisayama pappanga... ippa carla pogum podhu engayavadhu pachai pachelnu  vayal theridhanu pakka vendirukku',\n",
              "       'the only person in the world to motivate us daily is the \"bus conductor\" \"po po munnadi po, naduvala nikkadha , munnadi poite iru\"',\n",
              "       'boys dreams     velaiku poittu ac car vanganum agr 10 -20 ...   bike vanguna podhum age 20-25...   eppadiyavadhu velai kedaicha podhum age 25- 30....     soru kedeicha podhum above 35...',\n",
              "       \"their mom's#   enna andaavaye kuru kurunu paakuran asandha nerama paathu thookitu poiruvaano\",\n",
              "       \"adayaaravadhu indha karthi, surya ivanga rendu peraiyum tv'ah vittu verattungappa ivanga tholla thanga mudiyala aana una coffee kudi tea kudi complan kudi nagei vaangu biscuit vaangunu usura vanguranga\",\n",
              "       'itho.. ithaan yen crush evlo text pannalum verum \"hmmm\" mattum thaan reply pannum',\n",
              "       'vidhi vilaiyadudhunu sonna...  sore evalo nu kekura rascal..',\n",
              "       'naa saavanum naalum naan tan mudivu pannum nee saavanum naalum naan tan mudivu pannum audience reaction  ithoda artham puriyaama theatre ku poitenaeee',\n",
              "       '*my friend: \"my life my rules\"   *me: dai night show padathuku variya?  *my frnd: sorry da vitula vidamatnaga na varala...   *me: apram enna p***a ku my life my rules nu status podura',\n",
              "       'panel members in interview    expectation   reality',\n",
              "       'anna anna neenga sonna madhiri anda niraya milk bikis vangiten..   naa anda niraya paal dhana da sonna..   ada enna anne.. 1 packet biscuit 2 llitre paalku samam anne.. idhu kuda teyriyadha..',\n",
              "       'yen evalo late? sorrynga.. pudavai select pandra aarvathulla watchla timeiyae pakkalinga   seri.. pakkathula irundha calenderiyumma paarkala nee kedaikku poi 3 naal aachudi...',\n",
              "       'makkal smartphone vaangum alavukku valamagavum.. kireikaararkalidam peram pesum alavukkum yelaiyagavum irukirargal..!',\n",
              "       'pursela ulla kasu ellam pudingittu, oru pudhu purse koduppan paaru.. avandhan nagai kadaikaran',\n",
              "       'adhe dhan .. adhe dhan..!!  ',\n",
              "       'naama thaniaalu illa.. namaku pinnadi oru kuttame irukunu \"ration\" kadai queue la nirkum podhu dhan theriyudhu!',\n",
              "       'ennada idhu buskulla jannel valiya pillaiyai thookki pottu idam podura maadhiri idam pottu vaikiringa',\n",
              "       \"kalyanam aagathavargal vazhvadhu bachelor vazhkai..  kalyanam aanavargal vazhvadhu 'pechuillaar ' vazhkai\",\n",
              "       'my reaction when neighbour aunty says unga paiyan romba cute silent good boy ah irukan',\n",
              "       'va arunachalam nee varuvanu enaku therium adhan unakaga 3000 ruba chilra maathi vechurukaen',\n",
              "       'this is how my father checks me once i come from a barber shop',\n",
              "       'you prepared well and you forget everything in the exam hall maraka therintha maname, unnakku ninaikka theriyadha?',\n",
              "       'yen di ivana avan nalla irukkana.. yen di test unnaku',\n",
              "       'getting redy for exam *girls: 2 blue pen 1 blackpen highlightr whitener pencil with eraser   *boys: one pen but no cap okay',\n",
              "       'boys dream nee verum se**il ahh ila sarakumaram s*nth*l ah',\n",
              "       'no comments', '2009      2019',\n",
              "       'yenda evalo vegama ooduringa   mp, mla vetpaalar varaano avanola ippa mattum dhan paarka mudiyum adhan porom',\n",
              "       'yaar da ivan namalkae tough kudupan pola',\n",
              "       'PHYSICSTS WILL DIE OF HEARTBREAK IF THEY COME TO KNOW ABOUT THE TAMIL MEANING OF MASS AND MATTER',\n",
              "       'ANBUMANIYIN VIVATHATHIRUKU NAN VARA THAYAR : UDHAYANIDHI STALIN   *NAM: ANNE UNGA NILAMAI EPPADI AAYIRUCHUNU PAARUNGA UDHAYANIDHI YELLAM ORU AALUNU.. UNGALA VIVADHADHIRKU KUPIDARA NILEIKU VANDHUTINGALE',\n",
              "       '30 AANDU KAALAM CONGRESS KATCHI AATCHI SEITHABODHU SARVAADHIKARAM ILLAI      APPA EMERGENCY ARIVICHADHUKKU PER YENNA SARVADHIGARAM ILLAMA SILAPADHIGARAMMA..',\n",
              "       'IF HARD WORKS PAYS SHOW ME RICH DONKEY',\n",
              "       'ENNADA IDHU... ENNAKU THERINJA KONJAM NANJA KANAKUKUDA MARANDHUDUM POLA.. ENNAGA BADHIL',\n",
              "       'KANAVANIN FACEBOOK STATUS:- PARAVAIYAIPOL VAANIL PARAKKAVENDUM   MANAIVIYIN COMMENT:- BOMMIKU VARUMBODHU ORU KILO VENGAAYAMUM NAALLU MUTTAIYUM VAANGITTU VAANGA',\n",
              "       'YEGIRI GUDHITHEN, VAANAM IDITHADHU...   OOOOO  APPO NEE AGIRI KUDHIKKUM PODHU VAANAM DHAN IDICHADHU, APPADI THANA...',\n",
              "       '~IN PAPANASAM    AUGUST 15TH RELEASE AANA ANJAAN AH EPDI AUGUST 3RD EH POI PAATHANGA',\n",
              "       \"SHE: I'M NOT LIKE OTHER GIRLS DA\",\n",
              "       'ELLA BUSLAYUM \" THIRUDARGAL JAGIRADHEY : NU POTTURUKANGALE?? NEYAMA,\" PAYANIGAL JAGIRADHEY NU DHANA PODANUM??!!',\n",
              "       'IPPUGAIPADATHIL ERUPAVAR ANDHONI STARCS IVAR ACHRUTHUM THIVIRAVADHIGALAL THAKKA PATTAR THARPODHU IDHAYAM ILLAMAL AVAR NENJIL PORUTHI IRUKKUM IYANDHIRAM MULAM VAZHNDHU VARUGIRAR AANAL ADHU KURIYA KALATHIRUKU MATTUME PAYANALIKKUM ENA MARUTHUVAR KURI IRUKIRARGAL MELUM IVARUKU ARUVAI SIGICHEI SEITHU IDHAYAM PORUTHUVADHARKU RUBHAI 50,00,000 THEVAI PADUGIRADHU NEENGAL SEIYUM OVORU SHARE MULAM FACEBOOK ANDHONI STARCS ARUVEI SIGICHEY SELAVIRKU RUBHAI 50 PANGALIKUM',\n",
              "       'ON SEEING THIS    ASHISH NEHRA ON A AHT-TRICK     CSK FANS REACTION',\n",
              "       '*ME(SINGLE): INGA EN KOODA PESAVE YAARUM ILLA ',\n",
              "       'AT MIDNIGHT   *SANDY: NIGHT NERATHULA ENA D PECHU POI THOONGU D LUSU',\n",
              "       'WHEN A SUPER FIGURE JOINS OUR CLASS BUT SHE ALREADY HAS A BOY FRIEND',\n",
              "       '10 LATCHAM PANAM VARUMNU PAARTHA RANK PATHULATCHAM VANDHIRUKU    DREAM 11 PARIDHABANGAL',\n",
              "       \"RAMA RAJAN NEVER ACTED IN SCENES THAT SHOWED HIM SMOKING AND DRINKING ALCOHOL     SALUTE, RAMARAJANU'KU SALUTE!\",\n",
              "       'NALAI MUDHAL THAMIZHAGAMMENGUM     UNGAL ABIMANA THERUGALIL RELEASE SEIYAPADUGIRADHU',\n",
              "       'NAN SUTHI VALACHI PESA VERUMBALA  VILAMBARAM MOOV VANGURADHUKU PODURIYA MOODU YETHURADHUKU PODURIYA',\n",
              "       'SUNDAR.C YIN STR VANDHA RAJAVADHAN VARUVEN 175 CRORES BEFORE RELEASE TAMILNADU ALONE #PONGALWINNER',\n",
              "       'MANASULA PERIYA WI PLAYER NU NENAPU !!!  *IND FANS:  MUTTA PAYALE ATHAN ONUM ILAYE.!!!',\n",
              "       'JUDGE: \"YENBA NEE AARU VARUSHAMMA UN PONDATTIYA ADIMAIYA NADATHI IRUKE! ADHU UNMAIYA\"?  KAIDHI: \" YEJAMAN  YENNEI MANNICHUDUNGA EJAMAN\"..   JUDGE:\" ANDHA PECHELLAM INGA VENDAM... UNNALE IDHA IPPADI SADHIKKA MUDIJUDHUNU SOLLITTU POIKITTE IRU\"!..',\n",
              "       'ENGLAND ENTERING INTO ODI SERIES AFTER TEST WIN  ENGLAND AFTER 3-0 ODI SERIES WITH ONE MATCH REMAINING',\n",
              "       'ACCIDENTALLY MEETING UR EX-GIRLFRIEND EXPECTION   ITS SO GOOD TO SEE YOU KARTHIK  REALITY   YAARO PAITHIYAM POLA IRUKUMA...',\n",
              "       'NASA SPOTTED HUMAN LIKE PHOTO AT MOON  ADAPAAVIGALA, ADHU UNGALUKKU IPPO DHAAN THERIYUMA? INNUM PAATI VADA SUDRATHA YEPPA KANDUPIDIKKA POREENGA?',\n",
              "       'WHILE PLANNING FOR IV TOUR *WE: NAANGA EDHUM PANNA MATOM SIR... OLUNGA IRUPOM   *STAFF: SAAMI UNGALA PATHI ENAKU THERIYADHA... ADENGAPPA...!!!',\n",
              "       'YEN DA INNUM PHONE AH NONDITTU IRUKKA? THOOKAM VARAMATENGUTHU AMMA. ATHAN. NAAYE, VIDINJU 2 MANI NERAM ACHU',\n",
              "       'GIRLS HESITATE TO ACCEPT A ATRANGERS FRIEND REQUEST BUT ACCEPTS A STRANGER AS HUSBAND.. WTF?',\n",
              "       'TN BOYS: YEN VEETLA MEERA SHAMPOO VA',\n",
              "       \"MY REACTION WHEN AN ATTU FIGURE GETS 50+ LIKES FOR HER PROFILE PIC BUT I CUDN'T GET EVEN 5...\",\n",
              "       'FACEBOOK BOYS MASS DIALOGUE \"AVA ENNA FB LA BLOCK PANNI 14 VADHU NAAL... AVA THANGATCHI ACCEPT PANTADA EN REQUESST A\"',\n",
              "       'REAL HEROS OF THE SOCIETY   INGA IPPADI DHAN REAL SUPER HEROSNU PODUVANGA.. AANA NERLA PATHA MANUSHANA KUDA MADHIKAMATTANUNGA',\n",
              "       '*PURE SINGLE: KODI RUBA KODUTHALUM SILA VISIYAM NA PANNA MATTEN ATHULA ONNU PONNUGA KUDA PESRATHU',\n",
              "       \"VIJAY TV VIRUDHUGAL NIGALCHIYIL 'DD' KU THEVADHAIGALIN THEVADHAI VIRUDHU ENNAGADA VELAYADURINGALAA\",\n",
              "       \"4 LIKES ADHIGAMAA VARUDHU'NAA PHOTOSHOP PANDRADHULA THAPPILLA\",\n",
              "       \"I' PHONE...'I' WATCH...'I'MOVIE... 3COSTLIEST THINGS RIGHT NOW\",\n",
              "       'NO COMMENTS',\n",
              "       'DOCTOR PADIKA VAIENGA NALLA SCOPE IRUKU.. YEN PUBG LA NALLA SCOPE ILLAYA ENNA!!',\n",
              "       '1984   1995   2014',\n",
              "       'WHILE VIJAY TV SERIAL ACTORS DANCING AT STAGE HOW OTHER SERIAL ACTORS ENCOURAGE THEM',\n",
              "       '-WHILE ENTER 90ML MOVIE 2ND SHOW', 'NO COMMENTS',\n",
              "       'BEHIND THE CAM     *SUPER STAR: KAI KAI....',\n",
              "       'INDHA IDAM VIRPANAIKU ALLA INDHA IDATHIL PANGALI PRACHENAI ULLADHU',\n",
              "       'TAG THAT GUY  *FRND: MACH BB3 VANTHURUCHI DA    *THAT GUY: BB3 AVATHU..!! MAIRU AVATHU..!!',\n",
              "       'IPPADATHIL ULLA MEENAI PAAMBU KAPPATRIYADHU YENDRU NAMBUVADHU POLA INDIAVA MODI KAPPATHUVAARNU ORU KUTTAM SUTHIKITTURUKKU..',\n",
              "       'BUSYIL YERIYAUDAN SEAT IRUKIRADHA YENDRU PAARPAVAN \"\"MANIDHAN\"\" PIGAR IRUKIRADHA YENDRU PAARPAVAN \"\"PERIYA MANIDHAN\"\"',\n",
              "       'NO COMMENTS',\n",
              "       'MATTHA DEPARTMENT PASANGA ELLAAM LOVE PANNI DHAAN THOTHU PORAANGA AANA MECH DEPARTMENTLA DHAN LOVE PANNA PONNUNGA ILLAMA THOTHU POROM..',\n",
              "       'fb la figure set aanavangaluku munji piragasama irukum.. aana fb la accountye illadhavanukku valzhkaiye pragasamma irukum.',\n",
              "       'kai nattunu illakarama pakkathingada... ippallem mobila kai nattu vachudhan padhukakuranga..',\n",
              "       'un aalu kuda ura suthittu yenda en kuda irundhenu veetula poi sonna? yenna.. nee en nanban!',\n",
              "       '~childhood cricket memories   modha ball out aana podhumme udane idhu trial ballnu solliruviye',\n",
              "       \"#a1movie-70/100. don't listen to any reviews including me. go. eoth your friends and family and have one hell of a time !! sir solraru, reviews lam nambadhinga, incl.me nu apram enna mayithuku , ne revies post panna..?\",\n",
              "       'excuse me jayakumar potruka helmet enna vila? avaroda manda sir athu',\n",
              "       'no comments',\n",
              "       'daei.. ena pandra ni.. vttiya dhana irupa saptiya adhula time ku thinu irupa.. sari da bye appram vara   aathi... paithiyama iva ivale paesitu... ivale bye solitu pora',\n",
              "       'adei google.. aniyaayama pattiya konnutiyeda...',\n",
              "       'ramaraj vetti vanguvom... thamilar perumaiyaipottriduvom...   *makkal: palaga valakamlam pattoda nirthikkanum vetti vangu.. jatti vangunu sonna seruppu minjirum....',\n",
              "       'enaku ennamo unmela tha santhegama iruku...',\n",
              "       '*me: adengappa indha list laye namma illaye!!',\n",
              "       'gopi yesterday: neyargale vote potutu oru viral kamikaravangala sevuloda sethu araiyungal   but today ippo scene unna thaana da arayanum',\n",
              "       'with friend - coffee rs 8/- with girlfriend - coffee rs 80/-',\n",
              "       'leave letter to hod     from naan dhan, un dept dhan, un college dhan, un city dhan.  to, unaku dhan, indha dept dhan, indha college dhan. indha city dhan,  respected sir, enna panna midiyumo paniko, naan inniki varamaaten. thank you, date: iniku dhan  place: indha oor dhan,   yours sincerely, nan dhan',\n",
              "       'uncle: speaks very little even when it is needed    nephew: never stops once he starts speaking',\n",
              "       'aangalin parinama valarchi nelaigal...  thirumanathirku mun : superma..... thirumanathirku thayarana bodhu: gentle man... thirumanathirku pin: watchman...  2 varudam kalithu: dabourman...',\n",
              "       'manakashtam nu sonna aal aaluku aarudhel solla varanga..!!!  adhe panakashttamnu sonna yellam therichu oodiranga!!!',\n",
              "       'our selfie expectations      our selfie reality',\n",
              "       'yennaga poiyum poiyum indha doctorkittaya nan kan check pannikanum   yen enna aachu    paarunga avarukke paarvai neram 6 to 9 ennu munu mani neram dhan pottiruku',\n",
              "       'kanna idhu kaasukaga serndhs kuttam illa. leavela thana serndha kutam!',\n",
              "       'hey! kai la mic eduthutu interview eduka varanunga.. endhirichi ulla po.. ulla po ya',\n",
              "       '*googlepay: thambi.. innoru round povoma??? *user: ading.. dapsa kannaaa. odiru,,,, diwali ku pannathe pothum',\n",
              "       'appa: dei!! nan soldra pechei keluda..  magan: nan kekka mudiyadhu.. nan kai neraiya sambadhika aarambichitten...  appa: unnaku 4 madu vaangi koduthadhu thappa pochu. unneiyellam b.e, b.tech, mca mba nu padikka vachu therutheruva alaiya vittu irukkanum...',\n",
              "       'baby nainika endha padathula nadichaa? theri la!   vijay and atlee endha film la work pannanga? theri la!  jitthu jilladi song endha padathula varum? theri la!',\n",
              "       'against south africa, west indies, sri lanka against australia',\n",
              "       'ennanga ungala ipdi kalaikuranga.. action ethum edukalaya *admk : ithula vijay illayenga',\n",
              "       '\"tamilagathil irundhu thesiya jananayaga kuttaniku 35 m.p gal kedeipaargal!\"=bajaga thesiya thalaivar amithsha    tamilnatula 35 ootu vena kedeikkum.. 35 seattulan kedeikkadhu.!',\n",
              "       'happy morning   murthy',\n",
              "       \"*90's kids: aahha vara vara pattimandram elaam paaka thonudey oru vela vayasu aaiducho!!\",\n",
              "       'during school days   june 1 varaaama irukanum.. apo thaan school reopen aagathu   *now: seekiram june 1st varanum.. salary ya nambi pala commitments iruku',\n",
              "       'welding kum wedding kum enna vidhiyasam?  welding la mudhalla pori parakkum, appuram inaiyum... wedding la mudhalla inaivanga, appuram pori parakum..',\n",
              "       'idhuku peyar dhan zoo...!   aana ulla anumals vida lovers dhan adhigam iruppanga',\n",
              "       'adei.. idhu theriyamma nan kuda nalanju vaatti pliot la poittu vandhuttenpa...',\n",
              "       'periya mudhalaliku english la ena   *me : big boss samy     biggboss veriyan aa pa   ama pa..',\n",
              "       'hero promotions by kjr studios  adengappa idhu namma list laya illaye',\n",
              "       'aama short film dhan yedukka porom indha project success aachuna next tamil cinema dhan target..',\n",
              "       'thalabadhi kittayum adi vaangi aachu!! thala kittaiyum adi vaangiyachu!!!',\n",
              "       'that nallavan moment while watching a movie with family and when a kissing scene comes',\n",
              "       \"idly cooker la vara aaviyum kalyaanam mudinju pora girl friends um onnum thaan athuku appuram enna aanaanga'nu yaarukumae theriyaadhu...\",\n",
              "       'yaaruda neenga yellam.. enga irundhuda vaaringa...',\n",
              "       'putting thaalam in class desk     hoe actually i feel like     how my friends see me',\n",
              "       'my area girls    mormal days   festival days',\n",
              "       'telephone vandha oodipoi pesanumenu utkarndhu idathula pesa kandupidichadhu dhan cellphone.. aana ippa phone vandhalle yeduthutu veliya ooduraanga...',\n",
              "       'bus travel expectation  reality',\n",
              "       'adha na solra...! adha na solra...! adha na solra...! irugada ungala viknesh shivan ta solra',\n",
              "       'enda joker nu kooda thaan oruthan irukkan avan enna comedy pannita irukan... villathanam pannitu irukan da......',\n",
              "       'bayataki velthava nv cheppu',\n",
              "       'dosa & vada    athu \"dosai\",\"vadai\"',\n",
              "       'my first thought if some girl gives me friend request \" oru vela fake account ah irukumo\"',\n",
              "       'expectation   reality',\n",
              "       'nama ennadhan verkadalai thaniya vaangi sapittalum mixturela thedi thedi kadalai porakki thingiradhu thani sugam dhanga',\n",
              "       \"perfect ! a new hangout spot.    i'm going to take aishu there<3\",\n",
              "       'thanos to avengers vengayan mavan otthayila...',\n",
              "       'losing first match... onnu   losing second match... rendu   enna da ennura     thiruppi kudukkanum la',\n",
              "       'sekkiram periyavan aaganum. schooluku poga kaduppa irukku.  kuzhanthaiyagave irundhirukalam. velikku poga kaduppa iruku.',\n",
              "       'manam kappal yeriya ariya pugaipadam idhu dhan...',\n",
              "       \"vazhkaila edhavadhu sathikanum nu night thoongum bodhu thonudhu...   kalaila yendhiricha nalaikku pathukalam'nu manasu maridudhu!\",\n",
              "       'innaila irundhu ungalai vengayama promote pandren..',\n",
              "       'new technology introduced in iphone11',\n",
              "       '*sani: whenever happiness comes into my life   *me: ne varuvenu terium...!!!  *sani: ana ivlavu sikiram varuvenu teriyathu',\n",
              "       'harish kalyan   ispade rajavum idhaya raniyum    pyaar prema kadhal      indha mathiri scenes illama ne padam nadikave matiya. yen ya',\n",
              "       \"YES..! YES..! I'VE REACHED LEVEL 500 IN CANDY CRUSH..   SUPER THAMBI I WILL RECOMMEND VIJAY AWARDS FOR YOU\",\n",
              "       'NO COMMENTS',\n",
              "       'IVANDHAN VARUDADHIRU ORUMURAI AVARUDEIYA THAYA SANTHIPADHARKU NANGU CAMERAKARARKALUDAN POVAARU',\n",
              "       'HEY HEY MEESAYA MURUKKU..   MR MR LOCALU HEY HEY..',\n",
              "       'KEERTHY CHINNI: #CWC19 OUR #CSK VAN GET THE WORLDCUP WITHOUT FOREIGN PLAYERS.. #CRICKET #WORLDCUP2019 #WORLDCUPSQUAD     ENATHU CSK WORLD CUP VANKANUMA',\n",
              "       'EXAM INVIGILATOR   EXPECTATION   REALITY',\n",
              "       'WHEN WE LAUGH AFTER SEEING MEMES IN MOBILE  *MOM: YAEN DA PHONE AH PAATHU SIRIKURA.. YAARA YAACHUM LOVE PANRIYAA DAA?!  *ME: LOVE AAH??!  NAAN AAH??!!',\n",
              "       '**TAMIL AUDIENCE',\n",
              "       'WHAT A TRIPUR TEXTILE COMPANY DID WITH A MANJAPAI',\n",
              "       '~YOUCAM CAMERA    ~NORMAL CAMERA',\n",
              "       '*WE: IPO EDHUKU NOTA KU VOTE PANNA   *SOME GUYS: 30% VOTE NOTA VANDHA RE-ELECTION VARUM ILA    *WE: SERI RE-ELECTION VANDHA YARUKU VOTE PODUVA   *SOMEGUYS: APOVUM NOTA KU DHAAN PODUVAN    *WE: YEPPA DEI AALA UDRA SAAMI',\n",
              "       '18 YEAR CHALLENGE      PADAYAPPA EDITION',\n",
              "       '*GOT FAN: WINTER IS COMING     *CHENNAITE: THAMBI ENGA OOR VEYIL AH PATHRUKIYA SUMMER IS COMING MANDA BATHRAM',\n",
              "       \"90'S KIDS   POI SONNA SAAMI KANNA KUTHUM... VETHALAI, PAAKU POTTAL MADU MUTTUM...  VEDHEIGAL MUZHINGITTA VAITTRIEL MARAM MULAIKUM... ENGINEERING PADICHA VELAI KEKAIKKUM\",\n",
              "       \"DAEII.. AARUCHAMEY-NDRA PER KODI LA ORUTHANUKU THANDA VAIPANGAA... ENGA APPA..MAMA..ENGA OORULA ORU ANNA PER KUDA AARUCHAMAY..   *90'S KIDS AH...?\",\n",
              "       'KALYANAM AAGATHAVARKU PRESTIGE YENDRAL, KOVRAVAM. KALYANAM AANAVANUKU PRESTIGE YENDRAL,\" KUKKER\"  AVALOTHAN...',\n",
              "       'NE ENNAIKU PURIYURA MARI PESURIYO ANNAIKU THAN URUPUTUVA',\n",
              "       '*DOCTOR:DEI NEE ENGINEER AH...  *ENGINEER: AAMA, YEPPADI KANDUPIDICHEENGA   *DOCTOR: BLOOD TEST RESULT KU, REVALUATION APPLY PANNIRUKKA',\n",
              "       'NO COMMENTS',\n",
              "       'APPADI UULALUKU EDHIRAGA ENNA NADAVEDIKAI YEDUTHINGA.. ADHANAL YETHANA ULALVADHIGAL THANDIKA PATTANGANU SOLLA MUDIYUMA.!',\n",
              "       'LALITHA JEWELLERY OWNER: MODHA MAASA THAVNAYA NANE KATREN...  MICHA THAVANAYUM NEENGALE KATITEENGANA THANGATHA VAANGINU IPDIYE POIDREN',\n",
              "       'MEDHUVA NADAKANUM, ADHIGAMA WEIGHT THUKA KUDADHU, CAREFULLA IRUKANUM, TIME KU SAPIDANUM. YENNA EDHU 9VADHU MAASAM.. TAKE CARE.. HAPPY SEPTEMBER...    DAE NEENGALAM YENGA IRUNDHU DA VARINGA!',\n",
              "       'NANGA MOTHAM 5 PERU    YAAR YAARU   ILAIYUDHIR KALAM ILAVENIRKALAM  KULIRKALAM KODEIKALAM KADASIYA DHAN VANDHARU   VASANTH &CO KALAM',\n",
              "       \"KADAL POLA PERIDHAAGA NE NINDRAI  *MANJIMA: GUNDA IRUKEN'NU KINDAL PANRIYA NE\",\n",
              "       'SOCIETY LA ENA YARUM INDHA MARI TOUCH PANNADHU ILLA',\n",
              "       \"IF YOU ARE BAD  I'M YOUR DAD\",\n",
              "       \"MEERA: NAMMA HUMAN BEING NAMALUKU IRUKKURA MAARI POWER ETHUMAE KEDAIYAATHU ATHA SIXTH SENSE.. ORUTHAR NAMBA PESUMBOTHAE ATHA ENNA 'NU FEEL PANNA MUDIUM.\",\n",
              "       'GYM TRAINER TO NEW YEAR MOTIVATIONAL GUYS  UNNA KADAISIYA PONA JANUARY 2 DHETHY PATHATHU',\n",
              "       'NAA POREN JAANNU   DEII RAM.. VENAM DA SONNA KELU DA',\n",
              "       'FOUR TYPES OF BIRTHDAY TREATS  ON EVERY GANG',\n",
              "       '90S KIDS DURING INTERVALS  *ME: HEIGHT SOLLADHA .. AVAN KITTA UNDERTAKER IRUKKU!',\n",
              "       'THANI ORUVAN UNGA EDAM UNGA AALUNGA.. ENAKU BAYAM ILLA, ATHUKU ITHAAN SAMPLE',\n",
              "       'LETS TAKE A SELFIE PULA   *SELFIE KUMAR: SHROOOVVV',\n",
              "       '~IN KAATRU VELIYIDAI MOVIE   IDE MAARI COLOUR FULL ANA SONG AH ENGAYO NAMMA PATHURUKAMEY....!!?',\n",
              "       '5) TAMIL MATHANGAL KURIPU ELUDHUGA:  1) CHITTRAI  2}VAIKASI 3) AANI 4) AAVADI 5) PURATTASI',\n",
              "       'NO COMMENTS',\n",
              "       'KAILA VERA PATHUPAISA ILLA IVAN VERA NAMBALA LOVE PANDRENNU SOLDRAN IVAN KUDA SENDHU APPADIYE VANDIYA OOTRIVENDI DHAN',\n",
              "       'ENERGY LOW AAGUM VARAI VELAIYADIYADHU ANDHA KALAM  BATTERY LOW AAGUM VARAI VELIYADHUVADHU INDHA KALAM.',\n",
              "       'ayyey vaaya paaru', 'no comments',\n",
              "       \"MEETS YOU BEFORE EXAM ASKS YOU QUESTIONS YOU'VE NEVER HEARD\",\n",
              "       'CURRENT THOTTAA SAADHARANA MANUSHANUKU THAAN SHOCK ADIKUM NAAN NARASIMMA.. ENNA THOTTAA ANDHA CURRENTUKE SHOCK ADIKKUM    CAPTAIN Y U NO PRODUCE CURRENT FOR TAMILNADU POWERCUT?',\n",
              "       'DAI NANACHUM PADAM MATTUM THA RELEASE PANREN... YENNA NAMBI NEENGA PADAM PAKALAMDA...  AANA IVANAILAM ORU AALA MATHICHU IVANUGALA NAMBI PADATHUKU POVATHINGADA...',\n",
              "       'ONGI ADICHA ONDRA TON WEIGHT AH??  AIYO, ATHU SATHIYAMA NAAN ILLAINGA NA.',\n",
              "       'YENDA UNGA APPA PEYARAI FRIDGEKULLA YELUDHI VACHURUKA.? AVARDHANDA SONNARU EN PEYAR KETTUPOGAMMA PAARTHUKONNU....!',\n",
              "       'WATCHING OTHER LANGUAGE MOVIE IN THEATRE SOOOPER APPU!',\n",
              "       'ENAKU PIDITHA YENNALME THOLAI THURATHULA ANDRU NILLA.. INDRU NEE..',\n",
              "       'EVERUONE IS A GANGSTER  UNTIL THE REAL GANSTER ARRIVES',\n",
              "       '*TN GIRLS',\n",
              "       'CLIMAX SCENE LA MAGALA KOOTITU VANDHU ALUDHA ELLARUM SUNA PANA AAGIDA MUDIYUMA? DA',\n",
              "       'DURING SCHOOL DAYS  ME & FRNDS: ANNA MAIL CHECK PANNANUM LAST SYSTEM KODUNGA  BROWSING CENTER ANNA:',\n",
              "       'REMEMBER THIS KID    THIS KID IS RIGHT NOW',\n",
              "       '*SINGLES: IVAN VERA ENGALA ROMBA TORCHER PANDRANDA...!',\n",
              "       'ENAIKI PUBG LA CHICKEN DINNER VANGURA PAYALUGALAM YARUUU  ORU KALATHULA DUCK KA SHOOT PANNA MUDIYAMA ENDHA NAI KITAA HE HE HE VANGUNA PAYALUGA THANN',\n",
              "       'LATER THAT DAY'], dtype=object)"
            ]
          },
          "metadata": {
            "tags": []
          },
          "execution_count": 74
        }
      ]
    },
    {
      "cell_type": "code",
      "metadata": {
        "colab": {
          "base_uri": "https://localhost:8080/"
        },
        "id": "b9dgO1m3QcsU",
        "outputId": "c393f21a-48d9-4434-a99c-1e1c51634674"
      },
      "source": [
        "(py_inputs, py_attn_masks,py_ids) = make_smart_batches_on_test(test_sentences,test_ids, batch_size,tokenizer,max_input_length )"
      ],
      "execution_count": 75,
      "outputs": [
        {
          "output_type": "stream",
          "text": [
            "Creating Smart Batches from 667 examples with batch size 16...\n",
            "\n",
            "Tokenizing 667 samples...\n",
            "  Tokenized 0 samples.\n",
            "  Tokenized 70 samples.\n",
            "  Tokenized 140 samples.\n",
            "  Tokenized 210 samples.\n",
            "  Tokenized 280 samples.\n",
            "  Tokenized 350 samples.\n",
            "  Tokenized 420 samples.\n",
            "  Tokenized 490 samples.\n",
            "  Tokenized 560 samples.\n",
            "  Tokenized 630 samples.\n",
            "DONE.\n",
            "       667 samples\n",
            "\n",
            "       667 samples after sorting\n",
            "\n",
            "Creating batches of size 16...\n",
            "\n",
            "  DONE - Selected 42 batches.\n",
            "\n",
            "Padding out sequences within each batch...\n",
            "  DONE.\n"
          ],
          "name": "stdout"
        }
      ]
    },
    {
      "cell_type": "markdown",
      "metadata": {
        "id": "vjsjqQpRQcsV"
      },
      "source": [
        "## Evaluating accuracy over test set"
      ]
    },
    {
      "cell_type": "code",
      "metadata": {
        "colab": {
          "base_uri": "https://localhost:8080/"
        },
        "id": "rwkx-30AQcsV",
        "outputId": "3e11cc0b-090f-46a5-f1ed-a21badc58873"
      },
      "source": [
        "y_ids,y_preds  = get_predictions_test(py_inputs, py_attn_masks,py_ids)\r\n"
      ],
      "execution_count": 76,
      "outputs": [
        {
          "output_type": "stream",
          "text": [
            "Predicting labels for 42 test batches...\n",
            "  Batch       4  of       42.    Elapsed: 0:00:00.  Remaining: 0:00:01\n",
            "  Batch       8  of       42.    Elapsed: 0:00:00.  Remaining: 0:00:01\n",
            "  Batch      12  of       42.    Elapsed: 0:00:00.  Remaining: 0:00:01\n",
            "  Batch      16  of       42.    Elapsed: 0:00:01.  Remaining: 0:00:01\n",
            "  Batch      20  of       42.    Elapsed: 0:00:01.  Remaining: 0:00:01\n",
            "  Batch      24  of       42.    Elapsed: 0:00:01.  Remaining: 0:00:01\n",
            "  Batch      28  of       42.    Elapsed: 0:00:01.  Remaining: 0:00:01\n",
            "  Batch      32  of       42.    Elapsed: 0:00:01.  Remaining: 0:00:00\n",
            "  Batch      36  of       42.    Elapsed: 0:00:01.  Remaining: 0:00:00\n",
            "  Batch      40  of       42.    Elapsed: 0:00:02.  Remaining: 0:00:00\n"
          ],
          "name": "stdout"
        }
      ]
    },
    {
      "cell_type": "code",
      "metadata": {
        "colab": {
          "base_uri": "https://localhost:8080/"
        },
        "id": "pDM-cnDHQcsW",
        "outputId": "11106460-ef91-4cc4-e374-954377f3e3d5"
      },
      "source": [
        "print(y_preds)"
      ],
      "execution_count": 77,
      "outputs": [
        {
          "output_type": "stream",
          "text": [
            "[0 0 1 1 1 1 0 1 1 0 0 0 0 1 1 1 0 0 1 0 1 1 1 1 1 1 1 1 0 1 1 1 1 1 1 1 1\n",
            " 1 0 1 1 1 1 1 1 1 1 0 0 1 0 0 0 0 1 0 0 0 0 1 1 1 1 1 1 1 1 1 1 1 1 0 1 0\n",
            " 0 1 1 1 1 1 1 1 1 1 1 1 1 0 0 0 1 1 1 1 1 1 0 1 1 0 0 0 1 1 1 0 1 1 1 0 0\n",
            " 1 1 1 1 1 1 1 1 1 1 1 1 1 1 1 1 1 1 0 1 1 1 0 1 1 1 1 1 0 1 1 1 1 1 1 0 1\n",
            " 1 1 1 1 1 1 1 1 1 1 1 1 1 1 1 1 1 1 1 1 1 1 1 1 1 1 1 1 0 1 0 1 1 1 1 1 1\n",
            " 1 1 1 1 1 1 0 1 1 1 1 0 1 1 1 1 1 1 1 1 0 1 1 1 0 1 1 1 1 1 1 1 1 1 1 1 1\n",
            " 1 1 0 1 0 1 1 1 1 0 1 1 1 1 0 1 1 1 1 1 1 1 1 1 1 1 1 1 1 1 1 1 1 1 1 0 1\n",
            " 1 0 1 1 0 1 1 0 1 0 1 1 1 1 0 0 1 1 1 1 1 1 1 1 0 1 1 0 1 1 1 1 1 1 1 1 1\n",
            " 1 1 1 1 1 1 1 1 1 1 1 1 1 1 1 1 1 1 1 1 1 1 1 1 1 1 1 0 0 1 1 1 1 1 1 0 1\n",
            " 0 1 1 1 1 1 0 0 0 0 0 1 1 1 1 1 1 0 0 1 1 1 1 1 1 1 1 1 1 0 1 0 0 0 1 0 0\n",
            " 1 0 1 1 0 0 0 1 1 1 1 1 0 1 1 1 1 1 1 0 0 1 0 0 1 0 0 1 1 1 1 1 1 1 1 1 1\n",
            " 1 1 1 0 1 1 0 1 1 1 0 0 1 1 1 1 1 1 1 1 1 0 1 1 1 1 1 0 1 1 1 1 1 1 1 1 1\n",
            " 1 1 1 1 0 1 1 1 1 0 0 1 1 1 1 1 1 1 1 0 1 0 0 0 1 1 1 1 1 0 1 0 1 0 1 0 1\n",
            " 1 1 1 1 1 1 1 0 1 1 0 1 1 0 1 1 1 1 1 0 0 1 0 1 1 1 0 1 1 1 1 1 1 1 0 1 1\n",
            " 1 1 0 0 0 0 1 1 1 1 1 1 1 1 1 1 1 1 1 1 1 0 0 1 1 1 1 1 1 1 1 1 1 1 1 1 1\n",
            " 1 1 1 1 1 0 1 1 1 1 1 1 1 1 1 1 1 1 1 1 1 0 1 1 1 1 1 1 1 1 0 1 1 1 0 0 0\n",
            " 1 1 1 1 1 1 1 1 1 1 1 1 1 1 1 1 1 1 0 1 0 1 0 1 1 1 1 0 1 0 1 1 1 1 1 1 1\n",
            " 1 1 1 1 1 1 1 0 1 1 1 1 1 1 1 1 0 1 0 0 1 1 1 1 0 1 1 1 1 0 1 1 1 1 1 0 1\n",
            " 1]\n"
          ],
          "name": "stdout"
        }
      ]
    },
    {
      "cell_type": "code",
      "metadata": {
        "colab": {
          "base_uri": "https://localhost:8080/"
        },
        "id": "kWWWjz7eUPc7",
        "outputId": "e71dbfbf-f83e-4253-b7a1-fe7458b25547"
      },
      "source": [
        "print(y_ids)"
      ],
      "execution_count": 78,
      "outputs": [
        {
          "output_type": "stream",
          "text": [
            "[286 290 539  44 437 578 600  12  62 136 243 353 443 537 542 548 214 266\n",
            " 314 363 387 445 496 555 640  45  52 269 295 311 324 343 641 663   7  27\n",
            " 131 170 236 280 282 303 345 403 490  65  89 149 179 199 204 207 209 213\n",
            " 218 224 232 251 284 613 630 647 660 594 283 421 440 453 509 529 543 558\n",
            " 585 602 606   0   6  83  93 128 571 587 664  48 111 146 153 191 197 223\n",
            " 246 356 388 461 582 126 428 450 561 575 603 608 617 623  47  82 165 169\n",
            " 352 358 371 380  38 379 510 549 577 627 130 272 308 412 415 476 631 339\n",
            " 427 634  56 121 137 183 212 216 259 268 305 328 331 355 411 419 504 565\n",
            " 460 473 489 499 514 655  33 279 348 366 377 484 487 540   5  43 506 654\n",
            " 382   4 229 653 180  40 625  24 564 573 390 633 502 281 463 492 560 563\n",
            " 598  17 588 591  63  77 203 228 256 177 230 270 340 385 397 404 424 444\n",
            " 485 488  69 301 335 456 495 127 156 245 624 172 517 520 574 581 614 187\n",
            " 534 645  21 116 117 287 329 472 431 458 478 513   3  60  94 188 278 292\n",
            " 297 321 394 433 553 636 306 566  41 546 554 242 317 330 526 629 416 503\n",
            " 632  36 182 409 467 468 491   1 139 178 186 263 274 289 342 475 477 493\n",
            " 576   8 438 486 500  90  91 112 285 405 436 541 621  50  66 113 154 201\n",
            "  37  39 175 265  32 157 252 296 459 519 612 649  10 147 362 372 531  25\n",
            " 122 144 524 527 532 257 483 648 120 151 351 376 407 220  67  80  96 100\n",
            " 103 133 195 369 451  34  58  71  86 176 234 323  51  87 160 217 455 462\n",
            " 494 590 599 184 200 244 316 389 393 423 361 414 418 515 535 544  49 260\n",
            " 601  19 134 135 161 192 198 315 299 441  42 384 434 637  84 104 114 174\n",
            " 181 275 325 386 222 238  64  72  78  79  92 101 173   9 422 430 432 609\n",
            " 650 666  59  70 262 354 391 398 559 656  31 482 547 334 235 616 525 248\n",
            " 326 163 512 583 584 604 644 652  53  61  68  99 208 247 254 276 288 360\n",
            " 469 550 605  15 110 145 215 240 322 454 518 528 572 109 115 125 221 226\n",
            " 298 401  14 138 152 194 349 521 530 569 646 374 505 589 406 410 551 552\n",
            " 579 615 628  20 106 129 132 193 219 241 357 429 408 442 448 562 595 611\n",
            " 643 661  11 250 264 344 596 658   2 206 375 659  55  73 102 107 140 155\n",
            " 168 196 211 364 395 470 570 620 304 368 399 568 619  76  97 255 273 359\n",
            " 471 597  23  74  81  88 538 635 642  30 142 318 337 465 143 159 277 313\n",
            " 338 396 501 567 479 639 119 158 167 310 327 466 593 108 124 291 533 545\n",
            " 233 474 261 523 607 610 662 189 435 464 480 507 557  16 118 618 210 665\n",
            " 312 319 367  35  85 202 237 336 346 586 657 123 162 320 341 347 439 497\n",
            " 498 556 651  54  57 171 333 381 481 592  75  95  98 166 457 148 185 205\n",
            " 231 293 332 449 452 105 271 302 350 141 150 227 580  18  26  46 258  22\n",
            " 626  28 638  13 622  29 239 425 522 511 307 309 365 370 402 378 400 446\n",
            " 447 267 392 225 249 373 508 516 420 164 383 413 417 426 190 253 294 300\n",
            " 536]\n"
          ],
          "name": "stdout"
        }
      ]
    },
    {
      "cell_type": "code",
      "metadata": {
        "colab": {
          "base_uri": "https://localhost:8080/"
        },
        "id": "u2ybbsAoQcsY",
        "outputId": "841981c5-3d1a-4cdd-ff9c-f7b90e9ffbd0"
      },
      "source": [
        "le.inverse_transform(y_preds)"
      ],
      "execution_count": 79,
      "outputs": [
        {
          "output_type": "execute_result",
          "data": {
            "text/plain": [
              "array(['Not_troll', 'Not_troll', 'troll', 'troll', 'troll', 'troll',\n",
              "       'Not_troll', 'troll', 'troll', 'Not_troll', 'Not_troll',\n",
              "       'Not_troll', 'Not_troll', 'troll', 'troll', 'troll', 'Not_troll',\n",
              "       'Not_troll', 'troll', 'Not_troll', 'troll', 'troll', 'troll',\n",
              "       'troll', 'troll', 'troll', 'troll', 'troll', 'Not_troll', 'troll',\n",
              "       'troll', 'troll', 'troll', 'troll', 'troll', 'troll', 'troll',\n",
              "       'troll', 'Not_troll', 'troll', 'troll', 'troll', 'troll', 'troll',\n",
              "       'troll', 'troll', 'troll', 'Not_troll', 'Not_troll', 'troll',\n",
              "       'Not_troll', 'Not_troll', 'Not_troll', 'Not_troll', 'troll',\n",
              "       'Not_troll', 'Not_troll', 'Not_troll', 'Not_troll', 'troll',\n",
              "       'troll', 'troll', 'troll', 'troll', 'troll', 'troll', 'troll',\n",
              "       'troll', 'troll', 'troll', 'troll', 'Not_troll', 'troll',\n",
              "       'Not_troll', 'Not_troll', 'troll', 'troll', 'troll', 'troll',\n",
              "       'troll', 'troll', 'troll', 'troll', 'troll', 'troll', 'troll',\n",
              "       'troll', 'Not_troll', 'Not_troll', 'Not_troll', 'troll', 'troll',\n",
              "       'troll', 'troll', 'troll', 'troll', 'Not_troll', 'troll', 'troll',\n",
              "       'Not_troll', 'Not_troll', 'Not_troll', 'troll', 'troll', 'troll',\n",
              "       'Not_troll', 'troll', 'troll', 'troll', 'Not_troll', 'Not_troll',\n",
              "       'troll', 'troll', 'troll', 'troll', 'troll', 'troll', 'troll',\n",
              "       'troll', 'troll', 'troll', 'troll', 'troll', 'troll', 'troll',\n",
              "       'troll', 'troll', 'troll', 'troll', 'Not_troll', 'troll', 'troll',\n",
              "       'troll', 'Not_troll', 'troll', 'troll', 'troll', 'troll', 'troll',\n",
              "       'Not_troll', 'troll', 'troll', 'troll', 'troll', 'troll', 'troll',\n",
              "       'Not_troll', 'troll', 'troll', 'troll', 'troll', 'troll', 'troll',\n",
              "       'troll', 'troll', 'troll', 'troll', 'troll', 'troll', 'troll',\n",
              "       'troll', 'troll', 'troll', 'troll', 'troll', 'troll', 'troll',\n",
              "       'troll', 'troll', 'troll', 'troll', 'troll', 'troll', 'troll',\n",
              "       'troll', 'troll', 'Not_troll', 'troll', 'Not_troll', 'troll',\n",
              "       'troll', 'troll', 'troll', 'troll', 'troll', 'troll', 'troll',\n",
              "       'troll', 'troll', 'troll', 'troll', 'Not_troll', 'troll', 'troll',\n",
              "       'troll', 'troll', 'Not_troll', 'troll', 'troll', 'troll', 'troll',\n",
              "       'troll', 'troll', 'troll', 'troll', 'Not_troll', 'troll', 'troll',\n",
              "       'troll', 'Not_troll', 'troll', 'troll', 'troll', 'troll', 'troll',\n",
              "       'troll', 'troll', 'troll', 'troll', 'troll', 'troll', 'troll',\n",
              "       'troll', 'troll', 'Not_troll', 'troll', 'Not_troll', 'troll',\n",
              "       'troll', 'troll', 'troll', 'Not_troll', 'troll', 'troll', 'troll',\n",
              "       'troll', 'Not_troll', 'troll', 'troll', 'troll', 'troll', 'troll',\n",
              "       'troll', 'troll', 'troll', 'troll', 'troll', 'troll', 'troll',\n",
              "       'troll', 'troll', 'troll', 'troll', 'troll', 'troll', 'troll',\n",
              "       'troll', 'Not_troll', 'troll', 'troll', 'Not_troll', 'troll',\n",
              "       'troll', 'Not_troll', 'troll', 'troll', 'Not_troll', 'troll',\n",
              "       'Not_troll', 'troll', 'troll', 'troll', 'troll', 'Not_troll',\n",
              "       'Not_troll', 'troll', 'troll', 'troll', 'troll', 'troll', 'troll',\n",
              "       'troll', 'troll', 'Not_troll', 'troll', 'troll', 'Not_troll',\n",
              "       'troll', 'troll', 'troll', 'troll', 'troll', 'troll', 'troll',\n",
              "       'troll', 'troll', 'troll', 'troll', 'troll', 'troll', 'troll',\n",
              "       'troll', 'troll', 'troll', 'troll', 'troll', 'troll', 'troll',\n",
              "       'troll', 'troll', 'troll', 'troll', 'troll', 'troll', 'troll',\n",
              "       'troll', 'troll', 'troll', 'troll', 'troll', 'troll', 'troll',\n",
              "       'troll', 'Not_troll', 'Not_troll', 'troll', 'troll', 'troll',\n",
              "       'troll', 'troll', 'troll', 'Not_troll', 'troll', 'Not_troll',\n",
              "       'troll', 'troll', 'troll', 'troll', 'troll', 'Not_troll',\n",
              "       'Not_troll', 'Not_troll', 'Not_troll', 'Not_troll', 'troll',\n",
              "       'troll', 'troll', 'troll', 'troll', 'troll', 'Not_troll',\n",
              "       'Not_troll', 'troll', 'troll', 'troll', 'troll', 'troll', 'troll',\n",
              "       'troll', 'troll', 'troll', 'troll', 'Not_troll', 'troll',\n",
              "       'Not_troll', 'Not_troll', 'Not_troll', 'troll', 'Not_troll',\n",
              "       'Not_troll', 'troll', 'Not_troll', 'troll', 'troll', 'Not_troll',\n",
              "       'Not_troll', 'Not_troll', 'troll', 'troll', 'troll', 'troll',\n",
              "       'troll', 'Not_troll', 'troll', 'troll', 'troll', 'troll', 'troll',\n",
              "       'troll', 'Not_troll', 'Not_troll', 'troll', 'Not_troll',\n",
              "       'Not_troll', 'troll', 'Not_troll', 'Not_troll', 'troll', 'troll',\n",
              "       'troll', 'troll', 'troll', 'troll', 'troll', 'troll', 'troll',\n",
              "       'troll', 'troll', 'troll', 'troll', 'Not_troll', 'troll', 'troll',\n",
              "       'Not_troll', 'troll', 'troll', 'troll', 'Not_troll', 'Not_troll',\n",
              "       'troll', 'troll', 'troll', 'troll', 'troll', 'troll', 'troll',\n",
              "       'troll', 'troll', 'Not_troll', 'troll', 'troll', 'troll', 'troll',\n",
              "       'troll', 'Not_troll', 'troll', 'troll', 'troll', 'troll', 'troll',\n",
              "       'troll', 'troll', 'troll', 'troll', 'troll', 'troll', 'troll',\n",
              "       'troll', 'Not_troll', 'troll', 'troll', 'troll', 'troll',\n",
              "       'Not_troll', 'Not_troll', 'troll', 'troll', 'troll', 'troll',\n",
              "       'troll', 'troll', 'troll', 'troll', 'Not_troll', 'troll',\n",
              "       'Not_troll', 'Not_troll', 'Not_troll', 'troll', 'troll', 'troll',\n",
              "       'troll', 'troll', 'Not_troll', 'troll', 'Not_troll', 'troll',\n",
              "       'Not_troll', 'troll', 'Not_troll', 'troll', 'troll', 'troll',\n",
              "       'troll', 'troll', 'troll', 'troll', 'troll', 'Not_troll', 'troll',\n",
              "       'troll', 'Not_troll', 'troll', 'troll', 'Not_troll', 'troll',\n",
              "       'troll', 'troll', 'troll', 'troll', 'Not_troll', 'Not_troll',\n",
              "       'troll', 'Not_troll', 'troll', 'troll', 'troll', 'Not_troll',\n",
              "       'troll', 'troll', 'troll', 'troll', 'troll', 'troll', 'troll',\n",
              "       'Not_troll', 'troll', 'troll', 'troll', 'troll', 'Not_troll',\n",
              "       'Not_troll', 'Not_troll', 'Not_troll', 'troll', 'troll', 'troll',\n",
              "       'troll', 'troll', 'troll', 'troll', 'troll', 'troll', 'troll',\n",
              "       'troll', 'troll', 'troll', 'troll', 'troll', 'Not_troll',\n",
              "       'Not_troll', 'troll', 'troll', 'troll', 'troll', 'troll', 'troll',\n",
              "       'troll', 'troll', 'troll', 'troll', 'troll', 'troll', 'troll',\n",
              "       'troll', 'troll', 'troll', 'troll', 'troll', 'troll', 'Not_troll',\n",
              "       'troll', 'troll', 'troll', 'troll', 'troll', 'troll', 'troll',\n",
              "       'troll', 'troll', 'troll', 'troll', 'troll', 'troll', 'troll',\n",
              "       'troll', 'Not_troll', 'troll', 'troll', 'troll', 'troll', 'troll',\n",
              "       'troll', 'troll', 'troll', 'Not_troll', 'troll', 'troll', 'troll',\n",
              "       'Not_troll', 'Not_troll', 'Not_troll', 'troll', 'troll', 'troll',\n",
              "       'troll', 'troll', 'troll', 'troll', 'troll', 'troll', 'troll',\n",
              "       'troll', 'troll', 'troll', 'troll', 'troll', 'troll', 'troll',\n",
              "       'troll', 'Not_troll', 'troll', 'Not_troll', 'troll', 'Not_troll',\n",
              "       'troll', 'troll', 'troll', 'troll', 'Not_troll', 'troll',\n",
              "       'Not_troll', 'troll', 'troll', 'troll', 'troll', 'troll', 'troll',\n",
              "       'troll', 'troll', 'troll', 'troll', 'troll', 'troll', 'troll',\n",
              "       'troll', 'Not_troll', 'troll', 'troll', 'troll', 'troll', 'troll',\n",
              "       'troll', 'troll', 'troll', 'Not_troll', 'troll', 'Not_troll',\n",
              "       'Not_troll', 'troll', 'troll', 'troll', 'troll', 'Not_troll',\n",
              "       'troll', 'troll', 'troll', 'troll', 'Not_troll', 'troll', 'troll',\n",
              "       'troll', 'troll', 'troll', 'Not_troll', 'troll', 'troll'],\n",
              "      dtype=object)"
            ]
          },
          "metadata": {
            "tags": []
          },
          "execution_count": 79
        }
      ]
    },
    {
      "cell_type": "code",
      "metadata": {
        "colab": {
          "base_uri": "https://localhost:8080/",
          "height": 424
        },
        "id": "kSMb6sCLQcsZ",
        "outputId": "e26ae877-1b37-40a7-8c8f-23e6841efff9"
      },
      "source": [
        "sns.countplot(y =le.inverse_transform(y_preds))"
      ],
      "execution_count": 80,
      "outputs": [
        {
          "output_type": "execute_result",
          "data": {
            "text/plain": [
              "<matplotlib.axes._subplots.AxesSubplot at 0x7fb12d7b3b00>"
            ]
          },
          "metadata": {
            "tags": []
          },
          "execution_count": 80
        },
        {
          "output_type": "display_data",
          "data": {
            "image/png": "[encoded data removed]",
            "text/plain": [
              "<Figure size 864x432 with 1 Axes>"
            ]
          },
          "metadata": {
            "tags": []
          }
        }
      ]
    },
    {
      "cell_type": "code",
      "metadata": {
        "colab": {
          "base_uri": "https://localhost:8080/"
        },
        "id": "4KXOXwH9U2MT",
        "outputId": "b50bc9e1-a73c-442e-9deb-36fd80da0d9e"
      },
      "source": [
        "len(y_ids)"
      ],
      "execution_count": 81,
      "outputs": [
        {
          "output_type": "execute_result",
          "data": {
            "text/plain": [
              "667"
            ]
          },
          "metadata": {
            "tags": []
          },
          "execution_count": 81
        }
      ]
    },
    {
      "cell_type": "code",
      "metadata": {
        "colab": {
          "base_uri": "https://localhost:8080/"
        },
        "id": "9-fkBgOxU4bX",
        "outputId": "88f59dca-c7f4-45eb-ed0d-53b0bfbbaa8f"
      },
      "source": [
        "len(le.inverse_transform(y_preds))"
      ],
      "execution_count": 82,
      "outputs": [
        {
          "output_type": "execute_result",
          "data": {
            "text/plain": [
              "667"
            ]
          },
          "metadata": {
            "tags": []
          },
          "execution_count": 82
        }
      ]
    },
    {
      "cell_type": "markdown",
      "metadata": {
        "id": "sWPDqogJrjIZ"
      },
      "source": [
        "## Creating Submission DataFrame"
      ]
    },
    {
      "cell_type": "code",
      "metadata": {
        "id": "o4Hb7RD1yHol"
      },
      "source": [
        "df_new = pd.DataFrame({\r\n",
        "    'id':y_ids,\r\n",
        "    'label':le.inverse_transform(y_preds)\r\n",
        "})"
      ],
      "execution_count": 83,
      "outputs": []
    },
    {
      "cell_type": "code",
      "metadata": {
        "id": "twQAkVzcn4Lg"
      },
      "source": [
        "test_df['id'] = test_df.index"
      ],
      "execution_count": 84,
      "outputs": []
    },
    {
      "cell_type": "code",
      "metadata": {
        "colab": {
          "base_uri": "https://localhost:8080/",
          "height": 402
        },
        "id": "qov36eWmqawv",
        "outputId": "12376b37-38c9-4786-9284-6aa0da655ffe"
      },
      "source": [
        "df_new"
      ],
      "execution_count": 85,
      "outputs": [
        {
          "output_type": "execute_result",
          "data": {
            "text/html": [
              "<div>\n",
              "<style scoped>\n",
              "    .dataframe tbody tr th:only-of-type {\n",
              "        vertical-align: middle;\n",
              "    }\n",
              "\n",
              "    .dataframe tbody tr th {\n",
              "        vertical-align: top;\n",
              "    }\n",
              "\n",
              "    .dataframe thead th {\n",
              "        text-align: right;\n",
              "    }\n",
              "</style>\n",
              "<table border=\"1\" class=\"dataframe\">\n",
              "  <thead>\n",
              "    <tr style=\"text-align: right;\">\n",
              "      <th></th>\n",
              "      <th>id</th>\n",
              "      <th>label</th>\n",
              "    </tr>\n",
              "  </thead>\n",
              "  <tbody>\n",
              "    <tr>\n",
              "      <th>0</th>\n",
              "      <td>286</td>\n",
              "      <td>Not_troll</td>\n",
              "    </tr>\n",
              "    <tr>\n",
              "      <th>1</th>\n",
              "      <td>290</td>\n",
              "      <td>Not_troll</td>\n",
              "    </tr>\n",
              "    <tr>\n",
              "      <th>2</th>\n",
              "      <td>539</td>\n",
              "      <td>troll</td>\n",
              "    </tr>\n",
              "    <tr>\n",
              "      <th>3</th>\n",
              "      <td>44</td>\n",
              "      <td>troll</td>\n",
              "    </tr>\n",
              "    <tr>\n",
              "      <th>4</th>\n",
              "      <td>437</td>\n",
              "      <td>troll</td>\n",
              "    </tr>\n",
              "    <tr>\n",
              "      <th>...</th>\n",
              "      <td>...</td>\n",
              "      <td>...</td>\n",
              "    </tr>\n",
              "    <tr>\n",
              "      <th>662</th>\n",
              "      <td>190</td>\n",
              "      <td>troll</td>\n",
              "    </tr>\n",
              "    <tr>\n",
              "      <th>663</th>\n",
              "      <td>253</td>\n",
              "      <td>troll</td>\n",
              "    </tr>\n",
              "    <tr>\n",
              "      <th>664</th>\n",
              "      <td>294</td>\n",
              "      <td>Not_troll</td>\n",
              "    </tr>\n",
              "    <tr>\n",
              "      <th>665</th>\n",
              "      <td>300</td>\n",
              "      <td>troll</td>\n",
              "    </tr>\n",
              "    <tr>\n",
              "      <th>666</th>\n",
              "      <td>536</td>\n",
              "      <td>troll</td>\n",
              "    </tr>\n",
              "  </tbody>\n",
              "</table>\n",
              "<p>667 rows × 2 columns</p>\n",
              "</div>"
            ],
            "text/plain": [
              "      id      label\n",
              "0    286  Not_troll\n",
              "1    290  Not_troll\n",
              "2    539      troll\n",
              "3     44      troll\n",
              "4    437      troll\n",
              "..   ...        ...\n",
              "662  190      troll\n",
              "663  253      troll\n",
              "664  294  Not_troll\n",
              "665  300      troll\n",
              "666  536      troll\n",
              "\n",
              "[667 rows x 2 columns]"
            ]
          },
          "metadata": {
            "tags": []
          },
          "execution_count": 85
        }
      ]
    },
    {
      "cell_type": "code",
      "metadata": {
        "colab": {
          "base_uri": "https://localhost:8080/",
          "height": 402
        },
        "id": "z0CEApHmqdLr",
        "outputId": "8f0e0ddb-e6e7-4108-9f07-20aa004d3695"
      },
      "source": [
        "test_df"
      ],
      "execution_count": 86,
      "outputs": [
        {
          "output_type": "execute_result",
          "data": {
            "text/html": [
              "<div>\n",
              "<style scoped>\n",
              "    .dataframe tbody tr th:only-of-type {\n",
              "        vertical-align: middle;\n",
              "    }\n",
              "\n",
              "    .dataframe tbody tr th {\n",
              "        vertical-align: top;\n",
              "    }\n",
              "\n",
              "    .dataframe thead th {\n",
              "        text-align: right;\n",
              "    }\n",
              "</style>\n",
              "<table border=\"1\" class=\"dataframe\">\n",
              "  <thead>\n",
              "    <tr style=\"text-align: right;\">\n",
              "      <th></th>\n",
              "      <th>Unnamed: 0</th>\n",
              "      <th>imagename</th>\n",
              "      <th>captions</th>\n",
              "      <th>id</th>\n",
              "    </tr>\n",
              "  </thead>\n",
              "  <tbody>\n",
              "    <tr>\n",
              "      <th>0</th>\n",
              "      <td>0</td>\n",
              "      <td>test_img_0.jpg</td>\n",
              "      <td>sugarkaga nadandhava vida figuregaga nadandhav...</td>\n",
              "      <td>0</td>\n",
              "    </tr>\n",
              "    <tr>\n",
              "      <th>1</th>\n",
              "      <td>1</td>\n",
              "      <td>test_img_1.jpg</td>\n",
              "      <td>i have come for my stones      stones thaane.....</td>\n",
              "      <td>1</td>\n",
              "    </tr>\n",
              "    <tr>\n",
              "      <th>2</th>\n",
              "      <td>2</td>\n",
              "      <td>test_img_2.jpg</td>\n",
              "      <td>\"special porotta\" nu pottuierukke spacial kum ...</td>\n",
              "      <td>2</td>\n",
              "    </tr>\n",
              "    <tr>\n",
              "      <th>3</th>\n",
              "      <td>3</td>\n",
              "      <td>test_img_3.jpg</td>\n",
              "      <td>*we : amma .. cooker 3 whistle vanthuchu off p...</td>\n",
              "      <td>3</td>\n",
              "    </tr>\n",
              "    <tr>\n",
              "      <th>4</th>\n",
              "      <td>4</td>\n",
              "      <td>test_img_4.jpg</td>\n",
              "      <td>creating whatsapp group - 1st day vaanga ji.. ...</td>\n",
              "      <td>4</td>\n",
              "    </tr>\n",
              "    <tr>\n",
              "      <th>...</th>\n",
              "      <td>...</td>\n",
              "      <td>...</td>\n",
              "      <td>...</td>\n",
              "      <td>...</td>\n",
              "    </tr>\n",
              "    <tr>\n",
              "      <th>662</th>\n",
              "      <td>662</td>\n",
              "      <td>test_img_662.jpg</td>\n",
              "      <td>DURING SCHOOL DAYS  ME &amp; FRNDS: ANNA MAIL CHEC...</td>\n",
              "      <td>662</td>\n",
              "    </tr>\n",
              "    <tr>\n",
              "      <th>663</th>\n",
              "      <td>663</td>\n",
              "      <td>test_img_663.jpg</td>\n",
              "      <td>REMEMBER THIS KID    THIS KID IS RIGHT NOW</td>\n",
              "      <td>663</td>\n",
              "    </tr>\n",
              "    <tr>\n",
              "      <th>664</th>\n",
              "      <td>664</td>\n",
              "      <td>test_img_664.jpg</td>\n",
              "      <td>*SINGLES: IVAN VERA ENGALA ROMBA TORCHER PANDR...</td>\n",
              "      <td>664</td>\n",
              "    </tr>\n",
              "    <tr>\n",
              "      <th>665</th>\n",
              "      <td>665</td>\n",
              "      <td>test_img_665.jpg</td>\n",
              "      <td>ENAIKI PUBG LA CHICKEN DINNER VANGURA PAYALUGA...</td>\n",
              "      <td>665</td>\n",
              "    </tr>\n",
              "    <tr>\n",
              "      <th>666</th>\n",
              "      <td>666</td>\n",
              "      <td>test_img_666.jpg</td>\n",
              "      <td>LATER THAT DAY</td>\n",
              "      <td>666</td>\n",
              "    </tr>\n",
              "  </tbody>\n",
              "</table>\n",
              "<p>667 rows × 4 columns</p>\n",
              "</div>"
            ],
            "text/plain": [
              "     Unnamed: 0  ...   id\n",
              "0             0  ...    0\n",
              "1             1  ...    1\n",
              "2             2  ...    2\n",
              "3             3  ...    3\n",
              "4             4  ...    4\n",
              "..          ...  ...  ...\n",
              "662         662  ...  662\n",
              "663         663  ...  663\n",
              "664         664  ...  664\n",
              "665         665  ...  665\n",
              "666         666  ...  666\n",
              "\n",
              "[667 rows x 4 columns]"
            ]
          },
          "metadata": {
            "tags": []
          },
          "execution_count": 86
        }
      ]
    },
    {
      "cell_type": "code",
      "metadata": {
        "colab": {
          "base_uri": "https://localhost:8080/",
          "height": 402
        },
        "id": "vxReWWmxn7Hj",
        "outputId": "2ad21558-3769-4b39-d98d-c15cb7be76cc"
      },
      "source": [
        "df_f = pd.merge(test_df,df_new,on = 'id')\r\n",
        "df_f"
      ],
      "execution_count": 87,
      "outputs": [
        {
          "output_type": "execute_result",
          "data": {
            "text/html": [
              "<div>\n",
              "<style scoped>\n",
              "    .dataframe tbody tr th:only-of-type {\n",
              "        vertical-align: middle;\n",
              "    }\n",
              "\n",
              "    .dataframe tbody tr th {\n",
              "        vertical-align: top;\n",
              "    }\n",
              "\n",
              "    .dataframe thead th {\n",
              "        text-align: right;\n",
              "    }\n",
              "</style>\n",
              "<table border=\"1\" class=\"dataframe\">\n",
              "  <thead>\n",
              "    <tr style=\"text-align: right;\">\n",
              "      <th></th>\n",
              "      <th>Unnamed: 0</th>\n",
              "      <th>imagename</th>\n",
              "      <th>captions</th>\n",
              "      <th>id</th>\n",
              "      <th>label</th>\n",
              "    </tr>\n",
              "  </thead>\n",
              "  <tbody>\n",
              "    <tr>\n",
              "      <th>0</th>\n",
              "      <td>0</td>\n",
              "      <td>test_img_0.jpg</td>\n",
              "      <td>sugarkaga nadandhava vida figuregaga nadandhav...</td>\n",
              "      <td>0</td>\n",
              "      <td>troll</td>\n",
              "    </tr>\n",
              "    <tr>\n",
              "      <th>1</th>\n",
              "      <td>1</td>\n",
              "      <td>test_img_1.jpg</td>\n",
              "      <td>i have come for my stones      stones thaane.....</td>\n",
              "      <td>1</td>\n",
              "      <td>troll</td>\n",
              "    </tr>\n",
              "    <tr>\n",
              "      <th>2</th>\n",
              "      <td>2</td>\n",
              "      <td>test_img_2.jpg</td>\n",
              "      <td>\"special porotta\" nu pottuierukke spacial kum ...</td>\n",
              "      <td>2</td>\n",
              "      <td>Not_troll</td>\n",
              "    </tr>\n",
              "    <tr>\n",
              "      <th>3</th>\n",
              "      <td>3</td>\n",
              "      <td>test_img_3.jpg</td>\n",
              "      <td>*we : amma .. cooker 3 whistle vanthuchu off p...</td>\n",
              "      <td>3</td>\n",
              "      <td>troll</td>\n",
              "    </tr>\n",
              "    <tr>\n",
              "      <th>4</th>\n",
              "      <td>4</td>\n",
              "      <td>test_img_4.jpg</td>\n",
              "      <td>creating whatsapp group - 1st day vaanga ji.. ...</td>\n",
              "      <td>4</td>\n",
              "      <td>troll</td>\n",
              "    </tr>\n",
              "    <tr>\n",
              "      <th>...</th>\n",
              "      <td>...</td>\n",
              "      <td>...</td>\n",
              "      <td>...</td>\n",
              "      <td>...</td>\n",
              "      <td>...</td>\n",
              "    </tr>\n",
              "    <tr>\n",
              "      <th>662</th>\n",
              "      <td>662</td>\n",
              "      <td>test_img_662.jpg</td>\n",
              "      <td>DURING SCHOOL DAYS  ME &amp; FRNDS: ANNA MAIL CHEC...</td>\n",
              "      <td>662</td>\n",
              "      <td>troll</td>\n",
              "    </tr>\n",
              "    <tr>\n",
              "      <th>663</th>\n",
              "      <td>663</td>\n",
              "      <td>test_img_663.jpg</td>\n",
              "      <td>REMEMBER THIS KID    THIS KID IS RIGHT NOW</td>\n",
              "      <td>663</td>\n",
              "      <td>troll</td>\n",
              "    </tr>\n",
              "    <tr>\n",
              "      <th>664</th>\n",
              "      <td>664</td>\n",
              "      <td>test_img_664.jpg</td>\n",
              "      <td>*SINGLES: IVAN VERA ENGALA ROMBA TORCHER PANDR...</td>\n",
              "      <td>664</td>\n",
              "      <td>troll</td>\n",
              "    </tr>\n",
              "    <tr>\n",
              "      <th>665</th>\n",
              "      <td>665</td>\n",
              "      <td>test_img_665.jpg</td>\n",
              "      <td>ENAIKI PUBG LA CHICKEN DINNER VANGURA PAYALUGA...</td>\n",
              "      <td>665</td>\n",
              "      <td>troll</td>\n",
              "    </tr>\n",
              "    <tr>\n",
              "      <th>666</th>\n",
              "      <td>666</td>\n",
              "      <td>test_img_666.jpg</td>\n",
              "      <td>LATER THAT DAY</td>\n",
              "      <td>666</td>\n",
              "      <td>troll</td>\n",
              "    </tr>\n",
              "  </tbody>\n",
              "</table>\n",
              "<p>667 rows × 5 columns</p>\n",
              "</div>"
            ],
            "text/plain": [
              "     Unnamed: 0         imagename  ...   id      label\n",
              "0             0    test_img_0.jpg  ...    0      troll\n",
              "1             1    test_img_1.jpg  ...    1      troll\n",
              "2             2    test_img_2.jpg  ...    2  Not_troll\n",
              "3             3    test_img_3.jpg  ...    3      troll\n",
              "4             4    test_img_4.jpg  ...    4      troll\n",
              "..          ...               ...  ...  ...        ...\n",
              "662         662  test_img_662.jpg  ...  662      troll\n",
              "663         663  test_img_663.jpg  ...  663      troll\n",
              "664         664  test_img_664.jpg  ...  664      troll\n",
              "665         665  test_img_665.jpg  ...  665      troll\n",
              "666         666  test_img_666.jpg  ...  666      troll\n",
              "\n",
              "[667 rows x 5 columns]"
            ]
          },
          "metadata": {
            "tags": []
          },
          "execution_count": 87
        }
      ]
    },
    {
      "cell_type": "code",
      "metadata": {
        "colab": {
          "base_uri": "https://localhost:8080/",
          "height": 402
        },
        "id": "1kuASymYn9aV",
        "outputId": "b95a9346-0288-4d72-bdff-542586235a5a"
      },
      "source": [
        "df_f = df_f[['imagename','label']]\r\n",
        "df_f"
      ],
      "execution_count": 88,
      "outputs": [
        {
          "output_type": "execute_result",
          "data": {
            "text/html": [
              "<div>\n",
              "<style scoped>\n",
              "    .dataframe tbody tr th:only-of-type {\n",
              "        vertical-align: middle;\n",
              "    }\n",
              "\n",
              "    .dataframe tbody tr th {\n",
              "        vertical-align: top;\n",
              "    }\n",
              "\n",
              "    .dataframe thead th {\n",
              "        text-align: right;\n",
              "    }\n",
              "</style>\n",
              "<table border=\"1\" class=\"dataframe\">\n",
              "  <thead>\n",
              "    <tr style=\"text-align: right;\">\n",
              "      <th></th>\n",
              "      <th>imagename</th>\n",
              "      <th>label</th>\n",
              "    </tr>\n",
              "  </thead>\n",
              "  <tbody>\n",
              "    <tr>\n",
              "      <th>0</th>\n",
              "      <td>test_img_0.jpg</td>\n",
              "      <td>troll</td>\n",
              "    </tr>\n",
              "    <tr>\n",
              "      <th>1</th>\n",
              "      <td>test_img_1.jpg</td>\n",
              "      <td>troll</td>\n",
              "    </tr>\n",
              "    <tr>\n",
              "      <th>2</th>\n",
              "      <td>test_img_2.jpg</td>\n",
              "      <td>Not_troll</td>\n",
              "    </tr>\n",
              "    <tr>\n",
              "      <th>3</th>\n",
              "      <td>test_img_3.jpg</td>\n",
              "      <td>troll</td>\n",
              "    </tr>\n",
              "    <tr>\n",
              "      <th>4</th>\n",
              "      <td>test_img_4.jpg</td>\n",
              "      <td>troll</td>\n",
              "    </tr>\n",
              "    <tr>\n",
              "      <th>...</th>\n",
              "      <td>...</td>\n",
              "      <td>...</td>\n",
              "    </tr>\n",
              "    <tr>\n",
              "      <th>662</th>\n",
              "      <td>test_img_662.jpg</td>\n",
              "      <td>troll</td>\n",
              "    </tr>\n",
              "    <tr>\n",
              "      <th>663</th>\n",
              "      <td>test_img_663.jpg</td>\n",
              "      <td>troll</td>\n",
              "    </tr>\n",
              "    <tr>\n",
              "      <th>664</th>\n",
              "      <td>test_img_664.jpg</td>\n",
              "      <td>troll</td>\n",
              "    </tr>\n",
              "    <tr>\n",
              "      <th>665</th>\n",
              "      <td>test_img_665.jpg</td>\n",
              "      <td>troll</td>\n",
              "    </tr>\n",
              "    <tr>\n",
              "      <th>666</th>\n",
              "      <td>test_img_666.jpg</td>\n",
              "      <td>troll</td>\n",
              "    </tr>\n",
              "  </tbody>\n",
              "</table>\n",
              "<p>667 rows × 2 columns</p>\n",
              "</div>"
            ],
            "text/plain": [
              "            imagename      label\n",
              "0      test_img_0.jpg      troll\n",
              "1      test_img_1.jpg      troll\n",
              "2      test_img_2.jpg  Not_troll\n",
              "3      test_img_3.jpg      troll\n",
              "4      test_img_4.jpg      troll\n",
              "..                ...        ...\n",
              "662  test_img_662.jpg      troll\n",
              "663  test_img_663.jpg      troll\n",
              "664  test_img_664.jpg      troll\n",
              "665  test_img_665.jpg      troll\n",
              "666  test_img_666.jpg      troll\n",
              "\n",
              "[667 rows x 2 columns]"
            ]
          },
          "metadata": {
            "tags": []
          },
          "execution_count": 88
        }
      ]
    },
    {
      "cell_type": "markdown",
      "metadata": {
        "id": "p3FtBVTVroJi"
      },
      "source": [
        "## Saving Submission DataFrame"
      ]
    },
    {
      "cell_type": "code",
      "metadata": {
        "id": "SzoT0p9rqrO-"
      },
      "source": [
        "path = './drive/MyDrive/Codalab/Meme Classification Challenge/SubmissionFiles'"
      ],
      "execution_count": 89,
      "outputs": []
    },
    {
      "cell_type": "code",
      "metadata": {
        "id": "LZmgZFM4qi7F"
      },
      "source": [
        "df_f.to_csv(join(path,'bert_multilingual_base_cased_tamil_memes.csv'),index=False)"
      ],
      "execution_count": 90,
      "outputs": []
    },
    {
      "cell_type": "code",
      "metadata": {
        "id": "jW9g_qgMv7mq"
      },
      "source": [
        ""
      ],
      "execution_count": null,
      "outputs": []
    }
  ]
}