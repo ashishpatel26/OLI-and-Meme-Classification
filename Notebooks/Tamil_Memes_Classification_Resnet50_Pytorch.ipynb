{
  "nbformat": 4,
  "nbformat_minor": 0,
  "metadata": {
    "colab": {
      "name": "Tamil_Memes_Classification_Resnet50_Pytorch.ipynb",
      "provenance": [],
      "collapsed_sections": [],
      "toc_visible": true
    },
    "kernelspec": {
      "name": "python3",
      "display_name": "Python 3"
    },
    "accelerator": "GPU",
    "widgets": {
      "application/vnd.jupyter.widget-state+json": {
        "55db9f345a9c4da5ae1cdcc24b15e332": {
          "model_module": "@jupyter-widgets/controls",
          "model_name": "HBoxModel",
          "state": {
            "_view_name": "HBoxView",
            "_dom_classes": [],
            "_model_name": "HBoxModel",
            "_view_module": "@jupyter-widgets/controls",
            "_model_module_version": "1.5.0",
            "_view_count": null,
            "_view_module_version": "1.5.0",
            "box_style": "",
            "layout": "IPY_MODEL_c4109ff3722a4a7db43ed8618d3131e2",
            "_model_module": "@jupyter-widgets/controls",
            "children": [
              "IPY_MODEL_43260186dd2147d6be8b8acc6b19f016",
              "IPY_MODEL_f660d914c724478a8574e1c018228395"
            ]
          }
        },
        "c4109ff3722a4a7db43ed8618d3131e2": {
          "model_module": "@jupyter-widgets/base",
          "model_name": "LayoutModel",
          "state": {
            "_view_name": "LayoutView",
            "grid_template_rows": null,
            "right": null,
            "justify_content": null,
            "_view_module": "@jupyter-widgets/base",
            "overflow": null,
            "_model_module_version": "1.2.0",
            "_view_count": null,
            "flex_flow": null,
            "width": null,
            "min_width": null,
            "border": null,
            "align_items": null,
            "bottom": null,
            "_model_module": "@jupyter-widgets/base",
            "top": null,
            "grid_column": null,
            "overflow_y": null,
            "overflow_x": null,
            "grid_auto_flow": null,
            "grid_area": null,
            "grid_template_columns": null,
            "flex": null,
            "_model_name": "LayoutModel",
            "justify_items": null,
            "grid_row": null,
            "max_height": null,
            "align_content": null,
            "visibility": null,
            "align_self": null,
            "height": null,
            "min_height": null,
            "padding": null,
            "grid_auto_rows": null,
            "grid_gap": null,
            "max_width": null,
            "order": null,
            "_view_module_version": "1.2.0",
            "grid_template_areas": null,
            "object_position": null,
            "object_fit": null,
            "grid_auto_columns": null,
            "margin": null,
            "display": null,
            "left": null
          }
        },
        "43260186dd2147d6be8b8acc6b19f016": {
          "model_module": "@jupyter-widgets/controls",
          "model_name": "FloatProgressModel",
          "state": {
            "_view_name": "ProgressView",
            "style": "IPY_MODEL_f4c33b527357449dad164dbe56c9812b",
            "_dom_classes": [],
            "description": "100%",
            "_model_name": "FloatProgressModel",
            "bar_style": "success",
            "max": 102502400,
            "_view_module": "@jupyter-widgets/controls",
            "_model_module_version": "1.5.0",
            "value": 102502400,
            "_view_count": null,
            "_view_module_version": "1.5.0",
            "orientation": "horizontal",
            "min": 0,
            "description_tooltip": null,
            "_model_module": "@jupyter-widgets/controls",
            "layout": "IPY_MODEL_136190ce2f5d4e459cd069b7a2b2556d"
          }
        },
        "f660d914c724478a8574e1c018228395": {
          "model_module": "@jupyter-widgets/controls",
          "model_name": "HTMLModel",
          "state": {
            "_view_name": "HTMLView",
            "style": "IPY_MODEL_2d48e3135deb4bbabeb232230f3d83f6",
            "_dom_classes": [],
            "description": "",
            "_model_name": "HTMLModel",
            "placeholder": "​",
            "_view_module": "@jupyter-widgets/controls",
            "_model_module_version": "1.5.0",
            "value": " 97.8M/97.8M [00:00&lt;00:00, 171MB/s]",
            "_view_count": null,
            "_view_module_version": "1.5.0",
            "description_tooltip": null,
            "_model_module": "@jupyter-widgets/controls",
            "layout": "IPY_MODEL_8cdcb9b08cd247d19f6fcef31190a2f4"
          }
        },
        "f4c33b527357449dad164dbe56c9812b": {
          "model_module": "@jupyter-widgets/controls",
          "model_name": "ProgressStyleModel",
          "state": {
            "_view_name": "StyleView",
            "_model_name": "ProgressStyleModel",
            "description_width": "initial",
            "_view_module": "@jupyter-widgets/base",
            "_model_module_version": "1.5.0",
            "_view_count": null,
            "_view_module_version": "1.2.0",
            "bar_color": null,
            "_model_module": "@jupyter-widgets/controls"
          }
        },
        "136190ce2f5d4e459cd069b7a2b2556d": {
          "model_module": "@jupyter-widgets/base",
          "model_name": "LayoutModel",
          "state": {
            "_view_name": "LayoutView",
            "grid_template_rows": null,
            "right": null,
            "justify_content": null,
            "_view_module": "@jupyter-widgets/base",
            "overflow": null,
            "_model_module_version": "1.2.0",
            "_view_count": null,
            "flex_flow": null,
            "width": null,
            "min_width": null,
            "border": null,
            "align_items": null,
            "bottom": null,
            "_model_module": "@jupyter-widgets/base",
            "top": null,
            "grid_column": null,
            "overflow_y": null,
            "overflow_x": null,
            "grid_auto_flow": null,
            "grid_area": null,
            "grid_template_columns": null,
            "flex": null,
            "_model_name": "LayoutModel",
            "justify_items": null,
            "grid_row": null,
            "max_height": null,
            "align_content": null,
            "visibility": null,
            "align_self": null,
            "height": null,
            "min_height": null,
            "padding": null,
            "grid_auto_rows": null,
            "grid_gap": null,
            "max_width": null,
            "order": null,
            "_view_module_version": "1.2.0",
            "grid_template_areas": null,
            "object_position": null,
            "object_fit": null,
            "grid_auto_columns": null,
            "margin": null,
            "display": null,
            "left": null
          }
        },
        "2d48e3135deb4bbabeb232230f3d83f6": {
          "model_module": "@jupyter-widgets/controls",
          "model_name": "DescriptionStyleModel",
          "state": {
            "_view_name": "StyleView",
            "_model_name": "DescriptionStyleModel",
            "description_width": "",
            "_view_module": "@jupyter-widgets/base",
            "_model_module_version": "1.5.0",
            "_view_count": null,
            "_view_module_version": "1.2.0",
            "_model_module": "@jupyter-widgets/controls"
          }
        },
        "8cdcb9b08cd247d19f6fcef31190a2f4": {
          "model_module": "@jupyter-widgets/base",
          "model_name": "LayoutModel",
          "state": {
            "_view_name": "LayoutView",
            "grid_template_rows": null,
            "right": null,
            "justify_content": null,
            "_view_module": "@jupyter-widgets/base",
            "overflow": null,
            "_model_module_version": "1.2.0",
            "_view_count": null,
            "flex_flow": null,
            "width": null,
            "min_width": null,
            "border": null,
            "align_items": null,
            "bottom": null,
            "_model_module": "@jupyter-widgets/base",
            "top": null,
            "grid_column": null,
            "overflow_y": null,
            "overflow_x": null,
            "grid_auto_flow": null,
            "grid_area": null,
            "grid_template_columns": null,
            "flex": null,
            "_model_name": "LayoutModel",
            "justify_items": null,
            "grid_row": null,
            "max_height": null,
            "align_content": null,
            "visibility": null,
            "align_self": null,
            "height": null,
            "min_height": null,
            "padding": null,
            "grid_auto_rows": null,
            "grid_gap": null,
            "max_width": null,
            "order": null,
            "_view_module_version": "1.2.0",
            "grid_template_areas": null,
            "object_position": null,
            "object_fit": null,
            "grid_auto_columns": null,
            "margin": null,
            "display": null,
            "left": null
          }
        }
      }
    }
  },
  "cells": [
    {
      "cell_type": "markdown",
      "metadata": {
        "id": "Tz7zfMOaDtWB"
      },
      "source": [
        "## Mounting the drive in colab"
      ]
    },
    {
      "cell_type": "code",
      "metadata": {
        "id": "kKx9VecODyvW",
        "colab": {
          "base_uri": "https://localhost:8080/"
        },
        "outputId": "2a7ef32a-eb75-4442-c46f-b483fd7ea1fd"
      },
      "source": [
        "from google.colab import drive\r\n",
        "drive.mount('/content/drive')"
      ],
      "execution_count": 1,
      "outputs": [
        {
          "output_type": "stream",
          "text": [
            "Mounted at /content/drive\n"
          ],
          "name": "stdout"
        }
      ]
    },
    {
      "cell_type": "markdown",
      "metadata": {
        "id": "pQ9aWxkVD1SG"
      },
      "source": [
        "## Importing Dataset"
      ]
    },
    {
      "cell_type": "code",
      "metadata": {
        "id": "a0sGSxF_D3zk"
      },
      "source": [
        "from os import getcwd,listdir\r\n",
        "from os.path import join\r\n",
        "curr_dir = getcwd()\r\n",
        "dataset_dir = join(curr_dir,'drive','MyDrive','Codalab','Meme Classification Challenge','Dataset')\r\n",
        "train_img_dir_path = join(dataset_dir,'training_img')\r\n",
        "train_df_path = join(dataset_dir,'labels.csv')\r\n",
        "test_img_dir_path = join(dataset_dir,'test_img')\r\n",
        "test_df_path = join(dataset_dir,'test_captions.csv')"
      ],
      "execution_count": 2,
      "outputs": []
    },
    {
      "cell_type": "markdown",
      "metadata": {
        "id": "-jNiqt7NEXFg"
      },
      "source": [
        "## Importing Necessary Packages"
      ]
    },
    {
      "cell_type": "code",
      "metadata": {
        "id": "5gr4CJqsEWsi"
      },
      "source": [
        "import numpy as np\r\n",
        "import pandas as pd\r\n",
        "import matplotlib.pyplot as plt\r\n",
        "import seaborn as sns\r\n",
        "import torch\r\n",
        "import random\r\n",
        "import cv2\r\n",
        "import PIL.Image as Image\r\n",
        "from pylab import rcParams\r\n",
        "from matplotlib import rc\r\n",
        "from matplotlib.ticker import MaxNLocator\r\n",
        "from torch.optim import lr_scheduler\r\n",
        "from sklearn.model_selection import train_test_split\r\n",
        "from sklearn.metrics import confusion_matrix, classification_report\r\n",
        "from torch import nn, optim\r\n",
        "import torch.nn.functional as F\r\n",
        "import torchvision.transforms as T\r\n",
        "from torch.utils.data import DataLoader,SubsetRandomSampler\r\n",
        "from torchvision import models\r\n",
        "from collections import defaultdict\r\n",
        "import os"
      ],
      "execution_count": 3,
      "outputs": []
    },
    {
      "cell_type": "markdown",
      "metadata": {
        "id": "4bZCNk7YFPD_"
      },
      "source": [
        "## configuring our setup"
      ]
    },
    {
      "cell_type": "code",
      "metadata": {
        "id": "DdGhrArYFOkO"
      },
      "source": [
        "%matplotlib inline\r\n",
        "%config InlineBackend.figure_format='retina'\r\n",
        "\r\n",
        "sns.set(style='darkgrid', palette='muted', font_scale=1.2)\r\n",
        "\r\n",
        "HAPPY_COLORS_PALETTE = [\"#01BEFE\", \"#FFDD00\", \"#FF7D00\", \"#FF006D\", \"#ADFF02\", \"#8F00FF\"]\r\n",
        "\r\n",
        "sns.set_palette(sns.color_palette(HAPPY_COLORS_PALETTE))\r\n",
        "\r\n",
        "rcParams['figure.figsize'] = 16, 12\r\n",
        "\r\n",
        "seed_val = 42\r\n",
        "random.seed(seed_val)\r\n",
        "np.random.seed(seed_val)\r\n",
        "torch.manual_seed(seed_val)\r\n",
        "torch.cuda.manual_seed_all(seed_val)"
      ],
      "execution_count": 4,
      "outputs": []
    },
    {
      "cell_type": "code",
      "metadata": {
        "colab": {
          "base_uri": "https://localhost:8080/"
        },
        "id": "XlWp668WXH8q",
        "outputId": "9002eab3-52f2-4d9b-f1f9-109c20a4640a"
      },
      "source": [
        "if torch.cuda.is_available():    \r\n",
        "\r\n",
        "    # Tell PyTorch to use the GPU.    \r\n",
        "    device = torch.device(\"cuda\")\r\n",
        "\r\n",
        "    print('There are %d GPU(s) available.' % torch.cuda.device_count())\r\n",
        "\r\n",
        "    print('We will use the GPU:', torch.cuda.get_device_name(0))\r\n",
        "\r\n",
        "# If not...\r\n",
        "else:\r\n",
        "    print('No GPU available, using the CPU instead.')\r\n",
        "    device = torch.device(\"cpu\")"
      ],
      "execution_count": 5,
      "outputs": [
        {
          "output_type": "stream",
          "text": [
            "There are 1 GPU(s) available.\n",
            "We will use the GPU: Tesla T4\n"
          ],
          "name": "stdout"
        }
      ]
    },
    {
      "cell_type": "markdown",
      "metadata": {
        "id": "5WnNkeL-D5_R"
      },
      "source": [
        "### Dataset Inspection"
      ]
    },
    {
      "cell_type": "code",
      "metadata": {
        "id": "mdR7Pre9ECsV",
        "colab": {
          "base_uri": "https://localhost:8080/"
        },
        "outputId": "6404562c-6d5a-410c-b5cb-685cad9d46a8"
      },
      "source": [
        "print(f\" No. of training images : {len(listdir(train_img_dir_path))}\")\r\n",
        "print(f\" No. of test images: {len(listdir(test_img_dir_path))}\")"
      ],
      "execution_count": 7,
      "outputs": [
        {
          "output_type": "stream",
          "text": [
            " No. of training images : 2300\n",
            " No. of test images: 667\n"
          ],
          "name": "stdout"
        }
      ]
    },
    {
      "cell_type": "code",
      "metadata": {
        "id": "ETuw1gxCERme",
        "colab": {
          "base_uri": "https://localhost:8080/",
          "height": 343
        },
        "outputId": "1247c085-b76d-40f2-b6c5-30f29c46d33d"
      },
      "source": [
        "train_df = pd.read_csv(train_df_path)\r\n",
        "train_df.sample(10)"
      ],
      "execution_count": 8,
      "outputs": [
        {
          "output_type": "execute_result",
          "data": {
            "text/html": [
              "<div>\n",
              "<style scoped>\n",
              "    .dataframe tbody tr th:only-of-type {\n",
              "        vertical-align: middle;\n",
              "    }\n",
              "\n",
              "    .dataframe tbody tr th {\n",
              "        vertical-align: top;\n",
              "    }\n",
              "\n",
              "    .dataframe thead th {\n",
              "        text-align: right;\n",
              "    }\n",
              "</style>\n",
              "<table border=\"1\" class=\"dataframe\">\n",
              "  <thead>\n",
              "    <tr style=\"text-align: right;\">\n",
              "      <th></th>\n",
              "      <th>imagename</th>\n",
              "      <th>captions</th>\n",
              "      <th>labels</th>\n",
              "    </tr>\n",
              "  </thead>\n",
              "  <tbody>\n",
              "    <tr>\n",
              "      <th>741</th>\n",
              "      <td>Not_troll_75.jpg</td>\n",
              "      <td>romba varuthapada vendiya vishiyam dhaan...</td>\n",
              "      <td>Not_troll</td>\n",
              "    </tr>\n",
              "    <tr>\n",
              "      <th>1917</th>\n",
              "      <td>troll_1854.jpg</td>\n",
              "      <td>YAARELLAM VELAIYADI IRUKKINGA...</td>\n",
              "      <td>troll</td>\n",
              "    </tr>\n",
              "    <tr>\n",
              "      <th>208</th>\n",
              "      <td>Not_troll_27.jpg</td>\n",
              "      <td>ippayellam nalladhuke kaalam illaa...</td>\n",
              "      <td>Not_troll</td>\n",
              "    </tr>\n",
              "    <tr>\n",
              "      <th>1546</th>\n",
              "      <td>troll_152.jpg</td>\n",
              "      <td>LOOSU KO MARIE PESADHA DHANASEKARA....!</td>\n",
              "      <td>troll</td>\n",
              "    </tr>\n",
              "    <tr>\n",
              "      <th>282</th>\n",
              "      <td>Not_troll_336.jpg</td>\n",
              "      <td>paarithu pala naatkal aairuchi.. nalla irukkir...</td>\n",
              "      <td>Not_troll</td>\n",
              "    </tr>\n",
              "    <tr>\n",
              "      <th>479</th>\n",
              "      <td>Not_troll_513.jpg</td>\n",
              "      <td>yenna boss ipidi aagiduchi..</td>\n",
              "      <td>Not_troll</td>\n",
              "    </tr>\n",
              "    <tr>\n",
              "      <th>1080</th>\n",
              "      <td>troll_1053.jpg</td>\n",
              "      <td>YAARU MUDHALLA VEETUKKU PORADHU YENUDU PAARPAM...</td>\n",
              "      <td>troll</td>\n",
              "    </tr>\n",
              "    <tr>\n",
              "      <th>1891</th>\n",
              "      <td>troll_1830.jpg</td>\n",
              "      <td>SURIYA VAMSAM THEVAYANI~ SARATHKUMAR'KU APPURA...</td>\n",
              "      <td>troll</td>\n",
              "    </tr>\n",
              "    <tr>\n",
              "      <th>111</th>\n",
              "      <td>Not_troll_182.jpg</td>\n",
              "      <td>idhellam oru page ah??</td>\n",
              "      <td>Not_troll</td>\n",
              "    </tr>\n",
              "    <tr>\n",
              "      <th>2085</th>\n",
              "      <td>troll_25.jpg</td>\n",
              "      <td>Cross salary net salary</td>\n",
              "      <td>troll</td>\n",
              "    </tr>\n",
              "  </tbody>\n",
              "</table>\n",
              "</div>"
            ],
            "text/plain": [
              "              imagename  ...     labels\n",
              "741    Not_troll_75.jpg  ...  Not_troll\n",
              "1917     troll_1854.jpg  ...      troll\n",
              "208    Not_troll_27.jpg  ...  Not_troll\n",
              "1546      troll_152.jpg  ...      troll\n",
              "282   Not_troll_336.jpg  ...  Not_troll\n",
              "479   Not_troll_513.jpg  ...  Not_troll\n",
              "1080     troll_1053.jpg  ...      troll\n",
              "1891     troll_1830.jpg  ...      troll\n",
              "111   Not_troll_182.jpg  ...  Not_troll\n",
              "2085       troll_25.jpg  ...      troll\n",
              "\n",
              "[10 rows x 3 columns]"
            ]
          },
          "metadata": {
            "tags": []
          },
          "execution_count": 8
        }
      ]
    },
    {
      "cell_type": "markdown",
      "metadata": {
        "id": "AZg5NhCuE1M6"
      },
      "source": [
        "## Conversion of Labels"
      ]
    },
    {
      "cell_type": "code",
      "metadata": {
        "colab": {
          "base_uri": "https://localhost:8080/"
        },
        "id": "IEmIFnmHXNTU",
        "outputId": "d7232756-8604-469c-8268-27eff30aff73"
      },
      "source": [
        "train_df['labels'].value_counts()"
      ],
      "execution_count": 9,
      "outputs": [
        {
          "output_type": "execute_result",
          "data": {
            "text/plain": [
              "troll        1282\n",
              "Not_troll    1018\n",
              "Name: labels, dtype: int64"
            ]
          },
          "metadata": {
            "tags": []
          },
          "execution_count": 9
        }
      ]
    },
    {
      "cell_type": "code",
      "metadata": {
        "id": "YVB_2ovEEz8K"
      },
      "source": [
        "from sklearn.preprocessing import LabelEncoder\r\n",
        "le = LabelEncoder()\r\n",
        "train_df['labels'] = le.fit_transform(train_df['labels'])"
      ],
      "execution_count": 10,
      "outputs": []
    },
    {
      "cell_type": "code",
      "metadata": {
        "colab": {
          "base_uri": "https://localhost:8080/"
        },
        "id": "_VL1O7mrXStL",
        "outputId": "447a5445-0651-458c-e340-54d1604d006e"
      },
      "source": [
        "train_df['labels'].value_counts()"
      ],
      "execution_count": 11,
      "outputs": [
        {
          "output_type": "execute_result",
          "data": {
            "text/plain": [
              "1    1282\n",
              "0    1018\n",
              "Name: labels, dtype: int64"
            ]
          },
          "metadata": {
            "tags": []
          },
          "execution_count": 11
        }
      ]
    },
    {
      "cell_type": "code",
      "metadata": {
        "id": "zHYmRgRKXW-Q"
      },
      "source": [
        "class_names = ['Not_troll','troll']\r\n",
        "label_dict = {0:'Not_troll',1:'troll'}"
      ],
      "execution_count": 12,
      "outputs": []
    },
    {
      "cell_type": "code",
      "metadata": {
        "id": "yx72ZYjBE7ZU",
        "colab": {
          "base_uri": "https://localhost:8080/",
          "height": 402
        },
        "outputId": "748b3f00-692f-4c39-9f6c-982021b4515f"
      },
      "source": [
        "train_df"
      ],
      "execution_count": 13,
      "outputs": [
        {
          "output_type": "execute_result",
          "data": {
            "text/html": [
              "<div>\n",
              "<style scoped>\n",
              "    .dataframe tbody tr th:only-of-type {\n",
              "        vertical-align: middle;\n",
              "    }\n",
              "\n",
              "    .dataframe tbody tr th {\n",
              "        vertical-align: top;\n",
              "    }\n",
              "\n",
              "    .dataframe thead th {\n",
              "        text-align: right;\n",
              "    }\n",
              "</style>\n",
              "<table border=\"1\" class=\"dataframe\">\n",
              "  <thead>\n",
              "    <tr style=\"text-align: right;\">\n",
              "      <th></th>\n",
              "      <th>imagename</th>\n",
              "      <th>captions</th>\n",
              "      <th>labels</th>\n",
              "    </tr>\n",
              "  </thead>\n",
              "  <tbody>\n",
              "    <tr>\n",
              "      <th>0</th>\n",
              "      <td>Not_troll_0.jpg</td>\n",
              "      <td>Ada pikkalipayalugala</td>\n",
              "      <td>0</td>\n",
              "    </tr>\n",
              "    <tr>\n",
              "      <th>1</th>\n",
              "      <td>Not_troll_1.jpg</td>\n",
              "      <td>Etho sambavam nadandhirukkum pola</td>\n",
              "      <td>0</td>\n",
              "    </tr>\n",
              "    <tr>\n",
              "      <th>2</th>\n",
              "      <td>Not_troll_10.jpg</td>\n",
              "      <td>Vunnayellam frienda vechirukken paaru</td>\n",
              "      <td>0</td>\n",
              "    </tr>\n",
              "    <tr>\n",
              "      <th>3</th>\n",
              "      <td>Not_troll_100.jpg</td>\n",
              "      <td>Idho! Ivan dhaan naan nasama ponadhukku kaaranam</td>\n",
              "      <td>0</td>\n",
              "    </tr>\n",
              "    <tr>\n",
              "      <th>4</th>\n",
              "      <td>Not_troll_1000.jpg</td>\n",
              "      <td>Ennada lusu thanama pesikittu irukka lusu payale</td>\n",
              "      <td>0</td>\n",
              "    </tr>\n",
              "    <tr>\n",
              "      <th>...</th>\n",
              "      <td>...</td>\n",
              "      <td>...</td>\n",
              "      <td>...</td>\n",
              "    </tr>\n",
              "    <tr>\n",
              "      <th>2295</th>\n",
              "      <td>troll_439.jpg</td>\n",
              "      <td>amma yaaro orutharu... pattu paaduraaruma......</td>\n",
              "      <td>1</td>\n",
              "    </tr>\n",
              "    <tr>\n",
              "      <th>2296</th>\n",
              "      <td>troll_44.jpg</td>\n",
              "      <td>Phone  n Twitter hacked please don't respond  ...</td>\n",
              "      <td>1</td>\n",
              "    </tr>\n",
              "    <tr>\n",
              "      <th>2297</th>\n",
              "      <td>troll_440.jpg</td>\n",
              "      <td>Respected deat  @narendramodi ji hearty corigr...</td>\n",
              "      <td>1</td>\n",
              "    </tr>\n",
              "    <tr>\n",
              "      <th>2298</th>\n",
              "      <td>troll_441.jpg</td>\n",
              "      <td>Engu irutha nan mnnil piranthidum bothu   vera...</td>\n",
              "      <td>1</td>\n",
              "    </tr>\n",
              "    <tr>\n",
              "      <th>2299</th>\n",
              "      <td>troll_442.jpg</td>\n",
              "      <td>When STR fan hears about milk..     Paal ice.....</td>\n",
              "      <td>1</td>\n",
              "    </tr>\n",
              "  </tbody>\n",
              "</table>\n",
              "<p>2300 rows × 3 columns</p>\n",
              "</div>"
            ],
            "text/plain": [
              "               imagename  ... labels\n",
              "0        Not_troll_0.jpg  ...      0\n",
              "1        Not_troll_1.jpg  ...      0\n",
              "2       Not_troll_10.jpg  ...      0\n",
              "3      Not_troll_100.jpg  ...      0\n",
              "4     Not_troll_1000.jpg  ...      0\n",
              "...                  ...  ...    ...\n",
              "2295       troll_439.jpg  ...      1\n",
              "2296        troll_44.jpg  ...      1\n",
              "2297       troll_440.jpg  ...      1\n",
              "2298       troll_441.jpg  ...      1\n",
              "2299       troll_442.jpg  ...      1\n",
              "\n",
              "[2300 rows x 3 columns]"
            ]
          },
          "metadata": {
            "tags": []
          },
          "execution_count": 13
        }
      ]
    },
    {
      "cell_type": "code",
      "metadata": {
        "id": "a0AorF2jE-gI"
      },
      "source": [
        "train_df.to_csv(join(dataset_dir,'final_train.csv'),index = False)"
      ],
      "execution_count": 14,
      "outputs": []
    },
    {
      "cell_type": "code",
      "metadata": {
        "id": "MjlXbCrUFAkn",
        "colab": {
          "base_uri": "https://localhost:8080/",
          "height": 402
        },
        "outputId": "1df366a0-1506-43c7-a87a-cdd58f47297f"
      },
      "source": [
        "final_train = pd.read_csv(join(dataset_dir,'final_train.csv'))\r\n",
        "final_train"
      ],
      "execution_count": 15,
      "outputs": [
        {
          "output_type": "execute_result",
          "data": {
            "text/html": [
              "<div>\n",
              "<style scoped>\n",
              "    .dataframe tbody tr th:only-of-type {\n",
              "        vertical-align: middle;\n",
              "    }\n",
              "\n",
              "    .dataframe tbody tr th {\n",
              "        vertical-align: top;\n",
              "    }\n",
              "\n",
              "    .dataframe thead th {\n",
              "        text-align: right;\n",
              "    }\n",
              "</style>\n",
              "<table border=\"1\" class=\"dataframe\">\n",
              "  <thead>\n",
              "    <tr style=\"text-align: right;\">\n",
              "      <th></th>\n",
              "      <th>imagename</th>\n",
              "      <th>captions</th>\n",
              "      <th>labels</th>\n",
              "    </tr>\n",
              "  </thead>\n",
              "  <tbody>\n",
              "    <tr>\n",
              "      <th>0</th>\n",
              "      <td>Not_troll_0.jpg</td>\n",
              "      <td>Ada pikkalipayalugala</td>\n",
              "      <td>0</td>\n",
              "    </tr>\n",
              "    <tr>\n",
              "      <th>1</th>\n",
              "      <td>Not_troll_1.jpg</td>\n",
              "      <td>Etho sambavam nadandhirukkum pola</td>\n",
              "      <td>0</td>\n",
              "    </tr>\n",
              "    <tr>\n",
              "      <th>2</th>\n",
              "      <td>Not_troll_10.jpg</td>\n",
              "      <td>Vunnayellam frienda vechirukken paaru</td>\n",
              "      <td>0</td>\n",
              "    </tr>\n",
              "    <tr>\n",
              "      <th>3</th>\n",
              "      <td>Not_troll_100.jpg</td>\n",
              "      <td>Idho! Ivan dhaan naan nasama ponadhukku kaaranam</td>\n",
              "      <td>0</td>\n",
              "    </tr>\n",
              "    <tr>\n",
              "      <th>4</th>\n",
              "      <td>Not_troll_1000.jpg</td>\n",
              "      <td>Ennada lusu thanama pesikittu irukka lusu payale</td>\n",
              "      <td>0</td>\n",
              "    </tr>\n",
              "    <tr>\n",
              "      <th>...</th>\n",
              "      <td>...</td>\n",
              "      <td>...</td>\n",
              "      <td>...</td>\n",
              "    </tr>\n",
              "    <tr>\n",
              "      <th>2295</th>\n",
              "      <td>troll_439.jpg</td>\n",
              "      <td>amma yaaro orutharu... pattu paaduraaruma......</td>\n",
              "      <td>1</td>\n",
              "    </tr>\n",
              "    <tr>\n",
              "      <th>2296</th>\n",
              "      <td>troll_44.jpg</td>\n",
              "      <td>Phone  n Twitter hacked please don't respond  ...</td>\n",
              "      <td>1</td>\n",
              "    </tr>\n",
              "    <tr>\n",
              "      <th>2297</th>\n",
              "      <td>troll_440.jpg</td>\n",
              "      <td>Respected deat  @narendramodi ji hearty corigr...</td>\n",
              "      <td>1</td>\n",
              "    </tr>\n",
              "    <tr>\n",
              "      <th>2298</th>\n",
              "      <td>troll_441.jpg</td>\n",
              "      <td>Engu irutha nan mnnil piranthidum bothu   vera...</td>\n",
              "      <td>1</td>\n",
              "    </tr>\n",
              "    <tr>\n",
              "      <th>2299</th>\n",
              "      <td>troll_442.jpg</td>\n",
              "      <td>When STR fan hears about milk..     Paal ice.....</td>\n",
              "      <td>1</td>\n",
              "    </tr>\n",
              "  </tbody>\n",
              "</table>\n",
              "<p>2300 rows × 3 columns</p>\n",
              "</div>"
            ],
            "text/plain": [
              "               imagename  ... labels\n",
              "0        Not_troll_0.jpg  ...      0\n",
              "1        Not_troll_1.jpg  ...      0\n",
              "2       Not_troll_10.jpg  ...      0\n",
              "3      Not_troll_100.jpg  ...      0\n",
              "4     Not_troll_1000.jpg  ...      0\n",
              "...                  ...  ...    ...\n",
              "2295       troll_439.jpg  ...      1\n",
              "2296        troll_44.jpg  ...      1\n",
              "2297       troll_440.jpg  ...      1\n",
              "2298       troll_441.jpg  ...      1\n",
              "2299       troll_442.jpg  ...      1\n",
              "\n",
              "[2300 rows x 3 columns]"
            ]
          },
          "metadata": {
            "tags": []
          },
          "execution_count": 15
        }
      ]
    },
    {
      "cell_type": "code",
      "metadata": {
        "id": "NI6hXRrDFEh_",
        "colab": {
          "base_uri": "https://localhost:8080/",
          "height": 343
        },
        "outputId": "3139fcd5-46f0-48de-be76-c53f26102dcd"
      },
      "source": [
        "test_df = pd.read_csv(test_df_path)\r\n",
        "test_df = test_df.drop('Unnamed: 0',axis = 1)\r\n",
        "test_df.sample(10)"
      ],
      "execution_count": 16,
      "outputs": [
        {
          "output_type": "execute_result",
          "data": {
            "text/html": [
              "<div>\n",
              "<style scoped>\n",
              "    .dataframe tbody tr th:only-of-type {\n",
              "        vertical-align: middle;\n",
              "    }\n",
              "\n",
              "    .dataframe tbody tr th {\n",
              "        vertical-align: top;\n",
              "    }\n",
              "\n",
              "    .dataframe thead th {\n",
              "        text-align: right;\n",
              "    }\n",
              "</style>\n",
              "<table border=\"1\" class=\"dataframe\">\n",
              "  <thead>\n",
              "    <tr style=\"text-align: right;\">\n",
              "      <th></th>\n",
              "      <th>imagename</th>\n",
              "      <th>captions</th>\n",
              "    </tr>\n",
              "  </thead>\n",
              "  <tbody>\n",
              "    <tr>\n",
              "      <th>52</th>\n",
              "      <td>test_img_52.jpg</td>\n",
              "      <td>Biggboss season 1:kunthani GAYATHRI  biggboss ...</td>\n",
              "    </tr>\n",
              "    <tr>\n",
              "      <th>196</th>\n",
              "      <td>test_img_196.jpg</td>\n",
              "      <td>amma innakki yenna soru?   kari soru   koli ka...</td>\n",
              "    </tr>\n",
              "    <tr>\n",
              "      <th>320</th>\n",
              "      <td>test_img_320.jpg</td>\n",
              "      <td>rcb changed their jersey colour    *me: jersey...</td>\n",
              "    </tr>\n",
              "    <tr>\n",
              "      <th>236</th>\n",
              "      <td>test_img_236.jpg</td>\n",
              "      <td>during project review    developer ivardhaan a...</td>\n",
              "    </tr>\n",
              "    <tr>\n",
              "      <th>628</th>\n",
              "      <td>test_img_628.jpg</td>\n",
              "      <td>NE ENNAIKU PURIYURA MARI PESURIYO ANNAIKU THAN...</td>\n",
              "    </tr>\n",
              "    <tr>\n",
              "      <th>165</th>\n",
              "      <td>test_img_165.jpg</td>\n",
              "      <td>~ when i see this cover  aiyo namma kai vera s...</td>\n",
              "    </tr>\n",
              "    <tr>\n",
              "      <th>599</th>\n",
              "      <td>test_img_599.jpg</td>\n",
              "      <td>my first thought if some girl gives me friend ...</td>\n",
              "    </tr>\n",
              "    <tr>\n",
              "      <th>627</th>\n",
              "      <td>test_img_627.jpg</td>\n",
              "      <td>KALYANAM AAGATHAVARKU PRESTIGE YENDRAL, KOVRAV...</td>\n",
              "    </tr>\n",
              "    <tr>\n",
              "      <th>322</th>\n",
              "      <td>test_img_322.jpg</td>\n",
              "      <td>indha vilaiyattu neyabagam iruka? oru kudam th...</td>\n",
              "    </tr>\n",
              "    <tr>\n",
              "      <th>395</th>\n",
              "      <td>test_img_395.jpg</td>\n",
              "      <td>sherin va namma vera zone ku polam  *audience:...</td>\n",
              "    </tr>\n",
              "  </tbody>\n",
              "</table>\n",
              "</div>"
            ],
            "text/plain": [
              "            imagename                                           captions\n",
              "52    test_img_52.jpg  Biggboss season 1:kunthani GAYATHRI  biggboss ...\n",
              "196  test_img_196.jpg  amma innakki yenna soru?   kari soru   koli ka...\n",
              "320  test_img_320.jpg  rcb changed their jersey colour    *me: jersey...\n",
              "236  test_img_236.jpg  during project review    developer ivardhaan a...\n",
              "628  test_img_628.jpg  NE ENNAIKU PURIYURA MARI PESURIYO ANNAIKU THAN...\n",
              "165  test_img_165.jpg  ~ when i see this cover  aiyo namma kai vera s...\n",
              "599  test_img_599.jpg  my first thought if some girl gives me friend ...\n",
              "627  test_img_627.jpg  KALYANAM AAGATHAVARKU PRESTIGE YENDRAL, KOVRAV...\n",
              "322  test_img_322.jpg  indha vilaiyattu neyabagam iruka? oru kudam th...\n",
              "395  test_img_395.jpg  sherin va namma vera zone ku polam  *audience:..."
            ]
          },
          "metadata": {
            "tags": []
          },
          "execution_count": 16
        }
      ]
    },
    {
      "cell_type": "code",
      "metadata": {
        "id": "0CQx65BHFIBW"
      },
      "source": [
        "class MemesDataset(torch.utils.data.Dataset):\r\n",
        "    def __init__(self, csv_file, root_dir_path, transform=None,flg = True):\r\n",
        "        ## flag for training or test (defaul true for training set)\r\n",
        "        self.flg = flg\r\n",
        "        ## reading the dataframe\r\n",
        "        self.dataframe = pd.read_csv(csv_file)\r\n",
        "        ## getting the root_dir_path\r\n",
        "        self.root_dir_path = root_dir_path\r\n",
        "        ## getting imageids from the dataframe\r\n",
        "        self.imagenames = self.dataframe[\"imagename\"]\r\n",
        "        ## getting all captions from the dataframe\r\n",
        "        # self.captions = self.dataframe[\"captions\"]\r\n",
        "        ## getting labels from the dataset if the dataset is training type\r\n",
        "        if self.flg:\r\n",
        "          self.labels = self.dataframe[\"labels\"]\r\n",
        "        ## getting possible transformations of the images\r\n",
        "        self.transform = transform\r\n",
        "\r\n",
        "\r\n",
        "    def __len__(self):\r\n",
        "        return len(self.dataframe)\r\n",
        "\r\n",
        "    def __getitem__(self, index):\r\n",
        "        ## get the imagename from the dataframe\r\n",
        "        imagename = self.imagenames[index]\r\n",
        "        ## get the path of the image        \r\n",
        "        img_path = os.path.join(self.root_dir_path,imagename)\r\n",
        "        ## open the image using PIL.Image and convert it to RGB in case of an extra alpha channel\r\n",
        "        image = Image.open(img_path).convert('RGB')\r\n",
        "        ## applying transformations to image\r\n",
        "        if self.transform:\r\n",
        "          image = self.transform(image)\r\n",
        "        ## return y label if dataset type is training\r\n",
        "        if self.flg:\r\n",
        "          y_label = torch.tensor(int(self.dataframe.iloc[index, 2]))\r\n",
        "          return (image, y_label)\r\n",
        "\r\n",
        "        return image  "
      ],
      "execution_count": 35,
      "outputs": []
    },
    {
      "cell_type": "markdown",
      "metadata": {
        "id": "DyOAV6hJFpaG"
      },
      "source": [
        "## Data Transforms"
      ]
    },
    {
      "cell_type": "code",
      "metadata": {
        "id": "OiJTRPOiV21r"
      },
      "source": [
        "mean_nums = [0.485, 0.456, 0.406]\r\n",
        "std_nums = [0.229, 0.224, 0.225]"
      ],
      "execution_count": 36,
      "outputs": []
    },
    {
      "cell_type": "code",
      "metadata": {
        "id": "yHQ7agCwFr-i"
      },
      "source": [
        "train_transforms = T.Compose([\r\n",
        "                            T.RandomResizedCrop(size=256),\r\n",
        "                            T.ToTensor(),\r\n",
        "                            T.Normalize(mean_nums, std_nums)\r\n",
        "                  ])\r\n",
        "\r\n",
        "test_transforms =  T.Compose([\r\n",
        "                            T.RandomResizedCrop(size=256),\r\n",
        "                            T.ToTensor(),\r\n",
        "                            T.Normalize(mean_nums, std_nums)\r\n",
        "                ])\r\n"
      ],
      "execution_count": 63,
      "outputs": []
    },
    {
      "cell_type": "markdown",
      "metadata": {
        "id": "KSGYS597FDXu"
      },
      "source": [
        "## Loading our datasets"
      ]
    },
    {
      "cell_type": "code",
      "metadata": {
        "id": "sNGea7RuA-nv"
      },
      "source": [
        "train_dataset = MemesDataset(join(dataset_dir,'final_train.csv'),train_img_dir_path,train_transforms)\r\n",
        "test_dataset = MemesDataset(join(dataset_dir,'test_captions.csv'),test_img_dir_path,test_transforms,flg = False)"
      ],
      "execution_count": 64,
      "outputs": []
    },
    {
      "cell_type": "markdown",
      "metadata": {
        "id": "2i-_8_mVFIwM"
      },
      "source": [
        "## Creating dataloaders"
      ]
    },
    {
      "cell_type": "code",
      "metadata": {
        "id": "UQwHQpVeYyZv"
      },
      "source": [
        "\r\n",
        "batch_size = 64\r\n",
        "validation_split = .2\r\n",
        "shuffle_dataset = True\r\n",
        "\r\n",
        "# Creating data indices for training and validation splits:\r\n",
        "train_dataset_size = len(train_dataset)\r\n",
        "indices = list(range(train_dataset_size))\r\n",
        "split = int(np.floor(validation_split * train_dataset_size))\r\n",
        "\r\n",
        "if shuffle_dataset :\r\n",
        "    np.random.seed(seed_val)\r\n",
        "    np.random.shuffle(indices)\r\n",
        "\r\n",
        "train_indices, val_indices = indices[split:], indices[:split]\r\n",
        "\r\n",
        "# Creating PT data samplers and loaders:\r\n",
        "train_sampler = SubsetRandomSampler(train_indices)\r\n",
        "valid_sampler = SubsetRandomSampler(val_indices)\r\n",
        "\r\n",
        "\r\n",
        "train_loader = torch.utils.data.DataLoader(train_dataset, batch_size=batch_size, \r\n",
        "                                           sampler=train_sampler)\r\n",
        "validation_loader = torch.utils.data.DataLoader(train_dataset, batch_size=batch_size,\r\n",
        "                                                sampler=valid_sampler)\r\n",
        "\r\n",
        "test_loader = torch.utils.data.DataLoader(test_dataset, batch_size=batch_size)"
      ],
      "execution_count": 65,
      "outputs": []
    },
    {
      "cell_type": "markdown",
      "metadata": {
        "id": "txseN9XZGYEe"
      },
      "source": [
        "## Helper function for training epoch"
      ]
    },
    {
      "cell_type": "code",
      "metadata": {
        "id": "qvNTcvMdF5wX"
      },
      "source": [
        "def train_epoch(\r\n",
        "  model, \r\n",
        "  data_loader, \r\n",
        "  criterion, \r\n",
        "  optimizer, \r\n",
        "  device, \r\n",
        "  scheduler, \r\n",
        "  n_examples\r\n",
        "):\r\n",
        "  model = model.train()\r\n",
        "\r\n",
        "  losses = []\r\n",
        "  correct_predictions = 0\r\n",
        "  print(f'Doing training on {n_examples} samples')\r\n",
        "  for batch_idx , (inputs, labels) in enumerate(data_loader):\r\n",
        "    print(f' Processing batch {batch_idx} ')\r\n",
        "    inputs = inputs.to(device)\r\n",
        "    labels = labels.to(device)\r\n",
        "\r\n",
        "    outputs = model(inputs)\r\n",
        "\r\n",
        "    _, preds = torch.max(outputs, dim=1)\r\n",
        "    loss = criterion(outputs, labels)\r\n",
        "\r\n",
        "    correct_predictions += torch.sum(preds == labels)\r\n",
        "    losses.append(loss.item())\r\n",
        "  \r\n",
        "    loss.backward()\r\n",
        "    optimizer.step()\r\n",
        "    optimizer.zero_grad()\r\n",
        "\r\n",
        "  scheduler.step()\r\n",
        "\r\n",
        "  return correct_predictions.double() / n_examples, np.mean(losses)"
      ],
      "execution_count": 27,
      "outputs": []
    },
    {
      "cell_type": "markdown",
      "metadata": {
        "id": "xkF0osBzGcbO"
      },
      "source": [
        "## Helper function for validation loop"
      ]
    },
    {
      "cell_type": "code",
      "metadata": {
        "id": "IcRsPYXrF5lB"
      },
      "source": [
        "def eval_model(\r\n",
        "    model, \r\n",
        "    data_loader,\r\n",
        "    criterion,\r\n",
        "    device,\r\n",
        "    n_examples):\r\n",
        "  model = model.eval()\r\n",
        "\r\n",
        "  losses = []\r\n",
        "  correct_predictions = 0\r\n",
        "  print(f'Doing validation on {n_examples} samples')\r\n",
        "  with torch.no_grad():\r\n",
        "    for batch_idx ,(inputs, labels) in enumerate(data_loader):\r\n",
        "      print(f' Processing batch {batch_idx} ')\r\n",
        "      inputs = inputs.to(device)\r\n",
        "      labels = labels.to(device)\r\n",
        "\r\n",
        "      outputs = model(inputs)\r\n",
        "\r\n",
        "      _, preds = torch.max(outputs, dim=1)\r\n",
        "\r\n",
        "      loss = criterion(outputs, labels)\r\n",
        "\r\n",
        "      correct_predictions += torch.sum(preds == labels)\r\n",
        "      losses.append(loss.item())\r\n",
        "\r\n",
        "  return correct_predictions.double() / n_examples, np.mean(losses)"
      ],
      "execution_count": 28,
      "outputs": []
    },
    {
      "cell_type": "markdown",
      "metadata": {
        "id": "WNel3dcxGkTb"
      },
      "source": [
        "## Helper function to train model"
      ]
    },
    {
      "cell_type": "code",
      "metadata": {
        "id": "fmgj-tDMGXYw"
      },
      "source": [
        "def train_model(\r\n",
        "    model,\r\n",
        "    train_data_loader,\r\n",
        "    val_data_loader, \r\n",
        "    train_dataset_size,\r\n",
        "    val_dataset_size,\r\n",
        "    device, \r\n",
        "    n_epochs=3):\r\n",
        "  \r\n",
        "  optimizer = optim.AdamW(model.parameters(), lr=0.001)\r\n",
        "  \r\n",
        "  scheduler = lr_scheduler.StepLR(optimizer, step_size=7, gamma=0.1)\r\n",
        "  \r\n",
        "  criterion = nn.CrossEntropyLoss().to(device)\r\n",
        "\r\n",
        "  history = defaultdict(list)\r\n",
        "  best_accuracy = 0\r\n",
        "\r\n",
        "  for epoch in range(n_epochs):\r\n",
        "\r\n",
        "    print(f'Epoch {epoch + 1}/{n_epochs}')\r\n",
        "    print('-' * 10)\r\n",
        "\r\n",
        "    train_acc, train_loss = train_epoch(\r\n",
        "                                model, \r\n",
        "                                train_data_loader, \r\n",
        "                                criterion, \r\n",
        "                                optimizer, \r\n",
        "                                device, \r\n",
        "                                scheduler, \r\n",
        "                                train_dataset_size\r\n",
        "                            )\r\n",
        "\r\n",
        "    print(f'Train loss {train_loss} accuracy {train_acc}')\r\n",
        "\r\n",
        "    val_acc, val_loss = eval_model(\r\n",
        "                                model, \r\n",
        "                                val_data_loader, \r\n",
        "                                criterion, \r\n",
        "                                device, \r\n",
        "                                val_dataset_size\r\n",
        "\r\n",
        "                        )\r\n",
        "\r\n",
        "    print(f'Val   loss {val_loss} accuracy {val_acc}')\r\n",
        "    print()\r\n",
        "\r\n",
        "    history['train_acc'].append(train_acc)\r\n",
        "    history['train_loss'].append(train_loss)\r\n",
        "    history['val_acc'].append(val_acc)\r\n",
        "    history['val_loss'].append(val_loss)\r\n",
        "\r\n",
        "    if val_acc > best_accuracy:\r\n",
        "      torch.save(model.state_dict(), 'best_model_state.bin')\r\n",
        "      best_accuracy = val_acc\r\n",
        "\r\n",
        "  print(f'Best val accuracy: {best_accuracy}')\r\n",
        "  \r\n",
        "  model.load_state_dict(torch.load('best_model_state.bin'))\r\n",
        "\r\n",
        "  return model, history"
      ],
      "execution_count": 29,
      "outputs": []
    },
    {
      "cell_type": "markdown",
      "metadata": {
        "id": "atMM48BAGoYJ"
      },
      "source": [
        "## Defining our model"
      ]
    },
    {
      "cell_type": "code",
      "metadata": {
        "colab": {
          "base_uri": "https://localhost:8080/",
          "height": 1000,
          "referenced_widgets": [
            "55db9f345a9c4da5ae1cdcc24b15e332",
            "c4109ff3722a4a7db43ed8618d3131e2",
            "43260186dd2147d6be8b8acc6b19f016",
            "f660d914c724478a8574e1c018228395",
            "f4c33b527357449dad164dbe56c9812b",
            "136190ce2f5d4e459cd069b7a2b2556d",
            "2d48e3135deb4bbabeb232230f3d83f6",
            "8cdcb9b08cd247d19f6fcef31190a2f4"
          ]
        },
        "id": "7Que8SG8YTie",
        "outputId": "cc5cf085-8be2-4f04-84de-c38ffd0427f0"
      },
      "source": [
        "n_classes = 2\r\n",
        "model = models.resnet50(pretrained=True)\r\n",
        "n_features = model.fc.in_features\r\n",
        "model.fc = nn.Linear(n_features, n_classes )\r\n",
        "model.to(device)"
      ],
      "execution_count": 30,
      "outputs": [
        {
          "output_type": "stream",
          "text": [
            "Downloading: \"https://download.pytorch.org/models/resnet50-19c8e357.pth\" to /root/.cache/torch/hub/checkpoints/resnet50-19c8e357.pth\n"
          ],
          "name": "stderr"
        },
        {
          "output_type": "display_data",
          "data": {
            "application/vnd.jupyter.widget-view+json": {
              "model_id": "55db9f345a9c4da5ae1cdcc24b15e332",
              "version_minor": 0,
              "version_major": 2
            },
            "text/plain": [
              "HBox(children=(FloatProgress(value=0.0, max=102502400.0), HTML(value='')))"
            ]
          },
          "metadata": {
            "tags": []
          }
        },
        {
          "output_type": "stream",
          "text": [
            "\n"
          ],
          "name": "stdout"
        },
        {
          "output_type": "execute_result",
          "data": {
            "text/plain": [
              "ResNet(\n",
              "  (conv1): Conv2d(3, 64, kernel_size=(7, 7), stride=(2, 2), padding=(3, 3), bias=False)\n",
              "  (bn1): BatchNorm2d(64, eps=1e-05, momentum=0.1, affine=True, track_running_stats=True)\n",
              "  (relu): ReLU(inplace=True)\n",
              "  (maxpool): MaxPool2d(kernel_size=3, stride=2, padding=1, dilation=1, ceil_mode=False)\n",
              "  (layer1): Sequential(\n",
              "    (0): Bottleneck(\n",
              "      (conv1): Conv2d(64, 64, kernel_size=(1, 1), stride=(1, 1), bias=False)\n",
              "      (bn1): BatchNorm2d(64, eps=1e-05, momentum=0.1, affine=True, track_running_stats=True)\n",
              "      (conv2): Conv2d(64, 64, kernel_size=(3, 3), stride=(1, 1), padding=(1, 1), bias=False)\n",
              "      (bn2): BatchNorm2d(64, eps=1e-05, momentum=0.1, affine=True, track_running_stats=True)\n",
              "      (conv3): Conv2d(64, 256, kernel_size=(1, 1), stride=(1, 1), bias=False)\n",
              "      (bn3): BatchNorm2d(256, eps=1e-05, momentum=0.1, affine=True, track_running_stats=True)\n",
              "      (relu): ReLU(inplace=True)\n",
              "      (downsample): Sequential(\n",
              "        (0): Conv2d(64, 256, kernel_size=(1, 1), stride=(1, 1), bias=False)\n",
              "        (1): BatchNorm2d(256, eps=1e-05, momentum=0.1, affine=True, track_running_stats=True)\n",
              "      )\n",
              "    )\n",
              "    (1): Bottleneck(\n",
              "      (conv1): Conv2d(256, 64, kernel_size=(1, 1), stride=(1, 1), bias=False)\n",
              "      (bn1): BatchNorm2d(64, eps=1e-05, momentum=0.1, affine=True, track_running_stats=True)\n",
              "      (conv2): Conv2d(64, 64, kernel_size=(3, 3), stride=(1, 1), padding=(1, 1), bias=False)\n",
              "      (bn2): BatchNorm2d(64, eps=1e-05, momentum=0.1, affine=True, track_running_stats=True)\n",
              "      (conv3): Conv2d(64, 256, kernel_size=(1, 1), stride=(1, 1), bias=False)\n",
              "      (bn3): BatchNorm2d(256, eps=1e-05, momentum=0.1, affine=True, track_running_stats=True)\n",
              "      (relu): ReLU(inplace=True)\n",
              "    )\n",
              "    (2): Bottleneck(\n",
              "      (conv1): Conv2d(256, 64, kernel_size=(1, 1), stride=(1, 1), bias=False)\n",
              "      (bn1): BatchNorm2d(64, eps=1e-05, momentum=0.1, affine=True, track_running_stats=True)\n",
              "      (conv2): Conv2d(64, 64, kernel_size=(3, 3), stride=(1, 1), padding=(1, 1), bias=False)\n",
              "      (bn2): BatchNorm2d(64, eps=1e-05, momentum=0.1, affine=True, track_running_stats=True)\n",
              "      (conv3): Conv2d(64, 256, kernel_size=(1, 1), stride=(1, 1), bias=False)\n",
              "      (bn3): BatchNorm2d(256, eps=1e-05, momentum=0.1, affine=True, track_running_stats=True)\n",
              "      (relu): ReLU(inplace=True)\n",
              "    )\n",
              "  )\n",
              "  (layer2): Sequential(\n",
              "    (0): Bottleneck(\n",
              "      (conv1): Conv2d(256, 128, kernel_size=(1, 1), stride=(1, 1), bias=False)\n",
              "      (bn1): BatchNorm2d(128, eps=1e-05, momentum=0.1, affine=True, track_running_stats=True)\n",
              "      (conv2): Conv2d(128, 128, kernel_size=(3, 3), stride=(2, 2), padding=(1, 1), bias=False)\n",
              "      (bn2): BatchNorm2d(128, eps=1e-05, momentum=0.1, affine=True, track_running_stats=True)\n",
              "      (conv3): Conv2d(128, 512, kernel_size=(1, 1), stride=(1, 1), bias=False)\n",
              "      (bn3): BatchNorm2d(512, eps=1e-05, momentum=0.1, affine=True, track_running_stats=True)\n",
              "      (relu): ReLU(inplace=True)\n",
              "      (downsample): Sequential(\n",
              "        (0): Conv2d(256, 512, kernel_size=(1, 1), stride=(2, 2), bias=False)\n",
              "        (1): BatchNorm2d(512, eps=1e-05, momentum=0.1, affine=True, track_running_stats=True)\n",
              "      )\n",
              "    )\n",
              "    (1): Bottleneck(\n",
              "      (conv1): Conv2d(512, 128, kernel_size=(1, 1), stride=(1, 1), bias=False)\n",
              "      (bn1): BatchNorm2d(128, eps=1e-05, momentum=0.1, affine=True, track_running_stats=True)\n",
              "      (conv2): Conv2d(128, 128, kernel_size=(3, 3), stride=(1, 1), padding=(1, 1), bias=False)\n",
              "      (bn2): BatchNorm2d(128, eps=1e-05, momentum=0.1, affine=True, track_running_stats=True)\n",
              "      (conv3): Conv2d(128, 512, kernel_size=(1, 1), stride=(1, 1), bias=False)\n",
              "      (bn3): BatchNorm2d(512, eps=1e-05, momentum=0.1, affine=True, track_running_stats=True)\n",
              "      (relu): ReLU(inplace=True)\n",
              "    )\n",
              "    (2): Bottleneck(\n",
              "      (conv1): Conv2d(512, 128, kernel_size=(1, 1), stride=(1, 1), bias=False)\n",
              "      (bn1): BatchNorm2d(128, eps=1e-05, momentum=0.1, affine=True, track_running_stats=True)\n",
              "      (conv2): Conv2d(128, 128, kernel_size=(3, 3), stride=(1, 1), padding=(1, 1), bias=False)\n",
              "      (bn2): BatchNorm2d(128, eps=1e-05, momentum=0.1, affine=True, track_running_stats=True)\n",
              "      (conv3): Conv2d(128, 512, kernel_size=(1, 1), stride=(1, 1), bias=False)\n",
              "      (bn3): BatchNorm2d(512, eps=1e-05, momentum=0.1, affine=True, track_running_stats=True)\n",
              "      (relu): ReLU(inplace=True)\n",
              "    )\n",
              "    (3): Bottleneck(\n",
              "      (conv1): Conv2d(512, 128, kernel_size=(1, 1), stride=(1, 1), bias=False)\n",
              "      (bn1): BatchNorm2d(128, eps=1e-05, momentum=0.1, affine=True, track_running_stats=True)\n",
              "      (conv2): Conv2d(128, 128, kernel_size=(3, 3), stride=(1, 1), padding=(1, 1), bias=False)\n",
              "      (bn2): BatchNorm2d(128, eps=1e-05, momentum=0.1, affine=True, track_running_stats=True)\n",
              "      (conv3): Conv2d(128, 512, kernel_size=(1, 1), stride=(1, 1), bias=False)\n",
              "      (bn3): BatchNorm2d(512, eps=1e-05, momentum=0.1, affine=True, track_running_stats=True)\n",
              "      (relu): ReLU(inplace=True)\n",
              "    )\n",
              "  )\n",
              "  (layer3): Sequential(\n",
              "    (0): Bottleneck(\n",
              "      (conv1): Conv2d(512, 256, kernel_size=(1, 1), stride=(1, 1), bias=False)\n",
              "      (bn1): BatchNorm2d(256, eps=1e-05, momentum=0.1, affine=True, track_running_stats=True)\n",
              "      (conv2): Conv2d(256, 256, kernel_size=(3, 3), stride=(2, 2), padding=(1, 1), bias=False)\n",
              "      (bn2): BatchNorm2d(256, eps=1e-05, momentum=0.1, affine=True, track_running_stats=True)\n",
              "      (conv3): Conv2d(256, 1024, kernel_size=(1, 1), stride=(1, 1), bias=False)\n",
              "      (bn3): BatchNorm2d(1024, eps=1e-05, momentum=0.1, affine=True, track_running_stats=True)\n",
              "      (relu): ReLU(inplace=True)\n",
              "      (downsample): Sequential(\n",
              "        (0): Conv2d(512, 1024, kernel_size=(1, 1), stride=(2, 2), bias=False)\n",
              "        (1): BatchNorm2d(1024, eps=1e-05, momentum=0.1, affine=True, track_running_stats=True)\n",
              "      )\n",
              "    )\n",
              "    (1): Bottleneck(\n",
              "      (conv1): Conv2d(1024, 256, kernel_size=(1, 1), stride=(1, 1), bias=False)\n",
              "      (bn1): BatchNorm2d(256, eps=1e-05, momentum=0.1, affine=True, track_running_stats=True)\n",
              "      (conv2): Conv2d(256, 256, kernel_size=(3, 3), stride=(1, 1), padding=(1, 1), bias=False)\n",
              "      (bn2): BatchNorm2d(256, eps=1e-05, momentum=0.1, affine=True, track_running_stats=True)\n",
              "      (conv3): Conv2d(256, 1024, kernel_size=(1, 1), stride=(1, 1), bias=False)\n",
              "      (bn3): BatchNorm2d(1024, eps=1e-05, momentum=0.1, affine=True, track_running_stats=True)\n",
              "      (relu): ReLU(inplace=True)\n",
              "    )\n",
              "    (2): Bottleneck(\n",
              "      (conv1): Conv2d(1024, 256, kernel_size=(1, 1), stride=(1, 1), bias=False)\n",
              "      (bn1): BatchNorm2d(256, eps=1e-05, momentum=0.1, affine=True, track_running_stats=True)\n",
              "      (conv2): Conv2d(256, 256, kernel_size=(3, 3), stride=(1, 1), padding=(1, 1), bias=False)\n",
              "      (bn2): BatchNorm2d(256, eps=1e-05, momentum=0.1, affine=True, track_running_stats=True)\n",
              "      (conv3): Conv2d(256, 1024, kernel_size=(1, 1), stride=(1, 1), bias=False)\n",
              "      (bn3): BatchNorm2d(1024, eps=1e-05, momentum=0.1, affine=True, track_running_stats=True)\n",
              "      (relu): ReLU(inplace=True)\n",
              "    )\n",
              "    (3): Bottleneck(\n",
              "      (conv1): Conv2d(1024, 256, kernel_size=(1, 1), stride=(1, 1), bias=False)\n",
              "      (bn1): BatchNorm2d(256, eps=1e-05, momentum=0.1, affine=True, track_running_stats=True)\n",
              "      (conv2): Conv2d(256, 256, kernel_size=(3, 3), stride=(1, 1), padding=(1, 1), bias=False)\n",
              "      (bn2): BatchNorm2d(256, eps=1e-05, momentum=0.1, affine=True, track_running_stats=True)\n",
              "      (conv3): Conv2d(256, 1024, kernel_size=(1, 1), stride=(1, 1), bias=False)\n",
              "      (bn3): BatchNorm2d(1024, eps=1e-05, momentum=0.1, affine=True, track_running_stats=True)\n",
              "      (relu): ReLU(inplace=True)\n",
              "    )\n",
              "    (4): Bottleneck(\n",
              "      (conv1): Conv2d(1024, 256, kernel_size=(1, 1), stride=(1, 1), bias=False)\n",
              "      (bn1): BatchNorm2d(256, eps=1e-05, momentum=0.1, affine=True, track_running_stats=True)\n",
              "      (conv2): Conv2d(256, 256, kernel_size=(3, 3), stride=(1, 1), padding=(1, 1), bias=False)\n",
              "      (bn2): BatchNorm2d(256, eps=1e-05, momentum=0.1, affine=True, track_running_stats=True)\n",
              "      (conv3): Conv2d(256, 1024, kernel_size=(1, 1), stride=(1, 1), bias=False)\n",
              "      (bn3): BatchNorm2d(1024, eps=1e-05, momentum=0.1, affine=True, track_running_stats=True)\n",
              "      (relu): ReLU(inplace=True)\n",
              "    )\n",
              "    (5): Bottleneck(\n",
              "      (conv1): Conv2d(1024, 256, kernel_size=(1, 1), stride=(1, 1), bias=False)\n",
              "      (bn1): BatchNorm2d(256, eps=1e-05, momentum=0.1, affine=True, track_running_stats=True)\n",
              "      (conv2): Conv2d(256, 256, kernel_size=(3, 3), stride=(1, 1), padding=(1, 1), bias=False)\n",
              "      (bn2): BatchNorm2d(256, eps=1e-05, momentum=0.1, affine=True, track_running_stats=True)\n",
              "      (conv3): Conv2d(256, 1024, kernel_size=(1, 1), stride=(1, 1), bias=False)\n",
              "      (bn3): BatchNorm2d(1024, eps=1e-05, momentum=0.1, affine=True, track_running_stats=True)\n",
              "      (relu): ReLU(inplace=True)\n",
              "    )\n",
              "  )\n",
              "  (layer4): Sequential(\n",
              "    (0): Bottleneck(\n",
              "      (conv1): Conv2d(1024, 512, kernel_size=(1, 1), stride=(1, 1), bias=False)\n",
              "      (bn1): BatchNorm2d(512, eps=1e-05, momentum=0.1, affine=True, track_running_stats=True)\n",
              "      (conv2): Conv2d(512, 512, kernel_size=(3, 3), stride=(2, 2), padding=(1, 1), bias=False)\n",
              "      (bn2): BatchNorm2d(512, eps=1e-05, momentum=0.1, affine=True, track_running_stats=True)\n",
              "      (conv3): Conv2d(512, 2048, kernel_size=(1, 1), stride=(1, 1), bias=False)\n",
              "      (bn3): BatchNorm2d(2048, eps=1e-05, momentum=0.1, affine=True, track_running_stats=True)\n",
              "      (relu): ReLU(inplace=True)\n",
              "      (downsample): Sequential(\n",
              "        (0): Conv2d(1024, 2048, kernel_size=(1, 1), stride=(2, 2), bias=False)\n",
              "        (1): BatchNorm2d(2048, eps=1e-05, momentum=0.1, affine=True, track_running_stats=True)\n",
              "      )\n",
              "    )\n",
              "    (1): Bottleneck(\n",
              "      (conv1): Conv2d(2048, 512, kernel_size=(1, 1), stride=(1, 1), bias=False)\n",
              "      (bn1): BatchNorm2d(512, eps=1e-05, momentum=0.1, affine=True, track_running_stats=True)\n",
              "      (conv2): Conv2d(512, 512, kernel_size=(3, 3), stride=(1, 1), padding=(1, 1), bias=False)\n",
              "      (bn2): BatchNorm2d(512, eps=1e-05, momentum=0.1, affine=True, track_running_stats=True)\n",
              "      (conv3): Conv2d(512, 2048, kernel_size=(1, 1), stride=(1, 1), bias=False)\n",
              "      (bn3): BatchNorm2d(2048, eps=1e-05, momentum=0.1, affine=True, track_running_stats=True)\n",
              "      (relu): ReLU(inplace=True)\n",
              "    )\n",
              "    (2): Bottleneck(\n",
              "      (conv1): Conv2d(2048, 512, kernel_size=(1, 1), stride=(1, 1), bias=False)\n",
              "      (bn1): BatchNorm2d(512, eps=1e-05, momentum=0.1, affine=True, track_running_stats=True)\n",
              "      (conv2): Conv2d(512, 512, kernel_size=(3, 3), stride=(1, 1), padding=(1, 1), bias=False)\n",
              "      (bn2): BatchNorm2d(512, eps=1e-05, momentum=0.1, affine=True, track_running_stats=True)\n",
              "      (conv3): Conv2d(512, 2048, kernel_size=(1, 1), stride=(1, 1), bias=False)\n",
              "      (bn3): BatchNorm2d(2048, eps=1e-05, momentum=0.1, affine=True, track_running_stats=True)\n",
              "      (relu): ReLU(inplace=True)\n",
              "    )\n",
              "  )\n",
              "  (avgpool): AdaptiveAvgPool2d(output_size=(1, 1))\n",
              "  (fc): Linear(in_features=2048, out_features=2, bias=True)\n",
              ")"
            ]
          },
          "metadata": {
            "tags": []
          },
          "execution_count": 30
        }
      ]
    },
    {
      "cell_type": "code",
      "metadata": {
        "id": "BNR0uNxVaNTd"
      },
      "source": [
        "train_size = len(train_dataset) - split \r\n",
        "val_size = split"
      ],
      "execution_count": 40,
      "outputs": []
    },
    {
      "cell_type": "code",
      "metadata": {
        "colab": {
          "base_uri": "https://localhost:8080/"
        },
        "id": "tubEBjvAFkmC",
        "outputId": "3634745d-d027-4d39-e985-72ca1b709ab4"
      },
      "source": [
        "print(f'The training set size is {train_size} and validation set size is {val_size}')"
      ],
      "execution_count": 41,
      "outputs": [
        {
          "output_type": "stream",
          "text": [
            "The training set size is 1840 and validation set size is 460\n"
          ],
          "name": "stdout"
        }
      ]
    },
    {
      "cell_type": "markdown",
      "metadata": {
        "id": "GdBDxm04GuWH"
      },
      "source": [
        "## Model training"
      ]
    },
    {
      "cell_type": "code",
      "metadata": {
        "id": "Im7NgiThJD2Q",
        "colab": {
          "base_uri": "https://localhost:8080/"
        },
        "outputId": "4237518d-b74e-46ff-879c-5a4efd206be3"
      },
      "source": [
        "model, history = train_model(model, train_loader,validation_loader, train_size,val_size, device)"
      ],
      "execution_count": 42,
      "outputs": [
        {
          "output_type": "stream",
          "text": [
            "Epoch 1/3\n",
            "----------\n",
            "Doing training on 1840 samples\n",
            " Processing batch 0 \n",
            " Processing batch 1 \n",
            " Processing batch 2 \n",
            " Processing batch 3 \n",
            " Processing batch 4 \n",
            " Processing batch 5 \n",
            " Processing batch 6 \n",
            " Processing batch 7 \n",
            " Processing batch 8 \n",
            " Processing batch 9 \n",
            " Processing batch 10 \n",
            " Processing batch 11 \n",
            " Processing batch 12 \n",
            " Processing batch 13 \n",
            " Processing batch 14 \n",
            " Processing batch 15 \n",
            " Processing batch 16 \n",
            " Processing batch 17 \n",
            " Processing batch 18 \n",
            " Processing batch 19 \n",
            " Processing batch 20 \n",
            " Processing batch 21 \n",
            " Processing batch 22 \n",
            " Processing batch 23 \n",
            " Processing batch 24 \n",
            " Processing batch 25 \n",
            " Processing batch 26 \n",
            " Processing batch 27 \n",
            " Processing batch 28 \n",
            "Train loss 0.3718612522914492 accuracy 0.8353260869565218\n",
            "Doing validation on 460 samples\n",
            " Processing batch 0 \n",
            " Processing batch 1 \n",
            " Processing batch 2 \n",
            " Processing batch 3 \n",
            " Processing batch 4 \n",
            " Processing batch 5 \n",
            " Processing batch 6 \n",
            " Processing batch 7 \n",
            "Val   loss 5.753545850515366 accuracy 0.6369565217391304\n",
            "\n",
            "Epoch 2/3\n",
            "----------\n",
            "Doing training on 1840 samples\n",
            " Processing batch 0 \n",
            " Processing batch 1 \n",
            " Processing batch 2 \n",
            " Processing batch 3 \n",
            " Processing batch 4 \n",
            " Processing batch 5 \n",
            " Processing batch 6 \n",
            " Processing batch 7 \n",
            " Processing batch 8 \n",
            " Processing batch 9 \n",
            " Processing batch 10 \n",
            " Processing batch 11 \n",
            " Processing batch 12 \n",
            " Processing batch 13 \n",
            " Processing batch 14 \n",
            " Processing batch 15 \n",
            " Processing batch 16 \n",
            " Processing batch 17 \n",
            " Processing batch 18 \n",
            " Processing batch 19 \n",
            " Processing batch 20 \n",
            " Processing batch 21 \n",
            " Processing batch 22 \n",
            " Processing batch 23 \n",
            " Processing batch 24 \n",
            " Processing batch 25 \n",
            " Processing batch 26 \n",
            " Processing batch 27 \n",
            " Processing batch 28 \n",
            "Train loss 0.26561611633876275 accuracy 0.8913043478260869\n",
            "Doing validation on 460 samples\n",
            " Processing batch 0 \n",
            " Processing batch 1 \n",
            " Processing batch 2 \n",
            " Processing batch 3 \n",
            " Processing batch 4 \n",
            " Processing batch 5 \n",
            " Processing batch 6 \n",
            " Processing batch 7 \n",
            "Val   loss 0.1791278924793005 accuracy 0.9173913043478261\n",
            "\n",
            "Epoch 3/3\n",
            "----------\n",
            "Doing training on 1840 samples\n",
            " Processing batch 0 \n",
            " Processing batch 1 \n",
            " Processing batch 2 \n",
            " Processing batch 3 \n",
            " Processing batch 4 \n",
            " Processing batch 5 \n",
            " Processing batch 6 \n",
            " Processing batch 7 \n",
            " Processing batch 8 \n",
            " Processing batch 9 \n",
            " Processing batch 10 \n",
            " Processing batch 11 \n",
            " Processing batch 12 \n",
            " Processing batch 13 \n",
            " Processing batch 14 \n",
            " Processing batch 15 \n",
            " Processing batch 16 \n",
            " Processing batch 17 \n",
            " Processing batch 18 \n",
            " Processing batch 19 \n",
            " Processing batch 20 \n",
            " Processing batch 21 \n",
            " Processing batch 22 \n",
            " Processing batch 23 \n",
            " Processing batch 24 \n",
            " Processing batch 25 \n",
            " Processing batch 26 \n",
            " Processing batch 27 \n",
            " Processing batch 28 \n",
            "Train loss 0.22516347544974294 accuracy 0.9010869565217391\n",
            "Doing validation on 460 samples\n",
            " Processing batch 0 \n",
            " Processing batch 1 \n",
            " Processing batch 2 \n",
            " Processing batch 3 \n",
            " Processing batch 4 \n",
            " Processing batch 5 \n",
            " Processing batch 6 \n",
            " Processing batch 7 \n",
            "Val   loss 0.6071069240570068 accuracy 0.8152173913043478\n",
            "\n",
            "Best val accuracy: 0.9173913043478261\n"
          ],
          "name": "stdout"
        }
      ]
    },
    {
      "cell_type": "markdown",
      "metadata": {
        "id": "L1z-GCyDGx0o"
      },
      "source": [
        "## Helper function for plotting training history"
      ]
    },
    {
      "cell_type": "code",
      "metadata": {
        "id": "tGBWxYEtJG-8"
      },
      "source": [
        "def plot_training_history(history):\r\n",
        "  fig, (ax1, ax2) = plt.subplots(1, 2, figsize=(18, 6))\r\n",
        "\r\n",
        "  ax1.plot(history['train_loss'], label='train loss')\r\n",
        "  ax1.plot(history['val_loss'], label='validation loss')\r\n",
        "\r\n",
        "  ax1.xaxis.set_major_locator(MaxNLocator(integer=True))\r\n",
        "  ax1.set_ylim([-0.05, 1.05])\r\n",
        "  ax1.legend()\r\n",
        "  ax1.set_ylabel('Loss')\r\n",
        "  ax1.set_xlabel('Epoch')\r\n",
        "\r\n",
        "  ax2.plot(history['train_acc'], label='train accuracy')\r\n",
        "  ax2.plot(history['val_acc'], label='validation accuracy')\r\n",
        "\r\n",
        "  ax2.xaxis.set_major_locator(MaxNLocator(integer=True))\r\n",
        "  ax2.set_ylim([-0.05, 1.05])\r\n",
        "  ax2.legend()\r\n",
        "\r\n",
        "  ax2.set_ylabel('Accuracy')\r\n",
        "  ax2.set_xlabel('Epoch')\r\n",
        "\r\n",
        "  fig.suptitle('Training history')"
      ],
      "execution_count": 43,
      "outputs": []
    },
    {
      "cell_type": "code",
      "metadata": {
        "colab": {
          "base_uri": "https://localhost:8080/",
          "height": 441
        },
        "id": "K3phCt3VfSzk",
        "outputId": "122a7b35-f230-4762-c5c5-c46348a46b6c"
      },
      "source": [
        "plot_training_history(history)"
      ],
      "execution_count": 44,
      "outputs": [
        {
          "output_type": "display_data",
          "data": {
            "image/png": "[encoded data removed]",
            "text/plain": [
              "<Figure size 1296x432 with 2 Axes>"
            ]
          },
          "metadata": {
            "tags": [],
            "image/png": {
              "width": 1067,
              "height": 424
            }
          }
        }
      ]
    },
    {
      "cell_type": "markdown",
      "metadata": {
        "id": "nm1O7XaMG2yH"
      },
      "source": [
        "## Helper function to get the predictions from train and validation sets"
      ]
    },
    {
      "cell_type": "code",
      "metadata": {
        "id": "q3wwf7saJQp6"
      },
      "source": [
        "def get_predictions(model, data_loader):\r\n",
        "  model = model.eval()\r\n",
        "  predictions = []\r\n",
        "  real_values = []\r\n",
        "  with torch.no_grad():\r\n",
        "    for inputs, labels in data_loader:\r\n",
        "      inputs = inputs.to(device)\r\n",
        "      labels = labels.to(device)\r\n",
        "\r\n",
        "      outputs = model(inputs)\r\n",
        "      _, preds = torch.max(outputs, 1)\r\n",
        "      predictions.extend(preds)\r\n",
        "      real_values.extend(labels)\r\n",
        "  predictions = torch.as_tensor(predictions).cpu()\r\n",
        "  real_values = torch.as_tensor(real_values).cpu()\r\n",
        "  return predictions, real_values"
      ],
      "execution_count": 45,
      "outputs": []
    },
    {
      "cell_type": "markdown",
      "metadata": {
        "id": "usjBYioDHgwU"
      },
      "source": [
        "## Confusion Matrix Helper function"
      ]
    },
    {
      "cell_type": "code",
      "metadata": {
        "id": "SPHRYyFVJi2R"
      },
      "source": [
        "def show_confusion_matrix(confusion_matrix, class_names):\r\n",
        "\r\n",
        "  cm = confusion_matrix.copy()\r\n",
        "\r\n",
        "  cell_counts = cm.flatten()\r\n",
        "\r\n",
        "  cm_row_norm = cm / cm.sum(axis=1)[:, np.newaxis]\r\n",
        "\r\n",
        "  row_percentages = [\"{0:.2f}\".format(value) for value in cm_row_norm.flatten()]\r\n",
        "\r\n",
        "  cell_labels = [f\"{cnt}\\n{per}\" for cnt, per in zip(cell_counts, row_percentages)]\r\n",
        "  cell_labels = np.asarray(cell_labels).reshape(cm.shape[0], cm.shape[1])\r\n",
        "\r\n",
        "  df_cm = pd.DataFrame(cm_row_norm, index=class_names, columns=class_names)\r\n",
        "\r\n",
        "  hmap = sns.heatmap(df_cm, annot=cell_labels, fmt=\"\", cmap=\"Blues\")\r\n",
        "  hmap.yaxis.set_ticklabels(hmap.yaxis.get_ticklabels(), rotation=0, ha='right')\r\n",
        "  hmap.xaxis.set_ticklabels(hmap.xaxis.get_ticklabels(), rotation=30, ha='right')\r\n",
        "  plt.ylabel('True Sign')\r\n",
        "  plt.xlabel('Predicted Sign');"
      ],
      "execution_count": 46,
      "outputs": []
    },
    {
      "cell_type": "markdown",
      "metadata": {
        "id": "dNjHtufG9K8w"
      },
      "source": [
        "## Performance on training set"
      ]
    },
    {
      "cell_type": "code",
      "metadata": {
        "id": "CzZ_1pQ8JatW",
        "colab": {
          "base_uri": "https://localhost:8080/"
        },
        "outputId": "5131e12f-7b9e-4c49-da90-abe8389c2bb0"
      },
      "source": [
        "y_pred, y_test = get_predictions(model, train_loader)\r\n",
        "print(classification_report(y_test, y_pred, target_names=class_names))"
      ],
      "execution_count": 47,
      "outputs": [
        {
          "output_type": "stream",
          "text": [
            "              precision    recall  f1-score   support\n",
            "\n",
            "   Not_troll       0.88      0.95      0.92       816\n",
            "       troll       0.96      0.90      0.93      1024\n",
            "\n",
            "    accuracy                           0.92      1840\n",
            "   macro avg       0.92      0.93      0.92      1840\n",
            "weighted avg       0.93      0.92      0.92      1840\n",
            "\n"
          ],
          "name": "stdout"
        }
      ]
    },
    {
      "cell_type": "code",
      "metadata": {
        "colab": {
          "base_uri": "https://localhost:8080/",
          "height": 750
        },
        "id": "z10jNI4GH2Tt",
        "outputId": "f8d2655d-5461-419e-f25a-f6928ce11214"
      },
      "source": [
        "cm = confusion_matrix(y_test, y_pred)\r\n",
        "show_confusion_matrix(cm, class_names)"
      ],
      "execution_count": 48,
      "outputs": [
        {
          "output_type": "display_data",
          "data": {
            "image/png": "[encoded data removed]",
            "text/plain": [
              "<Figure size 1152x864 with 2 Axes>"
            ]
          },
          "metadata": {
            "tags": [],
            "image/png": {
              "width": 919,
              "height": 733
            }
          }
        }
      ]
    },
    {
      "cell_type": "markdown",
      "metadata": {
        "id": "yUyZBsJX9ORq"
      },
      "source": [
        "## Performance on validation set"
      ]
    },
    {
      "cell_type": "code",
      "metadata": {
        "colab": {
          "base_uri": "https://localhost:8080/"
        },
        "id": "ZO7VcWHXf8lI",
        "outputId": "6d49f179-e6f8-44f7-a2d7-d62245dc4c4d"
      },
      "source": [
        "y_pred, y_test = get_predictions(model, validation_loader)\r\n",
        "print(classification_report(y_test, y_pred, target_names=class_names))"
      ],
      "execution_count": 49,
      "outputs": [
        {
          "output_type": "stream",
          "text": [
            "              precision    recall  f1-score   support\n",
            "\n",
            "   Not_troll       0.86      0.96      0.91       202\n",
            "       troll       0.97      0.88      0.92       258\n",
            "\n",
            "    accuracy                           0.91       460\n",
            "   macro avg       0.91      0.92      0.91       460\n",
            "weighted avg       0.92      0.91      0.91       460\n",
            "\n"
          ],
          "name": "stdout"
        }
      ]
    },
    {
      "cell_type": "code",
      "metadata": {
        "colab": {
          "base_uri": "https://localhost:8080/",
          "height": 750
        },
        "id": "4_JIRbSRIPzQ",
        "outputId": "7f6037cc-24ad-4fcf-c79a-b263f26f9416"
      },
      "source": [
        "cm = confusion_matrix(y_test, y_pred)\r\n",
        "show_confusion_matrix(cm, class_names)"
      ],
      "execution_count": 50,
      "outputs": [
        {
          "output_type": "display_data",
          "data": {
            "image/png": "[encoded data removed]",
            "text/plain": [
              "<Figure size 1152x864 with 2 Axes>"
            ]
          },
          "metadata": {
            "tags": [],
            "image/png": {
              "width": 919,
              "height": 733
            }
          }
        }
      ]
    },
    {
      "cell_type": "markdown",
      "metadata": {
        "id": "MQQzkomX_ezM"
      },
      "source": [
        "## Saving the model"
      ]
    },
    {
      "cell_type": "code",
      "metadata": {
        "id": "cqCYr9tj_hVv"
      },
      "source": [
        "torch.save(model,join(curr_dir,'drive','MyDrive','Codalab','Meme Classification Challenge','Models','tamil_memes_classification_pytorch_resnet50'))"
      ],
      "execution_count": null,
      "outputs": []
    },
    {
      "cell_type": "markdown",
      "metadata": {
        "id": "ZJ0PkxG4HMBN"
      },
      "source": [
        "## Helper function to get the predictions on the test set (with unknown labels)"
      ]
    },
    {
      "cell_type": "code",
      "metadata": {
        "id": "qoGiPXrq-p0V"
      },
      "source": [
        "def get_test_predictions(model, data_loader):\r\n",
        "  model = model.eval()\r\n",
        "  predictions = []\r\n",
        "  with torch.no_grad():\r\n",
        "    for idx , (inputs) in enumerate(data_loader):\r\n",
        "      inputs = inputs.to(device)\r\n",
        "\r\n",
        "      outputs = model(inputs)\r\n",
        "\r\n",
        "      _, preds = torch.max(outputs, 1)\r\n",
        "      \r\n",
        "      predictions.extend(preds)\r\n",
        "  predictions = torch.as_tensor(predictions).cpu()\r\n",
        "  return predictions"
      ],
      "execution_count": 68,
      "outputs": []
    },
    {
      "cell_type": "markdown",
      "metadata": {
        "id": "U5Wa5QPe9XpR"
      },
      "source": [
        "## Getting test set predictions"
      ]
    },
    {
      "cell_type": "code",
      "metadata": {
        "colab": {
          "base_uri": "https://localhost:8080/"
        },
        "id": "8jfbLfoZIoZI",
        "outputId": "16bf3fc4-055d-440c-eb54-adb94b4bfa76"
      },
      "source": [
        "y_pred = get_test_predictions(model, test_loader)\r\n",
        "y_pred"
      ],
      "execution_count": 69,
      "outputs": [
        {
          "output_type": "execute_result",
          "data": {
            "text/plain": [
              "tensor([0, 1, 1, 0, 1, 1, 0, 1, 1, 0, 1, 1, 0, 1, 1, 1, 0, 1, 1, 1, 1, 1, 1, 1,\n",
              "        1, 1, 1, 1, 1, 1, 1, 1, 1, 1, 1, 1, 1, 1, 1, 1, 1, 1, 1, 1, 0, 1, 1, 1,\n",
              "        1, 1, 1, 0, 1, 1, 1, 1, 1, 0, 1, 1, 1, 1, 1, 1, 1, 1, 1, 1, 1, 1, 1, 1,\n",
              "        0, 1, 1, 1, 1, 1, 1, 1, 1, 1, 1, 0, 1, 0, 1, 1, 1, 1, 1, 1, 1, 1, 0, 1,\n",
              "        1, 1, 1, 1, 1, 1, 1, 1, 1, 1, 1, 1, 1, 1, 1, 1, 1, 1, 1, 1, 1, 1, 1, 1,\n",
              "        1, 1, 1, 1, 1, 1, 0, 1, 1, 1, 1, 1, 1, 1, 1, 1, 0, 1, 1, 1, 1, 0, 1, 1,\n",
              "        1, 1, 1, 0, 1, 1, 1, 1, 1, 1, 1, 1, 1, 1, 1, 1, 1, 1, 1, 1, 1, 0, 1, 1,\n",
              "        1, 1, 0, 1, 1, 1, 1, 1, 1, 1, 1, 1, 1, 1, 1, 1, 1, 1, 1, 1, 1, 1, 1, 1,\n",
              "        1, 1, 1, 1, 1, 1, 1, 1, 1, 1, 1, 1, 0, 1, 1, 0, 1, 0, 0, 1, 0, 0, 1, 1,\n",
              "        1, 1, 0, 1, 1, 1, 1, 1, 0, 1, 1, 1, 1, 1, 1, 0, 0, 1, 0, 1, 1, 1, 1, 1,\n",
              "        1, 1, 1, 1, 1, 1, 1, 1, 1, 1, 1, 1, 1, 1, 1, 1, 1, 1, 1, 0, 1, 1, 1, 1,\n",
              "        1, 1, 1, 1, 1, 1, 0, 1, 1, 1, 1, 1, 1, 1, 1, 0, 1, 1, 1, 1, 0, 1, 1, 1,\n",
              "        0, 0, 1, 1, 1, 1, 0, 1, 1, 1, 1, 1, 1, 1, 1, 1, 0, 1, 1, 1, 1, 1, 1, 1,\n",
              "        1, 1, 0, 1, 1, 0, 1, 1, 1, 1, 1, 1, 1, 1, 1, 1, 1, 1, 1, 1, 1, 1, 1, 1,\n",
              "        1, 1, 1, 1, 1, 1, 1, 1, 1, 1, 1, 0, 1, 1, 1, 1, 1, 1, 1, 1, 1, 1, 1, 1,\n",
              "        1, 1, 1, 1, 1, 1, 1, 1, 1, 0, 0, 0, 0, 1, 1, 1, 1, 1, 1, 1, 1, 1, 1, 1,\n",
              "        1, 1, 1, 1, 1, 0, 1, 1, 1, 1, 1, 1, 1, 1, 1, 1, 0, 1, 1, 1, 1, 1, 1, 1,\n",
              "        1, 1, 1, 1, 1, 1, 1, 1, 1, 1, 1, 0, 0, 1, 1, 0, 1, 1, 1, 1, 1, 1, 1, 0,\n",
              "        1, 1, 1, 1, 1, 1, 1, 1, 0, 0, 1, 0, 1, 1, 1, 0, 1, 1, 1, 1, 1, 1, 1, 1,\n",
              "        1, 1, 1, 1, 1, 1, 1, 1, 1, 1, 1, 1, 1, 1, 1, 1, 1, 1, 1, 1, 1, 1, 0, 1,\n",
              "        1, 1, 1, 1, 1, 1, 1, 1, 1, 1, 1, 1, 1, 0, 1, 1, 1, 0, 1, 1, 1, 1, 1, 1,\n",
              "        1, 1, 1, 1, 1, 1, 1, 1, 1, 1, 1, 1, 0, 1, 0, 1, 1, 1, 0, 1, 1, 1, 1, 1,\n",
              "        1, 1, 1, 1, 1, 1, 1, 1, 0, 0, 1, 1, 1, 1, 1, 1, 1, 0, 1, 1, 1, 1, 0, 1,\n",
              "        1, 1, 1, 1, 1, 1, 1, 1, 1, 1, 1, 1, 1, 1, 1, 1, 1, 1, 1, 1, 1, 1, 1, 1,\n",
              "        1, 1, 1, 1, 1, 1, 1, 1, 1, 1, 1, 1, 1, 1, 1, 1, 1, 1, 1, 1, 1, 1, 1, 1,\n",
              "        0, 1, 1, 0, 1, 1, 1, 1, 1, 1, 1, 1, 1, 1, 1, 1, 1, 0, 1, 1, 1, 1, 1, 1,\n",
              "        1, 1, 1, 1, 1, 1, 1, 1, 1, 1, 1, 1, 0, 1, 1, 1, 1, 1, 0, 1, 1, 1, 1, 1,\n",
              "        1, 1, 0, 1, 0, 1, 1, 0, 0, 1, 0, 1, 1, 1, 1, 1, 1, 1, 1])"
            ]
          },
          "metadata": {
            "tags": []
          },
          "execution_count": 69
        }
      ]
    },
    {
      "cell_type": "code",
      "metadata": {
        "colab": {
          "base_uri": "https://localhost:8080/",
          "height": 723
        },
        "id": "QEP6YNoKLNC5",
        "outputId": "25835178-3e5a-4d05-fd70-df462ef366fc"
      },
      "source": [
        "sns.countplot(x = le.inverse_transform(y_pred))"
      ],
      "execution_count": 71,
      "outputs": [
        {
          "output_type": "execute_result",
          "data": {
            "text/plain": [
              "<matplotlib.axes._subplots.AxesSubplot at 0x7f67aa074ef0>"
            ]
          },
          "metadata": {
            "tags": []
          },
          "execution_count": 71
        },
        {
          "output_type": "display_data",
          "data": {
            "image/png": "[encoded data removed]",
            "text/plain": [
              "<Figure size 1152x864 with 1 Axes>"
            ]
          },
          "metadata": {
            "tags": [],
            "image/png": {
              "width": 959,
              "height": 689
            }
          }
        }
      ]
    },
    {
      "cell_type": "code",
      "metadata": {
        "id": "QzgY60LVLPD_"
      },
      "source": [
        ""
      ],
      "execution_count": null,
      "outputs": []
    }
  ]
}