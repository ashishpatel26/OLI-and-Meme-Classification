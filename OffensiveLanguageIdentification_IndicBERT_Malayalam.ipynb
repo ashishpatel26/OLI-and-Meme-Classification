{
  "nbformat": 4,
  "nbformat_minor": 0,
  "metadata": {
    "colab": {
      "name": "OffensiveLanguageIdentification_IndicBERT_Malayalam.ipynb",
      "provenance": [],
      "toc_visible": true
    },
    "kernelspec": {
      "display_name": "Python 3",
      "name": "python3"
    },
    "accelerator": "GPU",
    "widgets": {
      "application/vnd.jupyter.widget-state+json": {
        "674f1d2d755344e8a865de72401dee9a": {
          "model_module": "@jupyter-widgets/controls",
          "model_name": "HBoxModel",
          "state": {
            "_view_name": "HBoxView",
            "_dom_classes": [],
            "_model_name": "HBoxModel",
            "_view_module": "@jupyter-widgets/controls",
            "_model_module_version": "1.5.0",
            "_view_count": null,
            "_view_module_version": "1.5.0",
            "box_style": "",
            "layout": "IPY_MODEL_64115040f6954e5c8cabc852b7ff6883",
            "_model_module": "@jupyter-widgets/controls",
            "children": [
              "IPY_MODEL_3685cb38b96c437cb7c7b398c07a9bcb",
              "IPY_MODEL_6a449c887c854608bda8f748cc6784d4"
            ]
          }
        },
        "64115040f6954e5c8cabc852b7ff6883": {
          "model_module": "@jupyter-widgets/base",
          "model_name": "LayoutModel",
          "state": {
            "_view_name": "LayoutView",
            "grid_template_rows": null,
            "right": null,
            "justify_content": null,
            "_view_module": "@jupyter-widgets/base",
            "overflow": null,
            "_model_module_version": "1.2.0",
            "_view_count": null,
            "flex_flow": null,
            "width": null,
            "min_width": null,
            "border": null,
            "align_items": null,
            "bottom": null,
            "_model_module": "@jupyter-widgets/base",
            "top": null,
            "grid_column": null,
            "overflow_y": null,
            "overflow_x": null,
            "grid_auto_flow": null,
            "grid_area": null,
            "grid_template_columns": null,
            "flex": null,
            "_model_name": "LayoutModel",
            "justify_items": null,
            "grid_row": null,
            "max_height": null,
            "align_content": null,
            "visibility": null,
            "align_self": null,
            "height": null,
            "min_height": null,
            "padding": null,
            "grid_auto_rows": null,
            "grid_gap": null,
            "max_width": null,
            "order": null,
            "_view_module_version": "1.2.0",
            "grid_template_areas": null,
            "object_position": null,
            "object_fit": null,
            "grid_auto_columns": null,
            "margin": null,
            "display": null,
            "left": null
          }
        },
        "3685cb38b96c437cb7c7b398c07a9bcb": {
          "model_module": "@jupyter-widgets/controls",
          "model_name": "FloatProgressModel",
          "state": {
            "_view_name": "ProgressView",
            "style": "IPY_MODEL_227349bb9aeb4219a25ed2d7269cfbd2",
            "_dom_classes": [],
            "description": "Downloading: 100%",
            "_model_name": "FloatProgressModel",
            "bar_style": "success",
            "max": 507,
            "_view_module": "@jupyter-widgets/controls",
            "_model_module_version": "1.5.0",
            "value": 507,
            "_view_count": null,
            "_view_module_version": "1.5.0",
            "orientation": "horizontal",
            "min": 0,
            "description_tooltip": null,
            "_model_module": "@jupyter-widgets/controls",
            "layout": "IPY_MODEL_006293a808dc4279ad17b66860094b66"
          }
        },
        "6a449c887c854608bda8f748cc6784d4": {
          "model_module": "@jupyter-widgets/controls",
          "model_name": "HTMLModel",
          "state": {
            "_view_name": "HTMLView",
            "style": "IPY_MODEL_90c1bcfa969b4bbf974ae4d0f9e7f9b3",
            "_dom_classes": [],
            "description": "",
            "_model_name": "HTMLModel",
            "placeholder": "​",
            "_view_module": "@jupyter-widgets/controls",
            "_model_module_version": "1.5.0",
            "value": " 507/507 [00:46&lt;00:00, 10.9B/s]",
            "_view_count": null,
            "_view_module_version": "1.5.0",
            "description_tooltip": null,
            "_model_module": "@jupyter-widgets/controls",
            "layout": "IPY_MODEL_ac67b1bec8e844fca396cabebb5977f0"
          }
        },
        "227349bb9aeb4219a25ed2d7269cfbd2": {
          "model_module": "@jupyter-widgets/controls",
          "model_name": "ProgressStyleModel",
          "state": {
            "_view_name": "StyleView",
            "_model_name": "ProgressStyleModel",
            "description_width": "initial",
            "_view_module": "@jupyter-widgets/base",
            "_model_module_version": "1.5.0",
            "_view_count": null,
            "_view_module_version": "1.2.0",
            "bar_color": null,
            "_model_module": "@jupyter-widgets/controls"
          }
        },
        "006293a808dc4279ad17b66860094b66": {
          "model_module": "@jupyter-widgets/base",
          "model_name": "LayoutModel",
          "state": {
            "_view_name": "LayoutView",
            "grid_template_rows": null,
            "right": null,
            "justify_content": null,
            "_view_module": "@jupyter-widgets/base",
            "overflow": null,
            "_model_module_version": "1.2.0",
            "_view_count": null,
            "flex_flow": null,
            "width": null,
            "min_width": null,
            "border": null,
            "align_items": null,
            "bottom": null,
            "_model_module": "@jupyter-widgets/base",
            "top": null,
            "grid_column": null,
            "overflow_y": null,
            "overflow_x": null,
            "grid_auto_flow": null,
            "grid_area": null,
            "grid_template_columns": null,
            "flex": null,
            "_model_name": "LayoutModel",
            "justify_items": null,
            "grid_row": null,
            "max_height": null,
            "align_content": null,
            "visibility": null,
            "align_self": null,
            "height": null,
            "min_height": null,
            "padding": null,
            "grid_auto_rows": null,
            "grid_gap": null,
            "max_width": null,
            "order": null,
            "_view_module_version": "1.2.0",
            "grid_template_areas": null,
            "object_position": null,
            "object_fit": null,
            "grid_auto_columns": null,
            "margin": null,
            "display": null,
            "left": null
          }
        },
        "90c1bcfa969b4bbf974ae4d0f9e7f9b3": {
          "model_module": "@jupyter-widgets/controls",
          "model_name": "DescriptionStyleModel",
          "state": {
            "_view_name": "StyleView",
            "_model_name": "DescriptionStyleModel",
            "description_width": "",
            "_view_module": "@jupyter-widgets/base",
            "_model_module_version": "1.5.0",
            "_view_count": null,
            "_view_module_version": "1.2.0",
            "_model_module": "@jupyter-widgets/controls"
          }
        },
        "ac67b1bec8e844fca396cabebb5977f0": {
          "model_module": "@jupyter-widgets/base",
          "model_name": "LayoutModel",
          "state": {
            "_view_name": "LayoutView",
            "grid_template_rows": null,
            "right": null,
            "justify_content": null,
            "_view_module": "@jupyter-widgets/base",
            "overflow": null,
            "_model_module_version": "1.2.0",
            "_view_count": null,
            "flex_flow": null,
            "width": null,
            "min_width": null,
            "border": null,
            "align_items": null,
            "bottom": null,
            "_model_module": "@jupyter-widgets/base",
            "top": null,
            "grid_column": null,
            "overflow_y": null,
            "overflow_x": null,
            "grid_auto_flow": null,
            "grid_area": null,
            "grid_template_columns": null,
            "flex": null,
            "_model_name": "LayoutModel",
            "justify_items": null,
            "grid_row": null,
            "max_height": null,
            "align_content": null,
            "visibility": null,
            "align_self": null,
            "height": null,
            "min_height": null,
            "padding": null,
            "grid_auto_rows": null,
            "grid_gap": null,
            "max_width": null,
            "order": null,
            "_view_module_version": "1.2.0",
            "grid_template_areas": null,
            "object_position": null,
            "object_fit": null,
            "grid_auto_columns": null,
            "margin": null,
            "display": null,
            "left": null
          }
        },
        "06a2203b9eeb4661909f2c708ebc424c": {
          "model_module": "@jupyter-widgets/controls",
          "model_name": "HBoxModel",
          "state": {
            "_view_name": "HBoxView",
            "_dom_classes": [],
            "_model_name": "HBoxModel",
            "_view_module": "@jupyter-widgets/controls",
            "_model_module_version": "1.5.0",
            "_view_count": null,
            "_view_module_version": "1.5.0",
            "box_style": "",
            "layout": "IPY_MODEL_96b2843fa18b4ff8928029790e61dadf",
            "_model_module": "@jupyter-widgets/controls",
            "children": [
              "IPY_MODEL_dae0100647e34828b37a4aa304daaee4",
              "IPY_MODEL_e3ed71594e784a1cb5ba816bc764e27d"
            ]
          }
        },
        "96b2843fa18b4ff8928029790e61dadf": {
          "model_module": "@jupyter-widgets/base",
          "model_name": "LayoutModel",
          "state": {
            "_view_name": "LayoutView",
            "grid_template_rows": null,
            "right": null,
            "justify_content": null,
            "_view_module": "@jupyter-widgets/base",
            "overflow": null,
            "_model_module_version": "1.2.0",
            "_view_count": null,
            "flex_flow": null,
            "width": null,
            "min_width": null,
            "border": null,
            "align_items": null,
            "bottom": null,
            "_model_module": "@jupyter-widgets/base",
            "top": null,
            "grid_column": null,
            "overflow_y": null,
            "overflow_x": null,
            "grid_auto_flow": null,
            "grid_area": null,
            "grid_template_columns": null,
            "flex": null,
            "_model_name": "LayoutModel",
            "justify_items": null,
            "grid_row": null,
            "max_height": null,
            "align_content": null,
            "visibility": null,
            "align_self": null,
            "height": null,
            "min_height": null,
            "padding": null,
            "grid_auto_rows": null,
            "grid_gap": null,
            "max_width": null,
            "order": null,
            "_view_module_version": "1.2.0",
            "grid_template_areas": null,
            "object_position": null,
            "object_fit": null,
            "grid_auto_columns": null,
            "margin": null,
            "display": null,
            "left": null
          }
        },
        "dae0100647e34828b37a4aa304daaee4": {
          "model_module": "@jupyter-widgets/controls",
          "model_name": "FloatProgressModel",
          "state": {
            "_view_name": "ProgressView",
            "style": "IPY_MODEL_738859c9ed8549849a193ca0cb9249c8",
            "_dom_classes": [],
            "description": "Downloading: 100%",
            "_model_name": "FloatProgressModel",
            "bar_style": "success",
            "max": 5646064,
            "_view_module": "@jupyter-widgets/controls",
            "_model_module_version": "1.5.0",
            "value": 5646064,
            "_view_count": null,
            "_view_module_version": "1.5.0",
            "orientation": "horizontal",
            "min": 0,
            "description_tooltip": null,
            "_model_module": "@jupyter-widgets/controls",
            "layout": "IPY_MODEL_5147f8775fcf480aa1e3c91acfb4bf53"
          }
        },
        "e3ed71594e784a1cb5ba816bc764e27d": {
          "model_module": "@jupyter-widgets/controls",
          "model_name": "HTMLModel",
          "state": {
            "_view_name": "HTMLView",
            "style": "IPY_MODEL_61cf69087d404a37a98520789bd92676",
            "_dom_classes": [],
            "description": "",
            "_model_name": "HTMLModel",
            "placeholder": "​",
            "_view_module": "@jupyter-widgets/controls",
            "_model_module_version": "1.5.0",
            "value": " 5.65M/5.65M [00:46&lt;00:00, 122kB/s]",
            "_view_count": null,
            "_view_module_version": "1.5.0",
            "description_tooltip": null,
            "_model_module": "@jupyter-widgets/controls",
            "layout": "IPY_MODEL_ea6342e9ddfc491a897d6fe831ff1983"
          }
        },
        "738859c9ed8549849a193ca0cb9249c8": {
          "model_module": "@jupyter-widgets/controls",
          "model_name": "ProgressStyleModel",
          "state": {
            "_view_name": "StyleView",
            "_model_name": "ProgressStyleModel",
            "description_width": "initial",
            "_view_module": "@jupyter-widgets/base",
            "_model_module_version": "1.5.0",
            "_view_count": null,
            "_view_module_version": "1.2.0",
            "bar_color": null,
            "_model_module": "@jupyter-widgets/controls"
          }
        },
        "5147f8775fcf480aa1e3c91acfb4bf53": {
          "model_module": "@jupyter-widgets/base",
          "model_name": "LayoutModel",
          "state": {
            "_view_name": "LayoutView",
            "grid_template_rows": null,
            "right": null,
            "justify_content": null,
            "_view_module": "@jupyter-widgets/base",
            "overflow": null,
            "_model_module_version": "1.2.0",
            "_view_count": null,
            "flex_flow": null,
            "width": null,
            "min_width": null,
            "border": null,
            "align_items": null,
            "bottom": null,
            "_model_module": "@jupyter-widgets/base",
            "top": null,
            "grid_column": null,
            "overflow_y": null,
            "overflow_x": null,
            "grid_auto_flow": null,
            "grid_area": null,
            "grid_template_columns": null,
            "flex": null,
            "_model_name": "LayoutModel",
            "justify_items": null,
            "grid_row": null,
            "max_height": null,
            "align_content": null,
            "visibility": null,
            "align_self": null,
            "height": null,
            "min_height": null,
            "padding": null,
            "grid_auto_rows": null,
            "grid_gap": null,
            "max_width": null,
            "order": null,
            "_view_module_version": "1.2.0",
            "grid_template_areas": null,
            "object_position": null,
            "object_fit": null,
            "grid_auto_columns": null,
            "margin": null,
            "display": null,
            "left": null
          }
        },
        "61cf69087d404a37a98520789bd92676": {
          "model_module": "@jupyter-widgets/controls",
          "model_name": "DescriptionStyleModel",
          "state": {
            "_view_name": "StyleView",
            "_model_name": "DescriptionStyleModel",
            "description_width": "",
            "_view_module": "@jupyter-widgets/base",
            "_model_module_version": "1.5.0",
            "_view_count": null,
            "_view_module_version": "1.2.0",
            "_model_module": "@jupyter-widgets/controls"
          }
        },
        "ea6342e9ddfc491a897d6fe831ff1983": {
          "model_module": "@jupyter-widgets/base",
          "model_name": "LayoutModel",
          "state": {
            "_view_name": "LayoutView",
            "grid_template_rows": null,
            "right": null,
            "justify_content": null,
            "_view_module": "@jupyter-widgets/base",
            "overflow": null,
            "_model_module_version": "1.2.0",
            "_view_count": null,
            "flex_flow": null,
            "width": null,
            "min_width": null,
            "border": null,
            "align_items": null,
            "bottom": null,
            "_model_module": "@jupyter-widgets/base",
            "top": null,
            "grid_column": null,
            "overflow_y": null,
            "overflow_x": null,
            "grid_auto_flow": null,
            "grid_area": null,
            "grid_template_columns": null,
            "flex": null,
            "_model_name": "LayoutModel",
            "justify_items": null,
            "grid_row": null,
            "max_height": null,
            "align_content": null,
            "visibility": null,
            "align_self": null,
            "height": null,
            "min_height": null,
            "padding": null,
            "grid_auto_rows": null,
            "grid_gap": null,
            "max_width": null,
            "order": null,
            "_view_module_version": "1.2.0",
            "grid_template_areas": null,
            "object_position": null,
            "object_fit": null,
            "grid_auto_columns": null,
            "margin": null,
            "display": null,
            "left": null
          }
        }
      }
    }
  },
  "cells": [
    {
      "cell_type": "markdown",
      "metadata": {
        "id": "elqe9PQrVH6P"
      },
      "source": [
        "### Performing checks for the resources available"
      ]
    },
    {
      "cell_type": "code",
      "metadata": {
        "colab": {
          "base_uri": "https://localhost:8080/"
        },
        "id": "fSELLChxa5su",
        "outputId": "7f6c250e-3a58-43f8-f7b6-cc5cb328c925"
      },
      "source": [
        "import torch\r\n",
        "\r\n",
        "# If there's a GPU available...\r\n",
        "if torch.cuda.is_available():    \r\n",
        "\r\n",
        "    # Tell PyTorch to use the GPU.    \r\n",
        "    device = torch.device(\"cuda\")\r\n",
        "\r\n",
        "    print('There are %d GPU(s) available.' % torch.cuda.device_count())\r\n",
        "\r\n",
        "    print('We will use the GPU:', torch.cuda.get_device_name(0))\r\n",
        "\r\n",
        "# If not...\r\n",
        "else:\r\n",
        "    print('No GPU available, using the CPU instead.')\r\n",
        "    device = torch.device(\"cpu\")"
      ],
      "execution_count": 1,
      "outputs": [
        {
          "output_type": "stream",
          "text": [
            "There are 1 GPU(s) available.\n",
            "We will use the GPU: Tesla T4\n"
          ],
          "name": "stdout"
        }
      ]
    },
    {
      "cell_type": "code",
      "metadata": {
        "colab": {
          "base_uri": "https://localhost:8080/"
        },
        "id": "wFrXUyYThK5D",
        "outputId": "b8296310-dce0-41ea-e871-b4726eac60e9"
      },
      "source": [
        "!nvidia-smi"
      ],
      "execution_count": 2,
      "outputs": [
        {
          "output_type": "stream",
          "text": [
            "Sat Jan  9 06:19:32 2021       \n",
            "+-----------------------------------------------------------------------------+\n",
            "| NVIDIA-SMI 460.27.04    Driver Version: 418.67       CUDA Version: 10.1     |\n",
            "|-------------------------------+----------------------+----------------------+\n",
            "| GPU  Name        Persistence-M| Bus-Id        Disp.A | Volatile Uncorr. ECC |\n",
            "| Fan  Temp  Perf  Pwr:Usage/Cap|         Memory-Usage | GPU-Util  Compute M. |\n",
            "|                               |                      |               MIG M. |\n",
            "|===============================+======================+======================|\n",
            "|   0  Tesla T4            Off  | 00000000:00:04.0 Off |                    0 |\n",
            "| N/A   52C    P8    11W /  70W |     10MiB / 15079MiB |      0%      Default |\n",
            "|                               |                      |                 ERR! |\n",
            "+-------------------------------+----------------------+----------------------+\n",
            "                                                                               \n",
            "+-----------------------------------------------------------------------------+\n",
            "| Processes:                                                                  |\n",
            "|  GPU   GI   CI        PID   Type   Process name                  GPU Memory |\n",
            "|        ID   ID                                                   Usage      |\n",
            "|=============================================================================|\n",
            "|  No running processes found                                                 |\n",
            "+-----------------------------------------------------------------------------+\n"
          ],
          "name": "stdout"
        }
      ]
    },
    {
      "cell_type": "markdown",
      "metadata": {
        "id": "K-gbOgflVRxg"
      },
      "source": [
        "### Installing huggingface transformers library"
      ]
    },
    {
      "cell_type": "code",
      "metadata": {
        "colab": {
          "base_uri": "https://localhost:8080/"
        },
        "id": "DbDuxKy0a9Zl",
        "outputId": "4f4f7d96-069b-4e99-9079-dd24439112bb"
      },
      "source": [
        "!pip install transformers sentencepiece"
      ],
      "execution_count": 3,
      "outputs": [
        {
          "output_type": "stream",
          "text": [
            "Collecting transformers\n",
            "\u001b[?25l  Downloading https://files.pythonhosted.org/packages/50/0c/7d5950fcd80b029be0a8891727ba21e0cd27692c407c51261c3c921f6da3/transformers-4.1.1-py3-none-any.whl (1.5MB)\n",
            "\u001b[K     |████████████████████████████████| 1.5MB 12.0MB/s \n",
            "\u001b[?25hCollecting sentencepiece\n",
            "\u001b[?25l  Downloading https://files.pythonhosted.org/packages/e5/2d/6d4ca4bef9a67070fa1cac508606328329152b1df10bdf31fb6e4e727894/sentencepiece-0.1.94-cp36-cp36m-manylinux2014_x86_64.whl (1.1MB)\n",
            "\u001b[K     |████████████████████████████████| 1.1MB 39.4MB/s \n",
            "\u001b[?25hRequirement already satisfied: numpy in /usr/local/lib/python3.6/dist-packages (from transformers) (1.19.4)\n",
            "Requirement already satisfied: tqdm>=4.27 in /usr/local/lib/python3.6/dist-packages (from transformers) (4.41.1)\n",
            "Requirement already satisfied: filelock in /usr/local/lib/python3.6/dist-packages (from transformers) (3.0.12)\n",
            "Requirement already satisfied: dataclasses; python_version < \"3.7\" in /usr/local/lib/python3.6/dist-packages (from transformers) (0.8)\n",
            "Collecting tokenizers==0.9.4\n",
            "\u001b[?25l  Downloading https://files.pythonhosted.org/packages/0f/1c/e789a8b12e28be5bc1ce2156cf87cb522b379be9cadc7ad8091a4cc107c4/tokenizers-0.9.4-cp36-cp36m-manylinux2010_x86_64.whl (2.9MB)\n",
            "\u001b[K     |████████████████████████████████| 2.9MB 50.2MB/s \n",
            "\u001b[?25hRequirement already satisfied: packaging in /usr/local/lib/python3.6/dist-packages (from transformers) (20.8)\n",
            "Requirement already satisfied: requests in /usr/local/lib/python3.6/dist-packages (from transformers) (2.23.0)\n",
            "Collecting sacremoses\n",
            "\u001b[?25l  Downloading https://files.pythonhosted.org/packages/7d/34/09d19aff26edcc8eb2a01bed8e98f13a1537005d31e95233fd48216eed10/sacremoses-0.0.43.tar.gz (883kB)\n",
            "\u001b[K     |████████████████████████████████| 890kB 49.8MB/s \n",
            "\u001b[?25hRequirement already satisfied: regex!=2019.12.17 in /usr/local/lib/python3.6/dist-packages (from transformers) (2019.12.20)\n",
            "Requirement already satisfied: pyparsing>=2.0.2 in /usr/local/lib/python3.6/dist-packages (from packaging->transformers) (2.4.7)\n",
            "Requirement already satisfied: chardet<4,>=3.0.2 in /usr/local/lib/python3.6/dist-packages (from requests->transformers) (3.0.4)\n",
            "Requirement already satisfied: certifi>=2017.4.17 in /usr/local/lib/python3.6/dist-packages (from requests->transformers) (2020.12.5)\n",
            "Requirement already satisfied: idna<3,>=2.5 in /usr/local/lib/python3.6/dist-packages (from requests->transformers) (2.10)\n",
            "Requirement already satisfied: urllib3!=1.25.0,!=1.25.1,<1.26,>=1.21.1 in /usr/local/lib/python3.6/dist-packages (from requests->transformers) (1.24.3)\n",
            "Requirement already satisfied: six in /usr/local/lib/python3.6/dist-packages (from sacremoses->transformers) (1.15.0)\n",
            "Requirement already satisfied: click in /usr/local/lib/python3.6/dist-packages (from sacremoses->transformers) (7.1.2)\n",
            "Requirement already satisfied: joblib in /usr/local/lib/python3.6/dist-packages (from sacremoses->transformers) (1.0.0)\n",
            "Building wheels for collected packages: sacremoses\n",
            "  Building wheel for sacremoses (setup.py) ... \u001b[?25l\u001b[?25hdone\n",
            "  Created wheel for sacremoses: filename=sacremoses-0.0.43-cp36-none-any.whl size=893261 sha256=88bd86c92be9b59d6b5edd425e4dc8b99a1475af51e16a0dfcf80045aaf5545e\n",
            "  Stored in directory: /root/.cache/pip/wheels/29/3c/fd/7ce5c3f0666dab31a50123635e6fb5e19ceb42ce38d4e58f45\n",
            "Successfully built sacremoses\n",
            "Installing collected packages: tokenizers, sacremoses, transformers, sentencepiece\n",
            "Successfully installed sacremoses-0.0.43 sentencepiece-0.1.94 tokenizers-0.9.4 transformers-4.1.1\n"
          ],
          "name": "stdout"
        }
      ]
    },
    {
      "cell_type": "markdown",
      "metadata": {
        "id": "bPwaYLiRSNPC"
      },
      "source": [
        "## Importing necessary packages"
      ]
    },
    {
      "cell_type": "code",
      "metadata": {
        "id": "0XdFrhr8SRG0"
      },
      "source": [
        "import pandas as pd\r\n",
        "import numpy as np \r\n",
        "import random\r\n",
        "from sklearn.preprocessing import LabelEncoder\r\n",
        "from sklearn.utils.class_weight import compute_class_weight\r\n",
        "import time\r\n",
        "import datetime\r\n",
        "from sklearn.metrics import classification_report,confusion_matrix\r\n",
        "import random\r\n",
        "import time\r\n",
        "import torch.nn as nn\r\n",
        "from transformers import AutoModel , AutoModelForSequenceClassification, AutoConfig , AutoTokenizer , AdamW ,get_linear_schedule_with_warmup \r\n",
        "import torch\r\n",
        "import matplotlib.pyplot as plt\r\n",
        "import seaborn as sns\r\n",
        "from matplotlib import rc\r\n",
        "from matplotlib.ticker import MaxNLocator"
      ],
      "execution_count": 4,
      "outputs": []
    },
    {
      "cell_type": "markdown",
      "metadata": {
        "id": "dROX3juhVCxC"
      },
      "source": [
        "## Setting some configuration values"
      ]
    },
    {
      "cell_type": "code",
      "metadata": {
        "id": "Kzafv4BzVCC9"
      },
      "source": [
        "# Use plot styling from seaborn.\r\n",
        "sns.set(style='darkgrid')\r\n",
        "\r\n",
        "# Increase the plot size and font size.\r\n",
        "sns.set(font_scale=1.5)\r\n",
        "plt.rcParams[\"figure.figsize\"] = (16,12)\r\n",
        "\r\n",
        "# Set the seed value all over the place to make this reproducible.\r\n",
        "seed_val = 42\r\n",
        "\r\n",
        "random.seed(seed_val)\r\n",
        "np.random.seed(seed_val)\r\n",
        "torch.manual_seed(seed_val)\r\n",
        "torch.cuda.manual_seed_all(seed_val)"
      ],
      "execution_count": 5,
      "outputs": []
    },
    {
      "cell_type": "markdown",
      "metadata": {
        "id": "2v1AIN_OVX4t"
      },
      "source": [
        "## Importing drive into the colaboratory"
      ]
    },
    {
      "cell_type": "code",
      "metadata": {
        "colab": {
          "base_uri": "https://localhost:8080/"
        },
        "id": "Lofimyh2a_tp",
        "outputId": "53310d45-cb00-430b-b25a-abe3717fa3e0"
      },
      "source": [
        "from google.colab import drive \r\n",
        "drive.mount('/content/drive')"
      ],
      "execution_count": 6,
      "outputs": [
        {
          "output_type": "stream",
          "text": [
            "Mounted at /content/drive\n"
          ],
          "name": "stdout"
        }
      ]
    },
    {
      "cell_type": "markdown",
      "metadata": {
        "id": "yOK-M00dVeW2"
      },
      "source": [
        "## Importing dataset directories"
      ]
    },
    {
      "cell_type": "code",
      "metadata": {
        "id": "-y-JRPKBbCTv"
      },
      "source": [
        "from os import getcwd , listdir \r\n",
        "from os.path import join\r\n",
        "curr_dir = getcwd()\r\n",
        "drive_dir = join(curr_dir , 'drive','MyDrive')\r\n",
        "dataset_dir = join(drive_dir,'Codalab','Offensive Language Identification','Dataset')"
      ],
      "execution_count": 7,
      "outputs": []
    },
    {
      "cell_type": "code",
      "metadata": {
        "colab": {
          "base_uri": "https://localhost:8080/"
        },
        "id": "7YU1h8WhmqvK",
        "outputId": "3b9f2e16-62ed-47a2-9219-a7e8c889217b"
      },
      "source": [
        "listdir(dataset_dir)"
      ],
      "execution_count": 8,
      "outputs": [
        {
          "output_type": "execute_result",
          "data": {
            "text/plain": [
              "['mal_full_offensive_train_corrected.csv',\n",
              " 'mal_full_offensive_dev_corrected.csv',\n",
              " 'kannada_offensive_dev_corrected.csv',\n",
              " 'kannada_offensive_train_corrected.csv',\n",
              " 'tamil_offensive_full_train_corrected.csv',\n",
              " 'tamil_offensive_full_dev_corrected.csv',\n",
              " 'tamil_offensive_full_test.csv',\n",
              " 'mal_full_offensive_test.csv',\n",
              " 'kannada_offensive_test.csv',\n",
              " '0010.png']"
            ]
          },
          "metadata": {
            "tags": []
          },
          "execution_count": 8
        }
      ]
    },
    {
      "cell_type": "markdown",
      "metadata": {
        "id": "FUPkZxjLVjLK"
      },
      "source": [
        "## Loading training data"
      ]
    },
    {
      "cell_type": "code",
      "metadata": {
        "colab": {
          "base_uri": "https://localhost:8080/",
          "height": 377
        },
        "id": "joone3H4bINR",
        "outputId": "8ef583db-3891-42cd-f9be-3d5491637883"
      },
      "source": [
        "train_df_path = join(dataset_dir,'mal_full_offensive_train_corrected.csv')\r\n",
        "# Load the dataset into a pandas dataframe.\r\n",
        "train_df = pd.read_csv(train_df_path)\r\n",
        "\r\n",
        "# Report the number of sentences.\r\n",
        "print('Number of training sentences: {:,}\\n'.format(train_df.shape[0]))\r\n",
        "\r\n",
        "# Display 10 random rows from the data.\r\n",
        "train_df.sample(10)"
      ],
      "execution_count": 9,
      "outputs": [
        {
          "output_type": "stream",
          "text": [
            "Number of training sentences: 16,010\n",
            "\n"
          ],
          "name": "stdout"
        },
        {
          "output_type": "execute_result",
          "data": {
            "text/html": [
              "<div>\n",
              "<style scoped>\n",
              "    .dataframe tbody tr th:only-of-type {\n",
              "        vertical-align: middle;\n",
              "    }\n",
              "\n",
              "    .dataframe tbody tr th {\n",
              "        vertical-align: top;\n",
              "    }\n",
              "\n",
              "    .dataframe thead th {\n",
              "        text-align: right;\n",
              "    }\n",
              "</style>\n",
              "<table border=\"1\" class=\"dataframe\">\n",
              "  <thead>\n",
              "    <tr style=\"text-align: right;\">\n",
              "      <th></th>\n",
              "      <th>text</th>\n",
              "      <th>label</th>\n",
              "    </tr>\n",
              "  </thead>\n",
              "  <tbody>\n",
              "    <tr>\n",
              "      <th>13940</th>\n",
              "      <td>Mammooty fans എന്റെ ചാനൽ sandarschikkuka</td>\n",
              "      <td>Not_offensive</td>\n",
              "    </tr>\n",
              "    <tr>\n",
              "      <th>12071</th>\n",
              "      <td>Surajettan kunjunni mash ayi abhinayichal powl...</td>\n",
              "      <td>Not_offensive</td>\n",
              "    </tr>\n",
              "    <tr>\n",
              "      <th>101</th>\n",
              "      <td>Likeum illa...Dislike um illa... Lalettan isht...</td>\n",
              "      <td>Not_offensive</td>\n",
              "    </tr>\n",
              "    <tr>\n",
              "      <th>123</th>\n",
              "      <td>Inganethe massinde koode aa mukhavum kanichal ...</td>\n",
              "      <td>Not_offensive</td>\n",
              "    </tr>\n",
              "    <tr>\n",
              "      <th>11773</th>\n",
              "      <td>Kitti njangalak njagade aa pazhaya lalettane t...</td>\n",
              "      <td>Not_offensive</td>\n",
              "    </tr>\n",
              "    <tr>\n",
              "      <th>12773</th>\n",
              "      <td>OMG.  Looks like An Adaar movie. Katta waiting...</td>\n",
              "      <td>Not_offensive</td>\n",
              "    </tr>\n",
              "    <tr>\n",
              "      <th>11385</th>\n",
              "      <td>Climax kunchako boban villan athu urappa</td>\n",
              "      <td>Not_offensive</td>\n",
              "    </tr>\n",
              "    <tr>\n",
              "      <th>6535</th>\n",
              "      <td>Malayaala sinimayil Mammuttikkaan etharathilul...</td>\n",
              "      <td>Not_offensive</td>\n",
              "    </tr>\n",
              "    <tr>\n",
              "      <th>5712</th>\n",
              "      <td>Le abhram khureshi: Ith enne aanu enne thannan...</td>\n",
              "      <td>Not_offensive</td>\n",
              "    </tr>\n",
              "    <tr>\n",
              "      <th>15955</th>\n",
              "      <td>Best wishes megastar..from Shivarajkumar fans ...</td>\n",
              "      <td>Not_offensive</td>\n",
              "    </tr>\n",
              "  </tbody>\n",
              "</table>\n",
              "</div>"
            ],
            "text/plain": [
              "                                                    text          label\n",
              "13940           Mammooty fans എന്റെ ചാനൽ sandarschikkuka  Not_offensive\n",
              "12071  Surajettan kunjunni mash ayi abhinayichal powl...  Not_offensive\n",
              "101    Likeum illa...Dislike um illa... Lalettan isht...  Not_offensive\n",
              "123    Inganethe massinde koode aa mukhavum kanichal ...  Not_offensive\n",
              "11773  Kitti njangalak njagade aa pazhaya lalettane t...  Not_offensive\n",
              "12773  OMG.  Looks like An Adaar movie. Katta waiting...  Not_offensive\n",
              "11385           Climax kunchako boban villan athu urappa  Not_offensive\n",
              "6535   Malayaala sinimayil Mammuttikkaan etharathilul...  Not_offensive\n",
              "5712   Le abhram khureshi: Ith enne aanu enne thannan...  Not_offensive\n",
              "15955  Best wishes megastar..from Shivarajkumar fans ...  Not_offensive"
            ]
          },
          "metadata": {
            "tags": []
          },
          "execution_count": 9
        }
      ]
    },
    {
      "cell_type": "code",
      "metadata": {
        "colab": {
          "base_uri": "https://localhost:8080/"
        },
        "id": "w4VW351225YK",
        "outputId": "4caad693-05b0-4f11-a55e-6011fe8fa6a1"
      },
      "source": [
        "train_df['label'].value_counts()"
      ],
      "execution_count": 10,
      "outputs": [
        {
          "output_type": "execute_result",
          "data": {
            "text/plain": [
              "Not_offensive                           14153\n",
              "not-malayalam                            1287\n",
              "Offensive_Targeted_Insult_Individual      239\n",
              "Offensive_Untargetede                     191\n",
              "Offensive_Targeted_Insult_Group           140\n",
              "Name: label, dtype: int64"
            ]
          },
          "metadata": {
            "tags": []
          },
          "execution_count": 10
        }
      ]
    },
    {
      "cell_type": "code",
      "metadata": {
        "id": "ooOv9QZtnLIF"
      },
      "source": [
        "\r\n",
        "le = LabelEncoder()\r\n",
        "train_df['label'] = le.fit_transform(train_df['label'])"
      ],
      "execution_count": 11,
      "outputs": []
    },
    {
      "cell_type": "code",
      "metadata": {
        "colab": {
          "base_uri": "https://localhost:8080/"
        },
        "id": "a89Bf4LpnigU",
        "outputId": "8843d022-e33b-47bc-b07b-670c7550ede8"
      },
      "source": [
        "train_df['label'].value_counts()"
      ],
      "execution_count": 12,
      "outputs": [
        {
          "output_type": "execute_result",
          "data": {
            "text/plain": [
              "0    14153\n",
              "4     1287\n",
              "2      239\n",
              "3      191\n",
              "1      140\n",
              "Name: label, dtype: int64"
            ]
          },
          "metadata": {
            "tags": []
          },
          "execution_count": 12
        }
      ]
    },
    {
      "cell_type": "markdown",
      "metadata": {
        "id": "bvNeR4lTVnK0"
      },
      "source": [
        "### Loading `train_sentences` and `train_labels`"
      ]
    },
    {
      "cell_type": "code",
      "metadata": {
        "id": "EufQZx2dbKMT"
      },
      "source": [
        "# Get the lists of sentences and their labels.\r\n",
        "train_sentences = train_df['text'].values\r\n",
        "train_labels = train_df['label'].values"
      ],
      "execution_count": 13,
      "outputs": []
    },
    {
      "cell_type": "markdown",
      "metadata": {
        "id": "wnZSg5f7ZWs_"
      },
      "source": [
        "## Saving Class Names"
      ]
    },
    {
      "cell_type": "code",
      "metadata": {
        "id": "83tTT-wbZa1o"
      },
      "source": [
        "class_names = [\r\n",
        "               'Not_offensive','Offensive_Targeted_Insult_Group','Offensive_Targeted_Insult_Individual',\r\n",
        "               'Offensive_Untargetede','not-malayalam'          \r\n",
        "]"
      ],
      "execution_count": 14,
      "outputs": []
    },
    {
      "cell_type": "markdown",
      "metadata": {
        "id": "ToUbAgZ9ap63"
      },
      "source": [
        "## Loading the validation data"
      ]
    },
    {
      "cell_type": "code",
      "metadata": {
        "colab": {
          "background_save": true
        },
        "id": "Dle8VzoAjOLS",
        "outputId": "b4477387-ec88-4252-ef30-413c34e4f275"
      },
      "source": [
        "val_df_path = join(dataset_dir,'mal_full_offensive_dev_corrected.csv')\r\n",
        "# Load the dataset into a pandas dataframe.\r\n",
        "val_df = pd.read_csv(val_df_path)\r\n",
        "\r\n",
        "# Report the number of sentences.\r\n",
        "print('Number of training sentences: {:,}\\n'.format(val_df.shape[0]))\r\n",
        "\r\n",
        "# Display 10 random rows from the data.\r\n",
        "val_df.sample(10)"
      ],
      "execution_count": null,
      "outputs": [
        {
          "output_type": "stream",
          "text": [
            "Number of training sentences: 1,999\n",
            "\n"
          ],
          "name": "stdout"
        },
        {
          "output_type": "execute_result",
          "data": {
            "text/html": [
              "<div>\n",
              "<style scoped>\n",
              "    .dataframe tbody tr th:only-of-type {\n",
              "        vertical-align: middle;\n",
              "    }\n",
              "\n",
              "    .dataframe tbody tr th {\n",
              "        vertical-align: top;\n",
              "    }\n",
              "\n",
              "    .dataframe thead th {\n",
              "        text-align: right;\n",
              "    }\n",
              "</style>\n",
              "<table border=\"1\" class=\"dataframe\">\n",
              "  <thead>\n",
              "    <tr style=\"text-align: right;\">\n",
              "      <th></th>\n",
              "      <th>text</th>\n",
              "      <th>label</th>\n",
              "    </tr>\n",
              "  </thead>\n",
              "  <tbody>\n",
              "    <tr>\n",
              "      <th>1856</th>\n",
              "      <td>വിനീത് ഏട്ടന്റെ ശബ്ധം  ശ്രദ്ധിച്ചവർ  അടി ലൈക്‌</td>\n",
              "      <td>Not_offensive</td>\n",
              "    </tr>\n",
              "    <tr>\n",
              "      <th>52</th>\n",
              "      <td>kidu   padam kidu aayaa mathiyaairinnu</td>\n",
              "      <td>Not_offensive</td>\n",
              "    </tr>\n",
              "    <tr>\n",
              "      <th>255</th>\n",
              "      <td>ട്രെയിലറിൽ പ്രതീക്ഷ ഇല്ല. കമ്മട്ടിപ്പാടം സ്റ്റ...</td>\n",
              "      <td>Not_offensive</td>\n",
              "    </tr>\n",
              "    <tr>\n",
              "      <th>942</th>\n",
              "      <td>മഞ്ചു ഡിവോഴ്‌സ് കഴിഞ്ഞപ്പോ സുന്ദരി ആയി നല്ല സി...</td>\n",
              "      <td>Not_offensive</td>\n",
              "    </tr>\n",
              "    <tr>\n",
              "      <th>296</th>\n",
              "      <td>ഫസ്റ്റ്  സീൻ കണ്ടപ്പോൾ ചാന്തു പൊട്ടിലെ ദിലീപിന...</td>\n",
              "      <td>Not_offensive</td>\n",
              "    </tr>\n",
              "    <tr>\n",
              "      <th>413</th>\n",
              "      <td>Trailer pora . Disappointed     Padam nannayal...</td>\n",
              "      <td>Not_offensive</td>\n",
              "    </tr>\n",
              "    <tr>\n",
              "      <th>199</th>\n",
              "      <td>Ee trailer 10il kooduthal thavana kandathu nja...</td>\n",
              "      <td>Not_offensive</td>\n",
              "    </tr>\n",
              "    <tr>\n",
              "      <th>1092</th>\n",
              "      <td>Jaikkanayi kacha kettiya erakkamm aann....   K...</td>\n",
              "      <td>Not_offensive</td>\n",
              "    </tr>\n",
              "    <tr>\n",
              "      <th>651</th>\n",
              "      <td>Tech and hack updates aaaii channal kannan mar...</td>\n",
              "      <td>Not_offensive</td>\n",
              "    </tr>\n",
              "    <tr>\n",
              "      <th>994</th>\n",
              "      <td>പൊറിഞ്ചു മറിയം ജോസ് തമിഴിൽ റീമേക്ക് ചെയ്താൽ ജോ...</td>\n",
              "      <td>Not_offensive</td>\n",
              "    </tr>\n",
              "  </tbody>\n",
              "</table>\n",
              "</div>"
            ],
            "text/plain": [
              "                                                   text          label\n",
              "1856     വിനീത് ഏട്ടന്റെ ശബ്ധം  ശ്രദ്ധിച്ചവർ  അടി ലൈക്‌  Not_offensive\n",
              "52               kidu   padam kidu aayaa mathiyaairinnu  Not_offensive\n",
              "255   ട്രെയിലറിൽ പ്രതീക്ഷ ഇല്ല. കമ്മട്ടിപ്പാടം സ്റ്റ...  Not_offensive\n",
              "942   മഞ്ചു ഡിവോഴ്‌സ് കഴിഞ്ഞപ്പോ സുന്ദരി ആയി നല്ല സി...  Not_offensive\n",
              "296   ഫസ്റ്റ്  സീൻ കണ്ടപ്പോൾ ചാന്തു പൊട്ടിലെ ദിലീപിന...  Not_offensive\n",
              "413   Trailer pora . Disappointed     Padam nannayal...  Not_offensive\n",
              "199   Ee trailer 10il kooduthal thavana kandathu nja...  Not_offensive\n",
              "1092  Jaikkanayi kacha kettiya erakkamm aann....   K...  Not_offensive\n",
              "651   Tech and hack updates aaaii channal kannan mar...  Not_offensive\n",
              "994   പൊറിഞ്ചു മറിയം ജോസ് തമിഴിൽ റീമേക്ക് ചെയ്താൽ ജോ...  Not_offensive"
            ]
          },
          "metadata": {
            "tags": []
          },
          "execution_count": 0
        }
      ]
    },
    {
      "cell_type": "code",
      "metadata": {
        "colab": {
          "background_save": true
        },
        "id": "AypCmtBcDV6v",
        "outputId": "092c106d-1b9e-46e8-e5f6-4a9b8913d512"
      },
      "source": [
        "val_df['label'].value_counts()"
      ],
      "execution_count": null,
      "outputs": [
        {
          "output_type": "execute_result",
          "data": {
            "text/plain": [
              "Not_offensive                           1779\n",
              "not-malayalam                            163\n",
              "Offensive_Targeted_Insult_Individual      24\n",
              "Offensive_Untargetede                     20\n",
              "Offensive_Targeted_Insult_Group           13\n",
              "Name: label, dtype: int64"
            ]
          },
          "metadata": {
            "tags": []
          },
          "execution_count": 0
        }
      ]
    },
    {
      "cell_type": "code",
      "metadata": {
        "colab": {
          "background_save": true
        },
        "id": "-CgK81lGDPKC"
      },
      "source": [
        "val_df['label'] = le.transform(val_df['label'])"
      ],
      "execution_count": null,
      "outputs": []
    },
    {
      "cell_type": "code",
      "metadata": {
        "colab": {
          "background_save": true
        },
        "id": "Yfgn-E6JDZQZ",
        "outputId": "6e5bc412-edfe-48a0-c3b9-6ad98796b2e4"
      },
      "source": [
        "val_df['label'].value_counts()"
      ],
      "execution_count": null,
      "outputs": [
        {
          "output_type": "execute_result",
          "data": {
            "text/plain": [
              "0    1779\n",
              "4     163\n",
              "2      24\n",
              "3      20\n",
              "1      13\n",
              "Name: label, dtype: int64"
            ]
          },
          "metadata": {
            "tags": []
          },
          "execution_count": 0
        }
      ]
    },
    {
      "cell_type": "markdown",
      "metadata": {
        "id": "DMdNNVqrDCuN"
      },
      "source": [
        "### Loading `val_sentences` and `val_labels`"
      ]
    },
    {
      "cell_type": "code",
      "metadata": {
        "colab": {
          "background_save": true
        },
        "id": "LvGhjUkaDCuO"
      },
      "source": [
        "# Get the lists of sentences and their labels.\r\n",
        "val_sentences = val_df['text'].values\r\n",
        "val_labels = val_df['label'].values"
      ],
      "execution_count": null,
      "outputs": []
    },
    {
      "cell_type": "markdown",
      "metadata": {
        "id": "fS2UcOiEVuhm"
      },
      "source": [
        "## Handling class imbalance using `sklearn's compute_class_weight`\r\n",
        "\r\n"
      ]
    },
    {
      "cell_type": "code",
      "metadata": {
        "colab": {
          "background_save": true
        },
        "id": "WL4tP_YkI1mY",
        "outputId": "69b833e8-d20a-4d9b-92b6-05dd4a2e8db4"
      },
      "source": [
        "\r\n",
        "#compute the class weights\r\n",
        "class_wts = compute_class_weight('balanced', np.unique(train_labels), train_labels)\r\n",
        "\r\n",
        "print(class_wts)"
      ],
      "execution_count": null,
      "outputs": [
        {
          "output_type": "stream",
          "text": [
            "[ 0.22624179 22.87142857 13.39748954 16.76439791  2.48795649]\n"
          ],
          "name": "stdout"
        }
      ]
    },
    {
      "cell_type": "markdown",
      "metadata": {
        "id": "z_WjMTuibsrf"
      },
      "source": [
        "## Helper Functions"
      ]
    },
    {
      "cell_type": "markdown",
      "metadata": {
        "id": "Bef28eHNV-_d"
      },
      "source": [
        "#### 1) Update Interval Function"
      ]
    },
    {
      "cell_type": "code",
      "metadata": {
        "id": "lBK0ujfEbMir"
      },
      "source": [
        "def good_update_interval(total_iters, num_desired_updates):\r\n",
        "    '''\r\n",
        "    This function will try to pick an intelligent progress update interval \r\n",
        "    based on the magnitude of the total iterations.\r\n",
        "\r\n",
        "    Parameters:\r\n",
        "      `total_iters` - The number of iterations in the for-loop.\r\n",
        "      `num_desired_updates` - How many times we want to see an update over the \r\n",
        "                              course of the for-loop.\r\n",
        "    '''\r\n",
        "    # Divide the total iterations by the desired number of updates. Most likely\r\n",
        "    # this will be some ugly number.\r\n",
        "    exact_interval = total_iters / num_desired_updates\r\n",
        "\r\n",
        "    # The `round` function has the ability to round down a number to, e.g., the\r\n",
        "    # nearest thousandth: round(exact_interval, -3)\r\n",
        "    #\r\n",
        "    # To determine the magnitude to round to, find the magnitude of the total,\r\n",
        "    # and then go one magnitude below that.\r\n",
        "\r\n",
        "    # Get the order of magnitude of the total.\r\n",
        "    order_of_mag = len(str(total_iters)) - 1\r\n",
        "\r\n",
        "    # Our update interval should be rounded to an order of magnitude smaller. \r\n",
        "    round_mag = order_of_mag - 1\r\n",
        "\r\n",
        "    # Round down and cast to an int.\r\n",
        "    update_interval = int(round(exact_interval, -round_mag))\r\n",
        "\r\n",
        "    # Don't allow the interval to be zero!\r\n",
        "    if update_interval == 0:\r\n",
        "        update_interval = 1\r\n",
        "\r\n",
        "    return update_interval"
      ],
      "execution_count": 15,
      "outputs": []
    },
    {
      "cell_type": "markdown",
      "metadata": {
        "id": "eMGycwGAWFyO"
      },
      "source": [
        "#### 2) Format time function"
      ]
    },
    {
      "cell_type": "code",
      "metadata": {
        "id": "c9zVyNQLm-3q"
      },
      "source": [
        "def format_time(elapsed):\r\n",
        "    '''\r\n",
        "    Takes a time in seconds and returns a string hh:mm:ss\r\n",
        "    '''\r\n",
        "    # Round to the nearest second.\r\n",
        "    elapsed_rounded = int(round((elapsed)))\r\n",
        "    \r\n",
        "    # Format as hh:mm:ss\r\n",
        "    return str(datetime.timedelta(seconds=elapsed_rounded))\r\n"
      ],
      "execution_count": 16,
      "outputs": []
    },
    {
      "cell_type": "markdown",
      "metadata": {
        "id": "EBAo04ENWw3n"
      },
      "source": [
        "#### 3) Make Smart Batches function"
      ]
    },
    {
      "cell_type": "code",
      "metadata": {
        "id": "nof-AUeoiZc2"
      },
      "source": [
        "def make_smart_batches(text_samples, labels, batch_size,tokenizer,max_input_length):\r\n",
        "    '''\r\n",
        "    This function combines all of the required steps to prepare batches.\r\n",
        "    '''\r\n",
        "\r\n",
        "    print('Creating Smart Batches from {:,} examples with batch size {:,}...\\n'.format(len(text_samples), batch_size))\r\n",
        "\r\n",
        "    # =========================\r\n",
        "    #   Tokenize & Truncate\r\n",
        "    # =========================\r\n",
        "\r\n",
        "    full_input_ids = []\r\n",
        "\r\n",
        "    # Tokenize all training examples\r\n",
        "    print('Tokenizing {:,} samples...'.format(len(labels)))\r\n",
        "\r\n",
        "    # Choose an interval on which to print progress updates.\r\n",
        "    update_interval = good_update_interval(total_iters=len(labels), num_desired_updates=10)\r\n",
        "\r\n",
        "    # For each training example...\r\n",
        "    for text in text_samples:\r\n",
        "        \r\n",
        "        # Report progress.\r\n",
        "        if ((len(full_input_ids) % update_interval) == 0):\r\n",
        "            print('  Tokenized {:,} samples.'.format(len(full_input_ids)))\r\n",
        "\r\n",
        "        # Tokenize the sample.\r\n",
        "        input_ids = tokenizer.encode(text=text,              # Text to encode.\r\n",
        "                                    add_special_tokens=True, # Do add specials.\r\n",
        "                                    max_length=max_input_length,      \r\n",
        "                                    truncation=True,         # Do Truncate!\r\n",
        "                                    padding=False)           # DO NOT pad.\r\n",
        "                                    \r\n",
        "        # Add the tokenized result to our list.\r\n",
        "        full_input_ids.append(input_ids)\r\n",
        "        \r\n",
        "    print('DONE.')\r\n",
        "    print('{:>10,} samples\\n'.format(len(full_input_ids)))\r\n",
        "\r\n",
        "    # =========================\r\n",
        "    #      Select Batches\r\n",
        "    # =========================    \r\n",
        "\r\n",
        "    # Sort the two lists together by the length of the input sequence.\r\n",
        "    samples = sorted(zip(full_input_ids, labels), key=lambda x: len(x[0]))\r\n",
        "\r\n",
        "    print('{:>10,} samples after sorting\\n'.format(len(samples)))\r\n",
        "\r\n",
        "    import random\r\n",
        "\r\n",
        "    # List of batches that we'll construct.\r\n",
        "    batch_ordered_sentences = []\r\n",
        "    batch_ordered_labels = []\r\n",
        "\r\n",
        "    print('Creating batches of size {:}...'.format(batch_size))\r\n",
        "\r\n",
        "    # Choose an interval on which to print progress updates.\r\n",
        "    update_interval = good_update_interval(total_iters=len(samples), num_desired_updates=10)\r\n",
        "    \r\n",
        "    # Loop over all of the input samples...    \r\n",
        "    while len(samples) > 0:\r\n",
        "        \r\n",
        "        # Report progress.\r\n",
        "        if ((len(batch_ordered_sentences) % update_interval) == 0 \\\r\n",
        "            and not len(batch_ordered_sentences) == 0):\r\n",
        "            print('  Selected {:,} batches.'.format(len(batch_ordered_sentences)))\r\n",
        "\r\n",
        "        # `to_take` is our actual batch size. It will be `batch_size` until \r\n",
        "        # we get to the last batch, which may be smaller. \r\n",
        "        to_take = min(batch_size, len(samples))\r\n",
        "\r\n",
        "        # Pick a random index in the list of remaining samples to start\r\n",
        "        # our batch at.\r\n",
        "        select = random.randint(0, len(samples) - to_take)\r\n",
        "\r\n",
        "        # Select a contiguous batch of samples starting at `select`.\r\n",
        "        #print(\"Selecting batch from {:} to {:}\".format(select, select+to_take))\r\n",
        "        batch = samples[select:(select + to_take)]\r\n",
        "\r\n",
        "        #print(\"Batch length:\", len(batch))\r\n",
        "\r\n",
        "        # Each sample is a tuple--split them apart to create a separate list of \r\n",
        "        # sequences and a list of labels for this batch.\r\n",
        "        batch_ordered_sentences.append([s[0] for s in batch])\r\n",
        "        batch_ordered_labels.append([s[1] for s in batch])\r\n",
        "\r\n",
        "        # Remove these samples from the list.\r\n",
        "        del samples[select:select + to_take]\r\n",
        "\r\n",
        "    print('\\n  DONE - Selected {:,} batches.\\n'.format(len(batch_ordered_sentences)))\r\n",
        "\r\n",
        "    # =========================\r\n",
        "    #        Add Padding\r\n",
        "    # =========================    \r\n",
        "\r\n",
        "    print('Padding out sequences within each batch...')\r\n",
        "\r\n",
        "    py_inputs = []\r\n",
        "    py_attn_masks = []\r\n",
        "    py_labels = []\r\n",
        "\r\n",
        "    # For each batch...\r\n",
        "    for (batch_inputs, batch_labels) in zip(batch_ordered_sentences, batch_ordered_labels):\r\n",
        "\r\n",
        "        # New version of the batch, this time with padded sequences and now with\r\n",
        "        # attention masks defined.\r\n",
        "        batch_padded_inputs = []\r\n",
        "        batch_attn_masks = []\r\n",
        "        \r\n",
        "        # First, find the longest sample in the batch. \r\n",
        "        # Note that the sequences do currently include the special tokens!\r\n",
        "        max_size = max([len(sen) for sen in batch_inputs])\r\n",
        "\r\n",
        "        # For each input in this batch...\r\n",
        "        for sen in batch_inputs:\r\n",
        "            \r\n",
        "            # How many pad tokens do we need to add?\r\n",
        "            num_pads = max_size - len(sen)\r\n",
        "\r\n",
        "            # Add `num_pads` padding tokens to the end of the sequence.\r\n",
        "            padded_input = sen + [tokenizer.pad_token_id]*num_pads\r\n",
        "\r\n",
        "            # Define the attention mask--it's just a `1` for every real token\r\n",
        "            # and a `0` for every padding token.\r\n",
        "            attn_mask = [1] * len(sen) + [0] * num_pads\r\n",
        "\r\n",
        "            # Add the padded results to the batch.\r\n",
        "            batch_padded_inputs.append(padded_input)\r\n",
        "            batch_attn_masks.append(attn_mask)\r\n",
        "\r\n",
        "        # Our batch has been padded, so we need to save this updated batch.\r\n",
        "        # We also need the inputs to be PyTorch tensors, so we'll do that here.\r\n",
        "        # Todo - Michael's code specified \"dtype=torch.long\"\r\n",
        "        py_inputs.append(torch.tensor(batch_padded_inputs))\r\n",
        "        py_attn_masks.append(torch.tensor(batch_attn_masks))\r\n",
        "        py_labels.append(torch.tensor(batch_labels))\r\n",
        "    \r\n",
        "    print('  DONE.')\r\n",
        "\r\n",
        "    # Return the smart-batched dataset!\r\n",
        "    return (py_inputs, py_attn_masks, py_labels)\r\n"
      ],
      "execution_count": 17,
      "outputs": []
    },
    {
      "cell_type": "markdown",
      "metadata": {
        "id": "d3-BH_94PXsO"
      },
      "source": [
        "### 4) Make Smart Batches On Test Set (Without labels)"
      ]
    },
    {
      "cell_type": "code",
      "metadata": {
        "id": "ggH8AkAEaV9N"
      },
      "source": [
        "def make_smart_batches_on_test(text_samples, text_ids, batch_size,tokenizer,max_input_length):\r\n",
        "    '''\r\n",
        "    This function combines all of the required steps to prepare batches.\r\n",
        "    '''\r\n",
        "\r\n",
        "    print('Creating Smart Batches from {:,} examples with batch size {:,}...\\n'.format(len(text_samples), batch_size))\r\n",
        "\r\n",
        "    # =========================\r\n",
        "    #   Tokenize & Truncate\r\n",
        "    # =========================\r\n",
        "\r\n",
        "    full_input_ids = []\r\n",
        "\r\n",
        "    # Tokenize all training examples\r\n",
        "    print('Tokenizing {:,} samples...'.format(len(text_samples)))\r\n",
        "\r\n",
        "    # Choose an interval on which to print progress updates.\r\n",
        "    update_interval = good_update_interval(total_iters=len(text_samples), num_desired_updates=10)\r\n",
        "\r\n",
        "    # For each training example...\r\n",
        "    for text in text_samples:\r\n",
        "        \r\n",
        "        # Report progress.\r\n",
        "        if ((len(full_input_ids) % update_interval) == 0):\r\n",
        "            print('  Tokenized {:,} samples.'.format(len(full_input_ids)))\r\n",
        "\r\n",
        "        # Tokenize the sample.\r\n",
        "        input_ids = tokenizer.encode(text=text,              # Text to encode.\r\n",
        "                                    add_special_tokens=True, # Do add specials.\r\n",
        "                                    max_length=max_input_length,      \r\n",
        "                                    truncation=True,         # Do Truncate!\r\n",
        "                                    padding=False)           # DO NOT pad.\r\n",
        "                                    \r\n",
        "        # Add the tokenized result to our list.\r\n",
        "        full_input_ids.append(input_ids)\r\n",
        "        \r\n",
        "    print('DONE.')\r\n",
        "    print('{:>10,} samples\\n'.format(len(full_input_ids)))\r\n",
        "\r\n",
        "    # =========================\r\n",
        "    #      Select Batches\r\n",
        "    # =========================    \r\n",
        "\r\n",
        "    # Sort the two lists together by the length of the input sequence.\r\n",
        "    samples = sorted(zip(full_input_ids, text_ids), key=lambda x: len(x[0]))\r\n",
        "\r\n",
        "    print('{:>10,} samples after sorting\\n'.format(len(samples)))\r\n",
        "\r\n",
        "    import random\r\n",
        "\r\n",
        "    # List of batches that we'll construct.\r\n",
        "    batch_ordered_sentences = []\r\n",
        "    batch_ordered_ids = []\r\n",
        "\r\n",
        "    print('Creating batches of size {:}...'.format(batch_size))\r\n",
        "\r\n",
        "    # Choose an interval on which to print progress updates.\r\n",
        "    update_interval = good_update_interval(total_iters=len(samples), num_desired_updates=10)\r\n",
        "    \r\n",
        "    # Loop over all of the input samples...    \r\n",
        "    while len(samples) > 0:\r\n",
        "        \r\n",
        "        # Report progress.\r\n",
        "        if ((len(batch_ordered_sentences) % update_interval) == 0 \\\r\n",
        "            and not len(batch_ordered_sentences) == 0):\r\n",
        "            print('  Selected {:,} batches.'.format(len(batch_ordered_sentences)))\r\n",
        "\r\n",
        "        # `to_take` is our actual batch size. It will be `batch_size` until \r\n",
        "        # we get to the last batch, which may be smaller. \r\n",
        "        to_take = min(batch_size, len(samples))\r\n",
        "\r\n",
        "        # Pick a random index in the list of remaining samples to start\r\n",
        "        # our batch at.\r\n",
        "        select = random.randint(0, len(samples) - to_take)\r\n",
        "\r\n",
        "        # Select a contiguous batch of samples starting at `select`.\r\n",
        "        #print(\"Selecting batch from {:} to {:}\".format(select, select+to_take))\r\n",
        "        batch = samples[select:(select + to_take)]\r\n",
        "\r\n",
        "        #print(\"Batch length:\", len(batch))\r\n",
        "\r\n",
        "        # Each sample is a tuple--split them apart to create a separate list of \r\n",
        "        # sequences and a list of labels for this batch.\r\n",
        "        batch_ordered_sentences.append([s[0] for s in batch])\r\n",
        "        batch_ordered_ids.append([s[1] for s in batch])\r\n",
        "\r\n",
        "        # Remove these samples from the list.\r\n",
        "        del samples[select:select + to_take]\r\n",
        "\r\n",
        "    print('\\n  DONE - Selected {:,} batches.\\n'.format(len(batch_ordered_sentences)))\r\n",
        "\r\n",
        "    # =========================\r\n",
        "    #        Add Padding\r\n",
        "    # =========================    \r\n",
        "\r\n",
        "    print('Padding out sequences within each batch...')\r\n",
        "\r\n",
        "    py_inputs = []\r\n",
        "    py_attn_masks = []\r\n",
        "    py_ids = []\r\n",
        "\r\n",
        "    # For each batch...\r\n",
        "    for (batch_inputs, batch_ids) in zip(batch_ordered_sentences, batch_ordered_ids):\r\n",
        "\r\n",
        "        # New version of the batch, this time with padded sequences and now with\r\n",
        "        # attention masks defined.\r\n",
        "        batch_padded_inputs = []\r\n",
        "        batch_attn_masks = []\r\n",
        "        \r\n",
        "        # First, find the longest sample in the batch. \r\n",
        "        # Note that the sequences do currently include the special tokens!\r\n",
        "        max_size = max([len(sen) for sen in batch_inputs])\r\n",
        "\r\n",
        "        # For each input in this batch...\r\n",
        "        for sen in batch_inputs:\r\n",
        "            \r\n",
        "            # How many pad tokens do we need to add?\r\n",
        "            num_pads = max_size - len(sen)\r\n",
        "\r\n",
        "            # Add `num_pads` padding tokens to the end of the sequence.\r\n",
        "            padded_input = sen + [tokenizer.pad_token_id]*num_pads\r\n",
        "\r\n",
        "            # Define the attention mask--it's just a `1` for every real token\r\n",
        "            # and a `0` for every padding token.\r\n",
        "            attn_mask = [1] * len(sen) + [0] * num_pads\r\n",
        "\r\n",
        "            # Add the padded results to the batch.\r\n",
        "            batch_padded_inputs.append(padded_input)\r\n",
        "            batch_attn_masks.append(attn_mask)\r\n",
        "\r\n",
        "        # Our batch has been padded, so we need to save this updated batch.\r\n",
        "        # We also need the inputs to be PyTorch tensors, so we'll do that here.\r\n",
        "        # Todo - Michael's code specified \"dtype=torch.long\"\r\n",
        "        py_inputs.append(torch.tensor(batch_padded_inputs))\r\n",
        "        py_attn_masks.append(torch.tensor(batch_attn_masks))\r\n",
        "        py_ids.append(torch.tensor(batch_ids))\r\n",
        "    \r\n",
        "    print('  DONE.')\r\n",
        "\r\n",
        "    # Return the smart-batched dataset!\r\n",
        "    return (py_inputs, py_attn_masks, py_ids)\r\n"
      ],
      "execution_count": 18,
      "outputs": []
    },
    {
      "cell_type": "markdown",
      "metadata": {
        "id": "sOWk_8lpWO17"
      },
      "source": [
        "### 5) Function for plotting training history"
      ]
    },
    {
      "cell_type": "code",
      "metadata": {
        "id": "R7-FAyfnWM65"
      },
      "source": [
        "def plot_training_history(history):\r\n",
        "  fig, (ax1, ax2) = plt.subplots(1, 2, figsize=(18, 6))\r\n",
        "\r\n",
        "  ax1.plot(history['train_loss'], label='train loss')\r\n",
        "  ax1.plot(history['val_loss'], label='validation loss')\r\n",
        "\r\n",
        "  ax1.xaxis.set_major_locator(MaxNLocator(integer=True))\r\n",
        "  ax1.set_ylim([-0.05, 1.05])\r\n",
        "  ax1.legend()\r\n",
        "  ax1.set_ylabel('Loss')\r\n",
        "  ax1.set_xlabel('Epoch')\r\n",
        "\r\n",
        "  ax2.plot(history['train_acc'], label='train accuracy')\r\n",
        "  ax2.plot(history['val_acc'], label='validation accuracy')\r\n",
        "\r\n",
        "  ax2.xaxis.set_major_locator(MaxNLocator(integer=True))\r\n",
        "  ax2.set_ylim([-0.05, 1.05])\r\n",
        "  ax2.legend()\r\n",
        "\r\n",
        "  ax2.set_ylabel('Accuracy')\r\n",
        "  ax2.set_xlabel('Epoch')\r\n",
        "\r\n",
        "  fig.suptitle('Training history')"
      ],
      "execution_count": 19,
      "outputs": []
    },
    {
      "cell_type": "markdown",
      "metadata": {
        "id": "A7QOTORh_JHa"
      },
      "source": [
        "### 6) Function to check accuracy"
      ]
    },
    {
      "cell_type": "code",
      "metadata": {
        "id": "yzRDobQ6MwaR"
      },
      "source": [
        "def check_accuracy(predictions,true_labels):\r\n",
        "  # Combine the results across the batches.\r\n",
        "  predictions = np.concatenate(predictions, axis=0)\r\n",
        "  true_labels = np.concatenate(true_labels, axis=0)\r\n",
        "\r\n",
        "  # Choose the label with the highest score as our prediction.\r\n",
        "  preds = np.argmax(predictions, axis=1).flatten()\r\n",
        "\r\n",
        "  # Calculate simple flat accuracy -- number correct over total number.\r\n",
        "  accuracy = (preds == true_labels).mean()\r\n",
        "\r\n",
        "  return accuracy"
      ],
      "execution_count": 20,
      "outputs": []
    },
    {
      "cell_type": "markdown",
      "metadata": {
        "id": "D7TtFkV5_Olz"
      },
      "source": [
        "### 7) Function to evaluate model"
      ]
    },
    {
      "cell_type": "code",
      "metadata": {
        "id": "TSBNdYHYMA7Q"
      },
      "source": [
        "def eval_model(model,py_inputs, py_attn_masks, py_labels):\r\n",
        "# Prediction on test set\r\n",
        "  t0 = time.time()\r\n",
        "\r\n",
        "  print('Doing validation on {:,} sentences...'.format(len(py_labels)))\r\n",
        "\r\n",
        "  # Put model in evaluation mode\r\n",
        "  model.eval()\r\n",
        "\r\n",
        "  # Tracking variables \r\n",
        "  predictions , true_labels = [], []\r\n",
        "\r\n",
        "  # Choose an interval on which to print progress updates.\r\n",
        "  update_interval = good_update_interval(total_iters=len(py_inputs), num_desired_updates=10)\r\n",
        "\r\n",
        "  # Measure elapsed time.\r\n",
        "  t0 = time.time()\r\n",
        "  total_val_loss = 0\r\n",
        "\r\n",
        "  # Put model in evaluation mode\r\n",
        "  model.eval()\r\n",
        "\r\n",
        "  # For each batch of training data...\r\n",
        "  for step in range(0, len(py_inputs)):\r\n",
        "\r\n",
        "      # Progress update every 100 batches.\r\n",
        "      if step % update_interval == 0 and not step == 0:\r\n",
        "          # Calculate elapsed time in minutes.\r\n",
        "          elapsed = format_time(time.time() - t0)\r\n",
        "          \r\n",
        "          # Calculate the time remaining based on our progress.\r\n",
        "          steps_per_sec = (time.time() - t0) / step\r\n",
        "          remaining_sec = steps_per_sec * (len(py_inputs) - step)\r\n",
        "          remaining = format_time(remaining_sec)\r\n",
        "\r\n",
        "          # Report progress.\r\n",
        "          print('  Batch {:>7,}  of  {:>7,}.    Elapsed: {:}.  Remaining: {:}'.format(step, len(py_inputs), elapsed, remaining))\r\n",
        "\r\n",
        "      # Copy the batch to the GPU.\r\n",
        "      b_input_ids = py_inputs[step].to(device)\r\n",
        "      b_input_mask = py_attn_masks[step].to(device)\r\n",
        "      b_labels = py_labels[step].to(device)\r\n",
        "    \r\n",
        "      # Telling the model not to compute or store gradients, saving memory and \r\n",
        "      # speeding up prediction\r\n",
        "      with torch.no_grad():\r\n",
        "        output = model(b_input_ids, \r\n",
        "                             token_type_ids=None, \r\n",
        "                             attention_mask=b_input_mask, \r\n",
        "                             labels=b_labels)\r\n",
        "\r\n",
        "\r\n",
        "      logits = output.logits \r\n",
        "      loss = output.loss\r\n",
        "      # Move logits and labels to CPU\r\n",
        "      logits = logits.detach().cpu().numpy()\r\n",
        "      label_ids = b_labels.to('cpu').numpy()\r\n",
        "    \r\n",
        "      # Store predictions and true labels\r\n",
        "      predictions.append(logits)\r\n",
        "      true_labels.append(label_ids)\r\n",
        "\r\n",
        "      total_val_loss += loss.item()\r\n",
        "  \r\n",
        "  val_accuracy = check_accuracy(predictions,true_labels)\r\n",
        "\r\n",
        "  validation_time = format_time(time.time() - t0)\r\n",
        "  \r\n",
        "  # Calculate the average loss over all of the batches.\r\n",
        "  avg_val_loss = total_val_loss / len(py_inputs)     \r\n",
        "    \r\n",
        "\r\n",
        "  # print('Accuracy: {:.3f}'.format(val_accuracy))\r\n",
        "  return (avg_val_loss,val_accuracy,validation_time)\r\n"
      ],
      "execution_count": 21,
      "outputs": []
    },
    {
      "cell_type": "markdown",
      "metadata": {
        "id": "Lrt_FyJIbC8j"
      },
      "source": [
        "### 8) Function for making predictions on our test dataset"
      ]
    },
    {
      "cell_type": "code",
      "metadata": {
        "id": "eylCkH2Zipq5"
      },
      "source": [
        "def get_predictions(py_inputs, py_attn_masks, py_labels):\r\n",
        "\r\n",
        "  print('Predicting labels for {:,} test batches...'.format(len(py_labels)))\r\n",
        "\r\n",
        "  # Put model in evaluation mode\r\n",
        "  model.eval()\r\n",
        "\r\n",
        "  # Tracking variables \r\n",
        "  predictions , true_labels = [], []\r\n",
        "\r\n",
        "  # Choose an interval on which to print progress updates.\r\n",
        "  update_interval = good_update_interval(total_iters=len(py_inputs), num_desired_updates=10)\r\n",
        "\r\n",
        "  # Measure elapsed time.\r\n",
        "  t0 = time.time()\r\n",
        "\r\n",
        "  # Put model in evaluation mode\r\n",
        "  model.eval()\r\n",
        "\r\n",
        "  # For each batch of training data...\r\n",
        "  for step in range(0, len(py_inputs)):\r\n",
        "\r\n",
        "      # Progress update every 100 batches.\r\n",
        "      if step % update_interval == 0 and not step == 0:\r\n",
        "          # Calculate elapsed time in minutes.\r\n",
        "          elapsed = format_time(time.time() - t0)\r\n",
        "          \r\n",
        "          # Calculate the time remaining based on our progress.\r\n",
        "          steps_per_sec = (time.time() - t0) / step\r\n",
        "          remaining_sec = steps_per_sec * (len(py_inputs) - step)\r\n",
        "          remaining = format_time(remaining_sec)\r\n",
        "\r\n",
        "          # Report progress.\r\n",
        "          print('  Batch {:>7,}  of  {:>7,}.    Elapsed: {:}.  Remaining: {:}'.format(step, len(py_inputs), elapsed, remaining))\r\n",
        "\r\n",
        "      # Copy the batch to the GPU.\r\n",
        "      b_input_ids = py_inputs[step].to(device)\r\n",
        "      b_input_mask = py_attn_masks[step].to(device)\r\n",
        "      b_labels = py_labels[step].to(device)\r\n",
        "    \r\n",
        "      # Telling the model not to compute or store gradients, saving memory and \r\n",
        "      # speeding up prediction\r\n",
        "      with torch.no_grad():\r\n",
        "          # Forward pass, calculate logit predictions\r\n",
        "          outputs = model(b_input_ids, b_input_mask)\r\n",
        "\r\n",
        "      logits = outputs.logits \r\n",
        "\r\n",
        "      # Move logits and labels to CPU\r\n",
        "      logits = logits.detach().cpu().numpy()\r\n",
        "      label_ids = b_labels.to('cpu').numpy()\r\n",
        "    \r\n",
        "      # Store predictions and true labels\r\n",
        "      predictions.append(logits)\r\n",
        "      true_labels.append(label_ids)\r\n",
        "      # Combine the results across the batches.\r\n",
        "  predictions = np.concatenate(predictions, axis=0)\r\n",
        "  true_labels = np.concatenate(true_labels, axis=0)\r\n",
        "\r\n",
        "      # Choose the label with the highest score as our prediction.\r\n",
        "  preds = np.argmax(predictions, axis=1).flatten()\r\n",
        "\r\n",
        "  return (preds,true_labels)"
      ],
      "execution_count": 22,
      "outputs": []
    },
    {
      "cell_type": "markdown",
      "metadata": {
        "id": "eiRNCS-EbZmy"
      },
      "source": [
        "### 9) Function for making predictions on test dataset(without labels)"
      ]
    },
    {
      "cell_type": "code",
      "metadata": {
        "id": "RIuwhVSmZvkd"
      },
      "source": [
        "def get_predictions_test(py_inputs, py_attn_masks,py_ids):\r\n",
        "\r\n",
        "  print('Predicting labels for {:,} test batches...'.format(len(py_inputs)))\r\n",
        "\r\n",
        "  # Put model in evaluation mode\r\n",
        "  model.eval()\r\n",
        "\r\n",
        "  # Tracking variables \r\n",
        "  predictions , true_labels ,ids = [], [] , []\r\n",
        "\r\n",
        "  # Choose an interval on which to print progress updates.\r\n",
        "  update_interval = good_update_interval(total_iters=len(py_inputs), num_desired_updates=10)\r\n",
        "\r\n",
        "  # Measure elapsed time.\r\n",
        "  t0 = time.time()\r\n",
        "\r\n",
        "  # Put model in evaluation mode\r\n",
        "  model.eval()\r\n",
        "\r\n",
        "  # For each batch of training data...\r\n",
        "  for step in range(0, len(py_inputs)):\r\n",
        "\r\n",
        "      # Progress update every 100 batches.\r\n",
        "      if step % update_interval == 0 and not step == 0:\r\n",
        "          # Calculate elapsed time in minutes.\r\n",
        "          elapsed = format_time(time.time() - t0)\r\n",
        "          \r\n",
        "          # Calculate the time remaining based on our progress.\r\n",
        "          steps_per_sec = (time.time() - t0) / step\r\n",
        "          remaining_sec = steps_per_sec * (len(py_inputs) - step)\r\n",
        "          remaining = format_time(remaining_sec)\r\n",
        "\r\n",
        "          # Report progress.\r\n",
        "          print('  Batch {:>7,}  of  {:>7,}.    Elapsed: {:}.  Remaining: {:}'.format(step, len(py_inputs), elapsed, remaining))\r\n",
        "\r\n",
        "      # Copy the batch to the GPU.\r\n",
        "      b_input_ids = py_inputs[step].to(device)\r\n",
        "      b_input_mask = py_attn_masks[step].to(device)\r\n",
        "      b_ids = py_ids[step].to(device)\r\n",
        "    \r\n",
        "      # Telling the model not to compute or store gradients, saving memory and \r\n",
        "      # speeding up prediction\r\n",
        "      with torch.no_grad():\r\n",
        "          # Forward pass, calculate logit predictions\r\n",
        "          outputs = model(b_input_ids, b_input_mask)\r\n",
        "\r\n",
        "      logits = outputs.logits \r\n",
        "\r\n",
        "      # Move logits and labels to CPU\r\n",
        "      logits = logits.detach().cpu().numpy()\r\n",
        "      b_ids = b_ids.detach().cpu().numpy()\r\n",
        "      # Store predictions\r\n",
        "      predictions.append(logits)\r\n",
        "      ids.append(b_ids)\r\n",
        "      # Combine the results across the batches.\r\n",
        "  predictions = np.concatenate(predictions, axis=0)\r\n",
        "  ids = np.concatenate(ids,axis=0)\r\n",
        "  # Choose the label with the highest score as our prediction.\r\n",
        "  preds = np.argmax(predictions, axis=1).flatten()\r\n",
        "\r\n",
        "  return ids,preds"
      ],
      "execution_count": 23,
      "outputs": []
    },
    {
      "cell_type": "markdown",
      "metadata": {
        "id": "4IM8r_ddYZZS"
      },
      "source": [
        "### 10) Confusion Matrix Helper Function"
      ]
    },
    {
      "cell_type": "code",
      "metadata": {
        "id": "DqNaS8SrBox5"
      },
      "source": [
        "def show_confusion_matrix(confusion_matrix, class_names):\r\n",
        "\r\n",
        "  cm = confusion_matrix.copy()\r\n",
        "\r\n",
        "  cell_counts = cm.flatten()\r\n",
        "\r\n",
        "  cm_row_norm = cm / cm.sum(axis=1)[:, np.newaxis]\r\n",
        "\r\n",
        "  row_percentages = [\"{0:.2f}\".format(value) for value in cm_row_norm.flatten()]\r\n",
        "\r\n",
        "  cell_labels = [f\"{cnt}\\n{per}\" for cnt, per in zip(cell_counts, row_percentages)]\r\n",
        "  cell_labels = np.asarray(cell_labels).reshape(cm.shape[0], cm.shape[1])\r\n",
        "\r\n",
        "  df_cm = pd.DataFrame(cm_row_norm, index=class_names, columns=class_names)\r\n",
        "\r\n",
        "  hmap = sns.heatmap(df_cm, annot=cell_labels, fmt=\"\", cmap=\"Blues\")\r\n",
        "  hmap.yaxis.set_ticklabels(hmap.yaxis.get_ticklabels(), rotation=0, ha='right')\r\n",
        "  hmap.xaxis.set_ticklabels(hmap.xaxis.get_ticklabels(), rotation=30, ha='right')\r\n",
        "  plt.ylabel('True Sign')\r\n",
        "  plt.xlabel('Predicted Sign');"
      ],
      "execution_count": 24,
      "outputs": []
    },
    {
      "cell_type": "markdown",
      "metadata": {
        "id": "OVs3Jb3Vb89i"
      },
      "source": [
        "## Smart Batching of the training data"
      ]
    },
    {
      "cell_type": "code",
      "metadata": {
        "colab": {
          "base_uri": "https://localhost:8080/",
          "height": 131,
          "referenced_widgets": [
            "674f1d2d755344e8a865de72401dee9a",
            "64115040f6954e5c8cabc852b7ff6883",
            "3685cb38b96c437cb7c7b398c07a9bcb",
            "6a449c887c854608bda8f748cc6784d4",
            "227349bb9aeb4219a25ed2d7269cfbd2",
            "006293a808dc4279ad17b66860094b66",
            "90c1bcfa969b4bbf974ae4d0f9e7f9b3",
            "ac67b1bec8e844fca396cabebb5977f0",
            "06a2203b9eeb4661909f2c708ebc424c",
            "96b2843fa18b4ff8928029790e61dadf",
            "dae0100647e34828b37a4aa304daaee4",
            "e3ed71594e784a1cb5ba816bc764e27d",
            "738859c9ed8549849a193ca0cb9249c8",
            "5147f8775fcf480aa1e3c91acfb4bf53",
            "61cf69087d404a37a98520789bd92676",
            "ea6342e9ddfc491a897d6fe831ff1983"
          ]
        },
        "id": "fIlwEvcMb4pb",
        "outputId": "38e8a726-7b52-434a-f469-6e71f39b9ac4"
      },
      "source": [
        "model_name = 'ai4bharat/indic-bert'\r\n",
        "# Load the BERT tokenizer.\r\n",
        "print(f'Loading {model_name} tokenizer...')\r\n",
        "tokenizer = AutoTokenizer.from_pretrained(model_name, use_fast=False)"
      ],
      "execution_count": 25,
      "outputs": [
        {
          "output_type": "stream",
          "text": [
            "Loading ai4bharat/indic-bert tokenizer...\n"
          ],
          "name": "stdout"
        },
        {
          "output_type": "display_data",
          "data": {
            "application/vnd.jupyter.widget-view+json": {
              "model_id": "674f1d2d755344e8a865de72401dee9a",
              "version_minor": 0,
              "version_major": 2
            },
            "text/plain": [
              "HBox(children=(FloatProgress(value=0.0, description='Downloading', max=507.0, style=ProgressStyle(description_…"
            ]
          },
          "metadata": {
            "tags": []
          }
        },
        {
          "output_type": "stream",
          "text": [
            "\n"
          ],
          "name": "stdout"
        },
        {
          "output_type": "display_data",
          "data": {
            "application/vnd.jupyter.widget-view+json": {
              "model_id": "06a2203b9eeb4661909f2c708ebc424c",
              "version_minor": 0,
              "version_major": 2
            },
            "text/plain": [
              "HBox(children=(FloatProgress(value=0.0, description='Downloading', max=5646064.0, style=ProgressStyle(descript…"
            ]
          },
          "metadata": {
            "tags": []
          }
        },
        {
          "output_type": "stream",
          "text": [
            "\n"
          ],
          "name": "stdout"
        }
      ]
    },
    {
      "cell_type": "code",
      "metadata": {
        "colab": {
          "background_save": true
        },
        "id": "cWNt4eOLofmF"
      },
      "source": [
        "lengths = []\r\n",
        "for text in train_sentences:\r\n",
        "  lengths.append(len(text))       "
      ],
      "execution_count": null,
      "outputs": []
    },
    {
      "cell_type": "code",
      "metadata": {
        "colab": {
          "background_save": true
        },
        "id": "hbdGRA3Bo02O",
        "outputId": "d5bb05d9-77b9-4306-d02f-5f974a65782d"
      },
      "source": [
        "\r\n",
        "# Use plot styling from seaborn.\r\n",
        "sns.set(style='darkgrid')\r\n",
        "\r\n",
        "# Increase the plot size and font size.\r\n",
        "sns.set(font_scale=1.5)\r\n",
        "plt.rcParams[\"figure.figsize\"] = (12,6)\r\n",
        "\r\n",
        "plt.scatter(range(0, len(lengths)), lengths, marker=\"|\")\r\n",
        "\r\n",
        "plt.xlabel('Sample Number')\r\n",
        "plt.ylabel('Sequence Length')\r\n",
        "plt.title('Samples BEFORE Tokenizing')\r\n",
        "\r\n",
        "plt.show()"
      ],
      "execution_count": null,
      "outputs": [
        {
          "output_type": "display_data",
          "data": {
            "image/png": "[encoded data removed]",
            "text/plain": [
              "<Figure size 864x432 with 1 Axes>"
            ]
          },
          "metadata": {
            "tags": []
          }
        }
      ]
    },
    {
      "cell_type": "markdown",
      "metadata": {
        "id": "9rMhLNhPcZjU"
      },
      "source": [
        "### Tokenizing the sequences"
      ]
    },
    {
      "cell_type": "code",
      "metadata": {
        "id": "t7JsLi3EdEje"
      },
      "source": [
        "max_input_length = 400"
      ],
      "execution_count": 26,
      "outputs": []
    },
    {
      "cell_type": "code",
      "metadata": {
        "colab": {
          "background_save": true
        },
        "id": "J968o8RJcUEd",
        "outputId": "3eb480e0-f213-4cf1-ba07-702e2f54b52a"
      },
      "source": [
        "full_input_ids = []\r\n",
        "labels = []\r\n",
        "\r\n",
        "# Tokenize all training examples\r\n",
        "print('Tokenizing {:,} training samples...'.format(len(train_sentences)))\r\n",
        "\r\n",
        "# Choose an interval on which to print progress updates.\r\n",
        "update_interval = good_update_interval(total_iters=len(train_sentences), num_desired_updates=10)\r\n",
        "\r\n",
        "# For each training example...\r\n",
        "for text in train_sentences:\r\n",
        "    \r\n",
        "    # Report progress.\r\n",
        "    if ((len(full_input_ids) % update_interval) == 0):\r\n",
        "        print('  Tokenized {:,} samples.'.format(len(full_input_ids)))\r\n",
        "\r\n",
        "    # Tokenize the sentence.\r\n",
        "    input_ids = tokenizer.encode(text=text,           \r\n",
        "                                 add_special_tokens=True, \r\n",
        "                                 max_length=max_input_length,  \r\n",
        "                                 truncation=True,     \r\n",
        "                                 padding=False)       \r\n",
        "                                 \r\n",
        "    # Add the tokenized result to our list.\r\n",
        "    full_input_ids.append(input_ids)\r\n",
        "    \r\n",
        "print('DONE.')\r\n",
        "print('{:>10,} samples'.format(len(full_input_ids)))"
      ],
      "execution_count": null,
      "outputs": [
        {
          "output_type": "stream",
          "text": [
            "Tokenizing 16,010 training samples...\n",
            "  Tokenized 0 samples.\n",
            "  Tokenized 2,000 samples.\n",
            "  Tokenized 4,000 samples.\n",
            "  Tokenized 6,000 samples.\n",
            "  Tokenized 8,000 samples.\n",
            "  Tokenized 10,000 samples.\n",
            "  Tokenized 12,000 samples.\n",
            "  Tokenized 14,000 samples.\n",
            "  Tokenized 16,000 samples.\n",
            "DONE.\n",
            "    16,010 samples\n"
          ],
          "name": "stdout"
        }
      ]
    },
    {
      "cell_type": "code",
      "metadata": {
        "colab": {
          "background_save": true
        },
        "id": "rZzhO2tZeXur"
      },
      "source": [
        "# Get all of the lengths.\r\n",
        "unsorted_lengths = [len(x) for x in full_input_ids]"
      ],
      "execution_count": null,
      "outputs": []
    },
    {
      "cell_type": "code",
      "metadata": {
        "colab": {
          "background_save": true
        },
        "id": "x7c_mYuVed_H",
        "outputId": "3e70f937-065e-406e-d291-55a69b83410b"
      },
      "source": [
        "\r\n",
        "# Use plot styling from seaborn.\r\n",
        "sns.set(style='darkgrid')\r\n",
        "\r\n",
        "# Increase the plot size and font size.\r\n",
        "sns.set(font_scale=1.5)\r\n",
        "plt.rcParams[\"figure.figsize\"] = (12,6)\r\n",
        "\r\n",
        "plt.scatter(range(0, len(unsorted_lengths)), unsorted_lengths, marker=\"|\")\r\n",
        "\r\n",
        "plt.xlabel('Sample Number')\r\n",
        "plt.ylabel('Sequence Length')\r\n",
        "plt.title('Samples BEFORE Sorting')\r\n",
        "\r\n",
        "plt.show()"
      ],
      "execution_count": null,
      "outputs": [
        {
          "output_type": "display_data",
          "data": {
            "image/png": "[encoded data removed]",
            "text/plain": [
              "<Figure size 864x432 with 1 Axes>"
            ]
          },
          "metadata": {
            "tags": []
          }
        }
      ]
    },
    {
      "cell_type": "code",
      "metadata": {
        "colab": {
          "background_save": true
        },
        "id": "7PaeohUVegmv"
      },
      "source": [
        "# Sort the two lists together by the length of the input sequence.\r\n",
        "train_samples = sorted(zip(full_input_ids, train_labels), key=lambda x: len(x[0]))"
      ],
      "execution_count": null,
      "outputs": []
    },
    {
      "cell_type": "code",
      "metadata": {
        "colab": {
          "background_save": true
        },
        "id": "_9nyx-BtepE4",
        "outputId": "f462cc34-51fd-45f2-925d-8d963907cca5"
      },
      "source": [
        "train_samples[0:5]"
      ],
      "execution_count": null,
      "outputs": [
        {
          "output_type": "execute_result",
          "data": {
            "text/plain": [
              "[([2, 139690, 3], 0),\n",
              " ([2, 112274, 3], 0),\n",
              " ([2, 112274, 3], 0),\n",
              " ([2, 62883, 3], 0),\n",
              " ([2, 112858, 3], 0)]"
            ]
          },
          "metadata": {
            "tags": []
          },
          "execution_count": 0
        }
      ]
    },
    {
      "cell_type": "code",
      "metadata": {
        "colab": {
          "background_save": true
        },
        "id": "rBxJhEieetFh",
        "outputId": "71c2dc8a-048f-48fb-e219-7aef1857be40"
      },
      "source": [
        "print('Shortest sample:', len(train_samples[0][0]))\r\n",
        "print('Longest sample:', len(train_samples[-1][0]))"
      ],
      "execution_count": null,
      "outputs": [
        {
          "output_type": "stream",
          "text": [
            "Shortest sample: 3\n",
            "Longest sample: 400\n"
          ],
          "name": "stdout"
        }
      ]
    },
    {
      "cell_type": "code",
      "metadata": {
        "colab": {
          "background_save": true
        },
        "id": "P44bFOI-e7hW"
      },
      "source": [
        "# Get the new list of lengths after sorting.\r\n",
        "sorted_lengths = [len(s[0]) for s in train_samples]"
      ],
      "execution_count": null,
      "outputs": []
    },
    {
      "cell_type": "code",
      "metadata": {
        "colab": {
          "background_save": true
        },
        "id": "9P5ZX99le_G1",
        "outputId": "e26bda35-6e42-4bf0-f051-34bb6f85fb32"
      },
      "source": [
        "\r\n",
        "plt.plot(range(0, len(sorted_lengths)), sorted_lengths)\r\n",
        "\r\n",
        "plt.xlabel('Sample Number')\r\n",
        "plt.ylabel('Sequence Length')\r\n",
        "plt.title('Samples after Sorting')\r\n",
        "\r\n",
        "plt.show()"
      ],
      "execution_count": null,
      "outputs": [
        {
          "output_type": "display_data",
          "data": {
            "image/png": "[encoded data removed]",
            "text/plain": [
              "<Figure size 864x432 with 1 Axes>"
            ]
          },
          "metadata": {
            "tags": []
          }
        }
      ]
    },
    {
      "cell_type": "markdown",
      "metadata": {
        "id": "Eh1z0xugfF2t"
      },
      "source": [
        "### Random Batch Selections"
      ]
    },
    {
      "cell_type": "code",
      "metadata": {
        "colab": {
          "background_save": true
        },
        "id": "gPrYkFMcgm5H",
        "outputId": "32248753-8ae7-41c2-8df9-e2fcda0d3845"
      },
      "source": [
        "train_samples[0]"
      ],
      "execution_count": null,
      "outputs": [
        {
          "output_type": "execute_result",
          "data": {
            "text/plain": [
              "([2, 139690, 3], 0)"
            ]
          },
          "metadata": {
            "tags": []
          },
          "execution_count": 0
        }
      ]
    },
    {
      "cell_type": "code",
      "metadata": {
        "colab": {
          "background_save": true
        },
        "id": "isMxwgezfAvO"
      },
      "source": [
        "batch_size = 16"
      ],
      "execution_count": null,
      "outputs": []
    },
    {
      "cell_type": "code",
      "metadata": {
        "colab": {
          "background_save": true
        },
        "id": "s0tjD8pIfJ0S",
        "outputId": "43a14de4-10e8-4722-d9e8-1190740fe6a0"
      },
      "source": [
        "# List of batches that we'll construct.\r\n",
        "batch_ordered_sentences = []\r\n",
        "batch_ordered_labels = []\r\n",
        "\r\n",
        "print('Creating training batches of size {:}'.format(batch_size))\r\n",
        "\r\n",
        "# Loop over all of the input samples...    \r\n",
        "while len(train_samples) > 0:\r\n",
        "    \r\n",
        "    # Report progress.\r\n",
        "    if ((len(batch_ordered_sentences) % 100) == 0):\r\n",
        "        print('  Selected {:,} batches.'.format(len(batch_ordered_sentences)))\r\n",
        "\r\n",
        "    # `to_take` is our actual batch size. It will be `batch_size` until \r\n",
        "    # we get to the last batch, which may be smaller. \r\n",
        "    to_take = min(batch_size, len(train_samples))\r\n",
        "\r\n",
        "    # Pick a random index in the list of remaining samples to start\r\n",
        "    # our batch at.\r\n",
        "    select = random.randint(0, len(train_samples) - to_take)\r\n",
        "\r\n",
        "    # Select a contiguous batch of samples starting at `select`.\r\n",
        "    batch = train_samples[select:(select + to_take)]\r\n",
        "\r\n",
        "    # Each sample is a tuple--split them apart to create a separate list of \r\n",
        "    # sequences and a list of labels for this batch.\r\n",
        "    batch_ordered_sentences.append([s[0] for s in batch])\r\n",
        "    batch_ordered_labels.append([s[1] for s in batch])\r\n",
        "\r\n",
        "    # Remove these samples from the list.\r\n",
        "    del train_samples[select:select + to_take]\r\n",
        "\r\n",
        "print('\\n  DONE - {:,} batches.'.format(len(batch_ordered_sentences)))"
      ],
      "execution_count": null,
      "outputs": [
        {
          "output_type": "stream",
          "text": [
            "Creating training batches of size 16\n",
            "  Selected 0 batches.\n",
            "  Selected 100 batches.\n",
            "  Selected 200 batches.\n",
            "  Selected 300 batches.\n",
            "  Selected 400 batches.\n",
            "  Selected 500 batches.\n",
            "  Selected 600 batches.\n",
            "  Selected 700 batches.\n",
            "  Selected 800 batches.\n",
            "  Selected 900 batches.\n",
            "  Selected 1,000 batches.\n",
            "\n",
            "  DONE - 1,001 batches.\n"
          ],
          "name": "stdout"
        }
      ]
    },
    {
      "cell_type": "code",
      "metadata": {
        "colab": {
          "background_save": true
        },
        "id": "rf91Dd3LhBaP",
        "outputId": "d15dab73-cdf1-40c2-ba80-24ec2c2a18bd"
      },
      "source": [
        "print(batch_ordered_sentences[0])"
      ],
      "execution_count": null,
      "outputs": [
        {
          "output_type": "stream",
          "text": [
            "[[2, 8, 133992, 696, 25602, 9472, 113277, 5922, 11318, 33656, 41511, 70101, 131119, 121507, 11637, 830, 16726, 108237, 133461, 43280, 91438, 67052, 113, 8, 117275, 3], [2, 24106, 73136, 3762, 8496, 136163, 745, 2130, 159516, 19945, 24971, 4707, 3078, 30751, 168078, 108, 83148, 8084, 2418, 5598, 33954, 32706, 4360, 3078, 3078, 3], [2, 48121, 1598, 8496, 92904, 82032, 68210, 9218, 20019, 23479, 5, 9, 5896, 4360, 115073, 2130, 2130, 93417, 112363, 38787, 123064, 101, 68487, 12911, 47992, 3], [2, 771, 21178, 1598, 14062, 24469, 48518, 26915, 8496, 905, 81439, 1683, 93105, 24469, 108725, 1598, 14540, 82678, 109873, 1078, 62815, 8496, 96621, 5722, 5722, 3], [2, 145, 27929, 32032, 263, 159, 686, 128373, 4897, 9472, 93040, 93127, 818, 89728, 326, 121507, 103535, 2130, 2130, 81146, 8496, 8613, 2130, 21736, 1, 3], [2, 35731, 4731, 116132, 207, 4207, 10567, 52887, 65575, 2338, 8, 159891, 27482, 29059, 11413, 33656, 22496, 144785, 2464, 85195, 33656, 368, 11, 1689, 3074, 3], [2, 133461, 87652, 115587, 1804, 87955, 8496, 8496, 2747, 492, 27858, 12799, 113, 138583, 62045, 32032, 82032, 20807, 9218, 93417, 16404, 38787, 123064, 101, 113, 3], [2, 8, 58017, 14413, 18634, 9472, 48355, 35731, 6365, 1197, 3067, 152711, 14440, 8, 117275, 13963, 6420, 24415, 8, 29175, 43280, 686, 178209, 101473, 52948, 3], [2, 388, 3067, 9638, 9472, 148236, 46046, 41743, 94025, 34008, 4963, 778, 1848, 31671, 28808, 33637, 11830, 263, 89728, 16022, 88345, 293, 2611, 471, 12222, 3], [2, 12038, 35731, 840, 9472, 38464, 90221, 23638, 16421, 33656, 839, 126547, 388, 3067, 132636, 2338, 65575, 2338, 15988, 170925, 39649, 18634, 41674, 85195, 33656, 3], [2, 159951, 77440, 93248, 578, 578, 9472, 58582, 22623, 33, 63230, 840, 8028, 17390, 5922, 388, 3067, 159951, 77440, 98, 106320, 196335, 1747, 4797, 59819, 3], [2, 1782, 8, 57809, 170039, 11501, 9798, 158084, 8, 108761, 8550, 1515, 34756, 37214, 445, 85111, 279, 8, 86841, 2433, 126544, 2130, 2130, 1467, 840, 3], [2, 388, 3067, 9638, 9472, 148236, 46046, 41743, 94025, 34008, 4963, 778, 1848, 31671, 28808, 33637, 11830, 263, 89728, 16022, 88345, 293, 2611, 471, 12222, 3], [2, 33, 4129, 21813, 8, 90788, 145993, 21813, 144039, 122618, 578, 21813, 33934, 52765, 263, 33, 22701, 335, 63230, 24474, 8, 15686, 335, 38845, 144682, 3], [2, 35731, 1197, 146428, 8, 186759, 4808, 302, 8, 63761, 60363, 22690, 8, 35476, 8570, 146537, 18634, 335, 782, 100462, 85195, 3628, 32032, 41241, 1435, 3], [2, 11060, 2130, 23479, 1092, 1092, 26681, 1302, 9692, 113, 534, 168078, 7624, 27368, 12828, 2130, 2130, 87031, 113, 108, 583, 11197, 830, 17356, 127067, 3]]\n"
          ],
          "name": "stdout"
        }
      ]
    },
    {
      "cell_type": "code",
      "metadata": {
        "colab": {
          "background_save": true
        },
        "id": "qmkQK_gVgiTu",
        "outputId": "56c168bf-47d5-4a5d-fad8-236dfe2cab5b"
      },
      "source": [
        "batch_ordered_labels[0]"
      ],
      "execution_count": null,
      "outputs": [
        {
          "output_type": "execute_result",
          "data": {
            "text/plain": [
              "[0, 0, 0, 0, 0, 0, 0, 1, 0, 0, 0, 0, 0, 0, 0, 0]"
            ]
          },
          "metadata": {
            "tags": []
          },
          "execution_count": 0
        }
      ]
    },
    {
      "cell_type": "markdown",
      "metadata": {
        "id": "xZ0TFA8Mfn6m"
      },
      "source": [
        "### Padding"
      ]
    },
    {
      "cell_type": "code",
      "metadata": {
        "colab": {
          "background_save": true
        },
        "id": "c9rdswcpfTip"
      },
      "source": [
        "py_inputs = []\r\n",
        "py_attn_masks = []\r\n",
        "py_labels = []\r\n",
        "\r\n",
        "# For each batch...\r\n",
        "for (batch_inputs, batch_labels) in zip(batch_ordered_sentences, batch_ordered_labels):\r\n",
        "\r\n",
        "    # New version of the batch, this time with padded sequences and now with\r\n",
        "    # attention masks defined.\r\n",
        "    batch_padded_inputs = []\r\n",
        "    batch_attn_masks = []\r\n",
        "    \r\n",
        "    # First, find the longest sample in the batch. \r\n",
        "    # Note that the sequences do currently include the special tokens!\r\n",
        "    max_size = max([len(sen) for sen in batch_inputs])\r\n",
        "\r\n",
        "    #print('Max size:', max_size)\r\n",
        "\r\n",
        "    # For each input in this batch...\r\n",
        "    for sen in batch_inputs:\r\n",
        "        \r\n",
        "        # How many pad tokens do we need to add?\r\n",
        "        num_pads = max_size - len(sen)\r\n",
        "\r\n",
        "        # Add `num_pads` padding tokens to the end of the sequence.\r\n",
        "        padded_input = sen + [tokenizer.pad_token_id]*num_pads\r\n",
        "\r\n",
        "        # Define the attention mask--it's just a `1` for every real token\r\n",
        "        # and a `0` for every padding token.\r\n",
        "        attn_mask = [1] * len(sen) + [0] * num_pads\r\n",
        "\r\n",
        "        # Add the padded results to the batch.\r\n",
        "        batch_padded_inputs.append(padded_input)\r\n",
        "        batch_attn_masks.append(attn_mask)\r\n",
        "\r\n",
        "    # Our batch has been padded, so we need to save this updated batch.\r\n",
        "    # We also need the inputs to be PyTorch tensors, so we'll do that here.\r\n",
        "    py_inputs.append(torch.tensor(batch_padded_inputs))\r\n",
        "    py_attn_masks.append(torch.tensor(batch_attn_masks))\r\n",
        "    py_labels.append(torch.tensor(batch_labels))\r\n"
      ],
      "execution_count": null,
      "outputs": []
    },
    {
      "cell_type": "markdown",
      "metadata": {
        "id": "roS5lLWdX-5J"
      },
      "source": [
        "### Check the number of token reductions because of smart batching"
      ]
    },
    {
      "cell_type": "code",
      "metadata": {
        "colab": {
          "background_save": true
        },
        "id": "wlh7cteVfroV",
        "outputId": "31de9c95-241e-4d6b-ebfd-0a170d2c68ae"
      },
      "source": [
        "# Get the new list of lengths after sorting.\r\n",
        "\r\n",
        "padded_lengths = []\r\n",
        "\r\n",
        "# For each batch...\r\n",
        "for batch in py_inputs:\r\n",
        "    \r\n",
        "    # For each sample...\r\n",
        "    for s in batch:\r\n",
        "    \r\n",
        "        # Record its length.\r\n",
        "        padded_lengths.append(len(s))\r\n",
        "\r\n",
        "# Sum up the lengths to the get the total number of tokens after smart batching.\r\n",
        "smart_token_count = np.sum(padded_lengths)\r\n",
        "\r\n",
        "# To get the total number of tokens in the dataset using fixed padding, it's\r\n",
        "# as simple as the number of samples times our `max_len` parameter (that we\r\n",
        "# would pad everything to).\r\n",
        "fixed_token_count = len(train_sentences) * max_input_length\r\n",
        "\r\n",
        "# Calculate the percentage reduction.\r\n",
        "prcnt_reduced = (fixed_token_count - smart_token_count) / float(fixed_token_count) \r\n",
        "\r\n",
        "print('Total tokens:')\r\n",
        "print('   Fixed Padding: {:,}'.format(fixed_token_count))\r\n",
        "print('  Smart Batching: {:,}  ({:.1%} less)'.format(smart_token_count, prcnt_reduced))\r\n"
      ],
      "execution_count": null,
      "outputs": [
        {
          "output_type": "stream",
          "text": [
            "Total tokens:\n",
            "   Fixed Padding: 6,404,000\n",
            "  Smart Batching: 422,416  (93.4% less)\n"
          ],
          "name": "stdout"
        }
      ]
    },
    {
      "cell_type": "markdown",
      "metadata": {
        "id": "8wgdhsI-YIAL"
      },
      "source": [
        "## Load the model configuration from the transformers library using AutoConfig"
      ]
    },
    {
      "cell_type": "code",
      "metadata": {
        "colab": {
          "background_save": true
        },
        "id": "9er7EHvdfudf",
        "outputId": "a541e01f-e73d-46cd-89e9-a3be28b31def"
      },
      "source": [
        "# Load the Config object, with an output configured for classification.\r\n",
        "config = AutoConfig.from_pretrained(pretrained_model_name_or_path=model_name,\r\n",
        "                                    num_labels=5)\r\n",
        "\r\n",
        "print('Config type:', str(type(config)), '\\n')\r\n"
      ],
      "execution_count": null,
      "outputs": [
        {
          "output_type": "stream",
          "text": [
            "Config type: <class 'transformers.models.albert.configuration_albert.AlbertConfig'> \n",
            "\n"
          ],
          "name": "stdout"
        }
      ]
    },
    {
      "cell_type": "code",
      "metadata": {
        "colab": {
          "background_save": true
        },
        "id": "bWvc9Ikv4HtD",
        "outputId": "2142c94c-a133-42e8-9eee-eb6f0f7a554c"
      },
      "source": [
        "model = AutoModelForSequenceClassification.from_pretrained(pretrained_model_name_or_path=model_name,config = config)"
      ],
      "execution_count": null,
      "outputs": [
        {
          "output_type": "stream",
          "text": [
            "Some weights of the model checkpoint at ai4bharat/indic-bert were not used when initializing AlbertForSequenceClassification: ['predictions.bias', 'predictions.LayerNorm.weight', 'predictions.LayerNorm.bias', 'predictions.dense.weight', 'predictions.dense.bias', 'predictions.decoder.weight', 'predictions.decoder.bias', 'sop_classifier.classifier.weight', 'sop_classifier.classifier.bias']\n",
            "- This IS expected if you are initializing AlbertForSequenceClassification from the checkpoint of a model trained on another task or with another architecture (e.g. initializing a BertForSequenceClassification model from a BertForPreTraining model).\n",
            "- This IS NOT expected if you are initializing AlbertForSequenceClassification from the checkpoint of a model that you expect to be exactly identical (initializing a BertForSequenceClassification model from a BertForSequenceClassification model).\n",
            "Some weights of AlbertForSequenceClassification were not initialized from the model checkpoint at ai4bharat/indic-bert and are newly initialized: ['classifier.weight', 'classifier.bias']\n",
            "You should probably TRAIN this model on a down-stream task to be able to use it for predictions and inference.\n"
          ],
          "name": "stderr"
        }
      ]
    },
    {
      "cell_type": "code",
      "metadata": {
        "colab": {
          "background_save": true
        },
        "id": "Xouf5M2B55ei",
        "outputId": "a9f4871a-8f0d-4c79-c10f-5fa363a419e8"
      },
      "source": [
        "model.cuda()"
      ],
      "execution_count": null,
      "outputs": [
        {
          "output_type": "execute_result",
          "data": {
            "text/plain": [
              "AlbertForSequenceClassification(\n",
              "  (albert): AlbertModel(\n",
              "    (embeddings): AlbertEmbeddings(\n",
              "      (word_embeddings): Embedding(200000, 128, padding_idx=0)\n",
              "      (position_embeddings): Embedding(512, 128)\n",
              "      (token_type_embeddings): Embedding(2, 128)\n",
              "      (LayerNorm): LayerNorm((128,), eps=1e-12, elementwise_affine=True)\n",
              "      (dropout): Dropout(p=0, inplace=False)\n",
              "    )\n",
              "    (encoder): AlbertTransformer(\n",
              "      (embedding_hidden_mapping_in): Linear(in_features=128, out_features=768, bias=True)\n",
              "      (albert_layer_groups): ModuleList(\n",
              "        (0): AlbertLayerGroup(\n",
              "          (albert_layers): ModuleList(\n",
              "            (0): AlbertLayer(\n",
              "              (full_layer_layer_norm): LayerNorm((768,), eps=1e-12, elementwise_affine=True)\n",
              "              (attention): AlbertAttention(\n",
              "                (query): Linear(in_features=768, out_features=768, bias=True)\n",
              "                (key): Linear(in_features=768, out_features=768, bias=True)\n",
              "                (value): Linear(in_features=768, out_features=768, bias=True)\n",
              "                (attention_dropout): Dropout(p=0, inplace=False)\n",
              "                (output_dropout): Dropout(p=0, inplace=False)\n",
              "                (dense): Linear(in_features=768, out_features=768, bias=True)\n",
              "                (LayerNorm): LayerNorm((768,), eps=1e-12, elementwise_affine=True)\n",
              "              )\n",
              "              (ffn): Linear(in_features=768, out_features=3072, bias=True)\n",
              "              (ffn_output): Linear(in_features=3072, out_features=768, bias=True)\n",
              "              (dropout): Dropout(p=0, inplace=False)\n",
              "            )\n",
              "          )\n",
              "        )\n",
              "      )\n",
              "    )\n",
              "    (pooler): Linear(in_features=768, out_features=768, bias=True)\n",
              "    (pooler_activation): Tanh()\n",
              "  )\n",
              "  (dropout): Dropout(p=0.1, inplace=False)\n",
              "  (classifier): Linear(in_features=768, out_features=5, bias=True)\n",
              ")"
            ]
          },
          "metadata": {
            "tags": []
          },
          "execution_count": 0
        }
      ]
    },
    {
      "cell_type": "markdown",
      "metadata": {
        "id": "SXJHBVlxYR-l"
      },
      "source": [
        "## Load the model from the transformers library using AutoModel"
      ]
    },
    {
      "cell_type": "code",
      "metadata": {
        "colab": {
          "background_save": true
        },
        "id": "n8J4r6KyhveR",
        "outputId": "6f76612e-b735-481c-82bb-7125b168735e"
      },
      "source": [
        "# Load the pre-trained model for classification, passing in the `config` from\r\n",
        "# above.\r\n",
        "bert = AutoModel.from_pretrained(\r\n",
        "    pretrained_model_name_or_path=model_name,\r\n",
        "    config=config)\r\n",
        "\r\n",
        "print('\\nModel type:', str(type(bert)))\r\n"
      ],
      "execution_count": null,
      "outputs": [
        {
          "output_type": "stream",
          "text": [
            "\n",
            "Model type: <class 'transformers.models.albert.modeling_albert.AlbertModel'>\n"
          ],
          "name": "stdout"
        }
      ]
    },
    {
      "cell_type": "code",
      "metadata": {
        "colab": {
          "background_save": true
        },
        "id": "RcFMgf5EuPAF"
      },
      "source": [
        "# freeze all the parameters\r\n",
        "for param in bert.parameters():\r\n",
        "    param.requires_grad = False"
      ],
      "execution_count": null,
      "outputs": []
    },
    {
      "cell_type": "markdown",
      "metadata": {
        "id": "NS_-0rBDYeY5"
      },
      "source": [
        "## Creating a custom BERT model "
      ]
    },
    {
      "cell_type": "code",
      "metadata": {
        "colab": {
          "background_save": true
        },
        "id": "bmGtZwykJ39i"
      },
      "source": [
        "\r\n",
        "class BERT_Model(nn.Module):\r\n",
        "    ## defining the constructor for the class\r\n",
        "    def __init__(self, bert,num_labels):\r\n",
        "      ## calling the super class constructor\r\n",
        "      super(BERT_Model, self).__init__()\r\n",
        "      ## adding the bert layer to the model\r\n",
        "      self.bert = bert        \r\n",
        "      # relu activation function\r\n",
        "      self.relu =  nn.ReLU()\r\n",
        "      # adding a dense layer to our custom model\r\n",
        "      self.fc1 = nn.Linear(768,512)\r\n",
        "      # adding another dense layer to our custom model ,i.e., the Output layer\r\n",
        "      self.fc2 = nn.Linear(512,num_labels)\r\n",
        "      # adding a softmax  activation function for our custom model's output layer\r\n",
        "      self.softmax = nn.LogSoftmax(dim=1)\r\n",
        "\r\n",
        "    #defining the forward pass\r\n",
        "    def forward(self, input_id, mask):\r\n",
        "      #pass the inputs to the model  \r\n",
        "      outputs = self.bert(input_id,mask)\r\n",
        "  \r\n",
        "      last_hidden_state = outputs.last_hidden_state       ## last hidden state from the model\r\n",
        "      pooler_output = outputs.pooler_output               ## pooler output from the model\r\n",
        "      ## adding a fully connected layer to the BERT model\r\n",
        "      x = self.fc1(pooler_output)\r\n",
        "      ## applying relu activation function\r\n",
        "      x = self.relu(x)\r\n",
        "      # the final output layer\r\n",
        "      x = self.fc2(x)\r\n",
        "      # apply softmax activation to our output layer\r\n",
        "      x = self.softmax(x)\r\n",
        "\r\n",
        "      return x"
      ],
      "execution_count": null,
      "outputs": []
    },
    {
      "cell_type": "code",
      "metadata": {
        "colab": {
          "background_save": true
        },
        "id": "jvOs0G5sh02S",
        "outputId": "aa6fe3a6-1515-40fb-f66d-658c6ff35c5b"
      },
      "source": [
        "\r\n",
        "\r\n",
        "print('\\nLoading model ...')\r\n",
        "# pass the pre-trained BERT to our define architecture\r\n",
        "model = BERT_Model(bert,num_labels=3)\r\n",
        "\r\n",
        "model.cuda()"
      ],
      "execution_count": null,
      "outputs": [
        {
          "output_type": "stream",
          "text": [
            "\n",
            "Loading model ...\n"
          ],
          "name": "stdout"
        },
        {
          "output_type": "execute_result",
          "data": {
            "text/plain": [
              "BERT_Model(\n",
              "  (bert): AlbertModel(\n",
              "    (embeddings): AlbertEmbeddings(\n",
              "      (word_embeddings): Embedding(200000, 128, padding_idx=0)\n",
              "      (position_embeddings): Embedding(512, 128)\n",
              "      (token_type_embeddings): Embedding(2, 128)\n",
              "      (LayerNorm): LayerNorm((128,), eps=1e-12, elementwise_affine=True)\n",
              "      (dropout): Dropout(p=0, inplace=False)\n",
              "    )\n",
              "    (encoder): AlbertTransformer(\n",
              "      (embedding_hidden_mapping_in): Linear(in_features=128, out_features=768, bias=True)\n",
              "      (albert_layer_groups): ModuleList(\n",
              "        (0): AlbertLayerGroup(\n",
              "          (albert_layers): ModuleList(\n",
              "            (0): AlbertLayer(\n",
              "              (full_layer_layer_norm): LayerNorm((768,), eps=1e-12, elementwise_affine=True)\n",
              "              (attention): AlbertAttention(\n",
              "                (query): Linear(in_features=768, out_features=768, bias=True)\n",
              "                (key): Linear(in_features=768, out_features=768, bias=True)\n",
              "                (value): Linear(in_features=768, out_features=768, bias=True)\n",
              "                (attention_dropout): Dropout(p=0, inplace=False)\n",
              "                (output_dropout): Dropout(p=0, inplace=False)\n",
              "                (dense): Linear(in_features=768, out_features=768, bias=True)\n",
              "                (LayerNorm): LayerNorm((768,), eps=1e-12, elementwise_affine=True)\n",
              "              )\n",
              "              (ffn): Linear(in_features=768, out_features=3072, bias=True)\n",
              "              (ffn_output): Linear(in_features=3072, out_features=768, bias=True)\n",
              "              (dropout): Dropout(p=0, inplace=False)\n",
              "            )\n",
              "          )\n",
              "        )\n",
              "      )\n",
              "    )\n",
              "    (pooler): Linear(in_features=768, out_features=768, bias=True)\n",
              "    (pooler_activation): Tanh()\n",
              "  )\n",
              "  (relu): ReLU()\n",
              "  (fc1): Linear(in_features=768, out_features=512, bias=True)\n",
              "  (fc2): Linear(in_features=512, out_features=3, bias=True)\n",
              "  (softmax): LogSoftmax(dim=1)\n",
              ")"
            ]
          },
          "metadata": {
            "tags": []
          },
          "execution_count": 0
        }
      ]
    },
    {
      "cell_type": "markdown",
      "metadata": {
        "id": "LjQSUqCWJTbI"
      },
      "source": [
        "## Custom Loss function"
      ]
    },
    {
      "cell_type": "code",
      "metadata": {
        "colab": {
          "background_save": true
        },
        "id": "iOHVl1RRJSUB"
      },
      "source": [
        "# convert class weights to tensor\r\n",
        "weights= torch.tensor(class_wts,dtype=torch.float)\r\n",
        "weights = weights.to(device)\r\n",
        "\r\n",
        "# loss function\r\n",
        "cross_entropy  = nn.NLLLoss(weight=weights) \r\n"
      ],
      "execution_count": null,
      "outputs": []
    },
    {
      "cell_type": "markdown",
      "metadata": {
        "id": "evYV0yrQ2u_b"
      },
      "source": [
        "## Loading Optimizer"
      ]
    },
    {
      "cell_type": "code",
      "metadata": {
        "colab": {
          "background_save": true
        },
        "id": "8tAijXBEh7t8"
      },
      "source": [
        "# Note: AdamW is a class from the huggingface library (as opposed to pytorch) \r\n",
        "# I believe the 'W' stands for 'Weight Decay fix\"\r\n",
        "optimizer = AdamW(model.parameters(),\r\n",
        "                  lr = 2e-5, # This is the value Michael used.\r\n",
        "                  eps = 1e-8 # args.adam_epsilon  - default is 1e-8.\r\n",
        "                )\r\n"
      ],
      "execution_count": null,
      "outputs": []
    },
    {
      "cell_type": "markdown",
      "metadata": {
        "id": "s9n3_5jI2ywo"
      },
      "source": [
        "## Loading lr scheduler"
      ]
    },
    {
      "cell_type": "code",
      "metadata": {
        "colab": {
          "background_save": true
        },
        "id": "agidP6D6iBFI"
      },
      "source": [
        "# Number of training epochs. I chose to train for 1 simply because the training\r\n",
        "# time is long. More epochs may improve the model's accuracy.\r\n",
        "epochs = 4\r\n",
        "\r\n",
        "# Total number of training steps is [number of batches] x [number of epochs]. \r\n",
        "# Note that it's the number of *batches*, not *samples*!\r\n",
        "total_steps = len(py_inputs) * epochs\r\n",
        "\r\n",
        "# Create the learning rate scheduler.\r\n",
        "scheduler = get_linear_schedule_with_warmup(optimizer, \r\n",
        "                                            num_warmup_steps = 0, # Default value in run_glue.py\r\n",
        "                                            num_training_steps = total_steps)"
      ],
      "execution_count": null,
      "outputs": []
    },
    {
      "cell_type": "markdown",
      "metadata": {
        "id": "MDDp05Cm245e"
      },
      "source": [
        "## Training Loop"
      ]
    },
    {
      "cell_type": "code",
      "metadata": {
        "colab": {
          "background_save": true
        },
        "id": "H4ERR8fBiEJn",
        "outputId": "9fca42ec-b321-4a56-99d6-679da3f1b76e"
      },
      "source": [
        "# We'll store a number of quantities such as training and validation loss, \r\n",
        "# validation accuracy, and timings.\r\n",
        "training_stats = {\r\n",
        "    'epoch':[],\r\n",
        "    'train_loss':[],\r\n",
        "    'Training Time':[],\r\n",
        "    'val_loss':[],\r\n",
        "    'Validation Time':[],\r\n",
        "    'train_acc':[],\r\n",
        "    'val_acc':[]\r\n",
        "}\r\n",
        "\r\n",
        "# Update every `update_interval` batches.\r\n",
        "update_interval = good_update_interval(total_iters=len(py_inputs), num_desired_updates=10)\r\n",
        "\r\n",
        "# Measure the total training time for the whole run.\r\n",
        "total_t0 = time.time()\r\n",
        "\r\n",
        "# For each epoch...\r\n",
        "for epoch_i in range(0, epochs):\r\n",
        "\r\n",
        "    predictions = []\r\n",
        "    true_labels = []\r\n",
        "    \r\n",
        "    # ========================================\r\n",
        "    #               Training\r\n",
        "    # ========================================\r\n",
        "    \r\n",
        "    # Perform one full pass over the training set.\r\n",
        "\r\n",
        "    print(\"\")\r\n",
        "    print('======== Epoch {:} / {:} ========'.format(epoch_i + 1, epochs))\r\n",
        "    \r\n",
        "    # At the start of each epoch (except for the first) we need to re-randomize\r\n",
        "    # our training data.\r\n",
        "    if epoch_i > 0:\r\n",
        "        # Use our `make_smart_batches` function (from 6.1.) to re-shuffle the \r\n",
        "        # dataset into new batches.\r\n",
        "        (py_inputs, py_attn_masks, py_labels) = make_smart_batches(train_sentences, train_labels, batch_size,tokenizer,max_input_length)\r\n",
        "    \r\n",
        "    print('Training on {:,} batches...'.format(len(py_inputs)))\r\n",
        "\r\n",
        "    # Measure how long the training epoch takes.\r\n",
        "    t0 = time.time()\r\n",
        "\r\n",
        "    # Reset the total loss for this epoch.\r\n",
        "    total_train_loss = 0\r\n",
        "\r\n",
        "    # Put the model into training mode. Don't be mislead--the call to \r\n",
        "    # `train` just changes the *mode*, it doesn't *perform* the training.\r\n",
        "    # `dropout` and `batchnorm` layers behave differently during training\r\n",
        "    # vs. test (source: https://stackoverflow.com/questions/51433378/what-does-model-train-do-in-pytorch)\r\n",
        "    model.train()\r\n",
        "\r\n",
        "    # For each batch of training data...\r\n",
        "    for step in range(0, len(py_inputs)):\r\n",
        "\r\n",
        "        # Progress update every, e.g., 100 batches.\r\n",
        "        if step % update_interval == 0 and not step == 0:\r\n",
        "            # Calculate elapsed time in minutes.\r\n",
        "            elapsed = format_time(time.time() - t0)\r\n",
        "            \r\n",
        "            # Calculate the time remaining based on our progress.\r\n",
        "            steps_per_sec = (time.time() - t0) / step\r\n",
        "            remaining_sec = steps_per_sec * (len(py_inputs) - step)\r\n",
        "            remaining = format_time(remaining_sec)\r\n",
        "\r\n",
        "            # Report progress.\r\n",
        "            print('  Batch {:>7,}  of  {:>7,}.    Elapsed: {:}.  Remaining: {:}'.format(step, len(py_inputs), elapsed, remaining))\r\n",
        "\r\n",
        "        # Copy the current training batch to the GPU using the `to` method.\r\n",
        "        b_input_ids = py_inputs[step].to(device)\r\n",
        "        b_input_mask = py_attn_masks[step].to(device)\r\n",
        "        b_labels = py_labels[step].to(device)\r\n",
        "\r\n",
        "        # Always clear any previously calculated gradients before performing a\r\n",
        "        # backward pass.\r\n",
        "        model.zero_grad()        \r\n",
        "\r\n",
        "        # Perform a forward pass (evaluate the model on this training batch).\r\n",
        "        # The call returns the loss (because we provided labels) and the \r\n",
        "        # \"logits\"--the model outputs prior to activation.\r\n",
        "        output = model(b_input_ids, \r\n",
        "                             token_type_ids=None, \r\n",
        "                             attention_mask=b_input_mask, \r\n",
        "                             labels=b_labels)\r\n",
        "\r\n",
        "        # Accumulate the training loss over all of the batches so that we can\r\n",
        "        # calculate the average loss at the end. `loss` is a Tensor containing a\r\n",
        "        # single value; the `.item()` function just returns the Python value \r\n",
        "        # from the tensor.\r\n",
        "        loss = output.loss \r\n",
        "        logits = output.logits\r\n",
        "\r\n",
        "        # Move logits and labels to CPU\r\n",
        "        logits = logits.detach().cpu().numpy()\r\n",
        "        label_ids = b_labels.to('cpu').numpy()\r\n",
        "      \r\n",
        "        # Store predictions and true labels\r\n",
        "        predictions.append(logits)\r\n",
        "        true_labels.append(label_ids)\r\n",
        "        \r\n",
        "        # Accumulate the training loss over all of the batches so that we can\r\n",
        "        # calculate the average loss at the end. `loss` is a Tensor containing a\r\n",
        "        # single value; the `.item()` function just returns the Python value \r\n",
        "        # from the tensor.\r\n",
        "        total_train_loss += loss.item()\r\n",
        "\r\n",
        "        # Perform a backward pass to calculate the gradients.\r\n",
        "        loss.backward()\r\n",
        "\r\n",
        "        # Clip the norm of the gradients to 1.0.\r\n",
        "        # This is to help prevent the \"exploding gradients\" problem.\r\n",
        "        torch.nn.utils.clip_grad_norm_(model.parameters(), 1.0)\r\n",
        "\r\n",
        "        # Update parameters and take a step using the computed gradient.\r\n",
        "        # The optimizer dictates the \"update rule\"--how the parameters are\r\n",
        "        # modified based on their gradients, the learning rate, etc.\r\n",
        "        optimizer.step()\r\n",
        "\r\n",
        "        # Update the learning rate.\r\n",
        "        scheduler.step()\r\n",
        "\r\n",
        "    # Calculate the average loss over all of the batches.\r\n",
        "    avg_train_loss = total_train_loss / len(py_inputs)     \r\n",
        "       \r\n",
        "    training_accuracy = check_accuracy(predictions,true_labels)       \r\n",
        "    \r\n",
        "    # Measure how long this epoch took.\r\n",
        "    training_time = format_time(time.time() - t0)\r\n",
        "\r\n",
        "    print(\"\")\r\n",
        "    print(\"  Average training loss: {0:.2f}\".format(avg_train_loss))\r\n",
        "    print(\"  Training Accuracy: {0:.2f}\".format(training_accuracy))\r\n",
        "    print(\"  Training epoch took: {:}\".format(training_time))\r\n",
        "        \r\n",
        "    (py_inputs, py_attn_masks, py_labels) = make_smart_batches(val_sentences, val_labels, batch_size ,tokenizer,max_input_length)\r\n",
        "    val_loss,val_accuracy,validation_time = eval_model(model,py_inputs, py_attn_masks, py_labels)  \r\n",
        "    # Record all statistics from this epoch.\r\n",
        "\r\n",
        "    print(\"\")\r\n",
        "    print(\"  Average validation loss: {0:.2f}\".format(val_loss))\r\n",
        "    print(\"  Validation Accuracy: {0:.2f}\".format(val_accuracy))\r\n",
        "    print(\"  Validation epoch took: {:}\".format(validation_time))\r\n",
        "    \r\n",
        "    \r\n",
        "    training_stats['epoch'].append(epoch_i + 1)\r\n",
        "    training_stats['train_loss'].append(avg_train_loss)\r\n",
        "    training_stats['Training Time'].append(training_time)\r\n",
        "    training_stats['val_loss'].append(val_loss)\r\n",
        "    training_stats['Validation Time'].append(validation_time)\r\n",
        "    training_stats['train_acc'].append(training_accuracy)\r\n",
        "    training_stats['val_acc'].append(val_accuracy)\r\n",
        "\r\n",
        "print(\"\")\r\n",
        "print(\"Training complete!\")\r\n",
        "\r\n",
        "print(\"Total training took {:} (h:mm:ss)\".format(format_time(time.time()-total_t0)))"
      ],
      "execution_count": null,
      "outputs": [
        {
          "output_type": "stream",
          "text": [
            "\n",
            "======== Epoch 1 / 4 ========\n",
            "Training on 1,001 batches...\n"
          ],
          "name": "stdout"
        },
        {
          "output_type": "error",
          "ename": "TypeError",
          "evalue": "ignored",
          "traceback": [
            "\u001b[0;31m---------------------------------------------------------------------------\u001b[0m",
            "\u001b[0;31mTypeError\u001b[0m                                 Traceback (most recent call last)",
            "\u001b[0;32m<ipython-input-60-4d0be395af57>\u001b[0m in \u001b[0;36m<module>\u001b[0;34m()\u001b[0m\n\u001b[1;32m     84\u001b[0m                              \u001b[0mtoken_type_ids\u001b[0m\u001b[0;34m=\u001b[0m\u001b[0;32mNone\u001b[0m\u001b[0;34m,\u001b[0m\u001b[0;34m\u001b[0m\u001b[0;34m\u001b[0m\u001b[0m\n\u001b[1;32m     85\u001b[0m                              \u001b[0mattention_mask\u001b[0m\u001b[0;34m=\u001b[0m\u001b[0mb_input_mask\u001b[0m\u001b[0;34m,\u001b[0m\u001b[0;34m\u001b[0m\u001b[0;34m\u001b[0m\u001b[0m\n\u001b[0;32m---> 86\u001b[0;31m                              labels=b_labels)\n\u001b[0m\u001b[1;32m     87\u001b[0m \u001b[0;34m\u001b[0m\u001b[0m\n\u001b[1;32m     88\u001b[0m         \u001b[0;31m# Accumulate the training loss over all of the batches so that we can\u001b[0m\u001b[0;34m\u001b[0m\u001b[0;34m\u001b[0m\u001b[0;34m\u001b[0m\u001b[0m\n",
            "\u001b[0;32m/usr/local/lib/python3.6/dist-packages/torch/nn/modules/module.py\u001b[0m in \u001b[0;36m_call_impl\u001b[0;34m(self, *input, **kwargs)\u001b[0m\n\u001b[1;32m    725\u001b[0m             \u001b[0mresult\u001b[0m \u001b[0;34m=\u001b[0m \u001b[0mself\u001b[0m\u001b[0;34m.\u001b[0m\u001b[0m_slow_forward\u001b[0m\u001b[0;34m(\u001b[0m\u001b[0;34m*\u001b[0m\u001b[0minput\u001b[0m\u001b[0;34m,\u001b[0m \u001b[0;34m**\u001b[0m\u001b[0mkwargs\u001b[0m\u001b[0;34m)\u001b[0m\u001b[0;34m\u001b[0m\u001b[0;34m\u001b[0m\u001b[0m\n\u001b[1;32m    726\u001b[0m         \u001b[0;32melse\u001b[0m\u001b[0;34m:\u001b[0m\u001b[0;34m\u001b[0m\u001b[0;34m\u001b[0m\u001b[0m\n\u001b[0;32m--> 727\u001b[0;31m             \u001b[0mresult\u001b[0m \u001b[0;34m=\u001b[0m \u001b[0mself\u001b[0m\u001b[0;34m.\u001b[0m\u001b[0mforward\u001b[0m\u001b[0;34m(\u001b[0m\u001b[0;34m*\u001b[0m\u001b[0minput\u001b[0m\u001b[0;34m,\u001b[0m \u001b[0;34m**\u001b[0m\u001b[0mkwargs\u001b[0m\u001b[0;34m)\u001b[0m\u001b[0;34m\u001b[0m\u001b[0;34m\u001b[0m\u001b[0m\n\u001b[0m\u001b[1;32m    728\u001b[0m         for hook in itertools.chain(\n\u001b[1;32m    729\u001b[0m                 \u001b[0m_global_forward_hooks\u001b[0m\u001b[0;34m.\u001b[0m\u001b[0mvalues\u001b[0m\u001b[0;34m(\u001b[0m\u001b[0;34m)\u001b[0m\u001b[0;34m,\u001b[0m\u001b[0;34m\u001b[0m\u001b[0;34m\u001b[0m\u001b[0m\n",
            "\u001b[0;31mTypeError\u001b[0m: forward() got an unexpected keyword argument 'token_type_ids'"
          ]
        }
      ]
    },
    {
      "cell_type": "code",
      "metadata": {
        "colab": {
          "background_save": true
        },
        "id": "GOmua_S1eXNM"
      },
      "source": [
        "plot_training_history(training_stats)"
      ],
      "execution_count": null,
      "outputs": []
    },
    {
      "cell_type": "markdown",
      "metadata": {
        "id": "3c-6bOIxVyrM"
      },
      "source": [
        "## Evaluating Performance Over Training Set"
      ]
    },
    {
      "cell_type": "code",
      "metadata": {
        "colab": {
          "background_save": true
        },
        "id": "2QmKPNAeWHkZ"
      },
      "source": [
        "(py_inputs, py_attn_masks, py_labels) = make_smart_batches(train_sentences, train_labels, batch_size ,tokenizer,max_input_length)\r\n",
        "\r\n",
        "y_pred , y_true = get_predictions(py_inputs, py_attn_masks, py_labels)\r\n"
      ],
      "execution_count": null,
      "outputs": []
    },
    {
      "cell_type": "code",
      "metadata": {
        "colab": {
          "background_save": true
        },
        "id": "uXsVn0wngZhv"
      },
      "source": [
        "print(classification_report(y_true, y_pred, target_names=class_names))"
      ],
      "execution_count": null,
      "outputs": []
    },
    {
      "cell_type": "code",
      "metadata": {
        "colab": {
          "background_save": true
        },
        "id": "guClUdRhYPql"
      },
      "source": [
        "cm = confusion_matrix(y_true, y_pred)\r\n",
        "show_confusion_matrix(cm, class_names)"
      ],
      "execution_count": null,
      "outputs": []
    },
    {
      "cell_type": "markdown",
      "metadata": {
        "id": "VM2N-X1tV3il"
      },
      "source": [
        "## Evaluating Performance Over Validation Set"
      ]
    },
    {
      "cell_type": "code",
      "metadata": {
        "colab": {
          "background_save": true
        },
        "id": "BnadNvtxWIYw"
      },
      "source": [
        "(py_inputs, py_attn_masks, py_labels) = make_smart_batches(val_sentences, val_labels, batch_size ,tokenizer,max_input_length)\r\n",
        "\r\n",
        "y_pred , y_true = get_predictions(py_inputs, py_attn_masks, py_labels)"
      ],
      "execution_count": null,
      "outputs": []
    },
    {
      "cell_type": "code",
      "metadata": {
        "colab": {
          "background_save": true
        },
        "id": "wAjlATBPgh7c"
      },
      "source": [
        "print(classification_report(y_true, y_pred, target_names=class_names))"
      ],
      "execution_count": null,
      "outputs": []
    },
    {
      "cell_type": "code",
      "metadata": {
        "colab": {
          "background_save": true
        },
        "id": "7nELY57NYshD"
      },
      "source": [
        "cm = confusion_matrix(y_true, y_pred)\r\n",
        "show_confusion_matrix(cm, class_names)"
      ],
      "execution_count": null,
      "outputs": []
    },
    {
      "cell_type": "markdown",
      "metadata": {
        "id": "2fOJyH_c3ON2"
      },
      "source": [
        "## Saving the model"
      ]
    },
    {
      "cell_type": "code",
      "metadata": {
        "colab": {
          "background_save": true
        },
        "id": "3PXqG-VpurVS"
      },
      "source": [
        "torch.save(model,\"./drive/MyDrive/Codalab/Offensive Language Identification/Models/IndicBERT_Malayalam_v1\")"
      ],
      "execution_count": null,
      "outputs": []
    },
    {
      "cell_type": "markdown",
      "metadata": {
        "id": "a9M_91z1yj0F"
      },
      "source": [
        "## Loading the model"
      ]
    },
    {
      "cell_type": "code",
      "metadata": {
        "id": "5NfWwz6Qztsg"
      },
      "source": [
        "model = torch.load('./drive/MyDrive/Codalab/Offensive Language Identification/Models/IndicBERT_Malayalam_v1',map_location=device)"
      ],
      "execution_count": 28,
      "outputs": []
    },
    {
      "cell_type": "code",
      "metadata": {
        "colab": {
          "base_uri": "https://localhost:8080/"
        },
        "id": "sAaHpZdIzsnT",
        "outputId": "8c12038a-a111-4ac3-b0c5-5b75045b88e4"
      },
      "source": [
        "model.cuda()"
      ],
      "execution_count": 29,
      "outputs": [
        {
          "output_type": "execute_result",
          "data": {
            "text/plain": [
              "AlbertForSequenceClassification(\n",
              "  (albert): AlbertModel(\n",
              "    (embeddings): AlbertEmbeddings(\n",
              "      (word_embeddings): Embedding(200000, 128, padding_idx=0)\n",
              "      (position_embeddings): Embedding(512, 128)\n",
              "      (token_type_embeddings): Embedding(2, 128)\n",
              "      (LayerNorm): LayerNorm((128,), eps=1e-12, elementwise_affine=True)\n",
              "      (dropout): Dropout(p=0, inplace=False)\n",
              "    )\n",
              "    (encoder): AlbertTransformer(\n",
              "      (embedding_hidden_mapping_in): Linear(in_features=128, out_features=768, bias=True)\n",
              "      (albert_layer_groups): ModuleList(\n",
              "        (0): AlbertLayerGroup(\n",
              "          (albert_layers): ModuleList(\n",
              "            (0): AlbertLayer(\n",
              "              (full_layer_layer_norm): LayerNorm((768,), eps=1e-12, elementwise_affine=True)\n",
              "              (attention): AlbertAttention(\n",
              "                (query): Linear(in_features=768, out_features=768, bias=True)\n",
              "                (key): Linear(in_features=768, out_features=768, bias=True)\n",
              "                (value): Linear(in_features=768, out_features=768, bias=True)\n",
              "                (attention_dropout): Dropout(p=0, inplace=False)\n",
              "                (output_dropout): Dropout(p=0, inplace=False)\n",
              "                (dense): Linear(in_features=768, out_features=768, bias=True)\n",
              "                (LayerNorm): LayerNorm((768,), eps=1e-12, elementwise_affine=True)\n",
              "              )\n",
              "              (ffn): Linear(in_features=768, out_features=3072, bias=True)\n",
              "              (ffn_output): Linear(in_features=3072, out_features=768, bias=True)\n",
              "              (dropout): Dropout(p=0, inplace=False)\n",
              "            )\n",
              "          )\n",
              "        )\n",
              "      )\n",
              "    )\n",
              "    (pooler): Linear(in_features=768, out_features=768, bias=True)\n",
              "    (pooler_activation): Tanh()\n",
              "  )\n",
              "  (dropout): Dropout(p=0.1, inplace=False)\n",
              "  (classifier): Linear(in_features=768, out_features=5, bias=True)\n",
              ")"
            ]
          },
          "metadata": {
            "tags": []
          },
          "execution_count": 29
        }
      ]
    },
    {
      "cell_type": "markdown",
      "metadata": {
        "id": "_crczjW6V-QK"
      },
      "source": [
        "## Making Predictions on Test Set"
      ]
    },
    {
      "cell_type": "code",
      "metadata": {
        "id": "lETtjTatLo91"
      },
      "source": [
        "test_df_path = join(dataset_dir,'mal_full_offensive_test.csv')\r\n",
        "test_df = pd.read_csv(test_df_path)"
      ],
      "execution_count": 30,
      "outputs": []
    },
    {
      "cell_type": "code",
      "metadata": {
        "colab": {
          "base_uri": "https://localhost:8080/",
          "height": 402
        },
        "id": "d_83fOUwqn0w",
        "outputId": "e5f6be60-9849-4951-b6a9-a41898dd26ff"
      },
      "source": [
        "test_df"
      ],
      "execution_count": 31,
      "outputs": [
        {
          "output_type": "execute_result",
          "data": {
            "text/html": [
              "<div>\n",
              "<style scoped>\n",
              "    .dataframe tbody tr th:only-of-type {\n",
              "        vertical-align: middle;\n",
              "    }\n",
              "\n",
              "    .dataframe tbody tr th {\n",
              "        vertical-align: top;\n",
              "    }\n",
              "\n",
              "    .dataframe thead th {\n",
              "        text-align: right;\n",
              "    }\n",
              "</style>\n",
              "<table border=\"1\" class=\"dataframe\">\n",
              "  <thead>\n",
              "    <tr style=\"text-align: right;\">\n",
              "      <th></th>\n",
              "      <th>text</th>\n",
              "    </tr>\n",
              "  </thead>\n",
              "  <tbody>\n",
              "    <tr>\n",
              "      <th>0</th>\n",
              "      <td>അപ്പൊ ഇതൊരൊന്നൊരാ മൊതലാണല്ലേ  Suraj ആണ് നടൻ ന്...</td>\n",
              "    </tr>\n",
              "    <tr>\n",
              "      <th>1</th>\n",
              "      <td>എന്ത് ഊള എഡിറ്റിംഗ് ആടോ ഇത് ഒരുമാതിരി vivo vid...</td>\n",
              "    </tr>\n",
              "    <tr>\n",
              "      <th>2</th>\n",
              "      <td>Fefka ee padam release cheyyan samadhicho?</td>\n",
              "    </tr>\n",
              "    <tr>\n",
              "      <th>3</th>\n",
              "      <td>അആഹാ.. സംഗീതം ജെക്‌സ് ബിജോയ് ആണ് അപ്പൊ പൊട്ടലു...</td>\n",
              "    </tr>\n",
              "    <tr>\n",
              "      <th>4</th>\n",
              "      <td>Ravile thane views likes ethra ayyi enn nokan ...</td>\n",
              "    </tr>\n",
              "    <tr>\n",
              "      <th>...</th>\n",
              "      <td>...</td>\n",
              "    </tr>\n",
              "    <tr>\n",
              "      <th>1996</th>\n",
              "      <td>Swargatthil ninnu purathaakkappetta daivatthin...</td>\n",
              "    </tr>\n",
              "    <tr>\n",
              "      <th>1997</th>\n",
              "      <td>Ivide Palakkad Jayettan Fans club nnu ashamsak...</td>\n",
              "    </tr>\n",
              "    <tr>\n",
              "      <th>1998</th>\n",
              "      <td>ഈ പടത്തിന് വെയിറ്റ് ചെയ്യുന്ന മമ്മൂക്ക ഫാൻസും</td>\n",
              "    </tr>\n",
              "    <tr>\n",
              "      <th>1999</th>\n",
              "      <td>കട്ട ലാലേട്ടൻ ഫാൻസ് ഒരു ലൈക് തന്നിട്ട് പോവാമോ ...</td>\n",
              "    </tr>\n",
              "    <tr>\n",
              "      <th>2000</th>\n",
              "      <td>Koora padam urappa kandal aryam.. Hello</td>\n",
              "    </tr>\n",
              "  </tbody>\n",
              "</table>\n",
              "<p>2001 rows × 1 columns</p>\n",
              "</div>"
            ],
            "text/plain": [
              "                                                   text\n",
              "0     അപ്പൊ ഇതൊരൊന്നൊരാ മൊതലാണല്ലേ  Suraj ആണ് നടൻ ന്...\n",
              "1     എന്ത് ഊള എഡിറ്റിംഗ് ആടോ ഇത് ഒരുമാതിരി vivo vid...\n",
              "2            Fefka ee padam release cheyyan samadhicho?\n",
              "3     അആഹാ.. സംഗീതം ജെക്‌സ് ബിജോയ് ആണ് അപ്പൊ പൊട്ടലു...\n",
              "4     Ravile thane views likes ethra ayyi enn nokan ...\n",
              "...                                                 ...\n",
              "1996  Swargatthil ninnu purathaakkappetta daivatthin...\n",
              "1997  Ivide Palakkad Jayettan Fans club nnu ashamsak...\n",
              "1998      ഈ പടത്തിന് വെയിറ്റ് ചെയ്യുന്ന മമ്മൂക്ക ഫാൻസും\n",
              "1999  കട്ട ലാലേട്ടൻ ഫാൻസ് ഒരു ലൈക് തന്നിട്ട് പോവാമോ ...\n",
              "2000            Koora padam urappa kandal aryam.. Hello\n",
              "\n",
              "[2001 rows x 1 columns]"
            ]
          },
          "metadata": {
            "tags": []
          },
          "execution_count": 31
        }
      ]
    },
    {
      "cell_type": "markdown",
      "metadata": {
        "id": "NjAQaP_na7HN"
      },
      "source": [
        "## Loading `test_sentences`"
      ]
    },
    {
      "cell_type": "code",
      "metadata": {
        "id": "WnnscvKOjl6b"
      },
      "source": [
        "test_sentences = test_df['text'].values \r\n",
        "test_ids = test_df.index.values"
      ],
      "execution_count": 32,
      "outputs": []
    },
    {
      "cell_type": "code",
      "metadata": {
        "colab": {
          "base_uri": "https://localhost:8080/"
        },
        "id": "slovGuCRThW1",
        "outputId": "6984fd0f-83a2-41ff-e045-4cf9f48e50ce"
      },
      "source": [
        "test_ids"
      ],
      "execution_count": 33,
      "outputs": [
        {
          "output_type": "execute_result",
          "data": {
            "text/plain": [
              "array([   0,    1,    2, ..., 1998, 1999, 2000])"
            ]
          },
          "metadata": {
            "tags": []
          },
          "execution_count": 33
        }
      ]
    },
    {
      "cell_type": "code",
      "metadata": {
        "colab": {
          "base_uri": "https://localhost:8080/"
        },
        "id": "gL7aCG2HTjv6",
        "outputId": "bda3ec20-5fea-4ae7-ec92-ce3cd0df4321"
      },
      "source": [
        "test_sentences"
      ],
      "execution_count": 34,
      "outputs": [
        {
          "output_type": "execute_result",
          "data": {
            "text/plain": [
              "array(['അപ്പൊ ഇതൊരൊന്നൊരാ മൊതലാണല്ലേ  Suraj ആണ് നടൻ ന്ന് തോന്നുന്നു',\n",
              "       'എന്ത് ഊള എഡിറ്റിംഗ് ആടോ ഇത് ഒരുമാതിരി vivo videoorderil ചെയ്തപോലെ',\n",
              "       'Fefka ee padam release cheyyan samadhicho?', ...,\n",
              "       'ഈ പടത്തിന് വെയിറ്റ് ചെയ്യുന്ന മമ്മൂക്ക ഫാൻസും',\n",
              "       'കട്ട ലാലേട്ടൻ ഫാൻസ് ഒരു ലൈക് തന്നിട്ട് പോവാമോ  Sep6 appo pwlikale',\n",
              "       'Koora padam urappa kandal aryam.. Hello'], dtype=object)"
            ]
          },
          "metadata": {
            "tags": []
          },
          "execution_count": 34
        }
      ]
    },
    {
      "cell_type": "code",
      "metadata": {
        "colab": {
          "base_uri": "https://localhost:8080/"
        },
        "id": "glrG0ZI4imGN",
        "outputId": "19c999dc-1dde-4ec8-fd74-67f07214d6a7"
      },
      "source": [
        "(py_inputs, py_attn_masks,py_ids) = make_smart_batches_on_test(test_sentences,test_ids, 16,tokenizer,max_input_length)"
      ],
      "execution_count": 35,
      "outputs": [
        {
          "output_type": "stream",
          "text": [
            "Creating Smart Batches from 2,001 examples with batch size 16...\n",
            "\n",
            "Tokenizing 2,001 samples...\n",
            "  Tokenized 0 samples.\n",
            "  Tokenized 200 samples.\n",
            "  Tokenized 400 samples.\n",
            "  Tokenized 600 samples.\n",
            "  Tokenized 800 samples.\n",
            "  Tokenized 1,000 samples.\n",
            "  Tokenized 1,200 samples.\n",
            "  Tokenized 1,400 samples.\n",
            "  Tokenized 1,600 samples.\n",
            "  Tokenized 1,800 samples.\n",
            "  Tokenized 2,000 samples.\n",
            "DONE.\n",
            "     2,001 samples\n",
            "\n",
            "     2,001 samples after sorting\n",
            "\n",
            "Creating batches of size 16...\n",
            "\n",
            "  DONE - Selected 126 batches.\n",
            "\n",
            "Padding out sequences within each batch...\n",
            "  DONE.\n"
          ],
          "name": "stdout"
        }
      ]
    },
    {
      "cell_type": "markdown",
      "metadata": {
        "id": "a4FMxCyZbJaG"
      },
      "source": [
        "## Evaluating accuracy over test set"
      ]
    },
    {
      "cell_type": "code",
      "metadata": {
        "colab": {
          "base_uri": "https://localhost:8080/"
        },
        "id": "PiuSwCUDiv8p",
        "outputId": "319d2a02-682c-4149-86dd-6a3af9009f6c"
      },
      "source": [
        "y_ids,y_preds  = get_predictions_test(py_inputs, py_attn_masks,py_ids)\r\n"
      ],
      "execution_count": 36,
      "outputs": [
        {
          "output_type": "stream",
          "text": [
            "Predicting labels for 126 test batches...\n",
            "  Batch      10  of      126.    Elapsed: 0:00:00.  Remaining: 0:00:04\n",
            "  Batch      20  of      126.    Elapsed: 0:00:01.  Remaining: 0:00:03\n",
            "  Batch      30  of      126.    Elapsed: 0:00:01.  Remaining: 0:00:03\n",
            "  Batch      40  of      126.    Elapsed: 0:00:01.  Remaining: 0:00:02\n",
            "  Batch      50  of      126.    Elapsed: 0:00:01.  Remaining: 0:00:02\n",
            "  Batch      60  of      126.    Elapsed: 0:00:02.  Remaining: 0:00:02\n",
            "  Batch      70  of      126.    Elapsed: 0:00:02.  Remaining: 0:00:02\n",
            "  Batch      80  of      126.    Elapsed: 0:00:02.  Remaining: 0:00:01\n",
            "  Batch      90  of      126.    Elapsed: 0:00:02.  Remaining: 0:00:01\n",
            "  Batch     100  of      126.    Elapsed: 0:00:03.  Remaining: 0:00:01\n",
            "  Batch     110  of      126.    Elapsed: 0:00:03.  Remaining: 0:00:00\n",
            "  Batch     120  of      126.    Elapsed: 0:00:03.  Remaining: 0:00:00\n"
          ],
          "name": "stdout"
        }
      ]
    },
    {
      "cell_type": "code",
      "metadata": {
        "colab": {
          "base_uri": "https://localhost:8080/"
        },
        "id": "cyNSDdXQhL9F",
        "outputId": "bbf19d3f-28d1-4bb5-caf6-72ac86ec474c"
      },
      "source": [
        "print(y_preds)"
      ],
      "execution_count": 37,
      "outputs": [
        {
          "output_type": "stream",
          "text": [
            "[0 0 0 ... 0 0 0]\n"
          ],
          "name": "stdout"
        }
      ]
    },
    {
      "cell_type": "code",
      "metadata": {
        "colab": {
          "base_uri": "https://localhost:8080/"
        },
        "id": "kWWWjz7eUPc7",
        "outputId": "04db92ae-906b-4f3d-b93f-d654ec2176cf"
      },
      "source": [
        "print(y_ids)"
      ],
      "execution_count": 38,
      "outputs": [
        {
          "output_type": "stream",
          "text": [
            "[1144 1145 1162 ... 1202  517   45]\n"
          ],
          "name": "stdout"
        }
      ]
    },
    {
      "cell_type": "code",
      "metadata": {
        "colab": {
          "base_uri": "https://localhost:8080/"
        },
        "id": "P2rVvmYVhguG",
        "outputId": "fae16c90-a1e0-460a-dffe-c05e4b5f8d8b"
      },
      "source": [
        "le.inverse_transform(y_preds)"
      ],
      "execution_count": 39,
      "outputs": [
        {
          "output_type": "execute_result",
          "data": {
            "text/plain": [
              "array(['Not_offensive', 'Not_offensive', 'Not_offensive', ...,\n",
              "       'Not_offensive', 'Not_offensive', 'Not_offensive'], dtype=object)"
            ]
          },
          "metadata": {
            "tags": []
          },
          "execution_count": 39
        }
      ]
    },
    {
      "cell_type": "code",
      "metadata": {
        "colab": {
          "base_uri": "https://localhost:8080/",
          "height": 750
        },
        "id": "CYN9Z8gAhrMy",
        "outputId": "a9947941-be21-40ba-ac2e-c1e087b81fa0"
      },
      "source": [
        "sns.countplot(y =le.inverse_transform(y_preds))"
      ],
      "execution_count": 40,
      "outputs": [
        {
          "output_type": "execute_result",
          "data": {
            "text/plain": [
              "<matplotlib.axes._subplots.AxesSubplot at 0x7fef0aad2e10>"
            ]
          },
          "metadata": {
            "tags": []
          },
          "execution_count": 40
        },
        {
          "output_type": "display_data",
          "data": {
            "image/png": "[encoded data removed]",
            "text/plain": [
              "<Figure size 1152x864 with 1 Axes>"
            ]
          },
          "metadata": {
            "tags": []
          }
        }
      ]
    },
    {
      "cell_type": "code",
      "metadata": {
        "colab": {
          "base_uri": "https://localhost:8080/"
        },
        "id": "4KXOXwH9U2MT",
        "outputId": "1fdbb091-25e5-4b67-d4af-acaf894eb2e0"
      },
      "source": [
        "len(y_ids)"
      ],
      "execution_count": 41,
      "outputs": [
        {
          "output_type": "execute_result",
          "data": {
            "text/plain": [
              "2001"
            ]
          },
          "metadata": {
            "tags": []
          },
          "execution_count": 41
        }
      ]
    },
    {
      "cell_type": "code",
      "metadata": {
        "colab": {
          "base_uri": "https://localhost:8080/"
        },
        "id": "9-fkBgOxU4bX",
        "outputId": "dbe69ff8-8560-43f1-92bd-1f56e958bc48"
      },
      "source": [
        "len(le.inverse_transform(y_preds))"
      ],
      "execution_count": 42,
      "outputs": [
        {
          "output_type": "execute_result",
          "data": {
            "text/plain": [
              "2001"
            ]
          },
          "metadata": {
            "tags": []
          },
          "execution_count": 42
        }
      ]
    },
    {
      "cell_type": "markdown",
      "metadata": {
        "id": "sWPDqogJrjIZ"
      },
      "source": [
        "## Creating Submission DataFrame"
      ]
    },
    {
      "cell_type": "code",
      "metadata": {
        "id": "o4Hb7RD1yHol"
      },
      "source": [
        "df_new = pd.DataFrame({\r\n",
        "    'id':y_ids,\r\n",
        "    'label':le.inverse_transform(y_preds)\r\n",
        "})"
      ],
      "execution_count": 47,
      "outputs": []
    },
    {
      "cell_type": "code",
      "metadata": {
        "id": "twQAkVzcn4Lg"
      },
      "source": [
        "test_df['id'] = test_df.index"
      ],
      "execution_count": 48,
      "outputs": []
    },
    {
      "cell_type": "code",
      "metadata": {
        "colab": {
          "base_uri": "https://localhost:8080/",
          "height": 402
        },
        "id": "qov36eWmqawv",
        "outputId": "caeafcd7-aeac-48c7-f490-6b92a44547d6"
      },
      "source": [
        "df_new"
      ],
      "execution_count": 49,
      "outputs": [
        {
          "output_type": "execute_result",
          "data": {
            "text/html": [
              "<div>\n",
              "<style scoped>\n",
              "    .dataframe tbody tr th:only-of-type {\n",
              "        vertical-align: middle;\n",
              "    }\n",
              "\n",
              "    .dataframe tbody tr th {\n",
              "        vertical-align: top;\n",
              "    }\n",
              "\n",
              "    .dataframe thead th {\n",
              "        text-align: right;\n",
              "    }\n",
              "</style>\n",
              "<table border=\"1\" class=\"dataframe\">\n",
              "  <thead>\n",
              "    <tr style=\"text-align: right;\">\n",
              "      <th></th>\n",
              "      <th>id</th>\n",
              "      <th>label</th>\n",
              "    </tr>\n",
              "  </thead>\n",
              "  <tbody>\n",
              "    <tr>\n",
              "      <th>0</th>\n",
              "      <td>1144</td>\n",
              "      <td>Not_offensive</td>\n",
              "    </tr>\n",
              "    <tr>\n",
              "      <th>1</th>\n",
              "      <td>1145</td>\n",
              "      <td>Not_offensive</td>\n",
              "    </tr>\n",
              "    <tr>\n",
              "      <th>2</th>\n",
              "      <td>1162</td>\n",
              "      <td>Not_offensive</td>\n",
              "    </tr>\n",
              "    <tr>\n",
              "      <th>3</th>\n",
              "      <td>1164</td>\n",
              "      <td>Not_offensive</td>\n",
              "    </tr>\n",
              "    <tr>\n",
              "      <th>4</th>\n",
              "      <td>1191</td>\n",
              "      <td>Not_offensive</td>\n",
              "    </tr>\n",
              "    <tr>\n",
              "      <th>...</th>\n",
              "      <td>...</td>\n",
              "      <td>...</td>\n",
              "    </tr>\n",
              "    <tr>\n",
              "      <th>1996</th>\n",
              "      <td>1753</td>\n",
              "      <td>Not_offensive</td>\n",
              "    </tr>\n",
              "    <tr>\n",
              "      <th>1997</th>\n",
              "      <td>1635</td>\n",
              "      <td>Not_offensive</td>\n",
              "    </tr>\n",
              "    <tr>\n",
              "      <th>1998</th>\n",
              "      <td>1202</td>\n",
              "      <td>Not_offensive</td>\n",
              "    </tr>\n",
              "    <tr>\n",
              "      <th>1999</th>\n",
              "      <td>517</td>\n",
              "      <td>Not_offensive</td>\n",
              "    </tr>\n",
              "    <tr>\n",
              "      <th>2000</th>\n",
              "      <td>45</td>\n",
              "      <td>Not_offensive</td>\n",
              "    </tr>\n",
              "  </tbody>\n",
              "</table>\n",
              "<p>2001 rows × 2 columns</p>\n",
              "</div>"
            ],
            "text/plain": [
              "        id          label\n",
              "0     1144  Not_offensive\n",
              "1     1145  Not_offensive\n",
              "2     1162  Not_offensive\n",
              "3     1164  Not_offensive\n",
              "4     1191  Not_offensive\n",
              "...    ...            ...\n",
              "1996  1753  Not_offensive\n",
              "1997  1635  Not_offensive\n",
              "1998  1202  Not_offensive\n",
              "1999   517  Not_offensive\n",
              "2000    45  Not_offensive\n",
              "\n",
              "[2001 rows x 2 columns]"
            ]
          },
          "metadata": {
            "tags": []
          },
          "execution_count": 49
        }
      ]
    },
    {
      "cell_type": "code",
      "metadata": {
        "colab": {
          "base_uri": "https://localhost:8080/",
          "height": 402
        },
        "id": "z0CEApHmqdLr",
        "outputId": "e2a2d625-299f-48ac-eeac-be1f4082b270"
      },
      "source": [
        "test_df"
      ],
      "execution_count": 50,
      "outputs": [
        {
          "output_type": "execute_result",
          "data": {
            "text/html": [
              "<div>\n",
              "<style scoped>\n",
              "    .dataframe tbody tr th:only-of-type {\n",
              "        vertical-align: middle;\n",
              "    }\n",
              "\n",
              "    .dataframe tbody tr th {\n",
              "        vertical-align: top;\n",
              "    }\n",
              "\n",
              "    .dataframe thead th {\n",
              "        text-align: right;\n",
              "    }\n",
              "</style>\n",
              "<table border=\"1\" class=\"dataframe\">\n",
              "  <thead>\n",
              "    <tr style=\"text-align: right;\">\n",
              "      <th></th>\n",
              "      <th>text</th>\n",
              "      <th>id</th>\n",
              "    </tr>\n",
              "  </thead>\n",
              "  <tbody>\n",
              "    <tr>\n",
              "      <th>0</th>\n",
              "      <td>അപ്പൊ ഇതൊരൊന്നൊരാ മൊതലാണല്ലേ  Suraj ആണ് നടൻ ന്...</td>\n",
              "      <td>0</td>\n",
              "    </tr>\n",
              "    <tr>\n",
              "      <th>1</th>\n",
              "      <td>എന്ത് ഊള എഡിറ്റിംഗ് ആടോ ഇത് ഒരുമാതിരി vivo vid...</td>\n",
              "      <td>1</td>\n",
              "    </tr>\n",
              "    <tr>\n",
              "      <th>2</th>\n",
              "      <td>Fefka ee padam release cheyyan samadhicho?</td>\n",
              "      <td>2</td>\n",
              "    </tr>\n",
              "    <tr>\n",
              "      <th>3</th>\n",
              "      <td>അആഹാ.. സംഗീതം ജെക്‌സ് ബിജോയ് ആണ് അപ്പൊ പൊട്ടലു...</td>\n",
              "      <td>3</td>\n",
              "    </tr>\n",
              "    <tr>\n",
              "      <th>4</th>\n",
              "      <td>Ravile thane views likes ethra ayyi enn nokan ...</td>\n",
              "      <td>4</td>\n",
              "    </tr>\n",
              "    <tr>\n",
              "      <th>...</th>\n",
              "      <td>...</td>\n",
              "      <td>...</td>\n",
              "    </tr>\n",
              "    <tr>\n",
              "      <th>1996</th>\n",
              "      <td>Swargatthil ninnu purathaakkappetta daivatthin...</td>\n",
              "      <td>1996</td>\n",
              "    </tr>\n",
              "    <tr>\n",
              "      <th>1997</th>\n",
              "      <td>Ivide Palakkad Jayettan Fans club nnu ashamsak...</td>\n",
              "      <td>1997</td>\n",
              "    </tr>\n",
              "    <tr>\n",
              "      <th>1998</th>\n",
              "      <td>ഈ പടത്തിന് വെയിറ്റ് ചെയ്യുന്ന മമ്മൂക്ക ഫാൻസും</td>\n",
              "      <td>1998</td>\n",
              "    </tr>\n",
              "    <tr>\n",
              "      <th>1999</th>\n",
              "      <td>കട്ട ലാലേട്ടൻ ഫാൻസ് ഒരു ലൈക് തന്നിട്ട് പോവാമോ ...</td>\n",
              "      <td>1999</td>\n",
              "    </tr>\n",
              "    <tr>\n",
              "      <th>2000</th>\n",
              "      <td>Koora padam urappa kandal aryam.. Hello</td>\n",
              "      <td>2000</td>\n",
              "    </tr>\n",
              "  </tbody>\n",
              "</table>\n",
              "<p>2001 rows × 2 columns</p>\n",
              "</div>"
            ],
            "text/plain": [
              "                                                   text    id\n",
              "0     അപ്പൊ ഇതൊരൊന്നൊരാ മൊതലാണല്ലേ  Suraj ആണ് നടൻ ന്...     0\n",
              "1     എന്ത് ഊള എഡിറ്റിംഗ് ആടോ ഇത് ഒരുമാതിരി vivo vid...     1\n",
              "2            Fefka ee padam release cheyyan samadhicho?     2\n",
              "3     അആഹാ.. സംഗീതം ജെക്‌സ് ബിജോയ് ആണ് അപ്പൊ പൊട്ടലു...     3\n",
              "4     Ravile thane views likes ethra ayyi enn nokan ...     4\n",
              "...                                                 ...   ...\n",
              "1996  Swargatthil ninnu purathaakkappetta daivatthin...  1996\n",
              "1997  Ivide Palakkad Jayettan Fans club nnu ashamsak...  1997\n",
              "1998      ഈ പടത്തിന് വെയിറ്റ് ചെയ്യുന്ന മമ്മൂക്ക ഫാൻസും  1998\n",
              "1999  കട്ട ലാലേട്ടൻ ഫാൻസ് ഒരു ലൈക് തന്നിട്ട് പോവാമോ ...  1999\n",
              "2000            Koora padam urappa kandal aryam.. Hello  2000\n",
              "\n",
              "[2001 rows x 2 columns]"
            ]
          },
          "metadata": {
            "tags": []
          },
          "execution_count": 50
        }
      ]
    },
    {
      "cell_type": "code",
      "metadata": {
        "colab": {
          "base_uri": "https://localhost:8080/",
          "height": 402
        },
        "id": "vxReWWmxn7Hj",
        "outputId": "a5b82c39-1aee-4d55-bb9a-b85716f402a7"
      },
      "source": [
        "df_f = pd.merge(test_df,df_new,on = 'id')\r\n",
        "df_f"
      ],
      "execution_count": 51,
      "outputs": [
        {
          "output_type": "execute_result",
          "data": {
            "text/html": [
              "<div>\n",
              "<style scoped>\n",
              "    .dataframe tbody tr th:only-of-type {\n",
              "        vertical-align: middle;\n",
              "    }\n",
              "\n",
              "    .dataframe tbody tr th {\n",
              "        vertical-align: top;\n",
              "    }\n",
              "\n",
              "    .dataframe thead th {\n",
              "        text-align: right;\n",
              "    }\n",
              "</style>\n",
              "<table border=\"1\" class=\"dataframe\">\n",
              "  <thead>\n",
              "    <tr style=\"text-align: right;\">\n",
              "      <th></th>\n",
              "      <th>text</th>\n",
              "      <th>id</th>\n",
              "      <th>label</th>\n",
              "    </tr>\n",
              "  </thead>\n",
              "  <tbody>\n",
              "    <tr>\n",
              "      <th>0</th>\n",
              "      <td>അപ്പൊ ഇതൊരൊന്നൊരാ മൊതലാണല്ലേ  Suraj ആണ് നടൻ ന്...</td>\n",
              "      <td>0</td>\n",
              "      <td>Not_offensive</td>\n",
              "    </tr>\n",
              "    <tr>\n",
              "      <th>1</th>\n",
              "      <td>എന്ത് ഊള എഡിറ്റിംഗ് ആടോ ഇത് ഒരുമാതിരി vivo vid...</td>\n",
              "      <td>1</td>\n",
              "      <td>Not_offensive</td>\n",
              "    </tr>\n",
              "    <tr>\n",
              "      <th>2</th>\n",
              "      <td>Fefka ee padam release cheyyan samadhicho?</td>\n",
              "      <td>2</td>\n",
              "      <td>Not_offensive</td>\n",
              "    </tr>\n",
              "    <tr>\n",
              "      <th>3</th>\n",
              "      <td>അആഹാ.. സംഗീതം ജെക്‌സ് ബിജോയ് ആണ് അപ്പൊ പൊട്ടലു...</td>\n",
              "      <td>3</td>\n",
              "      <td>Not_offensive</td>\n",
              "    </tr>\n",
              "    <tr>\n",
              "      <th>4</th>\n",
              "      <td>Ravile thane views likes ethra ayyi enn nokan ...</td>\n",
              "      <td>4</td>\n",
              "      <td>Not_offensive</td>\n",
              "    </tr>\n",
              "    <tr>\n",
              "      <th>...</th>\n",
              "      <td>...</td>\n",
              "      <td>...</td>\n",
              "      <td>...</td>\n",
              "    </tr>\n",
              "    <tr>\n",
              "      <th>1996</th>\n",
              "      <td>Swargatthil ninnu purathaakkappetta daivatthin...</td>\n",
              "      <td>1996</td>\n",
              "      <td>Not_offensive</td>\n",
              "    </tr>\n",
              "    <tr>\n",
              "      <th>1997</th>\n",
              "      <td>Ivide Palakkad Jayettan Fans club nnu ashamsak...</td>\n",
              "      <td>1997</td>\n",
              "      <td>Not_offensive</td>\n",
              "    </tr>\n",
              "    <tr>\n",
              "      <th>1998</th>\n",
              "      <td>ഈ പടത്തിന് വെയിറ്റ് ചെയ്യുന്ന മമ്മൂക്ക ഫാൻസും</td>\n",
              "      <td>1998</td>\n",
              "      <td>Not_offensive</td>\n",
              "    </tr>\n",
              "    <tr>\n",
              "      <th>1999</th>\n",
              "      <td>കട്ട ലാലേട്ടൻ ഫാൻസ് ഒരു ലൈക് തന്നിട്ട് പോവാമോ ...</td>\n",
              "      <td>1999</td>\n",
              "      <td>Not_offensive</td>\n",
              "    </tr>\n",
              "    <tr>\n",
              "      <th>2000</th>\n",
              "      <td>Koora padam urappa kandal aryam.. Hello</td>\n",
              "      <td>2000</td>\n",
              "      <td>Not_offensive</td>\n",
              "    </tr>\n",
              "  </tbody>\n",
              "</table>\n",
              "<p>2001 rows × 3 columns</p>\n",
              "</div>"
            ],
            "text/plain": [
              "                                                   text    id          label\n",
              "0     അപ്പൊ ഇതൊരൊന്നൊരാ മൊതലാണല്ലേ  Suraj ആണ് നടൻ ന്...     0  Not_offensive\n",
              "1     എന്ത് ഊള എഡിറ്റിംഗ് ആടോ ഇത് ഒരുമാതിരി vivo vid...     1  Not_offensive\n",
              "2            Fefka ee padam release cheyyan samadhicho?     2  Not_offensive\n",
              "3     അആഹാ.. സംഗീതം ജെക്‌സ് ബിജോയ് ആണ് അപ്പൊ പൊട്ടലു...     3  Not_offensive\n",
              "4     Ravile thane views likes ethra ayyi enn nokan ...     4  Not_offensive\n",
              "...                                                 ...   ...            ...\n",
              "1996  Swargatthil ninnu purathaakkappetta daivatthin...  1996  Not_offensive\n",
              "1997  Ivide Palakkad Jayettan Fans club nnu ashamsak...  1997  Not_offensive\n",
              "1998      ഈ പടത്തിന് വെയിറ്റ് ചെയ്യുന്ന മമ്മൂക്ക ഫാൻസും  1998  Not_offensive\n",
              "1999  കട്ട ലാലേട്ടൻ ഫാൻസ് ഒരു ലൈക് തന്നിട്ട് പോവാമോ ...  1999  Not_offensive\n",
              "2000            Koora padam urappa kandal aryam.. Hello  2000  Not_offensive\n",
              "\n",
              "[2001 rows x 3 columns]"
            ]
          },
          "metadata": {
            "tags": []
          },
          "execution_count": 51
        }
      ]
    },
    {
      "cell_type": "code",
      "metadata": {
        "colab": {
          "base_uri": "https://localhost:8080/",
          "height": 402
        },
        "id": "1kuASymYn9aV",
        "outputId": "1e6eaec1-0f29-4b9d-e50e-d73ae6bd7d79"
      },
      "source": [
        "df_f = df_f[['id','text','label']]\r\n",
        "df_f"
      ],
      "execution_count": 52,
      "outputs": [
        {
          "output_type": "execute_result",
          "data": {
            "text/html": [
              "<div>\n",
              "<style scoped>\n",
              "    .dataframe tbody tr th:only-of-type {\n",
              "        vertical-align: middle;\n",
              "    }\n",
              "\n",
              "    .dataframe tbody tr th {\n",
              "        vertical-align: top;\n",
              "    }\n",
              "\n",
              "    .dataframe thead th {\n",
              "        text-align: right;\n",
              "    }\n",
              "</style>\n",
              "<table border=\"1\" class=\"dataframe\">\n",
              "  <thead>\n",
              "    <tr style=\"text-align: right;\">\n",
              "      <th></th>\n",
              "      <th>id</th>\n",
              "      <th>text</th>\n",
              "      <th>label</th>\n",
              "    </tr>\n",
              "  </thead>\n",
              "  <tbody>\n",
              "    <tr>\n",
              "      <th>0</th>\n",
              "      <td>0</td>\n",
              "      <td>അപ്പൊ ഇതൊരൊന്നൊരാ മൊതലാണല്ലേ  Suraj ആണ് നടൻ ന്...</td>\n",
              "      <td>Not_offensive</td>\n",
              "    </tr>\n",
              "    <tr>\n",
              "      <th>1</th>\n",
              "      <td>1</td>\n",
              "      <td>എന്ത് ഊള എഡിറ്റിംഗ് ആടോ ഇത് ഒരുമാതിരി vivo vid...</td>\n",
              "      <td>Not_offensive</td>\n",
              "    </tr>\n",
              "    <tr>\n",
              "      <th>2</th>\n",
              "      <td>2</td>\n",
              "      <td>Fefka ee padam release cheyyan samadhicho?</td>\n",
              "      <td>Not_offensive</td>\n",
              "    </tr>\n",
              "    <tr>\n",
              "      <th>3</th>\n",
              "      <td>3</td>\n",
              "      <td>അആഹാ.. സംഗീതം ജെക്‌സ് ബിജോയ് ആണ് അപ്പൊ പൊട്ടലു...</td>\n",
              "      <td>Not_offensive</td>\n",
              "    </tr>\n",
              "    <tr>\n",
              "      <th>4</th>\n",
              "      <td>4</td>\n",
              "      <td>Ravile thane views likes ethra ayyi enn nokan ...</td>\n",
              "      <td>Not_offensive</td>\n",
              "    </tr>\n",
              "    <tr>\n",
              "      <th>...</th>\n",
              "      <td>...</td>\n",
              "      <td>...</td>\n",
              "      <td>...</td>\n",
              "    </tr>\n",
              "    <tr>\n",
              "      <th>1996</th>\n",
              "      <td>1996</td>\n",
              "      <td>Swargatthil ninnu purathaakkappetta daivatthin...</td>\n",
              "      <td>Not_offensive</td>\n",
              "    </tr>\n",
              "    <tr>\n",
              "      <th>1997</th>\n",
              "      <td>1997</td>\n",
              "      <td>Ivide Palakkad Jayettan Fans club nnu ashamsak...</td>\n",
              "      <td>Not_offensive</td>\n",
              "    </tr>\n",
              "    <tr>\n",
              "      <th>1998</th>\n",
              "      <td>1998</td>\n",
              "      <td>ഈ പടത്തിന് വെയിറ്റ് ചെയ്യുന്ന മമ്മൂക്ക ഫാൻസും</td>\n",
              "      <td>Not_offensive</td>\n",
              "    </tr>\n",
              "    <tr>\n",
              "      <th>1999</th>\n",
              "      <td>1999</td>\n",
              "      <td>കട്ട ലാലേട്ടൻ ഫാൻസ് ഒരു ലൈക് തന്നിട്ട് പോവാമോ ...</td>\n",
              "      <td>Not_offensive</td>\n",
              "    </tr>\n",
              "    <tr>\n",
              "      <th>2000</th>\n",
              "      <td>2000</td>\n",
              "      <td>Koora padam urappa kandal aryam.. Hello</td>\n",
              "      <td>Not_offensive</td>\n",
              "    </tr>\n",
              "  </tbody>\n",
              "</table>\n",
              "<p>2001 rows × 3 columns</p>\n",
              "</div>"
            ],
            "text/plain": [
              "        id                                               text          label\n",
              "0        0  അപ്പൊ ഇതൊരൊന്നൊരാ മൊതലാണല്ലേ  Suraj ആണ് നടൻ ന്...  Not_offensive\n",
              "1        1  എന്ത് ഊള എഡിറ്റിംഗ് ആടോ ഇത് ഒരുമാതിരി vivo vid...  Not_offensive\n",
              "2        2         Fefka ee padam release cheyyan samadhicho?  Not_offensive\n",
              "3        3  അആഹാ.. സംഗീതം ജെക്‌സ് ബിജോയ് ആണ് അപ്പൊ പൊട്ടലു...  Not_offensive\n",
              "4        4  Ravile thane views likes ethra ayyi enn nokan ...  Not_offensive\n",
              "...    ...                                                ...            ...\n",
              "1996  1996  Swargatthil ninnu purathaakkappetta daivatthin...  Not_offensive\n",
              "1997  1997  Ivide Palakkad Jayettan Fans club nnu ashamsak...  Not_offensive\n",
              "1998  1998      ഈ പടത്തിന് വെയിറ്റ് ചെയ്യുന്ന മമ്മൂക്ക ഫാൻസും  Not_offensive\n",
              "1999  1999  കട്ട ലാലേട്ടൻ ഫാൻസ് ഒരു ലൈക് തന്നിട്ട് പോവാമോ ...  Not_offensive\n",
              "2000  2000            Koora padam urappa kandal aryam.. Hello  Not_offensive\n",
              "\n",
              "[2001 rows x 3 columns]"
            ]
          },
          "metadata": {
            "tags": []
          },
          "execution_count": 52
        }
      ]
    },
    {
      "cell_type": "markdown",
      "metadata": {
        "id": "p3FtBVTVroJi"
      },
      "source": [
        "## Saving Submission DataFrame"
      ]
    },
    {
      "cell_type": "code",
      "metadata": {
        "id": "SzoT0p9rqrO-"
      },
      "source": [
        "path = './drive/MyDrive/Codalab/Offensive Language Identification/SubmissionFiles'"
      ],
      "execution_count": 53,
      "outputs": []
    },
    {
      "cell_type": "code",
      "metadata": {
        "id": "LZmgZFM4qi7F"
      },
      "source": [
        "df_f.to_csv(join(path,'indicbert_malayalam.csv'),index=False)"
      ],
      "execution_count": 54,
      "outputs": []
    },
    {
      "cell_type": "code",
      "metadata": {
        "id": "jW9g_qgMv7mq"
      },
      "source": [
        ""
      ],
      "execution_count": null,
      "outputs": []
    }
  ]
}