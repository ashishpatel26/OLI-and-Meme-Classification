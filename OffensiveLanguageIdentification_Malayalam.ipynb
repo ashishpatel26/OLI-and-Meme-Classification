{
  "nbformat": 4,
  "nbformat_minor": 0,
  "metadata": {
    "colab": {
      "name": "OffensiveLanguageIdentification_Malayalam.ipynb",
      "provenance": []
    },
    "kernelspec": {
      "name": "python3",
      "display_name": "Python 3"
    },
    "accelerator": "GPU",
    "widgets": {
      "application/vnd.jupyter.widget-state+json": {
        "ed763b9e0fd7473ca3c3c02ccabb155b": {
          "model_module": "@jupyter-widgets/controls",
          "model_name": "HBoxModel",
          "state": {
            "_view_name": "HBoxView",
            "_dom_classes": [],
            "_model_name": "HBoxModel",
            "_view_module": "@jupyter-widgets/controls",
            "_model_module_version": "1.5.0",
            "_view_count": null,
            "_view_module_version": "1.5.0",
            "box_style": "",
            "layout": "IPY_MODEL_af6b675bedd149a59e49dee450272b99",
            "_model_module": "@jupyter-widgets/controls",
            "children": [
              "IPY_MODEL_1ca8239a9de64941a0d06b494704a13f",
              "IPY_MODEL_b0dcb123df0d4059a0f044c50618ce2b"
            ]
          }
        },
        "af6b675bedd149a59e49dee450272b99": {
          "model_module": "@jupyter-widgets/base",
          "model_name": "LayoutModel",
          "state": {
            "_view_name": "LayoutView",
            "grid_template_rows": null,
            "right": null,
            "justify_content": null,
            "_view_module": "@jupyter-widgets/base",
            "overflow": null,
            "_model_module_version": "1.2.0",
            "_view_count": null,
            "flex_flow": null,
            "width": null,
            "min_width": null,
            "border": null,
            "align_items": null,
            "bottom": null,
            "_model_module": "@jupyter-widgets/base",
            "top": null,
            "grid_column": null,
            "overflow_y": null,
            "overflow_x": null,
            "grid_auto_flow": null,
            "grid_area": null,
            "grid_template_columns": null,
            "flex": null,
            "_model_name": "LayoutModel",
            "justify_items": null,
            "grid_row": null,
            "max_height": null,
            "align_content": null,
            "visibility": null,
            "align_self": null,
            "height": null,
            "min_height": null,
            "padding": null,
            "grid_auto_rows": null,
            "grid_gap": null,
            "max_width": null,
            "order": null,
            "_view_module_version": "1.2.0",
            "grid_template_areas": null,
            "object_position": null,
            "object_fit": null,
            "grid_auto_columns": null,
            "margin": null,
            "display": null,
            "left": null
          }
        },
        "1ca8239a9de64941a0d06b494704a13f": {
          "model_module": "@jupyter-widgets/controls",
          "model_name": "FloatProgressModel",
          "state": {
            "_view_name": "ProgressView",
            "style": "IPY_MODEL_44646597125f44e685ad500a47d16cee",
            "_dom_classes": [],
            "description": "Downloading: 100%",
            "_model_name": "FloatProgressModel",
            "bar_style": "success",
            "max": 625,
            "_view_module": "@jupyter-widgets/controls",
            "_model_module_version": "1.5.0",
            "value": 625,
            "_view_count": null,
            "_view_module_version": "1.5.0",
            "orientation": "horizontal",
            "min": 0,
            "description_tooltip": null,
            "_model_module": "@jupyter-widgets/controls",
            "layout": "IPY_MODEL_c528c26b527a4531a5474e1bd9ad4e76"
          }
        },
        "b0dcb123df0d4059a0f044c50618ce2b": {
          "model_module": "@jupyter-widgets/controls",
          "model_name": "HTMLModel",
          "state": {
            "_view_name": "HTMLView",
            "style": "IPY_MODEL_6d6c21caf13948f3988fac3480f2d691",
            "_dom_classes": [],
            "description": "",
            "_model_name": "HTMLModel",
            "placeholder": "​",
            "_view_module": "@jupyter-widgets/controls",
            "_model_module_version": "1.5.0",
            "value": " 625/625 [00:00&lt;00:00, 14.3kB/s]",
            "_view_count": null,
            "_view_module_version": "1.5.0",
            "description_tooltip": null,
            "_model_module": "@jupyter-widgets/controls",
            "layout": "IPY_MODEL_5109992291e64a25b853fcc16884cd6f"
          }
        },
        "44646597125f44e685ad500a47d16cee": {
          "model_module": "@jupyter-widgets/controls",
          "model_name": "ProgressStyleModel",
          "state": {
            "_view_name": "StyleView",
            "_model_name": "ProgressStyleModel",
            "description_width": "initial",
            "_view_module": "@jupyter-widgets/base",
            "_model_module_version": "1.5.0",
            "_view_count": null,
            "_view_module_version": "1.2.0",
            "bar_color": null,
            "_model_module": "@jupyter-widgets/controls"
          }
        },
        "c528c26b527a4531a5474e1bd9ad4e76": {
          "model_module": "@jupyter-widgets/base",
          "model_name": "LayoutModel",
          "state": {
            "_view_name": "LayoutView",
            "grid_template_rows": null,
            "right": null,
            "justify_content": null,
            "_view_module": "@jupyter-widgets/base",
            "overflow": null,
            "_model_module_version": "1.2.0",
            "_view_count": null,
            "flex_flow": null,
            "width": null,
            "min_width": null,
            "border": null,
            "align_items": null,
            "bottom": null,
            "_model_module": "@jupyter-widgets/base",
            "top": null,
            "grid_column": null,
            "overflow_y": null,
            "overflow_x": null,
            "grid_auto_flow": null,
            "grid_area": null,
            "grid_template_columns": null,
            "flex": null,
            "_model_name": "LayoutModel",
            "justify_items": null,
            "grid_row": null,
            "max_height": null,
            "align_content": null,
            "visibility": null,
            "align_self": null,
            "height": null,
            "min_height": null,
            "padding": null,
            "grid_auto_rows": null,
            "grid_gap": null,
            "max_width": null,
            "order": null,
            "_view_module_version": "1.2.0",
            "grid_template_areas": null,
            "object_position": null,
            "object_fit": null,
            "grid_auto_columns": null,
            "margin": null,
            "display": null,
            "left": null
          }
        },
        "6d6c21caf13948f3988fac3480f2d691": {
          "model_module": "@jupyter-widgets/controls",
          "model_name": "DescriptionStyleModel",
          "state": {
            "_view_name": "StyleView",
            "_model_name": "DescriptionStyleModel",
            "description_width": "",
            "_view_module": "@jupyter-widgets/base",
            "_model_module_version": "1.5.0",
            "_view_count": null,
            "_view_module_version": "1.2.0",
            "_model_module": "@jupyter-widgets/controls"
          }
        },
        "5109992291e64a25b853fcc16884cd6f": {
          "model_module": "@jupyter-widgets/base",
          "model_name": "LayoutModel",
          "state": {
            "_view_name": "LayoutView",
            "grid_template_rows": null,
            "right": null,
            "justify_content": null,
            "_view_module": "@jupyter-widgets/base",
            "overflow": null,
            "_model_module_version": "1.2.0",
            "_view_count": null,
            "flex_flow": null,
            "width": null,
            "min_width": null,
            "border": null,
            "align_items": null,
            "bottom": null,
            "_model_module": "@jupyter-widgets/base",
            "top": null,
            "grid_column": null,
            "overflow_y": null,
            "overflow_x": null,
            "grid_auto_flow": null,
            "grid_area": null,
            "grid_template_columns": null,
            "flex": null,
            "_model_name": "LayoutModel",
            "justify_items": null,
            "grid_row": null,
            "max_height": null,
            "align_content": null,
            "visibility": null,
            "align_self": null,
            "height": null,
            "min_height": null,
            "padding": null,
            "grid_auto_rows": null,
            "grid_gap": null,
            "max_width": null,
            "order": null,
            "_view_module_version": "1.2.0",
            "grid_template_areas": null,
            "object_position": null,
            "object_fit": null,
            "grid_auto_columns": null,
            "margin": null,
            "display": null,
            "left": null
          }
        },
        "ba972032b817477a8fbe40569e8f7e8b": {
          "model_module": "@jupyter-widgets/controls",
          "model_name": "HBoxModel",
          "state": {
            "_view_name": "HBoxView",
            "_dom_classes": [],
            "_model_name": "HBoxModel",
            "_view_module": "@jupyter-widgets/controls",
            "_model_module_version": "1.5.0",
            "_view_count": null,
            "_view_module_version": "1.5.0",
            "box_style": "",
            "layout": "IPY_MODEL_03b6b8bed5304c3796736090bb76ad13",
            "_model_module": "@jupyter-widgets/controls",
            "children": [
              "IPY_MODEL_e5dbb4da7a3e4501993c3226ff307a80",
              "IPY_MODEL_339751c51a4d4a28a8df3389f2c0b679"
            ]
          }
        },
        "03b6b8bed5304c3796736090bb76ad13": {
          "model_module": "@jupyter-widgets/base",
          "model_name": "LayoutModel",
          "state": {
            "_view_name": "LayoutView",
            "grid_template_rows": null,
            "right": null,
            "justify_content": null,
            "_view_module": "@jupyter-widgets/base",
            "overflow": null,
            "_model_module_version": "1.2.0",
            "_view_count": null,
            "flex_flow": null,
            "width": null,
            "min_width": null,
            "border": null,
            "align_items": null,
            "bottom": null,
            "_model_module": "@jupyter-widgets/base",
            "top": null,
            "grid_column": null,
            "overflow_y": null,
            "overflow_x": null,
            "grid_auto_flow": null,
            "grid_area": null,
            "grid_template_columns": null,
            "flex": null,
            "_model_name": "LayoutModel",
            "justify_items": null,
            "grid_row": null,
            "max_height": null,
            "align_content": null,
            "visibility": null,
            "align_self": null,
            "height": null,
            "min_height": null,
            "padding": null,
            "grid_auto_rows": null,
            "grid_gap": null,
            "max_width": null,
            "order": null,
            "_view_module_version": "1.2.0",
            "grid_template_areas": null,
            "object_position": null,
            "object_fit": null,
            "grid_auto_columns": null,
            "margin": null,
            "display": null,
            "left": null
          }
        },
        "e5dbb4da7a3e4501993c3226ff307a80": {
          "model_module": "@jupyter-widgets/controls",
          "model_name": "FloatProgressModel",
          "state": {
            "_view_name": "ProgressView",
            "style": "IPY_MODEL_be49f1ffe797457885532e29eb7b2c9b",
            "_dom_classes": [],
            "description": "Downloading: 100%",
            "_model_name": "FloatProgressModel",
            "bar_style": "success",
            "max": 871891,
            "_view_module": "@jupyter-widgets/controls",
            "_model_module_version": "1.5.0",
            "value": 871891,
            "_view_count": null,
            "_view_module_version": "1.5.0",
            "orientation": "horizontal",
            "min": 0,
            "description_tooltip": null,
            "_model_module": "@jupyter-widgets/controls",
            "layout": "IPY_MODEL_b9dbb6f78b3c4d65b9e070220b230d2b"
          }
        },
        "339751c51a4d4a28a8df3389f2c0b679": {
          "model_module": "@jupyter-widgets/controls",
          "model_name": "HTMLModel",
          "state": {
            "_view_name": "HTMLView",
            "style": "IPY_MODEL_c4bf3c3ea53f4703a39984ff88bbcff2",
            "_dom_classes": [],
            "description": "",
            "_model_name": "HTMLModel",
            "placeholder": "​",
            "_view_module": "@jupyter-widgets/controls",
            "_model_module_version": "1.5.0",
            "value": " 872k/872k [00:03&lt;00:00, 253kB/s]",
            "_view_count": null,
            "_view_module_version": "1.5.0",
            "description_tooltip": null,
            "_model_module": "@jupyter-widgets/controls",
            "layout": "IPY_MODEL_5c79ef13435d4815bebf5d33af7a8bf5"
          }
        },
        "be49f1ffe797457885532e29eb7b2c9b": {
          "model_module": "@jupyter-widgets/controls",
          "model_name": "ProgressStyleModel",
          "state": {
            "_view_name": "StyleView",
            "_model_name": "ProgressStyleModel",
            "description_width": "initial",
            "_view_module": "@jupyter-widgets/base",
            "_model_module_version": "1.5.0",
            "_view_count": null,
            "_view_module_version": "1.2.0",
            "bar_color": null,
            "_model_module": "@jupyter-widgets/controls"
          }
        },
        "b9dbb6f78b3c4d65b9e070220b230d2b": {
          "model_module": "@jupyter-widgets/base",
          "model_name": "LayoutModel",
          "state": {
            "_view_name": "LayoutView",
            "grid_template_rows": null,
            "right": null,
            "justify_content": null,
            "_view_module": "@jupyter-widgets/base",
            "overflow": null,
            "_model_module_version": "1.2.0",
            "_view_count": null,
            "flex_flow": null,
            "width": null,
            "min_width": null,
            "border": null,
            "align_items": null,
            "bottom": null,
            "_model_module": "@jupyter-widgets/base",
            "top": null,
            "grid_column": null,
            "overflow_y": null,
            "overflow_x": null,
            "grid_auto_flow": null,
            "grid_area": null,
            "grid_template_columns": null,
            "flex": null,
            "_model_name": "LayoutModel",
            "justify_items": null,
            "grid_row": null,
            "max_height": null,
            "align_content": null,
            "visibility": null,
            "align_self": null,
            "height": null,
            "min_height": null,
            "padding": null,
            "grid_auto_rows": null,
            "grid_gap": null,
            "max_width": null,
            "order": null,
            "_view_module_version": "1.2.0",
            "grid_template_areas": null,
            "object_position": null,
            "object_fit": null,
            "grid_auto_columns": null,
            "margin": null,
            "display": null,
            "left": null
          }
        },
        "c4bf3c3ea53f4703a39984ff88bbcff2": {
          "model_module": "@jupyter-widgets/controls",
          "model_name": "DescriptionStyleModel",
          "state": {
            "_view_name": "StyleView",
            "_model_name": "DescriptionStyleModel",
            "description_width": "",
            "_view_module": "@jupyter-widgets/base",
            "_model_module_version": "1.5.0",
            "_view_count": null,
            "_view_module_version": "1.2.0",
            "_model_module": "@jupyter-widgets/controls"
          }
        },
        "5c79ef13435d4815bebf5d33af7a8bf5": {
          "model_module": "@jupyter-widgets/base",
          "model_name": "LayoutModel",
          "state": {
            "_view_name": "LayoutView",
            "grid_template_rows": null,
            "right": null,
            "justify_content": null,
            "_view_module": "@jupyter-widgets/base",
            "overflow": null,
            "_model_module_version": "1.2.0",
            "_view_count": null,
            "flex_flow": null,
            "width": null,
            "min_width": null,
            "border": null,
            "align_items": null,
            "bottom": null,
            "_model_module": "@jupyter-widgets/base",
            "top": null,
            "grid_column": null,
            "overflow_y": null,
            "overflow_x": null,
            "grid_auto_flow": null,
            "grid_area": null,
            "grid_template_columns": null,
            "flex": null,
            "_model_name": "LayoutModel",
            "justify_items": null,
            "grid_row": null,
            "max_height": null,
            "align_content": null,
            "visibility": null,
            "align_self": null,
            "height": null,
            "min_height": null,
            "padding": null,
            "grid_auto_rows": null,
            "grid_gap": null,
            "max_width": null,
            "order": null,
            "_view_module_version": "1.2.0",
            "grid_template_areas": null,
            "object_position": null,
            "object_fit": null,
            "grid_auto_columns": null,
            "margin": null,
            "display": null,
            "left": null
          }
        },
        "94471ea984d4475db4c6b864da339bf3": {
          "model_module": "@jupyter-widgets/controls",
          "model_name": "HBoxModel",
          "state": {
            "_view_name": "HBoxView",
            "_dom_classes": [],
            "_model_name": "HBoxModel",
            "_view_module": "@jupyter-widgets/controls",
            "_model_module_version": "1.5.0",
            "_view_count": null,
            "_view_module_version": "1.5.0",
            "box_style": "",
            "layout": "IPY_MODEL_67e369e8fe1e48daa347d7e34ded1b37",
            "_model_module": "@jupyter-widgets/controls",
            "children": [
              "IPY_MODEL_7f45f04fc9ea46fb96cb22b05638eefa",
              "IPY_MODEL_59a99df31ba7489e901c39f04263b03b"
            ]
          }
        },
        "67e369e8fe1e48daa347d7e34ded1b37": {
          "model_module": "@jupyter-widgets/base",
          "model_name": "LayoutModel",
          "state": {
            "_view_name": "LayoutView",
            "grid_template_rows": null,
            "right": null,
            "justify_content": null,
            "_view_module": "@jupyter-widgets/base",
            "overflow": null,
            "_model_module_version": "1.2.0",
            "_view_count": null,
            "flex_flow": null,
            "width": null,
            "min_width": null,
            "border": null,
            "align_items": null,
            "bottom": null,
            "_model_module": "@jupyter-widgets/base",
            "top": null,
            "grid_column": null,
            "overflow_y": null,
            "overflow_x": null,
            "grid_auto_flow": null,
            "grid_area": null,
            "grid_template_columns": null,
            "flex": null,
            "_model_name": "LayoutModel",
            "justify_items": null,
            "grid_row": null,
            "max_height": null,
            "align_content": null,
            "visibility": null,
            "align_self": null,
            "height": null,
            "min_height": null,
            "padding": null,
            "grid_auto_rows": null,
            "grid_gap": null,
            "max_width": null,
            "order": null,
            "_view_module_version": "1.2.0",
            "grid_template_areas": null,
            "object_position": null,
            "object_fit": null,
            "grid_auto_columns": null,
            "margin": null,
            "display": null,
            "left": null
          }
        },
        "7f45f04fc9ea46fb96cb22b05638eefa": {
          "model_module": "@jupyter-widgets/controls",
          "model_name": "FloatProgressModel",
          "state": {
            "_view_name": "ProgressView",
            "style": "IPY_MODEL_647c9f5e3aa342d1bd965cc7ad96d33b",
            "_dom_classes": [],
            "description": "Downloading: 100%",
            "_model_name": "FloatProgressModel",
            "bar_style": "success",
            "max": 1715180,
            "_view_module": "@jupyter-widgets/controls",
            "_model_module_version": "1.5.0",
            "value": 1715180,
            "_view_count": null,
            "_view_module_version": "1.5.0",
            "orientation": "horizontal",
            "min": 0,
            "description_tooltip": null,
            "_model_module": "@jupyter-widgets/controls",
            "layout": "IPY_MODEL_647b77283b5040ef8140b08f64ac585d"
          }
        },
        "59a99df31ba7489e901c39f04263b03b": {
          "model_module": "@jupyter-widgets/controls",
          "model_name": "HTMLModel",
          "state": {
            "_view_name": "HTMLView",
            "style": "IPY_MODEL_1b6842c1c038466b84cda61bc3db94cc",
            "_dom_classes": [],
            "description": "",
            "_model_name": "HTMLModel",
            "placeholder": "​",
            "_view_module": "@jupyter-widgets/controls",
            "_model_module_version": "1.5.0",
            "value": " 1.72M/1.72M [00:02&lt;00:00, 656kB/s]",
            "_view_count": null,
            "_view_module_version": "1.5.0",
            "description_tooltip": null,
            "_model_module": "@jupyter-widgets/controls",
            "layout": "IPY_MODEL_7d434d9490be4b429d33452246c64a62"
          }
        },
        "647c9f5e3aa342d1bd965cc7ad96d33b": {
          "model_module": "@jupyter-widgets/controls",
          "model_name": "ProgressStyleModel",
          "state": {
            "_view_name": "StyleView",
            "_model_name": "ProgressStyleModel",
            "description_width": "initial",
            "_view_module": "@jupyter-widgets/base",
            "_model_module_version": "1.5.0",
            "_view_count": null,
            "_view_module_version": "1.2.0",
            "bar_color": null,
            "_model_module": "@jupyter-widgets/controls"
          }
        },
        "647b77283b5040ef8140b08f64ac585d": {
          "model_module": "@jupyter-widgets/base",
          "model_name": "LayoutModel",
          "state": {
            "_view_name": "LayoutView",
            "grid_template_rows": null,
            "right": null,
            "justify_content": null,
            "_view_module": "@jupyter-widgets/base",
            "overflow": null,
            "_model_module_version": "1.2.0",
            "_view_count": null,
            "flex_flow": null,
            "width": null,
            "min_width": null,
            "border": null,
            "align_items": null,
            "bottom": null,
            "_model_module": "@jupyter-widgets/base",
            "top": null,
            "grid_column": null,
            "overflow_y": null,
            "overflow_x": null,
            "grid_auto_flow": null,
            "grid_area": null,
            "grid_template_columns": null,
            "flex": null,
            "_model_name": "LayoutModel",
            "justify_items": null,
            "grid_row": null,
            "max_height": null,
            "align_content": null,
            "visibility": null,
            "align_self": null,
            "height": null,
            "min_height": null,
            "padding": null,
            "grid_auto_rows": null,
            "grid_gap": null,
            "max_width": null,
            "order": null,
            "_view_module_version": "1.2.0",
            "grid_template_areas": null,
            "object_position": null,
            "object_fit": null,
            "grid_auto_columns": null,
            "margin": null,
            "display": null,
            "left": null
          }
        },
        "1b6842c1c038466b84cda61bc3db94cc": {
          "model_module": "@jupyter-widgets/controls",
          "model_name": "DescriptionStyleModel",
          "state": {
            "_view_name": "StyleView",
            "_model_name": "DescriptionStyleModel",
            "description_width": "",
            "_view_module": "@jupyter-widgets/base",
            "_model_module_version": "1.5.0",
            "_view_count": null,
            "_view_module_version": "1.2.0",
            "_model_module": "@jupyter-widgets/controls"
          }
        },
        "7d434d9490be4b429d33452246c64a62": {
          "model_module": "@jupyter-widgets/base",
          "model_name": "LayoutModel",
          "state": {
            "_view_name": "LayoutView",
            "grid_template_rows": null,
            "right": null,
            "justify_content": null,
            "_view_module": "@jupyter-widgets/base",
            "overflow": null,
            "_model_module_version": "1.2.0",
            "_view_count": null,
            "flex_flow": null,
            "width": null,
            "min_width": null,
            "border": null,
            "align_items": null,
            "bottom": null,
            "_model_module": "@jupyter-widgets/base",
            "top": null,
            "grid_column": null,
            "overflow_y": null,
            "overflow_x": null,
            "grid_auto_flow": null,
            "grid_area": null,
            "grid_template_columns": null,
            "flex": null,
            "_model_name": "LayoutModel",
            "justify_items": null,
            "grid_row": null,
            "max_height": null,
            "align_content": null,
            "visibility": null,
            "align_self": null,
            "height": null,
            "min_height": null,
            "padding": null,
            "grid_auto_rows": null,
            "grid_gap": null,
            "max_width": null,
            "order": null,
            "_view_module_version": "1.2.0",
            "grid_template_areas": null,
            "object_position": null,
            "object_fit": null,
            "grid_auto_columns": null,
            "margin": null,
            "display": null,
            "left": null
          }
        },
        "f9178348e71b4ca8b800414bd8976a7f": {
          "model_module": "@jupyter-widgets/controls",
          "model_name": "HBoxModel",
          "state": {
            "_view_name": "HBoxView",
            "_dom_classes": [],
            "_model_name": "HBoxModel",
            "_view_module": "@jupyter-widgets/controls",
            "_model_module_version": "1.5.0",
            "_view_count": null,
            "_view_module_version": "1.5.0",
            "box_style": "",
            "layout": "IPY_MODEL_3db18ed85cd3467c81043b7312de6b99",
            "_model_module": "@jupyter-widgets/controls",
            "children": [
              "IPY_MODEL_d34cdcfd2b5a47ee9603899a623af029",
              "IPY_MODEL_cd4478ed556b46e3a2930b6d287a87c9"
            ]
          }
        },
        "3db18ed85cd3467c81043b7312de6b99": {
          "model_module": "@jupyter-widgets/base",
          "model_name": "LayoutModel",
          "state": {
            "_view_name": "LayoutView",
            "grid_template_rows": null,
            "right": null,
            "justify_content": null,
            "_view_module": "@jupyter-widgets/base",
            "overflow": null,
            "_model_module_version": "1.2.0",
            "_view_count": null,
            "flex_flow": null,
            "width": null,
            "min_width": null,
            "border": null,
            "align_items": null,
            "bottom": null,
            "_model_module": "@jupyter-widgets/base",
            "top": null,
            "grid_column": null,
            "overflow_y": null,
            "overflow_x": null,
            "grid_auto_flow": null,
            "grid_area": null,
            "grid_template_columns": null,
            "flex": null,
            "_model_name": "LayoutModel",
            "justify_items": null,
            "grid_row": null,
            "max_height": null,
            "align_content": null,
            "visibility": null,
            "align_self": null,
            "height": null,
            "min_height": null,
            "padding": null,
            "grid_auto_rows": null,
            "grid_gap": null,
            "max_width": null,
            "order": null,
            "_view_module_version": "1.2.0",
            "grid_template_areas": null,
            "object_position": null,
            "object_fit": null,
            "grid_auto_columns": null,
            "margin": null,
            "display": null,
            "left": null
          }
        },
        "d34cdcfd2b5a47ee9603899a623af029": {
          "model_module": "@jupyter-widgets/controls",
          "model_name": "FloatProgressModel",
          "state": {
            "_view_name": "ProgressView",
            "style": "IPY_MODEL_ae9a7e7f23fe4f4db1a8024f45e8067d",
            "_dom_classes": [],
            "description": "Downloading: 100%",
            "_model_name": "FloatProgressModel",
            "bar_style": "success",
            "max": 672271273,
            "_view_module": "@jupyter-widgets/controls",
            "_model_module_version": "1.5.0",
            "value": 672271273,
            "_view_count": null,
            "_view_module_version": "1.5.0",
            "orientation": "horizontal",
            "min": 0,
            "description_tooltip": null,
            "_model_module": "@jupyter-widgets/controls",
            "layout": "IPY_MODEL_e5686e032a4045f88a30afb625d36bab"
          }
        },
        "cd4478ed556b46e3a2930b6d287a87c9": {
          "model_module": "@jupyter-widgets/controls",
          "model_name": "HTMLModel",
          "state": {
            "_view_name": "HTMLView",
            "style": "IPY_MODEL_44bb96285f9e46b7b8ff6a400fde252c",
            "_dom_classes": [],
            "description": "",
            "_model_name": "HTMLModel",
            "placeholder": "​",
            "_view_module": "@jupyter-widgets/controls",
            "_model_module_version": "1.5.0",
            "value": " 672M/672M [00:16&lt;00:00, 40.8MB/s]",
            "_view_count": null,
            "_view_module_version": "1.5.0",
            "description_tooltip": null,
            "_model_module": "@jupyter-widgets/controls",
            "layout": "IPY_MODEL_7ea5f17132cb4cc89e74ea1a7f31fa1a"
          }
        },
        "ae9a7e7f23fe4f4db1a8024f45e8067d": {
          "model_module": "@jupyter-widgets/controls",
          "model_name": "ProgressStyleModel",
          "state": {
            "_view_name": "StyleView",
            "_model_name": "ProgressStyleModel",
            "description_width": "initial",
            "_view_module": "@jupyter-widgets/base",
            "_model_module_version": "1.5.0",
            "_view_count": null,
            "_view_module_version": "1.2.0",
            "bar_color": null,
            "_model_module": "@jupyter-widgets/controls"
          }
        },
        "e5686e032a4045f88a30afb625d36bab": {
          "model_module": "@jupyter-widgets/base",
          "model_name": "LayoutModel",
          "state": {
            "_view_name": "LayoutView",
            "grid_template_rows": null,
            "right": null,
            "justify_content": null,
            "_view_module": "@jupyter-widgets/base",
            "overflow": null,
            "_model_module_version": "1.2.0",
            "_view_count": null,
            "flex_flow": null,
            "width": null,
            "min_width": null,
            "border": null,
            "align_items": null,
            "bottom": null,
            "_model_module": "@jupyter-widgets/base",
            "top": null,
            "grid_column": null,
            "overflow_y": null,
            "overflow_x": null,
            "grid_auto_flow": null,
            "grid_area": null,
            "grid_template_columns": null,
            "flex": null,
            "_model_name": "LayoutModel",
            "justify_items": null,
            "grid_row": null,
            "max_height": null,
            "align_content": null,
            "visibility": null,
            "align_self": null,
            "height": null,
            "min_height": null,
            "padding": null,
            "grid_auto_rows": null,
            "grid_gap": null,
            "max_width": null,
            "order": null,
            "_view_module_version": "1.2.0",
            "grid_template_areas": null,
            "object_position": null,
            "object_fit": null,
            "grid_auto_columns": null,
            "margin": null,
            "display": null,
            "left": null
          }
        },
        "44bb96285f9e46b7b8ff6a400fde252c": {
          "model_module": "@jupyter-widgets/controls",
          "model_name": "DescriptionStyleModel",
          "state": {
            "_view_name": "StyleView",
            "_model_name": "DescriptionStyleModel",
            "description_width": "",
            "_view_module": "@jupyter-widgets/base",
            "_model_module_version": "1.5.0",
            "_view_count": null,
            "_view_module_version": "1.2.0",
            "_model_module": "@jupyter-widgets/controls"
          }
        },
        "7ea5f17132cb4cc89e74ea1a7f31fa1a": {
          "model_module": "@jupyter-widgets/base",
          "model_name": "LayoutModel",
          "state": {
            "_view_name": "LayoutView",
            "grid_template_rows": null,
            "right": null,
            "justify_content": null,
            "_view_module": "@jupyter-widgets/base",
            "overflow": null,
            "_model_module_version": "1.2.0",
            "_view_count": null,
            "flex_flow": null,
            "width": null,
            "min_width": null,
            "border": null,
            "align_items": null,
            "bottom": null,
            "_model_module": "@jupyter-widgets/base",
            "top": null,
            "grid_column": null,
            "overflow_y": null,
            "overflow_x": null,
            "grid_auto_flow": null,
            "grid_area": null,
            "grid_template_columns": null,
            "flex": null,
            "_model_name": "LayoutModel",
            "justify_items": null,
            "grid_row": null,
            "max_height": null,
            "align_content": null,
            "visibility": null,
            "align_self": null,
            "height": null,
            "min_height": null,
            "padding": null,
            "grid_auto_rows": null,
            "grid_gap": null,
            "max_width": null,
            "order": null,
            "_view_module_version": "1.2.0",
            "grid_template_areas": null,
            "object_position": null,
            "object_fit": null,
            "grid_auto_columns": null,
            "margin": null,
            "display": null,
            "left": null
          }
        }
      }
    }
  },
  "cells": [
    {
      "cell_type": "markdown",
      "metadata": {
        "id": "elqe9PQrVH6P"
      },
      "source": [
        "### Peforming checks for the resources available"
      ]
    },
    {
      "cell_type": "code",
      "metadata": {
        "colab": {
          "base_uri": "https://localhost:8080/"
        },
        "id": "Jf_G8OH6auyS",
        "outputId": "2af9bae5-7516-46f6-f28b-a1a5753c0242"
      },
      "source": [
        "import tensorflow as tf\r\n",
        "\r\n",
        "# Get the GPU device name.\r\n",
        "device_name = tf.test.gpu_device_name()\r\n",
        "\r\n",
        "# The device name should look like the following:\r\n",
        "if device_name == '/device:GPU:0':\r\n",
        "    print('Found GPU at: {}'.format(device_name))\r\n",
        "else:\r\n",
        "    raise SystemError('GPU device not found')"
      ],
      "execution_count": 1,
      "outputs": [
        {
          "output_type": "stream",
          "text": [
            "Found GPU at: /device:GPU:0\n"
          ],
          "name": "stdout"
        }
      ]
    },
    {
      "cell_type": "code",
      "metadata": {
        "colab": {
          "base_uri": "https://localhost:8080/"
        },
        "id": "fSELLChxa5su",
        "outputId": "af067c8b-25e1-4a5c-f0d7-702b746b5354"
      },
      "source": [
        "import torch\r\n",
        "\r\n",
        "# If there's a GPU available...\r\n",
        "if torch.cuda.is_available():    \r\n",
        "\r\n",
        "    # Tell PyTorch to use the GPU.    \r\n",
        "    device = torch.device(\"cuda\")\r\n",
        "\r\n",
        "    print('There are %d GPU(s) available.' % torch.cuda.device_count())\r\n",
        "\r\n",
        "    print('We will use the GPU:', torch.cuda.get_device_name(0))\r\n",
        "\r\n",
        "# If not...\r\n",
        "else:\r\n",
        "    print('No GPU available, using the CPU instead.')\r\n",
        "    device = torch.device(\"cpu\")"
      ],
      "execution_count": 2,
      "outputs": [
        {
          "output_type": "stream",
          "text": [
            "There are 1 GPU(s) available.\n",
            "We will use the GPU: Tesla T4\n"
          ],
          "name": "stdout"
        }
      ]
    },
    {
      "cell_type": "markdown",
      "metadata": {
        "id": "K-gbOgflVRxg"
      },
      "source": [
        "### Installing huggingface transformers library"
      ]
    },
    {
      "cell_type": "code",
      "metadata": {
        "colab": {
          "base_uri": "https://localhost:8080/"
        },
        "id": "DbDuxKy0a9Zl",
        "outputId": "04b0ad3e-0c2d-415c-f895-327ead097170"
      },
      "source": [
        "!pip install transformers"
      ],
      "execution_count": 3,
      "outputs": [
        {
          "output_type": "stream",
          "text": [
            "Collecting transformers\n",
            "\u001b[?25l  Downloading https://files.pythonhosted.org/packages/50/0c/7d5950fcd80b029be0a8891727ba21e0cd27692c407c51261c3c921f6da3/transformers-4.1.1-py3-none-any.whl (1.5MB)\n",
            "\u001b[K     |████████████████████████████████| 1.5MB 9.8MB/s \n",
            "\u001b[?25hRequirement already satisfied: packaging in /usr/local/lib/python3.6/dist-packages (from transformers) (20.8)\n",
            "Collecting sacremoses\n",
            "\u001b[?25l  Downloading https://files.pythonhosted.org/packages/7d/34/09d19aff26edcc8eb2a01bed8e98f13a1537005d31e95233fd48216eed10/sacremoses-0.0.43.tar.gz (883kB)\n",
            "\u001b[K     |████████████████████████████████| 890kB 31.3MB/s \n",
            "\u001b[?25hRequirement already satisfied: numpy in /usr/local/lib/python3.6/dist-packages (from transformers) (1.19.4)\n",
            "Requirement already satisfied: dataclasses; python_version < \"3.7\" in /usr/local/lib/python3.6/dist-packages (from transformers) (0.8)\n",
            "Requirement already satisfied: filelock in /usr/local/lib/python3.6/dist-packages (from transformers) (3.0.12)\n",
            "Requirement already satisfied: tqdm>=4.27 in /usr/local/lib/python3.6/dist-packages (from transformers) (4.41.1)\n",
            "Collecting tokenizers==0.9.4\n",
            "\u001b[?25l  Downloading https://files.pythonhosted.org/packages/0f/1c/e789a8b12e28be5bc1ce2156cf87cb522b379be9cadc7ad8091a4cc107c4/tokenizers-0.9.4-cp36-cp36m-manylinux2010_x86_64.whl (2.9MB)\n",
            "\u001b[K     |████████████████████████████████| 2.9MB 48.7MB/s \n",
            "\u001b[?25hRequirement already satisfied: regex!=2019.12.17 in /usr/local/lib/python3.6/dist-packages (from transformers) (2019.12.20)\n",
            "Requirement already satisfied: requests in /usr/local/lib/python3.6/dist-packages (from transformers) (2.23.0)\n",
            "Requirement already satisfied: pyparsing>=2.0.2 in /usr/local/lib/python3.6/dist-packages (from packaging->transformers) (2.4.7)\n",
            "Requirement already satisfied: six in /usr/local/lib/python3.6/dist-packages (from sacremoses->transformers) (1.15.0)\n",
            "Requirement already satisfied: click in /usr/local/lib/python3.6/dist-packages (from sacremoses->transformers) (7.1.2)\n",
            "Requirement already satisfied: joblib in /usr/local/lib/python3.6/dist-packages (from sacremoses->transformers) (1.0.0)\n",
            "Requirement already satisfied: certifi>=2017.4.17 in /usr/local/lib/python3.6/dist-packages (from requests->transformers) (2020.12.5)\n",
            "Requirement already satisfied: chardet<4,>=3.0.2 in /usr/local/lib/python3.6/dist-packages (from requests->transformers) (3.0.4)\n",
            "Requirement already satisfied: urllib3!=1.25.0,!=1.25.1,<1.26,>=1.21.1 in /usr/local/lib/python3.6/dist-packages (from requests->transformers) (1.24.3)\n",
            "Requirement already satisfied: idna<3,>=2.5 in /usr/local/lib/python3.6/dist-packages (from requests->transformers) (2.10)\n",
            "Building wheels for collected packages: sacremoses\n",
            "  Building wheel for sacremoses (setup.py) ... \u001b[?25l\u001b[?25hdone\n",
            "  Created wheel for sacremoses: filename=sacremoses-0.0.43-cp36-none-any.whl size=893261 sha256=e69fc9912262d1da03e66ee95cc13c599adf66400d4c7951f09aee5fa059a6c9\n",
            "  Stored in directory: /root/.cache/pip/wheels/29/3c/fd/7ce5c3f0666dab31a50123635e6fb5e19ceb42ce38d4e58f45\n",
            "Successfully built sacremoses\n",
            "Installing collected packages: sacremoses, tokenizers, transformers\n",
            "Successfully installed sacremoses-0.0.43 tokenizers-0.9.4 transformers-4.1.1\n"
          ],
          "name": "stdout"
        }
      ]
    },
    {
      "cell_type": "markdown",
      "metadata": {
        "id": "2v1AIN_OVX4t"
      },
      "source": [
        "### Importing drive into the colaboratory"
      ]
    },
    {
      "cell_type": "code",
      "metadata": {
        "colab": {
          "base_uri": "https://localhost:8080/"
        },
        "id": "Lofimyh2a_tp",
        "outputId": "13840aea-2e29-4177-f3ab-1cde1a193d77"
      },
      "source": [
        "from google.colab import drive \r\n",
        "drive.mount('/content/drive')"
      ],
      "execution_count": 4,
      "outputs": [
        {
          "output_type": "stream",
          "text": [
            "Mounted at /content/drive\n"
          ],
          "name": "stdout"
        }
      ]
    },
    {
      "cell_type": "markdown",
      "metadata": {
        "id": "yOK-M00dVeW2"
      },
      "source": [
        "### Importing dataset directories"
      ]
    },
    {
      "cell_type": "code",
      "metadata": {
        "id": "-y-JRPKBbCTv"
      },
      "source": [
        "from os import getcwd , listdir \r\n",
        "from os.path import join\r\n",
        "curr_dir = getcwd()\r\n",
        "drive_dir = join(curr_dir , 'drive','MyDrive')\r\n",
        "dataset_dir = join(drive_dir,'Codalab','Offensive Language Identification','Dataset')"
      ],
      "execution_count": 5,
      "outputs": []
    },
    {
      "cell_type": "code",
      "metadata": {
        "colab": {
          "base_uri": "https://localhost:8080/"
        },
        "id": "7YU1h8WhmqvK",
        "outputId": "2cc1e1e7-6a79-421d-fe67-c6fcd753692b"
      },
      "source": [
        "listdir(dataset_dir)"
      ],
      "execution_count": 6,
      "outputs": [
        {
          "output_type": "execute_result",
          "data": {
            "text/plain": [
              "['mal_full_offensive_train_corrected.csv',\n",
              " 'mal_full_offensive_dev_corrected.csv',\n",
              " 'kannada_offensive_dev_corrected.csv',\n",
              " 'kannada_offensive_train_corrected.csv',\n",
              " 'tamil_offensive_full_train_corrected.csv',\n",
              " 'tamil_offensive_full_dev_corrected.csv']"
            ]
          },
          "metadata": {
            "tags": []
          },
          "execution_count": 6
        }
      ]
    },
    {
      "cell_type": "markdown",
      "metadata": {
        "id": "FUPkZxjLVjLK"
      },
      "source": [
        "### Loading training data"
      ]
    },
    {
      "cell_type": "code",
      "metadata": {
        "colab": {
          "base_uri": "https://localhost:8080/",
          "height": 377
        },
        "id": "joone3H4bINR",
        "outputId": "1beaac67-f6c7-460a-d4b5-b5b37bdb90a7"
      },
      "source": [
        "import pandas as pd\r\n",
        "import numpy as np \r\n",
        "import random\r\n",
        "\r\n",
        "train_df_path = join(dataset_dir,'mal_full_offensive_train_corrected.csv')\r\n",
        "# Load the dataset into a pandas dataframe.\r\n",
        "df = pd.read_csv(train_df_path)\r\n",
        "\r\n",
        "# Report the number of sentences.\r\n",
        "print('Number of training sentences: {:,}\\n'.format(df.shape[0]))\r\n",
        "\r\n",
        "# Display 10 random rows from the data.\r\n",
        "df.sample(10)"
      ],
      "execution_count": 7,
      "outputs": [
        {
          "output_type": "stream",
          "text": [
            "Number of training sentences: 16,010\n",
            "\n"
          ],
          "name": "stdout"
        },
        {
          "output_type": "execute_result",
          "data": {
            "text/html": [
              "<div>\n",
              "<style scoped>\n",
              "    .dataframe tbody tr th:only-of-type {\n",
              "        vertical-align: middle;\n",
              "    }\n",
              "\n",
              "    .dataframe tbody tr th {\n",
              "        vertical-align: top;\n",
              "    }\n",
              "\n",
              "    .dataframe thead th {\n",
              "        text-align: right;\n",
              "    }\n",
              "</style>\n",
              "<table border=\"1\" class=\"dataframe\">\n",
              "  <thead>\n",
              "    <tr style=\"text-align: right;\">\n",
              "      <th></th>\n",
              "      <th>text</th>\n",
              "      <th>label</th>\n",
              "    </tr>\n",
              "  </thead>\n",
              "  <tbody>\n",
              "    <tr>\n",
              "      <th>2066</th>\n",
              "      <td>madura rajaku katta support njiangal lalettan ...</td>\n",
              "      <td>Not_offensive</td>\n",
              "    </tr>\n",
              "    <tr>\n",
              "      <th>10208</th>\n",
              "      <td>ഈ പുള്ളി ഷർട്ട് ഹിറ്റ് ആവും എന്നു തോന്നുന്നവർ ...</td>\n",
              "      <td>Not_offensive</td>\n",
              "    </tr>\n",
              "    <tr>\n",
              "      <th>14065</th>\n",
              "      <td>Evideo oru Hollywood story varunnilleee. Oru DBT.</td>\n",
              "      <td>Not_offensive</td>\n",
              "    </tr>\n",
              "    <tr>\n",
              "      <th>2325</th>\n",
              "      <td>Maarakam. Teaser kandappo njn onn pedichu. Ipp...</td>\n",
              "      <td>Not_offensive</td>\n",
              "    </tr>\n",
              "    <tr>\n",
              "      <th>3062</th>\n",
              "      <td>Madhuraraja 🥰 stylish most handsome mammookka</td>\n",
              "      <td>not-malayalam</td>\n",
              "    </tr>\n",
              "    <tr>\n",
              "      <th>9293</th>\n",
              "      <td>Starting BGM pwoliiiii onnum parayan ellaaaaa</td>\n",
              "      <td>Not_offensive</td>\n",
              "    </tr>\n",
              "    <tr>\n",
              "      <th>10330</th>\n",
              "      <td>Last climaxil oru dialogue und ... baseere...n...</td>\n",
              "      <td>Not_offensive</td>\n",
              "    </tr>\n",
              "    <tr>\n",
              "      <th>10249</th>\n",
              "      <td>1: 36 il prithviraj alle iruttil nilkkunnethu....</td>\n",
              "      <td>Not_offensive</td>\n",
              "    </tr>\n",
              "    <tr>\n",
              "      <th>497</th>\n",
              "      <td>Wait  cheithu  maduthu  ennirangum  padam  ??</td>\n",
              "      <td>Not_offensive</td>\n",
              "    </tr>\n",
              "    <tr>\n",
              "      <th>3012</th>\n",
              "      <td>Lallettaaa polichhuu uff ejjaadi look trailer ...</td>\n",
              "      <td>Not_offensive</td>\n",
              "    </tr>\n",
              "  </tbody>\n",
              "</table>\n",
              "</div>"
            ],
            "text/plain": [
              "                                                    text          label\n",
              "2066   madura rajaku katta support njiangal lalettan ...  Not_offensive\n",
              "10208  ഈ പുള്ളി ഷർട്ട് ഹിറ്റ് ആവും എന്നു തോന്നുന്നവർ ...  Not_offensive\n",
              "14065  Evideo oru Hollywood story varunnilleee. Oru DBT.  Not_offensive\n",
              "2325   Maarakam. Teaser kandappo njn onn pedichu. Ipp...  Not_offensive\n",
              "3062       Madhuraraja 🥰 stylish most handsome mammookka  not-malayalam\n",
              "9293       Starting BGM pwoliiiii onnum parayan ellaaaaa  Not_offensive\n",
              "10330  Last climaxil oru dialogue und ... baseere...n...  Not_offensive\n",
              "10249  1: 36 il prithviraj alle iruttil nilkkunnethu....  Not_offensive\n",
              "497        Wait  cheithu  maduthu  ennirangum  padam  ??  Not_offensive\n",
              "3012   Lallettaaa polichhuu uff ejjaadi look trailer ...  Not_offensive"
            ]
          },
          "metadata": {
            "tags": []
          },
          "execution_count": 7
        }
      ]
    },
    {
      "cell_type": "code",
      "metadata": {
        "colab": {
          "base_uri": "https://localhost:8080/"
        },
        "id": "w4VW351225YK",
        "outputId": "9adaa789-6f00-4760-dbcc-7b1d9b224986"
      },
      "source": [
        "df['label'].value_counts()"
      ],
      "execution_count": 8,
      "outputs": [
        {
          "output_type": "execute_result",
          "data": {
            "text/plain": [
              "Not_offensive                           14153\n",
              "not-malayalam                            1287\n",
              "Offensive_Targeted_Insult_Individual      239\n",
              "Offensive_Untargetede                     191\n",
              "Offensive_Targeted_Insult_Group           140\n",
              "Name: label, dtype: int64"
            ]
          },
          "metadata": {
            "tags": []
          },
          "execution_count": 8
        }
      ]
    },
    {
      "cell_type": "code",
      "metadata": {
        "id": "ooOv9QZtnLIF"
      },
      "source": [
        "from sklearn.preprocessing import LabelEncoder\r\n",
        "le = LabelEncoder()\r\n",
        "df['label'] = le.fit_transform(df['label'])"
      ],
      "execution_count": 9,
      "outputs": []
    },
    {
      "cell_type": "code",
      "metadata": {
        "colab": {
          "base_uri": "https://localhost:8080/"
        },
        "id": "a89Bf4LpnigU",
        "outputId": "8584a4d5-7093-4ce1-97e3-887348dcfc9f"
      },
      "source": [
        "df['label'].value_counts()"
      ],
      "execution_count": 10,
      "outputs": [
        {
          "output_type": "execute_result",
          "data": {
            "text/plain": [
              "0    14153\n",
              "4     1287\n",
              "2      239\n",
              "3      191\n",
              "1      140\n",
              "Name: label, dtype: int64"
            ]
          },
          "metadata": {
            "tags": []
          },
          "execution_count": 10
        }
      ]
    },
    {
      "cell_type": "markdown",
      "metadata": {
        "id": "bvNeR4lTVnK0"
      },
      "source": [
        "### Loading `train_sentences` and `train_labels`"
      ]
    },
    {
      "cell_type": "code",
      "metadata": {
        "id": "EufQZx2dbKMT"
      },
      "source": [
        "# Get the lists of sentences and their labels.\r\n",
        "train_sentences = df['text'].values\r\n",
        "train_labels = df['label'].values"
      ],
      "execution_count": 11,
      "outputs": []
    },
    {
      "cell_type": "markdown",
      "metadata": {
        "id": "fS2UcOiEVuhm"
      },
      "source": [
        "### Handling class imbalance using `sklearn's comput_class_weight`"
      ]
    },
    {
      "cell_type": "code",
      "metadata": {
        "colab": {
          "base_uri": "https://localhost:8080/"
        },
        "id": "WL4tP_YkI1mY",
        "outputId": "26afa715-9ee6-45dd-c310-c54de3e7f8b1"
      },
      "source": [
        "from sklearn.utils.class_weight import compute_class_weight\r\n",
        "\r\n",
        "#compute the class weights\r\n",
        "class_wts = compute_class_weight('balanced', np.unique(train_labels), train_labels)\r\n",
        "\r\n",
        "print(class_wts)"
      ],
      "execution_count": 12,
      "outputs": [
        {
          "output_type": "stream",
          "text": [
            "[ 0.22624179 22.87142857 13.39748954 16.76439791  2.48795649]\n"
          ],
          "name": "stdout"
        }
      ]
    },
    {
      "cell_type": "markdown",
      "metadata": {
        "id": "z_WjMTuibsrf"
      },
      "source": [
        "### Helper Functions"
      ]
    },
    {
      "cell_type": "markdown",
      "metadata": {
        "id": "Bef28eHNV-_d"
      },
      "source": [
        "#### 1) Update Interval Function"
      ]
    },
    {
      "cell_type": "code",
      "metadata": {
        "id": "lBK0ujfEbMir"
      },
      "source": [
        "def good_update_interval(total_iters, num_desired_updates):\r\n",
        "    '''\r\n",
        "    This function will try to pick an intelligent progress update interval \r\n",
        "    based on the magnitude of the total iterations.\r\n",
        "\r\n",
        "    Parameters:\r\n",
        "      `total_iters` - The number of iterations in the for-loop.\r\n",
        "      `num_desired_updates` - How many times we want to see an update over the \r\n",
        "                              course of the for-loop.\r\n",
        "    '''\r\n",
        "    # Divide the total iterations by the desired number of updates. Most likely\r\n",
        "    # this will be some ugly number.\r\n",
        "    exact_interval = total_iters / num_desired_updates\r\n",
        "\r\n",
        "    # The `round` function has the ability to round down a number to, e.g., the\r\n",
        "    # nearest thousandth: round(exact_interval, -3)\r\n",
        "    #\r\n",
        "    # To determine the magnitude to round to, find the magnitude of the total,\r\n",
        "    # and then go one magnitude below that.\r\n",
        "\r\n",
        "    # Get the order of magnitude of the total.\r\n",
        "    order_of_mag = len(str(total_iters)) - 1\r\n",
        "\r\n",
        "    # Our update interval should be rounded to an order of magnitude smaller. \r\n",
        "    round_mag = order_of_mag - 1\r\n",
        "\r\n",
        "    # Round down and cast to an int.\r\n",
        "    update_interval = int(round(exact_interval, -round_mag))\r\n",
        "\r\n",
        "    # Don't allow the interval to be zero!\r\n",
        "    if update_interval == 0:\r\n",
        "        update_interval = 1\r\n",
        "\r\n",
        "    return update_interval"
      ],
      "execution_count": 13,
      "outputs": []
    },
    {
      "cell_type": "markdown",
      "metadata": {
        "id": "eMGycwGAWFyO"
      },
      "source": [
        "#### 2) Format time function"
      ]
    },
    {
      "cell_type": "code",
      "metadata": {
        "id": "c9zVyNQLm-3q"
      },
      "source": [
        "import time\r\n",
        "import datetime\r\n",
        "\r\n",
        "def format_time(elapsed):\r\n",
        "    '''\r\n",
        "    Takes a time in seconds and returns a string hh:mm:ss\r\n",
        "    '''\r\n",
        "    # Round to the nearest second.\r\n",
        "    elapsed_rounded = int(round((elapsed)))\r\n",
        "    \r\n",
        "    # Format as hh:mm:ss\r\n",
        "    return str(datetime.timedelta(seconds=elapsed_rounded))\r\n"
      ],
      "execution_count": 14,
      "outputs": []
    },
    {
      "cell_type": "markdown",
      "metadata": {
        "id": "EBAo04ENWw3n"
      },
      "source": [
        "#### 3) Make Smart Batches function"
      ]
    },
    {
      "cell_type": "code",
      "metadata": {
        "id": "nof-AUeoiZc2"
      },
      "source": [
        "def make_smart_batches(text_samples, labels, batch_size,tokenizer,max_input_length):\r\n",
        "    '''\r\n",
        "    This function combines all of the required steps to prepare batches.\r\n",
        "    '''\r\n",
        "\r\n",
        "    print('Creating Smart Batches from {:,} examples with batch size {:,}...\\n'.format(len(text_samples), batch_size))\r\n",
        "\r\n",
        "    # =========================\r\n",
        "    #   Tokenize & Truncate\r\n",
        "    # =========================\r\n",
        "\r\n",
        "    full_input_ids = []\r\n",
        "\r\n",
        "    # Tokenize all training examples\r\n",
        "    print('Tokenizing {:,} samples...'.format(len(labels)))\r\n",
        "\r\n",
        "    # Choose an interval on which to print progress updates.\r\n",
        "    update_interval = good_update_interval(total_iters=len(labels), num_desired_updates=10)\r\n",
        "\r\n",
        "    # For each training example...\r\n",
        "    for text in text_samples:\r\n",
        "        \r\n",
        "        # Report progress.\r\n",
        "        if ((len(full_input_ids) % update_interval) == 0):\r\n",
        "            print('  Tokenized {:,} samples.'.format(len(full_input_ids)))\r\n",
        "\r\n",
        "        # Tokenize the sample.\r\n",
        "        input_ids = tokenizer.encode(text=text,              # Text to encode.\r\n",
        "                                    add_special_tokens=True, # Do add specials.\r\n",
        "                                    max_length=max_input_length,      \r\n",
        "                                    truncation=True,         # Do Truncate!\r\n",
        "                                    padding=False)           # DO NOT pad.\r\n",
        "                                    \r\n",
        "        # Add the tokenized result to our list.\r\n",
        "        full_input_ids.append(input_ids)\r\n",
        "        \r\n",
        "    print('DONE.')\r\n",
        "    print('{:>10,} samples\\n'.format(len(full_input_ids)))\r\n",
        "\r\n",
        "    # =========================\r\n",
        "    #      Select Batches\r\n",
        "    # =========================    \r\n",
        "\r\n",
        "    # Sort the two lists together by the length of the input sequence.\r\n",
        "    samples = sorted(zip(full_input_ids, labels), key=lambda x: len(x[0]))\r\n",
        "\r\n",
        "    print('{:>10,} samples after sorting\\n'.format(len(samples)))\r\n",
        "\r\n",
        "    import random\r\n",
        "\r\n",
        "    # List of batches that we'll construct.\r\n",
        "    batch_ordered_sentences = []\r\n",
        "    batch_ordered_labels = []\r\n",
        "\r\n",
        "    print('Creating batches of size {:}...'.format(batch_size))\r\n",
        "\r\n",
        "    # Choose an interval on which to print progress updates.\r\n",
        "    update_interval = good_update_interval(total_iters=len(samples), num_desired_updates=10)\r\n",
        "    \r\n",
        "    # Loop over all of the input samples...    \r\n",
        "    while len(samples) > 0:\r\n",
        "        \r\n",
        "        # Report progress.\r\n",
        "        if ((len(batch_ordered_sentences) % update_interval) == 0 \\\r\n",
        "            and not len(batch_ordered_sentences) == 0):\r\n",
        "            print('  Selected {:,} batches.'.format(len(batch_ordered_sentences)))\r\n",
        "\r\n",
        "        # `to_take` is our actual batch size. It will be `batch_size` until \r\n",
        "        # we get to the last batch, which may be smaller. \r\n",
        "        to_take = min(batch_size, len(samples))\r\n",
        "\r\n",
        "        # Pick a random index in the list of remaining samples to start\r\n",
        "        # our batch at.\r\n",
        "        select = random.randint(0, len(samples) - to_take)\r\n",
        "\r\n",
        "        # Select a contiguous batch of samples starting at `select`.\r\n",
        "        #print(\"Selecting batch from {:} to {:}\".format(select, select+to_take))\r\n",
        "        batch = samples[select:(select + to_take)]\r\n",
        "\r\n",
        "        #print(\"Batch length:\", len(batch))\r\n",
        "\r\n",
        "        # Each sample is a tuple--split them apart to create a separate list of \r\n",
        "        # sequences and a list of labels for this batch.\r\n",
        "        batch_ordered_sentences.append([s[0] for s in batch])\r\n",
        "        batch_ordered_labels.append([s[1] for s in batch])\r\n",
        "\r\n",
        "        # Remove these samples from the list.\r\n",
        "        del samples[select:select + to_take]\r\n",
        "\r\n",
        "    print('\\n  DONE - Selected {:,} batches.\\n'.format(len(batch_ordered_sentences)))\r\n",
        "\r\n",
        "    # =========================\r\n",
        "    #        Add Padding\r\n",
        "    # =========================    \r\n",
        "\r\n",
        "    print('Padding out sequences within each batch...')\r\n",
        "\r\n",
        "    py_inputs = []\r\n",
        "    py_attn_masks = []\r\n",
        "    py_labels = []\r\n",
        "\r\n",
        "    # For each batch...\r\n",
        "    for (batch_inputs, batch_labels) in zip(batch_ordered_sentences, batch_ordered_labels):\r\n",
        "\r\n",
        "        # New version of the batch, this time with padded sequences and now with\r\n",
        "        # attention masks defined.\r\n",
        "        batch_padded_inputs = []\r\n",
        "        batch_attn_masks = []\r\n",
        "        \r\n",
        "        # First, find the longest sample in the batch. \r\n",
        "        # Note that the sequences do currently include the special tokens!\r\n",
        "        max_size = max([len(sen) for sen in batch_inputs])\r\n",
        "\r\n",
        "        # For each input in this batch...\r\n",
        "        for sen in batch_inputs:\r\n",
        "            \r\n",
        "            # How many pad tokens do we need to add?\r\n",
        "            num_pads = max_size - len(sen)\r\n",
        "\r\n",
        "            # Add `num_pads` padding tokens to the end of the sequence.\r\n",
        "            padded_input = sen + [tokenizer.pad_token_id]*num_pads\r\n",
        "\r\n",
        "            # Define the attention mask--it's just a `1` for every real token\r\n",
        "            # and a `0` for every padding token.\r\n",
        "            attn_mask = [1] * len(sen) + [0] * num_pads\r\n",
        "\r\n",
        "            # Add the padded results to the batch.\r\n",
        "            batch_padded_inputs.append(padded_input)\r\n",
        "            batch_attn_masks.append(attn_mask)\r\n",
        "\r\n",
        "        # Our batch has been padded, so we need to save this updated batch.\r\n",
        "        # We also need the inputs to be PyTorch tensors, so we'll do that here.\r\n",
        "        # Todo - Michael's code specified \"dtype=torch.long\"\r\n",
        "        py_inputs.append(torch.tensor(batch_padded_inputs))\r\n",
        "        py_attn_masks.append(torch.tensor(batch_attn_masks))\r\n",
        "        py_labels.append(torch.tensor(batch_labels))\r\n",
        "    \r\n",
        "    print('  DONE.')\r\n",
        "\r\n",
        "    # Return the smart-batched dataset!\r\n",
        "    return (py_inputs, py_attn_masks, py_labels)\r\n"
      ],
      "execution_count": 15,
      "outputs": []
    },
    {
      "cell_type": "markdown",
      "metadata": {
        "id": "e0FiO9F9Wow2"
      },
      "source": [
        "#### 4) Function for calculating weighted f1 score"
      ]
    },
    {
      "cell_type": "code",
      "metadata": {
        "id": "2vCW7tsYi52r"
      },
      "source": [
        "def f1_score_func(preds, labels,average):\r\n",
        "    preds_flat = np.argmax(preds, axis=1).flatten()\r\n",
        "    labels_flat = labels.flatten()\r\n",
        "    return f1_score(labels_flat, preds_flat, average=average,labels = np.unique(preds_flat))"
      ],
      "execution_count": 16,
      "outputs": []
    },
    {
      "cell_type": "markdown",
      "metadata": {
        "id": "x6EHYpUbz8fo"
      },
      "source": [
        "#### 5) Function for calculating accuracy per class"
      ]
    },
    {
      "cell_type": "code",
      "metadata": {
        "id": "Knuw_DOei8RO"
      },
      "source": [
        "def accuracy_per_class(preds, labels , label_dict):\r\n",
        "    \r\n",
        "    preds_flat = np.argmax(preds, axis=1).flatten()\r\n",
        "    labels_flat = labels.flatten()\r\n",
        "\r\n",
        "    for label in np.unique(labels_flat):\r\n",
        "        y_preds = preds_flat[labels_flat==label]\r\n",
        "        y_true = labels_flat[labels_flat==label]\r\n",
        "        print(f'Class: {label_dict[label]}')\r\n",
        "        print(f'Accuracy: {round(100*len(y_preds[y_preds==label])/len(y_true) , 2)}\\n')"
      ],
      "execution_count": 17,
      "outputs": []
    },
    {
      "cell_type": "markdown",
      "metadata": {
        "id": "OVs3Jb3Vb89i"
      },
      "source": [
        "## Smart Batching of the training data"
      ]
    },
    {
      "cell_type": "code",
      "metadata": {
        "colab": {
          "base_uri": "https://localhost:8080/",
          "height": 180,
          "referenced_widgets": [
            "ed763b9e0fd7473ca3c3c02ccabb155b",
            "af6b675bedd149a59e49dee450272b99",
            "1ca8239a9de64941a0d06b494704a13f",
            "b0dcb123df0d4059a0f044c50618ce2b",
            "44646597125f44e685ad500a47d16cee",
            "c528c26b527a4531a5474e1bd9ad4e76",
            "6d6c21caf13948f3988fac3480f2d691",
            "5109992291e64a25b853fcc16884cd6f",
            "ba972032b817477a8fbe40569e8f7e8b",
            "03b6b8bed5304c3796736090bb76ad13",
            "e5dbb4da7a3e4501993c3226ff307a80",
            "339751c51a4d4a28a8df3389f2c0b679",
            "be49f1ffe797457885532e29eb7b2c9b",
            "b9dbb6f78b3c4d65b9e070220b230d2b",
            "c4bf3c3ea53f4703a39984ff88bbcff2",
            "5c79ef13435d4815bebf5d33af7a8bf5",
            "94471ea984d4475db4c6b864da339bf3",
            "67e369e8fe1e48daa347d7e34ded1b37",
            "7f45f04fc9ea46fb96cb22b05638eefa",
            "59a99df31ba7489e901c39f04263b03b",
            "647c9f5e3aa342d1bd965cc7ad96d33b",
            "647b77283b5040ef8140b08f64ac585d",
            "1b6842c1c038466b84cda61bc3db94cc",
            "7d434d9490be4b429d33452246c64a62"
          ]
        },
        "id": "fIlwEvcMb4pb",
        "outputId": "74afcbe7-f7c9-4d0a-c681-7400d4510f8b"
      },
      "source": [
        "from transformers import AutoTokenizer\r\n",
        "\r\n",
        "model_name = 'bert-base-multilingual-uncased'\r\n",
        "# Load the BERT tokenizer.\r\n",
        "print(f'Loading {model_name} tokenizer...')\r\n",
        "tokenizer = AutoTokenizer.from_pretrained(model_name, do_lower_case=True)"
      ],
      "execution_count": 18,
      "outputs": [
        {
          "output_type": "stream",
          "text": [
            "Loading bert-base-multilingual-uncased tokenizer...\n"
          ],
          "name": "stdout"
        },
        {
          "output_type": "display_data",
          "data": {
            "application/vnd.jupyter.widget-view+json": {
              "model_id": "ed763b9e0fd7473ca3c3c02ccabb155b",
              "version_minor": 0,
              "version_major": 2
            },
            "text/plain": [
              "HBox(children=(FloatProgress(value=0.0, description='Downloading', max=625.0, style=ProgressStyle(description_…"
            ]
          },
          "metadata": {
            "tags": []
          }
        },
        {
          "output_type": "stream",
          "text": [
            "\n"
          ],
          "name": "stdout"
        },
        {
          "output_type": "display_data",
          "data": {
            "application/vnd.jupyter.widget-view+json": {
              "model_id": "ba972032b817477a8fbe40569e8f7e8b",
              "version_minor": 0,
              "version_major": 2
            },
            "text/plain": [
              "HBox(children=(FloatProgress(value=0.0, description='Downloading', max=871891.0, style=ProgressStyle(descripti…"
            ]
          },
          "metadata": {
            "tags": []
          }
        },
        {
          "output_type": "stream",
          "text": [
            "\n"
          ],
          "name": "stdout"
        },
        {
          "output_type": "display_data",
          "data": {
            "application/vnd.jupyter.widget-view+json": {
              "model_id": "94471ea984d4475db4c6b864da339bf3",
              "version_minor": 0,
              "version_major": 2
            },
            "text/plain": [
              "HBox(children=(FloatProgress(value=0.0, description='Downloading', max=1715180.0, style=ProgressStyle(descript…"
            ]
          },
          "metadata": {
            "tags": []
          }
        },
        {
          "output_type": "stream",
          "text": [
            "\n"
          ],
          "name": "stdout"
        }
      ]
    },
    {
      "cell_type": "code",
      "metadata": {
        "id": "cWNt4eOLofmF"
      },
      "source": [
        "lengths = []\r\n",
        "for text in train_sentences:\r\n",
        "  lengths.append(len(text))       \r\n",
        "    "
      ],
      "execution_count": 19,
      "outputs": []
    },
    {
      "cell_type": "code",
      "metadata": {
        "colab": {
          "base_uri": "https://localhost:8080/",
          "height": 427
        },
        "id": "hbdGRA3Bo02O",
        "outputId": "68f69158-a99f-4d39-a670-51b38702b08b"
      },
      "source": [
        "import matplotlib.pyplot as plt\r\n",
        "import seaborn as sns\r\n",
        "\r\n",
        "# Use plot styling from seaborn.\r\n",
        "sns.set(style='darkgrid')\r\n",
        "\r\n",
        "# Increase the plot size and font size.\r\n",
        "sns.set(font_scale=1.5)\r\n",
        "plt.rcParams[\"figure.figsize\"] = (12,6)\r\n",
        "\r\n",
        "plt.scatter(range(0, len(lengths)), lengths, marker=\"|\")\r\n",
        "\r\n",
        "plt.xlabel('Sample Number')\r\n",
        "plt.ylabel('Sequence Length')\r\n",
        "plt.title('Samples BEFORE Tokenizing')\r\n",
        "\r\n",
        "plt.show()"
      ],
      "execution_count": 20,
      "outputs": [
        {
          "output_type": "display_data",
          "data": {
            "image/png": "[encoded data removed]",
            "text/plain": [
              "<Figure size 864x432 with 1 Axes>"
            ]
          },
          "metadata": {
            "tags": []
          }
        }
      ]
    },
    {
      "cell_type": "markdown",
      "metadata": {
        "id": "9rMhLNhPcZjU"
      },
      "source": [
        "### Tokenizing the sequences"
      ]
    },
    {
      "cell_type": "code",
      "metadata": {
        "id": "t7JsLi3EdEje"
      },
      "source": [
        "max_input_length = 512"
      ],
      "execution_count": 21,
      "outputs": []
    },
    {
      "cell_type": "code",
      "metadata": {
        "colab": {
          "base_uri": "https://localhost:8080/"
        },
        "id": "J968o8RJcUEd",
        "outputId": "bb34480e-e4fd-4391-a033-bec12a85eb2f"
      },
      "source": [
        "full_input_ids = []\r\n",
        "labels = []\r\n",
        "\r\n",
        "# Tokenize all training examples\r\n",
        "print('Tokenizing {:,} training samples...'.format(len(train_sentences)))\r\n",
        "\r\n",
        "# Choose an interval on which to print progress updates.\r\n",
        "update_interval = good_update_interval(total_iters=len(train_sentences), num_desired_updates=10)\r\n",
        "\r\n",
        "# For each training example...\r\n",
        "for text in train_sentences:\r\n",
        "    \r\n",
        "    # Report progress.\r\n",
        "    if ((len(full_input_ids) % update_interval) == 0):\r\n",
        "        print('  Tokenized {:,} samples.'.format(len(full_input_ids)))\r\n",
        "\r\n",
        "    # Tokenize the sentence.\r\n",
        "    input_ids = tokenizer.encode(text=text,           \r\n",
        "                                 add_special_tokens=True, \r\n",
        "                                 max_length=max_input_length,  \r\n",
        "                                 truncation=True,     \r\n",
        "                                 padding=False)       \r\n",
        "                                 \r\n",
        "    # Add the tokenized result to our list.\r\n",
        "    full_input_ids.append(input_ids)\r\n",
        "    \r\n",
        "print('DONE.')\r\n",
        "print('{:>10,} samples'.format(len(full_input_ids)))"
      ],
      "execution_count": 22,
      "outputs": [
        {
          "output_type": "stream",
          "text": [
            "Tokenizing 16,010 training samples...\n",
            "  Tokenized 0 samples.\n",
            "  Tokenized 2,000 samples.\n",
            "  Tokenized 4,000 samples.\n",
            "  Tokenized 6,000 samples.\n",
            "  Tokenized 8,000 samples.\n",
            "  Tokenized 10,000 samples.\n",
            "  Tokenized 12,000 samples.\n",
            "  Tokenized 14,000 samples.\n",
            "  Tokenized 16,000 samples.\n",
            "DONE.\n",
            "    16,010 samples\n"
          ],
          "name": "stdout"
        }
      ]
    },
    {
      "cell_type": "code",
      "metadata": {
        "id": "rZzhO2tZeXur"
      },
      "source": [
        "# Get all of the lengths.\r\n",
        "unsorted_lengths = [len(x) for x in full_input_ids]"
      ],
      "execution_count": 23,
      "outputs": []
    },
    {
      "cell_type": "code",
      "metadata": {
        "colab": {
          "base_uri": "https://localhost:8080/",
          "height": 427
        },
        "id": "x7c_mYuVed_H",
        "outputId": "edf7ae09-dbe1-4029-c876-9d6cf54455f4"
      },
      "source": [
        "import matplotlib.pyplot as plt\r\n",
        "import seaborn as sns\r\n",
        "\r\n",
        "# Use plot styling from seaborn.\r\n",
        "sns.set(style='darkgrid')\r\n",
        "\r\n",
        "# Increase the plot size and font size.\r\n",
        "sns.set(font_scale=1.5)\r\n",
        "plt.rcParams[\"figure.figsize\"] = (12,6)\r\n",
        "\r\n",
        "plt.scatter(range(0, len(unsorted_lengths)), unsorted_lengths, marker=\"|\")\r\n",
        "\r\n",
        "plt.xlabel('Sample Number')\r\n",
        "plt.ylabel('Sequence Length')\r\n",
        "plt.title('Samples BEFORE Sorting')\r\n",
        "\r\n",
        "plt.show()"
      ],
      "execution_count": 24,
      "outputs": [
        {
          "output_type": "display_data",
          "data": {
            "image/png": "[encoded data removed]",
            "text/plain": [
              "<Figure size 864x432 with 1 Axes>"
            ]
          },
          "metadata": {
            "tags": []
          }
        }
      ]
    },
    {
      "cell_type": "code",
      "metadata": {
        "id": "7PaeohUVegmv"
      },
      "source": [
        "# Sort the two lists together by the length of the input sequence.\r\n",
        "train_samples = sorted(zip(full_input_ids, train_labels), key=lambda x: len(x[0]))"
      ],
      "execution_count": 25,
      "outputs": []
    },
    {
      "cell_type": "code",
      "metadata": {
        "colab": {
          "base_uri": "https://localhost:8080/"
        },
        "id": "_9nyx-BtepE4",
        "outputId": "b62a9e27-954f-4e71-a9a8-553e296200c4"
      },
      "source": [
        "train_samples[0:5]"
      ],
      "execution_count": 26,
      "outputs": [
        {
          "output_type": "execute_result",
          "data": {
            "text/plain": [
              "[([101, 13850, 102], 0),\n",
              " ([101, 57802, 102], 0),\n",
              " ([101, 58892, 102], 0),\n",
              " ([101, 34749, 102], 0),\n",
              " ([101, 12854, 102], 0)]"
            ]
          },
          "metadata": {
            "tags": []
          },
          "execution_count": 26
        }
      ]
    },
    {
      "cell_type": "code",
      "metadata": {
        "colab": {
          "base_uri": "https://localhost:8080/"
        },
        "id": "rBxJhEieetFh",
        "outputId": "5e6f25d5-819f-40ee-a411-31f6ce1f6015"
      },
      "source": [
        "print('Shortest sample:', len(train_samples[0][0]))\r\n",
        "print('Longest sample:', len(train_samples[-1][0]))"
      ],
      "execution_count": 27,
      "outputs": [
        {
          "output_type": "stream",
          "text": [
            "Shortest sample: 3\n",
            "Longest sample: 512\n"
          ],
          "name": "stdout"
        }
      ]
    },
    {
      "cell_type": "code",
      "metadata": {
        "id": "P44bFOI-e7hW"
      },
      "source": [
        "# Get the new list of lengths after sorting.\r\n",
        "sorted_lengths = [len(s[0]) for s in train_samples]"
      ],
      "execution_count": 28,
      "outputs": []
    },
    {
      "cell_type": "code",
      "metadata": {
        "colab": {
          "base_uri": "https://localhost:8080/",
          "height": 427
        },
        "id": "9P5ZX99le_G1",
        "outputId": "ffad97ce-6e69-4bf1-d56e-abce30bb9d41"
      },
      "source": [
        "import matplotlib.pyplot as plt\r\n",
        "import seaborn as sns\r\n",
        "\r\n",
        "# Use plot styling from seaborn.\r\n",
        "sns.set(style='darkgrid')\r\n",
        "\r\n",
        "# Increase the plot size and font size.\r\n",
        "sns.set(font_scale=1.5)\r\n",
        "plt.rcParams[\"figure.figsize\"] = (12,6)\r\n",
        "\r\n",
        "plt.plot(range(0, len(sorted_lengths)), sorted_lengths)\r\n",
        "\r\n",
        "plt.xlabel('Sample Number')\r\n",
        "plt.ylabel('Sequence Length')\r\n",
        "plt.title('Samples after Sorting')\r\n",
        "\r\n",
        "plt.show()"
      ],
      "execution_count": 29,
      "outputs": [
        {
          "output_type": "display_data",
          "data": {
            "image/png": "[encoded data removed]",
            "text/plain": [
              "<Figure size 864x432 with 1 Axes>"
            ]
          },
          "metadata": {
            "tags": []
          }
        }
      ]
    },
    {
      "cell_type": "markdown",
      "metadata": {
        "id": "Eh1z0xugfF2t"
      },
      "source": [
        "### Random Batch Selections"
      ]
    },
    {
      "cell_type": "code",
      "metadata": {
        "colab": {
          "base_uri": "https://localhost:8080/"
        },
        "id": "gPrYkFMcgm5H",
        "outputId": "d6323bba-3445-4bba-d957-6c953cec0a72"
      },
      "source": [
        "train_samples[0]"
      ],
      "execution_count": 30,
      "outputs": [
        {
          "output_type": "execute_result",
          "data": {
            "text/plain": [
              "([101, 13850, 102], 0)"
            ]
          },
          "metadata": {
            "tags": []
          },
          "execution_count": 30
        }
      ]
    },
    {
      "cell_type": "code",
      "metadata": {
        "id": "isMxwgezfAvO"
      },
      "source": [
        "batch_size = 16"
      ],
      "execution_count": 31,
      "outputs": []
    },
    {
      "cell_type": "code",
      "metadata": {
        "colab": {
          "base_uri": "https://localhost:8080/"
        },
        "id": "s0tjD8pIfJ0S",
        "outputId": "557738fb-e3e4-41a0-d126-d38e0a40d16e"
      },
      "source": [
        "import random\r\n",
        "\r\n",
        "# List of batches that we'll construct.\r\n",
        "batch_ordered_sentences = []\r\n",
        "batch_ordered_labels = []\r\n",
        "\r\n",
        "print('Creating training batches of size {:}'.format(batch_size))\r\n",
        "\r\n",
        "# Loop over all of the input samples...    \r\n",
        "while len(train_samples) > 0:\r\n",
        "    \r\n",
        "    # Report progress.\r\n",
        "    if ((len(batch_ordered_sentences) % 100) == 0):\r\n",
        "        print('  Selected {:,} batches.'.format(len(batch_ordered_sentences)))\r\n",
        "\r\n",
        "    # `to_take` is our actual batch size. It will be `batch_size` until \r\n",
        "    # we get to the last batch, which may be smaller. \r\n",
        "    to_take = min(batch_size, len(train_samples))\r\n",
        "\r\n",
        "    # Pick a random index in the list of remaining samples to start\r\n",
        "    # our batch at.\r\n",
        "    select = random.randint(0, len(train_samples) - to_take)\r\n",
        "\r\n",
        "    # Select a contiguous batch of samples starting at `select`.\r\n",
        "    batch = train_samples[select:(select + to_take)]\r\n",
        "\r\n",
        "    # Each sample is a tuple--split them apart to create a separate list of \r\n",
        "    # sequences and a list of labels for this batch.\r\n",
        "    batch_ordered_sentences.append([s[0] for s in batch])\r\n",
        "    batch_ordered_labels.append([s[1] for s in batch])\r\n",
        "\r\n",
        "    # Remove these samples from the list.\r\n",
        "    del train_samples[select:select + to_take]\r\n",
        "\r\n",
        "print('\\n  DONE - {:,} batches.'.format(len(batch_ordered_sentences)))"
      ],
      "execution_count": 32,
      "outputs": [
        {
          "output_type": "stream",
          "text": [
            "Creating training batches of size 16\n",
            "  Selected 0 batches.\n",
            "  Selected 100 batches.\n",
            "  Selected 200 batches.\n",
            "  Selected 300 batches.\n",
            "  Selected 400 batches.\n",
            "  Selected 500 batches.\n",
            "  Selected 600 batches.\n",
            "  Selected 700 batches.\n",
            "  Selected 800 batches.\n",
            "  Selected 900 batches.\n",
            "  Selected 1,000 batches.\n",
            "\n",
            "  DONE - 1,001 batches.\n"
          ],
          "name": "stdout"
        }
      ]
    },
    {
      "cell_type": "code",
      "metadata": {
        "colab": {
          "base_uri": "https://localhost:8080/"
        },
        "id": "rf91Dd3LhBaP",
        "outputId": "485bf429-ec0c-4d5f-bddf-1bc8bdf7c009"
      },
      "source": [
        "print(batch_ordered_sentences[0])"
      ],
      "execution_count": 33,
      "outputs": [
        {
          "output_type": "stream",
          "text": [
            "[[101, 13969, 11223, 10543, 79593, 10115, 19243, 51230, 10112, 31653, 10220, 49119, 26010, 18234, 95612, 84928, 10123, 23839, 10992, 119, 95612, 94370, 14701, 12134, 48596, 10150, 71257, 10992, 102], [101, 10197, 13996, 64339, 10553, 49119, 14105, 10109, 64339, 10553, 17612, 10709, 10476, 33508, 10116, 119, 10543, 54599, 10111, 10816, 60060, 10112, 10543, 20497, 10150, 17612, 78904, 10111, 102], [101, 76577, 19144, 41750, 13516, 995, 22651, 41750, 71413, 26239, 53838, 15342, 14987, 89123, 89220, 22362, 95904, 40899, 14030, 983, 22651, 13516, 41750, 17457, 41230, 28155, 119, 119, 102], [101, 10904, 43421, 10208, 14106, 78711, 10208, 94030, 14182, 10709, 13474, 63108, 19116, 10111, 119, 119, 119, 10334, 96210, 11434, 12786, 10111, 35821, 10208, 17612, 10517, 10334, 10136, 102], [101, 983, 22362, 26301, 60054, 13877, 22664, 25698, 82344, 963, 26174, 63221, 56967, 975, 25698, 975, 21070, 17896, 170, 960, 86149, 987, 96965, 56967, 994, 89294, 15625, 24605, 102], [101, 953, 963, 38489, 17896, 13516, 34344, 17896, 980, 13877, 36602, 41750, 60054, 75587, 983, 26174, 37601, 119, 14987, 954, 39878, 35362, 22664, 85982, 991, 57589, 16988, 119, 102], [101, 983, 22362, 26301, 60054, 13877, 22664, 25698, 82344, 963, 26174, 63221, 56967, 975, 25698, 975, 21070, 17896, 170, 960, 86149, 987, 96965, 56967, 994, 89294, 15625, 24605, 102], [101, 983, 67670, 963, 23325, 24646, 19144, 63410, 25698, 39422, 973, 63941, 72483, 36602, 14670, 963, 20865, 21070, 84871, 85982, 58653, 991, 57589, 17457, 950, 41676, 16988, 17457, 102], [101, 10197, 13996, 26010, 23444, 11531, 23145, 17172, 11236, 26197, 22049, 10167, 119, 119, 29793, 23106, 32014, 10150, 20753, 10167, 119, 119, 15665, 51238, 25479, 10415, 14433, 10132, 102], [101, 62862, 13877, 63410, 25698, 13300, 963, 28146, 60054, 54291, 63410, 25698, 13300, 950, 35963, 39049, 75822, 13300, 994, 24332, 61475, 61475, 41750, 28146, 22362, 983, 26174, 26239, 102], [101, 23145, 17172, 950, 41676, 18648, 963, 22651, 14381, 13537, 37902, 47919, 20094, 10167, 40895, 34304, 46003, 39717, 10116, 75210, 20497, 18490, 10553, 978, 22664, 987, 35362, 15342, 102], [101, 982, 35963, 15342, 987, 96968, 983, 89552, 13516, 983, 26174, 29920, 89220, 46495, 26174, 119, 997, 13300, 96969, 24332, 81626, 983, 26174, 22651, 24332, 119, 119, 119, 102], [101, 980, 63221, 60054, 24646, 984, 21070, 17896, 37893, 994, 17457, 14030, 960, 19449, 22362, 79022, 19144, 22651, 76577, 56967, 15625, 24332, 81571, 17896, 16278, 119, 119, 119, 102], [101, 11612, 14433, 72445, 14886, 12686, 19116, 19733, 44224, 11001, 54399, 96210, 25194, 61075, 10208, 11001, 14101, 119, 88907, 10208, 71257, 10992, 26050, 25479, 51831, 39717, 10745, 10167, 102], [101, 40251, 90581, 24646, 19144, 987, 85627, 25698, 968, 22362, 85627, 997, 56967, 37893, 984, 21070, 17896, 957, 19144, 24646, 19144, 24332, 23145, 17172, 950, 41676, 27668, 22362, 102], [101, 31653, 10220, 23329, 30423, 12927, 10111, 17760, 10163, 74245, 18234, 10239, 15866, 10250, 119, 119, 119, 119, 119, 119, 119, 119, 35221, 10277, 35221, 10277, 17637, 13662, 102]]\n"
          ],
          "name": "stdout"
        }
      ]
    },
    {
      "cell_type": "code",
      "metadata": {
        "colab": {
          "base_uri": "https://localhost:8080/"
        },
        "id": "qmkQK_gVgiTu",
        "outputId": "9fef14c9-f797-4496-8454-92ebe0df6a05"
      },
      "source": [
        "batch_ordered_labels[0]"
      ],
      "execution_count": 34,
      "outputs": [
        {
          "output_type": "execute_result",
          "data": {
            "text/plain": [
              "[0, 0, 0, 0, 0, 0, 0, 0, 0, 0, 0, 0, 0, 0, 1, 0]"
            ]
          },
          "metadata": {
            "tags": []
          },
          "execution_count": 34
        }
      ]
    },
    {
      "cell_type": "markdown",
      "metadata": {
        "id": "xZ0TFA8Mfn6m"
      },
      "source": [
        "### Padding"
      ]
    },
    {
      "cell_type": "code",
      "metadata": {
        "id": "c9rdswcpfTip"
      },
      "source": [
        "import torch\r\n",
        "\r\n",
        "py_inputs = []\r\n",
        "py_attn_masks = []\r\n",
        "py_labels = []\r\n",
        "\r\n",
        "# For each batch...\r\n",
        "for (batch_inputs, batch_labels) in zip(batch_ordered_sentences, batch_ordered_labels):\r\n",
        "\r\n",
        "    # New version of the batch, this time with padded sequences and now with\r\n",
        "    # attention masks defined.\r\n",
        "    batch_padded_inputs = []\r\n",
        "    batch_attn_masks = []\r\n",
        "    \r\n",
        "    # First, find the longest sample in the batch. \r\n",
        "    # Note that the sequences do currently include the special tokens!\r\n",
        "    max_size = max([len(sen) for sen in batch_inputs])\r\n",
        "\r\n",
        "    #print('Max size:', max_size)\r\n",
        "\r\n",
        "    # For each input in this batch...\r\n",
        "    for sen in batch_inputs:\r\n",
        "        \r\n",
        "        # How many pad tokens do we need to add?\r\n",
        "        num_pads = max_size - len(sen)\r\n",
        "\r\n",
        "        # Add `num_pads` padding tokens to the end of the sequence.\r\n",
        "        padded_input = sen + [tokenizer.pad_token_id]*num_pads\r\n",
        "\r\n",
        "        # Define the attention mask--it's just a `1` for every real token\r\n",
        "        # and a `0` for every padding token.\r\n",
        "        attn_mask = [1] * len(sen) + [0] * num_pads\r\n",
        "\r\n",
        "        # Add the padded results to the batch.\r\n",
        "        batch_padded_inputs.append(padded_input)\r\n",
        "        batch_attn_masks.append(attn_mask)\r\n",
        "\r\n",
        "    # Our batch has been padded, so we need to save this updated batch.\r\n",
        "    # We also need the inputs to be PyTorch tensors, so we'll do that here.\r\n",
        "    py_inputs.append(torch.tensor(batch_padded_inputs))\r\n",
        "    py_attn_masks.append(torch.tensor(batch_attn_masks))\r\n",
        "    py_labels.append(torch.tensor(batch_labels))\r\n"
      ],
      "execution_count": 35,
      "outputs": []
    },
    {
      "cell_type": "markdown",
      "metadata": {
        "id": "roS5lLWdX-5J"
      },
      "source": [
        "### Check the number of token reductions because of smart batching"
      ]
    },
    {
      "cell_type": "code",
      "metadata": {
        "colab": {
          "base_uri": "https://localhost:8080/"
        },
        "id": "wlh7cteVfroV",
        "outputId": "0b168789-6eab-4f16-a643-c9795da679ea"
      },
      "source": [
        "# Get the new list of lengths after sorting.\r\n",
        "import numpy as np\r\n",
        "padded_lengths = []\r\n",
        "\r\n",
        "# For each batch...\r\n",
        "for batch in py_inputs:\r\n",
        "    \r\n",
        "    # For each sample...\r\n",
        "    for s in batch:\r\n",
        "    \r\n",
        "        # Record its length.\r\n",
        "        padded_lengths.append(len(s))\r\n",
        "\r\n",
        "# Sum up the lengths to the get the total number of tokens after smart batching.\r\n",
        "smart_token_count = np.sum(padded_lengths)\r\n",
        "\r\n",
        "# To get the total number of tokens in the dataset using fixed padding, it's\r\n",
        "# as simple as the number of samples times our `max_len` parameter (that we\r\n",
        "# would pad everything to).\r\n",
        "fixed_token_count = len(train_sentences) * max_input_length\r\n",
        "\r\n",
        "# Calculate the percentage reduction.\r\n",
        "prcnt_reduced = (fixed_token_count - smart_token_count) / float(fixed_token_count) \r\n",
        "\r\n",
        "print('Total tokens:')\r\n",
        "print('   Fixed Padding: {:,}'.format(fixed_token_count))\r\n",
        "print('  Smart Batching: {:,}  ({:.1%} less)'.format(smart_token_count, prcnt_reduced))\r\n"
      ],
      "execution_count": 36,
      "outputs": [
        {
          "output_type": "stream",
          "text": [
            "Total tokens:\n",
            "   Fixed Padding: 8,197,120\n",
            "  Smart Batching: 456,144  (94.4% less)\n"
          ],
          "name": "stdout"
        }
      ]
    },
    {
      "cell_type": "markdown",
      "metadata": {
        "id": "8wgdhsI-YIAL"
      },
      "source": [
        "#### Load the model configuration from the transformers library using AutoConfig"
      ]
    },
    {
      "cell_type": "code",
      "metadata": {
        "colab": {
          "base_uri": "https://localhost:8080/"
        },
        "id": "9er7EHvdfudf",
        "outputId": "9f52e533-2d01-40cf-b6bf-4bcb4db1d12c"
      },
      "source": [
        "from transformers import AutoConfig\r\n",
        "\r\n",
        "# Load the Config object, with an output configured for classification.\r\n",
        "config = AutoConfig.from_pretrained(pretrained_model_name_or_path=model_name)\r\n",
        "\r\n",
        "print('Config type:', str(type(config)), '\\n')\r\n"
      ],
      "execution_count": 37,
      "outputs": [
        {
          "output_type": "stream",
          "text": [
            "Config type: <class 'transformers.models.bert.configuration_bert.BertConfig'> \n",
            "\n"
          ],
          "name": "stdout"
        }
      ]
    },
    {
      "cell_type": "markdown",
      "metadata": {
        "id": "SXJHBVlxYR-l"
      },
      "source": [
        "#### Load the model from the transformers library using AutoModel"
      ]
    },
    {
      "cell_type": "code",
      "metadata": {
        "colab": {
          "base_uri": "https://localhost:8080/",
          "height": 99,
          "referenced_widgets": [
            "f9178348e71b4ca8b800414bd8976a7f",
            "3db18ed85cd3467c81043b7312de6b99",
            "d34cdcfd2b5a47ee9603899a623af029",
            "cd4478ed556b46e3a2930b6d287a87c9",
            "ae9a7e7f23fe4f4db1a8024f45e8067d",
            "e5686e032a4045f88a30afb625d36bab",
            "44bb96285f9e46b7b8ff6a400fde252c",
            "7ea5f17132cb4cc89e74ea1a7f31fa1a"
          ]
        },
        "id": "n8J4r6KyhveR",
        "outputId": "9e83b7dd-3cf7-430e-c71e-7a4cea2133a7"
      },
      "source": [
        "from transformers import AutoModel\r\n",
        "\r\n",
        "# Load the pre-trained model for classification, passing in the `config` from\r\n",
        "# above.\r\n",
        "bert = AutoModel.from_pretrained(\r\n",
        "    pretrained_model_name_or_path=model_name,\r\n",
        "    config=config)\r\n",
        "\r\n",
        "print('\\nModel type:', str(type(bert)))\r\n"
      ],
      "execution_count": 38,
      "outputs": [
        {
          "output_type": "display_data",
          "data": {
            "application/vnd.jupyter.widget-view+json": {
              "model_id": "f9178348e71b4ca8b800414bd8976a7f",
              "version_minor": 0,
              "version_major": 2
            },
            "text/plain": [
              "HBox(children=(FloatProgress(value=0.0, description='Downloading', max=672271273.0, style=ProgressStyle(descri…"
            ]
          },
          "metadata": {
            "tags": []
          }
        },
        {
          "output_type": "stream",
          "text": [
            "\n",
            "\n",
            "Model type: <class 'transformers.models.bert.modeling_bert.BertModel'>\n"
          ],
          "name": "stdout"
        }
      ]
    },
    {
      "cell_type": "code",
      "metadata": {
        "id": "RcFMgf5EuPAF"
      },
      "source": [
        "# freeze all the parameters\r\n",
        "for param in bert.parameters():\r\n",
        "    param.requires_grad = False"
      ],
      "execution_count": 39,
      "outputs": []
    },
    {
      "cell_type": "markdown",
      "metadata": {
        "id": "NS_-0rBDYeY5"
      },
      "source": [
        "#### Creating a custom BERT model "
      ]
    },
    {
      "cell_type": "code",
      "metadata": {
        "id": "bmGtZwykJ39i"
      },
      "source": [
        "import torch.nn as nn\r\n",
        "class BERT_Model(nn.Module):\r\n",
        "    ## defining the constructor for the class\r\n",
        "    def __init__(self, bert,num_labels):\r\n",
        "      ## calling the super class constructor\r\n",
        "      super(BERT_Model, self).__init__()\r\n",
        "      ## adding the bert layer to the model\r\n",
        "      self.bert = bert        \r\n",
        "      # relu activation function\r\n",
        "      self.relu =  nn.ReLU()\r\n",
        "      # adding a dense layer to our custom model\r\n",
        "      self.fc1 = nn.Linear(768,512)\r\n",
        "      # adding another dense layer to our custom model ,i.e., the Output layer\r\n",
        "      self.fc2 = nn.Linear(512,num_labels)\r\n",
        "      # adding a softmax  activation function for our custom model's output layer\r\n",
        "      self.softmax = nn.LogSoftmax(dim=1)\r\n",
        "\r\n",
        "    #defining the forward pass\r\n",
        "    def forward(self, input_id, mask):\r\n",
        "      #pass the inputs to the model  \r\n",
        "      outputs = self.bert(input_id,mask)\r\n",
        "  \r\n",
        "      last_hidden_state = outputs.last_hidden_state       ## last hidden state from the model\r\n",
        "      pooler_output = outputs.pooler_output               ## pooler output from the model\r\n",
        "      ## adding a fully connected layer to the BERT model\r\n",
        "      x = self.fc1(pooler_output)\r\n",
        "      ## applying relu activation function\r\n",
        "      x = self.relu(x)\r\n",
        "      # the final output layer\r\n",
        "      x = self.fc2(x)\r\n",
        "      # apply softmax activation to our output layer\r\n",
        "      x = self.softmax(x)\r\n",
        "\r\n",
        "      return x"
      ],
      "execution_count": 40,
      "outputs": []
    },
    {
      "cell_type": "code",
      "metadata": {
        "colab": {
          "base_uri": "https://localhost:8080/"
        },
        "id": "jvOs0G5sh02S",
        "outputId": "c019c376-18bf-4a19-817a-f5752a34c392"
      },
      "source": [
        "import torch\r\n",
        "\r\n",
        "print('\\nLoading model ...')\r\n",
        "# pass the pre-trained BERT to our define architecture\r\n",
        "model = BERT_Model(bert,num_labels=5)\r\n",
        "\r\n",
        "model.cuda()"
      ],
      "execution_count": 41,
      "outputs": [
        {
          "output_type": "stream",
          "text": [
            "\n",
            "Loading model ...\n"
          ],
          "name": "stdout"
        },
        {
          "output_type": "execute_result",
          "data": {
            "text/plain": [
              "BERT_Model(\n",
              "  (bert): BertModel(\n",
              "    (embeddings): BertEmbeddings(\n",
              "      (word_embeddings): Embedding(105879, 768, padding_idx=0)\n",
              "      (position_embeddings): Embedding(512, 768)\n",
              "      (token_type_embeddings): Embedding(2, 768)\n",
              "      (LayerNorm): LayerNorm((768,), eps=1e-12, elementwise_affine=True)\n",
              "      (dropout): Dropout(p=0.1, inplace=False)\n",
              "    )\n",
              "    (encoder): BertEncoder(\n",
              "      (layer): ModuleList(\n",
              "        (0): BertLayer(\n",
              "          (attention): BertAttention(\n",
              "            (self): BertSelfAttention(\n",
              "              (query): Linear(in_features=768, out_features=768, bias=True)\n",
              "              (key): Linear(in_features=768, out_features=768, bias=True)\n",
              "              (value): Linear(in_features=768, out_features=768, bias=True)\n",
              "              (dropout): Dropout(p=0.1, inplace=False)\n",
              "            )\n",
              "            (output): BertSelfOutput(\n",
              "              (dense): Linear(in_features=768, out_features=768, bias=True)\n",
              "              (LayerNorm): LayerNorm((768,), eps=1e-12, elementwise_affine=True)\n",
              "              (dropout): Dropout(p=0.1, inplace=False)\n",
              "            )\n",
              "          )\n",
              "          (intermediate): BertIntermediate(\n",
              "            (dense): Linear(in_features=768, out_features=3072, bias=True)\n",
              "          )\n",
              "          (output): BertOutput(\n",
              "            (dense): Linear(in_features=3072, out_features=768, bias=True)\n",
              "            (LayerNorm): LayerNorm((768,), eps=1e-12, elementwise_affine=True)\n",
              "            (dropout): Dropout(p=0.1, inplace=False)\n",
              "          )\n",
              "        )\n",
              "        (1): BertLayer(\n",
              "          (attention): BertAttention(\n",
              "            (self): BertSelfAttention(\n",
              "              (query): Linear(in_features=768, out_features=768, bias=True)\n",
              "              (key): Linear(in_features=768, out_features=768, bias=True)\n",
              "              (value): Linear(in_features=768, out_features=768, bias=True)\n",
              "              (dropout): Dropout(p=0.1, inplace=False)\n",
              "            )\n",
              "            (output): BertSelfOutput(\n",
              "              (dense): Linear(in_features=768, out_features=768, bias=True)\n",
              "              (LayerNorm): LayerNorm((768,), eps=1e-12, elementwise_affine=True)\n",
              "              (dropout): Dropout(p=0.1, inplace=False)\n",
              "            )\n",
              "          )\n",
              "          (intermediate): BertIntermediate(\n",
              "            (dense): Linear(in_features=768, out_features=3072, bias=True)\n",
              "          )\n",
              "          (output): BertOutput(\n",
              "            (dense): Linear(in_features=3072, out_features=768, bias=True)\n",
              "            (LayerNorm): LayerNorm((768,), eps=1e-12, elementwise_affine=True)\n",
              "            (dropout): Dropout(p=0.1, inplace=False)\n",
              "          )\n",
              "        )\n",
              "        (2): BertLayer(\n",
              "          (attention): BertAttention(\n",
              "            (self): BertSelfAttention(\n",
              "              (query): Linear(in_features=768, out_features=768, bias=True)\n",
              "              (key): Linear(in_features=768, out_features=768, bias=True)\n",
              "              (value): Linear(in_features=768, out_features=768, bias=True)\n",
              "              (dropout): Dropout(p=0.1, inplace=False)\n",
              "            )\n",
              "            (output): BertSelfOutput(\n",
              "              (dense): Linear(in_features=768, out_features=768, bias=True)\n",
              "              (LayerNorm): LayerNorm((768,), eps=1e-12, elementwise_affine=True)\n",
              "              (dropout): Dropout(p=0.1, inplace=False)\n",
              "            )\n",
              "          )\n",
              "          (intermediate): BertIntermediate(\n",
              "            (dense): Linear(in_features=768, out_features=3072, bias=True)\n",
              "          )\n",
              "          (output): BertOutput(\n",
              "            (dense): Linear(in_features=3072, out_features=768, bias=True)\n",
              "            (LayerNorm): LayerNorm((768,), eps=1e-12, elementwise_affine=True)\n",
              "            (dropout): Dropout(p=0.1, inplace=False)\n",
              "          )\n",
              "        )\n",
              "        (3): BertLayer(\n",
              "          (attention): BertAttention(\n",
              "            (self): BertSelfAttention(\n",
              "              (query): Linear(in_features=768, out_features=768, bias=True)\n",
              "              (key): Linear(in_features=768, out_features=768, bias=True)\n",
              "              (value): Linear(in_features=768, out_features=768, bias=True)\n",
              "              (dropout): Dropout(p=0.1, inplace=False)\n",
              "            )\n",
              "            (output): BertSelfOutput(\n",
              "              (dense): Linear(in_features=768, out_features=768, bias=True)\n",
              "              (LayerNorm): LayerNorm((768,), eps=1e-12, elementwise_affine=True)\n",
              "              (dropout): Dropout(p=0.1, inplace=False)\n",
              "            )\n",
              "          )\n",
              "          (intermediate): BertIntermediate(\n",
              "            (dense): Linear(in_features=768, out_features=3072, bias=True)\n",
              "          )\n",
              "          (output): BertOutput(\n",
              "            (dense): Linear(in_features=3072, out_features=768, bias=True)\n",
              "            (LayerNorm): LayerNorm((768,), eps=1e-12, elementwise_affine=True)\n",
              "            (dropout): Dropout(p=0.1, inplace=False)\n",
              "          )\n",
              "        )\n",
              "        (4): BertLayer(\n",
              "          (attention): BertAttention(\n",
              "            (self): BertSelfAttention(\n",
              "              (query): Linear(in_features=768, out_features=768, bias=True)\n",
              "              (key): Linear(in_features=768, out_features=768, bias=True)\n",
              "              (value): Linear(in_features=768, out_features=768, bias=True)\n",
              "              (dropout): Dropout(p=0.1, inplace=False)\n",
              "            )\n",
              "            (output): BertSelfOutput(\n",
              "              (dense): Linear(in_features=768, out_features=768, bias=True)\n",
              "              (LayerNorm): LayerNorm((768,), eps=1e-12, elementwise_affine=True)\n",
              "              (dropout): Dropout(p=0.1, inplace=False)\n",
              "            )\n",
              "          )\n",
              "          (intermediate): BertIntermediate(\n",
              "            (dense): Linear(in_features=768, out_features=3072, bias=True)\n",
              "          )\n",
              "          (output): BertOutput(\n",
              "            (dense): Linear(in_features=3072, out_features=768, bias=True)\n",
              "            (LayerNorm): LayerNorm((768,), eps=1e-12, elementwise_affine=True)\n",
              "            (dropout): Dropout(p=0.1, inplace=False)\n",
              "          )\n",
              "        )\n",
              "        (5): BertLayer(\n",
              "          (attention): BertAttention(\n",
              "            (self): BertSelfAttention(\n",
              "              (query): Linear(in_features=768, out_features=768, bias=True)\n",
              "              (key): Linear(in_features=768, out_features=768, bias=True)\n",
              "              (value): Linear(in_features=768, out_features=768, bias=True)\n",
              "              (dropout): Dropout(p=0.1, inplace=False)\n",
              "            )\n",
              "            (output): BertSelfOutput(\n",
              "              (dense): Linear(in_features=768, out_features=768, bias=True)\n",
              "              (LayerNorm): LayerNorm((768,), eps=1e-12, elementwise_affine=True)\n",
              "              (dropout): Dropout(p=0.1, inplace=False)\n",
              "            )\n",
              "          )\n",
              "          (intermediate): BertIntermediate(\n",
              "            (dense): Linear(in_features=768, out_features=3072, bias=True)\n",
              "          )\n",
              "          (output): BertOutput(\n",
              "            (dense): Linear(in_features=3072, out_features=768, bias=True)\n",
              "            (LayerNorm): LayerNorm((768,), eps=1e-12, elementwise_affine=True)\n",
              "            (dropout): Dropout(p=0.1, inplace=False)\n",
              "          )\n",
              "        )\n",
              "        (6): BertLayer(\n",
              "          (attention): BertAttention(\n",
              "            (self): BertSelfAttention(\n",
              "              (query): Linear(in_features=768, out_features=768, bias=True)\n",
              "              (key): Linear(in_features=768, out_features=768, bias=True)\n",
              "              (value): Linear(in_features=768, out_features=768, bias=True)\n",
              "              (dropout): Dropout(p=0.1, inplace=False)\n",
              "            )\n",
              "            (output): BertSelfOutput(\n",
              "              (dense): Linear(in_features=768, out_features=768, bias=True)\n",
              "              (LayerNorm): LayerNorm((768,), eps=1e-12, elementwise_affine=True)\n",
              "              (dropout): Dropout(p=0.1, inplace=False)\n",
              "            )\n",
              "          )\n",
              "          (intermediate): BertIntermediate(\n",
              "            (dense): Linear(in_features=768, out_features=3072, bias=True)\n",
              "          )\n",
              "          (output): BertOutput(\n",
              "            (dense): Linear(in_features=3072, out_features=768, bias=True)\n",
              "            (LayerNorm): LayerNorm((768,), eps=1e-12, elementwise_affine=True)\n",
              "            (dropout): Dropout(p=0.1, inplace=False)\n",
              "          )\n",
              "        )\n",
              "        (7): BertLayer(\n",
              "          (attention): BertAttention(\n",
              "            (self): BertSelfAttention(\n",
              "              (query): Linear(in_features=768, out_features=768, bias=True)\n",
              "              (key): Linear(in_features=768, out_features=768, bias=True)\n",
              "              (value): Linear(in_features=768, out_features=768, bias=True)\n",
              "              (dropout): Dropout(p=0.1, inplace=False)\n",
              "            )\n",
              "            (output): BertSelfOutput(\n",
              "              (dense): Linear(in_features=768, out_features=768, bias=True)\n",
              "              (LayerNorm): LayerNorm((768,), eps=1e-12, elementwise_affine=True)\n",
              "              (dropout): Dropout(p=0.1, inplace=False)\n",
              "            )\n",
              "          )\n",
              "          (intermediate): BertIntermediate(\n",
              "            (dense): Linear(in_features=768, out_features=3072, bias=True)\n",
              "          )\n",
              "          (output): BertOutput(\n",
              "            (dense): Linear(in_features=3072, out_features=768, bias=True)\n",
              "            (LayerNorm): LayerNorm((768,), eps=1e-12, elementwise_affine=True)\n",
              "            (dropout): Dropout(p=0.1, inplace=False)\n",
              "          )\n",
              "        )\n",
              "        (8): BertLayer(\n",
              "          (attention): BertAttention(\n",
              "            (self): BertSelfAttention(\n",
              "              (query): Linear(in_features=768, out_features=768, bias=True)\n",
              "              (key): Linear(in_features=768, out_features=768, bias=True)\n",
              "              (value): Linear(in_features=768, out_features=768, bias=True)\n",
              "              (dropout): Dropout(p=0.1, inplace=False)\n",
              "            )\n",
              "            (output): BertSelfOutput(\n",
              "              (dense): Linear(in_features=768, out_features=768, bias=True)\n",
              "              (LayerNorm): LayerNorm((768,), eps=1e-12, elementwise_affine=True)\n",
              "              (dropout): Dropout(p=0.1, inplace=False)\n",
              "            )\n",
              "          )\n",
              "          (intermediate): BertIntermediate(\n",
              "            (dense): Linear(in_features=768, out_features=3072, bias=True)\n",
              "          )\n",
              "          (output): BertOutput(\n",
              "            (dense): Linear(in_features=3072, out_features=768, bias=True)\n",
              "            (LayerNorm): LayerNorm((768,), eps=1e-12, elementwise_affine=True)\n",
              "            (dropout): Dropout(p=0.1, inplace=False)\n",
              "          )\n",
              "        )\n",
              "        (9): BertLayer(\n",
              "          (attention): BertAttention(\n",
              "            (self): BertSelfAttention(\n",
              "              (query): Linear(in_features=768, out_features=768, bias=True)\n",
              "              (key): Linear(in_features=768, out_features=768, bias=True)\n",
              "              (value): Linear(in_features=768, out_features=768, bias=True)\n",
              "              (dropout): Dropout(p=0.1, inplace=False)\n",
              "            )\n",
              "            (output): BertSelfOutput(\n",
              "              (dense): Linear(in_features=768, out_features=768, bias=True)\n",
              "              (LayerNorm): LayerNorm((768,), eps=1e-12, elementwise_affine=True)\n",
              "              (dropout): Dropout(p=0.1, inplace=False)\n",
              "            )\n",
              "          )\n",
              "          (intermediate): BertIntermediate(\n",
              "            (dense): Linear(in_features=768, out_features=3072, bias=True)\n",
              "          )\n",
              "          (output): BertOutput(\n",
              "            (dense): Linear(in_features=3072, out_features=768, bias=True)\n",
              "            (LayerNorm): LayerNorm((768,), eps=1e-12, elementwise_affine=True)\n",
              "            (dropout): Dropout(p=0.1, inplace=False)\n",
              "          )\n",
              "        )\n",
              "        (10): BertLayer(\n",
              "          (attention): BertAttention(\n",
              "            (self): BertSelfAttention(\n",
              "              (query): Linear(in_features=768, out_features=768, bias=True)\n",
              "              (key): Linear(in_features=768, out_features=768, bias=True)\n",
              "              (value): Linear(in_features=768, out_features=768, bias=True)\n",
              "              (dropout): Dropout(p=0.1, inplace=False)\n",
              "            )\n",
              "            (output): BertSelfOutput(\n",
              "              (dense): Linear(in_features=768, out_features=768, bias=True)\n",
              "              (LayerNorm): LayerNorm((768,), eps=1e-12, elementwise_affine=True)\n",
              "              (dropout): Dropout(p=0.1, inplace=False)\n",
              "            )\n",
              "          )\n",
              "          (intermediate): BertIntermediate(\n",
              "            (dense): Linear(in_features=768, out_features=3072, bias=True)\n",
              "          )\n",
              "          (output): BertOutput(\n",
              "            (dense): Linear(in_features=3072, out_features=768, bias=True)\n",
              "            (LayerNorm): LayerNorm((768,), eps=1e-12, elementwise_affine=True)\n",
              "            (dropout): Dropout(p=0.1, inplace=False)\n",
              "          )\n",
              "        )\n",
              "        (11): BertLayer(\n",
              "          (attention): BertAttention(\n",
              "            (self): BertSelfAttention(\n",
              "              (query): Linear(in_features=768, out_features=768, bias=True)\n",
              "              (key): Linear(in_features=768, out_features=768, bias=True)\n",
              "              (value): Linear(in_features=768, out_features=768, bias=True)\n",
              "              (dropout): Dropout(p=0.1, inplace=False)\n",
              "            )\n",
              "            (output): BertSelfOutput(\n",
              "              (dense): Linear(in_features=768, out_features=768, bias=True)\n",
              "              (LayerNorm): LayerNorm((768,), eps=1e-12, elementwise_affine=True)\n",
              "              (dropout): Dropout(p=0.1, inplace=False)\n",
              "            )\n",
              "          )\n",
              "          (intermediate): BertIntermediate(\n",
              "            (dense): Linear(in_features=768, out_features=3072, bias=True)\n",
              "          )\n",
              "          (output): BertOutput(\n",
              "            (dense): Linear(in_features=3072, out_features=768, bias=True)\n",
              "            (LayerNorm): LayerNorm((768,), eps=1e-12, elementwise_affine=True)\n",
              "            (dropout): Dropout(p=0.1, inplace=False)\n",
              "          )\n",
              "        )\n",
              "      )\n",
              "    )\n",
              "    (pooler): BertPooler(\n",
              "      (dense): Linear(in_features=768, out_features=768, bias=True)\n",
              "      (activation): Tanh()\n",
              "    )\n",
              "  )\n",
              "  (relu): ReLU()\n",
              "  (fc1): Linear(in_features=768, out_features=512, bias=True)\n",
              "  (fc2): Linear(in_features=512, out_features=5, bias=True)\n",
              "  (softmax): LogSoftmax(dim=1)\n",
              ")"
            ]
          },
          "metadata": {
            "tags": []
          },
          "execution_count": 41
        }
      ]
    },
    {
      "cell_type": "markdown",
      "metadata": {
        "id": "LjQSUqCWJTbI"
      },
      "source": [
        "### Custom Loss function"
      ]
    },
    {
      "cell_type": "code",
      "metadata": {
        "id": "iOHVl1RRJSUB"
      },
      "source": [
        "# convert class weights to tensor\r\n",
        "weights= torch.tensor(class_wts,dtype=torch.float)\r\n",
        "weights = weights.to(device)\r\n",
        "\r\n",
        "# loss function\r\n",
        "cross_entropy  = nn.NLLLoss(weight=weights) \r\n"
      ],
      "execution_count": 42,
      "outputs": []
    },
    {
      "cell_type": "code",
      "metadata": {
        "id": "8tAijXBEh7t8"
      },
      "source": [
        "from transformers import AdamW\r\n",
        "\r\n",
        "# Note: AdamW is a class from the huggingface library (as opposed to pytorch) \r\n",
        "# I believe the 'W' stands for 'Weight Decay fix\"\r\n",
        "optimizer = AdamW(model.parameters(),\r\n",
        "                  lr = 2e-5, # This is the value Michael used.\r\n",
        "                  eps = 1e-8 # args.adam_epsilon  - default is 1e-8.\r\n",
        "                )\r\n"
      ],
      "execution_count": 43,
      "outputs": []
    },
    {
      "cell_type": "code",
      "metadata": {
        "id": "agidP6D6iBFI"
      },
      "source": [
        "from transformers import get_linear_schedule_with_warmup\r\n",
        "\r\n",
        "# Number of training epochs. I chose to train for 1 simply because the training\r\n",
        "# time is long. More epochs may improve the model's accuracy.\r\n",
        "epochs = 4\r\n",
        "\r\n",
        "# Total number of training steps is [number of batches] x [number of epochs]. \r\n",
        "# Note that it's the number of *batches*, not *samples*!\r\n",
        "total_steps = len(py_inputs) * epochs\r\n",
        "\r\n",
        "# Create the learning rate scheduler.\r\n",
        "scheduler = get_linear_schedule_with_warmup(optimizer, \r\n",
        "                                            num_warmup_steps = 0, # Default value in run_glue.py\r\n",
        "                                            num_training_steps = total_steps)"
      ],
      "execution_count": 44,
      "outputs": []
    },
    {
      "cell_type": "code",
      "metadata": {
        "colab": {
          "base_uri": "https://localhost:8080/"
        },
        "id": "H4ERR8fBiEJn",
        "outputId": "163f378c-fce0-4cd4-e4c1-c15e777ac2fe"
      },
      "source": [
        "import random\r\n",
        "import numpy as np\r\n",
        "import time\r\n",
        "\r\n",
        "# Set the seed value all over the place to make this reproducible.\r\n",
        "seed_val = 42\r\n",
        "\r\n",
        "random.seed(seed_val)\r\n",
        "np.random.seed(seed_val)\r\n",
        "torch.manual_seed(seed_val)\r\n",
        "torch.cuda.manual_seed_all(seed_val)\r\n",
        "\r\n",
        "# We'll store a number of quantities such as training and validation loss, \r\n",
        "# validation accuracy, and timings.\r\n",
        "training_stats = []\r\n",
        "\r\n",
        "# Update every `update_interval` batches.\r\n",
        "update_interval = good_update_interval(total_iters=len(py_inputs), num_desired_updates=10)\r\n",
        "\r\n",
        "# Measure the total training time for the whole run.\r\n",
        "total_t0 = time.time()\r\n",
        "\r\n",
        "# For each epoch...\r\n",
        "for epoch_i in range(0, epochs):\r\n",
        "    \r\n",
        "    # ========================================\r\n",
        "    #               Training\r\n",
        "    # ========================================\r\n",
        "    \r\n",
        "    # Perform one full pass over the training set.\r\n",
        "\r\n",
        "    print(\"\")\r\n",
        "    print('======== Epoch {:} / {:} ========'.format(epoch_i + 1, epochs))\r\n",
        "    \r\n",
        "    # At the start of each epoch (except for the first) we need to re-randomize\r\n",
        "    # our training data.\r\n",
        "    if epoch_i > 0:\r\n",
        "        # Use our `make_smart_batches` function (from 6.1.) to re-shuffle the \r\n",
        "        # dataset into new batches.\r\n",
        "        (py_inputs, py_attn_masks, py_labels) = make_smart_batches(train_sentences, train_labels, batch_size,tokenizer,max_input_length)\r\n",
        "    \r\n",
        "    print('Training on {:,} batches...'.format(len(py_inputs)))\r\n",
        "\r\n",
        "    # Measure how long the training epoch takes.\r\n",
        "    t0 = time.time()\r\n",
        "\r\n",
        "    # Reset the total loss for this epoch.\r\n",
        "    total_train_loss = 0\r\n",
        "\r\n",
        "    # Put the model into training mode. Don't be mislead--the call to \r\n",
        "    # `train` just changes the *mode*, it doesn't *perform* the training.\r\n",
        "    # `dropout` and `batchnorm` layers behave differently during training\r\n",
        "    # vs. test (source: https://stackoverflow.com/questions/51433378/what-does-model-train-do-in-pytorch)\r\n",
        "    model.train()\r\n",
        "\r\n",
        "    # For each batch of training data...\r\n",
        "    for step in range(0, len(py_inputs)):\r\n",
        "\r\n",
        "        # Progress update every, e.g., 100 batches.\r\n",
        "        if step % update_interval == 0 and not step == 0:\r\n",
        "            # Calculate elapsed time in minutes.\r\n",
        "            elapsed = format_time(time.time() - t0)\r\n",
        "            \r\n",
        "            # Calculate the time remaining based on our progress.\r\n",
        "            steps_per_sec = (time.time() - t0) / step\r\n",
        "            remaining_sec = steps_per_sec * (len(py_inputs) - step)\r\n",
        "            remaining = format_time(remaining_sec)\r\n",
        "\r\n",
        "            # Report progress.\r\n",
        "            print('  Batch {:>7,}  of  {:>7,}.    Elapsed: {:}.  Remaining: {:}'.format(step, len(py_inputs), elapsed, remaining))\r\n",
        "\r\n",
        "        # Copy the current training batch to the GPU using the `to` method.\r\n",
        "        b_input_ids = py_inputs[step].to(device)\r\n",
        "        b_input_mask = py_attn_masks[step].to(device)\r\n",
        "        b_labels = py_labels[step].to(device)\r\n",
        "\r\n",
        "        # Always clear any previously calculated gradients before performing a\r\n",
        "        # backward pass.\r\n",
        "        model.zero_grad()        \r\n",
        "\r\n",
        "        # Perform a forward pass (evaluate the model on this training batch).\r\n",
        "        # The call returns the loss (because we provided labels) and the \r\n",
        "        # \"logits\"--the model outputs prior to activation.\r\n",
        "        preds = model(b_input_ids, b_input_mask)\r\n",
        "        \r\n",
        "        # compute the loss between actual and predicted values\r\n",
        "        loss = cross_entropy(preds, b_labels)\r\n",
        "        \r\n",
        "        # Accumulate the training loss over all of the batches so that we can\r\n",
        "        # calculate the average loss at the end. `loss` is a Tensor containing a\r\n",
        "        # single value; the `.item()` function just returns the Python value \r\n",
        "        # from the tensor.\r\n",
        "        total_train_loss += loss.item()\r\n",
        "\r\n",
        "        # Perform a backward pass to calculate the gradients.\r\n",
        "        loss.backward()\r\n",
        "\r\n",
        "        # Clip the norm of the gradients to 1.0.\r\n",
        "        # This is to help prevent the \"exploding gradients\" problem.\r\n",
        "        torch.nn.utils.clip_grad_norm_(model.parameters(), 1.0)\r\n",
        "\r\n",
        "        # Update parameters and take a step using the computed gradient.\r\n",
        "        # The optimizer dictates the \"update rule\"--how the parameters are\r\n",
        "        # modified based on their gradients, the learning rate, etc.\r\n",
        "        optimizer.step()\r\n",
        "\r\n",
        "        # Update the learning rate.\r\n",
        "        scheduler.step()\r\n",
        "\r\n",
        "    # Calculate the average loss over all of the batches.\r\n",
        "    avg_train_loss = total_train_loss / len(py_inputs)            \r\n",
        "    \r\n",
        "    # Measure how long this epoch took.\r\n",
        "    training_time = format_time(time.time() - t0)\r\n",
        "\r\n",
        "    print(\"\")\r\n",
        "    print(\"  Average training loss: {0:.2f}\".format(avg_train_loss))\r\n",
        "    print(\"  Training epoch took: {:}\".format(training_time))\r\n",
        "        \r\n",
        "    # Record all statistics from this epoch.\r\n",
        "    training_stats.append(\r\n",
        "        {\r\n",
        "            'epoch': epoch_i + 1,\r\n",
        "            'Training Loss': avg_train_loss,\r\n",
        "            'Training Time': training_time,\r\n",
        "        }\r\n",
        "    )\r\n",
        "\r\n",
        "print(\"\")\r\n",
        "print(\"Training complete!\")\r\n",
        "\r\n",
        "print(\"Total training took {:} (h:mm:ss)\".format(format_time(time.time()-total_t0)))"
      ],
      "execution_count": 45,
      "outputs": [
        {
          "output_type": "stream",
          "text": [
            "\n",
            "======== Epoch 1 / 4 ========\n",
            "Training on 1,001 batches...\n",
            "  Batch     100  of    1,001.    Elapsed: 0:00:03.  Remaining: 0:00:27\n",
            "  Batch     200  of    1,001.    Elapsed: 0:00:06.  Remaining: 0:00:24\n",
            "  Batch     300  of    1,001.    Elapsed: 0:00:09.  Remaining: 0:00:21\n",
            "  Batch     400  of    1,001.    Elapsed: 0:00:12.  Remaining: 0:00:19\n",
            "  Batch     500  of    1,001.    Elapsed: 0:00:15.  Remaining: 0:00:15\n",
            "  Batch     600  of    1,001.    Elapsed: 0:00:18.  Remaining: 0:00:12\n",
            "  Batch     700  of    1,001.    Elapsed: 0:00:21.  Remaining: 0:00:09\n",
            "  Batch     800  of    1,001.    Elapsed: 0:00:24.  Remaining: 0:00:06\n",
            "  Batch     900  of    1,001.    Elapsed: 0:00:27.  Remaining: 0:00:03\n",
            "  Batch   1,000  of    1,001.    Elapsed: 0:00:31.  Remaining: 0:00:00\n",
            "\n",
            "  Average training loss: 1.44\n",
            "  Training epoch took: 0:00:31\n",
            "\n",
            "======== Epoch 2 / 4 ========\n",
            "Creating Smart Batches from 16,010 examples with batch size 16...\n",
            "\n",
            "Tokenizing 16,010 samples...\n",
            "  Tokenized 0 samples.\n",
            "  Tokenized 2,000 samples.\n",
            "  Tokenized 4,000 samples.\n",
            "  Tokenized 6,000 samples.\n",
            "  Tokenized 8,000 samples.\n",
            "  Tokenized 10,000 samples.\n",
            "  Tokenized 12,000 samples.\n",
            "  Tokenized 14,000 samples.\n",
            "  Tokenized 16,000 samples.\n",
            "DONE.\n",
            "    16,010 samples\n",
            "\n",
            "    16,010 samples after sorting\n",
            "\n",
            "Creating batches of size 16...\n",
            "\n",
            "  DONE - Selected 1,001 batches.\n",
            "\n",
            "Padding out sequences within each batch...\n",
            "  DONE.\n",
            "Training on 1,001 batches...\n",
            "  Batch     100  of    1,001.    Elapsed: 0:00:03.  Remaining: 0:00:26\n",
            "  Batch     200  of    1,001.    Elapsed: 0:00:06.  Remaining: 0:00:24\n",
            "  Batch     300  of    1,001.    Elapsed: 0:00:09.  Remaining: 0:00:22\n",
            "  Batch     400  of    1,001.    Elapsed: 0:00:12.  Remaining: 0:00:18\n",
            "  Batch     500  of    1,001.    Elapsed: 0:00:15.  Remaining: 0:00:15\n",
            "  Batch     600  of    1,001.    Elapsed: 0:00:18.  Remaining: 0:00:12\n",
            "  Batch     700  of    1,001.    Elapsed: 0:00:22.  Remaining: 0:00:09\n",
            "  Batch     800  of    1,001.    Elapsed: 0:00:25.  Remaining: 0:00:06\n",
            "  Batch     900  of    1,001.    Elapsed: 0:00:28.  Remaining: 0:00:03\n",
            "  Batch   1,000  of    1,001.    Elapsed: 0:00:31.  Remaining: 0:00:00\n",
            "\n",
            "  Average training loss: 1.44\n",
            "  Training epoch took: 0:00:32\n",
            "\n",
            "======== Epoch 3 / 4 ========\n",
            "Creating Smart Batches from 16,010 examples with batch size 16...\n",
            "\n",
            "Tokenizing 16,010 samples...\n",
            "  Tokenized 0 samples.\n",
            "  Tokenized 2,000 samples.\n",
            "  Tokenized 4,000 samples.\n",
            "  Tokenized 6,000 samples.\n",
            "  Tokenized 8,000 samples.\n",
            "  Tokenized 10,000 samples.\n",
            "  Tokenized 12,000 samples.\n",
            "  Tokenized 14,000 samples.\n",
            "  Tokenized 16,000 samples.\n",
            "DONE.\n",
            "    16,010 samples\n",
            "\n",
            "    16,010 samples after sorting\n",
            "\n",
            "Creating batches of size 16...\n",
            "\n",
            "  DONE - Selected 1,001 batches.\n",
            "\n",
            "Padding out sequences within each batch...\n",
            "  DONE.\n",
            "Training on 1,001 batches...\n",
            "  Batch     100  of    1,001.    Elapsed: 0:00:03.  Remaining: 0:00:28\n",
            "  Batch     200  of    1,001.    Elapsed: 0:00:06.  Remaining: 0:00:24\n",
            "  Batch     300  of    1,001.    Elapsed: 0:00:09.  Remaining: 0:00:22\n",
            "  Batch     400  of    1,001.    Elapsed: 0:00:13.  Remaining: 0:00:19\n",
            "  Batch     500  of    1,001.    Elapsed: 0:00:15.  Remaining: 0:00:15\n",
            "  Batch     600  of    1,001.    Elapsed: 0:00:18.  Remaining: 0:00:12\n",
            "  Batch     700  of    1,001.    Elapsed: 0:00:21.  Remaining: 0:00:09\n",
            "  Batch     800  of    1,001.    Elapsed: 0:00:25.  Remaining: 0:00:06\n",
            "  Batch     900  of    1,001.    Elapsed: 0:00:28.  Remaining: 0:00:03\n",
            "  Batch   1,000  of    1,001.    Elapsed: 0:00:32.  Remaining: 0:00:00\n",
            "\n",
            "  Average training loss: 1.47\n",
            "  Training epoch took: 0:00:32\n",
            "\n",
            "======== Epoch 4 / 4 ========\n",
            "Creating Smart Batches from 16,010 examples with batch size 16...\n",
            "\n",
            "Tokenizing 16,010 samples...\n",
            "  Tokenized 0 samples.\n",
            "  Tokenized 2,000 samples.\n",
            "  Tokenized 4,000 samples.\n",
            "  Tokenized 6,000 samples.\n",
            "  Tokenized 8,000 samples.\n",
            "  Tokenized 10,000 samples.\n",
            "  Tokenized 12,000 samples.\n",
            "  Tokenized 14,000 samples.\n",
            "  Tokenized 16,000 samples.\n",
            "DONE.\n",
            "    16,010 samples\n",
            "\n",
            "    16,010 samples after sorting\n",
            "\n",
            "Creating batches of size 16...\n",
            "\n",
            "  DONE - Selected 1,001 batches.\n",
            "\n",
            "Padding out sequences within each batch...\n",
            "  DONE.\n",
            "Training on 1,001 batches...\n",
            "  Batch     100  of    1,001.    Elapsed: 0:00:03.  Remaining: 0:00:26\n",
            "  Batch     200  of    1,001.    Elapsed: 0:00:06.  Remaining: 0:00:24\n",
            "  Batch     300  of    1,001.    Elapsed: 0:00:09.  Remaining: 0:00:22\n",
            "  Batch     400  of    1,001.    Elapsed: 0:00:12.  Remaining: 0:00:19\n",
            "  Batch     500  of    1,001.    Elapsed: 0:00:16.  Remaining: 0:00:16\n",
            "  Batch     600  of    1,001.    Elapsed: 0:00:19.  Remaining: 0:00:13\n",
            "  Batch     700  of    1,001.    Elapsed: 0:00:22.  Remaining: 0:00:10\n",
            "  Batch     800  of    1,001.    Elapsed: 0:00:25.  Remaining: 0:00:06\n",
            "  Batch     900  of    1,001.    Elapsed: 0:00:28.  Remaining: 0:00:03\n",
            "  Batch   1,000  of    1,001.    Elapsed: 0:00:32.  Remaining: 0:00:00\n",
            "\n",
            "  Average training loss: 1.44\n",
            "  Training epoch took: 0:00:32\n",
            "\n",
            "Training complete!\n",
            "Total training took 0:02:14 (h:mm:ss)\n"
          ],
          "name": "stdout"
        }
      ]
    },
    {
      "cell_type": "markdown",
      "metadata": {
        "id": "ToUbAgZ9ap63"
      },
      "source": [
        "#### Loading the validation data"
      ]
    },
    {
      "cell_type": "code",
      "metadata": {
        "colab": {
          "base_uri": "https://localhost:8080/",
          "height": 377
        },
        "id": "Dle8VzoAjOLS",
        "outputId": "8f43557e-e201-404e-c5ac-518d29c776be"
      },
      "source": [
        "val_df_path = join(dataset_dir,'mal_full_offensive_dev_corrected.csv')\r\n",
        "# Load the dataset into a pandas dataframe.\r\n",
        "df = pd.read_csv(val_df_path)\r\n",
        "\r\n",
        "# Report the number of sentences.\r\n",
        "print('Number of training sentences: {:,}\\n'.format(df.shape[0]))\r\n",
        "\r\n",
        "# Display 10 random rows from the data.\r\n",
        "df.sample(10)"
      ],
      "execution_count": 46,
      "outputs": [
        {
          "output_type": "stream",
          "text": [
            "Number of training sentences: 1,999\n",
            "\n"
          ],
          "name": "stdout"
        },
        {
          "output_type": "execute_result",
          "data": {
            "text/html": [
              "<div>\n",
              "<style scoped>\n",
              "    .dataframe tbody tr th:only-of-type {\n",
              "        vertical-align: middle;\n",
              "    }\n",
              "\n",
              "    .dataframe tbody tr th {\n",
              "        vertical-align: top;\n",
              "    }\n",
              "\n",
              "    .dataframe thead th {\n",
              "        text-align: right;\n",
              "    }\n",
              "</style>\n",
              "<table border=\"1\" class=\"dataframe\">\n",
              "  <thead>\n",
              "    <tr style=\"text-align: right;\">\n",
              "      <th></th>\n",
              "      <th>text</th>\n",
              "      <th>label</th>\n",
              "    </tr>\n",
              "  </thead>\n",
              "  <tbody>\n",
              "    <tr>\n",
              "      <th>256</th>\n",
              "      <td>Family entertainer? Family kk kanan pattatha m...</td>\n",
              "      <td>Not_offensive</td>\n",
              "    </tr>\n",
              "    <tr>\n",
              "      <th>352</th>\n",
              "      <td>Nov 21 will gonna change Mollywood fate</td>\n",
              "      <td>not-malayalam</td>\n",
              "    </tr>\n",
              "    <tr>\n",
              "      <th>298</th>\n",
              "      <td>ഇന്ന് പടം കണ്ടു ഒരു രക്ഷയും ഇല്ല</td>\n",
              "      <td>Not_offensive</td>\n",
              "    </tr>\n",
              "    <tr>\n",
              "      <th>581</th>\n",
              "      <td>Plz സപ്പോർട് my chanal And സബ്സ്ക്രൈബ്  my cha...</td>\n",
              "      <td>Not_offensive</td>\n",
              "    </tr>\n",
              "    <tr>\n",
              "      <th>1288</th>\n",
              "      <td>Lalettan fans kar okke evadeeee....   Best wis...</td>\n",
              "      <td>Not_offensive</td>\n",
              "    </tr>\n",
              "    <tr>\n",
              "      <th>1765</th>\n",
              "      <td>Vera level trailer. Support from tamil nadu</td>\n",
              "      <td>Not_offensive</td>\n",
              "    </tr>\n",
              "    <tr>\n",
              "      <th>420</th>\n",
              "      <td>ഹൂഫ് എന്റമ്മോ ... ഇയാൾ ഇതെന്ത് ഭാവിച്ചാ</td>\n",
              "      <td>Not_offensive</td>\n",
              "    </tr>\n",
              "    <tr>\n",
              "      <th>1587</th>\n",
              "      <td>ആരോ ഒരാൾ അല്ല ഏട്ടൻ നമ്മുടെ ഏട്ടൻ ലാലേട്ടൻ</td>\n",
              "      <td>Not_offensive</td>\n",
              "    </tr>\n",
              "    <tr>\n",
              "      <th>65</th>\n",
              "      <td>Super movie aan. Dhairyamaayi kaanaan pogaam.</td>\n",
              "      <td>Not_offensive</td>\n",
              "    </tr>\n",
              "    <tr>\n",
              "      <th>1611</th>\n",
              "      <td>Reckodukal ini pazhankatha puthiya charithrame...</td>\n",
              "      <td>Not_offensive</td>\n",
              "    </tr>\n",
              "  </tbody>\n",
              "</table>\n",
              "</div>"
            ],
            "text/plain": [
              "                                                   text          label\n",
              "256   Family entertainer? Family kk kanan pattatha m...  Not_offensive\n",
              "352             Nov 21 will gonna change Mollywood fate  not-malayalam\n",
              "298                    ഇന്ന് പടം കണ്ടു ഒരു രക്ഷയും ഇല്ല  Not_offensive\n",
              "581   Plz സപ്പോർട് my chanal And സബ്സ്ക്രൈബ്  my cha...  Not_offensive\n",
              "1288  Lalettan fans kar okke evadeeee....   Best wis...  Not_offensive\n",
              "1765        Vera level trailer. Support from tamil nadu  Not_offensive\n",
              "420             ഹൂഫ് എന്റമ്മോ ... ഇയാൾ ഇതെന്ത് ഭാവിച്ചാ  Not_offensive\n",
              "1587         ആരോ ഒരാൾ അല്ല ഏട്ടൻ നമ്മുടെ ഏട്ടൻ ലാലേട്ടൻ  Not_offensive\n",
              "65        Super movie aan. Dhairyamaayi kaanaan pogaam.  Not_offensive\n",
              "1611  Reckodukal ini pazhankatha puthiya charithrame...  Not_offensive"
            ]
          },
          "metadata": {
            "tags": []
          },
          "execution_count": 46
        }
      ]
    },
    {
      "cell_type": "markdown",
      "metadata": {
        "id": "NjAQaP_na7HN"
      },
      "source": [
        "#### Loading `test_sentences` and `test_labels`"
      ]
    },
    {
      "cell_type": "code",
      "metadata": {
        "id": "d_83fOUwqn0w"
      },
      "source": [
        "df['label'] = le.transform(df['label'])"
      ],
      "execution_count": 47,
      "outputs": []
    },
    {
      "cell_type": "code",
      "metadata": {
        "id": "WnnscvKOjl6b"
      },
      "source": [
        "test_sentences = df['text'].values \r\n",
        "test_labels = df['label'].values"
      ],
      "execution_count": 48,
      "outputs": []
    },
    {
      "cell_type": "code",
      "metadata": {
        "colab": {
          "base_uri": "https://localhost:8080/"
        },
        "id": "glrG0ZI4imGN",
        "outputId": "6e249607-daec-4c13-c738-bb5e91eba0a7"
      },
      "source": [
        "# Use our new function to completely prepare our dataset.\r\n",
        "(py_inputs, py_attn_masks, py_labels) = make_smart_batches(test_sentences, test_labels, batch_size ,tokenizer,max_input_length)"
      ],
      "execution_count": 49,
      "outputs": [
        {
          "output_type": "stream",
          "text": [
            "Creating Smart Batches from 1,999 examples with batch size 16...\n",
            "\n",
            "Tokenizing 1,999 samples...\n",
            "  Tokenized 0 samples.\n",
            "  Tokenized 200 samples.\n",
            "  Tokenized 400 samples.\n",
            "  Tokenized 600 samples.\n",
            "  Tokenized 800 samples.\n",
            "  Tokenized 1,000 samples.\n",
            "  Tokenized 1,200 samples.\n",
            "  Tokenized 1,400 samples.\n",
            "  Tokenized 1,600 samples.\n",
            "  Tokenized 1,800 samples.\n",
            "DONE.\n",
            "     1,999 samples\n",
            "\n",
            "     1,999 samples after sorting\n",
            "\n",
            "Creating batches of size 16...\n",
            "\n",
            "  DONE - Selected 125 batches.\n",
            "\n",
            "Padding out sequences within each batch...\n",
            "  DONE.\n"
          ],
          "name": "stdout"
        }
      ]
    },
    {
      "cell_type": "markdown",
      "metadata": {
        "id": "Lrt_FyJIbC8j"
      },
      "source": [
        "#### Making predictions on our test dataset"
      ]
    },
    {
      "cell_type": "code",
      "metadata": {
        "colab": {
          "base_uri": "https://localhost:8080/"
        },
        "id": "eylCkH2Zipq5",
        "outputId": "ba8b4b17-4dbc-4daf-aa4c-5c6bf83f6157"
      },
      "source": [
        "# Prediction on test set\r\n",
        "\r\n",
        "print('Predicting labels for {:,} test sentences...'.format(len(test_labels)))\r\n",
        "\r\n",
        "# Put model in evaluation mode\r\n",
        "model.eval()\r\n",
        "\r\n",
        "# Tracking variables \r\n",
        "predictions , true_labels = [], []\r\n",
        "\r\n",
        "# Choose an interval on which to print progress updates.\r\n",
        "update_interval = good_update_interval(total_iters=len(py_inputs), num_desired_updates=10)\r\n",
        "\r\n",
        "# Measure elapsed time.\r\n",
        "t0 = time.time()\r\n",
        "\r\n",
        "# Put model in evaluation mode\r\n",
        "model.eval()\r\n",
        "\r\n",
        "# For each batch of training data...\r\n",
        "for step in range(0, len(py_inputs)):\r\n",
        "\r\n",
        "    # Progress update every 100 batches.\r\n",
        "    if step % update_interval == 0 and not step == 0:\r\n",
        "        # Calculate elapsed time in minutes.\r\n",
        "        elapsed = format_time(time.time() - t0)\r\n",
        "        \r\n",
        "        # Calculate the time remaining based on our progress.\r\n",
        "        steps_per_sec = (time.time() - t0) / step\r\n",
        "        remaining_sec = steps_per_sec * (len(py_inputs) - step)\r\n",
        "        remaining = format_time(remaining_sec)\r\n",
        "\r\n",
        "        # Report progress.\r\n",
        "        print('  Batch {:>7,}  of  {:>7,}.    Elapsed: {:}.  Remaining: {:}'.format(step, len(py_inputs), elapsed, remaining))\r\n",
        "\r\n",
        "    # Copy the batch to the GPU.\r\n",
        "    b_input_ids = py_inputs[step].to(device)\r\n",
        "    b_input_mask = py_attn_masks[step].to(device)\r\n",
        "    b_labels = py_labels[step].to(device)\r\n",
        "  \r\n",
        "    # Telling the model not to compute or store gradients, saving memory and \r\n",
        "    # speeding up prediction\r\n",
        "    with torch.no_grad():\r\n",
        "        # Forward pass, calculate logit predictions\r\n",
        "        outputs = model(b_input_ids, b_input_mask)\r\n",
        "\r\n",
        "    logits = outputs\r\n",
        "\r\n",
        "    # Move logits and labels to CPU\r\n",
        "    logits = logits.detach().cpu().numpy()\r\n",
        "    label_ids = b_labels.to('cpu').numpy()\r\n",
        "  \r\n",
        "    # Store predictions and true labels\r\n",
        "    predictions.append(logits)\r\n",
        "    true_labels.append(label_ids)\r\n",
        "\r\n",
        "print('    DONE.')"
      ],
      "execution_count": 50,
      "outputs": [
        {
          "output_type": "stream",
          "text": [
            "Predicting labels for 1,999 test sentences...\n",
            "  Batch      10  of      125.    Elapsed: 0:00:00.  Remaining: 0:00:03\n",
            "  Batch      20  of      125.    Elapsed: 0:00:01.  Remaining: 0:00:03\n",
            "  Batch      30  of      125.    Elapsed: 0:00:01.  Remaining: 0:00:03\n",
            "  Batch      40  of      125.    Elapsed: 0:00:01.  Remaining: 0:00:03\n",
            "  Batch      50  of      125.    Elapsed: 0:00:01.  Remaining: 0:00:02\n",
            "  Batch      60  of      125.    Elapsed: 0:00:02.  Remaining: 0:00:02\n",
            "  Batch      70  of      125.    Elapsed: 0:00:02.  Remaining: 0:00:01\n",
            "  Batch      80  of      125.    Elapsed: 0:00:02.  Remaining: 0:00:01\n",
            "  Batch      90  of      125.    Elapsed: 0:00:02.  Remaining: 0:00:01\n",
            "  Batch     100  of      125.    Elapsed: 0:00:03.  Remaining: 0:00:01\n",
            "  Batch     110  of      125.    Elapsed: 0:00:03.  Remaining: 0:00:00\n",
            "  Batch     120  of      125.    Elapsed: 0:00:03.  Remaining: 0:00:00\n",
            "    DONE.\n"
          ],
          "name": "stdout"
        }
      ]
    },
    {
      "cell_type": "markdown",
      "metadata": {
        "id": "a4FMxCyZbJaG"
      },
      "source": [
        "### Evaluating accuracy over test set"
      ]
    },
    {
      "cell_type": "code",
      "metadata": {
        "colab": {
          "base_uri": "https://localhost:8080/"
        },
        "id": "PiuSwCUDiv8p",
        "outputId": "943dbf81-a6af-495b-8062-70cb354ea57c"
      },
      "source": [
        "# Combine the results across the batches.\r\n",
        "predictions = np.concatenate(predictions, axis=0)\r\n",
        "true_labels = np.concatenate(true_labels, axis=0)\r\n",
        "\r\n",
        "# Choose the label with the highest score as our prediction.\r\n",
        "preds = np.argmax(predictions, axis=1).flatten()\r\n",
        "\r\n",
        "# Calculate simple flat accuracy -- number correct over total number.\r\n",
        "accuracy = (preds == true_labels).mean()\r\n",
        "\r\n",
        "print('Accuracy: {:.3f}'.format(accuracy))"
      ],
      "execution_count": 51,
      "outputs": [
        {
          "output_type": "stream",
          "text": [
            "Accuracy: 0.808\n"
          ],
          "name": "stdout"
        }
      ]
    },
    {
      "cell_type": "markdown",
      "metadata": {
        "id": "hNJnYjiBbOSL"
      },
      "source": [
        "#### Classification report of our predictions"
      ]
    },
    {
      "cell_type": "code",
      "metadata": {
        "id": "vbGYwxJKokX4"
      },
      "source": [
        "class_names =  ['Not_offensive', 'Offensive_Targeted_Insult_Group','Offensive_Targeted_Insult_Individual','Offensive_Untargetede','not-malayalam']"
      ],
      "execution_count": 52,
      "outputs": []
    },
    {
      "cell_type": "code",
      "metadata": {
        "colab": {
          "base_uri": "https://localhost:8080/"
        },
        "id": "AxR7vq1yo_A3",
        "outputId": "ec19f564-b220-4a49-853c-115b0054ba30"
      },
      "source": [
        "from sklearn.metrics import classification_report\r\n",
        "print(classification_report(preds,true_labels , target_names=class_names))"
      ],
      "execution_count": 53,
      "outputs": [
        {
          "output_type": "stream",
          "text": [
            "                                      precision    recall  f1-score   support\n",
            "\n",
            "                       Not_offensive       0.88      0.91      0.89      1713\n",
            "     Offensive_Targeted_Insult_Group       0.00      0.00      0.00         0\n",
            "Offensive_Targeted_Insult_Individual       0.00      0.00      0.00         0\n",
            "               Offensive_Untargetede       0.00      0.00      0.00         0\n",
            "                       not-malayalam       0.36      0.20      0.26       286\n",
            "\n",
            "                            accuracy                           0.81      1999\n",
            "                           macro avg       0.25      0.22      0.23      1999\n",
            "                        weighted avg       0.80      0.81      0.80      1999\n",
            "\n"
          ],
          "name": "stdout"
        },
        {
          "output_type": "stream",
          "text": [
            "/usr/local/lib/python3.6/dist-packages/sklearn/metrics/_classification.py:1272: UndefinedMetricWarning: Recall and F-score are ill-defined and being set to 0.0 in labels with no true samples. Use `zero_division` parameter to control this behavior.\n",
            "  _warn_prf(average, modifier, msg_start, len(result))\n"
          ],
          "name": "stderr"
        }
      ]
    },
    {
      "cell_type": "code",
      "metadata": {
        "id": "bQG0riF8m5Az"
      },
      "source": [
        "label_dict = {0:'Not_offensive', 1:'Offensive_Targeted_Insult_Group', 2:'Offensive_Targeted_Insult_Individual',3:'Offensive_Untargetede',4:'not-malayalam'}"
      ],
      "execution_count": 54,
      "outputs": []
    },
    {
      "cell_type": "code",
      "metadata": {
        "id": "Koj8nQWSpIv0",
        "colab": {
          "base_uri": "https://localhost:8080/"
        },
        "outputId": "ea619f1e-78fb-48b8-9fd8-65d22d18b1c6"
      },
      "source": [
        "accuracy_per_class(predictions, true_labels , label_dict)"
      ],
      "execution_count": 55,
      "outputs": [
        {
          "output_type": "stream",
          "text": [
            "Class: Not_offensive\n",
            "Accuracy: 87.52\n",
            "\n",
            "Class: Offensive_Targeted_Insult_Group\n",
            "Accuracy: 0.0\n",
            "\n",
            "Class: Offensive_Targeted_Insult_Individual\n",
            "Accuracy: 0.0\n",
            "\n",
            "Class: Offensive_Untargetede\n",
            "Accuracy: 0.0\n",
            "\n",
            "Class: not-malayalam\n",
            "Accuracy: 35.58\n",
            "\n"
          ],
          "name": "stdout"
        }
      ]
    },
    {
      "cell_type": "code",
      "metadata": {
        "id": "3PXqG-VpurVS"
      },
      "source": [
        "torch.save(model,\"./drive/MyDrive/Codalab/Offensive Language Identification/Models/BERT_Multilingual_Malayalam_Optimized_Using_Class_Weights\")"
      ],
      "execution_count": 57,
      "outputs": []
    },
    {
      "cell_type": "code",
      "metadata": {
        "colab": {
          "base_uri": "https://localhost:8080/"
        },
        "id": "QI5cEpx9tc8B",
        "outputId": "b2b31e7d-3a58-403f-f360-1eb673971845"
      },
      "source": [
        "from sklearn.metrics import f1_score\r\n",
        "f1_score_func(predictions,true_labels,average='macro')"
      ],
      "execution_count": 56,
      "outputs": [
        {
          "output_type": "execute_result",
          "data": {
            "text/plain": [
              "0.575052235207678"
            ]
          },
          "metadata": {
            "tags": []
          },
          "execution_count": 56
        }
      ]
    },
    {
      "cell_type": "code",
      "metadata": {
        "id": "5NfWwz6Qztsg"
      },
      "source": [
        ""
      ],
      "execution_count": null,
      "outputs": []
    }
  ]
}