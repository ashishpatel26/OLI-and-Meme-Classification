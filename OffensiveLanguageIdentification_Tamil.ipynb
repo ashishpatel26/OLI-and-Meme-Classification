{
 "cells": [
  {
   "cell_type": "markdown",
   "metadata": {
    "id": "elqe9PQrVH6P"
   },
   "source": [
    "### Peforming checks for the resources available"
   ]
  },
  {
   "cell_type": "code",
   "execution_count": null,
   "metadata": {
    "colab": {
     "base_uri": "https://localhost:8080/"
    },
    "id": "Jf_G8OH6auyS",
    "outputId": "4fc9a45d-02e6-4867-d576-3bd8db486056"
   },
   "outputs": [
    {
     "name": "stdout",
     "output_type": "stream",
     "text": [
      "Found GPU at: /device:GPU:0\n"
     ]
    }
   ],
   "source": [
    "import tensorflow as tf\n",
    "\n",
    "# Get the GPU device name.\n",
    "device_name = tf.test.gpu_device_name()\n",
    "\n",
    "# The device name should look like the following:\n",
    "if device_name == '/device:GPU:0':\n",
    "    print('Found GPU at: {}'.format(device_name))\n",
    "else:\n",
    "    raise SystemError('GPU device not found')"
   ]
  },
  {
   "cell_type": "code",
   "execution_count": null,
   "metadata": {
    "colab": {
     "base_uri": "https://localhost:8080/"
    },
    "id": "fSELLChxa5su",
    "outputId": "62dc630a-73e1-465e-9db4-950b24163ead"
   },
   "outputs": [
    {
     "name": "stdout",
     "output_type": "stream",
     "text": [
      "There are 1 GPU(s) available.\n",
      "We will use the GPU: Tesla T4\n"
     ]
    }
   ],
   "source": [
    "import torch\n",
    "\n",
    "# If there's a GPU available...\n",
    "if torch.cuda.is_available():    \n",
    "\n",
    "    # Tell PyTorch to use the GPU.    \n",
    "    device = torch.device(\"cuda\")\n",
    "\n",
    "    print('There are %d GPU(s) available.' % torch.cuda.device_count())\n",
    "\n",
    "    print('We will use the GPU:', torch.cuda.get_device_name(0))\n",
    "\n",
    "# If not...\n",
    "else:\n",
    "    print('No GPU available, using the CPU instead.')\n",
    "    device = torch.device(\"cpu\")"
   ]
  },
  {
   "cell_type": "markdown",
   "metadata": {
    "id": "K-gbOgflVRxg"
   },
   "source": [
    "### Installing huggingface transformers library"
   ]
  },
  {
   "cell_type": "code",
   "execution_count": null,
   "metadata": {
    "colab": {
     "base_uri": "https://localhost:8080/"
    },
    "id": "DbDuxKy0a9Zl",
    "outputId": "4a7e63ef-f3b3-40db-d98c-a41698da034a"
   },
   "outputs": [
    {
     "name": "stdout",
     "output_type": "stream",
     "text": [
      "Collecting transformers\n",
      "\u001b[?25l  Downloading https://files.pythonhosted.org/packages/50/0c/7d5950fcd80b029be0a8891727ba21e0cd27692c407c51261c3c921f6da3/transformers-4.1.1-py3-none-any.whl (1.5MB)\n",
      "\u001b[K     |████████████████████████████████| 1.5MB 13.4MB/s \n",
      "\u001b[?25hRequirement already satisfied: filelock in /usr/local/lib/python3.6/dist-packages (from transformers) (3.0.12)\n",
      "Requirement already satisfied: regex!=2019.12.17 in /usr/local/lib/python3.6/dist-packages (from transformers) (2019.12.20)\n",
      "Requirement already satisfied: dataclasses; python_version < \"3.7\" in /usr/local/lib/python3.6/dist-packages (from transformers) (0.8)\n",
      "Collecting sacremoses\n",
      "\u001b[?25l  Downloading https://files.pythonhosted.org/packages/7d/34/09d19aff26edcc8eb2a01bed8e98f13a1537005d31e95233fd48216eed10/sacremoses-0.0.43.tar.gz (883kB)\n",
      "\u001b[K     |████████████████████████████████| 890kB 50.1MB/s \n",
      "\u001b[?25hRequirement already satisfied: packaging in /usr/local/lib/python3.6/dist-packages (from transformers) (20.8)\n",
      "Collecting tokenizers==0.9.4\n",
      "\u001b[?25l  Downloading https://files.pythonhosted.org/packages/0f/1c/e789a8b12e28be5bc1ce2156cf87cb522b379be9cadc7ad8091a4cc107c4/tokenizers-0.9.4-cp36-cp36m-manylinux2010_x86_64.whl (2.9MB)\n",
      "\u001b[K     |████████████████████████████████| 2.9MB 48.2MB/s \n",
      "\u001b[?25hRequirement already satisfied: requests in /usr/local/lib/python3.6/dist-packages (from transformers) (2.23.0)\n",
      "Requirement already satisfied: tqdm>=4.27 in /usr/local/lib/python3.6/dist-packages (from transformers) (4.41.1)\n",
      "Requirement already satisfied: numpy in /usr/local/lib/python3.6/dist-packages (from transformers) (1.19.4)\n",
      "Requirement already satisfied: six in /usr/local/lib/python3.6/dist-packages (from sacremoses->transformers) (1.15.0)\n",
      "Requirement already satisfied: click in /usr/local/lib/python3.6/dist-packages (from sacremoses->transformers) (7.1.2)\n",
      "Requirement already satisfied: joblib in /usr/local/lib/python3.6/dist-packages (from sacremoses->transformers) (1.0.0)\n",
      "Requirement already satisfied: pyparsing>=2.0.2 in /usr/local/lib/python3.6/dist-packages (from packaging->transformers) (2.4.7)\n",
      "Requirement already satisfied: idna<3,>=2.5 in /usr/local/lib/python3.6/dist-packages (from requests->transformers) (2.10)\n",
      "Requirement already satisfied: urllib3!=1.25.0,!=1.25.1,<1.26,>=1.21.1 in /usr/local/lib/python3.6/dist-packages (from requests->transformers) (1.24.3)\n",
      "Requirement already satisfied: chardet<4,>=3.0.2 in /usr/local/lib/python3.6/dist-packages (from requests->transformers) (3.0.4)\n",
      "Requirement already satisfied: certifi>=2017.4.17 in /usr/local/lib/python3.6/dist-packages (from requests->transformers) (2020.12.5)\n",
      "Building wheels for collected packages: sacremoses\n",
      "  Building wheel for sacremoses (setup.py) ... \u001b[?25l\u001b[?25hdone\n",
      "  Created wheel for sacremoses: filename=sacremoses-0.0.43-cp36-none-any.whl size=893261 sha256=06c6bcb70d11ffd4a1f8a4227d721bff5ef958c185b923abe117ac8d4c7887d0\n",
      "  Stored in directory: /root/.cache/pip/wheels/29/3c/fd/7ce5c3f0666dab31a50123635e6fb5e19ceb42ce38d4e58f45\n",
      "Successfully built sacremoses\n",
      "Installing collected packages: sacremoses, tokenizers, transformers\n",
      "Successfully installed sacremoses-0.0.43 tokenizers-0.9.4 transformers-4.1.1\n"
     ]
    }
   ],
   "source": [
    "!pip install transformers"
   ]
  },
  {
   "cell_type": "markdown",
   "metadata": {
    "id": "2v1AIN_OVX4t"
   },
   "source": [
    "### Importing drive into the colaboratory"
   ]
  },
  {
   "cell_type": "code",
   "execution_count": null,
   "metadata": {
    "id": "Lofimyh2a_tp"
   },
   "outputs": [],
   "source": [
    "from google.colab import drive \n",
    "drive.mount('/content/drive')"
   ]
  },
  {
   "cell_type": "markdown",
   "metadata": {
    "id": "yOK-M00dVeW2"
   },
   "source": [
    "### Importing dataset directories"
   ]
  },
  {
   "cell_type": "code",
   "execution_count": null,
   "metadata": {
    "id": "-y-JRPKBbCTv"
   },
   "outputs": [],
   "source": [
    "from os import getcwd , listdir \n",
    "from os.path import join\n",
    "curr_dir = getcwd()\n",
    "drive_dir = join(curr_dir , 'drive','MyDrive')\n",
    "dataset_dir = join(drive_dir,'Codalab','Offensive Language Identification','Dataset')"
   ]
  },
  {
   "cell_type": "code",
   "execution_count": null,
   "metadata": {
    "colab": {
     "base_uri": "https://localhost:8080/"
    },
    "id": "7YU1h8WhmqvK",
    "outputId": "5067a49d-c91a-4a6e-aa17-48216447ec44"
   },
   "outputs": [
    {
     "data": {
      "text/plain": [
       "['mal_full_offensive_train_corrected.csv',\n",
       " 'mal_full_offensive_dev_corrected.csv',\n",
       " 'kannada_offensive_dev_corrected.csv',\n",
       " 'kannada_offensive_train_corrected.csv',\n",
       " 'tamil_offensive_full_train_corrected.csv',\n",
       " 'tamil_offensive_full_dev_corrected.csv']"
      ]
     },
     "execution_count": 7,
     "metadata": {
      "tags": []
     },
     "output_type": "execute_result"
    }
   ],
   "source": [
    "listdir(dataset_dir)"
   ]
  },
  {
   "cell_type": "markdown",
   "metadata": {
    "id": "FUPkZxjLVjLK"
   },
   "source": [
    "### Loading training data"
   ]
  },
  {
   "cell_type": "code",
   "execution_count": 2,
   "metadata": {
    "colab": {
     "base_uri": "https://localhost:8080/",
     "height": 377
    },
    "id": "joone3H4bINR",
    "outputId": "2a22ac0e-71a8-46e8-bf27-a5f4034d98af"
   },
   "outputs": [
    {
     "name": "stdout",
     "output_type": "stream",
     "text": [
      "Number of training sentences: 778\n",
      "\n"
     ]
    },
    {
     "data": {
      "text/html": [
       "<div>\n",
       "<style scoped>\n",
       "    .dataframe tbody tr th:only-of-type {\n",
       "        vertical-align: middle;\n",
       "    }\n",
       "\n",
       "    .dataframe tbody tr th {\n",
       "        vertical-align: top;\n",
       "    }\n",
       "\n",
       "    .dataframe thead th {\n",
       "        text-align: right;\n",
       "    }\n",
       "</style>\n",
       "<table border=\"1\" class=\"dataframe\">\n",
       "  <thead>\n",
       "    <tr style=\"text-align: right;\">\n",
       "      <th></th>\n",
       "      <th>text</th>\n",
       "    </tr>\n",
       "  </thead>\n",
       "  <tbody>\n",
       "    <tr>\n",
       "      <th>636</th>\n",
       "      <td>Song chindi guru 🥰🥰</td>\n",
       "    </tr>\n",
       "    <tr>\n",
       "      <th>126</th>\n",
       "      <td>ಎಲ್ಲಿಂದನೋ ಕದ್ದಿರೋ ಹಾಗಿದೆ...🤔🤔</td>\n",
       "    </tr>\n",
       "    <tr>\n",
       "      <th>261</th>\n",
       "      <td>Looo bolee makla tiktokersnSule Galla India du...</td>\n",
       "    </tr>\n",
       "    <tr>\n",
       "      <th>371</th>\n",
       "      <td>ಸೂಪರ್ ಬ್ರದರ್ ನೀವು</td>\n",
       "    </tr>\n",
       "    <tr>\n",
       "      <th>44</th>\n",
       "      <td>@Vishal Shetty neenu beedhi soole maga antha g...</td>\n",
       "    </tr>\n",
       "    <tr>\n",
       "      <th>393</th>\n",
       "      <td>Dia movie 2012 nalli banda andala rakshasi mov...</td>\n",
       "    </tr>\n",
       "    <tr>\n",
       "      <th>36</th>\n",
       "      <td>Super song in sandalwood</td>\n",
       "    </tr>\n",
       "    <tr>\n",
       "      <th>343</th>\n",
       "      <td>Sariya kuyde magaaa</td>\n",
       "    </tr>\n",
       "    <tr>\n",
       "      <th>151</th>\n",
       "      <td>Yaw game guru edhu</td>\n",
       "    </tr>\n",
       "    <tr>\n",
       "      <th>644</th>\n",
       "      <td>ಚಾಲೆಂಜಿಂಗ್ ಸ್ಟಾರ್ ದರ್ಶನ್ ಅಭಿಮಾನಿಗಳ ಕಡೆಯಿಂದ ಈ ಚ...</td>\n",
       "    </tr>\n",
       "  </tbody>\n",
       "</table>\n",
       "</div>"
      ],
      "text/plain": [
       "                                                  text\n",
       "636                                Song chindi guru 🥰🥰\n",
       "126                      ಎಲ್ಲಿಂದನೋ ಕದ್ದಿರೋ ಹಾಗಿದೆ...🤔🤔\n",
       "261  Looo bolee makla tiktokersnSule Galla India du...\n",
       "371                                  ಸೂಪರ್ ಬ್ರದರ್ ನೀವು\n",
       "44   @Vishal Shetty neenu beedhi soole maga antha g...\n",
       "393  Dia movie 2012 nalli banda andala rakshasi mov...\n",
       "36                            Super song in sandalwood\n",
       "343                                Sariya kuyde magaaa\n",
       "151                                 Yaw game guru edhu\n",
       "644  ಚಾಲೆಂಜಿಂಗ್ ಸ್ಟಾರ್ ದರ್ಶನ್ ಅಭಿಮಾನಿಗಳ ಕಡೆಯಿಂದ ಈ ಚ..."
      ]
     },
     "execution_count": 2,
     "metadata": {},
     "output_type": "execute_result"
    }
   ],
   "source": [
    "import pandas as pd\n",
    "import numpy as np \n",
    "import random\n",
    "\n",
    "from os import getcwd , listdir \n",
    "from os.path import join\n",
    "curr_dir = getcwd()\n",
    "dataset_dir = join(curr_dir,'Dataset')\n",
    "train_df_path = join(dataset_dir,'kannada_offensive_test.csv')\n",
    "# Load the dataset into a pandas dataframe.\n",
    "df = pd.read_csv(train_df_path)\n",
    "\n",
    "# Report the number of sentences.\n",
    "print('Number of training sentences: {:,}\\n'.format(df.shape[0]))\n",
    "\n",
    "# Display 10 random rows from the data.\n",
    "df.sample(10)"
   ]
  },
  {
   "cell_type": "code",
   "execution_count": null,
   "metadata": {
    "colab": {
     "base_uri": "https://localhost:8080/"
    },
    "id": "w4VW351225YK",
    "outputId": "b35232f1-0177-4850-88b8-efe8a309c39b"
   },
   "outputs": [
    {
     "data": {
      "text/plain": [
       "Not_offensive                           25425\n",
       "Offensive_Untargetede                    2906\n",
       "Offensive_Targeted_Insult_Group          2557\n",
       "Offensive_Targeted_Insult_Individual     2343\n",
       "not-Tamil                                1454\n",
       "Offensive_Targeted_Insult_Other           454\n",
       "Name: label, dtype: int64"
      ]
     },
     "execution_count": 10,
     "metadata": {
      "tags": []
     },
     "output_type": "execute_result"
    }
   ],
   "source": [
    "df['label'].value_counts()"
   ]
  },
  {
   "cell_type": "code",
   "execution_count": null,
   "metadata": {
    "id": "ooOv9QZtnLIF"
   },
   "outputs": [],
   "source": [
    "from sklearn.preprocessing import LabelEncoder\n",
    "le = LabelEncoder()\n",
    "df['label'] = le.fit_transform(df['label'])"
   ]
  },
  {
   "cell_type": "code",
   "execution_count": null,
   "metadata": {
    "colab": {
     "base_uri": "https://localhost:8080/"
    },
    "id": "a89Bf4LpnigU",
    "outputId": "36a1cd3e-76f0-405b-d466-2ab4e6f0f31b"
   },
   "outputs": [
    {
     "data": {
      "text/plain": [
       "0    25425\n",
       "4     2906\n",
       "1     2557\n",
       "2     2343\n",
       "5     1454\n",
       "3      454\n",
       "Name: label, dtype: int64"
      ]
     },
     "execution_count": 12,
     "metadata": {
      "tags": []
     },
     "output_type": "execute_result"
    }
   ],
   "source": [
    "df['label'].value_counts()"
   ]
  },
  {
   "cell_type": "markdown",
   "metadata": {
    "id": "bvNeR4lTVnK0"
   },
   "source": [
    "### Loading `train_sentences` and `train_labels`"
   ]
  },
  {
   "cell_type": "code",
   "execution_count": null,
   "metadata": {
    "id": "EufQZx2dbKMT"
   },
   "outputs": [],
   "source": [
    "# Get the lists of sentences and their labels.\n",
    "train_sentences = df['text'].values\n",
    "train_labels = df['label'].values"
   ]
  },
  {
   "cell_type": "markdown",
   "metadata": {
    "id": "fS2UcOiEVuhm"
   },
   "source": [
    "### Handling class imbalance using `sklearn's comput_class_weight`"
   ]
  },
  {
   "cell_type": "code",
   "execution_count": null,
   "metadata": {
    "colab": {
     "base_uri": "https://localhost:8080/"
    },
    "id": "WL4tP_YkI1mY",
    "outputId": "11a7fce6-81d5-4189-a172-bc144bc47d51"
   },
   "outputs": [
    {
     "name": "stdout",
     "output_type": "stream",
     "text": [
      "[ 0.23034415  2.29037935  2.4995732  12.89977974  2.01531315  4.0278542 ]\n"
     ]
    }
   ],
   "source": [
    "from sklearn.utils.class_weight import compute_class_weight\n",
    "\n",
    "#compute the class weights\n",
    "class_wts = compute_class_weight('balanced', np.unique(train_labels), train_labels)\n",
    "\n",
    "print(class_wts)"
   ]
  },
  {
   "cell_type": "markdown",
   "metadata": {
    "id": "z_WjMTuibsrf"
   },
   "source": [
    "### Helper Functions"
   ]
  },
  {
   "cell_type": "markdown",
   "metadata": {
    "id": "Bef28eHNV-_d"
   },
   "source": [
    "#### 1) Update Interval Function"
   ]
  },
  {
   "cell_type": "code",
   "execution_count": null,
   "metadata": {
    "id": "lBK0ujfEbMir"
   },
   "outputs": [],
   "source": [
    "def good_update_interval(total_iters, num_desired_updates):\n",
    "    '''\n",
    "    This function will try to pick an intelligent progress update interval \n",
    "    based on the magnitude of the total iterations.\n",
    "\n",
    "    Parameters:\n",
    "      `total_iters` - The number of iterations in the for-loop.\n",
    "      `num_desired_updates` - How many times we want to see an update over the \n",
    "                              course of the for-loop.\n",
    "    '''\n",
    "    # Divide the total iterations by the desired number of updates. Most likely\n",
    "    # this will be some ugly number.\n",
    "    exact_interval = total_iters / num_desired_updates\n",
    "\n",
    "    # The `round` function has the ability to round down a number to, e.g., the\n",
    "    # nearest thousandth: round(exact_interval, -3)\n",
    "    #\n",
    "    # To determine the magnitude to round to, find the magnitude of the total,\n",
    "    # and then go one magnitude below that.\n",
    "\n",
    "    # Get the order of magnitude of the total.\n",
    "    order_of_mag = len(str(total_iters)) - 1\n",
    "\n",
    "    # Our update interval should be rounded to an order of magnitude smaller. \n",
    "    round_mag = order_of_mag - 1\n",
    "\n",
    "    # Round down and cast to an int.\n",
    "    update_interval = int(round(exact_interval, -round_mag))\n",
    "\n",
    "    # Don't allow the interval to be zero!\n",
    "    if update_interval == 0:\n",
    "        update_interval = 1\n",
    "\n",
    "    return update_interval"
   ]
  },
  {
   "cell_type": "markdown",
   "metadata": {
    "id": "eMGycwGAWFyO"
   },
   "source": [
    "#### 2) Format time function"
   ]
  },
  {
   "cell_type": "code",
   "execution_count": null,
   "metadata": {
    "id": "c9zVyNQLm-3q"
   },
   "outputs": [],
   "source": [
    "import time\n",
    "import datetime\n",
    "\n",
    "def format_time(elapsed):\n",
    "    '''\n",
    "    Takes a time in seconds and returns a string hh:mm:ss\n",
    "    '''\n",
    "    # Round to the nearest second.\n",
    "    elapsed_rounded = int(round((elapsed)))\n",
    "    \n",
    "    # Format as hh:mm:ss\n",
    "    return str(datetime.timedelta(seconds=elapsed_rounded))\n"
   ]
  },
  {
   "cell_type": "markdown",
   "metadata": {
    "id": "EBAo04ENWw3n"
   },
   "source": [
    "#### 3) Make Smart Batches function"
   ]
  },
  {
   "cell_type": "code",
   "execution_count": null,
   "metadata": {
    "id": "nof-AUeoiZc2"
   },
   "outputs": [],
   "source": [
    "def make_smart_batches(text_samples, labels, batch_size,tokenizer,max_input_length):\n",
    "    '''\n",
    "    This function combines all of the required steps to prepare batches.\n",
    "    '''\n",
    "\n",
    "    print('Creating Smart Batches from {:,} examples with batch size {:,}...\\n'.format(len(text_samples), batch_size))\n",
    "\n",
    "    # =========================\n",
    "    #   Tokenize & Truncate\n",
    "    # =========================\n",
    "\n",
    "    full_input_ids = []\n",
    "\n",
    "    # Tokenize all training examples\n",
    "    print('Tokenizing {:,} samples...'.format(len(labels)))\n",
    "\n",
    "    # Choose an interval on which to print progress updates.\n",
    "    update_interval = good_update_interval(total_iters=len(labels), num_desired_updates=10)\n",
    "\n",
    "    # For each training example...\n",
    "    for text in text_samples:\n",
    "        \n",
    "        # Report progress.\n",
    "        if ((len(full_input_ids) % update_interval) == 0):\n",
    "            print('  Tokenized {:,} samples.'.format(len(full_input_ids)))\n",
    "\n",
    "        # Tokenize the sample.\n",
    "        input_ids = tokenizer.encode(text=text,              # Text to encode.\n",
    "                                    add_special_tokens=True, # Do add specials.\n",
    "                                    max_length=max_input_length,      \n",
    "                                    truncation=True,         # Do Truncate!\n",
    "                                    padding=False)           # DO NOT pad.\n",
    "                                    \n",
    "        # Add the tokenized result to our list.\n",
    "        full_input_ids.append(input_ids)\n",
    "        \n",
    "    print('DONE.')\n",
    "    print('{:>10,} samples\\n'.format(len(full_input_ids)))\n",
    "\n",
    "    # =========================\n",
    "    #      Select Batches\n",
    "    # =========================    \n",
    "\n",
    "    # Sort the two lists together by the length of the input sequence.\n",
    "    samples = sorted(zip(full_input_ids, labels), key=lambda x: len(x[0]))\n",
    "\n",
    "    print('{:>10,} samples after sorting\\n'.format(len(samples)))\n",
    "\n",
    "    import random\n",
    "\n",
    "    # List of batches that we'll construct.\n",
    "    batch_ordered_sentences = []\n",
    "    batch_ordered_labels = []\n",
    "\n",
    "    print('Creating batches of size {:}...'.format(batch_size))\n",
    "\n",
    "    # Choose an interval on which to print progress updates.\n",
    "    update_interval = good_update_interval(total_iters=len(samples), num_desired_updates=10)\n",
    "    \n",
    "    # Loop over all of the input samples...    \n",
    "    while len(samples) > 0:\n",
    "        \n",
    "        # Report progress.\n",
    "        if ((len(batch_ordered_sentences) % update_interval) == 0 \\\n",
    "            and not len(batch_ordered_sentences) == 0):\n",
    "            print('  Selected {:,} batches.'.format(len(batch_ordered_sentences)))\n",
    "\n",
    "        # `to_take` is our actual batch size. It will be `batch_size` until \n",
    "        # we get to the last batch, which may be smaller. \n",
    "        to_take = min(batch_size, len(samples))\n",
    "\n",
    "        # Pick a random index in the list of remaining samples to start\n",
    "        # our batch at.\n",
    "        select = random.randint(0, len(samples) - to_take)\n",
    "\n",
    "        # Select a contiguous batch of samples starting at `select`.\n",
    "        #print(\"Selecting batch from {:} to {:}\".format(select, select+to_take))\n",
    "        batch = samples[select:(select + to_take)]\n",
    "\n",
    "        #print(\"Batch length:\", len(batch))\n",
    "\n",
    "        # Each sample is a tuple--split them apart to create a separate list of \n",
    "        # sequences and a list of labels for this batch.\n",
    "        batch_ordered_sentences.append([s[0] for s in batch])\n",
    "        batch_ordered_labels.append([s[1] for s in batch])\n",
    "\n",
    "        # Remove these samples from the list.\n",
    "        del samples[select:select + to_take]\n",
    "\n",
    "    print('\\n  DONE - Selected {:,} batches.\\n'.format(len(batch_ordered_sentences)))\n",
    "\n",
    "    # =========================\n",
    "    #        Add Padding\n",
    "    # =========================    \n",
    "\n",
    "    print('Padding out sequences within each batch...')\n",
    "\n",
    "    py_inputs = []\n",
    "    py_attn_masks = []\n",
    "    py_labels = []\n",
    "\n",
    "    # For each batch...\n",
    "    for (batch_inputs, batch_labels) in zip(batch_ordered_sentences, batch_ordered_labels):\n",
    "\n",
    "        # New version of the batch, this time with padded sequences and now with\n",
    "        # attention masks defined.\n",
    "        batch_padded_inputs = []\n",
    "        batch_attn_masks = []\n",
    "        \n",
    "        # First, find the longest sample in the batch. \n",
    "        # Note that the sequences do currently include the special tokens!\n",
    "        max_size = max([len(sen) for sen in batch_inputs])\n",
    "\n",
    "        # For each input in this batch...\n",
    "        for sen in batch_inputs:\n",
    "            \n",
    "            # How many pad tokens do we need to add?\n",
    "            num_pads = max_size - len(sen)\n",
    "\n",
    "            # Add `num_pads` padding tokens to the end of the sequence.\n",
    "            padded_input = sen + [tokenizer.pad_token_id]*num_pads\n",
    "\n",
    "            # Define the attention mask--it's just a `1` for every real token\n",
    "            # and a `0` for every padding token.\n",
    "            attn_mask = [1] * len(sen) + [0] * num_pads\n",
    "\n",
    "            # Add the padded results to the batch.\n",
    "            batch_padded_inputs.append(padded_input)\n",
    "            batch_attn_masks.append(attn_mask)\n",
    "\n",
    "        # Our batch has been padded, so we need to save this updated batch.\n",
    "        # We also need the inputs to be PyTorch tensors, so we'll do that here.\n",
    "        # Todo - Michael's code specified \"dtype=torch.long\"\n",
    "        py_inputs.append(torch.tensor(batch_padded_inputs))\n",
    "        py_attn_masks.append(torch.tensor(batch_attn_masks))\n",
    "        py_labels.append(torch.tensor(batch_labels))\n",
    "    \n",
    "    print('  DONE.')\n",
    "\n",
    "    # Return the smart-batched dataset!\n",
    "    return (py_inputs, py_attn_masks, py_labels)\n"
   ]
  },
  {
   "cell_type": "markdown",
   "metadata": {
    "id": "e0FiO9F9Wow2"
   },
   "source": [
    "#### 4) Function for calculating weighted f1 score"
   ]
  },
  {
   "cell_type": "code",
   "execution_count": null,
   "metadata": {
    "id": "2vCW7tsYi52r"
   },
   "outputs": [],
   "source": [
    "def f1_score_func(preds, labels,average):\n",
    "    preds_flat = np.argmax(preds, axis=1).flatten()\n",
    "    labels_flat = labels.flatten()\n",
    "    return f1_score(labels_flat, preds_flat, average=average,labels = np.unique(preds_flat))"
   ]
  },
  {
   "cell_type": "markdown",
   "metadata": {
    "id": "x6EHYpUbz8fo"
   },
   "source": [
    "#### 5) Function for calculating accuracy per class"
   ]
  },
  {
   "cell_type": "code",
   "execution_count": null,
   "metadata": {
    "id": "Knuw_DOei8RO"
   },
   "outputs": [],
   "source": [
    "def accuracy_per_class(preds, labels , label_dict):\n",
    "    \n",
    "    preds_flat = np.argmax(preds, axis=1).flatten()\n",
    "    labels_flat = labels.flatten()\n",
    "\n",
    "    for label in np.unique(labels_flat):\n",
    "        y_preds = preds_flat[labels_flat==label]\n",
    "        y_true = labels_flat[labels_flat==label]\n",
    "        print(f'Class: {label_dict[label]}')\n",
    "        print(f'Accuracy: {round(100*len(y_preds[y_preds==label])/len(y_true) , 2)}\\n')"
   ]
  },
  {
   "cell_type": "markdown",
   "metadata": {
    "id": "OVs3Jb3Vb89i"
   },
   "source": [
    "## Smart Batching of the training data"
   ]
  },
  {
   "cell_type": "code",
   "execution_count": null,
   "metadata": {
    "colab": {
     "base_uri": "https://localhost:8080/",
     "height": 180,
     "referenced_widgets": [
      "e76930e6bedb475486c52fc530b09262",
      "0d4cbdedba0e4c248c35626dd047172b",
      "429d7e92b9064dc696f8077c8496df04",
      "0bebd34af61b4d3b8d56d6c5108a52d9",
      "2a205a806f164f7abb24e047c375ab25",
      "2102c87319d649eea27e537f72ad2758",
      "1d6a5fcd098542fbb651c8f2780873ba",
      "5c5d167efcdd41dfbbd44d78ad5bc3e1",
      "0b2ac29c78a24064971c6daebbaaee4c",
      "58498c55f28640f18a8aea96ed9c0dc3",
      "c9b9dc604e4b479197fc340d60ead98b",
      "70e098a5aff64678a51094c93bd50b77",
      "e48ac1269d6a453bbb23f919bfb3d517",
      "7eda8fd7c90d4ed5932c65cd41204579",
      "a7f419481c534e73bd21f34cf7eb6075",
      "823eb2018df24c2999fc5bb7f2fae289",
      "ece58976ebe34597a72cb82233b64384",
      "efccbaa17874438098d3f1d23735af3c",
      "8b633c3ad04f4fc5b2b629ca5ae45179",
      "c0012543d3c4423f8ba1782d8e016450",
      "743ea2e7b48041059459f0dbe218dd3b",
      "b549afc88f664018b50633ea8c3a060a",
      "d4c6cd8bfd0f4cb7b8d3f9817b77e992",
      "87f86fbb2b654a6d9c8d6d34946b6736"
     ]
    },
    "id": "fIlwEvcMb4pb",
    "outputId": "f401908d-9bf9-443d-8fe2-9791d628b897"
   },
   "outputs": [
    {
     "name": "stdout",
     "output_type": "stream",
     "text": [
      "Loading bert-base-multilingual-uncased tokenizer...\n"
     ]
    },
    {
     "data": {
      "application/vnd.jupyter.widget-view+json": {
       "model_id": "e76930e6bedb475486c52fc530b09262",
       "version_major": 2,
       "version_minor": 0
      },
      "text/plain": [
       "HBox(children=(FloatProgress(value=0.0, description='Downloading', max=625.0, style=ProgressStyle(description_…"
      ]
     },
     "metadata": {
      "tags": []
     },
     "output_type": "display_data"
    },
    {
     "name": "stdout",
     "output_type": "stream",
     "text": [
      "\n"
     ]
    },
    {
     "data": {
      "application/vnd.jupyter.widget-view+json": {
       "model_id": "0b2ac29c78a24064971c6daebbaaee4c",
       "version_major": 2,
       "version_minor": 0
      },
      "text/plain": [
       "HBox(children=(FloatProgress(value=0.0, description='Downloading', max=871891.0, style=ProgressStyle(descripti…"
      ]
     },
     "metadata": {
      "tags": []
     },
     "output_type": "display_data"
    },
    {
     "name": "stdout",
     "output_type": "stream",
     "text": [
      "\n"
     ]
    },
    {
     "data": {
      "application/vnd.jupyter.widget-view+json": {
       "model_id": "ece58976ebe34597a72cb82233b64384",
       "version_major": 2,
       "version_minor": 0
      },
      "text/plain": [
       "HBox(children=(FloatProgress(value=0.0, description='Downloading', max=1715180.0, style=ProgressStyle(descript…"
      ]
     },
     "metadata": {
      "tags": []
     },
     "output_type": "display_data"
    },
    {
     "name": "stdout",
     "output_type": "stream",
     "text": [
      "\n"
     ]
    }
   ],
   "source": [
    "from transformers import AutoTokenizer\n",
    "\n",
    "model_name = 'bert-base-multilingual-uncased'\n",
    "# Load the BERT tokenizer.\n",
    "print(f'Loading {model_name} tokenizer...')\n",
    "tokenizer = AutoTokenizer.from_pretrained(model_name, do_lower_case=True)"
   ]
  },
  {
   "cell_type": "code",
   "execution_count": null,
   "metadata": {
    "id": "cWNt4eOLofmF"
   },
   "outputs": [],
   "source": [
    "lengths = []\n",
    "for text in train_sentences:\n",
    "  lengths.append(len(text))       \n",
    "    "
   ]
  },
  {
   "cell_type": "code",
   "execution_count": null,
   "metadata": {
    "colab": {
     "base_uri": "https://localhost:8080/",
     "height": 427
    },
    "id": "hbdGRA3Bo02O",
    "outputId": "db46bf1b-720b-4bb4-9f67-80ec2ec366b0"
   },
   "outputs": [
    {
     "data": {
      "image/png": "[encoded data removed]",
      "text/plain": [
       "<Figure size 864x432 with 1 Axes>"
      ]
     },
     "metadata": {
      "tags": []
     },
     "output_type": "display_data"
    }
   ],
   "source": [
    "import matplotlib.pyplot as plt\n",
    "import seaborn as sns\n",
    "\n",
    "# Use plot styling from seaborn.\n",
    "sns.set(style='darkgrid')\n",
    "\n",
    "# Increase the plot size and font size.\n",
    "sns.set(font_scale=1.5)\n",
    "plt.rcParams[\"figure.figsize\"] = (12,6)\n",
    "\n",
    "plt.scatter(range(0, len(lengths)), lengths, marker=\"|\")\n",
    "\n",
    "plt.xlabel('Sample Number')\n",
    "plt.ylabel('Sequence Length')\n",
    "plt.title('Samples BEFORE Tokenizing')\n",
    "\n",
    "plt.show()"
   ]
  },
  {
   "cell_type": "markdown",
   "metadata": {
    "id": "9rMhLNhPcZjU"
   },
   "source": [
    "### Tokenizing the sequences"
   ]
  },
  {
   "cell_type": "code",
   "execution_count": null,
   "metadata": {
    "id": "t7JsLi3EdEje"
   },
   "outputs": [],
   "source": [
    "max_input_length = 512"
   ]
  },
  {
   "cell_type": "code",
   "execution_count": null,
   "metadata": {
    "colab": {
     "base_uri": "https://localhost:8080/"
    },
    "id": "J968o8RJcUEd",
    "outputId": "0584a011-5153-46b6-ec2f-d99d9b829fcd"
   },
   "outputs": [
    {
     "name": "stdout",
     "output_type": "stream",
     "text": [
      "Tokenizing 35,139 training samples...\n",
      "  Tokenized 0 samples.\n",
      "  Tokenized 4,000 samples.\n",
      "  Tokenized 8,000 samples.\n",
      "  Tokenized 12,000 samples.\n",
      "  Tokenized 16,000 samples.\n",
      "  Tokenized 20,000 samples.\n",
      "  Tokenized 24,000 samples.\n",
      "  Tokenized 28,000 samples.\n",
      "  Tokenized 32,000 samples.\n",
      "DONE.\n",
      "    35,139 samples\n"
     ]
    }
   ],
   "source": [
    "full_input_ids = []\n",
    "labels = []\n",
    "\n",
    "# Tokenize all training examples\n",
    "print('Tokenizing {:,} training samples...'.format(len(train_sentences)))\n",
    "\n",
    "# Choose an interval on which to print progress updates.\n",
    "update_interval = good_update_interval(total_iters=len(train_sentences), num_desired_updates=10)\n",
    "\n",
    "# For each training example...\n",
    "for text in train_sentences:\n",
    "    \n",
    "    # Report progress.\n",
    "    if ((len(full_input_ids) % update_interval) == 0):\n",
    "        print('  Tokenized {:,} samples.'.format(len(full_input_ids)))\n",
    "\n",
    "    # Tokenize the sentence.\n",
    "    input_ids = tokenizer.encode(text=text,           \n",
    "                                 add_special_tokens=True, \n",
    "                                 max_length=max_input_length,  \n",
    "                                 truncation=True,     \n",
    "                                 padding=False)       \n",
    "                                 \n",
    "    # Add the tokenized result to our list.\n",
    "    full_input_ids.append(input_ids)\n",
    "    \n",
    "print('DONE.')\n",
    "print('{:>10,} samples'.format(len(full_input_ids)))"
   ]
  },
  {
   "cell_type": "code",
   "execution_count": null,
   "metadata": {
    "id": "rZzhO2tZeXur"
   },
   "outputs": [],
   "source": [
    "# Get all of the lengths.\n",
    "unsorted_lengths = [len(x) for x in full_input_ids]"
   ]
  },
  {
   "cell_type": "code",
   "execution_count": null,
   "metadata": {
    "colab": {
     "base_uri": "https://localhost:8080/",
     "height": 427
    },
    "id": "x7c_mYuVed_H",
    "outputId": "5f72983f-8a15-4653-f433-e0fc5ce8b216"
   },
   "outputs": [
    {
     "data": {
      "image/png": "[encoded data removed]",
      "text/plain": [
       "<Figure size 864x432 with 1 Axes>"
      ]
     },
     "metadata": {
      "tags": []
     },
     "output_type": "display_data"
    }
   ],
   "source": [
    "import matplotlib.pyplot as plt\n",
    "import seaborn as sns\n",
    "\n",
    "# Use plot styling from seaborn.\n",
    "sns.set(style='darkgrid')\n",
    "\n",
    "# Increase the plot size and font size.\n",
    "sns.set(font_scale=1.5)\n",
    "plt.rcParams[\"figure.figsize\"] = (12,6)\n",
    "\n",
    "plt.scatter(range(0, len(unsorted_lengths)), unsorted_lengths, marker=\"|\")\n",
    "\n",
    "plt.xlabel('Sample Number')\n",
    "plt.ylabel('Sequence Length')\n",
    "plt.title('Samples BEFORE Sorting')\n",
    "\n",
    "plt.show()"
   ]
  },
  {
   "cell_type": "code",
   "execution_count": null,
   "metadata": {
    "id": "7PaeohUVegmv"
   },
   "outputs": [],
   "source": [
    "# Sort the two lists together by the length of the input sequence.\n",
    "train_samples = sorted(zip(full_input_ids, train_labels), key=lambda x: len(x[0]))"
   ]
  },
  {
   "cell_type": "code",
   "execution_count": null,
   "metadata": {
    "colab": {
     "base_uri": "https://localhost:8080/"
    },
    "id": "_9nyx-BtepE4",
    "outputId": "5dedeb45-cbe1-4a3f-ad1e-1430f7a292cc"
   },
   "outputs": [
    {
     "data": {
      "text/plain": [
       "[([101, 90569, 102], 0),\n",
       " ([101, 12050, 102], 0),\n",
       " ([101, 12278, 11424, 102], 0),\n",
       " ([101, 12278, 26895, 102], 0),\n",
       " ([101, 17141, 17141, 102], 0)]"
      ]
     },
     "execution_count": 36,
     "metadata": {
      "tags": []
     },
     "output_type": "execute_result"
    }
   ],
   "source": [
    "train_samples[0:5]"
   ]
  },
  {
   "cell_type": "code",
   "execution_count": null,
   "metadata": {
    "colab": {
     "base_uri": "https://localhost:8080/"
    },
    "id": "rBxJhEieetFh",
    "outputId": "36699230-dbec-45bd-f747-ca373ff2c3cc"
   },
   "outputs": [
    {
     "name": "stdout",
     "output_type": "stream",
     "text": [
      "Shortest sample: 3\n",
      "Longest sample: 512\n"
     ]
    }
   ],
   "source": [
    "print('Shortest sample:', len(train_samples[0][0]))\n",
    "print('Longest sample:', len(train_samples[-1][0]))"
   ]
  },
  {
   "cell_type": "code",
   "execution_count": null,
   "metadata": {
    "id": "P44bFOI-e7hW"
   },
   "outputs": [],
   "source": [
    "# Get the new list of lengths after sorting.\n",
    "sorted_lengths = [len(s[0]) for s in train_samples]"
   ]
  },
  {
   "cell_type": "code",
   "execution_count": null,
   "metadata": {
    "colab": {
     "base_uri": "https://localhost:8080/",
     "height": 427
    },
    "id": "9P5ZX99le_G1",
    "outputId": "88cd2b21-397e-4e06-8650-b8ac81b18a84"
   },
   "outputs": [
    {
     "data": {
      "image/png": "[encoded data removed]",
      "text/plain": [
       "<Figure size 864x432 with 1 Axes>"
      ]
     },
     "metadata": {
      "tags": []
     },
     "output_type": "display_data"
    }
   ],
   "source": [
    "import matplotlib.pyplot as plt\n",
    "import seaborn as sns\n",
    "\n",
    "# Use plot styling from seaborn.\n",
    "sns.set(style='darkgrid')\n",
    "\n",
    "# Increase the plot size and font size.\n",
    "sns.set(font_scale=1.5)\n",
    "plt.rcParams[\"figure.figsize\"] = (12,6)\n",
    "\n",
    "plt.plot(range(0, len(sorted_lengths)), sorted_lengths)\n",
    "\n",
    "plt.xlabel('Sample Number')\n",
    "plt.ylabel('Sequence Length')\n",
    "plt.title('Samples after Sorting')\n",
    "\n",
    "plt.show()"
   ]
  },
  {
   "cell_type": "markdown",
   "metadata": {
    "id": "Eh1z0xugfF2t"
   },
   "source": [
    "### Random Batch Selections"
   ]
  },
  {
   "cell_type": "code",
   "execution_count": null,
   "metadata": {
    "colab": {
     "base_uri": "https://localhost:8080/"
    },
    "id": "gPrYkFMcgm5H",
    "outputId": "7650cf7d-65bc-45a3-c9ab-2e161699d03f"
   },
   "outputs": [
    {
     "data": {
      "text/plain": [
       "([101, 90569, 102], 0)"
      ]
     },
     "execution_count": 40,
     "metadata": {
      "tags": []
     },
     "output_type": "execute_result"
    }
   ],
   "source": [
    "train_samples[0]"
   ]
  },
  {
   "cell_type": "code",
   "execution_count": null,
   "metadata": {
    "id": "isMxwgezfAvO"
   },
   "outputs": [],
   "source": [
    "batch_size = 16"
   ]
  },
  {
   "cell_type": "code",
   "execution_count": null,
   "metadata": {
    "colab": {
     "base_uri": "https://localhost:8080/"
    },
    "id": "s0tjD8pIfJ0S",
    "outputId": "122b3c00-ed52-40ba-ded2-6483f20462a9"
   },
   "outputs": [
    {
     "name": "stdout",
     "output_type": "stream",
     "text": [
      "Creating training batches of size 16\n",
      "  Selected 0 batches.\n",
      "  Selected 100 batches.\n",
      "  Selected 200 batches.\n",
      "  Selected 300 batches.\n",
      "  Selected 400 batches.\n",
      "  Selected 500 batches.\n",
      "  Selected 600 batches.\n",
      "  Selected 700 batches.\n",
      "  Selected 800 batches.\n",
      "  Selected 900 batches.\n",
      "  Selected 1,000 batches.\n",
      "  Selected 1,100 batches.\n",
      "  Selected 1,200 batches.\n",
      "  Selected 1,300 batches.\n",
      "  Selected 1,400 batches.\n",
      "  Selected 1,500 batches.\n",
      "  Selected 1,600 batches.\n",
      "  Selected 1,700 batches.\n",
      "  Selected 1,800 batches.\n",
      "  Selected 1,900 batches.\n",
      "  Selected 2,000 batches.\n",
      "  Selected 2,100 batches.\n",
      "\n",
      "  DONE - 2,197 batches.\n"
     ]
    }
   ],
   "source": [
    "import random\n",
    "\n",
    "# List of batches that we'll construct.\n",
    "batch_ordered_sentences = []\n",
    "batch_ordered_labels = []\n",
    "\n",
    "print('Creating training batches of size {:}'.format(batch_size))\n",
    "\n",
    "# Loop over all of the input samples...    \n",
    "while len(train_samples) > 0:\n",
    "    \n",
    "    # Report progress.\n",
    "    if ((len(batch_ordered_sentences) % 100) == 0):\n",
    "        print('  Selected {:,} batches.'.format(len(batch_ordered_sentences)))\n",
    "\n",
    "    # `to_take` is our actual batch size. It will be `batch_size` until \n",
    "    # we get to the last batch, which may be smaller. \n",
    "    to_take = min(batch_size, len(train_samples))\n",
    "\n",
    "    # Pick a random index in the list of remaining samples to start\n",
    "    # our batch at.\n",
    "    select = random.randint(0, len(train_samples) - to_take)\n",
    "\n",
    "    # Select a contiguous batch of samples starting at `select`.\n",
    "    batch = train_samples[select:(select + to_take)]\n",
    "\n",
    "    # Each sample is a tuple--split them apart to create a separate list of \n",
    "    # sequences and a list of labels for this batch.\n",
    "    batch_ordered_sentences.append([s[0] for s in batch])\n",
    "    batch_ordered_labels.append([s[1] for s in batch])\n",
    "\n",
    "    # Remove these samples from the list.\n",
    "    del train_samples[select:select + to_take]\n",
    "\n",
    "print('\\n  DONE - {:,} batches.'.format(len(batch_ordered_sentences)))"
   ]
  },
  {
   "cell_type": "code",
   "execution_count": null,
   "metadata": {
    "colab": {
     "base_uri": "https://localhost:8080/"
    },
    "id": "rf91Dd3LhBaP",
    "outputId": "074a71b4-41e0-4585-9b3c-0457af79f587"
   },
   "outputs": [
    {
     "name": "stdout",
     "output_type": "stream",
     "text": [
      "[[101, 25767, 10206, 17141, 26010, 10208, 10197, 64265, 10115, 119, 40046, 31520, 12817, 16211, 19355, 28772, 10250, 30954, 10150, 102], [101, 48651, 47560, 10335, 10544, 27266, 60899, 13204, 29756, 37642, 10953, 11652, 10953, 23626, 43257, 21952, 29744, 13238, 10281, 102], [101, 44194, 26010, 11801, 10323, 70370, 119, 119, 119, 35926, 65989, 10358, 23170, 85041, 21290, 11531, 11266, 31615, 10112, 102], [101, 151, 12787, 12062, 10923, 119, 185, 44392, 10275, 12810, 10855, 10320, 12062, 57840, 10104, 11166, 151, 10195, 23692, 102], [101, 22783, 31155, 44879, 10150, 10119, 13040, 10316, 10293, 10911, 64615, 14458, 10553, 10119, 10206, 26240, 10998, 10415, 80232, 102], [101, 800, 13411, 30859, 37836, 808, 13744, 17544, 15241, 12076, 802, 15241, 85286, 12146, 818, 13744, 40806, 95588, 12076, 102], [101, 11664, 10112, 17141, 40046, 31520, 10375, 64956, 10367, 60060, 12168, 12168, 12168, 164, 10428, 10141, 15618, 15618, 10112, 102], [101, 94721, 21018, 10115, 19048, 14105, 11531, 14048, 108, 94721, 21018, 53939, 13934, 108, 10293, 21326, 10417, 10251, 12932, 102], [101, 10593, 29173, 30107, 14337, 10911, 13665, 30939, 65968, 10158, 34742, 78236, 15878, 10553, 12895, 10992, 10367, 60060, 10136, 102], [101, 37079, 42279, 10688, 30082, 13377, 10141, 11565, 17668, 11064, 10141, 39487, 11082, 26584, 10136, 28913, 12987, 10547, 10141, 102], [101, 96171, 10476, 58593, 10106, 10593, 11859, 13997, 14618, 10999, 10375, 136, 11531, 20141, 10211, 35926, 20399, 83248, 11064, 102], [101, 13734, 11596, 21952, 10206, 10190, 10785, 119, 119, 119, 25238, 33508, 12645, 11266, 10112, 10190, 10785, 119, 119, 102], [101, 15506, 818, 88811, 813, 14916, 18786, 810, 26950, 26950, 818, 37025, 18570, 28245, 13146, 46071, 119, 119, 119, 102], [101, 13195, 10434, 149, 10434, 43898, 15232, 10243, 18137, 10838, 17015, 10136, 11266, 78830, 117, 117, 117, 53381, 10150, 102], [101, 16878, 41684, 44392, 19048, 11531, 14618, 22531, 10112, 119, 13161, 13734, 13584, 41371, 10352, 14618, 10999, 12123, 10547, 102], [101, 56923, 10112, 15608, 11064, 23170, 22077, 10553, 90075, 43257, 10146, 36415, 14381, 31737, 10141, 10192, 119, 119, 119, 102]]\n"
     ]
    }
   ],
   "source": [
    "print(batch_ordered_sentences[0])"
   ]
  },
  {
   "cell_type": "code",
   "execution_count": null,
   "metadata": {
    "colab": {
     "base_uri": "https://localhost:8080/"
    },
    "id": "qmkQK_gVgiTu",
    "outputId": "77f9356e-df1c-46b8-c467-0b74ae9545c6"
   },
   "outputs": [
    {
     "data": {
      "text/plain": [
       "[0, 0, 0, 0, 0, 0, 0, 5, 0, 4, 1, 0, 0, 2, 0, 0]"
      ]
     },
     "execution_count": 44,
     "metadata": {
      "tags": []
     },
     "output_type": "execute_result"
    }
   ],
   "source": [
    "batch_ordered_labels[0]"
   ]
  },
  {
   "cell_type": "markdown",
   "metadata": {
    "id": "xZ0TFA8Mfn6m"
   },
   "source": [
    "### Padding"
   ]
  },
  {
   "cell_type": "code",
   "execution_count": null,
   "metadata": {
    "id": "c9rdswcpfTip"
   },
   "outputs": [],
   "source": [
    "import torch\n",
    "\n",
    "py_inputs = []\n",
    "py_attn_masks = []\n",
    "py_labels = []\n",
    "\n",
    "# For each batch...\n",
    "for (batch_inputs, batch_labels) in zip(batch_ordered_sentences, batch_ordered_labels):\n",
    "\n",
    "    # New version of the batch, this time with padded sequences and now with\n",
    "    # attention masks defined.\n",
    "    batch_padded_inputs = []\n",
    "    batch_attn_masks = []\n",
    "    \n",
    "    # First, find the longest sample in the batch. \n",
    "    # Note that the sequences do currently include the special tokens!\n",
    "    max_size = max([len(sen) for sen in batch_inputs])\n",
    "\n",
    "    #print('Max size:', max_size)\n",
    "\n",
    "    # For each input in this batch...\n",
    "    for sen in batch_inputs:\n",
    "        \n",
    "        # How many pad tokens do we need to add?\n",
    "        num_pads = max_size - len(sen)\n",
    "\n",
    "        # Add `num_pads` padding tokens to the end of the sequence.\n",
    "        padded_input = sen + [tokenizer.pad_token_id]*num_pads\n",
    "\n",
    "        # Define the attention mask--it's just a `1` for every real token\n",
    "        # and a `0` for every padding token.\n",
    "        attn_mask = [1] * len(sen) + [0] * num_pads\n",
    "\n",
    "        # Add the padded results to the batch.\n",
    "        batch_padded_inputs.append(padded_input)\n",
    "        batch_attn_masks.append(attn_mask)\n",
    "\n",
    "    # Our batch has been padded, so we need to save this updated batch.\n",
    "    # We also need the inputs to be PyTorch tensors, so we'll do that here.\n",
    "    py_inputs.append(torch.tensor(batch_padded_inputs))\n",
    "    py_attn_masks.append(torch.tensor(batch_attn_masks))\n",
    "    py_labels.append(torch.tensor(batch_labels))\n"
   ]
  },
  {
   "cell_type": "markdown",
   "metadata": {
    "id": "roS5lLWdX-5J"
   },
   "source": [
    "### Check the number of token reductions because of smart batching"
   ]
  },
  {
   "cell_type": "code",
   "execution_count": null,
   "metadata": {
    "colab": {
     "base_uri": "https://localhost:8080/"
    },
    "id": "wlh7cteVfroV",
    "outputId": "7434e4b2-1c15-4f82-8263-b34ee9a44e64"
   },
   "outputs": [
    {
     "name": "stdout",
     "output_type": "stream",
     "text": [
      "Total tokens:\n",
      "   Fixed Padding: 17,991,168\n",
      "  Smart Batching: 989,584  (94.5% less)\n"
     ]
    }
   ],
   "source": [
    "# Get the new list of lengths after sorting.\n",
    "import numpy as np\n",
    "padded_lengths = []\n",
    "\n",
    "# For each batch...\n",
    "for batch in py_inputs:\n",
    "    \n",
    "    # For each sample...\n",
    "    for s in batch:\n",
    "    \n",
    "        # Record its length.\n",
    "        padded_lengths.append(len(s))\n",
    "\n",
    "# Sum up the lengths to the get the total number of tokens after smart batching.\n",
    "smart_token_count = np.sum(padded_lengths)\n",
    "\n",
    "# To get the total number of tokens in the dataset using fixed padding, it's\n",
    "# as simple as the number of samples times our `max_len` parameter (that we\n",
    "# would pad everything to).\n",
    "fixed_token_count = len(train_sentences) * max_input_length\n",
    "\n",
    "# Calculate the percentage reduction.\n",
    "prcnt_reduced = (fixed_token_count - smart_token_count) / float(fixed_token_count) \n",
    "\n",
    "print('Total tokens:')\n",
    "print('   Fixed Padding: {:,}'.format(fixed_token_count))\n",
    "print('  Smart Batching: {:,}  ({:.1%} less)'.format(smart_token_count, prcnt_reduced))\n"
   ]
  },
  {
   "cell_type": "markdown",
   "metadata": {
    "id": "8wgdhsI-YIAL"
   },
   "source": [
    "#### Load the model configuration from the transformers library using AutoConfig"
   ]
  },
  {
   "cell_type": "code",
   "execution_count": null,
   "metadata": {
    "colab": {
     "base_uri": "https://localhost:8080/"
    },
    "id": "9er7EHvdfudf",
    "outputId": "824fe19b-fd4d-4403-ff53-91d67945ffca"
   },
   "outputs": [
    {
     "name": "stdout",
     "output_type": "stream",
     "text": [
      "Config type: <class 'transformers.models.bert.configuration_bert.BertConfig'> \n",
      "\n"
     ]
    }
   ],
   "source": [
    "from transformers import AutoConfig\n",
    "\n",
    "# Load the Config object, with an output configured for classification.\n",
    "config = AutoConfig.from_pretrained(pretrained_model_name_or_path=model_name,\n",
    "                                    num_labels=4)\n",
    "\n",
    "print('Config type:', str(type(config)), '\\n')\n"
   ]
  },
  {
   "cell_type": "markdown",
   "metadata": {
    "id": "SXJHBVlxYR-l"
   },
   "source": [
    "#### Load the model from the transformers library using AutoModel"
   ]
  },
  {
   "cell_type": "code",
   "execution_count": null,
   "metadata": {
    "colab": {
     "base_uri": "https://localhost:8080/",
     "height": 99,
     "referenced_widgets": [
      "87efdd9e2562448fb4b72573e608e609",
      "53455829a4d54f85a4401399f76dd59a",
      "3f3794497c0d44849f1740e38a1c180f",
      "b9407c4731be495c9e59052129553a56",
      "284327db43414244ad5a16b28b144381",
      "f5fd1010ad694da280e9eb7b2b46a0da",
      "9f740f2a593d489fa58183b2f8740c48",
      "ebdfa55b96cc40bea122d129724c6f72"
     ]
    },
    "id": "n8J4r6KyhveR",
    "outputId": "8fc1cc5d-5016-4f86-d7d0-1918fbc9667b"
   },
   "outputs": [
    {
     "data": {
      "application/vnd.jupyter.widget-view+json": {
       "model_id": "87efdd9e2562448fb4b72573e608e609",
       "version_major": 2,
       "version_minor": 0
      },
      "text/plain": [
       "HBox(children=(FloatProgress(value=0.0, description='Downloading', max=672271273.0, style=ProgressStyle(descri…"
      ]
     },
     "metadata": {
      "tags": []
     },
     "output_type": "display_data"
    },
    {
     "name": "stdout",
     "output_type": "stream",
     "text": [
      "\n",
      "\n",
      "Model type: <class 'transformers.models.bert.modeling_bert.BertModel'>\n"
     ]
    }
   ],
   "source": [
    "from transformers import AutoModel\n",
    "\n",
    "# Load the pre-trained model for classification, passing in the `config` from\n",
    "# above.\n",
    "bert = AutoModel.from_pretrained(\n",
    "    pretrained_model_name_or_path=model_name,\n",
    "    config=config)\n",
    "\n",
    "print('\\nModel type:', str(type(bert)))\n"
   ]
  },
  {
   "cell_type": "code",
   "execution_count": null,
   "metadata": {
    "id": "RcFMgf5EuPAF"
   },
   "outputs": [],
   "source": [
    "# freeze all the parameters\n",
    "for param in bert.parameters():\n",
    "    param.requires_grad = False"
   ]
  },
  {
   "cell_type": "markdown",
   "metadata": {
    "id": "NS_-0rBDYeY5"
   },
   "source": [
    "#### Creating a custom BERT model "
   ]
  },
  {
   "cell_type": "code",
   "execution_count": null,
   "metadata": {
    "id": "bmGtZwykJ39i"
   },
   "outputs": [],
   "source": [
    "import torch.nn as nn\n",
    "class BERT_Model(nn.Module):\n",
    "    ## defining the constructor for the class\n",
    "    def __init__(self, bert,num_labels):\n",
    "      ## calling the super class constructor\n",
    "      super(BERT_Model, self).__init__()\n",
    "      ## adding the bert layer to the model\n",
    "      self.bert = bert        \n",
    "      # relu activation function\n",
    "      self.relu =  nn.ReLU()\n",
    "      # adding a dense layer to our custom model\n",
    "      self.fc1 = nn.Linear(768,512)\n",
    "      # adding another dense layer to our custom model ,i.e., the Output layer\n",
    "      self.fc2 = nn.Linear(512,num_labels)\n",
    "      # adding a softmax  activation function for our custom model's output layer\n",
    "      self.softmax = nn.LogSoftmax(dim=1)\n",
    "\n",
    "    #defining the forward pass\n",
    "    def forward(self, input_id, mask):\n",
    "      #pass the inputs to the model  \n",
    "      outputs = self.bert(input_id,mask)\n",
    "  \n",
    "      last_hidden_state = outputs.last_hidden_state       ## last hidden state from the model\n",
    "      pooler_output = outputs.pooler_output               ## pooler output from the model\n",
    "      ## adding a fully connected layer to the BERT model\n",
    "      x = self.fc1(pooler_output)\n",
    "      ## applying relu activation function\n",
    "      x = self.relu(x)\n",
    "      # the final output layer\n",
    "      x = self.fc2(x)\n",
    "      # apply softmax activation to our output layer\n",
    "      x = self.softmax(x)\n",
    "\n",
    "      return x"
   ]
  },
  {
   "cell_type": "code",
   "execution_count": null,
   "metadata": {
    "colab": {
     "base_uri": "https://localhost:8080/"
    },
    "id": "jvOs0G5sh02S",
    "outputId": "4610a4e8-5118-4ffe-f961-f8022c47731e"
   },
   "outputs": [
    {
     "name": "stdout",
     "output_type": "stream",
     "text": [
      "\n",
      "Loading model ...\n"
     ]
    },
    {
     "data": {
      "text/plain": [
       "BERT_Model(\n",
       "  (bert): BertModel(\n",
       "    (embeddings): BertEmbeddings(\n",
       "      (word_embeddings): Embedding(105879, 768, padding_idx=0)\n",
       "      (position_embeddings): Embedding(512, 768)\n",
       "      (token_type_embeddings): Embedding(2, 768)\n",
       "      (LayerNorm): LayerNorm((768,), eps=1e-12, elementwise_affine=True)\n",
       "      (dropout): Dropout(p=0.1, inplace=False)\n",
       "    )\n",
       "    (encoder): BertEncoder(\n",
       "      (layer): ModuleList(\n",
       "        (0): BertLayer(\n",
       "          (attention): BertAttention(\n",
       "            (self): BertSelfAttention(\n",
       "              (query): Linear(in_features=768, out_features=768, bias=True)\n",
       "              (key): Linear(in_features=768, out_features=768, bias=True)\n",
       "              (value): Linear(in_features=768, out_features=768, bias=True)\n",
       "              (dropout): Dropout(p=0.1, inplace=False)\n",
       "            )\n",
       "            (output): BertSelfOutput(\n",
       "              (dense): Linear(in_features=768, out_features=768, bias=True)\n",
       "              (LayerNorm): LayerNorm((768,), eps=1e-12, elementwise_affine=True)\n",
       "              (dropout): Dropout(p=0.1, inplace=False)\n",
       "            )\n",
       "          )\n",
       "          (intermediate): BertIntermediate(\n",
       "            (dense): Linear(in_features=768, out_features=3072, bias=True)\n",
       "          )\n",
       "          (output): BertOutput(\n",
       "            (dense): Linear(in_features=3072, out_features=768, bias=True)\n",
       "            (LayerNorm): LayerNorm((768,), eps=1e-12, elementwise_affine=True)\n",
       "            (dropout): Dropout(p=0.1, inplace=False)\n",
       "          )\n",
       "        )\n",
       "        (1): BertLayer(\n",
       "          (attention): BertAttention(\n",
       "            (self): BertSelfAttention(\n",
       "              (query): Linear(in_features=768, out_features=768, bias=True)\n",
       "              (key): Linear(in_features=768, out_features=768, bias=True)\n",
       "              (value): Linear(in_features=768, out_features=768, bias=True)\n",
       "              (dropout): Dropout(p=0.1, inplace=False)\n",
       "            )\n",
       "            (output): BertSelfOutput(\n",
       "              (dense): Linear(in_features=768, out_features=768, bias=True)\n",
       "              (LayerNorm): LayerNorm((768,), eps=1e-12, elementwise_affine=True)\n",
       "              (dropout): Dropout(p=0.1, inplace=False)\n",
       "            )\n",
       "          )\n",
       "          (intermediate): BertIntermediate(\n",
       "            (dense): Linear(in_features=768, out_features=3072, bias=True)\n",
       "          )\n",
       "          (output): BertOutput(\n",
       "            (dense): Linear(in_features=3072, out_features=768, bias=True)\n",
       "            (LayerNorm): LayerNorm((768,), eps=1e-12, elementwise_affine=True)\n",
       "            (dropout): Dropout(p=0.1, inplace=False)\n",
       "          )\n",
       "        )\n",
       "        (2): BertLayer(\n",
       "          (attention): BertAttention(\n",
       "            (self): BertSelfAttention(\n",
       "              (query): Linear(in_features=768, out_features=768, bias=True)\n",
       "              (key): Linear(in_features=768, out_features=768, bias=True)\n",
       "              (value): Linear(in_features=768, out_features=768, bias=True)\n",
       "              (dropout): Dropout(p=0.1, inplace=False)\n",
       "            )\n",
       "            (output): BertSelfOutput(\n",
       "              (dense): Linear(in_features=768, out_features=768, bias=True)\n",
       "              (LayerNorm): LayerNorm((768,), eps=1e-12, elementwise_affine=True)\n",
       "              (dropout): Dropout(p=0.1, inplace=False)\n",
       "            )\n",
       "          )\n",
       "          (intermediate): BertIntermediate(\n",
       "            (dense): Linear(in_features=768, out_features=3072, bias=True)\n",
       "          )\n",
       "          (output): BertOutput(\n",
       "            (dense): Linear(in_features=3072, out_features=768, bias=True)\n",
       "            (LayerNorm): LayerNorm((768,), eps=1e-12, elementwise_affine=True)\n",
       "            (dropout): Dropout(p=0.1, inplace=False)\n",
       "          )\n",
       "        )\n",
       "        (3): BertLayer(\n",
       "          (attention): BertAttention(\n",
       "            (self): BertSelfAttention(\n",
       "              (query): Linear(in_features=768, out_features=768, bias=True)\n",
       "              (key): Linear(in_features=768, out_features=768, bias=True)\n",
       "              (value): Linear(in_features=768, out_features=768, bias=True)\n",
       "              (dropout): Dropout(p=0.1, inplace=False)\n",
       "            )\n",
       "            (output): BertSelfOutput(\n",
       "              (dense): Linear(in_features=768, out_features=768, bias=True)\n",
       "              (LayerNorm): LayerNorm((768,), eps=1e-12, elementwise_affine=True)\n",
       "              (dropout): Dropout(p=0.1, inplace=False)\n",
       "            )\n",
       "          )\n",
       "          (intermediate): BertIntermediate(\n",
       "            (dense): Linear(in_features=768, out_features=3072, bias=True)\n",
       "          )\n",
       "          (output): BertOutput(\n",
       "            (dense): Linear(in_features=3072, out_features=768, bias=True)\n",
       "            (LayerNorm): LayerNorm((768,), eps=1e-12, elementwise_affine=True)\n",
       "            (dropout): Dropout(p=0.1, inplace=False)\n",
       "          )\n",
       "        )\n",
       "        (4): BertLayer(\n",
       "          (attention): BertAttention(\n",
       "            (self): BertSelfAttention(\n",
       "              (query): Linear(in_features=768, out_features=768, bias=True)\n",
       "              (key): Linear(in_features=768, out_features=768, bias=True)\n",
       "              (value): Linear(in_features=768, out_features=768, bias=True)\n",
       "              (dropout): Dropout(p=0.1, inplace=False)\n",
       "            )\n",
       "            (output): BertSelfOutput(\n",
       "              (dense): Linear(in_features=768, out_features=768, bias=True)\n",
       "              (LayerNorm): LayerNorm((768,), eps=1e-12, elementwise_affine=True)\n",
       "              (dropout): Dropout(p=0.1, inplace=False)\n",
       "            )\n",
       "          )\n",
       "          (intermediate): BertIntermediate(\n",
       "            (dense): Linear(in_features=768, out_features=3072, bias=True)\n",
       "          )\n",
       "          (output): BertOutput(\n",
       "            (dense): Linear(in_features=3072, out_features=768, bias=True)\n",
       "            (LayerNorm): LayerNorm((768,), eps=1e-12, elementwise_affine=True)\n",
       "            (dropout): Dropout(p=0.1, inplace=False)\n",
       "          )\n",
       "        )\n",
       "        (5): BertLayer(\n",
       "          (attention): BertAttention(\n",
       "            (self): BertSelfAttention(\n",
       "              (query): Linear(in_features=768, out_features=768, bias=True)\n",
       "              (key): Linear(in_features=768, out_features=768, bias=True)\n",
       "              (value): Linear(in_features=768, out_features=768, bias=True)\n",
       "              (dropout): Dropout(p=0.1, inplace=False)\n",
       "            )\n",
       "            (output): BertSelfOutput(\n",
       "              (dense): Linear(in_features=768, out_features=768, bias=True)\n",
       "              (LayerNorm): LayerNorm((768,), eps=1e-12, elementwise_affine=True)\n",
       "              (dropout): Dropout(p=0.1, inplace=False)\n",
       "            )\n",
       "          )\n",
       "          (intermediate): BertIntermediate(\n",
       "            (dense): Linear(in_features=768, out_features=3072, bias=True)\n",
       "          )\n",
       "          (output): BertOutput(\n",
       "            (dense): Linear(in_features=3072, out_features=768, bias=True)\n",
       "            (LayerNorm): LayerNorm((768,), eps=1e-12, elementwise_affine=True)\n",
       "            (dropout): Dropout(p=0.1, inplace=False)\n",
       "          )\n",
       "        )\n",
       "        (6): BertLayer(\n",
       "          (attention): BertAttention(\n",
       "            (self): BertSelfAttention(\n",
       "              (query): Linear(in_features=768, out_features=768, bias=True)\n",
       "              (key): Linear(in_features=768, out_features=768, bias=True)\n",
       "              (value): Linear(in_features=768, out_features=768, bias=True)\n",
       "              (dropout): Dropout(p=0.1, inplace=False)\n",
       "            )\n",
       "            (output): BertSelfOutput(\n",
       "              (dense): Linear(in_features=768, out_features=768, bias=True)\n",
       "              (LayerNorm): LayerNorm((768,), eps=1e-12, elementwise_affine=True)\n",
       "              (dropout): Dropout(p=0.1, inplace=False)\n",
       "            )\n",
       "          )\n",
       "          (intermediate): BertIntermediate(\n",
       "            (dense): Linear(in_features=768, out_features=3072, bias=True)\n",
       "          )\n",
       "          (output): BertOutput(\n",
       "            (dense): Linear(in_features=3072, out_features=768, bias=True)\n",
       "            (LayerNorm): LayerNorm((768,), eps=1e-12, elementwise_affine=True)\n",
       "            (dropout): Dropout(p=0.1, inplace=False)\n",
       "          )\n",
       "        )\n",
       "        (7): BertLayer(\n",
       "          (attention): BertAttention(\n",
       "            (self): BertSelfAttention(\n",
       "              (query): Linear(in_features=768, out_features=768, bias=True)\n",
       "              (key): Linear(in_features=768, out_features=768, bias=True)\n",
       "              (value): Linear(in_features=768, out_features=768, bias=True)\n",
       "              (dropout): Dropout(p=0.1, inplace=False)\n",
       "            )\n",
       "            (output): BertSelfOutput(\n",
       "              (dense): Linear(in_features=768, out_features=768, bias=True)\n",
       "              (LayerNorm): LayerNorm((768,), eps=1e-12, elementwise_affine=True)\n",
       "              (dropout): Dropout(p=0.1, inplace=False)\n",
       "            )\n",
       "          )\n",
       "          (intermediate): BertIntermediate(\n",
       "            (dense): Linear(in_features=768, out_features=3072, bias=True)\n",
       "          )\n",
       "          (output): BertOutput(\n",
       "            (dense): Linear(in_features=3072, out_features=768, bias=True)\n",
       "            (LayerNorm): LayerNorm((768,), eps=1e-12, elementwise_affine=True)\n",
       "            (dropout): Dropout(p=0.1, inplace=False)\n",
       "          )\n",
       "        )\n",
       "        (8): BertLayer(\n",
       "          (attention): BertAttention(\n",
       "            (self): BertSelfAttention(\n",
       "              (query): Linear(in_features=768, out_features=768, bias=True)\n",
       "              (key): Linear(in_features=768, out_features=768, bias=True)\n",
       "              (value): Linear(in_features=768, out_features=768, bias=True)\n",
       "              (dropout): Dropout(p=0.1, inplace=False)\n",
       "            )\n",
       "            (output): BertSelfOutput(\n",
       "              (dense): Linear(in_features=768, out_features=768, bias=True)\n",
       "              (LayerNorm): LayerNorm((768,), eps=1e-12, elementwise_affine=True)\n",
       "              (dropout): Dropout(p=0.1, inplace=False)\n",
       "            )\n",
       "          )\n",
       "          (intermediate): BertIntermediate(\n",
       "            (dense): Linear(in_features=768, out_features=3072, bias=True)\n",
       "          )\n",
       "          (output): BertOutput(\n",
       "            (dense): Linear(in_features=3072, out_features=768, bias=True)\n",
       "            (LayerNorm): LayerNorm((768,), eps=1e-12, elementwise_affine=True)\n",
       "            (dropout): Dropout(p=0.1, inplace=False)\n",
       "          )\n",
       "        )\n",
       "        (9): BertLayer(\n",
       "          (attention): BertAttention(\n",
       "            (self): BertSelfAttention(\n",
       "              (query): Linear(in_features=768, out_features=768, bias=True)\n",
       "              (key): Linear(in_features=768, out_features=768, bias=True)\n",
       "              (value): Linear(in_features=768, out_features=768, bias=True)\n",
       "              (dropout): Dropout(p=0.1, inplace=False)\n",
       "            )\n",
       "            (output): BertSelfOutput(\n",
       "              (dense): Linear(in_features=768, out_features=768, bias=True)\n",
       "              (LayerNorm): LayerNorm((768,), eps=1e-12, elementwise_affine=True)\n",
       "              (dropout): Dropout(p=0.1, inplace=False)\n",
       "            )\n",
       "          )\n",
       "          (intermediate): BertIntermediate(\n",
       "            (dense): Linear(in_features=768, out_features=3072, bias=True)\n",
       "          )\n",
       "          (output): BertOutput(\n",
       "            (dense): Linear(in_features=3072, out_features=768, bias=True)\n",
       "            (LayerNorm): LayerNorm((768,), eps=1e-12, elementwise_affine=True)\n",
       "            (dropout): Dropout(p=0.1, inplace=False)\n",
       "          )\n",
       "        )\n",
       "        (10): BertLayer(\n",
       "          (attention): BertAttention(\n",
       "            (self): BertSelfAttention(\n",
       "              (query): Linear(in_features=768, out_features=768, bias=True)\n",
       "              (key): Linear(in_features=768, out_features=768, bias=True)\n",
       "              (value): Linear(in_features=768, out_features=768, bias=True)\n",
       "              (dropout): Dropout(p=0.1, inplace=False)\n",
       "            )\n",
       "            (output): BertSelfOutput(\n",
       "              (dense): Linear(in_features=768, out_features=768, bias=True)\n",
       "              (LayerNorm): LayerNorm((768,), eps=1e-12, elementwise_affine=True)\n",
       "              (dropout): Dropout(p=0.1, inplace=False)\n",
       "            )\n",
       "          )\n",
       "          (intermediate): BertIntermediate(\n",
       "            (dense): Linear(in_features=768, out_features=3072, bias=True)\n",
       "          )\n",
       "          (output): BertOutput(\n",
       "            (dense): Linear(in_features=3072, out_features=768, bias=True)\n",
       "            (LayerNorm): LayerNorm((768,), eps=1e-12, elementwise_affine=True)\n",
       "            (dropout): Dropout(p=0.1, inplace=False)\n",
       "          )\n",
       "        )\n",
       "        (11): BertLayer(\n",
       "          (attention): BertAttention(\n",
       "            (self): BertSelfAttention(\n",
       "              (query): Linear(in_features=768, out_features=768, bias=True)\n",
       "              (key): Linear(in_features=768, out_features=768, bias=True)\n",
       "              (value): Linear(in_features=768, out_features=768, bias=True)\n",
       "              (dropout): Dropout(p=0.1, inplace=False)\n",
       "            )\n",
       "            (output): BertSelfOutput(\n",
       "              (dense): Linear(in_features=768, out_features=768, bias=True)\n",
       "              (LayerNorm): LayerNorm((768,), eps=1e-12, elementwise_affine=True)\n",
       "              (dropout): Dropout(p=0.1, inplace=False)\n",
       "            )\n",
       "          )\n",
       "          (intermediate): BertIntermediate(\n",
       "            (dense): Linear(in_features=768, out_features=3072, bias=True)\n",
       "          )\n",
       "          (output): BertOutput(\n",
       "            (dense): Linear(in_features=3072, out_features=768, bias=True)\n",
       "            (LayerNorm): LayerNorm((768,), eps=1e-12, elementwise_affine=True)\n",
       "            (dropout): Dropout(p=0.1, inplace=False)\n",
       "          )\n",
       "        )\n",
       "      )\n",
       "    )\n",
       "    (pooler): BertPooler(\n",
       "      (dense): Linear(in_features=768, out_features=768, bias=True)\n",
       "      (activation): Tanh()\n",
       "    )\n",
       "  )\n",
       "  (relu): ReLU()\n",
       "  (fc1): Linear(in_features=768, out_features=512, bias=True)\n",
       "  (fc2): Linear(in_features=512, out_features=6, bias=True)\n",
       "  (softmax): LogSoftmax(dim=1)\n",
       ")"
      ]
     },
     "execution_count": 51,
     "metadata": {
      "tags": []
     },
     "output_type": "execute_result"
    }
   ],
   "source": [
    "import torch\n",
    "\n",
    "print('\\nLoading model ...')\n",
    "# pass the pre-trained BERT to our define architecture\n",
    "model = BERT_Model(bert,num_labels=6)\n",
    "\n",
    "model.cuda()"
   ]
  },
  {
   "cell_type": "markdown",
   "metadata": {
    "id": "LjQSUqCWJTbI"
   },
   "source": [
    "### Custom Loss function"
   ]
  },
  {
   "cell_type": "code",
   "execution_count": null,
   "metadata": {
    "id": "iOHVl1RRJSUB"
   },
   "outputs": [],
   "source": [
    "# convert class weights to tensor\n",
    "weights= torch.tensor(class_wts,dtype=torch.float)\n",
    "weights = weights.to(device)\n",
    "\n",
    "# loss function\n",
    "cross_entropy  = nn.NLLLoss(weight=weights) \n"
   ]
  },
  {
   "cell_type": "code",
   "execution_count": null,
   "metadata": {
    "id": "8tAijXBEh7t8"
   },
   "outputs": [],
   "source": [
    "from transformers import AdamW\n",
    "\n",
    "# Note: AdamW is a class from the huggingface library (as opposed to pytorch) \n",
    "# I believe the 'W' stands for 'Weight Decay fix\"\n",
    "optimizer = AdamW(model.parameters(),\n",
    "                  lr = 2e-5, # This is the value Michael used.\n",
    "                  eps = 1e-8 # args.adam_epsilon  - default is 1e-8.\n",
    "                )\n"
   ]
  },
  {
   "cell_type": "code",
   "execution_count": null,
   "metadata": {
    "id": "agidP6D6iBFI"
   },
   "outputs": [],
   "source": [
    "from transformers import get_linear_schedule_with_warmup\n",
    "\n",
    "# Number of training epochs. I chose to train for 1 simply because the training\n",
    "# time is long. More epochs may improve the model's accuracy.\n",
    "epochs = 4\n",
    "\n",
    "# Total number of training steps is [number of batches] x [number of epochs]. \n",
    "# Note that it's the number of *batches*, not *samples*!\n",
    "total_steps = len(py_inputs) * epochs\n",
    "\n",
    "# Create the learning rate scheduler.\n",
    "scheduler = get_linear_schedule_with_warmup(optimizer, \n",
    "                                            num_warmup_steps = 0, # Default value in run_glue.py\n",
    "                                            num_training_steps = total_steps)"
   ]
  },
  {
   "cell_type": "code",
   "execution_count": null,
   "metadata": {
    "colab": {
     "base_uri": "https://localhost:8080/"
    },
    "id": "H4ERR8fBiEJn",
    "outputId": "6e344941-9c7e-47ab-adb3-9d0272cfa7b4"
   },
   "outputs": [
    {
     "name": "stdout",
     "output_type": "stream",
     "text": [
      "\n",
      "======== Epoch 1 / 4 ========\n",
      "Training on 2,197 batches...\n",
      "  Batch     200  of    2,197.    Elapsed: 0:00:07.  Remaining: 0:01:09\n",
      "  Batch     400  of    2,197.    Elapsed: 0:00:14.  Remaining: 0:01:01\n",
      "  Batch     600  of    2,197.    Elapsed: 0:00:21.  Remaining: 0:00:55\n",
      "  Batch     800  of    2,197.    Elapsed: 0:00:27.  Remaining: 0:00:47\n",
      "  Batch   1,000  of    2,197.    Elapsed: 0:00:34.  Remaining: 0:00:40\n",
      "  Batch   1,200  of    2,197.    Elapsed: 0:00:41.  Remaining: 0:00:34\n",
      "  Batch   1,400  of    2,197.    Elapsed: 0:00:48.  Remaining: 0:00:27\n",
      "  Batch   1,600  of    2,197.    Elapsed: 0:00:54.  Remaining: 0:00:20\n",
      "  Batch   1,800  of    2,197.    Elapsed: 0:01:00.  Remaining: 0:00:13\n",
      "  Batch   2,000  of    2,197.    Elapsed: 0:01:07.  Remaining: 0:00:07\n",
      "\n",
      "  Average training loss: 1.76\n",
      "  Training epoch took: 0:01:14\n",
      "\n",
      "======== Epoch 2 / 4 ========\n",
      "Creating Smart Batches from 35,139 examples with batch size 16...\n",
      "\n",
      "Tokenizing 35,139 samples...\n",
      "  Tokenized 0 samples.\n",
      "  Tokenized 4,000 samples.\n",
      "  Tokenized 8,000 samples.\n",
      "  Tokenized 12,000 samples.\n",
      "  Tokenized 16,000 samples.\n",
      "  Tokenized 20,000 samples.\n",
      "  Tokenized 24,000 samples.\n",
      "  Tokenized 28,000 samples.\n",
      "  Tokenized 32,000 samples.\n",
      "DONE.\n",
      "    35,139 samples\n",
      "\n",
      "    35,139 samples after sorting\n",
      "\n",
      "Creating batches of size 16...\n",
      "\n",
      "  DONE - Selected 2,197 batches.\n",
      "\n",
      "Padding out sequences within each batch...\n",
      "  DONE.\n",
      "Training on 2,197 batches...\n",
      "  Batch     200  of    2,197.    Elapsed: 0:00:06.  Remaining: 0:01:00\n",
      "  Batch     400  of    2,197.    Elapsed: 0:00:12.  Remaining: 0:00:55\n",
      "  Batch     600  of    2,197.    Elapsed: 0:00:19.  Remaining: 0:00:50\n",
      "  Batch     800  of    2,197.    Elapsed: 0:00:26.  Remaining: 0:00:45\n",
      "  Batch   1,000  of    2,197.    Elapsed: 0:00:33.  Remaining: 0:00:39\n",
      "  Batch   1,200  of    2,197.    Elapsed: 0:00:40.  Remaining: 0:00:33\n",
      "  Batch   1,400  of    2,197.    Elapsed: 0:00:46.  Remaining: 0:00:26\n",
      "  Batch   1,600  of    2,197.    Elapsed: 0:00:53.  Remaining: 0:00:20\n",
      "  Batch   1,800  of    2,197.    Elapsed: 0:00:59.  Remaining: 0:00:13\n",
      "  Batch   2,000  of    2,197.    Elapsed: 0:01:06.  Remaining: 0:00:06\n",
      "\n",
      "  Average training loss: 1.76\n",
      "  Training epoch took: 0:01:13\n",
      "\n",
      "======== Epoch 3 / 4 ========\n",
      "Creating Smart Batches from 35,139 examples with batch size 16...\n",
      "\n",
      "Tokenizing 35,139 samples...\n",
      "  Tokenized 0 samples.\n",
      "  Tokenized 4,000 samples.\n",
      "  Tokenized 8,000 samples.\n",
      "  Tokenized 12,000 samples.\n",
      "  Tokenized 16,000 samples.\n",
      "  Tokenized 20,000 samples.\n",
      "  Tokenized 24,000 samples.\n",
      "  Tokenized 28,000 samples.\n",
      "  Tokenized 32,000 samples.\n",
      "DONE.\n",
      "    35,139 samples\n",
      "\n",
      "    35,139 samples after sorting\n",
      "\n",
      "Creating batches of size 16...\n",
      "\n",
      "  DONE - Selected 2,197 batches.\n",
      "\n",
      "Padding out sequences within each batch...\n",
      "  DONE.\n",
      "Training on 2,197 batches...\n",
      "  Batch     200  of    2,197.    Elapsed: 0:00:07.  Remaining: 0:01:12\n",
      "  Batch     400  of    2,197.    Elapsed: 0:00:14.  Remaining: 0:01:02\n",
      "  Batch     600  of    2,197.    Elapsed: 0:00:21.  Remaining: 0:00:55\n",
      "  Batch     800  of    2,197.    Elapsed: 0:00:27.  Remaining: 0:00:48\n",
      "  Batch   1,000  of    2,197.    Elapsed: 0:00:34.  Remaining: 0:00:41\n",
      "  Batch   1,200  of    2,197.    Elapsed: 0:00:41.  Remaining: 0:00:34\n",
      "  Batch   1,400  of    2,197.    Elapsed: 0:00:47.  Remaining: 0:00:27\n",
      "  Batch   1,600  of    2,197.    Elapsed: 0:00:54.  Remaining: 0:00:20\n",
      "  Batch   1,800  of    2,197.    Elapsed: 0:01:00.  Remaining: 0:00:13\n",
      "  Batch   2,000  of    2,197.    Elapsed: 0:01:07.  Remaining: 0:00:07\n",
      "\n",
      "  Average training loss: 1.76\n",
      "  Training epoch took: 0:01:13\n",
      "\n",
      "======== Epoch 4 / 4 ========\n",
      "Creating Smart Batches from 35,139 examples with batch size 16...\n",
      "\n",
      "Tokenizing 35,139 samples...\n",
      "  Tokenized 0 samples.\n",
      "  Tokenized 4,000 samples.\n",
      "  Tokenized 8,000 samples.\n",
      "  Tokenized 12,000 samples.\n",
      "  Tokenized 16,000 samples.\n",
      "  Tokenized 20,000 samples.\n",
      "  Tokenized 24,000 samples.\n",
      "  Tokenized 28,000 samples.\n",
      "  Tokenized 32,000 samples.\n",
      "DONE.\n",
      "    35,139 samples\n",
      "\n",
      "    35,139 samples after sorting\n",
      "\n",
      "Creating batches of size 16...\n",
      "\n",
      "  DONE - Selected 2,197 batches.\n",
      "\n",
      "Padding out sequences within each batch...\n",
      "  DONE.\n",
      "Training on 2,197 batches...\n",
      "  Batch     200  of    2,197.    Elapsed: 0:00:07.  Remaining: 0:01:05\n",
      "  Batch     400  of    2,197.    Elapsed: 0:00:13.  Remaining: 0:00:57\n",
      "  Batch     600  of    2,197.    Elapsed: 0:00:19.  Remaining: 0:00:51\n",
      "  Batch     800  of    2,197.    Elapsed: 0:00:27.  Remaining: 0:00:47\n",
      "  Batch   1,000  of    2,197.    Elapsed: 0:00:33.  Remaining: 0:00:40\n",
      "  Batch   1,200  of    2,197.    Elapsed: 0:00:40.  Remaining: 0:00:33\n",
      "  Batch   1,400  of    2,197.    Elapsed: 0:00:47.  Remaining: 0:00:27\n",
      "  Batch   1,600  of    2,197.    Elapsed: 0:00:53.  Remaining: 0:00:20\n",
      "  Batch   1,800  of    2,197.    Elapsed: 0:00:59.  Remaining: 0:00:13\n",
      "  Batch   2,000  of    2,197.    Elapsed: 0:01:06.  Remaining: 0:00:07\n",
      "\n",
      "  Average training loss: 1.75\n",
      "  Training epoch took: 0:01:14\n",
      "\n",
      "Training complete!\n",
      "Total training took 0:05:08 (h:mm:ss)\n"
     ]
    }
   ],
   "source": [
    "import random\n",
    "import numpy as np\n",
    "import time\n",
    "\n",
    "# Set the seed value all over the place to make this reproducible.\n",
    "seed_val = 42\n",
    "\n",
    "random.seed(seed_val)\n",
    "np.random.seed(seed_val)\n",
    "torch.manual_seed(seed_val)\n",
    "torch.cuda.manual_seed_all(seed_val)\n",
    "\n",
    "# We'll store a number of quantities such as training and validation loss, \n",
    "# validation accuracy, and timings.\n",
    "training_stats = []\n",
    "\n",
    "# Update every `update_interval` batches.\n",
    "update_interval = good_update_interval(total_iters=len(py_inputs), num_desired_updates=10)\n",
    "\n",
    "# Measure the total training time for the whole run.\n",
    "total_t0 = time.time()\n",
    "\n",
    "# For each epoch...\n",
    "for epoch_i in range(0, epochs):\n",
    "    \n",
    "    # ========================================\n",
    "    #               Training\n",
    "    # ========================================\n",
    "    \n",
    "    # Perform one full pass over the training set.\n",
    "\n",
    "    print(\"\")\n",
    "    print('======== Epoch {:} / {:} ========'.format(epoch_i + 1, epochs))\n",
    "    \n",
    "    # At the start of each epoch (except for the first) we need to re-randomize\n",
    "    # our training data.\n",
    "    if epoch_i > 0:\n",
    "        # Use our `make_smart_batches` function (from 6.1.) to re-shuffle the \n",
    "        # dataset into new batches.\n",
    "        (py_inputs, py_attn_masks, py_labels) = make_smart_batches(train_sentences, train_labels, batch_size,tokenizer,max_input_length)\n",
    "    \n",
    "    print('Training on {:,} batches...'.format(len(py_inputs)))\n",
    "\n",
    "    # Measure how long the training epoch takes.\n",
    "    t0 = time.time()\n",
    "\n",
    "    # Reset the total loss for this epoch.\n",
    "    total_train_loss = 0\n",
    "\n",
    "    # Put the model into training mode. Don't be mislead--the call to \n",
    "    # `train` just changes the *mode*, it doesn't *perform* the training.\n",
    "    # `dropout` and `batchnorm` layers behave differently during training\n",
    "    # vs. test (source: https://stackoverflow.com/questions/51433378/what-does-model-train-do-in-pytorch)\n",
    "    model.train()\n",
    "\n",
    "    # For each batch of training data...\n",
    "    for step in range(0, len(py_inputs)):\n",
    "\n",
    "        # Progress update every, e.g., 100 batches.\n",
    "        if step % update_interval == 0 and not step == 0:\n",
    "            # Calculate elapsed time in minutes.\n",
    "            elapsed = format_time(time.time() - t0)\n",
    "            \n",
    "            # Calculate the time remaining based on our progress.\n",
    "            steps_per_sec = (time.time() - t0) / step\n",
    "            remaining_sec = steps_per_sec * (len(py_inputs) - step)\n",
    "            remaining = format_time(remaining_sec)\n",
    "\n",
    "            # Report progress.\n",
    "            print('  Batch {:>7,}  of  {:>7,}.    Elapsed: {:}.  Remaining: {:}'.format(step, len(py_inputs), elapsed, remaining))\n",
    "\n",
    "        # Copy the current training batch to the GPU using the `to` method.\n",
    "        b_input_ids = py_inputs[step].to(device)\n",
    "        b_input_mask = py_attn_masks[step].to(device)\n",
    "        b_labels = py_labels[step].to(device)\n",
    "\n",
    "        # Always clear any previously calculated gradients before performing a\n",
    "        # backward pass.\n",
    "        model.zero_grad()        \n",
    "\n",
    "        # Perform a forward pass (evaluate the model on this training batch).\n",
    "        # The call returns the loss (because we provided labels) and the \n",
    "        # \"logits\"--the model outputs prior to activation.\n",
    "        preds = model(b_input_ids, b_input_mask)\n",
    "        \n",
    "        # compute the loss between actual and predicted values\n",
    "        loss = cross_entropy(preds, b_labels)\n",
    "        \n",
    "        # Accumulate the training loss over all of the batches so that we can\n",
    "        # calculate the average loss at the end. `loss` is a Tensor containing a\n",
    "        # single value; the `.item()` function just returns the Python value \n",
    "        # from the tensor.\n",
    "        total_train_loss += loss.item()\n",
    "\n",
    "        # Perform a backward pass to calculate the gradients.\n",
    "        loss.backward()\n",
    "\n",
    "        # Clip the norm of the gradients to 1.0.\n",
    "        # This is to help prevent the \"exploding gradients\" problem.\n",
    "        torch.nn.utils.clip_grad_norm_(model.parameters(), 1.0)\n",
    "\n",
    "        # Update parameters and take a step using the computed gradient.\n",
    "        # The optimizer dictates the \"update rule\"--how the parameters are\n",
    "        # modified based on their gradients, the learning rate, etc.\n",
    "        optimizer.step()\n",
    "\n",
    "        # Update the learning rate.\n",
    "        scheduler.step()\n",
    "\n",
    "    # Calculate the average loss over all of the batches.\n",
    "    avg_train_loss = total_train_loss / len(py_inputs)            \n",
    "    \n",
    "    # Measure how long this epoch took.\n",
    "    training_time = format_time(time.time() - t0)\n",
    "\n",
    "    print(\"\")\n",
    "    print(\"  Average training loss: {0:.2f}\".format(avg_train_loss))\n",
    "    print(\"  Training epoch took: {:}\".format(training_time))\n",
    "        \n",
    "    # Record all statistics from this epoch.\n",
    "    training_stats.append(\n",
    "        {\n",
    "            'epoch': epoch_i + 1,\n",
    "            'Training Loss': avg_train_loss,\n",
    "            'Training Time': training_time,\n",
    "        }\n",
    "    )\n",
    "\n",
    "print(\"\")\n",
    "print(\"Training complete!\")\n",
    "\n",
    "print(\"Total training took {:} (h:mm:ss)\".format(format_time(time.time()-total_t0)))"
   ]
  },
  {
   "cell_type": "markdown",
   "metadata": {
    "id": "ToUbAgZ9ap63"
   },
   "source": [
    "#### Loading the validation data"
   ]
  },
  {
   "cell_type": "code",
   "execution_count": null,
   "metadata": {
    "colab": {
     "base_uri": "https://localhost:8080/",
     "height": 377
    },
    "id": "Dle8VzoAjOLS",
    "outputId": "e5a74d1c-365e-44f1-985a-1fc2440b872a"
   },
   "outputs": [
    {
     "name": "stdout",
     "output_type": "stream",
     "text": [
      "Number of training sentences: 4,388\n",
      "\n"
     ]
    },
    {
     "data": {
      "text/html": [
       "<div>\n",
       "<style scoped>\n",
       "    .dataframe tbody tr th:only-of-type {\n",
       "        vertical-align: middle;\n",
       "    }\n",
       "\n",
       "    .dataframe tbody tr th {\n",
       "        vertical-align: top;\n",
       "    }\n",
       "\n",
       "    .dataframe thead th {\n",
       "        text-align: right;\n",
       "    }\n",
       "</style>\n",
       "<table border=\"1\" class=\"dataframe\">\n",
       "  <thead>\n",
       "    <tr style=\"text-align: right;\">\n",
       "      <th></th>\n",
       "      <th>text</th>\n",
       "      <th>label</th>\n",
       "    </tr>\n",
       "  </thead>\n",
       "  <tbody>\n",
       "    <tr>\n",
       "      <th>2776</th>\n",
       "      <td>Oviyam varaiyiravan avan pullaiku oviyam varay...</td>\n",
       "      <td>Offensive_Targeted_Insult_Individual</td>\n",
       "    </tr>\n",
       "    <tr>\n",
       "      <th>3023</th>\n",
       "      <td>3d LA pathapuram than solla mudium.ippa cartoo...</td>\n",
       "      <td>Offensive_Untargetede</td>\n",
       "    </tr>\n",
       "    <tr>\n",
       "      <th>2606</th>\n",
       "      <td>57k dislike  அத விக் மண்டையன் குஜய் ரசிகர்கள் ...</td>\n",
       "      <td>Offensive_Targeted_Insult_Group</td>\n",
       "    </tr>\n",
       "    <tr>\n",
       "      <th>912</th>\n",
       "      <td>Vera level trailer..... Thalaivaaaaaaa waiting</td>\n",
       "      <td>Not_offensive</td>\n",
       "    </tr>\n",
       "    <tr>\n",
       "      <th>877</th>\n",
       "      <td>ithukku peru thaan thalaivar athiradi  petta p...</td>\n",
       "      <td>Not_offensive</td>\n",
       "    </tr>\n",
       "    <tr>\n",
       "      <th>151</th>\n",
       "      <td>Look me reality nhi dikh rhi h lag raha vfx pl...</td>\n",
       "      <td>not-Tamil</td>\n",
       "    </tr>\n",
       "    <tr>\n",
       "      <th>3208</th>\n",
       "      <td>அனைத்து தல ரசிகர்கள் சார்பாக திரைப்படம் வெற்றி...</td>\n",
       "      <td>Not_offensive</td>\n",
       "    </tr>\n",
       "    <tr>\n",
       "      <th>4253</th>\n",
       "      <td>Ada நம்ம பஞ்சாயத்து..... கருணாஸு..... 🤣🤣நல்லா ...</td>\n",
       "      <td>Offensive_Targeted_Insult_Individual</td>\n",
       "    </tr>\n",
       "    <tr>\n",
       "      <th>2722</th>\n",
       "      <td>Rasool fans hit like vjs</td>\n",
       "      <td>Not_offensive</td>\n",
       "    </tr>\n",
       "    <tr>\n",
       "      <th>3654</th>\n",
       "      <td>Arjun Sarja : oru Manusana  Alicharulam Avaru ...</td>\n",
       "      <td>Offensive_Untargetede</td>\n",
       "    </tr>\n",
       "  </tbody>\n",
       "</table>\n",
       "</div>"
      ],
      "text/plain": [
       "                                                   text                                 label\n",
       "2776  Oviyam varaiyiravan avan pullaiku oviyam varay...  Offensive_Targeted_Insult_Individual\n",
       "3023  3d LA pathapuram than solla mudium.ippa cartoo...                 Offensive_Untargetede\n",
       "2606  57k dislike  அத விக் மண்டையன் குஜய் ரசிகர்கள் ...       Offensive_Targeted_Insult_Group\n",
       "912      Vera level trailer..... Thalaivaaaaaaa waiting                         Not_offensive\n",
       "877   ithukku peru thaan thalaivar athiradi  petta p...                         Not_offensive\n",
       "151   Look me reality nhi dikh rhi h lag raha vfx pl...                             not-Tamil\n",
       "3208  அனைத்து தல ரசிகர்கள் சார்பாக திரைப்படம் வெற்றி...                         Not_offensive\n",
       "4253  Ada நம்ம பஞ்சாயத்து..... கருணாஸு..... 🤣🤣நல்லா ...  Offensive_Targeted_Insult_Individual\n",
       "2722                           Rasool fans hit like vjs                         Not_offensive\n",
       "3654  Arjun Sarja : oru Manusana  Alicharulam Avaru ...                 Offensive_Untargetede"
      ]
     },
     "execution_count": 56,
     "metadata": {
      "tags": []
     },
     "output_type": "execute_result"
    }
   ],
   "source": [
    "val_df_path = join(dataset_dir,'tamil_offensive_full_dev_corrected.csv')\n",
    "# Load the dataset into a pandas dataframe.\n",
    "df = pd.read_csv(val_df_path)\n",
    "\n",
    "# Report the number of sentences.\n",
    "print('Number of training sentences: {:,}\\n'.format(df.shape[0]))\n",
    "\n",
    "# Display 10 random rows from the data.\n",
    "df.sample(10)"
   ]
  },
  {
   "cell_type": "markdown",
   "metadata": {
    "id": "NjAQaP_na7HN"
   },
   "source": [
    "#### Loading `test_sentences` and `test_labels`"
   ]
  },
  {
   "cell_type": "code",
   "execution_count": null,
   "metadata": {
    "id": "d_83fOUwqn0w"
   },
   "outputs": [],
   "source": [
    "df['label'] = le.transform(df['label'])"
   ]
  },
  {
   "cell_type": "code",
   "execution_count": null,
   "metadata": {
    "id": "WnnscvKOjl6b"
   },
   "outputs": [],
   "source": [
    "test_sentences = df['text'].values \n",
    "test_labels = df['label'].values"
   ]
  },
  {
   "cell_type": "code",
   "execution_count": null,
   "metadata": {
    "colab": {
     "base_uri": "https://localhost:8080/"
    },
    "id": "glrG0ZI4imGN",
    "outputId": "7a4e72dd-6ede-49a5-f4ae-f4b42d87221c"
   },
   "outputs": [
    {
     "name": "stdout",
     "output_type": "stream",
     "text": [
      "Creating Smart Batches from 4,388 examples with batch size 16...\n",
      "\n",
      "Tokenizing 4,388 samples...\n",
      "  Tokenized 0 samples.\n",
      "  Tokenized 400 samples.\n",
      "  Tokenized 800 samples.\n",
      "  Tokenized 1,200 samples.\n",
      "  Tokenized 1,600 samples.\n",
      "  Tokenized 2,000 samples.\n",
      "  Tokenized 2,400 samples.\n",
      "  Tokenized 2,800 samples.\n",
      "  Tokenized 3,200 samples.\n",
      "  Tokenized 3,600 samples.\n",
      "  Tokenized 4,000 samples.\n",
      "DONE.\n",
      "     4,388 samples\n",
      "\n",
      "     4,388 samples after sorting\n",
      "\n",
      "Creating batches of size 16...\n",
      "\n",
      "  DONE - Selected 275 batches.\n",
      "\n",
      "Padding out sequences within each batch...\n",
      "  DONE.\n"
     ]
    }
   ],
   "source": [
    "# Use our new function to completely prepare our dataset.\n",
    "(py_inputs, py_attn_masks, py_labels) = make_smart_batches(test_sentences, test_labels, batch_size ,tokenizer,max_input_length)"
   ]
  },
  {
   "cell_type": "markdown",
   "metadata": {
    "id": "Lrt_FyJIbC8j"
   },
   "source": [
    "#### Making predictions on our test dataset"
   ]
  },
  {
   "cell_type": "code",
   "execution_count": null,
   "metadata": {
    "colab": {
     "base_uri": "https://localhost:8080/"
    },
    "id": "eylCkH2Zipq5",
    "outputId": "240366f6-b26c-41fe-c8de-406141c56366"
   },
   "outputs": [
    {
     "name": "stdout",
     "output_type": "stream",
     "text": [
      "Predicting labels for 4,388 test sentences...\n",
      "  Batch      30  of      275.    Elapsed: 0:00:01.  Remaining: 0:00:07\n",
      "  Batch      60  of      275.    Elapsed: 0:00:02.  Remaining: 0:00:06\n",
      "  Batch      90  of      275.    Elapsed: 0:00:02.  Remaining: 0:00:05\n",
      "  Batch     120  of      275.    Elapsed: 0:00:03.  Remaining: 0:00:04\n",
      "  Batch     150  of      275.    Elapsed: 0:00:04.  Remaining: 0:00:04\n",
      "  Batch     180  of      275.    Elapsed: 0:00:05.  Remaining: 0:00:03\n",
      "  Batch     210  of      275.    Elapsed: 0:00:06.  Remaining: 0:00:02\n",
      "  Batch     240  of      275.    Elapsed: 0:00:07.  Remaining: 0:00:01\n",
      "  Batch     270  of      275.    Elapsed: 0:00:08.  Remaining: 0:00:00\n",
      "    DONE.\n"
     ]
    }
   ],
   "source": [
    "# Prediction on test set\n",
    "\n",
    "print('Predicting labels for {:,} test sentences...'.format(len(test_labels)))\n",
    "\n",
    "# Put model in evaluation mode\n",
    "model.eval()\n",
    "\n",
    "# Tracking variables \n",
    "predictions , true_labels = [], []\n",
    "\n",
    "# Choose an interval on which to print progress updates.\n",
    "update_interval = good_update_interval(total_iters=len(py_inputs), num_desired_updates=10)\n",
    "\n",
    "# Measure elapsed time.\n",
    "t0 = time.time()\n",
    "\n",
    "# Put model in evaluation mode\n",
    "model.eval()\n",
    "\n",
    "# For each batch of training data...\n",
    "for step in range(0, len(py_inputs)):\n",
    "\n",
    "    # Progress update every 100 batches.\n",
    "    if step % update_interval == 0 and not step == 0:\n",
    "        # Calculate elapsed time in minutes.\n",
    "        elapsed = format_time(time.time() - t0)\n",
    "        \n",
    "        # Calculate the time remaining based on our progress.\n",
    "        steps_per_sec = (time.time() - t0) / step\n",
    "        remaining_sec = steps_per_sec * (len(py_inputs) - step)\n",
    "        remaining = format_time(remaining_sec)\n",
    "\n",
    "        # Report progress.\n",
    "        print('  Batch {:>7,}  of  {:>7,}.    Elapsed: {:}.  Remaining: {:}'.format(step, len(py_inputs), elapsed, remaining))\n",
    "\n",
    "    # Copy the batch to the GPU.\n",
    "    b_input_ids = py_inputs[step].to(device)\n",
    "    b_input_mask = py_attn_masks[step].to(device)\n",
    "    b_labels = py_labels[step].to(device)\n",
    "  \n",
    "    # Telling the model not to compute or store gradients, saving memory and \n",
    "    # speeding up prediction\n",
    "    with torch.no_grad():\n",
    "        # Forward pass, calculate logit predictions\n",
    "        outputs = model(b_input_ids, b_input_mask)\n",
    "\n",
    "    logits = outputs\n",
    "\n",
    "    # Move logits and labels to CPU\n",
    "    logits = logits.detach().cpu().numpy()\n",
    "    label_ids = b_labels.to('cpu').numpy()\n",
    "  \n",
    "    # Store predictions and true labels\n",
    "    predictions.append(logits)\n",
    "    true_labels.append(label_ids)\n",
    "\n",
    "print('    DONE.')"
   ]
  },
  {
   "cell_type": "markdown",
   "metadata": {
    "id": "a4FMxCyZbJaG"
   },
   "source": [
    "### Evaluating accuracy over test set"
   ]
  },
  {
   "cell_type": "code",
   "execution_count": null,
   "metadata": {
    "colab": {
     "base_uri": "https://localhost:8080/"
    },
    "id": "PiuSwCUDiv8p",
    "outputId": "7d939224-709b-43cb-ce9a-600c6ae22ee4"
   },
   "outputs": [
    {
     "name": "stdout",
     "output_type": "stream",
     "text": [
      "Accuracy: 0.600\n"
     ]
    }
   ],
   "source": [
    "# Combine the results across the batches.\n",
    "predictions = np.concatenate(predictions, axis=0)\n",
    "true_labels = np.concatenate(true_labels, axis=0)\n",
    "\n",
    "# Choose the label with the highest score as our prediction.\n",
    "preds = np.argmax(predictions, axis=1).flatten()\n",
    "\n",
    "# Calculate simple flat accuracy -- number correct over total number.\n",
    "accuracy = (preds == true_labels).mean()\n",
    "\n",
    "print('Accuracy: {:.3f}'.format(accuracy))"
   ]
  },
  {
   "cell_type": "markdown",
   "metadata": {
    "id": "hNJnYjiBbOSL"
   },
   "source": [
    "#### Classification report of our predictions"
   ]
  },
  {
   "cell_type": "code",
   "execution_count": null,
   "metadata": {
    "id": "vbGYwxJKokX4"
   },
   "outputs": [],
   "source": [
    "class_names = ['Not_offensive', 'Offensive_Targeted_Insult_Group', 'Offensive_Targeted_Insult_Individual',  'Offensive_Targeted_Insult_Other','Offensive_Untargetede','not-Tamil']"
   ]
  },
  {
   "cell_type": "code",
   "execution_count": null,
   "metadata": {
    "colab": {
     "base_uri": "https://localhost:8080/"
    },
    "id": "AxR7vq1yo_A3",
    "outputId": "66dbed06-ca62-4fe2-eef3-d3ea8337b638"
   },
   "outputs": [
    {
     "name": "stdout",
     "output_type": "stream",
     "text": [
      "                                      precision    recall  f1-score   support\n",
      "\n",
      "                       Not_offensive       0.78      0.75      0.77      3315\n",
      "     Offensive_Targeted_Insult_Group       0.33      0.12      0.17       818\n",
      "Offensive_Targeted_Insult_Individual       0.06      0.15      0.08       123\n",
      "     Offensive_Targeted_Insult_Other       0.00      0.00      0.00         0\n",
      "               Offensive_Untargetede       0.07      0.18      0.10       132\n",
      "                           not-Tamil       0.00      0.00      0.00         0\n",
      "\n",
      "                            accuracy                           0.60      4388\n",
      "                           macro avg       0.21      0.20      0.19      4388\n",
      "                        weighted avg       0.65      0.60      0.62      4388\n",
      "\n"
     ]
    },
    {
     "name": "stderr",
     "output_type": "stream",
     "text": [
      "/usr/local/lib/python3.6/dist-packages/sklearn/metrics/_classification.py:1272: UndefinedMetricWarning: Recall and F-score are ill-defined and being set to 0.0 in labels with no true samples. Use `zero_division` parameter to control this behavior.\n",
      "  _warn_prf(average, modifier, msg_start, len(result))\n"
     ]
    }
   ],
   "source": [
    "from sklearn.metrics import classification_report\n",
    "print(classification_report(preds,true_labels , target_names=class_names))"
   ]
  },
  {
   "cell_type": "code",
   "execution_count": null,
   "metadata": {
    "id": "bQG0riF8m5Az"
   },
   "outputs": [],
   "source": [
    "label_dict = {0:'Not_offensive', 1:'Offensive_Targeted_Insult_Group', 2:'Offensive_Targeted_Insult_Individual',  3:'Offensive_Targeted_Insult_Other',\n",
    "              4:'Offensive_Untargetede',5:'not-Tamil'}"
   ]
  },
  {
   "cell_type": "code",
   "execution_count": null,
   "metadata": {
    "colab": {
     "base_uri": "https://localhost:8080/"
    },
    "id": "Koj8nQWSpIv0",
    "outputId": "eb629f41-5ae8-457f-d48a-936a77f51468"
   },
   "outputs": [
    {
     "name": "stdout",
     "output_type": "stream",
     "text": [
      "Class: Not_offensive\n",
      "Accuracy: 78.11\n",
      "\n",
      "Class: Offensive_Targeted_Insult_Group\n",
      "Accuracy: 32.54\n",
      "\n",
      "Class: Offensive_Targeted_Insult_Individual\n",
      "Accuracy: 5.86\n",
      "\n",
      "Class: Offensive_Targeted_Insult_Other\n",
      "Accuracy: 0.0\n",
      "\n",
      "Class: Offensive_Untargetede\n",
      "Accuracy: 6.74\n",
      "\n",
      "Class: not-Tamil\n",
      "Accuracy: 0.0\n",
      "\n"
     ]
    }
   ],
   "source": [
    "accuracy_per_class(predictions, true_labels , label_dict)"
   ]
  },
  {
   "cell_type": "code",
   "execution_count": null,
   "metadata": {
    "id": "3PXqG-VpurVS"
   },
   "outputs": [],
   "source": [
    "torch.save(model,\"./drive/MyDrive/Codalab/Offensive Language Identification/Models/BERT_Multilingual_Malayalam_Optimized_Using_Class_Weights\")"
   ]
  },
  {
   "cell_type": "code",
   "execution_count": null,
   "metadata": {
    "colab": {
     "base_uri": "https://localhost:8080/"
    },
    "id": "QI5cEpx9tc8B",
    "outputId": "1c092306-ad23-4eae-a0a6-9a65b0aa1747"
   },
   "outputs": [
    {
     "data": {
      "text/plain": [
       "0.28025740688160383"
      ]
     },
     "execution_count": 66,
     "metadata": {
      "tags": []
     },
     "output_type": "execute_result"
    }
   ],
   "source": [
    "from sklearn.metrics import f1_score\n",
    "f1_score_func(predictions,true_labels,average='macro')"
   ]
  },
  {
   "cell_type": "code",
   "execution_count": null,
   "metadata": {
    "id": "5NfWwz6Qztsg"
   },
   "outputs": [],
   "source": []
  }
 ],
 "metadata": {
  "accelerator": "GPU",
  "colab": {
   "name": "OffensiveLanguageIdentification_Tamil.ipynb",
   "provenance": []
  },
  "kernelspec": {
   "display_name": "Python 3",
   "language": "python",
   "name": "python3"
  },
  "language_info": {
   "codemirror_mode": {
    "name": "ipython",
    "version": 3
   },
   "file_extension": ".py",
   "mimetype": "text/x-python",
   "name": "python",
   "nbconvert_exporter": "python",
   "pygments_lexer": "ipython3",
   "version": "3.6.12"
  },
  "widgets": {
   "application/vnd.jupyter.widget-state+json": {
    "0b2ac29c78a24064971c6daebbaaee4c": {
     "model_module": "@jupyter-widgets/controls",
     "model_name": "HBoxModel",
     "state": {
      "_dom_classes": [],
      "_model_module": "@jupyter-widgets/controls",
      "_model_module_version": "1.5.0",
      "_model_name": "HBoxModel",
      "_view_count": null,
      "_view_module": "@jupyter-widgets/controls",
      "_view_module_version": "1.5.0",
      "_view_name": "HBoxView",
      "box_style": "",
      "children": [
       "IPY_MODEL_c9b9dc604e4b479197fc340d60ead98b",
       "IPY_MODEL_70e098a5aff64678a51094c93bd50b77"
      ],
      "layout": "IPY_MODEL_58498c55f28640f18a8aea96ed9c0dc3"
     }
    },
    "0bebd34af61b4d3b8d56d6c5108a52d9": {
     "model_module": "@jupyter-widgets/controls",
     "model_name": "HTMLModel",
     "state": {
      "_dom_classes": [],
      "_model_module": "@jupyter-widgets/controls",
      "_model_module_version": "1.5.0",
      "_model_name": "HTMLModel",
      "_view_count": null,
      "_view_module": "@jupyter-widgets/controls",
      "_view_module_version": "1.5.0",
      "_view_name": "HTMLView",
      "description": "",
      "description_tooltip": null,
      "layout": "IPY_MODEL_5c5d167efcdd41dfbbd44d78ad5bc3e1",
      "placeholder": "​",
      "style": "IPY_MODEL_1d6a5fcd098542fbb651c8f2780873ba",
      "value": " 625/625 [00:00&lt;00:00, 8.77kB/s]"
     }
    },
    "0d4cbdedba0e4c248c35626dd047172b": {
     "model_module": "@jupyter-widgets/base",
     "model_name": "LayoutModel",
     "state": {
      "_model_module": "@jupyter-widgets/base",
      "_model_module_version": "1.2.0",
      "_model_name": "LayoutModel",
      "_view_count": null,
      "_view_module": "@jupyter-widgets/base",
      "_view_module_version": "1.2.0",
      "_view_name": "LayoutView",
      "align_content": null,
      "align_items": null,
      "align_self": null,
      "border": null,
      "bottom": null,
      "display": null,
      "flex": null,
      "flex_flow": null,
      "grid_area": null,
      "grid_auto_columns": null,
      "grid_auto_flow": null,
      "grid_auto_rows": null,
      "grid_column": null,
      "grid_gap": null,
      "grid_row": null,
      "grid_template_areas": null,
      "grid_template_columns": null,
      "grid_template_rows": null,
      "height": null,
      "justify_content": null,
      "justify_items": null,
      "left": null,
      "margin": null,
      "max_height": null,
      "max_width": null,
      "min_height": null,
      "min_width": null,
      "object_fit": null,
      "object_position": null,
      "order": null,
      "overflow": null,
      "overflow_x": null,
      "overflow_y": null,
      "padding": null,
      "right": null,
      "top": null,
      "visibility": null,
      "width": null
     }
    },
    "1d6a5fcd098542fbb651c8f2780873ba": {
     "model_module": "@jupyter-widgets/controls",
     "model_name": "DescriptionStyleModel",
     "state": {
      "_model_module": "@jupyter-widgets/controls",
      "_model_module_version": "1.5.0",
      "_model_name": "DescriptionStyleModel",
      "_view_count": null,
      "_view_module": "@jupyter-widgets/base",
      "_view_module_version": "1.2.0",
      "_view_name": "StyleView",
      "description_width": ""
     }
    },
    "2102c87319d649eea27e537f72ad2758": {
     "model_module": "@jupyter-widgets/base",
     "model_name": "LayoutModel",
     "state": {
      "_model_module": "@jupyter-widgets/base",
      "_model_module_version": "1.2.0",
      "_model_name": "LayoutModel",
      "_view_count": null,
      "_view_module": "@jupyter-widgets/base",
      "_view_module_version": "1.2.0",
      "_view_name": "LayoutView",
      "align_content": null,
      "align_items": null,
      "align_self": null,
      "border": null,
      "bottom": null,
      "display": null,
      "flex": null,
      "flex_flow": null,
      "grid_area": null,
      "grid_auto_columns": null,
      "grid_auto_flow": null,
      "grid_auto_rows": null,
      "grid_column": null,
      "grid_gap": null,
      "grid_row": null,
      "grid_template_areas": null,
      "grid_template_columns": null,
      "grid_template_rows": null,
      "height": null,
      "justify_content": null,
      "justify_items": null,
      "left": null,
      "margin": null,
      "max_height": null,
      "max_width": null,
      "min_height": null,
      "min_width": null,
      "object_fit": null,
      "object_position": null,
      "order": null,
      "overflow": null,
      "overflow_x": null,
      "overflow_y": null,
      "padding": null,
      "right": null,
      "top": null,
      "visibility": null,
      "width": null
     }
    },
    "284327db43414244ad5a16b28b144381": {
     "model_module": "@jupyter-widgets/controls",
     "model_name": "ProgressStyleModel",
     "state": {
      "_model_module": "@jupyter-widgets/controls",
      "_model_module_version": "1.5.0",
      "_model_name": "ProgressStyleModel",
      "_view_count": null,
      "_view_module": "@jupyter-widgets/base",
      "_view_module_version": "1.2.0",
      "_view_name": "StyleView",
      "bar_color": null,
      "description_width": "initial"
     }
    },
    "2a205a806f164f7abb24e047c375ab25": {
     "model_module": "@jupyter-widgets/controls",
     "model_name": "ProgressStyleModel",
     "state": {
      "_model_module": "@jupyter-widgets/controls",
      "_model_module_version": "1.5.0",
      "_model_name": "ProgressStyleModel",
      "_view_count": null,
      "_view_module": "@jupyter-widgets/base",
      "_view_module_version": "1.2.0",
      "_view_name": "StyleView",
      "bar_color": null,
      "description_width": "initial"
     }
    },
    "3f3794497c0d44849f1740e38a1c180f": {
     "model_module": "@jupyter-widgets/controls",
     "model_name": "FloatProgressModel",
     "state": {
      "_dom_classes": [],
      "_model_module": "@jupyter-widgets/controls",
      "_model_module_version": "1.5.0",
      "_model_name": "FloatProgressModel",
      "_view_count": null,
      "_view_module": "@jupyter-widgets/controls",
      "_view_module_version": "1.5.0",
      "_view_name": "ProgressView",
      "bar_style": "success",
      "description": "Downloading: 100%",
      "description_tooltip": null,
      "layout": "IPY_MODEL_f5fd1010ad694da280e9eb7b2b46a0da",
      "max": 672271273,
      "min": 0,
      "orientation": "horizontal",
      "style": "IPY_MODEL_284327db43414244ad5a16b28b144381",
      "value": 672271273
     }
    },
    "429d7e92b9064dc696f8077c8496df04": {
     "model_module": "@jupyter-widgets/controls",
     "model_name": "FloatProgressModel",
     "state": {
      "_dom_classes": [],
      "_model_module": "@jupyter-widgets/controls",
      "_model_module_version": "1.5.0",
      "_model_name": "FloatProgressModel",
      "_view_count": null,
      "_view_module": "@jupyter-widgets/controls",
      "_view_module_version": "1.5.0",
      "_view_name": "ProgressView",
      "bar_style": "success",
      "description": "Downloading: 100%",
      "description_tooltip": null,
      "layout": "IPY_MODEL_2102c87319d649eea27e537f72ad2758",
      "max": 625,
      "min": 0,
      "orientation": "horizontal",
      "style": "IPY_MODEL_2a205a806f164f7abb24e047c375ab25",
      "value": 625
     }
    },
    "53455829a4d54f85a4401399f76dd59a": {
     "model_module": "@jupyter-widgets/base",
     "model_name": "LayoutModel",
     "state": {
      "_model_module": "@jupyter-widgets/base",
      "_model_module_version": "1.2.0",
      "_model_name": "LayoutModel",
      "_view_count": null,
      "_view_module": "@jupyter-widgets/base",
      "_view_module_version": "1.2.0",
      "_view_name": "LayoutView",
      "align_content": null,
      "align_items": null,
      "align_self": null,
      "border": null,
      "bottom": null,
      "display": null,
      "flex": null,
      "flex_flow": null,
      "grid_area": null,
      "grid_auto_columns": null,
      "grid_auto_flow": null,
      "grid_auto_rows": null,
      "grid_column": null,
      "grid_gap": null,
      "grid_row": null,
      "grid_template_areas": null,
      "grid_template_columns": null,
      "grid_template_rows": null,
      "height": null,
      "justify_content": null,
      "justify_items": null,
      "left": null,
      "margin": null,
      "max_height": null,
      "max_width": null,
      "min_height": null,
      "min_width": null,
      "object_fit": null,
      "object_position": null,
      "order": null,
      "overflow": null,
      "overflow_x": null,
      "overflow_y": null,
      "padding": null,
      "right": null,
      "top": null,
      "visibility": null,
      "width": null
     }
    },
    "58498c55f28640f18a8aea96ed9c0dc3": {
     "model_module": "@jupyter-widgets/base",
     "model_name": "LayoutModel",
     "state": {
      "_model_module": "@jupyter-widgets/base",
      "_model_module_version": "1.2.0",
      "_model_name": "LayoutModel",
      "_view_count": null,
      "_view_module": "@jupyter-widgets/base",
      "_view_module_version": "1.2.0",
      "_view_name": "LayoutView",
      "align_content": null,
      "align_items": null,
      "align_self": null,
      "border": null,
      "bottom": null,
      "display": null,
      "flex": null,
      "flex_flow": null,
      "grid_area": null,
      "grid_auto_columns": null,
      "grid_auto_flow": null,
      "grid_auto_rows": null,
      "grid_column": null,
      "grid_gap": null,
      "grid_row": null,
      "grid_template_areas": null,
      "grid_template_columns": null,
      "grid_template_rows": null,
      "height": null,
      "justify_content": null,
      "justify_items": null,
      "left": null,
      "margin": null,
      "max_height": null,
      "max_width": null,
      "min_height": null,
      "min_width": null,
      "object_fit": null,
      "object_position": null,
      "order": null,
      "overflow": null,
      "overflow_x": null,
      "overflow_y": null,
      "padding": null,
      "right": null,
      "top": null,
      "visibility": null,
      "width": null
     }
    },
    "5c5d167efcdd41dfbbd44d78ad5bc3e1": {
     "model_module": "@jupyter-widgets/base",
     "model_name": "LayoutModel",
     "state": {
      "_model_module": "@jupyter-widgets/base",
      "_model_module_version": "1.2.0",
      "_model_name": "LayoutModel",
      "_view_count": null,
      "_view_module": "@jupyter-widgets/base",
      "_view_module_version": "1.2.0",
      "_view_name": "LayoutView",
      "align_content": null,
      "align_items": null,
      "align_self": null,
      "border": null,
      "bottom": null,
      "display": null,
      "flex": null,
      "flex_flow": null,
      "grid_area": null,
      "grid_auto_columns": null,
      "grid_auto_flow": null,
      "grid_auto_rows": null,
      "grid_column": null,
      "grid_gap": null,
      "grid_row": null,
      "grid_template_areas": null,
      "grid_template_columns": null,
      "grid_template_rows": null,
      "height": null,
      "justify_content": null,
      "justify_items": null,
      "left": null,
      "margin": null,
      "max_height": null,
      "max_width": null,
      "min_height": null,
      "min_width": null,
      "object_fit": null,
      "object_position": null,
      "order": null,
      "overflow": null,
      "overflow_x": null,
      "overflow_y": null,
      "padding": null,
      "right": null,
      "top": null,
      "visibility": null,
      "width": null
     }
    },
    "70e098a5aff64678a51094c93bd50b77": {
     "model_module": "@jupyter-widgets/controls",
     "model_name": "HTMLModel",
     "state": {
      "_dom_classes": [],
      "_model_module": "@jupyter-widgets/controls",
      "_model_module_version": "1.5.0",
      "_model_name": "HTMLModel",
      "_view_count": null,
      "_view_module": "@jupyter-widgets/controls",
      "_view_module_version": "1.5.0",
      "_view_name": "HTMLView",
      "description": "",
      "description_tooltip": null,
      "layout": "IPY_MODEL_823eb2018df24c2999fc5bb7f2fae289",
      "placeholder": "​",
      "style": "IPY_MODEL_a7f419481c534e73bd21f34cf7eb6075",
      "value": " 872k/872k [00:14&lt;00:00, 58.6kB/s]"
     }
    },
    "743ea2e7b48041059459f0dbe218dd3b": {
     "model_module": "@jupyter-widgets/controls",
     "model_name": "ProgressStyleModel",
     "state": {
      "_model_module": "@jupyter-widgets/controls",
      "_model_module_version": "1.5.0",
      "_model_name": "ProgressStyleModel",
      "_view_count": null,
      "_view_module": "@jupyter-widgets/base",
      "_view_module_version": "1.2.0",
      "_view_name": "StyleView",
      "bar_color": null,
      "description_width": "initial"
     }
    },
    "7eda8fd7c90d4ed5932c65cd41204579": {
     "model_module": "@jupyter-widgets/base",
     "model_name": "LayoutModel",
     "state": {
      "_model_module": "@jupyter-widgets/base",
      "_model_module_version": "1.2.0",
      "_model_name": "LayoutModel",
      "_view_count": null,
      "_view_module": "@jupyter-widgets/base",
      "_view_module_version": "1.2.0",
      "_view_name": "LayoutView",
      "align_content": null,
      "align_items": null,
      "align_self": null,
      "border": null,
      "bottom": null,
      "display": null,
      "flex": null,
      "flex_flow": null,
      "grid_area": null,
      "grid_auto_columns": null,
      "grid_auto_flow": null,
      "grid_auto_rows": null,
      "grid_column": null,
      "grid_gap": null,
      "grid_row": null,
      "grid_template_areas": null,
      "grid_template_columns": null,
      "grid_template_rows": null,
      "height": null,
      "justify_content": null,
      "justify_items": null,
      "left": null,
      "margin": null,
      "max_height": null,
      "max_width": null,
      "min_height": null,
      "min_width": null,
      "object_fit": null,
      "object_position": null,
      "order": null,
      "overflow": null,
      "overflow_x": null,
      "overflow_y": null,
      "padding": null,
      "right": null,
      "top": null,
      "visibility": null,
      "width": null
     }
    },
    "823eb2018df24c2999fc5bb7f2fae289": {
     "model_module": "@jupyter-widgets/base",
     "model_name": "LayoutModel",
     "state": {
      "_model_module": "@jupyter-widgets/base",
      "_model_module_version": "1.2.0",
      "_model_name": "LayoutModel",
      "_view_count": null,
      "_view_module": "@jupyter-widgets/base",
      "_view_module_version": "1.2.0",
      "_view_name": "LayoutView",
      "align_content": null,
      "align_items": null,
      "align_self": null,
      "border": null,
      "bottom": null,
      "display": null,
      "flex": null,
      "flex_flow": null,
      "grid_area": null,
      "grid_auto_columns": null,
      "grid_auto_flow": null,
      "grid_auto_rows": null,
      "grid_column": null,
      "grid_gap": null,
      "grid_row": null,
      "grid_template_areas": null,
      "grid_template_columns": null,
      "grid_template_rows": null,
      "height": null,
      "justify_content": null,
      "justify_items": null,
      "left": null,
      "margin": null,
      "max_height": null,
      "max_width": null,
      "min_height": null,
      "min_width": null,
      "object_fit": null,
      "object_position": null,
      "order": null,
      "overflow": null,
      "overflow_x": null,
      "overflow_y": null,
      "padding": null,
      "right": null,
      "top": null,
      "visibility": null,
      "width": null
     }
    },
    "87efdd9e2562448fb4b72573e608e609": {
     "model_module": "@jupyter-widgets/controls",
     "model_name": "HBoxModel",
     "state": {
      "_dom_classes": [],
      "_model_module": "@jupyter-widgets/controls",
      "_model_module_version": "1.5.0",
      "_model_name": "HBoxModel",
      "_view_count": null,
      "_view_module": "@jupyter-widgets/controls",
      "_view_module_version": "1.5.0",
      "_view_name": "HBoxView",
      "box_style": "",
      "children": [
       "IPY_MODEL_3f3794497c0d44849f1740e38a1c180f",
       "IPY_MODEL_b9407c4731be495c9e59052129553a56"
      ],
      "layout": "IPY_MODEL_53455829a4d54f85a4401399f76dd59a"
     }
    },
    "87f86fbb2b654a6d9c8d6d34946b6736": {
     "model_module": "@jupyter-widgets/base",
     "model_name": "LayoutModel",
     "state": {
      "_model_module": "@jupyter-widgets/base",
      "_model_module_version": "1.2.0",
      "_model_name": "LayoutModel",
      "_view_count": null,
      "_view_module": "@jupyter-widgets/base",
      "_view_module_version": "1.2.0",
      "_view_name": "LayoutView",
      "align_content": null,
      "align_items": null,
      "align_self": null,
      "border": null,
      "bottom": null,
      "display": null,
      "flex": null,
      "flex_flow": null,
      "grid_area": null,
      "grid_auto_columns": null,
      "grid_auto_flow": null,
      "grid_auto_rows": null,
      "grid_column": null,
      "grid_gap": null,
      "grid_row": null,
      "grid_template_areas": null,
      "grid_template_columns": null,
      "grid_template_rows": null,
      "height": null,
      "justify_content": null,
      "justify_items": null,
      "left": null,
      "margin": null,
      "max_height": null,
      "max_width": null,
      "min_height": null,
      "min_width": null,
      "object_fit": null,
      "object_position": null,
      "order": null,
      "overflow": null,
      "overflow_x": null,
      "overflow_y": null,
      "padding": null,
      "right": null,
      "top": null,
      "visibility": null,
      "width": null
     }
    },
    "8b633c3ad04f4fc5b2b629ca5ae45179": {
     "model_module": "@jupyter-widgets/controls",
     "model_name": "FloatProgressModel",
     "state": {
      "_dom_classes": [],
      "_model_module": "@jupyter-widgets/controls",
      "_model_module_version": "1.5.0",
      "_model_name": "FloatProgressModel",
      "_view_count": null,
      "_view_module": "@jupyter-widgets/controls",
      "_view_module_version": "1.5.0",
      "_view_name": "ProgressView",
      "bar_style": "success",
      "description": "Downloading: 100%",
      "description_tooltip": null,
      "layout": "IPY_MODEL_b549afc88f664018b50633ea8c3a060a",
      "max": 1715180,
      "min": 0,
      "orientation": "horizontal",
      "style": "IPY_MODEL_743ea2e7b48041059459f0dbe218dd3b",
      "value": 1715180
     }
    },
    "9f740f2a593d489fa58183b2f8740c48": {
     "model_module": "@jupyter-widgets/controls",
     "model_name": "DescriptionStyleModel",
     "state": {
      "_model_module": "@jupyter-widgets/controls",
      "_model_module_version": "1.5.0",
      "_model_name": "DescriptionStyleModel",
      "_view_count": null,
      "_view_module": "@jupyter-widgets/base",
      "_view_module_version": "1.2.0",
      "_view_name": "StyleView",
      "description_width": ""
     }
    },
    "a7f419481c534e73bd21f34cf7eb6075": {
     "model_module": "@jupyter-widgets/controls",
     "model_name": "DescriptionStyleModel",
     "state": {
      "_model_module": "@jupyter-widgets/controls",
      "_model_module_version": "1.5.0",
      "_model_name": "DescriptionStyleModel",
      "_view_count": null,
      "_view_module": "@jupyter-widgets/base",
      "_view_module_version": "1.2.0",
      "_view_name": "StyleView",
      "description_width": ""
     }
    },
    "b549afc88f664018b50633ea8c3a060a": {
     "model_module": "@jupyter-widgets/base",
     "model_name": "LayoutModel",
     "state": {
      "_model_module": "@jupyter-widgets/base",
      "_model_module_version": "1.2.0",
      "_model_name": "LayoutModel",
      "_view_count": null,
      "_view_module": "@jupyter-widgets/base",
      "_view_module_version": "1.2.0",
      "_view_name": "LayoutView",
      "align_content": null,
      "align_items": null,
      "align_self": null,
      "border": null,
      "bottom": null,
      "display": null,
      "flex": null,
      "flex_flow": null,
      "grid_area": null,
      "grid_auto_columns": null,
      "grid_auto_flow": null,
      "grid_auto_rows": null,
      "grid_column": null,
      "grid_gap": null,
      "grid_row": null,
      "grid_template_areas": null,
      "grid_template_columns": null,
      "grid_template_rows": null,
      "height": null,
      "justify_content": null,
      "justify_items": null,
      "left": null,
      "margin": null,
      "max_height": null,
      "max_width": null,
      "min_height": null,
      "min_width": null,
      "object_fit": null,
      "object_position": null,
      "order": null,
      "overflow": null,
      "overflow_x": null,
      "overflow_y": null,
      "padding": null,
      "right": null,
      "top": null,
      "visibility": null,
      "width": null
     }
    },
    "b9407c4731be495c9e59052129553a56": {
     "model_module": "@jupyter-widgets/controls",
     "model_name": "HTMLModel",
     "state": {
      "_dom_classes": [],
      "_model_module": "@jupyter-widgets/controls",
      "_model_module_version": "1.5.0",
      "_model_name": "HTMLModel",
      "_view_count": null,
      "_view_module": "@jupyter-widgets/controls",
      "_view_module_version": "1.5.0",
      "_view_name": "HTMLView",
      "description": "",
      "description_tooltip": null,
      "layout": "IPY_MODEL_ebdfa55b96cc40bea122d129724c6f72",
      "placeholder": "​",
      "style": "IPY_MODEL_9f740f2a593d489fa58183b2f8740c48",
      "value": " 672M/672M [00:10&lt;00:00, 65.9MB/s]"
     }
    },
    "c0012543d3c4423f8ba1782d8e016450": {
     "model_module": "@jupyter-widgets/controls",
     "model_name": "HTMLModel",
     "state": {
      "_dom_classes": [],
      "_model_module": "@jupyter-widgets/controls",
      "_model_module_version": "1.5.0",
      "_model_name": "HTMLModel",
      "_view_count": null,
      "_view_module": "@jupyter-widgets/controls",
      "_view_module_version": "1.5.0",
      "_view_name": "HTMLView",
      "description": "",
      "description_tooltip": null,
      "layout": "IPY_MODEL_87f86fbb2b654a6d9c8d6d34946b6736",
      "placeholder": "​",
      "style": "IPY_MODEL_d4c6cd8bfd0f4cb7b8d3f9817b77e992",
      "value": " 1.72M/1.72M [00:14&lt;00:00, 116kB/s]"
     }
    },
    "c9b9dc604e4b479197fc340d60ead98b": {
     "model_module": "@jupyter-widgets/controls",
     "model_name": "FloatProgressModel",
     "state": {
      "_dom_classes": [],
      "_model_module": "@jupyter-widgets/controls",
      "_model_module_version": "1.5.0",
      "_model_name": "FloatProgressModel",
      "_view_count": null,
      "_view_module": "@jupyter-widgets/controls",
      "_view_module_version": "1.5.0",
      "_view_name": "ProgressView",
      "bar_style": "success",
      "description": "Downloading: 100%",
      "description_tooltip": null,
      "layout": "IPY_MODEL_7eda8fd7c90d4ed5932c65cd41204579",
      "max": 871891,
      "min": 0,
      "orientation": "horizontal",
      "style": "IPY_MODEL_e48ac1269d6a453bbb23f919bfb3d517",
      "value": 871891
     }
    },
    "d4c6cd8bfd0f4cb7b8d3f9817b77e992": {
     "model_module": "@jupyter-widgets/controls",
     "model_name": "DescriptionStyleModel",
     "state": {
      "_model_module": "@jupyter-widgets/controls",
      "_model_module_version": "1.5.0",
      "_model_name": "DescriptionStyleModel",
      "_view_count": null,
      "_view_module": "@jupyter-widgets/base",
      "_view_module_version": "1.2.0",
      "_view_name": "StyleView",
      "description_width": ""
     }
    },
    "e48ac1269d6a453bbb23f919bfb3d517": {
     "model_module": "@jupyter-widgets/controls",
     "model_name": "ProgressStyleModel",
     "state": {
      "_model_module": "@jupyter-widgets/controls",
      "_model_module_version": "1.5.0",
      "_model_name": "ProgressStyleModel",
      "_view_count": null,
      "_view_module": "@jupyter-widgets/base",
      "_view_module_version": "1.2.0",
      "_view_name": "StyleView",
      "bar_color": null,
      "description_width": "initial"
     }
    },
    "e76930e6bedb475486c52fc530b09262": {
     "model_module": "@jupyter-widgets/controls",
     "model_name": "HBoxModel",
     "state": {
      "_dom_classes": [],
      "_model_module": "@jupyter-widgets/controls",
      "_model_module_version": "1.5.0",
      "_model_name": "HBoxModel",
      "_view_count": null,
      "_view_module": "@jupyter-widgets/controls",
      "_view_module_version": "1.5.0",
      "_view_name": "HBoxView",
      "box_style": "",
      "children": [
       "IPY_MODEL_429d7e92b9064dc696f8077c8496df04",
       "IPY_MODEL_0bebd34af61b4d3b8d56d6c5108a52d9"
      ],
      "layout": "IPY_MODEL_0d4cbdedba0e4c248c35626dd047172b"
     }
    },
    "ebdfa55b96cc40bea122d129724c6f72": {
     "model_module": "@jupyter-widgets/base",
     "model_name": "LayoutModel",
     "state": {
      "_model_module": "@jupyter-widgets/base",
      "_model_module_version": "1.2.0",
      "_model_name": "LayoutModel",
      "_view_count": null,
      "_view_module": "@jupyter-widgets/base",
      "_view_module_version": "1.2.0",
      "_view_name": "LayoutView",
      "align_content": null,
      "align_items": null,
      "align_self": null,
      "border": null,
      "bottom": null,
      "display": null,
      "flex": null,
      "flex_flow": null,
      "grid_area": null,
      "grid_auto_columns": null,
      "grid_auto_flow": null,
      "grid_auto_rows": null,
      "grid_column": null,
      "grid_gap": null,
      "grid_row": null,
      "grid_template_areas": null,
      "grid_template_columns": null,
      "grid_template_rows": null,
      "height": null,
      "justify_content": null,
      "justify_items": null,
      "left": null,
      "margin": null,
      "max_height": null,
      "max_width": null,
      "min_height": null,
      "min_width": null,
      "object_fit": null,
      "object_position": null,
      "order": null,
      "overflow": null,
      "overflow_x": null,
      "overflow_y": null,
      "padding": null,
      "right": null,
      "top": null,
      "visibility": null,
      "width": null
     }
    },
    "ece58976ebe34597a72cb82233b64384": {
     "model_module": "@jupyter-widgets/controls",
     "model_name": "HBoxModel",
     "state": {
      "_dom_classes": [],
      "_model_module": "@jupyter-widgets/controls",
      "_model_module_version": "1.5.0",
      "_model_name": "HBoxModel",
      "_view_count": null,
      "_view_module": "@jupyter-widgets/controls",
      "_view_module_version": "1.5.0",
      "_view_name": "HBoxView",
      "box_style": "",
      "children": [
       "IPY_MODEL_8b633c3ad04f4fc5b2b629ca5ae45179",
       "IPY_MODEL_c0012543d3c4423f8ba1782d8e016450"
      ],
      "layout": "IPY_MODEL_efccbaa17874438098d3f1d23735af3c"
     }
    },
    "efccbaa17874438098d3f1d23735af3c": {
     "model_module": "@jupyter-widgets/base",
     "model_name": "LayoutModel",
     "state": {
      "_model_module": "@jupyter-widgets/base",
      "_model_module_version": "1.2.0",
      "_model_name": "LayoutModel",
      "_view_count": null,
      "_view_module": "@jupyter-widgets/base",
      "_view_module_version": "1.2.0",
      "_view_name": "LayoutView",
      "align_content": null,
      "align_items": null,
      "align_self": null,
      "border": null,
      "bottom": null,
      "display": null,
      "flex": null,
      "flex_flow": null,
      "grid_area": null,
      "grid_auto_columns": null,
      "grid_auto_flow": null,
      "grid_auto_rows": null,
      "grid_column": null,
      "grid_gap": null,
      "grid_row": null,
      "grid_template_areas": null,
      "grid_template_columns": null,
      "grid_template_rows": null,
      "height": null,
      "justify_content": null,
      "justify_items": null,
      "left": null,
      "margin": null,
      "max_height": null,
      "max_width": null,
      "min_height": null,
      "min_width": null,
      "object_fit": null,
      "object_position": null,
      "order": null,
      "overflow": null,
      "overflow_x": null,
      "overflow_y": null,
      "padding": null,
      "right": null,
      "top": null,
      "visibility": null,
      "width": null
     }
    },
    "f5fd1010ad694da280e9eb7b2b46a0da": {
     "model_module": "@jupyter-widgets/base",
     "model_name": "LayoutModel",
     "state": {
      "_model_module": "@jupyter-widgets/base",
      "_model_module_version": "1.2.0",
      "_model_name": "LayoutModel",
      "_view_count": null,
      "_view_module": "@jupyter-widgets/base",
      "_view_module_version": "1.2.0",
      "_view_name": "LayoutView",
      "align_content": null,
      "align_items": null,
      "align_self": null,
      "border": null,
      "bottom": null,
      "display": null,
      "flex": null,
      "flex_flow": null,
      "grid_area": null,
      "grid_auto_columns": null,
      "grid_auto_flow": null,
      "grid_auto_rows": null,
      "grid_column": null,
      "grid_gap": null,
      "grid_row": null,
      "grid_template_areas": null,
      "grid_template_columns": null,
      "grid_template_rows": null,
      "height": null,
      "justify_content": null,
      "justify_items": null,
      "left": null,
      "margin": null,
      "max_height": null,
      "max_width": null,
      "min_height": null,
      "min_width": null,
      "object_fit": null,
      "object_position": null,
      "order": null,
      "overflow": null,
      "overflow_x": null,
      "overflow_y": null,
      "padding": null,
      "right": null,
      "top": null,
      "visibility": null,
      "width": null
     }
    }
   }
  }
 },
 "nbformat": 4,
 "nbformat_minor": 1
}
